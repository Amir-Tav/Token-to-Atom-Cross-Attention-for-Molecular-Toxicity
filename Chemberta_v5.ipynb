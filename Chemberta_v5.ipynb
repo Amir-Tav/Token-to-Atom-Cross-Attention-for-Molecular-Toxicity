{
 "cells": [
  {
   "cell_type": "markdown",
   "id": "61af7328",
   "metadata": {},
   "source": [
    "# Model"
   ]
  }
 ],
 "metadata": {
  "kernelspec": {
   "display_name": "lord",
   "language": "python",
   "name": "python3"
  },
  "language_info": {
   "name": "python",
   "version": "3.11.9"
  }
 },
 "nbformat": 4,
 "nbformat_minor": 5
}
