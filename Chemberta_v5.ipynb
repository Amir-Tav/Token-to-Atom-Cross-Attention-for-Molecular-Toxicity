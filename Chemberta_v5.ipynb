{
 "cells": [
  {
   "cell_type": "markdown",
   "id": "61af7328",
   "metadata": {},
   "source": [
    "# ChemBERTa + Conformal Prediction (v5)\n",
    "**Objective:** Reliable, coverage-guaranteed multi-label toxicity predictions robust to scaffold shift, with efficient (small) prediction sets.\n"
   ]
  },
  {
   "cell_type": "markdown",
   "id": "3d1738c8",
   "metadata": {},
   "source": [
    "## 1: setup "
   ]
  },
  {
   "cell_type": "code",
   "execution_count": 8,
   "id": "6d0a6a4d",
   "metadata": {},
   "outputs": [
    {
     "name": "stdout",
     "output_type": "stream",
     "text": [
      "Present:\n",
      "  tox21_chemberta_v5\\data\\splits\\splits.json\n",
      "  tox21_chemberta_v5\\data\\y.npy\n",
      "  tox21_chemberta_v5\\data\\y_mask.npy\n",
      "  tox21_chemberta_v5\\data\\X_smiles.txt\n",
      "  tox21_chemberta_v5\\data\\label_names.txt\n",
      "  tox21_chemberta_v5\\data\\descriptors\\desc_selected.npy\n",
      "  tox21_chemberta_v5\\data\\descriptors\\desc_standardizer.pkl\n",
      "\n",
      "Missing (if any):\n",
      "\n",
      "Checkpoint candidates in model/:\n",
      "\n",
      "Done setup.\n"
     ]
    }
   ],
   "source": [
    "# --- Cell 1: Environment & paths (v5 setup) ---\n",
    "\n",
    "import os, json, random, numpy as np, torch\n",
    "from pathlib import Path\n",
    "\n",
    "# Repro\n",
    "SEED = 42\n",
    "random.seed(SEED); np.random.seed(SEED); torch.manual_seed(SEED)\n",
    "if torch.cuda.is_available():\n",
    "    torch.cuda.manual_seed_all(SEED)\n",
    "\n",
    "# Paths\n",
    "ROOT = Path(\"tox21_chemberta_v5\")\n",
    "DATA = ROOT / \"data\"\n",
    "DESC = DATA / \"descriptors\"\n",
    "SPLITS = DATA / \"splits\"\n",
    "MODEL = ROOT / \"model\"\n",
    "CKPTS = MODEL / \"checkpoints\"  # we’ll still read from MODEL/ if not here\n",
    "CPDIR = ROOT / \"cp\"\n",
    "CAL = CPDIR / \"calibrators\"\n",
    "RES = CPDIR / \"results\"\n",
    "PLOTS = ROOT / \"plots\"\n",
    "LOGS = ROOT / \"logs\"\n",
    "for d in [DATA, DESC, SPLITS, MODEL, CKPTS, CPDIR, CAL, RES, PLOTS, LOGS]:\n",
    "    d.mkdir(parents=True, exist_ok=True)\n",
    "\n",
    "# If your config.json lives directly in MODEL/, snapshot it for provenance\n",
    "cfg_src = MODEL / \"config.json\"\n",
    "cfg_dst = MODEL / \"config_v4_snapshot.json\"\n",
    "if cfg_src.exists() and not cfg_dst.exists():\n",
    "    cfg_dst.write_text(cfg_src.read_text())\n",
    "\n",
    "# Quick inventory so we know what’s present\n",
    "expected = [\n",
    "    SPLITS/\"splits.json\",\n",
    "    DATA/\"y.npy\",\n",
    "    DATA/\"y_mask.npy\",\n",
    "    DATA/\"X_smiles.txt\",\n",
    "    DATA/\"label_names.txt\",\n",
    "    DESC/\"desc_selected.npy\",\n",
    "    DESC/\"desc_standardizer.pkl\",\n",
    "]\n",
    "present = [str(p) for p in expected if p.exists()]\n",
    "missing = [str(p) for p in expected if not p.exists()]\n",
    "\n",
    "print(\"Present:\", *present, sep=\"\\n  \")\n",
    "print(\"\\nMissing (if any):\", *missing, sep=\"\\n  \")\n",
    "print(\"\\nCheckpoint candidates in model/:\")\n",
    "for name in [\"best_model_tuned.pt\", \"best_model.pt\", \"last_model.pt\"]:\n",
    "    p = MODEL / name\n",
    "    if p.exists(): print(\"  \", p.name)\n",
    "print(\"\\nDone setup.\")\n"
   ]
  },
  {
   "cell_type": "markdown",
   "id": "62389cba",
   "metadata": {},
   "source": [
    "## 2: Load data & splits; quick diagnostics"
   ]
  },
  {
   "cell_type": "code",
   "execution_count": 9,
   "id": "0246c503",
   "metadata": {},
   "outputs": [
    {
     "name": "stdout",
     "output_type": "stream",
     "text": [
      "N=7831, L=12, desc_dim=256\n",
      "Splits train/val/test = 6265/783/783\n",
      "Label prevalence (train):\n",
      "  NR-AR : 0.045\n",
      "  NR-AR-LBD: 0.039\n",
      "  NR-AhR: 0.120\n",
      "  NR-Aromatase: 0.050\n",
      "  NR-ER : 0.133\n",
      "  NR-ER-LBD: 0.054\n",
      "  NR-PPAR-gamma: 0.027\n",
      "  SR-ARE: 0.156\n",
      "  SR-ATAD5: 0.037\n",
      "  SR-HSE: 0.056\n",
      "  SR-MMP: 0.161\n",
      "  SR-p53: 0.057\n"
     ]
    }
   ],
   "source": [
    "# --- Cell 2: Load data & splits; quick diagnostics ---\n",
    "\n",
    "import json, numpy as np\n",
    "from pathlib import Path\n",
    "\n",
    "# Use paths from Cell 1: DATA, DESC, SPLITS\n",
    "y = np.load(DATA/\"y.npy\")                 # (N, L)\n",
    "y_mask = np.load(DATA/\"y_mask.npy\")       # (N, L)  1=label present\n",
    "smiles = (DATA/\"X_smiles.txt\").read_text(encoding=\"utf-8\").splitlines()\n",
    "label_names = (DATA/\"label_names.txt\").read_text(encoding=\"utf-8\").splitlines()\n",
    "L = len(label_names)\n",
    "\n",
    "splits = json.loads((SPLITS/\"splits.json\").read_text())\n",
    "train_idx = np.array(splits[\"train\"], dtype=int)\n",
    "val_idx   = np.array(splits[\"val\"], dtype=int)\n",
    "test_idx  = np.array(splits[\"test\"], dtype=int)\n",
    "\n",
    "X_desc = np.load(DESC/\"desc_selected.npy\")  # (N, D_desc)\n",
    "\n",
    "print(f\"N={len(smiles)}, L={L}, desc_dim={X_desc.shape[1]}\")\n",
    "print(f\"Splits train/val/test = {len(train_idx)}/{len(val_idx)}/{len(test_idx)}\")\n",
    "print(\"Label prevalence (train):\")\n",
    "prev = (y[train_idx]==1).sum(axis=0) / np.maximum((y_mask[train_idx]==1).sum(axis=0), 1)\n",
    "for name, p in zip(label_names, prev):\n",
    "    print(f\"  {name:6s}: {p:.3f}\")\n"
   ]
  },
  {
   "cell_type": "markdown",
   "id": "c1b326c9",
   "metadata": {},
   "source": [
    "## 3: Model def & load tuned checkpoint (inference mode)"
   ]
  },
  {
   "cell_type": "code",
   "execution_count": 12,
   "id": "f0873d23",
   "metadata": {},
   "outputs": [
    {
     "name": "stderr",
     "output_type": "stream",
     "text": [
      "Some weights of RobertaModel were not initialized from the model checkpoint at DeepChem/ChemBERTa-100M-MLM and are newly initialized: ['roberta.pooler.dense.bias', 'roberta.pooler.dense.weight']\n",
      "You should probably TRAIN this model on a down-stream task to be able to use it for predictions and inference.\n"
     ]
    },
    {
     "name": "stdout",
     "output_type": "stream",
     "text": [
      "Loaded checkpoint: best_model_tuned.pt\n",
      "Pooling='mean', fusion_hidden=512, desc_dim_in=256, out_dim=12\n",
      "Device: cuda\n",
      "Missing keys: []\n",
      "Unexpected keys: []\n"
     ]
    }
   ],
   "source": [
    "# --- Cell 3 (patched): Model def + checkpoint key translation ---\n",
    "\n",
    "import torch, torch.nn as nn\n",
    "from transformers import AutoConfig, AutoTokenizer, AutoModel\n",
    "import json\n",
    "from pathlib import Path\n",
    "\n",
    "# Load config snapshot if present\n",
    "cfg_v4_path = MODEL / \"config_v4_snapshot.json\"\n",
    "if cfg_v4_path.exists():\n",
    "    CONFIG = json.loads(cfg_v4_path.read_text())\n",
    "else:\n",
    "    CONFIG = {\n",
    "        \"base_model_name\": \"DeepChem/ChemBERTa-100M-MLM\",\n",
    "        \"max_length\": 256,\n",
    "        \"pooling\": \"mean\",\n",
    "        \"desc_dim_in\": int(X_desc.shape[1]),\n",
    "        \"fusion_hidden\": 512,\n",
    "        \"dropout\": 0.15,\n",
    "    }\n",
    "\n",
    "base_model = CONFIG.get(\"base_model_name\", \"DeepChem/ChemBERTa-100M-MLM\")\n",
    "pooling = CONFIG.get(\"pooling\", \"mean\")\n",
    "dropout = float(CONFIG.get(\"dropout\", 0.15))\n",
    "fusion_hidden = int(CONFIG.get(\"fusion_hidden\", 512))\n",
    "desc_dim_in = int(CONFIG.get(\"desc_dim_in\", X_desc.shape[1]))\n",
    "L = len(label_names)\n",
    "\n",
    "# Tokenizer\n",
    "local_tok_dir = MODEL / \"tokenizer\"\n",
    "tok = AutoTokenizer.from_pretrained(str(local_tok_dir) if local_tok_dir.exists() else base_model)\n",
    "_ = AutoConfig.from_pretrained(base_model)\n",
    "\n",
    "class FusionHead(nn.Module):\n",
    "    def __init__(self, h_dim, d_dim, out_dim, dropout=0.15, hidden=512):\n",
    "        super().__init__()\n",
    "        self.desc = nn.Sequential(\n",
    "            nn.Linear(d_dim, 256),\n",
    "            nn.ReLU(),\n",
    "            nn.Dropout(dropout),\n",
    "        )\n",
    "        self.fuse = nn.Sequential(\n",
    "            nn.Linear(h_dim + 256, hidden),\n",
    "            nn.ReLU(),\n",
    "            nn.Dropout(dropout),\n",
    "            nn.Linear(hidden, out_dim),\n",
    "        )\n",
    "    def forward(self, h_tok, x_desc):\n",
    "        d = self.desc(x_desc)\n",
    "        z = torch.cat([h_tok, d], dim=-1)\n",
    "        return self.fuse(z)\n",
    "\n",
    "class ChemBERTaFusion(nn.Module):\n",
    "    def __init__(self, base_model_name, pooling=\"mean\", out_dim=L, dropout=0.15, fusion_hidden=512):\n",
    "        super().__init__()\n",
    "        self.enc = AutoModel.from_pretrained(base_model_name)\n",
    "        self.pooling = pooling\n",
    "        self.dropout = nn.Dropout(dropout)\n",
    "        self.head = FusionHead(self.enc.config.hidden_size, desc_dim_in, out_dim, dropout=dropout, hidden=fusion_hidden)\n",
    "\n",
    "    def forward(self, input_ids, attention_mask, x_desc):\n",
    "        out = self.enc(input_ids=input_ids, attention_mask=attention_mask)\n",
    "        if self.pooling == \"mean\":\n",
    "            mask = attention_mask.unsqueeze(-1)\n",
    "            h = (out.last_hidden_state * mask).sum(1) / mask.sum(1).clamp(min=1e-6)\n",
    "        else:\n",
    "            h = out.last_hidden_state[:, 0, :]\n",
    "        h = self.dropout(h)\n",
    "        logits = self.head(h, x_desc)\n",
    "        return logits\n",
    "\n",
    "device = torch.device(\"cuda\" if torch.cuda.is_available() else \"cpu\")\n",
    "model = ChemBERTaFusion(\n",
    "    base_model_name=base_model,\n",
    "    pooling=pooling,\n",
    "    out_dim=L,\n",
    "    dropout=dropout,\n",
    "    fusion_hidden=fusion_hidden,\n",
    ").to(device)\n",
    "\n",
    "# ---- Checkpoint load with key translation ----\n",
    "ckpt_candidates = [MODEL/\"best_model_tuned.pt\", MODEL/\"best_model.pt\", MODEL/\"last_model.pt\"]\n",
    "ckpt_path = next((p for p in ckpt_candidates if p.exists()), None)\n",
    "assert ckpt_path is not None, \"No checkpoint file found in tox21_chemberta_v5/model/.\"\n",
    "\n",
    "state = torch.load(ckpt_path, map_location=device)\n",
    "raw_sd = state.get(\"model_state\", state.get(\"state_dict\", state))\n",
    "\n",
    "def translate_keys(sd: dict) -> dict:\n",
    "    out = {}\n",
    "    for k, v in sd.items():\n",
    "        # strip DataParallel prefix\n",
    "        if k.startswith(\"module.\"):\n",
    "            k = k[len(\"module.\"):]\n",
    "        # skip training-only extras\n",
    "        if k.startswith(\"focal.\") or k == \"pos_weight\":\n",
    "            continue\n",
    "        # encoder -> enc\n",
    "        if k.startswith(\"encoder.\"):\n",
    "            k = \"enc.\" + k[len(\"encoder.\"):]\n",
    "        # desc_mlp -> head.desc\n",
    "        if k.startswith(\"desc_mlp.\"):\n",
    "            k = \"head.desc.\" + k[len(\"desc_mlp.\"):]\n",
    "        # fusion -> head.fuse\n",
    "        if k.startswith(\"fusion.\"):\n",
    "            k = \"head.fuse.\" + k[len(\"fusion.\"):]\n",
    "        # optional: pooler mismatch is fine; keep if present\n",
    "        out[k] = v\n",
    "    return out\n",
    "\n",
    "state_dict = translate_keys(raw_sd)\n",
    "missing, unexpected = model.load_state_dict(state_dict, strict=False)\n",
    "model.eval()\n",
    "\n",
    "print(f\"Loaded checkpoint: {ckpt_path.name}\")\n",
    "print(f\"Pooling='{pooling}', fusion_hidden={fusion_hidden}, desc_dim_in={desc_dim_in}, out_dim={L}\")\n",
    "print(\"Device:\", device)\n",
    "print(\"Missing keys:\", missing)\n",
    "print(\"Unexpected keys:\", unexpected)\n"
   ]
  },
  {
   "cell_type": "markdown",
   "id": "9589919d",
   "metadata": {},
   "source": [
    "## 4: Dataloaders "
   ]
  },
  {
   "cell_type": "code",
   "execution_count": 13,
   "id": "9cc0a577",
   "metadata": {},
   "outputs": [
    {
     "name": "stdout",
     "output_type": "stream",
     "text": [
      "Val batches: 13\n",
      "Test batches: 13\n"
     ]
    }
   ],
   "source": [
    "from torch.utils.data import Dataset, DataLoader\n",
    "import torch\n",
    "import numpy as np\n",
    "\n",
    "class ToxDataset(Dataset):\n",
    "    def __init__(self, idx):\n",
    "        self.idx = np.asarray(idx, dtype=int)\n",
    "    def __len__(self): \n",
    "        return len(self.idx)\n",
    "    def __getitem__(self, i):\n",
    "        j = self.idx[i]\n",
    "        return {\n",
    "            \"smiles\": smiles[j],\n",
    "            \"desc\": X_desc[j].astype(np.float32),\n",
    "            \"y\": y[j].astype(np.float32),\n",
    "            \"mask\": y_mask[j].astype(np.float32),\n",
    "        }\n",
    "\n",
    "def collate(batch):\n",
    "    toks = tok(\n",
    "        [b[\"smiles\"] for b in batch],\n",
    "        padding=True,\n",
    "        truncation=True,\n",
    "        max_length=int(CONFIG.get(\"max_length\", 256)),\n",
    "        return_tensors=\"pt\",\n",
    "    )\n",
    "    desc = torch.tensor(np.stack([b[\"desc\"] for b in batch]), dtype=torch.float32)\n",
    "    yb   = torch.tensor(np.stack([b[\"y\"]    for b in batch]), dtype=torch.float32)\n",
    "    mb   = torch.tensor(np.stack([b[\"mask\"] for b in batch]), dtype=torch.float32)\n",
    "    return {**toks, \"desc\": desc, \"y\": yb, \"mask\": mb}\n",
    "\n",
    "def make_loader(idx, bs=64, shuffle=False):\n",
    "    return DataLoader(ToxDataset(idx), batch_size=bs, shuffle=shuffle, num_workers=0, collate_fn=collate)\n",
    "\n",
    "val_loader  = make_loader(val_idx, bs=64, shuffle=False)\n",
    "test_loader = make_loader(test_idx, bs=64, shuffle=False)\n",
    "\n",
    "print(\"Val batches:\", len(val_loader))\n",
    "print(\"Test batches:\", len(test_loader))\n"
   ]
  },
  {
   "cell_type": "markdown",
   "id": "d054fb86",
   "metadata": {},
   "source": [
    "## 5: Baseline logits & probabilities"
   ]
  },
  {
   "cell_type": "code",
   "execution_count": 14,
   "id": "59f50b2c",
   "metadata": {},
   "outputs": [
    {
     "data": {
      "application/vnd.jupyter.widget-view+json": {
       "model_id": "9e4cb7a7f860421ba94edff1badc862b",
       "version_major": 2,
       "version_minor": 0
      },
      "text/plain": [
       "Infer:   0%|          | 0/13 [00:00<?, ?it/s]"
      ]
     },
     "metadata": {},
     "output_type": "display_data"
    },
    {
     "data": {
      "application/vnd.jupyter.widget-view+json": {
       "model_id": "32eb3012480e4cc796d90d40dd4badbc",
       "version_major": 2,
       "version_minor": 0
      },
      "text/plain": [
       "Infer:   0%|          | 0/13 [00:00<?, ?it/s]"
      ]
     },
     "metadata": {},
     "output_type": "display_data"
    },
    {
     "name": "stdout",
     "output_type": "stream",
     "text": [
      "Saved raw probs/masks to: tox21_chemberta_v5\\cp\\calibrators\n",
      "val_prob shape: (783, 12) | test_prob shape: (783, 12)\n"
     ]
    }
   ],
   "source": [
    "import numpy as np\n",
    "import torch\n",
    "from tqdm.auto import tqdm\n",
    "\n",
    "@torch.no_grad()\n",
    "def collect_logits(dloader, model, device):\n",
    "    logits_list, mask_list, y_list = [], [], []\n",
    "    model.eval()\n",
    "    for b in tqdm(dloader, desc=\"Infer\"):\n",
    "        ids = b[\"input_ids\"].to(device)\n",
    "        att = b[\"attention_mask\"].to(device)\n",
    "        dsc = b[\"desc\"].to(device)\n",
    "        out = model(ids, att, dsc)\n",
    "        logits_list.append(out.cpu())\n",
    "        mask_list.append(b[\"mask\"])\n",
    "        y_list.append(b[\"y\"])\n",
    "    logits = torch.cat(logits_list).numpy()\n",
    "    masks = torch.cat(mask_list).numpy()\n",
    "    ys    = torch.cat(y_list).numpy()\n",
    "    return logits, ys, masks\n",
    "\n",
    "val_logits, val_y, val_mask   = collect_logits(val_loader, model, device)\n",
    "test_logits, test_y, test_mask = collect_logits(test_loader, model, device)\n",
    "\n",
    "# Sigmoid to probs\n",
    "val_prob  = 1.0 / (1.0 + np.exp(-val_logits))\n",
    "test_prob = 1.0 / (1.0 + np.exp(-test_logits))\n",
    "\n",
    "# Save to cp/calibrators for traceability\n",
    "np.save(CAL/\"val_prob.npy\", val_prob)\n",
    "np.save(CAL/\"val_y.npy\", val_y)\n",
    "np.save(CAL/\"val_mask.npy\", val_mask)\n",
    "\n",
    "np.save(CAL/\"test_prob.npy\", test_prob)\n",
    "np.save(CAL/\"test_y.npy\", test_y)\n",
    "np.save(CAL/\"test_mask.npy\", test_mask)\n",
    "\n",
    "print(\"Saved raw probs/masks to:\", CAL)\n",
    "print(\"val_prob shape:\", val_prob.shape, \"| test_prob shape:\", test_prob.shape)\n"
   ]
  },
  {
   "cell_type": "markdown",
   "id": "389ad9cf",
   "metadata": {},
   "source": [
    "### sanity check "
   ]
  },
  {
   "cell_type": "code",
   "execution_count": 16,
   "id": "f7802396",
   "metadata": {},
   "outputs": [
    {
     "name": "stdout",
     "output_type": "stream",
     "text": [
      "val_prob.npy shape=(783, 12) dtype=float32 min=0.000 max=0.999\n",
      "val_y.npy    shape=(783, 12) dtype=float32 min=-1.000 max=1.000\n",
      "val_mask.npy shape=(783, 12) dtype=float32 min=0.000 max=1.000\n",
      "test_prob.npy shape=(783, 12) dtype=float32 min=0.000 max=1.000\n",
      "test_y.npy   shape=(783, 12) dtype=float32 min=-1.000 max=1.000\n",
      "test_mask.npy shape=(783, 12) dtype=float32 min=0.000 max=1.000\n"
     ]
    }
   ],
   "source": [
    "import numpy as np\n",
    "\n",
    "def check_array(path, expected_shape=None, dtype=None):\n",
    "    arr = np.load(path)\n",
    "    print(f\"{path.name:12s} shape={arr.shape} dtype={arr.dtype} min={arr.min():.3f} max={arr.max():.3f}\")\n",
    "    if expected_shape and arr.shape != expected_shape:\n",
    "        print(\"  ⚠️ Unexpected shape, expected\", expected_shape)\n",
    "    if dtype and arr.dtype != dtype:\n",
    "        print(\"  ⚠️ Unexpected dtype, expected\", dtype)\n",
    "    return arr\n",
    "\n",
    "# Expected shapes: (783, 12) for prob/y/mask\n",
    "expected_shape = (783, 12)\n",
    "\n",
    "for name in [\"val_prob.npy\", \"val_y.npy\", \"val_mask.npy\",\n",
    "             \"test_prob.npy\", \"test_y.npy\", \"test_mask.npy\"]:\n",
    "    arr = check_array(CAL/name, expected_shape=expected_shape)\n"
   ]
  },
  {
   "cell_type": "markdown",
   "id": "74380a0d",
   "metadata": {},
   "source": [
    "## 6: temperature scaling"
   ]
  },
  {
   "cell_type": "code",
   "execution_count": 17,
   "id": "43356bb7",
   "metadata": {},
   "outputs": [
    {
     "name": "stdout",
     "output_type": "stream",
     "text": [
      "Saved per-label temperatures to: tox21_chemberta_v5\\cp\\calibrators\\temp_scale_per_label.npy\n",
      "First 5 Ts: [ 0.6680196   0.6909755   0.91748875  0.8158956  14.949133  ]\n"
     ]
    }
   ],
   "source": [
    "import torch\n",
    "import torch.nn as nn\n",
    "import torch.optim as optim\n",
    "\n",
    "def fit_temperature(val_prob, val_y, val_mask, max_iter=100):\n",
    "    \"\"\"\n",
    "    Fit per-label temperature scaling using BCE loss on masked entries.\n",
    "    Returns a vector of per-label temperatures.\n",
    "    \"\"\"\n",
    "    L = val_prob.shape[1]\n",
    "    T = torch.nn.Parameter(torch.ones(L))  # one T per label\n",
    "\n",
    "    # Convert probs to logits\n",
    "    eps = 1e-6\n",
    "    logits = torch.tensor(\n",
    "        np.log(np.clip(val_prob, eps, 1 - eps)) - np.log(1 - np.clip(val_prob, eps, 1 - eps)),\n",
    "        dtype=torch.float32,\n",
    "    )\n",
    "    y_t = torch.tensor(val_y, dtype=torch.float32)\n",
    "    m_t = torch.tensor(val_mask, dtype=torch.float32)\n",
    "\n",
    "    # BCE with logits (sum over all valid entries)\n",
    "    bce = nn.BCEWithLogitsLoss(reduction=\"sum\")\n",
    "\n",
    "    opt = optim.LBFGS([T], lr=0.1, max_iter=max_iter)\n",
    "\n",
    "    def closure():\n",
    "        opt.zero_grad()\n",
    "        scaled = logits / T  # broadcast over labels\n",
    "        loss = bce(scaled[m_t == 1], y_t[m_t == 1])\n",
    "        loss.backward()\n",
    "        return loss\n",
    "\n",
    "    opt.step(closure)\n",
    "    return T.detach().numpy()\n",
    "\n",
    "Ts = fit_temperature(val_prob, val_y, val_mask)\n",
    "np.save(CAL/\"temp_scale_per_label.npy\", Ts)\n",
    "\n",
    "print(\"Saved per-label temperatures to:\", CAL/\"temp_scale_per_label.npy\")\n",
    "print(\"First 5 Ts:\", Ts[:5])\n"
   ]
  },
  {
   "cell_type": "markdown",
   "id": "f4b03463",
   "metadata": {},
   "source": [
    "### sanity"
   ]
  },
  {
   "cell_type": "code",
   "execution_count": null,
   "id": "928277b7",
   "metadata": {},
   "outputs": [
    {
     "name": "stdout",
     "output_type": "stream",
     "text": [
      "Avg masked NLL  before: 0.4139\n",
      "Avg masked NLL  after : 0.3974\n",
      "        label  nll_before  nll_after         T\n",
      "        NR-AR    0.312041   0.291596  0.668020\n",
      "    NR-AR-LBD    0.283294   0.266655  0.690975\n",
      "       NR-AhR    0.371277   0.370339  0.917489\n",
      " NR-Aromatase    0.326856   0.321670  0.815896\n",
      "        NR-ER    0.749072   0.692952 14.949133\n",
      "    NR-ER-LBD    0.367551   0.353350  0.711465\n",
      "NR-PPAR-gamma    0.279554   0.277667  0.886251\n",
      "       SR-ARE    0.540013   0.529201  0.699416\n",
      "     SR-ATAD5    0.249975   0.247692  0.870279\n",
      "       SR-HSE    0.455374   0.454771  1.071219\n",
      "       SR-MMP    0.434533   0.432690  0.887319\n",
      "       SR-p53    0.655990   0.592387  2.090657\n",
      "\n",
      "⚠️ Labels with large T (>5):\n",
      "label  nll_before  nll_after         T\n",
      "NR-ER    0.749072   0.692952 14.949133\n"
     ]
    }
   ],
   "source": [
    "import numpy as np\n",
    "import torch\n",
    "import torch.nn as nn\n",
    "\n",
    "def logit(p, eps=1e-6):\n",
    "    p = np.clip(p, eps, 1-eps)\n",
    "    return np.log(p) - np.log(1-p)\n",
    "\n",
    "val_logits_raw = logit(val_prob)\n",
    "Ts = np.load(CAL/\"temp_scale_per_label.npy\")\n",
    "\n",
    "# masked BCE on VAL (per label) before vs after scaling\n",
    "bce = nn.BCEWithLogitsLoss(reduction=\"sum\")\n",
    "y_t = torch.tensor(val_y, dtype=torch.float32)\n",
    "m_t = torch.tensor(val_mask, dtype=torch.float32)\n",
    "\n",
    "def masked_bce(logits_np):\n",
    "    logits = torch.tensor(logits_np, dtype=torch.float32)\n",
    "    loss = bce(logits[m_t==1], y_t[m_t==1]).item()\n",
    "    return loss / (m_t==1).sum().item()  # average per labeled entry\n",
    "\n",
    "nll_before = masked_bce(val_logits_raw)\n",
    "nll_after  = masked_bce(val_logits_raw / Ts[None,:])\n",
    "\n",
    "print(f\"Avg masked NLL  before: {nll_before:.4f}\")\n",
    "print(f\"Avg masked NLL  after : {nll_after:.4f}\")\n",
    "\n",
    "# Per-label check\n",
    "per_label = []\n",
    "for l in range(val_prob.shape[1]):\n",
    "    m = (val_mask[:,l]==1)\n",
    "    if m.sum()==0:\n",
    "        per_label.append((label_names[l], float('nan'), float('nan'), Ts[l]))\n",
    "        continue\n",
    "    logits_l = torch.tensor(val_logits_raw[m,l], dtype=torch.float32)\n",
    "    y_l = torch.tensor(val_y[m,l], dtype=torch.float32)\n",
    "    loss_before = bce(logits_l, y_l).item()/m.sum()\n",
    "    loss_after  = bce(logits_l / Ts[l], y_l).item()/m.sum()\n",
    "    per_label.append((label_names[l], loss_before, loss_after, Ts[l]))\n",
    "\n",
    "import pandas as pd\n",
    "df_ts = pd.DataFrame(per_label, columns=[\"label\",\"nll_before\",\"nll_after\",\"T\"])\n",
    "print(df_ts.to_string(index=False))\n",
    "\n",
    "# Flag extreme temperatures\n",
    "extreme = df_ts[df_ts[\"T\"]>5]\n",
    "if len(extreme):\n",
    "    print(\"\\n⚠️ Labels with large T (>5):\")\n",
    "    print(extreme.to_string(index=False))\n"
   ]
  },
  {
   "cell_type": "markdown",
   "id": "ba9e19a5",
   "metadata": {},
   "source": [
    "## 7: Conformal Prediction (per-label, positive coverage control)"
   ]
  },
  {
   "cell_type": "code",
   "execution_count": 19,
   "id": "c14977b0",
   "metadata": {},
   "outputs": [
    {
     "name": "stdout",
     "output_type": "stream",
     "text": [
      "Saved CP quantiles to: tox21_chemberta_v5\\cp\\calibrators\\q_pos_alpha0.10.npy\n",
      "First 6 q_pos: [0.97305065 0.97998405 0.9038028  0.9712379  0.6907747  0.9587423 ]\n"
     ]
    }
   ],
   "source": [
    "import numpy as np\n",
    "\n",
    "def cp_calibrate_positive(val_p, val_y, val_m, alpha=0.10):\n",
    "    \"\"\"\n",
    "    For each label ℓ, compute nonconformity scores s = 1 - p_hat for VALIDATION positives,\n",
    "    then take the finite-sample corrected (1 - alpha) quantile.\n",
    "    \"\"\"\n",
    "    L = val_p.shape[1]\n",
    "    q = np.zeros(L, dtype=np.float32)\n",
    "    for l in range(L):\n",
    "        mask_pos = (val_m[:, l] == 1) & (val_y[:, l] == 1)\n",
    "        scores = 1.0 - val_p[mask_pos, l]\n",
    "        if scores.size == 0:\n",
    "            q[l] = 1.0  # no positives → ultra-conservative\n",
    "            continue\n",
    "        # Finite-sample correction\n",
    "        k = int(np.ceil((scores.size + 1) * (1 - alpha))) - 1\n",
    "        k = min(max(k, 0), scores.size - 1)\n",
    "        q[l] = np.partition(scores, k)[k]\n",
    "    return q\n",
    "\n",
    "alpha = 0.10  # target error\n",
    "q_pos = cp_calibrate_positive(val_prob, val_y, val_mask, alpha=alpha)\n",
    "\n",
    "np.save(CAL / f\"q_pos_alpha{alpha:.2f}.npy\", q_pos)\n",
    "print(f\"Saved CP quantiles to: {CAL / f'q_pos_alpha{alpha:.2f}.npy'}\")\n",
    "print(\"First 6 q_pos:\", q_pos[:6])\n"
   ]
  },
  {
   "cell_type": "markdown",
   "id": "98cac7ee",
   "metadata": {},
   "source": [
    "### sanity "
   ]
  },
  {
   "cell_type": "code",
   "execution_count": 20,
   "id": "1f62ca7a",
   "metadata": {},
   "outputs": [
    {
     "name": "stdout",
     "output_type": "stream",
     "text": [
      "        label  val_pos_count    q_pos  p_threshold (1 - q)\n",
      "       SR-MMP             82 0.639006             0.360994\n",
      "        NR-ER             65 0.690775             0.309225\n",
      "       SR-ARE            106 0.753681             0.246319\n",
      "       SR-p53             52 0.881985             0.118015\n",
      "       NR-AhR             68 0.903803             0.096197\n",
      "    NR-ER-LBD             24 0.958742             0.041258\n",
      " NR-Aromatase             36 0.971238             0.028762\n",
      "        NR-AR             22 0.973051             0.026949\n",
      "    NR-AR-LBD             14 0.979984             0.020016\n",
      "NR-PPAR-gamma             22 0.987076             0.012924\n",
      "     SR-ATAD5             25 0.988351             0.011649\n",
      "       SR-HSE             33 0.989713             0.010287\n",
      "\n",
      "Checks:\n",
      " - All q in [0,1]: True\n",
      " - All thresholds in [0,1]: True\n",
      "\n",
      "⚠️ Labels with <15 VAL positives (quantiles may be coarse):\n",
      "    label  val_pos_count  p_threshold (1 - q)\n",
      "NR-AR-LBD             14             0.020016\n",
      "\n",
      "⚠️ Labels with very low inclusion thresholds (<0.10):\n",
      "        label  val_pos_count  p_threshold (1 - q)\n",
      "       NR-AhR             68             0.096197\n",
      "    NR-ER-LBD             24             0.041258\n",
      " NR-Aromatase             36             0.028762\n",
      "        NR-AR             22             0.026949\n",
      "    NR-AR-LBD             14             0.020016\n",
      "NR-PPAR-gamma             22             0.012924\n",
      "     SR-ATAD5             25             0.011649\n",
      "       SR-HSE             33             0.010287\n"
     ]
    }
   ],
   "source": [
    "import numpy as np\n",
    "import pandas as pd\n",
    "\n",
    "q_pos = np.load(CAL/\"q_pos_alpha0.10.npy\")\n",
    "assert q_pos.shape[0] == len(label_names)\n",
    "\n",
    "# Count how many VAL positives per label contributed to the quantile\n",
    "val_pos_counts = ((val_mask == 1) & (val_y == 1)).sum(axis=0)\n",
    "\n",
    "# Derived inclusion thresholds: p_hat >= 1 - q\n",
    "thr_inclusion = 1.0 - q_pos\n",
    "\n",
    "df_q = pd.DataFrame({\n",
    "    \"label\": label_names,\n",
    "    \"val_pos_count\": val_pos_counts,\n",
    "    \"q_pos\": q_pos,\n",
    "    \"p_threshold (1 - q)\": thr_inclusion\n",
    "}).sort_values(\"p_threshold (1 - q)\", ascending=False)\n",
    "\n",
    "print(df_q.to_string(index=False))\n",
    "\n",
    "# Basic checks\n",
    "print(\"\\nChecks:\")\n",
    "print(\" - All q in [0,1]:\", np.all((q_pos >= 0) & (q_pos <= 1)))\n",
    "print(\" - All thresholds in [0,1]:\", np.all((thr_inclusion >= 0) & (thr_inclusion <= 1)))\n",
    "\n",
    "# Heuristics to flag risky calibration cases\n",
    "few_pos = df_q[df_q[\"val_pos_count\"] < 15]\n",
    "if len(few_pos):\n",
    "    print(\"\\n⚠️ Labels with <15 VAL positives (quantiles may be coarse):\")\n",
    "    print(few_pos[[\"label\",\"val_pos_count\",\"p_threshold (1 - q)\"]].to_string(index=False))\n",
    "\n",
    "hi_thr = df_q[df_q[\"p_threshold (1 - q)\"] > 0.9]\n",
    "if len(hi_thr):\n",
    "    print(\"\\n⚠️ Labels with very high inclusion thresholds (>0.90):\")\n",
    "    print(hi_thr[[\"label\",\"val_pos_count\",\"p_threshold (1 - q)\"]].to_string(index=False))\n",
    "\n",
    "lo_thr = df_q[df_q[\"p_threshold (1 - q)\"] < 0.1]\n",
    "if len(lo_thr):\n",
    "    print(\"\\n⚠️ Labels with very low inclusion thresholds (<0.10):\")\n",
    "    print(lo_thr[[\"label\",\"val_pos_count\",\"p_threshold (1 - q)\"]].to_string(index=False))\n"
   ]
  },
  {
   "cell_type": "markdown",
   "id": "f4bf552e",
   "metadata": {},
   "source": [
    "## 8: Apply CP on TEST + compute coverage & efficiency"
   ]
  },
  {
   "cell_type": "code",
   "execution_count": 21,
   "id": "85805857",
   "metadata": {},
   "outputs": [
    {
     "name": "stdout",
     "output_type": "stream",
     "text": [
      "CP summary: {'alpha': 0.1, 'overall_coverage': 0.9528985507246377, 'avg_set_size': 9.66794380587484}\n",
      "Saved per-label coverage to: tox21_chemberta_v5\\cp\\results\\coverage_per_label_test.csv\n",
      "Saved pred_set_test.npy to: tox21_chemberta_v5\\cp\\results\\pred_set_test.npy\n"
     ]
    }
   ],
   "source": [
    "import numpy as np\n",
    "import pandas as pd\n",
    "\n",
    "def apply_cp_positive(p, q_pos):\n",
    "    # Include label if p_hat >= 1 - q_l\n",
    "    thr = 1.0 - q_pos[None, :]\n",
    "    return (p >= thr).astype(np.int32)\n",
    "\n",
    "def coverage_and_efficiency(pred_set, y_true, mask):\n",
    "    # Coverage among positives (mask==1 & y==1): fraction included in set\n",
    "    pos = (mask == 1) & (y_true == 1)\n",
    "    covered = (pred_set == 1) & pos\n",
    "    overall_cov = covered.sum() / max(pos.sum(), 1)\n",
    "\n",
    "    # Efficiency: average set size per sample\n",
    "    avg_set_size = pred_set.sum(axis=1).mean()\n",
    "\n",
    "    # Per-label coverage\n",
    "    L = y_true.shape[1]\n",
    "    cov_per_label = []\n",
    "    for l in range(L):\n",
    "        pos_l = pos[:, l]\n",
    "        cov_l = covered[:, l].sum() / max(pos_l.sum(), 1)\n",
    "        cov_per_label.append(float(cov_l))\n",
    "    return float(overall_cov), float(avg_set_size), cov_per_label\n",
    "\n",
    "# Load what we need\n",
    "q_pos = np.load(CAL/\"q_pos_alpha0.10.npy\")\n",
    "pred_set = apply_cp_positive(test_prob, q_pos)\n",
    "\n",
    "overall_cov, avg_set_size, cov_per_label = coverage_and_efficiency(pred_set, test_y, test_mask)\n",
    "\n",
    "# Save artifacts\n",
    "pd.DataFrame({\n",
    "    \"label\": label_names,\n",
    "    \"coverage\": cov_per_label,\n",
    "}).to_csv(RES/\"coverage_per_label_test.csv\", index=False)\n",
    "\n",
    "summary = {\n",
    "    \"alpha\": 0.10,\n",
    "    \"overall_coverage\": overall_cov,\n",
    "    \"avg_set_size\": avg_set_size,\n",
    "}\n",
    "import json, os\n",
    "json.dump(summary, open(RES/\"cp_summary_test.json\",\"w\"), indent=2)\n",
    "\n",
    "# Also save the binary prediction-set matrix for reproducibility\n",
    "np.save(RES/\"pred_set_test.npy\", pred_set)\n",
    "\n",
    "print(\"CP summary:\", summary)\n",
    "print(\"Saved per-label coverage to:\", RES/\"coverage_per_label_test.csv\")\n",
    "print(\"Saved pred_set_test.npy to:\", RES/\"pred_set_test.npy\")\n"
   ]
  },
  {
   "cell_type": "markdown",
   "id": "319905b9",
   "metadata": {},
   "source": [
    "### sanity"
   ]
  },
  {
   "cell_type": "code",
   "execution_count": 22,
   "id": "e4fdb412",
   "metadata": {},
   "outputs": [
    {
     "name": "stdout",
     "output_type": "stream",
     "text": [
      "        label  coverage  inclusion_rate  threshold  n_test_pos\n",
      "        NR-AR  0.923077        0.922095   0.026949          26\n",
      "    NR-AR-LBD  0.923077        0.895275   0.020016          13\n",
      "       NR-AhR  0.985075        0.638570   0.096197          67\n",
      " NR-Aromatase  0.965517        0.846743   0.028762          29\n",
      "        NR-ER  0.916667        0.892720   0.309225          60\n",
      "    NR-ER-LBD  0.875000        0.899106   0.041258          24\n",
      "NR-PPAR-gamma  0.956522        0.846743   0.012924          23\n",
      "       SR-ARE  0.957895        0.795658   0.246319          95\n",
      "     SR-ATAD5  0.967742        0.802043   0.011649          31\n",
      "       SR-HSE  1.000000        0.956577   0.010287          46\n",
      "       SR-MMP  0.923077        0.436782   0.360994          78\n",
      "       SR-p53  0.983333        0.735632   0.118015          60\n",
      "\n",
      "Overall avg set size: 9.66794380587484\n",
      "Overall coverage: 0.9528985507246377\n"
     ]
    }
   ],
   "source": [
    "import numpy as np\n",
    "import pandas as pd\n",
    "\n",
    "pred_set = np.load(RES/\"pred_set_test.npy\")\n",
    "q_pos = np.load(CAL/\"q_pos_alpha0.10.npy\")\n",
    "\n",
    "# Per-label stats\n",
    "rows = []\n",
    "for l, name in enumerate(label_names):\n",
    "    pos = (test_mask[:,l]==1) & (test_y[:,l]==1)\n",
    "    if pos.sum() == 0:\n",
    "        cov = np.nan\n",
    "    else:\n",
    "        cov = ((pred_set[:,l]==1) & pos).sum() / pos.sum()\n",
    "    eff = pred_set[:,l].mean()  # fraction of samples label is included in\n",
    "    thr = 1 - q_pos[l]\n",
    "    rows.append((name, cov, eff, thr, int(pos.sum())))\n",
    "\n",
    "df_cp = pd.DataFrame(rows, columns=[\"label\",\"coverage\",\"inclusion_rate\",\"threshold\",\"n_test_pos\"])\n",
    "print(df_cp.to_string(index=False))\n",
    "\n",
    "print(\"\\nOverall avg set size:\", pred_set.sum(1).mean())\n",
    "print(\"Overall coverage:\", ((pred_set==1)&((test_y==1)&(test_mask==1))).sum() / ((test_y==1)&(test_mask==1)).sum())\n"
   ]
  },
  {
   "cell_type": "markdown",
   "id": "b01837ae",
   "metadata": {},
   "source": [
    "## 9: α sweep (coverage vs. avg set size) + choose best α"
   ]
  },
  {
   "cell_type": "code",
   "execution_count": 23,
   "id": "a911993d",
   "metadata": {},
   "outputs": [
    {
     "name": "stdout",
     "output_type": "stream",
     "text": [
      "   alpha  coverage  avg_set_size\n",
      "0   0.05  0.972826     10.513410\n",
      "1   0.10  0.952899      9.667944\n",
      "2   0.15  0.920290      8.277139\n",
      "3   0.20  0.865942      7.072797\n",
      "4   0.25  0.778986      5.906769\n",
      "5   0.30  0.724638      5.128991\n",
      "\n",
      "Chosen operating point: {'alpha': 0.15000000000000002, 'coverage': 0.9202898550724637, 'avg_set_size': 8.277139208173692}\n"
     ]
    }
   ],
   "source": [
    "import numpy as np, pandas as pd, json\n",
    "from pathlib import Path\n",
    "\n",
    "def cp_calibrate_positive(val_p, val_y, val_m, alpha=0.10):\n",
    "    L = val_p.shape[1]\n",
    "    q = np.zeros(L, dtype=np.float32)\n",
    "    for l in range(L):\n",
    "        mask_pos = (val_m[:, l] == 1) & (val_y[:, l] == 1)\n",
    "        scores = 1.0 - val_p[mask_pos, l]\n",
    "        if scores.size == 0:\n",
    "            q[l] = 1.0\n",
    "            continue\n",
    "        k = int(np.ceil((scores.size + 1) * (1 - alpha))) - 1\n",
    "        k = min(max(k, 0), scores.size - 1)\n",
    "        q[l] = np.partition(scores, k)[k]\n",
    "    return q\n",
    "\n",
    "def apply_cp_positive(p, q_pos):\n",
    "    thr = 1.0 - q_pos[None, :]\n",
    "    return (p >= thr).astype(np.int32)\n",
    "\n",
    "def coverage_and_efficiency(pred_set, y_true, mask):\n",
    "    pos = (mask == 1) & (y_true == 1)\n",
    "    covered = (pred_set == 1) & pos\n",
    "    overall_cov = covered.sum() / max(pos.sum(), 1)\n",
    "    avg_set_size = pred_set.sum(axis=1).mean()\n",
    "    return float(overall_cov), float(avg_set_size)\n",
    "\n",
    "alphas = np.linspace(0.05, 0.30, 6)  # 0.05, 0.10, ..., 0.30\n",
    "grid = []\n",
    "for a in alphas:\n",
    "    q = cp_calibrate_positive(val_prob, val_y, val_mask, alpha=float(a))\n",
    "    pred = apply_cp_positive(test_prob, q)\n",
    "    cov, sz = coverage_and_efficiency(pred, test_y, test_mask)\n",
    "    grid.append({\"alpha\": float(a), \"coverage\": cov, \"avg_set_size\": sz})\n",
    "\n",
    "df_grid = pd.DataFrame(grid)\n",
    "df_grid.to_csv(RES/\"cp_alpha_grid_test.csv\", index=False)\n",
    "print(df_grid)\n",
    "\n",
    "# Pick the smallest set size subject to coverage >= 0.90\n",
    "candidates = df_grid[df_grid[\"coverage\"] >= 0.90].sort_values([\"avg_set_size\", \"alpha\"])\n",
    "if len(candidates):\n",
    "    chosen = candidates.iloc[0].to_dict()\n",
    "    json.dump(chosen, open(RES/\"cp_alpha_choice.json\",\"w\"), indent=2)\n",
    "    print(\"\\nChosen operating point:\", chosen)\n",
    "else:\n",
    "    print(\"\\nNo alpha in grid achieved coverage >= 0.90 — consider extending grid or inspecting labels.\")\n"
   ]
  },
  {
   "cell_type": "markdown",
   "id": "d55f9eda",
   "metadata": {},
   "source": [
    "## 10: Finalize CP at α = 0.15 "
   ]
  },
  {
   "cell_type": "markdown",
   "id": "3b4035b9",
   "metadata": {},
   "source": [
    "## 10a) Cell 10a: Lock in CP at alpha=0.15; save per-label + pred_set "
   ]
  },
  {
   "cell_type": "code",
   "execution_count": 24,
   "id": "14bfa33a",
   "metadata": {},
   "outputs": [
    {
     "name": "stdout",
     "output_type": "stream",
     "text": [
      "[alpha=0.15] overall_coverage=0.920, avg_set_size=8.277\n",
      "Saved:\n",
      "  tox21_chemberta_v5\\cp\\calibrators\\q_pos_alpha0.15.npy\n",
      "  tox21_chemberta_v5\\cp\\results\\pred_set_test_alpha0.15.npy\n",
      "  tox21_chemberta_v5\\cp\\results\\coverage_per_label_test_alpha0.15.csv\n",
      "  tox21_chemberta_v5\\cp\\results\\cp_summary_test_alpha0.15.json\n"
     ]
    }
   ],
   "source": [
    "import numpy as np, pandas as pd, json\n",
    "\n",
    "alpha_star = 0.15  # chosen from the sweep\n",
    "\n",
    "def cp_calibrate_positive(val_p, val_y, val_m, alpha=0.10):\n",
    "    L = val_p.shape[1]\n",
    "    q = np.zeros(L, dtype=np.float32)\n",
    "    for l in range(L):\n",
    "        mask_pos = (val_m[:, l] == 1) & (val_y[:, l] == 1)\n",
    "        scores = 1.0 - val_p[mask_pos, l]\n",
    "        if scores.size == 0:\n",
    "            q[l] = 1.0\n",
    "            continue\n",
    "        k = int(np.ceil((scores.size + 1) * (1 - alpha))) - 1\n",
    "        k = min(max(k, 0), scores.size - 1)\n",
    "        q[l] = np.partition(scores, k)[k]\n",
    "    return q\n",
    "\n",
    "def apply_cp_positive(p, q_pos):\n",
    "    thr = 1.0 - q_pos[None, :]\n",
    "    return (p >= thr).astype(np.int32)\n",
    "\n",
    "def coverage_and_efficiency(pred_set, y_true, mask):\n",
    "    pos = (mask == 1) & (y_true == 1)\n",
    "    covered = (pred_set == 1) & pos\n",
    "    overall_cov = covered.sum() / max(pos.sum(), 1)\n",
    "    avg_set_size = pred_set.sum(axis=1).mean()\n",
    "    return float(overall_cov), float(avg_set_size)\n",
    "\n",
    "# Calibrate and apply\n",
    "q_pos_star = cp_calibrate_positive(val_prob, val_y, val_mask, alpha=alpha_star)\n",
    "pred_set_star = apply_cp_positive(test_prob, q_pos_star)\n",
    "cov_star, sz_star = coverage_and_efficiency(pred_set_star, test_y, test_mask)\n",
    "\n",
    "# Per-label coverage and inclusion rate\n",
    "rows = []\n",
    "for l, name in enumerate(label_names):\n",
    "    pos = (test_mask[:,l]==1) & (test_y[:,l]==1)\n",
    "    cov_l = ((pred_set_star[:,l]==1) & pos).sum() / max(pos.sum(), 1)\n",
    "    incl_l = pred_set_star[:,l].mean()\n",
    "    thr_l = 1.0 - q_pos_star[l]\n",
    "    rows.append((name, float(cov_l), float(incl_l), float(thr_l), int(pos.sum())))\n",
    "df_star = pd.DataFrame(rows, columns=[\"label\",\"coverage\",\"inclusion_rate\",\"threshold\",\"n_test_pos\"])\n",
    "\n",
    "# Save everything with alpha in the filename for traceability\n",
    "np.save(CAL/f\"q_pos_alpha{alpha_star:.2f}.npy\", q_pos_star)\n",
    "np.save(RES/f\"pred_set_test_alpha{alpha_star:.2f}.npy\", pred_set_star)\n",
    "df_star.to_csv(RES/f\"coverage_per_label_test_alpha{alpha_star:.2f}.csv\", index=False)\n",
    "json.dump(\n",
    "    {\"alpha\": alpha_star, \"overall_coverage\": cov_star, \"avg_set_size\": sz_star},\n",
    "    open(RES/f\"cp_summary_test_alpha{alpha_star:.2f}.json\",\"w\"),\n",
    "    indent=2\n",
    ")\n",
    "\n",
    "print(f\"[alpha={alpha_star:.2f}] overall_coverage={cov_star:.3f}, avg_set_size={sz_star:.3f}\")\n",
    "print(\"Saved:\",\n",
    "      CAL/f\"q_pos_alpha{alpha_star:.2f}.npy\",\n",
    "      RES/f\"pred_set_test_alpha{alpha_star:.2f}.npy\",\n",
    "      RES/f\"coverage_per_label_test_alpha{alpha_star:.2f}.csv\",\n",
    "      RES/f\"cp_summary_test_alpha{alpha_star:.2f}.json\", sep=\"\\n  \")\n"
   ]
  },
  {
   "cell_type": "markdown",
   "id": "cbe7ae6b",
   "metadata": {},
   "source": [
    "## 10b) Plot coverage–size trade-off (from the sweep)"
   ]
  },
  {
   "cell_type": "code",
   "execution_count": 25,
   "id": "521701f7",
   "metadata": {},
   "outputs": [
    {
     "name": "stdout",
     "output_type": "stream",
     "text": [
      "Saved plot to tox21_chemberta_v5\\plots\\cp_tradeoff_alpha_grid.png\n"
     ]
    },
    {
     "data": {
      "image/png": "[encoded data removed]",
      "text/plain": [
       "<Figure size 640x480 with 1 Axes>"
      ]
     },
     "metadata": {},
     "output_type": "display_data"
    }
   ],
   "source": [
    "import pandas as pd\n",
    "import matplotlib.pyplot as plt\n",
    "\n",
    "df_grid = pd.read_csv(RES/\"cp_alpha_grid_test.csv\")\n",
    "\n",
    "plt.figure()\n",
    "plt.plot(df_grid[\"alpha\"], df_grid[\"coverage\"], marker=\"o\", label=\"Coverage\")\n",
    "plt.plot(df_grid[\"alpha\"], df_grid[\"avg_set_size\"], marker=\"o\", label=\"Avg set size\")\n",
    "plt.xlabel(\"alpha (target error)\")\n",
    "plt.title(\"Conformal Prediction Trade-off (TEST, scaffold)\")\n",
    "plt.legend()\n",
    "plt.tight_layout()\n",
    "plt.savefig(PLOTS/\"cp_tradeoff_alpha_grid.png\", dpi=200)\n",
    "print(\"Saved plot to\", PLOTS/\"cp_tradeoff_alpha_grid.png\")\n"
   ]
  },
  {
   "cell_type": "markdown",
   "id": "bc19353c",
   "metadata": {},
   "source": [
    "### 10c) Per-label bar chart at α = 0.15"
   ]
  },
  {
   "cell_type": "code",
   "execution_count": 26,
   "id": "2133cdfe",
   "metadata": {},
   "outputs": [
    {
     "name": "stdout",
     "output_type": "stream",
     "text": [
      "Saved plot to tox21_chemberta_v5\\plots\\per_label_coverage_alpha0.15.png\n"
     ]
    },
    {
     "data": {
      "image/png": "[encoded data removed]",
      "text/plain": [
       "<Figure size 640x480 with 1 Axes>"
      ]
     },
     "metadata": {},
     "output_type": "display_data"
    }
   ],
   "source": [
    "import pandas as pd\n",
    "import matplotlib.pyplot as plt\n",
    "\n",
    "alpha_star = 0.15\n",
    "df_star = pd.read_csv(RES/f\"coverage_per_label_test_alpha{alpha_star:.2f}.csv\")\n",
    "\n",
    "plt.figure()\n",
    "plt.bar(df_star[\"label\"], df_star[\"coverage\"])\n",
    "plt.axhline(0.90, linestyle=\"--\")\n",
    "plt.xticks(rotation=45, ha=\"right\")\n",
    "plt.ylabel(\"Coverage (TEST)\")\n",
    "plt.title(f\"Per-label Coverage at alpha={alpha_star:.2f}\")\n",
    "plt.tight_layout()\n",
    "plt.savefig(PLOTS/f\"per_label_coverage_alpha{alpha_star:.2f}.png\", dpi=200)\n",
    "print(\"Saved plot to\", PLOTS/f\"per_label_coverage_alpha{alpha_star:.2f}.png\")\n"
   ]
  },
  {
   "cell_type": "markdown",
   "id": "b28236fc",
   "metadata": {},
   "source": [
    "## 11"
   ]
  }
 ],
 "metadata": {
  "kernelspec": {
   "display_name": "lord",
   "language": "python",
   "name": "python3"
  },
  "language_info": {
   "codemirror_mode": {
    "name": "ipython",
    "version": 3
   },
   "file_extension": ".py",
   "mimetype": "text/x-python",
   "name": "python",
   "nbconvert_exporter": "python",
   "pygments_lexer": "ipython3",
   "version": "3.11.9"
  }
 },
 "nbformat": 4,
 "nbformat_minor": 5
}
