{
 "cells": [
  {
   "cell_type": "markdown",
   "id": "90396ed6",
   "metadata": {},
   "source": [
    "# AIM:\n",
    "\n",
    "**Predict which adverse drug events (ADEs) a drug might cause, using it's chemical structure (SMILES) and optional clinical trial metadata**\n",
    "\n",
    "Pipeline overview:\n",
    "\n",
    "* Load train/val/test CSVs\n",
    "* Featurize SMILES using ECFP (e.g., 1024-bit vectors via RDKit)\n",
    "* Combine with metadata e.g., age, gender etc\n",
    "* Train a multi-label classifier e.g., MLP \n",
    "* Generate SHAP values to explain predictions \n",
    "* Train a Meta-Explanation Network on SHAP vectors to generate structured explanations "
   ]
  },
  {
   "cell_type": "markdown",
   "id": "b2d109e2",
   "metadata": {},
   "source": [
    "whats each Row??\n",
    "\n",
    "each row predicts a multi-label binary vector indicating which ADEs the drug may cause, based on its SMILES (turned into ECFP) and those are the label_* columns AKA alol the columns thyat start with the word Label."
   ]
  }
 ],
 "metadata": {
  "kernelspec": {
   "display_name": "god",
   "language": "python",
   "name": "python3"
  },
  "language_info": {
   "name": "python",
   "version": "3.11.9"
  }
 },
 "nbformat": 4,
 "nbformat_minor": 5
}
