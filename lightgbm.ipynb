{
 "cells": [
  {
   "cell_type": "markdown",
   "id": "e7739542",
   "metadata": {},
   "source": [
    "# Descriptor & Feature Matrix Creation (for LightGBM) @"
   ]
  },
  {
   "cell_type": "markdown",
   "id": "0b472ea9",
   "metadata": {},
   "source": [
    "## Import and setup "
   ]
  },
  {
   "cell_type": "code",
   "execution_count": 1,
   "id": "48581ac9",
   "metadata": {},
   "outputs": [],
   "source": [
    "import pandas as pd\n",
    "import numpy as np\n",
    "from rdkit import Chem\n",
    "from rdkit.Chem import Descriptors, AllChem\n",
    "from rdkit.Chem import rdMolDescriptors\n",
    "import os\n",
    "from tqdm import tqdm\n",
    "import warnings\n",
    "\n",
    "warnings.filterwarnings(\"ignore\")\n",
    "tqdm.pandas()\n",
    "\n",
    "# Paths\n",
    "DATA_PATH = \"tox21_lightgb_pipeline/Data_v6/processed/tox21.csv\"\n",
    "SAVE_DIR = \"tox21_lightgb_pipeline/Data_v6/processed/\""
   ]
  },
  {
   "cell_type": "markdown",
   "id": "2c312cc7",
   "metadata": {},
   "source": [
    "## Load Dataset"
   ]
  },
  {
   "cell_type": "code",
   "execution_count": 2,
   "id": "7f3ede07",
   "metadata": {},
   "outputs": [
    {
     "name": "stdout",
     "output_type": "stream",
     "text": [
      "Labels: ['NR-AR', 'NR-AR-LBD', 'NR-AhR', 'NR-Aromatase', 'NR-ER', 'NR-ER-LBD', 'NR-PPAR-gamma', 'SR-ARE', 'SR-ATAD5', 'SR-HSE', 'SR-MMP', 'SR-p53']\n"
     ]
    },
    {
     "data": {
      "text/html": [
       "<div>\n",
       "<style scoped>\n",
       "    .dataframe tbody tr th:only-of-type {\n",
       "        vertical-align: middle;\n",
       "    }\n",
       "\n",
       "    .dataframe tbody tr th {\n",
       "        vertical-align: top;\n",
       "    }\n",
       "\n",
       "    .dataframe thead th {\n",
       "        text-align: right;\n",
       "    }\n",
       "</style>\n",
       "<table border=\"1\" class=\"dataframe\">\n",
       "  <thead>\n",
       "    <tr style=\"text-align: right;\">\n",
       "      <th></th>\n",
       "      <th>NR-AR</th>\n",
       "      <th>NR-AR-LBD</th>\n",
       "      <th>NR-AhR</th>\n",
       "      <th>NR-Aromatase</th>\n",
       "      <th>NR-ER</th>\n",
       "      <th>NR-ER-LBD</th>\n",
       "      <th>NR-PPAR-gamma</th>\n",
       "      <th>SR-ARE</th>\n",
       "      <th>SR-ATAD5</th>\n",
       "      <th>SR-HSE</th>\n",
       "      <th>SR-MMP</th>\n",
       "      <th>SR-p53</th>\n",
       "      <th>mol_id</th>\n",
       "      <th>smiles</th>\n",
       "    </tr>\n",
       "  </thead>\n",
       "  <tbody>\n",
       "    <tr>\n",
       "      <th>0</th>\n",
       "      <td>0.0</td>\n",
       "      <td>0.0</td>\n",
       "      <td>1.0</td>\n",
       "      <td>NaN</td>\n",
       "      <td>NaN</td>\n",
       "      <td>0.0</td>\n",
       "      <td>0.0</td>\n",
       "      <td>1.0</td>\n",
       "      <td>0.0</td>\n",
       "      <td>0.0</td>\n",
       "      <td>0.0</td>\n",
       "      <td>0.0</td>\n",
       "      <td>TOX3021</td>\n",
       "      <td>CCOc1ccc2nc(S(N)(=O)=O)sc2c1</td>\n",
       "    </tr>\n",
       "    <tr>\n",
       "      <th>1</th>\n",
       "      <td>0.0</td>\n",
       "      <td>0.0</td>\n",
       "      <td>0.0</td>\n",
       "      <td>0.0</td>\n",
       "      <td>0.0</td>\n",
       "      <td>0.0</td>\n",
       "      <td>0.0</td>\n",
       "      <td>NaN</td>\n",
       "      <td>0.0</td>\n",
       "      <td>NaN</td>\n",
       "      <td>0.0</td>\n",
       "      <td>0.0</td>\n",
       "      <td>TOX3020</td>\n",
       "      <td>CCN1C(=O)NC(c2ccccc2)C1=O</td>\n",
       "    </tr>\n",
       "    <tr>\n",
       "      <th>2</th>\n",
       "      <td>NaN</td>\n",
       "      <td>NaN</td>\n",
       "      <td>NaN</td>\n",
       "      <td>NaN</td>\n",
       "      <td>NaN</td>\n",
       "      <td>NaN</td>\n",
       "      <td>NaN</td>\n",
       "      <td>0.0</td>\n",
       "      <td>NaN</td>\n",
       "      <td>0.0</td>\n",
       "      <td>NaN</td>\n",
       "      <td>NaN</td>\n",
       "      <td>TOX3024</td>\n",
       "      <td>CC[C@]1(O)CC[C@H]2[C@@H]3CCC4=CCCC[C@@H]4[C@H]...</td>\n",
       "    </tr>\n",
       "    <tr>\n",
       "      <th>3</th>\n",
       "      <td>0.0</td>\n",
       "      <td>0.0</td>\n",
       "      <td>0.0</td>\n",
       "      <td>0.0</td>\n",
       "      <td>0.0</td>\n",
       "      <td>0.0</td>\n",
       "      <td>0.0</td>\n",
       "      <td>NaN</td>\n",
       "      <td>0.0</td>\n",
       "      <td>NaN</td>\n",
       "      <td>0.0</td>\n",
       "      <td>0.0</td>\n",
       "      <td>TOX3027</td>\n",
       "      <td>CCCN(CC)C(CC)C(=O)Nc1c(C)cccc1C</td>\n",
       "    </tr>\n",
       "    <tr>\n",
       "      <th>4</th>\n",
       "      <td>0.0</td>\n",
       "      <td>0.0</td>\n",
       "      <td>0.0</td>\n",
       "      <td>0.0</td>\n",
       "      <td>0.0</td>\n",
       "      <td>0.0</td>\n",
       "      <td>0.0</td>\n",
       "      <td>0.0</td>\n",
       "      <td>0.0</td>\n",
       "      <td>0.0</td>\n",
       "      <td>0.0</td>\n",
       "      <td>0.0</td>\n",
       "      <td>TOX20800</td>\n",
       "      <td>CC(O)(P(=O)(O)O)P(=O)(O)O</td>\n",
       "    </tr>\n",
       "  </tbody>\n",
       "</table>\n",
       "</div>"
      ],
      "text/plain": [
       "   NR-AR  NR-AR-LBD  NR-AhR  NR-Aromatase  NR-ER  NR-ER-LBD  NR-PPAR-gamma  \\\n",
       "0    0.0        0.0     1.0           NaN    NaN        0.0            0.0   \n",
       "1    0.0        0.0     0.0           0.0    0.0        0.0            0.0   \n",
       "2    NaN        NaN     NaN           NaN    NaN        NaN            NaN   \n",
       "3    0.0        0.0     0.0           0.0    0.0        0.0            0.0   \n",
       "4    0.0        0.0     0.0           0.0    0.0        0.0            0.0   \n",
       "\n",
       "   SR-ARE  SR-ATAD5  SR-HSE  SR-MMP  SR-p53    mol_id  \\\n",
       "0     1.0       0.0     0.0     0.0     0.0   TOX3021   \n",
       "1     NaN       0.0     NaN     0.0     0.0   TOX3020   \n",
       "2     0.0       NaN     0.0     NaN     NaN   TOX3024   \n",
       "3     NaN       0.0     NaN     0.0     0.0   TOX3027   \n",
       "4     0.0       0.0     0.0     0.0     0.0  TOX20800   \n",
       "\n",
       "                                              smiles  \n",
       "0                       CCOc1ccc2nc(S(N)(=O)=O)sc2c1  \n",
       "1                          CCN1C(=O)NC(c2ccccc2)C1=O  \n",
       "2  CC[C@]1(O)CC[C@H]2[C@@H]3CCC4=CCCC[C@@H]4[C@H]...  \n",
       "3                    CCCN(CC)C(CC)C(=O)Nc1c(C)cccc1C  \n",
       "4                          CC(O)(P(=O)(O)O)P(=O)(O)O  "
      ]
     },
     "execution_count": 2,
     "metadata": {},
     "output_type": "execute_result"
    }
   ],
   "source": [
    "df = pd.read_csv(DATA_PATH)\n",
    "\n",
    "# Check structure\n",
    "assert df.shape[1] == 14, \"Expected 12 labels + mol_id + smiles\"\n",
    "label_cols = df.columns[:12].tolist()\n",
    "meta_cols = [\"mol_id\", \"smiles\"]\n",
    "\n",
    "print(f\"Labels: {label_cols}\")\n",
    "df.head()\n"
   ]
  },
  {
   "cell_type": "markdown",
   "id": "0098881e",
   "metadata": {},
   "source": [
    "## RDKit Descriptor Function (PhysChem + ECFP4)"
   ]
  },
  {
   "cell_type": "code",
   "execution_count": 3,
   "id": "93cbf051",
   "metadata": {},
   "outputs": [],
   "source": [
    "def compute_descriptors(smiles):\n",
    "    mol = Chem.MolFromSmiles(smiles)\n",
    "    if mol is None:\n",
    "        return None\n",
    "    \n",
    "    # PhysChem descriptors\n",
    "    physchem = {\n",
    "        'MolWt': Descriptors.MolWt(mol),\n",
    "        'LogP': Descriptors.MolLogP(mol),\n",
    "        'TPSA': Descriptors.TPSA(mol),\n",
    "        'NumRotatableBonds': Descriptors.NumRotatableBonds(mol),\n",
    "        'NumHDonors': Descriptors.NumHDonors(mol),\n",
    "        'NumHAcceptors': Descriptors.NumHAcceptors(mol),\n",
    "        'RingCount': Descriptors.RingCount(mol),\n",
    "    }\n",
    "\n",
    "    # ECFP4 fingerprint (bit vector)\n",
    "    fp = AllChem.GetMorganFingerprintAsBitVect(mol, radius=2, nBits=2048)\n",
    "    ecfp_bits = np.array(fp)\n",
    "    ecfp = {f'ECFP4_{i}': int(bit) for i, bit in enumerate(ecfp_bits)}\n",
    "    \n",
    "    return {**physchem, **ecfp}\n"
   ]
  },
  {
   "cell_type": "markdown",
   "id": "ba8ae32b",
   "metadata": {},
   "source": [
    "## Apply Descriptor Function"
   ]
  },
  {
   "cell_type": "code",
   "execution_count": 4,
   "id": "f31ab3ab",
   "metadata": {},
   "outputs": [
    {
     "name": "stderr",
     "output_type": "stream",
     "text": [
      "  0%|          | 0/7831 [00:00<?, ?it/s][22:20:55] WARNING: not removing hydrogen atom without neighbors\n",
      "100%|██████████| 7831/7831 [00:09<00:00, 834.72it/s]\n"
     ]
    },
    {
     "name": "stdout",
     "output_type": "stream",
     "text": [
      "Dropping 0 invalid SMILES rows.\n"
     ]
    }
   ],
   "source": [
    "# Apply descriptor function to all molecules\n",
    "desc_data = []\n",
    "invalid_idx = []\n",
    "\n",
    "for idx, smi in tqdm(enumerate(df['smiles']), total=len(df)):\n",
    "    result = compute_descriptors(smi)\n",
    "    if result is None:\n",
    "        invalid_idx.append(idx)\n",
    "    else:\n",
    "        desc_data.append(result)\n",
    "\n",
    "# Drop invalid rows\n",
    "print(f\"Dropping {len(invalid_idx)} invalid SMILES rows.\")\n",
    "df_clean = df.drop(index=invalid_idx).reset_index(drop=True)\n",
    "desc_df = pd.DataFrame(desc_data).reset_index(drop=True)\n"
   ]
  },
  {
   "cell_type": "markdown",
   "id": "631b27e8",
   "metadata": {},
   "source": [
    "## Handle Label NaNs which is in our class columns"
   ]
  },
  {
   "cell_type": "code",
   "execution_count": 5,
   "id": "5d072c54",
   "metadata": {},
   "outputs": [],
   "source": [
    "# Create a mask (same shape as Y) to indicate which entries are valid\n",
    "label_mask = ~df_clean[label_cols].isna().values  # True where label is NOT NaN\n",
    "\n",
    "# Fill NaNs in labels with -1 (temporarily) — we'll ignore these during training\n",
    "Y = df_clean[label_cols].fillna(-1).values.astype(np.int32)\n"
   ]
  },
  {
   "cell_type": "markdown",
   "id": "ed3f35fe",
   "metadata": {},
   "source": [
    "## Prepare Final X, Y Matrices"
   ]
  },
  {
   "cell_type": "code",
   "execution_count": 6,
   "id": "5e77f9a0",
   "metadata": {},
   "outputs": [
    {
     "name": "stdout",
     "output_type": "stream",
     "text": [
      "Final feature matrix shape: (7831, 2055)\n",
      "Label matrix shape: (7831, 12)\n",
      "Missing labels per class: [ 566 1073 1282 2010 1638  876 1381 1999  759 1364 2021 1057]\n"
     ]
    }
   ],
   "source": [
    "X = desc_df.values.astype(np.float32)\n",
    "smiles = df_clean[\"smiles\"].tolist()\n",
    "mol_ids = df_clean[\"mol_id\"].tolist()\n",
    "\n",
    "print(f\"Final feature matrix shape: {X.shape}\")\n",
    "print(f\"Label matrix shape: {Y.shape}\")\n",
    "print(f\"Missing labels per class: {np.sum(~label_mask, axis=0)}\")\n"
   ]
  },
  {
   "cell_type": "markdown",
   "id": "fb58741a",
   "metadata": {},
   "source": [
    "## Save Everything for Later Use"
   ]
  },
  {
   "cell_type": "code",
   "execution_count": 7,
   "id": "21a93439",
   "metadata": {},
   "outputs": [
    {
     "name": "stdout",
     "output_type": "stream",
     "text": [
      "✅ Saved: X.npy, Y.npy, label_mask.npy, smiles_list.npy, mol_id_list.npy, feature_names.txt\n"
     ]
    }
   ],
   "source": [
    "np.save(os.path.join(SAVE_DIR, \"X.npy\"), X)\n",
    "np.save(os.path.join(SAVE_DIR, \"Y.npy\"), Y)\n",
    "np.save(os.path.join(SAVE_DIR, \"label_mask.npy\"), label_mask)\n",
    "np.save(os.path.join(SAVE_DIR, \"smiles_list.npy\"), smiles)\n",
    "np.save(os.path.join(SAVE_DIR, \"mol_id_list.npy\"), mol_ids)\n",
    "\n",
    "# Save feature names too\n",
    "with open(os.path.join(SAVE_DIR, \"feature_names.txt\"), \"w\") as f:\n",
    "    f.writelines([col + \"\\n\" for col in desc_df.columns])\n",
    "\n",
    "print(\"✅ Saved: X.npy, Y.npy, label_mask.npy, smiles_list.npy, mol_id_list.npy, feature_names.txt\")\n"
   ]
  },
  {
   "cell_type": "markdown",
   "id": "c6d0f318",
   "metadata": {},
   "source": [
    "# New inputs and start from here if you have the descriptors and the other inputs @@"
   ]
  },
  {
   "cell_type": "markdown",
   "id": "99105d4e",
   "metadata": {},
   "source": [
    "## Data Loading & Preparation"
   ]
  },
  {
   "cell_type": "code",
   "execution_count": 8,
   "id": "5f38e08e",
   "metadata": {},
   "outputs": [
    {
     "name": "stdout",
     "output_type": "stream",
     "text": [
      "✅ Loaded X shape: (7831, 2055)\n",
      "✅ Loaded Y shape: (7831, 12)\n",
      "✅ Label mask shape: (7831, 12)\n",
      "✅ # Feature names: 2055\n",
      "✅ # SMILES: 7831, # Mol IDs: 7831\n"
     ]
    }
   ],
   "source": [
    "# STEP 1: Load preprocessed data\n",
    "import numpy as np\n",
    "import pandas as pd\n",
    "\n",
    "DATA_PATH = \"tox21_lightgb_pipeline/Data_v6/processed\"\n",
    "\n",
    "# Load features and labels\n",
    "X = np.load(f\"{DATA_PATH}/X.npy\")\n",
    "Y = np.load(f\"{DATA_PATH}/Y.npy\")\n",
    "\n",
    "# Load auxiliary data\n",
    "label_mask = np.load(f\"{DATA_PATH}/label_mask.npy\")\n",
    "mol_ids = np.load(f\"{DATA_PATH}/mol_id_list.npy\", allow_pickle=True)\n",
    "smiles_list = np.load(f\"{DATA_PATH}/smiles_list.npy\", allow_pickle=True)\n",
    "\n",
    "# Load feature names\n",
    "with open(f\"{DATA_PATH}/feature_names.txt\") as f:\n",
    "    feature_names = f.read().splitlines()\n",
    "\n",
    "# Define label column names (Tox21 labels)\n",
    "label_cols = [\n",
    "    \"NR-AR\", \"NR-AR-LBD\", \"NR-AhR\", \"NR-Aromatase\", \"NR-ER\",\n",
    "    \"NR-ER-LBD\", \"NR-PPAR-gamma\", \"SR-ARE\", \"SR-ATAD5\",\n",
    "    \"SR-HSE\", \"SR-MMP\", \"SR-p53\"\n",
    "]\n",
    "\n",
    "# Check dimensions\n",
    "print(f\"✅ Loaded X shape: {X.shape}\")\n",
    "print(f\"✅ Loaded Y shape: {Y.shape}\")\n",
    "print(f\"✅ Label mask shape: {label_mask.shape}\")\n",
    "print(f\"✅ # Feature names: {len(feature_names)}\")\n",
    "print(f\"✅ # SMILES: {len(smiles_list)}, # Mol IDs: {len(mol_ids)}\")\n"
   ]
  },
  {
   "cell_type": "markdown",
   "id": "9f9e2e4c",
   "metadata": {},
   "source": [
    "# train/val/test splits + model training @@@"
   ]
  },
  {
   "cell_type": "markdown",
   "id": "4d55c3ef",
   "metadata": {},
   "source": [
    "## Imports & Reload Feature/Label Data"
   ]
  },
  {
   "cell_type": "code",
   "execution_count": 9,
   "id": "e58958f9",
   "metadata": {},
   "outputs": [],
   "source": [
    "import numpy as np\n",
    "import pandas as pd\n",
    "import joblib\n",
    "import os\n",
    "import shap\n",
    "import lightgbm as lgb\n",
    "import xgboost as xgb\n",
    "import optuna\n",
    "\n",
    "from sklearn.model_selection import train_test_split, StratifiedKFold\n",
    "from sklearn.metrics import roc_auc_score, accuracy_score, f1_score\n",
    "from sklearn.feature_selection import SelectFromModel\n",
    "from lightgbm import early_stopping, log_evaluation\n",
    "\n",
    "# Set paths\n",
    "MODEL_PATH = \"tox21_lightgb_pipeline/models/v6\"\n",
    "DATA_PATH = \"tox21_lightgb_pipeline/Data_v6/processed\"\n",
    "os.makedirs(MODEL_PATH, exist_ok=True)\n",
    "\n",
    "# Load data\n",
    "X = np.load(os.path.join(DATA_PATH, \"X.npy\"))\n",
    "Y = np.load(os.path.join(DATA_PATH, \"Y.npy\"))\n",
    "label_mask = np.load(os.path.join(DATA_PATH, \"label_mask.npy\"))\n",
    "feature_names = [line.strip() for line in open(os.path.join(DATA_PATH, \"feature_names.txt\"))]\n",
    "\n",
    "# Define class labels\n",
    "label_cols = [\n",
    "    \"NR-AR\", \"NR-AR-LBD\", \"NR-AhR\", \"NR-Aromatase\", \"NR-ER\",\n",
    "    \"NR-ER-LBD\", \"NR-PPAR-gamma\", \"SR-ARE\", \"SR-ATAD5\",\n",
    "    \"SR-HSE\", \"SR-MMP\", \"SR-p53\"\n",
    "]\n"
   ]
  },
  {
   "cell_type": "markdown",
   "id": "9e0473c4",
   "metadata": {},
   "source": [
    "## Training Loop (Feature Selection + Optuna + Model Training)"
   ]
  },
  {
   "cell_type": "code",
   "execution_count": 10,
   "id": "9c74c57e",
   "metadata": {},
   "outputs": [
    {
     "name": "stdout",
     "output_type": "stream",
     "text": [
      "\n",
      "📍 Training for label 1/12: NR-AR\n",
      "[LightGBM] [Info] Number of positive: 247, number of negative: 5565\n",
      "[LightGBM] [Info] Auto-choosing row-wise multi-threading, the overhead of testing was 0.012984 seconds.\n",
      "You can set `force_row_wise=true` to remove the overhead.\n",
      "And if memory is not enough, you can set `force_col_wise=true`.\n",
      "[LightGBM] [Info] Total Bins 3983\n",
      "[LightGBM] [Info] Number of data points in the train set: 5812, number of used features: 1567\n",
      "[LightGBM] [Info] [binary:BoostFromScore]: pavg=0.042498 -> initscore=-3.114864\n",
      "[LightGBM] [Info] Start training from score -3.114864\n"
     ]
    },
    {
     "name": "stderr",
     "output_type": "stream",
     "text": [
      "[I 2025-08-04 22:21:09,144] A new study created in memory with name: no-name-35acbcf7-3865-406a-916c-25ffe1f3b90a\n",
      "[I 2025-08-04 22:21:09,310] Trial 0 finished with value: 0.7610350429333952 and parameters: {'learning_rate': 0.1534197919632927, 'num_leaves': 40, 'max_depth': 4, 'min_child_samples': 31, 'feature_fraction': 0.9685686370537981, 'bagging_fraction': 0.8306206305067867, 'lambda_l1': 0.03152263434474123, 'lambda_l2': 0.38320730831888317}. Best is trial 0 with value: 0.7610350429333952.\n"
     ]
    },
    {
     "name": "stdout",
     "output_type": "stream",
     "text": [
      "→ Reduced to 2055 features.\n",
      "Training until validation scores don't improve for 30 rounds\n",
      "Early stopping, best iteration is:\n",
      "[6]\tvalid_0's auc: 0.761035\n",
      "Training until validation scores don't improve for 30 rounds\n"
     ]
    },
    {
     "name": "stderr",
     "output_type": "stream",
     "text": [
      "[I 2025-08-04 22:21:09,404] Trial 1 finished with value: 0.7850545370155488 and parameters: {'learning_rate': 0.19218617318152445, 'num_leaves': 38, 'max_depth': 5, 'min_child_samples': 49, 'feature_fraction': 0.9458254589252173, 'bagging_fraction': 0.7524662653807541, 'lambda_l1': 0.7812170131764526, 'lambda_l2': 0.9012491966843506}. Best is trial 1 with value: 0.7850545370155488.\n",
      "[I 2025-08-04 22:21:09,484] Trial 2 finished with value: 0.7448828034346716 and parameters: {'learning_rate': 0.11949354828721094, 'num_leaves': 79, 'max_depth': 7, 'min_child_samples': 48, 'feature_fraction': 0.9868447509700327, 'bagging_fraction': 0.9516318913341666, 'lambda_l1': 0.5183383912422327, 'lambda_l2': 0.6980586601948087}. Best is trial 1 with value: 0.7850545370155488.\n",
      "[I 2025-08-04 22:21:09,564] Trial 3 finished with value: 0.7753074959387329 and parameters: {'learning_rate': 0.051812051384522086, 'num_leaves': 47, 'max_depth': 3, 'min_child_samples': 23, 'feature_fraction': 0.6952283228551174, 'bagging_fraction': 0.6775842556938942, 'lambda_l1': 0.45993844456415445, 'lambda_l2': 0.5526096415221815}. Best is trial 1 with value: 0.7850545370155488.\n"
     ]
    },
    {
     "name": "stdout",
     "output_type": "stream",
     "text": [
      "Early stopping, best iteration is:\n",
      "[51]\tvalid_0's auc: 0.785055\n",
      "Training until validation scores don't improve for 30 rounds\n",
      "Early stopping, best iteration is:\n",
      "[15]\tvalid_0's auc: 0.744883\n",
      "Training until validation scores don't improve for 30 rounds\n",
      "Early stopping, best iteration is:\n",
      "[44]\tvalid_0's auc: 0.775307\n",
      "Training until validation scores don't improve for 30 rounds\n",
      "Early stopping, best iteration is:\n",
      "[7]\tvalid_0's auc: 0.776352\n"
     ]
    },
    {
     "name": "stderr",
     "output_type": "stream",
     "text": [
      "[I 2025-08-04 22:21:09,620] Trial 4 finished with value: 0.7763518217683918 and parameters: {'learning_rate': 0.17960081183727616, 'num_leaves': 80, 'max_depth': 3, 'min_child_samples': 38, 'feature_fraction': 0.9182353010101486, 'bagging_fraction': 0.8124050700417167, 'lambda_l1': 0.4806481018793479, 'lambda_l2': 0.2218328082215254}. Best is trial 1 with value: 0.7850545370155488.\n",
      "[I 2025-08-04 22:21:09,709] Trial 5 finished with value: 0.7583430030169412 and parameters: {'learning_rate': 0.16523885072720032, 'num_leaves': 63, 'max_depth': 12, 'min_child_samples': 40, 'feature_fraction': 0.8968371259892811, 'bagging_fraction': 0.9780942923613402, 'lambda_l1': 0.18682405410880243, 'lambda_l2': 0.7653479525917362}. Best is trial 1 with value: 0.7850545370155488.\n",
      "[I 2025-08-04 22:21:09,824] Trial 6 finished with value: 0.7356695288930146 and parameters: {'learning_rate': 0.05033322064123333, 'num_leaves': 37, 'max_depth': 12, 'min_child_samples': 29, 'feature_fraction': 0.948248912486463, 'bagging_fraction': 0.7694001671651156, 'lambda_l1': 0.16861040548669504, 'lambda_l2': 0.6736232848658812}. Best is trial 1 with value: 0.7850545370155488.\n"
     ]
    },
    {
     "name": "stdout",
     "output_type": "stream",
     "text": [
      "Training until validation scores don't improve for 30 rounds\n",
      "Early stopping, best iteration is:\n",
      "[4]\tvalid_0's auc: 0.758343\n",
      "Training until validation scores don't improve for 30 rounds\n",
      "Early stopping, best iteration is:\n",
      "[42]\tvalid_0's auc: 0.73567\n"
     ]
    },
    {
     "name": "stderr",
     "output_type": "stream",
     "text": [
      "[I 2025-08-04 22:21:09,914] Trial 7 finished with value: 0.7475284288698074 and parameters: {'learning_rate': 0.12065893330525924, 'num_leaves': 26, 'max_depth': 10, 'min_child_samples': 11, 'feature_fraction': 0.8983150939896702, 'bagging_fraction': 0.9401624520895572, 'lambda_l1': 0.5399040021131305, 'lambda_l2': 0.26769921644249295}. Best is trial 1 with value: 0.7850545370155488.\n",
      "[I 2025-08-04 22:21:10,014] Trial 8 finished with value: 0.7177071246228822 and parameters: {'learning_rate': 0.07561303739190318, 'num_leaves': 38, 'max_depth': 11, 'min_child_samples': 40, 'feature_fraction': 0.7704678917308302, 'bagging_fraction': 0.7456202203598732, 'lambda_l1': 0.06699449715695449, 'lambda_l2': 0.4373073322804677}. Best is trial 1 with value: 0.7850545370155488.\n"
     ]
    },
    {
     "name": "stdout",
     "output_type": "stream",
     "text": [
      "Training until validation scores don't improve for 30 rounds\n",
      "Early stopping, best iteration is:\n",
      "[4]\tvalid_0's auc: 0.747528\n",
      "Training until validation scores don't improve for 30 rounds\n",
      "Early stopping, best iteration is:\n",
      "[14]\tvalid_0's auc: 0.717707\n",
      "Training until validation scores don't improve for 30 rounds\n"
     ]
    },
    {
     "name": "stderr",
     "output_type": "stream",
     "text": [
      "[I 2025-08-04 22:21:10,134] Trial 9 finished with value: 0.7207472731492226 and parameters: {'learning_rate': 0.02707893161076181, 'num_leaves': 31, 'max_depth': 11, 'min_child_samples': 36, 'feature_fraction': 0.6088100985550786, 'bagging_fraction': 0.8107027058179435, 'lambda_l1': 0.07310011741385525, 'lambda_l2': 0.4502556098693806}. Best is trial 1 with value: 0.7850545370155488.\n",
      "[I 2025-08-04 22:21:10,231] Trial 10 finished with value: 0.7721977256904156 and parameters: {'learning_rate': 0.19171638397958413, 'num_leaves': 61, 'max_depth': 6, 'min_child_samples': 16, 'feature_fraction': 0.7954009166526024, 'bagging_fraction': 0.6613594427811089, 'lambda_l1': 0.9977924689935779, 'lambda_l2': 0.9895911361295705}. Best is trial 1 with value: 0.7850545370155488.\n"
     ]
    },
    {
     "name": "stdout",
     "output_type": "stream",
     "text": [
      "Early stopping, best iteration is:\n",
      "[26]\tvalid_0's auc: 0.720747\n",
      "Training until validation scores don't improve for 30 rounds\n",
      "Early stopping, best iteration is:\n",
      "[3]\tvalid_0's auc: 0.772198\n",
      "Training until validation scores don't improve for 30 rounds\n",
      "Early stopping, best iteration is:\n",
      "[7]\tvalid_0's auc: 0.772778\n"
     ]
    },
    {
     "name": "stderr",
     "output_type": "stream",
     "text": [
      "[I 2025-08-04 22:21:10,334] Trial 11 finished with value: 0.7727779067068925 and parameters: {'learning_rate': 0.19554536277256213, 'num_leaves': 78, 'max_depth': 5, 'min_child_samples': 50, 'feature_fraction': 0.8787382893515922, 'bagging_fraction': 0.8675258656155231, 'lambda_l1': 0.7966428248790642, 'lambda_l2': 0.11321796136763115}. Best is trial 1 with value: 0.7850545370155488.\n",
      "[I 2025-08-04 22:21:10,419] Trial 12 finished with value: 0.7726618705035972 and parameters: {'learning_rate': 0.15579292464356176, 'num_leaves': 59, 'max_depth': 3, 'min_child_samples': 44, 'feature_fraction': 0.8494313171461187, 'bagging_fraction': 0.7335368332806489, 'lambda_l1': 0.7088201361690344, 'lambda_l2': 0.02980248754781986}. Best is trial 1 with value: 0.7850545370155488.\n",
      "[I 2025-08-04 22:21:10,544] Trial 13 finished with value: 0.7540728707356694 and parameters: {'learning_rate': 0.1727719338425835, 'num_leaves': 52, 'max_depth': 8, 'min_child_samples': 44, 'feature_fraction': 0.9996197554130941, 'bagging_fraction': 0.6030038682672303, 'lambda_l1': 0.3523626439291866, 'lambda_l2': 0.9198781933603116}. Best is trial 1 with value: 0.7850545370155488.\n"
     ]
    },
    {
     "name": "stdout",
     "output_type": "stream",
     "text": [
      "Training until validation scores don't improve for 30 rounds\n",
      "Early stopping, best iteration is:\n",
      "[7]\tvalid_0's auc: 0.772662\n",
      "Training until validation scores don't improve for 30 rounds\n",
      "Early stopping, best iteration is:\n",
      "[38]\tvalid_0's auc: 0.754073\n"
     ]
    },
    {
     "name": "stderr",
     "output_type": "stream",
     "text": [
      "[I 2025-08-04 22:21:10,665] Trial 14 finished with value: 0.7661638431190532 and parameters: {'learning_rate': 0.14134215668571584, 'num_leaves': 21, 'max_depth': 5, 'min_child_samples': 36, 'feature_fraction': 0.9344740567564482, 'bagging_fraction': 0.894060298331196, 'lambda_l1': 0.7337442556926737, 'lambda_l2': 0.2724550142471349}. Best is trial 1 with value: 0.7850545370155488.\n",
      "[I 2025-08-04 22:21:10,744] Trial 15 finished with value: 0.7676026920399166 and parameters: {'learning_rate': 0.19969665268345058, 'num_leaves': 70, 'max_depth': 4, 'min_child_samples': 27, 'feature_fraction': 0.8200144459495803, 'bagging_fraction': 0.7117911898892588, 'lambda_l1': 0.8911843113985107, 'lambda_l2': 0.19960387247067413}. Best is trial 1 with value: 0.7850545370155488.\n"
     ]
    },
    {
     "name": "stdout",
     "output_type": "stream",
     "text": [
      "Training until validation scores don't improve for 30 rounds\n",
      "Early stopping, best iteration is:\n",
      "[4]\tvalid_0's auc: 0.766164\n",
      "Training until validation scores don't improve for 30 rounds\n",
      "Early stopping, best iteration is:\n",
      "[4]\tvalid_0's auc: 0.767603\n",
      "Training until validation scores don't improve for 30 rounds\n",
      "Early stopping, best iteration is:\n",
      "[7]\tvalid_0's auc: 0.759991\n"
     ]
    },
    {
     "name": "stderr",
     "output_type": "stream",
     "text": [
      "[I 2025-08-04 22:21:10,830] Trial 16 finished with value: 0.7599907171037364 and parameters: {'learning_rate': 0.09208123103336326, 'num_leaves': 48, 'max_depth': 8, 'min_child_samples': 45, 'feature_fraction': 0.7484169415390798, 'bagging_fraction': 0.7860119375251032, 'lambda_l1': 0.6199896877554261, 'lambda_l2': 0.855408790648031}. Best is trial 1 with value: 0.7850545370155488.\n",
      "[I 2025-08-04 22:21:10,929] Trial 17 finished with value: 0.7538175910884196 and parameters: {'learning_rate': 0.13392288355852902, 'num_leaves': 70, 'max_depth': 6, 'min_child_samples': 35, 'feature_fraction': 0.9201074050098638, 'bagging_fraction': 0.8503941424818834, 'lambda_l1': 0.36777967610567863, 'lambda_l2': 0.5690338166591888}. Best is trial 1 with value: 0.7850545370155488.\n",
      "[I 2025-08-04 22:21:11,024] Trial 18 finished with value: 0.7571826409839869 and parameters: {'learning_rate': 0.17102100105962834, 'num_leaves': 53, 'max_depth': 4, 'min_child_samples': 40, 'feature_fraction': 0.8547506140988512, 'bagging_fraction': 0.9049393206022922, 'lambda_l1': 0.6216471092613258, 'lambda_l2': 0.3376669853330345}. Best is trial 1 with value: 0.7850545370155488.\n"
     ]
    },
    {
     "name": "stdout",
     "output_type": "stream",
     "text": [
      "Training until validation scores don't improve for 30 rounds\n",
      "Early stopping, best iteration is:\n",
      "[3]\tvalid_0's auc: 0.753818\n",
      "Training until validation scores don't improve for 30 rounds\n",
      "Early stopping, best iteration is:\n",
      "[38]\tvalid_0's auc: 0.757183\n",
      "Training until validation scores don't improve for 30 rounds\n",
      "Early stopping, best iteration is:\n",
      "[9]\tvalid_0's auc: 0.798979\n"
     ]
    },
    {
     "name": "stderr",
     "output_type": "stream",
     "text": [
      "[I 2025-08-04 22:21:11,104] Trial 19 finished with value: 0.7989788814110002 and parameters: {'learning_rate': 0.17499087460199703, 'num_leaves': 43, 'max_depth': 3, 'min_child_samples': 50, 'feature_fraction': 0.7090732765432362, 'bagging_fraction': 0.6813704582624287, 'lambda_l1': 0.8611646372863255, 'lambda_l2': 0.12832505667709349}. Best is trial 19 with value: 0.7989788814110002.\n",
      "[I 2025-08-04 22:21:11,194] Trial 20 finished with value: 0.7435135762357855 and parameters: {'learning_rate': 0.0978553932286347, 'num_leaves': 42, 'max_depth': 6, 'min_child_samples': 50, 'feature_fraction': 0.6825019712854548, 'bagging_fraction': 0.6030876916337554, 'lambda_l1': 0.8933202365488353, 'lambda_l2': 0.09393201917942051}. Best is trial 19 with value: 0.7989788814110002.\n",
      "[I 2025-08-04 22:21:11,269] Trial 21 finished with value: 0.7966581573450917 and parameters: {'learning_rate': 0.18116181126437006, 'num_leaves': 32, 'max_depth': 3, 'min_child_samples': 47, 'feature_fraction': 0.7161788412749575, 'bagging_fraction': 0.6672258990467758, 'lambda_l1': 0.8542759184697473, 'lambda_l2': 0.20760728929632533}. Best is trial 19 with value: 0.7989788814110002.\n"
     ]
    },
    {
     "name": "stdout",
     "output_type": "stream",
     "text": [
      "Training until validation scores don't improve for 30 rounds\n",
      "Early stopping, best iteration is:\n",
      "[7]\tvalid_0's auc: 0.743514\n",
      "Training until validation scores don't improve for 30 rounds\n",
      "Early stopping, best iteration is:\n",
      "[9]\tvalid_0's auc: 0.796658\n",
      "Training until validation scores don't improve for 30 rounds\n",
      "Early stopping, best iteration is:\n",
      "[10]\tvalid_0's auc: 0.75456\n"
     ]
    },
    {
     "name": "stderr",
     "output_type": "stream",
     "text": [
      "[I 2025-08-04 22:21:11,365] Trial 22 finished with value: 0.7545602227895103 and parameters: {'learning_rate': 0.18203256149135302, 'num_leaves': 32, 'max_depth': 5, 'min_child_samples': 46, 'feature_fraction': 0.6602616983569332, 'bagging_fraction': 0.6610962760099627, 'lambda_l1': 0.8666059861500934, 'lambda_l2': 0.11040115561512509}. Best is trial 19 with value: 0.7989788814110002.\n",
      "[I 2025-08-04 22:21:11,460] Trial 23 finished with value: 0.8080529125087028 and parameters: {'learning_rate': 0.1495449023936195, 'num_leaves': 32, 'max_depth': 3, 'min_child_samples': 50, 'feature_fraction': 0.7228966482223327, 'bagging_fraction': 0.6968387450151661, 'lambda_l1': 0.9698965108036758, 'lambda_l2': 0.03215827898990256}. Best is trial 23 with value: 0.8080529125087028.\n",
      "[I 2025-08-04 22:21:11,550] Trial 24 finished with value: 0.7849152935715944 and parameters: {'learning_rate': 0.14047701774593724, 'num_leaves': 31, 'max_depth': 3, 'min_child_samples': 42, 'feature_fraction': 0.7298299665758925, 'bagging_fraction': 0.6915794830670853, 'lambda_l1': 0.9942208131437823, 'lambda_l2': 0.0032038310644460777}. Best is trial 23 with value: 0.8080529125087028.\n"
     ]
    },
    {
     "name": "stdout",
     "output_type": "stream",
     "text": [
      "Training until validation scores don't improve for 30 rounds\n",
      "Early stopping, best iteration is:\n",
      "[11]\tvalid_0's auc: 0.808053\n",
      "Training until validation scores don't improve for 30 rounds\n",
      "Early stopping, best iteration is:\n",
      "[14]\tvalid_0's auc: 0.784915\n"
     ]
    },
    {
     "name": "stderr",
     "output_type": "stream",
     "text": [
      "[I 2025-08-04 22:21:11,660] Trial 25 finished with value: 0.7713390577860293 and parameters: {'learning_rate': 0.15572859270636416, 'num_leaves': 20, 'max_depth': 4, 'min_child_samples': 46, 'feature_fraction': 0.6305427669263665, 'bagging_fraction': 0.6354602421386497, 'lambda_l1': 0.9039273128517035, 'lambda_l2': 0.1651595090584861}. Best is trial 23 with value: 0.8080529125087028.\n",
      "[I 2025-08-04 22:21:11,754] Trial 26 finished with value: 0.781294964028777 and parameters: {'learning_rate': 0.11754778206704727, 'num_leaves': 26, 'max_depth': 3, 'min_child_samples': 47, 'feature_fraction': 0.7241674657203794, 'bagging_fraction': 0.7082580503760164, 'lambda_l1': 0.8397126496089582, 'lambda_l2': 0.06412557879883415}. Best is trial 23 with value: 0.8080529125087028.\n"
     ]
    },
    {
     "name": "stdout",
     "output_type": "stream",
     "text": [
      "Training until validation scores don't improve for 30 rounds\n",
      "Early stopping, best iteration is:\n",
      "[12]\tvalid_0's auc: 0.771339\n",
      "Training until validation scores don't improve for 30 rounds\n",
      "Early stopping, best iteration is:\n",
      "[18]\tvalid_0's auc: 0.781295\n"
     ]
    },
    {
     "name": "stderr",
     "output_type": "stream",
     "text": [
      "[I 2025-08-04 22:21:11,860] Trial 27 finished with value: 0.7590160129960548 and parameters: {'learning_rate': 0.16245140610640252, 'num_leaves': 45, 'max_depth': 4, 'min_child_samples': 50, 'feature_fraction': 0.695650150144282, 'bagging_fraction': 0.6363305386865221, 'lambda_l1': 0.940811149178633, 'lambda_l2': 0.3341693050120233}. Best is trial 23 with value: 0.8080529125087028.\n",
      "[I 2025-08-04 22:21:11,999] Trial 28 finished with value: 0.7576003713158505 and parameters: {'learning_rate': 0.14592361609759796, 'num_leaves': 34, 'max_depth': 9, 'min_child_samples': 22, 'feature_fraction': 0.6534245894349929, 'bagging_fraction': 0.6355347885228283, 'lambda_l1': 0.6638946964608649, 'lambda_l2': 0.15093303611973152}. Best is trial 23 with value: 0.8080529125087028.\n"
     ]
    },
    {
     "name": "stdout",
     "output_type": "stream",
     "text": [
      "Training until validation scores don't improve for 30 rounds\n",
      "Early stopping, best iteration is:\n",
      "[3]\tvalid_0's auc: 0.759016\n",
      "Training until validation scores don't improve for 30 rounds\n",
      "Early stopping, best iteration is:\n",
      "[3]\tvalid_0's auc: 0.7576\n"
     ]
    },
    {
     "name": "stderr",
     "output_type": "stream",
     "text": [
      "[I 2025-08-04 22:21:12,090] Trial 29 finished with value: 0.7681132513344163 and parameters: {'learning_rate': 0.12926353836031176, 'num_leaves': 26, 'max_depth': 4, 'min_child_samples': 32, 'feature_fraction': 0.7733161269740535, 'bagging_fraction': 0.7227926093289184, 'lambda_l1': 0.791610064538937, 'lambda_l2': 0.26599929711716275}. Best is trial 23 with value: 0.8080529125087028.\n"
     ]
    },
    {
     "name": "stdout",
     "output_type": "stream",
     "text": [
      "Training until validation scores don't improve for 30 rounds\n",
      "Early stopping, best iteration is:\n",
      "[13]\tvalid_0's auc: 0.768113\n",
      "✅ NR-AR - AUC: 0.8244, Accuracy: 0.9697, Threshold: 0.81\n",
      "\n",
      "📍 Training for label 2/12: NR-AR-LBD\n"
     ]
    },
    {
     "name": "stderr",
     "output_type": "stream",
     "text": [
      "[I 2025-08-04 22:21:14,922] A new study created in memory with name: no-name-104b0835-c007-475e-bb70-793176802f5d\n"
     ]
    },
    {
     "name": "stdout",
     "output_type": "stream",
     "text": [
      "→ Reduced to 2055 features.\n",
      "Training until validation scores don't improve for 30 rounds\n",
      "Early stopping, best iteration is:\n",
      "[58]\tvalid_0's auc: 0.88155\n"
     ]
    },
    {
     "name": "stderr",
     "output_type": "stream",
     "text": [
      "[I 2025-08-04 22:21:15,129] Trial 0 finished with value: 0.881550036620281 and parameters: {'learning_rate': 0.17901737650164584, 'num_leaves': 41, 'max_depth': 6, 'min_child_samples': 29, 'feature_fraction': 0.6268474305782938, 'bagging_fraction': 0.8523977775031147, 'lambda_l1': 0.822730985761162, 'lambda_l2': 0.17287733887940282}. Best is trial 0 with value: 0.881550036620281.\n",
      "[I 2025-08-04 22:21:15,239] Trial 1 finished with value: 0.8285837938611094 and parameters: {'learning_rate': 0.03472070576389171, 'num_leaves': 21, 'max_depth': 7, 'min_child_samples': 28, 'feature_fraction': 0.9455659391210489, 'bagging_fraction': 0.799203105568414, 'lambda_l1': 0.3084108424627071, 'lambda_l2': 0.912786688937574}. Best is trial 0 with value: 0.881550036620281.\n",
      "[I 2025-08-04 22:21:15,320] Trial 2 finished with value: 0.8432984885811305 and parameters: {'learning_rate': 0.03140490460676114, 'num_leaves': 40, 'max_depth': 4, 'min_child_samples': 15, 'feature_fraction': 0.8998075347396715, 'bagging_fraction': 0.6591235011113177, 'lambda_l1': 0.8240817379917413, 'lambda_l2': 0.783982667277025}. Best is trial 0 with value: 0.881550036620281.\n"
     ]
    },
    {
     "name": "stdout",
     "output_type": "stream",
     "text": [
      "Training until validation scores don't improve for 30 rounds\n",
      "Early stopping, best iteration is:\n",
      "[43]\tvalid_0's auc: 0.828584\n",
      "Training until validation scores don't improve for 30 rounds\n",
      "Early stopping, best iteration is:\n",
      "[49]\tvalid_0's auc: 0.843298\n",
      "Training until validation scores don't improve for 30 rounds\n",
      "Early stopping, best iteration is:\n",
      "[34]\tvalid_0's auc: 0.829682\n"
     ]
    },
    {
     "name": "stderr",
     "output_type": "stream",
     "text": [
      "[I 2025-08-04 22:21:15,384] Trial 3 finished with value: 0.8296824022904322 and parameters: {'learning_rate': 0.13121813461356646, 'num_leaves': 27, 'max_depth': 4, 'min_child_samples': 37, 'feature_fraction': 0.7328687301485819, 'bagging_fraction': 0.8149894411848114, 'lambda_l1': 0.37750468871222786, 'lambda_l2': 0.660545966603201}. Best is trial 0 with value: 0.881550036620281.\n",
      "[I 2025-08-04 22:21:15,470] Trial 4 finished with value: 0.835375191424196 and parameters: {'learning_rate': 0.08465153540342416, 'num_leaves': 78, 'max_depth': 10, 'min_child_samples': 21, 'feature_fraction': 0.8937360280630822, 'bagging_fraction': 0.754608987849904, 'lambda_l1': 0.8715150821898839, 'lambda_l2': 0.9695465635450783}. Best is trial 0 with value: 0.881550036620281.\n",
      "[I 2025-08-04 22:21:15,579] Trial 5 finished with value: 0.8519209001930887 and parameters: {'learning_rate': 0.18111631877358966, 'num_leaves': 24, 'max_depth': 12, 'min_child_samples': 37, 'feature_fraction': 0.7666609787811876, 'bagging_fraction': 0.9309934773350872, 'lambda_l1': 0.39120173121123947, 'lambda_l2': 0.22719159488504947}. Best is trial 0 with value: 0.881550036620281.\n"
     ]
    },
    {
     "name": "stdout",
     "output_type": "stream",
     "text": [
      "Training until validation scores don't improve for 30 rounds\n",
      "Early stopping, best iteration is:\n",
      "[7]\tvalid_0's auc: 0.835375\n",
      "Training until validation scores don't improve for 30 rounds\n",
      "Early stopping, best iteration is:\n",
      "[37]\tvalid_0's auc: 0.851921\n"
     ]
    },
    {
     "name": "stderr",
     "output_type": "stream",
     "text": [
      "[I 2025-08-04 22:21:15,674] Trial 6 finished with value: 0.8296824022904322 and parameters: {'learning_rate': 0.09638714563468331, 'num_leaves': 52, 'max_depth': 12, 'min_child_samples': 10, 'feature_fraction': 0.6445416190851265, 'bagging_fraction': 0.9166852957745246, 'lambda_l1': 0.02978382326948492, 'lambda_l2': 0.40833013951171726}. Best is trial 0 with value: 0.881550036620281.\n",
      "[I 2025-08-04 22:21:15,739] Trial 7 finished with value: 0.8598441973500234 and parameters: {'learning_rate': 0.1023845496346422, 'num_leaves': 70, 'max_depth': 4, 'min_child_samples': 11, 'feature_fraction': 0.7311664802500493, 'bagging_fraction': 0.9635300084212794, 'lambda_l1': 0.44361784433393014, 'lambda_l2': 0.32336015656987793}. Best is trial 0 with value: 0.881550036620281.\n"
     ]
    },
    {
     "name": "stdout",
     "output_type": "stream",
     "text": [
      "Training until validation scores don't improve for 30 rounds\n",
      "Early stopping, best iteration is:\n",
      "[1]\tvalid_0's auc: 0.829682\n",
      "Training until validation scores don't improve for 30 rounds\n",
      "Early stopping, best iteration is:\n",
      "[23]\tvalid_0's auc: 0.859844\n",
      "Training until validation scores don't improve for 30 rounds\n"
     ]
    },
    {
     "name": "stderr",
     "output_type": "stream",
     "text": [
      "[I 2025-08-04 22:21:15,844] Trial 8 finished with value: 0.8639057194220655 and parameters: {'learning_rate': 0.18881678438993627, 'num_leaves': 24, 'max_depth': 10, 'min_child_samples': 40, 'feature_fraction': 0.91712892218406, 'bagging_fraction': 0.7122005795579007, 'lambda_l1': 0.582999538629458, 'lambda_l2': 0.21964242659166577}. Best is trial 0 with value: 0.881550036620281.\n",
      "[I 2025-08-04 22:21:15,969] Trial 9 finished with value: 0.8520540648511885 and parameters: {'learning_rate': 0.04033772764621046, 'num_leaves': 24, 'max_depth': 12, 'min_child_samples': 21, 'feature_fraction': 0.6636840618004365, 'bagging_fraction': 0.9458736945153869, 'lambda_l1': 0.2704706964764476, 'lambda_l2': 0.126114340894663}. Best is trial 0 with value: 0.881550036620281.\n"
     ]
    },
    {
     "name": "stdout",
     "output_type": "stream",
     "text": [
      "Early stopping, best iteration is:\n",
      "[36]\tvalid_0's auc: 0.863906\n",
      "Training until validation scores don't improve for 30 rounds\n",
      "Early stopping, best iteration is:\n",
      "[63]\tvalid_0's auc: 0.852054\n"
     ]
    },
    {
     "name": "stderr",
     "output_type": "stream",
     "text": [
      "[I 2025-08-04 22:21:16,089] Trial 10 finished with value: 0.8557826752779812 and parameters: {'learning_rate': 0.1501338930979157, 'num_leaves': 52, 'max_depth': 7, 'min_child_samples': 47, 'feature_fraction': 0.6386242309976258, 'bagging_fraction': 0.8612503383921822, 'lambda_l1': 0.6298929336766451, 'lambda_l2': 0.5517894556008147}. Best is trial 0 with value: 0.881550036620281.\n",
      "[I 2025-08-04 22:21:16,220] Trial 11 finished with value: 0.8699647113656036 and parameters: {'learning_rate': 0.1959201819626385, 'num_leaves': 40, 'max_depth': 9, 'min_child_samples': 42, 'feature_fraction': 0.8420623175607702, 'bagging_fraction': 0.6707802957388712, 'lambda_l1': 0.6476493122228082, 'lambda_l2': 0.018318375524669084}. Best is trial 0 with value: 0.881550036620281.\n"
     ]
    },
    {
     "name": "stdout",
     "output_type": "stream",
     "text": [
      "Training until validation scores don't improve for 30 rounds\n",
      "Early stopping, best iteration is:\n",
      "[16]\tvalid_0's auc: 0.855783\n",
      "Training until validation scores don't improve for 30 rounds\n",
      "Early stopping, best iteration is:\n",
      "[54]\tvalid_0's auc: 0.869965\n"
     ]
    },
    {
     "name": "stderr",
     "output_type": "stream",
     "text": [
      "[I 2025-08-04 22:21:16,334] Trial 12 finished with value: 0.8490911512084692 and parameters: {'learning_rate': 0.1568204808271808, 'num_leaves': 44, 'max_depth': 9, 'min_child_samples': 48, 'feature_fraction': 0.8408325972523852, 'bagging_fraction': 0.618214411178189, 'lambda_l1': 0.9743918586626512, 'lambda_l2': 0.0699437423025799}. Best is trial 0 with value: 0.881550036620281.\n",
      "[I 2025-08-04 22:21:16,439] Trial 13 finished with value: 0.8341434183367734 and parameters: {'learning_rate': 0.18959769518546815, 'num_leaves': 37, 'max_depth': 6, 'min_child_samples': 30, 'feature_fraction': 0.8202205464072779, 'bagging_fraction': 0.7088595942869086, 'lambda_l1': 0.7203780398281872, 'lambda_l2': 0.0028444620019222565}. Best is trial 0 with value: 0.881550036620281.\n"
     ]
    },
    {
     "name": "stdout",
     "output_type": "stream",
     "text": [
      "Training until validation scores don't improve for 30 rounds\n",
      "Early stopping, best iteration is:\n",
      "[14]\tvalid_0's auc: 0.849091\n",
      "Training until validation scores don't improve for 30 rounds\n",
      "Early stopping, best iteration is:\n",
      "[41]\tvalid_0's auc: 0.834143\n"
     ]
    },
    {
     "name": "stderr",
     "output_type": "stream",
     "text": [
      "[I 2025-08-04 22:21:16,614] Trial 14 finished with value: 0.8703642053399028 and parameters: {'learning_rate': 0.1604635958657445, 'num_leaves': 62, 'max_depth': 6, 'min_child_samples': 42, 'feature_fraction': 0.6047196707221185, 'bagging_fraction': 0.8520357515798104, 'lambda_l1': 0.7166919384026607, 'lambda_l2': 0.1859575089111595}. Best is trial 0 with value: 0.881550036620281.\n"
     ]
    },
    {
     "name": "stdout",
     "output_type": "stream",
     "text": [
      "Training until validation scores don't improve for 30 rounds\n",
      "Did not meet early stopping. Best iteration is:\n",
      "[76]\tvalid_0's auc: 0.870364\n",
      "Training until validation scores don't improve for 30 rounds\n"
     ]
    },
    {
     "name": "stderr",
     "output_type": "stream",
     "text": [
      "[I 2025-08-04 22:21:16,759] Trial 15 finished with value: 0.8730940808309475 and parameters: {'learning_rate': 0.13224421505106487, 'num_leaves': 65, 'max_depth': 6, 'min_child_samples': 25, 'feature_fraction': 0.6047458007390453, 'bagging_fraction': 0.8637547702926504, 'lambda_l1': 0.7764755275044195, 'lambda_l2': 0.4040458694494207}. Best is trial 0 with value: 0.881550036620281.\n",
      "[I 2025-08-04 22:21:16,844] Trial 16 finished with value: 0.8577468539849524 and parameters: {'learning_rate': 0.1270973168569944, 'num_leaves': 62, 'max_depth': 5, 'min_child_samples': 25, 'feature_fraction': 0.6855296586688217, 'bagging_fraction': 0.8716093411224409, 'lambda_l1': 0.998259017558095, 'lambda_l2': 0.44812101461123244}. Best is trial 0 with value: 0.881550036620281.\n"
     ]
    },
    {
     "name": "stdout",
     "output_type": "stream",
     "text": [
      "Early stopping, best iteration is:\n",
      "[47]\tvalid_0's auc: 0.873094\n",
      "Training until validation scores don't improve for 30 rounds\n",
      "Early stopping, best iteration is:\n",
      "[18]\tvalid_0's auc: 0.857747\n",
      "Training until validation scores don't improve for 30 rounds\n",
      "Early stopping, best iteration is:\n",
      "[50]\tvalid_0's auc: 0.837206\n"
     ]
    },
    {
     "name": "stderr",
     "output_type": "stream",
     "text": [
      "[I 2025-08-04 22:21:16,944] Trial 17 finished with value: 0.8372062054730673 and parameters: {'learning_rate': 0.13295335395225716, 'num_leaves': 62, 'max_depth': 3, 'min_child_samples': 33, 'feature_fraction': 0.7006749218437405, 'bagging_fraction': 0.7814335826586617, 'lambda_l1': 0.8214701518110077, 'lambda_l2': 0.33473597075658323}. Best is trial 0 with value: 0.881550036620281.\n",
      "[I 2025-08-04 22:21:17,109] Trial 18 finished with value: 0.8505892536120915 and parameters: {'learning_rate': 0.0758774489319339, 'num_leaves': 33, 'max_depth': 8, 'min_child_samples': 23, 'feature_fraction': 0.608362123484159, 'bagging_fraction': 0.9917453831817089, 'lambda_l1': 0.5431519198388635, 'lambda_l2': 0.5599709539193134}. Best is trial 0 with value: 0.881550036620281.\n"
     ]
    },
    {
     "name": "stdout",
     "output_type": "stream",
     "text": [
      "Training until validation scores don't improve for 30 rounds\n",
      "Early stopping, best iteration is:\n",
      "[53]\tvalid_0's auc: 0.850589\n",
      "Training until validation scores don't improve for 30 rounds\n"
     ]
    },
    {
     "name": "stderr",
     "output_type": "stream",
     "text": [
      "[I 2025-08-04 22:21:17,240] Trial 19 finished with value: 0.8615087555762702 and parameters: {'learning_rate': 0.1743840780858672, 'num_leaves': 49, 'max_depth': 6, 'min_child_samples': 17, 'feature_fraction': 0.7794475105094639, 'bagging_fraction': 0.8783184035572583, 'lambda_l1': 0.8754862712479693, 'lambda_l2': 0.3037192561752318}. Best is trial 0 with value: 0.881550036620281.\n",
      "[I 2025-08-04 22:21:17,322] Trial 20 finished with value: 0.8436314002263798 and parameters: {'learning_rate': 0.14475495106218975, 'num_leaves': 70, 'max_depth': 5, 'min_child_samples': 33, 'feature_fraction': 0.9838174112847282, 'bagging_fraction': 0.9026740283987417, 'lambda_l1': 0.7606483919062472, 'lambda_l2': 0.6503868276555531}. Best is trial 0 with value: 0.881550036620281.\n"
     ]
    },
    {
     "name": "stdout",
     "output_type": "stream",
     "text": [
      "Early stopping, best iteration is:\n",
      "[64]\tvalid_0's auc: 0.861509\n",
      "Training until validation scores don't improve for 30 rounds\n",
      "Early stopping, best iteration is:\n",
      "[13]\tvalid_0's auc: 0.843631\n",
      "Training until validation scores don't improve for 30 rounds\n",
      "Early stopping, best iteration is:\n",
      "[6]\tvalid_0's auc: 0.867135\n"
     ]
    },
    {
     "name": "stderr",
     "output_type": "stream",
     "text": [
      "[I 2025-08-04 22:21:17,424] Trial 21 finished with value: 0.8671349623809841 and parameters: {'learning_rate': 0.1665300206453855, 'num_leaves': 60, 'max_depth': 6, 'min_child_samples': 27, 'feature_fraction': 0.6007493119244656, 'bagging_fraction': 0.8314263196060474, 'lambda_l1': 0.6693965595018088, 'lambda_l2': 0.17683574012495498}. Best is trial 0 with value: 0.881550036620281.\n",
      "[I 2025-08-04 22:21:17,544] Trial 22 finished with value: 0.8472601371595977 and parameters: {'learning_rate': 0.12200723822526482, 'num_leaves': 70, 'max_depth': 5, 'min_child_samples': 33, 'feature_fraction': 0.6268118876656795, 'bagging_fraction': 0.8438890568112757, 'lambda_l1': 0.765754248761303, 'lambda_l2': 0.11796245700967864}. Best is trial 0 with value: 0.881550036620281.\n",
      "[I 2025-08-04 22:21:17,624] Trial 23 finished with value: 0.8540848258872096 and parameters: {'learning_rate': 0.15603059445595607, 'num_leaves': 58, 'max_depth': 8, 'min_child_samples': 50, 'feature_fraction': 0.6806484049751644, 'bagging_fraction': 0.7765769245368108, 'lambda_l1': 0.9178485202293314, 'lambda_l2': 0.4042082575933828}. Best is trial 0 with value: 0.881550036620281.\n"
     ]
    },
    {
     "name": "stdout",
     "output_type": "stream",
     "text": [
      "Training until validation scores don't improve for 30 rounds\n",
      "Early stopping, best iteration is:\n",
      "[39]\tvalid_0's auc: 0.84726\n",
      "Training until validation scores don't improve for 30 rounds\n",
      "Early stopping, best iteration is:\n",
      "[1]\tvalid_0's auc: 0.854085\n",
      "Training until validation scores don't improve for 30 rounds\n"
     ]
    },
    {
     "name": "stderr",
     "output_type": "stream",
     "text": [
      "[I 2025-08-04 22:21:17,764] Trial 24 finished with value: 0.8749583860443438 and parameters: {'learning_rate': 0.16872433734157, 'num_leaves': 79, 'max_depth': 7, 'min_child_samples': 44, 'feature_fraction': 0.6452845991396046, 'bagging_fraction': 0.8824061527143381, 'lambda_l1': 0.7221698018933038, 'lambda_l2': 0.29276920508454957}. Best is trial 0 with value: 0.881550036620281.\n",
      "[I 2025-08-04 22:21:17,865] Trial 25 finished with value: 0.8506225447766164 and parameters: {'learning_rate': 0.11491318724137307, 'num_leaves': 80, 'max_depth': 7, 'min_child_samples': 18, 'feature_fraction': 0.721900996045477, 'bagging_fraction': 0.8806587687879844, 'lambda_l1': 0.534886007514729, 'lambda_l2': 0.26585563712530436}. Best is trial 0 with value: 0.881550036620281.\n"
     ]
    },
    {
     "name": "stdout",
     "output_type": "stream",
     "text": [
      "Did not meet early stopping. Best iteration is:\n",
      "[95]\tvalid_0's auc: 0.874958\n",
      "Training until validation scores don't improve for 30 rounds\n",
      "Early stopping, best iteration is:\n",
      "[6]\tvalid_0's auc: 0.850623\n",
      "Training until validation scores don't improve for 30 rounds\n"
     ]
    },
    {
     "name": "stderr",
     "output_type": "stream",
     "text": [
      "[I 2025-08-04 22:21:18,024] Trial 26 finished with value: 0.8545176110260337 and parameters: {'learning_rate': 0.17161182804163544, 'num_leaves': 74, 'max_depth': 8, 'min_child_samples': 29, 'feature_fraction': 0.6559622704154321, 'bagging_fraction': 0.9132992827929834, 'lambda_l1': 0.7990665265491259, 'lambda_l2': 0.510272204638754}. Best is trial 0 with value: 0.881550036620281.\n",
      "[I 2025-08-04 22:21:18,120] Trial 27 finished with value: 0.8098408682335708 and parameters: {'learning_rate': 0.012049402839343068, 'num_leaves': 74, 'max_depth': 7, 'min_child_samples': 25, 'feature_fraction': 0.6298594911155253, 'bagging_fraction': 0.8250350765370286, 'lambda_l1': 0.9397765456729683, 'lambda_l2': 0.3758141329305384}. Best is trial 0 with value: 0.881550036620281.\n"
     ]
    },
    {
     "name": "stdout",
     "output_type": "stream",
     "text": [
      "Early stopping, best iteration is:\n",
      "[70]\tvalid_0's auc: 0.854518\n",
      "Training until validation scores don't improve for 30 rounds\n",
      "Early stopping, best iteration is:\n",
      "[1]\tvalid_0's auc: 0.809841\n",
      "Training until validation scores don't improve for 30 rounds\n"
     ]
    },
    {
     "name": "stderr",
     "output_type": "stream",
     "text": [
      "[I 2025-08-04 22:21:18,235] Trial 28 finished with value: 0.8607763499567216 and parameters: {'learning_rate': 0.14194324432403366, 'num_leaves': 56, 'max_depth': 5, 'min_child_samples': 36, 'feature_fraction': 0.6970948377932485, 'bagging_fraction': 0.9679106418548168, 'lambda_l1': 0.008643745644301482, 'lambda_l2': 0.4773259386771237}. Best is trial 0 with value: 0.881550036620281.\n",
      "[I 2025-08-04 22:21:18,334] Trial 29 finished with value: 0.8665024302550103 and parameters: {'learning_rate': 0.19988355300939573, 'num_leaves': 47, 'max_depth': 7, 'min_child_samples': 31, 'feature_fraction': 0.6650302708363897, 'bagging_fraction': 0.7944521113557981, 'lambda_l1': 0.6880449143061562, 'lambda_l2': 0.2638809429392679}. Best is trial 0 with value: 0.881550036620281.\n"
     ]
    },
    {
     "name": "stdout",
     "output_type": "stream",
     "text": [
      "Early stopping, best iteration is:\n",
      "[67]\tvalid_0's auc: 0.860776\n",
      "Training until validation scores don't improve for 30 rounds\n",
      "Early stopping, best iteration is:\n",
      "[32]\tvalid_0's auc: 0.866502\n",
      "✅ NR-AR-LBD - AUC: 0.7372, Accuracy: 0.9689, Threshold: 0.46\n",
      "\n",
      "📍 Training for label 3/12: NR-AhR\n"
     ]
    },
    {
     "name": "stderr",
     "output_type": "stream",
     "text": [
      "[I 2025-08-04 22:21:21,111] A new study created in memory with name: no-name-55efd56d-0ba4-445f-9652-56fd1b598d76\n"
     ]
    },
    {
     "name": "stdout",
     "output_type": "stream",
     "text": [
      "→ Reduced to 2055 features.\n",
      "Training until validation scores don't improve for 30 rounds\n"
     ]
    },
    {
     "name": "stderr",
     "output_type": "stream",
     "text": [
      "[I 2025-08-04 22:21:21,354] Trial 0 finished with value: 0.9346604952141284 and parameters: {'learning_rate': 0.1558377065581529, 'num_leaves': 29, 'max_depth': 8, 'min_child_samples': 31, 'feature_fraction': 0.9387488153020045, 'bagging_fraction': 0.8752986370967676, 'lambda_l1': 0.8847223157680867, 'lambda_l2': 0.573513222474563}. Best is trial 0 with value: 0.9346604952141284.\n",
      "[I 2025-08-04 22:21:21,474] Trial 1 finished with value: 0.9343009931245225 and parameters: {'learning_rate': 0.09122502422745758, 'num_leaves': 42, 'max_depth': 8, 'min_child_samples': 36, 'feature_fraction': 0.9103190418647229, 'bagging_fraction': 0.6856559652062139, 'lambda_l1': 0.5117667333341773, 'lambda_l2': 0.2761385895820577}. Best is trial 0 with value: 0.9346604952141284.\n"
     ]
    },
    {
     "name": "stdout",
     "output_type": "stream",
     "text": [
      "Did not meet early stopping. Best iteration is:\n",
      "[85]\tvalid_0's auc: 0.93466\n",
      "Training until validation scores don't improve for 30 rounds\n",
      "Early stopping, best iteration is:\n",
      "[67]\tvalid_0's auc: 0.934301\n",
      "Training until validation scores don't improve for 30 rounds\n"
     ]
    },
    {
     "name": "stderr",
     "output_type": "stream",
     "text": [
      "[I 2025-08-04 22:21:21,565] Trial 2 finished with value: 0.9280321754370197 and parameters: {'learning_rate': 0.16460891666713343, 'num_leaves': 34, 'max_depth': 5, 'min_child_samples': 31, 'feature_fraction': 0.8591415165067668, 'bagging_fraction': 0.8348264720151852, 'lambda_l1': 0.4966205410945077, 'lambda_l2': 0.7745302909283113}. Best is trial 0 with value: 0.9346604952141284.\n",
      "[I 2025-08-04 22:21:21,688] Trial 3 finished with value: 0.9345256819305262 and parameters: {'learning_rate': 0.1250734215689496, 'num_leaves': 55, 'max_depth': 8, 'min_child_samples': 21, 'feature_fraction': 0.7500118774396108, 'bagging_fraction': 0.7073869986176254, 'lambda_l1': 0.8918405728104507, 'lambda_l2': 0.7269045806835581}. Best is trial 0 with value: 0.9346604952141284.\n"
     ]
    },
    {
     "name": "stdout",
     "output_type": "stream",
     "text": [
      "Did not meet early stopping. Best iteration is:\n",
      "[83]\tvalid_0's auc: 0.928032\n",
      "Training until validation scores don't improve for 30 rounds\n",
      "Early stopping, best iteration is:\n",
      "[66]\tvalid_0's auc: 0.934526\n",
      "Training until validation scores don't improve for 30 rounds\n"
     ]
    },
    {
     "name": "stderr",
     "output_type": "stream",
     "text": [
      "[I 2025-08-04 22:21:21,794] Trial 4 finished with value: 0.9291556194670381 and parameters: {'learning_rate': 0.16145331652273687, 'num_leaves': 75, 'max_depth': 4, 'min_child_samples': 11, 'feature_fraction': 0.9199967641408917, 'bagging_fraction': 0.9292822125708641, 'lambda_l1': 0.43978689418039263, 'lambda_l2': 0.2578067399133178}. Best is trial 0 with value: 0.9346604952141284.\n",
      "[I 2025-08-04 22:21:21,918] Trial 5 finished with value: 0.9346380263335281 and parameters: {'learning_rate': 0.13193847377044923, 'num_leaves': 36, 'max_depth': 12, 'min_child_samples': 19, 'feature_fraction': 0.9017295432017327, 'bagging_fraction': 0.8190416778795657, 'lambda_l1': 0.5360456794623577, 'lambda_l2': 0.4232048287790682}. Best is trial 0 with value: 0.9346604952141284.\n"
     ]
    },
    {
     "name": "stdout",
     "output_type": "stream",
     "text": [
      "Did not meet early stopping. Best iteration is:\n",
      "[95]\tvalid_0's auc: 0.929156\n",
      "Training until validation scores don't improve for 30 rounds\n",
      "Early stopping, best iteration is:\n",
      "[42]\tvalid_0's auc: 0.934638\n",
      "Training until validation scores don't improve for 30 rounds\n"
     ]
    },
    {
     "name": "stderr",
     "output_type": "stream",
     "text": [
      "[I 2025-08-04 22:21:22,010] Trial 6 finished with value: 0.9276502044668135 and parameters: {'learning_rate': 0.11872797288697447, 'num_leaves': 71, 'max_depth': 5, 'min_child_samples': 46, 'feature_fraction': 0.9718738785612271, 'bagging_fraction': 0.8698865760305614, 'lambda_l1': 0.6780755607682553, 'lambda_l2': 0.8252284493605143}. Best is trial 0 with value: 0.9346604952141284.\n",
      "[I 2025-08-04 22:21:22,119] Trial 7 finished with value: 0.9293353705118411 and parameters: {'learning_rate': 0.09015950355035002, 'num_leaves': 22, 'max_depth': 11, 'min_child_samples': 10, 'feature_fraction': 0.8850017437076896, 'bagging_fraction': 0.709888526801249, 'lambda_l1': 0.2648447053656312, 'lambda_l2': 0.07162729613508001}. Best is trial 0 with value: 0.9346604952141284.\n"
     ]
    },
    {
     "name": "stdout",
     "output_type": "stream",
     "text": [
      "Did not meet early stopping. Best iteration is:\n",
      "[85]\tvalid_0's auc: 0.92765\n",
      "Training until validation scores don't improve for 30 rounds\n",
      "Early stopping, best iteration is:\n",
      "[67]\tvalid_0's auc: 0.929335\n",
      "Training until validation scores don't improve for 30 rounds\n",
      "Did not meet early stopping. Best iteration is:\n",
      "[90]\tvalid_0's auc: 0.926684\n"
     ]
    },
    {
     "name": "stderr",
     "output_type": "stream",
     "text": [
      "[I 2025-08-04 22:21:22,204] Trial 8 finished with value: 0.9266840426009977 and parameters: {'learning_rate': 0.13569862287553067, 'num_leaves': 73, 'max_depth': 4, 'min_child_samples': 17, 'feature_fraction': 0.8561392048986267, 'bagging_fraction': 0.7326410441745197, 'lambda_l1': 0.6616371649864566, 'lambda_l2': 0.1977804605942065}. Best is trial 0 with value: 0.9346604952141284.\n",
      "[I 2025-08-04 22:21:22,304] Trial 9 finished with value: 0.9099671954343234 and parameters: {'learning_rate': 0.030272137506716798, 'num_leaves': 33, 'max_depth': 4, 'min_child_samples': 18, 'feature_fraction': 0.8384639985827487, 'bagging_fraction': 0.7366578135899254, 'lambda_l1': 0.4002240379562563, 'lambda_l2': 0.01699673581363159}. Best is trial 0 with value: 0.9346604952141284.\n"
     ]
    },
    {
     "name": "stdout",
     "output_type": "stream",
     "text": [
      "Training until validation scores don't improve for 30 rounds\n",
      "Did not meet early stopping. Best iteration is:\n",
      "[96]\tvalid_0's auc: 0.909967\n",
      "Training until validation scores don't improve for 30 rounds\n",
      "Did not meet early stopping. Best iteration is:\n",
      "[93]\tvalid_0's auc: 0.923493\n"
     ]
    },
    {
     "name": "stderr",
     "output_type": "stream",
     "text": [
      "[I 2025-08-04 22:21:22,454] Trial 10 finished with value: 0.9234934615557454 and parameters: {'learning_rate': 0.18932651176670068, 'num_leaves': 22, 'max_depth': 10, 'min_child_samples': 45, 'feature_fraction': 0.6299943634101233, 'bagging_fraction': 0.9977264239626358, 'lambda_l1': 0.03078555715800657, 'lambda_l2': 0.5984156245342547}. Best is trial 0 with value: 0.9346604952141284.\n",
      "[I 2025-08-04 22:21:22,649] Trial 11 finished with value: 0.9341212420797196 and parameters: {'learning_rate': 0.057082250065004655, 'num_leaves': 51, 'max_depth': 12, 'min_child_samples': 27, 'feature_fraction': 0.9934734531380193, 'bagging_fraction': 0.7945807511403531, 'lambda_l1': 0.9635198928092085, 'lambda_l2': 0.4690063715973063}. Best is trial 0 with value: 0.9346604952141284.\n"
     ]
    },
    {
     "name": "stdout",
     "output_type": "stream",
     "text": [
      "Training until validation scores don't improve for 30 rounds\n",
      "Did not meet early stopping. Best iteration is:\n",
      "[97]\tvalid_0's auc: 0.934121\n",
      "Training until validation scores don't improve for 30 rounds\n"
     ]
    },
    {
     "name": "stderr",
     "output_type": "stream",
     "text": [
      "[I 2025-08-04 22:21:22,799] Trial 12 finished with value: 0.9324136071540916 and parameters: {'learning_rate': 0.15697591583376125, 'num_leaves': 35, 'max_depth': 10, 'min_child_samples': 37, 'feature_fraction': 0.7914839089314228, 'bagging_fraction': 0.8981790891265476, 'lambda_l1': 0.7789066251224224, 'lambda_l2': 0.5300905087617583}. Best is trial 0 with value: 0.9346604952141284.\n",
      "[I 2025-08-04 22:21:22,920] Trial 13 finished with value: 0.9302790634970566 and parameters: {'learning_rate': 0.1947881671457717, 'num_leaves': 43, 'max_depth': 7, 'min_child_samples': 26, 'feature_fraction': 0.942841121230525, 'bagging_fraction': 0.626711331312507, 'lambda_l1': 0.23147205988951897, 'lambda_l2': 0.38508372195159263}. Best is trial 0 with value: 0.9346604952141284.\n"
     ]
    },
    {
     "name": "stdout",
     "output_type": "stream",
     "text": [
      "Did not meet early stopping. Best iteration is:\n",
      "[91]\tvalid_0's auc: 0.932414\n",
      "Training until validation scores don't improve for 30 rounds\n",
      "Early stopping, best iteration is:\n",
      "[67]\tvalid_0's auc: 0.930279\n",
      "Training until validation scores don't improve for 30 rounds\n"
     ]
    },
    {
     "name": "stderr",
     "output_type": "stream",
     "text": [
      "[I 2025-08-04 22:21:23,054] Trial 14 finished with value: 0.9281445198400216 and parameters: {'learning_rate': 0.14350643724124634, 'num_leaves': 60, 'max_depth': 7, 'min_child_samples': 37, 'feature_fraction': 0.715679303963857, 'bagging_fraction': 0.7945193505412658, 'lambda_l1': 0.8075086425633765, 'lambda_l2': 0.647440363408877}. Best is trial 0 with value: 0.9346604952141284.\n",
      "[I 2025-08-04 22:21:23,194] Trial 15 finished with value: 0.9311104120792703 and parameters: {'learning_rate': 0.10406178054524443, 'num_leaves': 28, 'max_depth': 12, 'min_child_samples': 22, 'feature_fraction': 0.8028448215623067, 'bagging_fraction': 0.956351997878547, 'lambda_l1': 0.6471360440058858, 'lambda_l2': 0.899960666150997}. Best is trial 0 with value: 0.9346604952141284.\n"
     ]
    },
    {
     "name": "stdout",
     "output_type": "stream",
     "text": [
      "Early stopping, best iteration is:\n",
      "[64]\tvalid_0's auc: 0.928145\n",
      "Training until validation scores don't improve for 30 rounds\n",
      "Did not meet early stopping. Best iteration is:\n",
      "[100]\tvalid_0's auc: 0.93111\n"
     ]
    },
    {
     "name": "stderr",
     "output_type": "stream",
     "text": [
      "[I 2025-08-04 22:21:23,344] Trial 16 finished with value: 0.9307733788702647 and parameters: {'learning_rate': 0.06379309071731017, 'num_leaves': 44, 'max_depth': 9, 'min_child_samples': 31, 'feature_fraction': 0.9560326107568894, 'bagging_fraction': 0.8305687977691528, 'lambda_l1': 0.9678748290182022, 'lambda_l2': 0.37616183526636493}. Best is trial 0 with value: 0.9346604952141284.\n"
     ]
    },
    {
     "name": "stdout",
     "output_type": "stream",
     "text": [
      "Training until validation scores don't improve for 30 rounds\n",
      "Did not meet early stopping. Best iteration is:\n",
      "[90]\tvalid_0's auc: 0.930773\n",
      "Training until validation scores don't improve for 30 rounds\n"
     ]
    },
    {
     "name": "stderr",
     "output_type": "stream",
     "text": [
      "[I 2025-08-04 22:21:23,465] Trial 17 finished with value: 0.9246169055857637 and parameters: {'learning_rate': 0.17389917343465267, 'num_leaves': 28, 'max_depth': 6, 'min_child_samples': 15, 'feature_fraction': 0.9008865655155732, 'bagging_fraction': 0.8718371648241492, 'lambda_l1': 0.305001790425939, 'lambda_l2': 0.4691195569626279}. Best is trial 0 with value: 0.9346604952141284.\n",
      "[I 2025-08-04 22:21:23,619] Trial 18 finished with value: 0.9329303914078999 and parameters: {'learning_rate': 0.14405410580815475, 'num_leaves': 64, 'max_depth': 10, 'min_child_samples': 41, 'feature_fraction': 0.6324463539952454, 'bagging_fraction': 0.7775299020415487, 'lambda_l1': 0.09012339861931462, 'lambda_l2': 0.6543090781754255}. Best is trial 0 with value: 0.9346604952141284.\n"
     ]
    },
    {
     "name": "stdout",
     "output_type": "stream",
     "text": [
      "Did not meet early stopping. Best iteration is:\n",
      "[90]\tvalid_0's auc: 0.924617\n",
      "Training until validation scores don't improve for 30 rounds\n",
      "Did not meet early stopping. Best iteration is:\n",
      "[87]\tvalid_0's auc: 0.93293\n"
     ]
    },
    {
     "name": "stderr",
     "output_type": "stream",
     "text": [
      "[I 2025-08-04 22:21:23,794] Trial 19 finished with value: 0.9054060126724487 and parameters: {'learning_rate': 0.010320344472562443, 'num_leaves': 38, 'max_depth': 9, 'min_child_samples': 50, 'feature_fraction': 0.9995861467843635, 'bagging_fraction': 0.9230255500659805, 'lambda_l1': 0.5767276500886478, 'lambda_l2': 0.9547938376767431}. Best is trial 0 with value: 0.9346604952141284.\n"
     ]
    },
    {
     "name": "stdout",
     "output_type": "stream",
     "text": [
      "Training until validation scores don't improve for 30 rounds\n",
      "Did not meet early stopping. Best iteration is:\n",
      "[100]\tvalid_0's auc: 0.905406\n",
      "Training until validation scores don't improve for 30 rounds\n"
     ]
    },
    {
     "name": "stderr",
     "output_type": "stream",
     "text": [
      "[I 2025-08-04 22:21:23,954] Trial 20 finished with value: 0.9322563249898891 and parameters: {'learning_rate': 0.1119557794512342, 'num_leaves': 28, 'max_depth': 11, 'min_child_samples': 25, 'feature_fraction': 0.8145246639953944, 'bagging_fraction': 0.83713336507686, 'lambda_l1': 0.7773087357478555, 'lambda_l2': 0.4071859902512451}. Best is trial 0 with value: 0.9346604952141284.\n",
      "[I 2025-08-04 22:21:24,114] Trial 21 finished with value: 0.939940682155215 and parameters: {'learning_rate': 0.12779571308313722, 'num_leaves': 52, 'max_depth': 8, 'min_child_samples': 21, 'feature_fraction': 0.7423321538139879, 'bagging_fraction': 0.6433960500876172, 'lambda_l1': 0.886015933801756, 'lambda_l2': 0.7628689972065891}. Best is trial 21 with value: 0.939940682155215.\n"
     ]
    },
    {
     "name": "stdout",
     "output_type": "stream",
     "text": [
      "Did not meet early stopping. Best iteration is:\n",
      "[88]\tvalid_0's auc: 0.932256\n",
      "Training until validation scores don't improve for 30 rounds\n",
      "Did not meet early stopping. Best iteration is:\n",
      "[96]\tvalid_0's auc: 0.939941\n"
     ]
    },
    {
     "name": "stderr",
     "output_type": "stream",
     "text": [
      "[I 2025-08-04 22:21:24,244] Trial 22 finished with value: 0.9289084617804341 and parameters: {'learning_rate': 0.12989612145113633, 'num_leaves': 50, 'max_depth': 6, 'min_child_samples': 22, 'feature_fraction': 0.7187731714213828, 'bagging_fraction': 0.6097936362463051, 'lambda_l1': 0.8481121437399516, 'lambda_l2': 0.5631532839426682}. Best is trial 21 with value: 0.939940682155215.\n"
     ]
    },
    {
     "name": "stdout",
     "output_type": "stream",
     "text": [
      "Training until validation scores don't improve for 30 rounds\n",
      "Did not meet early stopping. Best iteration is:\n",
      "[90]\tvalid_0's auc: 0.928908\n",
      "Training until validation scores don't improve for 30 rounds\n",
      "Early stopping, best iteration is:\n",
      "[65]\tvalid_0's auc: 0.933357\n"
     ]
    },
    {
     "name": "stderr",
     "output_type": "stream",
     "text": [
      "[I 2025-08-04 22:21:24,394] Trial 23 finished with value: 0.9333573001393071 and parameters: {'learning_rate': 0.15059143491631277, 'num_leaves': 49, 'max_depth': 9, 'min_child_samples': 14, 'feature_fraction': 0.762298794116335, 'bagging_fraction': 0.6597745569883227, 'lambda_l1': 0.9953524194559151, 'lambda_l2': 0.7076739426268716}. Best is trial 21 with value: 0.939940682155215.\n",
      "[I 2025-08-04 22:21:24,500] Trial 24 finished with value: 0.9262571338695906 and parameters: {'learning_rate': 0.1781957548320622, 'num_leaves': 56, 'max_depth': 3, 'min_child_samples': 29, 'feature_fraction': 0.6630778210443583, 'bagging_fraction': 0.7637120645646973, 'lambda_l1': 0.7345317649129259, 'lambda_l2': 0.8214926569805109}. Best is trial 21 with value: 0.939940682155215.\n"
     ]
    },
    {
     "name": "stdout",
     "output_type": "stream",
     "text": [
      "Training until validation scores don't improve for 30 rounds\n",
      "Did not meet early stopping. Best iteration is:\n",
      "[99]\tvalid_0's auc: 0.926257\n",
      "Training until validation scores don't improve for 30 rounds\n",
      "Did not meet early stopping. Best iteration is:\n",
      "[74]\tvalid_0's auc: 0.932728\n"
     ]
    },
    {
     "name": "stderr",
     "output_type": "stream",
     "text": [
      "[I 2025-08-04 22:21:24,664] Trial 25 finished with value: 0.9327281714824968 and parameters: {'learning_rate': 0.09715846291701387, 'num_leaves': 65, 'max_depth': 8, 'min_child_samples': 33, 'feature_fraction': 0.6783119953182118, 'bagging_fraction': 0.8577230448817164, 'lambda_l1': 0.8801011173469518, 'lambda_l2': 0.6085976082219263}. Best is trial 21 with value: 0.939940682155215.\n",
      "[I 2025-08-04 22:21:24,829] Trial 26 finished with value: 0.9305711589448613 and parameters: {'learning_rate': 0.13135190819195824, 'num_leaves': 80, 'max_depth': 11, 'min_child_samples': 21, 'feature_fraction': 0.8704460554332142, 'bagging_fraction': 0.6559926683566493, 'lambda_l1': 0.580847262390236, 'lambda_l2': 0.4981805547908657}. Best is trial 21 with value: 0.939940682155215.\n"
     ]
    },
    {
     "name": "stdout",
     "output_type": "stream",
     "text": [
      "Training until validation scores don't improve for 30 rounds\n",
      "Did not meet early stopping. Best iteration is:\n",
      "[72]\tvalid_0's auc: 0.930571\n",
      "Training until validation scores don't improve for 30 rounds\n"
     ]
    },
    {
     "name": "stderr",
     "output_type": "stream",
     "text": [
      "[I 2025-08-04 22:21:24,946] Trial 27 finished with value: 0.9209544780479036 and parameters: {'learning_rate': 0.0641389971739451, 'num_leaves': 20, 'max_depth': 6, 'min_child_samples': 24, 'feature_fraction': 0.9260172445304349, 'bagging_fraction': 0.9046336842316953, 'lambda_l1': 0.9219320701569276, 'lambda_l2': 0.3283051460946461}. Best is trial 21 with value: 0.939940682155215.\n",
      "[I 2025-08-04 22:21:25,080] Trial 28 finished with value: 0.9358401114456477 and parameters: {'learning_rate': 0.1767603767648553, 'num_leaves': 39, 'max_depth': 7, 'min_child_samples': 17, 'feature_fraction': 0.7707241251371895, 'bagging_fraction': 0.8132108617032479, 'lambda_l1': 0.7154543466398878, 'lambda_l2': 0.9869450317170014}. Best is trial 21 with value: 0.939940682155215.\n"
     ]
    },
    {
     "name": "stdout",
     "output_type": "stream",
     "text": [
      "Did not meet early stopping. Best iteration is:\n",
      "[100]\tvalid_0's auc: 0.920954\n",
      "Training until validation scores don't improve for 30 rounds\n",
      "Did not meet early stopping. Best iteration is:\n",
      "[72]\tvalid_0's auc: 0.93584\n",
      "Training until validation scores don't improve for 30 rounds\n"
     ]
    },
    {
     "name": "stderr",
     "output_type": "stream",
     "text": [
      "[I 2025-08-04 22:21:25,206] Trial 29 finished with value: 0.9280546443176201 and parameters: {'learning_rate': 0.17952464428369805, 'num_leaves': 41, 'max_depth': 7, 'min_child_samples': 35, 'feature_fraction': 0.7648926052520486, 'bagging_fraction': 0.7599354795947185, 'lambda_l1': 0.703278820533248, 'lambda_l2': 0.9911235711212262}. Best is trial 21 with value: 0.939940682155215.\n"
     ]
    },
    {
     "name": "stdout",
     "output_type": "stream",
     "text": [
      "Did not meet early stopping. Best iteration is:\n",
      "[91]\tvalid_0's auc: 0.928055\n",
      "✅ NR-AhR - AUC: 0.8812, Accuracy: 0.9115, Threshold: 0.43\n",
      "\n",
      "📍 Training for label 4/12: NR-Aromatase\n"
     ]
    },
    {
     "name": "stderr",
     "output_type": "stream",
     "text": [
      "[I 2025-08-04 22:21:27,675] A new study created in memory with name: no-name-aec4c9f8-1404-47df-b6d7-60a826c8b733\n"
     ]
    },
    {
     "name": "stdout",
     "output_type": "stream",
     "text": [
      "→ Reduced to 2055 features.\n",
      "Training until validation scores don't improve for 30 rounds\n",
      "Did not meet early stopping. Best iteration is:\n",
      "[100]\tvalid_0's auc: 0.918478\n"
     ]
    },
    {
     "name": "stderr",
     "output_type": "stream",
     "text": [
      "[I 2025-08-04 22:21:27,856] Trial 0 finished with value: 0.9184782608695653 and parameters: {'learning_rate': 0.11179002407239011, 'num_leaves': 23, 'max_depth': 5, 'min_child_samples': 43, 'feature_fraction': 0.8070938434886119, 'bagging_fraction': 0.9874858243739466, 'lambda_l1': 0.06200557316398625, 'lambda_l2': 0.4277540040496681}. Best is trial 0 with value: 0.9184782608695653.\n",
      "[I 2025-08-04 22:21:27,956] Trial 1 finished with value: 0.9105072463768116 and parameters: {'learning_rate': 0.011987748855285212, 'num_leaves': 34, 'max_depth': 6, 'min_child_samples': 49, 'feature_fraction': 0.6956624654541947, 'bagging_fraction': 0.9815035959363494, 'lambda_l1': 0.6241273631673658, 'lambda_l2': 0.8064070538942857}. Best is trial 0 with value: 0.9184782608695653.\n",
      "[I 2025-08-04 22:21:28,050] Trial 2 finished with value: 0.908574879227053 and parameters: {'learning_rate': 0.09503451749737711, 'num_leaves': 37, 'max_depth': 4, 'min_child_samples': 19, 'feature_fraction': 0.6616311520611816, 'bagging_fraction': 0.9499122218489942, 'lambda_l1': 0.029588177317065756, 'lambda_l2': 0.010175296574072012}. Best is trial 0 with value: 0.9184782608695653.\n"
     ]
    },
    {
     "name": "stdout",
     "output_type": "stream",
     "text": [
      "Training until validation scores don't improve for 30 rounds\n",
      "Early stopping, best iteration is:\n",
      "[30]\tvalid_0's auc: 0.910507\n",
      "Training until validation scores don't improve for 30 rounds\n",
      "Did not meet early stopping. Best iteration is:\n",
      "[99]\tvalid_0's auc: 0.908575\n",
      "Training until validation scores don't improve for 30 rounds\n",
      "Did not meet early stopping. Best iteration is:\n",
      "[92]\tvalid_0's auc: 0.903382\n"
     ]
    },
    {
     "name": "stderr",
     "output_type": "stream",
     "text": [
      "[I 2025-08-04 22:21:28,124] Trial 3 finished with value: 0.9033816425120773 and parameters: {'learning_rate': 0.0718213053010877, 'num_leaves': 36, 'max_depth': 3, 'min_child_samples': 18, 'feature_fraction': 0.9384422957474208, 'bagging_fraction': 0.7941463665920181, 'lambda_l1': 0.7342747778338329, 'lambda_l2': 0.3439504979414111}. Best is trial 0 with value: 0.9184782608695653.\n",
      "[I 2025-08-04 22:21:28,224] Trial 4 finished with value: 0.9060386473429952 and parameters: {'learning_rate': 0.06415771979009244, 'num_leaves': 41, 'max_depth': 4, 'min_child_samples': 33, 'feature_fraction': 0.6988532226101789, 'bagging_fraction': 0.6979503183196996, 'lambda_l1': 0.31521130091908334, 'lambda_l2': 0.7665527933790248}. Best is trial 0 with value: 0.9184782608695653.\n",
      "[I 2025-08-04 22:21:28,310] Trial 5 finished with value: 0.8996980676328502 and parameters: {'learning_rate': 0.021267429546999846, 'num_leaves': 43, 'max_depth': 5, 'min_child_samples': 40, 'feature_fraction': 0.8615593739334624, 'bagging_fraction': 0.7990268749365029, 'lambda_l1': 0.14311201641366433, 'lambda_l2': 0.6963972551274796}. Best is trial 0 with value: 0.9184782608695653.\n"
     ]
    },
    {
     "name": "stdout",
     "output_type": "stream",
     "text": [
      "Training until validation scores don't improve for 30 rounds\n",
      "Did not meet early stopping. Best iteration is:\n",
      "[99]\tvalid_0's auc: 0.906039\n",
      "Training until validation scores don't improve for 30 rounds\n",
      "Early stopping, best iteration is:\n",
      "[30]\tvalid_0's auc: 0.899698\n",
      "Training until validation scores don't improve for 30 rounds\n"
     ]
    },
    {
     "name": "stderr",
     "output_type": "stream",
     "text": [
      "[I 2025-08-04 22:21:28,464] Trial 6 finished with value: 0.8933574879227053 and parameters: {'learning_rate': 0.06807516391702113, 'num_leaves': 74, 'max_depth': 11, 'min_child_samples': 28, 'feature_fraction': 0.8504007221376386, 'bagging_fraction': 0.8798345264354066, 'lambda_l1': 0.4669294985659165, 'lambda_l2': 0.1674410796339193}. Best is trial 0 with value: 0.9184782608695653.\n",
      "[I 2025-08-04 22:21:28,559] Trial 7 finished with value: 0.9004528985507246 and parameters: {'learning_rate': 0.07702697424944396, 'num_leaves': 60, 'max_depth': 7, 'min_child_samples': 35, 'feature_fraction': 0.6135035293080643, 'bagging_fraction': 0.9145140882643724, 'lambda_l1': 0.7906736093722837, 'lambda_l2': 0.19440735378542195}. Best is trial 0 with value: 0.9184782608695653.\n"
     ]
    },
    {
     "name": "stdout",
     "output_type": "stream",
     "text": [
      "Did not meet early stopping. Best iteration is:\n",
      "[79]\tvalid_0's auc: 0.893357\n",
      "Training until validation scores don't improve for 30 rounds\n",
      "Early stopping, best iteration is:\n",
      "[6]\tvalid_0's auc: 0.900453\n",
      "Training until validation scores don't improve for 30 rounds\n",
      "Early stopping, best iteration is:\n",
      "[10]\tvalid_0's auc: 0.902778\n"
     ]
    },
    {
     "name": "stderr",
     "output_type": "stream",
     "text": [
      "[I 2025-08-04 22:21:28,635] Trial 8 finished with value: 0.9027777777777779 and parameters: {'learning_rate': 0.06137492324231971, 'num_leaves': 42, 'max_depth': 5, 'min_child_samples': 34, 'feature_fraction': 0.9937224054992121, 'bagging_fraction': 0.9582343670457735, 'lambda_l1': 0.3633434029456599, 'lambda_l2': 0.21288895389038154}. Best is trial 0 with value: 0.9184782608695653.\n",
      "[I 2025-08-04 22:21:28,736] Trial 9 finished with value: 0.9150966183574879 and parameters: {'learning_rate': 0.08606179607004721, 'num_leaves': 25, 'max_depth': 8, 'min_child_samples': 32, 'feature_fraction': 0.7071028846491889, 'bagging_fraction': 0.908914311257148, 'lambda_l1': 0.704845988906398, 'lambda_l2': 0.9083905620900192}. Best is trial 0 with value: 0.9184782608695653.\n"
     ]
    },
    {
     "name": "stdout",
     "output_type": "stream",
     "text": [
      "Training until validation scores don't improve for 30 rounds\n",
      "Early stopping, best iteration is:\n",
      "[63]\tvalid_0's auc: 0.915097\n",
      "Training until validation scores don't improve for 30 rounds\n",
      "Early stopping, best iteration is:\n",
      "[50]\tvalid_0's auc: 0.904408\n"
     ]
    },
    {
     "name": "stderr",
     "output_type": "stream",
     "text": [
      "[I 2025-08-04 22:21:28,849] Trial 10 finished with value: 0.9044082125603865 and parameters: {'learning_rate': 0.1569680128077932, 'num_leaves': 20, 'max_depth': 10, 'min_child_samples': 50, 'feature_fraction': 0.7644910008553838, 'bagging_fraction': 0.6137411507427273, 'lambda_l1': 0.9904145509063678, 'lambda_l2': 0.5313883416297782}. Best is trial 0 with value: 0.9184782608695653.\n",
      "[I 2025-08-04 22:21:28,941] Trial 11 finished with value: 0.8838466183574879 and parameters: {'learning_rate': 0.13966193157966972, 'num_leaves': 22, 'max_depth': 9, 'min_child_samples': 43, 'feature_fraction': 0.7791937868469893, 'bagging_fraction': 0.8765765240891148, 'lambda_l1': 0.9076574111936823, 'lambda_l2': 0.5547847579281064}. Best is trial 0 with value: 0.9184782608695653.\n",
      "[I 2025-08-04 22:21:29,050] Trial 12 finished with value: 0.910084541062802 and parameters: {'learning_rate': 0.19495546856457963, 'num_leaves': 27, 'max_depth': 8, 'min_child_samples': 25, 'feature_fraction': 0.7485664507262506, 'bagging_fraction': 0.9955435732058616, 'lambda_l1': 0.6141168867556229, 'lambda_l2': 0.9466369334894843}. Best is trial 0 with value: 0.9184782608695653.\n"
     ]
    },
    {
     "name": "stdout",
     "output_type": "stream",
     "text": [
      "Training until validation scores don't improve for 30 rounds\n",
      "Early stopping, best iteration is:\n",
      "[4]\tvalid_0's auc: 0.883847\n",
      "Training until validation scores don't improve for 30 rounds\n",
      "Early stopping, best iteration is:\n",
      "[33]\tvalid_0's auc: 0.910085\n"
     ]
    },
    {
     "name": "stderr",
     "output_type": "stream",
     "text": [
      "[I 2025-08-04 22:21:29,220] Trial 13 finished with value: 0.9195048309178744 and parameters: {'learning_rate': 0.12382255324915883, 'num_leaves': 56, 'max_depth': 12, 'min_child_samples': 42, 'feature_fraction': 0.8456762775100001, 'bagging_fraction': 0.8513044784976237, 'lambda_l1': 0.23637137075915163, 'lambda_l2': 0.9813342412742553}. Best is trial 13 with value: 0.9195048309178744.\n"
     ]
    },
    {
     "name": "stdout",
     "output_type": "stream",
     "text": [
      "Training until validation scores don't improve for 30 rounds\n",
      "Early stopping, best iteration is:\n",
      "[43]\tvalid_0's auc: 0.919505\n",
      "Training until validation scores don't improve for 30 rounds\n"
     ]
    },
    {
     "name": "stderr",
     "output_type": "stream",
     "text": [
      "[I 2025-08-04 22:21:29,374] Trial 14 finished with value: 0.9098429951690821 and parameters: {'learning_rate': 0.12700965327521363, 'num_leaves': 56, 'max_depth': 12, 'min_child_samples': 41, 'feature_fraction': 0.8468907357250017, 'bagging_fraction': 0.7487178725492296, 'lambda_l1': 0.18801796432055046, 'lambda_l2': 0.420158834172394}. Best is trial 13 with value: 0.9195048309178744.\n",
      "[I 2025-08-04 22:21:29,494] Trial 15 finished with value: 0.8946256038647343 and parameters: {'learning_rate': 0.11983282193228476, 'num_leaves': 71, 'max_depth': 12, 'min_child_samples': 44, 'feature_fraction': 0.9141224669796406, 'bagging_fraction': 0.8531064153862349, 'lambda_l1': 0.0015325949470679223, 'lambda_l2': 0.5642353905659483}. Best is trial 13 with value: 0.9195048309178744.\n"
     ]
    },
    {
     "name": "stdout",
     "output_type": "stream",
     "text": [
      "Early stopping, best iteration is:\n",
      "[42]\tvalid_0's auc: 0.909843\n",
      "Training until validation scores don't improve for 30 rounds\n",
      "Early stopping, best iteration is:\n",
      "[5]\tvalid_0's auc: 0.894626\n"
     ]
    },
    {
     "name": "stderr",
     "output_type": "stream",
     "text": [
      "[I 2025-08-04 22:21:29,644] Trial 16 finished with value: 0.9276570048309178 and parameters: {'learning_rate': 0.1668467822048144, 'num_leaves': 64, 'max_depth': 6, 'min_child_samples': 46, 'feature_fraction': 0.8236055236765766, 'bagging_fraction': 0.7155171797288835, 'lambda_l1': 0.23000271506251269, 'lambda_l2': 0.6625828051908648}. Best is trial 16 with value: 0.9276570048309178.\n",
      "[I 2025-08-04 22:21:29,784] Trial 17 finished with value: 0.9147946859903381 and parameters: {'learning_rate': 0.17456828382344328, 'num_leaves': 65, 'max_depth': 10, 'min_child_samples': 38, 'feature_fraction': 0.9122770298218591, 'bagging_fraction': 0.6763225052349026, 'lambda_l1': 0.27269101365008086, 'lambda_l2': 0.9967693778288814}. Best is trial 16 with value: 0.9276570048309178.\n"
     ]
    },
    {
     "name": "stdout",
     "output_type": "stream",
     "text": [
      "Training until validation scores don't improve for 30 rounds\n",
      "Early stopping, best iteration is:\n",
      "[28]\tvalid_0's auc: 0.927657\n",
      "Training until validation scores don't improve for 30 rounds\n",
      "Early stopping, best iteration is:\n",
      "[50]\tvalid_0's auc: 0.914795\n"
     ]
    },
    {
     "name": "stderr",
     "output_type": "stream",
     "text": [
      "[I 2025-08-04 22:21:29,899] Trial 18 finished with value: 0.9166666666666666 and parameters: {'learning_rate': 0.152643662664315, 'num_leaves': 80, 'max_depth': 7, 'min_child_samples': 47, 'feature_fraction': 0.8138613086416289, 'bagging_fraction': 0.7331858165776508, 'lambda_l1': 0.4392464263131912, 'lambda_l2': 0.6733631620110976}. Best is trial 16 with value: 0.9276570048309178.\n",
      "[I 2025-08-04 22:21:30,013] Trial 19 finished with value: 0.9004227053140096 and parameters: {'learning_rate': 0.18716000037903602, 'num_leaves': 52, 'max_depth': 9, 'min_child_samples': 10, 'feature_fraction': 0.865506640705644, 'bagging_fraction': 0.8360323281711326, 'lambda_l1': 0.1849186161901115, 'lambda_l2': 0.8479409259223243}. Best is trial 16 with value: 0.9276570048309178.\n"
     ]
    },
    {
     "name": "stdout",
     "output_type": "stream",
     "text": [
      "Training until validation scores don't improve for 30 rounds\n",
      "Did not meet early stopping. Best iteration is:\n",
      "[83]\tvalid_0's auc: 0.916667\n",
      "Training until validation scores don't improve for 30 rounds\n",
      "Early stopping, best iteration is:\n",
      "[31]\tvalid_0's auc: 0.900423\n"
     ]
    },
    {
     "name": "stderr",
     "output_type": "stream",
     "text": [
      "[I 2025-08-04 22:21:30,128] Trial 20 finished with value: 0.9134057971014493 and parameters: {'learning_rate': 0.1681807243503086, 'num_leaves': 63, 'max_depth': 6, 'min_child_samples': 46, 'feature_fraction': 0.9846669843599581, 'bagging_fraction': 0.6359515885784408, 'lambda_l1': 0.2583134988306243, 'lambda_l2': 0.6846480394150037}. Best is trial 16 with value: 0.9276570048309178.\n",
      "[I 2025-08-04 22:21:30,223] Trial 21 finished with value: 0.9070652173913044 and parameters: {'learning_rate': 0.12168635199587247, 'num_leaves': 49, 'max_depth': 6, 'min_child_samples': 38, 'feature_fraction': 0.800010681382523, 'bagging_fraction': 0.7575862174216257, 'lambda_l1': 0.08247849027071226, 'lambda_l2': 0.3464760502875954}. Best is trial 16 with value: 0.9276570048309178.\n"
     ]
    },
    {
     "name": "stdout",
     "output_type": "stream",
     "text": [
      "Training until validation scores don't improve for 30 rounds\n",
      "Did not meet early stopping. Best iteration is:\n",
      "[79]\tvalid_0's auc: 0.913406\n",
      "Training until validation scores don't improve for 30 rounds\n",
      "Early stopping, best iteration is:\n",
      "[54]\tvalid_0's auc: 0.907065\n"
     ]
    },
    {
     "name": "stderr",
     "output_type": "stream",
     "text": [
      "[I 2025-08-04 22:21:30,333] Trial 22 finished with value: 0.9243357487922705 and parameters: {'learning_rate': 0.10650133981766413, 'num_leaves': 50, 'max_depth': 5, 'min_child_samples': 45, 'feature_fraction': 0.820945255197674, 'bagging_fraction': 0.6930122692552713, 'lambda_l1': 0.10203933088498365, 'lambda_l2': 0.4395706383863739}. Best is trial 16 with value: 0.9276570048309178.\n",
      "[I 2025-08-04 22:21:30,429] Trial 23 finished with value: 0.9053140096618357 and parameters: {'learning_rate': 0.13978389395287658, 'num_leaves': 49, 'max_depth': 3, 'min_child_samples': 46, 'feature_fraction': 0.8893186632095091, 'bagging_fraction': 0.6747395855507526, 'lambda_l1': 0.38898901174865025, 'lambda_l2': 0.6212692267457555}. Best is trial 16 with value: 0.9276570048309178.\n"
     ]
    },
    {
     "name": "stdout",
     "output_type": "stream",
     "text": [
      "Training until validation scores don't improve for 30 rounds\n",
      "Did not meet early stopping. Best iteration is:\n",
      "[99]\tvalid_0's auc: 0.924336\n",
      "Training until validation scores don't improve for 30 rounds\n",
      "Did not meet early stopping. Best iteration is:\n",
      "[95]\tvalid_0's auc: 0.905314\n",
      "Training until validation scores don't improve for 30 rounds\n"
     ]
    },
    {
     "name": "stderr",
     "output_type": "stream",
     "text": [
      "[I 2025-08-04 22:21:30,533] Trial 24 finished with value: 0.9093599033816425 and parameters: {'learning_rate': 0.1048782271005334, 'num_leaves': 56, 'max_depth': 4, 'min_child_samples': 50, 'feature_fraction': 0.8270552848907475, 'bagging_fraction': 0.7141559224072536, 'lambda_l1': 0.15124965091029763, 'lambda_l2': 0.4778862377689051}. Best is trial 16 with value: 0.9276570048309178.\n",
      "[I 2025-08-04 22:21:30,623] Trial 25 finished with value: 0.907518115942029 and parameters: {'learning_rate': 0.03851535640129308, 'num_leaves': 68, 'max_depth': 7, 'min_child_samples': 37, 'feature_fraction': 0.7450974866473539, 'bagging_fraction': 0.7715061091055755, 'lambda_l1': 0.2659434967108964, 'lambda_l2': 0.7365223274398243}. Best is trial 16 with value: 0.9276570048309178.\n"
     ]
    },
    {
     "name": "stdout",
     "output_type": "stream",
     "text": [
      "Did not meet early stopping. Best iteration is:\n",
      "[100]\tvalid_0's auc: 0.90936\n",
      "Training until validation scores don't improve for 30 rounds\n",
      "Early stopping, best iteration is:\n",
      "[8]\tvalid_0's auc: 0.907518\n",
      "Training until validation scores don't improve for 30 rounds\n"
     ]
    },
    {
     "name": "stderr",
     "output_type": "stream",
     "text": [
      "[I 2025-08-04 22:21:30,744] Trial 26 finished with value: 0.9304347826086956 and parameters: {'learning_rate': 0.13716497405765257, 'num_leaves': 59, 'max_depth': 6, 'min_child_samples': 41, 'feature_fraction': 0.9423253927937918, 'bagging_fraction': 0.6560445601422722, 'lambda_l1': 0.11118492957323986, 'lambda_l2': 0.8561458408905062}. Best is trial 26 with value: 0.9304347826086956.\n",
      "[I 2025-08-04 22:21:30,850] Trial 27 finished with value: 0.9027173913043479 and parameters: {'learning_rate': 0.14199517235245815, 'num_leaves': 61, 'max_depth': 6, 'min_child_samples': 28, 'feature_fraction': 0.9609298251504302, 'bagging_fraction': 0.65026631920442, 'lambda_l1': 0.11117224491250559, 'lambda_l2': 0.8614664660128621}. Best is trial 26 with value: 0.9304347826086956.\n"
     ]
    },
    {
     "name": "stdout",
     "output_type": "stream",
     "text": [
      "Early stopping, best iteration is:\n",
      "[62]\tvalid_0's auc: 0.930435\n",
      "Training until validation scores don't improve for 30 rounds\n",
      "Early stopping, best iteration is:\n",
      "[39]\tvalid_0's auc: 0.902717\n",
      "Training until validation scores don't improve for 30 rounds\n"
     ]
    },
    {
     "name": "stderr",
     "output_type": "stream",
     "text": [
      "[I 2025-08-04 22:21:30,954] Trial 28 finished with value: 0.9133454106280192 and parameters: {'learning_rate': 0.1789961426992418, 'num_leaves': 76, 'max_depth': 5, 'min_child_samples': 46, 'feature_fraction': 0.910190821901319, 'bagging_fraction': 0.6048269749712747, 'lambda_l1': 0.0015615661795277264, 'lambda_l2': 0.6263467174189751}. Best is trial 26 with value: 0.9304347826086956.\n",
      "[I 2025-08-04 22:21:31,033] Trial 29 finished with value: 0.9054649758454106 and parameters: {'learning_rate': 0.10598984653319765, 'num_leaves': 68, 'max_depth': 4, 'min_child_samples': 44, 'feature_fraction': 0.9505119083485727, 'bagging_fraction': 0.7010193610048058, 'lambda_l1': 0.07082942172252235, 'lambda_l2': 0.4254853619267648}. Best is trial 26 with value: 0.9304347826086956.\n"
     ]
    },
    {
     "name": "stdout",
     "output_type": "stream",
     "text": [
      "Early stopping, best iteration is:\n",
      "[68]\tvalid_0's auc: 0.913345\n",
      "Training until validation scores don't improve for 30 rounds\n",
      "Early stopping, best iteration is:\n",
      "[15]\tvalid_0's auc: 0.905465\n",
      "✅ NR-Aromatase - AUC: 0.8284, Accuracy: 0.9571, Threshold: 0.35\n",
      "\n",
      "📍 Training for label 5/12: NR-ER\n"
     ]
    },
    {
     "name": "stderr",
     "output_type": "stream",
     "text": [
      "[I 2025-08-04 22:21:33,506] A new study created in memory with name: no-name-ec7bb53f-87ec-40d4-b1c4-b558b1e3c766\n"
     ]
    },
    {
     "name": "stdout",
     "output_type": "stream",
     "text": [
      "→ Reduced to 2055 features.\n",
      "Training until validation scores don't improve for 30 rounds\n",
      "Early stopping, best iteration is:\n",
      "[7]\tvalid_0's auc: 0.771531\n"
     ]
    },
    {
     "name": "stderr",
     "output_type": "stream",
     "text": [
      "[I 2025-08-04 22:21:33,696] Trial 0 finished with value: 0.771530707923113 and parameters: {'learning_rate': 0.03378457329173453, 'num_leaves': 30, 'max_depth': 11, 'min_child_samples': 27, 'feature_fraction': 0.9808507777224518, 'bagging_fraction': 0.8349099602227102, 'lambda_l1': 0.3897009515574875, 'lambda_l2': 0.9988927001794122}. Best is trial 0 with value: 0.771530707923113.\n",
      "[I 2025-08-04 22:21:33,794] Trial 1 finished with value: 0.7789263947491795 and parameters: {'learning_rate': 0.13303003563993698, 'num_leaves': 70, 'max_depth': 3, 'min_child_samples': 50, 'feature_fraction': 0.6162546333210285, 'bagging_fraction': 0.8421517935375125, 'lambda_l1': 0.9934047909150818, 'lambda_l2': 0.16688933298642683}. Best is trial 1 with value: 0.7789263947491795.\n",
      "[I 2025-08-04 22:21:33,904] Trial 2 finished with value: 0.7666080637599625 and parameters: {'learning_rate': 0.12335031383189507, 'num_leaves': 67, 'max_depth': 9, 'min_child_samples': 16, 'feature_fraction': 0.7185758209265332, 'bagging_fraction': 0.8547517966875525, 'lambda_l1': 0.6017665104664885, 'lambda_l2': 0.3939241277475283}. Best is trial 1 with value: 0.7789263947491795.\n"
     ]
    },
    {
     "name": "stdout",
     "output_type": "stream",
     "text": [
      "Training until validation scores don't improve for 30 rounds\n",
      "Early stopping, best iteration is:\n",
      "[45]\tvalid_0's auc: 0.778926\n",
      "Training until validation scores don't improve for 30 rounds\n",
      "Early stopping, best iteration is:\n",
      "[70]\tvalid_0's auc: 0.766608\n",
      "Training until validation scores don't improve for 30 rounds\n"
     ]
    },
    {
     "name": "stderr",
     "output_type": "stream",
     "text": [
      "[I 2025-08-04 22:21:34,019] Trial 3 finished with value: 0.7761017346460384 and parameters: {'learning_rate': 0.08394205938429515, 'num_leaves': 68, 'max_depth': 12, 'min_child_samples': 17, 'feature_fraction': 0.7560541040109753, 'bagging_fraction': 0.9469516649949837, 'lambda_l1': 0.4762627829271181, 'lambda_l2': 0.6243727520886533}. Best is trial 1 with value: 0.7789263947491795.\n",
      "[I 2025-08-04 22:21:34,089] Trial 4 finished with value: 0.7940693858415377 and parameters: {'learning_rate': 0.17945548470870398, 'num_leaves': 40, 'max_depth': 6, 'min_child_samples': 23, 'feature_fraction': 0.6550402569601961, 'bagging_fraction': 0.8852337471704941, 'lambda_l1': 0.23654672665281173, 'lambda_l2': 0.03602098671410603}. Best is trial 4 with value: 0.7940693858415377.\n"
     ]
    },
    {
     "name": "stdout",
     "output_type": "stream",
     "text": [
      "Early stopping, best iteration is:\n",
      "[9]\tvalid_0's auc: 0.776102\n",
      "Training until validation scores don't improve for 30 rounds\n",
      "Early stopping, best iteration is:\n",
      "[24]\tvalid_0's auc: 0.794069\n",
      "Training until validation scores don't improve for 30 rounds\n",
      "Did not meet early stopping. Best iteration is:\n",
      "[79]\tvalid_0's auc: 0.793425\n"
     ]
    },
    {
     "name": "stderr",
     "output_type": "stream",
     "text": [
      "[I 2025-08-04 22:21:34,214] Trial 5 finished with value: 0.7934247538677919 and parameters: {'learning_rate': 0.0965034749969046, 'num_leaves': 22, 'max_depth': 8, 'min_child_samples': 16, 'feature_fraction': 0.8964216837865528, 'bagging_fraction': 0.7804293517963388, 'lambda_l1': 0.7231414928978402, 'lambda_l2': 0.5439169934658546}. Best is trial 4 with value: 0.7940693858415377.\n",
      "[I 2025-08-04 22:21:34,303] Trial 6 finished with value: 0.7824542897327706 and parameters: {'learning_rate': 0.1427296608263411, 'num_leaves': 48, 'max_depth': 3, 'min_child_samples': 14, 'feature_fraction': 0.8856282406457539, 'bagging_fraction': 0.9230651853469267, 'lambda_l1': 0.01975679965623267, 'lambda_l2': 0.3900509033969626}. Best is trial 4 with value: 0.7940693858415377.\n"
     ]
    },
    {
     "name": "stdout",
     "output_type": "stream",
     "text": [
      "Training until validation scores don't improve for 30 rounds\n",
      "Did not meet early stopping. Best iteration is:\n",
      "[77]\tvalid_0's auc: 0.782454\n",
      "Training until validation scores don't improve for 30 rounds\n",
      "Early stopping, best iteration is:\n",
      "[43]\tvalid_0's auc: 0.768823\n"
     ]
    },
    {
     "name": "stderr",
     "output_type": "stream",
     "text": [
      "[I 2025-08-04 22:21:34,469] Trial 7 finished with value: 0.7688232536333802 and parameters: {'learning_rate': 0.06503291390285268, 'num_leaves': 39, 'max_depth': 12, 'min_child_samples': 10, 'feature_fraction': 0.9129963990830836, 'bagging_fraction': 0.8814498500255874, 'lambda_l1': 0.601277256683799, 'lambda_l2': 0.1393350401488791}. Best is trial 4 with value: 0.7940693858415377.\n",
      "[I 2025-08-04 22:21:34,599] Trial 8 finished with value: 0.7804617909048288 and parameters: {'learning_rate': 0.06693007256556895, 'num_leaves': 25, 'max_depth': 7, 'min_child_samples': 24, 'feature_fraction': 0.9541296587799427, 'bagging_fraction': 0.9066146609860913, 'lambda_l1': 0.34522743900646247, 'lambda_l2': 0.24304148338488207}. Best is trial 4 with value: 0.7940693858415377.\n",
      "[I 2025-08-04 22:21:34,700] Trial 9 finished with value: 0.7956516643225504 and parameters: {'learning_rate': 0.1985446229409647, 'num_leaves': 45, 'max_depth': 4, 'min_child_samples': 41, 'feature_fraction': 0.6339158705834027, 'bagging_fraction': 0.6717505341316092, 'lambda_l1': 0.6903536024743455, 'lambda_l2': 0.01854174674615139}. Best is trial 9 with value: 0.7956516643225504.\n"
     ]
    },
    {
     "name": "stdout",
     "output_type": "stream",
     "text": [
      "Training until validation scores don't improve for 30 rounds\n",
      "Early stopping, best iteration is:\n",
      "[68]\tvalid_0's auc: 0.780462\n",
      "Training until validation scores don't improve for 30 rounds\n",
      "Early stopping, best iteration is:\n",
      "[56]\tvalid_0's auc: 0.795652\n"
     ]
    },
    {
     "name": "stderr",
     "output_type": "stream",
     "text": [
      "[I 2025-08-04 22:21:34,794] Trial 10 finished with value: 0.7760900140646977 and parameters: {'learning_rate': 0.19982085121678295, 'num_leaves': 57, 'max_depth': 5, 'min_child_samples': 43, 'feature_fraction': 0.6888968643588549, 'bagging_fraction': 0.6292773466245446, 'lambda_l1': 0.9016565184039247, 'lambda_l2': 0.7376664899081589}. Best is trial 9 with value: 0.7956516643225504.\n",
      "[I 2025-08-04 22:21:34,944] Trial 11 finished with value: 0.7773206751054852 and parameters: {'learning_rate': 0.1997213670557724, 'num_leaves': 43, 'max_depth': 5, 'min_child_samples': 36, 'feature_fraction': 0.6082417569631305, 'bagging_fraction': 0.7306213561889776, 'lambda_l1': 0.189352087190102, 'lambda_l2': 0.02818137394988207}. Best is trial 9 with value: 0.7956516643225504.\n"
     ]
    },
    {
     "name": "stdout",
     "output_type": "stream",
     "text": [
      "Training until validation scores don't improve for 30 rounds\n",
      "Early stopping, best iteration is:\n",
      "[12]\tvalid_0's auc: 0.77609\n",
      "Training until validation scores don't improve for 30 rounds\n",
      "Did not meet early stopping. Best iteration is:\n",
      "[71]\tvalid_0's auc: 0.777321\n"
     ]
    },
    {
     "name": "stderr",
     "output_type": "stream",
     "text": [
      "[I 2025-08-04 22:21:35,044] Trial 12 finished with value: 0.7878574777308955 and parameters: {'learning_rate': 0.16994790889288036, 'num_leaves': 36, 'max_depth': 5, 'min_child_samples': 35, 'feature_fraction': 0.6701363962903745, 'bagging_fraction': 0.9960798146145415, 'lambda_l1': 0.20411046730460958, 'lambda_l2': 0.010126338192700063}. Best is trial 9 with value: 0.7956516643225504.\n",
      "[I 2025-08-04 22:21:35,134] Trial 13 finished with value: 0.7699367088607595 and parameters: {'learning_rate': 0.16891516226633516, 'num_leaves': 53, 'max_depth': 6, 'min_child_samples': 34, 'feature_fraction': 0.823389850840689, 'bagging_fraction': 0.605976006472347, 'lambda_l1': 0.7765077410577128, 'lambda_l2': 0.2279963210970172}. Best is trial 9 with value: 0.7956516643225504.\n"
     ]
    },
    {
     "name": "stdout",
     "output_type": "stream",
     "text": [
      "Training until validation scores don't improve for 30 rounds\n",
      "Early stopping, best iteration is:\n",
      "[48]\tvalid_0's auc: 0.787857\n",
      "Training until validation scores don't improve for 30 rounds\n",
      "Early stopping, best iteration is:\n",
      "[22]\tvalid_0's auc: 0.769937\n",
      "Training until validation scores don't improve for 30 rounds\n"
     ]
    },
    {
     "name": "stderr",
     "output_type": "stream",
     "text": [
      "[I 2025-08-04 22:21:35,250] Trial 14 finished with value: 0.794690576652602 and parameters: {'learning_rate': 0.16702252892303385, 'num_leaves': 59, 'max_depth': 4, 'min_child_samples': 43, 'feature_fraction': 0.7979755548623657, 'bagging_fraction': 0.673376479634153, 'lambda_l1': 0.028146679156717425, 'lambda_l2': 0.3394474366013949}. Best is trial 9 with value: 0.7956516643225504.\n",
      "[I 2025-08-04 22:21:35,344] Trial 15 finished with value: 0.7853609939052977 and parameters: {'learning_rate': 0.14966466578030713, 'num_leaves': 78, 'max_depth': 3, 'min_child_samples': 44, 'feature_fraction': 0.8046184658206577, 'bagging_fraction': 0.6873518948266285, 'lambda_l1': 0.7058333787934068, 'lambda_l2': 0.3631684018734859}. Best is trial 9 with value: 0.7956516643225504.\n"
     ]
    },
    {
     "name": "stdout",
     "output_type": "stream",
     "text": [
      "Did not meet early stopping. Best iteration is:\n",
      "[83]\tvalid_0's auc: 0.794691\n",
      "Training until validation scores don't improve for 30 rounds\n",
      "Did not meet early stopping. Best iteration is:\n",
      "[90]\tvalid_0's auc: 0.785361\n",
      "Training until validation scores don't improve for 30 rounds\n"
     ]
    },
    {
     "name": "stderr",
     "output_type": "stream",
     "text": [
      "[I 2025-08-04 22:21:35,476] Trial 16 finished with value: 0.7921589310829817 and parameters: {'learning_rate': 0.16105842388219493, 'num_leaves': 59, 'max_depth': 4, 'min_child_samples': 42, 'feature_fraction': 0.7557586435980608, 'bagging_fraction': 0.6768709701270194, 'lambda_l1': 0.01920549442815659, 'lambda_l2': 0.7973243223084235}. Best is trial 9 with value: 0.7956516643225504.\n",
      "[I 2025-08-04 22:21:35,610] Trial 17 finished with value: 0.7742498827941866 and parameters: {'learning_rate': 0.11341151469509479, 'num_leaves': 48, 'max_depth': 9, 'min_child_samples': 49, 'feature_fraction': 0.8301707973936299, 'bagging_fraction': 0.7660514888118205, 'lambda_l1': 0.5689873638284288, 'lambda_l2': 0.31380298085985725}. Best is trial 9 with value: 0.7956516643225504.\n"
     ]
    },
    {
     "name": "stdout",
     "output_type": "stream",
     "text": [
      "Early stopping, best iteration is:\n",
      "[61]\tvalid_0's auc: 0.792159\n",
      "Training until validation scores don't improve for 30 rounds\n",
      "Early stopping, best iteration is:\n",
      "[49]\tvalid_0's auc: 0.77425\n"
     ]
    },
    {
     "name": "stderr",
     "output_type": "stream",
     "text": [
      "[I 2025-08-04 22:21:35,699] Trial 18 finished with value: 0.7874238162212845 and parameters: {'learning_rate': 0.18287945087987145, 'num_leaves': 58, 'max_depth': 4, 'min_child_samples': 38, 'feature_fraction': 0.7571440379564809, 'bagging_fraction': 0.6663701347207173, 'lambda_l1': 0.4012397910605651, 'lambda_l2': 0.5039133785245254}. Best is trial 9 with value: 0.7956516643225504.\n"
     ]
    },
    {
     "name": "stdout",
     "output_type": "stream",
     "text": [
      "Training until validation scores don't improve for 30 rounds\n",
      "Early stopping, best iteration is:\n",
      "[40]\tvalid_0's auc: 0.787424\n",
      "Training until validation scores don't improve for 30 rounds\n",
      "Early stopping, best iteration is:\n",
      "[30]\tvalid_0's auc: 0.760748\n"
     ]
    },
    {
     "name": "stderr",
     "output_type": "stream",
     "text": [
      "[I 2025-08-04 22:21:35,851] Trial 19 finished with value: 0.7607477730895451 and parameters: {'learning_rate': 0.011091983881095252, 'num_leaves': 64, 'max_depth': 7, 'min_child_samples': 31, 'feature_fraction': 0.8483936662679563, 'bagging_fraction': 0.7304866332018874, 'lambda_l1': 0.09583888926131046, 'lambda_l2': 0.10370841007360902}. Best is trial 9 with value: 0.7956516643225504.\n",
      "[I 2025-08-04 22:21:35,954] Trial 20 finished with value: 0.7877285513361463 and parameters: {'learning_rate': 0.1502174764747374, 'num_leaves': 32, 'max_depth': 4, 'min_child_samples': 46, 'feature_fraction': 0.7187897847703519, 'bagging_fraction': 0.7266865486236964, 'lambda_l1': 0.8345845900300133, 'lambda_l2': 0.6372277828461228}. Best is trial 9 with value: 0.7956516643225504.\n",
      "[I 2025-08-04 22:21:36,064] Trial 21 finished with value: 0.7744960150023441 and parameters: {'learning_rate': 0.1813381533894253, 'num_leaves': 42, 'max_depth': 6, 'min_child_samples': 21, 'feature_fraction': 0.6441908671985949, 'bagging_fraction': 0.8095923502553872, 'lambda_l1': 0.24784998604626074, 'lambda_l2': 0.0017802879573041372}. Best is trial 9 with value: 0.7956516643225504.\n"
     ]
    },
    {
     "name": "stdout",
     "output_type": "stream",
     "text": [
      "Training until validation scores don't improve for 30 rounds\n",
      "Early stopping, best iteration is:\n",
      "[61]\tvalid_0's auc: 0.787729\n",
      "Training until validation scores don't improve for 30 rounds\n",
      "Early stopping, best iteration is:\n",
      "[47]\tvalid_0's auc: 0.774496\n",
      "Training until validation scores don't improve for 30 rounds\n"
     ]
    },
    {
     "name": "stderr",
     "output_type": "stream",
     "text": [
      "[I 2025-08-04 22:21:36,179] Trial 22 finished with value: 0.7936708860759493 and parameters: {'learning_rate': 0.18678424948876976, 'num_leaves': 51, 'max_depth': 6, 'min_child_samples': 27, 'feature_fraction': 0.6451103606464166, 'bagging_fraction': 0.6396450536670426, 'lambda_l1': 0.12742850591769744, 'lambda_l2': 0.09457702875369906}. Best is trial 9 with value: 0.7956516643225504.\n",
      "[I 2025-08-04 22:21:36,279] Trial 23 finished with value: 0.7828996718237224 and parameters: {'learning_rate': 0.16292238790496372, 'num_leaves': 44, 'max_depth': 5, 'min_child_samples': 40, 'feature_fraction': 0.6978514792358672, 'bagging_fraction': 0.706380883425286, 'lambda_l1': 0.29699423301291505, 'lambda_l2': 0.2190000923574077}. Best is trial 9 with value: 0.7956516643225504.\n"
     ]
    },
    {
     "name": "stdout",
     "output_type": "stream",
     "text": [
      "Early stopping, best iteration is:\n",
      "[55]\tvalid_0's auc: 0.793671\n",
      "Training until validation scores don't improve for 30 rounds\n",
      "Early stopping, best iteration is:\n",
      "[32]\tvalid_0's auc: 0.7829\n",
      "Training until validation scores don't improve for 30 rounds\n",
      "Did not meet early stopping. Best iteration is:\n",
      "[86]\tvalid_0's auc: 0.777954\n"
     ]
    },
    {
     "name": "stderr",
     "output_type": "stream",
     "text": [
      "[I 2025-08-04 22:21:36,392] Trial 24 finished with value: 0.7779535864978903 and parameters: {'learning_rate': 0.18550784103897736, 'num_leaves': 34, 'max_depth': 4, 'min_child_samples': 32, 'feature_fraction': 0.6591488693225585, 'bagging_fraction': 0.7666022769291303, 'lambda_l1': 0.11248812469477695, 'lambda_l2': 0.3046754721700273}. Best is trial 9 with value: 0.7956516643225504.\n",
      "[I 2025-08-04 22:21:36,540] Trial 25 finished with value: 0.7775785278949836 and parameters: {'learning_rate': 0.19963618513274706, 'num_leaves': 54, 'max_depth': 6, 'min_child_samples': 22, 'feature_fraction': 0.6031030210928052, 'bagging_fraction': 0.6477315582109611, 'lambda_l1': 0.0008884018656097892, 'lambda_l2': 0.09523118268190676}. Best is trial 9 with value: 0.7956516643225504.\n"
     ]
    },
    {
     "name": "stdout",
     "output_type": "stream",
     "text": [
      "Training until validation scores don't improve for 30 rounds\n",
      "Early stopping, best iteration is:\n",
      "[47]\tvalid_0's auc: 0.777579\n",
      "Training until validation scores don't improve for 30 rounds\n",
      "Early stopping, best iteration is:\n",
      "[41]\tvalid_0's auc: 0.777227\n"
     ]
    },
    {
     "name": "stderr",
     "output_type": "stream",
     "text": [
      "[I 2025-08-04 22:21:36,647] Trial 26 finished with value: 0.7772269104547586 and parameters: {'learning_rate': 0.1744741205496317, 'num_leaves': 62, 'max_depth': 8, 'min_child_samples': 47, 'feature_fraction': 0.7754077240204158, 'bagging_fraction': 0.6055501598724684, 'lambda_l1': 0.4566713172597989, 'lambda_l2': 0.17136423520320232}. Best is trial 9 with value: 0.7956516643225504.\n",
      "[I 2025-08-04 22:21:36,775] Trial 27 finished with value: 0.7906586966713549 and parameters: {'learning_rate': 0.13200391037512182, 'num_leaves': 78, 'max_depth': 4, 'min_child_samples': 39, 'feature_fraction': 0.7259282817530995, 'bagging_fraction': 0.7983893852271818, 'lambda_l1': 0.6615698815303073, 'lambda_l2': 0.0656019845168809}. Best is trial 9 with value: 0.7956516643225504.\n",
      "[I 2025-08-04 22:21:36,864] Trial 28 finished with value: 0.8008321612751993 and parameters: {'learning_rate': 0.15635709977540221, 'num_leaves': 46, 'max_depth': 3, 'min_child_samples': 27, 'feature_fraction': 0.6398664390601264, 'bagging_fraction': 0.8741633088556352, 'lambda_l1': 0.5301672588179255, 'lambda_l2': 0.44124328540943986}. Best is trial 28 with value: 0.8008321612751993.\n"
     ]
    },
    {
     "name": "stdout",
     "output_type": "stream",
     "text": [
      "Training until validation scores don't improve for 30 rounds\n",
      "Did not meet early stopping. Best iteration is:\n",
      "[100]\tvalid_0's auc: 0.790659\n",
      "Training until validation scores don't improve for 30 rounds\n",
      "Did not meet early stopping. Best iteration is:\n",
      "[73]\tvalid_0's auc: 0.800832\n",
      "Training until validation scores don't improve for 30 rounds\n"
     ]
    },
    {
     "name": "stderr",
     "output_type": "stream",
     "text": [
      "[I 2025-08-04 22:21:36,984] Trial 29 finished with value: 0.7909517112048758 and parameters: {'learning_rate': 0.1454048958201157, 'num_leaves': 28, 'max_depth': 3, 'min_child_samples': 27, 'feature_fraction': 0.6265176637560271, 'bagging_fraction': 0.8186375354540681, 'lambda_l1': 0.5301501442041311, 'lambda_l2': 0.967398249244786}. Best is trial 28 with value: 0.8008321612751993.\n"
     ]
    },
    {
     "name": "stdout",
     "output_type": "stream",
     "text": [
      "Did not meet early stopping. Best iteration is:\n",
      "[92]\tvalid_0's auc: 0.790952\n",
      "✅ NR-ER - AUC: 0.6947, Accuracy: 0.8726, Threshold: 0.37\n",
      "\n",
      "📍 Training for label 6/12: NR-ER-LBD\n"
     ]
    },
    {
     "name": "stderr",
     "output_type": "stream",
     "text": [
      "[I 2025-08-04 22:21:39,092] A new study created in memory with name: no-name-d41dcfce-d24b-4e50-9a1f-978a38f8b92a\n"
     ]
    },
    {
     "name": "stdout",
     "output_type": "stream",
     "text": [
      "→ Reduced to 2055 features.\n",
      "Training until validation scores don't improve for 30 rounds\n",
      "Early stopping, best iteration is:\n",
      "[58]\tvalid_0's auc: 0.827359\n"
     ]
    },
    {
     "name": "stderr",
     "output_type": "stream",
     "text": [
      "[I 2025-08-04 22:21:39,303] Trial 0 finished with value: 0.8273593073593073 and parameters: {'learning_rate': 0.06454873896514003, 'num_leaves': 22, 'max_depth': 4, 'min_child_samples': 36, 'feature_fraction': 0.6120542781601289, 'bagging_fraction': 0.898189653473217, 'lambda_l1': 0.8290093881128637, 'lambda_l2': 0.3468571590102353}. Best is trial 0 with value: 0.8273593073593073.\n",
      "[I 2025-08-04 22:21:39,418] Trial 1 finished with value: 0.8207359307359308 and parameters: {'learning_rate': 0.11719086514341419, 'num_leaves': 47, 'max_depth': 9, 'min_child_samples': 37, 'feature_fraction': 0.7938037805006365, 'bagging_fraction': 0.8755492962646237, 'lambda_l1': 0.886643792900216, 'lambda_l2': 0.0575667468313279}. Best is trial 0 with value: 0.8273593073593073.\n",
      "[I 2025-08-04 22:21:39,503] Trial 2 finished with value: 0.8107359307359308 and parameters: {'learning_rate': 0.0537239418798761, 'num_leaves': 56, 'max_depth': 4, 'min_child_samples': 49, 'feature_fraction': 0.6710993319486146, 'bagging_fraction': 0.7710621590928295, 'lambda_l1': 0.3145014013152172, 'lambda_l2': 0.5479303629350588}. Best is trial 0 with value: 0.8273593073593073.\n"
     ]
    },
    {
     "name": "stdout",
     "output_type": "stream",
     "text": [
      "Training until validation scores don't improve for 30 rounds\n",
      "Early stopping, best iteration is:\n",
      "[43]\tvalid_0's auc: 0.820736\n",
      "Training until validation scores don't improve for 30 rounds\n",
      "Did not meet early stopping. Best iteration is:\n",
      "[81]\tvalid_0's auc: 0.810736\n"
     ]
    },
    {
     "name": "stderr",
     "output_type": "stream",
     "text": [
      "[I 2025-08-04 22:21:39,613] Trial 3 finished with value: 0.7964069264069265 and parameters: {'learning_rate': 0.06405268757736476, 'num_leaves': 20, 'max_depth': 12, 'min_child_samples': 30, 'feature_fraction': 0.7961902560180905, 'bagging_fraction': 0.8828860907649281, 'lambda_l1': 0.37041030289642085, 'lambda_l2': 0.5206789473846276}. Best is trial 0 with value: 0.8273593073593073.\n",
      "[I 2025-08-04 22:21:39,713] Trial 4 finished with value: 0.8024675324675324 and parameters: {'learning_rate': 0.15403006691992158, 'num_leaves': 35, 'max_depth': 8, 'min_child_samples': 15, 'feature_fraction': 0.9602820325876141, 'bagging_fraction': 0.7502940673125197, 'lambda_l1': 0.5186095927609218, 'lambda_l2': 0.1712936380823783}. Best is trial 0 with value: 0.8273593073593073.\n"
     ]
    },
    {
     "name": "stdout",
     "output_type": "stream",
     "text": [
      "Training until validation scores don't improve for 30 rounds\n",
      "Early stopping, best iteration is:\n",
      "[38]\tvalid_0's auc: 0.796407\n",
      "Training until validation scores don't improve for 30 rounds\n",
      "Early stopping, best iteration is:\n",
      "[28]\tvalid_0's auc: 0.802468\n"
     ]
    },
    {
     "name": "stderr",
     "output_type": "stream",
     "text": [
      "[I 2025-08-04 22:21:39,805] Trial 5 finished with value: 0.8117748917748917 and parameters: {'learning_rate': 0.143114186598297, 'num_leaves': 47, 'max_depth': 7, 'min_child_samples': 38, 'feature_fraction': 0.7669277295669641, 'bagging_fraction': 0.7266024154461652, 'lambda_l1': 0.29225049900555455, 'lambda_l2': 0.5338756234159732}. Best is trial 0 with value: 0.8273593073593073.\n",
      "[I 2025-08-04 22:21:39,913] Trial 6 finished with value: 0.793982683982684 and parameters: {'learning_rate': 0.06992992161379952, 'num_leaves': 58, 'max_depth': 9, 'min_child_samples': 24, 'feature_fraction': 0.7990356494697344, 'bagging_fraction': 0.9394325654941313, 'lambda_l1': 0.2433920097298481, 'lambda_l2': 0.21463951348724053}. Best is trial 0 with value: 0.8273593073593073.\n"
     ]
    },
    {
     "name": "stdout",
     "output_type": "stream",
     "text": [
      "Training until validation scores don't improve for 30 rounds\n",
      "Early stopping, best iteration is:\n",
      "[18]\tvalid_0's auc: 0.811775\n",
      "Training until validation scores don't improve for 30 rounds\n",
      "Early stopping, best iteration is:\n",
      "[34]\tvalid_0's auc: 0.793983\n"
     ]
    },
    {
     "name": "stderr",
     "output_type": "stream",
     "text": [
      "[I 2025-08-04 22:21:40,010] Trial 7 finished with value: 0.8209956709956711 and parameters: {'learning_rate': 0.09633426797933828, 'num_leaves': 50, 'max_depth': 6, 'min_child_samples': 49, 'feature_fraction': 0.7411882861631803, 'bagging_fraction': 0.8833083128177206, 'lambda_l1': 0.09211105644393813, 'lambda_l2': 0.20954960565575664}. Best is trial 0 with value: 0.8273593073593073.\n",
      "[I 2025-08-04 22:21:40,123] Trial 8 finished with value: 0.8084848484848485 and parameters: {'learning_rate': 0.08957164666195534, 'num_leaves': 45, 'max_depth': 9, 'min_child_samples': 38, 'feature_fraction': 0.8323793531413135, 'bagging_fraction': 0.7089719519959832, 'lambda_l1': 0.3065078836986195, 'lambda_l2': 0.4343510635691632}. Best is trial 0 with value: 0.8273593073593073.\n"
     ]
    },
    {
     "name": "stdout",
     "output_type": "stream",
     "text": [
      "Training until validation scores don't improve for 30 rounds\n",
      "Early stopping, best iteration is:\n",
      "[37]\tvalid_0's auc: 0.820996\n",
      "Training until validation scores don't improve for 30 rounds\n",
      "Did not meet early stopping. Best iteration is:\n",
      "[76]\tvalid_0's auc: 0.808485\n",
      "Training until validation scores don't improve for 30 rounds\n"
     ]
    },
    {
     "name": "stderr",
     "output_type": "stream",
     "text": [
      "[I 2025-08-04 22:21:40,203] Trial 9 finished with value: 0.7967965367965368 and parameters: {'learning_rate': 0.18392105328563865, 'num_leaves': 63, 'max_depth': 7, 'min_child_samples': 49, 'feature_fraction': 0.7758824271166531, 'bagging_fraction': 0.8583672421111572, 'lambda_l1': 0.7635175509000602, 'lambda_l2': 0.11213786386553481}. Best is trial 0 with value: 0.8273593073593073.\n",
      "[I 2025-08-04 22:21:40,294] Trial 10 finished with value: 0.7298268398268397 and parameters: {'learning_rate': 0.011735748878681451, 'num_leaves': 21, 'max_depth': 3, 'min_child_samples': 10, 'feature_fraction': 0.6166293878661268, 'bagging_fraction': 0.998781704941501, 'lambda_l1': 0.6667105213671414, 'lambda_l2': 0.9733363688753032}. Best is trial 0 with value: 0.8273593073593073.\n"
     ]
    },
    {
     "name": "stdout",
     "output_type": "stream",
     "text": [
      "Early stopping, best iteration is:\n",
      "[13]\tvalid_0's auc: 0.796797\n",
      "Training until validation scores don't improve for 30 rounds\n",
      "Early stopping, best iteration is:\n",
      "[11]\tvalid_0's auc: 0.729827\n",
      "Training until validation scores don't improve for 30 rounds\n",
      "Early stopping, best iteration is:\n",
      "[8]\tvalid_0's auc: 0.787922\n"
     ]
    },
    {
     "name": "stderr",
     "output_type": "stream",
     "text": [
      "[I 2025-08-04 22:21:40,383] Trial 11 finished with value: 0.7879220779220779 and parameters: {'learning_rate': 0.022222831440825513, 'num_leaves': 71, 'max_depth': 5, 'min_child_samples': 43, 'feature_fraction': 0.6847873987853221, 'bagging_fraction': 0.8192071225968932, 'lambda_l1': 0.03714303915374504, 'lambda_l2': 0.30871894702401004}. Best is trial 0 with value: 0.8273593073593073.\n",
      "[I 2025-08-04 22:21:40,513] Trial 12 finished with value: 0.8132467532467532 and parameters: {'learning_rate': 0.10652845242316149, 'num_leaves': 29, 'max_depth': 5, 'min_child_samples': 28, 'feature_fraction': 0.6230475218733011, 'bagging_fraction': 0.638226239437489, 'lambda_l1': 0.9707173352482881, 'lambda_l2': 0.7661658334442499}. Best is trial 0 with value: 0.8273593073593073.\n"
     ]
    },
    {
     "name": "stdout",
     "output_type": "stream",
     "text": [
      "Training until validation scores don't improve for 30 rounds\n",
      "Did not meet early stopping. Best iteration is:\n",
      "[73]\tvalid_0's auc: 0.813247\n",
      "Training until validation scores don't improve for 30 rounds\n"
     ]
    },
    {
     "name": "stderr",
     "output_type": "stream",
     "text": [
      "[I 2025-08-04 22:21:40,687] Trial 13 finished with value: 0.801991341991342 and parameters: {'learning_rate': 0.03952207065612137, 'num_leaves': 80, 'max_depth': 6, 'min_child_samples': 43, 'feature_fraction': 0.7082581192269047, 'bagging_fraction': 0.9478431483604572, 'lambda_l1': 0.12364587052712797, 'lambda_l2': 0.33276915768908893}. Best is trial 0 with value: 0.8273593073593073.\n",
      "[I 2025-08-04 22:21:40,780] Trial 14 finished with value: 0.8354761904761905 and parameters: {'learning_rate': 0.08463038336864824, 'num_leaves': 37, 'max_depth': 3, 'min_child_samples': 20, 'feature_fraction': 0.883046610709555, 'bagging_fraction': 0.9455990587648115, 'lambda_l1': 0.5375042767635714, 'lambda_l2': 0.6972287749460307}. Best is trial 14 with value: 0.8354761904761905.\n"
     ]
    },
    {
     "name": "stdout",
     "output_type": "stream",
     "text": [
      "Did not meet early stopping. Best iteration is:\n",
      "[89]\tvalid_0's auc: 0.801991\n",
      "Training until validation scores don't improve for 30 rounds\n",
      "Did not meet early stopping. Best iteration is:\n",
      "[76]\tvalid_0's auc: 0.835476\n",
      "Training until validation scores don't improve for 30 rounds\n",
      "Early stopping, best iteration is:\n",
      "[50]\tvalid_0's auc: 0.829156\n"
     ]
    },
    {
     "name": "stderr",
     "output_type": "stream",
     "text": [
      "[I 2025-08-04 22:21:40,865] Trial 15 finished with value: 0.8291558441558441 and parameters: {'learning_rate': 0.08008587847042899, 'num_leaves': 35, 'max_depth': 3, 'min_child_samples': 20, 'feature_fraction': 0.8839612943972076, 'bagging_fraction': 0.947961181059662, 'lambda_l1': 0.5815045519074169, 'lambda_l2': 0.7012259847041445}. Best is trial 14 with value: 0.8354761904761905.\n",
      "[I 2025-08-04 22:21:40,959] Trial 16 finished with value: 0.8320995670995671 and parameters: {'learning_rate': 0.12902017565270693, 'num_leaves': 36, 'max_depth': 3, 'min_child_samples': 20, 'feature_fraction': 0.8903486398353723, 'bagging_fraction': 0.9883278190428159, 'lambda_l1': 0.5834966382706226, 'lambda_l2': 0.7222389244393225}. Best is trial 14 with value: 0.8354761904761905.\n",
      "[I 2025-08-04 22:21:41,074] Trial 17 finished with value: 0.8138961038961039 and parameters: {'learning_rate': 0.13072131682944493, 'num_leaves': 38, 'max_depth': 12, 'min_child_samples': 20, 'feature_fraction': 0.9260121039063254, 'bagging_fraction': 0.9969951816561468, 'lambda_l1': 0.45936426103441963, 'lambda_l2': 0.7514041201129372}. Best is trial 14 with value: 0.8354761904761905.\n"
     ]
    },
    {
     "name": "stdout",
     "output_type": "stream",
     "text": [
      "Training until validation scores don't improve for 30 rounds\n",
      "Did not meet early stopping. Best iteration is:\n",
      "[83]\tvalid_0's auc: 0.8321\n",
      "Training until validation scores don't improve for 30 rounds\n",
      "Early stopping, best iteration is:\n",
      "[17]\tvalid_0's auc: 0.813896\n"
     ]
    },
    {
     "name": "stderr",
     "output_type": "stream",
     "text": [
      "[I 2025-08-04 22:21:41,173] Trial 18 finished with value: 0.8296969696969697 and parameters: {'learning_rate': 0.17344008796119376, 'num_leaves': 40, 'max_depth': 3, 'min_child_samples': 14, 'feature_fraction': 0.8612838061288399, 'bagging_fraction': 0.8207497712436567, 'lambda_l1': 0.6271131608548806, 'lambda_l2': 0.9148333500873349}. Best is trial 14 with value: 0.8354761904761905.\n",
      "[I 2025-08-04 22:21:41,271] Trial 19 finished with value: 0.8298268398268398 and parameters: {'learning_rate': 0.12010255897702246, 'num_leaves': 29, 'max_depth': 4, 'min_child_samples': 22, 'feature_fraction': 0.9953585062574686, 'bagging_fraction': 0.930512952034698, 'lambda_l1': 0.7124145000322679, 'lambda_l2': 0.6558517873174834}. Best is trial 14 with value: 0.8354761904761905.\n"
     ]
    },
    {
     "name": "stdout",
     "output_type": "stream",
     "text": [
      "Training until validation scores don't improve for 30 rounds\n",
      "Early stopping, best iteration is:\n",
      "[30]\tvalid_0's auc: 0.829697\n",
      "Training until validation scores don't improve for 30 rounds\n",
      "Early stopping, best iteration is:\n",
      "[32]\tvalid_0's auc: 0.829827\n",
      "Training until validation scores don't improve for 30 rounds\n"
     ]
    },
    {
     "name": "stderr",
     "output_type": "stream",
     "text": [
      "[I 2025-08-04 22:21:41,382] Trial 20 finished with value: 0.8173809523809524 and parameters: {'learning_rate': 0.15686530657870135, 'num_leaves': 28, 'max_depth': 5, 'min_child_samples': 27, 'feature_fraction': 0.9073674177588704, 'bagging_fraction': 0.9785804596244047, 'lambda_l1': 0.47370880139171867, 'lambda_l2': 0.8552032504336775}. Best is trial 14 with value: 0.8354761904761905.\n",
      "[I 2025-08-04 22:21:41,486] Trial 21 finished with value: 0.8296536796536796 and parameters: {'learning_rate': 0.11852571506234703, 'num_leaves': 29, 'max_depth': 4, 'min_child_samples': 21, 'feature_fraction': 0.9999717564172255, 'bagging_fraction': 0.9231808028583137, 'lambda_l1': 0.7450829500193938, 'lambda_l2': 0.6810825646346584}. Best is trial 14 with value: 0.8354761904761905.\n"
     ]
    },
    {
     "name": "stdout",
     "output_type": "stream",
     "text": [
      "Early stopping, best iteration is:\n",
      "[27]\tvalid_0's auc: 0.817381\n",
      "Training until validation scores don't improve for 30 rounds\n",
      "Early stopping, best iteration is:\n",
      "[50]\tvalid_0's auc: 0.829654\n",
      "Training until validation scores don't improve for 30 rounds\n",
      "Early stopping, best iteration is:\n",
      "[35]\tvalid_0's auc: 0.831558\n"
     ]
    },
    {
     "name": "stderr",
     "output_type": "stream",
     "text": [
      "[I 2025-08-04 22:21:41,573] Trial 22 finished with value: 0.8315584415584416 and parameters: {'learning_rate': 0.12411342049925114, 'num_leaves': 42, 'max_depth': 3, 'min_child_samples': 16, 'feature_fraction': 0.956948801779317, 'bagging_fraction': 0.9699534189700015, 'lambda_l1': 0.7167542385201106, 'lambda_l2': 0.6314495782319651}. Best is trial 14 with value: 0.8354761904761905.\n",
      "[I 2025-08-04 22:21:41,666] Trial 23 finished with value: 0.8258658008658009 and parameters: {'learning_rate': 0.13666644598227623, 'num_leaves': 41, 'max_depth': 3, 'min_child_samples': 16, 'feature_fraction': 0.9506309953105238, 'bagging_fraction': 0.9740650868835558, 'lambda_l1': 0.5561182648633175, 'lambda_l2': 0.6027127305483909}. Best is trial 14 with value: 0.8354761904761905.\n",
      "[I 2025-08-04 22:21:41,790] Trial 24 finished with value: 0.8306926406926407 and parameters: {'learning_rate': 0.10130355634734933, 'num_leaves': 34, 'max_depth': 3, 'min_child_samples': 10, 'feature_fraction': 0.8573536644928644, 'bagging_fraction': 0.8444683334850188, 'lambda_l1': 0.4353423379130953, 'lambda_l2': 0.7881848726066298}. Best is trial 14 with value: 0.8354761904761905.\n"
     ]
    },
    {
     "name": "stdout",
     "output_type": "stream",
     "text": [
      "Training until validation scores don't improve for 30 rounds\n",
      "Early stopping, best iteration is:\n",
      "[40]\tvalid_0's auc: 0.825866\n",
      "Training until validation scores don't improve for 30 rounds\n",
      "Did not meet early stopping. Best iteration is:\n",
      "[78]\tvalid_0's auc: 0.830693\n"
     ]
    },
    {
     "name": "stderr",
     "output_type": "stream",
     "text": [
      "[I 2025-08-04 22:21:41,883] Trial 25 finished with value: 0.8064502164502165 and parameters: {'learning_rate': 0.19691105704129747, 'num_leaves': 53, 'max_depth': 5, 'min_child_samples': 17, 'feature_fraction': 0.9071530573144764, 'bagging_fraction': 0.9107180734605111, 'lambda_l1': 0.640603159995359, 'lambda_l2': 0.8682692870840948}. Best is trial 14 with value: 0.8354761904761905.\n",
      "[I 2025-08-04 22:21:42,049] Trial 26 finished with value: 0.8016666666666667 and parameters: {'learning_rate': 0.08455061688244395, 'num_leaves': 43, 'max_depth': 11, 'min_child_samples': 25, 'feature_fraction': 0.9534777518953759, 'bagging_fraction': 0.9660998210715296, 'lambda_l1': 0.8172089710747247, 'lambda_l2': 0.6146305471668732}. Best is trial 14 with value: 0.8354761904761905.\n"
     ]
    },
    {
     "name": "stdout",
     "output_type": "stream",
     "text": [
      "Training until validation scores don't improve for 30 rounds\n",
      "Early stopping, best iteration is:\n",
      "[8]\tvalid_0's auc: 0.80645\n",
      "Training until validation scores don't improve for 30 rounds\n",
      "Early stopping, best iteration is:\n",
      "[33]\tvalid_0's auc: 0.801667\n"
     ]
    },
    {
     "name": "stderr",
     "output_type": "stream",
     "text": [
      "[I 2025-08-04 22:21:42,144] Trial 27 finished with value: 0.8302164502164502 and parameters: {'learning_rate': 0.15789902441833908, 'num_leaves': 33, 'max_depth': 4, 'min_child_samples': 31, 'feature_fraction': 0.8273753767338979, 'bagging_fraction': 0.609180000296898, 'lambda_l1': 0.5930111537697609, 'lambda_l2': 0.4490466030760135}. Best is trial 14 with value: 0.8354761904761905.\n",
      "[I 2025-08-04 22:21:42,271] Trial 28 finished with value: 0.7962121212121211 and parameters: {'learning_rate': 0.11079747663393683, 'num_leaves': 38, 'max_depth': 6, 'min_child_samples': 13, 'feature_fraction': 0.881608284655753, 'bagging_fraction': 0.9639967472352713, 'lambda_l1': 0.40543940994707983, 'lambda_l2': 0.8210940802550688}. Best is trial 14 with value: 0.8354761904761905.\n"
     ]
    },
    {
     "name": "stdout",
     "output_type": "stream",
     "text": [
      "Training until validation scores don't improve for 30 rounds\n",
      "Early stopping, best iteration is:\n",
      "[32]\tvalid_0's auc: 0.830216\n",
      "Training until validation scores don't improve for 30 rounds\n",
      "Early stopping, best iteration is:\n",
      "[23]\tvalid_0's auc: 0.796212\n"
     ]
    },
    {
     "name": "stderr",
     "output_type": "stream",
     "text": [
      "[I 2025-08-04 22:21:42,364] Trial 29 finished with value: 0.8313203463203462 and parameters: {'learning_rate': 0.13175977518512347, 'num_leaves': 26, 'max_depth': 4, 'min_child_samples': 18, 'feature_fraction': 0.9245008236941952, 'bagging_fraction': 0.9958607019546148, 'lambda_l1': 0.8754039791735184, 'lambda_l2': 0.41897990839604116}. Best is trial 14 with value: 0.8354761904761905.\n"
     ]
    },
    {
     "name": "stdout",
     "output_type": "stream",
     "text": [
      "Training until validation scores don't improve for 30 rounds\n",
      "Early stopping, best iteration is:\n",
      "[40]\tvalid_0's auc: 0.83132\n",
      "✅ NR-ER-LBD - AUC: 0.8306, Accuracy: 0.9583, Threshold: 0.17\n",
      "\n",
      "📍 Training for label 7/12: NR-PPAR-gamma\n"
     ]
    },
    {
     "name": "stderr",
     "output_type": "stream",
     "text": [
      "[I 2025-08-04 22:21:44,955] A new study created in memory with name: no-name-69eb58a5-a9d2-4833-a492-ca791ac0f966\n"
     ]
    },
    {
     "name": "stdout",
     "output_type": "stream",
     "text": [
      "→ Reduced to 2055 features.\n",
      "Training until validation scores don't improve for 30 rounds\n"
     ]
    },
    {
     "name": "stderr",
     "output_type": "stream",
     "text": [
      "[I 2025-08-04 22:21:45,170] Trial 0 finished with value: 0.8021691609214731 and parameters: {'learning_rate': 0.1148544878614061, 'num_leaves': 36, 'max_depth': 8, 'min_child_samples': 42, 'feature_fraction': 0.9871715284164508, 'bagging_fraction': 0.8676622897735394, 'lambda_l1': 0.5719590740517586, 'lambda_l2': 0.714867080817442}. Best is trial 0 with value: 0.8021691609214731.\n",
      "[I 2025-08-04 22:21:45,294] Trial 1 finished with value: 0.8066251891710106 and parameters: {'learning_rate': 0.0986263057151961, 'num_leaves': 40, 'max_depth': 7, 'min_child_samples': 24, 'feature_fraction': 0.832297306333452, 'bagging_fraction': 0.799314374898094, 'lambda_l1': 0.6486827658959202, 'lambda_l2': 0.306832765446021}. Best is trial 1 with value: 0.8066251891710106.\n"
     ]
    },
    {
     "name": "stdout",
     "output_type": "stream",
     "text": [
      "Early stopping, best iteration is:\n",
      "[34]\tvalid_0's auc: 0.802169\n",
      "Training until validation scores don't improve for 30 rounds\n",
      "Did not meet early stopping. Best iteration is:\n",
      "[82]\tvalid_0's auc: 0.806625\n",
      "Training until validation scores don't improve for 30 rounds\n"
     ]
    },
    {
     "name": "stderr",
     "output_type": "stream",
     "text": [
      "[I 2025-08-04 22:21:45,421] Trial 2 finished with value: 0.8017487808979318 and parameters: {'learning_rate': 0.08242838973188947, 'num_leaves': 75, 'max_depth': 9, 'min_child_samples': 15, 'feature_fraction': 0.9466442913841215, 'bagging_fraction': 0.6895217008823099, 'lambda_l1': 0.40743455942254325, 'lambda_l2': 0.36825185696644824}. Best is trial 1 with value: 0.8066251891710106.\n",
      "[I 2025-08-04 22:21:45,596] Trial 3 finished with value: 0.8187321338489995 and parameters: {'learning_rate': 0.07395952446976346, 'num_leaves': 71, 'max_depth': 12, 'min_child_samples': 16, 'feature_fraction': 0.8344821323302032, 'bagging_fraction': 0.9436690955503689, 'lambda_l1': 0.361135385119132, 'lambda_l2': 0.30516582667068226}. Best is trial 3 with value: 0.8187321338489995.\n"
     ]
    },
    {
     "name": "stdout",
     "output_type": "stream",
     "text": [
      "Early stopping, best iteration is:\n",
      "[59]\tvalid_0's auc: 0.801749\n",
      "Training until validation scores don't improve for 30 rounds\n",
      "Did not meet early stopping. Best iteration is:\n",
      "[86]\tvalid_0's auc: 0.818732\n"
     ]
    },
    {
     "name": "stderr",
     "output_type": "stream",
     "text": [
      "[I 2025-08-04 22:21:45,764] Trial 4 finished with value: 0.7781234235749117 and parameters: {'learning_rate': 0.015007311077167376, 'num_leaves': 80, 'max_depth': 11, 'min_child_samples': 46, 'feature_fraction': 0.8682360851384459, 'bagging_fraction': 0.6317494723306304, 'lambda_l1': 0.3813595613250442, 'lambda_l2': 0.6142050494195608}. Best is trial 3 with value: 0.8187321338489995.\n"
     ]
    },
    {
     "name": "stdout",
     "output_type": "stream",
     "text": [
      "Training until validation scores don't improve for 30 rounds\n",
      "Did not meet early stopping. Best iteration is:\n",
      "[99]\tvalid_0's auc: 0.778123\n",
      "Training until validation scores don't improve for 30 rounds\n"
     ]
    },
    {
     "name": "stderr",
     "output_type": "stream",
     "text": [
      "[I 2025-08-04 22:21:45,929] Trial 5 finished with value: 0.8175550697830838 and parameters: {'learning_rate': 0.10766801207026688, 'num_leaves': 32, 'max_depth': 10, 'min_child_samples': 43, 'feature_fraction': 0.9233621316562821, 'bagging_fraction': 0.7840332980673389, 'lambda_l1': 0.4405502408166885, 'lambda_l2': 0.27407148858711783}. Best is trial 3 with value: 0.8187321338489995.\n",
      "[I 2025-08-04 22:21:46,064] Trial 6 finished with value: 0.8124264334958802 and parameters: {'learning_rate': 0.1311831349671222, 'num_leaves': 38, 'max_depth': 10, 'min_child_samples': 26, 'feature_fraction': 0.9286169093759471, 'bagging_fraction': 0.7927029959089815, 'lambda_l1': 0.6105804168215879, 'lambda_l2': 0.7124770077179327}. Best is trial 3 with value: 0.8187321338489995.\n"
     ]
    },
    {
     "name": "stdout",
     "output_type": "stream",
     "text": [
      "Early stopping, best iteration is:\n",
      "[70]\tvalid_0's auc: 0.817555\n",
      "Training until validation scores don't improve for 30 rounds\n",
      "Early stopping, best iteration is:\n",
      "[54]\tvalid_0's auc: 0.812426\n",
      "Training until validation scores don't improve for 30 rounds\n"
     ]
    },
    {
     "name": "stderr",
     "output_type": "stream",
     "text": [
      "[I 2025-08-04 22:21:46,170] Trial 7 finished with value: 0.8201614259290398 and parameters: {'learning_rate': 0.1902984990111046, 'num_leaves': 73, 'max_depth': 6, 'min_child_samples': 39, 'feature_fraction': 0.643246442495143, 'bagging_fraction': 0.6575920134069766, 'lambda_l1': 0.2590439909177299, 'lambda_l2': 0.36993352834658777}. Best is trial 7 with value: 0.8201614259290398.\n",
      "[I 2025-08-04 22:21:46,244] Trial 8 finished with value: 0.7524802421388936 and parameters: {'learning_rate': 0.041105237981212316, 'num_leaves': 24, 'max_depth': 4, 'min_child_samples': 28, 'feature_fraction': 0.8621951240117023, 'bagging_fraction': 0.6653726022919894, 'lambda_l1': 0.5595743945715408, 'lambda_l2': 0.9512053895174383}. Best is trial 7 with value: 0.8201614259290398.\n",
      "[I 2025-08-04 22:21:46,331] Trial 9 finished with value: 0.7723642172523961 and parameters: {'learning_rate': 0.13656733280391373, 'num_leaves': 67, 'max_depth': 3, 'min_child_samples': 41, 'feature_fraction': 0.9718911292152235, 'bagging_fraction': 0.6131818850641466, 'lambda_l1': 0.4023121325967217, 'lambda_l2': 0.3103202719545719}. Best is trial 7 with value: 0.8201614259290398.\n"
     ]
    },
    {
     "name": "stdout",
     "output_type": "stream",
     "text": [
      "Did not meet early stopping. Best iteration is:\n",
      "[100]\tvalid_0's auc: 0.820161\n",
      "Training until validation scores don't improve for 30 rounds\n",
      "Early stopping, best iteration is:\n",
      "[9]\tvalid_0's auc: 0.75248\n",
      "Training until validation scores don't improve for 30 rounds\n",
      "Early stopping, best iteration is:\n",
      "[29]\tvalid_0's auc: 0.772364\n"
     ]
    },
    {
     "name": "stderr",
     "output_type": "stream",
     "text": [
      "[I 2025-08-04 22:21:46,480] Trial 10 finished with value: 0.8200773499243316 and parameters: {'learning_rate': 0.1946282923210698, 'num_leaves': 56, 'max_depth': 6, 'min_child_samples': 36, 'feature_fraction': 0.6147039033709183, 'bagging_fraction': 0.7205564350368243, 'lambda_l1': 0.028662547642211655, 'lambda_l2': 0.03442140858593229}. Best is trial 7 with value: 0.8201614259290398.\n"
     ]
    },
    {
     "name": "stdout",
     "output_type": "stream",
     "text": [
      "Training until validation scores don't improve for 30 rounds\n",
      "Early stopping, best iteration is:\n",
      "[68]\tvalid_0's auc: 0.820077\n",
      "Training until validation scores don't improve for 30 rounds\n",
      "Early stopping, best iteration is:\n",
      "[35]\tvalid_0's auc: 0.8057\n"
     ]
    },
    {
     "name": "stderr",
     "output_type": "stream",
     "text": [
      "[I 2025-08-04 22:21:46,593] Trial 11 finished with value: 0.8057003531192197 and parameters: {'learning_rate': 0.19627859283451007, 'num_leaves': 56, 'max_depth': 6, 'min_child_samples': 36, 'feature_fraction': 0.604842857765764, 'bagging_fraction': 0.7157814015250422, 'lambda_l1': 0.0384885645886229, 'lambda_l2': 0.001843352622020289}. Best is trial 7 with value: 0.8201614259290398.\n",
      "[I 2025-08-04 22:21:46,714] Trial 12 finished with value: 0.8197410459054985 and parameters: {'learning_rate': 0.19971677004754126, 'num_leaves': 58, 'max_depth': 5, 'min_child_samples': 35, 'feature_fraction': 0.6292943713704184, 'bagging_fraction': 0.7320108492946382, 'lambda_l1': 0.028471475378613713, 'lambda_l2': 0.018386057316557843}. Best is trial 7 with value: 0.8201614259290398.\n",
      "[I 2025-08-04 22:21:46,820] Trial 13 finished with value: 0.8159996636959812 and parameters: {'learning_rate': 0.16750249800461617, 'num_leaves': 62, 'max_depth': 6, 'min_child_samples': 34, 'feature_fraction': 0.7135121554872567, 'bagging_fraction': 0.740096315153805, 'lambda_l1': 0.1995930711215131, 'lambda_l2': 0.11521564601837897}. Best is trial 7 with value: 0.8201614259290398.\n"
     ]
    },
    {
     "name": "stdout",
     "output_type": "stream",
     "text": [
      "Training until validation scores don't improve for 30 rounds\n",
      "Early stopping, best iteration is:\n",
      "[56]\tvalid_0's auc: 0.819741\n",
      "Training until validation scores don't improve for 30 rounds\n",
      "Early stopping, best iteration is:\n",
      "[14]\tvalid_0's auc: 0.816\n"
     ]
    },
    {
     "name": "stderr",
     "output_type": "stream",
     "text": [
      "[I 2025-08-04 22:21:46,963] Trial 14 finished with value: 0.8024213889355977 and parameters: {'learning_rate': 0.16736017699444442, 'num_leaves': 49, 'max_depth': 7, 'min_child_samples': 48, 'feature_fraction': 0.693544940432195, 'bagging_fraction': 0.8874817032309747, 'lambda_l1': 0.9646439828123946, 'lambda_l2': 0.4950009518262042}. Best is trial 7 with value: 0.8201614259290398.\n"
     ]
    },
    {
     "name": "stdout",
     "output_type": "stream",
     "text": [
      "Training until validation scores don't improve for 30 rounds\n",
      "Did not meet early stopping. Best iteration is:\n",
      "[100]\tvalid_0's auc: 0.802421\n",
      "Training until validation scores don't improve for 30 rounds\n",
      "Early stopping, best iteration is:\n",
      "[59]\tvalid_0's auc: 0.801076\n"
     ]
    },
    {
     "name": "stderr",
     "output_type": "stream",
     "text": [
      "[I 2025-08-04 22:21:47,069] Trial 15 finished with value: 0.8010761728602657 and parameters: {'learning_rate': 0.16430606424600547, 'num_leaves': 49, 'max_depth': 5, 'min_child_samples': 33, 'feature_fraction': 0.7343056685636425, 'bagging_fraction': 0.6673774198968337, 'lambda_l1': 0.19204906796187857, 'lambda_l2': 0.156776490349403}. Best is trial 7 with value: 0.8201614259290398.\n",
      "[I 2025-08-04 22:21:47,163] Trial 16 finished with value: 0.777871195560787 and parameters: {'learning_rate': 0.1805751550809033, 'num_leaves': 64, 'max_depth': 3, 'min_child_samples': 39, 'feature_fraction': 0.6579831659290305, 'bagging_fraction': 0.6180260660020555, 'lambda_l1': 0.19466314299873694, 'lambda_l2': 0.5022757137736522}. Best is trial 7 with value: 0.8201614259290398.\n",
      "[I 2025-08-04 22:21:47,274] Trial 17 finished with value: 0.8077181772322178 and parameters: {'learning_rate': 0.1444992790332855, 'num_leaves': 80, 'max_depth': 5, 'min_child_samples': 21, 'feature_fraction': 0.745159310746366, 'bagging_fraction': 0.8373408748001835, 'lambda_l1': 0.12203942562628425, 'lambda_l2': 0.15519377771134588}. Best is trial 7 with value: 0.8201614259290398.\n"
     ]
    },
    {
     "name": "stdout",
     "output_type": "stream",
     "text": [
      "Training until validation scores don't improve for 30 rounds\n",
      "Early stopping, best iteration is:\n",
      "[36]\tvalid_0's auc: 0.777871\n",
      "Training until validation scores don't improve for 30 rounds\n",
      "Early stopping, best iteration is:\n",
      "[14]\tvalid_0's auc: 0.807718\n",
      "Training until validation scores don't improve for 30 rounds\n"
     ]
    },
    {
     "name": "stderr",
     "output_type": "stream",
     "text": [
      "[I 2025-08-04 22:21:47,388] Trial 18 finished with value: 0.807381873213385 and parameters: {'learning_rate': 0.15056588136917895, 'num_leaves': 55, 'max_depth': 8, 'min_child_samples': 50, 'feature_fraction': 0.6718524981837631, 'bagging_fraction': 0.7469576549517606, 'lambda_l1': 0.2821388918178658, 'lambda_l2': 0.9666329043143618}. Best is trial 7 with value: 0.8201614259290398.\n",
      "[I 2025-08-04 22:21:47,499] Trial 19 finished with value: 0.8033462249873886 and parameters: {'learning_rate': 0.1834566973659907, 'num_leaves': 71, 'max_depth': 6, 'min_child_samples': 10, 'feature_fraction': 0.7784018906531953, 'bagging_fraction': 0.9997554109367971, 'lambda_l1': 0.78623131203936, 'lambda_l2': 0.42020460513945007}. Best is trial 7 with value: 0.8201614259290398.\n"
     ]
    },
    {
     "name": "stdout",
     "output_type": "stream",
     "text": [
      "Early stopping, best iteration is:\n",
      "[14]\tvalid_0's auc: 0.807382\n",
      "Training until validation scores don't improve for 30 rounds\n",
      "Early stopping, best iteration is:\n",
      "[19]\tvalid_0's auc: 0.803346\n",
      "Training until validation scores don't improve for 30 rounds\n"
     ]
    },
    {
     "name": "stderr",
     "output_type": "stream",
     "text": [
      "[I 2025-08-04 22:21:47,620] Trial 20 finished with value: 0.7911972423070456 and parameters: {'learning_rate': 0.18367298945141297, 'num_leaves': 43, 'max_depth': 4, 'min_child_samples': 32, 'feature_fraction': 0.6055025828033694, 'bagging_fraction': 0.6853267594893125, 'lambda_l1': 0.0993498205834511, 'lambda_l2': 0.7984373608261361}. Best is trial 7 with value: 0.8201614259290398.\n",
      "[I 2025-08-04 22:21:47,724] Trial 21 finished with value: 0.7996048427778712 and parameters: {'learning_rate': 0.19798570609180316, 'num_leaves': 59, 'max_depth': 5, 'min_child_samples': 38, 'feature_fraction': 0.6404479811080113, 'bagging_fraction': 0.7508614657878543, 'lambda_l1': 0.04564861763117868, 'lambda_l2': 0.011649872768713963}. Best is trial 7 with value: 0.8201614259290398.\n"
     ]
    },
    {
     "name": "stdout",
     "output_type": "stream",
     "text": [
      "Early stopping, best iteration is:\n",
      "[27]\tvalid_0's auc: 0.791197\n",
      "Training until validation scores don't improve for 30 rounds\n",
      "Early stopping, best iteration is:\n",
      "[18]\tvalid_0's auc: 0.799605\n",
      "Training until validation scores don't improve for 30 rounds\n",
      "Early stopping, best iteration is:\n",
      "[17]\tvalid_0's auc: 0.81869\n"
     ]
    },
    {
     "name": "stderr",
     "output_type": "stream",
     "text": [
      "[I 2025-08-04 22:21:47,809] Trial 22 finished with value: 0.8186900958466453 and parameters: {'learning_rate': 0.19519176132880325, 'num_leaves': 52, 'max_depth': 6, 'min_child_samples': 30, 'feature_fraction': 0.6508882348844764, 'bagging_fraction': 0.6466897979919262, 'lambda_l1': 0.26885405016852393, 'lambda_l2': 0.12296510360077993}. Best is trial 7 with value: 0.8201614259290398.\n",
      "[I 2025-08-04 22:21:47,900] Trial 23 finished with value: 0.782495375819741 and parameters: {'learning_rate': 0.1586147424494422, 'num_leaves': 46, 'max_depth': 4, 'min_child_samples': 36, 'feature_fraction': 0.6273438129918159, 'bagging_fraction': 0.7127350570609554, 'lambda_l1': 0.011937678500617162, 'lambda_l2': 0.2117295981360766}. Best is trial 7 with value: 0.8201614259290398.\n",
      "[I 2025-08-04 22:21:48,030] Trial 24 finished with value: 0.8222633260467461 and parameters: {'learning_rate': 0.17622420260542404, 'num_leaves': 68, 'max_depth': 7, 'min_child_samples': 45, 'feature_fraction': 0.6954005229003891, 'bagging_fraction': 0.7182043531192123, 'lambda_l1': 0.11874954956792144, 'lambda_l2': 0.06720154330210165}. Best is trial 24 with value: 0.8222633260467461.\n"
     ]
    },
    {
     "name": "stdout",
     "output_type": "stream",
     "text": [
      "Training until validation scores don't improve for 30 rounds\n",
      "Early stopping, best iteration is:\n",
      "[34]\tvalid_0's auc: 0.782495\n",
      "Training until validation scores don't improve for 30 rounds\n",
      "Did not meet early stopping. Best iteration is:\n",
      "[95]\tvalid_0's auc: 0.822263\n"
     ]
    },
    {
     "name": "stderr",
     "output_type": "stream",
     "text": [
      "[I 2025-08-04 22:21:48,158] Trial 25 finished with value: 0.8274760383386581 and parameters: {'learning_rate': 0.18138422952437538, 'num_leaves': 69, 'max_depth': 7, 'min_child_samples': 44, 'feature_fraction': 0.6907392863042753, 'bagging_fraction': 0.7693034942461862, 'lambda_l1': 0.284704191974986, 'lambda_l2': 0.07933954593955635}. Best is trial 25 with value: 0.8274760383386581.\n",
      "[I 2025-08-04 22:21:48,249] Trial 26 finished with value: 0.8116697494535059 and parameters: {'learning_rate': 0.12587332510739968, 'num_leaves': 69, 'max_depth': 8, 'min_child_samples': 45, 'feature_fraction': 0.7673124476596639, 'bagging_fraction': 0.7679878134027834, 'lambda_l1': 0.2986911690610504, 'lambda_l2': 0.22254360435021275}. Best is trial 25 with value: 0.8274760383386581.\n"
     ]
    },
    {
     "name": "stdout",
     "output_type": "stream",
     "text": [
      "Training until validation scores don't improve for 30 rounds\n",
      "Early stopping, best iteration is:\n",
      "[37]\tvalid_0's auc: 0.827476\n",
      "Training until validation scores don't improve for 30 rounds\n",
      "Early stopping, best iteration is:\n",
      "[6]\tvalid_0's auc: 0.81167\n",
      "Training until validation scores don't improve for 30 rounds\n"
     ]
    },
    {
     "name": "stderr",
     "output_type": "stream",
     "text": [
      "[I 2025-08-04 22:21:48,380] Trial 27 finished with value: 0.8245333781738693 and parameters: {'learning_rate': 0.176581047665054, 'num_leaves': 75, 'max_depth': 7, 'min_child_samples': 45, 'feature_fraction': 0.6895002666729088, 'bagging_fraction': 0.8425813949911707, 'lambda_l1': 0.5089171216971079, 'lambda_l2': 0.4368007968926767}. Best is trial 25 with value: 0.8274760383386581.\n",
      "[I 2025-08-04 22:21:48,513] Trial 28 finished with value: 0.8233563141079535 and parameters: {'learning_rate': 0.1538509564063994, 'num_leaves': 77, 'max_depth': 7, 'min_child_samples': 50, 'feature_fraction': 0.6968748344046769, 'bagging_fraction': 0.8264314500699755, 'lambda_l1': 0.4935269493455536, 'lambda_l2': 0.08497881916602552}. Best is trial 25 with value: 0.8274760383386581.\n"
     ]
    },
    {
     "name": "stdout",
     "output_type": "stream",
     "text": [
      "Did not meet early stopping. Best iteration is:\n",
      "[100]\tvalid_0's auc: 0.824533\n",
      "Training until validation scores don't improve for 30 rounds\n",
      "Early stopping, best iteration is:\n",
      "[56]\tvalid_0's auc: 0.823356\n",
      "Training until validation scores don't improve for 30 rounds\n"
     ]
    },
    {
     "name": "stderr",
     "output_type": "stream",
     "text": [
      "[I 2025-08-04 22:21:48,659] Trial 29 finished with value: 0.8284849503951572 and parameters: {'learning_rate': 0.14943279097334755, 'num_leaves': 77, 'max_depth': 9, 'min_child_samples': 50, 'feature_fraction': 0.6859202087837486, 'bagging_fraction': 0.8366137434745017, 'lambda_l1': 0.4957133983101959, 'lambda_l2': 0.603567425323498}. Best is trial 29 with value: 0.8284849503951572.\n"
     ]
    },
    {
     "name": "stdout",
     "output_type": "stream",
     "text": [
      "Did not meet early stopping. Best iteration is:\n",
      "[86]\tvalid_0's auc: 0.828485\n",
      "✅ NR-PPAR-gamma - AUC: 0.9392, Accuracy: 0.9690, Threshold: 0.11\n",
      "\n",
      "📍 Training for label 8/12: SR-ARE\n"
     ]
    },
    {
     "name": "stderr",
     "output_type": "stream",
     "text": [
      "[I 2025-08-04 22:21:51,543] A new study created in memory with name: no-name-07ee0ae5-dcb5-4bcf-808b-4cd4d269f9b0\n",
      "[I 2025-08-04 22:21:51,733] Trial 0 finished with value: 0.8321259191576383 and parameters: {'learning_rate': 0.12576111149990338, 'num_leaves': 66, 'max_depth': 7, 'min_child_samples': 47, 'feature_fraction': 0.9433635191308398, 'bagging_fraction': 0.9497763068180696, 'lambda_l1': 0.531506068618574, 'lambda_l2': 0.5264454429625025}. Best is trial 0 with value: 0.8321259191576383.\n"
     ]
    },
    {
     "name": "stdout",
     "output_type": "stream",
     "text": [
      "→ Reduced to 2055 features.\n",
      "Training until validation scores don't improve for 30 rounds\n",
      "Did not meet early stopping. Best iteration is:\n",
      "[86]\tvalid_0's auc: 0.832126\n"
     ]
    },
    {
     "name": "stderr",
     "output_type": "stream",
     "text": [
      "[I 2025-08-04 22:21:51,849] Trial 1 finished with value: 0.8425249097158769 and parameters: {'learning_rate': 0.13775863545001352, 'num_leaves': 29, 'max_depth': 10, 'min_child_samples': 50, 'feature_fraction': 0.6335314704575807, 'bagging_fraction': 0.8114602415599155, 'lambda_l1': 0.3767368862525453, 'lambda_l2': 0.7861700111160804}. Best is trial 1 with value: 0.8425249097158769.\n",
      "[I 2025-08-04 22:21:51,941] Trial 2 finished with value: 0.8446134099116739 and parameters: {'learning_rate': 0.14060212252130372, 'num_leaves': 39, 'max_depth': 6, 'min_child_samples': 24, 'feature_fraction': 0.8153261069653059, 'bagging_fraction': 0.7866791516775922, 'lambda_l1': 0.2780683371624698, 'lambda_l2': 0.639719974619932}. Best is trial 2 with value: 0.8446134099116739.\n"
     ]
    },
    {
     "name": "stdout",
     "output_type": "stream",
     "text": [
      "Training until validation scores don't improve for 30 rounds\n",
      "Did not meet early stopping. Best iteration is:\n",
      "[98]\tvalid_0's auc: 0.842525\n",
      "Training until validation scores don't improve for 30 rounds\n",
      "Did not meet early stopping. Best iteration is:\n",
      "[94]\tvalid_0's auc: 0.844613\n"
     ]
    },
    {
     "name": "stderr",
     "output_type": "stream",
     "text": [
      "[I 2025-08-04 22:21:52,053] Trial 3 finished with value: 0.8357807945002828 and parameters: {'learning_rate': 0.1986895033940955, 'num_leaves': 52, 'max_depth': 5, 'min_child_samples': 41, 'feature_fraction': 0.9141276665843505, 'bagging_fraction': 0.6696955175569849, 'lambda_l1': 0.5933930590606458, 'lambda_l2': 0.7544695975939961}. Best is trial 2 with value: 0.8446134099116739.\n",
      "[I 2025-08-04 22:21:52,173] Trial 4 finished with value: 0.8300809293825872 and parameters: {'learning_rate': 0.036956456350560093, 'num_leaves': 45, 'max_depth': 6, 'min_child_samples': 23, 'feature_fraction': 0.704785909888304, 'bagging_fraction': 0.6902325702846914, 'lambda_l1': 0.10730664115046717, 'lambda_l2': 0.6726447529326812}. Best is trial 2 with value: 0.8446134099116739.\n"
     ]
    },
    {
     "name": "stdout",
     "output_type": "stream",
     "text": [
      "Training until validation scores don't improve for 30 rounds\n",
      "Did not meet early stopping. Best iteration is:\n",
      "[98]\tvalid_0's auc: 0.835781\n",
      "Training until validation scores don't improve for 30 rounds\n",
      "Did not meet early stopping. Best iteration is:\n",
      "[99]\tvalid_0's auc: 0.830081\n",
      "Training until validation scores don't improve for 30 rounds\n"
     ]
    },
    {
     "name": "stderr",
     "output_type": "stream",
     "text": [
      "[I 2025-08-04 22:21:52,270] Trial 5 finished with value: 0.8302332158551974 and parameters: {'learning_rate': 0.15184015482674104, 'num_leaves': 44, 'max_depth': 5, 'min_child_samples': 23, 'feature_fraction': 0.8351284003734938, 'bagging_fraction': 0.6416015217499262, 'lambda_l1': 0.4965790197134681, 'lambda_l2': 0.8280700882648852}. Best is trial 2 with value: 0.8446134099116739.\n",
      "[I 2025-08-04 22:21:52,383] Trial 6 finished with value: 0.8566440412478789 and parameters: {'learning_rate': 0.1669726198610931, 'num_leaves': 22, 'max_depth': 10, 'min_child_samples': 24, 'feature_fraction': 0.8835176093100507, 'bagging_fraction': 0.981031408334575, 'lambda_l1': 0.39563266516164297, 'lambda_l2': 0.6478115197383203}. Best is trial 6 with value: 0.8566440412478789.\n"
     ]
    },
    {
     "name": "stdout",
     "output_type": "stream",
     "text": [
      "Did not meet early stopping. Best iteration is:\n",
      "[71]\tvalid_0's auc: 0.830233\n",
      "Training until validation scores don't improve for 30 rounds\n",
      "Did not meet early stopping. Best iteration is:\n",
      "[96]\tvalid_0's auc: 0.856644\n",
      "Training until validation scores don't improve for 30 rounds\n"
     ]
    },
    {
     "name": "stderr",
     "output_type": "stream",
     "text": [
      "[I 2025-08-04 22:21:52,513] Trial 7 finished with value: 0.853794108689031 and parameters: {'learning_rate': 0.057142634669102826, 'num_leaves': 41, 'max_depth': 10, 'min_child_samples': 20, 'feature_fraction': 0.6788742893220222, 'bagging_fraction': 0.9900775125629678, 'lambda_l1': 0.6241532921442898, 'lambda_l2': 0.6942892263972512}. Best is trial 6 with value: 0.8566440412478789.\n",
      "[I 2025-08-04 22:21:52,643] Trial 8 finished with value: 0.8648240003480833 and parameters: {'learning_rate': 0.13960172067731322, 'num_leaves': 42, 'max_depth': 6, 'min_child_samples': 10, 'feature_fraction': 0.7731444132273968, 'bagging_fraction': 0.6312735893066822, 'lambda_l1': 0.623840295537567, 'lambda_l2': 0.6923568670680433}. Best is trial 8 with value: 0.8648240003480833.\n"
     ]
    },
    {
     "name": "stdout",
     "output_type": "stream",
     "text": [
      "Did not meet early stopping. Best iteration is:\n",
      "[99]\tvalid_0's auc: 0.853794\n",
      "Training until validation scores don't improve for 30 rounds\n",
      "Did not meet early stopping. Best iteration is:\n",
      "[98]\tvalid_0's auc: 0.864824\n",
      "Training until validation scores don't improve for 30 rounds\n"
     ]
    },
    {
     "name": "stderr",
     "output_type": "stream",
     "text": [
      "[I 2025-08-04 22:21:52,793] Trial 9 finished with value: 0.8367380237566898 and parameters: {'learning_rate': 0.04916249611796223, 'num_leaves': 31, 'max_depth': 11, 'min_child_samples': 29, 'feature_fraction': 0.8044381559998145, 'bagging_fraction': 0.6065277280612638, 'lambda_l1': 0.8834205231017862, 'lambda_l2': 0.7742071636706317}. Best is trial 8 with value: 0.8648240003480833.\n",
      "[I 2025-08-04 22:21:52,903] Trial 10 finished with value: 0.833126658834791 and parameters: {'learning_rate': 0.09885059799295651, 'num_leaves': 80, 'max_depth': 3, 'min_child_samples': 11, 'feature_fraction': 0.9962038515608664, 'bagging_fraction': 0.7585230863453267, 'lambda_l1': 0.8575004375877616, 'lambda_l2': 0.2073995674220891}. Best is trial 8 with value: 0.8648240003480833.\n"
     ]
    },
    {
     "name": "stdout",
     "output_type": "stream",
     "text": [
      "Did not meet early stopping. Best iteration is:\n",
      "[100]\tvalid_0's auc: 0.836738\n",
      "Training until validation scores don't improve for 30 rounds\n",
      "Did not meet early stopping. Best iteration is:\n",
      "[99]\tvalid_0's auc: 0.833127\n",
      "Training until validation scores don't improve for 30 rounds\n"
     ]
    },
    {
     "name": "stderr",
     "output_type": "stream",
     "text": [
      "[I 2025-08-04 22:21:53,033] Trial 11 finished with value: 0.8590153591785233 and parameters: {'learning_rate': 0.18802514097187623, 'num_leaves': 20, 'max_depth': 9, 'min_child_samples': 10, 'feature_fraction': 0.7490164870525108, 'bagging_fraction': 0.8948596150322029, 'lambda_l1': 0.6980929858655942, 'lambda_l2': 0.3199917354319426}. Best is trial 8 with value: 0.8648240003480833.\n",
      "[I 2025-08-04 22:21:53,161] Trial 12 finished with value: 0.8628660314145238 and parameters: {'learning_rate': 0.19340404145161158, 'num_leaves': 57, 'max_depth': 8, 'min_child_samples': 10, 'feature_fraction': 0.7379535246596771, 'bagging_fraction': 0.8739186800933748, 'lambda_l1': 0.7257680211537606, 'lambda_l2': 0.24862871438954026}. Best is trial 8 with value: 0.8648240003480833.\n"
     ]
    },
    {
     "name": "stdout",
     "output_type": "stream",
     "text": [
      "Did not meet early stopping. Best iteration is:\n",
      "[82]\tvalid_0's auc: 0.859015\n",
      "Training until validation scores don't improve for 30 rounds\n",
      "Early stopping, best iteration is:\n",
      "[69]\tvalid_0's auc: 0.862866\n"
     ]
    },
    {
     "name": "stderr",
     "output_type": "stream",
     "text": [
      "[I 2025-08-04 22:21:53,320] Trial 13 finished with value: 0.8571444110864552 and parameters: {'learning_rate': 0.09475878421726847, 'num_leaves': 56, 'max_depth': 8, 'min_child_samples': 16, 'feature_fraction': 0.7382694907541411, 'bagging_fraction': 0.8673414169256509, 'lambda_l1': 0.7474446526357448, 'lambda_l2': 0.09265815105827918}. Best is trial 8 with value: 0.8648240003480833.\n",
      "[I 2025-08-04 22:21:53,413] Trial 14 finished with value: 0.8226624026454337 and parameters: {'learning_rate': 0.1700399228278226, 'num_leaves': 62, 'max_depth': 3, 'min_child_samples': 36, 'feature_fraction': 0.7594260200699591, 'bagging_fraction': 0.7293040633748797, 'lambda_l1': 0.99626451225147, 'lambda_l2': 0.9825536497385224}. Best is trial 8 with value: 0.8648240003480833.\n"
     ]
    },
    {
     "name": "stdout",
     "output_type": "stream",
     "text": [
      "Training until validation scores don't improve for 30 rounds\n",
      "Did not meet early stopping. Best iteration is:\n",
      "[100]\tvalid_0's auc: 0.857144\n",
      "Training until validation scores don't improve for 30 rounds\n",
      "Did not meet early stopping. Best iteration is:\n",
      "[100]\tvalid_0's auc: 0.822662\n"
     ]
    },
    {
     "name": "stderr",
     "output_type": "stream",
     "text": [
      "[I 2025-08-04 22:21:53,609] Trial 15 finished with value: 0.8282534917112649 and parameters: {'learning_rate': 0.012422707104846789, 'num_leaves': 70, 'max_depth': 8, 'min_child_samples': 15, 'feature_fraction': 0.6648482484568105, 'bagging_fraction': 0.8513143580576035, 'lambda_l1': 0.7681028365843017, 'lambda_l2': 0.3727803965074803}. Best is trial 8 with value: 0.8648240003480833.\n"
     ]
    },
    {
     "name": "stdout",
     "output_type": "stream",
     "text": [
      "Training until validation scores don't improve for 30 rounds\n",
      "Did not meet early stopping. Best iteration is:\n",
      "[98]\tvalid_0's auc: 0.828253\n",
      "Training until validation scores don't improve for 30 rounds\n"
     ]
    },
    {
     "name": "stderr",
     "output_type": "stream",
     "text": [
      "[I 2025-08-04 22:21:53,751] Trial 16 finished with value: 0.8537288430579123 and parameters: {'learning_rate': 0.11549795465942364, 'num_leaves': 58, 'max_depth': 7, 'min_child_samples': 16, 'feature_fraction': 0.6072366668478499, 'bagging_fraction': 0.9224902560439269, 'lambda_l1': 0.02597073070624567, 'lambda_l2': 0.0039046233587415324}. Best is trial 8 with value: 0.8648240003480833.\n",
      "[I 2025-08-04 22:21:53,871] Trial 17 finished with value: 0.8390875864769612 and parameters: {'learning_rate': 0.17639210563353463, 'num_leaves': 51, 'max_depth': 5, 'min_child_samples': 32, 'feature_fraction': 0.8565071479874318, 'bagging_fraction': 0.8261859121671163, 'lambda_l1': 0.8581945575381627, 'lambda_l2': 0.4627151926913092}. Best is trial 8 with value: 0.8648240003480833.\n"
     ]
    },
    {
     "name": "stdout",
     "output_type": "stream",
     "text": [
      "Early stopping, best iteration is:\n",
      "[68]\tvalid_0's auc: 0.853729\n",
      "Training until validation scores don't improve for 30 rounds\n",
      "Did not meet early stopping. Best iteration is:\n",
      "[94]\tvalid_0's auc: 0.839088\n"
     ]
    },
    {
     "name": "stderr",
     "output_type": "stream",
     "text": [
      "[I 2025-08-04 22:21:54,053] Trial 18 finished with value: 0.8602771613801505 and parameters: {'learning_rate': 0.07584857008052705, 'num_leaves': 34, 'max_depth': 12, 'min_child_samples': 13, 'feature_fraction': 0.7781483998606342, 'bagging_fraction': 0.7146991133324279, 'lambda_l1': 0.6476578762398632, 'lambda_l2': 0.20806826872591067}. Best is trial 8 with value: 0.8648240003480833.\n"
     ]
    },
    {
     "name": "stdout",
     "output_type": "stream",
     "text": [
      "Training until validation scores don't improve for 30 rounds\n",
      "Did not meet early stopping. Best iteration is:\n",
      "[81]\tvalid_0's auc: 0.860277\n",
      "Training until validation scores don't improve for 30 rounds\n",
      "Did not meet early stopping. Best iteration is:\n",
      "[86]\tvalid_0's auc: 0.836303\n"
     ]
    },
    {
     "name": "stderr",
     "output_type": "stream",
     "text": [
      "[I 2025-08-04 22:21:54,143] Trial 19 finished with value: 0.8363029195492321 and parameters: {'learning_rate': 0.1560418410812668, 'num_leaves': 72, 'max_depth': 4, 'min_child_samples': 19, 'feature_fraction': 0.7157946762355419, 'bagging_fraction': 0.6044200482866617, 'lambda_l1': 0.4444227159592711, 'lambda_l2': 0.9126820298071175}. Best is trial 8 with value: 0.8648240003480833.\n",
      "[I 2025-08-04 22:21:54,304] Trial 20 finished with value: 0.8534460253230648 and parameters: {'learning_rate': 0.19744365733130126, 'num_leaves': 49, 'max_depth': 9, 'min_child_samples': 28, 'feature_fraction': 0.7844751181653388, 'bagging_fraction': 0.7725974016009862, 'lambda_l1': 0.2819272534711571, 'lambda_l2': 0.4937181940507302}. Best is trial 8 with value: 0.8648240003480833.\n"
     ]
    },
    {
     "name": "stdout",
     "output_type": "stream",
     "text": [
      "Training until validation scores don't improve for 30 rounds\n",
      "Did not meet early stopping. Best iteration is:\n",
      "[92]\tvalid_0's auc: 0.853446\n",
      "Training until validation scores don't improve for 30 rounds\n"
     ]
    },
    {
     "name": "stderr",
     "output_type": "stream",
     "text": [
      "[I 2025-08-04 22:21:54,453] Trial 21 finished with value: 0.8649110211895751 and parameters: {'learning_rate': 0.08317575275393814, 'num_leaves': 33, 'max_depth': 12, 'min_child_samples': 10, 'feature_fraction': 0.7856370473268605, 'bagging_fraction': 0.7142905533399603, 'lambda_l1': 0.6479683620194748, 'lambda_l2': 0.20559920495550937}. Best is trial 21 with value: 0.8649110211895751.\n",
      "[I 2025-08-04 22:21:54,614] Trial 22 finished with value: 0.8668037244920158 and parameters: {'learning_rate': 0.07781768627458924, 'num_leaves': 36, 'max_depth': 12, 'min_child_samples': 10, 'feature_fraction': 0.7167600436822259, 'bagging_fraction': 0.7381412308436339, 'lambda_l1': 0.5516671952775761, 'lambda_l2': 0.23396742749082772}. Best is trial 22 with value: 0.8668037244920158.\n"
     ]
    },
    {
     "name": "stdout",
     "output_type": "stream",
     "text": [
      "Did not meet early stopping. Best iteration is:\n",
      "[98]\tvalid_0's auc: 0.864911\n",
      "Training until validation scores don't improve for 30 rounds\n",
      "Did not meet early stopping. Best iteration is:\n",
      "[86]\tvalid_0's auc: 0.866804\n"
     ]
    },
    {
     "name": "stderr",
     "output_type": "stream",
     "text": [
      "[I 2025-08-04 22:21:54,793] Trial 23 finished with value: 0.8583627028673366 and parameters: {'learning_rate': 0.08163050548633763, 'num_leaves': 36, 'max_depth': 12, 'min_child_samples': 19, 'feature_fraction': 0.6774563939284345, 'bagging_fraction': 0.6432459443036145, 'lambda_l1': 0.5290414417411287, 'lambda_l2': 0.09577989017293856}. Best is trial 22 with value: 0.8668037244920158.\n"
     ]
    },
    {
     "name": "stdout",
     "output_type": "stream",
     "text": [
      "Training until validation scores don't improve for 30 rounds\n",
      "Did not meet early stopping. Best iteration is:\n",
      "[98]\tvalid_0's auc: 0.858363\n",
      "Training until validation scores don't improve for 30 rounds\n"
     ]
    },
    {
     "name": "stderr",
     "output_type": "stream",
     "text": [
      "[I 2025-08-04 22:21:54,950] Trial 24 finished with value: 0.8568180829308619 and parameters: {'learning_rate': 0.07728563611445974, 'num_leaves': 26, 'max_depth': 11, 'min_child_samples': 13, 'feature_fraction': 0.8477158211865017, 'bagging_fraction': 0.736167951713821, 'lambda_l1': 0.5935066719772291, 'lambda_l2': 0.345566825430065}. Best is trial 22 with value: 0.8668037244920158.\n",
      "[I 2025-08-04 22:21:55,103] Trial 25 finished with value: 0.8661945786015751 and parameters: {'learning_rate': 0.11375894680572138, 'num_leaves': 37, 'max_depth': 12, 'min_child_samples': 13, 'feature_fraction': 0.7178431843190428, 'bagging_fraction': 0.6838615646948842, 'lambda_l1': 0.3409604038792141, 'lambda_l2': 0.5562599720337392}. Best is trial 22 with value: 0.8668037244920158.\n"
     ]
    },
    {
     "name": "stdout",
     "output_type": "stream",
     "text": [
      "Did not meet early stopping. Best iteration is:\n",
      "[98]\tvalid_0's auc: 0.856818\n",
      "Training until validation scores don't improve for 30 rounds\n",
      "Did not meet early stopping. Best iteration is:\n",
      "[90]\tvalid_0's auc: 0.866195\n"
     ]
    },
    {
     "name": "stderr",
     "output_type": "stream",
     "text": [
      "[I 2025-08-04 22:21:55,254] Trial 26 finished with value: 0.8617565156855066 and parameters: {'learning_rate': 0.11582156510194155, 'num_leaves': 35, 'max_depth': 12, 'min_child_samples': 14, 'feature_fraction': 0.7096941019998663, 'bagging_fraction': 0.6866241571515237, 'lambda_l1': 0.2839332152069284, 'lambda_l2': 0.40702688327949366}. Best is trial 22 with value: 0.8668037244920158.\n"
     ]
    },
    {
     "name": "stdout",
     "output_type": "stream",
     "text": [
      "Training until validation scores don't improve for 30 rounds\n",
      "Did not meet early stopping. Best iteration is:\n",
      "[91]\tvalid_0's auc: 0.861757\n",
      "Training until validation scores don't improve for 30 rounds\n"
     ]
    },
    {
     "name": "stderr",
     "output_type": "stream",
     "text": [
      "[I 2025-08-04 22:21:55,403] Trial 27 finished with value: 0.8534025149023191 and parameters: {'learning_rate': 0.05812797926154328, 'num_leaves': 27, 'max_depth': 11, 'min_child_samples': 18, 'feature_fraction': 0.6623527862481519, 'bagging_fraction': 0.7062548689210488, 'lambda_l1': 0.2198041528872403, 'lambda_l2': 0.55246111942481}. Best is trial 22 with value: 0.8668037244920158.\n",
      "[I 2025-08-04 22:21:55,563] Trial 28 finished with value: 0.8606905103772354 and parameters: {'learning_rate': 0.08606742639065676, 'num_leaves': 32, 'max_depth': 12, 'min_child_samples': 14, 'feature_fraction': 0.6314473185088225, 'bagging_fraction': 0.7482676907216242, 'lambda_l1': 0.4108025483798776, 'lambda_l2': 0.26789641303593087}. Best is trial 22 with value: 0.8668037244920158.\n"
     ]
    },
    {
     "name": "stdout",
     "output_type": "stream",
     "text": [
      "Did not meet early stopping. Best iteration is:\n",
      "[88]\tvalid_0's auc: 0.853403\n",
      "Training until validation scores don't improve for 30 rounds\n",
      "Did not meet early stopping. Best iteration is:\n",
      "[100]\tvalid_0's auc: 0.860691\n"
     ]
    },
    {
     "name": "stderr",
     "output_type": "stream",
     "text": [
      "[I 2025-08-04 22:21:55,723] Trial 29 finished with value: 0.8363246747596049 and parameters: {'learning_rate': 0.10827449603910642, 'num_leaves': 38, 'max_depth': 11, 'min_child_samples': 42, 'feature_fraction': 0.7192662816748625, 'bagging_fraction': 0.657144045469921, 'lambda_l1': 0.47794382733752416, 'lambda_l2': 0.5611828196783111}. Best is trial 22 with value: 0.8668037244920158.\n"
     ]
    },
    {
     "name": "stdout",
     "output_type": "stream",
     "text": [
      "Training until validation scores don't improve for 30 rounds\n",
      "Did not meet early stopping. Best iteration is:\n",
      "[79]\tvalid_0's auc: 0.836325\n",
      "✅ SR-ARE - AUC: 0.8131, Accuracy: 0.8168, Threshold: 0.21\n",
      "\n",
      "📍 Training for label 9/12: SR-ATAD5\n"
     ]
    },
    {
     "name": "stderr",
     "output_type": "stream",
     "text": [
      "[I 2025-08-04 22:21:58,140] A new study created in memory with name: no-name-8d122426-b330-4f08-a87e-9ebd3dd5e503\n"
     ]
    },
    {
     "name": "stdout",
     "output_type": "stream",
     "text": [
      "→ Reduced to 2055 features.\n",
      "Training until validation scores don't improve for 30 rounds\n"
     ]
    },
    {
     "name": "stderr",
     "output_type": "stream",
     "text": [
      "[I 2025-08-04 22:21:58,383] Trial 0 finished with value: 0.8725290861854739 and parameters: {'learning_rate': 0.16984180195129225, 'num_leaves': 24, 'max_depth': 11, 'min_child_samples': 40, 'feature_fraction': 0.8202140617423153, 'bagging_fraction': 0.63730226949276, 'lambda_l1': 0.560026001092628, 'lambda_l2': 0.9738966612047006}. Best is trial 0 with value: 0.8725290861854739.\n",
      "[I 2025-08-04 22:21:58,470] Trial 1 finished with value: 0.7983734327346662 and parameters: {'learning_rate': 0.0534359462789264, 'num_leaves': 47, 'max_depth': 4, 'min_child_samples': 33, 'feature_fraction': 0.9709073862287563, 'bagging_fraction': 0.7264197155362441, 'lambda_l1': 0.8515480788944202, 'lambda_l2': 0.8097362950543565}. Best is trial 0 with value: 0.8725290861854739.\n"
     ]
    },
    {
     "name": "stdout",
     "output_type": "stream",
     "text": [
      "Did not meet early stopping. Best iteration is:\n",
      "[79]\tvalid_0's auc: 0.872529\n",
      "Training until validation scores don't improve for 30 rounds\n",
      "Did not meet early stopping. Best iteration is:\n",
      "[99]\tvalid_0's auc: 0.798373\n",
      "Training until validation scores don't improve for 30 rounds\n"
     ]
    },
    {
     "name": "stderr",
     "output_type": "stream",
     "text": [
      "[I 2025-08-04 22:21:58,593] Trial 2 finished with value: 0.8426522082909749 and parameters: {'learning_rate': 0.06384565470913643, 'num_leaves': 37, 'max_depth': 9, 'min_child_samples': 37, 'feature_fraction': 0.6711030794209719, 'bagging_fraction': 0.9047728793254448, 'lambda_l1': 0.06918376299194673, 'lambda_l2': 0.31162759472312584}. Best is trial 0 with value: 0.8725290861854739.\n",
      "[I 2025-08-04 22:21:58,673] Trial 3 finished with value: 0.762848751835536 and parameters: {'learning_rate': 0.02444974193615622, 'num_leaves': 46, 'max_depth': 6, 'min_child_samples': 39, 'feature_fraction': 0.930624522918692, 'bagging_fraction': 0.8765716622960102, 'lambda_l1': 0.15332822190860462, 'lambda_l2': 0.6676495945307303}. Best is trial 0 with value: 0.8725290861854739.\n"
     ]
    },
    {
     "name": "stdout",
     "output_type": "stream",
     "text": [
      "Did not meet early stopping. Best iteration is:\n",
      "[100]\tvalid_0's auc: 0.842652\n",
      "Training until validation scores don't improve for 30 rounds\n",
      "Early stopping, best iteration is:\n",
      "[31]\tvalid_0's auc: 0.762849\n",
      "Training until validation scores don't improve for 30 rounds\n"
     ]
    },
    {
     "name": "stderr",
     "output_type": "stream",
     "text": [
      "[I 2025-08-04 22:21:58,810] Trial 4 finished with value: 0.8723596520953348 and parameters: {'learning_rate': 0.16407093291299626, 'num_leaves': 43, 'max_depth': 10, 'min_child_samples': 38, 'feature_fraction': 0.6866419471489269, 'bagging_fraction': 0.9336097974129796, 'lambda_l1': 0.4545141103175516, 'lambda_l2': 0.7413261199287873}. Best is trial 0 with value: 0.8725290861854739.\n",
      "[I 2025-08-04 22:21:58,963] Trial 5 finished with value: 0.8489777476561617 and parameters: {'learning_rate': 0.05923856077408726, 'num_leaves': 68, 'max_depth': 11, 'min_child_samples': 48, 'feature_fraction': 0.8090389615474372, 'bagging_fraction': 0.6562982281301056, 'lambda_l1': 0.18352982724829747, 'lambda_l2': 0.3998270378499381}. Best is trial 0 with value: 0.8725290861854739.\n"
     ]
    },
    {
     "name": "stdout",
     "output_type": "stream",
     "text": [
      "Did not meet early stopping. Best iteration is:\n",
      "[93]\tvalid_0's auc: 0.87236\n",
      "Training until validation scores don't improve for 30 rounds\n",
      "Did not meet early stopping. Best iteration is:\n",
      "[100]\tvalid_0's auc: 0.848978\n"
     ]
    },
    {
     "name": "stderr",
     "output_type": "stream",
     "text": [
      "[I 2025-08-04 22:21:59,120] Trial 6 finished with value: 0.8641138597085734 and parameters: {'learning_rate': 0.09179103279833228, 'num_leaves': 45, 'max_depth': 9, 'min_child_samples': 35, 'feature_fraction': 0.6332163165096106, 'bagging_fraction': 0.6230173443394877, 'lambda_l1': 0.9014593026544303, 'lambda_l2': 0.7401003693544045}. Best is trial 0 with value: 0.8725290861854739.\n"
     ]
    },
    {
     "name": "stdout",
     "output_type": "stream",
     "text": [
      "Training until validation scores don't improve for 30 rounds\n",
      "Did not meet early stopping. Best iteration is:\n",
      "[84]\tvalid_0's auc: 0.864114\n",
      "Training until validation scores don't improve for 30 rounds\n"
     ]
    },
    {
     "name": "stderr",
     "output_type": "stream",
     "text": [
      "[I 2025-08-04 22:21:59,244] Trial 7 finished with value: 0.8702699649836214 and parameters: {'learning_rate': 0.1755880615835201, 'num_leaves': 36, 'max_depth': 8, 'min_child_samples': 28, 'feature_fraction': 0.7609107767351048, 'bagging_fraction': 0.645494836306756, 'lambda_l1': 0.4279205136184112, 'lambda_l2': 0.14624232697514516}. Best is trial 0 with value: 0.8725290861854739.\n",
      "[I 2025-08-04 22:21:59,319] Trial 8 finished with value: 0.8630972551677397 and parameters: {'learning_rate': 0.19123823628224249, 'num_leaves': 55, 'max_depth': 3, 'min_child_samples': 19, 'feature_fraction': 0.9055806207170378, 'bagging_fraction': 0.8661809262759128, 'lambda_l1': 0.05579313669256469, 'lambda_l2': 0.42491576901718264}. Best is trial 0 with value: 0.8725290861854739.\n"
     ]
    },
    {
     "name": "stdout",
     "output_type": "stream",
     "text": [
      "Did not meet early stopping. Best iteration is:\n",
      "[99]\tvalid_0's auc: 0.87027\n",
      "Training until validation scores don't improve for 30 rounds\n",
      "Did not meet early stopping. Best iteration is:\n",
      "[80]\tvalid_0's auc: 0.863097\n",
      "Training until validation scores don't improve for 30 rounds\n"
     ]
    },
    {
     "name": "stderr",
     "output_type": "stream",
     "text": [
      "[I 2025-08-04 22:21:59,460] Trial 9 finished with value: 0.8321472947023607 and parameters: {'learning_rate': 0.034543301129231194, 'num_leaves': 79, 'max_depth': 8, 'min_child_samples': 48, 'feature_fraction': 0.6079905643022131, 'bagging_fraction': 0.8627488046987533, 'lambda_l1': 0.7992033483892681, 'lambda_l2': 0.14865260746200037}. Best is trial 0 with value: 0.8725290861854739.\n",
      "[I 2025-08-04 22:21:59,603] Trial 10 finished with value: 0.8566022817124138 and parameters: {'learning_rate': 0.1346747169009815, 'num_leaves': 22, 'max_depth': 12, 'min_child_samples': 17, 'feature_fraction': 0.8368634137673342, 'bagging_fraction': 0.7740991302032367, 'lambda_l1': 0.636709336884068, 'lambda_l2': 0.922667238624195}. Best is trial 0 with value: 0.8725290861854739.\n"
     ]
    },
    {
     "name": "stdout",
     "output_type": "stream",
     "text": [
      "Did not meet early stopping. Best iteration is:\n",
      "[100]\tvalid_0's auc: 0.832147\n",
      "Training until validation scores don't improve for 30 rounds\n",
      "Did not meet early stopping. Best iteration is:\n",
      "[99]\tvalid_0's auc: 0.856602\n"
     ]
    },
    {
     "name": "stderr",
     "output_type": "stream",
     "text": [
      "[I 2025-08-04 22:21:59,732] Trial 11 finished with value: 0.8680673218118152 and parameters: {'learning_rate': 0.14742027649741846, 'num_leaves': 20, 'max_depth': 11, 'min_child_samples': 43, 'feature_fraction': 0.7249761843485366, 'bagging_fraction': 0.994840155713961, 'lambda_l1': 0.36928627273873244, 'lambda_l2': 0.9952182355708703}. Best is trial 0 with value: 0.8725290861854739.\n"
     ]
    },
    {
     "name": "stdout",
     "output_type": "stream",
     "text": [
      "Training until validation scores don't improve for 30 rounds\n",
      "Did not meet early stopping. Best iteration is:\n",
      "[93]\tvalid_0's auc: 0.868067\n",
      "Training until validation scores don't improve for 30 rounds\n"
     ]
    },
    {
     "name": "stderr",
     "output_type": "stream",
     "text": [
      "[I 2025-08-04 22:21:59,902] Trial 12 finished with value: 0.8720207839150571 and parameters: {'learning_rate': 0.1519225226141937, 'num_leaves': 28, 'max_depth': 10, 'min_child_samples': 25, 'feature_fraction': 0.7047122456013365, 'bagging_fraction': 0.9741100703416834, 'lambda_l1': 0.5571959899888534, 'lambda_l2': 0.6054529028305358}. Best is trial 0 with value: 0.8725290861854739.\n",
      "[I 2025-08-04 22:22:00,060] Trial 13 finished with value: 0.8619112165367672 and parameters: {'learning_rate': 0.10723753771511291, 'num_leaves': 58, 'max_depth': 12, 'min_child_samples': 42, 'feature_fraction': 0.850351572273883, 'bagging_fraction': 0.7170295634531956, 'lambda_l1': 0.6563019947318683, 'lambda_l2': 0.8212791431778446}. Best is trial 0 with value: 0.8725290861854739.\n"
     ]
    },
    {
     "name": "stdout",
     "output_type": "stream",
     "text": [
      "Did not meet early stopping. Best iteration is:\n",
      "[98]\tvalid_0's auc: 0.872021\n",
      "Training until validation scores don't improve for 30 rounds\n",
      "Did not meet early stopping. Best iteration is:\n",
      "[88]\tvalid_0's auc: 0.861911\n"
     ]
    },
    {
     "name": "stderr",
     "output_type": "stream",
     "text": [
      "[I 2025-08-04 22:22:00,162] Trial 14 finished with value: 0.8557551112617192 and parameters: {'learning_rate': 0.19604668865031888, 'num_leaves': 33, 'max_depth': 6, 'min_child_samples': 10, 'feature_fraction': 0.7600452916914033, 'bagging_fraction': 0.7974259892220463, 'lambda_l1': 0.3108728548851915, 'lambda_l2': 0.5937992016988662}. Best is trial 0 with value: 0.8725290861854739.\n"
     ]
    },
    {
     "name": "stdout",
     "output_type": "stream",
     "text": [
      "Training until validation scores don't improve for 30 rounds\n",
      "Early stopping, best iteration is:\n",
      "[46]\tvalid_0's auc: 0.855755\n",
      "Training until validation scores don't improve for 30 rounds\n",
      "Did not meet early stopping. Best iteration is:\n",
      "[87]\tvalid_0's auc: 0.863831\n"
     ]
    },
    {
     "name": "stderr",
     "output_type": "stream",
     "text": [
      "[I 2025-08-04 22:22:00,310] Trial 15 finished with value: 0.8638314695583418 and parameters: {'learning_rate': 0.1676333175735818, 'num_leaves': 29, 'max_depth': 10, 'min_child_samples': 31, 'feature_fraction': 0.8765774180707129, 'bagging_fraction': 0.9236284336119521, 'lambda_l1': 0.5138083563603096, 'lambda_l2': 0.8745999606318203}. Best is trial 0 with value: 0.8725290861854739.\n",
      "[I 2025-08-04 22:22:00,463] Trial 16 finished with value: 0.8771038066192253 and parameters: {'learning_rate': 0.12163561343370974, 'num_leaves': 64, 'max_depth': 10, 'min_child_samples': 42, 'feature_fraction': 0.761152703060633, 'bagging_fraction': 0.6937086489091484, 'lambda_l1': 0.7327404772375163, 'lambda_l2': 0.999065194872609}. Best is trial 16 with value: 0.8771038066192253.\n"
     ]
    },
    {
     "name": "stdout",
     "output_type": "stream",
     "text": [
      "Training until validation scores don't improve for 30 rounds\n",
      "Did not meet early stopping. Best iteration is:\n",
      "[100]\tvalid_0's auc: 0.877104\n",
      "Training until validation scores don't improve for 30 rounds\n",
      "Did not meet early stopping. Best iteration is:\n",
      "[91]\tvalid_0's auc: 0.84926\n"
     ]
    },
    {
     "name": "stderr",
     "output_type": "stream",
     "text": [
      "[I 2025-08-04 22:22:00,582] Trial 17 finished with value: 0.8492601378063933 and parameters: {'learning_rate': 0.10557320832841624, 'num_leaves': 64, 'max_depth': 6, 'min_child_samples': 44, 'feature_fraction': 0.7914154364214919, 'bagging_fraction': 0.6987520351537321, 'lambda_l1': 0.9890488421212852, 'lambda_l2': 0.011477637644851768}. Best is trial 16 with value: 0.8771038066192253.\n",
      "[I 2025-08-04 22:22:00,723] Trial 18 finished with value: 0.8765955043488084 and parameters: {'learning_rate': 0.1257941079607578, 'num_leaves': 73, 'max_depth': 11, 'min_child_samples': 50, 'feature_fraction': 0.7578831879562966, 'bagging_fraction': 0.6872902057601648, 'lambda_l1': 0.730850946417655, 'lambda_l2': 0.9683455918915035}. Best is trial 16 with value: 0.8771038066192253.\n"
     ]
    },
    {
     "name": "stdout",
     "output_type": "stream",
     "text": [
      "Training until validation scores don't improve for 30 rounds\n",
      "Did not meet early stopping. Best iteration is:\n",
      "[79]\tvalid_0's auc: 0.876596\n",
      "Training until validation scores don't improve for 30 rounds\n"
     ]
    },
    {
     "name": "stderr",
     "output_type": "stream",
     "text": [
      "[I 2025-08-04 22:22:00,853] Trial 19 finished with value: 0.8659211566700553 and parameters: {'learning_rate': 0.11745076431420498, 'num_leaves': 80, 'max_depth': 9, 'min_child_samples': 50, 'feature_fraction': 0.7437406053815484, 'bagging_fraction': 0.6841053372428976, 'lambda_l1': 0.7341238353047902, 'lambda_l2': 0.8841957389827519}. Best is trial 16 with value: 0.8771038066192253.\n",
      "[I 2025-08-04 22:22:01,019] Trial 20 finished with value: 0.849542527956625 and parameters: {'learning_rate': 0.08482430798998317, 'num_leaves': 71, 'max_depth': 12, 'min_child_samples': 46, 'feature_fraction': 0.6585555724769535, 'bagging_fraction': 0.6067387959045895, 'lambda_l1': 0.7088818553633977, 'lambda_l2': 0.503256929915974}. Best is trial 16 with value: 0.8771038066192253.\n"
     ]
    },
    {
     "name": "stdout",
     "output_type": "stream",
     "text": [
      "Did not meet early stopping. Best iteration is:\n",
      "[80]\tvalid_0's auc: 0.865921\n",
      "Training until validation scores don't improve for 30 rounds\n",
      "Did not meet early stopping. Best iteration is:\n",
      "[90]\tvalid_0's auc: 0.849543\n"
     ]
    },
    {
     "name": "stderr",
     "output_type": "stream",
     "text": [
      "[I 2025-08-04 22:22:01,180] Trial 21 finished with value: 0.8743363831469558 and parameters: {'learning_rate': 0.12620549389357083, 'num_leaves': 73, 'max_depth': 11, 'min_child_samples': 42, 'feature_fraction': 0.8040819391049935, 'bagging_fraction': 0.743259837919529, 'lambda_l1': 0.576563636803191, 'lambda_l2': 0.9990163609763844}. Best is trial 16 with value: 0.8771038066192253.\n"
     ]
    },
    {
     "name": "stdout",
     "output_type": "stream",
     "text": [
      "Training until validation scores don't improve for 30 rounds\n",
      "Did not meet early stopping. Best iteration is:\n",
      "[97]\tvalid_0's auc: 0.874336\n",
      "Training until validation scores don't improve for 30 rounds\n"
     ]
    },
    {
     "name": "stderr",
     "output_type": "stream",
     "text": [
      "[I 2025-08-04 22:22:01,342] Trial 22 finished with value: 0.8664859369705186 and parameters: {'learning_rate': 0.13032389997432647, 'num_leaves': 73, 'max_depth': 11, 'min_child_samples': 50, 'feature_fraction': 0.78849998044198, 'bagging_fraction': 0.758279297114335, 'lambda_l1': 0.7743030159838669, 'lambda_l2': 0.9916580492939853}. Best is trial 16 with value: 0.8771038066192253.\n",
      "[I 2025-08-04 22:22:01,488] Trial 23 finished with value: 0.8726420422455665 and parameters: {'learning_rate': 0.12829130247867254, 'num_leaves': 62, 'max_depth': 10, 'min_child_samples': 45, 'feature_fraction': 0.7771416469181076, 'bagging_fraction': 0.754242390928137, 'lambda_l1': 0.6220266833931214, 'lambda_l2': 0.826941637218069}. Best is trial 16 with value: 0.8771038066192253.\n"
     ]
    },
    {
     "name": "stdout",
     "output_type": "stream",
     "text": [
      "Did not meet early stopping. Best iteration is:\n",
      "[85]\tvalid_0's auc: 0.866486\n",
      "Training until validation scores don't improve for 30 rounds\n",
      "Did not meet early stopping. Best iteration is:\n",
      "[87]\tvalid_0's auc: 0.872642\n"
     ]
    },
    {
     "name": "stderr",
     "output_type": "stream",
     "text": [
      "[I 2025-08-04 22:22:01,630] Trial 24 finished with value: 0.8629278210776007 and parameters: {'learning_rate': 0.0812861948352342, 'num_leaves': 75, 'max_depth': 7, 'min_child_samples': 41, 'feature_fraction': 0.7240126416950051, 'bagging_fraction': 0.8287953657545727, 'lambda_l1': 0.9100726944372053, 'lambda_l2': 0.9209941388326075}. Best is trial 16 with value: 0.8771038066192253.\n",
      "[I 2025-08-04 22:22:01,751] Trial 25 finished with value: 0.8641138597085734 and parameters: {'learning_rate': 0.14654116250508026, 'num_leaves': 66, 'max_depth': 12, 'min_child_samples': 46, 'feature_fraction': 0.8741638260235769, 'bagging_fraction': 0.6722153884730696, 'lambda_l1': 0.6867802259438954, 'lambda_l2': 0.7388069826835562}. Best is trial 16 with value: 0.8771038066192253.\n"
     ]
    },
    {
     "name": "stdout",
     "output_type": "stream",
     "text": [
      "Training until validation scores don't improve for 30 rounds\n",
      "Did not meet early stopping. Best iteration is:\n",
      "[98]\tvalid_0's auc: 0.862928\n",
      "Training until validation scores don't improve for 30 rounds\n",
      "Early stopping, best iteration is:\n",
      "[40]\tvalid_0's auc: 0.864114\n"
     ]
    },
    {
     "name": "stderr",
     "output_type": "stream",
     "text": [
      "[I 2025-08-04 22:22:01,926] Trial 26 finished with value: 0.856093979441997 and parameters: {'learning_rate': 0.1153782510744354, 'num_leaves': 58, 'max_depth': 9, 'min_child_samples': 36, 'feature_fraction': 0.7351789845188261, 'bagging_fraction': 0.7308194710016633, 'lambda_l1': 0.5750451035515832, 'lambda_l2': 0.9246302170759358}. Best is trial 16 with value: 0.8771038066192253.\n"
     ]
    },
    {
     "name": "stdout",
     "output_type": "stream",
     "text": [
      "Training until validation scores don't improve for 30 rounds\n",
      "Did not meet early stopping. Best iteration is:\n",
      "[99]\tvalid_0's auc: 0.856094\n",
      "Training until validation scores don't improve for 30 rounds\n"
     ]
    },
    {
     "name": "stderr",
     "output_type": "stream",
     "text": [
      "[I 2025-08-04 22:22:02,092] Trial 27 finished with value: 0.8729809104258444 and parameters: {'learning_rate': 0.09682243064487407, 'num_leaves': 75, 'max_depth': 11, 'min_child_samples': 28, 'feature_fraction': 0.8214010838848929, 'bagging_fraction': 0.8044385240616839, 'lambda_l1': 0.8321429225325013, 'lambda_l2': 0.9945485567733376}. Best is trial 16 with value: 0.8771038066192253.\n",
      "[I 2025-08-04 22:22:02,242] Trial 28 finished with value: 0.8531571218795888 and parameters: {'learning_rate': 0.07499295617260143, 'num_leaves': 70, 'max_depth': 10, 'min_child_samples': 50, 'feature_fraction': 0.8570789037747433, 'bagging_fraction': 0.6671384466573245, 'lambda_l1': 0.7564420802762601, 'lambda_l2': 0.7846556304469404}. Best is trial 16 with value: 0.8771038066192253.\n"
     ]
    },
    {
     "name": "stdout",
     "output_type": "stream",
     "text": [
      "Did not meet early stopping. Best iteration is:\n",
      "[100]\tvalid_0's auc: 0.872981\n",
      "Training until validation scores don't improve for 30 rounds\n",
      "Did not meet early stopping. Best iteration is:\n",
      "[94]\tvalid_0's auc: 0.853157\n"
     ]
    },
    {
     "name": "stderr",
     "output_type": "stream",
     "text": [
      "[I 2025-08-04 22:22:02,400] Trial 29 finished with value: 0.8847848187055236 and parameters: {'learning_rate': 0.11944744418224205, 'num_leaves': 61, 'max_depth': 11, 'min_child_samples': 40, 'feature_fraction': 0.8187607076062199, 'bagging_fraction': 0.6947541922745359, 'lambda_l1': 0.5760212316201784, 'lambda_l2': 0.8861238628074506}. Best is trial 29 with value: 0.8847848187055236.\n"
     ]
    },
    {
     "name": "stdout",
     "output_type": "stream",
     "text": [
      "Training until validation scores don't improve for 30 rounds\n",
      "Did not meet early stopping. Best iteration is:\n",
      "[99]\tvalid_0's auc: 0.884785\n",
      "✅ SR-ATAD5 - AUC: 0.9124, Accuracy: 0.9548, Threshold: 0.10\n",
      "\n",
      "📍 Training for label 10/12: SR-HSE\n"
     ]
    },
    {
     "name": "stderr",
     "output_type": "stream",
     "text": [
      "[I 2025-08-04 22:22:05,592] A new study created in memory with name: no-name-af4419ad-d6e2-46d5-89e7-859a188b1889\n"
     ]
    },
    {
     "name": "stdout",
     "output_type": "stream",
     "text": [
      "→ Reduced to 2055 features.\n",
      "Training until validation scores don't improve for 30 rounds\n",
      "Early stopping, best iteration is:\n",
      "[45]\tvalid_0's auc: 0.818121\n"
     ]
    },
    {
     "name": "stderr",
     "output_type": "stream",
     "text": [
      "[I 2025-08-04 22:22:05,779] Trial 0 finished with value: 0.8181214000886132 and parameters: {'learning_rate': 0.12238320819033864, 'num_leaves': 32, 'max_depth': 8, 'min_child_samples': 18, 'feature_fraction': 0.8894123806867116, 'bagging_fraction': 0.9915787513048511, 'lambda_l1': 0.11140221891070234, 'lambda_l2': 0.05374817211695937}. Best is trial 0 with value: 0.8181214000886132.\n",
      "[I 2025-08-04 22:22:05,862] Trial 1 finished with value: 0.7900974745237042 and parameters: {'learning_rate': 0.05991774271005677, 'num_leaves': 59, 'max_depth': 5, 'min_child_samples': 17, 'feature_fraction': 0.9026823532355461, 'bagging_fraction': 0.6957266924121054, 'lambda_l1': 0.26467945698653483, 'lambda_l2': 0.24383864451280213}. Best is trial 0 with value: 0.8181214000886132.\n",
      "[I 2025-08-04 22:22:05,955] Trial 2 finished with value: 0.7747895436420027 and parameters: {'learning_rate': 0.026705117455260455, 'num_leaves': 57, 'max_depth': 10, 'min_child_samples': 29, 'feature_fraction': 0.7651373404060778, 'bagging_fraction': 0.6668626789236158, 'lambda_l1': 0.7958223912036018, 'lambda_l2': 0.3343839374903773}. Best is trial 0 with value: 0.8181214000886132.\n"
     ]
    },
    {
     "name": "stdout",
     "output_type": "stream",
     "text": [
      "Training until validation scores don't improve for 30 rounds\n",
      "Early stopping, best iteration is:\n",
      "[27]\tvalid_0's auc: 0.790097\n",
      "Training until validation scores don't improve for 30 rounds\n",
      "Early stopping, best iteration is:\n",
      "[7]\tvalid_0's auc: 0.77479\n",
      "Training until validation scores don't improve for 30 rounds\n",
      "Early stopping, best iteration is:\n",
      "[9]\tvalid_0's auc: 0.757111\n"
     ]
    },
    {
     "name": "stderr",
     "output_type": "stream",
     "text": [
      "[I 2025-08-04 22:22:06,025] Trial 3 finished with value: 0.7571112095702262 and parameters: {'learning_rate': 0.18725553585725935, 'num_leaves': 63, 'max_depth': 3, 'min_child_samples': 23, 'feature_fraction': 0.8576469578041345, 'bagging_fraction': 0.8428725351890071, 'lambda_l1': 0.49415575936786027, 'lambda_l2': 0.5730793400562535}. Best is trial 0 with value: 0.8181214000886132.\n",
      "[I 2025-08-04 22:22:06,159] Trial 4 finished with value: 0.7920248116969428 and parameters: {'learning_rate': 0.1723853330783447, 'num_leaves': 69, 'max_depth': 5, 'min_child_samples': 48, 'feature_fraction': 0.6447704380867941, 'bagging_fraction': 0.6910376772885937, 'lambda_l1': 0.032414903467643974, 'lambda_l2': 0.48810012928536817}. Best is trial 0 with value: 0.8181214000886132.\n",
      "[I 2025-08-04 22:22:06,244] Trial 5 finished with value: 0.740607000443066 and parameters: {'learning_rate': 0.05221525584804051, 'num_leaves': 34, 'max_depth': 3, 'min_child_samples': 15, 'feature_fraction': 0.81573281593593, 'bagging_fraction': 0.8611979610080113, 'lambda_l1': 0.2332873525320598, 'lambda_l2': 0.7134039689232138}. Best is trial 0 with value: 0.8181214000886132.\n"
     ]
    },
    {
     "name": "stdout",
     "output_type": "stream",
     "text": [
      "Training until validation scores don't improve for 30 rounds\n",
      "Early stopping, best iteration is:\n",
      "[66]\tvalid_0's auc: 0.792025\n",
      "Training until validation scores don't improve for 30 rounds\n",
      "Early stopping, best iteration is:\n",
      "[36]\tvalid_0's auc: 0.740607\n",
      "Training until validation scores don't improve for 30 rounds\n"
     ]
    },
    {
     "name": "stderr",
     "output_type": "stream",
     "text": [
      "[I 2025-08-04 22:22:06,433] Trial 6 finished with value: 0.7899424014178112 and parameters: {'learning_rate': 0.022291792954883018, 'num_leaves': 48, 'max_depth': 9, 'min_child_samples': 11, 'feature_fraction': 0.950514667817125, 'bagging_fraction': 0.6427393740090882, 'lambda_l1': 0.010553684366760852, 'lambda_l2': 0.44696714227581047}. Best is trial 0 with value: 0.8181214000886132.\n",
      "[I 2025-08-04 22:22:06,523] Trial 7 finished with value: 0.7811696942844486 and parameters: {'learning_rate': 0.1807572539727491, 'num_leaves': 78, 'max_depth': 4, 'min_child_samples': 29, 'feature_fraction': 0.6599021234228787, 'bagging_fraction': 0.7396955093334896, 'lambda_l1': 0.5196250749303151, 'lambda_l2': 0.17967195228495292}. Best is trial 0 with value: 0.8181214000886132.\n"
     ]
    },
    {
     "name": "stdout",
     "output_type": "stream",
     "text": [
      "Did not meet early stopping. Best iteration is:\n",
      "[100]\tvalid_0's auc: 0.789942\n",
      "Training until validation scores don't improve for 30 rounds\n",
      "Early stopping, best iteration is:\n",
      "[45]\tvalid_0's auc: 0.78117\n",
      "Training until validation scores don't improve for 30 rounds\n"
     ]
    },
    {
     "name": "stderr",
     "output_type": "stream",
     "text": [
      "[I 2025-08-04 22:22:06,643] Trial 8 finished with value: 0.7925564909171466 and parameters: {'learning_rate': 0.17007656331690216, 'num_leaves': 62, 'max_depth': 9, 'min_child_samples': 25, 'feature_fraction': 0.7969254264500977, 'bagging_fraction': 0.8299174090353783, 'lambda_l1': 0.9769383270253362, 'lambda_l2': 0.6538647936806934}. Best is trial 0 with value: 0.8181214000886132.\n",
      "[I 2025-08-04 22:22:06,763] Trial 9 finished with value: 0.806734603455915 and parameters: {'learning_rate': 0.0702090523604907, 'num_leaves': 66, 'max_depth': 10, 'min_child_samples': 29, 'feature_fraction': 0.8188269256170146, 'bagging_fraction': 0.6445854722403094, 'lambda_l1': 0.21688039000715809, 'lambda_l2': 0.35356068727073187}. Best is trial 0 with value: 0.8181214000886132.\n"
     ]
    },
    {
     "name": "stdout",
     "output_type": "stream",
     "text": [
      "Early stopping, best iteration is:\n",
      "[51]\tvalid_0's auc: 0.792556\n",
      "Training until validation scores don't improve for 30 rounds\n",
      "Early stopping, best iteration is:\n",
      "[68]\tvalid_0's auc: 0.806735\n",
      "Training until validation scores don't improve for 30 rounds\n"
     ]
    },
    {
     "name": "stderr",
     "output_type": "stream",
     "text": [
      "[I 2025-08-04 22:22:06,903] Trial 10 finished with value: 0.8018608772707133 and parameters: {'learning_rate': 0.12314731992967731, 'num_leaves': 20, 'max_depth': 12, 'min_child_samples': 44, 'feature_fraction': 0.9991529188588925, 'bagging_fraction': 0.997560808843027, 'lambda_l1': 0.5317828399359227, 'lambda_l2': 0.9950762060081249}. Best is trial 0 with value: 0.8181214000886132.\n",
      "[I 2025-08-04 22:22:07,003] Trial 11 finished with value: 0.7945502879929108 and parameters: {'learning_rate': 0.10424532104101283, 'num_leaves': 40, 'max_depth': 7, 'min_child_samples': 38, 'feature_fraction': 0.742035399197557, 'bagging_fraction': 0.9937293154444052, 'lambda_l1': 0.2400949030609913, 'lambda_l2': 0.05874986750131835}. Best is trial 0 with value: 0.8181214000886132.\n"
     ]
    },
    {
     "name": "stdout",
     "output_type": "stream",
     "text": [
      "Did not meet early stopping. Best iteration is:\n",
      "[100]\tvalid_0's auc: 0.801861\n",
      "Training until validation scores don't improve for 30 rounds\n",
      "Early stopping, best iteration is:\n",
      "[53]\tvalid_0's auc: 0.79455\n",
      "Training until validation scores don't improve for 30 rounds\n"
     ]
    },
    {
     "name": "stderr",
     "output_type": "stream",
     "text": [
      "[I 2025-08-04 22:22:07,133] Trial 12 finished with value: 0.7916260522817901 and parameters: {'learning_rate': 0.1055872554585616, 'num_leaves': 24, 'max_depth': 7, 'min_child_samples': 36, 'feature_fraction': 0.8789049094008502, 'bagging_fraction': 0.916771063033216, 'lambda_l1': 0.1387142179841789, 'lambda_l2': 0.023807019517503414}. Best is trial 0 with value: 0.8181214000886132.\n",
      "[I 2025-08-04 22:22:07,286] Trial 13 finished with value: 0.8050066459902526 and parameters: {'learning_rate': 0.1344862955307694, 'num_leaves': 46, 'max_depth': 12, 'min_child_samples': 21, 'feature_fraction': 0.7310477607080019, 'bagging_fraction': 0.7634853432499745, 'lambda_l1': 0.40956196501366005, 'lambda_l2': 0.16343628997889245}. Best is trial 0 with value: 0.8181214000886132.\n"
     ]
    },
    {
     "name": "stdout",
     "output_type": "stream",
     "text": [
      "Did not meet early stopping. Best iteration is:\n",
      "[100]\tvalid_0's auc: 0.791626\n",
      "Training until validation scores don't improve for 30 rounds\n",
      "Early stopping, best iteration is:\n",
      "[62]\tvalid_0's auc: 0.805007\n"
     ]
    },
    {
     "name": "stderr",
     "output_type": "stream",
     "text": [
      "[I 2025-08-04 22:22:07,428] Trial 14 finished with value: 0.809127159946832 and parameters: {'learning_rate': 0.07502624746139594, 'num_leaves': 79, 'max_depth': 10, 'min_child_samples': 34, 'feature_fraction': 0.915946072784723, 'bagging_fraction': 0.6032205625588025, 'lambda_l1': 0.32591533745190876, 'lambda_l2': 0.36700352666263447}. Best is trial 0 with value: 0.8181214000886132.\n"
     ]
    },
    {
     "name": "stdout",
     "output_type": "stream",
     "text": [
      "Training until validation scores don't improve for 30 rounds\n",
      "Did not meet early stopping. Best iteration is:\n",
      "[72]\tvalid_0's auc: 0.809127\n",
      "Training until validation scores don't improve for 30 rounds\n",
      "Early stopping, best iteration is:\n",
      "[66]\tvalid_0's auc: 0.802747\n"
     ]
    },
    {
     "name": "stderr",
     "output_type": "stream",
     "text": [
      "[I 2025-08-04 22:22:07,566] Trial 15 finished with value: 0.8027470093043864 and parameters: {'learning_rate': 0.09108748382605455, 'num_leaves': 80, 'max_depth': 8, 'min_child_samples': 36, 'feature_fraction': 0.9402425364827243, 'bagging_fraction': 0.9154970691869808, 'lambda_l1': 0.34631406287395167, 'lambda_l2': 0.8479752834545936}. Best is trial 0 with value: 0.8181214000886132.\n",
      "[I 2025-08-04 22:22:07,691] Trial 16 finished with value: 0.814089499335401 and parameters: {'learning_rate': 0.1482513785129379, 'num_leaves': 32, 'max_depth': 11, 'min_child_samples': 41, 'feature_fraction': 0.9989117391998238, 'bagging_fraction': 0.6167371346674874, 'lambda_l1': 0.6866517695501315, 'lambda_l2': 0.34181402105500014}. Best is trial 0 with value: 0.8181214000886132.\n"
     ]
    },
    {
     "name": "stdout",
     "output_type": "stream",
     "text": [
      "Training until validation scores don't improve for 30 rounds\n",
      "Early stopping, best iteration is:\n",
      "[56]\tvalid_0's auc: 0.814089\n",
      "Training until validation scores don't improve for 30 rounds\n",
      "Early stopping, best iteration is:\n",
      "[48]\tvalid_0's auc: 0.808241\n"
     ]
    },
    {
     "name": "stderr",
     "output_type": "stream",
     "text": [
      "[I 2025-08-04 22:22:07,827] Trial 17 finished with value: 0.808241027913159 and parameters: {'learning_rate': 0.1484826298662177, 'num_leaves': 29, 'max_depth': 11, 'min_child_samples': 42, 'feature_fraction': 0.9960955840695787, 'bagging_fraction': 0.7742531938525434, 'lambda_l1': 0.6907119097856737, 'lambda_l2': 0.12621950090961087}. Best is trial 0 with value: 0.8181214000886132.\n",
      "[I 2025-08-04 22:22:07,953] Trial 18 finished with value: 0.7989366415595924 and parameters: {'learning_rate': 0.1509570339422837, 'num_leaves': 38, 'max_depth': 6, 'min_child_samples': 50, 'feature_fraction': 0.9690122114485962, 'bagging_fraction': 0.9356119133245766, 'lambda_l1': 0.6835941239044837, 'lambda_l2': 0.21066101244644245}. Best is trial 0 with value: 0.8181214000886132.\n",
      "[I 2025-08-04 22:22:08,093] Trial 19 finished with value: 0.7947275143996455 and parameters: {'learning_rate': 0.12417112628011429, 'num_leaves': 30, 'max_depth': 8, 'min_child_samples': 10, 'feature_fraction': 0.8571697773429217, 'bagging_fraction': 0.875575780253004, 'lambda_l1': 0.8991535331474155, 'lambda_l2': 0.010652361576106606}. Best is trial 0 with value: 0.8181214000886132.\n"
     ]
    },
    {
     "name": "stdout",
     "output_type": "stream",
     "text": [
      "Training until validation scores don't improve for 30 rounds\n",
      "Did not meet early stopping. Best iteration is:\n",
      "[80]\tvalid_0's auc: 0.798937\n",
      "Training until validation scores don't improve for 30 rounds\n",
      "Early stopping, best iteration is:\n",
      "[67]\tvalid_0's auc: 0.794728\n"
     ]
    },
    {
     "name": "stderr",
     "output_type": "stream",
     "text": [
      "[I 2025-08-04 22:22:08,183] Trial 20 finished with value: 0.7835179441736819 and parameters: {'learning_rate': 0.19803217267094758, 'num_leaves': 42, 'max_depth': 11, 'min_child_samples': 41, 'feature_fraction': 0.9186233247699243, 'bagging_fraction': 0.80716184647278, 'lambda_l1': 0.6680890126097508, 'lambda_l2': 0.2777467231257124}. Best is trial 0 with value: 0.8181214000886132.\n",
      "[I 2025-08-04 22:22:08,313] Trial 21 finished with value: 0.8063358440407621 and parameters: {'learning_rate': 0.0839501873168436, 'num_leaves': 53, 'max_depth': 10, 'min_child_samples': 34, 'feature_fraction': 0.9080687945690514, 'bagging_fraction': 0.6099544418870042, 'lambda_l1': 0.11021843815229287, 'lambda_l2': 0.39215964201543374}. Best is trial 0 with value: 0.8181214000886132.\n"
     ]
    },
    {
     "name": "stdout",
     "output_type": "stream",
     "text": [
      "Training until validation scores don't improve for 30 rounds\n",
      "Early stopping, best iteration is:\n",
      "[11]\tvalid_0's auc: 0.783518\n",
      "Training until validation scores don't improve for 30 rounds\n",
      "Early stopping, best iteration is:\n",
      "[51]\tvalid_0's auc: 0.806336\n"
     ]
    },
    {
     "name": "stderr",
     "output_type": "stream",
     "text": [
      "[I 2025-08-04 22:22:08,453] Trial 22 finished with value: 0.7845813026140894 and parameters: {'learning_rate': 0.1491544702900273, 'num_leaves': 73, 'max_depth': 9, 'min_child_samples': 32, 'feature_fraction': 0.9669269343789391, 'bagging_fraction': 0.6022940993898458, 'lambda_l1': 0.37794012510876596, 'lambda_l2': 0.5441440036454224}. Best is trial 0 with value: 0.8181214000886132.\n"
     ]
    },
    {
     "name": "stdout",
     "output_type": "stream",
     "text": [
      "Training until validation scores don't improve for 30 rounds\n",
      "Early stopping, best iteration is:\n",
      "[70]\tvalid_0's auc: 0.784581\n",
      "Training until validation scores don't improve for 30 rounds\n",
      "Early stopping, best iteration is:\n",
      "[40]\tvalid_0's auc: 0.790253\n"
     ]
    },
    {
     "name": "stderr",
     "output_type": "stream",
     "text": [
      "[I 2025-08-04 22:22:08,573] Trial 23 finished with value: 0.7902525476295968 and parameters: {'learning_rate': 0.10866298824024923, 'num_leaves': 35, 'max_depth': 11, 'min_child_samples': 39, 'feature_fraction': 0.8687467407318493, 'bagging_fraction': 0.7099215920055931, 'lambda_l1': 0.5863161117964331, 'lambda_l2': 0.291743616972156}. Best is trial 0 with value: 0.8181214000886132.\n",
      "[I 2025-08-04 22:22:08,712] Trial 24 finished with value: 0.7856003544528135 and parameters: {'learning_rate': 0.04757254674534084, 'num_leaves': 28, 'max_depth': 9, 'min_child_samples': 46, 'feature_fraction': 0.9218124337805073, 'bagging_fraction': 0.6388689491487498, 'lambda_l1': 0.1272679916602151, 'lambda_l2': 0.12042814915362163}. Best is trial 0 with value: 0.8181214000886132.\n"
     ]
    },
    {
     "name": "stdout",
     "output_type": "stream",
     "text": [
      "Training until validation scores don't improve for 30 rounds\n",
      "Did not meet early stopping. Best iteration is:\n",
      "[84]\tvalid_0's auc: 0.7856\n",
      "Training until validation scores don't improve for 30 rounds\n",
      "Early stopping, best iteration is:\n",
      "[57]\tvalid_0's auc: 0.806247\n"
     ]
    },
    {
     "name": "stderr",
     "output_type": "stream",
     "text": [
      "[I 2025-08-04 22:22:08,845] Trial 25 finished with value: 0.8062472308373947 and parameters: {'learning_rate': 0.08237717894136125, 'num_leaves': 53, 'max_depth': 10, 'min_child_samples': 26, 'feature_fraction': 0.9783280770696055, 'bagging_fraction': 0.7354520505335918, 'lambda_l1': 0.7754382942705456, 'lambda_l2': 0.39782086731835}. Best is trial 0 with value: 0.8181214000886132.\n",
      "[I 2025-08-04 22:22:08,979] Trial 26 finished with value: 0.8160389898094816 and parameters: {'learning_rate': 0.13378903074420534, 'num_leaves': 43, 'max_depth': 8, 'min_child_samples': 20, 'feature_fraction': 0.8900766878256494, 'bagging_fraction': 0.9510338644548264, 'lambda_l1': 0.6166253400906034, 'lambda_l2': 0.6242808858511516}. Best is trial 0 with value: 0.8181214000886132.\n"
     ]
    },
    {
     "name": "stdout",
     "output_type": "stream",
     "text": [
      "Training until validation scores don't improve for 30 rounds\n",
      "Did not meet early stopping. Best iteration is:\n",
      "[73]\tvalid_0's auc: 0.816039\n",
      "Training until validation scores don't improve for 30 rounds\n",
      "Early stopping, best iteration is:\n",
      "[32]\tvalid_0's auc: 0.810323\n"
     ]
    },
    {
     "name": "stderr",
     "output_type": "stream",
     "text": [
      "[I 2025-08-04 22:22:09,099] Trial 27 finished with value: 0.8103234381922907 and parameters: {'learning_rate': 0.1363178343555503, 'num_leaves': 44, 'max_depth': 6, 'min_child_samples': 18, 'feature_fraction': 0.6023843363308448, 'bagging_fraction': 0.9629282982449447, 'lambda_l1': 0.6082822765375351, 'lambda_l2': 0.7512588795743849}. Best is trial 0 with value: 0.8181214000886132.\n",
      "[I 2025-08-04 22:22:09,229] Trial 28 finished with value: 0.7895657953035002 and parameters: {'learning_rate': 0.16017210445258992, 'num_leaves': 33, 'max_depth': 8, 'min_child_samples': 14, 'feature_fraction': 0.836293309792769, 'bagging_fraction': 0.9654439555767047, 'lambda_l1': 0.8054184990111862, 'lambda_l2': 0.6310668934756838}. Best is trial 0 with value: 0.8181214000886132.\n",
      "[I 2025-08-04 22:22:09,352] Trial 29 finished with value: 0.8004430660168366 and parameters: {'learning_rate': 0.12190568538754357, 'num_leaves': 25, 'max_depth': 6, 'min_child_samples': 19, 'feature_fraction': 0.8801847656877764, 'bagging_fraction': 0.8921625735111018, 'lambda_l1': 0.43372688782258856, 'lambda_l2': 0.8488420328018316}. Best is trial 0 with value: 0.8181214000886132.\n"
     ]
    },
    {
     "name": "stdout",
     "output_type": "stream",
     "text": [
      "Training until validation scores don't improve for 30 rounds\n",
      "Early stopping, best iteration is:\n",
      "[26]\tvalid_0's auc: 0.789566\n",
      "Training until validation scores don't improve for 30 rounds\n",
      "Did not meet early stopping. Best iteration is:\n",
      "[75]\tvalid_0's auc: 0.800443\n",
      "✅ SR-HSE - AUC: 0.7978, Accuracy: 0.9413, Threshold: 0.16\n",
      "\n",
      "📍 Training for label 11/12: SR-MMP\n"
     ]
    },
    {
     "name": "stderr",
     "output_type": "stream",
     "text": [
      "[I 2025-08-04 22:22:12,208] A new study created in memory with name: no-name-46316bef-1749-4da8-9339-dc51646629e5\n"
     ]
    },
    {
     "name": "stdout",
     "output_type": "stream",
     "text": [
      "→ Reduced to 2055 features.\n",
      "Training until validation scores don't improve for 30 rounds\n"
     ]
    },
    {
     "name": "stderr",
     "output_type": "stream",
     "text": [
      "[I 2025-08-04 22:22:12,452] Trial 0 finished with value: 0.9117097892771405 and parameters: {'learning_rate': 0.03852806571992182, 'num_leaves': 61, 'max_depth': 9, 'min_child_samples': 30, 'feature_fraction': 0.8107652397740541, 'bagging_fraction': 0.7330954484226249, 'lambda_l1': 0.30463739562587144, 'lambda_l2': 0.3725941379049209}. Best is trial 0 with value: 0.9117097892771405.\n",
      "[I 2025-08-04 22:22:12,552] Trial 1 finished with value: 0.9173112830088024 and parameters: {'learning_rate': 0.0791096135701537, 'num_leaves': 65, 'max_depth': 6, 'min_child_samples': 35, 'feature_fraction': 0.8837785632571551, 'bagging_fraction': 0.8035543676679308, 'lambda_l1': 0.3821941367141849, 'lambda_l2': 0.900291459189204}. Best is trial 1 with value: 0.9173112830088024.\n"
     ]
    },
    {
     "name": "stdout",
     "output_type": "stream",
     "text": [
      "Did not meet early stopping. Best iteration is:\n",
      "[100]\tvalid_0's auc: 0.91171\n",
      "Training until validation scores don't improve for 30 rounds\n",
      "Did not meet early stopping. Best iteration is:\n",
      "[98]\tvalid_0's auc: 0.917311\n",
      "Training until validation scores don't improve for 30 rounds\n"
     ]
    },
    {
     "name": "stderr",
     "output_type": "stream",
     "text": [
      "[I 2025-08-04 22:22:12,723] Trial 2 finished with value: 0.9197563794789722 and parameters: {'learning_rate': 0.10259722637788185, 'num_leaves': 39, 'max_depth': 12, 'min_child_samples': 18, 'feature_fraction': 0.9501343368100417, 'bagging_fraction': 0.8080239421451336, 'lambda_l1': 0.3549133448370587, 'lambda_l2': 0.9486685859884826}. Best is trial 2 with value: 0.9197563794789722.\n",
      "[I 2025-08-04 22:22:12,812] Trial 3 finished with value: 0.9141548857473103 and parameters: {'learning_rate': 0.15374195492903703, 'num_leaves': 38, 'max_depth': 3, 'min_child_samples': 44, 'feature_fraction': 0.6159586942330476, 'bagging_fraction': 0.6036881342975716, 'lambda_l1': 0.12313473668190111, 'lambda_l2': 0.10562353358613086}. Best is trial 2 with value: 0.9197563794789722.\n"
     ]
    },
    {
     "name": "stdout",
     "output_type": "stream",
     "text": [
      "Did not meet early stopping. Best iteration is:\n",
      "[97]\tvalid_0's auc: 0.919756\n",
      "Training until validation scores don't improve for 30 rounds\n",
      "Did not meet early stopping. Best iteration is:\n",
      "[98]\tvalid_0's auc: 0.914155\n",
      "Training until validation scores don't improve for 30 rounds\n",
      "Early stopping, best iteration is:\n",
      "[45]\tvalid_0's auc: 0.919334\n"
     ]
    },
    {
     "name": "stderr",
     "output_type": "stream",
     "text": [
      "[I 2025-08-04 22:22:12,909] Trial 4 finished with value: 0.9193340446341247 and parameters: {'learning_rate': 0.17886611297386198, 'num_leaves': 73, 'max_depth': 9, 'min_child_samples': 36, 'feature_fraction': 0.6806341046943407, 'bagging_fraction': 0.8296611662761597, 'lambda_l1': 0.6490904965340101, 'lambda_l2': 0.6090718742338797}. Best is trial 2 with value: 0.9197563794789722.\n",
      "[I 2025-08-04 22:22:13,083] Trial 5 finished with value: 0.930203609851516 and parameters: {'learning_rate': 0.19803506527013937, 'num_leaves': 75, 'max_depth': 12, 'min_child_samples': 36, 'feature_fraction': 0.6696126914769949, 'bagging_fraction': 0.7811238905652151, 'lambda_l1': 0.3653446882477813, 'lambda_l2': 0.5073421206259}. Best is trial 5 with value: 0.930203609851516.\n"
     ]
    },
    {
     "name": "stdout",
     "output_type": "stream",
     "text": [
      "Training until validation scores don't improve for 30 rounds\n",
      "Did not meet early stopping. Best iteration is:\n",
      "[94]\tvalid_0's auc: 0.930204\n",
      "Training until validation scores don't improve for 30 rounds\n",
      "Did not meet early stopping. Best iteration is:\n",
      "[100]\tvalid_0's auc: 0.916867\n"
     ]
    },
    {
     "name": "stderr",
     "output_type": "stream",
     "text": [
      "[I 2025-08-04 22:22:13,170] Trial 6 finished with value: 0.916866720014226 and parameters: {'learning_rate': 0.1220549522710536, 'num_leaves': 21, 'max_depth': 4, 'min_child_samples': 32, 'feature_fraction': 0.9920892893551035, 'bagging_fraction': 0.6138617217685786, 'lambda_l1': 0.4969804087376193, 'lambda_l2': 0.20984781218092297}. Best is trial 5 with value: 0.930203609851516.\n",
      "[I 2025-08-04 22:22:13,324] Trial 7 finished with value: 0.9153552058326664 and parameters: {'learning_rate': 0.039038818948174264, 'num_leaves': 71, 'max_depth': 7, 'min_child_samples': 19, 'feature_fraction': 0.9194780582910246, 'bagging_fraction': 0.868648271083344, 'lambda_l1': 0.004023890336270819, 'lambda_l2': 0.05494524581015736}. Best is trial 5 with value: 0.930203609851516.\n"
     ]
    },
    {
     "name": "stdout",
     "output_type": "stream",
     "text": [
      "Training until validation scores don't improve for 30 rounds\n",
      "Did not meet early stopping. Best iteration is:\n",
      "[100]\tvalid_0's auc: 0.915355\n",
      "Training until validation scores don't improve for 30 rounds\n",
      "Did not meet early stopping. Best iteration is:\n",
      "[95]\tvalid_0's auc: 0.908953\n"
     ]
    },
    {
     "name": "stderr",
     "output_type": "stream",
     "text": [
      "[I 2025-08-04 22:22:13,413] Trial 8 finished with value: 0.9089534987107674 and parameters: {'learning_rate': 0.08141030232579718, 'num_leaves': 53, 'max_depth': 4, 'min_child_samples': 44, 'feature_fraction': 0.6637156865266047, 'bagging_fraction': 0.9088574962758033, 'lambda_l1': 0.5875889394163653, 'lambda_l2': 0.9376468802495208}. Best is trial 5 with value: 0.930203609851516.\n",
      "[I 2025-08-04 22:22:13,503] Trial 9 finished with value: 0.9214012625589045 and parameters: {'learning_rate': 0.1258873773816784, 'num_leaves': 30, 'max_depth': 5, 'min_child_samples': 28, 'feature_fraction': 0.7422016482510159, 'bagging_fraction': 0.9261889902495151, 'lambda_l1': 0.2914941145068428, 'lambda_l2': 0.8341788017668824}. Best is trial 5 with value: 0.930203609851516.\n"
     ]
    },
    {
     "name": "stdout",
     "output_type": "stream",
     "text": [
      "Training until validation scores don't improve for 30 rounds\n",
      "Did not meet early stopping. Best iteration is:\n",
      "[100]\tvalid_0's auc: 0.921401\n",
      "Training until validation scores don't improve for 30 rounds\n",
      "Early stopping, best iteration is:\n",
      "[57]\tvalid_0's auc: 0.91371\n"
     ]
    },
    {
     "name": "stderr",
     "output_type": "stream",
     "text": [
      "[I 2025-08-04 22:22:13,662] Trial 10 finished with value: 0.913710322752734 and parameters: {'learning_rate': 0.19761578487486345, 'num_leaves': 80, 'max_depth': 12, 'min_child_samples': 50, 'feature_fraction': 0.7811386484061278, 'bagging_fraction': 0.7117937329464956, 'lambda_l1': 0.9701153331370096, 'lambda_l2': 0.6221466427902002}. Best is trial 5 with value: 0.930203609851516.\n",
      "[I 2025-08-04 22:22:13,779] Trial 11 finished with value: 0.9225126700453454 and parameters: {'learning_rate': 0.14669458971566912, 'num_leaves': 21, 'max_depth': 6, 'min_child_samples': 25, 'feature_fraction': 0.7468673415968653, 'bagging_fraction': 0.9582379814886844, 'lambda_l1': 0.21005835795626615, 'lambda_l2': 0.740250206447364}. Best is trial 5 with value: 0.930203609851516.\n"
     ]
    },
    {
     "name": "stdout",
     "output_type": "stream",
     "text": [
      "Training until validation scores don't improve for 30 rounds\n",
      "Did not meet early stopping. Best iteration is:\n",
      "[94]\tvalid_0's auc: 0.922513\n",
      "Training until validation scores don't improve for 30 rounds\n",
      "Did not meet early stopping. Best iteration is:\n",
      "[92]\tvalid_0's auc: 0.917622\n"
     ]
    },
    {
     "name": "stderr",
     "output_type": "stream",
     "text": [
      "[I 2025-08-04 22:22:13,911] Trial 12 finished with value: 0.9176224771050058 and parameters: {'learning_rate': 0.15619872567794882, 'num_leaves': 49, 'max_depth': 9, 'min_child_samples': 24, 'feature_fraction': 0.7162384835759991, 'bagging_fraction': 0.6976969103940119, 'lambda_l1': 0.2048644139463689, 'lambda_l2': 0.7133393896920689}. Best is trial 5 with value: 0.930203609851516.\n",
      "[I 2025-08-04 22:22:14,067] Trial 13 finished with value: 0.9294033964612786 and parameters: {'learning_rate': 0.19934782592339256, 'num_leaves': 22, 'max_depth': 10, 'min_child_samples': 10, 'feature_fraction': 0.602928923920495, 'bagging_fraction': 0.9879221507204965, 'lambda_l1': 0.7254096112177162, 'lambda_l2': 0.40653611816093216}. Best is trial 5 with value: 0.930203609851516.\n"
     ]
    },
    {
     "name": "stdout",
     "output_type": "stream",
     "text": [
      "Training until validation scores don't improve for 30 rounds\n",
      "Did not meet early stopping. Best iteration is:\n",
      "[75]\tvalid_0's auc: 0.929403\n",
      "Training until validation scores don't improve for 30 rounds\n"
     ]
    },
    {
     "name": "stderr",
     "output_type": "stream",
     "text": [
      "[I 2025-08-04 22:22:14,213] Trial 14 finished with value: 0.9228016359918201 and parameters: {'learning_rate': 0.19772810670408222, 'num_leaves': 51, 'max_depth': 11, 'min_child_samples': 12, 'feature_fraction': 0.6091607903772808, 'bagging_fraction': 0.9978759470942415, 'lambda_l1': 0.7582511147019283, 'lambda_l2': 0.41645865531227255}. Best is trial 5 with value: 0.930203609851516.\n",
      "[I 2025-08-04 22:22:14,372] Trial 15 finished with value: 0.9207344180670402 and parameters: {'learning_rate': 0.17400701088953427, 'num_leaves': 41, 'max_depth': 10, 'min_child_samples': 12, 'feature_fraction': 0.6549863151919033, 'bagging_fraction': 0.7516893250487697, 'lambda_l1': 0.8232652958508655, 'lambda_l2': 0.30338815834885025}. Best is trial 5 with value: 0.930203609851516.\n"
     ]
    },
    {
     "name": "stdout",
     "output_type": "stream",
     "text": [
      "Early stopping, best iteration is:\n",
      "[34]\tvalid_0's auc: 0.922802\n",
      "Training until validation scores don't improve for 30 rounds\n",
      "Early stopping, best iteration is:\n",
      "[46]\tvalid_0's auc: 0.920734\n"
     ]
    },
    {
     "name": "stderr",
     "output_type": "stream",
     "text": [
      "[I 2025-08-04 22:22:14,513] Trial 16 finished with value: 0.9139326042500222 and parameters: {'learning_rate': 0.17914227051767728, 'num_leaves': 31, 'max_depth': 11, 'min_child_samples': 40, 'feature_fraction': 0.8464482738626949, 'bagging_fraction': 0.8542889417676892, 'lambda_l1': 0.5026757589792239, 'lambda_l2': 0.5341099834429677}. Best is trial 5 with value: 0.930203609851516.\n"
     ]
    },
    {
     "name": "stdout",
     "output_type": "stream",
     "text": [
      "Training until validation scores don't improve for 30 rounds\n",
      "Early stopping, best iteration is:\n",
      "[58]\tvalid_0's auc: 0.913933\n",
      "Training until validation scores don't improve for 30 rounds\n"
     ]
    },
    {
     "name": "stderr",
     "output_type": "stream",
     "text": [
      "[I 2025-08-04 22:22:14,750] Trial 17 finished with value: 0.9119987552236152 and parameters: {'learning_rate': 0.012252500964129207, 'num_leaves': 55, 'max_depth': 10, 'min_child_samples': 18, 'feature_fraction': 0.6028584377205451, 'bagging_fraction': 0.6665365628599202, 'lambda_l1': 0.7806553998484358, 'lambda_l2': 0.47810613765339216}. Best is trial 5 with value: 0.930203609851516.\n",
      "[I 2025-08-04 22:22:14,870] Trial 18 finished with value: 0.9160442784742597 and parameters: {'learning_rate': 0.19932005407958558, 'num_leaves': 79, 'max_depth': 8, 'min_child_samples': 39, 'feature_fraction': 0.6995250751139734, 'bagging_fraction': 0.7679990597784774, 'lambda_l1': 0.9678186109951461, 'lambda_l2': 0.21820175615540516}. Best is trial 5 with value: 0.930203609851516.\n"
     ]
    },
    {
     "name": "stdout",
     "output_type": "stream",
     "text": [
      "Did not meet early stopping. Best iteration is:\n",
      "[94]\tvalid_0's auc: 0.911999\n",
      "Training until validation scores don't improve for 30 rounds\n",
      "Did not meet early stopping. Best iteration is:\n",
      "[100]\tvalid_0's auc: 0.916044\n",
      "Training until validation scores don't improve for 30 rounds\n"
     ]
    },
    {
     "name": "stderr",
     "output_type": "stream",
     "text": [
      "[I 2025-08-04 22:22:15,026] Trial 19 finished with value: 0.9244020627722949 and parameters: {'learning_rate': 0.1677735070769605, 'num_leaves': 61, 'max_depth': 11, 'min_child_samples': 23, 'feature_fraction': 0.6497739952904216, 'bagging_fraction': 0.8889574116350212, 'lambda_l1': 0.6637184930906529, 'lambda_l2': 0.32696474985260726}. Best is trial 5 with value: 0.930203609851516.\n",
      "[I 2025-08-04 22:22:15,183] Trial 20 finished with value: 0.916155419222904 and parameters: {'learning_rate': 0.13830519680615871, 'num_leaves': 44, 'max_depth': 12, 'min_child_samples': 48, 'feature_fraction': 0.72836687748718, 'bagging_fraction': 0.991267039507727, 'lambda_l1': 0.4779275912513935, 'lambda_l2': 0.5245326969194849}. Best is trial 5 with value: 0.930203609851516.\n"
     ]
    },
    {
     "name": "stdout",
     "output_type": "stream",
     "text": [
      "Did not meet early stopping. Best iteration is:\n",
      "[100]\tvalid_0's auc: 0.924402\n",
      "Training until validation scores don't improve for 30 rounds\n",
      "Did not meet early stopping. Best iteration is:\n",
      "[92]\tvalid_0's auc: 0.916155\n"
     ]
    },
    {
     "name": "stderr",
     "output_type": "stream",
     "text": [
      "[I 2025-08-04 22:22:15,364] Trial 21 finished with value: 0.923424024184227 and parameters: {'learning_rate': 0.17310979993753686, 'num_leaves': 62, 'max_depth': 11, 'min_child_samples': 10, 'feature_fraction': 0.6434133430303499, 'bagging_fraction': 0.898566000763622, 'lambda_l1': 0.6575269647437715, 'lambda_l2': 0.3215301820445386}. Best is trial 5 with value: 0.930203609851516.\n"
     ]
    },
    {
     "name": "stdout",
     "output_type": "stream",
     "text": [
      "Training until validation scores don't improve for 30 rounds\n",
      "Did not meet early stopping. Best iteration is:\n",
      "[90]\tvalid_0's auc: 0.923424\n",
      "Training until validation scores don't improve for 30 rounds\n"
     ]
    },
    {
     "name": "stderr",
     "output_type": "stream",
     "text": [
      "[I 2025-08-04 22:22:15,532] Trial 22 finished with value: 0.9253801013603629 and parameters: {'learning_rate': 0.16536711540115176, 'num_leaves': 70, 'max_depth': 10, 'min_child_samples': 22, 'feature_fraction': 0.6458819985597047, 'bagging_fraction': 0.9455677042260284, 'lambda_l1': 0.6979246382403559, 'lambda_l2': 0.2179234957787582}. Best is trial 5 with value: 0.930203609851516.\n",
      "[I 2025-08-04 22:22:15,672] Trial 23 finished with value: 0.9273139503867699 and parameters: {'learning_rate': 0.18643431859920942, 'num_leaves': 70, 'max_depth': 10, 'min_child_samples': 21, 'feature_fraction': 0.6888301838623385, 'bagging_fraction': 0.9518122534905228, 'lambda_l1': 0.8386159502485802, 'lambda_l2': 0.19136736843079988}. Best is trial 5 with value: 0.930203609851516.\n"
     ]
    },
    {
     "name": "stdout",
     "output_type": "stream",
     "text": [
      "Did not meet early stopping. Best iteration is:\n",
      "[86]\tvalid_0's auc: 0.92538\n",
      "Training until validation scores don't improve for 30 rounds\n",
      "Did not meet early stopping. Best iteration is:\n",
      "[86]\tvalid_0's auc: 0.927314\n"
     ]
    },
    {
     "name": "stderr",
     "output_type": "stream",
     "text": [
      "[I 2025-08-04 22:22:15,812] Trial 24 finished with value: 0.9289143771672446 and parameters: {'learning_rate': 0.18671600048436923, 'num_leaves': 74, 'max_depth': 8, 'min_child_samples': 15, 'feature_fraction': 0.6880007980177499, 'bagging_fraction': 0.9577751285430085, 'lambda_l1': 0.9284891815763022, 'lambda_l2': 0.11604222942616609}. Best is trial 5 with value: 0.930203609851516.\n"
     ]
    },
    {
     "name": "stdout",
     "output_type": "stream",
     "text": [
      "Training until validation scores don't improve for 30 rounds\n",
      "Did not meet early stopping. Best iteration is:\n",
      "[93]\tvalid_0's auc: 0.928914\n",
      "Training until validation scores don't improve for 30 rounds\n"
     ]
    },
    {
     "name": "stderr",
     "output_type": "stream",
     "text": [
      "[I 2025-08-04 22:22:15,972] Trial 25 finished with value: 0.9153552058326665 and parameters: {'learning_rate': 0.18688683043083743, 'num_leaves': 76, 'max_depth': 8, 'min_child_samples': 15, 'feature_fraction': 0.7673149541012213, 'bagging_fraction': 0.9780765518086012, 'lambda_l1': 0.9017992731434108, 'lambda_l2': 0.01107402742458985}. Best is trial 5 with value: 0.930203609851516.\n",
      "[I 2025-08-04 22:22:16,108] Trial 26 finished with value: 0.9216235440561926 and parameters: {'learning_rate': 0.13483193594092158, 'num_leaves': 66, 'max_depth': 8, 'min_child_samples': 16, 'feature_fraction': 0.8109394067372054, 'bagging_fraction': 0.8377512006822448, 'lambda_l1': 0.8991641795793677, 'lambda_l2': 0.4525856637819739}. Best is trial 5 with value: 0.930203609851516.\n"
     ]
    },
    {
     "name": "stdout",
     "output_type": "stream",
     "text": [
      "Did not meet early stopping. Best iteration is:\n",
      "[91]\tvalid_0's auc: 0.915355\n",
      "Training until validation scores don't improve for 30 rounds\n",
      "Early stopping, best iteration is:\n",
      "[70]\tvalid_0's auc: 0.921624\n"
     ]
    },
    {
     "name": "stderr",
     "output_type": "stream",
     "text": [
      "[I 2025-08-04 22:22:16,267] Trial 27 finished with value: 0.922201475949142 and parameters: {'learning_rate': 0.10020247632335534, 'num_leaves': 30, 'max_depth': 7, 'min_child_samples': 27, 'feature_fraction': 0.6320422829874752, 'bagging_fraction': 0.9287926914162904, 'lambda_l1': 0.5691023039200946, 'lambda_l2': 0.13040827373799457}. Best is trial 5 with value: 0.930203609851516.\n"
     ]
    },
    {
     "name": "stdout",
     "output_type": "stream",
     "text": [
      "Training until validation scores don't improve for 30 rounds\n",
      "Did not meet early stopping. Best iteration is:\n",
      "[100]\tvalid_0's auc: 0.922201\n",
      "Training until validation scores don't improve for 30 rounds\n",
      "Did not meet early stopping. Best iteration is:\n",
      "[97]\tvalid_0's auc: 0.923468\n"
     ]
    },
    {
     "name": "stderr",
     "output_type": "stream",
     "text": [
      "[I 2025-08-04 22:22:16,412] Trial 28 finished with value: 0.9234684804836846 and parameters: {'learning_rate': 0.1597234349398721, 'num_leaves': 74, 'max_depth': 9, 'min_child_samples': 10, 'feature_fraction': 0.7024920752403581, 'bagging_fraction': 0.7735436346580302, 'lambda_l1': 0.41568134869310935, 'lambda_l2': 0.5792069961661486}. Best is trial 5 with value: 0.930203609851516.\n",
      "[I 2025-08-04 22:22:16,545] Trial 29 finished with value: 0.9233573397350404 and parameters: {'learning_rate': 0.18731867391103002, 'num_leaves': 57, 'max_depth': 9, 'min_child_samples': 32, 'feature_fraction': 0.8093420267616892, 'bagging_fraction': 0.8717534498630352, 'lambda_l1': 0.7431280342887274, 'lambda_l2': 0.41227917860698104}. Best is trial 5 with value: 0.930203609851516.\n"
     ]
    },
    {
     "name": "stdout",
     "output_type": "stream",
     "text": [
      "Training until validation scores don't improve for 30 rounds\n",
      "Did not meet early stopping. Best iteration is:\n",
      "[87]\tvalid_0's auc: 0.923357\n",
      "✅ SR-MMP - AUC: 0.9400, Accuracy: 0.9002, Threshold: 0.15\n",
      "\n",
      "📍 Training for label 12/12: SR-p53\n"
     ]
    },
    {
     "name": "stderr",
     "output_type": "stream",
     "text": [
      "[I 2025-08-04 22:22:19,062] A new study created in memory with name: no-name-cb97de1d-54aa-4c16-b1a5-424547f7246c\n"
     ]
    },
    {
     "name": "stdout",
     "output_type": "stream",
     "text": [
      "→ Reduced to 2055 features.\n",
      "Training until validation scores don't improve for 30 rounds\n",
      "Did not meet early stopping. Best iteration is:\n",
      "[78]\tvalid_0's auc: 0.846813\n"
     ]
    },
    {
     "name": "stderr",
     "output_type": "stream",
     "text": [
      "[I 2025-08-04 22:22:19,279] Trial 0 finished with value: 0.8468128983877015 and parameters: {'learning_rate': 0.16317784234736105, 'num_leaves': 31, 'max_depth': 3, 'min_child_samples': 27, 'feature_fraction': 0.9624563577487141, 'bagging_fraction': 0.9414274330812729, 'lambda_l1': 0.85013011654654, 'lambda_l2': 0.03189028209420042}. Best is trial 0 with value: 0.8468128983877015.\n",
      "[I 2025-08-04 22:22:19,412] Trial 1 finished with value: 0.8530933633295839 and parameters: {'learning_rate': 0.11771661661757353, 'num_leaves': 34, 'max_depth': 5, 'min_child_samples': 20, 'feature_fraction': 0.6025609216004758, 'bagging_fraction': 0.6358189003893058, 'lambda_l1': 0.08423184595048439, 'lambda_l2': 0.35457907718897963}. Best is trial 1 with value: 0.8530933633295839.\n"
     ]
    },
    {
     "name": "stdout",
     "output_type": "stream",
     "text": [
      "Training until validation scores don't improve for 30 rounds\n",
      "Did not meet early stopping. Best iteration is:\n",
      "[100]\tvalid_0's auc: 0.853093\n",
      "Training until validation scores don't improve for 30 rounds\n"
     ]
    },
    {
     "name": "stderr",
     "output_type": "stream",
     "text": [
      "[I 2025-08-04 22:22:19,580] Trial 2 finished with value: 0.8457442819647544 and parameters: {'learning_rate': 0.02539130906874147, 'num_leaves': 53, 'max_depth': 8, 'min_child_samples': 20, 'feature_fraction': 0.7381430129373292, 'bagging_fraction': 0.6497585692210841, 'lambda_l1': 0.5525762757152991, 'lambda_l2': 0.1286116960924063}. Best is trial 1 with value: 0.8530933633295839.\n",
      "[I 2025-08-04 22:22:19,753] Trial 3 finished with value: 0.843082114735658 and parameters: {'learning_rate': 0.06786878727725054, 'num_leaves': 38, 'max_depth': 10, 'min_child_samples': 34, 'feature_fraction': 0.6048949145064004, 'bagging_fraction': 0.7762042665194402, 'lambda_l1': 0.3735828001932301, 'lambda_l2': 0.9821119393895027}. Best is trial 1 with value: 0.8530933633295839.\n"
     ]
    },
    {
     "name": "stdout",
     "output_type": "stream",
     "text": [
      "Did not meet early stopping. Best iteration is:\n",
      "[97]\tvalid_0's auc: 0.845744\n",
      "Training until validation scores don't improve for 30 rounds\n",
      "Did not meet early stopping. Best iteration is:\n",
      "[99]\tvalid_0's auc: 0.843082\n"
     ]
    },
    {
     "name": "stderr",
     "output_type": "stream",
     "text": [
      "[I 2025-08-04 22:22:19,879] Trial 4 finished with value: 0.8438320209973753 and parameters: {'learning_rate': 0.0318519547802454, 'num_leaves': 53, 'max_depth': 4, 'min_child_samples': 18, 'feature_fraction': 0.6912805162766507, 'bagging_fraction': 0.926770120355192, 'lambda_l1': 0.03073939793922964, 'lambda_l2': 0.5607614589637847}. Best is trial 1 with value: 0.8530933633295839.\n"
     ]
    },
    {
     "name": "stdout",
     "output_type": "stream",
     "text": [
      "Training until validation scores don't improve for 30 rounds\n",
      "Did not meet early stopping. Best iteration is:\n",
      "[100]\tvalid_0's auc: 0.843832\n",
      "Training until validation scores don't improve for 30 rounds\n"
     ]
    },
    {
     "name": "stderr",
     "output_type": "stream",
     "text": [
      "[I 2025-08-04 22:22:20,034] Trial 5 finished with value: 0.8343457067866517 and parameters: {'learning_rate': 0.015736141649623957, 'num_leaves': 79, 'max_depth': 7, 'min_child_samples': 14, 'feature_fraction': 0.6648105798365435, 'bagging_fraction': 0.9142187703647471, 'lambda_l1': 0.21465300233968, 'lambda_l2': 0.3299294736638426}. Best is trial 1 with value: 0.8530933633295839.\n",
      "[I 2025-08-04 22:22:20,149] Trial 6 finished with value: 0.8461567304086989 and parameters: {'learning_rate': 0.09659249567794527, 'num_leaves': 45, 'max_depth': 8, 'min_child_samples': 27, 'feature_fraction': 0.7949291456113718, 'bagging_fraction': 0.7795598201315536, 'lambda_l1': 0.6708616399195771, 'lambda_l2': 0.25589875730682077}. Best is trial 1 with value: 0.8530933633295839.\n"
     ]
    },
    {
     "name": "stdout",
     "output_type": "stream",
     "text": [
      "Did not meet early stopping. Best iteration is:\n",
      "[95]\tvalid_0's auc: 0.834346\n",
      "Training until validation scores don't improve for 30 rounds\n",
      "Did not meet early stopping. Best iteration is:\n",
      "[81]\tvalid_0's auc: 0.846157\n",
      "Training until validation scores don't improve for 30 rounds\n"
     ]
    },
    {
     "name": "stderr",
     "output_type": "stream",
     "text": [
      "[I 2025-08-04 22:22:20,298] Trial 7 finished with value: 0.849193850768654 and parameters: {'learning_rate': 0.09258426992523837, 'num_leaves': 49, 'max_depth': 12, 'min_child_samples': 37, 'feature_fraction': 0.6991440147992699, 'bagging_fraction': 0.617285471587926, 'lambda_l1': 0.6888016298258363, 'lambda_l2': 0.4326730254744512}. Best is trial 1 with value: 0.8530933633295839.\n",
      "[I 2025-08-04 22:22:20,407] Trial 8 finished with value: 0.8622422197225347 and parameters: {'learning_rate': 0.17356134587606525, 'num_leaves': 39, 'max_depth': 7, 'min_child_samples': 18, 'feature_fraction': 0.9520062132105982, 'bagging_fraction': 0.7139652594692183, 'lambda_l1': 0.8454291035481624, 'lambda_l2': 0.24003469930063936}. Best is trial 8 with value: 0.8622422197225347.\n"
     ]
    },
    {
     "name": "stdout",
     "output_type": "stream",
     "text": [
      "Did not meet early stopping. Best iteration is:\n",
      "[88]\tvalid_0's auc: 0.849194\n",
      "Training until validation scores don't improve for 30 rounds\n",
      "Did not meet early stopping. Best iteration is:\n",
      "[99]\tvalid_0's auc: 0.862242\n",
      "Training until validation scores don't improve for 30 rounds\n"
     ]
    },
    {
     "name": "stderr",
     "output_type": "stream",
     "text": [
      "[I 2025-08-04 22:22:20,591] Trial 9 finished with value: 0.8499062617172853 and parameters: {'learning_rate': 0.061857305032961996, 'num_leaves': 50, 'max_depth': 11, 'min_child_samples': 15, 'feature_fraction': 0.9819920618118139, 'bagging_fraction': 0.7141113008449058, 'lambda_l1': 0.08430534294358893, 'lambda_l2': 0.9526249357028158}. Best is trial 8 with value: 0.8622422197225347.\n",
      "[I 2025-08-04 22:22:20,704] Trial 10 finished with value: 0.8520434945631796 and parameters: {'learning_rate': 0.19638575523955193, 'num_leaves': 22, 'max_depth': 6, 'min_child_samples': 50, 'feature_fraction': 0.8915760056914054, 'bagging_fraction': 0.8493026619134367, 'lambda_l1': 0.9415514684802857, 'lambda_l2': 0.6504280357222925}. Best is trial 8 with value: 0.8622422197225347.\n"
     ]
    },
    {
     "name": "stdout",
     "output_type": "stream",
     "text": [
      "Did not meet early stopping. Best iteration is:\n",
      "[78]\tvalid_0's auc: 0.849906\n",
      "Training until validation scores don't improve for 30 rounds\n",
      "Early stopping, best iteration is:\n",
      "[58]\tvalid_0's auc: 0.852043\n",
      "Training until validation scores don't improve for 30 rounds\n"
     ]
    },
    {
     "name": "stderr",
     "output_type": "stream",
     "text": [
      "[I 2025-08-04 22:22:20,807] Trial 11 finished with value: 0.8625421822272216 and parameters: {'learning_rate': 0.13468736480064247, 'num_leaves': 30, 'max_depth': 5, 'min_child_samples': 11, 'feature_fraction': 0.8734426761686451, 'bagging_fraction': 0.6944760805801645, 'lambda_l1': 0.3585991220927278, 'lambda_l2': 0.22854218419274142}. Best is trial 11 with value: 0.8625421822272216.\n",
      "[I 2025-08-04 22:22:20,932] Trial 12 finished with value: 0.8528308961379828 and parameters: {'learning_rate': 0.14696387753799695, 'num_leaves': 20, 'max_depth': 6, 'min_child_samples': 10, 'feature_fraction': 0.8777476536773287, 'bagging_fraction': 0.7036429938046361, 'lambda_l1': 0.39895970528791763, 'lambda_l2': 0.1922341128807205}. Best is trial 11 with value: 0.8625421822272216.\n"
     ]
    },
    {
     "name": "stdout",
     "output_type": "stream",
     "text": [
      "Early stopping, best iteration is:\n",
      "[38]\tvalid_0's auc: 0.862542\n",
      "Training until validation scores don't improve for 30 rounds\n",
      "Did not meet early stopping. Best iteration is:\n",
      "[81]\tvalid_0's auc: 0.852831\n"
     ]
    },
    {
     "name": "stderr",
     "output_type": "stream",
     "text": [
      "[I 2025-08-04 22:22:21,092] Trial 13 finished with value: 0.8583052118485189 and parameters: {'learning_rate': 0.1601468576974754, 'num_leaves': 64, 'max_depth': 9, 'min_child_samples': 11, 'feature_fraction': 0.8976573460937946, 'bagging_fraction': 0.714989904811159, 'lambda_l1': 0.2757031616084836, 'lambda_l2': 0.03778246795319451}. Best is trial 11 with value: 0.8625421822272216.\n"
     ]
    },
    {
     "name": "stdout",
     "output_type": "stream",
     "text": [
      "Training until validation scores don't improve for 30 rounds\n",
      "Did not meet early stopping. Best iteration is:\n",
      "[73]\tvalid_0's auc: 0.858305\n",
      "Training until validation scores don't improve for 30 rounds\n"
     ]
    },
    {
     "name": "stderr",
     "output_type": "stream",
     "text": [
      "[I 2025-08-04 22:22:21,227] Trial 14 finished with value: 0.8416572928383952 and parameters: {'learning_rate': 0.19931516468819796, 'num_leaves': 28, 'max_depth': 5, 'min_child_samples': 24, 'feature_fraction': 0.8320769365402336, 'bagging_fraction': 0.8403754868990962, 'lambda_l1': 0.5388801733916285, 'lambda_l2': 0.727089446480084}. Best is trial 11 with value: 0.8625421822272216.\n",
      "[I 2025-08-04 22:22:21,316] Trial 15 finished with value: 0.8329396325459317 and parameters: {'learning_rate': 0.12837651781757625, 'num_leaves': 39, 'max_depth': 3, 'min_child_samples': 40, 'feature_fraction': 0.9400728172152675, 'bagging_fraction': 0.6804411022789387, 'lambda_l1': 0.773194903173543, 'lambda_l2': 0.4732241756062086}. Best is trial 11 with value: 0.8625421822272216.\n"
     ]
    },
    {
     "name": "stdout",
     "output_type": "stream",
     "text": [
      "Early stopping, best iteration is:\n",
      "[65]\tvalid_0's auc: 0.841657\n",
      "Training until validation scores don't improve for 30 rounds\n",
      "Did not meet early stopping. Best iteration is:\n",
      "[74]\tvalid_0's auc: 0.83294\n",
      "Training until validation scores don't improve for 30 rounds\n"
     ]
    },
    {
     "name": "stderr",
     "output_type": "stream",
     "text": [
      "[I 2025-08-04 22:22:21,460] Trial 16 finished with value: 0.8632170978627671 and parameters: {'learning_rate': 0.17665120166924256, 'num_leaves': 63, 'max_depth': 7, 'min_child_samples': 16, 'feature_fraction': 0.8038253982778261, 'bagging_fraction': 0.7517398741001433, 'lambda_l1': 0.43569900888475976, 'lambda_l2': 0.20702877008468856}. Best is trial 16 with value: 0.8632170978627671.\n",
      "[I 2025-08-04 22:22:21,586] Trial 17 finished with value: 0.8584551931008624 and parameters: {'learning_rate': 0.1283713372951258, 'num_leaves': 65, 'max_depth': 5, 'min_child_samples': 10, 'feature_fraction': 0.796178715263795, 'bagging_fraction': 0.7582848873435021, 'lambda_l1': 0.3939612015638569, 'lambda_l2': 0.12607277484862567}. Best is trial 16 with value: 0.8632170978627671.\n"
     ]
    },
    {
     "name": "stdout",
     "output_type": "stream",
     "text": [
      "Did not meet early stopping. Best iteration is:\n",
      "[88]\tvalid_0's auc: 0.863217\n",
      "Training until validation scores don't improve for 30 rounds\n",
      "Early stopping, best iteration is:\n",
      "[66]\tvalid_0's auc: 0.858455\n"
     ]
    },
    {
     "name": "stderr",
     "output_type": "stream",
     "text": [
      "[I 2025-08-04 22:22:21,739] Trial 18 finished with value: 0.8524184476940382 and parameters: {'learning_rate': 0.1817088862714286, 'num_leaves': 67, 'max_depth': 9, 'min_child_samples': 24, 'feature_fraction': 0.8403035498554818, 'bagging_fraction': 0.8363800786843586, 'lambda_l1': 0.23534492898309106, 'lambda_l2': 0.36186829076068344}. Best is trial 16 with value: 0.8632170978627671.\n"
     ]
    },
    {
     "name": "stdout",
     "output_type": "stream",
     "text": [
      "Training until validation scores don't improve for 30 rounds\n",
      "Early stopping, best iteration is:\n",
      "[45]\tvalid_0's auc: 0.852418\n",
      "Training until validation scores don't improve for 30 rounds\n",
      "Early stopping, best iteration is:\n",
      "[48]\tvalid_0's auc: 0.831177\n"
     ]
    },
    {
     "name": "stderr",
     "output_type": "stream",
     "text": [
      "[I 2025-08-04 22:22:21,859] Trial 19 finished with value: 0.8311773528308961 and parameters: {'learning_rate': 0.14296611981466598, 'num_leaves': 76, 'max_depth': 6, 'min_child_samples': 47, 'feature_fraction': 0.7528594075942812, 'bagging_fraction': 0.8800116846108466, 'lambda_l1': 0.4731341443025854, 'lambda_l2': 0.0011465459649566412}. Best is trial 16 with value: 0.8632170978627671.\n",
      "[I 2025-08-04 22:22:21,987] Trial 20 finished with value: 0.8428571428571429 and parameters: {'learning_rate': 0.15180499975983408, 'num_leaves': 61, 'max_depth': 4, 'min_child_samples': 32, 'feature_fraction': 0.8303443373052818, 'bagging_fraction': 0.753815377503486, 'lambda_l1': 0.6159914888260317, 'lambda_l2': 0.8251939984663634}. Best is trial 16 with value: 0.8632170978627671.\n",
      "[I 2025-08-04 22:22:22,092] Trial 21 finished with value: 0.8608173978252719 and parameters: {'learning_rate': 0.17987757925912115, 'num_leaves': 42, 'max_depth': 7, 'min_child_samples': 16, 'feature_fraction': 0.9238756235358321, 'bagging_fraction': 0.6654996070942252, 'lambda_l1': 0.33507754995482925, 'lambda_l2': 0.244391907209229}. Best is trial 16 with value: 0.8632170978627671.\n"
     ]
    },
    {
     "name": "stdout",
     "output_type": "stream",
     "text": [
      "Training until validation scores don't improve for 30 rounds\n",
      "Did not meet early stopping. Best iteration is:\n",
      "[92]\tvalid_0's auc: 0.842857\n",
      "Training until validation scores don't improve for 30 rounds\n",
      "Early stopping, best iteration is:\n",
      "[42]\tvalid_0's auc: 0.860817\n"
     ]
    },
    {
     "name": "stderr",
     "output_type": "stream",
     "text": [
      "[I 2025-08-04 22:22:22,232] Trial 22 finished with value: 0.8711661042369704 and parameters: {'learning_rate': 0.17421169850054835, 'num_leaves': 28, 'max_depth': 7, 'min_child_samples': 14, 'feature_fraction': 0.9941783728443425, 'bagging_fraction': 0.7433256317945406, 'lambda_l1': 0.9789228420890559, 'lambda_l2': 0.15916358397836505}. Best is trial 22 with value: 0.8711661042369704.\n",
      "[I 2025-08-04 22:22:22,346] Trial 23 finished with value: 0.8639670041244845 and parameters: {'learning_rate': 0.13514707014912064, 'num_leaves': 27, 'max_depth': 9, 'min_child_samples': 13, 'feature_fraction': 0.862136998256071, 'bagging_fraction': 0.8091207125756601, 'lambda_l1': 0.4755818946872994, 'lambda_l2': 0.14742099393152255}. Best is trial 22 with value: 0.8711661042369704.\n"
     ]
    },
    {
     "name": "stdout",
     "output_type": "stream",
     "text": [
      "Training until validation scores don't improve for 30 rounds\n",
      "Did not meet early stopping. Best iteration is:\n",
      "[96]\tvalid_0's auc: 0.871166\n",
      "Training until validation scores don't improve for 30 rounds\n",
      "Early stopping, best iteration is:\n",
      "[13]\tvalid_0's auc: 0.863967\n"
     ]
    },
    {
     "name": "stderr",
     "output_type": "stream",
     "text": [
      "[I 2025-08-04 22:22:22,492] Trial 24 finished with value: 0.8561679790026246 and parameters: {'learning_rate': 0.11086220595524326, 'num_leaves': 59, 'max_depth': 9, 'min_child_samples': 22, 'feature_fraction': 0.9973047406291757, 'bagging_fraction': 0.9966224482502035, 'lambda_l1': 0.4870137196132007, 'lambda_l2': 0.11274604751765904}. Best is trial 22 with value: 0.8711661042369704.\n"
     ]
    },
    {
     "name": "stdout",
     "output_type": "stream",
     "text": [
      "Training until validation scores don't improve for 30 rounds\n",
      "Early stopping, best iteration is:\n",
      "[65]\tvalid_0's auc: 0.856168\n",
      "Training until validation scores don't improve for 30 rounds\n"
     ]
    },
    {
     "name": "stderr",
     "output_type": "stream",
     "text": [
      "[I 2025-08-04 22:22:22,699] Trial 25 finished with value: 0.8617172853393327 and parameters: {'learning_rate': 0.1692794020826521, 'num_leaves': 72, 'max_depth': 10, 'min_child_samples': 14, 'feature_fraction': 0.7579550443865173, 'bagging_fraction': 0.800751072778863, 'lambda_l1': 0.9971595082929583, 'lambda_l2': 0.14796740081668217}. Best is trial 22 with value: 0.8711661042369704.\n",
      "[I 2025-08-04 22:22:22,820] Trial 26 finished with value: 0.8522684664416948 and parameters: {'learning_rate': 0.1919445944102014, 'num_leaves': 24, 'max_depth': 8, 'min_child_samples': 13, 'feature_fraction': 0.8511048706425056, 'bagging_fraction': 0.8045533316296257, 'lambda_l1': 0.6291003656315853, 'lambda_l2': 0.2916004399848767}. Best is trial 22 with value: 0.8711661042369704.\n"
     ]
    },
    {
     "name": "stdout",
     "output_type": "stream",
     "text": [
      "Did not meet early stopping. Best iteration is:\n",
      "[77]\tvalid_0's auc: 0.861717\n",
      "Training until validation scores don't improve for 30 rounds\n",
      "Early stopping, best iteration is:\n",
      "[35]\tvalid_0's auc: 0.852268\n"
     ]
    },
    {
     "name": "stderr",
     "output_type": "stream",
     "text": [
      "[I 2025-08-04 22:22:22,992] Trial 27 finished with value: 0.8686914135733033 and parameters: {'learning_rate': 0.1563275809897855, 'num_leaves': 57, 'max_depth': 10, 'min_child_samples': 17, 'feature_fraction': 0.9242316736545718, 'bagging_fraction': 0.7368696212401313, 'lambda_l1': 0.7533344411206039, 'lambda_l2': 0.40436200786802456}. Best is trial 22 with value: 0.8711661042369704.\n"
     ]
    },
    {
     "name": "stdout",
     "output_type": "stream",
     "text": [
      "Training until validation scores don't improve for 30 rounds\n",
      "Did not meet early stopping. Best iteration is:\n",
      "[89]\tvalid_0's auc: 0.868691\n",
      "Training until validation scores don't improve for 30 rounds\n"
     ]
    },
    {
     "name": "stderr",
     "output_type": "stream",
     "text": [
      "[I 2025-08-04 22:22:23,147] Trial 28 finished with value: 0.8595050618672666 and parameters: {'learning_rate': 0.15530322314755615, 'num_leaves': 56, 'max_depth': 10, 'min_child_samples': 28, 'feature_fraction': 0.9184346829583186, 'bagging_fraction': 0.7319603592372081, 'lambda_l1': 0.8085446708354381, 'lambda_l2': 0.5738733137523716}. Best is trial 22 with value: 0.8711661042369704.\n",
      "[I 2025-08-04 22:22:23,295] Trial 29 finished with value: 0.8398950131233596 and parameters: {'learning_rate': 0.16309696692851314, 'num_leaves': 26, 'max_depth': 12, 'min_child_samples': 24, 'feature_fraction': 0.9526650630908046, 'bagging_fraction': 0.8261099249471076, 'lambda_l1': 0.9270527388773682, 'lambda_l2': 0.4037524613429232}. Best is trial 22 with value: 0.8711661042369704.\n"
     ]
    },
    {
     "name": "stdout",
     "output_type": "stream",
     "text": [
      "Early stopping, best iteration is:\n",
      "[62]\tvalid_0's auc: 0.859505\n",
      "Training until validation scores don't improve for 30 rounds\n",
      "Early stopping, best iteration is:\n",
      "[50]\tvalid_0's auc: 0.839895\n",
      "✅ SR-p53 - AUC: 0.8871, Accuracy: 0.9189, Threshold: 0.11\n"
     ]
    }
   ],
   "source": [
    "results = []\n",
    "feature_mask_dict = {}\n",
    "threshold_dict = {}\n",
    "\n",
    "for i, label_name in enumerate(label_cols):\n",
    "    try:\n",
    "        print(f\"\\n📍 Training for label {i+1}/{len(label_cols)}: {label_name}\")\n",
    "\n",
    "        # Filter valid samples\n",
    "        valid_rows = label_mask[:, i]\n",
    "        X_valid = X[valid_rows]\n",
    "        y_valid = Y[valid_rows, i]\n",
    "\n",
    "        # Train/val/test split\n",
    "        X_train, X_temp, y_train, y_temp = train_test_split(\n",
    "            X_valid, y_valid, test_size=0.2, random_state=42, stratify=y_valid\n",
    "        )\n",
    "        X_val, X_test, y_val, y_test = train_test_split(\n",
    "            X_temp, y_temp, test_size=0.5, random_state=42, stratify=y_temp\n",
    "        )\n",
    "\n",
    "        # Feature selection using median importance\n",
    "        selector_model = lgb.LGBMClassifier(n_estimators=200, random_state=42)\n",
    "        selector_model.fit(X_train, y_train)\n",
    "        selector = SelectFromModel(selector_model, threshold=\"median\", prefit=True)\n",
    "        X_train_fs = selector.transform(X_train)\n",
    "        X_val_fs = selector.transform(X_val)\n",
    "        X_test_fs = selector.transform(X_test)\n",
    "        kept_features = selector.get_support(indices=True)\n",
    "        feature_mask_dict[label_name] = kept_features\n",
    "        print(f\"→ Reduced to {X_train_fs.shape[1]} features.\")\n",
    "\n",
    "        # Hyperparameter tuning using Optuna\n",
    "        dtrain = lgb.Dataset(X_train_fs, label=y_train)\n",
    "        dval = lgb.Dataset(X_val_fs, label=y_val)\n",
    "\n",
    "        def objective(trial):\n",
    "            params = {\n",
    "                \"objective\": \"binary\",\n",
    "                \"metric\": \"auc\",\n",
    "                \"boosting_type\": \"gbdt\",\n",
    "                \"verbosity\": -1,\n",
    "                \"feature_pre_filter\": False,\n",
    "                \"learning_rate\": trial.suggest_float(\"learning_rate\", 0.01, 0.2),\n",
    "                \"num_leaves\": trial.suggest_int(\"num_leaves\", 20, 80),\n",
    "                \"max_depth\": trial.suggest_int(\"max_depth\", 3, 12),\n",
    "                \"min_child_samples\": trial.suggest_int(\"min_child_samples\", 10, 50),\n",
    "                \"feature_fraction\": trial.suggest_float(\"feature_fraction\", 0.6, 1.0),\n",
    "                \"bagging_fraction\": trial.suggest_float(\"bagging_fraction\", 0.6, 1.0),\n",
    "                \"lambda_l1\": trial.suggest_float(\"lambda_l1\", 0.0, 1.0),\n",
    "                \"lambda_l2\": trial.suggest_float(\"lambda_l2\", 0.0, 1.0),\n",
    "            }\n",
    "            model = lgb.train(\n",
    "                params.copy(),\n",
    "                dtrain,\n",
    "                valid_sets=[dval],\n",
    "                callbacks=[\n",
    "                    lgb.early_stopping(stopping_rounds=30),\n",
    "                    lgb.log_evaluation(period=0)\n",
    "                ]\n",
    "            )\n",
    "            preds = model.predict(X_val_fs)\n",
    "            return roc_auc_score(y_val, preds)\n",
    "\n",
    "        study = optuna.create_study(direction=\"maximize\")\n",
    "        study.optimize(objective, n_trials=30)\n",
    "        best_params = study.best_params\n",
    "        best_params.update({\n",
    "            \"objective\": \"binary\",\n",
    "            \"metric\": \"auc\",\n",
    "            \"boosting_type\": \"gbdt\",\n",
    "            \"verbosity\": -1\n",
    "        })\n",
    "\n",
    "        # Train best LightGBM\n",
    "        clf_lgb = lgb.LGBMClassifier(**best_params, n_estimators=500, random_state=42)\n",
    "        clf_lgb.fit(X_train_fs, y_train)\n",
    "\n",
    "        # Train XGBoost\n",
    "        clf_xgb = xgb.XGBClassifier(\n",
    "            objective=\"binary:logistic\",\n",
    "            eval_metric=\"auc\",\n",
    "            n_estimators=500,\n",
    "            use_label_encoder=False,\n",
    "            random_state=42\n",
    "        )\n",
    "        clf_xgb.fit(X_train_fs, y_train)\n",
    "\n",
    "        # Ensemble prediction on val\n",
    "        val_prob_lgb = clf_lgb.predict_proba(X_val_fs)[:, 1]\n",
    "        val_prob_xgb = clf_xgb.predict_proba(X_val_fs)[:, 1]\n",
    "        val_prob_avg = (val_prob_lgb + val_prob_xgb) / 2\n",
    "\n",
    "        # Threshold tuning\n",
    "        thresholds = np.linspace(0.1, 0.9, 81)\n",
    "        best_f1, best_thresh = 0, 0.5\n",
    "        for t in thresholds:\n",
    "            preds = (val_prob_avg >= t).astype(int)\n",
    "            f1 = f1_score(y_val, preds)\n",
    "            if f1 > best_f1:\n",
    "                best_f1 = f1\n",
    "                best_thresh = t\n",
    "\n",
    "        threshold_dict[label_name] = best_thresh\n",
    "\n",
    "        # Final test prediction\n",
    "        test_prob_avg = (\n",
    "            clf_lgb.predict_proba(X_test_fs)[:, 1] +\n",
    "            clf_xgb.predict_proba(X_test_fs)[:, 1]\n",
    "        ) / 2\n",
    "        test_preds = (test_prob_avg >= best_thresh).astype(int)\n",
    "\n",
    "        auc = roc_auc_score(y_test, test_prob_avg)\n",
    "        acc = accuracy_score(y_test, test_preds)\n",
    "\n",
    "        print(f\"✅ {label_name} - AUC: {auc:.4f}, Accuracy: {acc:.4f}, Threshold: {best_thresh:.2f}\")\n",
    "\n",
    "        # Save models\n",
    "        joblib.dump(clf_lgb, os.path.join(MODEL_PATH, f\"{label_name}_lgb.pkl\"))\n",
    "        joblib.dump(clf_xgb, os.path.join(MODEL_PATH, f\"{label_name}_xgb.pkl\"))\n",
    "\n",
    "        # Save result row\n",
    "        results.append({\n",
    "            \"label\": label_name,\n",
    "            \"auc\": round(auc, 4),\n",
    "            \"accuracy\": round(acc, 4),\n",
    "            \"n_train\": len(y_train),\n",
    "            \"n_val\": len(y_val),\n",
    "            \"n_test\": len(y_test),\n",
    "            \"best_threshold\": round(best_thresh, 2),\n",
    "            \"num_features\": X_train_fs.shape[1]\n",
    "        })\n",
    "\n",
    "    except Exception as e:\n",
    "        print(f\"❌ Error while training {label_name}: {e}\")\n"
   ]
  },
  {
   "cell_type": "markdown",
   "id": "f33d7e9b",
   "metadata": {},
   "source": [
    "## Results Summary"
   ]
  },
  {
   "cell_type": "code",
   "execution_count": 11,
   "id": "8a496f91",
   "metadata": {},
   "outputs": [
    {
     "name": "stdout",
     "output_type": "stream",
     "text": [
      "📊 Final model performance (LightGBM + XGBoost ensemble):\n"
     ]
    },
    {
     "data": {
      "text/html": [
       "<div>\n",
       "<style scoped>\n",
       "    .dataframe tbody tr th:only-of-type {\n",
       "        vertical-align: middle;\n",
       "    }\n",
       "\n",
       "    .dataframe tbody tr th {\n",
       "        vertical-align: top;\n",
       "    }\n",
       "\n",
       "    .dataframe thead th {\n",
       "        text-align: right;\n",
       "    }\n",
       "</style>\n",
       "<table border=\"1\" class=\"dataframe\">\n",
       "  <thead>\n",
       "    <tr style=\"text-align: right;\">\n",
       "      <th></th>\n",
       "      <th>label</th>\n",
       "      <th>auc</th>\n",
       "      <th>accuracy</th>\n",
       "      <th>n_train</th>\n",
       "      <th>n_val</th>\n",
       "      <th>n_test</th>\n",
       "      <th>best_threshold</th>\n",
       "      <th>num_features</th>\n",
       "    </tr>\n",
       "  </thead>\n",
       "  <tbody>\n",
       "    <tr>\n",
       "      <th>10</th>\n",
       "      <td>SR-MMP</td>\n",
       "      <td>0.9400</td>\n",
       "      <td>0.9002</td>\n",
       "      <td>4648</td>\n",
       "      <td>581</td>\n",
       "      <td>581</td>\n",
       "      <td>0.15</td>\n",
       "      <td>2055</td>\n",
       "    </tr>\n",
       "    <tr>\n",
       "      <th>6</th>\n",
       "      <td>NR-PPAR-gamma</td>\n",
       "      <td>0.9392</td>\n",
       "      <td>0.9690</td>\n",
       "      <td>5160</td>\n",
       "      <td>645</td>\n",
       "      <td>645</td>\n",
       "      <td>0.11</td>\n",
       "      <td>2055</td>\n",
       "    </tr>\n",
       "    <tr>\n",
       "      <th>8</th>\n",
       "      <td>SR-ATAD5</td>\n",
       "      <td>0.9124</td>\n",
       "      <td>0.9548</td>\n",
       "      <td>5657</td>\n",
       "      <td>707</td>\n",
       "      <td>708</td>\n",
       "      <td>0.10</td>\n",
       "      <td>2055</td>\n",
       "    </tr>\n",
       "    <tr>\n",
       "      <th>11</th>\n",
       "      <td>SR-p53</td>\n",
       "      <td>0.8871</td>\n",
       "      <td>0.9189</td>\n",
       "      <td>5419</td>\n",
       "      <td>677</td>\n",
       "      <td>678</td>\n",
       "      <td>0.11</td>\n",
       "      <td>2055</td>\n",
       "    </tr>\n",
       "    <tr>\n",
       "      <th>2</th>\n",
       "      <td>NR-AhR</td>\n",
       "      <td>0.8812</td>\n",
       "      <td>0.9115</td>\n",
       "      <td>5239</td>\n",
       "      <td>655</td>\n",
       "      <td>655</td>\n",
       "      <td>0.43</td>\n",
       "      <td>2055</td>\n",
       "    </tr>\n",
       "    <tr>\n",
       "      <th>5</th>\n",
       "      <td>NR-ER-LBD</td>\n",
       "      <td>0.8306</td>\n",
       "      <td>0.9583</td>\n",
       "      <td>5564</td>\n",
       "      <td>695</td>\n",
       "      <td>696</td>\n",
       "      <td>0.17</td>\n",
       "      <td>2055</td>\n",
       "    </tr>\n",
       "    <tr>\n",
       "      <th>3</th>\n",
       "      <td>NR-Aromatase</td>\n",
       "      <td>0.8284</td>\n",
       "      <td>0.9571</td>\n",
       "      <td>4656</td>\n",
       "      <td>582</td>\n",
       "      <td>583</td>\n",
       "      <td>0.35</td>\n",
       "      <td>2055</td>\n",
       "    </tr>\n",
       "    <tr>\n",
       "      <th>0</th>\n",
       "      <td>NR-AR</td>\n",
       "      <td>0.8244</td>\n",
       "      <td>0.9697</td>\n",
       "      <td>5812</td>\n",
       "      <td>726</td>\n",
       "      <td>727</td>\n",
       "      <td>0.81</td>\n",
       "      <td>2055</td>\n",
       "    </tr>\n",
       "    <tr>\n",
       "      <th>7</th>\n",
       "      <td>SR-ARE</td>\n",
       "      <td>0.8131</td>\n",
       "      <td>0.8168</td>\n",
       "      <td>4665</td>\n",
       "      <td>583</td>\n",
       "      <td>584</td>\n",
       "      <td>0.21</td>\n",
       "      <td>2055</td>\n",
       "    </tr>\n",
       "    <tr>\n",
       "      <th>9</th>\n",
       "      <td>SR-HSE</td>\n",
       "      <td>0.7978</td>\n",
       "      <td>0.9413</td>\n",
       "      <td>5173</td>\n",
       "      <td>647</td>\n",
       "      <td>647</td>\n",
       "      <td>0.16</td>\n",
       "      <td>2055</td>\n",
       "    </tr>\n",
       "    <tr>\n",
       "      <th>1</th>\n",
       "      <td>NR-AR-LBD</td>\n",
       "      <td>0.7372</td>\n",
       "      <td>0.9689</td>\n",
       "      <td>5406</td>\n",
       "      <td>676</td>\n",
       "      <td>676</td>\n",
       "      <td>0.46</td>\n",
       "      <td>2055</td>\n",
       "    </tr>\n",
       "    <tr>\n",
       "      <th>4</th>\n",
       "      <td>NR-ER</td>\n",
       "      <td>0.6947</td>\n",
       "      <td>0.8726</td>\n",
       "      <td>4954</td>\n",
       "      <td>619</td>\n",
       "      <td>620</td>\n",
       "      <td>0.37</td>\n",
       "      <td>2055</td>\n",
       "    </tr>\n",
       "  </tbody>\n",
       "</table>\n",
       "</div>"
      ],
      "text/plain": [
       "            label     auc  accuracy  n_train  n_val  n_test  best_threshold  \\\n",
       "10         SR-MMP  0.9400    0.9002     4648    581     581            0.15   \n",
       "6   NR-PPAR-gamma  0.9392    0.9690     5160    645     645            0.11   \n",
       "8        SR-ATAD5  0.9124    0.9548     5657    707     708            0.10   \n",
       "11         SR-p53  0.8871    0.9189     5419    677     678            0.11   \n",
       "2          NR-AhR  0.8812    0.9115     5239    655     655            0.43   \n",
       "5       NR-ER-LBD  0.8306    0.9583     5564    695     696            0.17   \n",
       "3    NR-Aromatase  0.8284    0.9571     4656    582     583            0.35   \n",
       "0           NR-AR  0.8244    0.9697     5812    726     727            0.81   \n",
       "7          SR-ARE  0.8131    0.8168     4665    583     584            0.21   \n",
       "9          SR-HSE  0.7978    0.9413     5173    647     647            0.16   \n",
       "1       NR-AR-LBD  0.7372    0.9689     5406    676     676            0.46   \n",
       "4           NR-ER  0.6947    0.8726     4954    619     620            0.37   \n",
       "\n",
       "    num_features  \n",
       "10          2055  \n",
       "6           2055  \n",
       "8           2055  \n",
       "11          2055  \n",
       "2           2055  \n",
       "5           2055  \n",
       "3           2055  \n",
       "0           2055  \n",
       "7           2055  \n",
       "9           2055  \n",
       "1           2055  \n",
       "4           2055  "
      ]
     },
     "metadata": {},
     "output_type": "display_data"
    },
    {
     "data": {
      "text/plain": [
       "['tox21_lightgb_pipeline/models/v6\\\\thresholds.pkl']"
      ]
     },
     "execution_count": 11,
     "metadata": {},
     "output_type": "execute_result"
    }
   ],
   "source": [
    "results_df = pd.DataFrame(results)\n",
    "results_df = results_df.sort_values(by=\"auc\", ascending=False)\n",
    "\n",
    "print(\"📊 Final model performance (LightGBM + XGBoost ensemble):\")\n",
    "display(results_df)\n",
    "\n",
    "# Save\n",
    "results_df.to_csv(os.path.join(MODEL_PATH, \"training_metrics_ensemble.csv\"), index=False)\n",
    "joblib.dump(feature_mask_dict, os.path.join(MODEL_PATH, \"feature_masks.pkl\"))\n",
    "joblib.dump(threshold_dict, os.path.join(MODEL_PATH, \"thresholds.pkl\"))"
   ]
  },
  {
   "cell_type": "markdown",
   "id": "cd8754af",
   "metadata": {},
   "source": [
    "# A test run "
   ]
  },
  {
   "cell_type": "code",
   "execution_count": 12,
   "id": "7426db44",
   "metadata": {},
   "outputs": [],
   "source": [
    "import joblib\n",
    "import shap\n",
    "import numpy as np\n",
    "import pandas as pd\n",
    "from rdkit import Chem\n",
    "from rdkit.Chem import Descriptors\n",
    "\n",
    "def predict_and_explain_all_labels(smiles):\n",
    "    # Compute full descriptors (1613 features)\n",
    "    desc = compute_descriptors(smiles)\n",
    "    if desc is None:\n",
    "        raise ValueError(\"Invalid SMILES string.\")\n",
    "    \n",
    "    X_input_full = np.array([list(desc.values())])\n",
    "    features_all = list(desc.keys())\n",
    "\n",
    "    # Load saved masks and thresholds\n",
    "    thresholds = joblib.load(os.path.join(MODEL_PATH, \"thresholds.pkl\"))\n",
    "    feature_masks = joblib.load(os.path.join(MODEL_PATH, \"feature_masks.pkl\"))\n",
    "\n",
    "    predicted_labels = []\n",
    "    all_results = {}\n",
    "\n",
    "    for label_name in label_cols:\n",
    "        # Apply label-specific feature selection\n",
    "        kept_indices = feature_masks[label_name]\n",
    "        X_input = X_input_full[:, kept_indices]\n",
    "        features = [features_all[i] for i in kept_indices]\n",
    "\n",
    "        # Load trained model\n",
    "        model_file = os.path.join(MODEL_PATH, f\"{label_name}.pkl\")\n",
    "        if not os.path.exists(model_file):\n",
    "            print(f\"⚠️ Skipping {label_name}: Model file missing\")\n",
    "            continue\n",
    "\n",
    "        model = joblib.load(model_file)\n",
    "        threshold = thresholds[label_name]\n",
    "\n",
    "        # Predict probability and apply threshold\n",
    "        prob = model.predict_proba(X_input)[0, 1]\n",
    "        pred = int(prob >= threshold)\n",
    "\n",
    "        if pred == 1:\n",
    "            predicted_labels.append(label_name)\n",
    "\n",
    "            # SHAP Explanation (TreeExplainer for speed)\n",
    "            explainer = shap.Explainer(model)\n",
    "            shap_values = explainer(X_input)\n",
    "\n",
    "            # SHAP dataframe (sorted by abs importance)\n",
    "            shap_df = pd.DataFrame({\n",
    "                \"feature\": features,\n",
    "                \"shap_value\": shap_values.values[0],\n",
    "                \"feature_value\": X_input[0]\n",
    "            }).sort_values(by=\"shap_value\", key=np.abs, ascending=False)\n",
    "\n",
    "            all_results[label_name] = {\n",
    "                \"prob\": prob,\n",
    "                \"threshold\": threshold,\n",
    "                \"shap_df\": shap_df,\n",
    "                \"top_features\": shap_df[[\"feature\", \"shap_value\"]].head(4).values.tolist()\n",
    "            }\n",
    "\n",
    "    return {\n",
    "        \"smiles\": smiles,\n",
    "        \"predicted_labels\": predicted_labels,\n",
    "        \"explanations\": all_results\n",
    "    }\n"
   ]
  },
  {
   "cell_type": "code",
   "execution_count": 13,
   "id": "9cc43bdc",
   "metadata": {},
   "outputs": [
    {
     "name": "stdout",
     "output_type": "stream",
     "text": [
      "⚠️ Skipping NR-AR: Model file missing\n",
      "⚠️ Skipping NR-AR-LBD: Model file missing\n",
      "⚠️ Skipping NR-AhR: Model file missing\n",
      "⚠️ Skipping NR-Aromatase: Model file missing\n",
      "⚠️ Skipping NR-ER: Model file missing\n",
      "⚠️ Skipping NR-ER-LBD: Model file missing\n",
      "⚠️ Skipping NR-PPAR-gamma: Model file missing\n",
      "⚠️ Skipping SR-ARE: Model file missing\n",
      "⚠️ Skipping SR-ATAD5: Model file missing\n",
      "⚠️ Skipping SR-HSE: Model file missing\n",
      "⚠️ Skipping SR-MMP: Model file missing\n",
      "⚠️ Skipping SR-p53: Model file missing\n"
     ]
    }
   ],
   "source": [
    "result = predict_and_explain_all_labels(\"CC(=O)Oc1ccccc1C(=O)O\")  # Aspirin"
   ]
  },
  {
   "cell_type": "markdown",
   "id": "ea119023",
   "metadata": {},
   "source": [
    "# SHAP + prediction interface @@@@"
   ]
  },
  {
   "cell_type": "code",
   "execution_count": 14,
   "id": "b4e37a59",
   "metadata": {},
   "outputs": [],
   "source": [
    "# Core libraries\n",
    "import os\n",
    "import numpy as np\n",
    "import pandas as pd\n",
    "import joblib\n",
    "\n",
    "# Chem + descriptor engine\n",
    "from rdkit import Chem\n",
    "from mordred import Calculator, descriptors\n",
    "\n",
    "# Models\n",
    "import lightgbm as lgb\n",
    "import xgboost as xgb\n",
    "from lightgbm import LGBMClassifier\n",
    "from xgboost import XGBClassifier\n",
    "\n",
    "# Explanation\n",
    "import shap\n",
    "\n",
    "# Utilities\n",
    "from sklearn.model_selection import train_test_split\n",
    "from sklearn.metrics import roc_auc_score, accuracy_score\n",
    "from sklearn.feature_selection import SelectFromModel\n",
    "import matplotlib.pyplot as plt\n",
    "\n",
    "# Optional: Optuna (used in training step)\n",
    "import optuna\n"
   ]
  },
  {
   "cell_type": "markdown",
   "id": "45f7ca0f",
   "metadata": {},
   "source": [
    "## compute_descriptors()"
   ]
  },
  {
   "cell_type": "code",
   "execution_count": 15,
   "id": "8fab8f98",
   "metadata": {},
   "outputs": [],
   "source": [
    "from mordred import Calculator, descriptors\n",
    "from rdkit import Chem\n",
    "\n",
    "# Define Mordred calculator globally\n",
    "mordred_calc = Calculator(descriptors, ignore_3D=True)\n",
    "\n",
    "def compute_descriptors(smiles):\n",
    "    try:\n",
    "        mol = Chem.MolFromSmiles(smiles)\n",
    "        if mol is None:\n",
    "            return None\n",
    "        descs = mordred_calc(mol)\n",
    "        descs = descs.fill_missing(0.0)  # Replace NaNs\n",
    "        return descs.asdict()\n",
    "    except:\n",
    "        return None\n"
   ]
  },
  {
   "cell_type": "markdown",
   "id": "7bf0ac38",
   "metadata": {},
   "source": [
    "## Visualize SHAP for Any Label"
   ]
  },
  {
   "cell_type": "code",
   "execution_count": 16,
   "id": "8201d74c",
   "metadata": {},
   "outputs": [],
   "source": [
    "def visualize_shap_for_label(label_name, smiles):\n",
    "    # Compute descriptors\n",
    "    desc = compute_descriptors(smiles)\n",
    "    if desc is None:\n",
    "        raise ValueError(\"Invalid SMILES string.\")\n",
    "    \n",
    "    X_input_full = np.array([list(desc.values())])\n",
    "    features_all = list(desc.keys())\n",
    "\n",
    "    # Load feature mask\n",
    "    feature_mask = joblib.load(os.path.join(MODEL_PATH, \"feature_masks.pkl\"))[label_name]\n",
    "    X_input = X_input_full[:, feature_mask]\n",
    "    features = [features_all[i] for i in feature_mask]\n",
    "\n",
    "    # Load model (use LightGBM for SHAP)\n",
    "    model = joblib.load(os.path.join(MODEL_PATH, f\"{label_name}_lgb.pkl\"))\n",
    "\n",
    "    # SHAP explanation\n",
    "    explainer = shap.Explainer(model, X_input)\n",
    "    shap_values = explainer(X_input)\n",
    "\n",
    "    shap_df = pd.DataFrame({\n",
    "        \"feature\": features,\n",
    "        \"shap_value\": shap_values.values[0],\n",
    "        \"feature_value\": X_input[0]\n",
    "    }).sort_values(by=\"shap_value\", key=np.abs, ascending=False)\n",
    "\n",
    "    return shap_values, shap_df\n"
   ]
  },
  {
   "cell_type": "markdown",
   "id": "038921b9",
   "metadata": {},
   "source": [
    "## predict_and_explain_all_labels (smiles)"
   ]
  },
  {
   "cell_type": "code",
   "execution_count": 17,
   "id": "cd896992",
   "metadata": {},
   "outputs": [
    {
     "ename": "AttributeError",
     "evalue": "'NoneType' object has no attribute 'values'",
     "output_type": "error",
     "traceback": [
      "\u001b[31m---------------------------------------------------------------------------\u001b[39m",
      "\u001b[31mAttributeError\u001b[39m                            Traceback (most recent call last)",
      "\u001b[36mCell\u001b[39m\u001b[36m \u001b[39m\u001b[32mIn[17]\u001b[39m\u001b[32m, line 3\u001b[39m\n\u001b[32m      1\u001b[39m \u001b[38;5;66;03m# Load full descriptors (length = 1613)\u001b[39;00m\n\u001b[32m      2\u001b[39m desc = compute_descriptors(smiles)\n\u001b[32m----> \u001b[39m\u001b[32m3\u001b[39m X_input_full = np.array([\u001b[38;5;28mlist\u001b[39m(\u001b[43mdesc\u001b[49m\u001b[43m.\u001b[49m\u001b[43mvalues\u001b[49m())])\n\u001b[32m      4\u001b[39m features_all = \u001b[38;5;28mlist\u001b[39m(desc.keys())\n\u001b[32m      6\u001b[39m \u001b[38;5;66;03m# Load masks and thresholds\u001b[39;00m\n",
      "\u001b[31mAttributeError\u001b[39m: 'NoneType' object has no attribute 'values'"
     ]
    }
   ],
   "source": [
    "# Load full descriptors (length = 1613)\n",
    "desc = compute_descriptors(smiles)\n",
    "X_input_full = np.array([list(desc.values())])\n",
    "features_all = list(desc.keys())\n",
    "\n",
    "# Load masks and thresholds\n",
    "thresholds = joblib.load(os.path.join(MODEL_PATH, \"thresholds.pkl\"))\n",
    "\n",
    "for label_name in label_cols:\n",
    "    # Apply correct mask for this label\n",
    "    kept_indices = feature_masks[label_name]\n",
    "    X_input = X_input_full[:, kept_indices]  # This will match model's input size\n",
    "    features = [features_all[i] for i in kept_indices]\n",
    "\n",
    "    model = joblib.load(os.path.join(MODEL_PATH, f\"{label_name}.pkl\"))\n",
    "\n",
    "    # Predict\n",
    "    prob = model.predict_proba(X_input)[0, 1]\n"
   ]
  },
  {
   "cell_type": "markdown",
   "id": "b1a65e28",
   "metadata": {},
   "source": [
    "## summarize_explanation"
   ]
  },
  {
   "cell_type": "code",
   "execution_count": null,
   "id": "48e503d3",
   "metadata": {},
   "outputs": [],
   "source": [
    "def summarize_explanation(result_dict):\n",
    "    smiles = result_dict[\"smiles\"]\n",
    "    predicted = result_dict[\"predicted_labels\"]\n",
    "    explanations = result_dict[\"explanations\"]\n",
    "\n",
    "    # Resolve molecule name (optional)\n",
    "    try:\n",
    "        from rdkit import Chem\n",
    "        from rdkit.Chem import Descriptors\n",
    "        mol = Chem.MolFromSmiles(smiles)\n",
    "        name = Descriptors.MolWt(mol)\n",
    "        name_str = f\" (MolWt: {name:.1f})\"\n",
    "    except:\n",
    "        name_str = \"\"\n",
    "\n",
    "    if not predicted:\n",
    "        print(f\"No toxicity predicted for SMILES: `{smiles}`{name_str}\")\n",
    "        return\n",
    "\n",
    "    print(f\"\\n🧪 **Toxicity Report** for SMILES: `{smiles}`{name_str}\\n\")\n",
    "    print(f\"✅ Predicted to be toxic in the following endpoints:\\n\")\n",
    "\n",
    "    for label in predicted:\n",
    "        print(f\"  • {label}\")\n",
    "\n",
    "    print(\"\\n🔍 Top SHAP features:\")\n",
    "\n",
    "    for label in predicted:\n",
    "        top_feats = explanations[label][\"top_features\"]\n",
    "        feat_text = \", \".join([f\"`{f}` ({v:.3f})\" for f, v in top_feats])\n",
    "        print(f\"  • **{label}**: influenced by {feat_text}\")\n"
   ]
  },
  {
   "cell_type": "markdown",
   "id": "1891887a",
   "metadata": {},
   "source": [
    "## predict_explain_and_summarize"
   ]
  },
  {
   "cell_type": "code",
   "execution_count": null,
   "id": "31c24fcd",
   "metadata": {},
   "outputs": [],
   "source": [
    "def predict_explain_and_summarize(smiles):\n",
    "    result = predict_and_explain_all_labels(smiles)\n",
    "    summarize_explanation(result)\n"
   ]
  },
  {
   "cell_type": "markdown",
   "id": "c4ac70de",
   "metadata": {},
   "source": [
    "## batch_predict_and_explain"
   ]
  },
  {
   "cell_type": "code",
   "execution_count": null,
   "id": "36f19ed9",
   "metadata": {},
   "outputs": [],
   "source": [
    "def batch_predict_and_explain(csv_path, output_dir):\n",
    "    import time\n",
    "    df = pd.read_csv(csv_path)\n",
    "\n",
    "    os.makedirs(output_dir, exist_ok=True)\n",
    "    all_outputs = []\n",
    "\n",
    "    for i, row in df.iterrows():\n",
    "        smiles = row[\"smiles\"]\n",
    "        mol_id = row.get(\"mol_id\", f\"mol_{i}\")\n",
    "        try:\n",
    "            result = predict_and_explain_all_labels(smiles)\n",
    "            result[\"mol_id\"] = mol_id\n",
    "\n",
    "            # Save SHAP per label\n",
    "            for label, details in result[\"explanations\"].items():\n",
    "                shap_df = details[\"shap_df\"]\n",
    "                shap_df[\"mol_id\"] = mol_id\n",
    "                shap_df[\"label\"] = label\n",
    "                shap_df[\"probability\"] = details[\"prob\"]\n",
    "                shap_df[\"threshold\"] = details[\"threshold\"]\n",
    "                shap_df.to_csv(os.path.join(output_dir, f\"{mol_id}_{label}_shap.csv\"), index=False)\n",
    "\n",
    "            all_outputs.append({\n",
    "                \"mol_id\": mol_id,\n",
    "                \"smiles\": smiles,\n",
    "                \"predicted_labels\": \";\".join(result[\"predicted_labels\"])\n",
    "            })\n",
    "\n",
    "        except Exception as e:\n",
    "            print(f\"❌ Failed on {mol_id}: {e}\")\n",
    "\n",
    "    summary_df = pd.DataFrame(all_outputs)\n",
    "    summary_df.to_csv(os.path.join(output_dir, \"toxicity_predictions.csv\"), index=False)\n",
    "    print(f\"\\n✅ Batch prediction completed for {len(all_outputs)} molecules.\")\n"
   ]
  },
  {
   "cell_type": "markdown",
   "id": "3cec510a",
   "metadata": {},
   "source": [
    "## running on full dataset"
   ]
  },
  {
   "cell_type": "code",
   "execution_count": 18,
   "id": "fc766169",
   "metadata": {},
   "outputs": [
    {
     "ename": "NameError",
     "evalue": "name 'batch_predict_and_explain' is not defined",
     "output_type": "error",
     "traceback": [
      "\u001b[31m---------------------------------------------------------------------------\u001b[39m",
      "\u001b[31mNameError\u001b[39m                                 Traceback (most recent call last)",
      "\u001b[36mCell\u001b[39m\u001b[36m \u001b[39m\u001b[32mIn[18]\u001b[39m\u001b[32m, line 1\u001b[39m\n\u001b[32m----> \u001b[39m\u001b[32m1\u001b[39m \u001b[43mbatch_predict_and_explain\u001b[49m(\n\u001b[32m      2\u001b[39m     csv_path=\u001b[33m\"\u001b[39m\u001b[33mtox21_lightgb_pipeline/Data_v6/processed/tox21.csv\u001b[39m\u001b[33m\"\u001b[39m,\n\u001b[32m      3\u001b[39m     output_dir=\u001b[33m\"\u001b[39m\u001b[33mtox21_lightgb_pipeline/Data_v6/SHAP\u001b[39m\u001b[33m\"\u001b[39m\n\u001b[32m      4\u001b[39m )\n",
      "\u001b[31mNameError\u001b[39m: name 'batch_predict_and_explain' is not defined"
     ]
    }
   ],
   "source": [
    "\n",
    "batch_predict_and_explain(\n",
    "    csv_path=\"tox21_lightgb_pipeline/Data_v6/processed/tox21.csv\",\n",
    "    output_dir=\"tox21_lightgb_pipeline/Data_v6/SHAP\"\n",
    ")"
   ]
  },
  {
   "cell_type": "markdown",
   "id": "c6f585d5",
   "metadata": {},
   "source": [
    "# All in one (attempting to add everything in one place)"
   ]
  },
  {
   "cell_type": "markdown",
   "id": "99453a7d",
   "metadata": {},
   "source": [
    "## STEP 1: Data Loading & Descriptor Computation"
   ]
  },
  {
   "cell_type": "code",
   "execution_count": 1,
   "id": "ca9448a6",
   "metadata": {},
   "outputs": [
    {
     "name": "stderr",
     "output_type": "stream",
     "text": [
      "  0%|          | 0/7831 [00:00<?, ?it/s][22:26:06] WARNING: not removing hydrogen atom without neighbors\n",
      "100%|██████████| 7831/7831 [00:00<00:00, 10106.70it/s]\n",
      "  1%|          | 70/7831 [00:02<04:45, 27.18it/s][22:26:09] WARNING: not removing hydrogen atom without neighbors\n",
      "[22:26:09] WARNING: not removing hydrogen atom without neighbors\n",
      "[22:26:09] WARNING: not removing hydrogen atom without neighbors\n",
      "  1%|▏         | 114/7831 [00:04<09:16, 13.87it/s]d:\\Coding Projects\\Predicting-Drug-Response-Using-Multi-Omics-Data-with-XAI\\lord\\Lib\\site-packages\\numpy\\core\\fromnumeric.py:88: RuntimeWarning: overflow encountered in reduce\n",
      "  return ufunc.reduce(obj, axis, dtype, out, **passkwargs)\n",
      "100%|██████████| 7831/7831 [06:27<00:00, 20.22it/s]\n"
     ]
    }
   ],
   "source": [
    "import pandas as pd\n",
    "import numpy as np\n",
    "import os\n",
    "from mordred import Calculator, descriptors\n",
    "from rdkit import Chem\n",
    "from tqdm import tqdm\n",
    "\n",
    "tqdm.pandas()\n",
    "\n",
    "# Define paths\n",
    "DATA_PATH = \"tox21_lightgb_pipeline/Data_v6/processed/tox21.csv\"\n",
    "SAVE_DIR = \"tox21_lightgb_pipeline/Data_v6/processed\"\n",
    "os.makedirs(SAVE_DIR, exist_ok=True)\n",
    "\n",
    "# Load data\n",
    "df = pd.read_csv(DATA_PATH)\n",
    "label_cols = [\n",
    "    \"NR-AR\", \"NR-AR-LBD\", \"NR-AhR\", \"NR-Aromatase\", \"NR-ER\",\n",
    "    \"NR-ER-LBD\", \"NR-PPAR-gamma\", \"SR-ARE\", \"SR-ATAD5\",\n",
    "    \"SR-HSE\", \"SR-MMP\", \"SR-p53\"\n",
    "]\n",
    "\n",
    "# Filter valid SMILES\n",
    "df = df[df[\"smiles\"].apply(lambda x: isinstance(x, str))]\n",
    "\n",
    "# Compute descriptors\n",
    "calc = Calculator(descriptors, ignore_3D=True)\n",
    "\n",
    "def compute_descriptors(smiles):\n",
    "    mol = Chem.MolFromSmiles(smiles)\n",
    "    if mol is None:\n",
    "        return None\n",
    "    try:\n",
    "        return calc(mol)\n",
    "    except:\n",
    "        return None\n",
    "\n",
    "mols = df[\"smiles\"].progress_apply(Chem.MolFromSmiles)\n",
    "descs = mols.progress_apply(lambda m: calc(m) if m is not None else None)\n",
    "desc_df = pd.DataFrame([d.asdict() if d is not None else {} for d in descs])\n",
    "desc_df = desc_df.dropna(axis=1)\n",
    "\n",
    "# Save feature names\n",
    "with open(os.path.join(SAVE_DIR, \"feature_names.txt\"), \"w\") as f:\n",
    "    f.write(\"\\n\".join(desc_df.columns))\n",
    "\n",
    "# Extract X and \n",
    "X = desc_df.values.astype(np.float32)\n",
    "Y = df[label_cols].values.astype(np.float32)\n",
    "label_mask = ~df[label_cols].isna().values\n",
    "\n",
    "np.save(os.path.join(SAVE_DIR, \"X.npy\"), X)\n",
    "np.save(os.path.join(SAVE_DIR, \"Y.npy\"), Y)\n",
    "np.save(os.path.join(SAVE_DIR, \"label_mask.npy\"), label_mask)"
   ]
  },
  {
   "cell_type": "markdown",
   "id": "a8fe4f92",
   "metadata": {},
   "source": [
    "### Handle NaN values in Y labels (classification targets)"
   ]
  },
  {
   "cell_type": "code",
   "execution_count": 11,
   "id": "cdeda385",
   "metadata": {},
   "outputs": [
    {
     "name": "stdout",
     "output_type": "stream",
     "text": [
      "✅ Y_cleaned.npy saved. NaNs replaced with -1 for masking during model training.\n"
     ]
    }
   ],
   "source": [
    "import numpy as np\n",
    "import os\n",
    "\n",
    "# Reload just to be sure\n",
    "SAVE_DIR = \"tox21_lightgb_pipeline/Data_v6/processed\"\n",
    "Y = np.load(os.path.join(SAVE_DIR, \"Y.npy\"))\n",
    "label_mask = np.load(os.path.join(SAVE_DIR, \"label_mask.npy\"))\n",
    "\n",
    "# Strategy: Replace NaN in Y with -1 (we won't train on those)\n",
    "# Alternatively, you can use `label_mask` directly for filtering later\n",
    "Y_cleaned = np.where(label_mask, Y, -1)\n",
    "\n",
    "# Save cleaned Y for model training\n",
    "np.save(os.path.join(SAVE_DIR, \"Y.npy\"), Y_cleaned)\n",
    "\n",
    "print(\"✅ Y_cleaned.npy saved. NaNs replaced with -1 for masking during model training.\")\n"
   ]
  },
  {
   "cell_type": "markdown",
   "id": "1cc0f34b",
   "metadata": {},
   "source": [
    "## STEP 2: Model Training (LightGBM)"
   ]
  },
  {
   "cell_type": "code",
   "execution_count": null,
   "id": "ffe8466b",
   "metadata": {},
   "outputs": [
    {
     "name": "stdout",
     "output_type": "stream",
     "text": [
      "\n",
      "📍 Training for label: NR-AR\n"
     ]
    },
    {
     "name": "stderr",
     "output_type": "stream",
     "text": [
      "[I 2025-08-04 22:45:42,281] A new study created in memory with name: no-name-48feed37-b7c1-4dc8-8321-f0259a752ea9\n",
      "[I 2025-08-04 22:45:42,690] Trial 0 finished with value: 0.6950104432582965 and parameters: {'learning_rate': 0.12548983540874797, 'num_leaves': 61, 'max_depth': 3, 'min_child_samples': 27, 'feature_fraction': 0.81759911359066, 'bagging_fraction': 0.8221146941074708, 'lambda_l1': 0.0699981664681033, 'lambda_l2': 0.36492819595499515}. Best is trial 0 with value: 0.6950104432582965.\n"
     ]
    },
    {
     "name": "stdout",
     "output_type": "stream",
     "text": [
      "Training until validation scores don't improve for 30 rounds\n",
      "Did not meet early stopping. Best iteration is:\n",
      "[82]\tvalid_0's auc: 0.69501\n",
      "Training until validation scores don't improve for 30 rounds\n",
      "Early stopping, best iteration is:\n",
      "[11]\tvalid_0's auc: 0.727942\n"
     ]
    },
    {
     "name": "stderr",
     "output_type": "stream",
     "text": [
      "[I 2025-08-04 22:45:42,947] Trial 1 finished with value: 0.7279415177535391 and parameters: {'learning_rate': 0.08230155003401189, 'num_leaves': 31, 'max_depth': 7, 'min_child_samples': 29, 'feature_fraction': 0.6131242838472909, 'bagging_fraction': 0.8964264489053455, 'lambda_l1': 0.28480761237641183, 'lambda_l2': 0.3633740275928765}. Best is trial 1 with value: 0.7279415177535391.\n"
     ]
    },
    {
     "name": "stdout",
     "output_type": "stream",
     "text": [
      "Training until validation scores don't improve for 30 rounds\n",
      "Early stopping, best iteration is:\n",
      "[3]\tvalid_0's auc: 0.723091\n"
     ]
    },
    {
     "name": "stderr",
     "output_type": "stream",
     "text": [
      "[I 2025-08-04 22:45:43,212] Trial 2 finished with value: 0.7230912044557902 and parameters: {'learning_rate': 0.12499265024512826, 'num_leaves': 68, 'max_depth': 7, 'min_child_samples': 19, 'feature_fraction': 0.6129777375215391, 'bagging_fraction': 0.9303083766685033, 'lambda_l1': 0.6764786368340698, 'lambda_l2': 0.745162871127929}. Best is trial 1 with value: 0.7279415177535391.\n"
     ]
    },
    {
     "name": "stdout",
     "output_type": "stream",
     "text": [
      "Training until validation scores don't improve for 30 rounds\n"
     ]
    },
    {
     "name": "stderr",
     "output_type": "stream",
     "text": [
      "[I 2025-08-04 22:45:43,699] Trial 3 finished with value: 0.7420747273149222 and parameters: {'learning_rate': 0.16999269305418735, 'num_leaves': 43, 'max_depth': 11, 'min_child_samples': 30, 'feature_fraction': 0.9981120092905394, 'bagging_fraction': 0.6857316465977796, 'lambda_l1': 0.7038643697437005, 'lambda_l2': 0.6720346598217953}. Best is trial 3 with value: 0.7420747273149222.\n"
     ]
    },
    {
     "name": "stdout",
     "output_type": "stream",
     "text": [
      "Early stopping, best iteration is:\n",
      "[8]\tvalid_0's auc: 0.742075\n",
      "Training until validation scores don't improve for 30 rounds\n"
     ]
    },
    {
     "name": "stderr",
     "output_type": "stream",
     "text": [
      "[I 2025-08-04 22:45:43,967] Trial 4 finished with value: 0.756323973079601 and parameters: {'learning_rate': 0.03591908472349754, 'num_leaves': 36, 'max_depth': 7, 'min_child_samples': 14, 'feature_fraction': 0.973953006466757, 'bagging_fraction': 0.7341709360782658, 'lambda_l1': 0.7238824475214791, 'lambda_l2': 0.256692202840758}. Best is trial 4 with value: 0.756323973079601.\n"
     ]
    },
    {
     "name": "stdout",
     "output_type": "stream",
     "text": [
      "Early stopping, best iteration is:\n",
      "[3]\tvalid_0's auc: 0.756324\n",
      "Training until validation scores don't improve for 30 rounds\n"
     ]
    },
    {
     "name": "stderr",
     "output_type": "stream",
     "text": [
      "[I 2025-08-04 22:45:44,218] Trial 5 finished with value: 0.744441865862149 and parameters: {'learning_rate': 0.09982929988742573, 'num_leaves': 36, 'max_depth': 6, 'min_child_samples': 48, 'feature_fraction': 0.9566272154050048, 'bagging_fraction': 0.9203152803861258, 'lambda_l1': 0.927386104604669, 'lambda_l2': 0.8881704308668048}. Best is trial 4 with value: 0.756323973079601.\n"
     ]
    },
    {
     "name": "stdout",
     "output_type": "stream",
     "text": [
      "Early stopping, best iteration is:\n",
      "[12]\tvalid_0's auc: 0.744442\n",
      "Training until validation scores don't improve for 30 rounds\n"
     ]
    },
    {
     "name": "stderr",
     "output_type": "stream",
     "text": [
      "[I 2025-08-04 22:45:44,525] Trial 6 finished with value: 0.7169180784404734 and parameters: {'learning_rate': 0.14573951976441518, 'num_leaves': 60, 'max_depth': 5, 'min_child_samples': 44, 'feature_fraction': 0.6959191535482436, 'bagging_fraction': 0.8347723701220803, 'lambda_l1': 0.4066324519871529, 'lambda_l2': 0.5373640080980325}. Best is trial 4 with value: 0.756323973079601.\n"
     ]
    },
    {
     "name": "stdout",
     "output_type": "stream",
     "text": [
      "Early stopping, best iteration is:\n",
      "[41]\tvalid_0's auc: 0.716918\n",
      "Training until validation scores don't improve for 30 rounds\n"
     ]
    },
    {
     "name": "stderr",
     "output_type": "stream",
     "text": [
      "[I 2025-08-04 22:45:44,845] Trial 7 finished with value: 0.731445811093061 and parameters: {'learning_rate': 0.1513523813982044, 'num_leaves': 40, 'max_depth': 8, 'min_child_samples': 37, 'feature_fraction': 0.7351251425018134, 'bagging_fraction': 0.9859214332834751, 'lambda_l1': 0.6953697909471563, 'lambda_l2': 0.9312178280979848}. Best is trial 4 with value: 0.756323973079601.\n"
     ]
    },
    {
     "name": "stdout",
     "output_type": "stream",
     "text": [
      "Early stopping, best iteration is:\n",
      "[12]\tvalid_0's auc: 0.731446\n",
      "Training until validation scores don't improve for 30 rounds\n"
     ]
    },
    {
     "name": "stderr",
     "output_type": "stream",
     "text": [
      "[I 2025-08-04 22:45:45,270] Trial 8 finished with value: 0.7189603156184731 and parameters: {'learning_rate': 0.08583852037308046, 'num_leaves': 29, 'max_depth': 8, 'min_child_samples': 16, 'feature_fraction': 0.7449606730544478, 'bagging_fraction': 0.7560215219597569, 'lambda_l1': 0.5621976600399055, 'lambda_l2': 0.09348302510615314}. Best is trial 4 with value: 0.756323973079601.\n"
     ]
    },
    {
     "name": "stdout",
     "output_type": "stream",
     "text": [
      "Early stopping, best iteration is:\n",
      "[27]\tvalid_0's auc: 0.71896\n",
      "Training until validation scores don't improve for 30 rounds\n"
     ]
    },
    {
     "name": "stderr",
     "output_type": "stream",
     "text": [
      "[I 2025-08-04 22:45:45,471] Trial 9 finished with value: 0.7578324437224413 and parameters: {'learning_rate': 0.013862539558828798, 'num_leaves': 43, 'max_depth': 5, 'min_child_samples': 35, 'feature_fraction': 0.9063639356277188, 'bagging_fraction': 0.7371238471801811, 'lambda_l1': 0.7395919375896923, 'lambda_l2': 0.8716906489411839}. Best is trial 9 with value: 0.7578324437224413.\n",
      "[I 2025-08-04 22:45:45,644] Trial 10 finished with value: 0.7297516825249477 and parameters: {'learning_rate': 0.01353036016479249, 'num_leaves': 78, 'max_depth': 3, 'min_child_samples': 38, 'feature_fraction': 0.8768268372849306, 'bagging_fraction': 0.6044111445253919, 'lambda_l1': 0.9480369113027267, 'lambda_l2': 0.9988181247482786}. Best is trial 9 with value: 0.7578324437224413.\n"
     ]
    },
    {
     "name": "stdout",
     "output_type": "stream",
     "text": [
      "Early stopping, best iteration is:\n",
      "[4]\tvalid_0's auc: 0.757832\n",
      "Training until validation scores don't improve for 30 rounds\n",
      "Early stopping, best iteration is:\n",
      "[3]\tvalid_0's auc: 0.729752\n",
      "Training until validation scores don't improve for 30 rounds\n"
     ]
    },
    {
     "name": "stderr",
     "output_type": "stream",
     "text": [
      "[I 2025-08-04 22:45:45,961] Trial 11 finished with value: 0.75609190067301 and parameters: {'learning_rate': 0.011189469098052289, 'num_leaves': 20, 'max_depth': 10, 'min_child_samples': 12, 'feature_fraction': 0.9129028253457221, 'bagging_fraction': 0.724083287824399, 'lambda_l1': 0.8193393941819165, 'lambda_l2': 0.2015228013648502}. Best is trial 9 with value: 0.7578324437224413.\n"
     ]
    },
    {
     "name": "stdout",
     "output_type": "stream",
     "text": [
      "Early stopping, best iteration is:\n",
      "[3]\tvalid_0's auc: 0.756092\n",
      "Training until validation scores don't improve for 30 rounds\n"
     ]
    },
    {
     "name": "stderr",
     "output_type": "stream",
     "text": [
      "[I 2025-08-04 22:45:46,259] Trial 12 finished with value: 0.7534462752378741 and parameters: {'learning_rate': 0.04317798417652993, 'num_leaves': 50, 'max_depth': 5, 'min_child_samples': 22, 'feature_fraction': 0.8756430724507668, 'bagging_fraction': 0.655401479869695, 'lambda_l1': 0.5137203424254043, 'lambda_l2': 0.3058150065699775}. Best is trial 9 with value: 0.7578324437224413.\n"
     ]
    },
    {
     "name": "stdout",
     "output_type": "stream",
     "text": [
      "Early stopping, best iteration is:\n",
      "[23]\tvalid_0's auc: 0.753446\n",
      "Training until validation scores don't improve for 30 rounds\n"
     ]
    },
    {
     "name": "stderr",
     "output_type": "stream",
     "text": [
      "[I 2025-08-04 22:45:46,671] Trial 13 finished with value: 0.7277094453469483 and parameters: {'learning_rate': 0.057954165274905864, 'num_leaves': 48, 'max_depth': 9, 'min_child_samples': 38, 'feature_fraction': 0.999760190326876, 'bagging_fraction': 0.7730326841679119, 'lambda_l1': 0.8291213765020599, 'lambda_l2': 0.002157717889766264}. Best is trial 9 with value: 0.7578324437224413.\n"
     ]
    },
    {
     "name": "stdout",
     "output_type": "stream",
     "text": [
      "Early stopping, best iteration is:\n",
      "[15]\tvalid_0's auc: 0.727709\n",
      "Training until validation scores don't improve for 30 rounds\n"
     ]
    },
    {
     "name": "stderr",
     "output_type": "stream",
     "text": [
      "[I 2025-08-04 22:45:46,891] Trial 14 finished with value: 0.7726850777442562 and parameters: {'learning_rate': 0.04418019347985577, 'num_leaves': 22, 'max_depth': 5, 'min_child_samples': 11, 'feature_fraction': 0.9296892288418485, 'bagging_fraction': 0.6961162208808025, 'lambda_l1': 0.37349339115874813, 'lambda_l2': 0.5524421879553865}. Best is trial 14 with value: 0.7726850777442562.\n"
     ]
    },
    {
     "name": "stdout",
     "output_type": "stream",
     "text": [
      "Early stopping, best iteration is:\n",
      "[2]\tvalid_0's auc: 0.772685\n",
      "Training until validation scores don't improve for 30 rounds\n",
      "Early stopping, best iteration is:\n",
      "[10]\tvalid_0's auc: 0.722697\n"
     ]
    },
    {
     "name": "stderr",
     "output_type": "stream",
     "text": [
      "[I 2025-08-04 22:45:47,090] Trial 15 finished with value: 0.7226966813645858 and parameters: {'learning_rate': 0.0609443793682102, 'num_leaves': 20, 'max_depth': 4, 'min_child_samples': 24, 'feature_fraction': 0.9156180479598238, 'bagging_fraction': 0.6651654707734376, 'lambda_l1': 0.25155909959366224, 'lambda_l2': 0.5838594436229969}. Best is trial 14 with value: 0.7726850777442562.\n"
     ]
    },
    {
     "name": "stdout",
     "output_type": "stream",
     "text": [
      "Training until validation scores don't improve for 30 rounds\n"
     ]
    },
    {
     "name": "stderr",
     "output_type": "stream",
     "text": [
      "[I 2025-08-04 22:45:47,431] Trial 16 finished with value: 0.7228591320491994 and parameters: {'learning_rate': 0.03306387144452848, 'num_leaves': 27, 'max_depth': 5, 'min_child_samples': 35, 'feature_fraction': 0.8390316896572696, 'bagging_fraction': 0.6198764193013353, 'lambda_l1': 0.40077628094722445, 'lambda_l2': 0.7911672272615874}. Best is trial 14 with value: 0.7726850777442562.\n"
     ]
    },
    {
     "name": "stdout",
     "output_type": "stream",
     "text": [
      "Early stopping, best iteration is:\n",
      "[41]\tvalid_0's auc: 0.722859\n",
      "Training until validation scores don't improve for 30 rounds\n"
     ]
    },
    {
     "name": "stderr",
     "output_type": "stream",
     "text": [
      "[I 2025-08-04 22:45:47,946] Trial 17 finished with value: 0.766627987932235 and parameters: {'learning_rate': 0.06541413821923468, 'num_leaves': 58, 'max_depth': 12, 'min_child_samples': 33, 'feature_fraction': 0.9304493156981964, 'bagging_fraction': 0.7028049396973135, 'lambda_l1': 0.03944055454081141, 'lambda_l2': 0.4506111230825264}. Best is trial 14 with value: 0.7726850777442562.\n"
     ]
    },
    {
     "name": "stdout",
     "output_type": "stream",
     "text": [
      "Early stopping, best iteration is:\n",
      "[14]\tvalid_0's auc: 0.766628\n",
      "Training until validation scores don't improve for 30 rounds\n"
     ]
    },
    {
     "name": "stderr",
     "output_type": "stream",
     "text": [
      "[I 2025-08-04 22:45:48,442] Trial 18 finished with value: 0.7436528196797401 and parameters: {'learning_rate': 0.06916085185818498, 'num_leaves': 59, 'max_depth': 12, 'min_child_samples': 10, 'feature_fraction': 0.7837860167404838, 'bagging_fraction': 0.6943290421222158, 'lambda_l1': 0.0748138122557501, 'lambda_l2': 0.46191414241938195}. Best is trial 14 with value: 0.7726850777442562.\n"
     ]
    },
    {
     "name": "stdout",
     "output_type": "stream",
     "text": [
      "Early stopping, best iteration is:\n",
      "[9]\tvalid_0's auc: 0.743653\n",
      "Training until validation scores don't improve for 30 rounds\n"
     ]
    },
    {
     "name": "stderr",
     "output_type": "stream",
     "text": [
      "[I 2025-08-04 22:45:48,845] Trial 19 finished with value: 0.7469714550939893 and parameters: {'learning_rate': 0.11011361129792177, 'num_leaves': 70, 'max_depth': 12, 'min_child_samples': 45, 'feature_fraction': 0.9449462561154461, 'bagging_fraction': 0.7976071872406183, 'lambda_l1': 0.23243542897847758, 'lambda_l2': 0.45227284035959053}. Best is trial 14 with value: 0.7726850777442562.\n"
     ]
    },
    {
     "name": "stdout",
     "output_type": "stream",
     "text": [
      "Early stopping, best iteration is:\n",
      "[2]\tvalid_0's auc: 0.746971\n",
      "Training until validation scores don't improve for 30 rounds\n"
     ]
    },
    {
     "name": "stderr",
     "output_type": "stream",
     "text": [
      "[I 2025-08-04 22:45:49,206] Trial 20 finished with value: 0.7232536551404039 and parameters: {'learning_rate': 0.049445873924775445, 'num_leaves': 55, 'max_depth': 10, 'min_child_samples': 32, 'feature_fraction': 0.8564144411023196, 'bagging_fraction': 0.6385321352505985, 'lambda_l1': 0.0021537634381253445, 'lambda_l2': 0.6484022537900396}. Best is trial 14 with value: 0.7726850777442562.\n"
     ]
    },
    {
     "name": "stdout",
     "output_type": "stream",
     "text": [
      "Early stopping, best iteration is:\n",
      "[9]\tvalid_0's auc: 0.723254\n",
      "Training until validation scores don't improve for 30 rounds\n"
     ]
    },
    {
     "name": "stderr",
     "output_type": "stream",
     "text": [
      "[I 2025-08-04 22:45:49,605] Trial 21 finished with value: 0.7624506846135994 and parameters: {'learning_rate': 0.024468430659986058, 'num_leaves': 50, 'max_depth': 6, 'min_child_samples': 42, 'feature_fraction': 0.9163241567512219, 'bagging_fraction': 0.7166034669127658, 'lambda_l1': 0.17202009535594015, 'lambda_l2': 0.7934680512013166}. Best is trial 14 with value: 0.7726850777442562.\n"
     ]
    },
    {
     "name": "stdout",
     "output_type": "stream",
     "text": [
      "Early stopping, best iteration is:\n",
      "[29]\tvalid_0's auc: 0.762451\n",
      "Training until validation scores don't improve for 30 rounds\n"
     ]
    },
    {
     "name": "stderr",
     "output_type": "stream",
     "text": [
      "[I 2025-08-04 22:45:50,159] Trial 22 finished with value: 0.7200278486887909 and parameters: {'learning_rate': 0.032433457692787424, 'num_leaves': 68, 'max_depth': 6, 'min_child_samples': 42, 'feature_fraction': 0.9384324035079461, 'bagging_fraction': 0.6994600776034299, 'lambda_l1': 0.16304966030373788, 'lambda_l2': 0.6140971024675558}. Best is trial 14 with value: 0.7726850777442562.\n"
     ]
    },
    {
     "name": "stdout",
     "output_type": "stream",
     "text": [
      "Early stopping, best iteration is:\n",
      "[64]\tvalid_0's auc: 0.720028\n",
      "Training until validation scores don't improve for 30 rounds\n"
     ]
    },
    {
     "name": "stderr",
     "output_type": "stream",
     "text": [
      "[I 2025-08-04 22:45:50,402] Trial 23 finished with value: 0.7363657461127872 and parameters: {'learning_rate': 0.0710987592848015, 'num_leaves': 50, 'max_depth': 6, 'min_child_samples': 41, 'feature_fraction': 0.8982307137943429, 'bagging_fraction': 0.7747274010211649, 'lambda_l1': 0.3897268677267685, 'lambda_l2': 0.7140442958494643}. Best is trial 14 with value: 0.7726850777442562.\n"
     ]
    },
    {
     "name": "stdout",
     "output_type": "stream",
     "text": [
      "Early stopping, best iteration is:\n",
      "[1]\tvalid_0's auc: 0.736366\n",
      "Training until validation scores don't improve for 30 rounds\n"
     ]
    },
    {
     "name": "stderr",
     "output_type": "stream",
     "text": [
      "[I 2025-08-04 22:45:50,668] Trial 24 finished with value: 0.7347412392666511 and parameters: {'learning_rate': 0.029906868549589814, 'num_leaves': 80, 'max_depth': 4, 'min_child_samples': 50, 'feature_fraction': 0.8116211901846849, 'bagging_fraction': 0.7102465260313201, 'lambda_l1': 0.16626035275995274, 'lambda_l2': 0.4987978834082231}. Best is trial 14 with value: 0.7726850777442562.\n"
     ]
    },
    {
     "name": "stdout",
     "output_type": "stream",
     "text": [
      "Early stopping, best iteration is:\n",
      "[33]\tvalid_0's auc: 0.734741\n",
      "Training until validation scores don't improve for 30 rounds\n"
     ]
    },
    {
     "name": "stderr",
     "output_type": "stream",
     "text": [
      "[I 2025-08-04 22:45:50,882] Trial 25 finished with value: 0.7562311441169645 and parameters: {'learning_rate': 0.050891503385156384, 'num_leaves': 54, 'max_depth': 4, 'min_child_samples': 26, 'feature_fraction': 0.938340425387899, 'bagging_fraction': 0.6584212554188204, 'lambda_l1': 0.32053279698348536, 'lambda_l2': 0.7935775344597973}. Best is trial 14 with value: 0.7726850777442562.\n"
     ]
    },
    {
     "name": "stdout",
     "output_type": "stream",
     "text": [
      "Early stopping, best iteration is:\n",
      "[3]\tvalid_0's auc: 0.756231\n",
      "Training until validation scores don't improve for 30 rounds\n"
     ]
    },
    {
     "name": "stderr",
     "output_type": "stream",
     "text": [
      "[I 2025-08-04 22:45:51,322] Trial 26 finished with value: 0.755558134137851 and parameters: {'learning_rate': 0.08053351603737527, 'num_leaves': 74, 'max_depth': 9, 'min_child_samples': 31, 'feature_fraction': 0.9756812899919463, 'bagging_fraction': 0.6774385776520947, 'lambda_l1': 0.15322143599139643, 'lambda_l2': 0.4077285687134103}. Best is trial 14 with value: 0.7726850777442562.\n"
     ]
    },
    {
     "name": "stdout",
     "output_type": "stream",
     "text": [
      "Early stopping, best iteration is:\n",
      "[10]\tvalid_0's auc: 0.755558\n",
      "Training until validation scores don't improve for 30 rounds\n"
     ]
    },
    {
     "name": "stderr",
     "output_type": "stream",
     "text": [
      "[I 2025-08-04 22:45:51,725] Trial 27 finished with value: 0.7428869807379902 and parameters: {'learning_rate': 0.023856943767810238, 'num_leaves': 64, 'max_depth': 6, 'min_child_samples': 21, 'feature_fraction': 0.8646652538909448, 'bagging_fraction': 0.8402095957857522, 'lambda_l1': 0.020847769451767223, 'lambda_l2': 0.5436231179967196}. Best is trial 14 with value: 0.7726850777442562.\n"
     ]
    },
    {
     "name": "stdout",
     "output_type": "stream",
     "text": [
      "Early stopping, best iteration is:\n",
      "[30]\tvalid_0's auc: 0.742887\n",
      "Training until validation scores don't improve for 30 rounds\n"
     ]
    },
    {
     "name": "stderr",
     "output_type": "stream",
     "text": [
      "[I 2025-08-04 22:45:52,365] Trial 28 finished with value: 0.712740775121838 and parameters: {'learning_rate': 0.09762812560479633, 'num_leaves': 54, 'max_depth': 9, 'min_child_samples': 34, 'feature_fraction': 0.8385191680842169, 'bagging_fraction': 0.7484329470105848, 'lambda_l1': 0.3355769778745408, 'lambda_l2': 0.20440678963713835}. Best is trial 14 with value: 0.7726850777442562.\n"
     ]
    },
    {
     "name": "stdout",
     "output_type": "stream",
     "text": [
      "Early stopping, best iteration is:\n",
      "[33]\tvalid_0's auc: 0.712741\n",
      "Training until validation scores don't improve for 30 rounds\n"
     ]
    },
    {
     "name": "stderr",
     "output_type": "stream",
     "text": [
      "[I 2025-08-04 22:45:52,931] Trial 29 finished with value: 0.7652355534926897 and parameters: {'learning_rate': 0.06783882540163957, 'num_leaves': 63, 'max_depth': 11, 'min_child_samples': 26, 'feature_fraction': 0.7942375610946951, 'bagging_fraction': 0.7968241626442263, 'lambda_l1': 0.10961530213846982, 'lambda_l2': 0.3353310182322783}. Best is trial 14 with value: 0.7726850777442562.\n"
     ]
    },
    {
     "name": "stdout",
     "output_type": "stream",
     "text": [
      "Early stopping, best iteration is:\n",
      "[26]\tvalid_0's auc: 0.765236\n",
      "\n",
      "📍 Training for label: NR-AR-LBD\n"
     ]
    },
    {
     "name": "stderr",
     "output_type": "stream",
     "text": [
      "[I 2025-08-04 22:45:58,451] A new study created in memory with name: no-name-c4a02a65-92f7-4304-905c-46f53576bf3b\n"
     ]
    },
    {
     "name": "stdout",
     "output_type": "stream",
     "text": [
      "Training until validation scores don't improve for 30 rounds\n",
      "Early stopping, best iteration is:\n",
      "[2]\tvalid_0's auc: 0.89753\n"
     ]
    },
    {
     "name": "stderr",
     "output_type": "stream",
     "text": [
      "[I 2025-08-04 22:45:58,860] Trial 0 finished with value: 0.8975297955922498 and parameters: {'learning_rate': 0.10498626252175693, 'num_leaves': 47, 'max_depth': 12, 'min_child_samples': 35, 'feature_fraction': 0.6129919131464258, 'bagging_fraction': 0.9240324181523631, 'lambda_l1': 0.634877442618517, 'lambda_l2': 0.387454122251623}. Best is trial 0 with value: 0.8975297955922498.\n"
     ]
    },
    {
     "name": "stdout",
     "output_type": "stream",
     "text": [
      "Training until validation scores don't improve for 30 rounds\n"
     ]
    },
    {
     "name": "stderr",
     "output_type": "stream",
     "text": [
      "[I 2025-08-04 22:45:59,204] Trial 1 finished with value: 0.8740595246021706 and parameters: {'learning_rate': 0.17673938903538866, 'num_leaves': 75, 'max_depth': 6, 'min_child_samples': 24, 'feature_fraction': 0.9770553035794716, 'bagging_fraction': 0.8726929083702588, 'lambda_l1': 0.7674634514884382, 'lambda_l2': 0.33928984051550093}. Best is trial 0 with value: 0.8975297955922498.\n"
     ]
    },
    {
     "name": "stdout",
     "output_type": "stream",
     "text": [
      "Early stopping, best iteration is:\n",
      "[12]\tvalid_0's auc: 0.87406\n",
      "Training until validation scores don't improve for 30 rounds\n"
     ]
    },
    {
     "name": "stderr",
     "output_type": "stream",
     "text": [
      "[I 2025-08-04 22:45:59,568] Trial 2 finished with value: 0.9155070244357147 and parameters: {'learning_rate': 0.14124941932674043, 'num_leaves': 78, 'max_depth': 9, 'min_child_samples': 47, 'feature_fraction': 0.9099339719346238, 'bagging_fraction': 0.7641692146122672, 'lambda_l1': 0.27384384001749185, 'lambda_l2': 0.6323701546703678}. Best is trial 2 with value: 0.9155070244357147.\n"
     ]
    },
    {
     "name": "stdout",
     "output_type": "stream",
     "text": [
      "Early stopping, best iteration is:\n",
      "[5]\tvalid_0's auc: 0.915507\n",
      "Training until validation scores don't improve for 30 rounds\n"
     ]
    },
    {
     "name": "stderr",
     "output_type": "stream",
     "text": [
      "[I 2025-08-04 22:46:00,145] Trial 3 finished with value: 0.8961315666822025 and parameters: {'learning_rate': 0.012944137215769409, 'num_leaves': 50, 'max_depth': 7, 'min_child_samples': 32, 'feature_fraction': 0.8090471829196281, 'bagging_fraction': 0.6584136096795994, 'lambda_l1': 0.04301011064589011, 'lambda_l2': 0.32091745740575595}. Best is trial 2 with value: 0.9155070244357147.\n",
      "[I 2025-08-04 22:46:00,298] Trial 4 finished with value: 0.901025367867368 and parameters: {'learning_rate': 0.15009010783962234, 'num_leaves': 61, 'max_depth': 3, 'min_child_samples': 49, 'feature_fraction': 0.9514676584048919, 'bagging_fraction': 0.8192774758534265, 'lambda_l1': 0.7612369690512113, 'lambda_l2': 0.09706459036695914}. Best is trial 2 with value: 0.9155070244357147.\n"
     ]
    },
    {
     "name": "stdout",
     "output_type": "stream",
     "text": [
      "Did not meet early stopping. Best iteration is:\n",
      "[92]\tvalid_0's auc: 0.896132\n",
      "Training until validation scores don't improve for 30 rounds\n",
      "Early stopping, best iteration is:\n",
      "[20]\tvalid_0's auc: 0.901025\n"
     ]
    },
    {
     "name": "stderr",
     "output_type": "stream",
     "text": [
      "[I 2025-08-04 22:46:00,530] Trial 5 finished with value: 0.9121779079832213 and parameters: {'learning_rate': 0.040561033759945644, 'num_leaves': 30, 'max_depth': 3, 'min_child_samples': 42, 'feature_fraction': 0.9199664962939228, 'bagging_fraction': 0.8972681372809606, 'lambda_l1': 0.3016269488208517, 'lambda_l2': 0.520769065785319}. Best is trial 2 with value: 0.9155070244357147.\n"
     ]
    },
    {
     "name": "stdout",
     "output_type": "stream",
     "text": [
      "Training until validation scores don't improve for 30 rounds\n",
      "Early stopping, best iteration is:\n",
      "[62]\tvalid_0's auc: 0.912178\n",
      "Training until validation scores don't improve for 30 rounds\n",
      "Early stopping, best iteration is:\n",
      "[9]\tvalid_0's auc: 0.898662\n"
     ]
    },
    {
     "name": "stderr",
     "output_type": "stream",
     "text": [
      "[I 2025-08-04 22:46:00,785] Trial 6 finished with value: 0.8986616951860976 and parameters: {'learning_rate': 0.09010616142458204, 'num_leaves': 56, 'max_depth': 8, 'min_child_samples': 50, 'feature_fraction': 0.6466196116856976, 'bagging_fraction': 0.8022280112567214, 'lambda_l1': 0.6657563238971521, 'lambda_l2': 0.35811853171036456}. Best is trial 2 with value: 0.9155070244357147.\n",
      "[I 2025-08-04 22:46:00,976] Trial 7 finished with value: 0.8972634662760504 and parameters: {'learning_rate': 0.18511214533472836, 'num_leaves': 72, 'max_depth': 4, 'min_child_samples': 46, 'feature_fraction': 0.6445254818090013, 'bagging_fraction': 0.6936003797517802, 'lambda_l1': 0.6572621378128951, 'lambda_l2': 0.43402513602101944}. Best is trial 2 with value: 0.9155070244357147.\n"
     ]
    },
    {
     "name": "stdout",
     "output_type": "stream",
     "text": [
      "Training until validation scores don't improve for 30 rounds\n",
      "Early stopping, best iteration is:\n",
      "[24]\tvalid_0's auc: 0.897263\n",
      "Training until validation scores don't improve for 30 rounds\n"
     ]
    },
    {
     "name": "stderr",
     "output_type": "stream",
     "text": [
      "[I 2025-08-04 22:46:01,408] Trial 8 finished with value: 0.8637059724349158 and parameters: {'learning_rate': 0.15459330673321559, 'num_leaves': 52, 'max_depth': 10, 'min_child_samples': 11, 'feature_fraction': 0.8531460526581074, 'bagging_fraction': 0.7039799645183452, 'lambda_l1': 0.8495746955441343, 'lambda_l2': 0.07880647831441245}. Best is trial 2 with value: 0.9155070244357147.\n"
     ]
    },
    {
     "name": "stdout",
     "output_type": "stream",
     "text": [
      "Early stopping, best iteration is:\n",
      "[15]\tvalid_0's auc: 0.863706\n",
      "Training until validation scores don't improve for 30 rounds\n"
     ]
    },
    {
     "name": "stderr",
     "output_type": "stream",
     "text": [
      "[I 2025-08-04 22:46:01,689] Trial 9 finished with value: 0.8813502896331313 and parameters: {'learning_rate': 0.15848596053204136, 'num_leaves': 68, 'max_depth': 7, 'min_child_samples': 46, 'feature_fraction': 0.9234940318140603, 'bagging_fraction': 0.7412551666651136, 'lambda_l1': 0.727388810882119, 'lambda_l2': 0.5040063292532901}. Best is trial 2 with value: 0.9155070244357147.\n"
     ]
    },
    {
     "name": "stdout",
     "output_type": "stream",
     "text": [
      "Early stopping, best iteration is:\n",
      "[6]\tvalid_0's auc: 0.88135\n",
      "Training until validation scores don't improve for 30 rounds\n"
     ]
    },
    {
     "name": "stderr",
     "output_type": "stream",
     "text": [
      "[I 2025-08-04 22:46:02,226] Trial 10 finished with value: 0.8841467474532259 and parameters: {'learning_rate': 0.07005565438703776, 'num_leaves': 21, 'max_depth': 10, 'min_child_samples': 20, 'feature_fraction': 0.754864821913203, 'bagging_fraction': 0.9920330321506525, 'lambda_l1': 0.3435610276586263, 'lambda_l2': 0.8714834579147962}. Best is trial 2 with value: 0.9155070244357147.\n"
     ]
    },
    {
     "name": "stdout",
     "output_type": "stream",
     "text": [
      "Early stopping, best iteration is:\n",
      "[46]\tvalid_0's auc: 0.884147\n",
      "Training until validation scores don't improve for 30 rounds\n"
     ]
    },
    {
     "name": "stderr",
     "output_type": "stream",
     "text": [
      "[I 2025-08-04 22:46:02,692] Trial 11 finished with value: 0.9009920767028431 and parameters: {'learning_rate': 0.033539534644652105, 'num_leaves': 34, 'max_depth': 5, 'min_child_samples': 38, 'feature_fraction': 0.8748226386086616, 'bagging_fraction': 0.8962495327927539, 'lambda_l1': 0.29320083141059594, 'lambda_l2': 0.70112045547536}. Best is trial 2 with value: 0.9155070244357147.\n"
     ]
    },
    {
     "name": "stdout",
     "output_type": "stream",
     "text": [
      "Did not meet early stopping. Best iteration is:\n",
      "[100]\tvalid_0's auc: 0.900992\n",
      "Training until validation scores don't improve for 30 rounds\n"
     ]
    },
    {
     "name": "stderr",
     "output_type": "stream",
     "text": [
      "[I 2025-08-04 22:46:03,052] Trial 12 finished with value: 0.8882415606897928 and parameters: {'learning_rate': 0.1251919120851536, 'num_leaves': 36, 'max_depth': 9, 'min_child_samples': 39, 'feature_fraction': 0.9039713301708852, 'bagging_fraction': 0.6184203228740616, 'lambda_l1': 0.23573517919280723, 'lambda_l2': 0.6640669323439361}. Best is trial 2 with value: 0.9155070244357147.\n"
     ]
    },
    {
     "name": "stdout",
     "output_type": "stream",
     "text": [
      "Early stopping, best iteration is:\n",
      "[9]\tvalid_0's auc: 0.888242\n",
      "Training until validation scores don't improve for 30 rounds\n"
     ]
    },
    {
     "name": "stderr",
     "output_type": "stream",
     "text": [
      "[I 2025-08-04 22:46:03,476] Trial 13 finished with value: 0.9001930887542446 and parameters: {'learning_rate': 0.05625637156843363, 'num_leaves': 80, 'max_depth': 12, 'min_child_samples': 42, 'feature_fraction': 0.7492861364891827, 'bagging_fraction': 0.8339986162821117, 'lambda_l1': 0.44859259520973527, 'lambda_l2': 0.6216759729757029}. Best is trial 2 with value: 0.9155070244357147.\n"
     ]
    },
    {
     "name": "stdout",
     "output_type": "stream",
     "text": [
      "Early stopping, best iteration is:\n",
      "[25]\tvalid_0's auc: 0.900193\n",
      "Training until validation scores don't improve for 30 rounds\n",
      "Early stopping, best iteration is:\n",
      "[35]\tvalid_0's auc: 0.911079\n"
     ]
    },
    {
     "name": "stderr",
     "output_type": "stream",
     "text": [
      "[I 2025-08-04 22:46:03,664] Trial 14 finished with value: 0.9110792995538984 and parameters: {'learning_rate': 0.12497003132655175, 'num_leaves': 23, 'max_depth': 3, 'min_child_samples': 28, 'feature_fraction': 0.8319962720557206, 'bagging_fraction': 0.7447829172849781, 'lambda_l1': 0.10924720368294494, 'lambda_l2': 0.9406829492004721}. Best is trial 2 with value: 0.9155070244357147.\n"
     ]
    },
    {
     "name": "stdout",
     "output_type": "stream",
     "text": [
      "Training until validation scores don't improve for 30 rounds\n"
     ]
    },
    {
     "name": "stderr",
     "output_type": "stream",
     "text": [
      "[I 2025-08-04 22:46:03,987] Trial 15 finished with value: 0.8967308076436513 and parameters: {'learning_rate': 0.07054293724282296, 'num_leaves': 39, 'max_depth': 5, 'min_child_samples': 43, 'feature_fraction': 0.9736877684627888, 'bagging_fraction': 0.9761336101475047, 'lambda_l1': 0.48985639338355985, 'lambda_l2': 0.760799195381616}. Best is trial 2 with value: 0.9155070244357147.\n"
     ]
    },
    {
     "name": "stdout",
     "output_type": "stream",
     "text": [
      "Early stopping, best iteration is:\n",
      "[24]\tvalid_0's auc: 0.896731\n",
      "Training until validation scores don't improve for 30 rounds\n"
     ]
    },
    {
     "name": "stderr",
     "output_type": "stream",
     "text": [
      "[I 2025-08-04 22:46:04,374] Trial 16 finished with value: 0.8849457354018243 and parameters: {'learning_rate': 0.12884708081193136, 'num_leaves': 27, 'max_depth': 9, 'min_child_samples': 40, 'feature_fraction': 0.9007068318990441, 'bagging_fraction': 0.9377904678034772, 'lambda_l1': 0.1828223542213952, 'lambda_l2': 0.5465825674420727}. Best is trial 2 with value: 0.9155070244357147.\n"
     ]
    },
    {
     "name": "stdout",
     "output_type": "stream",
     "text": [
      "Early stopping, best iteration is:\n",
      "[17]\tvalid_0's auc: 0.884946\n",
      "Training until validation scores don't improve for 30 rounds\n"
     ]
    },
    {
     "name": "stderr",
     "output_type": "stream",
     "text": [
      "[I 2025-08-04 22:46:04,756] Trial 17 finished with value: 0.8674345828617085 and parameters: {'learning_rate': 0.19891940093738278, 'num_leaves': 43, 'max_depth': 11, 'min_child_samples': 34, 'feature_fraction': 0.7704229082054542, 'bagging_fraction': 0.7678018823984385, 'lambda_l1': 0.3684652820086604, 'lambda_l2': 0.8148634373883173}. Best is trial 2 with value: 0.9155070244357147.\n"
     ]
    },
    {
     "name": "stdout",
     "output_type": "stream",
     "text": [
      "Early stopping, best iteration is:\n",
      "[6]\tvalid_0's auc: 0.867435\n",
      "Training until validation scores don't improve for 30 rounds\n"
     ]
    },
    {
     "name": "stderr",
     "output_type": "stream",
     "text": [
      "[I 2025-08-04 22:46:05,054] Trial 18 finished with value: 0.9116119581862974 and parameters: {'learning_rate': 0.043089322120933936, 'num_leaves': 62, 'max_depth': 8, 'min_child_samples': 45, 'feature_fraction': 0.99260716575786, 'bagging_fraction': 0.8682263495922542, 'lambda_l1': 0.15079704590081616, 'lambda_l2': 0.22334848058018908}. Best is trial 2 with value: 0.9155070244357147.\n"
     ]
    },
    {
     "name": "stdout",
     "output_type": "stream",
     "text": [
      "Early stopping, best iteration is:\n",
      "[3]\tvalid_0's auc: 0.911612\n",
      "Training until validation scores don't improve for 30 rounds\n"
     ]
    },
    {
     "name": "stderr",
     "output_type": "stream",
     "text": [
      "[I 2025-08-04 22:46:05,442] Trial 19 finished with value: 0.8983953658698981 and parameters: {'learning_rate': 0.08769228882365623, 'num_leaves': 65, 'max_depth': 5, 'min_child_samples': 28, 'feature_fraction': 0.9348016450777532, 'bagging_fraction': 0.7765241952059282, 'lambda_l1': 0.002633385486966011, 'lambda_l2': 0.5856063098268984}. Best is trial 2 with value: 0.9155070244357147.\n"
     ]
    },
    {
     "name": "stdout",
     "output_type": "stream",
     "text": [
      "Early stopping, best iteration is:\n",
      "[47]\tvalid_0's auc: 0.898395\n",
      "Training until validation scores don't improve for 30 rounds\n"
     ]
    },
    {
     "name": "stderr",
     "output_type": "stream",
     "text": [
      "[I 2025-08-04 22:46:05,671] Trial 20 finished with value: 0.8798521872295092 and parameters: {'learning_rate': 0.011447238200665542, 'num_leaves': 29, 'max_depth': 6, 'min_child_samples': 14, 'feature_fraction': 0.7031304917311496, 'bagging_fraction': 0.8454731791065052, 'lambda_l1': 0.5493914307209261, 'lambda_l2': 0.21226414269877814}. Best is trial 2 with value: 0.9155070244357147.\n"
     ]
    },
    {
     "name": "stdout",
     "output_type": "stream",
     "text": [
      "Early stopping, best iteration is:\n",
      "[7]\tvalid_0's auc: 0.879852\n",
      "Training until validation scores don't improve for 30 rounds\n"
     ]
    },
    {
     "name": "stderr",
     "output_type": "stream",
     "text": [
      "[I 2025-08-04 22:46:05,954] Trial 21 finished with value: 0.899527265463746 and parameters: {'learning_rate': 0.039614302350865896, 'num_leaves': 58, 'max_depth': 8, 'min_child_samples': 46, 'feature_fraction': 0.9842094611801732, 'bagging_fraction': 0.8737772828783692, 'lambda_l1': 0.13624559274071574, 'lambda_l2': 0.21559703845263564}. Best is trial 2 with value: 0.9155070244357147.\n"
     ]
    },
    {
     "name": "stdout",
     "output_type": "stream",
     "text": [
      "Early stopping, best iteration is:\n",
      "[1]\tvalid_0's auc: 0.899527\n",
      "Training until validation scores don't improve for 30 rounds\n"
     ]
    },
    {
     "name": "stderr",
     "output_type": "stream",
     "text": [
      "[I 2025-08-04 22:46:06,660] Trial 22 finished with value: 0.9036553698648379 and parameters: {'learning_rate': 0.038556922974830043, 'num_leaves': 80, 'max_depth': 9, 'min_child_samples': 43, 'feature_fraction': 0.8822274419890007, 'bagging_fraction': 0.9299314532696278, 'lambda_l1': 0.25822066203389127, 'lambda_l2': 0.49232015273583474}. Best is trial 2 with value: 0.9155070244357147.\n"
     ]
    },
    {
     "name": "stdout",
     "output_type": "stream",
     "text": [
      "Early stopping, best iteration is:\n",
      "[65]\tvalid_0's auc: 0.903655\n",
      "Training until validation scores don't improve for 30 rounds\n"
     ]
    },
    {
     "name": "stderr",
     "output_type": "stream",
     "text": [
      "[I 2025-08-04 22:46:07,003] Trial 23 finished with value: 0.930255010320261 and parameters: {'learning_rate': 0.05638079250862968, 'num_leaves': 63, 'max_depth': 10, 'min_child_samples': 50, 'feature_fraction': 0.9962594736925701, 'bagging_fraction': 0.8444161482170571, 'lambda_l1': 0.3996417722661608, 'lambda_l2': 0.23836610059023544}. Best is trial 23 with value: 0.930255010320261.\n"
     ]
    },
    {
     "name": "stdout",
     "output_type": "stream",
     "text": [
      "Early stopping, best iteration is:\n",
      "[3]\tvalid_0's auc: 0.930255\n",
      "Training until validation scores don't improve for 30 rounds\n"
     ]
    },
    {
     "name": "stderr",
     "output_type": "stream",
     "text": [
      "[I 2025-08-04 22:46:07,593] Trial 24 finished with value: 0.9045209401424862 and parameters: {'learning_rate': 0.0625130511861854, 'num_leaves': 70, 'max_depth': 10, 'min_child_samples': 49, 'feature_fraction': 0.9473538527825774, 'bagging_fraction': 0.7868804931538643, 'lambda_l1': 0.40377100187281456, 'lambda_l2': 0.44107347969840255}. Best is trial 23 with value: 0.930255010320261.\n"
     ]
    },
    {
     "name": "stdout",
     "output_type": "stream",
     "text": [
      "Early stopping, best iteration is:\n",
      "[38]\tvalid_0's auc: 0.904521\n",
      "Training until validation scores don't improve for 30 rounds\n"
     ]
    },
    {
     "name": "stderr",
     "output_type": "stream",
     "text": [
      "[I 2025-08-04 22:46:07,944] Trial 25 finished with value: 0.918969305546308 and parameters: {'learning_rate': 0.08634696627772066, 'num_leaves': 75, 'max_depth': 11, 'min_child_samples': 50, 'feature_fraction': 0.8523109631989867, 'bagging_fraction': 0.9585245917647616, 'lambda_l1': 0.5607140881575212, 'lambda_l2': 0.01696439696315677}. Best is trial 23 with value: 0.930255010320261.\n"
     ]
    },
    {
     "name": "stdout",
     "output_type": "stream",
     "text": [
      "Early stopping, best iteration is:\n",
      "[6]\tvalid_0's auc: 0.918969\n",
      "Training until validation scores don't improve for 30 rounds\n"
     ]
    },
    {
     "name": "stderr",
     "output_type": "stream",
     "text": [
      "[I 2025-08-04 22:46:08,296] Trial 26 finished with value: 0.9368466608961981 and parameters: {'learning_rate': 0.09040803461583645, 'num_leaves': 77, 'max_depth': 11, 'min_child_samples': 50, 'feature_fraction': 0.8457556743453771, 'bagging_fraction': 0.9613487818680446, 'lambda_l1': 0.5098501143987634, 'lambda_l2': 0.0005959372239246787}. Best is trial 26 with value: 0.9368466608961981.\n"
     ]
    },
    {
     "name": "stdout",
     "output_type": "stream",
     "text": [
      "Early stopping, best iteration is:\n",
      "[6]\tvalid_0's auc: 0.936847\n",
      "Training until validation scores don't improve for 30 rounds\n"
     ]
    },
    {
     "name": "stderr",
     "output_type": "stream",
     "text": [
      "[I 2025-08-04 22:46:08,605] Trial 27 finished with value: 0.9252946268060457 and parameters: {'learning_rate': 0.08866262038699804, 'num_leaves': 74, 'max_depth': 11, 'min_child_samples': 50, 'feature_fraction': 0.8054877030610508, 'bagging_fraction': 0.9655339002096979, 'lambda_l1': 0.563994096736019, 'lambda_l2': 0.02397908356754397}. Best is trial 26 with value: 0.9368466608961981.\n"
     ]
    },
    {
     "name": "stdout",
     "output_type": "stream",
     "text": [
      "Early stopping, best iteration is:\n",
      "[4]\tvalid_0's auc: 0.925295\n",
      "Training until validation scores don't improve for 30 rounds\n"
     ]
    },
    {
     "name": "stderr",
     "output_type": "stream",
     "text": [
      "[I 2025-08-04 22:46:08,885] Trial 28 finished with value: 0.8650043278513883 and parameters: {'learning_rate': 0.10984124348177815, 'num_leaves': 66, 'max_depth': 11, 'min_child_samples': 36, 'feature_fraction': 0.7175162924528636, 'bagging_fraction': 0.9945685930602659, 'lambda_l1': 0.913090500584179, 'lambda_l2': 0.13449779177412596}. Best is trial 26 with value: 0.9368466608961981.\n"
     ]
    },
    {
     "name": "stdout",
     "output_type": "stream",
     "text": [
      "Early stopping, best iteration is:\n",
      "[2]\tvalid_0's auc: 0.865004\n",
      "Training until validation scores don't improve for 30 rounds\n"
     ]
    },
    {
     "name": "stderr",
     "output_type": "stream",
     "text": [
      "[I 2025-08-04 22:46:09,291] Trial 29 finished with value: 0.914841201145216 and parameters: {'learning_rate': 0.10245670560249026, 'num_leaves': 73, 'max_depth': 12, 'min_child_samples': 50, 'feature_fraction': 0.8078531749788137, 'bagging_fraction': 0.9460964524982433, 'lambda_l1': 0.5601574597661496, 'lambda_l2': 0.023907967900360625}. Best is trial 26 with value: 0.9368466608961981.\n"
     ]
    },
    {
     "name": "stdout",
     "output_type": "stream",
     "text": [
      "Early stopping, best iteration is:\n",
      "[13]\tvalid_0's auc: 0.914841\n",
      "\n",
      "📍 Training for label: NR-AhR\n"
     ]
    },
    {
     "name": "stderr",
     "output_type": "stream",
     "text": [
      "[I 2025-08-04 22:46:13,493] A new study created in memory with name: no-name-2c80d9b1-9f7b-4e64-ab6e-381cae0c79d4\n"
     ]
    },
    {
     "name": "stdout",
     "output_type": "stream",
     "text": [
      "Training until validation scores don't improve for 30 rounds\n"
     ]
    },
    {
     "name": "stderr",
     "output_type": "stream",
     "text": [
      "[I 2025-08-04 22:46:14,779] Trial 0 finished with value: 0.9325484204376938 and parameters: {'learning_rate': 0.17211265001088644, 'num_leaves': 74, 'max_depth': 10, 'min_child_samples': 16, 'feature_fraction': 0.8424263993073313, 'bagging_fraction': 0.8888303522325349, 'lambda_l1': 0.45254822031745856, 'lambda_l2': 0.7742261924485553}. Best is trial 0 with value: 0.9325484204376938.\n"
     ]
    },
    {
     "name": "stdout",
     "output_type": "stream",
     "text": [
      "Did not meet early stopping. Best iteration is:\n",
      "[96]\tvalid_0's auc: 0.932548\n",
      "Training until validation scores don't improve for 30 rounds\n"
     ]
    },
    {
     "name": "stderr",
     "output_type": "stream",
     "text": [
      "[I 2025-08-04 22:46:16,057] Trial 1 finished with value: 0.9156742911068171 and parameters: {'learning_rate': 0.019331201233239656, 'num_leaves': 61, 'max_depth': 11, 'min_child_samples': 31, 'feature_fraction': 0.9396246017127737, 'bagging_fraction': 0.6598181174606813, 'lambda_l1': 0.36232007869935967, 'lambda_l2': 0.2950617014873317}. Best is trial 0 with value: 0.9325484204376938.\n"
     ]
    },
    {
     "name": "stdout",
     "output_type": "stream",
     "text": [
      "Did not meet early stopping. Best iteration is:\n",
      "[100]\tvalid_0's auc: 0.915674\n",
      "Training until validation scores don't improve for 30 rounds\n"
     ]
    },
    {
     "name": "stderr",
     "output_type": "stream",
     "text": [
      "[I 2025-08-04 22:46:16,910] Trial 2 finished with value: 0.9212915112569092 and parameters: {'learning_rate': 0.09448909830712726, 'num_leaves': 32, 'max_depth': 10, 'min_child_samples': 23, 'feature_fraction': 0.8202454679907321, 'bagging_fraction': 0.6342451359513234, 'lambda_l1': 0.43101545838172806, 'lambda_l2': 0.010178275964630168}. Best is trial 0 with value: 0.9325484204376938.\n"
     ]
    },
    {
     "name": "stdout",
     "output_type": "stream",
     "text": [
      "Did not meet early stopping. Best iteration is:\n",
      "[100]\tvalid_0's auc: 0.921292\n",
      "Training until validation scores don't improve for 30 rounds\n"
     ]
    },
    {
     "name": "stderr",
     "output_type": "stream",
     "text": [
      "[I 2025-08-04 22:46:17,539] Trial 3 finished with value: 0.9135622163303824 and parameters: {'learning_rate': 0.19357369506502045, 'num_leaves': 54, 'max_depth': 11, 'min_child_samples': 16, 'feature_fraction': 0.6617183383691428, 'bagging_fraction': 0.942081882937554, 'lambda_l1': 0.39797397253759226, 'lambda_l2': 0.7167119280834373}. Best is trial 0 with value: 0.9325484204376938.\n"
     ]
    },
    {
     "name": "stdout",
     "output_type": "stream",
     "text": [
      "Early stopping, best iteration is:\n",
      "[24]\tvalid_0's auc: 0.913562\n",
      "Training until validation scores don't improve for 30 rounds\n"
     ]
    },
    {
     "name": "stderr",
     "output_type": "stream",
     "text": [
      "[I 2025-08-04 22:46:17,806] Trial 4 finished with value: 0.9237406192423494 and parameters: {'learning_rate': 0.12188599390856024, 'num_leaves': 23, 'max_depth': 5, 'min_child_samples': 40, 'feature_fraction': 0.7144481741796078, 'bagging_fraction': 0.8398309311974093, 'lambda_l1': 0.4934095240855544, 'lambda_l2': 0.7993054111548445}. Best is trial 0 with value: 0.9325484204376938.\n"
     ]
    },
    {
     "name": "stdout",
     "output_type": "stream",
     "text": [
      "Early stopping, best iteration is:\n",
      "[43]\tvalid_0's auc: 0.923741\n",
      "Training until validation scores don't improve for 30 rounds\n"
     ]
    },
    {
     "name": "stderr",
     "output_type": "stream",
     "text": [
      "[I 2025-08-04 22:46:18,527] Trial 5 finished with value: 0.9400080887970161 and parameters: {'learning_rate': 0.18145239289959975, 'num_leaves': 64, 'max_depth': 9, 'min_child_samples': 28, 'feature_fraction': 0.6386896398611538, 'bagging_fraction': 0.7076597873518597, 'lambda_l1': 0.500659025485002, 'lambda_l2': 0.013920191565437556}. Best is trial 5 with value: 0.9400080887970161.\n"
     ]
    },
    {
     "name": "stdout",
     "output_type": "stream",
     "text": [
      "Did not meet early stopping. Best iteration is:\n",
      "[84]\tvalid_0's auc: 0.940008\n",
      "Training until validation scores don't improve for 30 rounds\n"
     ]
    },
    {
     "name": "stderr",
     "output_type": "stream",
     "text": [
      "[I 2025-08-04 22:46:19,404] Trial 6 finished with value: 0.9202130049880916 and parameters: {'learning_rate': 0.06515527152424856, 'num_leaves': 46, 'max_depth': 10, 'min_child_samples': 21, 'feature_fraction': 0.6561567188229149, 'bagging_fraction': 0.858706528313981, 'lambda_l1': 0.681570001721465, 'lambda_l2': 0.9998923281425474}. Best is trial 5 with value: 0.9400080887970161.\n"
     ]
    },
    {
     "name": "stdout",
     "output_type": "stream",
     "text": [
      "Did not meet early stopping. Best iteration is:\n",
      "[96]\tvalid_0's auc: 0.920213\n",
      "Training until validation scores don't improve for 30 rounds\n"
     ]
    },
    {
     "name": "stderr",
     "output_type": "stream",
     "text": [
      "[I 2025-08-04 22:46:19,731] Trial 7 finished with value: 0.9327281714824968 and parameters: {'learning_rate': 0.14297010741488833, 'num_leaves': 33, 'max_depth': 6, 'min_child_samples': 46, 'feature_fraction': 0.6713584285109157, 'bagging_fraction': 0.9507369647868256, 'lambda_l1': 0.4935190173564995, 'lambda_l2': 0.8953796409298386}. Best is trial 5 with value: 0.9400080887970161.\n"
     ]
    },
    {
     "name": "stdout",
     "output_type": "stream",
     "text": [
      "Early stopping, best iteration is:\n",
      "[39]\tvalid_0's auc: 0.932728\n",
      "Training until validation scores don't improve for 30 rounds\n"
     ]
    },
    {
     "name": "stderr",
     "output_type": "stream",
     "text": [
      "[I 2025-08-04 22:46:20,701] Trial 8 finished with value: 0.9232238349885409 and parameters: {'learning_rate': 0.08728626578654446, 'num_leaves': 57, 'max_depth': 8, 'min_child_samples': 24, 'feature_fraction': 0.8102953305594671, 'bagging_fraction': 0.9639618991906298, 'lambda_l1': 0.6002313204626003, 'lambda_l2': 0.8474117732179468}. Best is trial 5 with value: 0.9400080887970161.\n"
     ]
    },
    {
     "name": "stdout",
     "output_type": "stream",
     "text": [
      "Did not meet early stopping. Best iteration is:\n",
      "[78]\tvalid_0's auc: 0.923224\n",
      "Training until validation scores don't improve for 30 rounds\n"
     ]
    },
    {
     "name": "stderr",
     "output_type": "stream",
     "text": [
      "[I 2025-08-04 22:46:21,690] Trial 9 finished with value: 0.9291106817058374 and parameters: {'learning_rate': 0.15981736423247123, 'num_leaves': 57, 'max_depth': 9, 'min_child_samples': 16, 'feature_fraction': 0.7920221133978159, 'bagging_fraction': 0.7078955065890993, 'lambda_l1': 0.5013518497485083, 'lambda_l2': 0.22963888637887941}. Best is trial 5 with value: 0.9400080887970161.\n"
     ]
    },
    {
     "name": "stdout",
     "output_type": "stream",
     "text": [
      "Did not meet early stopping. Best iteration is:\n",
      "[78]\tvalid_0's auc: 0.929111\n",
      "Training until validation scores don't improve for 30 rounds\n"
     ]
    },
    {
     "name": "stderr",
     "output_type": "stream",
     "text": [
      "[I 2025-08-04 22:46:21,952] Trial 10 finished with value: 0.9134049341661798 and parameters: {'learning_rate': 0.03740805067525009, 'num_leaves': 80, 'max_depth': 3, 'min_child_samples': 33, 'feature_fraction': 0.9870843173050896, 'bagging_fraction': 0.7480141171655006, 'lambda_l1': 0.06942897778300539, 'lambda_l2': 0.46532782958347296}. Best is trial 5 with value: 0.9400080887970161.\n"
     ]
    },
    {
     "name": "stdout",
     "output_type": "stream",
     "text": [
      "Did not meet early stopping. Best iteration is:\n",
      "[98]\tvalid_0's auc: 0.913405\n",
      "Training until validation scores don't improve for 30 rounds\n"
     ]
    },
    {
     "name": "stderr",
     "output_type": "stream",
     "text": [
      "[I 2025-08-04 22:46:22,367] Trial 11 finished with value: 0.9254257852873771 and parameters: {'learning_rate': 0.1322736417404182, 'num_leaves': 40, 'max_depth': 6, 'min_child_samples': 43, 'feature_fraction': 0.6153093617891592, 'bagging_fraction': 0.7739402649904182, 'lambda_l1': 0.9057806854834796, 'lambda_l2': 0.5572634714633873}. Best is trial 5 with value: 0.9400080887970161.\n"
     ]
    },
    {
     "name": "stdout",
     "output_type": "stream",
     "text": [
      "Early stopping, best iteration is:\n",
      "[55]\tvalid_0's auc: 0.925426\n",
      "Training until validation scores don't improve for 30 rounds\n"
     ]
    },
    {
     "name": "stderr",
     "output_type": "stream",
     "text": [
      "[I 2025-08-04 22:46:22,663] Trial 12 finished with value: 0.9198535028984857 and parameters: {'learning_rate': 0.14578899557181088, 'num_leaves': 69, 'max_depth': 6, 'min_child_samples': 50, 'feature_fraction': 0.7263310462650434, 'bagging_fraction': 0.7288807622926581, 'lambda_l1': 0.16144524220553313, 'lambda_l2': 0.0001025294573488069}. Best is trial 5 with value: 0.9400080887970161.\n"
     ]
    },
    {
     "name": "stdout",
     "output_type": "stream",
     "text": [
      "Early stopping, best iteration is:\n",
      "[22]\tvalid_0's auc: 0.919854\n",
      "Training until validation scores don't improve for 30 rounds\n"
     ]
    },
    {
     "name": "stderr",
     "output_type": "stream",
     "text": [
      "[I 2025-08-04 22:46:23,228] Trial 13 finished with value: 0.9241450590931559 and parameters: {'learning_rate': 0.19657410312615062, 'num_leaves': 35, 'max_depth': 7, 'min_child_samples': 39, 'feature_fraction': 0.604100159785435, 'bagging_fraction': 0.8064759076571986, 'lambda_l1': 0.814789440950393, 'lambda_l2': 0.2097932058590424}. Best is trial 5 with value: 0.9400080887970161.\n"
     ]
    },
    {
     "name": "stdout",
     "output_type": "stream",
     "text": [
      "Did not meet early stopping. Best iteration is:\n",
      "[86]\tvalid_0's auc: 0.924145\n",
      "Training until validation scores don't improve for 30 rounds\n"
     ]
    },
    {
     "name": "stderr",
     "output_type": "stream",
     "text": [
      "[I 2025-08-04 22:46:23,497] Trial 14 finished with value: 0.9217858266301173 and parameters: {'learning_rate': 0.17181825022773048, 'num_leaves': 20, 'max_depth': 4, 'min_child_samples': 50, 'feature_fraction': 0.7249941645195014, 'bagging_fraction': 0.6052272584582665, 'lambda_l1': 0.24210152597440193, 'lambda_l2': 0.567694933412148}. Best is trial 5 with value: 0.9400080887970161.\n"
     ]
    },
    {
     "name": "stdout",
     "output_type": "stream",
     "text": [
      "Did not meet early stopping. Best iteration is:\n",
      "[97]\tvalid_0's auc: 0.921786\n",
      "Training until validation scores don't improve for 30 rounds\n"
     ]
    },
    {
     "name": "stderr",
     "output_type": "stream",
     "text": [
      "[I 2025-08-04 22:46:24,254] Trial 15 finished with value: 0.9276052667056127 and parameters: {'learning_rate': 0.12397189628826205, 'num_leaves': 66, 'max_depth': 8, 'min_child_samples': 36, 'feature_fraction': 0.6737738497806566, 'bagging_fraction': 0.924696913597465, 'lambda_l1': 0.6880152070444184, 'lambda_l2': 0.39702158346920247}. Best is trial 5 with value: 0.9400080887970161.\n"
     ]
    },
    {
     "name": "stdout",
     "output_type": "stream",
     "text": [
      "Did not meet early stopping. Best iteration is:\n",
      "[100]\tvalid_0's auc: 0.927605\n",
      "Training until validation scores don't improve for 30 rounds\n"
     ]
    },
    {
     "name": "stderr",
     "output_type": "stream",
     "text": [
      "[I 2025-08-04 22:46:25,449] Trial 16 finished with value: 0.9133824652855794 and parameters: {'learning_rate': 0.15680431568893063, 'num_leaves': 43, 'max_depth': 12, 'min_child_samples': 10, 'feature_fraction': 0.7550019449445743, 'bagging_fraction': 0.708773352555821, 'lambda_l1': 0.2713335401689455, 'lambda_l2': 0.6504445502014423}. Best is trial 5 with value: 0.9400080887970161.\n"
     ]
    },
    {
     "name": "stdout",
     "output_type": "stream",
     "text": [
      "Did not meet early stopping. Best iteration is:\n",
      "[96]\tvalid_0's auc: 0.913382\n",
      "Training until validation scores don't improve for 30 rounds\n"
     ]
    },
    {
     "name": "stderr",
     "output_type": "stream",
     "text": [
      "[I 2025-08-04 22:46:26,019] Trial 17 finished with value: 0.9155170089426145 and parameters: {'learning_rate': 0.18019752952458626, 'num_leaves': 28, 'max_depth': 7, 'min_child_samples': 29, 'feature_fraction': 0.8821852201298493, 'bagging_fraction': 0.9910756101878276, 'lambda_l1': 0.6255578872485504, 'lambda_l2': 0.9177404262615313}. Best is trial 5 with value: 0.9400080887970161.\n"
     ]
    },
    {
     "name": "stdout",
     "output_type": "stream",
     "text": [
      "Early stopping, best iteration is:\n",
      "[51]\tvalid_0's auc: 0.915517\n",
      "Training until validation scores don't improve for 30 rounds\n"
     ]
    },
    {
     "name": "stderr",
     "output_type": "stream",
     "text": [
      "[I 2025-08-04 22:46:26,305] Trial 18 finished with value: 0.926099851705388 and parameters: {'learning_rate': 0.13556823406323218, 'num_leaves': 49, 'max_depth': 5, 'min_child_samples': 45, 'feature_fraction': 0.6447802542348311, 'bagging_fraction': 0.678958140148384, 'lambda_l1': 0.7917632444463328, 'lambda_l2': 0.11968333911340759}. Best is trial 5 with value: 0.9400080887970161.\n"
     ]
    },
    {
     "name": "stdout",
     "output_type": "stream",
     "text": [
      "Early stopping, best iteration is:\n",
      "[43]\tvalid_0's auc: 0.9261\n",
      "Training until validation scores don't improve for 30 rounds\n"
     ]
    },
    {
     "name": "stderr",
     "output_type": "stream",
     "text": [
      "[I 2025-08-04 22:46:26,890] Trial 19 finished with value: 0.918235743495259 and parameters: {'learning_rate': 0.10996568014037836, 'num_leaves': 38, 'max_depth': 9, 'min_child_samples': 27, 'feature_fraction': 0.6913980657731601, 'bagging_fraction': 0.8097522491479211, 'lambda_l1': 0.5412033424425897, 'lambda_l2': 0.37536501718410864}. Best is trial 5 with value: 0.9400080887970161.\n"
     ]
    },
    {
     "name": "stdout",
     "output_type": "stream",
     "text": [
      "Early stopping, best iteration is:\n",
      "[31]\tvalid_0's auc: 0.918236\n",
      "Training until validation scores don't improve for 30 rounds\n"
     ]
    },
    {
     "name": "stderr",
     "output_type": "stream",
     "text": [
      "[I 2025-08-04 22:46:27,523] Trial 20 finished with value: 0.929942030288051 and parameters: {'learning_rate': 0.06934481706877357, 'num_leaves': 63, 'max_depth': 6, 'min_child_samples': 34, 'feature_fraction': 0.7657466680580187, 'bagging_fraction': 0.8947474161069144, 'lambda_l1': 0.3518894866039769, 'lambda_l2': 0.6490945539881074}. Best is trial 5 with value: 0.9400080887970161.\n"
     ]
    },
    {
     "name": "stdout",
     "output_type": "stream",
     "text": [
      "Early stopping, best iteration is:\n",
      "[60]\tvalid_0's auc: 0.929942\n",
      "Training until validation scores don't improve for 30 rounds\n"
     ]
    },
    {
     "name": "stderr",
     "output_type": "stream",
     "text": [
      "[I 2025-08-04 22:46:29,049] Trial 21 finished with value: 0.9263020716307914 and parameters: {'learning_rate': 0.17324323591500174, 'num_leaves': 76, 'max_depth': 9, 'min_child_samples': 10, 'feature_fraction': 0.8816904538046662, 'bagging_fraction': 0.8821352182278932, 'lambda_l1': 0.28852440602451446, 'lambda_l2': 0.7968307850778527}. Best is trial 5 with value: 0.9400080887970161.\n"
     ]
    },
    {
     "name": "stdout",
     "output_type": "stream",
     "text": [
      "Did not meet early stopping. Best iteration is:\n",
      "[99]\tvalid_0's auc: 0.926302\n",
      "Training until validation scores don't improve for 30 rounds\n"
     ]
    },
    {
     "name": "stderr",
     "output_type": "stream",
     "text": [
      "[I 2025-08-04 22:46:30,393] Trial 22 finished with value: 0.9224149552869276 and parameters: {'learning_rate': 0.15214401293520347, 'num_leaves': 72, 'max_depth': 10, 'min_child_samples': 19, 'feature_fraction': 0.8681267080868762, 'bagging_fraction': 0.9981928976654663, 'lambda_l1': 0.45784479315542037, 'lambda_l2': 0.9983024367558515}. Best is trial 5 with value: 0.9400080887970161.\n"
     ]
    },
    {
     "name": "stdout",
     "output_type": "stream",
     "text": [
      "Did not meet early stopping. Best iteration is:\n",
      "[98]\tvalid_0's auc: 0.922415\n",
      "Training until validation scores don't improve for 30 rounds\n"
     ]
    },
    {
     "name": "stderr",
     "output_type": "stream",
     "text": [
      "[I 2025-08-04 22:46:31,485] Trial 23 finished with value: 0.9208421336449018 and parameters: {'learning_rate': 0.184487004417543, 'num_leaves': 73, 'max_depth': 12, 'min_child_samples': 27, 'feature_fraction': 0.8474395078479674, 'bagging_fraction': 0.9150898758134871, 'lambda_l1': 0.5743622182314801, 'lambda_l2': 0.8843135515042243}. Best is trial 5 with value: 0.9400080887970161.\n"
     ]
    },
    {
     "name": "stdout",
     "output_type": "stream",
     "text": [
      "Did not meet early stopping. Best iteration is:\n",
      "[92]\tvalid_0's auc: 0.920842\n",
      "Training until validation scores don't improve for 30 rounds\n"
     ]
    },
    {
     "name": "stderr",
     "output_type": "stream",
     "text": [
      "[I 2025-08-04 22:46:32,480] Trial 24 finished with value: 0.9346604952141284 and parameters: {'learning_rate': 0.1665935641775683, 'num_leaves': 79, 'max_depth': 8, 'min_child_samples': 15, 'feature_fraction': 0.9269091063975676, 'bagging_fraction': 0.8572816479077069, 'lambda_l1': 0.7201392384984028, 'lambda_l2': 0.720243588830187}. Best is trial 5 with value: 0.9400080887970161.\n"
     ]
    },
    {
     "name": "stdout",
     "output_type": "stream",
     "text": [
      "Early stopping, best iteration is:\n",
      "[51]\tvalid_0's auc: 0.93466\n",
      "Training until validation scores don't improve for 30 rounds\n"
     ]
    },
    {
     "name": "stderr",
     "output_type": "stream",
     "text": [
      "[I 2025-08-04 22:46:33,440] Trial 25 finished with value: 0.9201680672268908 and parameters: {'learning_rate': 0.14196055362227417, 'num_leaves': 66, 'max_depth': 8, 'min_child_samples': 45, 'feature_fraction': 0.942565536748063, 'bagging_fraction': 0.8414270285854031, 'lambda_l1': 0.9657154271022897, 'lambda_l2': 0.7214826180657756}. Best is trial 5 with value: 0.9400080887970161.\n"
     ]
    },
    {
     "name": "stdout",
     "output_type": "stream",
     "text": [
      "Did not meet early stopping. Best iteration is:\n",
      "[81]\tvalid_0's auc: 0.920168\n",
      "Training until validation scores don't improve for 30 rounds\n"
     ]
    },
    {
     "name": "stderr",
     "output_type": "stream",
     "text": [
      "[I 2025-08-04 22:46:33,943] Trial 26 finished with value: 0.9173145193906439 and parameters: {'learning_rate': 0.19941599780330646, 'num_leaves': 79, 'max_depth': 7, 'min_child_samples': 13, 'feature_fraction': 0.6246678299006287, 'bagging_fraction': 0.7861302227222983, 'lambda_l1': 0.7724112463499789, 'lambda_l2': 0.619741993562275}. Best is trial 5 with value: 0.9400080887970161.\n"
     ]
    },
    {
     "name": "stdout",
     "output_type": "stream",
     "text": [
      "Early stopping, best iteration is:\n",
      "[28]\tvalid_0's auc: 0.917315\n",
      "Training until validation scores don't improve for 30 rounds\n"
     ]
    },
    {
     "name": "stderr",
     "output_type": "stream",
     "text": [
      "[I 2025-08-04 22:46:34,320] Trial 27 finished with value: 0.9138767806587875 and parameters: {'learning_rate': 0.1616203442704729, 'num_leaves': 52, 'max_depth': 5, 'min_child_samples': 39, 'feature_fraction': 0.9138990352201252, 'bagging_fraction': 0.9558122002219377, 'lambda_l1': 0.6699460230005401, 'lambda_l2': 0.926521857488727}. Best is trial 5 with value: 0.9400080887970161.\n"
     ]
    },
    {
     "name": "stdout",
     "output_type": "stream",
     "text": [
      "Early stopping, best iteration is:\n",
      "[56]\tvalid_0's auc: 0.913877\n",
      "Training until validation scores don't improve for 30 rounds\n"
     ]
    },
    {
     "name": "stderr",
     "output_type": "stream",
     "text": [
      "[I 2025-08-04 22:46:35,179] Trial 28 finished with value: 0.9288185862580326 and parameters: {'learning_rate': 0.12039997487338132, 'num_leaves': 28, 'max_depth': 8, 'min_child_samples': 25, 'feature_fraction': 0.9990123579740262, 'bagging_fraction': 0.7505838095771846, 'lambda_l1': 0.7479879007755723, 'lambda_l2': 0.5082847131401034}. Best is trial 5 with value: 0.9400080887970161.\n"
     ]
    },
    {
     "name": "stdout",
     "output_type": "stream",
     "text": [
      "Did not meet early stopping. Best iteration is:\n",
      "[91]\tvalid_0's auc: 0.928819\n",
      "Training until validation scores don't improve for 30 rounds\n"
     ]
    },
    {
     "name": "stderr",
     "output_type": "stream",
     "text": [
      "[I 2025-08-04 22:46:35,989] Trial 29 finished with value: 0.9269087314070013 and parameters: {'learning_rate': 0.16932003605912738, 'num_leaves': 70, 'max_depth': 9, 'min_child_samples': 19, 'feature_fraction': 0.6945178629877246, 'bagging_fraction': 0.8928299517387708, 'lambda_l1': 0.5437765351232545, 'lambda_l2': 0.6953364215479002}. Best is trial 5 with value: 0.9400080887970161.\n"
     ]
    },
    {
     "name": "stdout",
     "output_type": "stream",
     "text": [
      "Early stopping, best iteration is:\n",
      "[50]\tvalid_0's auc: 0.926909\n",
      "\n",
      "📍 Training for label: NR-Aromatase\n"
     ]
    },
    {
     "name": "stderr",
     "output_type": "stream",
     "text": [
      "[I 2025-08-04 22:46:39,933] A new study created in memory with name: no-name-6f55ad3d-5439-40e2-b7c2-64d285b5d217\n"
     ]
    },
    {
     "name": "stdout",
     "output_type": "stream",
     "text": [
      "Training until validation scores don't improve for 30 rounds\n"
     ]
    },
    {
     "name": "stderr",
     "output_type": "stream",
     "text": [
      "[I 2025-08-04 22:46:40,573] Trial 0 finished with value: 0.9105676328502416 and parameters: {'learning_rate': 0.145198282450879, 'num_leaves': 31, 'max_depth': 12, 'min_child_samples': 26, 'feature_fraction': 0.7567541841570657, 'bagging_fraction': 0.834219116697836, 'lambda_l1': 0.9372970760333909, 'lambda_l2': 0.6278967463054098}. Best is trial 0 with value: 0.9105676328502416.\n"
     ]
    },
    {
     "name": "stdout",
     "output_type": "stream",
     "text": [
      "Early stopping, best iteration is:\n",
      "[41]\tvalid_0's auc: 0.910568\n",
      "Training until validation scores don't improve for 30 rounds\n"
     ]
    },
    {
     "name": "stderr",
     "output_type": "stream",
     "text": [
      "[I 2025-08-04 22:46:40,811] Trial 1 finished with value: 0.9285628019323672 and parameters: {'learning_rate': 0.09495390014264442, 'num_leaves': 20, 'max_depth': 8, 'min_child_samples': 48, 'feature_fraction': 0.6569293733913103, 'bagging_fraction': 0.6084660635447022, 'lambda_l1': 0.46724877106222196, 'lambda_l2': 0.5810970835304563}. Best is trial 1 with value: 0.9285628019323672.\n"
     ]
    },
    {
     "name": "stdout",
     "output_type": "stream",
     "text": [
      "Early stopping, best iteration is:\n",
      "[19]\tvalid_0's auc: 0.928563\n",
      "Training until validation scores don't improve for 30 rounds\n"
     ]
    },
    {
     "name": "stderr",
     "output_type": "stream",
     "text": [
      "[I 2025-08-04 22:46:41,501] Trial 2 finished with value: 0.9090579710144928 and parameters: {'learning_rate': 0.15198143399293707, 'num_leaves': 47, 'max_depth': 9, 'min_child_samples': 32, 'feature_fraction': 0.8274427098848424, 'bagging_fraction': 0.6796333353627926, 'lambda_l1': 0.3011986269979072, 'lambda_l2': 0.605933248900827}. Best is trial 1 with value: 0.9285628019323672.\n"
     ]
    },
    {
     "name": "stdout",
     "output_type": "stream",
     "text": [
      "Early stopping, best iteration is:\n",
      "[53]\tvalid_0's auc: 0.909058\n",
      "Training until validation scores don't improve for 30 rounds\n"
     ]
    },
    {
     "name": "stderr",
     "output_type": "stream",
     "text": [
      "[I 2025-08-04 22:46:42,014] Trial 3 finished with value: 0.8995169082125604 and parameters: {'learning_rate': 0.1475141449671765, 'num_leaves': 33, 'max_depth': 10, 'min_child_samples': 31, 'feature_fraction': 0.7348828910813929, 'bagging_fraction': 0.6323424479403278, 'lambda_l1': 0.8156655368178295, 'lambda_l2': 0.12444072664730677}. Best is trial 1 with value: 0.9285628019323672.\n"
     ]
    },
    {
     "name": "stdout",
     "output_type": "stream",
     "text": [
      "Early stopping, best iteration is:\n",
      "[43]\tvalid_0's auc: 0.899517\n",
      "Training until validation scores don't improve for 30 rounds\n"
     ]
    },
    {
     "name": "stderr",
     "output_type": "stream",
     "text": [
      "[I 2025-08-04 22:46:42,895] Trial 4 finished with value: 0.9161231884057971 and parameters: {'learning_rate': 0.10990103347396475, 'num_leaves': 60, 'max_depth': 9, 'min_child_samples': 23, 'feature_fraction': 0.8644505304470012, 'bagging_fraction': 0.8641974103330854, 'lambda_l1': 0.9950733310362617, 'lambda_l2': 0.8122532117683717}. Best is trial 1 with value: 0.9285628019323672.\n"
     ]
    },
    {
     "name": "stdout",
     "output_type": "stream",
     "text": [
      "Did not meet early stopping. Best iteration is:\n",
      "[74]\tvalid_0's auc: 0.916123\n",
      "Training until validation scores don't improve for 30 rounds\n"
     ]
    },
    {
     "name": "stderr",
     "output_type": "stream",
     "text": [
      "[I 2025-08-04 22:46:43,393] Trial 5 finished with value: 0.9202898550724639 and parameters: {'learning_rate': 0.06434969577120686, 'num_leaves': 40, 'max_depth': 9, 'min_child_samples': 34, 'feature_fraction': 0.8165751396970582, 'bagging_fraction': 0.6821430505335543, 'lambda_l1': 0.5637517220772092, 'lambda_l2': 0.875552839018297}. Best is trial 1 with value: 0.9285628019323672.\n"
     ]
    },
    {
     "name": "stdout",
     "output_type": "stream",
     "text": [
      "Early stopping, best iteration is:\n",
      "[31]\tvalid_0's auc: 0.92029\n",
      "Training until validation scores don't improve for 30 rounds\n"
     ]
    },
    {
     "name": "stderr",
     "output_type": "stream",
     "text": [
      "[I 2025-08-04 22:46:43,980] Trial 6 finished with value: 0.8870772946859903 and parameters: {'learning_rate': 0.1836726193254455, 'num_leaves': 64, 'max_depth': 7, 'min_child_samples': 15, 'feature_fraction': 0.7040685721188094, 'bagging_fraction': 0.8345064936769429, 'lambda_l1': 0.8354179236788577, 'lambda_l2': 0.9621043291046502}. Best is trial 1 with value: 0.9285628019323672.\n",
      "[I 2025-08-04 22:46:44,114] Trial 7 finished with value: 0.9026570048309179 and parameters: {'learning_rate': 0.19141519332074705, 'num_leaves': 44, 'max_depth': 3, 'min_child_samples': 43, 'feature_fraction': 0.851993958910719, 'bagging_fraction': 0.732768160805874, 'lambda_l1': 0.6660421654866334, 'lambda_l2': 0.5350408128057889}. Best is trial 1 with value: 0.9285628019323672.\n"
     ]
    },
    {
     "name": "stdout",
     "output_type": "stream",
     "text": [
      "Did not meet early stopping. Best iteration is:\n",
      "[71]\tvalid_0's auc: 0.887077\n",
      "Training until validation scores don't improve for 30 rounds\n",
      "Early stopping, best iteration is:\n",
      "[27]\tvalid_0's auc: 0.902657\n"
     ]
    },
    {
     "name": "stderr",
     "output_type": "stream",
     "text": [
      "[I 2025-08-04 22:46:44,326] Trial 8 finished with value: 0.9065821256038648 and parameters: {'learning_rate': 0.1503964446989465, 'num_leaves': 31, 'max_depth': 4, 'min_child_samples': 34, 'feature_fraction': 0.8716053837088386, 'bagging_fraction': 0.7514570072176241, 'lambda_l1': 0.45144725881462344, 'lambda_l2': 0.04058998978126516}. Best is trial 1 with value: 0.9285628019323672.\n"
     ]
    },
    {
     "name": "stdout",
     "output_type": "stream",
     "text": [
      "Training until validation scores don't improve for 30 rounds\n",
      "Early stopping, best iteration is:\n",
      "[43]\tvalid_0's auc: 0.906582\n",
      "Training until validation scores don't improve for 30 rounds\n"
     ]
    },
    {
     "name": "stderr",
     "output_type": "stream",
     "text": [
      "[I 2025-08-04 22:46:44,942] Trial 9 finished with value: 0.890157004830918 and parameters: {'learning_rate': 0.12503911765067405, 'num_leaves': 50, 'max_depth': 10, 'min_child_samples': 38, 'feature_fraction': 0.9306978053439551, 'bagging_fraction': 0.7364810642159241, 'lambda_l1': 0.17916271250410365, 'lambda_l2': 0.11867646912767893}. Best is trial 1 with value: 0.9285628019323672.\n"
     ]
    },
    {
     "name": "stdout",
     "output_type": "stream",
     "text": [
      "Early stopping, best iteration is:\n",
      "[38]\tvalid_0's auc: 0.890157\n",
      "Training until validation scores don't improve for 30 rounds\n"
     ]
    },
    {
     "name": "stderr",
     "output_type": "stream",
     "text": [
      "[I 2025-08-04 22:46:45,267] Trial 10 finished with value: 0.9290458937198068 and parameters: {'learning_rate': 0.01675642757015955, 'num_leaves': 21, 'max_depth': 6, 'min_child_samples': 50, 'feature_fraction': 0.6059558598244779, 'bagging_fraction': 0.994818613801139, 'lambda_l1': 0.0005886406736046457, 'lambda_l2': 0.33254248205898995}. Best is trial 10 with value: 0.9290458937198068.\n"
     ]
    },
    {
     "name": "stdout",
     "output_type": "stream",
     "text": [
      "Early stopping, best iteration is:\n",
      "[45]\tvalid_0's auc: 0.929046\n",
      "Training until validation scores don't improve for 30 rounds\n"
     ]
    },
    {
     "name": "stderr",
     "output_type": "stream",
     "text": [
      "[I 2025-08-04 22:46:45,652] Trial 11 finished with value: 0.925 and parameters: {'learning_rate': 0.010536402538235994, 'num_leaves': 21, 'max_depth': 6, 'min_child_samples': 49, 'feature_fraction': 0.6225382871736567, 'bagging_fraction': 0.9841195896608643, 'lambda_l1': 0.017874773615746548, 'lambda_l2': 0.3489261944163296}. Best is trial 10 with value: 0.9290458937198068.\n"
     ]
    },
    {
     "name": "stdout",
     "output_type": "stream",
     "text": [
      "Did not meet early stopping. Best iteration is:\n",
      "[99]\tvalid_0's auc: 0.925\n",
      "Training until validation scores don't improve for 30 rounds\n"
     ]
    },
    {
     "name": "stderr",
     "output_type": "stream",
     "text": [
      "[I 2025-08-04 22:46:45,897] Trial 12 finished with value: 0.9295893719806764 and parameters: {'learning_rate': 0.05709222988057528, 'num_leaves': 80, 'max_depth': 5, 'min_child_samples': 50, 'feature_fraction': 0.6043116331568738, 'bagging_fraction': 0.9986878219752134, 'lambda_l1': 0.003960343405583398, 'lambda_l2': 0.3280720005846621}. Best is trial 12 with value: 0.9295893719806764.\n"
     ]
    },
    {
     "name": "stdout",
     "output_type": "stream",
     "text": [
      "Early stopping, best iteration is:\n",
      "[35]\tvalid_0's auc: 0.929589\n",
      "Training until validation scores don't improve for 30 rounds\n"
     ]
    },
    {
     "name": "stderr",
     "output_type": "stream",
     "text": [
      "[I 2025-08-04 22:46:46,270] Trial 13 finished with value: 0.9297705314009661 and parameters: {'learning_rate': 0.023460848224055003, 'num_leaves': 76, 'max_depth': 5, 'min_child_samples': 43, 'feature_fraction': 0.6085311971568006, 'bagging_fraction': 0.9905475533937046, 'lambda_l1': 0.032355929466627464, 'lambda_l2': 0.3236179238860608}. Best is trial 13 with value: 0.9297705314009661.\n"
     ]
    },
    {
     "name": "stdout",
     "output_type": "stream",
     "text": [
      "Did not meet early stopping. Best iteration is:\n",
      "[98]\tvalid_0's auc: 0.929771\n",
      "Training until validation scores don't improve for 30 rounds\n"
     ]
    },
    {
     "name": "stderr",
     "output_type": "stream",
     "text": [
      "[I 2025-08-04 22:46:46,639] Trial 14 finished with value: 0.9390096618357489 and parameters: {'learning_rate': 0.04807437613178202, 'num_leaves': 79, 'max_depth': 5, 'min_child_samples': 42, 'feature_fraction': 0.683348863033201, 'bagging_fraction': 0.9268108847065925, 'lambda_l1': 0.20370500303190717, 'lambda_l2': 0.32741975450966715}. Best is trial 14 with value: 0.9390096618357489.\n"
     ]
    },
    {
     "name": "stdout",
     "output_type": "stream",
     "text": [
      "Did not meet early stopping. Best iteration is:\n",
      "[73]\tvalid_0's auc: 0.93901\n",
      "Training until validation scores don't improve for 30 rounds\n",
      "Early stopping, best iteration is:\n",
      "[68]\tvalid_0's auc: 0.935145\n"
     ]
    },
    {
     "name": "stderr",
     "output_type": "stream",
     "text": [
      "[I 2025-08-04 22:46:46,847] Trial 15 finished with value: 0.9351449275362319 and parameters: {'learning_rate': 0.04242579747607843, 'num_leaves': 79, 'max_depth': 3, 'min_child_samples': 41, 'feature_fraction': 0.6804124568308729, 'bagging_fraction': 0.9295236313643843, 'lambda_l1': 0.2182433612085634, 'lambda_l2': 0.24236686374412753}. Best is trial 14 with value: 0.9390096618357489.\n",
      "[I 2025-08-04 22:46:47,049] Trial 16 finished with value: 0.9289855072463769 and parameters: {'learning_rate': 0.048392251639216954, 'num_leaves': 70, 'max_depth': 3, 'min_child_samples': 41, 'feature_fraction': 0.6867687220655145, 'bagging_fraction': 0.9136312108656821, 'lambda_l1': 0.27687100283635846, 'lambda_l2': 0.21153430481207308}. Best is trial 14 with value: 0.9390096618357489.\n"
     ]
    },
    {
     "name": "stdout",
     "output_type": "stream",
     "text": [
      "Training until validation scores don't improve for 30 rounds\n",
      "Did not meet early stopping. Best iteration is:\n",
      "[74]\tvalid_0's auc: 0.928986\n"
     ]
    },
    {
     "name": "stderr",
     "output_type": "stream",
     "text": [
      "[I 2025-08-04 22:46:47,292] Trial 17 finished with value: 0.9255434782608696 and parameters: {'learning_rate': 0.07630368736771376, 'num_leaves': 63, 'max_depth': 4, 'min_child_samples': 38, 'feature_fraction': 0.766425533601166, 'bagging_fraction': 0.9257145367558619, 'lambda_l1': 0.1873795862858001, 'lambda_l2': 0.43016415651858736}. Best is trial 14 with value: 0.9390096618357489.\n"
     ]
    },
    {
     "name": "stdout",
     "output_type": "stream",
     "text": [
      "Training until validation scores don't improve for 30 rounds\n",
      "Early stopping, best iteration is:\n",
      "[49]\tvalid_0's auc: 0.925543\n",
      "Training until validation scores don't improve for 30 rounds\n"
     ]
    },
    {
     "name": "stderr",
     "output_type": "stream",
     "text": [
      "[I 2025-08-04 22:46:47,591] Trial 18 finished with value: 0.9321256038647343 and parameters: {'learning_rate': 0.03208960401298481, 'num_leaves': 56, 'max_depth': 4, 'min_child_samples': 10, 'feature_fraction': 0.6697822553775307, 'bagging_fraction': 0.9233928681586704, 'lambda_l1': 0.3716417849992971, 'lambda_l2': 0.21293101385783453}. Best is trial 14 with value: 0.9390096618357489.\n"
     ]
    },
    {
     "name": "stdout",
     "output_type": "stream",
     "text": [
      "Did not meet early stopping. Best iteration is:\n",
      "[98]\tvalid_0's auc: 0.932126\n",
      "Training until validation scores don't improve for 30 rounds\n",
      "Early stopping, best iteration is:\n",
      "[30]\tvalid_0's auc: 0.915338\n"
     ]
    },
    {
     "name": "stderr",
     "output_type": "stream",
     "text": [
      "[I 2025-08-04 22:46:47,769] Trial 19 finished with value: 0.9153381642512077 and parameters: {'learning_rate': 0.08210233765045485, 'num_leaves': 72, 'max_depth': 3, 'min_child_samples': 45, 'feature_fraction': 0.9981573341280187, 'bagging_fraction': 0.8862398522743468, 'lambda_l1': 0.16445230379799897, 'lambda_l2': 0.012612148155884184}. Best is trial 14 with value: 0.9390096618357489.\n"
     ]
    },
    {
     "name": "stdout",
     "output_type": "stream",
     "text": [
      "Training until validation scores don't improve for 30 rounds\n"
     ]
    },
    {
     "name": "stderr",
     "output_type": "stream",
     "text": [
      "[I 2025-08-04 22:46:48,084] Trial 20 finished with value: 0.9207125603864734 and parameters: {'learning_rate': 0.04561794474130965, 'num_leaves': 69, 'max_depth': 6, 'min_child_samples': 26, 'feature_fraction': 0.7203682651217503, 'bagging_fraction': 0.9530124668533273, 'lambda_l1': 0.6204493668277243, 'lambda_l2': 0.4402790074978221}. Best is trial 14 with value: 0.9390096618357489.\n"
     ]
    },
    {
     "name": "stdout",
     "output_type": "stream",
     "text": [
      "Early stopping, best iteration is:\n",
      "[29]\tvalid_0's auc: 0.920713\n",
      "Training until validation scores don't improve for 30 rounds\n"
     ]
    },
    {
     "name": "stderr",
     "output_type": "stream",
     "text": [
      "[I 2025-08-04 22:46:48,382] Trial 21 finished with value: 0.9264492753623188 and parameters: {'learning_rate': 0.03323863478468481, 'num_leaves': 54, 'max_depth': 4, 'min_child_samples': 12, 'feature_fraction': 0.6662071680824379, 'bagging_fraction': 0.9237142946180188, 'lambda_l1': 0.3607239915235665, 'lambda_l2': 0.22070502963077482}. Best is trial 14 with value: 0.9390096618357489.\n"
     ]
    },
    {
     "name": "stdout",
     "output_type": "stream",
     "text": [
      "Did not meet early stopping. Best iteration is:\n",
      "[96]\tvalid_0's auc: 0.926449\n",
      "Training until validation scores don't improve for 30 rounds\n"
     ]
    },
    {
     "name": "stderr",
     "output_type": "stream",
     "text": [
      "[I 2025-08-04 22:46:48,707] Trial 22 finished with value: 0.9227053140096618 and parameters: {'learning_rate': 0.03683319944074724, 'num_leaves': 79, 'max_depth': 5, 'min_child_samples': 19, 'feature_fraction': 0.6525075784633599, 'bagging_fraction': 0.8757262203574597, 'lambda_l1': 0.37694708904643004, 'lambda_l2': 0.22067185541369871}. Best is trial 14 with value: 0.9390096618357489.\n"
     ]
    },
    {
     "name": "stdout",
     "output_type": "stream",
     "text": [
      "Early stopping, best iteration is:\n",
      "[51]\tvalid_0's auc: 0.922705\n",
      "Training until validation scores don't improve for 30 rounds\n"
     ]
    },
    {
     "name": "stderr",
     "output_type": "stream",
     "text": [
      "[I 2025-08-04 22:46:48,957] Trial 23 finished with value: 0.9373188405797102 and parameters: {'learning_rate': 0.06882454397199546, 'num_leaves': 60, 'max_depth': 4, 'min_child_samples': 38, 'feature_fraction': 0.7787878135566481, 'bagging_fraction': 0.9558747797706781, 'lambda_l1': 0.2152589644181875, 'lambda_l2': 0.17556921632680972}. Best is trial 14 with value: 0.9390096618357489.\n"
     ]
    },
    {
     "name": "stdout",
     "output_type": "stream",
     "text": [
      "Early stopping, best iteration is:\n",
      "[46]\tvalid_0's auc: 0.937319\n",
      "Training until validation scores don't improve for 30 rounds\n"
     ]
    },
    {
     "name": "stderr",
     "output_type": "stream",
     "text": [
      "[I 2025-08-04 22:46:49,194] Trial 24 finished with value: 0.9237922705314009 and parameters: {'learning_rate': 0.0697116453206455, 'num_leaves': 73, 'max_depth': 3, 'min_child_samples': 38, 'feature_fraction': 0.7701400651645419, 'bagging_fraction': 0.9600010502949207, 'lambda_l1': 0.10608751372251803, 'lambda_l2': 0.10831049843363239}. Best is trial 14 with value: 0.9390096618357489.\n"
     ]
    },
    {
     "name": "stdout",
     "output_type": "stream",
     "text": [
      "Did not meet early stopping. Best iteration is:\n",
      "[74]\tvalid_0's auc: 0.923792\n",
      "Training until validation scores don't improve for 30 rounds\n"
     ]
    },
    {
     "name": "stderr",
     "output_type": "stream",
     "text": [
      "[I 2025-08-04 22:46:49,482] Trial 25 finished with value: 0.9178743961352657 and parameters: {'learning_rate': 0.08842888787894554, 'num_leaves': 67, 'max_depth': 5, 'min_child_samples': 40, 'feature_fraction': 0.7355863924772895, 'bagging_fraction': 0.7918416669463703, 'lambda_l1': 0.2670374101473669, 'lambda_l2': 0.4060301193076823}. Best is trial 14 with value: 0.9390096618357489.\n"
     ]
    },
    {
     "name": "stdout",
     "output_type": "stream",
     "text": [
      "Early stopping, best iteration is:\n",
      "[35]\tvalid_0's auc: 0.917874\n",
      "Training until validation scores don't improve for 30 rounds\n"
     ]
    },
    {
     "name": "stderr",
     "output_type": "stream",
     "text": [
      "[I 2025-08-04 22:46:49,809] Trial 26 finished with value: 0.9154589371980677 and parameters: {'learning_rate': 0.05413730897276277, 'num_leaves': 75, 'max_depth': 7, 'min_child_samples': 46, 'feature_fraction': 0.7921274429258555, 'bagging_fraction': 0.961442303612285, 'lambda_l1': 0.0988033732902594, 'lambda_l2': 0.2671235672332357}. Best is trial 14 with value: 0.9390096618357489.\n"
     ]
    },
    {
     "name": "stdout",
     "output_type": "stream",
     "text": [
      "Early stopping, best iteration is:\n",
      "[22]\tvalid_0's auc: 0.915459\n",
      "Training until validation scores don't improve for 30 rounds\n",
      "Early stopping, best iteration is:\n",
      "[12]\tvalid_0's auc: 0.914795\n"
     ]
    },
    {
     "name": "stderr",
     "output_type": "stream",
     "text": [
      "[I 2025-08-04 22:46:49,987] Trial 27 finished with value: 0.9147946859903382 and parameters: {'learning_rate': 0.11294205682858993, 'num_leaves': 61, 'max_depth': 4, 'min_child_samples': 35, 'feature_fraction': 0.706189907882147, 'bagging_fraction': 0.8966238792212676, 'lambda_l1': 0.2278873766942846, 'lambda_l2': 0.4947746363596025}. Best is trial 14 with value: 0.9390096618357489.\n",
      "[I 2025-08-04 22:46:50,187] Trial 28 finished with value: 0.9231280193236714 and parameters: {'learning_rate': 0.06358796522909965, 'num_leaves': 56, 'max_depth': 3, 'min_child_samples': 42, 'feature_fraction': 0.6437264028175061, 'bagging_fraction': 0.8553359039855672, 'lambda_l1': 0.13449439873368363, 'lambda_l2': 0.12264685428646205}. Best is trial 14 with value: 0.9390096618357489.\n"
     ]
    },
    {
     "name": "stdout",
     "output_type": "stream",
     "text": [
      "Training until validation scores don't improve for 30 rounds\n",
      "Early stopping, best iteration is:\n",
      "[69]\tvalid_0's auc: 0.923128\n",
      "Training until validation scores don't improve for 30 rounds\n"
     ]
    },
    {
     "name": "stderr",
     "output_type": "stream",
     "text": [
      "[I 2025-08-04 22:46:50,611] Trial 29 finished with value: 0.9226449275362318 and parameters: {'learning_rate': 0.09964434949813158, 'num_leaves': 80, 'max_depth': 6, 'min_child_samples': 26, 'feature_fraction': 0.9015574869364125, 'bagging_fraction': 0.7900987376479177, 'lambda_l1': 0.32890303349433475, 'lambda_l2': 0.7473690841812786}. Best is trial 14 with value: 0.9390096618357489.\n"
     ]
    },
    {
     "name": "stdout",
     "output_type": "stream",
     "text": [
      "Early stopping, best iteration is:\n",
      "[37]\tvalid_0's auc: 0.922645\n",
      "\n",
      "📍 Training for label: NR-ER\n"
     ]
    },
    {
     "name": "stderr",
     "output_type": "stream",
     "text": [
      "[I 2025-08-04 22:46:55,100] A new study created in memory with name: no-name-9353ee7a-5af3-45a0-9bb6-a2e7ea5ca76a\n"
     ]
    },
    {
     "name": "stdout",
     "output_type": "stream",
     "text": [
      "Training until validation scores don't improve for 30 rounds\n"
     ]
    },
    {
     "name": "stderr",
     "output_type": "stream",
     "text": [
      "[I 2025-08-04 22:46:55,694] Trial 0 finished with value: 0.7645686826066572 and parameters: {'learning_rate': 0.05320447706164696, 'num_leaves': 28, 'max_depth': 11, 'min_child_samples': 47, 'feature_fraction': 0.8279956354322009, 'bagging_fraction': 0.7143288098170213, 'lambda_l1': 0.22563035534167597, 'lambda_l2': 0.5924185721060761}. Best is trial 0 with value: 0.7645686826066572.\n",
      "[I 2025-08-04 22:46:55,848] Trial 1 finished with value: 0.771952648851383 and parameters: {'learning_rate': 0.17221139110805694, 'num_leaves': 28, 'max_depth': 3, 'min_child_samples': 47, 'feature_fraction': 0.8748688249891478, 'bagging_fraction': 0.6947555673300907, 'lambda_l1': 0.13164977107747, 'lambda_l2': 0.03259038147098414}. Best is trial 1 with value: 0.771952648851383.\n"
     ]
    },
    {
     "name": "stdout",
     "output_type": "stream",
     "text": [
      "Early stopping, best iteration is:\n",
      "[23]\tvalid_0's auc: 0.764569\n",
      "Training until validation scores don't improve for 30 rounds\n",
      "Early stopping, best iteration is:\n",
      "[38]\tvalid_0's auc: 0.771953\n",
      "Training until validation scores don't improve for 30 rounds\n"
     ]
    },
    {
     "name": "stderr",
     "output_type": "stream",
     "text": [
      "[I 2025-08-04 22:46:56,235] Trial 2 finished with value: 0.7699835911861229 and parameters: {'learning_rate': 0.19015140208687203, 'num_leaves': 22, 'max_depth': 10, 'min_child_samples': 33, 'feature_fraction': 0.6454232111797568, 'bagging_fraction': 0.9664054274029238, 'lambda_l1': 0.3514124993073625, 'lambda_l2': 0.3424120705066046}. Best is trial 1 with value: 0.771952648851383.\n"
     ]
    },
    {
     "name": "stdout",
     "output_type": "stream",
     "text": [
      "Early stopping, best iteration is:\n",
      "[40]\tvalid_0's auc: 0.769984\n",
      "Training until validation scores don't improve for 30 rounds\n"
     ]
    },
    {
     "name": "stderr",
     "output_type": "stream",
     "text": [
      "[I 2025-08-04 22:46:56,848] Trial 3 finished with value: 0.7583098921706518 and parameters: {'learning_rate': 0.1610002352000571, 'num_leaves': 37, 'max_depth': 8, 'min_child_samples': 10, 'feature_fraction': 0.9648701711772438, 'bagging_fraction': 0.9903507956791824, 'lambda_l1': 0.37933046331425546, 'lambda_l2': 0.0909639106350959}. Best is trial 1 with value: 0.771952648851383.\n",
      "[I 2025-08-04 22:46:57,019] Trial 4 finished with value: 0.7499531176746367 and parameters: {'learning_rate': 0.09921771187870672, 'num_leaves': 49, 'max_depth': 5, 'min_child_samples': 48, 'feature_fraction': 0.8025288848475712, 'bagging_fraction': 0.6870002549622493, 'lambda_l1': 0.6464287471838326, 'lambda_l2': 0.3105220519068743}. Best is trial 1 with value: 0.771952648851383.\n"
     ]
    },
    {
     "name": "stdout",
     "output_type": "stream",
     "text": [
      "Early stopping, best iteration is:\n",
      "[30]\tvalid_0's auc: 0.75831\n",
      "Training until validation scores don't improve for 30 rounds\n",
      "Early stopping, best iteration is:\n",
      "[6]\tvalid_0's auc: 0.749953\n",
      "Training until validation scores don't improve for 30 rounds\n"
     ]
    },
    {
     "name": "stderr",
     "output_type": "stream",
     "text": [
      "[I 2025-08-04 22:46:57,722] Trial 5 finished with value: 0.7480661040787622 and parameters: {'learning_rate': 0.1362983790093501, 'num_leaves': 51, 'max_depth': 10, 'min_child_samples': 12, 'feature_fraction': 0.9668958433034114, 'bagging_fraction': 0.7123486266656545, 'lambda_l1': 0.12767480882960347, 'lambda_l2': 0.394797361507799}. Best is trial 1 with value: 0.771952648851383.\n"
     ]
    },
    {
     "name": "stdout",
     "output_type": "stream",
     "text": [
      "Early stopping, best iteration is:\n",
      "[20]\tvalid_0's auc: 0.748066\n",
      "Training until validation scores don't improve for 30 rounds\n"
     ]
    },
    {
     "name": "stderr",
     "output_type": "stream",
     "text": [
      "[I 2025-08-04 22:46:58,342] Trial 6 finished with value: 0.754817158931083 and parameters: {'learning_rate': 0.1335306161309827, 'num_leaves': 38, 'max_depth': 7, 'min_child_samples': 41, 'feature_fraction': 0.7979317964503155, 'bagging_fraction': 0.8579776025866936, 'lambda_l1': 0.037235255494940445, 'lambda_l2': 0.9229417191642364}. Best is trial 1 with value: 0.771952648851383.\n"
     ]
    },
    {
     "name": "stdout",
     "output_type": "stream",
     "text": [
      "Did not meet early stopping. Best iteration is:\n",
      "[100]\tvalid_0's auc: 0.754817\n",
      "Training until validation scores don't improve for 30 rounds\n"
     ]
    },
    {
     "name": "stderr",
     "output_type": "stream",
     "text": [
      "[I 2025-08-04 22:46:59,551] Trial 7 finished with value: 0.7276254102203468 and parameters: {'learning_rate': 0.17197187664227706, 'num_leaves': 73, 'max_depth': 11, 'min_child_samples': 32, 'feature_fraction': 0.7920925388052033, 'bagging_fraction': 0.6759794690214666, 'lambda_l1': 0.4802511204880978, 'lambda_l2': 0.4089249136115892}. Best is trial 1 with value: 0.771952648851383.\n"
     ]
    },
    {
     "name": "stdout",
     "output_type": "stream",
     "text": [
      "Did not meet early stopping. Best iteration is:\n",
      "[100]\tvalid_0's auc: 0.727625\n",
      "Training until validation scores don't improve for 30 rounds\n"
     ]
    },
    {
     "name": "stderr",
     "output_type": "stream",
     "text": [
      "[I 2025-08-04 22:46:59,752] Trial 8 finished with value: 0.7621190811064229 and parameters: {'learning_rate': 0.05616783999744445, 'num_leaves': 28, 'max_depth': 5, 'min_child_samples': 17, 'feature_fraction': 0.6569903817981525, 'bagging_fraction': 0.8359351883889746, 'lambda_l1': 0.09084602215909987, 'lambda_l2': 0.3063569208962289}. Best is trial 1 with value: 0.771952648851383.\n"
     ]
    },
    {
     "name": "stdout",
     "output_type": "stream",
     "text": [
      "Early stopping, best iteration is:\n",
      "[5]\tvalid_0's auc: 0.762119\n",
      "Training until validation scores don't improve for 30 rounds\n"
     ]
    },
    {
     "name": "stderr",
     "output_type": "stream",
     "text": [
      "[I 2025-08-04 22:47:00,720] Trial 9 finished with value: 0.762388654477262 and parameters: {'learning_rate': 0.029573972931593286, 'num_leaves': 45, 'max_depth': 9, 'min_child_samples': 16, 'feature_fraction': 0.9486165686067887, 'bagging_fraction': 0.6314524003730811, 'lambda_l1': 0.150605305947477, 'lambda_l2': 0.8177022873840585}. Best is trial 1 with value: 0.771952648851383.\n"
     ]
    },
    {
     "name": "stdout",
     "output_type": "stream",
     "text": [
      "Early stopping, best iteration is:\n",
      "[38]\tvalid_0's auc: 0.762389\n",
      "Training until validation scores don't improve for 30 rounds\n"
     ]
    },
    {
     "name": "stderr",
     "output_type": "stream",
     "text": [
      "[I 2025-08-04 22:47:00,951] Trial 10 finished with value: 0.7861345522737928 and parameters: {'learning_rate': 0.09924159109161036, 'num_leaves': 62, 'max_depth': 3, 'min_child_samples': 23, 'feature_fraction': 0.8775315538776602, 'bagging_fraction': 0.7607978312057362, 'lambda_l1': 0.8641698702584922, 'lambda_l2': 0.01431578401853691}. Best is trial 10 with value: 0.7861345522737928.\n"
     ]
    },
    {
     "name": "stdout",
     "output_type": "stream",
     "text": [
      "Did not meet early stopping. Best iteration is:\n",
      "[71]\tvalid_0's auc: 0.786135\n",
      "Training until validation scores don't improve for 30 rounds\n",
      "Early stopping, best iteration is:\n",
      "[36]\tvalid_0's auc: 0.777039\n"
     ]
    },
    {
     "name": "stderr",
     "output_type": "stream",
     "text": [
      "[I 2025-08-04 22:47:01,133] Trial 11 finished with value: 0.7770393811533052 and parameters: {'learning_rate': 0.09607718613354277, 'num_leaves': 62, 'max_depth': 3, 'min_child_samples': 24, 'feature_fraction': 0.8983146469923363, 'bagging_fraction': 0.7735226246675881, 'lambda_l1': 0.9634237893524176, 'lambda_l2': 0.047666824305501745}. Best is trial 10 with value: 0.7861345522737928.\n",
      "[I 2025-08-04 22:47:01,349] Trial 12 finished with value: 0.7886896390060948 and parameters: {'learning_rate': 0.09726290038544115, 'num_leaves': 65, 'max_depth': 3, 'min_child_samples': 24, 'feature_fraction': 0.8909950833562655, 'bagging_fraction': 0.7704161874249349, 'lambda_l1': 0.9530953897923535, 'lambda_l2': 0.1618028008984083}. Best is trial 12 with value: 0.7886896390060948.\n"
     ]
    },
    {
     "name": "stdout",
     "output_type": "stream",
     "text": [
      "Training until validation scores don't improve for 30 rounds\n",
      "Early stopping, best iteration is:\n",
      "[61]\tvalid_0's auc: 0.78869\n"
     ]
    },
    {
     "name": "stderr",
     "output_type": "stream",
     "text": [
      "[I 2025-08-04 22:47:01,595] Trial 13 finished with value: 0.7858180965775904 and parameters: {'learning_rate': 0.07131240142948833, 'num_leaves': 80, 'max_depth': 5, 'min_child_samples': 25, 'feature_fraction': 0.7063250316822737, 'bagging_fraction': 0.782387105444506, 'lambda_l1': 0.9989110055768171, 'lambda_l2': 0.17891277041307135}. Best is trial 12 with value: 0.7886896390060948.\n"
     ]
    },
    {
     "name": "stdout",
     "output_type": "stream",
     "text": [
      "Training until validation scores don't improve for 30 rounds\n",
      "Early stopping, best iteration is:\n",
      "[9]\tvalid_0's auc: 0.785818\n"
     ]
    },
    {
     "name": "stderr",
     "output_type": "stream",
     "text": [
      "[I 2025-08-04 22:47:01,812] Trial 14 finished with value: 0.7783520862634786 and parameters: {'learning_rate': 0.12163446904679963, 'num_leaves': 64, 'max_depth': 3, 'min_child_samples': 24, 'feature_fraction': 0.8804911539241531, 'bagging_fraction': 0.9010434014735276, 'lambda_l1': 0.8029079149303774, 'lambda_l2': 0.21146095870895273}. Best is trial 12 with value: 0.7886896390060948.\n"
     ]
    },
    {
     "name": "stdout",
     "output_type": "stream",
     "text": [
      "Training until validation scores don't improve for 30 rounds\n",
      "Early stopping, best iteration is:\n",
      "[51]\tvalid_0's auc: 0.778352\n",
      "Training until validation scores don't improve for 30 rounds\n"
     ]
    },
    {
     "name": "stderr",
     "output_type": "stream",
     "text": [
      "[I 2025-08-04 22:47:02,290] Trial 15 finished with value: 0.7694444444444445 and parameters: {'learning_rate': 0.08297347050518898, 'num_leaves': 61, 'max_depth': 6, 'min_child_samples': 38, 'feature_fraction': 0.7282030962599648, 'bagging_fraction': 0.7523787919021543, 'lambda_l1': 0.7898991994808129, 'lambda_l2': 0.5405553601339448}. Best is trial 12 with value: 0.7886896390060948.\n"
     ]
    },
    {
     "name": "stdout",
     "output_type": "stream",
     "text": [
      "Did not meet early stopping. Best iteration is:\n",
      "[86]\tvalid_0's auc: 0.769444\n",
      "Training until validation scores don't improve for 30 rounds\n"
     ]
    },
    {
     "name": "stderr",
     "output_type": "stream",
     "text": [
      "[I 2025-08-04 22:47:02,633] Trial 16 finished with value: 0.77485935302391 and parameters: {'learning_rate': 0.11334546484786498, 'num_leaves': 71, 'max_depth': 4, 'min_child_samples': 20, 'feature_fraction': 0.9069012402457607, 'bagging_fraction': 0.8176560412675067, 'lambda_l1': 0.8270531112433815, 'lambda_l2': 0.1607371220122578}. Best is trial 12 with value: 0.7886896390060948.\n"
     ]
    },
    {
     "name": "stdout",
     "output_type": "stream",
     "text": [
      "Did not meet early stopping. Best iteration is:\n",
      "[73]\tvalid_0's auc: 0.774859\n",
      "Training until validation scores don't improve for 30 rounds\n"
     ]
    },
    {
     "name": "stderr",
     "output_type": "stream",
     "text": [
      "[I 2025-08-04 22:47:03,571] Trial 17 finished with value: 0.7612634786685419 and parameters: {'learning_rate': 0.02455542521194734, 'num_leaves': 56, 'max_depth': 7, 'min_child_samples': 27, 'feature_fraction': 0.8502589848135882, 'bagging_fraction': 0.8815786026731186, 'lambda_l1': 0.6677600451286567, 'lambda_l2': 0.6400139060487536}. Best is trial 12 with value: 0.7886896390060948.\n"
     ]
    },
    {
     "name": "stdout",
     "output_type": "stream",
     "text": [
      "Early stopping, best iteration is:\n",
      "[63]\tvalid_0's auc: 0.761263\n",
      "Training until validation scores don't improve for 30 rounds\n",
      "Early stopping, best iteration is:\n",
      "[8]\tvalid_0's auc: 0.769421\n"
     ]
    },
    {
     "name": "stderr",
     "output_type": "stream",
     "text": [
      "[I 2025-08-04 22:47:03,743] Trial 18 finished with value: 0.7694210032817628 and parameters: {'learning_rate': 0.07450755573924495, 'num_leaves': 70, 'max_depth': 4, 'min_child_samples': 29, 'feature_fraction': 0.7483388514962738, 'bagging_fraction': 0.6195651068000045, 'lambda_l1': 0.9146350027511747, 'lambda_l2': 0.005784464354760127}. Best is trial 12 with value: 0.7886896390060948.\n",
      "[I 2025-08-04 22:47:03,930] Trial 19 finished with value: 0.7592358180965776 and parameters: {'learning_rate': 0.14622182036844555, 'num_leaves': 79, 'max_depth': 4, 'min_child_samples': 19, 'feature_fraction': 0.9394755200094762, 'bagging_fraction': 0.9285073480160175, 'lambda_l1': 0.633455776713733, 'lambda_l2': 0.21108246326281874}. Best is trial 12 with value: 0.7886896390060948.\n"
     ]
    },
    {
     "name": "stdout",
     "output_type": "stream",
     "text": [
      "Training until validation scores don't improve for 30 rounds\n",
      "Early stopping, best iteration is:\n",
      "[8]\tvalid_0's auc: 0.759236\n",
      "Training until validation scores don't improve for 30 rounds\n"
     ]
    },
    {
     "name": "stderr",
     "output_type": "stream",
     "text": [
      "[I 2025-08-04 22:47:04,310] Trial 20 finished with value: 0.7586146272855134 and parameters: {'learning_rate': 0.047306899774764426, 'num_leaves': 57, 'max_depth': 6, 'min_child_samples': 35, 'feature_fraction': 0.9237232088617194, 'bagging_fraction': 0.7485341048603811, 'lambda_l1': 0.7179189336402034, 'lambda_l2': 0.11867911990505899}. Best is trial 12 with value: 0.7886896390060948.\n"
     ]
    },
    {
     "name": "stdout",
     "output_type": "stream",
     "text": [
      "Early stopping, best iteration is:\n",
      "[18]\tvalid_0's auc: 0.758615\n",
      "Training until validation scores don't improve for 30 rounds\n"
     ]
    },
    {
     "name": "stderr",
     "output_type": "stream",
     "text": [
      "[I 2025-08-04 22:47:04,614] Trial 21 finished with value: 0.7693037974683545 and parameters: {'learning_rate': 0.07557822174583793, 'num_leaves': 79, 'max_depth': 5, 'min_child_samples': 24, 'feature_fraction': 0.7418773142019361, 'bagging_fraction': 0.7871446275971218, 'lambda_l1': 0.963538221023646, 'lambda_l2': 0.23251700751881438}. Best is trial 12 with value: 0.7886896390060948.\n"
     ]
    },
    {
     "name": "stdout",
     "output_type": "stream",
     "text": [
      "Early stopping, best iteration is:\n",
      "[24]\tvalid_0's auc: 0.769304\n",
      "Training until validation scores don't improve for 30 rounds\n"
     ]
    },
    {
     "name": "stderr",
     "output_type": "stream",
     "text": [
      "[I 2025-08-04 22:47:04,854] Trial 22 finished with value: 0.7860876699484294 and parameters: {'learning_rate': 0.09247760378558412, 'num_leaves': 67, 'max_depth': 3, 'min_child_samples': 27, 'feature_fraction': 0.6925541894338402, 'bagging_fraction': 0.8119988370416564, 'lambda_l1': 0.8941037971405283, 'lambda_l2': 0.13626426525940233}. Best is trial 12 with value: 0.7886896390060948.\n"
     ]
    },
    {
     "name": "stdout",
     "output_type": "stream",
     "text": [
      "Did not meet early stopping. Best iteration is:\n",
      "[71]\tvalid_0's auc: 0.786088\n",
      "Training until validation scores don't improve for 30 rounds\n"
     ]
    },
    {
     "name": "stderr",
     "output_type": "stream",
     "text": [
      "[I 2025-08-04 22:47:05,074] Trial 23 finished with value: 0.7799929676511954 and parameters: {'learning_rate': 0.10415301216035779, 'num_leaves': 66, 'max_depth': 3, 'min_child_samples': 21, 'feature_fraction': 0.6070654850934253, 'bagging_fraction': 0.8332861000985515, 'lambda_l1': 0.8761115255006933, 'lambda_l2': 0.10850355901669727}. Best is trial 12 with value: 0.7886896390060948.\n"
     ]
    },
    {
     "name": "stdout",
     "output_type": "stream",
     "text": [
      "Early stopping, best iteration is:\n",
      "[55]\tvalid_0's auc: 0.779993\n",
      "Training until validation scores don't improve for 30 rounds\n"
     ]
    },
    {
     "name": "stderr",
     "output_type": "stream",
     "text": [
      "[I 2025-08-04 22:47:05,302] Trial 24 finished with value: 0.7713314580403188 and parameters: {'learning_rate': 0.0873761002834071, 'num_leaves': 67, 'max_depth': 4, 'min_child_samples': 29, 'feature_fraction': 0.9985129279898455, 'bagging_fraction': 0.74621745387152, 'lambda_l1': 0.7297648888563367, 'lambda_l2': 0.43376818012511525}. Best is trial 12 with value: 0.7886896390060948.\n"
     ]
    },
    {
     "name": "stdout",
     "output_type": "stream",
     "text": [
      "Early stopping, best iteration is:\n",
      "[10]\tvalid_0's auc: 0.771331\n",
      "Training until validation scores don't improve for 30 rounds\n"
     ]
    },
    {
     "name": "stderr",
     "output_type": "stream",
     "text": [
      "[I 2025-08-04 22:47:05,538] Trial 25 finished with value: 0.777977027660572 and parameters: {'learning_rate': 0.11403725131126831, 'num_leaves': 56, 'max_depth': 3, 'min_child_samples': 15, 'feature_fraction': 0.8387224288063322, 'bagging_fraction': 0.8140830018249845, 'lambda_l1': 0.8754442859124744, 'lambda_l2': 0.002479102779435194}. Best is trial 12 with value: 0.7886896390060948.\n"
     ]
    },
    {
     "name": "stdout",
     "output_type": "stream",
     "text": [
      "Early stopping, best iteration is:\n",
      "[52]\tvalid_0's auc: 0.777977\n",
      "Training until validation scores don't improve for 30 rounds\n"
     ]
    },
    {
     "name": "stderr",
     "output_type": "stream",
     "text": [
      "[I 2025-08-04 22:47:06,084] Trial 26 finished with value: 0.7587083919362401 and parameters: {'learning_rate': 0.12091816396570465, 'num_leaves': 72, 'max_depth': 6, 'min_child_samples': 21, 'feature_fraction': 0.6845049378006031, 'bagging_fraction': 0.863388902870638, 'lambda_l1': 0.9025411832556112, 'lambda_l2': 0.260706671369277}. Best is trial 12 with value: 0.7886896390060948.\n"
     ]
    },
    {
     "name": "stdout",
     "output_type": "stream",
     "text": [
      "Early stopping, best iteration is:\n",
      "[49]\tvalid_0's auc: 0.758708\n",
      "Training until validation scores don't improve for 30 rounds\n"
     ]
    },
    {
     "name": "stderr",
     "output_type": "stream",
     "text": [
      "[I 2025-08-04 22:47:06,349] Trial 27 finished with value: 0.7790318799812471 and parameters: {'learning_rate': 0.010848086387442404, 'num_leaves': 60, 'max_depth': 4, 'min_child_samples': 27, 'feature_fraction': 0.7714814709075964, 'bagging_fraction': 0.7281462797289755, 'lambda_l1': 0.5991253253029426, 'lambda_l2': 0.6889839541125793}. Best is trial 12 with value: 0.7886896390060948.\n"
     ]
    },
    {
     "name": "stdout",
     "output_type": "stream",
     "text": [
      "Early stopping, best iteration is:\n",
      "[27]\tvalid_0's auc: 0.779032\n",
      "Training until validation scores don't improve for 30 rounds\n"
     ]
    },
    {
     "name": "stderr",
     "output_type": "stream",
     "text": [
      "[I 2025-08-04 22:47:07,471] Trial 28 finished with value: 0.7686005625879043 and parameters: {'learning_rate': 0.0667864646419444, 'num_leaves': 50, 'max_depth': 12, 'min_child_samples': 36, 'feature_fraction': 0.8676392817770077, 'bagging_fraction': 0.7976834525486053, 'lambda_l1': 0.5434890115527525, 'lambda_l2': 0.12662296423538985}. Best is trial 12 with value: 0.7886896390060948.\n"
     ]
    },
    {
     "name": "stdout",
     "output_type": "stream",
     "text": [
      "Early stopping, best iteration is:\n",
      "[62]\tvalid_0's auc: 0.768601\n",
      "Training until validation scores don't improve for 30 rounds\n"
     ]
    },
    {
     "name": "stderr",
     "output_type": "stream",
     "text": [
      "[I 2025-08-04 22:47:07,737] Trial 29 finished with value: 0.7845874355368025 and parameters: {'learning_rate': 0.05408519964379161, 'num_leaves': 76, 'max_depth': 3, 'min_child_samples': 32, 'feature_fraction': 0.822279687439482, 'bagging_fraction': 0.6631626880514743, 'lambda_l1': 0.7469244738314464, 'lambda_l2': 0.48040181943733984}. Best is trial 12 with value: 0.7886896390060948.\n"
     ]
    },
    {
     "name": "stdout",
     "output_type": "stream",
     "text": [
      "Did not meet early stopping. Best iteration is:\n",
      "[98]\tvalid_0's auc: 0.784587\n",
      "\n",
      "📍 Training for label: NR-ER-LBD\n"
     ]
    },
    {
     "name": "stderr",
     "output_type": "stream",
     "text": [
      "[I 2025-08-04 22:47:11,892] A new study created in memory with name: no-name-38be8842-876f-452b-9f18-1d8eff72f70f\n"
     ]
    },
    {
     "name": "stdout",
     "output_type": "stream",
     "text": [
      "Training until validation scores don't improve for 30 rounds\n"
     ]
    },
    {
     "name": "stderr",
     "output_type": "stream",
     "text": [
      "[I 2025-08-04 22:47:12,407] Trial 0 finished with value: 0.7573376623376622 and parameters: {'learning_rate': 0.05076783144379618, 'num_leaves': 31, 'max_depth': 12, 'min_child_samples': 49, 'feature_fraction': 0.7260880420875089, 'bagging_fraction': 0.6812121042180382, 'lambda_l1': 0.2560693334971639, 'lambda_l2': 0.9720454150313786}. Best is trial 0 with value: 0.7573376623376622.\n"
     ]
    },
    {
     "name": "stdout",
     "output_type": "stream",
     "text": [
      "Early stopping, best iteration is:\n",
      "[7]\tvalid_0's auc: 0.757338\n",
      "Training until validation scores don't improve for 30 rounds\n"
     ]
    },
    {
     "name": "stderr",
     "output_type": "stream",
     "text": [
      "[I 2025-08-04 22:47:12,715] Trial 1 finished with value: 0.7604761904761905 and parameters: {'learning_rate': 0.05611021225749657, 'num_leaves': 67, 'max_depth': 7, 'min_child_samples': 26, 'feature_fraction': 0.8396704916279822, 'bagging_fraction': 0.6572951200684054, 'lambda_l1': 0.4624758642186777, 'lambda_l2': 0.9362689704079326}. Best is trial 1 with value: 0.7604761904761905.\n"
     ]
    },
    {
     "name": "stdout",
     "output_type": "stream",
     "text": [
      "Early stopping, best iteration is:\n",
      "[4]\tvalid_0's auc: 0.760476\n",
      "Training until validation scores don't improve for 30 rounds\n"
     ]
    },
    {
     "name": "stderr",
     "output_type": "stream",
     "text": [
      "[I 2025-08-04 22:47:13,360] Trial 2 finished with value: 0.7620779220779221 and parameters: {'learning_rate': 0.11940193570727314, 'num_leaves': 28, 'max_depth': 7, 'min_child_samples': 50, 'feature_fraction': 0.8722766474426276, 'bagging_fraction': 0.9811226302823414, 'lambda_l1': 0.1707897693435061, 'lambda_l2': 0.19896316841610828}. Best is trial 2 with value: 0.7620779220779221.\n",
      "[I 2025-08-04 22:47:13,515] Trial 3 finished with value: 0.7792424242424242 and parameters: {'learning_rate': 0.12525434452929546, 'num_leaves': 45, 'max_depth': 3, 'min_child_samples': 13, 'feature_fraction': 0.6070916615734304, 'bagging_fraction': 0.768878325722315, 'lambda_l1': 0.7274822739744643, 'lambda_l2': 0.538924770143721}. Best is trial 3 with value: 0.7792424242424242.\n"
     ]
    },
    {
     "name": "stdout",
     "output_type": "stream",
     "text": [
      "Did not meet early stopping. Best iteration is:\n",
      "[95]\tvalid_0's auc: 0.762078\n",
      "Training until validation scores don't improve for 30 rounds\n",
      "Early stopping, best iteration is:\n",
      "[16]\tvalid_0's auc: 0.779242\n",
      "Training until validation scores don't improve for 30 rounds\n"
     ]
    },
    {
     "name": "stderr",
     "output_type": "stream",
     "text": [
      "[I 2025-08-04 22:47:14,170] Trial 4 finished with value: 0.7691774891774892 and parameters: {'learning_rate': 0.01606154134367093, 'num_leaves': 36, 'max_depth': 8, 'min_child_samples': 49, 'feature_fraction': 0.8368737750350443, 'bagging_fraction': 0.703507643923688, 'lambda_l1': 0.47757648099660144, 'lambda_l2': 0.77747261340815}. Best is trial 3 with value: 0.7792424242424242.\n"
     ]
    },
    {
     "name": "stdout",
     "output_type": "stream",
     "text": [
      "Early stopping, best iteration is:\n",
      "[50]\tvalid_0's auc: 0.769177\n",
      "Training until validation scores don't improve for 30 rounds\n"
     ]
    },
    {
     "name": "stderr",
     "output_type": "stream",
     "text": [
      "[I 2025-08-04 22:47:14,594] Trial 5 finished with value: 0.8011688311688312 and parameters: {'learning_rate': 0.04578248696808811, 'num_leaves': 52, 'max_depth': 5, 'min_child_samples': 49, 'feature_fraction': 0.7262925983565638, 'bagging_fraction': 0.8723623358786039, 'lambda_l1': 0.9676374632619846, 'lambda_l2': 0.5472927484737254}. Best is trial 5 with value: 0.8011688311688312.\n"
     ]
    },
    {
     "name": "stdout",
     "output_type": "stream",
     "text": [
      "Did not meet early stopping. Best iteration is:\n",
      "[85]\tvalid_0's auc: 0.801169\n",
      "Training until validation scores don't improve for 30 rounds\n"
     ]
    },
    {
     "name": "stderr",
     "output_type": "stream",
     "text": [
      "[I 2025-08-04 22:47:15,405] Trial 6 finished with value: 0.7684415584415584 and parameters: {'learning_rate': 0.028291723667202694, 'num_leaves': 25, 'max_depth': 12, 'min_child_samples': 10, 'feature_fraction': 0.6795303005063511, 'bagging_fraction': 0.8496229085952658, 'lambda_l1': 0.31465132969996357, 'lambda_l2': 0.1822642689605003}. Best is trial 5 with value: 0.8011688311688312.\n"
     ]
    },
    {
     "name": "stdout",
     "output_type": "stream",
     "text": [
      "Did not meet early stopping. Best iteration is:\n",
      "[98]\tvalid_0's auc: 0.768442\n",
      "Training until validation scores don't improve for 30 rounds\n"
     ]
    },
    {
     "name": "stderr",
     "output_type": "stream",
     "text": [
      "[I 2025-08-04 22:47:15,889] Trial 7 finished with value: 0.7755411255411255 and parameters: {'learning_rate': 0.055834962551947524, 'num_leaves': 35, 'max_depth': 12, 'min_child_samples': 14, 'feature_fraction': 0.7687750651927211, 'bagging_fraction': 0.7687921872510268, 'lambda_l1': 0.22328108462618745, 'lambda_l2': 0.3570508442079283}. Best is trial 5 with value: 0.8011688311688312.\n"
     ]
    },
    {
     "name": "stdout",
     "output_type": "stream",
     "text": [
      "Early stopping, best iteration is:\n",
      "[12]\tvalid_0's auc: 0.775541\n",
      "Training until validation scores don't improve for 30 rounds\n"
     ]
    },
    {
     "name": "stderr",
     "output_type": "stream",
     "text": [
      "[I 2025-08-04 22:47:16,558] Trial 8 finished with value: 0.7648051948051948 and parameters: {'learning_rate': 0.09349718348324608, 'num_leaves': 77, 'max_depth': 10, 'min_child_samples': 30, 'feature_fraction': 0.7906473518297903, 'bagging_fraction': 0.757492404272483, 'lambda_l1': 0.9511247953611993, 'lambda_l2': 0.7669821239613214}. Best is trial 5 with value: 0.8011688311688312.\n",
      "[I 2025-08-04 22:47:16,733] Trial 9 finished with value: 0.775974025974026 and parameters: {'learning_rate': 0.13206734565427983, 'num_leaves': 59, 'max_depth': 4, 'min_child_samples': 20, 'feature_fraction': 0.7098836231561894, 'bagging_fraction': 0.6511022232478887, 'lambda_l1': 0.5137402385970007, 'lambda_l2': 0.7367924105957417}. Best is trial 5 with value: 0.8011688311688312.\n"
     ]
    },
    {
     "name": "stdout",
     "output_type": "stream",
     "text": [
      "Early stopping, best iteration is:\n",
      "[24]\tvalid_0's auc: 0.764805\n",
      "Training until validation scores don't improve for 30 rounds\n",
      "Early stopping, best iteration is:\n",
      "[3]\tvalid_0's auc: 0.775974\n",
      "Training until validation scores don't improve for 30 rounds\n"
     ]
    },
    {
     "name": "stderr",
     "output_type": "stream",
     "text": [
      "[I 2025-08-04 22:47:17,372] Trial 10 finished with value: 0.7782251082251083 and parameters: {'learning_rate': 0.18382961555221392, 'num_leaves': 53, 'max_depth': 5, 'min_child_samples': 38, 'feature_fraction': 0.9824930227469015, 'bagging_fraction': 0.8859749748848741, 'lambda_l1': 0.9995879915498116, 'lambda_l2': 0.003775795927556058}. Best is trial 5 with value: 0.8011688311688312.\n"
     ]
    },
    {
     "name": "stdout",
     "output_type": "stream",
     "text": [
      "Did not meet early stopping. Best iteration is:\n",
      "[90]\tvalid_0's auc: 0.778225\n",
      "Training until validation scores don't improve for 30 rounds\n"
     ]
    },
    {
     "name": "stderr",
     "output_type": "stream",
     "text": [
      "[I 2025-08-04 22:47:17,598] Trial 11 finished with value: 0.7840259740259742 and parameters: {'learning_rate': 0.16026204337202002, 'num_leaves': 44, 'max_depth': 3, 'min_child_samples': 39, 'feature_fraction': 0.6008825219036928, 'bagging_fraction': 0.9045048177747681, 'lambda_l1': 0.7249552789391802, 'lambda_l2': 0.5282741310954345}. Best is trial 5 with value: 0.8011688311688312.\n"
     ]
    },
    {
     "name": "stdout",
     "output_type": "stream",
     "text": [
      "Early stopping, best iteration is:\n",
      "[55]\tvalid_0's auc: 0.784026\n",
      "Training until validation scores don't improve for 30 rounds\n"
     ]
    },
    {
     "name": "stderr",
     "output_type": "stream",
     "text": [
      "[I 2025-08-04 22:47:18,004] Trial 12 finished with value: 0.7690476190476191 and parameters: {'learning_rate': 0.17972219752872293, 'num_leaves': 45, 'max_depth': 5, 'min_child_samples': 39, 'feature_fraction': 0.6216401248512711, 'bagging_fraction': 0.9435253720095902, 'lambda_l1': 0.7820031127492623, 'lambda_l2': 0.5274271425457664}. Best is trial 5 with value: 0.8011688311688312.\n"
     ]
    },
    {
     "name": "stdout",
     "output_type": "stream",
     "text": [
      "Early stopping, best iteration is:\n",
      "[53]\tvalid_0's auc: 0.769048\n",
      "Training until validation scores don't improve for 30 rounds\n",
      "Early stopping, best iteration is:\n",
      "[19]\tvalid_0's auc: 0.786883\n"
     ]
    },
    {
     "name": "stderr",
     "output_type": "stream",
     "text": [
      "[I 2025-08-04 22:47:18,192] Trial 13 finished with value: 0.7868831168831169 and parameters: {'learning_rate': 0.15208854142726905, 'num_leaves': 59, 'max_depth': 3, 'min_child_samples': 41, 'feature_fraction': 0.6581395073638211, 'bagging_fraction': 0.8806566521810993, 'lambda_l1': 0.776147893854433, 'lambda_l2': 0.4396780129549553}. Best is trial 5 with value: 0.8011688311688312.\n",
      "[I 2025-08-04 22:47:18,424] Trial 14 finished with value: 0.7688311688311689 and parameters: {'learning_rate': 0.09203941816899057, 'num_leaves': 62, 'max_depth': 5, 'min_child_samples': 42, 'feature_fraction': 0.6752266439888761, 'bagging_fraction': 0.8392328869972728, 'lambda_l1': 0.008486505669551114, 'lambda_l2': 0.34619851940031493}. Best is trial 5 with value: 0.8011688311688312.\n"
     ]
    },
    {
     "name": "stdout",
     "output_type": "stream",
     "text": [
      "Training until validation scores don't improve for 30 rounds\n",
      "Early stopping, best iteration is:\n",
      "[4]\tvalid_0's auc: 0.768831\n",
      "Training until validation scores don't improve for 30 rounds\n"
     ]
    },
    {
     "name": "stderr",
     "output_type": "stream",
     "text": [
      "[I 2025-08-04 22:47:18,805] Trial 15 finished with value: 0.7426406926406927 and parameters: {'learning_rate': 0.1500895865865508, 'num_leaves': 69, 'max_depth': 6, 'min_child_samples': 44, 'feature_fraction': 0.7449059199177194, 'bagging_fraction': 0.828436117796959, 'lambda_l1': 0.8295340201927593, 'lambda_l2': 0.37011686243949743}. Best is trial 5 with value: 0.8011688311688312.\n"
     ]
    },
    {
     "name": "stdout",
     "output_type": "stream",
     "text": [
      "Early stopping, best iteration is:\n",
      "[25]\tvalid_0's auc: 0.742641\n",
      "Training until validation scores don't improve for 30 rounds\n"
     ]
    },
    {
     "name": "stderr",
     "output_type": "stream",
     "text": [
      "[I 2025-08-04 22:47:19,038] Trial 16 finished with value: 0.8129004329004329 and parameters: {'learning_rate': 0.07863370489223459, 'num_leaves': 54, 'max_depth': 3, 'min_child_samples': 34, 'feature_fraction': 0.663045828436162, 'bagging_fraction': 0.9982709532895725, 'lambda_l1': 0.8675890407837493, 'lambda_l2': 0.7104435085981835}. Best is trial 16 with value: 0.8129004329004329.\n"
     ]
    },
    {
     "name": "stdout",
     "output_type": "stream",
     "text": [
      "Early stopping, best iteration is:\n",
      "[52]\tvalid_0's auc: 0.8129\n",
      "Training until validation scores don't improve for 30 rounds\n"
     ]
    },
    {
     "name": "stderr",
     "output_type": "stream",
     "text": [
      "[I 2025-08-04 22:47:20,226] Trial 17 finished with value: 0.797056277056277 and parameters: {'learning_rate': 0.07237928877904484, 'num_leaves': 52, 'max_depth': 9, 'min_child_samples': 33, 'feature_fraction': 0.9138608836544376, 'bagging_fraction': 0.9881140870776917, 'lambda_l1': 0.8674578942283933, 'lambda_l2': 0.6429975461195523}. Best is trial 16 with value: 0.8129004329004329.\n"
     ]
    },
    {
     "name": "stdout",
     "output_type": "stream",
     "text": [
      "Did not meet early stopping. Best iteration is:\n",
      "[72]\tvalid_0's auc: 0.797056\n",
      "Training until validation scores don't improve for 30 rounds\n"
     ]
    },
    {
     "name": "stderr",
     "output_type": "stream",
     "text": [
      "[I 2025-08-04 22:47:20,559] Trial 18 finished with value: 0.7980519480519481 and parameters: {'learning_rate': 0.07209910420991639, 'num_leaves': 74, 'max_depth': 4, 'min_child_samples': 34, 'feature_fraction': 0.707298832247278, 'bagging_fraction': 0.9392056451395447, 'lambda_l1': 0.6232949203157637, 'lambda_l2': 0.6504160599263287}. Best is trial 16 with value: 0.8129004329004329.\n"
     ]
    },
    {
     "name": "stdout",
     "output_type": "stream",
     "text": [
      "Early stopping, best iteration is:\n",
      "[50]\tvalid_0's auc: 0.798052\n",
      "Training until validation scores don't improve for 30 rounds\n"
     ]
    },
    {
     "name": "stderr",
     "output_type": "stream",
     "text": [
      "[I 2025-08-04 22:47:20,853] Trial 19 finished with value: 0.8014285714285714 and parameters: {'learning_rate': 0.03447856263439751, 'num_leaves': 41, 'max_depth': 6, 'min_child_samples': 24, 'feature_fraction': 0.6406379778985621, 'bagging_fraction': 0.937330120886269, 'lambda_l1': 0.9191261747938201, 'lambda_l2': 0.6406283464547451}. Best is trial 16 with value: 0.8129004329004329.\n"
     ]
    },
    {
     "name": "stdout",
     "output_type": "stream",
     "text": [
      "Early stopping, best iteration is:\n",
      "[8]\tvalid_0's auc: 0.801429\n",
      "Training until validation scores don't improve for 30 rounds\n"
     ]
    },
    {
     "name": "stderr",
     "output_type": "stream",
     "text": [
      "[I 2025-08-04 22:47:21,568] Trial 20 finished with value: 0.7577922077922078 and parameters: {'learning_rate': 0.03409650846791816, 'num_leaves': 39, 'max_depth': 10, 'min_child_samples': 24, 'feature_fraction': 0.6499879630188026, 'bagging_fraction': 0.6019213446381046, 'lambda_l1': 0.6480025580937943, 'lambda_l2': 0.8670201487175812}. Best is trial 16 with value: 0.8129004329004329.\n"
     ]
    },
    {
     "name": "stdout",
     "output_type": "stream",
     "text": [
      "Early stopping, best iteration is:\n",
      "[42]\tvalid_0's auc: 0.757792\n",
      "Training until validation scores don't improve for 30 rounds\n"
     ]
    },
    {
     "name": "stderr",
     "output_type": "stream",
     "text": [
      "[I 2025-08-04 22:47:21,891] Trial 21 finished with value: 0.7941991341991341 and parameters: {'learning_rate': 0.04206435240409616, 'num_leaves': 51, 'max_depth': 6, 'min_child_samples': 21, 'feature_fraction': 0.6441588917375514, 'bagging_fraction': 0.9426482237233206, 'lambda_l1': 0.9198266560920338, 'lambda_l2': 0.6462991908894677}. Best is trial 16 with value: 0.8129004329004329.\n"
     ]
    },
    {
     "name": "stdout",
     "output_type": "stream",
     "text": [
      "Early stopping, best iteration is:\n",
      "[12]\tvalid_0's auc: 0.794199\n",
      "Training until validation scores don't improve for 30 rounds\n"
     ]
    },
    {
     "name": "stderr",
     "output_type": "stream",
     "text": [
      "[I 2025-08-04 22:47:22,290] Trial 22 finished with value: 0.7750216450216447 and parameters: {'learning_rate': 0.010326812285161125, 'num_leaves': 57, 'max_depth': 4, 'min_child_samples': 27, 'feature_fraction': 0.6917064445578163, 'bagging_fraction': 0.9927018464891177, 'lambda_l1': 0.8836497110116641, 'lambda_l2': 0.6180239517357528}. Best is trial 16 with value: 0.8129004329004329.\n"
     ]
    },
    {
     "name": "stdout",
     "output_type": "stream",
     "text": [
      "Did not meet early stopping. Best iteration is:\n",
      "[100]\tvalid_0's auc: 0.775022\n",
      "Training until validation scores don't improve for 30 rounds\n"
     ]
    },
    {
     "name": "stderr",
     "output_type": "stream",
     "text": [
      "[I 2025-08-04 22:47:22,916] Trial 23 finished with value: 0.7793506493506493 and parameters: {'learning_rate': 0.07827857406979621, 'num_leaves': 20, 'max_depth': 6, 'min_child_samples': 19, 'feature_fraction': 0.7537131953281684, 'bagging_fraction': 0.9192187510941153, 'lambda_l1': 0.9787540667571464, 'lambda_l2': 0.8557246800225844}. Best is trial 16 with value: 0.8129004329004329.\n"
     ]
    },
    {
     "name": "stdout",
     "output_type": "stream",
     "text": [
      "Early stopping, best iteration is:\n",
      "[65]\tvalid_0's auc: 0.779351\n",
      "Training until validation scores don't improve for 30 rounds\n"
     ]
    },
    {
     "name": "stderr",
     "output_type": "stream",
     "text": [
      "[I 2025-08-04 22:47:23,293] Trial 24 finished with value: 0.7822077922077921 and parameters: {'learning_rate': 0.026134303256507736, 'num_leaves': 41, 'max_depth': 4, 'min_child_samples': 45, 'feature_fraction': 0.652801920929895, 'bagging_fraction': 0.9534410160384824, 'lambda_l1': 0.6414615024068053, 'lambda_l2': 0.6989303553804568}. Best is trial 16 with value: 0.8129004329004329.\n"
     ]
    },
    {
     "name": "stdout",
     "output_type": "stream",
     "text": [
      "Did not meet early stopping. Best iteration is:\n",
      "[96]\tvalid_0's auc: 0.782208\n",
      "Training until validation scores don't improve for 30 rounds\n"
     ]
    },
    {
     "name": "stderr",
     "output_type": "stream",
     "text": [
      "[I 2025-08-04 22:47:23,626] Trial 25 finished with value: 0.7891341991341991 and parameters: {'learning_rate': 0.09881886718129543, 'num_leaves': 47, 'max_depth': 5, 'min_child_samples': 35, 'feature_fraction': 0.7287013966703273, 'bagging_fraction': 0.8693943808338407, 'lambda_l1': 0.841756794568837, 'lambda_l2': 0.4469808935458476}. Best is trial 16 with value: 0.8129004329004329.\n"
     ]
    },
    {
     "name": "stdout",
     "output_type": "stream",
     "text": [
      "Early stopping, best iteration is:\n",
      "[29]\tvalid_0's auc: 0.789134\n",
      "Training until validation scores don't improve for 30 rounds\n"
     ]
    },
    {
     "name": "stderr",
     "output_type": "stream",
     "text": [
      "[I 2025-08-04 22:47:24,245] Trial 26 finished with value: 0.763896103896104 and parameters: {'learning_rate': 0.06620554213440533, 'num_leaves': 66, 'max_depth': 8, 'min_child_samples': 30, 'feature_fraction': 0.6329430110284259, 'bagging_fraction': 0.9668977733722826, 'lambda_l1': 0.9191465063318378, 'lambda_l2': 0.5857486366145433}. Best is trial 16 with value: 0.8129004329004329.\n"
     ]
    },
    {
     "name": "stdout",
     "output_type": "stream",
     "text": [
      "Early stopping, best iteration is:\n",
      "[38]\tvalid_0's auc: 0.763896\n",
      "Training until validation scores don't improve for 30 rounds\n"
     ]
    },
    {
     "name": "stderr",
     "output_type": "stream",
     "text": [
      "[I 2025-08-04 22:47:25,017] Trial 27 finished with value: 0.7696969696969697 and parameters: {'learning_rate': 0.08286728829467913, 'num_leaves': 49, 'max_depth': 6, 'min_child_samples': 24, 'feature_fraction': 0.7917505216238592, 'bagging_fraction': 0.9139822362555059, 'lambda_l1': 0.9955614084361054, 'lambda_l2': 0.44090835405598305}. Best is trial 16 with value: 0.8129004329004329.\n"
     ]
    },
    {
     "name": "stdout",
     "output_type": "stream",
     "text": [
      "Did not meet early stopping. Best iteration is:\n",
      "[74]\tvalid_0's auc: 0.769697\n",
      "Training until validation scores don't improve for 30 rounds\n"
     ]
    },
    {
     "name": "stderr",
     "output_type": "stream",
     "text": [
      "[I 2025-08-04 22:47:25,300] Trial 28 finished with value: 0.7788744588744588 and parameters: {'learning_rate': 0.04281397653048692, 'num_leaves': 56, 'max_depth': 3, 'min_child_samples': 17, 'feature_fraction': 0.6963594170824088, 'bagging_fraction': 0.8156514352396294, 'lambda_l1': 0.5545180595342996, 'lambda_l2': 0.811462964964521}. Best is trial 16 with value: 0.8129004329004329.\n"
     ]
    },
    {
     "name": "stdout",
     "output_type": "stream",
     "text": [
      "Did not meet early stopping. Best iteration is:\n",
      "[97]\tvalid_0's auc: 0.778874\n",
      "Training until validation scores don't improve for 30 rounds\n"
     ]
    },
    {
     "name": "stderr",
     "output_type": "stream",
     "text": [
      "[I 2025-08-04 22:47:25,824] Trial 29 finished with value: 0.7816017316017316 and parameters: {'learning_rate': 0.05821851786939333, 'num_leaves': 33, 'max_depth': 7, 'min_child_samples': 48, 'feature_fraction': 0.7668768421933563, 'bagging_fraction': 0.7974854850315756, 'lambda_l1': 0.7835474546501638, 'lambda_l2': 0.9788537055423239}. Best is trial 16 with value: 0.8129004329004329.\n"
     ]
    },
    {
     "name": "stdout",
     "output_type": "stream",
     "text": [
      "Early stopping, best iteration is:\n",
      "[39]\tvalid_0's auc: 0.781602\n",
      "\n",
      "📍 Training for label: NR-PPAR-gamma\n"
     ]
    },
    {
     "name": "stderr",
     "output_type": "stream",
     "text": [
      "[I 2025-08-04 22:47:29,560] A new study created in memory with name: no-name-fd79a8c4-de48-4b98-a4ff-130c7e419d3a\n"
     ]
    },
    {
     "name": "stdout",
     "output_type": "stream",
     "text": [
      "Training until validation scores don't improve for 30 rounds\n",
      "Early stopping, best iteration is:\n",
      "[1]\tvalid_0's auc: 0.617202\n"
     ]
    },
    {
     "name": "stderr",
     "output_type": "stream",
     "text": [
      "[I 2025-08-04 22:47:29,972] Trial 0 finished with value: 0.6172019505633092 and parameters: {'learning_rate': 0.1825704956297169, 'num_leaves': 77, 'max_depth': 10, 'min_child_samples': 37, 'feature_fraction': 0.650918091507396, 'bagging_fraction': 0.9682456360805989, 'lambda_l1': 0.2390444878141621, 'lambda_l2': 0.9418638760041951}. Best is trial 0 with value: 0.6172019505633092.\n",
      "[I 2025-08-04 22:47:30,211] Trial 1 finished with value: 0.7447032117033798 and parameters: {'learning_rate': 0.0294875129745078, 'num_leaves': 49, 'max_depth': 7, 'min_child_samples': 50, 'feature_fraction': 0.8328299135666175, 'bagging_fraction': 0.6442349530938035, 'lambda_l1': 0.18973976697964678, 'lambda_l2': 0.6067300046150463}. Best is trial 1 with value: 0.7447032117033798.\n"
     ]
    },
    {
     "name": "stdout",
     "output_type": "stream",
     "text": [
      "Training until validation scores don't improve for 30 rounds\n",
      "Early stopping, best iteration is:\n",
      "[2]\tvalid_0's auc: 0.744703\n",
      "Training until validation scores don't improve for 30 rounds\n"
     ]
    },
    {
     "name": "stderr",
     "output_type": "stream",
     "text": [
      "[I 2025-08-04 22:47:30,540] Trial 2 finished with value: 0.7164536741214057 and parameters: {'learning_rate': 0.041882750486718634, 'num_leaves': 26, 'max_depth': 6, 'min_child_samples': 31, 'feature_fraction': 0.7868339201744777, 'bagging_fraction': 0.8517827973289984, 'lambda_l1': 0.9451954530040724, 'lambda_l2': 0.39149380938756684}. Best is trial 1 with value: 0.7447032117033798.\n"
     ]
    },
    {
     "name": "stdout",
     "output_type": "stream",
     "text": [
      "Early stopping, best iteration is:\n",
      "[30]\tvalid_0's auc: 0.716454\n",
      "Training until validation scores don't improve for 30 rounds\n"
     ]
    },
    {
     "name": "stderr",
     "output_type": "stream",
     "text": [
      "[I 2025-08-04 22:47:30,825] Trial 3 finished with value: 0.6539431646208173 and parameters: {'learning_rate': 0.1587864655041004, 'num_leaves': 27, 'max_depth': 11, 'min_child_samples': 34, 'feature_fraction': 0.7082827029842437, 'bagging_fraction': 0.736391340705874, 'lambda_l1': 0.6706532476356133, 'lambda_l2': 0.9525195404388261}. Best is trial 1 with value: 0.7447032117033798.\n"
     ]
    },
    {
     "name": "stdout",
     "output_type": "stream",
     "text": [
      "Early stopping, best iteration is:\n",
      "[4]\tvalid_0's auc: 0.653943\n",
      "Training until validation scores don't improve for 30 rounds\n"
     ]
    },
    {
     "name": "stderr",
     "output_type": "stream",
     "text": [
      "[I 2025-08-04 22:47:31,194] Trial 4 finished with value: 0.6921557087607196 and parameters: {'learning_rate': 0.17397086043116256, 'num_leaves': 46, 'max_depth': 10, 'min_child_samples': 39, 'feature_fraction': 0.974988159308878, 'bagging_fraction': 0.9836781577364079, 'lambda_l1': 0.7841591978347977, 'lambda_l2': 0.18098305221117905}. Best is trial 1 with value: 0.7447032117033798.\n"
     ]
    },
    {
     "name": "stdout",
     "output_type": "stream",
     "text": [
      "Early stopping, best iteration is:\n",
      "[1]\tvalid_0's auc: 0.692156\n",
      "Training until validation scores don't improve for 30 rounds\n"
     ]
    },
    {
     "name": "stderr",
     "output_type": "stream",
     "text": [
      "[I 2025-08-04 22:47:31,675] Trial 5 finished with value: 0.6644106272069952 and parameters: {'learning_rate': 0.10323434543229497, 'num_leaves': 38, 'max_depth': 11, 'min_child_samples': 29, 'feature_fraction': 0.7157087055347121, 'bagging_fraction': 0.6080302215727824, 'lambda_l1': 0.8455804252322184, 'lambda_l2': 0.06062626037316998}. Best is trial 1 with value: 0.7447032117033798.\n"
     ]
    },
    {
     "name": "stdout",
     "output_type": "stream",
     "text": [
      "Early stopping, best iteration is:\n",
      "[29]\tvalid_0's auc: 0.664411\n",
      "Training until validation scores don't improve for 30 rounds\n"
     ]
    },
    {
     "name": "stderr",
     "output_type": "stream",
     "text": [
      "[I 2025-08-04 22:47:32,041] Trial 6 finished with value: 0.7083823776694131 and parameters: {'learning_rate': 0.04057386494303738, 'num_leaves': 33, 'max_depth': 9, 'min_child_samples': 34, 'feature_fraction': 0.8282814074230318, 'bagging_fraction': 0.9139060282628308, 'lambda_l1': 0.04412185466203966, 'lambda_l2': 0.24472875892320933}. Best is trial 1 with value: 0.7447032117033798.\n"
     ]
    },
    {
     "name": "stdout",
     "output_type": "stream",
     "text": [
      "Early stopping, best iteration is:\n",
      "[18]\tvalid_0's auc: 0.708382\n",
      "Training until validation scores don't improve for 30 rounds\n"
     ]
    },
    {
     "name": "stderr",
     "output_type": "stream",
     "text": [
      "[I 2025-08-04 22:47:32,487] Trial 7 finished with value: 0.6915671767277619 and parameters: {'learning_rate': 0.19048502626902894, 'num_leaves': 75, 'max_depth': 9, 'min_child_samples': 12, 'feature_fraction': 0.9845734899345517, 'bagging_fraction': 0.7577953532904244, 'lambda_l1': 0.4639300937883535, 'lambda_l2': 0.3665729660289928}. Best is trial 1 with value: 0.7447032117033798.\n"
     ]
    },
    {
     "name": "stdout",
     "output_type": "stream",
     "text": [
      "Early stopping, best iteration is:\n",
      "[1]\tvalid_0's auc: 0.691567\n",
      "Training until validation scores don't improve for 30 rounds\n"
     ]
    },
    {
     "name": "stderr",
     "output_type": "stream",
     "text": [
      "[I 2025-08-04 22:47:32,849] Trial 8 finished with value: 0.7068690095846645 and parameters: {'learning_rate': 0.1709810543611208, 'num_leaves': 33, 'max_depth': 12, 'min_child_samples': 19, 'feature_fraction': 0.9738488539767793, 'bagging_fraction': 0.9716667335769822, 'lambda_l1': 0.7108687744476961, 'lambda_l2': 0.6193310766119562}. Best is trial 1 with value: 0.7447032117033798.\n"
     ]
    },
    {
     "name": "stdout",
     "output_type": "stream",
     "text": [
      "Early stopping, best iteration is:\n",
      "[1]\tvalid_0's auc: 0.706869\n",
      "Training until validation scores don't improve for 30 rounds\n",
      "Early stopping, best iteration is:\n",
      "[28]\tvalid_0's auc: 0.669918\n"
     ]
    },
    {
     "name": "stderr",
     "output_type": "stream",
     "text": [
      "[I 2025-08-04 22:47:33,025] Trial 9 finished with value: 0.6699176055153859 and parameters: {'learning_rate': 0.10038799725258257, 'num_leaves': 31, 'max_depth': 4, 'min_child_samples': 38, 'feature_fraction': 0.6255647592588384, 'bagging_fraction': 0.7969988043473613, 'lambda_l1': 0.4543875445251717, 'lambda_l2': 0.09555351662747269}. Best is trial 1 with value: 0.7447032117033798.\n",
      "[I 2025-08-04 22:47:33,281] Trial 10 finished with value: 0.7465528838069615 and parameters: {'learning_rate': 0.013449491852832528, 'num_leaves': 63, 'max_depth': 6, 'min_child_samples': 50, 'feature_fraction': 0.8638405518318497, 'bagging_fraction': 0.6440588605580018, 'lambda_l1': 0.02698361035786212, 'lambda_l2': 0.6537290228228222}. Best is trial 10 with value: 0.7465528838069615.\n"
     ]
    },
    {
     "name": "stdout",
     "output_type": "stream",
     "text": [
      "Training until validation scores don't improve for 30 rounds\n",
      "Early stopping, best iteration is:\n",
      "[15]\tvalid_0's auc: 0.746553\n",
      "Training until validation scores don't improve for 30 rounds\n",
      "Early stopping, best iteration is:\n",
      "[27]\tvalid_0's auc: 0.742601\n"
     ]
    },
    {
     "name": "stderr",
     "output_type": "stream",
     "text": [
      "[I 2025-08-04 22:47:33,589] Trial 11 finished with value: 0.7426013115856734 and parameters: {'learning_rate': 0.010082996247216362, 'num_leaves': 61, 'max_depth': 6, 'min_child_samples': 50, 'feature_fraction': 0.8717030872499577, 'bagging_fraction': 0.6171645311777088, 'lambda_l1': 0.011606110903036093, 'lambda_l2': 0.6691948680437606}. Best is trial 10 with value: 0.7465528838069615.\n"
     ]
    },
    {
     "name": "stdout",
     "output_type": "stream",
     "text": [
      "Training until validation scores don't improve for 30 rounds\n",
      "Early stopping, best iteration is:\n",
      "[5]\tvalid_0's auc: 0.735581\n"
     ]
    },
    {
     "name": "stderr",
     "output_type": "stream",
     "text": [
      "[I 2025-08-04 22:47:33,880] Trial 12 finished with value: 0.735580965192534 and parameters: {'learning_rate': 0.060600547641844894, 'num_leaves': 60, 'max_depth': 7, 'min_child_samples': 50, 'feature_fraction': 0.8821803659772967, 'bagging_fraction': 0.6819622344768346, 'lambda_l1': 0.21692622028339387, 'lambda_l2': 0.7325983482813669}. Best is trial 10 with value: 0.7465528838069615.\n",
      "[I 2025-08-04 22:47:34,043] Trial 13 finished with value: 0.7484445939128972 and parameters: {'learning_rate': 0.025344533424961777, 'num_leaves': 56, 'max_depth': 3, 'min_child_samples': 45, 'feature_fraction': 0.8943972732735179, 'bagging_fraction': 0.6818498438337146, 'lambda_l1': 0.2241183579876414, 'lambda_l2': 0.5274414458129112}. Best is trial 13 with value: 0.7484445939128972.\n"
     ]
    },
    {
     "name": "stdout",
     "output_type": "stream",
     "text": [
      "Training until validation scores don't improve for 30 rounds\n",
      "Early stopping, best iteration is:\n",
      "[15]\tvalid_0's auc: 0.748445\n",
      "Training until validation scores don't improve for 30 rounds\n"
     ]
    },
    {
     "name": "stderr",
     "output_type": "stream",
     "text": [
      "[I 2025-08-04 22:47:34,206] Trial 14 finished with value: 0.7123759878930552 and parameters: {'learning_rate': 0.07349966666504794, 'num_leaves': 63, 'max_depth': 3, 'min_child_samples': 44, 'feature_fraction': 0.9200920445802022, 'bagging_fraction': 0.6900269265303903, 'lambda_l1': 0.353986675002151, 'lambda_l2': 0.7941180587112076}. Best is trial 13 with value: 0.7484445939128972.\n"
     ]
    },
    {
     "name": "stdout",
     "output_type": "stream",
     "text": [
      "Early stopping, best iteration is:\n",
      "[5]\tvalid_0's auc: 0.712376\n",
      "Training until validation scores don't improve for 30 rounds\n"
     ]
    },
    {
     "name": "stderr",
     "output_type": "stream",
     "text": [
      "[I 2025-08-04 22:47:34,444] Trial 15 finished with value: 0.746763073818732 and parameters: {'learning_rate': 0.01158133524357867, 'num_leaves': 67, 'max_depth': 4, 'min_child_samples': 44, 'feature_fraction': 0.7763617350874245, 'bagging_fraction': 0.6868912565520433, 'lambda_l1': 0.10859321889711293, 'lambda_l2': 0.48643136465928516}. Best is trial 13 with value: 0.7484445939128972.\n",
      "[I 2025-08-04 22:47:34,612] Trial 16 finished with value: 0.6619303850681015 and parameters: {'learning_rate': 0.13247057069214688, 'num_leaves': 70, 'max_depth': 4, 'min_child_samples': 44, 'feature_fraction': 0.7592069438692439, 'bagging_fraction': 0.7190578440826897, 'lambda_l1': 0.3325120103252841, 'lambda_l2': 0.4681780844807467}. Best is trial 13 with value: 0.7484445939128972.\n"
     ]
    },
    {
     "name": "stdout",
     "output_type": "stream",
     "text": [
      "Early stopping, best iteration is:\n",
      "[28]\tvalid_0's auc: 0.746763\n",
      "Training until validation scores don't improve for 30 rounds\n",
      "Early stopping, best iteration is:\n",
      "[3]\tvalid_0's auc: 0.66193\n"
     ]
    },
    {
     "name": "stderr",
     "output_type": "stream",
     "text": [
      "[I 2025-08-04 22:47:34,793] Trial 17 finished with value: 0.6900958466453674 and parameters: {'learning_rate': 0.0730001966842499, 'num_leaves': 54, 'max_depth': 3, 'min_child_samples': 25, 'feature_fraction': 0.7478051732336004, 'bagging_fraction': 0.7838762922922067, 'lambda_l1': 0.11666101941004056, 'lambda_l2': 0.5395859782611665}. Best is trial 13 with value: 0.7484445939128972.\n"
     ]
    },
    {
     "name": "stdout",
     "output_type": "stream",
     "text": [
      "Training until validation scores don't improve for 30 rounds\n",
      "Early stopping, best iteration is:\n",
      "[36]\tvalid_0's auc: 0.690096\n",
      "Training until validation scores don't improve for 30 rounds\n"
     ]
    },
    {
     "name": "stderr",
     "output_type": "stream",
     "text": [
      "[I 2025-08-04 22:47:35,019] Trial 18 finished with value: 0.7689171010593576 and parameters: {'learning_rate': 0.05420526127330001, 'num_leaves': 69, 'max_depth': 5, 'min_child_samples': 43, 'feature_fraction': 0.9358920256425942, 'bagging_fraction': 0.8454240809460052, 'lambda_l1': 0.5734645734917219, 'lambda_l2': 0.2819429186300993}. Best is trial 18 with value: 0.7689171010593576.\n"
     ]
    },
    {
     "name": "stdout",
     "output_type": "stream",
     "text": [
      "Early stopping, best iteration is:\n",
      "[4]\tvalid_0's auc: 0.768917\n",
      "Training until validation scores don't improve for 30 rounds\n"
     ]
    },
    {
     "name": "stderr",
     "output_type": "stream",
     "text": [
      "[I 2025-08-04 22:47:35,229] Trial 19 finished with value: 0.7441146796704221 and parameters: {'learning_rate': 0.059936355792271745, 'num_leaves': 55, 'max_depth': 5, 'min_child_samples': 42, 'feature_fraction': 0.9034548830345628, 'bagging_fraction': 0.8530531828842035, 'lambda_l1': 0.5795632624609895, 'lambda_l2': 0.2668686529370205}. Best is trial 18 with value: 0.7689171010593576.\n"
     ]
    },
    {
     "name": "stdout",
     "output_type": "stream",
     "text": [
      "Early stopping, best iteration is:\n",
      "[6]\tvalid_0's auc: 0.744115\n",
      "Training until validation scores don't improve for 30 rounds\n"
     ]
    },
    {
     "name": "stderr",
     "output_type": "stream",
     "text": [
      "[I 2025-08-04 22:47:35,439] Trial 20 finished with value: 0.7298217588700185 and parameters: {'learning_rate': 0.08880582690287452, 'num_leaves': 43, 'max_depth': 5, 'min_child_samples': 25, 'feature_fraction': 0.9345071423698817, 'bagging_fraction': 0.8526446845498531, 'lambda_l1': 0.5545918791752675, 'lambda_l2': 0.37936956930199245}. Best is trial 18 with value: 0.7689171010593576.\n"
     ]
    },
    {
     "name": "stdout",
     "output_type": "stream",
     "text": [
      "Early stopping, best iteration is:\n",
      "[5]\tvalid_0's auc: 0.729822\n",
      "Training until validation scores don't improve for 30 rounds\n",
      "Early stopping, best iteration is:\n",
      "[4]\tvalid_0's auc: 0.760299\n"
     ]
    },
    {
     "name": "stderr",
     "output_type": "stream",
     "text": [
      "[I 2025-08-04 22:47:35,624] Trial 21 finished with value: 0.7602993105767613 and parameters: {'learning_rate': 0.03127566021386334, 'num_leaves': 69, 'max_depth': 4, 'min_child_samples': 46, 'feature_fraction': 0.940654564191842, 'bagging_fraction': 0.6810133359875717, 'lambda_l1': 0.3054668714973342, 'lambda_l2': 0.4649033770479054}. Best is trial 18 with value: 0.7689171010593576.\n",
      "[I 2025-08-04 22:47:35,786] Trial 22 finished with value: 0.7702623171346897 and parameters: {'learning_rate': 0.03455377895143885, 'num_leaves': 72, 'max_depth': 3, 'min_child_samples': 46, 'feature_fraction': 0.9509109335548963, 'bagging_fraction': 0.9088638149321052, 'lambda_l1': 0.34909130982417275, 'lambda_l2': 0.29758371053413135}. Best is trial 22 with value: 0.7702623171346897.\n"
     ]
    },
    {
     "name": "stdout",
     "output_type": "stream",
     "text": [
      "Training until validation scores don't improve for 30 rounds\n",
      "Early stopping, best iteration is:\n",
      "[9]\tvalid_0's auc: 0.770262\n",
      "Training until validation scores don't improve for 30 rounds\n"
     ]
    },
    {
     "name": "stderr",
     "output_type": "stream",
     "text": [
      "[I 2025-08-04 22:47:36,018] Trial 23 finished with value: 0.7648814528333614 and parameters: {'learning_rate': 0.050285468001911096, 'num_leaves': 80, 'max_depth': 5, 'min_child_samples': 41, 'feature_fraction': 0.9437810285621426, 'bagging_fraction': 0.9147396005787296, 'lambda_l1': 0.36118964019593475, 'lambda_l2': 0.3002952870250736}. Best is trial 22 with value: 0.7702623171346897.\n"
     ]
    },
    {
     "name": "stdout",
     "output_type": "stream",
     "text": [
      "Early stopping, best iteration is:\n",
      "[3]\tvalid_0's auc: 0.764881\n",
      "Training until validation scores don't improve for 30 rounds\n"
     ]
    },
    {
     "name": "stderr",
     "output_type": "stream",
     "text": [
      "[I 2025-08-04 22:47:36,240] Trial 24 finished with value: 0.7638725407768623 and parameters: {'learning_rate': 0.05250058546059203, 'num_leaves': 80, 'max_depth': 5, 'min_child_samples': 40, 'feature_fraction': 0.9518629348859919, 'bagging_fraction': 0.9155863634495275, 'lambda_l1': 0.40654613058007244, 'lambda_l2': 0.16998260429295975}. Best is trial 22 with value: 0.7702623171346897.\n"
     ]
    },
    {
     "name": "stdout",
     "output_type": "stream",
     "text": [
      "Early stopping, best iteration is:\n",
      "[3]\tvalid_0's auc: 0.763873\n",
      "Training until validation scores don't improve for 30 rounds\n"
     ]
    },
    {
     "name": "stderr",
     "output_type": "stream",
     "text": [
      "[I 2025-08-04 22:47:36,532] Trial 25 finished with value: 0.6881200605347233 and parameters: {'learning_rate': 0.12481287729653455, 'num_leaves': 74, 'max_depth': 8, 'min_child_samples': 47, 'feature_fraction': 0.9962937881189506, 'bagging_fraction': 0.8982283738302231, 'lambda_l1': 0.5586064895067367, 'lambda_l2': 0.299267695795163}. Best is trial 22 with value: 0.7702623171346897.\n"
     ]
    },
    {
     "name": "stdout",
     "output_type": "stream",
     "text": [
      "Early stopping, best iteration is:\n",
      "[1]\tvalid_0's auc: 0.68812\n",
      "Training until validation scores don't improve for 30 rounds\n"
     ]
    },
    {
     "name": "stderr",
     "output_type": "stream",
     "text": [
      "[I 2025-08-04 22:47:36,862] Trial 26 finished with value: 0.6920716327560114 and parameters: {'learning_rate': 0.08042112155876388, 'num_leaves': 72, 'max_depth': 5, 'min_child_samples': 35, 'feature_fraction': 0.839952295893102, 'bagging_fraction': 0.8854013281531732, 'lambda_l1': 0.630190991504066, 'lambda_l2': 0.16478260465175262}. Best is trial 22 with value: 0.7702623171346897.\n"
     ]
    },
    {
     "name": "stdout",
     "output_type": "stream",
     "text": [
      "Early stopping, best iteration is:\n",
      "[18]\tvalid_0's auc: 0.692072\n",
      "Training until validation scores don't improve for 30 rounds\n",
      "Early stopping, best iteration is:\n",
      "[9]\tvalid_0's auc: 0.757104\n"
     ]
    },
    {
     "name": "stderr",
     "output_type": "stream",
     "text": [
      "[I 2025-08-04 22:47:37,043] Trial 27 finished with value: 0.7571044223978476 and parameters: {'learning_rate': 0.0480058912333679, 'num_leaves': 77, 'max_depth': 3, 'min_child_samples': 41, 'feature_fraction': 0.9581606043699903, 'bagging_fraction': 0.831322168502661, 'lambda_l1': 0.39629748707687606, 'lambda_l2': 0.31877753610093507}. Best is trial 22 with value: 0.7702623171346897.\n",
      "[I 2025-08-04 22:47:37,305] Trial 28 finished with value: 0.6982932571044224 and parameters: {'learning_rate': 0.12257269899913195, 'num_leaves': 66, 'max_depth': 6, 'min_child_samples': 31, 'feature_fraction': 0.9160771800390101, 'bagging_fraction': 0.9415765666932524, 'lambda_l1': 0.47813337789676114, 'lambda_l2': 0.2387484457927736}. Best is trial 22 with value: 0.7702623171346897.\n"
     ]
    },
    {
     "name": "stdout",
     "output_type": "stream",
     "text": [
      "Training until validation scores don't improve for 30 rounds\n",
      "Early stopping, best iteration is:\n",
      "[1]\tvalid_0's auc: 0.698293\n"
     ]
    },
    {
     "name": "stderr",
     "output_type": "stream",
     "text": [
      "[I 2025-08-04 22:47:37,511] Trial 29 finished with value: 0.7582814864637633 and parameters: {'learning_rate': 0.06984182233575567, 'num_leaves': 80, 'max_depth': 4, 'min_child_samples': 37, 'feature_fraction': 0.8590293128055284, 'bagging_fraction': 0.9456813579238573, 'lambda_l1': 0.28164442459857897, 'lambda_l2': 0.10477725974628674}. Best is trial 22 with value: 0.7702623171346897.\n"
     ]
    },
    {
     "name": "stdout",
     "output_type": "stream",
     "text": [
      "Training until validation scores don't improve for 30 rounds\n",
      "Early stopping, best iteration is:\n",
      "[17]\tvalid_0's auc: 0.758281\n",
      "\n",
      "📍 Training for label: SR-ARE\n"
     ]
    },
    {
     "name": "stderr",
     "output_type": "stream",
     "text": [
      "[I 2025-08-04 22:47:41,380] A new study created in memory with name: no-name-56969fe6-2831-4971-b72f-e212565567bc\n"
     ]
    },
    {
     "name": "stdout",
     "output_type": "stream",
     "text": [
      "Training until validation scores don't improve for 30 rounds\n"
     ]
    },
    {
     "name": "stderr",
     "output_type": "stream",
     "text": [
      "[I 2025-08-04 22:47:41,968] Trial 0 finished with value: 0.8493016577470305 and parameters: {'learning_rate': 0.028799997009763996, 'num_leaves': 66, 'max_depth': 5, 'min_child_samples': 40, 'feature_fraction': 0.7603137923487876, 'bagging_fraction': 0.8053679834511434, 'lambda_l1': 0.49787700382750577, 'lambda_l2': 0.5544192568169053}. Best is trial 0 with value: 0.8493016577470305.\n"
     ]
    },
    {
     "name": "stdout",
     "output_type": "stream",
     "text": [
      "Did not meet early stopping. Best iteration is:\n",
      "[97]\tvalid_0's auc: 0.849302\n",
      "Training until validation scores don't improve for 30 rounds\n"
     ]
    },
    {
     "name": "stderr",
     "output_type": "stream",
     "text": [
      "[I 2025-08-04 22:47:42,445] Trial 1 finished with value: 0.8672714615150328 and parameters: {'learning_rate': 0.09195532661826678, 'num_leaves': 20, 'max_depth': 8, 'min_child_samples': 30, 'feature_fraction': 0.6391904910967209, 'bagging_fraction': 0.7242071850709654, 'lambda_l1': 0.08311789357194332, 'lambda_l2': 0.16212844527582926}. Best is trial 1 with value: 0.8672714615150328.\n"
     ]
    },
    {
     "name": "stdout",
     "output_type": "stream",
     "text": [
      "Did not meet early stopping. Best iteration is:\n",
      "[81]\tvalid_0's auc: 0.867271\n",
      "Training until validation scores don't improve for 30 rounds\n"
     ]
    },
    {
     "name": "stderr",
     "output_type": "stream",
     "text": [
      "[I 2025-08-04 22:47:43,803] Trial 2 finished with value: 0.8806074054736112 and parameters: {'learning_rate': 0.12453291437555962, 'num_leaves': 51, 'max_depth': 11, 'min_child_samples': 19, 'feature_fraction': 0.970655377466233, 'bagging_fraction': 0.7241375500520102, 'lambda_l1': 0.46536808220797077, 'lambda_l2': 0.5827370303186766}. Best is trial 2 with value: 0.8806074054736112.\n"
     ]
    },
    {
     "name": "stdout",
     "output_type": "stream",
     "text": [
      "Did not meet early stopping. Best iteration is:\n",
      "[96]\tvalid_0's auc: 0.880607\n",
      "Training until validation scores don't improve for 30 rounds\n"
     ]
    },
    {
     "name": "stderr",
     "output_type": "stream",
     "text": [
      "[I 2025-08-04 22:47:44,254] Trial 3 finished with value: 0.8551538093373363 and parameters: {'learning_rate': 0.05446868072537999, 'num_leaves': 28, 'max_depth': 5, 'min_child_samples': 16, 'feature_fraction': 0.9810511407213706, 'bagging_fraction': 0.6621698875686289, 'lambda_l1': 0.5769004524237744, 'lambda_l2': 0.9524622532985301}. Best is trial 2 with value: 0.8806074054736112.\n"
     ]
    },
    {
     "name": "stdout",
     "output_type": "stream",
     "text": [
      "Did not meet early stopping. Best iteration is:\n",
      "[100]\tvalid_0's auc: 0.855154\n",
      "Training until validation scores don't improve for 30 rounds\n"
     ]
    },
    {
     "name": "stderr",
     "output_type": "stream",
     "text": [
      "[I 2025-08-04 22:47:44,533] Trial 4 finished with value: 0.8636165861723883 and parameters: {'learning_rate': 0.08709274724417695, 'num_leaves': 31, 'max_depth': 4, 'min_child_samples': 20, 'feature_fraction': 0.7699130618559218, 'bagging_fraction': 0.6103134905634724, 'lambda_l1': 0.7493167817615254, 'lambda_l2': 0.5010117170541375}. Best is trial 2 with value: 0.8806074054736112.\n"
     ]
    },
    {
     "name": "stdout",
     "output_type": "stream",
     "text": [
      "Did not meet early stopping. Best iteration is:\n",
      "[100]\tvalid_0's auc: 0.863617\n",
      "Training until validation scores don't improve for 30 rounds\n"
     ]
    },
    {
     "name": "stderr",
     "output_type": "stream",
     "text": [
      "[I 2025-08-04 22:47:44,995] Trial 5 finished with value: 0.8459296001392334 and parameters: {'learning_rate': 0.020906263975722688, 'num_leaves': 24, 'max_depth': 6, 'min_child_samples': 50, 'feature_fraction': 0.7039640098757083, 'bagging_fraction': 0.9305807637544321, 'lambda_l1': 0.47381220991304773, 'lambda_l2': 0.6073246917209875}. Best is trial 2 with value: 0.8806074054736112.\n"
     ]
    },
    {
     "name": "stdout",
     "output_type": "stream",
     "text": [
      "Did not meet early stopping. Best iteration is:\n",
      "[99]\tvalid_0's auc: 0.84593\n",
      "Training until validation scores don't improve for 30 rounds\n",
      "Did not meet early stopping. Best iteration is:\n",
      "[100]\tvalid_0's auc: 0.82772\n"
     ]
    },
    {
     "name": "stderr",
     "output_type": "stream",
     "text": [
      "[I 2025-08-04 22:47:45,179] Trial 6 finished with value: 0.8277204890571292 and parameters: {'learning_rate': 0.042405678707452765, 'num_leaves': 22, 'max_depth': 3, 'min_child_samples': 40, 'feature_fraction': 0.7395452344333491, 'bagging_fraction': 0.9254596127091299, 'lambda_l1': 0.33264659458037205, 'lambda_l2': 0.11471158775845935}. Best is trial 2 with value: 0.8806074054736112.\n"
     ]
    },
    {
     "name": "stdout",
     "output_type": "stream",
     "text": [
      "Training until validation scores don't improve for 30 rounds\n"
     ]
    },
    {
     "name": "stderr",
     "output_type": "stream",
     "text": [
      "[I 2025-08-04 22:47:45,492] Trial 7 finished with value: 0.8646934690858461 and parameters: {'learning_rate': 0.09204831408857984, 'num_leaves': 77, 'max_depth': 5, 'min_child_samples': 41, 'feature_fraction': 0.6231946459957913, 'bagging_fraction': 0.693505295462683, 'lambda_l1': 0.4263801649521123, 'lambda_l2': 0.6573275503508019}. Best is trial 2 with value: 0.8806074054736112.\n"
     ]
    },
    {
     "name": "stdout",
     "output_type": "stream",
     "text": [
      "Did not meet early stopping. Best iteration is:\n",
      "[87]\tvalid_0's auc: 0.864693\n",
      "Training until validation scores don't improve for 30 rounds\n"
     ]
    },
    {
     "name": "stderr",
     "output_type": "stream",
     "text": [
      "[I 2025-08-04 22:47:46,188] Trial 8 finished with value: 0.8915720315015446 and parameters: {'learning_rate': 0.16675419682678752, 'num_leaves': 58, 'max_depth': 8, 'min_child_samples': 29, 'feature_fraction': 0.6266536186233701, 'bagging_fraction': 0.7217913329283795, 'lambda_l1': 0.2963222550108553, 'lambda_l2': 0.3699675688415298}. Best is trial 8 with value: 0.8915720315015446.\n"
     ]
    },
    {
     "name": "stdout",
     "output_type": "stream",
     "text": [
      "Did not meet early stopping. Best iteration is:\n",
      "[82]\tvalid_0's auc: 0.891572\n",
      "Training until validation scores don't improve for 30 rounds\n"
     ]
    },
    {
     "name": "stderr",
     "output_type": "stream",
     "text": [
      "[I 2025-08-04 22:47:46,817] Trial 9 finished with value: 0.874777009093678 and parameters: {'learning_rate': 0.092193929768194, 'num_leaves': 33, 'max_depth': 10, 'min_child_samples': 36, 'feature_fraction': 0.6225996061135142, 'bagging_fraction': 0.7791084451818104, 'lambda_l1': 0.9470854909173476, 'lambda_l2': 0.49563590783735423}. Best is trial 8 with value: 0.8915720315015446.\n"
     ]
    },
    {
     "name": "stdout",
     "output_type": "stream",
     "text": [
      "Did not meet early stopping. Best iteration is:\n",
      "[97]\tvalid_0's auc: 0.874777\n",
      "Training until validation scores don't improve for 30 rounds\n"
     ]
    },
    {
     "name": "stderr",
     "output_type": "stream",
     "text": [
      "[I 2025-08-04 22:47:47,746] Trial 10 finished with value: 0.8592437888874386 and parameters: {'learning_rate': 0.19650884745153968, 'num_leaves': 51, 'max_depth': 8, 'min_child_samples': 27, 'feature_fraction': 0.8613284266626556, 'bagging_fraction': 0.8615586492593831, 'lambda_l1': 0.024238470748988994, 'lambda_l2': 0.30322115549698}. Best is trial 8 with value: 0.8915720315015446.\n"
     ]
    },
    {
     "name": "stdout",
     "output_type": "stream",
     "text": [
      "Early stopping, best iteration is:\n",
      "[69]\tvalid_0's auc: 0.859244\n",
      "Training until validation scores don't improve for 30 rounds\n"
     ]
    },
    {
     "name": "stderr",
     "output_type": "stream",
     "text": [
      "[I 2025-08-04 22:47:49,317] Trial 11 finished with value: 0.8760388112953053 and parameters: {'learning_rate': 0.15873867454217788, 'num_leaves': 51, 'max_depth': 12, 'min_child_samples': 10, 'feature_fraction': 0.8778519919532336, 'bagging_fraction': 0.7623710975455298, 'lambda_l1': 0.21205387143520216, 'lambda_l2': 0.81369365851762}. Best is trial 8 with value: 0.8915720315015446.\n"
     ]
    },
    {
     "name": "stdout",
     "output_type": "stream",
     "text": [
      "Did not meet early stopping. Best iteration is:\n",
      "[100]\tvalid_0's auc: 0.876039\n",
      "Training until validation scores don't improve for 30 rounds\n"
     ]
    },
    {
     "name": "stderr",
     "output_type": "stream",
     "text": [
      "[I 2025-08-04 22:47:50,591] Trial 12 finished with value: 0.8746247226210676 and parameters: {'learning_rate': 0.14410512993982608, 'num_leaves': 62, 'max_depth': 10, 'min_child_samples': 23, 'feature_fraction': 0.9983151374778567, 'bagging_fraction': 0.6396927981148534, 'lambda_l1': 0.2883572501353299, 'lambda_l2': 0.338092056980211}. Best is trial 8 with value: 0.8915720315015446.\n"
     ]
    },
    {
     "name": "stdout",
     "output_type": "stream",
     "text": [
      "Did not meet early stopping. Best iteration is:\n",
      "[87]\tvalid_0's auc: 0.874625\n",
      "Training until validation scores don't improve for 30 rounds\n"
     ]
    },
    {
     "name": "stderr",
     "output_type": "stream",
     "text": [
      "[I 2025-08-04 22:47:51,829] Trial 13 finished with value: 0.8687073053996432 and parameters: {'learning_rate': 0.13232452475532425, 'num_leaves': 42, 'max_depth': 12, 'min_child_samples': 15, 'feature_fraction': 0.9041458800712893, 'bagging_fraction': 0.7270852846010715, 'lambda_l1': 0.6154314133552562, 'lambda_l2': 0.34190626363907084}. Best is trial 8 with value: 0.8915720315015446.\n"
     ]
    },
    {
     "name": "stdout",
     "output_type": "stream",
     "text": [
      "Did not meet early stopping. Best iteration is:\n",
      "[97]\tvalid_0's auc: 0.868707\n",
      "Training until validation scores don't improve for 30 rounds\n"
     ]
    },
    {
     "name": "stderr",
     "output_type": "stream",
     "text": [
      "[I 2025-08-04 22:47:52,964] Trial 14 finished with value: 0.8789975199060174 and parameters: {'learning_rate': 0.18117988533898052, 'num_leaves': 61, 'max_depth': 10, 'min_child_samples': 25, 'feature_fraction': 0.8270075419009113, 'bagging_fraction': 0.8404484818848734, 'lambda_l1': 0.21350522178368284, 'lambda_l2': 0.7877307318151813}. Best is trial 8 with value: 0.8915720315015446.\n"
     ]
    },
    {
     "name": "stdout",
     "output_type": "stream",
     "text": [
      "Did not meet early stopping. Best iteration is:\n",
      "[92]\tvalid_0's auc: 0.878998\n",
      "Training until validation scores don't improve for 30 rounds\n"
     ]
    },
    {
     "name": "stderr",
     "output_type": "stream",
     "text": [
      "[I 2025-08-04 22:47:53,942] Trial 15 finished with value: 0.8526954705652003 and parameters: {'learning_rate': 0.13048002487702592, 'num_leaves': 44, 'max_depth': 9, 'min_child_samples': 33, 'feature_fraction': 0.9345769580526938, 'bagging_fraction': 0.6828200527001955, 'lambda_l1': 0.7145423038017207, 'lambda_l2': 0.4033290201017112}. Best is trial 8 with value: 0.8915720315015446.\n"
     ]
    },
    {
     "name": "stdout",
     "output_type": "stream",
     "text": [
      "Did not meet early stopping. Best iteration is:\n",
      "[99]\tvalid_0's auc: 0.852695\n",
      "Training until validation scores don't improve for 30 rounds\n"
     ]
    },
    {
     "name": "stderr",
     "output_type": "stream",
     "text": [
      "[I 2025-08-04 22:47:54,649] Trial 16 finished with value: 0.8711221337510333 and parameters: {'learning_rate': 0.16460765463347576, 'num_leaves': 72, 'max_depth': 7, 'min_child_samples': 19, 'feature_fraction': 0.6944868131312183, 'bagging_fraction': 0.729501452812913, 'lambda_l1': 0.336302743416024, 'lambda_l2': 0.02566759148339215}. Best is trial 8 with value: 0.8915720315015446.\n"
     ]
    },
    {
     "name": "stdout",
     "output_type": "stream",
     "text": [
      "Did not meet early stopping. Best iteration is:\n",
      "[99]\tvalid_0's auc: 0.871122\n",
      "Training until validation scores don't improve for 30 rounds\n"
     ]
    },
    {
     "name": "stderr",
     "output_type": "stream",
     "text": [
      "[I 2025-08-04 22:47:55,694] Trial 17 finished with value: 0.8747987643040509 and parameters: {'learning_rate': 0.11975673003108273, 'num_leaves': 57, 'max_depth': 11, 'min_child_samples': 29, 'feature_fraction': 0.8087375403093617, 'bagging_fraction': 0.7964679194367675, 'lambda_l1': 0.17625000468934193, 'lambda_l2': 0.7199218531192328}. Best is trial 8 with value: 0.8915720315015446.\n"
     ]
    },
    {
     "name": "stdout",
     "output_type": "stream",
     "text": [
      "Did not meet early stopping. Best iteration is:\n",
      "[89]\tvalid_0's auc: 0.874799\n",
      "Training until validation scores don't improve for 30 rounds\n"
     ]
    },
    {
     "name": "stderr",
     "output_type": "stream",
     "text": [
      "[I 2025-08-04 22:47:56,537] Trial 18 finished with value: 0.8729495714223556 and parameters: {'learning_rate': 0.16333136707815238, 'num_leaves': 40, 'max_depth': 7, 'min_child_samples': 10, 'feature_fraction': 0.6907890125356685, 'bagging_fraction': 0.8801176280970278, 'lambda_l1': 0.8990441037615498, 'lambda_l2': 0.2360583361035089}. Best is trial 8 with value: 0.8915720315015446.\n"
     ]
    },
    {
     "name": "stdout",
     "output_type": "stream",
     "text": [
      "Did not meet early stopping. Best iteration is:\n",
      "[94]\tvalid_0's auc: 0.87295\n",
      "Training until validation scores don't improve for 30 rounds\n"
     ]
    },
    {
     "name": "stderr",
     "output_type": "stream",
     "text": [
      "[I 2025-08-04 22:47:57,779] Trial 19 finished with value: 0.863660096593134 and parameters: {'learning_rate': 0.06993424150841453, 'num_leaves': 56, 'max_depth': 9, 'min_child_samples': 22, 'feature_fraction': 0.9481598884000959, 'bagging_fraction': 0.6120211488008649, 'lambda_l1': 0.37810960775124175, 'lambda_l2': 0.4604687316797466}. Best is trial 8 with value: 0.8915720315015446.\n"
     ]
    },
    {
     "name": "stdout",
     "output_type": "stream",
     "text": [
      "Did not meet early stopping. Best iteration is:\n",
      "[81]\tvalid_0's auc: 0.86366\n",
      "Training until validation scores don't improve for 30 rounds\n"
     ]
    },
    {
     "name": "stderr",
     "output_type": "stream",
     "text": [
      "[I 2025-08-04 22:47:59,177] Trial 20 finished with value: 0.8725579776356437 and parameters: {'learning_rate': 0.11488439721751317, 'num_leaves': 67, 'max_depth': 11, 'min_child_samples': 15, 'feature_fraction': 0.8383744597298768, 'bagging_fraction': 0.9936685178492007, 'lambda_l1': 0.5945456244361678, 'lambda_l2': 0.9550228340782838}. Best is trial 8 with value: 0.8915720315015446.\n"
     ]
    },
    {
     "name": "stdout",
     "output_type": "stream",
     "text": [
      "Did not meet early stopping. Best iteration is:\n",
      "[99]\tvalid_0's auc: 0.872558\n",
      "Training until validation scores don't improve for 30 rounds\n"
     ]
    },
    {
     "name": "stderr",
     "output_type": "stream",
     "text": [
      "[I 2025-08-04 22:48:00,263] Trial 21 finished with value: 0.8690988991863552 and parameters: {'learning_rate': 0.19748885570451388, 'num_leaves': 60, 'max_depth': 9, 'min_child_samples': 26, 'feature_fraction': 0.8104378644955893, 'bagging_fraction': 0.834279589947622, 'lambda_l1': 0.19603767908084196, 'lambda_l2': 0.813835931057752}. Best is trial 8 with value: 0.8915720315015446.\n"
     ]
    },
    {
     "name": "stdout",
     "output_type": "stream",
     "text": [
      "Did not meet early stopping. Best iteration is:\n",
      "[73]\tvalid_0's auc: 0.869099\n",
      "Training until validation scores don't improve for 30 rounds\n"
     ]
    },
    {
     "name": "stderr",
     "output_type": "stream",
     "text": [
      "[I 2025-08-04 22:48:01,097] Trial 22 finished with value: 0.8797371970586956 and parameters: {'learning_rate': 0.1771198241856718, 'num_leaves': 46, 'max_depth': 10, 'min_child_samples': 25, 'feature_fraction': 0.6650205243616176, 'bagging_fraction': 0.7508768902782047, 'lambda_l1': 0.26184905850110823, 'lambda_l2': 0.7192813183195771}. Best is trial 8 with value: 0.8915720315015446.\n"
     ]
    },
    {
     "name": "stdout",
     "output_type": "stream",
     "text": [
      "Early stopping, best iteration is:\n",
      "[62]\tvalid_0's auc: 0.879737\n",
      "Training until validation scores don't improve for 30 rounds\n"
     ]
    },
    {
     "name": "stderr",
     "output_type": "stream",
     "text": [
      "[I 2025-08-04 22:48:01,943] Trial 23 finished with value: 0.860679632772049 and parameters: {'learning_rate': 0.17575952438996006, 'num_leaves': 47, 'max_depth': 11, 'min_child_samples': 33, 'feature_fraction': 0.6576169861026337, 'bagging_fraction': 0.7496874338862405, 'lambda_l1': 0.10567054973103018, 'lambda_l2': 0.68728496587873}. Best is trial 8 with value: 0.8915720315015446.\n"
     ]
    },
    {
     "name": "stdout",
     "output_type": "stream",
     "text": [
      "Did not meet early stopping. Best iteration is:\n",
      "[100]\tvalid_0's auc: 0.86068\n",
      "Training until validation scores don't improve for 30 rounds\n"
     ]
    },
    {
     "name": "stderr",
     "output_type": "stream",
     "text": [
      "[I 2025-08-04 22:48:02,766] Trial 24 finished with value: 0.8702736805464908 and parameters: {'learning_rate': 0.1496755918103165, 'num_leaves': 37, 'max_depth': 9, 'min_child_samples': 19, 'feature_fraction': 0.6629442848430637, 'bagging_fraction': 0.6979521036596551, 'lambda_l1': 0.28518967882920454, 'lambda_l2': 0.5725549008931569}. Best is trial 8 with value: 0.8915720315015446.\n"
     ]
    },
    {
     "name": "stdout",
     "output_type": "stream",
     "text": [
      "Did not meet early stopping. Best iteration is:\n",
      "[97]\tvalid_0's auc: 0.870274\n",
      "Training until validation scores don't improve for 30 rounds\n"
     ]
    },
    {
     "name": "stderr",
     "output_type": "stream",
     "text": [
      "[I 2025-08-04 22:48:03,776] Trial 25 finished with value: 0.8684027324544229 and parameters: {'learning_rate': 0.17545372091849787, 'num_leaves': 52, 'max_depth': 10, 'min_child_samples': 31, 'feature_fraction': 0.738167537381019, 'bagging_fraction': 0.7513804641013027, 'lambda_l1': 0.4117182477654838, 'lambda_l2': 0.4336159223440258}. Best is trial 8 with value: 0.8915720315015446.\n"
     ]
    },
    {
     "name": "stdout",
     "output_type": "stream",
     "text": [
      "Did not meet early stopping. Best iteration is:\n",
      "[99]\tvalid_0's auc: 0.868403\n",
      "Training until validation scores don't improve for 30 rounds\n"
     ]
    },
    {
     "name": "stderr",
     "output_type": "stream",
     "text": [
      "[I 2025-08-04 22:48:04,524] Trial 26 finished with value: 0.8862855153809337 and parameters: {'learning_rate': 0.1471073050749024, 'num_leaves': 46, 'max_depth': 8, 'min_child_samples': 23, 'feature_fraction': 0.6030003413435306, 'bagging_fraction': 0.6655889801539878, 'lambda_l1': 0.5461835959952893, 'lambda_l2': 0.7200972866405767}. Best is trial 8 with value: 0.8915720315015446.\n"
     ]
    },
    {
     "name": "stdout",
     "output_type": "stream",
     "text": [
      "Did not meet early stopping. Best iteration is:\n",
      "[94]\tvalid_0's auc: 0.886286\n",
      "Training until validation scores don't improve for 30 rounds\n"
     ]
    },
    {
     "name": "stderr",
     "output_type": "stream",
     "text": [
      "[I 2025-08-04 22:48:04,981] Trial 27 finished with value: 0.8684027324544228 and parameters: {'learning_rate': 0.13497742798613666, 'num_leaves': 54, 'max_depth': 6, 'min_child_samples': 22, 'feature_fraction': 0.6180267730254697, 'bagging_fraction': 0.6570622434524016, 'lambda_l1': 0.7070323696418572, 'lambda_l2': 0.8530422090893691}. Best is trial 8 with value: 0.8915720315015446.\n"
     ]
    },
    {
     "name": "stdout",
     "output_type": "stream",
     "text": [
      "Early stopping, best iteration is:\n",
      "[55]\tvalid_0's auc: 0.868403\n",
      "Training until validation scores don't improve for 30 rounds\n"
     ]
    },
    {
     "name": "stderr",
     "output_type": "stream",
     "text": [
      "[I 2025-08-04 22:48:05,773] Trial 28 finished with value: 0.8583735804725231 and parameters: {'learning_rate': 0.10981530495245037, 'num_leaves': 37, 'max_depth': 8, 'min_child_samples': 13, 'feature_fraction': 0.7221921526169263, 'bagging_fraction': 0.7065246606136991, 'lambda_l1': 0.5546330933326501, 'lambda_l2': 0.6137584851340465}. Best is trial 8 with value: 0.8915720315015446.\n"
     ]
    },
    {
     "name": "stdout",
     "output_type": "stream",
     "text": [
      "Did not meet early stopping. Best iteration is:\n",
      "[99]\tvalid_0's auc: 0.858374\n",
      "Training until validation scores don't improve for 30 rounds\n"
     ]
    },
    {
     "name": "stderr",
     "output_type": "stream",
     "text": [
      "[I 2025-08-04 22:48:06,352] Trial 29 finished with value: 0.8530217987207938 and parameters: {'learning_rate': 0.15078753834373473, 'num_leaves': 64, 'max_depth': 6, 'min_child_samples': 18, 'feature_fraction': 0.7762315108872204, 'bagging_fraction': 0.6536093611638063, 'lambda_l1': 0.5130579554930619, 'lambda_l2': 0.5517323429451246}. Best is trial 8 with value: 0.8915720315015446.\n"
     ]
    },
    {
     "name": "stdout",
     "output_type": "stream",
     "text": [
      "Did not meet early stopping. Best iteration is:\n",
      "[76]\tvalid_0's auc: 0.853022\n",
      "\n",
      "📍 Training for label: SR-ATAD5\n"
     ]
    },
    {
     "name": "stderr",
     "output_type": "stream",
     "text": [
      "[I 2025-08-04 22:48:11,100] A new study created in memory with name: no-name-a2a18379-4c36-475b-ac85-447b794a40fc\n"
     ]
    },
    {
     "name": "stdout",
     "output_type": "stream",
     "text": [
      "Training until validation scores don't improve for 30 rounds\n"
     ]
    },
    {
     "name": "stderr",
     "output_type": "stream",
     "text": [
      "[I 2025-08-04 22:48:11,904] Trial 0 finished with value: 0.8674460634813057 and parameters: {'learning_rate': 0.08463019143191368, 'num_leaves': 44, 'max_depth': 6, 'min_child_samples': 43, 'feature_fraction': 0.8631756523536016, 'bagging_fraction': 0.6836090851394806, 'lambda_l1': 0.9179713965087581, 'lambda_l2': 0.08143547781541238}. Best is trial 0 with value: 0.8674460634813057.\n"
     ]
    },
    {
     "name": "stdout",
     "output_type": "stream",
     "text": [
      "Did not meet early stopping. Best iteration is:\n",
      "[100]\tvalid_0's auc: 0.867446\n",
      "Training until validation scores don't improve for 30 rounds\n"
     ]
    },
    {
     "name": "stderr",
     "output_type": "stream",
     "text": [
      "[I 2025-08-04 22:48:12,882] Trial 1 finished with value: 0.842482774200836 and parameters: {'learning_rate': 0.02932615553027619, 'num_leaves': 46, 'max_depth': 10, 'min_child_samples': 45, 'feature_fraction': 0.9524722147027774, 'bagging_fraction': 0.9338916939639356, 'lambda_l1': 0.4411094914286713, 'lambda_l2': 0.6081625234577843}. Best is trial 0 with value: 0.8674460634813057.\n"
     ]
    },
    {
     "name": "stdout",
     "output_type": "stream",
     "text": [
      "Did not meet early stopping. Best iteration is:\n",
      "[94]\tvalid_0's auc: 0.842483\n",
      "Training until validation scores don't improve for 30 rounds\n"
     ]
    },
    {
     "name": "stderr",
     "output_type": "stream",
     "text": [
      "[I 2025-08-04 22:48:13,271] Trial 2 finished with value: 0.8118152038856885 and parameters: {'learning_rate': 0.052968237948908134, 'num_leaves': 38, 'max_depth': 4, 'min_child_samples': 48, 'feature_fraction': 0.9103882147937012, 'bagging_fraction': 0.6867692851912042, 'lambda_l1': 0.4329552145062985, 'lambda_l2': 0.286018065262291}. Best is trial 0 with value: 0.8674460634813057.\n"
     ]
    },
    {
     "name": "stdout",
     "output_type": "stream",
     "text": [
      "Did not meet early stopping. Best iteration is:\n",
      "[95]\tvalid_0's auc: 0.811815\n",
      "Training until validation scores don't improve for 30 rounds\n"
     ]
    },
    {
     "name": "stderr",
     "output_type": "stream",
     "text": [
      "[I 2025-08-04 22:48:14,178] Trial 3 finished with value: 0.8799841861515871 and parameters: {'learning_rate': 0.04900189660280903, 'num_leaves': 39, 'max_depth': 11, 'min_child_samples': 49, 'feature_fraction': 0.9609195900684291, 'bagging_fraction': 0.876674290518052, 'lambda_l1': 0.9152019961410498, 'lambda_l2': 0.3800403901642715}. Best is trial 3 with value: 0.8799841861515871.\n"
     ]
    },
    {
     "name": "stdout",
     "output_type": "stream",
     "text": [
      "Did not meet early stopping. Best iteration is:\n",
      "[99]\tvalid_0's auc: 0.879984\n",
      "Training until validation scores don't improve for 30 rounds\n"
     ]
    },
    {
     "name": "stderr",
     "output_type": "stream",
     "text": [
      "[I 2025-08-04 22:48:15,093] Trial 4 finished with value: 0.8865356376369593 and parameters: {'learning_rate': 0.1295347476920298, 'num_leaves': 73, 'max_depth': 12, 'min_child_samples': 19, 'feature_fraction': 0.8474005547500302, 'bagging_fraction': 0.7774641969490158, 'lambda_l1': 0.8282555587128321, 'lambda_l2': 0.49597279521171256}. Best is trial 4 with value: 0.8865356376369593.\n"
     ]
    },
    {
     "name": "stdout",
     "output_type": "stream",
     "text": [
      "Did not meet early stopping. Best iteration is:\n",
      "[99]\tvalid_0's auc: 0.886536\n",
      "Training until validation scores don't improve for 30 rounds\n"
     ]
    },
    {
     "name": "stderr",
     "output_type": "stream",
     "text": [
      "[I 2025-08-04 22:48:15,654] Trial 5 finished with value: 0.8776685869196883 and parameters: {'learning_rate': 0.06965448182647292, 'num_leaves': 21, 'max_depth': 6, 'min_child_samples': 48, 'feature_fraction': 0.9716260266420634, 'bagging_fraction': 0.8309844330815933, 'lambda_l1': 0.7437543676730979, 'lambda_l2': 0.8745346636212007}. Best is trial 4 with value: 0.8865356376369593.\n"
     ]
    },
    {
     "name": "stdout",
     "output_type": "stream",
     "text": [
      "Did not meet early stopping. Best iteration is:\n",
      "[100]\tvalid_0's auc: 0.877669\n",
      "Training until validation scores don't improve for 30 rounds\n"
     ]
    },
    {
     "name": "stderr",
     "output_type": "stream",
     "text": [
      "[I 2025-08-04 22:48:16,775] Trial 6 finished with value: 0.8856884671862645 and parameters: {'learning_rate': 0.18998479110080246, 'num_leaves': 58, 'max_depth': 10, 'min_child_samples': 15, 'feature_fraction': 0.9345831719668656, 'bagging_fraction': 0.8078040164328733, 'lambda_l1': 0.07843863615387081, 'lambda_l2': 0.8799829060190322}. Best is trial 4 with value: 0.8865356376369593.\n"
     ]
    },
    {
     "name": "stdout",
     "output_type": "stream",
     "text": [
      "Did not meet early stopping. Best iteration is:\n",
      "[99]\tvalid_0's auc: 0.885688\n",
      "Training until validation scores don't improve for 30 rounds\n"
     ]
    },
    {
     "name": "stderr",
     "output_type": "stream",
     "text": [
      "[I 2025-08-04 22:48:17,531] Trial 7 finished with value: 0.8685191460521858 and parameters: {'learning_rate': 0.07018812748202326, 'num_leaves': 40, 'max_depth': 10, 'min_child_samples': 43, 'feature_fraction': 0.7902700765710287, 'bagging_fraction': 0.7445004218243501, 'lambda_l1': 0.9453654635534063, 'lambda_l2': 0.27939734246327697}. Best is trial 4 with value: 0.8865356376369593.\n"
     ]
    },
    {
     "name": "stdout",
     "output_type": "stream",
     "text": [
      "Did not meet early stopping. Best iteration is:\n",
      "[99]\tvalid_0's auc: 0.868519\n",
      "Training until validation scores don't improve for 30 rounds\n"
     ]
    },
    {
     "name": "stderr",
     "output_type": "stream",
     "text": [
      "[I 2025-08-04 22:48:17,877] Trial 8 finished with value: 0.855020896871117 and parameters: {'learning_rate': 0.13741018481924056, 'num_leaves': 37, 'max_depth': 4, 'min_child_samples': 26, 'feature_fraction': 0.9638174191401585, 'bagging_fraction': 0.8099155512602434, 'lambda_l1': 0.44786849781000104, 'lambda_l2': 0.6437571650091684}. Best is trial 4 with value: 0.8865356376369593.\n"
     ]
    },
    {
     "name": "stdout",
     "output_type": "stream",
     "text": [
      "Did not meet early stopping. Best iteration is:\n",
      "[100]\tvalid_0's auc: 0.855021\n",
      "Training until validation scores don't improve for 30 rounds\n"
     ]
    },
    {
     "name": "stderr",
     "output_type": "stream",
     "text": [
      "[I 2025-08-04 22:48:18,526] Trial 9 finished with value: 0.8920704845814977 and parameters: {'learning_rate': 0.11163250836058755, 'num_leaves': 24, 'max_depth': 10, 'min_child_samples': 48, 'feature_fraction': 0.7996436732262919, 'bagging_fraction': 0.9175776263998445, 'lambda_l1': 0.7036922379907826, 'lambda_l2': 0.19032495453387532}. Best is trial 9 with value: 0.8920704845814977.\n"
     ]
    },
    {
     "name": "stdout",
     "output_type": "stream",
     "text": [
      "Did not meet early stopping. Best iteration is:\n",
      "[98]\tvalid_0's auc: 0.89207\n",
      "Training until validation scores don't improve for 30 rounds\n"
     ]
    },
    {
     "name": "stderr",
     "output_type": "stream",
     "text": [
      "[I 2025-08-04 22:48:19,059] Trial 10 finished with value: 0.8790240596407999 and parameters: {'learning_rate': 0.17229934750284906, 'num_leaves': 20, 'max_depth': 8, 'min_child_samples': 35, 'feature_fraction': 0.6662272637867763, 'bagging_fraction': 0.9946190732056653, 'lambda_l1': 0.6567557403492885, 'lambda_l2': 0.02209102301073612}. Best is trial 9 with value: 0.8920704845814977.\n"
     ]
    },
    {
     "name": "stdout",
     "output_type": "stream",
     "text": [
      "Did not meet early stopping. Best iteration is:\n",
      "[97]\tvalid_0's auc: 0.879024\n",
      "Training until validation scores don't improve for 30 rounds\n"
     ]
    },
    {
     "name": "stderr",
     "output_type": "stream",
     "text": [
      "[I 2025-08-04 22:48:19,920] Trial 11 finished with value: 0.8727549983056591 and parameters: {'learning_rate': 0.12747852616988803, 'num_leaves': 79, 'max_depth': 12, 'min_child_samples': 12, 'feature_fraction': 0.7608965042112477, 'bagging_fraction': 0.618813193297999, 'lambda_l1': 0.6913359419226222, 'lambda_l2': 0.4438211045245599}. Best is trial 9 with value: 0.8920704845814977.\n"
     ]
    },
    {
     "name": "stdout",
     "output_type": "stream",
     "text": [
      "Did not meet early stopping. Best iteration is:\n",
      "[95]\tvalid_0's auc: 0.872755\n",
      "Training until validation scores don't improve for 30 rounds\n"
     ]
    },
    {
     "name": "stderr",
     "output_type": "stream",
     "text": [
      "[I 2025-08-04 22:48:20,716] Trial 12 finished with value: 0.8746187732971874 and parameters: {'learning_rate': 0.11984369295264068, 'num_leaves': 70, 'max_depth': 12, 'min_child_samples': 23, 'feature_fraction': 0.7236170128908309, 'bagging_fraction': 0.8965965679528514, 'lambda_l1': 0.629582355271306, 'lambda_l2': 0.17239178969653046}. Best is trial 9 with value: 0.8920704845814977.\n"
     ]
    },
    {
     "name": "stdout",
     "output_type": "stream",
     "text": [
      "Did not meet early stopping. Best iteration is:\n",
      "[95]\tvalid_0's auc: 0.874619\n",
      "Training until validation scores don't improve for 30 rounds\n"
     ]
    },
    {
     "name": "stderr",
     "output_type": "stream",
     "text": [
      "[I 2025-08-04 22:48:21,418] Trial 13 finished with value: 0.8994691065175646 and parameters: {'learning_rate': 0.1567495470231732, 'num_leaves': 58, 'max_depth': 8, 'min_child_samples': 33, 'feature_fraction': 0.8450063095112071, 'bagging_fraction': 0.7537739903308627, 'lambda_l1': 0.8040092440146293, 'lambda_l2': 0.6670764556544005}. Best is trial 13 with value: 0.8994691065175646.\n"
     ]
    },
    {
     "name": "stdout",
     "output_type": "stream",
     "text": [
      "Did not meet early stopping. Best iteration is:\n",
      "[94]\tvalid_0's auc: 0.899469\n",
      "Training until validation scores don't improve for 30 rounds\n"
     ]
    },
    {
     "name": "stderr",
     "output_type": "stream",
     "text": [
      "[I 2025-08-04 22:48:22,228] Trial 14 finished with value: 0.8871004179374223 and parameters: {'learning_rate': 0.1579264924875252, 'num_leaves': 57, 'max_depth': 8, 'min_child_samples': 36, 'feature_fraction': 0.8348072238231766, 'bagging_fraction': 0.9959660320171975, 'lambda_l1': 0.2511217289885451, 'lambda_l2': 0.6839454393212081}. Best is trial 13 with value: 0.8994691065175646.\n"
     ]
    },
    {
     "name": "stdout",
     "output_type": "stream",
     "text": [
      "Did not meet early stopping. Best iteration is:\n",
      "[99]\tvalid_0's auc: 0.8871\n",
      "Training until validation scores don't improve for 30 rounds\n"
     ]
    },
    {
     "name": "stderr",
     "output_type": "stream",
     "text": [
      "[I 2025-08-04 22:48:22,826] Trial 15 finished with value: 0.8836552581045972 and parameters: {'learning_rate': 0.09995633491194006, 'num_leaves': 57, 'max_depth': 7, 'min_child_samples': 35, 'feature_fraction': 0.6007685082225354, 'bagging_fraction': 0.7022299030726945, 'lambda_l1': 0.5507940332254783, 'lambda_l2': 0.7739280656743858}. Best is trial 13 with value: 0.8994691065175646.\n"
     ]
    },
    {
     "name": "stdout",
     "output_type": "stream",
     "text": [
      "Did not meet early stopping. Best iteration is:\n",
      "[99]\tvalid_0's auc: 0.883655\n",
      "Training until validation scores don't improve for 30 rounds\n"
     ]
    },
    {
     "name": "stderr",
     "output_type": "stream",
     "text": [
      "[I 2025-08-04 22:48:23,511] Trial 16 finished with value: 0.9043826951315939 and parameters: {'learning_rate': 0.16173794893736398, 'num_leaves': 29, 'max_depth': 9, 'min_child_samples': 30, 'feature_fraction': 0.7182856516688482, 'bagging_fraction': 0.9249822053821796, 'lambda_l1': 0.7930349734955113, 'lambda_l2': 0.9897308803088307}. Best is trial 16 with value: 0.9043826951315939.\n"
     ]
    },
    {
     "name": "stdout",
     "output_type": "stream",
     "text": [
      "Did not meet early stopping. Best iteration is:\n",
      "[100]\tvalid_0's auc: 0.904383\n",
      "Training until validation scores don't improve for 30 rounds\n"
     ]
    },
    {
     "name": "stderr",
     "output_type": "stream",
     "text": [
      "[I 2025-08-04 22:48:24,127] Trial 17 finished with value: 0.882299785383486 and parameters: {'learning_rate': 0.1588129517845405, 'num_leaves': 31, 'max_depth': 9, 'min_child_samples': 29, 'feature_fraction': 0.6657576816203006, 'bagging_fraction': 0.8508389754241672, 'lambda_l1': 0.8052876283747096, 'lambda_l2': 0.930194964419565}. Best is trial 16 with value: 0.9043826951315939.\n"
     ]
    },
    {
     "name": "stdout",
     "output_type": "stream",
     "text": [
      "Did not meet early stopping. Best iteration is:\n",
      "[96]\tvalid_0's auc: 0.8823\n",
      "Training until validation scores don't improve for 30 rounds\n"
     ]
    },
    {
     "name": "stderr",
     "output_type": "stream",
     "text": [
      "[I 2025-08-04 22:48:24,634] Trial 18 finished with value: 0.8946684739636281 and parameters: {'learning_rate': 0.19958713243380255, 'num_leaves': 65, 'max_depth': 6, 'min_child_samples': 32, 'feature_fraction': 0.7238974580187225, 'bagging_fraction': 0.7603676115066965, 'lambda_l1': 0.995759914370615, 'lambda_l2': 0.9780383056785633}. Best is trial 16 with value: 0.9043826951315939.\n"
     ]
    },
    {
     "name": "stdout",
     "output_type": "stream",
     "text": [
      "Did not meet early stopping. Best iteration is:\n",
      "[99]\tvalid_0's auc: 0.894668\n",
      "Training until validation scores don't improve for 30 rounds\n"
     ]
    },
    {
     "name": "stderr",
     "output_type": "stream",
     "text": [
      "[I 2025-08-04 22:48:25,398] Trial 19 finished with value: 0.8809443126623744 and parameters: {'learning_rate': 0.14649552917263572, 'num_leaves': 53, 'max_depth': 7, 'min_child_samples': 39, 'feature_fraction': 0.8899614784957525, 'bagging_fraction': 0.9505108396495394, 'lambda_l1': 0.31293003282440696, 'lambda_l2': 0.8027660500877152}. Best is trial 16 with value: 0.9043826951315939.\n"
     ]
    },
    {
     "name": "stdout",
     "output_type": "stream",
     "text": [
      "Did not meet early stopping. Best iteration is:\n",
      "[100]\tvalid_0's auc: 0.880944\n",
      "Training until validation scores don't improve for 30 rounds\n"
     ]
    },
    {
     "name": "stderr",
     "output_type": "stream",
     "text": [
      "[I 2025-08-04 22:48:26,019] Trial 20 finished with value: 0.8751270755676042 and parameters: {'learning_rate': 0.17130036486611355, 'num_leaves': 63, 'max_depth': 9, 'min_child_samples': 28, 'feature_fraction': 0.7301648495371276, 'bagging_fraction': 0.6382974677899075, 'lambda_l1': 0.8053051714579963, 'lambda_l2': 0.7530558159789861}. Best is trial 16 with value: 0.9043826951315939.\n"
     ]
    },
    {
     "name": "stdout",
     "output_type": "stream",
     "text": [
      "Did not meet early stopping. Best iteration is:\n",
      "[94]\tvalid_0's auc: 0.875127\n",
      "Training until validation scores don't improve for 30 rounds\n"
     ]
    },
    {
     "name": "stderr",
     "output_type": "stream",
     "text": [
      "[I 2025-08-04 22:48:26,475] Trial 21 finished with value: 0.8507850446176438 and parameters: {'learning_rate': 0.18256541831924056, 'num_leaves': 65, 'max_depth': 5, 'min_child_samples': 32, 'feature_fraction': 0.6887381443409716, 'bagging_fraction': 0.7557530794373373, 'lambda_l1': 0.9895764419542415, 'lambda_l2': 0.9920580638000455}. Best is trial 16 with value: 0.9043826951315939.\n"
     ]
    },
    {
     "name": "stdout",
     "output_type": "stream",
     "text": [
      "Did not meet early stopping. Best iteration is:\n",
      "[98]\tvalid_0's auc: 0.850785\n",
      "Training until validation scores don't improve for 30 rounds\n"
     ]
    },
    {
     "name": "stderr",
     "output_type": "stream",
     "text": [
      "[I 2025-08-04 22:48:27,019] Trial 22 finished with value: 0.8936518694227945 and parameters: {'learning_rate': 0.19774905548972216, 'num_leaves': 50, 'max_depth': 6, 'min_child_samples': 24, 'feature_fraction': 0.754115683756299, 'bagging_fraction': 0.7182013041933062, 'lambda_l1': 0.8653841436544003, 'lambda_l2': 0.9774298246081206}. Best is trial 16 with value: 0.9043826951315939.\n"
     ]
    },
    {
     "name": "stdout",
     "output_type": "stream",
     "text": [
      "Did not meet early stopping. Best iteration is:\n",
      "[100]\tvalid_0's auc: 0.893652\n",
      "Training until validation scores don't improve for 30 rounds\n"
     ]
    },
    {
     "name": "stderr",
     "output_type": "stream",
     "text": [
      "[I 2025-08-04 22:48:27,595] Trial 23 finished with value: 0.8996385406077035 and parameters: {'learning_rate': 0.15549269448593683, 'num_leaves': 63, 'max_depth': 8, 'min_child_samples': 32, 'feature_fraction': 0.612364080774757, 'bagging_fraction': 0.7732505087183804, 'lambda_l1': 0.9970438017356603, 'lambda_l2': 0.5675192687091284}. Best is trial 16 with value: 0.9043826951315939.\n"
     ]
    },
    {
     "name": "stdout",
     "output_type": "stream",
     "text": [
      "Did not meet early stopping. Best iteration is:\n",
      "[87]\tvalid_0's auc: 0.899639\n",
      "Training until validation scores don't improve for 30 rounds\n"
     ]
    },
    {
     "name": "stderr",
     "output_type": "stream",
     "text": [
      "[I 2025-08-04 22:48:28,245] Trial 24 finished with value: 0.8871004179374224 and parameters: {'learning_rate': 0.14961890092807387, 'num_leaves': 30, 'max_depth': 9, 'min_child_samples': 21, 'feature_fraction': 0.6042422110813815, 'bagging_fraction': 0.84760941347102, 'lambda_l1': 0.5802658640144924, 'lambda_l2': 0.6122459911171332}. Best is trial 16 with value: 0.9043826951315939.\n"
     ]
    },
    {
     "name": "stdout",
     "output_type": "stream",
     "text": [
      "Did not meet early stopping. Best iteration is:\n",
      "[100]\tvalid_0's auc: 0.8871\n",
      "Training until validation scores don't improve for 30 rounds\n"
     ]
    },
    {
     "name": "stderr",
     "output_type": "stream",
     "text": [
      "[I 2025-08-04 22:48:28,802] Trial 25 finished with value: 0.8791370157008923 and parameters: {'learning_rate': 0.1705473414213625, 'num_leaves': 71, 'max_depth': 8, 'min_child_samples': 39, 'feature_fraction': 0.6466090861729358, 'bagging_fraction': 0.790607145963198, 'lambda_l1': 0.7779090314732933, 'lambda_l2': 0.5396974461089477}. Best is trial 16 with value: 0.9043826951315939.\n"
     ]
    },
    {
     "name": "stdout",
     "output_type": "stream",
     "text": [
      "Did not meet early stopping. Best iteration is:\n",
      "[100]\tvalid_0's auc: 0.879137\n",
      "Training until validation scores don't improve for 30 rounds\n"
     ]
    },
    {
     "name": "stderr",
     "output_type": "stream",
     "text": [
      "[I 2025-08-04 22:48:29,450] Trial 26 finished with value: 0.8660905907601943 and parameters: {'learning_rate': 0.09930981675993966, 'num_leaves': 51, 'max_depth': 7, 'min_child_samples': 31, 'feature_fraction': 0.6426693706370977, 'bagging_fraction': 0.731309519709434, 'lambda_l1': 0.855188216607421, 'lambda_l2': 0.7198433281197734}. Best is trial 16 with value: 0.9043826951315939.\n"
     ]
    },
    {
     "name": "stdout",
     "output_type": "stream",
     "text": [
      "Did not meet early stopping. Best iteration is:\n",
      "[96]\tvalid_0's auc: 0.866091\n",
      "Training until validation scores don't improve for 30 rounds\n"
     ]
    },
    {
     "name": "stderr",
     "output_type": "stream",
     "text": [
      "[I 2025-08-04 22:48:30,145] Trial 27 finished with value: 0.8905455777702473 and parameters: {'learning_rate': 0.13761648183160968, 'num_leaves': 62, 'max_depth': 9, 'min_child_samples': 26, 'feature_fraction': 0.6955112400771669, 'bagging_fraction': 0.670735921837636, 'lambda_l1': 0.9008734827439934, 'lambda_l2': 0.8283086469213462}. Best is trial 16 with value: 0.9043826951315939.\n"
     ]
    },
    {
     "name": "stdout",
     "output_type": "stream",
     "text": [
      "Did not meet early stopping. Best iteration is:\n",
      "[97]\tvalid_0's auc: 0.890546\n",
      "Training until validation scores don't improve for 30 rounds\n"
     ]
    },
    {
     "name": "stderr",
     "output_type": "stream",
     "text": [
      "[I 2025-08-04 22:48:30,401] Trial 28 finished with value: 0.8505026544674122 and parameters: {'learning_rate': 0.15853322545615578, 'num_leaves': 77, 'max_depth': 3, 'min_child_samples': 37, 'feature_fraction': 0.8150885254835778, 'bagging_fraction': 0.8707408574068005, 'lambda_l1': 0.7341310623580499, 'lambda_l2': 0.5430560736917219}. Best is trial 16 with value: 0.9043826951315939.\n"
     ]
    },
    {
     "name": "stdout",
     "output_type": "stream",
     "text": [
      "Did not meet early stopping. Best iteration is:\n",
      "[100]\tvalid_0's auc: 0.850503\n",
      "Training until validation scores don't improve for 30 rounds\n"
     ]
    },
    {
     "name": "stderr",
     "output_type": "stream",
     "text": [
      "[I 2025-08-04 22:48:31,284] Trial 29 finished with value: 0.8757483338981137 and parameters: {'learning_rate': 0.17709040100196918, 'num_leaves': 46, 'max_depth': 8, 'min_child_samples': 40, 'feature_fraction': 0.8786741327318952, 'bagging_fraction': 0.663363998768498, 'lambda_l1': 6.33993542185074e-05, 'lambda_l2': 0.4270508563554335}. Best is trial 16 with value: 0.9043826951315939.\n"
     ]
    },
    {
     "name": "stdout",
     "output_type": "stream",
     "text": [
      "Did not meet early stopping. Best iteration is:\n",
      "[97]\tvalid_0's auc: 0.875748\n",
      "\n",
      "📍 Training for label: SR-HSE\n"
     ]
    },
    {
     "name": "stderr",
     "output_type": "stream",
     "text": [
      "[I 2025-08-04 22:48:35,352] A new study created in memory with name: no-name-fb5efe5d-f5e5-43ce-9fbb-2e0d976e4327\n"
     ]
    },
    {
     "name": "stdout",
     "output_type": "stream",
     "text": [
      "Training until validation scores don't improve for 30 rounds\n"
     ]
    },
    {
     "name": "stderr",
     "output_type": "stream",
     "text": [
      "[I 2025-08-04 22:48:36,368] Trial 0 finished with value: 0.7639344262295082 and parameters: {'learning_rate': 0.10554890274960155, 'num_leaves': 54, 'max_depth': 11, 'min_child_samples': 27, 'feature_fraction': 0.663567669745706, 'bagging_fraction': 0.7357235303794989, 'lambda_l1': 0.2827845895701214, 'lambda_l2': 0.6358408523728489}. Best is trial 0 with value: 0.7639344262295082.\n",
      "[I 2025-08-04 22:48:36,505] Trial 1 finished with value: 0.7303721754541428 and parameters: {'learning_rate': 0.02162024900745312, 'num_leaves': 52, 'max_depth': 4, 'min_child_samples': 22, 'feature_fraction': 0.8166746094802833, 'bagging_fraction': 0.9038630334696898, 'lambda_l1': 0.4139702415682691, 'lambda_l2': 0.9106972072624074}. Best is trial 0 with value: 0.7639344262295082.\n"
     ]
    },
    {
     "name": "stdout",
     "output_type": "stream",
     "text": [
      "Did not meet early stopping. Best iteration is:\n",
      "[96]\tvalid_0's auc: 0.763934\n",
      "Training until validation scores don't improve for 30 rounds\n",
      "Early stopping, best iteration is:\n",
      "[4]\tvalid_0's auc: 0.730372\n",
      "Training until validation scores don't improve for 30 rounds\n"
     ]
    },
    {
     "name": "stderr",
     "output_type": "stream",
     "text": [
      "[I 2025-08-04 22:48:37,434] Trial 2 finished with value: 0.7466548515728844 and parameters: {'learning_rate': 0.1649573174286021, 'num_leaves': 54, 'max_depth': 11, 'min_child_samples': 22, 'feature_fraction': 0.9127259291885287, 'bagging_fraction': 0.9639907241956385, 'lambda_l1': 0.3556337009715451, 'lambda_l2': 0.8214565184794029}. Best is trial 0 with value: 0.7639344262295082.\n"
     ]
    },
    {
     "name": "stdout",
     "output_type": "stream",
     "text": [
      "Early stopping, best iteration is:\n",
      "[63]\tvalid_0's auc: 0.746655\n",
      "Training until validation scores don't improve for 30 rounds\n"
     ]
    },
    {
     "name": "stderr",
     "output_type": "stream",
     "text": [
      "[I 2025-08-04 22:48:37,891] Trial 3 finished with value: 0.7532343819229066 and parameters: {'learning_rate': 0.026431457855247024, 'num_leaves': 50, 'max_depth': 11, 'min_child_samples': 21, 'feature_fraction': 0.9880898018333075, 'bagging_fraction': 0.8902591089922001, 'lambda_l1': 0.08371560596869543, 'lambda_l2': 0.07651898073960695}. Best is trial 0 with value: 0.7639344262295082.\n"
     ]
    },
    {
     "name": "stdout",
     "output_type": "stream",
     "text": [
      "Early stopping, best iteration is:\n",
      "[5]\tvalid_0's auc: 0.753234\n",
      "Training until validation scores don't improve for 30 rounds\n"
     ]
    },
    {
     "name": "stderr",
     "output_type": "stream",
     "text": [
      "[I 2025-08-04 22:48:38,143] Trial 4 finished with value: 0.7230394328754985 and parameters: {'learning_rate': 0.18471181884940419, 'num_leaves': 40, 'max_depth': 4, 'min_child_samples': 31, 'feature_fraction': 0.7698720591978933, 'bagging_fraction': 0.6844302277229015, 'lambda_l1': 0.6971717016006245, 'lambda_l2': 0.9437479722451988}. Best is trial 0 with value: 0.7639344262295082.\n"
     ]
    },
    {
     "name": "stdout",
     "output_type": "stream",
     "text": [
      "Did not meet early stopping. Best iteration is:\n",
      "[71]\tvalid_0's auc: 0.723039\n",
      "Training until validation scores don't improve for 30 rounds\n"
     ]
    },
    {
     "name": "stderr",
     "output_type": "stream",
     "text": [
      "[I 2025-08-04 22:48:38,351] Trial 5 finished with value: 0.7032343819229065 and parameters: {'learning_rate': 0.11059177772957379, 'num_leaves': 22, 'max_depth': 5, 'min_child_samples': 39, 'feature_fraction': 0.7242244564981001, 'bagging_fraction': 0.631218628555145, 'lambda_l1': 0.04278254620711841, 'lambda_l2': 0.29634848516803936}. Best is trial 0 with value: 0.7639344262295082.\n"
     ]
    },
    {
     "name": "stdout",
     "output_type": "stream",
     "text": [
      "Early stopping, best iteration is:\n",
      "[30]\tvalid_0's auc: 0.703234\n",
      "Training until validation scores don't improve for 30 rounds\n",
      "Early stopping, best iteration is:\n",
      "[34]\tvalid_0's auc: 0.71883\n"
     ]
    },
    {
     "name": "stderr",
     "output_type": "stream",
     "text": [
      "[I 2025-08-04 22:48:38,549] Trial 6 finished with value: 0.7188303057155516 and parameters: {'learning_rate': 0.09020777094767357, 'num_leaves': 72, 'max_depth': 4, 'min_child_samples': 45, 'feature_fraction': 0.9411741400227579, 'bagging_fraction': 0.8122511308124085, 'lambda_l1': 0.8815579076358151, 'lambda_l2': 0.4051617278603775}. Best is trial 0 with value: 0.7639344262295082.\n"
     ]
    },
    {
     "name": "stdout",
     "output_type": "stream",
     "text": [
      "Training until validation scores don't improve for 30 rounds\n"
     ]
    },
    {
     "name": "stderr",
     "output_type": "stream",
     "text": [
      "[I 2025-08-04 22:48:39,145] Trial 7 finished with value: 0.7304386353566682 and parameters: {'learning_rate': 0.17851186719364306, 'num_leaves': 32, 'max_depth': 7, 'min_child_samples': 35, 'feature_fraction': 0.8362872130741399, 'bagging_fraction': 0.7422795139582445, 'lambda_l1': 0.4577839759424771, 'lambda_l2': 0.5262691245402848}. Best is trial 0 with value: 0.7639344262295082.\n",
      "[I 2025-08-04 22:48:39,300] Trial 8 finished with value: 0.7265839610101906 and parameters: {'learning_rate': 0.1659818770211697, 'num_leaves': 65, 'max_depth': 4, 'min_child_samples': 27, 'feature_fraction': 0.7560707447755387, 'bagging_fraction': 0.7590945107004824, 'lambda_l1': 0.021860976999543813, 'lambda_l2': 0.4672770204582122}. Best is trial 0 with value: 0.7639344262295082.\n"
     ]
    },
    {
     "name": "stdout",
     "output_type": "stream",
     "text": [
      "Did not meet early stopping. Best iteration is:\n",
      "[100]\tvalid_0's auc: 0.730439\n",
      "Training until validation scores don't improve for 30 rounds\n",
      "Early stopping, best iteration is:\n",
      "[19]\tvalid_0's auc: 0.726584\n"
     ]
    },
    {
     "name": "stderr",
     "output_type": "stream",
     "text": [
      "[I 2025-08-04 22:48:39,437] Trial 9 finished with value: 0.726406734603456 and parameters: {'learning_rate': 0.16574976200929042, 'num_leaves': 68, 'max_depth': 4, 'min_child_samples': 37, 'feature_fraction': 0.6405026285073804, 'bagging_fraction': 0.6063094791635105, 'lambda_l1': 0.9633296726425282, 'lambda_l2': 0.34039755840634356}. Best is trial 0 with value: 0.7639344262295082.\n"
     ]
    },
    {
     "name": "stdout",
     "output_type": "stream",
     "text": [
      "Training until validation scores don't improve for 30 rounds\n",
      "Early stopping, best iteration is:\n",
      "[9]\tvalid_0's auc: 0.726407\n",
      "Training until validation scores don't improve for 30 rounds\n"
     ]
    },
    {
     "name": "stderr",
     "output_type": "stream",
     "text": [
      "[I 2025-08-04 22:48:40,374] Trial 10 finished with value: 0.7746123172352681 and parameters: {'learning_rate': 0.1001215642721621, 'num_leaves': 78, 'max_depth': 9, 'min_child_samples': 11, 'feature_fraction': 0.6121446785429357, 'bagging_fraction': 0.8280484826755121, 'lambda_l1': 0.25317240359895965, 'lambda_l2': 0.6837258875318583}. Best is trial 10 with value: 0.7746123172352681.\n"
     ]
    },
    {
     "name": "stdout",
     "output_type": "stream",
     "text": [
      "Did not meet early stopping. Best iteration is:\n",
      "[97]\tvalid_0's auc: 0.774612\n",
      "Training until validation scores don't improve for 30 rounds\n"
     ]
    },
    {
     "name": "stderr",
     "output_type": "stream",
     "text": [
      "[I 2025-08-04 22:48:40,795] Trial 11 finished with value: 0.7329419583517944 and parameters: {'learning_rate': 0.10044265248788113, 'num_leaves': 80, 'max_depth': 9, 'min_child_samples': 11, 'feature_fraction': 0.6222575300823766, 'bagging_fraction': 0.82612729068929, 'lambda_l1': 0.24599022470861054, 'lambda_l2': 0.6847053210538253}. Best is trial 10 with value: 0.7746123172352681.\n"
     ]
    },
    {
     "name": "stdout",
     "output_type": "stream",
     "text": [
      "Early stopping, best iteration is:\n",
      "[10]\tvalid_0's auc: 0.732942\n",
      "Training until validation scores don't improve for 30 rounds\n"
     ]
    },
    {
     "name": "stderr",
     "output_type": "stream",
     "text": [
      "[I 2025-08-04 22:48:41,206] Trial 12 finished with value: 0.7105006645990255 and parameters: {'learning_rate': 0.06136201061007039, 'num_leaves': 60, 'max_depth': 9, 'min_child_samples': 11, 'feature_fraction': 0.6811269048967816, 'bagging_fraction': 0.7073988599429536, 'lambda_l1': 0.2226264478569115, 'lambda_l2': 0.6594000759591316}. Best is trial 10 with value: 0.7746123172352681.\n"
     ]
    },
    {
     "name": "stdout",
     "output_type": "stream",
     "text": [
      "Early stopping, best iteration is:\n",
      "[7]\tvalid_0's auc: 0.710501\n",
      "Training until validation scores don't improve for 30 rounds\n"
     ]
    },
    {
     "name": "stderr",
     "output_type": "stream",
     "text": [
      "[I 2025-08-04 22:48:41,651] Trial 13 finished with value: 0.7347806823216659 and parameters: {'learning_rate': 0.12964468648309702, 'num_leaves': 79, 'max_depth': 12, 'min_child_samples': 15, 'feature_fraction': 0.6075351583263242, 'bagging_fraction': 0.8412952576752045, 'lambda_l1': 0.6109452845598109, 'lambda_l2': 0.679349695672538}. Best is trial 10 with value: 0.7746123172352681.\n"
     ]
    },
    {
     "name": "stdout",
     "output_type": "stream",
     "text": [
      "Early stopping, best iteration is:\n",
      "[9]\tvalid_0's auc: 0.734781\n",
      "Training until validation scores don't improve for 30 rounds\n"
     ]
    },
    {
     "name": "stderr",
     "output_type": "stream",
     "text": [
      "[I 2025-08-04 22:48:42,463] Trial 14 finished with value: 0.7389455028799291 and parameters: {'learning_rate': 0.06868127438906985, 'num_leaves': 42, 'max_depth': 9, 'min_child_samples': 18, 'feature_fraction': 0.6881984595458935, 'bagging_fraction': 0.7683381124878327, 'lambda_l1': 0.24731821397070972, 'lambda_l2': 0.7895311948034223}. Best is trial 10 with value: 0.7746123172352681.\n"
     ]
    },
    {
     "name": "stdout",
     "output_type": "stream",
     "text": [
      "Did not meet early stopping. Best iteration is:\n",
      "[80]\tvalid_0's auc: 0.738946\n",
      "Training until validation scores don't improve for 30 rounds\n"
     ]
    },
    {
     "name": "stderr",
     "output_type": "stream",
     "text": [
      "[I 2025-08-04 22:48:42,725] Trial 15 finished with value: 0.717899867080195 and parameters: {'learning_rate': 0.13213969435129963, 'num_leaves': 62, 'max_depth': 7, 'min_child_samples': 50, 'feature_fraction': 0.6804173025155248, 'bagging_fraction': 0.8770288669280807, 'lambda_l1': 0.598004722483399, 'lambda_l2': 0.6007455824702825}. Best is trial 10 with value: 0.7746123172352681.\n"
     ]
    },
    {
     "name": "stdout",
     "output_type": "stream",
     "text": [
      "Early stopping, best iteration is:\n",
      "[12]\tvalid_0's auc: 0.7179\n",
      "Training until validation scores don't improve for 30 rounds\n"
     ]
    },
    {
     "name": "stderr",
     "output_type": "stream",
     "text": [
      "[I 2025-08-04 22:48:43,608] Trial 16 finished with value: 0.7459902525476296 and parameters: {'learning_rate': 0.0697888239806943, 'num_leaves': 74, 'max_depth': 10, 'min_child_samples': 27, 'feature_fraction': 0.6530508739767029, 'bagging_fraction': 0.999866870394202, 'lambda_l1': 0.19454589076676532, 'lambda_l2': 0.19721282595117806}. Best is trial 10 with value: 0.7746123172352681.\n"
     ]
    },
    {
     "name": "stdout",
     "output_type": "stream",
     "text": [
      "Did not meet early stopping. Best iteration is:\n",
      "[97]\tvalid_0's auc: 0.74599\n",
      "Training until validation scores don't improve for 30 rounds\n"
     ]
    },
    {
     "name": "stderr",
     "output_type": "stream",
     "text": [
      "[I 2025-08-04 22:48:44,442] Trial 17 finished with value: 0.7987151085511741 and parameters: {'learning_rate': 0.13290109099922667, 'num_leaves': 45, 'max_depth': 12, 'min_child_samples': 15, 'feature_fraction': 0.6032346139566699, 'bagging_fraction': 0.6677680657909988, 'lambda_l1': 0.3562342922597275, 'lambda_l2': 0.7975408645052555}. Best is trial 17 with value: 0.7987151085511741.\n"
     ]
    },
    {
     "name": "stdout",
     "output_type": "stream",
     "text": [
      "Did not meet early stopping. Best iteration is:\n",
      "[100]\tvalid_0's auc: 0.798715\n",
      "Training until validation scores don't improve for 30 rounds\n"
     ]
    },
    {
     "name": "stderr",
     "output_type": "stream",
     "text": [
      "[I 2025-08-04 22:48:44,906] Trial 18 finished with value: 0.7216659282233053 and parameters: {'learning_rate': 0.13525279838571563, 'num_leaves': 42, 'max_depth': 6, 'min_child_samples': 15, 'feature_fraction': 0.603764577531718, 'bagging_fraction': 0.6674622538964043, 'lambda_l1': 0.5087582631871974, 'lambda_l2': 0.838755653651915}. Best is trial 17 with value: 0.7987151085511741.\n"
     ]
    },
    {
     "name": "stdout",
     "output_type": "stream",
     "text": [
      "Early stopping, best iteration is:\n",
      "[66]\tvalid_0's auc: 0.721666\n",
      "Training until validation scores don't improve for 30 rounds\n"
     ]
    },
    {
     "name": "stderr",
     "output_type": "stream",
     "text": [
      "[I 2025-08-04 22:48:45,391] Trial 19 finished with value: 0.7501993797075764 and parameters: {'learning_rate': 0.04835397912051398, 'num_leaves': 34, 'max_depth': 12, 'min_child_samples': 15, 'feature_fraction': 0.8549899181755742, 'bagging_fraction': 0.7788426556057917, 'lambda_l1': 0.1126534286087667, 'lambda_l2': 0.9966786858994022}. Best is trial 17 with value: 0.7987151085511741.\n"
     ]
    },
    {
     "name": "stdout",
     "output_type": "stream",
     "text": [
      "Early stopping, best iteration is:\n",
      "[19]\tvalid_0's auc: 0.750199\n",
      "Training until validation scores don't improve for 30 rounds\n"
     ]
    },
    {
     "name": "stderr",
     "output_type": "stream",
     "text": [
      "[I 2025-08-04 22:48:45,988] Trial 20 finished with value: 0.7373504652193178 and parameters: {'learning_rate': 0.14272830959559002, 'num_leaves': 24, 'max_depth': 8, 'min_child_samples': 11, 'feature_fraction': 0.7207225915752987, 'bagging_fraction': 0.9313392541904839, 'lambda_l1': 0.3494967840938393, 'lambda_l2': 0.7634520825529455}. Best is trial 17 with value: 0.7987151085511741.\n"
     ]
    },
    {
     "name": "stdout",
     "output_type": "stream",
     "text": [
      "Did not meet early stopping. Best iteration is:\n",
      "[88]\tvalid_0's auc: 0.73735\n",
      "Training until validation scores don't improve for 30 rounds\n"
     ]
    },
    {
     "name": "stderr",
     "output_type": "stream",
     "text": [
      "[I 2025-08-04 22:48:46,883] Trial 21 finished with value: 0.7422241914045193 and parameters: {'learning_rate': 0.10768841337159107, 'num_leaves': 56, 'max_depth': 11, 'min_child_samples': 26, 'feature_fraction': 0.6539847656359824, 'bagging_fraction': 0.7264266613780991, 'lambda_l1': 0.347039274668839, 'lambda_l2': 0.548601569246931}. Best is trial 17 with value: 0.7987151085511741.\n"
     ]
    },
    {
     "name": "stdout",
     "output_type": "stream",
     "text": [
      "Did not meet early stopping. Best iteration is:\n",
      "[90]\tvalid_0's auc: 0.742224\n",
      "Training until validation scores don't improve for 30 rounds\n"
     ]
    },
    {
     "name": "stderr",
     "output_type": "stream",
     "text": [
      "[I 2025-08-04 22:48:47,214] Trial 22 finished with value: 0.732853345148427 and parameters: {'learning_rate': 0.08713420809942962, 'num_leaves': 46, 'max_depth': 10, 'min_child_samples': 17, 'feature_fraction': 0.6030227405841971, 'bagging_fraction': 0.6557344642104755, 'lambda_l1': 0.1633090810871651, 'lambda_l2': 0.6218158760221613}. Best is trial 17 with value: 0.7987151085511741.\n"
     ]
    },
    {
     "name": "stdout",
     "output_type": "stream",
     "text": [
      "Early stopping, best iteration is:\n",
      "[5]\tvalid_0's auc: 0.732853\n",
      "Training until validation scores don't improve for 30 rounds\n"
     ]
    },
    {
     "name": "stderr",
     "output_type": "stream",
     "text": [
      "[I 2025-08-04 22:48:47,973] Trial 23 finished with value: 0.7313690739920249 and parameters: {'learning_rate': 0.115166436619513, 'num_leaves': 33, 'max_depth': 12, 'min_child_samples': 33, 'feature_fraction': 0.7163982970751936, 'bagging_fraction': 0.7124112291525585, 'lambda_l1': 0.2741710970495143, 'lambda_l2': 0.7009956501153325}. Best is trial 17 with value: 0.7987151085511741.\n"
     ]
    },
    {
     "name": "stdout",
     "output_type": "stream",
     "text": [
      "Early stopping, best iteration is:\n",
      "[69]\tvalid_0's auc: 0.731369\n",
      "Training until validation scores don't improve for 30 rounds\n"
     ]
    },
    {
     "name": "stderr",
     "output_type": "stream",
     "text": [
      "[I 2025-08-04 22:48:48,400] Trial 24 finished with value: 0.7370403190075322 and parameters: {'learning_rate': 0.14948368132979253, 'num_leaves': 58, 'max_depth': 10, 'min_child_samples': 10, 'feature_fraction': 0.6399978632883171, 'bagging_fraction': 0.7949119478212603, 'lambda_l1': 0.5496430357340356, 'lambda_l2': 0.8719347409778635}. Best is trial 17 with value: 0.7987151085511741.\n"
     ]
    },
    {
     "name": "stdout",
     "output_type": "stream",
     "text": [
      "Early stopping, best iteration is:\n",
      "[7]\tvalid_0's auc: 0.73704\n",
      "Training until validation scores don't improve for 30 rounds\n"
     ]
    },
    {
     "name": "stderr",
     "output_type": "stream",
     "text": [
      "[I 2025-08-04 22:48:49,118] Trial 25 finished with value: 0.7997784669915817 and parameters: {'learning_rate': 0.08601911703252023, 'num_leaves': 46, 'max_depth': 11, 'min_child_samples': 19, 'feature_fraction': 0.6747314175913937, 'bagging_fraction': 0.840897128905015, 'lambda_l1': 0.3259679540714146, 'lambda_l2': 0.7724499505109377}. Best is trial 25 with value: 0.7997784669915817.\n"
     ]
    },
    {
     "name": "stdout",
     "output_type": "stream",
     "text": [
      "Early stopping, best iteration is:\n",
      "[46]\tvalid_0's auc: 0.799778\n",
      "Training until validation scores don't improve for 30 rounds\n"
     ]
    },
    {
     "name": "stderr",
     "output_type": "stream",
     "text": [
      "[I 2025-08-04 22:48:49,453] Trial 26 finished with value: 0.7243686309260079 and parameters: {'learning_rate': 0.08901597093631398, 'num_leaves': 47, 'max_depth': 8, 'min_child_samples': 19, 'feature_fraction': 0.7025477346839359, 'bagging_fraction': 0.8620071097219213, 'lambda_l1': 0.44493887070997107, 'lambda_l2': 0.7512873806580227}. Best is trial 25 with value: 0.7997784669915817.\n"
     ]
    },
    {
     "name": "stdout",
     "output_type": "stream",
     "text": [
      "Early stopping, best iteration is:\n",
      "[10]\tvalid_0's auc: 0.724369\n",
      "Training until validation scores don't improve for 30 rounds\n"
     ]
    },
    {
     "name": "stderr",
     "output_type": "stream",
     "text": [
      "[I 2025-08-04 22:48:49,762] Trial 27 finished with value: 0.7196942844483828 and parameters: {'learning_rate': 0.04470727680506253, 'num_leaves': 37, 'max_depth': 10, 'min_child_samples': 13, 'feature_fraction': 0.6315636908377877, 'bagging_fraction': 0.8436640663917299, 'lambda_l1': 0.7353264224716087, 'lambda_l2': 0.7288027713010908}. Best is trial 25 with value: 0.7997784669915817.\n"
     ]
    },
    {
     "name": "stdout",
     "output_type": "stream",
     "text": [
      "Early stopping, best iteration is:\n",
      "[7]\tvalid_0's auc: 0.719694\n",
      "Training until validation scores don't improve for 30 rounds\n"
     ]
    },
    {
     "name": "stderr",
     "output_type": "stream",
     "text": [
      "[I 2025-08-04 22:48:50,565] Trial 28 finished with value: 0.7711120957022597 and parameters: {'learning_rate': 0.19910445411510266, 'num_leaves': 47, 'max_depth': 12, 'min_child_samples': 23, 'feature_fraction': 0.7645480378965804, 'bagging_fraction': 0.9184295864148649, 'lambda_l1': 0.3971352174164343, 'lambda_l2': 0.8865902925019026}. Best is trial 25 with value: 0.7997784669915817.\n"
     ]
    },
    {
     "name": "stdout",
     "output_type": "stream",
     "text": [
      "Did not meet early stopping. Best iteration is:\n",
      "[95]\tvalid_0's auc: 0.771112\n",
      "Training until validation scores don't improve for 30 rounds\n"
     ]
    },
    {
     "name": "stderr",
     "output_type": "stream",
     "text": [
      "[I 2025-08-04 22:48:51,267] Trial 29 finished with value: 0.7427115640230394 and parameters: {'learning_rate': 0.12111572375914688, 'num_leaves': 30, 'max_depth': 11, 'min_child_samples': 18, 'feature_fraction': 0.6573540881722739, 'bagging_fraction': 0.7973823464707732, 'lambda_l1': 0.31768852476609766, 'lambda_l2': 0.9781636235259958}. Best is trial 25 with value: 0.7997784669915817.\n"
     ]
    },
    {
     "name": "stdout",
     "output_type": "stream",
     "text": [
      "Did not meet early stopping. Best iteration is:\n",
      "[100]\tvalid_0's auc: 0.742712\n",
      "\n",
      "📍 Training for label: SR-MMP\n"
     ]
    },
    {
     "name": "stderr",
     "output_type": "stream",
     "text": [
      "[I 2025-08-04 22:48:56,386] A new study created in memory with name: no-name-53dd9dc3-e870-4d2f-8f05-d2dd94ac2db1\n"
     ]
    },
    {
     "name": "stdout",
     "output_type": "stream",
     "text": [
      "Training until validation scores don't improve for 30 rounds\n"
     ]
    },
    {
     "name": "stderr",
     "output_type": "stream",
     "text": [
      "[I 2025-08-04 22:48:57,432] Trial 0 finished with value: 0.9206455054681248 and parameters: {'learning_rate': 0.0594687822456525, 'num_leaves': 47, 'max_depth': 12, 'min_child_samples': 29, 'feature_fraction': 0.7143536341223082, 'bagging_fraction': 0.916046496336424, 'lambda_l1': 0.049516240098551045, 'lambda_l2': 0.5261358532317839}. Best is trial 0 with value: 0.9206455054681248.\n"
     ]
    },
    {
     "name": "stdout",
     "output_type": "stream",
     "text": [
      "Did not meet early stopping. Best iteration is:\n",
      "[99]\tvalid_0's auc: 0.920646\n",
      "Training until validation scores don't improve for 30 rounds\n"
     ]
    },
    {
     "name": "stderr",
     "output_type": "stream",
     "text": [
      "[I 2025-08-04 22:48:57,910] Trial 1 finished with value: 0.9240686405263626 and parameters: {'learning_rate': 0.19209966353674732, 'num_leaves': 66, 'max_depth': 9, 'min_child_samples': 24, 'feature_fraction': 0.7970263467051739, 'bagging_fraction': 0.7642081729682083, 'lambda_l1': 0.7209142046861832, 'lambda_l2': 0.051981147609508005}. Best is trial 1 with value: 0.9240686405263626.\n"
     ]
    },
    {
     "name": "stdout",
     "output_type": "stream",
     "text": [
      "Early stopping, best iteration is:\n",
      "[14]\tvalid_0's auc: 0.924069\n",
      "Training until validation scores don't improve for 30 rounds\n"
     ]
    },
    {
     "name": "stderr",
     "output_type": "stream",
     "text": [
      "[I 2025-08-04 22:48:58,471] Trial 2 finished with value: 0.9218680537032097 and parameters: {'learning_rate': 0.06694475399077442, 'num_leaves': 50, 'max_depth': 6, 'min_child_samples': 15, 'feature_fraction': 0.9155682464389704, 'bagging_fraction': 0.6565656966877232, 'lambda_l1': 0.01669638896170944, 'lambda_l2': 0.8271681249297815}. Best is trial 1 with value: 0.9240686405263626.\n"
     ]
    },
    {
     "name": "stdout",
     "output_type": "stream",
     "text": [
      "Early stopping, best iteration is:\n",
      "[45]\tvalid_0's auc: 0.921868\n",
      "Training until validation scores don't improve for 30 rounds\n"
     ]
    },
    {
     "name": "stderr",
     "output_type": "stream",
     "text": [
      "[I 2025-08-04 22:48:59,191] Trial 3 finished with value: 0.9212901218102605 and parameters: {'learning_rate': 0.1298191856985711, 'num_leaves': 45, 'max_depth': 8, 'min_child_samples': 17, 'feature_fraction': 0.7243231784698446, 'bagging_fraction': 0.6437471507512174, 'lambda_l1': 0.4161502457398363, 'lambda_l2': 0.18371781919371521}. Best is trial 1 with value: 0.9240686405263626.\n"
     ]
    },
    {
     "name": "stdout",
     "output_type": "stream",
     "text": [
      "Early stopping, best iteration is:\n",
      "[56]\tvalid_0's auc: 0.92129\n",
      "Training until validation scores don't improve for 30 rounds\n"
     ]
    },
    {
     "name": "stderr",
     "output_type": "stream",
     "text": [
      "[I 2025-08-04 22:48:59,977] Trial 4 finished with value: 0.9249799946652442 and parameters: {'learning_rate': 0.13257108975605364, 'num_leaves': 49, 'max_depth': 11, 'min_child_samples': 40, 'feature_fraction': 0.8222615473440448, 'bagging_fraction': 0.7148965282061449, 'lambda_l1': 0.9903767027988198, 'lambda_l2': 0.05698734849337117}. Best is trial 4 with value: 0.9249799946652442.\n"
     ]
    },
    {
     "name": "stdout",
     "output_type": "stream",
     "text": [
      "Did not meet early stopping. Best iteration is:\n",
      "[77]\tvalid_0's auc: 0.92498\n",
      "Training until validation scores don't improve for 30 rounds\n"
     ]
    },
    {
     "name": "stderr",
     "output_type": "stream",
     "text": [
      "[I 2025-08-04 22:49:00,868] Trial 5 finished with value: 0.9309149106428382 and parameters: {'learning_rate': 0.050870605339096195, 'num_leaves': 41, 'max_depth': 8, 'min_child_samples': 12, 'feature_fraction': 0.7339118314742598, 'bagging_fraction': 0.6862162175986223, 'lambda_l1': 0.17007552848328056, 'lambda_l2': 0.5201801680034116}. Best is trial 5 with value: 0.9309149106428382.\n"
     ]
    },
    {
     "name": "stdout",
     "output_type": "stream",
     "text": [
      "Did not meet early stopping. Best iteration is:\n",
      "[100]\tvalid_0's auc: 0.930915\n",
      "Training until validation scores don't improve for 30 rounds\n"
     ]
    },
    {
     "name": "stderr",
     "output_type": "stream",
     "text": [
      "[I 2025-08-04 22:49:01,779] Trial 6 finished with value: 0.9196007824308705 and parameters: {'learning_rate': 0.15358565868648144, 'num_leaves': 50, 'max_depth': 11, 'min_child_samples': 21, 'feature_fraction': 0.7751674397839624, 'bagging_fraction': 0.6792756297718004, 'lambda_l1': 0.11112892923946383, 'lambda_l2': 0.8190126106063319}. Best is trial 5 with value: 0.9309149106428382.\n"
     ]
    },
    {
     "name": "stdout",
     "output_type": "stream",
     "text": [
      "Early stopping, best iteration is:\n",
      "[56]\tvalid_0's auc: 0.919601\n",
      "Training until validation scores don't improve for 30 rounds\n"
     ]
    },
    {
     "name": "stderr",
     "output_type": "stream",
     "text": [
      "[I 2025-08-04 22:49:02,308] Trial 7 finished with value: 0.9278029696808038 and parameters: {'learning_rate': 0.11522354205879046, 'num_leaves': 41, 'max_depth': 6, 'min_child_samples': 25, 'feature_fraction': 0.9974463737915614, 'bagging_fraction': 0.8167103691237282, 'lambda_l1': 0.977906902504659, 'lambda_l2': 0.4722202626946854}. Best is trial 5 with value: 0.9309149106428382.\n"
     ]
    },
    {
     "name": "stdout",
     "output_type": "stream",
     "text": [
      "Early stopping, best iteration is:\n",
      "[49]\tvalid_0's auc: 0.927803\n",
      "Training until validation scores don't improve for 30 rounds\n",
      "Did not meet early stopping. Best iteration is:\n",
      "[100]\tvalid_0's auc: 0.90573\n"
     ]
    },
    {
     "name": "stderr",
     "output_type": "stream",
     "text": [
      "[I 2025-08-04 22:49:02,509] Trial 8 finished with value: 0.9057304170000888 and parameters: {'learning_rate': 0.027186850821750548, 'num_leaves': 66, 'max_depth': 3, 'min_child_samples': 16, 'feature_fraction': 0.7237624345312643, 'bagging_fraction': 0.841259523889858, 'lambda_l1': 0.5217896292067814, 'lambda_l2': 0.6581228689664818}. Best is trial 5 with value: 0.9309149106428382.\n"
     ]
    },
    {
     "name": "stdout",
     "output_type": "stream",
     "text": [
      "Training until validation scores don't improve for 30 rounds\n"
     ]
    },
    {
     "name": "stderr",
     "output_type": "stream",
     "text": [
      "[I 2025-08-04 22:49:03,603] Trial 9 finished with value: 0.9199119765270739 and parameters: {'learning_rate': 0.014466063710526651, 'num_leaves': 73, 'max_depth': 11, 'min_child_samples': 21, 'feature_fraction': 0.7769053219250371, 'bagging_fraction': 0.7523904372437418, 'lambda_l1': 0.5034259180622314, 'lambda_l2': 0.6456391841281806}. Best is trial 5 with value: 0.9309149106428382.\n"
     ]
    },
    {
     "name": "stdout",
     "output_type": "stream",
     "text": [
      "Early stopping, best iteration is:\n",
      "[68]\tvalid_0's auc: 0.919912\n",
      "Training until validation scores don't improve for 30 rounds\n",
      "Did not meet early stopping. Best iteration is:\n",
      "[98]\tvalid_0's auc: 0.919267\n"
     ]
    },
    {
     "name": "stderr",
     "output_type": "stream",
     "text": [
      "[I 2025-08-04 22:49:03,795] Trial 10 finished with value: 0.9192673601849383 and parameters: {'learning_rate': 0.07948157845119896, 'num_leaves': 22, 'max_depth': 3, 'min_child_samples': 10, 'feature_fraction': 0.6055480185647952, 'bagging_fraction': 0.9745844101755391, 'lambda_l1': 0.24841850682161615, 'lambda_l2': 0.31731249236087933}. Best is trial 5 with value: 0.9309149106428382.\n"
     ]
    },
    {
     "name": "stdout",
     "output_type": "stream",
     "text": [
      "Training until validation scores don't improve for 30 rounds\n"
     ]
    },
    {
     "name": "stderr",
     "output_type": "stream",
     "text": [
      "[I 2025-08-04 22:49:04,323] Trial 11 finished with value: 0.9281141637770072 and parameters: {'learning_rate': 0.10096940986179613, 'num_leaves': 30, 'max_depth': 6, 'min_child_samples': 41, 'feature_fraction': 0.9876795335979853, 'bagging_fraction': 0.847185169370146, 'lambda_l1': 0.9841622331720056, 'lambda_l2': 0.40556294144158445}. Best is trial 5 with value: 0.9309149106428382.\n"
     ]
    },
    {
     "name": "stdout",
     "output_type": "stream",
     "text": [
      "Early stopping, best iteration is:\n",
      "[64]\tvalid_0's auc: 0.928114\n",
      "Training until validation scores don't improve for 30 rounds\n"
     ]
    },
    {
     "name": "stderr",
     "output_type": "stream",
     "text": [
      "[I 2025-08-04 22:49:04,831] Trial 12 finished with value: 0.9259135769538545 and parameters: {'learning_rate': 0.09198667609968986, 'num_leaves': 32, 'max_depth': 6, 'min_child_samples': 49, 'feature_fraction': 0.9047819940708043, 'bagging_fraction': 0.8709145130902934, 'lambda_l1': 0.7559232830229372, 'lambda_l2': 0.38596419716037583}. Best is trial 5 with value: 0.9309149106428382.\n"
     ]
    },
    {
     "name": "stdout",
     "output_type": "stream",
     "text": [
      "Did not meet early stopping. Best iteration is:\n",
      "[93]\tvalid_0's auc: 0.925914\n",
      "Training until validation scores don't improve for 30 rounds\n"
     ]
    },
    {
     "name": "stderr",
     "output_type": "stream",
     "text": [
      "[I 2025-08-04 22:49:05,423] Trial 13 finished with value: 0.9219125100026673 and parameters: {'learning_rate': 0.04707095113451169, 'num_leaves': 32, 'max_depth': 8, 'min_child_samples': 39, 'feature_fraction': 0.6234479032328283, 'bagging_fraction': 0.9130592269401784, 'lambda_l1': 0.27149324633837435, 'lambda_l2': 0.27089802585086825}. Best is trial 5 with value: 0.9309149106428382.\n"
     ]
    },
    {
     "name": "stdout",
     "output_type": "stream",
     "text": [
      "Did not meet early stopping. Best iteration is:\n",
      "[100]\tvalid_0's auc: 0.921913\n",
      "Training until validation scores don't improve for 30 rounds\n"
     ]
    },
    {
     "name": "stderr",
     "output_type": "stream",
     "text": [
      "[I 2025-08-04 22:49:05,852] Trial 14 finished with value: 0.9248466257668712 and parameters: {'learning_rate': 0.04113827410394805, 'num_leaves': 20, 'max_depth': 5, 'min_child_samples': 37, 'feature_fraction': 0.8850811933898897, 'bagging_fraction': 0.6188370116191793, 'lambda_l1': 0.7633036995206236, 'lambda_l2': 0.6089636223861263}. Best is trial 5 with value: 0.9309149106428382.\n"
     ]
    },
    {
     "name": "stdout",
     "output_type": "stream",
     "text": [
      "Did not meet early stopping. Best iteration is:\n",
      "[82]\tvalid_0's auc: 0.924847\n",
      "Training until validation scores don't improve for 30 rounds\n"
     ]
    },
    {
     "name": "stderr",
     "output_type": "stream",
     "text": [
      "[I 2025-08-04 22:49:06,551] Trial 15 finished with value: 0.9229127767404641 and parameters: {'learning_rate': 0.10519114611432193, 'num_leaves': 35, 'max_depth': 9, 'min_child_samples': 48, 'feature_fraction': 0.9900241271942856, 'bagging_fraction': 0.7734210209332218, 'lambda_l1': 0.6313495969631473, 'lambda_l2': 0.977628553667741}. Best is trial 5 with value: 0.9309149106428382.\n"
     ]
    },
    {
     "name": "stdout",
     "output_type": "stream",
     "text": [
      "Early stopping, best iteration is:\n",
      "[59]\tvalid_0's auc: 0.922913\n",
      "Training until validation scores don't improve for 30 rounds\n"
     ]
    },
    {
     "name": "stderr",
     "output_type": "stream",
     "text": [
      "[I 2025-08-04 22:49:06,816] Trial 16 finished with value: 0.9266026495954477 and parameters: {'learning_rate': 0.17063067360466283, 'num_leaves': 57, 'max_depth': 4, 'min_child_samples': 33, 'feature_fraction': 0.6757707779137773, 'bagging_fraction': 0.7062058545889328, 'lambda_l1': 0.3114282142182082, 'lambda_l2': 0.44128749509392423}. Best is trial 5 with value: 0.9309149106428382.\n"
     ]
    },
    {
     "name": "stdout",
     "output_type": "stream",
     "text": [
      "Did not meet early stopping. Best iteration is:\n",
      "[88]\tvalid_0's auc: 0.926603\n",
      "Training until validation scores don't improve for 30 rounds\n"
     ]
    },
    {
     "name": "stderr",
     "output_type": "stream",
     "text": [
      "[I 2025-08-04 22:49:07,532] Trial 17 finished with value: 0.9226904952431759 and parameters: {'learning_rate': 0.08744069919888853, 'num_leaves': 27, 'max_depth': 7, 'min_child_samples': 10, 'feature_fraction': 0.8712911112196429, 'bagging_fraction': 0.8698429528462941, 'lambda_l1': 0.8849177783834212, 'lambda_l2': 0.21323394118932726}. Best is trial 5 with value: 0.9309149106428382.\n"
     ]
    },
    {
     "name": "stdout",
     "output_type": "stream",
     "text": [
      "Did not meet early stopping. Best iteration is:\n",
      "[78]\tvalid_0's auc: 0.92269\n",
      "Training until validation scores don't improve for 30 rounds\n"
     ]
    },
    {
     "name": "stderr",
     "output_type": "stream",
     "text": [
      "[I 2025-08-04 22:49:08,333] Trial 18 finished with value: 0.9221347914999555 and parameters: {'learning_rate': 0.061088169287715786, 'num_leaves': 38, 'max_depth': 9, 'min_child_samples': 44, 'feature_fraction': 0.9460750841278676, 'bagging_fraction': 0.6077650594503268, 'lambda_l1': 0.16392846969618025, 'lambda_l2': 0.7556257080723154}. Best is trial 5 with value: 0.9309149106428382.\n"
     ]
    },
    {
     "name": "stdout",
     "output_type": "stream",
     "text": [
      "Did not meet early stopping. Best iteration is:\n",
      "[99]\tvalid_0's auc: 0.922135\n",
      "Training until validation scores don't improve for 30 rounds\n"
     ]
    },
    {
     "name": "stderr",
     "output_type": "stream",
     "text": [
      "[I 2025-08-04 22:49:08,762] Trial 19 finished with value: 0.9245576598203965 and parameters: {'learning_rate': 0.12945974023553497, 'num_leaves': 27, 'max_depth': 7, 'min_child_samples': 33, 'feature_fraction': 0.838351960996104, 'bagging_fraction': 0.9746718959238238, 'lambda_l1': 0.3849130146796834, 'lambda_l2': 0.5651641824169101}. Best is trial 5 with value: 0.9309149106428382.\n"
     ]
    },
    {
     "name": "stdout",
     "output_type": "stream",
     "text": [
      "Early stopping, best iteration is:\n",
      "[38]\tvalid_0's auc: 0.924558\n",
      "Training until validation scores don't improve for 30 rounds\n"
     ]
    },
    {
     "name": "stderr",
     "output_type": "stream",
     "text": [
      "[I 2025-08-04 22:49:09,171] Trial 20 finished with value: 0.9159775940250734 and parameters: {'learning_rate': 0.028557646744101953, 'num_leaves': 57, 'max_depth': 5, 'min_child_samples': 44, 'feature_fraction': 0.6662732121835733, 'bagging_fraction': 0.7357483882447977, 'lambda_l1': 0.6103194325053627, 'lambda_l2': 0.40238743133254434}. Best is trial 5 with value: 0.9309149106428382.\n"
     ]
    },
    {
     "name": "stdout",
     "output_type": "stream",
     "text": [
      "Did not meet early stopping. Best iteration is:\n",
      "[100]\tvalid_0's auc: 0.915978\n",
      "Training until validation scores don't improve for 30 rounds\n"
     ]
    },
    {
     "name": "stderr",
     "output_type": "stream",
     "text": [
      "[I 2025-08-04 22:49:09,736] Trial 21 finished with value: 0.9239352716279897 and parameters: {'learning_rate': 0.11097191386494279, 'num_leaves': 41, 'max_depth': 6, 'min_child_samples': 27, 'feature_fraction': 0.9999488091663404, 'bagging_fraction': 0.8112187373884184, 'lambda_l1': 0.9679829310378442, 'lambda_l2': 0.5006404512014277}. Best is trial 5 with value: 0.9309149106428382.\n"
     ]
    },
    {
     "name": "stdout",
     "output_type": "stream",
     "text": [
      "Early stopping, best iteration is:\n",
      "[57]\tvalid_0's auc: 0.923935\n",
      "Training until validation scores don't improve for 30 rounds\n"
     ]
    },
    {
     "name": "stderr",
     "output_type": "stream",
     "text": [
      "[I 2025-08-04 22:49:10,077] Trial 22 finished with value: 0.9179781275006668 and parameters: {'learning_rate': 0.10811862747924171, 'num_leaves': 41, 'max_depth': 5, 'min_child_samples': 31, 'feature_fraction': 0.962091457497451, 'bagging_fraction': 0.8081812746896745, 'lambda_l1': 0.8665271005690504, 'lambda_l2': 0.44675760996487063}. Best is trial 5 with value: 0.9309149106428382.\n"
     ]
    },
    {
     "name": "stdout",
     "output_type": "stream",
     "text": [
      "Early stopping, best iteration is:\n",
      "[40]\tvalid_0's auc: 0.917978\n",
      "Training until validation scores don't improve for 30 rounds\n"
     ]
    },
    {
     "name": "stderr",
     "output_type": "stream",
     "text": [
      "[I 2025-08-04 22:49:10,544] Trial 23 finished with value: 0.9145327642927003 and parameters: {'learning_rate': 0.14795448496235292, 'num_leaves': 56, 'max_depth': 7, 'min_child_samples': 25, 'feature_fraction': 0.9472887438269544, 'bagging_fraction': 0.8461479062915664, 'lambda_l1': 0.8831994233019842, 'lambda_l2': 0.34090117701584166}. Best is trial 5 with value: 0.9309149106428382.\n"
     ]
    },
    {
     "name": "stdout",
     "output_type": "stream",
     "text": [
      "Early stopping, best iteration is:\n",
      "[21]\tvalid_0's auc: 0.914533\n",
      "Training until validation scores don't improve for 30 rounds\n"
     ]
    },
    {
     "name": "stderr",
     "output_type": "stream",
     "text": [
      "[I 2025-08-04 22:49:11,060] Trial 24 finished with value: 0.9182670934471414 and parameters: {'learning_rate': 0.07919893375658252, 'num_leaves': 27, 'max_depth': 8, 'min_child_samples': 36, 'feature_fraction': 0.9742779959465044, 'bagging_fraction': 0.9135525404323869, 'lambda_l1': 0.8105829060690638, 'lambda_l2': 0.7218392481382192}. Best is trial 5 with value: 0.9309149106428382.\n"
     ]
    },
    {
     "name": "stdout",
     "output_type": "stream",
     "text": [
      "Early stopping, best iteration is:\n",
      "[32]\tvalid_0's auc: 0.918267\n",
      "Training until validation scores don't improve for 30 rounds\n"
     ]
    },
    {
     "name": "stderr",
     "output_type": "stream",
     "text": [
      "[I 2025-08-04 22:49:11,382] Trial 25 finished with value: 0.9184893749444296 and parameters: {'learning_rate': 0.11966376722200461, 'num_leaves': 42, 'max_depth': 4, 'min_child_samples': 13, 'feature_fraction': 0.9283274277689172, 'bagging_fraction': 0.7864711387768124, 'lambda_l1': 0.6412300339051968, 'lambda_l2': 0.48901159573612046}. Best is trial 5 with value: 0.9309149106428382.\n"
     ]
    },
    {
     "name": "stdout",
     "output_type": "stream",
     "text": [
      "Early stopping, best iteration is:\n",
      "[65]\tvalid_0's auc: 0.918489\n",
      "Training until validation scores don't improve for 30 rounds\n"
     ]
    },
    {
     "name": "stderr",
     "output_type": "stream",
     "text": [
      "[I 2025-08-04 22:49:11,864] Trial 26 finished with value: 0.9125989152662932 and parameters: {'learning_rate': 0.0955472887497901, 'num_leaves': 36, 'max_depth': 6, 'min_child_samples': 20, 'feature_fraction': 0.8570692133409296, 'bagging_fraction': 0.8299399371463617, 'lambda_l1': 0.9825698322832562, 'lambda_l2': 0.16607535307282112}. Best is trial 5 with value: 0.9309149106428382.\n"
     ]
    },
    {
     "name": "stdout",
     "output_type": "stream",
     "text": [
      "Early stopping, best iteration is:\n",
      "[29]\tvalid_0's auc: 0.912599\n",
      "Training until validation scores don't improve for 30 rounds\n"
     ]
    },
    {
     "name": "stderr",
     "output_type": "stream",
     "text": [
      "[I 2025-08-04 22:49:12,238] Trial 27 finished with value: 0.9250466791144305 and parameters: {'learning_rate': 0.15290683321572637, 'num_leaves': 30, 'max_depth': 7, 'min_child_samples': 43, 'feature_fraction': 0.7507978098188284, 'bagging_fraction': 0.8677880377302362, 'lambda_l1': 0.8995134487441978, 'lambda_l2': 0.5812328852146442}. Best is trial 5 with value: 0.9309149106428382.\n"
     ]
    },
    {
     "name": "stdout",
     "output_type": "stream",
     "text": [
      "Early stopping, best iteration is:\n",
      "[33]\tvalid_0's auc: 0.925047\n",
      "Training until validation scores don't improve for 30 rounds\n"
     ]
    },
    {
     "name": "stderr",
     "output_type": "stream",
     "text": [
      "[I 2025-08-04 22:49:13,065] Trial 28 finished with value: 0.9223126166977861 and parameters: {'learning_rate': 0.07420579505394623, 'num_leaves': 38, 'max_depth': 10, 'min_child_samples': 19, 'feature_fraction': 0.6764876178313786, 'bagging_fraction': 0.7212742560410428, 'lambda_l1': 0.16806579168298685, 'lambda_l2': 0.26427324841137645}. Best is trial 5 with value: 0.9309149106428382.\n"
     ]
    },
    {
     "name": "stdout",
     "output_type": "stream",
     "text": [
      "Did not meet early stopping. Best iteration is:\n",
      "[85]\tvalid_0's auc: 0.922313\n",
      "Training until validation scores don't improve for 30 rounds\n"
     ]
    },
    {
     "name": "stderr",
     "output_type": "stream",
     "text": [
      "[I 2025-08-04 22:49:13,387] Trial 29 finished with value: 0.9188672534898196 and parameters: {'learning_rate': 0.05326527201920031, 'num_leaves': 45, 'max_depth': 4, 'min_child_samples': 30, 'feature_fraction': 0.8940266187142893, 'bagging_fraction': 0.9401891156982843, 'lambda_l1': 0.08689966626723722, 'lambda_l2': 0.5082300455280148}. Best is trial 5 with value: 0.9309149106428382.\n"
     ]
    },
    {
     "name": "stdout",
     "output_type": "stream",
     "text": [
      "Did not meet early stopping. Best iteration is:\n",
      "[100]\tvalid_0's auc: 0.918867\n",
      "\n",
      "📍 Training for label: SR-p53\n"
     ]
    },
    {
     "name": "stderr",
     "output_type": "stream",
     "text": [
      "[I 2025-08-04 22:49:20,863] A new study created in memory with name: no-name-814555f5-cf90-470e-92aa-957a2baae95b\n"
     ]
    },
    {
     "name": "stdout",
     "output_type": "stream",
     "text": [
      "Training until validation scores don't improve for 30 rounds\n"
     ]
    },
    {
     "name": "stderr",
     "output_type": "stream",
     "text": [
      "[I 2025-08-04 22:49:21,296] Trial 0 finished with value: 0.8480127484064491 and parameters: {'learning_rate': 0.011416310526397189, 'num_leaves': 66, 'max_depth': 8, 'min_child_samples': 31, 'feature_fraction': 0.7535413373136515, 'bagging_fraction': 0.7811538638013555, 'lambda_l1': 0.8306350193913142, 'lambda_l2': 0.5099727493619496}. Best is trial 0 with value: 0.8480127484064491.\n"
     ]
    },
    {
     "name": "stdout",
     "output_type": "stream",
     "text": [
      "Early stopping, best iteration is:\n",
      "[6]\tvalid_0's auc: 0.848013\n",
      "Training until validation scores don't improve for 30 rounds\n",
      "Early stopping, best iteration is:\n",
      "[66]\tvalid_0's auc: 0.866742\n"
     ]
    },
    {
     "name": "stderr",
     "output_type": "stream",
     "text": [
      "[I 2025-08-04 22:49:21,487] Trial 1 finished with value: 0.8667416572928384 and parameters: {'learning_rate': 0.1505246712207829, 'num_leaves': 67, 'max_depth': 3, 'min_child_samples': 40, 'feature_fraction': 0.8186434618771905, 'bagging_fraction': 0.6513940394291932, 'lambda_l1': 0.791939194587225, 'lambda_l2': 0.49323714556067144}. Best is trial 1 with value: 0.8667416572928384.\n"
     ]
    },
    {
     "name": "stdout",
     "output_type": "stream",
     "text": [
      "Training until validation scores don't improve for 30 rounds\n"
     ]
    },
    {
     "name": "stderr",
     "output_type": "stream",
     "text": [
      "[I 2025-08-04 22:49:22,139] Trial 2 finished with value: 0.8775403074615673 and parameters: {'learning_rate': 0.15054611859705805, 'num_leaves': 79, 'max_depth': 9, 'min_child_samples': 48, 'feature_fraction': 0.6508734223346729, 'bagging_fraction': 0.6467485509414668, 'lambda_l1': 0.3835383811860722, 'lambda_l2': 0.855146450713746}. Best is trial 2 with value: 0.8775403074615673.\n"
     ]
    },
    {
     "name": "stdout",
     "output_type": "stream",
     "text": [
      "Did not meet early stopping. Best iteration is:\n",
      "[72]\tvalid_0's auc: 0.87754\n",
      "Training until validation scores don't improve for 30 rounds\n"
     ]
    },
    {
     "name": "stderr",
     "output_type": "stream",
     "text": [
      "[I 2025-08-04 22:49:22,942] Trial 3 finished with value: 0.8758905136857893 and parameters: {'learning_rate': 0.16141130182216, 'num_leaves': 48, 'max_depth': 10, 'min_child_samples': 12, 'feature_fraction': 0.9583706070912451, 'bagging_fraction': 0.8015652826901044, 'lambda_l1': 0.9763453757453726, 'lambda_l2': 0.033773560294446}. Best is trial 2 with value: 0.8775403074615673.\n"
     ]
    },
    {
     "name": "stdout",
     "output_type": "stream",
     "text": [
      "Early stopping, best iteration is:\n",
      "[55]\tvalid_0's auc: 0.875891\n",
      "Training until validation scores don't improve for 30 rounds\n"
     ]
    },
    {
     "name": "stderr",
     "output_type": "stream",
     "text": [
      "[I 2025-08-04 22:49:23,863] Trial 4 finished with value: 0.8709411323584553 and parameters: {'learning_rate': 0.04965210459313275, 'num_leaves': 47, 'max_depth': 11, 'min_child_samples': 24, 'feature_fraction': 0.6744971293047063, 'bagging_fraction': 0.9437085938476937, 'lambda_l1': 0.1350000785910488, 'lambda_l2': 0.3077488402138554}. Best is trial 2 with value: 0.8775403074615673.\n"
     ]
    },
    {
     "name": "stdout",
     "output_type": "stream",
     "text": [
      "Did not meet early stopping. Best iteration is:\n",
      "[100]\tvalid_0's auc: 0.870941\n",
      "Training until validation scores don't improve for 30 rounds\n"
     ]
    },
    {
     "name": "stderr",
     "output_type": "stream",
     "text": [
      "[I 2025-08-04 22:49:24,592] Trial 5 finished with value: 0.8741657292838394 and parameters: {'learning_rate': 0.19802290390119495, 'num_leaves': 64, 'max_depth': 7, 'min_child_samples': 14, 'feature_fraction': 0.8320311512295039, 'bagging_fraction': 0.8850383217433844, 'lambda_l1': 0.08682415730671067, 'lambda_l2': 0.3982622206472467}. Best is trial 2 with value: 0.8775403074615673.\n"
     ]
    },
    {
     "name": "stdout",
     "output_type": "stream",
     "text": [
      "Did not meet early stopping. Best iteration is:\n",
      "[97]\tvalid_0's auc: 0.874166\n",
      "Training until validation scores don't improve for 30 rounds\n"
     ]
    },
    {
     "name": "stderr",
     "output_type": "stream",
     "text": [
      "[I 2025-08-04 22:49:25,435] Trial 6 finished with value: 0.8757780277465316 and parameters: {'learning_rate': 0.16647805811755628, 'num_leaves': 79, 'max_depth': 12, 'min_child_samples': 19, 'feature_fraction': 0.6579846323220839, 'bagging_fraction': 0.6175630025727099, 'lambda_l1': 0.3981094896196654, 'lambda_l2': 0.48172233047420265}. Best is trial 2 with value: 0.8775403074615673.\n"
     ]
    },
    {
     "name": "stdout",
     "output_type": "stream",
     "text": [
      "Did not meet early stopping. Best iteration is:\n",
      "[77]\tvalid_0's auc: 0.875778\n",
      "Training until validation scores don't improve for 30 rounds\n"
     ]
    },
    {
     "name": "stderr",
     "output_type": "stream",
     "text": [
      "[I 2025-08-04 22:49:25,893] Trial 7 finished with value: 0.8772403449568803 and parameters: {'learning_rate': 0.05880830559869673, 'num_leaves': 57, 'max_depth': 6, 'min_child_samples': 22, 'feature_fraction': 0.7041816650089054, 'bagging_fraction': 0.9118656678433064, 'lambda_l1': 0.5431662233645607, 'lambda_l2': 0.8951352606888988}. Best is trial 2 with value: 0.8775403074615673.\n"
     ]
    },
    {
     "name": "stdout",
     "output_type": "stream",
     "text": [
      "Early stopping, best iteration is:\n",
      "[62]\tvalid_0's auc: 0.87724\n",
      "Training until validation scores don't improve for 30 rounds\n"
     ]
    },
    {
     "name": "stderr",
     "output_type": "stream",
     "text": [
      "[I 2025-08-04 22:49:26,196] Trial 8 finished with value: 0.8896512935883014 and parameters: {'learning_rate': 0.15840892304406703, 'num_leaves': 36, 'max_depth': 4, 'min_child_samples': 16, 'feature_fraction': 0.9347358072596315, 'bagging_fraction': 0.7009823017591607, 'lambda_l1': 0.3827189703828461, 'lambda_l2': 0.9234162059568491}. Best is trial 8 with value: 0.8896512935883014.\n"
     ]
    },
    {
     "name": "stdout",
     "output_type": "stream",
     "text": [
      "Did not meet early stopping. Best iteration is:\n",
      "[75]\tvalid_0's auc: 0.889651\n",
      "Training until validation scores don't improve for 30 rounds\n"
     ]
    },
    {
     "name": "stderr",
     "output_type": "stream",
     "text": [
      "[I 2025-08-04 22:49:26,460] Trial 9 finished with value: 0.8680914885639295 and parameters: {'learning_rate': 0.12751567754464294, 'num_leaves': 63, 'max_depth': 4, 'min_child_samples': 50, 'feature_fraction': 0.8415814628052145, 'bagging_fraction': 0.6944898511289048, 'lambda_l1': 0.6399088459611226, 'lambda_l2': 0.3121841155661812}. Best is trial 8 with value: 0.8896512935883014.\n"
     ]
    },
    {
     "name": "stdout",
     "output_type": "stream",
     "text": [
      "Did not meet early stopping. Best iteration is:\n",
      "[93]\tvalid_0's auc: 0.868091\n",
      "Training until validation scores don't improve for 30 rounds\n"
     ]
    },
    {
     "name": "stderr",
     "output_type": "stream",
     "text": [
      "[I 2025-08-04 22:49:26,856] Trial 10 finished with value: 0.8581177352830895 and parameters: {'learning_rate': 0.09619874886646654, 'num_leaves': 24, 'max_depth': 5, 'min_child_samples': 31, 'feature_fraction': 0.971006554054296, 'bagging_fraction': 0.7671849722847305, 'lambda_l1': 0.2460597648657522, 'lambda_l2': 0.7332470443404248}. Best is trial 8 with value: 0.8896512935883014.\n"
     ]
    },
    {
     "name": "stdout",
     "output_type": "stream",
     "text": [
      "Early stopping, best iteration is:\n",
      "[64]\tvalid_0's auc: 0.858118\n",
      "Training until validation scores don't improve for 30 rounds\n"
     ]
    },
    {
     "name": "stderr",
     "output_type": "stream",
     "text": [
      "[I 2025-08-04 22:49:27,570] Trial 11 finished with value: 0.8515935508061492 and parameters: {'learning_rate': 0.19666486502541292, 'num_leaves': 32, 'max_depth': 9, 'min_child_samples': 50, 'feature_fraction': 0.8965973207467944, 'bagging_fraction': 0.708638837392501, 'lambda_l1': 0.359283854949929, 'lambda_l2': 0.9946471387740203}. Best is trial 8 with value: 0.8896512935883014.\n"
     ]
    },
    {
     "name": "stdout",
     "output_type": "stream",
     "text": [
      "Did not meet early stopping. Best iteration is:\n",
      "[72]\tvalid_0's auc: 0.851594\n",
      "Training until validation scores don't improve for 30 rounds\n"
     ]
    },
    {
     "name": "stderr",
     "output_type": "stream",
     "text": [
      "[I 2025-08-04 22:49:28,210] Trial 12 finished with value: 0.8610048743907013 and parameters: {'learning_rate': 0.11518443894561736, 'num_leaves': 37, 'max_depth': 8, 'min_child_samples': 40, 'feature_fraction': 0.7497949281156379, 'bagging_fraction': 0.6033143705249279, 'lambda_l1': 0.3327441617041815, 'lambda_l2': 0.7453417925822874}. Best is trial 8 with value: 0.8896512935883014.\n"
     ]
    },
    {
     "name": "stdout",
     "output_type": "stream",
     "text": [
      "Did not meet early stopping. Best iteration is:\n",
      "[96]\tvalid_0's auc: 0.861005\n",
      "Training until validation scores don't improve for 30 rounds\n"
     ]
    },
    {
     "name": "stderr",
     "output_type": "stream",
     "text": [
      "[I 2025-08-04 22:49:28,500] Trial 13 finished with value: 0.8569928758905137 and parameters: {'learning_rate': 0.13982484134353534, 'num_leaves': 80, 'max_depth': 6, 'min_child_samples': 39, 'feature_fraction': 0.6191261903324434, 'bagging_fraction': 0.7104208717834076, 'lambda_l1': 0.4639028447426129, 'lambda_l2': 0.7721550471205669}. Best is trial 8 with value: 0.8896512935883014.\n"
     ]
    },
    {
     "name": "stdout",
     "output_type": "stream",
     "text": [
      "Early stopping, best iteration is:\n",
      "[30]\tvalid_0's auc: 0.856993\n",
      "Training until validation scores don't improve for 30 rounds\n"
     ]
    },
    {
     "name": "stderr",
     "output_type": "stream",
     "text": [
      "[I 2025-08-04 22:49:28,724] Trial 14 finished with value: 0.8785901762279715 and parameters: {'learning_rate': 0.08586838850460526, 'num_leaves': 36, 'max_depth': 3, 'min_child_samples': 27, 'feature_fraction': 0.9072126459929458, 'bagging_fraction': 0.6612847853114595, 'lambda_l1': 0.6092710303678902, 'lambda_l2': 0.9990199475783254}. Best is trial 8 with value: 0.8896512935883014.\n"
     ]
    },
    {
     "name": "stdout",
     "output_type": "stream",
     "text": [
      "Did not meet early stopping. Best iteration is:\n",
      "[88]\tvalid_0's auc: 0.87859\n",
      "Training until validation scores don't improve for 30 rounds\n"
     ]
    },
    {
     "name": "stderr",
     "output_type": "stream",
     "text": [
      "[I 2025-08-04 22:49:28,936] Trial 15 finished with value: 0.8616797900262467 and parameters: {'learning_rate': 0.07609962888503963, 'num_leaves': 37, 'max_depth': 3, 'min_child_samples': 27, 'feature_fraction': 0.9052832793682852, 'bagging_fraction': 0.8402865532491487, 'lambda_l1': 0.6083841947444386, 'lambda_l2': 0.9664826470728042}. Best is trial 8 with value: 0.8896512935883014.\n"
     ]
    },
    {
     "name": "stdout",
     "output_type": "stream",
     "text": [
      "Did not meet early stopping. Best iteration is:\n",
      "[100]\tvalid_0's auc: 0.86168\n",
      "Training until validation scores don't improve for 30 rounds\n"
     ]
    },
    {
     "name": "stderr",
     "output_type": "stream",
     "text": [
      "[I 2025-08-04 22:49:29,240] Trial 16 finished with value: 0.8674540682414699 and parameters: {'learning_rate': 0.09626846088384358, 'num_leaves': 20, 'max_depth': 4, 'min_child_samples': 16, 'feature_fraction': 0.9066739955823846, 'bagging_fraction': 0.7300214200571274, 'lambda_l1': 0.7389642718590885, 'lambda_l2': 0.6428136883775378}. Best is trial 8 with value: 0.8896512935883014.\n"
     ]
    },
    {
     "name": "stdout",
     "output_type": "stream",
     "text": [
      "Did not meet early stopping. Best iteration is:\n",
      "[81]\tvalid_0's auc: 0.867454\n",
      "Training until validation scores don't improve for 30 rounds\n"
     ]
    },
    {
     "name": "stderr",
     "output_type": "stream",
     "text": [
      "[I 2025-08-04 22:49:29,734] Trial 17 finished with value: 0.8628421447319085 and parameters: {'learning_rate': 0.02571035120262942, 'num_leaves': 30, 'max_depth': 5, 'min_child_samples': 10, 'feature_fraction': 0.9908522936992851, 'bagging_fraction': 0.9990345101584983, 'lambda_l1': 0.19827589716427807, 'lambda_l2': 0.8703864711708454}. Best is trial 8 with value: 0.8896512935883014.\n"
     ]
    },
    {
     "name": "stdout",
     "output_type": "stream",
     "text": [
      "Did not meet early stopping. Best iteration is:\n",
      "[100]\tvalid_0's auc: 0.862842\n",
      "Training until validation scores don't improve for 30 rounds\n"
     ]
    },
    {
     "name": "stderr",
     "output_type": "stream",
     "text": [
      "[I 2025-08-04 22:49:29,944] Trial 18 finished with value: 0.8578552680914885 and parameters: {'learning_rate': 0.07909050863913247, 'num_leaves': 42, 'max_depth': 3, 'min_child_samples': 34, 'feature_fraction': 0.883346126417387, 'bagging_fraction': 0.665238297872396, 'lambda_l1': 0.025192273655644137, 'lambda_l2': 0.6344730725023209}. Best is trial 8 with value: 0.8896512935883014.\n"
     ]
    },
    {
     "name": "stdout",
     "output_type": "stream",
     "text": [
      "Did not meet early stopping. Best iteration is:\n",
      "[99]\tvalid_0's auc: 0.857855\n",
      "Training until validation scores don't improve for 30 rounds\n"
     ]
    },
    {
     "name": "stderr",
     "output_type": "stream",
     "text": [
      "[I 2025-08-04 22:49:30,399] Trial 19 finished with value: 0.8782902137232845 and parameters: {'learning_rate': 0.17710132575145665, 'num_leaves': 54, 'max_depth': 5, 'min_child_samples': 19, 'feature_fraction': 0.9361099106817233, 'bagging_fraction': 0.726653977328817, 'lambda_l1': 0.49027294099377394, 'lambda_l2': 0.07087975540358726}. Best is trial 8 with value: 0.8896512935883014.\n"
     ]
    },
    {
     "name": "stdout",
     "output_type": "stream",
     "text": [
      "Did not meet early stopping. Best iteration is:\n",
      "[75]\tvalid_0's auc: 0.87829\n",
      "Training until validation scores don't improve for 30 rounds\n"
     ]
    },
    {
     "name": "stderr",
     "output_type": "stream",
     "text": [
      "[I 2025-08-04 22:49:30,713] Trial 20 finished with value: 0.8790776152980877 and parameters: {'learning_rate': 0.10407579329087807, 'num_leaves': 28, 'max_depth': 4, 'min_child_samples': 26, 'feature_fraction': 0.9993901244010848, 'bagging_fraction': 0.6701467196476446, 'lambda_l1': 0.6262172560679429, 'lambda_l2': 0.9806529028173073}. Best is trial 8 with value: 0.8896512935883014.\n"
     ]
    },
    {
     "name": "stdout",
     "output_type": "stream",
     "text": [
      "Did not meet early stopping. Best iteration is:\n",
      "[89]\tvalid_0's auc: 0.879078\n",
      "Training until validation scores don't improve for 30 rounds\n"
     ]
    },
    {
     "name": "stderr",
     "output_type": "stream",
     "text": [
      "[I 2025-08-04 22:49:31,018] Trial 21 finished with value: 0.8769778777652794 and parameters: {'learning_rate': 0.11274820036545902, 'num_leaves': 31, 'max_depth': 4, 'min_child_samples': 26, 'feature_fraction': 0.9956716672682503, 'bagging_fraction': 0.6815137752177722, 'lambda_l1': 0.6684768737520852, 'lambda_l2': 0.961502415221}. Best is trial 8 with value: 0.8896512935883014.\n"
     ]
    },
    {
     "name": "stdout",
     "output_type": "stream",
     "text": [
      "Early stopping, best iteration is:\n",
      "[65]\tvalid_0's auc: 0.876978\n",
      "Training until validation scores don't improve for 30 rounds\n"
     ]
    },
    {
     "name": "stderr",
     "output_type": "stream",
     "text": [
      "[I 2025-08-04 22:49:31,344] Trial 22 finished with value: 0.8604049493813273 and parameters: {'learning_rate': 0.08108320330759396, 'num_leaves': 26, 'max_depth': 4, 'min_child_samples': 20, 'feature_fraction': 0.9451293289081938, 'bagging_fraction': 0.7502339718877544, 'lambda_l1': 0.5849160656806254, 'lambda_l2': 0.8278737207197987}. Best is trial 8 with value: 0.8896512935883014.\n"
     ]
    },
    {
     "name": "stdout",
     "output_type": "stream",
     "text": [
      "Did not meet early stopping. Best iteration is:\n",
      "[99]\tvalid_0's auc: 0.860405\n",
      "Training until validation scores don't improve for 30 rounds\n"
     ]
    },
    {
     "name": "stderr",
     "output_type": "stream",
     "text": [
      "[I 2025-08-04 22:49:31,935] Trial 23 finished with value: 0.8886014248218972 and parameters: {'learning_rate': 0.12236244400128841, 'num_leaves': 39, 'max_depth': 6, 'min_child_samples': 35, 'feature_fraction': 0.8748377804187759, 'bagging_fraction': 0.62806367823238, 'lambda_l1': 0.698617813673455, 'lambda_l2': 0.9189750618563436}. Best is trial 8 with value: 0.8896512935883014.\n"
     ]
    },
    {
     "name": "stdout",
     "output_type": "stream",
     "text": [
      "Did not meet early stopping. Best iteration is:\n",
      "[79]\tvalid_0's auc: 0.888601\n",
      "Training until validation scores don't improve for 30 rounds\n"
     ]
    },
    {
     "name": "stderr",
     "output_type": "stream",
     "text": [
      "[I 2025-08-04 22:49:32,533] Trial 24 finished with value: 0.9016497937757781 and parameters: {'learning_rate': 0.12339893975802618, 'num_leaves': 42, 'max_depth': 6, 'min_child_samples': 33, 'feature_fraction': 0.8646836541790528, 'bagging_fraction': 0.6267637664805364, 'lambda_l1': 0.8845451016161335, 'lambda_l2': 0.6717835989724801}. Best is trial 24 with value: 0.9016497937757781.\n"
     ]
    },
    {
     "name": "stdout",
     "output_type": "stream",
     "text": [
      "Did not meet early stopping. Best iteration is:\n",
      "[89]\tvalid_0's auc: 0.90165\n",
      "Training until validation scores don't improve for 30 rounds\n"
     ]
    },
    {
     "name": "stderr",
     "output_type": "stream",
     "text": [
      "[I 2025-08-04 22:49:32,884] Trial 25 finished with value: 0.8764529433820772 and parameters: {'learning_rate': 0.12927915976989465, 'num_leaves': 43, 'max_depth': 6, 'min_child_samples': 35, 'feature_fraction': 0.862964234308695, 'bagging_fraction': 0.6181177452367991, 'lambda_l1': 0.9263659276893331, 'lambda_l2': 0.6242450898067203}. Best is trial 24 with value: 0.9016497937757781.\n"
     ]
    },
    {
     "name": "stdout",
     "output_type": "stream",
     "text": [
      "Early stopping, best iteration is:\n",
      "[29]\tvalid_0's auc: 0.876453\n",
      "Training until validation scores don't improve for 30 rounds\n"
     ]
    },
    {
     "name": "stderr",
     "output_type": "stream",
     "text": [
      "[I 2025-08-04 22:49:33,529] Trial 26 finished with value: 0.8760404949381327 and parameters: {'learning_rate': 0.12871855649730876, 'num_leaves': 43, 'max_depth': 7, 'min_child_samples': 43, 'feature_fraction': 0.7781462030200987, 'bagging_fraction': 0.643787241326569, 'lambda_l1': 0.8597451323885653, 'lambda_l2': 0.6823619837154962}. Best is trial 24 with value: 0.9016497937757781.\n"
     ]
    },
    {
     "name": "stdout",
     "output_type": "stream",
     "text": [
      "Did not meet early stopping. Best iteration is:\n",
      "[72]\tvalid_0's auc: 0.87604\n",
      "Training until validation scores don't improve for 30 rounds\n"
     ]
    },
    {
     "name": "stderr",
     "output_type": "stream",
     "text": [
      "[I 2025-08-04 22:49:34,083] Trial 27 finished with value: 0.8857142857142857 and parameters: {'learning_rate': 0.17840571721480514, 'num_leaves': 52, 'max_depth': 6, 'min_child_samples': 35, 'feature_fraction': 0.8682913800008364, 'bagging_fraction': 0.627545476446304, 'lambda_l1': 0.7293770442259347, 'lambda_l2': 0.5668447296620233}. Best is trial 24 with value: 0.9016497937757781.\n"
     ]
    },
    {
     "name": "stdout",
     "output_type": "stream",
     "text": [
      "Early stopping, best iteration is:\n",
      "[62]\tvalid_0's auc: 0.885714\n",
      "Training until validation scores don't improve for 30 rounds\n"
     ]
    },
    {
     "name": "stderr",
     "output_type": "stream",
     "text": [
      "[I 2025-08-04 22:49:34,716] Trial 28 finished with value: 0.8673790776152981 and parameters: {'learning_rate': 0.14210232297837835, 'num_leaves': 40, 'max_depth': 7, 'min_child_samples': 44, 'feature_fraction': 0.8006665592646889, 'bagging_fraction': 0.8337601916691072, 'lambda_l1': 0.8985050093666247, 'lambda_l2': 0.7967267440386506}. Best is trial 24 with value: 0.9016497937757781.\n"
     ]
    },
    {
     "name": "stdout",
     "output_type": "stream",
     "text": [
      "Did not meet early stopping. Best iteration is:\n",
      "[100]\tvalid_0's auc: 0.867379\n",
      "Training until validation scores don't improve for 30 rounds\n"
     ]
    },
    {
     "name": "stderr",
     "output_type": "stream",
     "text": [
      "[I 2025-08-04 22:49:35,034] Trial 29 finished with value: 0.9050618672665917 and parameters: {'learning_rate': 0.1201703155829826, 'num_leaves': 34, 'max_depth': 5, 'min_child_samples': 33, 'feature_fraction': 0.9242927584196634, 'bagging_fraction': 0.6896252731160479, 'lambda_l1': 0.7960188286042771, 'lambda_l2': 0.8896506764156475}. Best is trial 29 with value: 0.9050618672665917.\n"
     ]
    },
    {
     "name": "stdout",
     "output_type": "stream",
     "text": [
      "Early stopping, best iteration is:\n",
      "[40]\tvalid_0's auc: 0.905062\n"
     ]
    }
   ],
   "source": [
    "import lightgbm as lgb\n",
    "from lightgbm import early_stopping, log_evaluation\n",
    "from sklearn.model_selection import train_test_split\n",
    "from sklearn.feature_selection import SelectFromModel\n",
    "from sklearn.metrics import roc_auc_score, accuracy_score, precision_recall_curve\n",
    "import joblib\n",
    "import optuna\n",
    "import numpy as np\n",
    "import pandas as pd\n",
    "import os\n",
    "\n",
    "# === Load precomputed data ===\n",
    "SAVE_DIR = \"tox21_lightgb_pipeline/Data_v6/processed\"\n",
    "MODEL_PATH = \"tox21_lightgb_pipeline/models/v6\"\n",
    "os.makedirs(MODEL_PATH, exist_ok=True)\n",
    "\n",
    "X = np.load(os.path.join(SAVE_DIR, \"X.npy\"))\n",
    "Y = np.load(os.path.join(SAVE_DIR, \"Y.npy\"))\n",
    "label_mask = np.load(os.path.join(SAVE_DIR, \"label_mask.npy\"))\n",
    "with open(os.path.join(SAVE_DIR, \"feature_names.txt\")) as f:\n",
    "    feature_names = f.read().splitlines()\n",
    "\n",
    "# === Define labels ===\n",
    "label_cols = [\n",
    "    \"NR-AR\", \"NR-AR-LBD\", \"NR-AhR\", \"NR-Aromatase\", \"NR-ER\",\n",
    "    \"NR-ER-LBD\", \"NR-PPAR-gamma\", \"SR-ARE\", \"SR-ATAD5\",\n",
    "    \"SR-HSE\", \"SR-MMP\", \"SR-p53\"\n",
    "]\n",
    "\n",
    "# === Training Setup ===\n",
    "results = []\n",
    "feature_mask_dict = {}\n",
    "threshold_dict = {}\n",
    "\n",
    "for i, label_name in enumerate(label_cols):\n",
    "    print(f\"\\n📍 Training for label: {label_name}\")\n",
    "\n",
    "    # Subset valid rows for this label\n",
    "    valid_rows = label_mask[:, i]\n",
    "    X_valid = X[valid_rows]\n",
    "    y_valid = Y[valid_rows, i]\n",
    "\n",
    "    # Split the data\n",
    "    X_train, X_temp, y_train, y_temp = train_test_split(\n",
    "        X_valid, y_valid, test_size=0.2, random_state=42, stratify=y_valid\n",
    "    )\n",
    "    X_val, X_test, y_val, y_test = train_test_split(\n",
    "        X_temp, y_temp, test_size=0.5, random_state=42, stratify=y_temp\n",
    "    )\n",
    "\n",
    "    # === Feature Selection ===\n",
    "    selector_model = lgb.LGBMClassifier(n_estimators=200, random_state=42)\n",
    "    selector_model.fit(X_train, y_train)\n",
    "    selector = SelectFromModel(selector_model, threshold=\"median\", prefit=True)\n",
    "    kept_idx = selector.get_support(indices=True)\n",
    "\n",
    "    X_train_fs = selector.transform(X_train)\n",
    "    X_val_fs = selector.transform(X_val)\n",
    "    X_test_fs = selector.transform(X_test)\n",
    "\n",
    "    feature_mask_dict[label_name] = kept_idx\n",
    "\n",
    "    # === Class Imbalance Handling ===\n",
    "    n_pos = np.sum(y_train == 1)\n",
    "    n_neg = np.sum(y_train == 0)\n",
    "    scale_pos_weight = n_neg / n_pos if n_pos > 0 else 1.0\n",
    "\n",
    "    # === Hyperparameter Tuning with Optuna ===\n",
    "    dtrain = lgb.Dataset(X_train_fs, label=y_train)\n",
    "    dval = lgb.Dataset(X_val_fs, label=y_val)\n",
    "\n",
    "    def objective(trial):\n",
    "        params = {\n",
    "            \"objective\": \"binary\",\n",
    "            \"metric\": \"auc\",\n",
    "            \"boosting_type\": \"gbdt\",\n",
    "            \"verbosity\": -1,\n",
    "            \"feature_pre_filter\": False,\n",
    "            \"scale_pos_weight\": scale_pos_weight,\n",
    "            \"learning_rate\": trial.suggest_float(\"learning_rate\", 0.01, 0.2),\n",
    "            \"num_leaves\": trial.suggest_int(\"num_leaves\", 20, 80),\n",
    "            \"max_depth\": trial.suggest_int(\"max_depth\", 3, 12),\n",
    "            \"min_child_samples\": trial.suggest_int(\"min_child_samples\", 10, 50),\n",
    "            \"feature_fraction\": trial.suggest_float(\"feature_fraction\", 0.6, 1.0),\n",
    "            \"bagging_fraction\": trial.suggest_float(\"bagging_fraction\", 0.6, 1.0),\n",
    "            \"lambda_l1\": trial.suggest_float(\"lambda_l1\", 0.0, 1.0),\n",
    "            \"lambda_l2\": trial.suggest_float(\"lambda_l2\", 0.0, 1.0),\n",
    "        }\n",
    "        model = lgb.train(\n",
    "            params, dtrain, valid_sets=[dval], callbacks=[\n",
    "                early_stopping(stopping_rounds=30),\n",
    "                log_evaluation(period=0)\n",
    "            ]\n",
    "        )\n",
    "        preds = model.predict(X_val_fs)\n",
    "        return roc_auc_score(y_val, preds)\n",
    "\n",
    "    study = optuna.create_study(direction=\"maximize\")\n",
    "    study.optimize(objective, n_trials=30)\n",
    "\n",
    "    best_params = study.best_params\n",
    "    best_params.update({\n",
    "        \"objective\": \"binary\",\n",
    "        \"metric\": \"auc\",\n",
    "        \"boosting_type\": \"gbdt\",\n",
    "        \"verbosity\": -1,\n",
    "        \"scale_pos_weight\": scale_pos_weight\n",
    "    })\n",
    "\n",
    "    # === Final Model Training ===\n",
    "    final_model = lgb.LGBMClassifier(**best_params, n_estimators=500)\n",
    "    final_model.fit(X_train_fs, y_train)\n",
    "\n",
    "    # === Threshold Selection ===\n",
    "    preds_val = final_model.predict_proba(X_val_fs)[:, 1]\n",
    "    precision, recall, thresholds = precision_recall_curve(y_val, preds_val)\n",
    "    f1_scores = 2 * precision * recall / (precision + recall + 1e-8)\n",
    "    best_idx = np.argmax(f1_scores)\n",
    "    best_thresh = thresholds[best_idx]\n",
    "\n",
    "    # === Final Evaluation ===\n",
    "    y_pred_bin = (final_model.predict_proba(X_test_fs)[:, 1] >= best_thresh).astype(int)\n",
    "    auc = roc_auc_score(y_test, final_model.predict_proba(X_test_fs)[:, 1])\n",
    "    acc = accuracy_score(y_test, y_pred_bin)\n",
    "\n",
    "    # === Save Artifacts ===\n",
    "    joblib.dump(final_model, os.path.join(MODEL_PATH, f\"{label_name}.pkl\"))\n",
    "    threshold_dict[label_name] = best_thresh\n",
    "\n",
    "    results.append({\n",
    "        \"label\": label_name,\n",
    "        \"auc\": auc,\n",
    "        \"accuracy\": acc,\n",
    "        \"n_train\": len(y_train),\n",
    "        \"n_val\": len(y_val),\n",
    "        \"n_test\": len(y_test),\n",
    "        \"best_threshold\": best_thresh,\n",
    "        \"num_features\": len(kept_idx),\n",
    "        \"scale_pos_weight\": scale_pos_weight\n",
    "    })\n",
    "\n",
    "# === Save All Utilities ===\n",
    "joblib.dump(threshold_dict, os.path.join(MODEL_PATH, \"thresholds.pkl\"))\n",
    "joblib.dump(feature_mask_dict, os.path.join(MODEL_PATH, \"feature_masks.pkl\"))\n",
    "pd.DataFrame(results).to_csv(os.path.join(MODEL_PATH, \"training_metrics.csv\"), index=False)"
   ]
  },
  {
   "cell_type": "markdown",
   "id": "6b7083c9",
   "metadata": {},
   "source": [
    "### 2.1 eval "
   ]
  },
  {
   "cell_type": "code",
   "execution_count": 12,
   "id": "1fba9ceb",
   "metadata": {},
   "outputs": [
    {
     "name": "stdout",
     "output_type": "stream",
     "text": [
      "📈 Summary of LightGBM model performance:\n"
     ]
    },
    {
     "data": {
      "text/html": [
       "<div>\n",
       "<style scoped>\n",
       "    .dataframe tbody tr th:only-of-type {\n",
       "        vertical-align: middle;\n",
       "    }\n",
       "\n",
       "    .dataframe tbody tr th {\n",
       "        vertical-align: top;\n",
       "    }\n",
       "\n",
       "    .dataframe thead th {\n",
       "        text-align: right;\n",
       "    }\n",
       "</style>\n",
       "<table border=\"1\" class=\"dataframe\">\n",
       "  <thead>\n",
       "    <tr style=\"text-align: right;\">\n",
       "      <th></th>\n",
       "      <th>label</th>\n",
       "      <th>auc</th>\n",
       "      <th>accuracy</th>\n",
       "      <th>n_train</th>\n",
       "      <th>n_val</th>\n",
       "      <th>n_test</th>\n",
       "      <th>best_threshold</th>\n",
       "      <th>num_features</th>\n",
       "      <th>scale_pos_weight</th>\n",
       "    </tr>\n",
       "  </thead>\n",
       "  <tbody>\n",
       "    <tr>\n",
       "      <th>10</th>\n",
       "      <td>SR-MMP</td>\n",
       "      <td>0.948920</td>\n",
       "      <td>0.924269</td>\n",
       "      <td>4648</td>\n",
       "      <td>581</td>\n",
       "      <td>581</td>\n",
       "      <td>0.344759</td>\n",
       "      <td>812</td>\n",
       "      <td>5.332425</td>\n",
       "    </tr>\n",
       "    <tr>\n",
       "      <th>8</th>\n",
       "      <td>SR-ATAD5</td>\n",
       "      <td>0.886605</td>\n",
       "      <td>0.951977</td>\n",
       "      <td>5657</td>\n",
       "      <td>707</td>\n",
       "      <td>708</td>\n",
       "      <td>0.140595</td>\n",
       "      <td>931</td>\n",
       "      <td>25.810427</td>\n",
       "    </tr>\n",
       "    <tr>\n",
       "      <th>2</th>\n",
       "      <td>NR-AhR</td>\n",
       "      <td>0.881095</td>\n",
       "      <td>0.893130</td>\n",
       "      <td>5239</td>\n",
       "      <td>655</td>\n",
       "      <td>655</td>\n",
       "      <td>0.487913</td>\n",
       "      <td>807</td>\n",
       "      <td>7.532573</td>\n",
       "    </tr>\n",
       "    <tr>\n",
       "      <th>6</th>\n",
       "      <td>NR-PPAR-gamma</td>\n",
       "      <td>0.877636</td>\n",
       "      <td>0.964341</td>\n",
       "      <td>5160</td>\n",
       "      <td>645</td>\n",
       "      <td>645</td>\n",
       "      <td>0.653218</td>\n",
       "      <td>907</td>\n",
       "      <td>33.630872</td>\n",
       "    </tr>\n",
       "    <tr>\n",
       "      <th>11</th>\n",
       "      <td>SR-p53</td>\n",
       "      <td>0.858378</td>\n",
       "      <td>0.920354</td>\n",
       "      <td>5419</td>\n",
       "      <td>677</td>\n",
       "      <td>678</td>\n",
       "      <td>0.134669</td>\n",
       "      <td>828</td>\n",
       "      <td>15.032544</td>\n",
       "    </tr>\n",
       "    <tr>\n",
       "      <th>9</th>\n",
       "      <td>SR-HSE</td>\n",
       "      <td>0.853877</td>\n",
       "      <td>0.927357</td>\n",
       "      <td>5173</td>\n",
       "      <td>647</td>\n",
       "      <td>647</td>\n",
       "      <td>0.081956</td>\n",
       "      <td>819</td>\n",
       "      <td>16.359060</td>\n",
       "    </tr>\n",
       "    <tr>\n",
       "      <th>7</th>\n",
       "      <td>SR-ARE</td>\n",
       "      <td>0.832675</td>\n",
       "      <td>0.835616</td>\n",
       "      <td>4665</td>\n",
       "      <td>583</td>\n",
       "      <td>584</td>\n",
       "      <td>0.211113</td>\n",
       "      <td>831</td>\n",
       "      <td>5.187003</td>\n",
       "    </tr>\n",
       "    <tr>\n",
       "      <th>5</th>\n",
       "      <td>NR-ER-LBD</td>\n",
       "      <td>0.822563</td>\n",
       "      <td>0.965517</td>\n",
       "      <td>5564</td>\n",
       "      <td>695</td>\n",
       "      <td>696</td>\n",
       "      <td>0.657139</td>\n",
       "      <td>964</td>\n",
       "      <td>18.871429</td>\n",
       "    </tr>\n",
       "    <tr>\n",
       "      <th>3</th>\n",
       "      <td>NR-Aromatase</td>\n",
       "      <td>0.822122</td>\n",
       "      <td>0.953688</td>\n",
       "      <td>4656</td>\n",
       "      <td>582</td>\n",
       "      <td>583</td>\n",
       "      <td>0.373381</td>\n",
       "      <td>836</td>\n",
       "      <td>18.400000</td>\n",
       "    </tr>\n",
       "    <tr>\n",
       "      <th>0</th>\n",
       "      <td>NR-AR</td>\n",
       "      <td>0.813450</td>\n",
       "      <td>0.971114</td>\n",
       "      <td>5812</td>\n",
       "      <td>726</td>\n",
       "      <td>727</td>\n",
       "      <td>0.978191</td>\n",
       "      <td>943</td>\n",
       "      <td>22.530364</td>\n",
       "    </tr>\n",
       "    <tr>\n",
       "      <th>1</th>\n",
       "      <td>NR-AR-LBD</td>\n",
       "      <td>0.737474</td>\n",
       "      <td>0.968935</td>\n",
       "      <td>5406</td>\n",
       "      <td>676</td>\n",
       "      <td>676</td>\n",
       "      <td>0.478398</td>\n",
       "      <td>916</td>\n",
       "      <td>27.452632</td>\n",
       "    </tr>\n",
       "    <tr>\n",
       "      <th>4</th>\n",
       "      <td>NR-ER</td>\n",
       "      <td>0.701968</td>\n",
       "      <td>0.829032</td>\n",
       "      <td>4954</td>\n",
       "      <td>619</td>\n",
       "      <td>620</td>\n",
       "      <td>0.397913</td>\n",
       "      <td>836</td>\n",
       "      <td>6.813880</td>\n",
       "    </tr>\n",
       "  </tbody>\n",
       "</table>\n",
       "</div>"
      ],
      "text/plain": [
       "            label       auc  accuracy  n_train  n_val  n_test  best_threshold  \\\n",
       "10         SR-MMP  0.948920  0.924269     4648    581     581        0.344759   \n",
       "8        SR-ATAD5  0.886605  0.951977     5657    707     708        0.140595   \n",
       "2          NR-AhR  0.881095  0.893130     5239    655     655        0.487913   \n",
       "6   NR-PPAR-gamma  0.877636  0.964341     5160    645     645        0.653218   \n",
       "11         SR-p53  0.858378  0.920354     5419    677     678        0.134669   \n",
       "9          SR-HSE  0.853877  0.927357     5173    647     647        0.081956   \n",
       "7          SR-ARE  0.832675  0.835616     4665    583     584        0.211113   \n",
       "5       NR-ER-LBD  0.822563  0.965517     5564    695     696        0.657139   \n",
       "3    NR-Aromatase  0.822122  0.953688     4656    582     583        0.373381   \n",
       "0           NR-AR  0.813450  0.971114     5812    726     727        0.978191   \n",
       "1       NR-AR-LBD  0.737474  0.968935     5406    676     676        0.478398   \n",
       "4           NR-ER  0.701968  0.829032     4954    619     620        0.397913   \n",
       "\n",
       "    num_features  scale_pos_weight  \n",
       "10           812          5.332425  \n",
       "8            931         25.810427  \n",
       "2            807          7.532573  \n",
       "6            907         33.630872  \n",
       "11           828         15.032544  \n",
       "9            819         16.359060  \n",
       "7            831          5.187003  \n",
       "5            964         18.871429  \n",
       "3            836         18.400000  \n",
       "0            943         22.530364  \n",
       "1            916         27.452632  \n",
       "4            836          6.813880  "
      ]
     },
     "metadata": {},
     "output_type": "display_data"
    }
   ],
   "source": [
    "import pandas as pd\n",
    "import os\n",
    "\n",
    "# Create results DataFrame\n",
    "results_df = pd.DataFrame(results)\n",
    "\n",
    "# Sort by AUC (optional)\n",
    "results_df = results_df.sort_values(by=\"auc\", ascending=False)\n",
    "\n",
    "# Display results\n",
    "print(\"📈 Summary of LightGBM model performance:\")\n",
    "display(results_df)\n",
    "\n",
    "# Save to CSV\n",
    "results_df.to_csv(os.path.join(MODEL_PATH, \"training_metrics.csv\"), index=False)\n"
   ]
  },
  {
   "cell_type": "markdown",
   "id": "555c26f0",
   "metadata": {},
   "source": [
    "## 2*: Train LightGBM Models Using All Features (No Feature Selection)"
   ]
  },
  {
   "cell_type": "code",
   "execution_count": 1,
   "id": "a4d75907",
   "metadata": {},
   "outputs": [
    {
     "name": "stderr",
     "output_type": "stream",
     "text": [
      "[I 2025-08-04 23:00:49,680] A new study created in memory with name: no-name-e51e3d81-02cb-4a3a-b48a-d9759f256712\n"
     ]
    },
    {
     "name": "stdout",
     "output_type": "stream",
     "text": [
      "📍 Training for label: NR-AR\n",
      "Training until validation scores don't improve for 30 rounds\n"
     ]
    },
    {
     "name": "stderr",
     "output_type": "stream",
     "text": [
      "[I 2025-08-04 23:00:50,599] Trial 0 finished with value: 0.7320491993501973 and parameters: {'learning_rate': 0.13402338975175815, 'num_leaves': 47, 'max_depth': 9, 'min_child_samples': 42, 'feature_fraction': 0.9096214406960866, 'bagging_fraction': 0.7371821929763615, 'lambda_l1': 0.9723280700534054, 'lambda_l2': 0.21795035154360598}. Best is trial 0 with value: 0.7320491993501973.\n"
     ]
    },
    {
     "name": "stdout",
     "output_type": "stream",
     "text": [
      "Early stopping, best iteration is:\n",
      "[18]\tvalid_0's auc: 0.732049\n",
      "Training until validation scores don't improve for 30 rounds\n"
     ]
    },
    {
     "name": "stderr",
     "output_type": "stream",
     "text": [
      "[I 2025-08-04 23:00:50,879] Trial 1 finished with value: 0.7464376885588304 and parameters: {'learning_rate': 0.19423906055200094, 'num_leaves': 50, 'max_depth': 4, 'min_child_samples': 13, 'feature_fraction': 0.8470602632442801, 'bagging_fraction': 0.7447417106829443, 'lambda_l1': 0.52595586613831, 'lambda_l2': 0.25784463525149903}. Best is trial 1 with value: 0.7464376885588304.\n"
     ]
    },
    {
     "name": "stdout",
     "output_type": "stream",
     "text": [
      "Early stopping, best iteration is:\n",
      "[4]\tvalid_0's auc: 0.746438\n",
      "Training until validation scores don't improve for 30 rounds\n"
     ]
    },
    {
     "name": "stderr",
     "output_type": "stream",
     "text": [
      "[I 2025-08-04 23:00:51,135] Trial 2 finished with value: 0.7253887212810397 and parameters: {'learning_rate': 0.05329269585746845, 'num_leaves': 77, 'max_depth': 4, 'min_child_samples': 26, 'feature_fraction': 0.7257357084243411, 'bagging_fraction': 0.8629642467942934, 'lambda_l1': 0.24833405024185695, 'lambda_l2': 0.7850070893381071}. Best is trial 1 with value: 0.7464376885588304.\n"
     ]
    },
    {
     "name": "stdout",
     "output_type": "stream",
     "text": [
      "Early stopping, best iteration is:\n",
      "[1]\tvalid_0's auc: 0.725389\n",
      "Training until validation scores don't improve for 30 rounds\n"
     ]
    },
    {
     "name": "stderr",
     "output_type": "stream",
     "text": [
      "[I 2025-08-04 23:00:52,129] Trial 3 finished with value: 0.7440705500116036 and parameters: {'learning_rate': 0.058646137384062026, 'num_leaves': 54, 'max_depth': 12, 'min_child_samples': 42, 'feature_fraction': 0.999630296503811, 'bagging_fraction': 0.6548856750316755, 'lambda_l1': 0.15164194420777877, 'lambda_l2': 0.5629167662231208}. Best is trial 1 with value: 0.7464376885588304.\n"
     ]
    },
    {
     "name": "stdout",
     "output_type": "stream",
     "text": [
      "Early stopping, best iteration is:\n",
      "[28]\tvalid_0's auc: 0.744071\n",
      "Training until validation scores don't improve for 30 rounds\n"
     ]
    },
    {
     "name": "stderr",
     "output_type": "stream",
     "text": [
      "[I 2025-08-04 23:00:52,669] Trial 4 finished with value: 0.6990020886516594 and parameters: {'learning_rate': 0.1042662249264178, 'num_leaves': 50, 'max_depth': 8, 'min_child_samples': 32, 'feature_fraction': 0.7806282866569112, 'bagging_fraction': 0.6549170107339739, 'lambda_l1': 0.8682740580984888, 'lambda_l2': 0.5444796243447982}. Best is trial 1 with value: 0.7464376885588304.\n"
     ]
    },
    {
     "name": "stdout",
     "output_type": "stream",
     "text": [
      "Early stopping, best iteration is:\n",
      "[13]\tvalid_0's auc: 0.699002\n",
      "Training until validation scores don't improve for 30 rounds\n"
     ]
    },
    {
     "name": "stderr",
     "output_type": "stream",
     "text": [
      "[I 2025-08-04 23:00:52,970] Trial 5 finished with value: 0.7319563703875609 and parameters: {'learning_rate': 0.02778095283385485, 'num_leaves': 49, 'max_depth': 5, 'min_child_samples': 48, 'feature_fraction': 0.8312962758645313, 'bagging_fraction': 0.8817742194883575, 'lambda_l1': 0.8939016477566195, 'lambda_l2': 0.9333078967110061}. Best is trial 1 with value: 0.7464376885588304.\n"
     ]
    },
    {
     "name": "stdout",
     "output_type": "stream",
     "text": [
      "Early stopping, best iteration is:\n",
      "[2]\tvalid_0's auc: 0.731956\n",
      "Training until validation scores don't improve for 30 rounds\n"
     ]
    },
    {
     "name": "stderr",
     "output_type": "stream",
     "text": [
      "[I 2025-08-04 23:00:53,581] Trial 6 finished with value: 0.7234161058250174 and parameters: {'learning_rate': 0.18486380081979709, 'num_leaves': 44, 'max_depth': 11, 'min_child_samples': 35, 'feature_fraction': 0.7353190944574959, 'bagging_fraction': 0.8054102014863396, 'lambda_l1': 0.6663003848034049, 'lambda_l2': 0.5606335017097063}. Best is trial 1 with value: 0.7464376885588304.\n"
     ]
    },
    {
     "name": "stdout",
     "output_type": "stream",
     "text": [
      "Early stopping, best iteration is:\n",
      "[11]\tvalid_0's auc: 0.723416\n",
      "Training until validation scores don't improve for 30 rounds\n"
     ]
    },
    {
     "name": "stderr",
     "output_type": "stream",
     "text": [
      "[I 2025-08-04 23:00:54,018] Trial 7 finished with value: 0.7261081457414713 and parameters: {'learning_rate': 0.15678599113681604, 'num_leaves': 52, 'max_depth': 6, 'min_child_samples': 28, 'feature_fraction': 0.6279395825051016, 'bagging_fraction': 0.6851222331761172, 'lambda_l1': 0.10720820429426592, 'lambda_l2': 0.7783249810435253}. Best is trial 1 with value: 0.7464376885588304.\n"
     ]
    },
    {
     "name": "stdout",
     "output_type": "stream",
     "text": [
      "Early stopping, best iteration is:\n",
      "[18]\tvalid_0's auc: 0.726108\n",
      "Training until validation scores don't improve for 30 rounds\n"
     ]
    },
    {
     "name": "stderr",
     "output_type": "stream",
     "text": [
      "[I 2025-08-04 23:00:54,374] Trial 8 finished with value: 0.7372708284984916 and parameters: {'learning_rate': 0.01614351106030257, 'num_leaves': 22, 'max_depth': 7, 'min_child_samples': 35, 'feature_fraction': 0.766084529467497, 'bagging_fraction': 0.9788856010316835, 'lambda_l1': 0.6553972804271021, 'lambda_l2': 0.37667110014006056}. Best is trial 1 with value: 0.7464376885588304.\n"
     ]
    },
    {
     "name": "stdout",
     "output_type": "stream",
     "text": [
      "Early stopping, best iteration is:\n",
      "[4]\tvalid_0's auc: 0.737271\n",
      "Training until validation scores don't improve for 30 rounds\n"
     ]
    },
    {
     "name": "stderr",
     "output_type": "stream",
     "text": [
      "[I 2025-08-04 23:00:54,714] Trial 9 finished with value: 0.7812253423067997 and parameters: {'learning_rate': 0.06822835609251923, 'num_leaves': 68, 'max_depth': 5, 'min_child_samples': 15, 'feature_fraction': 0.8193333658326257, 'bagging_fraction': 0.7396842387424754, 'lambda_l1': 0.035886257038062586, 'lambda_l2': 0.48446728225775315}. Best is trial 9 with value: 0.7812253423067997.\n"
     ]
    },
    {
     "name": "stdout",
     "output_type": "stream",
     "text": [
      "Early stopping, best iteration is:\n",
      "[3]\tvalid_0's auc: 0.781225\n",
      "Training until validation scores don't improve for 30 rounds\n"
     ]
    },
    {
     "name": "stderr",
     "output_type": "stream",
     "text": [
      "[I 2025-08-04 23:00:55,037] Trial 10 finished with value: 0.7611974936180088 and parameters: {'learning_rate': 0.0929388961010506, 'num_leaves': 77, 'max_depth': 3, 'min_child_samples': 10, 'feature_fraction': 0.9269818036475425, 'bagging_fraction': 0.6017104817966596, 'lambda_l1': 0.3318836664563202, 'lambda_l2': 0.018150159324852977}. Best is trial 9 with value: 0.7812253423067997.\n"
     ]
    },
    {
     "name": "stdout",
     "output_type": "stream",
     "text": [
      "Early stopping, best iteration is:\n",
      "[10]\tvalid_0's auc: 0.761197\n",
      "Training until validation scores don't improve for 30 rounds\n"
     ]
    },
    {
     "name": "stderr",
     "output_type": "stream",
     "text": [
      "[I 2025-08-04 23:00:55,336] Trial 11 finished with value: 0.7669528893014621 and parameters: {'learning_rate': 0.09210950174744587, 'num_leaves': 80, 'max_depth': 3, 'min_child_samples': 11, 'feature_fraction': 0.9354531651019101, 'bagging_fraction': 0.6075240384571876, 'lambda_l1': 0.333606669273788, 'lambda_l2': 0.004286344345714899}. Best is trial 9 with value: 0.7812253423067997.\n"
     ]
    },
    {
     "name": "stdout",
     "output_type": "stream",
     "text": [
      "Early stopping, best iteration is:\n",
      "[11]\tvalid_0's auc: 0.766953\n",
      "Training until validation scores don't improve for 30 rounds\n"
     ]
    },
    {
     "name": "stderr",
     "output_type": "stream",
     "text": [
      "[I 2025-08-04 23:00:55,599] Trial 12 finished with value: 0.7580645161290323 and parameters: {'learning_rate': 0.07601170169896299, 'num_leaves': 66, 'max_depth': 3, 'min_child_samples': 18, 'feature_fraction': 0.9190009260180894, 'bagging_fraction': 0.7381861553632943, 'lambda_l1': 0.007426690569814414, 'lambda_l2': 0.2368271210623718}. Best is trial 9 with value: 0.7812253423067997.\n"
     ]
    },
    {
     "name": "stdout",
     "output_type": "stream",
     "text": [
      "Early stopping, best iteration is:\n",
      "[3]\tvalid_0's auc: 0.758065\n",
      "Training until validation scores don't improve for 30 rounds\n"
     ]
    },
    {
     "name": "stderr",
     "output_type": "stream",
     "text": [
      "[I 2025-08-04 23:00:55,965] Trial 13 finished with value: 0.7528196797400789 and parameters: {'learning_rate': 0.12357919934036365, 'num_leaves': 66, 'max_depth': 5, 'min_child_samples': 20, 'feature_fraction': 0.98316271796918, 'bagging_fraction': 0.6268626762791494, 'lambda_l1': 0.3898064520632738, 'lambda_l2': 0.007787419040191812}. Best is trial 9 with value: 0.7812253423067997.\n"
     ]
    },
    {
     "name": "stdout",
     "output_type": "stream",
     "text": [
      "Early stopping, best iteration is:\n",
      "[2]\tvalid_0's auc: 0.75282\n",
      "Training until validation scores don't improve for 30 rounds\n"
     ]
    },
    {
     "name": "stderr",
     "output_type": "stream",
     "text": [
      "[I 2025-08-04 23:00:56,431] Trial 14 finished with value: 0.7365514040380599 and parameters: {'learning_rate': 0.07275280761542817, 'num_leaves': 66, 'max_depth': 6, 'min_child_samples': 18, 'feature_fraction': 0.868408665771004, 'bagging_fraction': 0.8056119902195487, 'lambda_l1': 0.02136469429624155, 'lambda_l2': 0.4032144842630647}. Best is trial 9 with value: 0.7812253423067997.\n"
     ]
    },
    {
     "name": "stdout",
     "output_type": "stream",
     "text": [
      "Early stopping, best iteration is:\n",
      "[6]\tvalid_0's auc: 0.736551\n",
      "Training until validation scores don't improve for 30 rounds\n"
     ]
    },
    {
     "name": "stderr",
     "output_type": "stream",
     "text": [
      "[I 2025-08-04 23:00:56,721] Trial 15 finished with value: 0.7391274077512183 and parameters: {'learning_rate': 0.03890300091767407, 'num_leaves': 79, 'max_depth': 3, 'min_child_samples': 23, 'feature_fraction': 0.6552071877373323, 'bagging_fraction': 0.7030564893588492, 'lambda_l1': 0.24282648892242018, 'lambda_l2': 0.6981610607609209}. Best is trial 9 with value: 0.7812253423067997.\n"
     ]
    },
    {
     "name": "stdout",
     "output_type": "stream",
     "text": [
      "Early stopping, best iteration is:\n",
      "[18]\tvalid_0's auc: 0.739127\n",
      "Training until validation scores don't improve for 30 rounds\n"
     ]
    },
    {
     "name": "stderr",
     "output_type": "stream",
     "text": [
      "[I 2025-08-04 23:00:57,062] Trial 16 finished with value: 0.7538407983290786 and parameters: {'learning_rate': 0.0881230797930494, 'num_leaves': 72, 'max_depth': 5, 'min_child_samples': 10, 'feature_fraction': 0.6891392475000191, 'bagging_fraction': 0.8809916198123758, 'lambda_l1': 0.46170249461706325, 'lambda_l2': 0.11500596753857373}. Best is trial 9 with value: 0.7812253423067997.\n"
     ]
    },
    {
     "name": "stdout",
     "output_type": "stream",
     "text": [
      "Early stopping, best iteration is:\n",
      "[2]\tvalid_0's auc: 0.753841\n",
      "Training until validation scores don't improve for 30 rounds\n"
     ]
    },
    {
     "name": "stderr",
     "output_type": "stream",
     "text": [
      "[I 2025-08-04 23:00:57,825] Trial 17 finished with value: 0.7676258992805755 and parameters: {'learning_rate': 0.12405576391170965, 'num_leaves': 58, 'max_depth': 9, 'min_child_samples': 15, 'feature_fraction': 0.9579454850843474, 'bagging_fraction': 0.9829718877580934, 'lambda_l1': 0.17235013220778891, 'lambda_l2': 0.3860148981961539}. Best is trial 9 with value: 0.7812253423067997.\n"
     ]
    },
    {
     "name": "stdout",
     "output_type": "stream",
     "text": [
      "Early stopping, best iteration is:\n",
      "[7]\tvalid_0's auc: 0.767626\n",
      "Training until validation scores don't improve for 30 rounds\n"
     ]
    },
    {
     "name": "stderr",
     "output_type": "stream",
     "text": [
      "[I 2025-08-04 23:00:58,519] Trial 18 finished with value: 0.7838477605012764 and parameters: {'learning_rate': 0.12881698731817376, 'num_leaves': 59, 'max_depth': 10, 'min_child_samples': 15, 'feature_fraction': 0.8120616953911662, 'bagging_fraction': 0.987315737717703, 'lambda_l1': 0.1538927095235077, 'lambda_l2': 0.4173779329325733}. Best is trial 18 with value: 0.7838477605012764.\n"
     ]
    },
    {
     "name": "stdout",
     "output_type": "stream",
     "text": [
      "Early stopping, best iteration is:\n",
      "[6]\tvalid_0's auc: 0.783848\n",
      "Training until validation scores don't improve for 30 rounds\n"
     ]
    },
    {
     "name": "stderr",
     "output_type": "stream",
     "text": [
      "[I 2025-08-04 23:00:59,092] Trial 19 finished with value: 0.6933163146901833 and parameters: {'learning_rate': 0.14992516728759037, 'num_leaves': 39, 'max_depth': 10, 'min_child_samples': 22, 'feature_fraction': 0.8130668029808618, 'bagging_fraction': 0.925047453057256, 'lambda_l1': 0.09193390984789584, 'lambda_l2': 0.4638380792415761}. Best is trial 18 with value: 0.7838477605012764.\n"
     ]
    },
    {
     "name": "stdout",
     "output_type": "stream",
     "text": [
      "Early stopping, best iteration is:\n",
      "[1]\tvalid_0's auc: 0.693316\n",
      "Training until validation scores don't improve for 30 rounds\n"
     ]
    },
    {
     "name": "stderr",
     "output_type": "stream",
     "text": [
      "[I 2025-08-04 23:00:59,949] Trial 20 finished with value: 0.6961708052912509 and parameters: {'learning_rate': 0.164326496180071, 'num_leaves': 60, 'max_depth': 12, 'min_child_samples': 16, 'feature_fraction': 0.8701857535636263, 'bagging_fraction': 0.8325269385475692, 'lambda_l1': 0.24173999976946314, 'lambda_l2': 0.7048702103240273}. Best is trial 18 with value: 0.7838477605012764.\n"
     ]
    },
    {
     "name": "stdout",
     "output_type": "stream",
     "text": [
      "Early stopping, best iteration is:\n",
      "[11]\tvalid_0's auc: 0.696171\n",
      "Training until validation scores don't improve for 30 rounds\n"
     ]
    },
    {
     "name": "stderr",
     "output_type": "stream",
     "text": [
      "[I 2025-08-04 23:01:00,644] Trial 21 finished with value: 0.7527500580181017 and parameters: {'learning_rate': 0.12441203585298496, 'num_leaves': 58, 'max_depth': 9, 'min_child_samples': 15, 'feature_fraction': 0.7693177244005236, 'bagging_fraction': 0.9992962864683057, 'lambda_l1': 0.17506684687205615, 'lambda_l2': 0.3475097698392068}. Best is trial 18 with value: 0.7838477605012764.\n"
     ]
    },
    {
     "name": "stdout",
     "output_type": "stream",
     "text": [
      "Early stopping, best iteration is:\n",
      "[9]\tvalid_0's auc: 0.75275\n",
      "Training until validation scores don't improve for 30 rounds\n"
     ]
    },
    {
     "name": "stderr",
     "output_type": "stream",
     "text": [
      "[I 2025-08-04 23:01:02,011] Trial 22 finished with value: 0.7021118588999768 and parameters: {'learning_rate': 0.1138009732829048, 'num_leaves': 59, 'max_depth': 10, 'min_child_samples': 24, 'feature_fraction': 0.8905723571977143, 'bagging_fraction': 0.94689820592243, 'lambda_l1': 0.003116418700243359, 'lambda_l2': 0.4698181501098549}. Best is trial 18 with value: 0.7838477605012764.\n"
     ]
    },
    {
     "name": "stdout",
     "output_type": "stream",
     "text": [
      "Early stopping, best iteration is:\n",
      "[48]\tvalid_0's auc: 0.702112\n",
      "Training until validation scores don't improve for 30 rounds\n"
     ]
    },
    {
     "name": "stderr",
     "output_type": "stream",
     "text": [
      "[I 2025-08-04 23:01:02,642] Trial 23 finished with value: 0.7444186586214899 and parameters: {'learning_rate': 0.14065975411809195, 'num_leaves': 37, 'max_depth': 8, 'min_child_samples': 15, 'feature_fraction': 0.9674024535974428, 'bagging_fraction': 0.9207370330821998, 'lambda_l1': 0.17112338192193463, 'lambda_l2': 0.3064666386210434}. Best is trial 18 with value: 0.7838477605012764.\n"
     ]
    },
    {
     "name": "stdout",
     "output_type": "stream",
     "text": [
      "Early stopping, best iteration is:\n",
      "[5]\tvalid_0's auc: 0.744419\n",
      "Training until validation scores don't improve for 30 rounds\n"
     ]
    },
    {
     "name": "stderr",
     "output_type": "stream",
     "text": [
      "[I 2025-08-04 23:01:03,368] Trial 24 finished with value: 0.720584822464609 and parameters: {'learning_rate': 0.10975493562664818, 'num_leaves': 68, 'max_depth': 10, 'min_child_samples': 20, 'feature_fraction': 0.794888566444678, 'bagging_fraction': 0.9581815113461464, 'lambda_l1': 0.28880700081216576, 'lambda_l2': 0.6383545344970972}. Best is trial 18 with value: 0.7838477605012764.\n"
     ]
    },
    {
     "name": "stdout",
     "output_type": "stream",
     "text": [
      "Early stopping, best iteration is:\n",
      "[12]\tvalid_0's auc: 0.720585\n",
      "Training until validation scores don't improve for 30 rounds\n"
     ]
    },
    {
     "name": "stderr",
     "output_type": "stream",
     "text": [
      "[I 2025-08-04 23:01:04,022] Trial 25 finished with value: 0.7603156184729635 and parameters: {'learning_rate': 0.16734696329559315, 'num_leaves': 72, 'max_depth': 9, 'min_child_samples': 15, 'feature_fraction': 0.7262470241040643, 'bagging_fraction': 0.7701448164187213, 'lambda_l1': 0.0989907358051424, 'lambda_l2': 0.4249348304708994}. Best is trial 18 with value: 0.7838477605012764.\n"
     ]
    },
    {
     "name": "stdout",
     "output_type": "stream",
     "text": [
      "Early stopping, best iteration is:\n",
      "[7]\tvalid_0's auc: 0.760316\n",
      "Training until validation scores don't improve for 30 rounds\n"
     ]
    },
    {
     "name": "stderr",
     "output_type": "stream",
     "text": [
      "[I 2025-08-04 23:01:04,709] Trial 26 finished with value: 0.757461127871896 and parameters: {'learning_rate': 0.07025088984397904, 'num_leaves': 57, 'max_depth': 7, 'min_child_samples': 13, 'feature_fraction': 0.8347047898828662, 'bagging_fraction': 0.9992992815164807, 'lambda_l1': 0.4467281108591118, 'lambda_l2': 0.15844710221290426}. Best is trial 18 with value: 0.7838477605012764.\n"
     ]
    },
    {
     "name": "stdout",
     "output_type": "stream",
     "text": [
      "Early stopping, best iteration is:\n",
      "[24]\tvalid_0's auc: 0.757461\n",
      "Training until validation scores don't improve for 30 rounds\n"
     ]
    },
    {
     "name": "stderr",
     "output_type": "stream",
     "text": [
      "[I 2025-08-04 23:01:05,714] Trial 27 finished with value: 0.746344859596194 and parameters: {'learning_rate': 0.13589000723001668, 'num_leaves': 62, 'max_depth': 11, 'min_child_samples': 19, 'feature_fraction': 0.9512168192729609, 'bagging_fraction': 0.9127023378589023, 'lambda_l1': 0.5693865792841619, 'lambda_l2': 0.3211327387363777}. Best is trial 18 with value: 0.7838477605012764.\n"
     ]
    },
    {
     "name": "stdout",
     "output_type": "stream",
     "text": [
      "Early stopping, best iteration is:\n",
      "[23]\tvalid_0's auc: 0.746345\n",
      "Training until validation scores don't improve for 30 rounds\n"
     ]
    },
    {
     "name": "stderr",
     "output_type": "stream",
     "text": [
      "[I 2025-08-04 23:01:06,147] Trial 28 finished with value: 0.7416802042237178 and parameters: {'learning_rate': 0.04777079435209925, 'num_leaves': 72, 'max_depth': 8, 'min_child_samples': 29, 'feature_fraction': 0.6875307178382655, 'bagging_fraction': 0.8477008009643623, 'lambda_l1': 0.0645761658158177, 'lambda_l2': 0.5057692996272111}. Best is trial 18 with value: 0.7838477605012764.\n"
     ]
    },
    {
     "name": "stdout",
     "output_type": "stream",
     "text": [
      "Early stopping, best iteration is:\n",
      "[3]\tvalid_0's auc: 0.74168\n",
      "Training until validation scores don't improve for 30 rounds\n"
     ]
    },
    {
     "name": "stderr",
     "output_type": "stream",
     "text": [
      "[I 2025-08-04 23:01:07,358] Trial 29 finished with value: 0.6949640287769784 and parameters: {'learning_rate': 0.12651236489769319, 'num_leaves': 44, 'max_depth': 11, 'min_child_samples': 25, 'feature_fraction': 0.8945205304435542, 'bagging_fraction': 0.7807770223079146, 'lambda_l1': 0.1767389375366754, 'lambda_l2': 0.6081594182104195}. Best is trial 18 with value: 0.7838477605012764.\n"
     ]
    },
    {
     "name": "stdout",
     "output_type": "stream",
     "text": [
      "Early stopping, best iteration is:\n",
      "[44]\tvalid_0's auc: 0.694964\n"
     ]
    },
    {
     "name": "stderr",
     "output_type": "stream",
     "text": [
      "[I 2025-08-04 23:01:10,742] A new study created in memory with name: no-name-8b608183-1c7d-4b08-8f38-ed317b743919\n"
     ]
    },
    {
     "name": "stdout",
     "output_type": "stream",
     "text": [
      "📍 Training for label: NR-AR-LBD\n",
      "Training until validation scores don't improve for 30 rounds\n"
     ]
    },
    {
     "name": "stderr",
     "output_type": "stream",
     "text": [
      "[I 2025-08-04 23:01:11,610] Trial 0 finished with value: 0.8741593980957454 and parameters: {'learning_rate': 0.12196172397516229, 'num_leaves': 22, 'max_depth': 8, 'min_child_samples': 11, 'feature_fraction': 0.8598781146836394, 'bagging_fraction': 0.7666095708187199, 'lambda_l1': 0.667391815197583, 'lambda_l2': 0.8885262713969888}. Best is trial 0 with value: 0.8741593980957454.\n"
     ]
    },
    {
     "name": "stdout",
     "output_type": "stream",
     "text": [
      "Early stopping, best iteration is:\n",
      "[21]\tvalid_0's auc: 0.874159\n",
      "Training until validation scores don't improve for 30 rounds\n"
     ]
    },
    {
     "name": "stderr",
     "output_type": "stream",
     "text": [
      "[I 2025-08-04 23:01:12,515] Trial 1 finished with value: 0.8973300486051002 and parameters: {'learning_rate': 0.042437813140452384, 'num_leaves': 78, 'max_depth': 9, 'min_child_samples': 44, 'feature_fraction': 0.8105694863607745, 'bagging_fraction': 0.6088413488099338, 'lambda_l1': 0.7664933125688562, 'lambda_l2': 0.7935956214127233}. Best is trial 1 with value: 0.8973300486051002.\n"
     ]
    },
    {
     "name": "stdout",
     "output_type": "stream",
     "text": [
      "Early stopping, best iteration is:\n",
      "[57]\tvalid_0's auc: 0.89733\n",
      "Training until validation scores don't improve for 30 rounds\n"
     ]
    },
    {
     "name": "stderr",
     "output_type": "stream",
     "text": [
      "[I 2025-08-04 23:01:13,674] Trial 2 finished with value: 0.8981956188827485 and parameters: {'learning_rate': 0.04001813987763117, 'num_leaves': 67, 'max_depth': 9, 'min_child_samples': 36, 'feature_fraction': 0.9008797852818697, 'bagging_fraction': 0.8189258786480983, 'lambda_l1': 0.1175847320071296, 'lambda_l2': 0.3639432820390991}. Best is trial 2 with value: 0.8981956188827485.\n"
     ]
    },
    {
     "name": "stdout",
     "output_type": "stream",
     "text": [
      "Did not meet early stopping. Best iteration is:\n",
      "[74]\tvalid_0's auc: 0.898196\n",
      "Training until validation scores don't improve for 30 rounds\n"
     ]
    },
    {
     "name": "stderr",
     "output_type": "stream",
     "text": [
      "[I 2025-08-04 23:01:13,949] Trial 3 finished with value: 0.919968040482056 and parameters: {'learning_rate': 0.11743767971582478, 'num_leaves': 21, 'max_depth': 3, 'min_child_samples': 36, 'feature_fraction': 0.8953154872558895, 'bagging_fraction': 0.7848615268114196, 'lambda_l1': 0.9442947942938585, 'lambda_l2': 0.234481492376163}. Best is trial 3 with value: 0.919968040482056.\n"
     ]
    },
    {
     "name": "stdout",
     "output_type": "stream",
     "text": [
      "Early stopping, best iteration is:\n",
      "[26]\tvalid_0's auc: 0.919968\n",
      "Training until validation scores don't improve for 30 rounds\n"
     ]
    },
    {
     "name": "stderr",
     "output_type": "stream",
     "text": [
      "[I 2025-08-04 23:01:14,628] Trial 4 finished with value: 0.9050535987748851 and parameters: {'learning_rate': 0.02540246814007637, 'num_leaves': 67, 'max_depth': 6, 'min_child_samples': 44, 'feature_fraction': 0.6971494614366975, 'bagging_fraction': 0.6368800043253752, 'lambda_l1': 0.836906312686733, 'lambda_l2': 0.18414400576955947}. Best is trial 3 with value: 0.919968040482056.\n"
     ]
    },
    {
     "name": "stdout",
     "output_type": "stream",
     "text": [
      "Did not meet early stopping. Best iteration is:\n",
      "[100]\tvalid_0's auc: 0.905054\n",
      "Training until validation scores don't improve for 30 rounds\n"
     ]
    },
    {
     "name": "stderr",
     "output_type": "stream",
     "text": [
      "[I 2025-08-04 23:01:15,297] Trial 5 finished with value: 0.8747586390571943 and parameters: {'learning_rate': 0.18796840360097108, 'num_leaves': 24, 'max_depth': 8, 'min_child_samples': 47, 'feature_fraction': 0.9447069250727138, 'bagging_fraction': 0.7636995328319203, 'lambda_l1': 0.16294131142061563, 'lambda_l2': 0.6632386615604715}. Best is trial 3 with value: 0.919968040482056.\n"
     ]
    },
    {
     "name": "stdout",
     "output_type": "stream",
     "text": [
      "Early stopping, best iteration is:\n",
      "[31]\tvalid_0's auc: 0.874759\n",
      "Training until validation scores don't improve for 30 rounds\n"
     ]
    },
    {
     "name": "stderr",
     "output_type": "stream",
     "text": [
      "[I 2025-08-04 23:01:15,886] Trial 6 finished with value: 0.8797523137359344 and parameters: {'learning_rate': 0.16441850056135468, 'num_leaves': 70, 'max_depth': 5, 'min_child_samples': 10, 'feature_fraction': 0.8699988802225768, 'bagging_fraction': 0.8306927033755998, 'lambda_l1': 0.8758152294262311, 'lambda_l2': 0.8175553985439616}. Best is trial 3 with value: 0.919968040482056.\n"
     ]
    },
    {
     "name": "stdout",
     "output_type": "stream",
     "text": [
      "Early stopping, best iteration is:\n",
      "[38]\tvalid_0's auc: 0.879752\n",
      "Training until validation scores don't improve for 30 rounds\n"
     ]
    },
    {
     "name": "stderr",
     "output_type": "stream",
     "text": [
      "[I 2025-08-04 23:01:16,352] Trial 7 finished with value: 0.9020241028031162 and parameters: {'learning_rate': 0.018592106188590373, 'num_leaves': 38, 'max_depth': 9, 'min_child_samples': 25, 'feature_fraction': 0.9352162970571608, 'bagging_fraction': 0.7959193568966412, 'lambda_l1': 0.44739644886399166, 'lambda_l2': 0.22545579852128317}. Best is trial 3 with value: 0.919968040482056.\n"
     ]
    },
    {
     "name": "stdout",
     "output_type": "stream",
     "text": [
      "Early stopping, best iteration is:\n",
      "[7]\tvalid_0's auc: 0.902024\n",
      "Training until validation scores don't improve for 30 rounds\n"
     ]
    },
    {
     "name": "stderr",
     "output_type": "stream",
     "text": [
      "[I 2025-08-04 23:01:17,049] Trial 8 finished with value: 0.8971968839470005 and parameters: {'learning_rate': 0.039323765060529016, 'num_leaves': 66, 'max_depth': 11, 'min_child_samples': 29, 'feature_fraction': 0.622415327013894, 'bagging_fraction': 0.9675166185281419, 'lambda_l1': 0.2732381718801442, 'lambda_l2': 0.15491621437538838}. Best is trial 3 with value: 0.919968040482056.\n"
     ]
    },
    {
     "name": "stdout",
     "output_type": "stream",
     "text": [
      "Early stopping, best iteration is:\n",
      "[39]\tvalid_0's auc: 0.897197\n",
      "Training until validation scores don't improve for 30 rounds\n"
     ]
    },
    {
     "name": "stderr",
     "output_type": "stream",
     "text": [
      "[I 2025-08-04 23:01:17,727] Trial 9 finished with value: 0.9320194420400826 and parameters: {'learning_rate': 0.10632835190580975, 'num_leaves': 74, 'max_depth': 6, 'min_child_samples': 40, 'feature_fraction': 0.7493682828826269, 'bagging_fraction': 0.772215879997155, 'lambda_l1': 0.23017061100081782, 'lambda_l2': 0.32754542327783465}. Best is trial 9 with value: 0.9320194420400826.\n"
     ]
    },
    {
     "name": "stdout",
     "output_type": "stream",
     "text": [
      "Early stopping, best iteration is:\n",
      "[53]\tvalid_0's auc: 0.932019\n",
      "Training until validation scores don't improve for 30 rounds\n"
     ]
    },
    {
     "name": "stderr",
     "output_type": "stream",
     "text": [
      "[I 2025-08-04 23:01:18,120] Trial 10 finished with value: 0.8914042213196618 and parameters: {'learning_rate': 0.07946846454278478, 'num_leaves': 51, 'max_depth': 3, 'min_child_samples': 21, 'feature_fraction': 0.7291272769531031, 'bagging_fraction': 0.9520709869329766, 'lambda_l1': 0.4120703695045114, 'lambda_l2': 0.0004115316513181311}. Best is trial 9 with value: 0.9320194420400826.\n"
     ]
    },
    {
     "name": "stdout",
     "output_type": "stream",
     "text": [
      "Did not meet early stopping. Best iteration is:\n",
      "[74]\tvalid_0's auc: 0.891404\n",
      "Training until validation scores don't improve for 30 rounds\n"
     ]
    },
    {
     "name": "stderr",
     "output_type": "stream",
     "text": [
      "[I 2025-08-04 23:01:18,465] Trial 11 finished with value: 0.908715626872628 and parameters: {'learning_rate': 0.11236161264946214, 'num_leaves': 49, 'max_depth': 3, 'min_child_samples': 36, 'feature_fraction': 0.7616288909919333, 'bagging_fraction': 0.709060587002618, 'lambda_l1': 0.6021586333139706, 'lambda_l2': 0.4685329784823509}. Best is trial 9 with value: 0.9320194420400826.\n"
     ]
    },
    {
     "name": "stdout",
     "output_type": "stream",
     "text": [
      "Early stopping, best iteration is:\n",
      "[46]\tvalid_0's auc: 0.908716\n",
      "Training until validation scores don't improve for 30 rounds\n"
     ]
    },
    {
     "name": "stderr",
     "output_type": "stream",
     "text": [
      "[I 2025-08-04 23:01:18,860] Trial 12 finished with value: 0.8880085225381184 and parameters: {'learning_rate': 0.14107674296425254, 'num_leaves': 36, 'max_depth': 5, 'min_child_samples': 36, 'feature_fraction': 0.9912573033158454, 'bagging_fraction': 0.8813950100648466, 'lambda_l1': 0.9918603107068148, 'lambda_l2': 0.38104164479264835}. Best is trial 9 with value: 0.9320194420400826.\n"
     ]
    },
    {
     "name": "stdout",
     "output_type": "stream",
     "text": [
      "Early stopping, best iteration is:\n",
      "[11]\tvalid_0's auc: 0.888009\n",
      "Training until validation scores don't improve for 30 rounds\n"
     ]
    },
    {
     "name": "stderr",
     "output_type": "stream",
     "text": [
      "[I 2025-08-04 23:01:19,460] Trial 13 finished with value: 0.9071842333044811 and parameters: {'learning_rate': 0.08540276995639912, 'num_leaves': 55, 'max_depth': 6, 'min_child_samples': 50, 'feature_fraction': 0.8182010565950739, 'bagging_fraction': 0.7078827272600361, 'lambda_l1': 0.33595735977116714, 'lambda_l2': 0.5526168088773726}. Best is trial 9 with value: 0.9320194420400826.\n"
     ]
    },
    {
     "name": "stdout",
     "output_type": "stream",
     "text": [
      "Early stopping, best iteration is:\n",
      "[38]\tvalid_0's auc: 0.907184\n",
      "Training until validation scores don't improve for 30 rounds\n"
     ]
    },
    {
     "name": "stderr",
     "output_type": "stream",
     "text": [
      "[I 2025-08-04 23:01:19,831] Trial 14 finished with value: 0.9207004461016045 and parameters: {'learning_rate': 0.07949992007745306, 'num_leaves': 34, 'max_depth': 4, 'min_child_samples': 40, 'feature_fraction': 0.658089602465632, 'bagging_fraction': 0.8886235372320681, 'lambda_l1': 0.06519325249609242, 'lambda_l2': 0.27660786092287326}. Best is trial 9 with value: 0.9320194420400826.\n"
     ]
    },
    {
     "name": "stdout",
     "output_type": "stream",
     "text": [
      "Early stopping, best iteration is:\n",
      "[32]\tvalid_0's auc: 0.9207\n",
      "Training until validation scores don't improve for 30 rounds\n"
     ]
    },
    {
     "name": "stderr",
     "output_type": "stream",
     "text": [
      "[I 2025-08-04 23:01:20,344] Trial 15 finished with value: 0.9051867634329849 and parameters: {'learning_rate': 0.07482510541169965, 'num_leaves': 36, 'max_depth': 5, 'min_child_samples': 42, 'feature_fraction': 0.639674588693053, 'bagging_fraction': 0.8885184557832282, 'lambda_l1': 0.0004455435554367171, 'lambda_l2': 0.04508962334236499}. Best is trial 9 with value: 0.9320194420400826.\n"
     ]
    },
    {
     "name": "stdout",
     "output_type": "stream",
     "text": [
      "Early stopping, best iteration is:\n",
      "[41]\tvalid_0's auc: 0.905187\n",
      "Training until validation scores don't improve for 30 rounds\n"
     ]
    },
    {
     "name": "stderr",
     "output_type": "stream",
     "text": [
      "[I 2025-08-04 23:01:21,136] Trial 16 finished with value: 0.8826819362141287 and parameters: {'learning_rate': 0.06500853427381928, 'num_leaves': 43, 'max_depth': 12, 'min_child_samples': 30, 'feature_fraction': 0.6782636515623879, 'bagging_fraction': 0.8845144325538984, 'lambda_l1': 0.01244390107383661, 'lambda_l2': 0.3458144977118006}. Best is trial 9 with value: 0.9320194420400826.\n"
     ]
    },
    {
     "name": "stdout",
     "output_type": "stream",
     "text": [
      "Early stopping, best iteration is:\n",
      "[32]\tvalid_0's auc: 0.882682\n",
      "Training until validation scores don't improve for 30 rounds\n"
     ]
    },
    {
     "name": "stderr",
     "output_type": "stream",
     "text": [
      "[I 2025-08-04 23:01:21,689] Trial 17 finished with value: 0.8750915507024435 and parameters: {'learning_rate': 0.09632058992179178, 'num_leaves': 79, 'max_depth': 6, 'min_child_samples': 40, 'feature_fraction': 0.7453076918295686, 'bagging_fraction': 0.9954772510376702, 'lambda_l1': 0.2354810432979818, 'lambda_l2': 0.6027636070346027}. Best is trial 9 with value: 0.9320194420400826.\n"
     ]
    },
    {
     "name": "stdout",
     "output_type": "stream",
     "text": [
      "Early stopping, best iteration is:\n",
      "[28]\tvalid_0's auc: 0.875092\n",
      "Training until validation scores don't improve for 30 rounds\n"
     ]
    },
    {
     "name": "stderr",
     "output_type": "stream",
     "text": [
      "[I 2025-08-04 23:01:22,011] Trial 18 finished with value: 0.8850123177308742 and parameters: {'learning_rate': 0.13896929492020516, 'num_leaves': 29, 'max_depth': 4, 'min_child_samples': 21, 'feature_fraction': 0.6762583970125091, 'bagging_fraction': 0.7053407062520567, 'lambda_l1': 0.12903540305135647, 'lambda_l2': 0.4533089284769567}. Best is trial 9 with value: 0.9320194420400826.\n"
     ]
    },
    {
     "name": "stdout",
     "output_type": "stream",
     "text": [
      "Early stopping, best iteration is:\n",
      "[27]\tvalid_0's auc: 0.885012\n",
      "Training until validation scores don't improve for 30 rounds\n"
     ]
    },
    {
     "name": "stderr",
     "output_type": "stream",
     "text": [
      "[I 2025-08-04 23:01:22,527] Trial 19 finished with value: 0.909181703175977 and parameters: {'learning_rate': 0.06113581138827176, 'num_leaves': 60, 'max_depth': 7, 'min_child_samples': 40, 'feature_fraction': 0.6045240060144792, 'bagging_fraction': 0.8580992846091365, 'lambda_l1': 0.3181422511049024, 'lambda_l2': 0.1117251220922314}. Best is trial 9 with value: 0.9320194420400826.\n"
     ]
    },
    {
     "name": "stdout",
     "output_type": "stream",
     "text": [
      "Early stopping, best iteration is:\n",
      "[25]\tvalid_0's auc: 0.909182\n",
      "Training until validation scores don't improve for 30 rounds\n"
     ]
    },
    {
     "name": "stderr",
     "output_type": "stream",
     "text": [
      "[I 2025-08-04 23:01:22,896] Trial 20 finished with value: 0.893335108862108 and parameters: {'learning_rate': 0.14063369552238875, 'num_leaves': 29, 'max_depth': 4, 'min_child_samples': 47, 'feature_fraction': 0.7749349600331877, 'bagging_fraction': 0.9350230945945173, 'lambda_l1': 0.5122364297006141, 'lambda_l2': 0.3025147065066143}. Best is trial 9 with value: 0.9320194420400826.\n"
     ]
    },
    {
     "name": "stdout",
     "output_type": "stream",
     "text": [
      "Early stopping, best iteration is:\n",
      "[30]\tvalid_0's auc: 0.893335\n",
      "Training until validation scores don't improve for 30 rounds\n"
     ]
    },
    {
     "name": "stderr",
     "output_type": "stream",
     "text": [
      "[I 2025-08-04 23:01:23,328] Trial 21 finished with value: 0.8805513016845329 and parameters: {'learning_rate': 0.11323729664790164, 'num_leaves': 20, 'max_depth': 4, 'min_child_samples': 34, 'feature_fraction': 0.7186048352240396, 'bagging_fraction': 0.751887660709784, 'lambda_l1': 0.08746851027127675, 'lambda_l2': 0.27151420519339736}. Best is trial 9 with value: 0.9320194420400826.\n"
     ]
    },
    {
     "name": "stdout",
     "output_type": "stream",
     "text": [
      "Early stopping, best iteration is:\n",
      "[50]\tvalid_0's auc: 0.880551\n",
      "Training until validation scores don't improve for 30 rounds\n"
     ]
    },
    {
     "name": "stderr",
     "output_type": "stream",
     "text": [
      "[I 2025-08-04 23:01:23,616] Trial 22 finished with value: 0.9083827152273786 and parameters: {'learning_rate': 0.09615832463534951, 'num_leaves': 30, 'max_depth': 3, 'min_child_samples': 33, 'feature_fraction': 0.65069050210083, 'bagging_fraction': 0.795804299240321, 'lambda_l1': 0.21213985044767456, 'lambda_l2': 0.24689229269361151}. Best is trial 9 with value: 0.9320194420400826.\n"
     ]
    },
    {
     "name": "stdout",
     "output_type": "stream",
     "text": [
      "Early stopping, best iteration is:\n",
      "[37]\tvalid_0's auc: 0.908383\n",
      "Training until validation scores don't improve for 30 rounds\n"
     ]
    },
    {
     "name": "stderr",
     "output_type": "stream",
     "text": [
      "[I 2025-08-04 23:01:23,937] Trial 23 finished with value: 0.9034889140422131 and parameters: {'learning_rate': 0.1580867735005846, 'num_leaves': 43, 'max_depth': 4, 'min_child_samples': 39, 'feature_fraction': 0.8343017047517184, 'bagging_fraction': 0.6745846626121004, 'lambda_l1': 0.9991348433715694, 'lambda_l2': 0.4268239461757708}. Best is trial 9 with value: 0.9320194420400826.\n"
     ]
    },
    {
     "name": "stdout",
     "output_type": "stream",
     "text": [
      "Early stopping, best iteration is:\n",
      "[14]\tvalid_0's auc: 0.903489\n",
      "Training until validation scores don't improve for 30 rounds\n"
     ]
    },
    {
     "name": "stderr",
     "output_type": "stream",
     "text": [
      "[I 2025-08-04 23:01:24,559] Trial 24 finished with value: 0.8939343498235568 and parameters: {'learning_rate': 0.12573789572655975, 'num_leaves': 26, 'max_depth': 7, 'min_child_samples': 26, 'feature_fraction': 0.7933562267788838, 'bagging_fraction': 0.7410604120566598, 'lambda_l1': 0.6173798732157425, 'lambda_l2': 0.13829498661070613}. Best is trial 9 with value: 0.9320194420400826.\n"
     ]
    },
    {
     "name": "stdout",
     "output_type": "stream",
     "text": [
      "Early stopping, best iteration is:\n",
      "[31]\tvalid_0's auc: 0.893934\n",
      "Training until validation scores don't improve for 30 rounds\n"
     ]
    },
    {
     "name": "stderr",
     "output_type": "stream",
     "text": [
      "[I 2025-08-04 23:01:24,985] Trial 25 finished with value: 0.8889406751448166 and parameters: {'learning_rate': 0.09782678718347469, 'num_leaves': 32, 'max_depth': 5, 'min_child_samples': 32, 'feature_fraction': 0.884873691317807, 'bagging_fraction': 0.9127877555737098, 'lambda_l1': 0.35624851040204714, 'lambda_l2': 0.5329346979469709}. Best is trial 9 with value: 0.9320194420400826.\n"
     ]
    },
    {
     "name": "stdout",
     "output_type": "stream",
     "text": [
      "Early stopping, best iteration is:\n",
      "[17]\tvalid_0's auc: 0.888941\n",
      "Training until validation scores don't improve for 30 rounds\n"
     ]
    },
    {
     "name": "stderr",
     "output_type": "stream",
     "text": [
      "[I 2025-08-04 23:01:25,257] Trial 26 finished with value: 0.9333177974565551 and parameters: {'learning_rate': 0.0530541985327026, 'num_leaves': 45, 'max_depth': 3, 'min_child_samples': 38, 'feature_fraction': 0.9167751754513033, 'bagging_fraction': 0.8425792278850566, 'lambda_l1': 0.5234634706777581, 'lambda_l2': 0.298075888345388}. Best is trial 26 with value: 0.9333177974565551.\n"
     ]
    },
    {
     "name": "stdout",
     "output_type": "stream",
     "text": [
      "Early stopping, best iteration is:\n",
      "[12]\tvalid_0's auc: 0.933318\n",
      "Training until validation scores don't improve for 30 rounds\n"
     ]
    },
    {
     "name": "stderr",
     "output_type": "stream",
     "text": [
      "[I 2025-08-04 23:01:25,751] Trial 27 finished with value: 0.9010586590318928 and parameters: {'learning_rate': 0.05823995264752588, 'num_leaves': 44, 'max_depth': 4, 'min_child_samples': 45, 'feature_fraction': 0.997416744855626, 'bagging_fraction': 0.8490366351703883, 'lambda_l1': 0.5199118284992819, 'lambda_l2': 0.314961428657532}. Best is trial 26 with value: 0.9333177974565551.\n"
     ]
    },
    {
     "name": "stdout",
     "output_type": "stream",
     "text": [
      "Early stopping, best iteration is:\n",
      "[48]\tvalid_0's auc: 0.901059\n",
      "Training until validation scores don't improve for 30 rounds\n"
     ]
    },
    {
     "name": "stderr",
     "output_type": "stream",
     "text": [
      "[I 2025-08-04 23:01:26,413] Trial 28 finished with value: 0.9055196750782342 and parameters: {'learning_rate': 0.051886166596079454, 'num_leaves': 59, 'max_depth': 6, 'min_child_samples': 40, 'feature_fraction': 0.7166724549557231, 'bagging_fraction': 0.8374528546094164, 'lambda_l1': 0.43508185951737144, 'lambda_l2': 0.6545292550715617}. Best is trial 26 with value: 0.9333177974565551.\n"
     ]
    },
    {
     "name": "stdout",
     "output_type": "stream",
     "text": [
      "Early stopping, best iteration is:\n",
      "[62]\tvalid_0's auc: 0.90552\n",
      "Training until validation scores don't improve for 30 rounds\n"
     ]
    },
    {
     "name": "stderr",
     "output_type": "stream",
     "text": [
      "[I 2025-08-04 23:01:26,965] Trial 29 finished with value: 0.9191024702044077 and parameters: {'learning_rate': 0.07310618795648233, 'num_leaves': 49, 'max_depth': 7, 'min_child_samples': 50, 'feature_fraction': 0.6616427634880193, 'bagging_fraction': 0.9040064010990717, 'lambda_l1': 0.7264988464973063, 'lambda_l2': 0.08167056719792187}. Best is trial 26 with value: 0.9333177974565551.\n"
     ]
    },
    {
     "name": "stdout",
     "output_type": "stream",
     "text": [
      "Early stopping, best iteration is:\n",
      "[28]\tvalid_0's auc: 0.919102\n"
     ]
    },
    {
     "name": "stderr",
     "output_type": "stream",
     "text": [
      "[I 2025-08-04 23:01:28,739] A new study created in memory with name: no-name-fdd52a1e-e758-446c-9426-452a6e7cb668\n"
     ]
    },
    {
     "name": "stdout",
     "output_type": "stream",
     "text": [
      "📍 Training for label: NR-AhR\n",
      "Training until validation scores don't improve for 30 rounds\n",
      "Did not meet early stopping. Best iteration is:\n",
      "[100]\tvalid_0's auc: 0.916843\n"
     ]
    },
    {
     "name": "stderr",
     "output_type": "stream",
     "text": [
      "[I 2025-08-04 23:01:29,273] Trial 0 finished with value: 0.9168426728980362 and parameters: {'learning_rate': 0.042552878106938495, 'num_leaves': 36, 'max_depth': 3, 'min_child_samples': 40, 'feature_fraction': 0.6743412927173097, 'bagging_fraction': 0.6041911181766196, 'lambda_l1': 0.4745775197856904, 'lambda_l2': 0.805958263466575}. Best is trial 0 with value: 0.9168426728980362.\n"
     ]
    },
    {
     "name": "stdout",
     "output_type": "stream",
     "text": [
      "Training until validation scores don't improve for 30 rounds\n"
     ]
    },
    {
     "name": "stderr",
     "output_type": "stream",
     "text": [
      "[I 2025-08-04 23:01:29,959] Trial 1 finished with value: 0.9207297892419 and parameters: {'learning_rate': 0.09811847502374359, 'num_leaves': 29, 'max_depth': 8, 'min_child_samples': 31, 'feature_fraction': 0.6322466736119433, 'bagging_fraction': 0.7816188210035994, 'lambda_l1': 0.6390778498343924, 'lambda_l2': 0.1540708431592619}. Best is trial 1 with value: 0.9207297892419.\n"
     ]
    },
    {
     "name": "stdout",
     "output_type": "stream",
     "text": [
      "Early stopping, best iteration is:\n",
      "[35]\tvalid_0's auc: 0.92073\n",
      "Training until validation scores don't improve for 30 rounds\n"
     ]
    },
    {
     "name": "stderr",
     "output_type": "stream",
     "text": [
      "[I 2025-08-04 23:01:30,948] Trial 2 finished with value: 0.9272682334966071 and parameters: {'learning_rate': 0.09655362608202521, 'num_leaves': 42, 'max_depth': 7, 'min_child_samples': 34, 'feature_fraction': 0.7806731295866215, 'bagging_fraction': 0.7513370903906527, 'lambda_l1': 0.8238120015443766, 'lambda_l2': 0.01028010342935226}. Best is trial 2 with value: 0.9272682334966071.\n"
     ]
    },
    {
     "name": "stdout",
     "output_type": "stream",
     "text": [
      "Early stopping, best iteration is:\n",
      "[64]\tvalid_0's auc: 0.927268\n",
      "Training until validation scores don't improve for 30 rounds\n"
     ]
    },
    {
     "name": "stderr",
     "output_type": "stream",
     "text": [
      "[I 2025-08-04 23:01:31,980] Trial 3 finished with value: 0.9271109513324046 and parameters: {'learning_rate': 0.057563300047318224, 'num_leaves': 73, 'max_depth': 8, 'min_child_samples': 50, 'feature_fraction': 0.6766166415720402, 'bagging_fraction': 0.8832185448544556, 'lambda_l1': 0.6149169355752748, 'lambda_l2': 0.9268174782086989}. Best is trial 2 with value: 0.9272682334966071.\n"
     ]
    },
    {
     "name": "stdout",
     "output_type": "stream",
     "text": [
      "Early stopping, best iteration is:\n",
      "[67]\tvalid_0's auc: 0.927111\n",
      "Training until validation scores don't improve for 30 rounds\n"
     ]
    },
    {
     "name": "stderr",
     "output_type": "stream",
     "text": [
      "[I 2025-08-04 23:01:33,591] Trial 4 finished with value: 0.9224598930481283 and parameters: {'learning_rate': 0.13432846239771937, 'num_leaves': 33, 'max_depth': 12, 'min_child_samples': 29, 'feature_fraction': 0.8420873002990753, 'bagging_fraction': 0.8435889178592513, 'lambda_l1': 0.09369039387058453, 'lambda_l2': 0.9258055500161438}. Best is trial 2 with value: 0.9272682334966071.\n"
     ]
    },
    {
     "name": "stdout",
     "output_type": "stream",
     "text": [
      "Did not meet early stopping. Best iteration is:\n",
      "[100]\tvalid_0's auc: 0.92246\n",
      "Training until validation scores don't improve for 30 rounds\n"
     ]
    },
    {
     "name": "stderr",
     "output_type": "stream",
     "text": [
      "[I 2025-08-04 23:01:35,723] Trial 5 finished with value: 0.9207073203612995 and parameters: {'learning_rate': 0.17481328200766985, 'num_leaves': 74, 'max_depth': 8, 'min_child_samples': 14, 'feature_fraction': 0.9213330058797423, 'bagging_fraction': 0.98833142702564, 'lambda_l1': 0.1853451164550729, 'lambda_l2': 0.8714356190246342}. Best is trial 2 with value: 0.9272682334966071.\n"
     ]
    },
    {
     "name": "stdout",
     "output_type": "stream",
     "text": [
      "Did not meet early stopping. Best iteration is:\n",
      "[82]\tvalid_0's auc: 0.920707\n",
      "Training until validation scores don't improve for 30 rounds\n"
     ]
    },
    {
     "name": "stderr",
     "output_type": "stream",
     "text": [
      "[I 2025-08-04 23:01:36,072] Trial 6 finished with value: 0.9140565317035905 and parameters: {'learning_rate': 0.13950866773987736, 'num_leaves': 44, 'max_depth': 4, 'min_child_samples': 46, 'feature_fraction': 0.6340554978855858, 'bagging_fraction': 0.7811106458734833, 'lambda_l1': 0.4699262329643603, 'lambda_l2': 0.07019981238680151}. Best is trial 2 with value: 0.9272682334966071.\n"
     ]
    },
    {
     "name": "stdout",
     "output_type": "stream",
     "text": [
      "Early stopping, best iteration is:\n",
      "[34]\tvalid_0's auc: 0.914057\n",
      "Training until validation scores don't improve for 30 rounds\n"
     ]
    },
    {
     "name": "stderr",
     "output_type": "stream",
     "text": [
      "[I 2025-08-04 23:01:37,910] Trial 7 finished with value: 0.9149552869276052 and parameters: {'learning_rate': 0.050996625990885384, 'num_leaves': 46, 'max_depth': 10, 'min_child_samples': 30, 'feature_fraction': 0.8392913303642189, 'bagging_fraction': 0.7860040312674557, 'lambda_l1': 0.9768453863136601, 'lambda_l2': 0.15407803119526664}. Best is trial 2 with value: 0.9272682334966071.\n"
     ]
    },
    {
     "name": "stdout",
     "output_type": "stream",
     "text": [
      "Did not meet early stopping. Best iteration is:\n",
      "[97]\tvalid_0's auc: 0.914955\n",
      "Training until validation scores don't improve for 30 rounds\n"
     ]
    },
    {
     "name": "stderr",
     "output_type": "stream",
     "text": [
      "[I 2025-08-04 23:01:38,382] Trial 8 finished with value: 0.9154945400620141 and parameters: {'learning_rate': 0.13060748753393242, 'num_leaves': 45, 'max_depth': 4, 'min_child_samples': 31, 'feature_fraction': 0.8397070691245754, 'bagging_fraction': 0.6134337758447307, 'lambda_l1': 0.40443024217629664, 'lambda_l2': 0.5743526508422514}. Best is trial 2 with value: 0.9272682334966071.\n"
     ]
    },
    {
     "name": "stdout",
     "output_type": "stream",
     "text": [
      "Early stopping, best iteration is:\n",
      "[34]\tvalid_0's auc: 0.915495\n",
      "Training until validation scores don't improve for 30 rounds\n"
     ]
    },
    {
     "name": "stderr",
     "output_type": "stream",
     "text": [
      "[I 2025-08-04 23:01:39,405] Trial 9 finished with value: 0.9229092706601357 and parameters: {'learning_rate': 0.062450903040305324, 'num_leaves': 61, 'max_depth': 6, 'min_child_samples': 21, 'feature_fraction': 0.8086725935384138, 'bagging_fraction': 0.8816131024058289, 'lambda_l1': 0.8734061952287484, 'lambda_l2': 0.7667566594345758}. Best is trial 2 with value: 0.9272682334966071.\n"
     ]
    },
    {
     "name": "stdout",
     "output_type": "stream",
     "text": [
      "Early stopping, best iteration is:\n",
      "[63]\tvalid_0's auc: 0.922909\n",
      "Training until validation scores don't improve for 30 rounds\n"
     ]
    },
    {
     "name": "stderr",
     "output_type": "stream",
     "text": [
      "[I 2025-08-04 23:01:40,383] Trial 10 finished with value: 0.9091470812924101 and parameters: {'learning_rate': 0.010155798778426095, 'num_leaves': 21, 'max_depth': 6, 'min_child_samples': 39, 'feature_fraction': 0.996077675289, 'bagging_fraction': 0.6980401857110441, 'lambda_l1': 0.7861333024875096, 'lambda_l2': 0.3673156983952396}. Best is trial 2 with value: 0.9272682334966071.\n"
     ]
    },
    {
     "name": "stdout",
     "output_type": "stream",
     "text": [
      "Did not meet early stopping. Best iteration is:\n",
      "[100]\tvalid_0's auc: 0.909147\n",
      "Training until validation scores don't improve for 30 rounds\n"
     ]
    },
    {
     "name": "stderr",
     "output_type": "stream",
     "text": [
      "[I 2025-08-04 23:01:41,588] Trial 11 finished with value: 0.9162809508830271 and parameters: {'learning_rate': 0.08646783289694819, 'num_leaves': 62, 'max_depth': 10, 'min_child_samples': 48, 'feature_fraction': 0.7202228719185196, 'bagging_fraction': 0.9310975927595093, 'lambda_l1': 0.7072728548653576, 'lambda_l2': 0.4481163397019931}. Best is trial 2 with value: 0.9272682334966071.\n"
     ]
    },
    {
     "name": "stdout",
     "output_type": "stream",
     "text": [
      "Early stopping, best iteration is:\n",
      "[47]\tvalid_0's auc: 0.916281\n",
      "Training until validation scores don't improve for 30 rounds\n"
     ]
    },
    {
     "name": "stderr",
     "output_type": "stream",
     "text": [
      "[I 2025-08-04 23:01:42,258] Trial 12 finished with value: 0.9223924864063272 and parameters: {'learning_rate': 0.0771342580086188, 'num_leaves': 76, 'max_depth': 6, 'min_child_samples': 40, 'feature_fraction': 0.7259553854502048, 'bagging_fraction': 0.7082833008114355, 'lambda_l1': 0.6224943464669664, 'lambda_l2': 0.6527980592115088}. Best is trial 2 with value: 0.9272682334966071.\n"
     ]
    },
    {
     "name": "stdout",
     "output_type": "stream",
     "text": [
      "Early stopping, best iteration is:\n",
      "[44]\tvalid_0's auc: 0.922392\n",
      "Training until validation scores don't improve for 30 rounds\n"
     ]
    },
    {
     "name": "stderr",
     "output_type": "stream",
     "text": [
      "[I 2025-08-04 23:01:43,697] Trial 13 finished with value: 0.9170898305846402 and parameters: {'learning_rate': 0.012342655735153016, 'num_leaves': 58, 'max_depth': 10, 'min_child_samples': 50, 'feature_fraction': 0.7451357020749021, 'bagging_fraction': 0.8673399987888755, 'lambda_l1': 0.3077808895956125, 'lambda_l2': 0.3184138715877156}. Best is trial 2 with value: 0.9272682334966071.\n"
     ]
    },
    {
     "name": "stdout",
     "output_type": "stream",
     "text": [
      "Did not meet early stopping. Best iteration is:\n",
      "[100]\tvalid_0's auc: 0.91709\n",
      "Training until validation scores don't improve for 30 rounds\n"
     ]
    },
    {
     "name": "stderr",
     "output_type": "stream",
     "text": [
      "[I 2025-08-04 23:01:44,834] Trial 14 finished with value: 0.9211791668539073 and parameters: {'learning_rate': 0.11127890078813396, 'num_leaves': 68, 'max_depth': 7, 'min_child_samples': 22, 'feature_fraction': 0.7653857852492518, 'bagging_fraction': 0.7335531396104801, 'lambda_l1': 0.8630964098352158, 'lambda_l2': 0.009111668054594525}. Best is trial 2 with value: 0.9272682334966071.\n"
     ]
    },
    {
     "name": "stdout",
     "output_type": "stream",
     "text": [
      "Early stopping, best iteration is:\n",
      "[52]\tvalid_0's auc: 0.921179\n",
      "Training until validation scores don't improve for 30 rounds\n"
     ]
    },
    {
     "name": "stderr",
     "output_type": "stream",
     "text": [
      "[I 2025-08-04 23:01:46,085] Trial 15 finished with value: 0.9244596234215612 and parameters: {'learning_rate': 0.1949146380601866, 'num_leaves': 53, 'max_depth': 9, 'min_child_samples': 44, 'feature_fraction': 0.6837031209960663, 'bagging_fraction': 0.9538342779803093, 'lambda_l1': 0.5956739806580134, 'lambda_l2': 0.9834868322633344}. Best is trial 2 with value: 0.9272682334966071.\n"
     ]
    },
    {
     "name": "stdout",
     "output_type": "stream",
     "text": [
      "Did not meet early stopping. Best iteration is:\n",
      "[77]\tvalid_0's auc: 0.92446\n",
      "Training until validation scores don't improve for 30 rounds\n"
     ]
    },
    {
     "name": "stderr",
     "output_type": "stream",
     "text": [
      "[I 2025-08-04 23:01:47,549] Trial 16 finished with value: 0.9302116568552554 and parameters: {'learning_rate': 0.037355750379940926, 'num_leaves': 79, 'max_depth': 12, 'min_child_samples': 36, 'feature_fraction': 0.6037191236136061, 'bagging_fraction': 0.8330916184053574, 'lambda_l1': 0.9356279212225231, 'lambda_l2': 0.26065152748302883}. Best is trial 16 with value: 0.9302116568552554.\n"
     ]
    },
    {
     "name": "stdout",
     "output_type": "stream",
     "text": [
      "Did not meet early stopping. Best iteration is:\n",
      "[96]\tvalid_0's auc: 0.930212\n",
      "Training until validation scores don't improve for 30 rounds\n"
     ]
    },
    {
     "name": "stderr",
     "output_type": "stream",
     "text": [
      "[I 2025-08-04 23:01:48,834] Trial 17 finished with value: 0.9236058059587471 and parameters: {'learning_rate': 0.028895355893060498, 'num_leaves': 80, 'max_depth': 12, 'min_child_samples': 35, 'feature_fraction': 0.6030590280965178, 'bagging_fraction': 0.8307754440269507, 'lambda_l1': 0.9968849317172476, 'lambda_l2': 0.25423810927925766}. Best is trial 16 with value: 0.9302116568552554.\n"
     ]
    },
    {
     "name": "stdout",
     "output_type": "stream",
     "text": [
      "Did not meet early stopping. Best iteration is:\n",
      "[100]\tvalid_0's auc: 0.923606\n",
      "Training until validation scores don't improve for 30 rounds\n"
     ]
    },
    {
     "name": "stderr",
     "output_type": "stream",
     "text": [
      "[I 2025-08-04 23:01:50,269] Trial 18 finished with value: 0.9145059093155979 and parameters: {'learning_rate': 0.15561127742002365, 'num_leaves': 52, 'max_depth': 11, 'min_child_samples': 25, 'feature_fraction': 0.9039164589610902, 'bagging_fraction': 0.6621998376000404, 'lambda_l1': 0.8288153140322932, 'lambda_l2': 0.22557140775228446}. Best is trial 16 with value: 0.9302116568552554.\n"
     ]
    },
    {
     "name": "stdout",
     "output_type": "stream",
     "text": [
      "Did not meet early stopping. Best iteration is:\n",
      "[98]\tvalid_0's auc: 0.914506\n",
      "Training until validation scores don't improve for 30 rounds\n"
     ]
    },
    {
     "name": "stderr",
     "output_type": "stream",
     "text": [
      "[I 2025-08-04 23:01:50,861] Trial 19 finished with value: 0.9190221543162719 and parameters: {'learning_rate': 0.10914387153658542, 'num_leaves': 39, 'max_depth': 5, 'min_child_samples': 10, 'feature_fraction': 0.9165202984781651, 'bagging_fraction': 0.7422970463833196, 'lambda_l1': 0.7413477620220232, 'lambda_l2': 0.00142142843713001}. Best is trial 16 with value: 0.9302116568552554.\n"
     ]
    },
    {
     "name": "stdout",
     "output_type": "stream",
     "text": [
      "Early stopping, best iteration is:\n",
      "[39]\tvalid_0's auc: 0.919022\n",
      "Training until validation scores don't improve for 30 rounds\n"
     ]
    },
    {
     "name": "stderr",
     "output_type": "stream",
     "text": [
      "[I 2025-08-04 23:01:51,922] Trial 20 finished with value: 0.9264818226755943 and parameters: {'learning_rate': 0.07447187392202245, 'num_leaves': 26, 'max_depth': 7, 'min_child_samples': 36, 'feature_fraction': 0.9899480126939936, 'bagging_fraction': 0.8098204791618151, 'lambda_l1': 0.8938758360536099, 'lambda_l2': 0.4206001921760638}. Best is trial 16 with value: 0.9302116568552554.\n"
     ]
    },
    {
     "name": "stdout",
     "output_type": "stream",
     "text": [
      "Did not meet early stopping. Best iteration is:\n",
      "[88]\tvalid_0's auc: 0.926482\n",
      "Training until validation scores don't improve for 30 rounds\n"
     ]
    },
    {
     "name": "stderr",
     "output_type": "stream",
     "text": [
      "[I 2025-08-04 23:01:53,226] Trial 21 finished with value: 0.9248640632723677 and parameters: {'learning_rate': 0.037718669248593316, 'num_leaves': 68, 'max_depth': 9, 'min_child_samples': 36, 'feature_fraction': 0.686420160607542, 'bagging_fraction': 0.9037483646321959, 'lambda_l1': 0.702857588770818, 'lambda_l2': 0.5638988495451105}. Best is trial 16 with value: 0.9302116568552554.\n"
     ]
    },
    {
     "name": "stdout",
     "output_type": "stream",
     "text": [
      "Did not meet early stopping. Best iteration is:\n",
      "[100]\tvalid_0's auc: 0.924864\n",
      "Training until validation scores don't improve for 30 rounds\n"
     ]
    },
    {
     "name": "stderr",
     "output_type": "stream",
     "text": [
      "[I 2025-08-04 23:01:54,304] Trial 22 finished with value: 0.9299420302880512 and parameters: {'learning_rate': 0.05533833812998019, 'num_leaves': 68, 'max_depth': 9, 'min_child_samples': 44, 'feature_fraction': 0.6104967471410183, 'bagging_fraction': 0.8536540032255587, 'lambda_l1': 0.5622740442861274, 'lambda_l2': 0.1626756422088082}. Best is trial 16 with value: 0.9302116568552554.\n"
     ]
    },
    {
     "name": "stdout",
     "output_type": "stream",
     "text": [
      "Early stopping, best iteration is:\n",
      "[62]\tvalid_0's auc: 0.929942\n",
      "Training until validation scores don't improve for 30 rounds\n"
     ]
    },
    {
     "name": "stderr",
     "output_type": "stream",
     "text": [
      "[I 2025-08-04 23:01:55,518] Trial 23 finished with value: 0.9230216150631376 and parameters: {'learning_rate': 0.031662639259219534, 'num_leaves': 66, 'max_depth': 11, 'min_child_samples': 43, 'feature_fraction': 0.6006805561098523, 'bagging_fraction': 0.8346295931264459, 'lambda_l1': 0.9315817735746503, 'lambda_l2': 0.12846204489445168}. Best is trial 16 with value: 0.9302116568552554.\n"
     ]
    },
    {
     "name": "stdout",
     "output_type": "stream",
     "text": [
      "Did not meet early stopping. Best iteration is:\n",
      "[98]\tvalid_0's auc: 0.923022\n",
      "Training until validation scores don't improve for 30 rounds\n"
     ]
    },
    {
     "name": "stderr",
     "output_type": "stream",
     "text": [
      "[I 2025-08-04 23:01:56,825] Trial 24 finished with value: 0.92439221677976 and parameters: {'learning_rate': 0.0681984197148319, 'num_leaves': 80, 'max_depth': 9, 'min_child_samples': 34, 'feature_fraction': 0.6443513614067932, 'bagging_fraction': 0.7480761377466967, 'lambda_l1': 0.32386065851366924, 'lambda_l2': 0.2468149342808162}. Best is trial 16 with value: 0.9302116568552554.\n"
     ]
    },
    {
     "name": "stdout",
     "output_type": "stream",
     "text": [
      "Did not meet early stopping. Best iteration is:\n",
      "[90]\tvalid_0's auc: 0.924392\n",
      "Training until validation scores don't improve for 30 rounds\n"
     ]
    },
    {
     "name": "stderr",
     "output_type": "stream",
     "text": [
      "[I 2025-08-04 23:01:57,980] Trial 25 finished with value: 0.9195838763312812 and parameters: {'learning_rate': 0.09459643154305465, 'num_leaves': 55, 'max_depth': 11, 'min_child_samples': 42, 'feature_fraction': 0.7663032076067836, 'bagging_fraction': 0.8127559130717064, 'lambda_l1': 0.5416694785625742, 'lambda_l2': 0.08145392680385788}. Best is trial 16 with value: 0.9302116568552554.\n"
     ]
    },
    {
     "name": "stdout",
     "output_type": "stream",
     "text": [
      "Early stopping, best iteration is:\n",
      "[47]\tvalid_0's auc: 0.919584\n",
      "Training until validation scores don't improve for 30 rounds\n"
     ]
    },
    {
     "name": "stderr",
     "output_type": "stream",
     "text": [
      "[I 2025-08-04 23:01:58,738] Trial 26 finished with value: 0.9252909720037747 and parameters: {'learning_rate': 0.1178766250865835, 'num_leaves': 72, 'max_depth': 7, 'min_child_samples': 38, 'feature_fraction': 0.6335998244830061, 'bagging_fraction': 0.9186209344283937, 'lambda_l1': 0.7899478590939326, 'lambda_l2': 0.3070703176296076}. Best is trial 16 with value: 0.9302116568552554.\n"
     ]
    },
    {
     "name": "stdout",
     "output_type": "stream",
     "text": [
      "Early stopping, best iteration is:\n",
      "[46]\tvalid_0's auc: 0.925291\n",
      "Training until validation scores don't improve for 30 rounds\n"
     ]
    },
    {
     "name": "stderr",
     "output_type": "stream",
     "text": [
      "[I 2025-08-04 23:02:00,299] Trial 27 finished with value: 0.9170898305846403 and parameters: {'learning_rate': 0.023811581953914807, 'num_leaves': 42, 'max_depth': 12, 'min_child_samples': 27, 'feature_fraction': 0.883761541255601, 'bagging_fraction': 0.8599672532904573, 'lambda_l1': 0.9210470308748353, 'lambda_l2': 0.19207031001536493}. Best is trial 16 with value: 0.9302116568552554.\n"
     ]
    },
    {
     "name": "stdout",
     "output_type": "stream",
     "text": [
      "Did not meet early stopping. Best iteration is:\n",
      "[100]\tvalid_0's auc: 0.91709\n",
      "Training until validation scores don't improve for 30 rounds\n"
     ]
    },
    {
     "name": "stderr",
     "output_type": "stream",
     "text": [
      "[I 2025-08-04 23:02:01,358] Trial 28 finished with value: 0.9253359097649755 and parameters: {'learning_rate': 0.04998276062034373, 'num_leaves': 49, 'max_depth': 9, 'min_child_samples': 46, 'feature_fraction': 0.7076450056384916, 'bagging_fraction': 0.6748589566501395, 'lambda_l1': 0.7537206049923173, 'lambda_l2': 0.0708545477592682}. Best is trial 16 with value: 0.9302116568552554.\n"
     ]
    },
    {
     "name": "stdout",
     "output_type": "stream",
     "text": [
      "Early stopping, best iteration is:\n",
      "[56]\tvalid_0's auc: 0.925336\n",
      "Training until validation scores don't improve for 30 rounds\n"
     ]
    },
    {
     "name": "stderr",
     "output_type": "stream",
     "text": [
      "[I 2025-08-04 23:02:01,927] Trial 29 finished with value: 0.9214263245405114 and parameters: {'learning_rate': 0.044894216237197276, 'num_leaves': 36, 'max_depth': 4, 'min_child_samples': 33, 'feature_fraction': 0.7870593414726691, 'bagging_fraction': 0.7531065533521161, 'lambda_l1': 0.47342717380609944, 'lambda_l2': 0.2840076749447424}. Best is trial 16 with value: 0.9302116568552554.\n"
     ]
    },
    {
     "name": "stdout",
     "output_type": "stream",
     "text": [
      "Did not meet early stopping. Best iteration is:\n",
      "[97]\tvalid_0's auc: 0.921426\n"
     ]
    },
    {
     "name": "stderr",
     "output_type": "stream",
     "text": [
      "[I 2025-08-04 23:02:05,780] A new study created in memory with name: no-name-b24416d1-8980-4349-95d8-7b5f8c41bcb0\n"
     ]
    },
    {
     "name": "stdout",
     "output_type": "stream",
     "text": [
      "📍 Training for label: NR-Aromatase\n"
     ]
    },
    {
     "name": "stderr",
     "output_type": "stream",
     "text": [
      "[I 2025-08-04 23:02:06,202] Trial 0 finished with value: 0.9200483091787439 and parameters: {'learning_rate': 0.13645416521013223, 'num_leaves': 22, 'max_depth': 3, 'min_child_samples': 19, 'feature_fraction': 0.6683054544023638, 'bagging_fraction': 0.8331075011951987, 'lambda_l1': 0.4151677388262873, 'lambda_l2': 0.02625960085532819}. Best is trial 0 with value: 0.9200483091787439.\n"
     ]
    },
    {
     "name": "stdout",
     "output_type": "stream",
     "text": [
      "Training until validation scores don't improve for 30 rounds\n",
      "Early stopping, best iteration is:\n",
      "[28]\tvalid_0's auc: 0.920048\n",
      "Training until validation scores don't improve for 30 rounds\n"
     ]
    },
    {
     "name": "stderr",
     "output_type": "stream",
     "text": [
      "[I 2025-08-04 23:02:06,776] Trial 1 finished with value: 0.915066425120773 and parameters: {'learning_rate': 0.0691500897382694, 'num_leaves': 43, 'max_depth': 6, 'min_child_samples': 10, 'feature_fraction': 0.9579898310424645, 'bagging_fraction': 0.8563306712036372, 'lambda_l1': 0.2691007710764818, 'lambda_l2': 0.5162493246074679}. Best is trial 0 with value: 0.9200483091787439.\n"
     ]
    },
    {
     "name": "stdout",
     "output_type": "stream",
     "text": [
      "Early stopping, best iteration is:\n",
      "[18]\tvalid_0's auc: 0.915066\n",
      "Training until validation scores don't improve for 30 rounds\n"
     ]
    },
    {
     "name": "stderr",
     "output_type": "stream",
     "text": [
      "[I 2025-08-04 23:02:07,846] Trial 2 finished with value: 0.9209541062801933 and parameters: {'learning_rate': 0.014355316270998154, 'num_leaves': 70, 'max_depth': 10, 'min_child_samples': 36, 'feature_fraction': 0.8441825848136862, 'bagging_fraction': 0.9782119484435425, 'lambda_l1': 0.5150110359705619, 'lambda_l2': 0.5305987054338515}. Best is trial 2 with value: 0.9209541062801933.\n"
     ]
    },
    {
     "name": "stdout",
     "output_type": "stream",
     "text": [
      "Did not meet early stopping. Best iteration is:\n",
      "[97]\tvalid_0's auc: 0.920954\n",
      "Training until validation scores don't improve for 30 rounds\n"
     ]
    },
    {
     "name": "stderr",
     "output_type": "stream",
     "text": [
      "[I 2025-08-04 23:02:08,217] Trial 3 finished with value: 0.9194444444444445 and parameters: {'learning_rate': 0.0850277368154245, 'num_leaves': 48, 'max_depth': 4, 'min_child_samples': 24, 'feature_fraction': 0.7085498227962035, 'bagging_fraction': 0.9951504419544949, 'lambda_l1': 0.7558352680701953, 'lambda_l2': 0.43356611231397424}. Best is trial 2 with value: 0.9209541062801933.\n"
     ]
    },
    {
     "name": "stdout",
     "output_type": "stream",
     "text": [
      "Early stopping, best iteration is:\n",
      "[40]\tvalid_0's auc: 0.919444\n",
      "Training until validation scores don't improve for 30 rounds\n"
     ]
    },
    {
     "name": "stderr",
     "output_type": "stream",
     "text": [
      "[I 2025-08-04 23:02:08,550] Trial 4 finished with value: 0.9293478260869565 and parameters: {'learning_rate': 0.1280978492268885, 'num_leaves': 23, 'max_depth': 4, 'min_child_samples': 15, 'feature_fraction': 0.9507740043641881, 'bagging_fraction': 0.9938800784074235, 'lambda_l1': 0.4464614808517623, 'lambda_l2': 0.2464784332882095}. Best is trial 4 with value: 0.9293478260869565.\n"
     ]
    },
    {
     "name": "stdout",
     "output_type": "stream",
     "text": [
      "Early stopping, best iteration is:\n",
      "[21]\tvalid_0's auc: 0.929348\n",
      "Training until validation scores don't improve for 30 rounds\n"
     ]
    },
    {
     "name": "stderr",
     "output_type": "stream",
     "text": [
      "[I 2025-08-04 23:02:08,843] Trial 5 finished with value: 0.9077294685990338 and parameters: {'learning_rate': 0.13540857117205696, 'num_leaves': 34, 'max_depth': 4, 'min_child_samples': 31, 'feature_fraction': 0.8819748280617842, 'bagging_fraction': 0.7867179830166618, 'lambda_l1': 0.005962999562424631, 'lambda_l2': 0.16699844292889277}. Best is trial 4 with value: 0.9293478260869565.\n"
     ]
    },
    {
     "name": "stdout",
     "output_type": "stream",
     "text": [
      "Early stopping, best iteration is:\n",
      "[19]\tvalid_0's auc: 0.907729\n",
      "Training until validation scores don't improve for 30 rounds\n"
     ]
    },
    {
     "name": "stderr",
     "output_type": "stream",
     "text": [
      "[I 2025-08-04 23:02:09,155] Trial 6 finished with value: 0.9248188405797102 and parameters: {'learning_rate': 0.12467091517764817, 'num_leaves': 37, 'max_depth': 3, 'min_child_samples': 41, 'feature_fraction': 0.7799173555483058, 'bagging_fraction': 0.8155807158148406, 'lambda_l1': 0.833741018472203, 'lambda_l2': 0.9428887540397484}. Best is trial 4 with value: 0.9293478260869565.\n"
     ]
    },
    {
     "name": "stdout",
     "output_type": "stream",
     "text": [
      "Early stopping, best iteration is:\n",
      "[46]\tvalid_0's auc: 0.924819\n",
      "Training until validation scores don't improve for 30 rounds\n"
     ]
    },
    {
     "name": "stderr",
     "output_type": "stream",
     "text": [
      "[I 2025-08-04 23:02:09,577] Trial 7 finished with value: 0.9276570048309178 and parameters: {'learning_rate': 0.04366563468756582, 'num_leaves': 21, 'max_depth': 4, 'min_child_samples': 10, 'feature_fraction': 0.9285360850700939, 'bagging_fraction': 0.8728381047310024, 'lambda_l1': 0.11101717242792142, 'lambda_l2': 0.7097002558251445}. Best is trial 4 with value: 0.9293478260869565.\n"
     ]
    },
    {
     "name": "stdout",
     "output_type": "stream",
     "text": [
      "Early stopping, best iteration is:\n",
      "[36]\tvalid_0's auc: 0.927657\n",
      "Training until validation scores don't improve for 30 rounds\n"
     ]
    },
    {
     "name": "stderr",
     "output_type": "stream",
     "text": [
      "[I 2025-08-04 23:02:09,964] Trial 8 finished with value: 0.9333937198067633 and parameters: {'learning_rate': 0.0790917133189555, 'num_leaves': 61, 'max_depth': 4, 'min_child_samples': 39, 'feature_fraction': 0.6518303000882318, 'bagging_fraction': 0.6327195609088259, 'lambda_l1': 0.29910136983479674, 'lambda_l2': 0.352567045368823}. Best is trial 8 with value: 0.9333937198067633.\n"
     ]
    },
    {
     "name": "stdout",
     "output_type": "stream",
     "text": [
      "Early stopping, best iteration is:\n",
      "[47]\tvalid_0's auc: 0.933394\n",
      "Training until validation scores don't improve for 30 rounds\n"
     ]
    },
    {
     "name": "stderr",
     "output_type": "stream",
     "text": [
      "[I 2025-08-04 23:02:10,826] Trial 9 finished with value: 0.8851147342995169 and parameters: {'learning_rate': 0.16220418010681042, 'num_leaves': 67, 'max_depth': 12, 'min_child_samples': 11, 'feature_fraction': 0.8969215027744253, 'bagging_fraction': 0.9648172929167572, 'lambda_l1': 0.06557175077714539, 'lambda_l2': 0.9585130270840453}. Best is trial 8 with value: 0.9333937198067633.\n"
     ]
    },
    {
     "name": "stdout",
     "output_type": "stream",
     "text": [
      "Early stopping, best iteration is:\n",
      "[6]\tvalid_0's auc: 0.885115\n",
      "Training until validation scores don't improve for 30 rounds\n"
     ]
    },
    {
     "name": "stderr",
     "output_type": "stream",
     "text": [
      "[I 2025-08-04 23:02:11,359] Trial 10 finished with value: 0.8771739130434784 and parameters: {'learning_rate': 0.18924101029971452, 'num_leaves': 60, 'max_depth': 7, 'min_child_samples': 50, 'feature_fraction': 0.7328106538396522, 'bagging_fraction': 0.605550358135313, 'lambda_l1': 0.9828324447533956, 'lambda_l2': 0.32264321250501854}. Best is trial 8 with value: 0.9333937198067633.\n"
     ]
    },
    {
     "name": "stdout",
     "output_type": "stream",
     "text": [
      "Early stopping, best iteration is:\n",
      "[13]\tvalid_0's auc: 0.877174\n",
      "Training until validation scores don't improve for 30 rounds\n"
     ]
    },
    {
     "name": "stderr",
     "output_type": "stream",
     "text": [
      "[I 2025-08-04 23:02:11,885] Trial 11 finished with value: 0.9245772946859904 and parameters: {'learning_rate': 0.09496887913535862, 'num_leaves': 80, 'max_depth': 6, 'min_child_samples': 43, 'feature_fraction': 0.6014494679120845, 'bagging_fraction': 0.6254336054193814, 'lambda_l1': 0.48088484317803404, 'lambda_l2': 0.2193449340474335}. Best is trial 8 with value: 0.9333937198067633.\n"
     ]
    },
    {
     "name": "stdout",
     "output_type": "stream",
     "text": [
      "Early stopping, best iteration is:\n",
      "[30]\tvalid_0's auc: 0.924577\n",
      "Training until validation scores don't improve for 30 rounds\n"
     ]
    },
    {
     "name": "stderr",
     "output_type": "stream",
     "text": [
      "[I 2025-08-04 23:02:12,615] Trial 12 finished with value: 0.9126811594202897 and parameters: {'learning_rate': 0.058215452255696576, 'num_leaves': 57, 'max_depth': 8, 'min_child_samples': 23, 'feature_fraction': 0.8086664712492421, 'bagging_fraction': 0.7053773092409519, 'lambda_l1': 0.2815001551014288, 'lambda_l2': 0.014141621856706366}. Best is trial 8 with value: 0.9333937198067633.\n"
     ]
    },
    {
     "name": "stdout",
     "output_type": "stream",
     "text": [
      "Early stopping, best iteration is:\n",
      "[21]\tvalid_0's auc: 0.912681\n",
      "Training until validation scores don't improve for 30 rounds\n"
     ]
    },
    {
     "name": "stderr",
     "output_type": "stream",
     "text": [
      "[I 2025-08-04 23:02:13,388] Trial 13 finished with value: 0.9143719806763284 and parameters: {'learning_rate': 0.10845827464116434, 'num_leaves': 31, 'max_depth': 5, 'min_child_samples': 29, 'feature_fraction': 0.9989202722803604, 'bagging_fraction': 0.7146186971721498, 'lambda_l1': 0.6203904474763455, 'lambda_l2': 0.31073306146514085}. Best is trial 8 with value: 0.9333937198067633.\n"
     ]
    },
    {
     "name": "stdout",
     "output_type": "stream",
     "text": [
      "Did not meet early stopping. Best iteration is:\n",
      "[79]\tvalid_0's auc: 0.914372\n",
      "Training until validation scores don't improve for 30 rounds\n"
     ]
    },
    {
     "name": "stderr",
     "output_type": "stream",
     "text": [
      "[I 2025-08-04 23:02:14,109] Trial 14 finished with value: 0.8971618357487923 and parameters: {'learning_rate': 0.16628634049036206, 'num_leaves': 53, 'max_depth': 8, 'min_child_samples': 18, 'feature_fraction': 0.6004884206935539, 'bagging_fraction': 0.9017890608131838, 'lambda_l1': 0.2853284002502334, 'lambda_l2': 0.6589325331493227}. Best is trial 8 with value: 0.9333937198067633.\n"
     ]
    },
    {
     "name": "stdout",
     "output_type": "stream",
     "text": [
      "Early stopping, best iteration is:\n",
      "[17]\tvalid_0's auc: 0.897162\n",
      "Training until validation scores don't improve for 30 rounds\n"
     ]
    },
    {
     "name": "stderr",
     "output_type": "stream",
     "text": [
      "[I 2025-08-04 23:02:14,607] Trial 15 finished with value: 0.9166666666666666 and parameters: {'learning_rate': 0.037863057906896064, 'num_leaves': 69, 'max_depth': 6, 'min_child_samples': 36, 'feature_fraction': 0.6651945243623242, 'bagging_fraction': 0.7464981465157963, 'lambda_l1': 0.37237408136303446, 'lambda_l2': 0.18994068269897324}. Best is trial 8 with value: 0.9333937198067633.\n"
     ]
    },
    {
     "name": "stdout",
     "output_type": "stream",
     "text": [
      "Early stopping, best iteration is:\n",
      "[23]\tvalid_0's auc: 0.916667\n",
      "Training until validation scores don't improve for 30 rounds\n"
     ]
    },
    {
     "name": "stderr",
     "output_type": "stream",
     "text": [
      "[I 2025-08-04 23:02:15,556] Trial 16 finished with value: 0.8993357487922705 and parameters: {'learning_rate': 0.11469004426355299, 'num_leaves': 44, 'max_depth': 10, 'min_child_samples': 50, 'feature_fraction': 0.7567259993626702, 'bagging_fraction': 0.6778542693773492, 'lambda_l1': 0.17480109493281704, 'lambda_l2': 0.3847743809608409}. Best is trial 8 with value: 0.9333937198067633.\n"
     ]
    },
    {
     "name": "stdout",
     "output_type": "stream",
     "text": [
      "Early stopping, best iteration is:\n",
      "[39]\tvalid_0's auc: 0.899336\n",
      "Training until validation scores don't improve for 30 rounds\n"
     ]
    },
    {
     "name": "stderr",
     "output_type": "stream",
     "text": [
      "[I 2025-08-04 23:02:16,125] Trial 17 finished with value: 0.9155797101449274 and parameters: {'learning_rate': 0.07940272471997024, 'num_leaves': 62, 'max_depth': 5, 'min_child_samples': 42, 'feature_fraction': 0.8395598616486638, 'bagging_fraction': 0.9000110703831701, 'lambda_l1': 0.5818597423854325, 'lambda_l2': 0.635949034881961}. Best is trial 8 with value: 0.9333937198067633.\n"
     ]
    },
    {
     "name": "stdout",
     "output_type": "stream",
     "text": [
      "Early stopping, best iteration is:\n",
      "[53]\tvalid_0's auc: 0.91558\n",
      "Training until validation scores don't improve for 30 rounds\n"
     ]
    },
    {
     "name": "stderr",
     "output_type": "stream",
     "text": [
      "[I 2025-08-04 23:02:16,465] Trial 18 finished with value: 0.931219806763285 and parameters: {'learning_rate': 0.15725364071041495, 'num_leaves': 78, 'max_depth': 3, 'min_child_samples': 32, 'feature_fraction': 0.656657301969175, 'bagging_fraction': 0.6468826595443398, 'lambda_l1': 0.6996139219765453, 'lambda_l2': 0.12098482959612789}. Best is trial 8 with value: 0.9333937198067633.\n"
     ]
    },
    {
     "name": "stdout",
     "output_type": "stream",
     "text": [
      "Early stopping, best iteration is:\n",
      "[32]\tvalid_0's auc: 0.93122\n",
      "Training until validation scores don't improve for 30 rounds\n"
     ]
    },
    {
     "name": "stderr",
     "output_type": "stream",
     "text": [
      "[I 2025-08-04 23:02:16,789] Trial 19 finished with value: 0.8967391304347827 and parameters: {'learning_rate': 0.1959049285293574, 'num_leaves': 78, 'max_depth': 3, 'min_child_samples': 32, 'feature_fraction': 0.6569782043175734, 'bagging_fraction': 0.6490724990028708, 'lambda_l1': 0.6854320822044344, 'lambda_l2': 0.06956915095017745}. Best is trial 8 with value: 0.9333937198067633.\n"
     ]
    },
    {
     "name": "stdout",
     "output_type": "stream",
     "text": [
      "Early stopping, best iteration is:\n",
      "[36]\tvalid_0's auc: 0.896739\n",
      "Training until validation scores don't improve for 30 rounds\n"
     ]
    },
    {
     "name": "stderr",
     "output_type": "stream",
     "text": [
      "[I 2025-08-04 23:02:17,200] Trial 20 finished with value: 0.8875 and parameters: {'learning_rate': 0.15426276119214985, 'num_leaves': 74, 'max_depth': 5, 'min_child_samples': 37, 'feature_fraction': 0.708949068774011, 'bagging_fraction': 0.7646602693347447, 'lambda_l1': 0.8627133614802577, 'lambda_l2': 0.13429137849710593}. Best is trial 8 with value: 0.9333937198067633.\n"
     ]
    },
    {
     "name": "stdout",
     "output_type": "stream",
     "text": [
      "Early stopping, best iteration is:\n",
      "[16]\tvalid_0's auc: 0.8875\n",
      "Training until validation scores don't improve for 30 rounds\n"
     ]
    },
    {
     "name": "stderr",
     "output_type": "stream",
     "text": [
      "[I 2025-08-04 23:02:17,501] Trial 21 finished with value: 0.913768115942029 and parameters: {'learning_rate': 0.14729190024065905, 'num_leaves': 65, 'max_depth': 3, 'min_child_samples': 25, 'feature_fraction': 0.6312900073217763, 'bagging_fraction': 0.6613484717789494, 'lambda_l1': 0.3926437721754865, 'lambda_l2': 0.24382464061199205}. Best is trial 8 with value: 0.9333937198067633.\n"
     ]
    },
    {
     "name": "stdout",
     "output_type": "stream",
     "text": [
      "Early stopping, best iteration is:\n",
      "[42]\tvalid_0's auc: 0.913768\n",
      "Training until validation scores don't improve for 30 rounds\n"
     ]
    },
    {
     "name": "stderr",
     "output_type": "stream",
     "text": [
      "[I 2025-08-04 23:02:17,850] Trial 22 finished with value: 0.9153985507246377 and parameters: {'learning_rate': 0.17747498430504874, 'num_leaves': 54, 'max_depth': 4, 'min_child_samples': 16, 'feature_fraction': 0.6959383177612933, 'bagging_fraction': 0.9362013656962828, 'lambda_l1': 0.5199475909009665, 'lambda_l2': 0.30411620040156534}. Best is trial 8 with value: 0.9333937198067633.\n"
     ]
    },
    {
     "name": "stdout",
     "output_type": "stream",
     "text": [
      "Early stopping, best iteration is:\n",
      "[17]\tvalid_0's auc: 0.915399\n",
      "Training until validation scores don't improve for 30 rounds\n"
     ]
    },
    {
     "name": "stderr",
     "output_type": "stream",
     "text": [
      "[I 2025-08-04 23:02:18,188] Trial 23 finished with value: 0.9147946859903382 and parameters: {'learning_rate': 0.10205219849516528, 'num_leaves': 28, 'max_depth': 4, 'min_child_samples': 27, 'feature_fraction': 0.7480357562913196, 'bagging_fraction': 0.733554954929206, 'lambda_l1': 0.667128353788165, 'lambda_l2': 0.11943954086049424}. Best is trial 8 with value: 0.9333937198067633.\n"
     ]
    },
    {
     "name": "stdout",
     "output_type": "stream",
     "text": [
      "Early stopping, best iteration is:\n",
      "[25]\tvalid_0's auc: 0.914795\n",
      "Training until validation scores don't improve for 30 rounds\n"
     ]
    },
    {
     "name": "stderr",
     "output_type": "stream",
     "text": [
      "[I 2025-08-04 23:02:18,680] Trial 24 finished with value: 0.8946256038647343 and parameters: {'learning_rate': 0.12185890387042421, 'num_leaves': 74, 'max_depth': 5, 'min_child_samples': 34, 'feature_fraction': 0.6287176003027531, 'bagging_fraction': 0.6849285566687837, 'lambda_l1': 0.20298861435261292, 'lambda_l2': 0.411487671709877}. Best is trial 8 with value: 0.9333937198067633.\n"
     ]
    },
    {
     "name": "stdout",
     "output_type": "stream",
     "text": [
      "Early stopping, best iteration is:\n",
      "[53]\tvalid_0's auc: 0.894626\n",
      "Training until validation scores don't improve for 30 rounds\n"
     ]
    },
    {
     "name": "stderr",
     "output_type": "stream",
     "text": [
      "[I 2025-08-04 23:02:18,956] Trial 25 finished with value: 0.903804347826087 and parameters: {'learning_rate': 0.14241496738895604, 'num_leaves': 46, 'max_depth': 3, 'min_child_samples': 47, 'feature_fraction': 0.8118698956766107, 'bagging_fraction': 0.6218532206599959, 'lambda_l1': 0.35201866777415247, 'lambda_l2': 0.26899626143586647}. Best is trial 8 with value: 0.9333937198067633.\n"
     ]
    },
    {
     "name": "stdout",
     "output_type": "stream",
     "text": [
      "Early stopping, best iteration is:\n",
      "[27]\tvalid_0's auc: 0.903804\n",
      "Training until validation scores don't improve for 30 rounds\n"
     ]
    },
    {
     "name": "stderr",
     "output_type": "stream",
     "text": [
      "[I 2025-08-04 23:02:19,851] Trial 26 finished with value: 0.8801932367149758 and parameters: {'learning_rate': 0.17734932245630952, 'num_leaves': 38, 'max_depth': 7, 'min_child_samples': 40, 'feature_fraction': 0.9893478422261942, 'bagging_fraction': 0.6461863515798612, 'lambda_l1': 0.4554481658001335, 'lambda_l2': 0.09985109549159737}. Best is trial 8 with value: 0.9333937198067633.\n"
     ]
    },
    {
     "name": "stdout",
     "output_type": "stream",
     "text": [
      "Early stopping, best iteration is:\n",
      "[64]\tvalid_0's auc: 0.880193\n",
      "Training until validation scores don't improve for 30 rounds\n"
     ]
    },
    {
     "name": "stderr",
     "output_type": "stream",
     "text": [
      "[I 2025-08-04 23:02:20,308] Trial 27 finished with value: 0.8969202898550724 and parameters: {'learning_rate': 0.09247484502518914, 'num_leaves': 26, 'max_depth': 9, 'min_child_samples': 21, 'feature_fraction': 0.6844601778278919, 'bagging_fraction': 0.7837513229661583, 'lambda_l1': 0.5763867169655226, 'lambda_l2': 0.363762164538089}. Best is trial 8 with value: 0.9333937198067633.\n"
     ]
    },
    {
     "name": "stdout",
     "output_type": "stream",
     "text": [
      "Early stopping, best iteration is:\n",
      "[10]\tvalid_0's auc: 0.89692\n",
      "Training until validation scores don't improve for 30 rounds\n"
     ]
    },
    {
     "name": "stderr",
     "output_type": "stream",
     "text": [
      "[I 2025-08-04 23:02:20,950] Trial 28 finished with value: 0.9089371980676328 and parameters: {'learning_rate': 0.12867087299236485, 'num_leaves': 62, 'max_depth': 6, 'min_child_samples': 45, 'feature_fraction': 0.6305270472934176, 'bagging_fraction': 0.6007178162296021, 'lambda_l1': 0.7974768184005762, 'lambda_l2': 0.47183975316602417}. Best is trial 8 with value: 0.9333937198067633.\n"
     ]
    },
    {
     "name": "stdout",
     "output_type": "stream",
     "text": [
      "Early stopping, best iteration is:\n",
      "[63]\tvalid_0's auc: 0.908937\n",
      "Training until validation scores don't improve for 30 rounds\n"
     ]
    },
    {
     "name": "stderr",
     "output_type": "stream",
     "text": [
      "[I 2025-08-04 23:02:21,307] Trial 29 finished with value: 0.9292270531400966 and parameters: {'learning_rate': 0.06794390679041004, 'num_leaves': 74, 'max_depth': 3, 'min_child_samples': 14, 'feature_fraction': 0.8756377809123554, 'bagging_fraction': 0.8219961520965521, 'lambda_l1': 0.7279925577600366, 'lambda_l2': 0.03953897285796831}. Best is trial 8 with value: 0.9333937198067633.\n"
     ]
    },
    {
     "name": "stdout",
     "output_type": "stream",
     "text": [
      "Early stopping, best iteration is:\n",
      "[56]\tvalid_0's auc: 0.929227\n"
     ]
    },
    {
     "name": "stderr",
     "output_type": "stream",
     "text": [
      "[I 2025-08-04 23:02:23,225] A new study created in memory with name: no-name-9279468f-520a-4326-a967-39bb071e6063\n"
     ]
    },
    {
     "name": "stdout",
     "output_type": "stream",
     "text": [
      "📍 Training for label: NR-ER\n",
      "Training until validation scores don't improve for 30 rounds\n",
      "Early stopping, best iteration is:\n",
      "[36]\tvalid_0's auc: 0.791737\n"
     ]
    },
    {
     "name": "stderr",
     "output_type": "stream",
     "text": [
      "[I 2025-08-04 23:02:23,777] Trial 0 finished with value: 0.7917369901547117 and parameters: {'learning_rate': 0.12655444723834303, 'num_leaves': 74, 'max_depth': 4, 'min_child_samples': 14, 'feature_fraction': 0.7378166399718518, 'bagging_fraction': 0.9214528761042688, 'lambda_l1': 0.44036648136161605, 'lambda_l2': 0.7074694363047542}. Best is trial 0 with value: 0.7917369901547117.\n"
     ]
    },
    {
     "name": "stdout",
     "output_type": "stream",
     "text": [
      "Training until validation scores don't improve for 30 rounds\n"
     ]
    },
    {
     "name": "stderr",
     "output_type": "stream",
     "text": [
      "[I 2025-08-04 23:02:24,574] Trial 1 finished with value: 0.7551101734646039 and parameters: {'learning_rate': 0.1687232942307233, 'num_leaves': 66, 'max_depth': 11, 'min_child_samples': 20, 'feature_fraction': 0.7660547043098778, 'bagging_fraction': 0.6556456887629238, 'lambda_l1': 0.18417402675049643, 'lambda_l2': 0.92501963511864}. Best is trial 0 with value: 0.7917369901547117.\n"
     ]
    },
    {
     "name": "stdout",
     "output_type": "stream",
     "text": [
      "Early stopping, best iteration is:\n",
      "[7]\tvalid_0's auc: 0.75511\n",
      "Training until validation scores don't improve for 30 rounds\n"
     ]
    },
    {
     "name": "stderr",
     "output_type": "stream",
     "text": [
      "[I 2025-08-04 23:02:25,032] Trial 2 finished with value: 0.7755625879043602 and parameters: {'learning_rate': 0.056045611412179494, 'num_leaves': 73, 'max_depth': 5, 'min_child_samples': 34, 'feature_fraction': 0.9608954306956998, 'bagging_fraction': 0.8967017619598832, 'lambda_l1': 0.8564566573784119, 'lambda_l2': 0.6892171202474457}. Best is trial 0 with value: 0.7917369901547117.\n"
     ]
    },
    {
     "name": "stdout",
     "output_type": "stream",
     "text": [
      "Early stopping, best iteration is:\n",
      "[6]\tvalid_0's auc: 0.775563\n",
      "Training until validation scores don't improve for 30 rounds\n"
     ]
    },
    {
     "name": "stderr",
     "output_type": "stream",
     "text": [
      "[I 2025-08-04 23:02:25,486] Trial 3 finished with value: 0.7655414908579465 and parameters: {'learning_rate': 0.07374119282938721, 'num_leaves': 38, 'max_depth': 6, 'min_child_samples': 10, 'feature_fraction': 0.7304372565455509, 'bagging_fraction': 0.7747386999103496, 'lambda_l1': 0.07878014208278472, 'lambda_l2': 0.4401980273545101}. Best is trial 0 with value: 0.7917369901547117.\n"
     ]
    },
    {
     "name": "stdout",
     "output_type": "stream",
     "text": [
      "Early stopping, best iteration is:\n",
      "[4]\tvalid_0's auc: 0.765541\n",
      "Training until validation scores don't improve for 30 rounds\n"
     ]
    },
    {
     "name": "stderr",
     "output_type": "stream",
     "text": [
      "[I 2025-08-04 23:02:25,751] Trial 4 finished with value: 0.7727496483825598 and parameters: {'learning_rate': 0.09727920145431324, 'num_leaves': 43, 'max_depth': 4, 'min_child_samples': 36, 'feature_fraction': 0.8139201527096275, 'bagging_fraction': 0.7478475145314183, 'lambda_l1': 0.5181576890506693, 'lambda_l2': 0.7578923873665089}. Best is trial 0 with value: 0.7917369901547117.\n"
     ]
    },
    {
     "name": "stdout",
     "output_type": "stream",
     "text": [
      "Early stopping, best iteration is:\n",
      "[6]\tvalid_0's auc: 0.77275\n",
      "Training until validation scores don't improve for 30 rounds\n"
     ]
    },
    {
     "name": "stderr",
     "output_type": "stream",
     "text": [
      "[I 2025-08-04 23:02:26,084] Trial 5 finished with value: 0.792627754336615 and parameters: {'learning_rate': 0.05950680137102316, 'num_leaves': 28, 'max_depth': 3, 'min_child_samples': 19, 'feature_fraction': 0.600172311436044, 'bagging_fraction': 0.9795744417816142, 'lambda_l1': 0.7408570768959728, 'lambda_l2': 0.7175935982522003}. Best is trial 5 with value: 0.792627754336615.\n"
     ]
    },
    {
     "name": "stdout",
     "output_type": "stream",
     "text": [
      "Did not meet early stopping. Best iteration is:\n",
      "[100]\tvalid_0's auc: 0.792628\n",
      "Training until validation scores don't improve for 30 rounds\n"
     ]
    },
    {
     "name": "stderr",
     "output_type": "stream",
     "text": [
      "[I 2025-08-04 23:02:26,302] Trial 6 finished with value: 0.7746835443037975 and parameters: {'learning_rate': 0.0775455084993492, 'num_leaves': 40, 'max_depth': 3, 'min_child_samples': 17, 'feature_fraction': 0.7848202553548436, 'bagging_fraction': 0.6599363719578513, 'lambda_l1': 0.9307140947715828, 'lambda_l2': 0.9271829321866192}. Best is trial 5 with value: 0.792627754336615.\n"
     ]
    },
    {
     "name": "stdout",
     "output_type": "stream",
     "text": [
      "Early stopping, best iteration is:\n",
      "[6]\tvalid_0's auc: 0.774684\n",
      "Training until validation scores don't improve for 30 rounds\n"
     ]
    },
    {
     "name": "stderr",
     "output_type": "stream",
     "text": [
      "[I 2025-08-04 23:02:26,564] Trial 7 finished with value: 0.7585208626347867 and parameters: {'learning_rate': 0.15431156567790524, 'num_leaves': 37, 'max_depth': 4, 'min_child_samples': 41, 'feature_fraction': 0.831863546424917, 'bagging_fraction': 0.8256929459825919, 'lambda_l1': 0.08244733083760425, 'lambda_l2': 0.9032344355545305}. Best is trial 5 with value: 0.792627754336615.\n"
     ]
    },
    {
     "name": "stdout",
     "output_type": "stream",
     "text": [
      "Early stopping, best iteration is:\n",
      "[4]\tvalid_0's auc: 0.758521\n",
      "Training until validation scores don't improve for 30 rounds\n"
     ]
    },
    {
     "name": "stderr",
     "output_type": "stream",
     "text": [
      "[I 2025-08-04 23:02:27,388] Trial 8 finished with value: 0.7643342709798405 and parameters: {'learning_rate': 0.09977218112864349, 'num_leaves': 28, 'max_depth': 12, 'min_child_samples': 38, 'feature_fraction': 0.6777703518851916, 'bagging_fraction': 0.9344979593674617, 'lambda_l1': 0.5787892509046353, 'lambda_l2': 0.24054896237458956}. Best is trial 5 with value: 0.792627754336615.\n"
     ]
    },
    {
     "name": "stdout",
     "output_type": "stream",
     "text": [
      "Early stopping, best iteration is:\n",
      "[45]\tvalid_0's auc: 0.764334\n",
      "Training until validation scores don't improve for 30 rounds\n"
     ]
    },
    {
     "name": "stderr",
     "output_type": "stream",
     "text": [
      "[I 2025-08-04 23:02:28,117] Trial 9 finished with value: 0.76671354899203 and parameters: {'learning_rate': 0.03249534774199201, 'num_leaves': 79, 'max_depth': 8, 'min_child_samples': 19, 'feature_fraction': 0.688668731345133, 'bagging_fraction': 0.6378997244198576, 'lambda_l1': 0.37066280055641077, 'lambda_l2': 0.887148704579971}. Best is trial 5 with value: 0.792627754336615.\n"
     ]
    },
    {
     "name": "stdout",
     "output_type": "stream",
     "text": [
      "Early stopping, best iteration is:\n",
      "[14]\tvalid_0's auc: 0.766714\n",
      "Training until validation scores don't improve for 30 rounds\n"
     ]
    },
    {
     "name": "stderr",
     "output_type": "stream",
     "text": [
      "[I 2025-08-04 23:02:28,649] Trial 10 finished with value: 0.7772972339428035 and parameters: {'learning_rate': 0.02600305250839293, 'num_leaves': 20, 'max_depth': 9, 'min_child_samples': 50, 'feature_fraction': 0.6018722002647807, 'bagging_fraction': 0.9960017976284331, 'lambda_l1': 0.7390536948619598, 'lambda_l2': 0.46054323402004466}. Best is trial 5 with value: 0.792627754336615.\n"
     ]
    },
    {
     "name": "stdout",
     "output_type": "stream",
     "text": [
      "Early stopping, best iteration is:\n",
      "[29]\tvalid_0's auc: 0.777297\n",
      "Training until validation scores don't improve for 30 rounds\n"
     ]
    },
    {
     "name": "stderr",
     "output_type": "stream",
     "text": [
      "[I 2025-08-04 23:02:29,323] Trial 11 finished with value: 0.762880918893577 and parameters: {'learning_rate': 0.1363386325252778, 'num_leaves': 61, 'max_depth': 6, 'min_child_samples': 26, 'feature_fraction': 0.6007957787336646, 'bagging_fraction': 0.9962045013047364, 'lambda_l1': 0.6839448171611721, 'lambda_l2': 0.6217944739755252}. Best is trial 5 with value: 0.792627754336615.\n"
     ]
    },
    {
     "name": "stdout",
     "output_type": "stream",
     "text": [
      "Early stopping, best iteration is:\n",
      "[47]\tvalid_0's auc: 0.762881\n",
      "Training until validation scores don't improve for 30 rounds\n"
     ]
    },
    {
     "name": "stderr",
     "output_type": "stream",
     "text": [
      "[I 2025-08-04 23:02:29,695] Trial 12 finished with value: 0.782008907641819 and parameters: {'learning_rate': 0.12624341370666053, 'num_leaves': 53, 'max_depth': 3, 'min_child_samples': 10, 'feature_fraction': 0.8925201898634845, 'bagging_fraction': 0.8914550271347086, 'lambda_l1': 0.3245028600994006, 'lambda_l2': 0.5993525463277031}. Best is trial 5 with value: 0.792627754336615.\n"
     ]
    },
    {
     "name": "stdout",
     "output_type": "stream",
     "text": [
      "Early stopping, best iteration is:\n",
      "[49]\tvalid_0's auc: 0.782009\n",
      "Training until validation scores don't improve for 30 rounds\n"
     ]
    },
    {
     "name": "stderr",
     "output_type": "stream",
     "text": [
      "[I 2025-08-04 23:02:30,196] Trial 13 finished with value: 0.7570675105485231 and parameters: {'learning_rate': 0.12686475260226138, 'num_leaves': 54, 'max_depth': 6, 'min_child_samples': 26, 'feature_fraction': 0.6655739637783264, 'bagging_fraction': 0.9435899246607421, 'lambda_l1': 0.3765924394858903, 'lambda_l2': 0.30408020568934546}. Best is trial 5 with value: 0.792627754336615.\n"
     ]
    },
    {
     "name": "stdout",
     "output_type": "stream",
     "text": [
      "Early stopping, best iteration is:\n",
      "[24]\tvalid_0's auc: 0.757068\n",
      "Training until validation scores don't improve for 30 rounds\n"
     ]
    },
    {
     "name": "stderr",
     "output_type": "stream",
     "text": [
      "[I 2025-08-04 23:02:30,563] Trial 14 finished with value: 0.7975035161744023 and parameters: {'learning_rate': 0.18345558271655504, 'num_leaves': 26, 'max_depth': 3, 'min_child_samples': 14, 'feature_fraction': 0.8941072479679608, 'bagging_fraction': 0.8484027322211309, 'lambda_l1': 0.6968092503076707, 'lambda_l2': 0.09503541154674877}. Best is trial 14 with value: 0.7975035161744023.\n"
     ]
    },
    {
     "name": "stdout",
     "output_type": "stream",
     "text": [
      "Did not meet early stopping. Best iteration is:\n",
      "[92]\tvalid_0's auc: 0.797504\n",
      "Training until validation scores don't improve for 30 rounds\n"
     ]
    },
    {
     "name": "stderr",
     "output_type": "stream",
     "text": [
      "[I 2025-08-04 23:02:31,372] Trial 15 finished with value: 0.7468237224566339 and parameters: {'learning_rate': 0.19025037326985916, 'num_leaves': 26, 'max_depth': 9, 'min_child_samples': 24, 'feature_fraction': 0.8887445243269256, 'bagging_fraction': 0.8356377059196257, 'lambda_l1': 0.7520792908667284, 'lambda_l2': 0.025296986349957723}. Best is trial 14 with value: 0.7975035161744023.\n"
     ]
    },
    {
     "name": "stdout",
     "output_type": "stream",
     "text": [
      "Early stopping, best iteration is:\n",
      "[33]\tvalid_0's auc: 0.746824\n",
      "Training until validation scores don't improve for 30 rounds\n"
     ]
    },
    {
     "name": "stderr",
     "output_type": "stream",
     "text": [
      "[I 2025-08-04 23:02:31,687] Trial 16 finished with value: 0.7746952648851383 and parameters: {'learning_rate': 0.19301487160354, 'num_leaves': 29, 'max_depth': 3, 'min_child_samples': 15, 'feature_fraction': 0.9814207695537398, 'bagging_fraction': 0.7145447218752937, 'lambda_l1': 0.6162972228044563, 'lambda_l2': 0.0033288074089445896}. Best is trial 14 with value: 0.7975035161744023.\n"
     ]
    },
    {
     "name": "stdout",
     "output_type": "stream",
     "text": [
      "Early stopping, best iteration is:\n",
      "[30]\tvalid_0's auc: 0.774695\n",
      "Training until validation scores don't improve for 30 rounds\n"
     ]
    },
    {
     "name": "stderr",
     "output_type": "stream",
     "text": [
      "[I 2025-08-04 23:02:32,370] Trial 17 finished with value: 0.757794186591655 and parameters: {'learning_rate': 0.05160660096973163, 'num_leaves': 21, 'max_depth': 7, 'min_child_samples': 22, 'feature_fraction': 0.8739426893959628, 'bagging_fraction': 0.8503036513865212, 'lambda_l1': 0.8728717581572356, 'lambda_l2': 0.16278215007966762}. Best is trial 14 with value: 0.7975035161744023.\n"
     ]
    },
    {
     "name": "stdout",
     "output_type": "stream",
     "text": [
      "Early stopping, best iteration is:\n",
      "[35]\tvalid_0's auc: 0.757794\n",
      "Training until validation scores don't improve for 30 rounds\n"
     ]
    },
    {
     "name": "stderr",
     "output_type": "stream",
     "text": [
      "[I 2025-08-04 23:02:32,799] Trial 18 finished with value: 0.7506915142991093 and parameters: {'learning_rate': 0.16528064106566603, 'num_leaves': 32, 'max_depth': 5, 'min_child_samples': 29, 'feature_fraction': 0.8513029625102022, 'bagging_fraction': 0.7089605215136111, 'lambda_l1': 0.7966230231493187, 'lambda_l2': 0.3661600892905032}. Best is trial 14 with value: 0.7975035161744023.\n"
     ]
    },
    {
     "name": "stdout",
     "output_type": "stream",
     "text": [
      "Early stopping, best iteration is:\n",
      "[22]\tvalid_0's auc: 0.750692\n",
      "Training until validation scores don't improve for 30 rounds\n"
     ]
    },
    {
     "name": "stderr",
     "output_type": "stream",
     "text": [
      "[I 2025-08-04 23:02:33,497] Trial 19 finished with value: 0.7855250820440693 and parameters: {'learning_rate': 0.011224123421934337, 'num_leaves': 47, 'max_depth': 5, 'min_child_samples': 13, 'feature_fraction': 0.9243979091500134, 'bagging_fraction': 0.8718841333304028, 'lambda_l1': 0.9913093666117639, 'lambda_l2': 0.16660407066853444}. Best is trial 14 with value: 0.7975035161744023.\n"
     ]
    },
    {
     "name": "stdout",
     "output_type": "stream",
     "text": [
      "Early stopping, best iteration is:\n",
      "[43]\tvalid_0's auc: 0.785525\n",
      "Training until validation scores don't improve for 30 rounds\n"
     ]
    },
    {
     "name": "stderr",
     "output_type": "stream",
     "text": [
      "[I 2025-08-04 23:02:33,785] Trial 20 finished with value: 0.7813056727613691 and parameters: {'learning_rate': 0.07976202876688467, 'num_leaves': 35, 'max_depth': 3, 'min_child_samples': 29, 'feature_fraction': 0.9377733474326566, 'bagging_fraction': 0.6021898788767216, 'lambda_l1': 0.6384876368105448, 'lambda_l2': 0.5559020916874042}. Best is trial 14 with value: 0.7975035161744023.\n"
     ]
    },
    {
     "name": "stdout",
     "output_type": "stream",
     "text": [
      "Early stopping, best iteration is:\n",
      "[34]\tvalid_0's auc: 0.781306\n",
      "Training until validation scores don't improve for 30 rounds\n"
     ]
    },
    {
     "name": "stderr",
     "output_type": "stream",
     "text": [
      "[I 2025-08-04 23:02:34,108] Trial 21 finished with value: 0.7850328176277542 and parameters: {'learning_rate': 0.14378949689886694, 'num_leaves': 61, 'max_depth': 4, 'min_child_samples': 14, 'feature_fraction': 0.7388870155043061, 'bagging_fraction': 0.9422970164654041, 'lambda_l1': 0.46044335564060784, 'lambda_l2': 0.7401274313766474}. Best is trial 14 with value: 0.7975035161744023.\n"
     ]
    },
    {
     "name": "stdout",
     "output_type": "stream",
     "text": [
      "Early stopping, best iteration is:\n",
      "[24]\tvalid_0's auc: 0.785033\n",
      "Training until validation scores don't improve for 30 rounds\n"
     ]
    },
    {
     "name": "stderr",
     "output_type": "stream",
     "text": [
      "[I 2025-08-04 23:02:34,473] Trial 22 finished with value: 0.781235349273324 and parameters: {'learning_rate': 0.11668076752518064, 'num_leaves': 80, 'max_depth': 4, 'min_child_samples': 17, 'feature_fraction': 0.6399970417594519, 'bagging_fraction': 0.9204102953168738, 'lambda_l1': 0.4931598428281408, 'lambda_l2': 0.8060900151835756}. Best is trial 14 with value: 0.7975035161744023.\n"
     ]
    },
    {
     "name": "stdout",
     "output_type": "stream",
     "text": [
      "Early stopping, best iteration is:\n",
      "[19]\tvalid_0's auc: 0.781235\n",
      "Training until validation scores don't improve for 30 rounds\n"
     ]
    },
    {
     "name": "stderr",
     "output_type": "stream",
     "text": [
      "[I 2025-08-04 23:02:34,811] Trial 23 finished with value: 0.7880567276136896 and parameters: {'learning_rate': 0.17191211093152364, 'num_leaves': 25, 'max_depth': 3, 'min_child_samples': 12, 'feature_fraction': 0.7163966638460922, 'bagging_fraction': 0.9613595327585586, 'lambda_l1': 0.2882969263079663, 'lambda_l2': 0.6636622322583315}. Best is trial 14 with value: 0.7975035161744023.\n"
     ]
    },
    {
     "name": "stdout",
     "output_type": "stream",
     "text": [
      "Did not meet early stopping. Best iteration is:\n",
      "[91]\tvalid_0's auc: 0.788057\n",
      "Training until validation scores don't improve for 30 rounds\n"
     ]
    },
    {
     "name": "stderr",
     "output_type": "stream",
     "text": [
      "[I 2025-08-04 23:02:35,168] Trial 24 finished with value: 0.7735818096577589 and parameters: {'learning_rate': 0.057499742268850455, 'num_leaves': 48, 'max_depth': 5, 'min_child_samples': 19, 'feature_fraction': 0.6397954914517582, 'bagging_fraction': 0.7985875253256168, 'lambda_l1': 0.5480193030815712, 'lambda_l2': 0.524964828559993}. Best is trial 14 with value: 0.7975035161744023.\n"
     ]
    },
    {
     "name": "stdout",
     "output_type": "stream",
     "text": [
      "Early stopping, best iteration is:\n",
      "[7]\tvalid_0's auc: 0.773582\n",
      "Training until validation scores don't improve for 30 rounds\n"
     ]
    },
    {
     "name": "stderr",
     "output_type": "stream",
     "text": [
      "[I 2025-08-04 23:02:35,458] Trial 25 finished with value: 0.776207219878106 and parameters: {'learning_rate': 0.10167854295508715, 'num_leaves': 70, 'max_depth': 4, 'min_child_samples': 16, 'feature_fraction': 0.7688865532181329, 'bagging_fraction': 0.9717781516754287, 'lambda_l1': 0.6939667284385138, 'lambda_l2': 0.8213636155245919}. Best is trial 14 with value: 0.7975035161744023.\n"
     ]
    },
    {
     "name": "stdout",
     "output_type": "stream",
     "text": [
      "Early stopping, best iteration is:\n",
      "[6]\tvalid_0's auc: 0.776207\n",
      "Training until validation scores don't improve for 30 rounds\n"
     ]
    },
    {
     "name": "stderr",
     "output_type": "stream",
     "text": [
      "[I 2025-08-04 23:02:36,438] Trial 26 finished with value: 0.7648265353961555 and parameters: {'learning_rate': 0.11553797107607151, 'num_leaves': 33, 'max_depth': 7, 'min_child_samples': 21, 'feature_fraction': 0.8106393348414823, 'bagging_fraction': 0.9043027124725752, 'lambda_l1': 0.7930903935915155, 'lambda_l2': 0.3864742357984949}. Best is trial 14 with value: 0.7975035161744023.\n"
     ]
    },
    {
     "name": "stdout",
     "output_type": "stream",
     "text": [
      "Did not meet early stopping. Best iteration is:\n",
      "[96]\tvalid_0's auc: 0.764827\n",
      "Training until validation scores don't improve for 30 rounds\n"
     ]
    },
    {
     "name": "stderr",
     "output_type": "stream",
     "text": [
      "[I 2025-08-04 23:02:36,734] Trial 27 finished with value: 0.7614041256446319 and parameters: {'learning_rate': 0.19917105729051077, 'num_leaves': 43, 'max_depth': 3, 'min_child_samples': 23, 'feature_fraction': 0.7061110142250631, 'bagging_fraction': 0.867375302771759, 'lambda_l1': 0.45788397725402413, 'lambda_l2': 0.6914787198636352}. Best is trial 14 with value: 0.7975035161744023.\n"
     ]
    },
    {
     "name": "stdout",
     "output_type": "stream",
     "text": [
      "Early stopping, best iteration is:\n",
      "[52]\tvalid_0's auc: 0.761404\n",
      "Training until validation scores don't improve for 30 rounds\n"
     ]
    },
    {
     "name": "stderr",
     "output_type": "stream",
     "text": [
      "[I 2025-08-04 23:02:37,067] Trial 28 finished with value: 0.7643342709798406 and parameters: {'learning_rate': 0.18290993781700302, 'num_leaves': 58, 'max_depth': 4, 'min_child_samples': 12, 'feature_fraction': 0.9986934490396029, 'bagging_fraction': 0.8033745207877722, 'lambda_l1': 0.20807207682805218, 'lambda_l2': 0.09436562011166744}. Best is trial 14 with value: 0.7975035161744023.\n"
     ]
    },
    {
     "name": "stdout",
     "output_type": "stream",
     "text": [
      "Early stopping, best iteration is:\n",
      "[14]\tvalid_0's auc: 0.764334\n",
      "Training until validation scores don't improve for 30 rounds\n"
     ]
    },
    {
     "name": "stderr",
     "output_type": "stream",
     "text": [
      "[I 2025-08-04 23:02:37,873] Trial 29 finished with value: 0.7475152367557432 and parameters: {'learning_rate': 0.15542249314562961, 'num_leaves': 70, 'max_depth': 10, 'min_child_samples': 18, 'feature_fraction': 0.7584315530222936, 'bagging_fraction': 0.9687455919122794, 'lambda_l1': 0.649247020207502, 'lambda_l2': 0.9878286254235682}. Best is trial 14 with value: 0.7975035161744023.\n"
     ]
    },
    {
     "name": "stdout",
     "output_type": "stream",
     "text": [
      "Early stopping, best iteration is:\n",
      "[9]\tvalid_0's auc: 0.747515\n"
     ]
    },
    {
     "name": "stderr",
     "output_type": "stream",
     "text": [
      "[I 2025-08-04 23:02:39,633] A new study created in memory with name: no-name-1f241524-723a-4bcb-a113-6bd1e9a25b63\n"
     ]
    },
    {
     "name": "stdout",
     "output_type": "stream",
     "text": [
      "📍 Training for label: NR-ER-LBD\n",
      "Training until validation scores don't improve for 30 rounds\n"
     ]
    },
    {
     "name": "stderr",
     "output_type": "stream",
     "text": [
      "[I 2025-08-04 23:02:40,476] Trial 0 finished with value: 0.7449350649350649 and parameters: {'learning_rate': 0.1658001485289915, 'num_leaves': 76, 'max_depth': 6, 'min_child_samples': 39, 'feature_fraction': 0.9913668109727864, 'bagging_fraction': 0.8556924141446971, 'lambda_l1': 0.3575046985799909, 'lambda_l2': 0.19132121170991978}. Best is trial 0 with value: 0.7449350649350649.\n"
     ]
    },
    {
     "name": "stdout",
     "output_type": "stream",
     "text": [
      "Early stopping, best iteration is:\n",
      "[30]\tvalid_0's auc: 0.744935\n",
      "Training until validation scores don't improve for 30 rounds\n"
     ]
    },
    {
     "name": "stderr",
     "output_type": "stream",
     "text": [
      "[I 2025-08-04 23:02:41,714] Trial 1 finished with value: 0.7692640692640692 and parameters: {'learning_rate': 0.026548982255549775, 'num_leaves': 64, 'max_depth': 12, 'min_child_samples': 50, 'feature_fraction': 0.9898854898469973, 'bagging_fraction': 0.8599419792708347, 'lambda_l1': 0.05964357437620593, 'lambda_l2': 0.05834048441370365}. Best is trial 1 with value: 0.7692640692640692.\n"
     ]
    },
    {
     "name": "stdout",
     "output_type": "stream",
     "text": [
      "Early stopping, best iteration is:\n",
      "[36]\tvalid_0's auc: 0.769264\n",
      "Training until validation scores don't improve for 30 rounds\n"
     ]
    },
    {
     "name": "stderr",
     "output_type": "stream",
     "text": [
      "[I 2025-08-04 23:02:42,654] Trial 2 finished with value: 0.7693073593073593 and parameters: {'learning_rate': 0.19080820666862236, 'num_leaves': 58, 'max_depth': 9, 'min_child_samples': 11, 'feature_fraction': 0.6036797827917778, 'bagging_fraction': 0.689933260238881, 'lambda_l1': 0.5996361152553623, 'lambda_l2': 0.8209729700996}. Best is trial 2 with value: 0.7693073593073593.\n"
     ]
    },
    {
     "name": "stdout",
     "output_type": "stream",
     "text": [
      "Did not meet early stopping. Best iteration is:\n",
      "[81]\tvalid_0's auc: 0.769307\n",
      "Training until validation scores don't improve for 30 rounds\n"
     ]
    },
    {
     "name": "stderr",
     "output_type": "stream",
     "text": [
      "[I 2025-08-04 23:02:43,885] Trial 3 finished with value: 0.7798701298701298 and parameters: {'learning_rate': 0.05115243866205029, 'num_leaves': 57, 'max_depth': 11, 'min_child_samples': 46, 'feature_fraction': 0.870760384713616, 'bagging_fraction': 0.6305016538461019, 'lambda_l1': 0.6708295051952502, 'lambda_l2': 0.660008710096493}. Best is trial 3 with value: 0.7798701298701298.\n"
     ]
    },
    {
     "name": "stdout",
     "output_type": "stream",
     "text": [
      "Did not meet early stopping. Best iteration is:\n",
      "[94]\tvalid_0's auc: 0.77987\n",
      "Training until validation scores don't improve for 30 rounds\n"
     ]
    },
    {
     "name": "stderr",
     "output_type": "stream",
     "text": [
      "[I 2025-08-04 23:02:44,846] Trial 4 finished with value: 0.7793073593073592 and parameters: {'learning_rate': 0.03852945926530186, 'num_leaves': 38, 'max_depth': 8, 'min_child_samples': 38, 'feature_fraction': 0.7470515000607623, 'bagging_fraction': 0.8943835941356844, 'lambda_l1': 0.7763802423578888, 'lambda_l2': 0.25436491791464944}. Best is trial 3 with value: 0.7798701298701298.\n"
     ]
    },
    {
     "name": "stdout",
     "output_type": "stream",
     "text": [
      "Did not meet early stopping. Best iteration is:\n",
      "[88]\tvalid_0's auc: 0.779307\n",
      "Training until validation scores don't improve for 30 rounds\n"
     ]
    },
    {
     "name": "stderr",
     "output_type": "stream",
     "text": [
      "[I 2025-08-04 23:02:45,915] Trial 5 finished with value: 0.7691774891774892 and parameters: {'learning_rate': 0.12839216498574674, 'num_leaves': 51, 'max_depth': 11, 'min_child_samples': 50, 'feature_fraction': 0.6151189150550129, 'bagging_fraction': 0.6230535100119097, 'lambda_l1': 0.04956650188307643, 'lambda_l2': 0.0930175548976151}. Best is trial 3 with value: 0.7798701298701298.\n"
     ]
    },
    {
     "name": "stdout",
     "output_type": "stream",
     "text": [
      "Did not meet early stopping. Best iteration is:\n",
      "[74]\tvalid_0's auc: 0.769177\n",
      "Training until validation scores don't improve for 30 rounds\n"
     ]
    },
    {
     "name": "stderr",
     "output_type": "stream",
     "text": [
      "[I 2025-08-04 23:02:46,639] Trial 6 finished with value: 0.7649783549783549 and parameters: {'learning_rate': 0.14420241803281658, 'num_leaves': 27, 'max_depth': 6, 'min_child_samples': 42, 'feature_fraction': 0.7071620332740428, 'bagging_fraction': 0.980262617142446, 'lambda_l1': 0.4081751582448736, 'lambda_l2': 0.8083285139261002}. Best is trial 3 with value: 0.7798701298701298.\n"
     ]
    },
    {
     "name": "stdout",
     "output_type": "stream",
     "text": [
      "Did not meet early stopping. Best iteration is:\n",
      "[79]\tvalid_0's auc: 0.764978\n",
      "Training until validation scores don't improve for 30 rounds\n"
     ]
    },
    {
     "name": "stderr",
     "output_type": "stream",
     "text": [
      "[I 2025-08-04 23:02:47,608] Trial 7 finished with value: 0.7548484848484849 and parameters: {'learning_rate': 0.16270780366074467, 'num_leaves': 56, 'max_depth': 12, 'min_child_samples': 44, 'feature_fraction': 0.9695569999710354, 'bagging_fraction': 0.9465743765466365, 'lambda_l1': 0.9841086125253576, 'lambda_l2': 0.3745609613695192}. Best is trial 3 with value: 0.7798701298701298.\n"
     ]
    },
    {
     "name": "stdout",
     "output_type": "stream",
     "text": [
      "Did not meet early stopping. Best iteration is:\n",
      "[80]\tvalid_0's auc: 0.754848\n",
      "Training until validation scores don't improve for 30 rounds\n"
     ]
    },
    {
     "name": "stderr",
     "output_type": "stream",
     "text": [
      "[I 2025-08-04 23:02:48,093] Trial 8 finished with value: 0.7818398268398269 and parameters: {'learning_rate': 0.04636007875579756, 'num_leaves': 57, 'max_depth': 8, 'min_child_samples': 12, 'feature_fraction': 0.8768658855781715, 'bagging_fraction': 0.8953571416803079, 'lambda_l1': 0.7303345149084562, 'lambda_l2': 0.4486788247616199}. Best is trial 8 with value: 0.7818398268398269.\n"
     ]
    },
    {
     "name": "stdout",
     "output_type": "stream",
     "text": [
      "Early stopping, best iteration is:\n",
      "[4]\tvalid_0's auc: 0.78184\n",
      "Training until validation scores don't improve for 30 rounds\n"
     ]
    },
    {
     "name": "stderr",
     "output_type": "stream",
     "text": [
      "[I 2025-08-04 23:02:48,915] Trial 9 finished with value: 0.7945021645021645 and parameters: {'learning_rate': 0.1607764407175097, 'num_leaves': 64, 'max_depth': 11, 'min_child_samples': 30, 'feature_fraction': 0.8647408005138004, 'bagging_fraction': 0.678140206782294, 'lambda_l1': 0.9123703104767521, 'lambda_l2': 0.4271772139789407}. Best is trial 9 with value: 0.7945021645021645.\n"
     ]
    },
    {
     "name": "stdout",
     "output_type": "stream",
     "text": [
      "Early stopping, best iteration is:\n",
      "[28]\tvalid_0's auc: 0.794502\n",
      "Training until validation scores don't improve for 30 rounds\n"
     ]
    },
    {
     "name": "stderr",
     "output_type": "stream",
     "text": [
      "[I 2025-08-04 23:02:49,373] Trial 10 finished with value: 0.7596969696969698 and parameters: {'learning_rate': 0.0913785420441217, 'num_leaves': 79, 'max_depth': 4, 'min_child_samples': 25, 'feature_fraction': 0.8310452616666566, 'bagging_fraction': 0.7512138782763125, 'lambda_l1': 0.9505734200512808, 'lambda_l2': 0.992290660617525}. Best is trial 9 with value: 0.7945021645021645.\n"
     ]
    },
    {
     "name": "stdout",
     "output_type": "stream",
     "text": [
      "Early stopping, best iteration is:\n",
      "[56]\tvalid_0's auc: 0.759697\n",
      "Training until validation scores don't improve for 30 rounds\n"
     ]
    },
    {
     "name": "stderr",
     "output_type": "stream",
     "text": [
      "[I 2025-08-04 23:02:50,889] Trial 11 finished with value: 0.7758441558441559 and parameters: {'learning_rate': 0.08563931574080577, 'num_leaves': 68, 'max_depth': 9, 'min_child_samples': 19, 'feature_fraction': 0.9021220522038571, 'bagging_fraction': 0.7721725776039879, 'lambda_l1': 0.8253394337706369, 'lambda_l2': 0.5082766150187945}. Best is trial 9 with value: 0.7945021645021645.\n"
     ]
    },
    {
     "name": "stdout",
     "output_type": "stream",
     "text": [
      "Did not meet early stopping. Best iteration is:\n",
      "[90]\tvalid_0's auc: 0.775844\n",
      "Training until validation scores don't improve for 30 rounds\n"
     ]
    },
    {
     "name": "stderr",
     "output_type": "stream",
     "text": [
      "[I 2025-08-04 23:02:52,211] Trial 12 finished with value: 0.7771428571428571 and parameters: {'learning_rate': 0.10355046404820531, 'num_leaves': 42, 'max_depth': 10, 'min_child_samples': 29, 'feature_fraction': 0.9027407902486708, 'bagging_fraction': 0.7038469753435006, 'lambda_l1': 0.816814652037729, 'lambda_l2': 0.45925074149385653}. Best is trial 9 with value: 0.7945021645021645.\n"
     ]
    },
    {
     "name": "stdout",
     "output_type": "stream",
     "text": [
      "Did not meet early stopping. Best iteration is:\n",
      "[73]\tvalid_0's auc: 0.777143\n",
      "Training until validation scores don't improve for 30 rounds\n"
     ]
    },
    {
     "name": "stderr",
     "output_type": "stream",
     "text": [
      "[I 2025-08-04 23:02:53,237] Trial 13 finished with value: 0.7735930735930736 and parameters: {'learning_rate': 0.06589683983448491, 'num_leaves': 68, 'max_depth': 7, 'min_child_samples': 10, 'feature_fraction': 0.7558315347578377, 'bagging_fraction': 0.8207754493572862, 'lambda_l1': 0.5673629126277708, 'lambda_l2': 0.5932480921301122}. Best is trial 9 with value: 0.7945021645021645.\n"
     ]
    },
    {
     "name": "stdout",
     "output_type": "stream",
     "text": [
      "Early stopping, best iteration is:\n",
      "[62]\tvalid_0's auc: 0.773593\n",
      "Training until validation scores don't improve for 30 rounds\n"
     ]
    },
    {
     "name": "stderr",
     "output_type": "stream",
     "text": [
      "[I 2025-08-04 23:02:53,732] Trial 14 finished with value: 0.7516883116883117 and parameters: {'learning_rate': 0.19681112305978948, 'num_leaves': 43, 'max_depth': 4, 'min_child_samples': 19, 'feature_fraction': 0.8267657973996827, 'bagging_fraction': 0.9150644725206345, 'lambda_l1': 0.7478538328293616, 'lambda_l2': 0.2975598597667859}. Best is trial 9 with value: 0.7945021645021645.\n"
     ]
    },
    {
     "name": "stdout",
     "output_type": "stream",
     "text": [
      "Did not meet early stopping. Best iteration is:\n",
      "[82]\tvalid_0's auc: 0.751688\n",
      "Training until validation scores don't improve for 30 rounds\n"
     ]
    },
    {
     "name": "stderr",
     "output_type": "stream",
     "text": [
      "[I 2025-08-04 23:02:54,516] Trial 15 finished with value: 0.7682683982683982 and parameters: {'learning_rate': 0.01621317920894223, 'num_leaves': 64, 'max_depth': 8, 'min_child_samples': 35, 'feature_fraction': 0.9168375722666069, 'bagging_fraction': 0.6939019105995539, 'lambda_l1': 0.9119691439300481, 'lambda_l2': 0.3975450927981851}. Best is trial 9 with value: 0.7945021645021645.\n"
     ]
    },
    {
     "name": "stdout",
     "output_type": "stream",
     "text": [
      "Early stopping, best iteration is:\n",
      "[42]\tvalid_0's auc: 0.768268\n",
      "Training until validation scores don't improve for 30 rounds\n"
     ]
    },
    {
     "name": "stderr",
     "output_type": "stream",
     "text": [
      "[I 2025-08-04 23:02:55,693] Trial 16 finished with value: 0.7597402597402598 and parameters: {'learning_rate': 0.12976976173596622, 'num_leaves': 49, 'max_depth': 10, 'min_child_samples': 17, 'feature_fraction': 0.802908857103619, 'bagging_fraction': 0.7886433420954818, 'lambda_l1': 0.43960288991913754, 'lambda_l2': 0.5884090093340967}. Best is trial 9 with value: 0.7945021645021645.\n"
     ]
    },
    {
     "name": "stdout",
     "output_type": "stream",
     "text": [
      "Early stopping, best iteration is:\n",
      "[47]\tvalid_0's auc: 0.75974\n",
      "Training until validation scores don't improve for 30 rounds\n"
     ]
    },
    {
     "name": "stderr",
     "output_type": "stream",
     "text": [
      "[I 2025-08-04 23:02:56,317] Trial 17 finished with value: 0.7683982683982684 and parameters: {'learning_rate': 0.0713807471378271, 'num_leaves': 21, 'max_depth': 5, 'min_child_samples': 25, 'feature_fraction': 0.8616875994356876, 'bagging_fraction': 0.9913971190434625, 'lambda_l1': 0.1882937843718736, 'lambda_l2': 0.3362787201202925}. Best is trial 9 with value: 0.7945021645021645.\n"
     ]
    },
    {
     "name": "stdout",
     "output_type": "stream",
     "text": [
      "Early stopping, best iteration is:\n",
      "[66]\tvalid_0's auc: 0.768398\n",
      "Training until validation scores don't improve for 30 rounds\n"
     ]
    },
    {
     "name": "stderr",
     "output_type": "stream",
     "text": [
      "[I 2025-08-04 23:02:56,564] Trial 18 finished with value: 0.7516450216450217 and parameters: {'learning_rate': 0.11527323235962131, 'num_leaves': 73, 'max_depth': 3, 'min_child_samples': 31, 'feature_fraction': 0.9423144512036805, 'bagging_fraction': 0.8267215311513718, 'lambda_l1': 0.6812685197735376, 'lambda_l2': 0.7221864642309983}. Best is trial 9 with value: 0.7945021645021645.\n"
     ]
    },
    {
     "name": "stdout",
     "output_type": "stream",
     "text": [
      "Early stopping, best iteration is:\n",
      "[4]\tvalid_0's auc: 0.751645\n",
      "Training until validation scores don't improve for 30 rounds\n"
     ]
    },
    {
     "name": "stderr",
     "output_type": "stream",
     "text": [
      "[I 2025-08-04 23:02:57,435] Trial 19 finished with value: 0.7774891774891775 and parameters: {'learning_rate': 0.17130461105687111, 'num_leaves': 36, 'max_depth': 7, 'min_child_samples': 16, 'feature_fraction': 0.7593434410426094, 'bagging_fraction': 0.7363883745084173, 'lambda_l1': 0.8737110170918096, 'lambda_l2': 0.19074521437947511}. Best is trial 9 with value: 0.7945021645021645.\n"
     ]
    },
    {
     "name": "stdout",
     "output_type": "stream",
     "text": [
      "Early stopping, best iteration is:\n",
      "[54]\tvalid_0's auc: 0.777489\n",
      "Training until validation scores don't improve for 30 rounds\n"
     ]
    },
    {
     "name": "stderr",
     "output_type": "stream",
     "text": [
      "[I 2025-08-04 23:02:57,953] Trial 20 finished with value: 0.7465367965367966 and parameters: {'learning_rate': 0.14739547943576078, 'num_leaves': 51, 'max_depth': 9, 'min_child_samples': 24, 'feature_fraction': 0.6842388495960595, 'bagging_fraction': 0.6602913119874239, 'lambda_l1': 0.9982600560251703, 'lambda_l2': 0.4929339996293829}. Best is trial 9 with value: 0.7945021645021645.\n"
     ]
    },
    {
     "name": "stdout",
     "output_type": "stream",
     "text": [
      "Early stopping, best iteration is:\n",
      "[4]\tvalid_0's auc: 0.746537\n",
      "Training until validation scores don't improve for 30 rounds\n"
     ]
    },
    {
     "name": "stderr",
     "output_type": "stream",
     "text": [
      "[I 2025-08-04 23:02:58,652] Trial 21 finished with value: 0.799134199134199 and parameters: {'learning_rate': 0.04966750463220386, 'num_leaves': 59, 'max_depth': 11, 'min_child_samples': 32, 'feature_fraction': 0.8709306374274108, 'bagging_fraction': 0.6068631454819745, 'lambda_l1': 0.6432632761268846, 'lambda_l2': 0.6358861407999609}. Best is trial 21 with value: 0.799134199134199.\n"
     ]
    },
    {
     "name": "stdout",
     "output_type": "stream",
     "text": [
      "Early stopping, best iteration is:\n",
      "[20]\tvalid_0's auc: 0.799134\n",
      "Training until validation scores don't improve for 30 rounds\n"
     ]
    },
    {
     "name": "stderr",
     "output_type": "stream",
     "text": [
      "[I 2025-08-04 23:02:59,501] Trial 22 finished with value: 0.7838095238095238 and parameters: {'learning_rate': 0.058036543448932644, 'num_leaves': 60, 'max_depth': 11, 'min_child_samples': 32, 'feature_fraction': 0.850563479356326, 'bagging_fraction': 0.606496773717563, 'lambda_l1': 0.6831861884037097, 'lambda_l2': 0.5863244288368931}. Best is trial 21 with value: 0.799134199134199.\n"
     ]
    },
    {
     "name": "stdout",
     "output_type": "stream",
     "text": [
      "Early stopping, best iteration is:\n",
      "[31]\tvalid_0's auc: 0.78381\n",
      "Training until validation scores don't improve for 30 rounds\n"
     ]
    },
    {
     "name": "stderr",
     "output_type": "stream",
     "text": [
      "[I 2025-08-04 23:03:00,874] Trial 23 finished with value: 0.7727705627705628 and parameters: {'learning_rate': 0.06297296189238276, 'num_leaves': 62, 'max_depth': 11, 'min_child_samples': 33, 'feature_fraction': 0.8269882892036179, 'bagging_fraction': 0.6016349746577565, 'lambda_l1': 0.5396314922998248, 'lambda_l2': 0.5868556101307918}. Best is trial 21 with value: 0.799134199134199.\n"
     ]
    },
    {
     "name": "stdout",
     "output_type": "stream",
     "text": [
      "Did not meet early stopping. Best iteration is:\n",
      "[85]\tvalid_0's auc: 0.772771\n",
      "Training until validation scores don't improve for 30 rounds\n"
     ]
    },
    {
     "name": "stderr",
     "output_type": "stream",
     "text": [
      "[I 2025-08-04 23:03:01,869] Trial 24 finished with value: 0.765021645021645 and parameters: {'learning_rate': 0.08434058645382671, 'num_leaves': 71, 'max_depth': 10, 'min_child_samples': 28, 'feature_fraction': 0.7920137321171583, 'bagging_fraction': 0.6522778200157836, 'lambda_l1': 0.6445870703896132, 'lambda_l2': 0.7173303062041745}. Best is trial 21 with value: 0.799134199134199.\n"
     ]
    },
    {
     "name": "stdout",
     "output_type": "stream",
     "text": [
      "Early stopping, best iteration is:\n",
      "[39]\tvalid_0's auc: 0.765022\n",
      "Training until validation scores don't improve for 30 rounds\n"
     ]
    },
    {
     "name": "stderr",
     "output_type": "stream",
     "text": [
      "[I 2025-08-04 23:03:03,117] Trial 25 finished with value: 0.7881385281385281 and parameters: {'learning_rate': 0.010241997737250014, 'num_leaves': 60, 'max_depth': 12, 'min_child_samples': 36, 'feature_fraction': 0.9416965609768911, 'bagging_fraction': 0.6639461404710172, 'lambda_l1': 0.31537298033340944, 'lambda_l2': 0.8555215770012543}. Best is trial 21 with value: 0.799134199134199.\n"
     ]
    },
    {
     "name": "stdout",
     "output_type": "stream",
     "text": [
      "Did not meet early stopping. Best iteration is:\n",
      "[94]\tvalid_0's auc: 0.788139\n",
      "Training until validation scores don't improve for 30 rounds\n"
     ]
    },
    {
     "name": "stderr",
     "output_type": "stream",
     "text": [
      "[I 2025-08-04 23:03:04,208] Trial 26 finished with value: 0.7667965367965368 and parameters: {'learning_rate': 0.021796686527776513, 'num_leaves': 67, 'max_depth': 12, 'min_child_samples': 37, 'feature_fraction': 0.9395713757926674, 'bagging_fraction': 0.6629999674966982, 'lambda_l1': 0.29111921991086276, 'lambda_l2': 0.8711680897917703}. Best is trial 21 with value: 0.799134199134199.\n"
     ]
    },
    {
     "name": "stdout",
     "output_type": "stream",
     "text": [
      "Early stopping, best iteration is:\n",
      "[50]\tvalid_0's auc: 0.766797\n",
      "Training until validation scores don't improve for 30 rounds\n"
     ]
    },
    {
     "name": "stderr",
     "output_type": "stream",
     "text": [
      "[I 2025-08-04 23:03:04,981] Trial 27 finished with value: 0.7767532467532466 and parameters: {'learning_rate': 0.010267022028274045, 'num_leaves': 48, 'max_depth': 12, 'min_child_samples': 41, 'feature_fraction': 0.9472536588665562, 'bagging_fraction': 0.7228431593252412, 'lambda_l1': 0.2537184084367861, 'lambda_l2': 0.9437193066354587}. Best is trial 21 with value: 0.799134199134199.\n"
     ]
    },
    {
     "name": "stdout",
     "output_type": "stream",
     "text": [
      "Early stopping, best iteration is:\n",
      "[30]\tvalid_0's auc: 0.776753\n",
      "Training until validation scores don't improve for 30 rounds\n"
     ]
    },
    {
     "name": "stderr",
     "output_type": "stream",
     "text": [
      "[I 2025-08-04 23:03:06,249] Trial 28 finished with value: 0.7893506493506494 and parameters: {'learning_rate': 0.03476544072115337, 'num_leaves': 53, 'max_depth': 10, 'min_child_samples': 35, 'feature_fraction': 0.8927154711433909, 'bagging_fraction': 0.6420788017762261, 'lambda_l1': 0.46635799603875816, 'lambda_l2': 0.7542795187037099}. Best is trial 21 with value: 0.799134199134199.\n"
     ]
    },
    {
     "name": "stdout",
     "output_type": "stream",
     "text": [
      "Early stopping, best iteration is:\n",
      "[70]\tvalid_0's auc: 0.789351\n",
      "Training until validation scores don't improve for 30 rounds\n"
     ]
    },
    {
     "name": "stderr",
     "output_type": "stream",
     "text": [
      "[I 2025-08-04 23:03:07,605] Trial 29 finished with value: 0.7840692640692641 and parameters: {'learning_rate': 0.037581981686453644, 'num_leaves': 52, 'max_depth': 10, 'min_child_samples': 27, 'feature_fraction': 0.8822438022890086, 'bagging_fraction': 0.6366150472055877, 'lambda_l1': 0.4742237453384007, 'lambda_l2': 0.71697467693309}. Best is trial 21 with value: 0.799134199134199.\n"
     ]
    },
    {
     "name": "stdout",
     "output_type": "stream",
     "text": [
      "Did not meet early stopping. Best iteration is:\n",
      "[90]\tvalid_0's auc: 0.784069\n"
     ]
    },
    {
     "name": "stderr",
     "output_type": "stream",
     "text": [
      "[I 2025-08-04 23:03:10,903] A new study created in memory with name: no-name-53219cf0-822d-4442-8151-d7d1ef8b868e\n"
     ]
    },
    {
     "name": "stdout",
     "output_type": "stream",
     "text": [
      "📍 Training for label: NR-PPAR-gamma\n",
      "Training until validation scores don't improve for 30 rounds\n"
     ]
    },
    {
     "name": "stderr",
     "output_type": "stream",
     "text": [
      "[I 2025-08-04 23:03:11,662] Trial 0 finished with value: 0.6650832352446612 and parameters: {'learning_rate': 0.033108392567715354, 'num_leaves': 61, 'max_depth': 9, 'min_child_samples': 25, 'feature_fraction': 0.768420593758169, 'bagging_fraction': 0.903414608533256, 'lambda_l1': 0.2736613982402446, 'lambda_l2': 0.7880698955790733}. Best is trial 0 with value: 0.6650832352446612.\n"
     ]
    },
    {
     "name": "stdout",
     "output_type": "stream",
     "text": [
      "Early stopping, best iteration is:\n",
      "[31]\tvalid_0's auc: 0.665083\n",
      "Training until validation scores don't improve for 30 rounds\n"
     ]
    },
    {
     "name": "stderr",
     "output_type": "stream",
     "text": [
      "[I 2025-08-04 23:03:12,151] Trial 1 finished with value: 0.632840087439045 and parameters: {'learning_rate': 0.17466696807057966, 'num_leaves': 74, 'max_depth': 9, 'min_child_samples': 32, 'feature_fraction': 0.8238523103904006, 'bagging_fraction': 0.8513971098151998, 'lambda_l1': 0.8599485024376283, 'lambda_l2': 0.0734755140194524}. Best is trial 0 with value: 0.6650832352446612.\n"
     ]
    },
    {
     "name": "stdout",
     "output_type": "stream",
     "text": [
      "Early stopping, best iteration is:\n",
      "[1]\tvalid_0's auc: 0.63284\n",
      "Training until validation scores don't improve for 30 rounds\n"
     ]
    },
    {
     "name": "stderr",
     "output_type": "stream",
     "text": [
      "[I 2025-08-04 23:03:12,472] Trial 2 finished with value: 0.7149403060366571 and parameters: {'learning_rate': 0.06589752726734337, 'num_leaves': 73, 'max_depth': 6, 'min_child_samples': 44, 'feature_fraction': 0.6419475707328074, 'bagging_fraction': 0.6698561972836592, 'lambda_l1': 0.9738234485785726, 'lambda_l2': 0.3954025163798086}. Best is trial 2 with value: 0.7149403060366571.\n"
     ]
    },
    {
     "name": "stdout",
     "output_type": "stream",
     "text": [
      "Early stopping, best iteration is:\n",
      "[8]\tvalid_0's auc: 0.71494\n",
      "Training until validation scores don't improve for 30 rounds\n"
     ]
    },
    {
     "name": "stderr",
     "output_type": "stream",
     "text": [
      "[I 2025-08-04 23:03:12,905] Trial 3 finished with value: 0.6789978140238775 and parameters: {'learning_rate': 0.10350375298135342, 'num_leaves': 57, 'max_depth': 12, 'min_child_samples': 25, 'feature_fraction': 0.9705267678025401, 'bagging_fraction': 0.804475407166872, 'lambda_l1': 0.8977393116397432, 'lambda_l2': 0.9290519659353251}. Best is trial 2 with value: 0.7149403060366571.\n"
     ]
    },
    {
     "name": "stdout",
     "output_type": "stream",
     "text": [
      "Early stopping, best iteration is:\n",
      "[1]\tvalid_0's auc: 0.678998\n",
      "Training until validation scores don't improve for 30 rounds\n"
     ]
    },
    {
     "name": "stderr",
     "output_type": "stream",
     "text": [
      "[I 2025-08-04 23:03:13,191] Trial 4 finished with value: 0.7275096687405415 and parameters: {'learning_rate': 0.13577358380459215, 'num_leaves': 62, 'max_depth': 5, 'min_child_samples': 45, 'feature_fraction': 0.6906220547323909, 'bagging_fraction': 0.7010755521291347, 'lambda_l1': 0.8570861634140138, 'lambda_l2': 0.07165627872580937}. Best is trial 4 with value: 0.7275096687405415.\n"
     ]
    },
    {
     "name": "stdout",
     "output_type": "stream",
     "text": [
      "Early stopping, best iteration is:\n",
      "[8]\tvalid_0's auc: 0.72751\n",
      "Training until validation scores don't improve for 30 rounds\n"
     ]
    },
    {
     "name": "stderr",
     "output_type": "stream",
     "text": [
      "[I 2025-08-04 23:03:13,433] Trial 5 finished with value: 0.7000588532032959 and parameters: {'learning_rate': 0.14805504562029753, 'num_leaves': 54, 'max_depth': 4, 'min_child_samples': 36, 'feature_fraction': 0.8733484074869987, 'bagging_fraction': 0.9141772780619319, 'lambda_l1': 0.1468919284873793, 'lambda_l2': 0.7612211929286193}. Best is trial 4 with value: 0.7275096687405415.\n"
     ]
    },
    {
     "name": "stdout",
     "output_type": "stream",
     "text": [
      "Early stopping, best iteration is:\n",
      "[4]\tvalid_0's auc: 0.700059\n",
      "Training until validation scores don't improve for 30 rounds\n"
     ]
    },
    {
     "name": "stderr",
     "output_type": "stream",
     "text": [
      "[I 2025-08-04 23:03:13,809] Trial 6 finished with value: 0.6984193711114847 and parameters: {'learning_rate': 0.10160014815886803, 'num_leaves': 74, 'max_depth': 5, 'min_child_samples': 13, 'feature_fraction': 0.9086338628865331, 'bagging_fraction': 0.7995646848927265, 'lambda_l1': 0.7706264839135383, 'lambda_l2': 0.9214901616033724}. Best is trial 4 with value: 0.7275096687405415.\n"
     ]
    },
    {
     "name": "stdout",
     "output_type": "stream",
     "text": [
      "Early stopping, best iteration is:\n",
      "[13]\tvalid_0's auc: 0.698419\n",
      "Training until validation scores don't improve for 30 rounds\n"
     ]
    },
    {
     "name": "stderr",
     "output_type": "stream",
     "text": [
      "[I 2025-08-04 23:03:14,181] Trial 7 finished with value: 0.6972423070455691 and parameters: {'learning_rate': 0.025884304662016917, 'num_leaves': 61, 'max_depth': 10, 'min_child_samples': 14, 'feature_fraction': 0.7963120066030942, 'bagging_fraction': 0.942760552443242, 'lambda_l1': 0.35033856463679136, 'lambda_l2': 0.4624959195645748}. Best is trial 4 with value: 0.7275096687405415.\n"
     ]
    },
    {
     "name": "stdout",
     "output_type": "stream",
     "text": [
      "Early stopping, best iteration is:\n",
      "[4]\tvalid_0's auc: 0.697242\n",
      "Training until validation scores don't improve for 30 rounds\n"
     ]
    },
    {
     "name": "stderr",
     "output_type": "stream",
     "text": [
      "[I 2025-08-04 23:03:14,670] Trial 8 finished with value: 0.6999747771985876 and parameters: {'learning_rate': 0.013744374243387066, 'num_leaves': 22, 'max_depth': 7, 'min_child_samples': 10, 'feature_fraction': 0.7519607360114293, 'bagging_fraction': 0.6874062750982843, 'lambda_l1': 0.19111156088096315, 'lambda_l2': 0.036400044835918965}. Best is trial 4 with value: 0.7275096687405415.\n"
     ]
    },
    {
     "name": "stdout",
     "output_type": "stream",
     "text": [
      "Early stopping, best iteration is:\n",
      "[31]\tvalid_0's auc: 0.699975\n",
      "Training until validation scores don't improve for 30 rounds\n",
      "Early stopping, best iteration is:\n",
      "[8]\tvalid_0's auc: 0.697495\n"
     ]
    },
    {
     "name": "stderr",
     "output_type": "stream",
     "text": [
      "[I 2025-08-04 23:03:14,875] Trial 9 finished with value: 0.697494535059694 and parameters: {'learning_rate': 0.1294958841796847, 'num_leaves': 52, 'max_depth': 3, 'min_child_samples': 30, 'feature_fraction': 0.8546780853316744, 'bagging_fraction': 0.6021378039975489, 'lambda_l1': 0.5042531590946683, 'lambda_l2': 0.6605830552468102}. Best is trial 4 with value: 0.7275096687405415.\n",
      "[I 2025-08-04 23:03:15,131] Trial 10 finished with value: 0.693963342861947 and parameters: {'learning_rate': 0.19204543234724875, 'num_leaves': 37, 'max_depth': 3, 'min_child_samples': 49, 'feature_fraction': 0.600577529179561, 'bagging_fraction': 0.7290655247102878, 'lambda_l1': 0.6764809437270378, 'lambda_l2': 0.22712317568255125}. Best is trial 4 with value: 0.7275096687405415.\n"
     ]
    },
    {
     "name": "stdout",
     "output_type": "stream",
     "text": [
      "Training until validation scores don't improve for 30 rounds\n",
      "Early stopping, best iteration is:\n",
      "[16]\tvalid_0's auc: 0.693963\n"
     ]
    },
    {
     "name": "stderr",
     "output_type": "stream",
     "text": [
      "[I 2025-08-04 23:03:15,446] Trial 11 finished with value: 0.6876156045064739 and parameters: {'learning_rate': 0.06481586719983129, 'num_leaves': 69, 'max_depth': 6, 'min_child_samples': 49, 'feature_fraction': 0.6503994163454524, 'bagging_fraction': 0.6600756960998112, 'lambda_l1': 0.9993357937852683, 'lambda_l2': 0.35874612402642336}. Best is trial 4 with value: 0.7275096687405415.\n"
     ]
    },
    {
     "name": "stdout",
     "output_type": "stream",
     "text": [
      "Training until validation scores don't improve for 30 rounds\n",
      "Early stopping, best iteration is:\n",
      "[5]\tvalid_0's auc: 0.687616\n",
      "Training until validation scores don't improve for 30 rounds\n",
      "Early stopping, best iteration is:\n",
      "[3]\tvalid_0's auc: 0.733563\n"
     ]
    },
    {
     "name": "stderr",
     "output_type": "stream",
     "text": [
      "[I 2025-08-04 23:03:15,778] Trial 12 finished with value: 0.7335631410795358 and parameters: {'learning_rate': 0.06912807861221876, 'num_leaves': 79, 'max_depth': 6, 'min_child_samples': 42, 'feature_fraction': 0.6928793173667829, 'bagging_fraction': 0.7330623993964187, 'lambda_l1': 0.6426238162398665, 'lambda_l2': 0.2690378573070053}. Best is trial 12 with value: 0.7335631410795358.\n"
     ]
    },
    {
     "name": "stdout",
     "output_type": "stream",
     "text": [
      "Training until validation scores don't improve for 30 rounds\n",
      "Early stopping, best iteration is:\n",
      "[11]\tvalid_0's auc: 0.706785\n"
     ]
    },
    {
     "name": "stderr",
     "output_type": "stream",
     "text": [
      "[I 2025-08-04 23:03:16,120] Trial 13 finished with value: 0.7067849335799562 and parameters: {'learning_rate': 0.07362683178700778, 'num_leaves': 80, 'max_depth': 5, 'min_child_samples': 40, 'feature_fraction': 0.6961928692159258, 'bagging_fraction': 0.7465294756090036, 'lambda_l1': 0.6109127812446471, 'lambda_l2': 0.1968044665475064}. Best is trial 12 with value: 0.7335631410795358.\n"
     ]
    },
    {
     "name": "stdout",
     "output_type": "stream",
     "text": [
      "Training until validation scores don't improve for 30 rounds\n",
      "Early stopping, best iteration is:\n",
      "[1]\tvalid_0's auc: 0.692198\n"
     ]
    },
    {
     "name": "stderr",
     "output_type": "stream",
     "text": [
      "[I 2025-08-04 23:03:16,470] Trial 14 finished with value: 0.6921977467630738 and parameters: {'learning_rate': 0.14276594965664785, 'num_leaves': 41, 'max_depth': 7, 'min_child_samples': 43, 'feature_fraction': 0.7050248859353141, 'bagging_fraction': 0.7477911991849058, 'lambda_l1': 0.49767208892430403, 'lambda_l2': 0.21072803764837544}. Best is trial 12 with value: 0.7335631410795358.\n"
     ]
    },
    {
     "name": "stdout",
     "output_type": "stream",
     "text": [
      "Training until validation scores don't improve for 30 rounds\n",
      "Early stopping, best iteration is:\n",
      "[12]\tvalid_0's auc: 0.693753\n"
     ]
    },
    {
     "name": "stderr",
     "output_type": "stream",
     "text": [
      "[I 2025-08-04 23:03:16,807] Trial 15 finished with value: 0.6937531528501766 and parameters: {'learning_rate': 0.08846447986859876, 'num_leaves': 66, 'max_depth': 5, 'min_child_samples': 38, 'feature_fraction': 0.7304420254010828, 'bagging_fraction': 0.6235769434881744, 'lambda_l1': 0.011170125674356601, 'lambda_l2': 0.3068906830193181}. Best is trial 12 with value: 0.7335631410795358.\n"
     ]
    },
    {
     "name": "stdout",
     "output_type": "stream",
     "text": [
      "Training until validation scores don't improve for 30 rounds\n"
     ]
    },
    {
     "name": "stderr",
     "output_type": "stream",
     "text": [
      "[I 2025-08-04 23:03:17,258] Trial 16 finished with value: 0.7295274928535395 and parameters: {'learning_rate': 0.1252453683387637, 'num_leaves': 80, 'max_depth': 8, 'min_child_samples': 45, 'feature_fraction': 0.6670820644919502, 'bagging_fraction': 0.8047027207117986, 'lambda_l1': 0.7451471542976087, 'lambda_l2': 0.5575379896466717}. Best is trial 12 with value: 0.7335631410795358.\n"
     ]
    },
    {
     "name": "stdout",
     "output_type": "stream",
     "text": [
      "Early stopping, best iteration is:\n",
      "[13]\tvalid_0's auc: 0.729527\n",
      "Training until validation scores don't improve for 30 rounds\n"
     ]
    },
    {
     "name": "stderr",
     "output_type": "stream",
     "text": [
      "[I 2025-08-04 23:03:17,620] Trial 17 finished with value: 0.7210778543803598 and parameters: {'learning_rate': 0.04961026920802744, 'num_leaves': 80, 'max_depth': 8, 'min_child_samples': 34, 'feature_fraction': 0.606347832253836, 'bagging_fraction': 0.9895856631592787, 'lambda_l1': 0.691045181611244, 'lambda_l2': 0.5794623417606921}. Best is trial 12 with value: 0.7335631410795358.\n"
     ]
    },
    {
     "name": "stdout",
     "output_type": "stream",
     "text": [
      "Early stopping, best iteration is:\n",
      "[3]\tvalid_0's auc: 0.721078\n",
      "Training until validation scores don't improve for 30 rounds\n"
     ]
    },
    {
     "name": "stderr",
     "output_type": "stream",
     "text": [
      "[I 2025-08-04 23:03:18,003] Trial 18 finished with value: 0.6633176391457878 and parameters: {'learning_rate': 0.11504205845670759, 'num_leaves': 44, 'max_depth': 11, 'min_child_samples': 50, 'feature_fraction': 0.6539747718013382, 'bagging_fraction': 0.8048892895202714, 'lambda_l1': 0.5233996896437859, 'lambda_l2': 0.5381117045706085}. Best is trial 12 with value: 0.7335631410795358.\n"
     ]
    },
    {
     "name": "stdout",
     "output_type": "stream",
     "text": [
      "Early stopping, best iteration is:\n",
      "[1]\tvalid_0's auc: 0.663318\n",
      "Training until validation scores don't improve for 30 rounds\n"
     ]
    },
    {
     "name": "stderr",
     "output_type": "stream",
     "text": [
      "[I 2025-08-04 23:03:18,355] Trial 19 finished with value: 0.6697494535059694 and parameters: {'learning_rate': 0.16208317934344357, 'num_leaves': 22, 'max_depth': 8, 'min_child_samples': 27, 'feature_fraction': 0.6708637701314786, 'bagging_fraction': 0.8553988316544526, 'lambda_l1': 0.38929443646405404, 'lambda_l2': 0.6200110682862663}. Best is trial 12 with value: 0.7335631410795358.\n"
     ]
    },
    {
     "name": "stdout",
     "output_type": "stream",
     "text": [
      "Early stopping, best iteration is:\n",
      "[2]\tvalid_0's auc: 0.669749\n",
      "Training until validation scores don't improve for 30 rounds\n"
     ]
    },
    {
     "name": "stderr",
     "output_type": "stream",
     "text": [
      "[I 2025-08-04 23:03:18,760] Trial 20 finished with value: 0.6554144947032117 and parameters: {'learning_rate': 0.08693844145812621, 'num_leaves': 70, 'max_depth': 9, 'min_child_samples': 20, 'feature_fraction': 0.7224342625709415, 'bagging_fraction': 0.8504486945603343, 'lambda_l1': 0.7542716591820778, 'lambda_l2': 0.45987622316301885}. Best is trial 12 with value: 0.7335631410795358.\n"
     ]
    },
    {
     "name": "stdout",
     "output_type": "stream",
     "text": [
      "Early stopping, best iteration is:\n",
      "[2]\tvalid_0's auc: 0.655414\n",
      "Training until validation scores don't improve for 30 rounds\n"
     ]
    },
    {
     "name": "stderr",
     "output_type": "stream",
     "text": [
      "[I 2025-08-04 23:03:19,097] Trial 21 finished with value: 0.6995543971750462 and parameters: {'learning_rate': 0.1355862192816147, 'num_leaves': 80, 'max_depth': 6, 'min_child_samples': 45, 'feature_fraction': 0.6858295178322755, 'bagging_fraction': 0.721772713765532, 'lambda_l1': 0.8338449343182355, 'lambda_l2': 0.11915350876017577}. Best is trial 12 with value: 0.7335631410795358.\n"
     ]
    },
    {
     "name": "stdout",
     "output_type": "stream",
     "text": [
      "Early stopping, best iteration is:\n",
      "[2]\tvalid_0's auc: 0.699554\n",
      "Training until validation scores don't improve for 30 rounds\n"
     ]
    },
    {
     "name": "stderr",
     "output_type": "stream",
     "text": [
      "[I 2025-08-04 23:03:19,393] Trial 22 finished with value: 0.7193542962838406 and parameters: {'learning_rate': 0.12359771826407516, 'num_leaves': 65, 'max_depth': 4, 'min_child_samples': 43, 'feature_fraction': 0.7709099505828179, 'bagging_fraction': 0.773780918462201, 'lambda_l1': 0.6471803758379209, 'lambda_l2': 0.003070609205922059}. Best is trial 12 with value: 0.7335631410795358.\n"
     ]
    },
    {
     "name": "stdout",
     "output_type": "stream",
     "text": [
      "Early stopping, best iteration is:\n",
      "[8]\tvalid_0's auc: 0.719354\n",
      "Training until validation scores don't improve for 30 rounds\n"
     ]
    },
    {
     "name": "stderr",
     "output_type": "stream",
     "text": [
      "[I 2025-08-04 23:03:19,765] Trial 23 finished with value: 0.656843786783252 and parameters: {'learning_rate': 0.15971133139856974, 'num_leaves': 47, 'max_depth': 7, 'min_child_samples': 40, 'feature_fraction': 0.6331406485478156, 'bagging_fraction': 0.6990693601185862, 'lambda_l1': 0.7727386443162453, 'lambda_l2': 0.3005140917240736}. Best is trial 12 with value: 0.7335631410795358.\n"
     ]
    },
    {
     "name": "stdout",
     "output_type": "stream",
     "text": [
      "Early stopping, best iteration is:\n",
      "[2]\tvalid_0's auc: 0.656844\n",
      "Training until validation scores don't improve for 30 rounds\n"
     ]
    },
    {
     "name": "stderr",
     "output_type": "stream",
     "text": [
      "[I 2025-08-04 23:03:20,069] Trial 24 finished with value: 0.6556667227173364 and parameters: {'learning_rate': 0.11524646202194899, 'num_leaves': 34, 'max_depth': 6, 'min_child_samples': 47, 'feature_fraction': 0.7167084488608702, 'bagging_fraction': 0.6387749330926622, 'lambda_l1': 0.5554241073208965, 'lambda_l2': 0.1667799004813012}. Best is trial 12 with value: 0.7335631410795358.\n"
     ]
    },
    {
     "name": "stdout",
     "output_type": "stream",
     "text": [
      "Early stopping, best iteration is:\n",
      "[1]\tvalid_0's auc: 0.655667\n",
      "Training until validation scores don't improve for 30 rounds\n"
     ]
    },
    {
     "name": "stderr",
     "output_type": "stream",
     "text": [
      "[I 2025-08-04 23:03:20,371] Trial 25 finished with value: 0.6882882125441399 and parameters: {'learning_rate': 0.0879119874586495, 'num_leaves': 76, 'max_depth': 4, 'min_child_samples': 40, 'feature_fraction': 0.6767412841829203, 'bagging_fraction': 0.7709292943425445, 'lambda_l1': 0.9035548430504898, 'lambda_l2': 0.2831181013434977}. Best is trial 12 with value: 0.7335631410795358.\n"
     ]
    },
    {
     "name": "stdout",
     "output_type": "stream",
     "text": [
      "Early stopping, best iteration is:\n",
      "[14]\tvalid_0's auc: 0.688288\n",
      "Training until validation scores don't improve for 30 rounds\n"
     ]
    },
    {
     "name": "stderr",
     "output_type": "stream",
     "text": [
      "[I 2025-08-04 23:03:20,852] Trial 26 finished with value: 0.7028753993610224 and parameters: {'learning_rate': 0.18152165091038572, 'num_leaves': 62, 'max_depth': 8, 'min_child_samples': 46, 'feature_fraction': 0.6246903980189952, 'bagging_fraction': 0.705340305296782, 'lambda_l1': 0.7427210271458476, 'lambda_l2': 0.7065510877641104}. Best is trial 12 with value: 0.7335631410795358.\n"
     ]
    },
    {
     "name": "stdout",
     "output_type": "stream",
     "text": [
      "Early stopping, best iteration is:\n",
      "[14]\tvalid_0's auc: 0.702875\n",
      "Training until validation scores don't improve for 30 rounds\n"
     ]
    },
    {
     "name": "stderr",
     "output_type": "stream",
     "text": [
      "[I 2025-08-04 23:03:21,222] Trial 27 finished with value: 0.7143517740036993 and parameters: {'learning_rate': 0.048312326649084816, 'num_leaves': 69, 'max_depth': 5, 'min_child_samples': 37, 'feature_fraction': 0.8083979891518723, 'bagging_fraction': 0.7723747499458239, 'lambda_l1': 0.5802634975500762, 'lambda_l2': 0.11563304588019398}. Best is trial 12 with value: 0.7335631410795358.\n"
     ]
    },
    {
     "name": "stdout",
     "output_type": "stream",
     "text": [
      "Early stopping, best iteration is:\n",
      "[14]\tvalid_0's auc: 0.714352\n",
      "Training until validation scores don't improve for 30 rounds\n"
     ]
    },
    {
     "name": "stderr",
     "output_type": "stream",
     "text": [
      "[I 2025-08-04 23:03:21,759] Trial 28 finished with value: 0.6706742895577601 and parameters: {'learning_rate': 0.15445721711033733, 'num_leaves': 57, 'max_depth': 10, 'min_child_samples': 40, 'feature_fraction': 0.7679981102905393, 'bagging_fraction': 0.8245201350644685, 'lambda_l1': 0.41869078578407515, 'lambda_l2': 0.38370457755140475}. Best is trial 12 with value: 0.7335631410795358.\n"
     ]
    },
    {
     "name": "stdout",
     "output_type": "stream",
     "text": [
      "Early stopping, best iteration is:\n",
      "[13]\tvalid_0's auc: 0.670674\n",
      "Training until validation scores don't improve for 30 rounds\n"
     ]
    },
    {
     "name": "stderr",
     "output_type": "stream",
     "text": [
      "[I 2025-08-04 23:03:22,161] Trial 29 finished with value: 0.7021607533210021 and parameters: {'learning_rate': 0.047438051037386124, 'num_leaves': 76, 'max_depth': 7, 'min_child_samples': 47, 'feature_fraction': 0.7341672182100009, 'bagging_fraction': 0.8981745487788196, 'lambda_l1': 0.7990880158788097, 'lambda_l2': 0.5038634984877374}. Best is trial 12 with value: 0.7335631410795358.\n"
     ]
    },
    {
     "name": "stdout",
     "output_type": "stream",
     "text": [
      "Early stopping, best iteration is:\n",
      "[9]\tvalid_0's auc: 0.702161\n"
     ]
    },
    {
     "name": "stderr",
     "output_type": "stream",
     "text": [
      "[I 2025-08-04 23:03:23,684] A new study created in memory with name: no-name-c2457cb8-6559-4409-96b6-d4fb1d2e3404\n"
     ]
    },
    {
     "name": "stdout",
     "output_type": "stream",
     "text": [
      "📍 Training for label: SR-ARE\n",
      "Training until validation scores don't improve for 30 rounds\n"
     ]
    },
    {
     "name": "stderr",
     "output_type": "stream",
     "text": [
      "[I 2025-08-04 23:03:24,734] Trial 0 finished with value: 0.8800852804246616 and parameters: {'learning_rate': 0.11031567639037936, 'num_leaves': 30, 'max_depth': 8, 'min_child_samples': 30, 'feature_fraction': 0.9054931811026319, 'bagging_fraction': 0.8178477985268644, 'lambda_l1': 0.5520124974930852, 'lambda_l2': 0.16688834696525578}. Best is trial 0 with value: 0.8800852804246616.\n"
     ]
    },
    {
     "name": "stdout",
     "output_type": "stream",
     "text": [
      "Early stopping, best iteration is:\n",
      "[51]\tvalid_0's auc: 0.880085\n",
      "Training until validation scores don't improve for 30 rounds\n"
     ]
    },
    {
     "name": "stderr",
     "output_type": "stream",
     "text": [
      "[I 2025-08-04 23:03:25,919] Trial 1 finished with value: 0.8765609363442545 and parameters: {'learning_rate': 0.19380524814572023, 'num_leaves': 37, 'max_depth': 9, 'min_child_samples': 14, 'feature_fraction': 0.7752784375323702, 'bagging_fraction': 0.8799879900337831, 'lambda_l1': 0.6108086705066677, 'lambda_l2': 0.29988155387603344}. Best is trial 0 with value: 0.8800852804246616.\n"
     ]
    },
    {
     "name": "stdout",
     "output_type": "stream",
     "text": [
      "Did not meet early stopping. Best iteration is:\n",
      "[95]\tvalid_0's auc: 0.876561\n",
      "Training until validation scores don't improve for 30 rounds\n"
     ]
    },
    {
     "name": "stderr",
     "output_type": "stream",
     "text": [
      "[I 2025-08-04 23:03:26,591] Trial 2 finished with value: 0.8614410651350998 and parameters: {'learning_rate': 0.1883120942817786, 'num_leaves': 24, 'max_depth': 6, 'min_child_samples': 18, 'feature_fraction': 0.658269792234251, 'bagging_fraction': 0.7802562389131369, 'lambda_l1': 0.9196022956016229, 'lambda_l2': 0.7498322668048463}. Best is trial 0 with value: 0.8800852804246616.\n"
     ]
    },
    {
     "name": "stdout",
     "output_type": "stream",
     "text": [
      "Did not meet early stopping. Best iteration is:\n",
      "[97]\tvalid_0's auc: 0.861441\n",
      "Training until validation scores don't improve for 30 rounds\n"
     ]
    },
    {
     "name": "stderr",
     "output_type": "stream",
     "text": [
      "[I 2025-08-04 23:03:27,179] Trial 3 finished with value: 0.8648240003480835 and parameters: {'learning_rate': 0.04270904515234682, 'num_leaves': 26, 'max_depth': 5, 'min_child_samples': 35, 'feature_fraction': 0.7535762766962695, 'bagging_fraction': 0.8182580998238075, 'lambda_l1': 0.8704743543294533, 'lambda_l2': 0.8577684355566215}. Best is trial 0 with value: 0.8800852804246616.\n"
     ]
    },
    {
     "name": "stdout",
     "output_type": "stream",
     "text": [
      "Did not meet early stopping. Best iteration is:\n",
      "[100]\tvalid_0's auc: 0.864824\n",
      "Training until validation scores don't improve for 30 rounds\n"
     ]
    },
    {
     "name": "stderr",
     "output_type": "stream",
     "text": [
      "[I 2025-08-04 23:03:27,516] Trial 4 finished with value: 0.8485184701736066 and parameters: {'learning_rate': 0.11151255338485672, 'num_leaves': 66, 'max_depth': 3, 'min_child_samples': 39, 'feature_fraction': 0.8778139368505422, 'bagging_fraction': 0.9028291076717202, 'lambda_l1': 0.996864201505628, 'lambda_l2': 0.39230082222101725}. Best is trial 0 with value: 0.8800852804246616.\n"
     ]
    },
    {
     "name": "stdout",
     "output_type": "stream",
     "text": [
      "Did not meet early stopping. Best iteration is:\n",
      "[95]\tvalid_0's auc: 0.848518\n",
      "Training until validation scores don't improve for 30 rounds\n"
     ]
    },
    {
     "name": "stderr",
     "output_type": "stream",
     "text": [
      "[I 2025-08-04 23:03:28,641] Trial 5 finished with value: 0.8569486141930993 and parameters: {'learning_rate': 0.09043875276006182, 'num_leaves': 70, 'max_depth': 8, 'min_child_samples': 15, 'feature_fraction': 0.9643188749687104, 'bagging_fraction': 0.9013929497317957, 'lambda_l1': 0.6112833393921953, 'lambda_l2': 0.19904196588503886}. Best is trial 0 with value: 0.8800852804246616.\n"
     ]
    },
    {
     "name": "stdout",
     "output_type": "stream",
     "text": [
      "Early stopping, best iteration is:\n",
      "[33]\tvalid_0's auc: 0.856949\n",
      "Training until validation scores don't improve for 30 rounds\n"
     ]
    },
    {
     "name": "stderr",
     "output_type": "stream",
     "text": [
      "[I 2025-08-04 23:03:30,327] Trial 6 finished with value: 0.8588957055214724 and parameters: {'learning_rate': 0.02988206082978693, 'num_leaves': 73, 'max_depth': 11, 'min_child_samples': 16, 'feature_fraction': 0.6054520479302924, 'bagging_fraction': 0.7079267149121624, 'lambda_l1': 0.502387113905069, 'lambda_l2': 0.9114885243686093}. Best is trial 0 with value: 0.8800852804246616.\n"
     ]
    },
    {
     "name": "stdout",
     "output_type": "stream",
     "text": [
      "Did not meet early stopping. Best iteration is:\n",
      "[100]\tvalid_0's auc: 0.858896\n",
      "Training until validation scores don't improve for 30 rounds\n"
     ]
    },
    {
     "name": "stderr",
     "output_type": "stream",
     "text": [
      "[I 2025-08-04 23:03:31,123] Trial 7 finished with value: 0.8423943784536396 and parameters: {'learning_rate': 0.020031778403972706, 'num_leaves': 71, 'max_depth': 5, 'min_child_samples': 21, 'feature_fraction': 0.964693494458958, 'bagging_fraction': 0.9203069730478519, 'lambda_l1': 0.4095893333990288, 'lambda_l2': 0.21146815096047}. Best is trial 0 with value: 0.8800852804246616.\n"
     ]
    },
    {
     "name": "stdout",
     "output_type": "stream",
     "text": [
      "Did not meet early stopping. Best iteration is:\n",
      "[96]\tvalid_0's auc: 0.842394\n",
      "Training until validation scores don't improve for 30 rounds\n"
     ]
    },
    {
     "name": "stderr",
     "output_type": "stream",
     "text": [
      "[I 2025-08-04 23:03:31,769] Trial 8 finished with value: 0.8685332637166601 and parameters: {'learning_rate': 0.06787490365868178, 'num_leaves': 31, 'max_depth': 6, 'min_child_samples': 30, 'feature_fraction': 0.6517681566548923, 'bagging_fraction': 0.8264041978550353, 'lambda_l1': 0.27530604049955665, 'lambda_l2': 0.8174099183454954}. Best is trial 0 with value: 0.8800852804246616.\n"
     ]
    },
    {
     "name": "stdout",
     "output_type": "stream",
     "text": [
      "Did not meet early stopping. Best iteration is:\n",
      "[92]\tvalid_0's auc: 0.868533\n",
      "Training until validation scores don't improve for 30 rounds\n"
     ]
    },
    {
     "name": "stderr",
     "output_type": "stream",
     "text": [
      "[I 2025-08-04 23:03:32,085] Trial 9 finished with value: 0.8007984162206849 and parameters: {'learning_rate': 0.014264543592212712, 'num_leaves': 37, 'max_depth': 3, 'min_child_samples': 18, 'feature_fraction': 0.7199790332893352, 'bagging_fraction': 0.7917883864118551, 'lambda_l1': 0.02642708774674707, 'lambda_l2': 0.033528744930404364}. Best is trial 0 with value: 0.8800852804246616.\n"
     ]
    },
    {
     "name": "stdout",
     "output_type": "stream",
     "text": [
      "Did not meet early stopping. Best iteration is:\n",
      "[99]\tvalid_0's auc: 0.800798\n",
      "Training until validation scores don't improve for 30 rounds\n"
     ]
    },
    {
     "name": "stderr",
     "output_type": "stream",
     "text": [
      "[I 2025-08-04 23:03:33,373] Trial 10 finished with value: 0.874385415306966 and parameters: {'learning_rate': 0.135310833426388, 'num_leaves': 51, 'max_depth': 12, 'min_child_samples': 47, 'feature_fraction': 0.8654195557761885, 'bagging_fraction': 0.9981301686015843, 'lambda_l1': 0.7432724486489266, 'lambda_l2': 0.6010863628051509}. Best is trial 0 with value: 0.8800852804246616.\n"
     ]
    },
    {
     "name": "stdout",
     "output_type": "stream",
     "text": [
      "Did not meet early stopping. Best iteration is:\n",
      "[96]\tvalid_0's auc: 0.874385\n",
      "Training until validation scores don't improve for 30 rounds\n"
     ]
    },
    {
     "name": "stderr",
     "output_type": "stream",
     "text": [
      "[I 2025-08-04 23:03:34,595] Trial 11 finished with value: 0.8692294304485925 and parameters: {'learning_rate': 0.1984579236929811, 'num_leaves': 43, 'max_depth': 9, 'min_child_samples': 27, 'feature_fraction': 0.8409781479800733, 'bagging_fraction': 0.6350281299092084, 'lambda_l1': 0.6447929359483562, 'lambda_l2': 0.3697129497489049}. Best is trial 0 with value: 0.8800852804246616.\n"
     ]
    },
    {
     "name": "stdout",
     "output_type": "stream",
     "text": [
      "Did not meet early stopping. Best iteration is:\n",
      "[95]\tvalid_0's auc: 0.869229\n",
      "Training until validation scores don't improve for 30 rounds\n"
     ]
    },
    {
     "name": "stderr",
     "output_type": "stream",
     "text": [
      "[I 2025-08-04 23:03:36,327] Trial 12 finished with value: 0.8705129878605927 and parameters: {'learning_rate': 0.15334613039678485, 'num_leaves': 55, 'max_depth': 10, 'min_child_samples': 10, 'feature_fraction': 0.7953249795927156, 'bagging_fraction': 0.7444704063169895, 'lambda_l1': 0.366378067168597, 'lambda_l2': 0.019732876796147325}. Best is trial 0 with value: 0.8800852804246616.\n"
     ]
    },
    {
     "name": "stdout",
     "output_type": "stream",
     "text": [
      "Early stopping, best iteration is:\n",
      "[70]\tvalid_0's auc: 0.870513\n",
      "Training until validation scores don't improve for 30 rounds\n"
     ]
    },
    {
     "name": "stderr",
     "output_type": "stream",
     "text": [
      "[I 2025-08-04 23:03:37,559] Trial 13 finished with value: 0.8733411652090677 and parameters: {'learning_rate': 0.16244371212671627, 'num_leaves': 38, 'max_depth': 8, 'min_child_samples': 24, 'feature_fraction': 0.9130439973198117, 'bagging_fraction': 0.8709454465873797, 'lambda_l1': 0.764202577981341, 'lambda_l2': 0.2306696281973719}. Best is trial 0 with value: 0.8800852804246616.\n"
     ]
    },
    {
     "name": "stdout",
     "output_type": "stream",
     "text": [
      "Did not meet early stopping. Best iteration is:\n",
      "[97]\tvalid_0's auc: 0.873341\n",
      "Training until validation scores don't improve for 30 rounds\n"
     ]
    },
    {
     "name": "stderr",
     "output_type": "stream",
     "text": [
      "[I 2025-08-04 23:03:38,353] Trial 14 finished with value: 0.8808249575773397 and parameters: {'learning_rate': 0.11751671488780002, 'num_leaves': 20, 'max_depth': 10, 'min_child_samples': 38, 'feature_fraction': 0.7958622403617159, 'bagging_fraction': 0.9948093281815181, 'lambda_l1': 0.5470998727095981, 'lambda_l2': 0.5359820156769884}. Best is trial 14 with value: 0.8808249575773397.\n"
     ]
    },
    {
     "name": "stdout",
     "output_type": "stream",
     "text": [
      "Did not meet early stopping. Best iteration is:\n",
      "[96]\tvalid_0's auc: 0.880825\n",
      "Training until validation scores don't improve for 30 rounds\n"
     ]
    },
    {
     "name": "stderr",
     "output_type": "stream",
     "text": [
      "[I 2025-08-04 23:03:39,338] Trial 15 finished with value: 0.8721446286385589 and parameters: {'learning_rate': 0.10955613654681588, 'num_leaves': 25, 'max_depth': 10, 'min_child_samples': 38, 'feature_fraction': 0.9091860238398491, 'bagging_fraction': 0.990908832265171, 'lambda_l1': 0.2280448358694438, 'lambda_l2': 0.5598840504575618}. Best is trial 14 with value: 0.8808249575773397.\n"
     ]
    },
    {
     "name": "stdout",
     "output_type": "stream",
     "text": [
      "Did not meet early stopping. Best iteration is:\n",
      "[96]\tvalid_0's auc: 0.872145\n",
      "Training until validation scores don't improve for 30 rounds\n"
     ]
    },
    {
     "name": "stderr",
     "output_type": "stream",
     "text": [
      "[I 2025-08-04 23:03:40,317] Trial 16 finished with value: 0.8661401905756428 and parameters: {'learning_rate': 0.08130789525220819, 'num_leaves': 21, 'max_depth': 12, 'min_child_samples': 47, 'feature_fraction': 0.9999441571201034, 'bagging_fraction': 0.6060638965660885, 'lambda_l1': 0.48413482410975905, 'lambda_l2': 0.6671978968495772}. Best is trial 14 with value: 0.8808249575773397.\n"
     ]
    },
    {
     "name": "stdout",
     "output_type": "stream",
     "text": [
      "Did not meet early stopping. Best iteration is:\n",
      "[90]\tvalid_0's auc: 0.86614\n",
      "Training until validation scores don't improve for 30 rounds\n"
     ]
    },
    {
     "name": "stderr",
     "output_type": "stream",
     "text": [
      "[I 2025-08-04 23:03:41,171] Trial 17 finished with value: 0.8695340033938127 and parameters: {'learning_rate': 0.13146773954988314, 'num_leaves': 31, 'max_depth': 7, 'min_child_samples': 33, 'feature_fraction': 0.8222501290018468, 'bagging_fraction': 0.9557507714710093, 'lambda_l1': 0.12325108824922204, 'lambda_l2': 0.5354831084614426}. Best is trial 14 with value: 0.8808249575773397.\n"
     ]
    },
    {
     "name": "stdout",
     "output_type": "stream",
     "text": [
      "Did not meet early stopping. Best iteration is:\n",
      "[76]\tvalid_0's auc: 0.869534\n",
      "Training until validation scores don't improve for 30 rounds\n"
     ]
    },
    {
     "name": "stderr",
     "output_type": "stream",
     "text": [
      "[I 2025-08-04 23:03:41,927] Trial 18 finished with value: 0.8688160814515077 and parameters: {'learning_rate': 0.0599619237900236, 'num_leaves': 20, 'max_depth': 9, 'min_child_samples': 42, 'feature_fraction': 0.7274755702374835, 'bagging_fraction': 0.6831537017425234, 'lambda_l1': 0.528098401123384, 'lambda_l2': 0.4096565709558264}. Best is trial 14 with value: 0.8808249575773397.\n"
     ]
    },
    {
     "name": "stdout",
     "output_type": "stream",
     "text": [
      "Did not meet early stopping. Best iteration is:\n",
      "[100]\tvalid_0's auc: 0.868816\n",
      "Training until validation scores don't improve for 30 rounds\n"
     ]
    },
    {
     "name": "stderr",
     "output_type": "stream",
     "text": [
      "[I 2025-08-04 23:03:43,241] Trial 19 finished with value: 0.8740808423617457 and parameters: {'learning_rate': 0.12720920241943193, 'num_leaves': 45, 'max_depth': 11, 'min_child_samples': 43, 'feature_fraction': 0.9077833201917902, 'bagging_fraction': 0.9501350149432163, 'lambda_l1': 0.706359680093653, 'lambda_l2': 0.9779355256293287}. Best is trial 14 with value: 0.8808249575773397.\n"
     ]
    },
    {
     "name": "stdout",
     "output_type": "stream",
     "text": [
      "Did not meet early stopping. Best iteration is:\n",
      "[97]\tvalid_0's auc: 0.874081\n",
      "Training until validation scores don't improve for 30 rounds\n"
     ]
    },
    {
     "name": "stderr",
     "output_type": "stream",
     "text": [
      "[I 2025-08-04 23:03:44,178] Trial 20 finished with value: 0.885480572597137 and parameters: {'learning_rate': 0.15753308180929596, 'num_leaves': 61, 'max_depth': 7, 'min_child_samples': 30, 'feature_fraction': 0.8376277432701837, 'bagging_fraction': 0.8613566851721124, 'lambda_l1': 0.34767930446583956, 'lambda_l2': 0.10473795183828605}. Best is trial 20 with value: 0.885480572597137.\n"
     ]
    },
    {
     "name": "stdout",
     "output_type": "stream",
     "text": [
      "Did not meet early stopping. Best iteration is:\n",
      "[71]\tvalid_0's auc: 0.885481\n",
      "Training until validation scores don't improve for 30 rounds\n"
     ]
    },
    {
     "name": "stderr",
     "output_type": "stream",
     "text": [
      "[I 2025-08-04 23:03:45,155] Trial 21 finished with value: 0.8728407953704912 and parameters: {'learning_rate': 0.16316219729485787, 'num_leaves': 59, 'max_depth': 7, 'min_child_samples': 30, 'feature_fraction': 0.8203593158466028, 'bagging_fraction': 0.8427404599919289, 'lambda_l1': 0.3399225030336758, 'lambda_l2': 0.13356100859323777}. Best is trial 20 with value: 0.885480572597137.\n"
     ]
    },
    {
     "name": "stdout",
     "output_type": "stream",
     "text": [
      "Did not meet early stopping. Best iteration is:\n",
      "[98]\tvalid_0's auc: 0.872841\n",
      "Training until validation scores don't improve for 30 rounds\n"
     ]
    },
    {
     "name": "stderr",
     "output_type": "stream",
     "text": [
      "[I 2025-08-04 23:03:46,373] Trial 22 finished with value: 0.8667058260453379 and parameters: {'learning_rate': 0.09536922288010956, 'num_leaves': 80, 'max_depth': 8, 'min_child_samples': 33, 'feature_fraction': 0.8636275564331906, 'bagging_fraction': 0.7354618114484096, 'lambda_l1': 0.4709300882225261, 'lambda_l2': 0.10816552129370982}. Best is trial 20 with value: 0.885480572597137.\n"
     ]
    },
    {
     "name": "stdout",
     "output_type": "stream",
     "text": [
      "Did not meet early stopping. Best iteration is:\n",
      "[79]\tvalid_0's auc: 0.866706\n",
      "Training until validation scores don't improve for 30 rounds\n"
     ]
    },
    {
     "name": "stderr",
     "output_type": "stream",
     "text": [
      "[I 2025-08-04 23:03:47,901] Trial 23 finished with value: 0.8739285558891354 and parameters: {'learning_rate': 0.14552029939203376, 'num_leaves': 64, 'max_depth': 10, 'min_child_samples': 26, 'feature_fraction': 0.7886161147375415, 'bagging_fraction': 0.8570977380536289, 'lambda_l1': 0.1849655902850189, 'lambda_l2': 0.4667541614899751}. Best is trial 20 with value: 0.885480572597137.\n"
     ]
    },
    {
     "name": "stdout",
     "output_type": "stream",
     "text": [
      "Did not meet early stopping. Best iteration is:\n",
      "[95]\tvalid_0's auc: 0.873929\n",
      "Training until validation scores don't improve for 30 rounds\n"
     ]
    },
    {
     "name": "stderr",
     "output_type": "stream",
     "text": [
      "[I 2025-08-04 23:03:48,746] Trial 24 finished with value: 0.8568507157464212 and parameters: {'learning_rate': 0.17352861543189543, 'num_leaves': 31, 'max_depth': 6, 'min_child_samples': 37, 'feature_fraction': 0.9415135539175543, 'bagging_fraction': 0.7532764075279594, 'lambda_l1': 0.41949022567543487, 'lambda_l2': 0.2884211221547451}. Best is trial 20 with value: 0.885480572597137.\n"
     ]
    },
    {
     "name": "stdout",
     "output_type": "stream",
     "text": [
      "Did not meet early stopping. Best iteration is:\n",
      "[84]\tvalid_0's auc: 0.856851\n",
      "Training until validation scores don't improve for 30 rounds\n"
     ]
    },
    {
     "name": "stderr",
     "output_type": "stream",
     "text": [
      "[I 2025-08-04 23:03:49,712] Trial 25 finished with value: 0.8807814471565941 and parameters: {'learning_rate': 0.11943496638723702, 'num_leaves': 60, 'max_depth': 7, 'min_child_samples': 30, 'feature_fraction': 0.840952209224045, 'bagging_fraction': 0.9447422690187196, 'lambda_l1': 0.3077765032147902, 'lambda_l2': 0.11858880763168275}. Best is trial 20 with value: 0.885480572597137.\n"
     ]
    },
    {
     "name": "stdout",
     "output_type": "stream",
     "text": [
      "Did not meet early stopping. Best iteration is:\n",
      "[98]\tvalid_0's auc: 0.880781\n",
      "Training until validation scores don't improve for 30 rounds\n"
     ]
    },
    {
     "name": "stderr",
     "output_type": "stream",
     "text": [
      "[I 2025-08-04 23:03:50,328] Trial 26 finished with value: 0.8566549188530654 and parameters: {'learning_rate': 0.1194746761294723, 'num_leaves': 59, 'max_depth': 5, 'min_child_samples': 24, 'feature_fraction': 0.7560025700888557, 'bagging_fraction': 0.957471569706056, 'lambda_l1': 0.2737833386000671, 'lambda_l2': 0.6572038967629814}. Best is trial 20 with value: 0.885480572597137.\n"
     ]
    },
    {
     "name": "stdout",
     "output_type": "stream",
     "text": [
      "Did not meet early stopping. Best iteration is:\n",
      "[99]\tvalid_0's auc: 0.856655\n",
      "Training until validation scores don't improve for 30 rounds\n"
     ]
    },
    {
     "name": "stderr",
     "output_type": "stream",
     "text": [
      "[I 2025-08-04 23:03:50,932] Trial 27 finished with value: 0.8669995213853718 and parameters: {'learning_rate': 0.14804565723048801, 'num_leaves': 50, 'max_depth': 7, 'min_child_samples': 41, 'feature_fraction': 0.8469084986775828, 'bagging_fraction': 0.9307716491670854, 'lambda_l1': 0.11193155690572165, 'lambda_l2': 0.07565055663682452}. Best is trial 20 with value: 0.885480572597137.\n"
     ]
    },
    {
     "name": "stdout",
     "output_type": "stream",
     "text": [
      "Early stopping, best iteration is:\n",
      "[34]\tvalid_0's auc: 0.867\n",
      "Training until validation scores don't improve for 30 rounds\n"
     ]
    },
    {
     "name": "stderr",
     "output_type": "stream",
     "text": [
      "[I 2025-08-04 23:03:51,374] Trial 28 finished with value: 0.8494321890092676 and parameters: {'learning_rate': 0.17078525848062817, 'num_leaves': 58, 'max_depth': 4, 'min_child_samples': 34, 'feature_fraction': 0.8241463998662795, 'bagging_fraction': 0.9798206848739427, 'lambda_l1': 0.3278202716285116, 'lambda_l2': 0.4682689519733255}. Best is trial 20 with value: 0.885480572597137.\n"
     ]
    },
    {
     "name": "stdout",
     "output_type": "stream",
     "text": [
      "Did not meet early stopping. Best iteration is:\n",
      "[91]\tvalid_0's auc: 0.849432\n",
      "Training until validation scores don't improve for 30 rounds\n"
     ]
    },
    {
     "name": "stderr",
     "output_type": "stream",
     "text": [
      "[I 2025-08-04 23:03:52,046] Trial 29 finished with value: 0.8709263368576774 and parameters: {'learning_rate': 0.0956824819353164, 'num_leaves': 65, 'max_depth': 7, 'min_child_samples': 28, 'feature_fraction': 0.6997487491916343, 'bagging_fraction': 0.9293188530470828, 'lambda_l1': 0.4191195954072862, 'lambda_l2': 0.28878899032297356}. Best is trial 20 with value: 0.885480572597137.\n"
     ]
    },
    {
     "name": "stdout",
     "output_type": "stream",
     "text": [
      "Early stopping, best iteration is:\n",
      "[39]\tvalid_0's auc: 0.870926\n"
     ]
    },
    {
     "name": "stderr",
     "output_type": "stream",
     "text": [
      "[I 2025-08-04 23:03:54,335] A new study created in memory with name: no-name-6cb2b324-863c-4da2-bd67-9f89ee46a593\n"
     ]
    },
    {
     "name": "stdout",
     "output_type": "stream",
     "text": [
      "📍 Training for label: SR-ATAD5\n",
      "Training until validation scores don't improve for 30 rounds\n"
     ]
    },
    {
     "name": "stderr",
     "output_type": "stream",
     "text": [
      "[I 2025-08-04 23:03:55,444] Trial 0 finished with value: 0.8399412628487518 and parameters: {'learning_rate': 0.17221262545294583, 'num_leaves': 62, 'max_depth': 10, 'min_child_samples': 33, 'feature_fraction': 0.8554662280955747, 'bagging_fraction': 0.8980395232565912, 'lambda_l1': 0.5935167369551337, 'lambda_l2': 0.3521927738675733}. Best is trial 0 with value: 0.8399412628487518.\n"
     ]
    },
    {
     "name": "stdout",
     "output_type": "stream",
     "text": [
      "Did not meet early stopping. Best iteration is:\n",
      "[84]\tvalid_0's auc: 0.839941\n",
      "Training until validation scores don't improve for 30 rounds\n"
     ]
    },
    {
     "name": "stderr",
     "output_type": "stream",
     "text": [
      "[I 2025-08-04 23:03:56,593] Trial 1 finished with value: 0.87580481192816 and parameters: {'learning_rate': 0.12589222885412957, 'num_leaves': 33, 'max_depth': 9, 'min_child_samples': 10, 'feature_fraction': 0.7355758007791029, 'bagging_fraction': 0.918210587843211, 'lambda_l1': 0.14295044361563103, 'lambda_l2': 0.21363579582793268}. Best is trial 1 with value: 0.87580481192816.\n"
     ]
    },
    {
     "name": "stdout",
     "output_type": "stream",
     "text": [
      "Did not meet early stopping. Best iteration is:\n",
      "[100]\tvalid_0's auc: 0.875805\n",
      "Training until validation scores don't improve for 30 rounds\n"
     ]
    },
    {
     "name": "stderr",
     "output_type": "stream",
     "text": [
      "[I 2025-08-04 23:03:57,761] Trial 2 finished with value: 0.8709477013441771 and parameters: {'learning_rate': 0.0732126572657867, 'num_leaves': 51, 'max_depth': 7, 'min_child_samples': 15, 'feature_fraction': 0.9559240873994451, 'bagging_fraction': 0.6896128021439769, 'lambda_l1': 0.9489787468230627, 'lambda_l2': 0.542925399636485}. Best is trial 1 with value: 0.87580481192816.\n"
     ]
    },
    {
     "name": "stdout",
     "output_type": "stream",
     "text": [
      "Did not meet early stopping. Best iteration is:\n",
      "[97]\tvalid_0's auc: 0.870948\n",
      "Training until validation scores don't improve for 30 rounds\n"
     ]
    },
    {
     "name": "stderr",
     "output_type": "stream",
     "text": [
      "[I 2025-08-04 23:03:58,036] Trial 3 finished with value: 0.8017903535524681 and parameters: {'learning_rate': 0.017588321753590215, 'num_leaves': 65, 'max_depth': 4, 'min_child_samples': 25, 'feature_fraction': 0.9324808179413222, 'bagging_fraction': 0.7440717079137524, 'lambda_l1': 0.841420299871862, 'lambda_l2': 0.005107898326052518}. Best is trial 1 with value: 0.87580481192816.\n"
     ]
    },
    {
     "name": "stdout",
     "output_type": "stream",
     "text": [
      "Early stopping, best iteration is:\n",
      "[7]\tvalid_0's auc: 0.80179\n",
      "Training until validation scores don't improve for 30 rounds\n"
     ]
    },
    {
     "name": "stderr",
     "output_type": "stream",
     "text": [
      "[I 2025-08-04 23:03:58,984] Trial 4 finished with value: 0.799954817575963 and parameters: {'learning_rate': 0.019605046990476785, 'num_leaves': 75, 'max_depth': 11, 'min_child_samples': 17, 'feature_fraction': 0.675960634567722, 'bagging_fraction': 0.8573692582130512, 'lambda_l1': 0.7898196168963272, 'lambda_l2': 0.912127478664961}. Best is trial 1 with value: 0.87580481192816.\n"
     ]
    },
    {
     "name": "stdout",
     "output_type": "stream",
     "text": [
      "Did not meet early stopping. Best iteration is:\n",
      "[100]\tvalid_0's auc: 0.799955\n",
      "Training until validation scores don't improve for 30 rounds\n"
     ]
    },
    {
     "name": "stderr",
     "output_type": "stream",
     "text": [
      "[I 2025-08-04 23:03:59,830] Trial 5 finished with value: 0.8355359765051396 and parameters: {'learning_rate': 0.04096356832624186, 'num_leaves': 74, 'max_depth': 7, 'min_child_samples': 26, 'feature_fraction': 0.6818195946922169, 'bagging_fraction': 0.7437373706528314, 'lambda_l1': 0.8707211395700551, 'lambda_l2': 0.7591477156440218}. Best is trial 1 with value: 0.87580481192816.\n"
     ]
    },
    {
     "name": "stdout",
     "output_type": "stream",
     "text": [
      "Did not meet early stopping. Best iteration is:\n",
      "[100]\tvalid_0's auc: 0.835536\n",
      "Training until validation scores don't improve for 30 rounds\n"
     ]
    },
    {
     "name": "stderr",
     "output_type": "stream",
     "text": [
      "[I 2025-08-04 23:04:00,785] Trial 6 finished with value: 0.854456116570654 and parameters: {'learning_rate': 0.06290921918838538, 'num_leaves': 51, 'max_depth': 6, 'min_child_samples': 12, 'feature_fraction': 0.925338024683266, 'bagging_fraction': 0.687165536514906, 'lambda_l1': 0.6378577710225906, 'lambda_l2': 0.44138472207240986}. Best is trial 1 with value: 0.87580481192816.\n"
     ]
    },
    {
     "name": "stdout",
     "output_type": "stream",
     "text": [
      "Did not meet early stopping. Best iteration is:\n",
      "[99]\tvalid_0's auc: 0.854456\n",
      "Training until validation scores don't improve for 30 rounds\n"
     ]
    },
    {
     "name": "stderr",
     "output_type": "stream",
     "text": [
      "[I 2025-08-04 23:04:02,004] Trial 7 finished with value: 0.8414661696600023 and parameters: {'learning_rate': 0.028930223273483574, 'num_leaves': 76, 'max_depth': 11, 'min_child_samples': 27, 'feature_fraction': 0.813859918240178, 'bagging_fraction': 0.7018735947625113, 'lambda_l1': 0.015199615964366808, 'lambda_l2': 0.7157958915785628}. Best is trial 1 with value: 0.87580481192816.\n"
     ]
    },
    {
     "name": "stdout",
     "output_type": "stream",
     "text": [
      "Did not meet early stopping. Best iteration is:\n",
      "[99]\tvalid_0's auc: 0.841466\n",
      "Training until validation scores don't improve for 30 rounds\n"
     ]
    },
    {
     "name": "stderr",
     "output_type": "stream",
     "text": [
      "[I 2025-08-04 23:04:02,285] Trial 8 finished with value: 0.8131424375917768 and parameters: {'learning_rate': 0.03228513206498475, 'num_leaves': 74, 'max_depth': 4, 'min_child_samples': 11, 'feature_fraction': 0.9525959362506956, 'bagging_fraction': 0.7190057557117142, 'lambda_l1': 0.5530191664468478, 'lambda_l2': 0.47128382355077514}. Best is trial 1 with value: 0.87580481192816.\n"
     ]
    },
    {
     "name": "stdout",
     "output_type": "stream",
     "text": [
      "Early stopping, best iteration is:\n",
      "[2]\tvalid_0's auc: 0.813142\n",
      "Training until validation scores don't improve for 30 rounds\n"
     ]
    },
    {
     "name": "stderr",
     "output_type": "stream",
     "text": [
      "[I 2025-08-04 23:04:03,144] Trial 9 finished with value: 0.8939907376030725 and parameters: {'learning_rate': 0.13365592542872734, 'num_leaves': 54, 'max_depth': 10, 'min_child_samples': 37, 'feature_fraction': 0.6270695560374069, 'bagging_fraction': 0.9810869870149866, 'lambda_l1': 0.9272374911235068, 'lambda_l2': 0.8602304736393808}. Best is trial 9 with value: 0.8939907376030725.\n"
     ]
    },
    {
     "name": "stdout",
     "output_type": "stream",
     "text": [
      "Did not meet early stopping. Best iteration is:\n",
      "[100]\tvalid_0's auc: 0.893991\n",
      "Training until validation scores don't improve for 30 rounds\n"
     ]
    },
    {
     "name": "stderr",
     "output_type": "stream",
     "text": [
      "[I 2025-08-04 23:04:03,902] Trial 10 finished with value: 0.8761436801084379 and parameters: {'learning_rate': 0.19486897136409004, 'num_leaves': 23, 'max_depth': 12, 'min_child_samples': 48, 'feature_fraction': 0.6312333584999077, 'bagging_fraction': 0.9942443487578244, 'lambda_l1': 0.32785049448177855, 'lambda_l2': 0.9330213189774491}. Best is trial 9 with value: 0.8939907376030725.\n"
     ]
    },
    {
     "name": "stdout",
     "output_type": "stream",
     "text": [
      "Did not meet early stopping. Best iteration is:\n",
      "[100]\tvalid_0's auc: 0.876144\n",
      "Training until validation scores don't improve for 30 rounds\n"
     ]
    },
    {
     "name": "stderr",
     "output_type": "stream",
     "text": [
      "[I 2025-08-04 23:04:04,699] Trial 11 finished with value: 0.8533830339997741 and parameters: {'learning_rate': 0.19433243767323993, 'num_leaves': 26, 'max_depth': 12, 'min_child_samples': 49, 'feature_fraction': 0.6131563418885493, 'bagging_fraction': 0.9947296355086538, 'lambda_l1': 0.29555544248933097, 'lambda_l2': 0.9937168912590613}. Best is trial 9 with value: 0.8939907376030725.\n"
     ]
    },
    {
     "name": "stdout",
     "output_type": "stream",
     "text": [
      "Did not meet early stopping. Best iteration is:\n",
      "[100]\tvalid_0's auc: 0.853383\n",
      "Training until validation scores don't improve for 30 rounds\n"
     ]
    },
    {
     "name": "stderr",
     "output_type": "stream",
     "text": [
      "[I 2025-08-04 23:04:05,563] Trial 12 finished with value: 0.8632666892578786 and parameters: {'learning_rate': 0.13995537962870416, 'num_leaves': 38, 'max_depth': 9, 'min_child_samples': 47, 'feature_fraction': 0.6001673166569177, 'bagging_fraction': 0.992892486488794, 'lambda_l1': 0.38174678146601687, 'lambda_l2': 0.7880371407783603}. Best is trial 9 with value: 0.8939907376030725.\n"
     ]
    },
    {
     "name": "stdout",
     "output_type": "stream",
     "text": [
      "Did not meet early stopping. Best iteration is:\n",
      "[100]\tvalid_0's auc: 0.863267\n",
      "Training until validation scores don't improve for 30 rounds\n"
     ]
    },
    {
     "name": "stderr",
     "output_type": "stream",
     "text": [
      "[I 2025-08-04 23:04:06,441] Trial 13 finished with value: 0.860781655935841 and parameters: {'learning_rate': 0.14792994210411278, 'num_leaves': 22, 'max_depth': 12, 'min_child_samples': 40, 'feature_fraction': 0.7190236959280503, 'bagging_fraction': 0.9403131134878063, 'lambda_l1': 0.36397093738432573, 'lambda_l2': 0.6540616147336347}. Best is trial 9 with value: 0.8939907376030725.\n"
     ]
    },
    {
     "name": "stdout",
     "output_type": "stream",
     "text": [
      "Did not meet early stopping. Best iteration is:\n",
      "[98]\tvalid_0's auc: 0.860782\n",
      "Training until validation scores don't improve for 30 rounds\n"
     ]
    },
    {
     "name": "stderr",
     "output_type": "stream",
     "text": [
      "[I 2025-08-04 23:04:07,483] Trial 14 finished with value: 0.8878346323280244 and parameters: {'learning_rate': 0.09463873478818764, 'num_leaves': 42, 'max_depth': 9, 'min_child_samples': 41, 'feature_fraction': 0.6514227417183193, 'bagging_fraction': 0.8202413995156403, 'lambda_l1': 0.2135144537931353, 'lambda_l2': 0.8937350508069715}. Best is trial 9 with value: 0.8939907376030725.\n"
     ]
    },
    {
     "name": "stdout",
     "output_type": "stream",
     "text": [
      "Did not meet early stopping. Best iteration is:\n",
      "[97]\tvalid_0's auc: 0.887835\n",
      "Training until validation scores don't improve for 30 rounds\n"
     ]
    },
    {
     "name": "stderr",
     "output_type": "stream",
     "text": [
      "[I 2025-08-04 23:04:08,596] Trial 15 finished with value: 0.860442787755563 and parameters: {'learning_rate': 0.09879163519620952, 'num_leaves': 43, 'max_depth': 9, 'min_child_samples': 38, 'feature_fraction': 0.7621900261937703, 'bagging_fraction': 0.6101749999661971, 'lambda_l1': 0.1774113971221709, 'lambda_l2': 0.836279385828973}. Best is trial 9 with value: 0.8939907376030725.\n"
     ]
    },
    {
     "name": "stdout",
     "output_type": "stream",
     "text": [
      "Did not meet early stopping. Best iteration is:\n",
      "[100]\tvalid_0's auc: 0.860443\n",
      "Training until validation scores don't improve for 30 rounds\n"
     ]
    },
    {
     "name": "stderr",
     "output_type": "stream",
     "text": [
      "[I 2025-08-04 23:04:09,552] Trial 16 finished with value: 0.8695357505930194 and parameters: {'learning_rate': 0.10182085750353459, 'num_leaves': 58, 'max_depth': 8, 'min_child_samples': 41, 'feature_fraction': 0.6698246671232629, 'bagging_fraction': 0.8194296351143541, 'lambda_l1': 0.7591584487294931, 'lambda_l2': 0.6120171481553784}. Best is trial 9 with value: 0.8939907376030725.\n"
     ]
    },
    {
     "name": "stdout",
     "output_type": "stream",
     "text": [
      "Did not meet early stopping. Best iteration is:\n",
      "[100]\tvalid_0's auc: 0.869536\n",
      "Training until validation scores don't improve for 30 rounds\n"
     ]
    },
    {
     "name": "stderr",
     "output_type": "stream",
     "text": [
      "[I 2025-08-04 23:04:10,655] Trial 17 finished with value: 0.8685756240822321 and parameters: {'learning_rate': 0.07892599152335195, 'num_leaves': 44, 'max_depth': 10, 'min_child_samples': 34, 'feature_fraction': 0.8045540406771073, 'bagging_fraction': 0.8044740278282113, 'lambda_l1': 0.9977290167088971, 'lambda_l2': 0.8774114625588244}. Best is trial 9 with value: 0.8939907376030725.\n"
     ]
    },
    {
     "name": "stdout",
     "output_type": "stream",
     "text": [
      "Did not meet early stopping. Best iteration is:\n",
      "[100]\tvalid_0's auc: 0.868576\n",
      "Training until validation scores don't improve for 30 rounds\n"
     ]
    },
    {
     "name": "stderr",
     "output_type": "stream",
     "text": [
      "[I 2025-08-04 23:04:11,406] Trial 18 finished with value: 0.8467186264543093 and parameters: {'learning_rate': 0.12403482910092403, 'num_leaves': 57, 'max_depth': 6, 'min_child_samples': 44, 'feature_fraction': 0.6510617516171143, 'bagging_fraction': 0.866971234684052, 'lambda_l1': 0.6887395363591732, 'lambda_l2': 0.9930064961708713}. Best is trial 9 with value: 0.8939907376030725.\n"
     ]
    },
    {
     "name": "stdout",
     "output_type": "stream",
     "text": [
      "Did not meet early stopping. Best iteration is:\n",
      "[94]\tvalid_0's auc: 0.846719\n",
      "Training until validation scores don't improve for 30 rounds\n"
     ]
    },
    {
     "name": "stderr",
     "output_type": "stream",
     "text": [
      "[I 2025-08-04 23:04:12,364] Trial 19 finished with value: 0.8454761097932905 and parameters: {'learning_rate': 0.1599198080045567, 'num_leaves': 35, 'max_depth': 8, 'min_child_samples': 35, 'feature_fraction': 0.7187168470623795, 'bagging_fraction': 0.610657320668755, 'lambda_l1': 0.46812292298240016, 'lambda_l2': 0.6656182912022104}. Best is trial 9 with value: 0.8939907376030725.\n"
     ]
    },
    {
     "name": "stdout",
     "output_type": "stream",
     "text": [
      "Did not meet early stopping. Best iteration is:\n",
      "[99]\tvalid_0's auc: 0.845476\n",
      "Training until validation scores don't improve for 30 rounds\n"
     ]
    },
    {
     "name": "stderr",
     "output_type": "stream",
     "text": [
      "[I 2025-08-04 23:04:13,682] Trial 20 finished with value: 0.8796453179713092 and parameters: {'learning_rate': 0.11542969844747855, 'num_leaves': 44, 'max_depth': 10, 'min_child_samples': 30, 'feature_fraction': 0.8523333934954099, 'bagging_fraction': 0.9571240995273699, 'lambda_l1': 0.21136834520459868, 'lambda_l2': 0.26976507056743315}. Best is trial 9 with value: 0.8939907376030725.\n"
     ]
    },
    {
     "name": "stdout",
     "output_type": "stream",
     "text": [
      "Did not meet early stopping. Best iteration is:\n",
      "[100]\tvalid_0's auc: 0.879645\n",
      "Training until validation scores don't improve for 30 rounds\n"
     ]
    },
    {
     "name": "stderr",
     "output_type": "stream",
     "text": [
      "[I 2025-08-04 23:04:15,021] Trial 21 finished with value: 0.8717383937648255 and parameters: {'learning_rate': 0.11611616468460151, 'num_leaves': 44, 'max_depth': 10, 'min_child_samples': 30, 'feature_fraction': 0.8832771902111448, 'bagging_fraction': 0.9579900858243156, 'lambda_l1': 0.20646261119141596, 'lambda_l2': 0.23573877846274338}. Best is trial 9 with value: 0.8939907376030725.\n"
     ]
    },
    {
     "name": "stdout",
     "output_type": "stream",
     "text": [
      "Did not meet early stopping. Best iteration is:\n",
      "[100]\tvalid_0's auc: 0.871738\n",
      "Training until validation scores don't improve for 30 rounds\n"
     ]
    },
    {
     "name": "stderr",
     "output_type": "stream",
     "text": [
      "[I 2025-08-04 23:04:16,432] Trial 22 finished with value: 0.878515757370383 and parameters: {'learning_rate': 0.0907626756233052, 'num_leaves': 48, 'max_depth': 11, 'min_child_samples': 37, 'feature_fraction': 0.8298306667917104, 'bagging_fraction': 0.8722991596822117, 'lambda_l1': 0.08197009677019676, 'lambda_l2': 0.026835718991349067}. Best is trial 9 with value: 0.8939907376030725.\n"
     ]
    },
    {
     "name": "stdout",
     "output_type": "stream",
     "text": [
      "Did not meet early stopping. Best iteration is:\n",
      "[98]\tvalid_0's auc: 0.878516\n",
      "Training until validation scores don't improve for 30 rounds\n"
     ]
    },
    {
     "name": "stderr",
     "output_type": "stream",
     "text": [
      "[I 2025-08-04 23:04:17,589] Trial 23 finished with value: 0.8778944990398735 and parameters: {'learning_rate': 0.05362320665092183, 'num_leaves': 30, 'max_depth': 9, 'min_child_samples': 43, 'feature_fraction': 0.9996925176100613, 'bagging_fraction': 0.9584215722687544, 'lambda_l1': 0.4418052863635209, 'lambda_l2': 0.3331895937154885}. Best is trial 9 with value: 0.8939907376030725.\n"
     ]
    },
    {
     "name": "stdout",
     "output_type": "stream",
     "text": [
      "Did not meet early stopping. Best iteration is:\n",
      "[99]\tvalid_0's auc: 0.877894\n",
      "Training until validation scores don't improve for 30 rounds\n"
     ]
    },
    {
     "name": "stderr",
     "output_type": "stream",
     "text": [
      "[I 2025-08-04 23:04:18,724] Trial 24 finished with value: 0.8813396588726985 and parameters: {'learning_rate': 0.13713446785282046, 'num_leaves': 55, 'max_depth': 10, 'min_child_samples': 22, 'feature_fraction': 0.763262805899895, 'bagging_fraction': 0.9135872018171322, 'lambda_l1': 0.27820243932685496, 'lambda_l2': 0.15296124577143502}. Best is trial 9 with value: 0.8939907376030725.\n"
     ]
    },
    {
     "name": "stdout",
     "output_type": "stream",
     "text": [
      "Did not meet early stopping. Best iteration is:\n",
      "[100]\tvalid_0's auc: 0.88134\n",
      "Training until validation scores don't improve for 30 rounds\n"
     ]
    },
    {
     "name": "stderr",
     "output_type": "stream",
     "text": [
      "[I 2025-08-04 23:04:19,864] Trial 25 finished with value: 0.8690274483226025 and parameters: {'learning_rate': 0.13860825215880568, 'num_leaves': 67, 'max_depth': 8, 'min_child_samples': 20, 'feature_fraction': 0.7501898280143777, 'bagging_fraction': 0.8399010901311644, 'lambda_l1': 0.2772917054689181, 'lambda_l2': 0.5671651174164482}. Best is trial 9 with value: 0.8939907376030725.\n"
     ]
    },
    {
     "name": "stdout",
     "output_type": "stream",
     "text": [
      "Did not meet early stopping. Best iteration is:\n",
      "[100]\tvalid_0's auc: 0.869027\n",
      "Training until validation scores don't improve for 30 rounds\n"
     ]
    },
    {
     "name": "stderr",
     "output_type": "stream",
     "text": [
      "[I 2025-08-04 23:04:21,337] Trial 26 finished with value: 0.839602394668474 and parameters: {'learning_rate': 0.16802098683010205, 'num_leaves': 55, 'max_depth': 11, 'min_child_samples': 22, 'feature_fraction': 0.7688063957349768, 'bagging_fraction': 0.9023400108882774, 'lambda_l1': 0.0022072026138765244, 'lambda_l2': 0.11751176931837493}. Best is trial 9 with value: 0.8939907376030725.\n"
     ]
    },
    {
     "name": "stdout",
     "output_type": "stream",
     "text": [
      "Did not meet early stopping. Best iteration is:\n",
      "[100]\tvalid_0's auc: 0.839602\n",
      "Training until validation scores don't improve for 30 rounds\n"
     ]
    },
    {
     "name": "stderr",
     "output_type": "stream",
     "text": [
      "[I 2025-08-04 23:04:22,374] Trial 27 finished with value: 0.896984073195527 and parameters: {'learning_rate': 0.08791164335068127, 'num_leaves': 38, 'max_depth': 10, 'min_child_samples': 45, 'feature_fraction': 0.7013152780930283, 'bagging_fraction': 0.784852264792897, 'lambda_l1': 0.4987836818950903, 'lambda_l2': 0.11524532869705173}. Best is trial 27 with value: 0.896984073195527.\n"
     ]
    },
    {
     "name": "stdout",
     "output_type": "stream",
     "text": [
      "Did not meet early stopping. Best iteration is:\n",
      "[97]\tvalid_0's auc: 0.896984\n",
      "Training until validation scores don't improve for 30 rounds\n"
     ]
    },
    {
     "name": "stderr",
     "output_type": "stream",
     "text": [
      "[I 2025-08-04 23:04:22,741] Trial 28 finished with value: 0.8243533265559697 and parameters: {'learning_rate': 0.08429390167432907, 'num_leaves': 39, 'max_depth': 3, 'min_child_samples': 45, 'feature_fraction': 0.699860267154036, 'bagging_fraction': 0.7674772845724438, 'lambda_l1': 0.5443216175730938, 'lambda_l2': 0.7949204355639697}. Best is trial 27 with value: 0.896984073195527.\n"
     ]
    },
    {
     "name": "stdout",
     "output_type": "stream",
     "text": [
      "Did not meet early stopping. Best iteration is:\n",
      "[97]\tvalid_0's auc: 0.824353\n",
      "Training until validation scores don't improve for 30 rounds\n"
     ]
    },
    {
     "name": "stderr",
     "output_type": "stream",
     "text": [
      "[I 2025-08-04 23:04:23,681] Trial 29 finished with value: 0.8614029142663504 and parameters: {'learning_rate': 0.060484021523220265, 'num_leaves': 48, 'max_depth': 9, 'min_child_samples': 40, 'feature_fraction': 0.6334607839312584, 'bagging_fraction': 0.6437250816845719, 'lambda_l1': 0.5958015621407826, 'lambda_l2': 0.3897742901736788}. Best is trial 27 with value: 0.896984073195527.\n"
     ]
    },
    {
     "name": "stdout",
     "output_type": "stream",
     "text": [
      "Did not meet early stopping. Best iteration is:\n",
      "[100]\tvalid_0's auc: 0.861403\n"
     ]
    },
    {
     "name": "stderr",
     "output_type": "stream",
     "text": [
      "[I 2025-08-04 23:04:25,343] A new study created in memory with name: no-name-d0766dbe-a6b0-4e70-822e-67c3e322182d\n"
     ]
    },
    {
     "name": "stdout",
     "output_type": "stream",
     "text": [
      "📍 Training for label: SR-HSE\n",
      "Training until validation scores don't improve for 30 rounds\n"
     ]
    },
    {
     "name": "stderr",
     "output_type": "stream",
     "text": [
      "[I 2025-08-04 23:04:26,497] Trial 0 finished with value: 0.7804607886575101 and parameters: {'learning_rate': 0.16945004829546068, 'num_leaves': 41, 'max_depth': 9, 'min_child_samples': 33, 'feature_fraction': 0.7580208917153903, 'bagging_fraction': 0.914004634954412, 'lambda_l1': 0.6845393176136297, 'lambda_l2': 0.05455046951782605}. Best is trial 0 with value: 0.7804607886575101.\n"
     ]
    },
    {
     "name": "stdout",
     "output_type": "stream",
     "text": [
      "Did not meet early stopping. Best iteration is:\n",
      "[80]\tvalid_0's auc: 0.780461\n",
      "Training until validation scores don't improve for 30 rounds\n"
     ]
    },
    {
     "name": "stderr",
     "output_type": "stream",
     "text": [
      "[I 2025-08-04 23:04:27,680] Trial 1 finished with value: 0.7546743464776252 and parameters: {'learning_rate': 0.03613040316373933, 'num_leaves': 45, 'max_depth': 9, 'min_child_samples': 50, 'feature_fraction': 0.9748658141388095, 'bagging_fraction': 0.7222488211860915, 'lambda_l1': 0.3753847868960779, 'lambda_l2': 0.7666227687611207}. Best is trial 0 with value: 0.7804607886575101.\n"
     ]
    },
    {
     "name": "stdout",
     "output_type": "stream",
     "text": [
      "Did not meet early stopping. Best iteration is:\n",
      "[86]\tvalid_0's auc: 0.754674\n",
      "Training until validation scores don't improve for 30 rounds\n"
     ]
    },
    {
     "name": "stderr",
     "output_type": "stream",
     "text": [
      "[I 2025-08-04 23:04:28,081] Trial 2 finished with value: 0.7739255649091715 and parameters: {'learning_rate': 0.14366054338101497, 'num_leaves': 78, 'max_depth': 6, 'min_child_samples': 26, 'feature_fraction': 0.7707084464301919, 'bagging_fraction': 0.6017573328000558, 'lambda_l1': 0.4616637281958639, 'lambda_l2': 0.012689162531679399}. Best is trial 0 with value: 0.7804607886575101.\n"
     ]
    },
    {
     "name": "stdout",
     "output_type": "stream",
     "text": [
      "Early stopping, best iteration is:\n",
      "[12]\tvalid_0's auc: 0.773926\n",
      "Training until validation scores don't improve for 30 rounds\n"
     ]
    },
    {
     "name": "stderr",
     "output_type": "stream",
     "text": [
      "[I 2025-08-04 23:04:28,399] Trial 3 finished with value: 0.7500664599025255 and parameters: {'learning_rate': 0.05539858953349835, 'num_leaves': 47, 'max_depth': 3, 'min_child_samples': 33, 'feature_fraction': 0.8003597643851772, 'bagging_fraction': 0.8725899853203558, 'lambda_l1': 0.15801813083932714, 'lambda_l2': 0.2003668777126646}. Best is trial 0 with value: 0.7804607886575101.\n"
     ]
    },
    {
     "name": "stdout",
     "output_type": "stream",
     "text": [
      "Did not meet early stopping. Best iteration is:\n",
      "[94]\tvalid_0's auc: 0.750066\n",
      "Training until validation scores don't improve for 30 rounds\n"
     ]
    },
    {
     "name": "stderr",
     "output_type": "stream",
     "text": [
      "[I 2025-08-04 23:04:28,950] Trial 4 finished with value: 0.7098360655737704 and parameters: {'learning_rate': 0.14486840994240682, 'num_leaves': 64, 'max_depth': 5, 'min_child_samples': 29, 'feature_fraction': 0.7043156669339923, 'bagging_fraction': 0.7651418071010241, 'lambda_l1': 0.8548089027185919, 'lambda_l2': 0.6357439507365684}. Best is trial 0 with value: 0.7804607886575101.\n"
     ]
    },
    {
     "name": "stdout",
     "output_type": "stream",
     "text": [
      "Early stopping, best iteration is:\n",
      "[64]\tvalid_0's auc: 0.709836\n",
      "Training until validation scores don't improve for 30 rounds\n"
     ]
    },
    {
     "name": "stderr",
     "output_type": "stream",
     "text": [
      "[I 2025-08-04 23:04:29,401] Trial 5 finished with value: 0.7495347806823217 and parameters: {'learning_rate': 0.11087620307257796, 'num_leaves': 23, 'max_depth': 8, 'min_child_samples': 11, 'feature_fraction': 0.8595685354045839, 'bagging_fraction': 0.9772213099189639, 'lambda_l1': 0.04199277300366677, 'lambda_l2': 0.3307928123772458}. Best is trial 0 with value: 0.7804607886575101.\n"
     ]
    },
    {
     "name": "stdout",
     "output_type": "stream",
     "text": [
      "Early stopping, best iteration is:\n",
      "[10]\tvalid_0's auc: 0.749535\n",
      "Training until validation scores don't improve for 30 rounds\n"
     ]
    },
    {
     "name": "stderr",
     "output_type": "stream",
     "text": [
      "[I 2025-08-04 23:04:30,359] Trial 6 finished with value: 0.7808152414709792 and parameters: {'learning_rate': 0.18611956506100832, 'num_leaves': 36, 'max_depth': 8, 'min_child_samples': 26, 'feature_fraction': 0.6652781521312714, 'bagging_fraction': 0.9484571766405673, 'lambda_l1': 0.013831522539545116, 'lambda_l2': 0.8994683333491811}. Best is trial 6 with value: 0.7808152414709792.\n"
     ]
    },
    {
     "name": "stdout",
     "output_type": "stream",
     "text": [
      "Did not meet early stopping. Best iteration is:\n",
      "[99]\tvalid_0's auc: 0.780815\n",
      "Training until validation scores don't improve for 30 rounds\n"
     ]
    },
    {
     "name": "stderr",
     "output_type": "stream",
     "text": [
      "[I 2025-08-04 23:04:30,876] Trial 7 finished with value: 0.7320779796189633 and parameters: {'learning_rate': 0.1330628402706382, 'num_leaves': 21, 'max_depth': 7, 'min_child_samples': 46, 'feature_fraction': 0.9441914348017242, 'bagging_fraction': 0.8849211718433385, 'lambda_l1': 0.093938428167187, 'lambda_l2': 0.47040266348033366}. Best is trial 6 with value: 0.7808152414709792.\n"
     ]
    },
    {
     "name": "stdout",
     "output_type": "stream",
     "text": [
      "Early stopping, best iteration is:\n",
      "[29]\tvalid_0's auc: 0.732078\n",
      "Training until validation scores don't improve for 30 rounds\n"
     ]
    },
    {
     "name": "stderr",
     "output_type": "stream",
     "text": [
      "[I 2025-08-04 23:04:31,169] Trial 8 finished with value: 0.7663269827204253 and parameters: {'learning_rate': 0.19693315721094048, 'num_leaves': 74, 'max_depth': 5, 'min_child_samples': 43, 'feature_fraction': 0.6294442709699677, 'bagging_fraction': 0.6811419264777091, 'lambda_l1': 0.7730119236053109, 'lambda_l2': 0.5966551855674797}. Best is trial 6 with value: 0.7808152414709792.\n"
     ]
    },
    {
     "name": "stdout",
     "output_type": "stream",
     "text": [
      "Early stopping, best iteration is:\n",
      "[9]\tvalid_0's auc: 0.766327\n",
      "Training until validation scores don't improve for 30 rounds\n"
     ]
    },
    {
     "name": "stderr",
     "output_type": "stream",
     "text": [
      "[I 2025-08-04 23:04:31,937] Trial 9 finished with value: 0.7677004873726185 and parameters: {'learning_rate': 0.11317590182781419, 'num_leaves': 47, 'max_depth': 7, 'min_child_samples': 48, 'feature_fraction': 0.8188810833993543, 'bagging_fraction': 0.8814220064001268, 'lambda_l1': 0.2800931384631914, 'lambda_l2': 0.32187303430004655}. Best is trial 6 with value: 0.7808152414709792.\n"
     ]
    },
    {
     "name": "stdout",
     "output_type": "stream",
     "text": [
      "Did not meet early stopping. Best iteration is:\n",
      "[93]\tvalid_0's auc: 0.7677\n",
      "Training until validation scores don't improve for 30 rounds\n"
     ]
    },
    {
     "name": "stderr",
     "output_type": "stream",
     "text": [
      "[I 2025-08-04 23:04:32,602] Trial 10 finished with value: 0.7755427558706246 and parameters: {'learning_rate': 0.0700617986819991, 'num_leaves': 33, 'max_depth': 12, 'min_child_samples': 15, 'feature_fraction': 0.6256411227385409, 'bagging_fraction': 0.9793800113151321, 'lambda_l1': 0.5903222514379178, 'lambda_l2': 0.9359672793186697}. Best is trial 6 with value: 0.7808152414709792.\n"
     ]
    },
    {
     "name": "stdout",
     "output_type": "stream",
     "text": [
      "Early stopping, best iteration is:\n",
      "[25]\tvalid_0's auc: 0.775543\n",
      "Training until validation scores don't improve for 30 rounds\n"
     ]
    },
    {
     "name": "stderr",
     "output_type": "stream",
     "text": [
      "[I 2025-08-04 23:04:33,525] Trial 11 finished with value: 0.7420912715994683 and parameters: {'learning_rate': 0.19563890702277154, 'num_leaves': 34, 'max_depth': 10, 'min_child_samples': 36, 'feature_fraction': 0.7081881574982537, 'bagging_fraction': 0.9229165620205859, 'lambda_l1': 0.6376373280063306, 'lambda_l2': 0.8890108352505875}. Best is trial 6 with value: 0.7808152414709792.\n"
     ]
    },
    {
     "name": "stdout",
     "output_type": "stream",
     "text": [
      "Did not meet early stopping. Best iteration is:\n",
      "[97]\tvalid_0's auc: 0.742091\n",
      "Training until validation scores don't improve for 30 rounds\n"
     ]
    },
    {
     "name": "stderr",
     "output_type": "stream",
     "text": [
      "[I 2025-08-04 23:04:34,606] Trial 12 finished with value: 0.8177226406734603 and parameters: {'learning_rate': 0.16432772099803772, 'num_leaves': 35, 'max_depth': 11, 'min_child_samples': 21, 'feature_fraction': 0.7431648038856695, 'bagging_fraction': 0.8288685177611559, 'lambda_l1': 0.6947007662414728, 'lambda_l2': 0.009698286302265657}. Best is trial 12 with value: 0.8177226406734603.\n"
     ]
    },
    {
     "name": "stdout",
     "output_type": "stream",
     "text": [
      "Did not meet early stopping. Best iteration is:\n",
      "[84]\tvalid_0's auc: 0.817723\n",
      "Training until validation scores don't improve for 30 rounds\n"
     ]
    },
    {
     "name": "stderr",
     "output_type": "stream",
     "text": [
      "[I 2025-08-04 23:04:35,385] Trial 13 finished with value: 0.7372618520159503 and parameters: {'learning_rate': 0.17258356572369127, 'num_leaves': 57, 'max_depth': 12, 'min_child_samples': 21, 'feature_fraction': 0.6859592346102779, 'bagging_fraction': 0.8167260278348746, 'lambda_l1': 0.9975519851570663, 'lambda_l2': 0.6826370587038623}. Best is trial 12 with value: 0.8177226406734603.\n"
     ]
    },
    {
     "name": "stdout",
     "output_type": "stream",
     "text": [
      "Early stopping, best iteration is:\n",
      "[22]\tvalid_0's auc: 0.737262\n",
      "Training until validation scores don't improve for 30 rounds\n"
     ]
    },
    {
     "name": "stderr",
     "output_type": "stream",
     "text": [
      "[I 2025-08-04 23:04:36,559] Trial 14 finished with value: 0.7755427558706247 and parameters: {'learning_rate': 0.17294766320749455, 'num_leaves': 33, 'max_depth': 11, 'min_child_samples': 22, 'feature_fraction': 0.8864877577201923, 'bagging_fraction': 0.8193867585275952, 'lambda_l1': 0.484532282772072, 'lambda_l2': 0.4605703076280858}. Best is trial 12 with value: 0.8177226406734603.\n"
     ]
    },
    {
     "name": "stdout",
     "output_type": "stream",
     "text": [
      "Early stopping, best iteration is:\n",
      "[66]\tvalid_0's auc: 0.775543\n",
      "Training until validation scores don't improve for 30 rounds\n"
     ]
    },
    {
     "name": "stderr",
     "output_type": "stream",
     "text": [
      "[I 2025-08-04 23:04:37,291] Trial 15 finished with value: 0.7281789986708019 and parameters: {'learning_rate': 0.08359278767730602, 'num_leaves': 29, 'max_depth': 10, 'min_child_samples': 18, 'feature_fraction': 0.6679774643352655, 'bagging_fraction': 0.7830542749864702, 'lambda_l1': 0.28917052846330915, 'lambda_l2': 0.8162464615191101}. Best is trial 12 with value: 0.8177226406734603.\n"
     ]
    },
    {
     "name": "stdout",
     "output_type": "stream",
     "text": [
      "Early stopping, best iteration is:\n",
      "[36]\tvalid_0's auc: 0.728179\n",
      "Training until validation scores don't improve for 30 rounds\n"
     ]
    },
    {
     "name": "stderr",
     "output_type": "stream",
     "text": [
      "[I 2025-08-04 23:04:37,769] Trial 16 finished with value: 0.7697828976517502 and parameters: {'learning_rate': 0.01599768431512745, 'num_leaves': 57, 'max_depth': 10, 'min_child_samples': 25, 'feature_fraction': 0.7525715236773867, 'bagging_fraction': 0.946373958169743, 'lambda_l1': 0.9118862815316031, 'lambda_l2': 0.9788821998220069}. Best is trial 12 with value: 0.8177226406734603.\n"
     ]
    },
    {
     "name": "stdout",
     "output_type": "stream",
     "text": [
      "Early stopping, best iteration is:\n",
      "[7]\tvalid_0's auc: 0.769783\n",
      "Training until validation scores don't improve for 30 rounds\n"
     ]
    },
    {
     "name": "stderr",
     "output_type": "stream",
     "text": [
      "[I 2025-08-04 23:04:38,084] Trial 17 finished with value: 0.7385467434647763 and parameters: {'learning_rate': 0.16086724045382922, 'num_leaves': 41, 'max_depth': 3, 'min_child_samples': 11, 'feature_fraction': 0.6002630894936543, 'bagging_fraction': 0.9981804259195904, 'lambda_l1': 0.19176138939102852, 'lambda_l2': 0.15225529969892204}. Best is trial 12 with value: 0.8177226406734603.\n"
     ]
    },
    {
     "name": "stdout",
     "output_type": "stream",
     "text": [
      "Early stopping, best iteration is:\n",
      "[57]\tvalid_0's auc: 0.738547\n",
      "Training until validation scores don't improve for 30 rounds\n"
     ]
    },
    {
     "name": "stderr",
     "output_type": "stream",
     "text": [
      "[I 2025-08-04 23:04:38,745] Trial 18 finished with value: 0.7945945945945947 and parameters: {'learning_rate': 0.19923210849932158, 'num_leaves': 27, 'max_depth': 8, 'min_child_samples': 39, 'feature_fraction': 0.7345620286554114, 'bagging_fraction': 0.8393546938516315, 'lambda_l1': 0.739630254617851, 'lambda_l2': 0.3559004088635153}. Best is trial 12 with value: 0.8177226406734603.\n"
     ]
    },
    {
     "name": "stdout",
     "output_type": "stream",
     "text": [
      "Early stopping, best iteration is:\n",
      "[42]\tvalid_0's auc: 0.794595\n",
      "Training until validation scores don't improve for 30 rounds\n"
     ]
    },
    {
     "name": "stderr",
     "output_type": "stream",
     "text": [
      "[I 2025-08-04 23:04:39,375] Trial 19 finished with value: 0.7456357997341604 and parameters: {'learning_rate': 0.12680081036747504, 'num_leaves': 26, 'max_depth': 11, 'min_child_samples': 41, 'feature_fraction': 0.845325380872491, 'bagging_fraction': 0.8425802438832714, 'lambda_l1': 0.7518254579604343, 'lambda_l2': 0.31438563124450253}. Best is trial 12 with value: 0.8177226406734603.\n"
     ]
    },
    {
     "name": "stdout",
     "output_type": "stream",
     "text": [
      "Early stopping, best iteration is:\n",
      "[21]\tvalid_0's auc: 0.745636\n",
      "Training until validation scores don't improve for 30 rounds\n"
     ]
    },
    {
     "name": "stderr",
     "output_type": "stream",
     "text": [
      "[I 2025-08-04 23:04:40,397] Trial 20 finished with value: 0.7772264067346034 and parameters: {'learning_rate': 0.1612747184429785, 'num_leaves': 55, 'max_depth': 9, 'min_child_samples': 37, 'feature_fraction': 0.7445935481076856, 'bagging_fraction': 0.7383772445783817, 'lambda_l1': 0.5651401926634232, 'lambda_l2': 0.14584266131537216}. Best is trial 12 with value: 0.8177226406734603.\n"
     ]
    },
    {
     "name": "stdout",
     "output_type": "stream",
     "text": [
      "Did not meet early stopping. Best iteration is:\n",
      "[82]\tvalid_0's auc: 0.777226\n",
      "Training until validation scores don't improve for 30 rounds\n"
     ]
    },
    {
     "name": "stderr",
     "output_type": "stream",
     "text": [
      "[I 2025-08-04 23:04:41,317] Trial 21 finished with value: 0.7517058041648206 and parameters: {'learning_rate': 0.1916684701164925, 'num_leaves': 38, 'max_depth': 8, 'min_child_samples': 28, 'feature_fraction': 0.6546309975328617, 'bagging_fraction': 0.831626312771215, 'lambda_l1': 0.7445569486720297, 'lambda_l2': 0.5500243202864854}. Best is trial 12 with value: 0.8177226406734603.\n"
     ]
    },
    {
     "name": "stdout",
     "output_type": "stream",
     "text": [
      "Did not meet early stopping. Best iteration is:\n",
      "[96]\tvalid_0's auc: 0.751706\n",
      "Training until validation scores don't improve for 30 rounds\n"
     ]
    },
    {
     "name": "stderr",
     "output_type": "stream",
     "text": [
      "[I 2025-08-04 23:04:41,813] Trial 22 finished with value: 0.7566681435533895 and parameters: {'learning_rate': 0.18176390112956314, 'num_leaves': 28, 'max_depth': 6, 'min_child_samples': 23, 'feature_fraction': 0.7239149341858437, 'bagging_fraction': 0.8481122299221144, 'lambda_l1': 0.8579118511555154, 'lambda_l2': 0.4006189511990531}. Best is trial 12 with value: 0.8177226406734603.\n"
     ]
    },
    {
     "name": "stdout",
     "output_type": "stream",
     "text": [
      "Early stopping, best iteration is:\n",
      "[30]\tvalid_0's auc: 0.756668\n",
      "Training until validation scores don't improve for 30 rounds\n"
     ]
    },
    {
     "name": "stderr",
     "output_type": "stream",
     "text": [
      "[I 2025-08-04 23:04:42,516] Trial 23 finished with value: 0.7559149313247674 and parameters: {'learning_rate': 0.1525436441964195, 'num_leaves': 37, 'max_depth': 8, 'min_child_samples': 18, 'feature_fraction': 0.7808452053708302, 'bagging_fraction': 0.9257762775116215, 'lambda_l1': 0.41500539323768765, 'lambda_l2': 0.22409224528565475}. Best is trial 12 with value: 0.8177226406734603.\n"
     ]
    },
    {
     "name": "stdout",
     "output_type": "stream",
     "text": [
      "Early stopping, best iteration is:\n",
      "[28]\tvalid_0's auc: 0.755915\n",
      "Training until validation scores don't improve for 30 rounds\n"
     ]
    },
    {
     "name": "stderr",
     "output_type": "stream",
     "text": [
      "[I 2025-08-04 23:04:42,908] Trial 24 finished with value: 0.7656623836951705 and parameters: {'learning_rate': 0.18450959227731334, 'num_leaves': 20, 'max_depth': 6, 'min_child_samples': 32, 'feature_fraction': 0.7270416425917834, 'bagging_fraction': 0.7718812721326638, 'lambda_l1': 0.5637458309401155, 'lambda_l2': 0.7290134173888129}. Best is trial 12 with value: 0.8177226406734603.\n"
     ]
    },
    {
     "name": "stdout",
     "output_type": "stream",
     "text": [
      "Early stopping, best iteration is:\n",
      "[15]\tvalid_0's auc: 0.765662\n",
      "Training until validation scores don't improve for 30 rounds\n"
     ]
    },
    {
     "name": "stderr",
     "output_type": "stream",
     "text": [
      "[I 2025-08-04 23:04:43,882] Trial 25 finished with value: 0.7657066902968542 and parameters: {'learning_rate': 0.08856557156647615, 'num_leaves': 30, 'max_depth': 11, 'min_child_samples': 39, 'feature_fraction': 0.6610990393061336, 'bagging_fraction': 0.711414067623514, 'lambda_l1': 0.660779488737438, 'lambda_l2': 0.07359453772888935}. Best is trial 12 with value: 0.8177226406734603.\n"
     ]
    },
    {
     "name": "stdout",
     "output_type": "stream",
     "text": [
      "Did not meet early stopping. Best iteration is:\n",
      "[88]\tvalid_0's auc: 0.765707\n",
      "Training until validation scores don't improve for 30 rounds\n"
     ]
    },
    {
     "name": "stderr",
     "output_type": "stream",
     "text": [
      "[I 2025-08-04 23:04:44,773] Trial 26 finished with value: 0.7557377049180327 and parameters: {'learning_rate': 0.18372950899146626, 'num_leaves': 52, 'max_depth': 9, 'min_child_samples': 18, 'feature_fraction': 0.6864452499534502, 'bagging_fraction': 0.6657003136412238, 'lambda_l1': 0.7717563028693031, 'lambda_l2': 0.4088814557170276}. Best is trial 12 with value: 0.8177226406734603.\n"
     ]
    },
    {
     "name": "stdout",
     "output_type": "stream",
     "text": [
      "Early stopping, best iteration is:\n",
      "[42]\tvalid_0's auc: 0.755738\n",
      "Training until validation scores don't improve for 30 rounds\n"
     ]
    },
    {
     "name": "stderr",
     "output_type": "stream",
     "text": [
      "[I 2025-08-04 23:04:45,213] Trial 27 finished with value: 0.7105892778023927 and parameters: {'learning_rate': 0.12394015990244465, 'num_leaves': 25, 'max_depth': 7, 'min_child_samples': 30, 'feature_fraction': 0.8110330543753157, 'bagging_fraction': 0.7945348596762294, 'lambda_l1': 0.323592901162927, 'lambda_l2': 0.8437527784540932}. Best is trial 12 with value: 0.8177226406734603.\n"
     ]
    },
    {
     "name": "stdout",
     "output_type": "stream",
     "text": [
      "Early stopping, best iteration is:\n",
      "[12]\tvalid_0's auc: 0.710589\n",
      "Training until validation scores don't improve for 30 rounds\n"
     ]
    },
    {
     "name": "stderr",
     "output_type": "stream",
     "text": [
      "[I 2025-08-04 23:04:45,488] Trial 28 finished with value: 0.7770934869295526 and parameters: {'learning_rate': 0.1995133498452883, 'num_leaves': 40, 'max_depth': 4, 'min_child_samples': 15, 'feature_fraction': 0.634061108063116, 'bagging_fraction': 0.8958337474144287, 'lambda_l1': 0.004774059121554489, 'lambda_l2': 0.25180677424690967}. Best is trial 12 with value: 0.8177226406734603.\n"
     ]
    },
    {
     "name": "stdout",
     "output_type": "stream",
     "text": [
      "Early stopping, best iteration is:\n",
      "[18]\tvalid_0's auc: 0.777093\n",
      "Training until validation scores don't improve for 30 rounds\n"
     ]
    },
    {
     "name": "stderr",
     "output_type": "stream",
     "text": [
      "[I 2025-08-04 23:04:46,090] Trial 29 finished with value: 0.756978289765175 and parameters: {'learning_rate': 0.16914873334856417, 'num_leaves': 35, 'max_depth': 9, 'min_child_samples': 34, 'feature_fraction': 0.7310313744016103, 'bagging_fraction': 0.9479090002482993, 'lambda_l1': 0.6850436648566278, 'lambda_l2': 0.10332402967259205}. Best is trial 12 with value: 0.8177226406734603.\n"
     ]
    },
    {
     "name": "stdout",
     "output_type": "stream",
     "text": [
      "Early stopping, best iteration is:\n",
      "[22]\tvalid_0's auc: 0.756978\n"
     ]
    },
    {
     "name": "stderr",
     "output_type": "stream",
     "text": [
      "[I 2025-08-04 23:04:47,510] A new study created in memory with name: no-name-1eaf9bac-d1cd-49a6-a7c9-08370115c82c\n"
     ]
    },
    {
     "name": "stdout",
     "output_type": "stream",
     "text": [
      "📍 Training for label: SR-MMP\n",
      "Training until validation scores don't improve for 30 rounds\n"
     ]
    },
    {
     "name": "stderr",
     "output_type": "stream",
     "text": [
      "[I 2025-08-04 23:04:48,926] Trial 0 finished with value: 0.9242242375744643 and parameters: {'learning_rate': 0.1880933394497979, 'num_leaves': 77, 'max_depth': 9, 'min_child_samples': 18, 'feature_fraction': 0.7623486035646325, 'bagging_fraction': 0.8968559866742774, 'lambda_l1': 0.5055160561403875, 'lambda_l2': 0.6908703790056149}. Best is trial 0 with value: 0.9242242375744643.\n"
     ]
    },
    {
     "name": "stdout",
     "output_type": "stream",
     "text": [
      "Early stopping, best iteration is:\n",
      "[56]\tvalid_0's auc: 0.924224\n",
      "Training until validation scores don't improve for 30 rounds\n"
     ]
    },
    {
     "name": "stderr",
     "output_type": "stream",
     "text": [
      "[I 2025-08-04 23:04:49,665] Trial 1 finished with value: 0.9231350582377522 and parameters: {'learning_rate': 0.1745149198430486, 'num_leaves': 27, 'max_depth': 5, 'min_child_samples': 15, 'feature_fraction': 0.9622239440547191, 'bagging_fraction': 0.8439577775219405, 'lambda_l1': 0.45253288856496243, 'lambda_l2': 0.4390472706615165}. Best is trial 0 with value: 0.9242242375744643.\n"
     ]
    },
    {
     "name": "stdout",
     "output_type": "stream",
     "text": [
      "Early stopping, best iteration is:\n",
      "[45]\tvalid_0's auc: 0.923135\n",
      "Training until validation scores don't improve for 30 rounds\n"
     ]
    },
    {
     "name": "stderr",
     "output_type": "stream",
     "text": [
      "[I 2025-08-04 23:04:50,161] Trial 2 finished with value: 0.9273139503867698 and parameters: {'learning_rate': 0.1843800486900946, 'num_leaves': 24, 'max_depth': 4, 'min_child_samples': 25, 'feature_fraction': 0.9673424143309056, 'bagging_fraction': 0.614562991229957, 'lambda_l1': 0.1776230810829209, 'lambda_l2': 0.4852130660674636}. Best is trial 2 with value: 0.9273139503867698.\n"
     ]
    },
    {
     "name": "stdout",
     "output_type": "stream",
     "text": [
      "Did not meet early stopping. Best iteration is:\n",
      "[100]\tvalid_0's auc: 0.927314\n",
      "Training until validation scores don't improve for 30 rounds\n"
     ]
    },
    {
     "name": "stderr",
     "output_type": "stream",
     "text": [
      "[I 2025-08-04 23:04:51,465] Trial 3 finished with value: 0.9214234907086335 and parameters: {'learning_rate': 0.17087436038226175, 'num_leaves': 61, 'max_depth': 12, 'min_child_samples': 45, 'feature_fraction': 0.7646866075653347, 'bagging_fraction': 0.799990330490967, 'lambda_l1': 0.00641619766052659, 'lambda_l2': 0.9385451970785329}. Best is trial 2 with value: 0.9273139503867698.\n"
     ]
    },
    {
     "name": "stdout",
     "output_type": "stream",
     "text": [
      "Early stopping, best iteration is:\n",
      "[63]\tvalid_0's auc: 0.921423\n",
      "Training until validation scores don't improve for 30 rounds\n"
     ]
    },
    {
     "name": "stderr",
     "output_type": "stream",
     "text": [
      "[I 2025-08-04 23:04:51,828] Trial 4 finished with value: 0.9176891615541922 and parameters: {'learning_rate': 0.048459501029679865, 'num_leaves': 31, 'max_depth': 3, 'min_child_samples': 26, 'feature_fraction': 0.7914193444093723, 'bagging_fraction': 0.814037750477404, 'lambda_l1': 0.8962513909486298, 'lambda_l2': 0.449339305754875}. Best is trial 2 with value: 0.9273139503867698.\n"
     ]
    },
    {
     "name": "stdout",
     "output_type": "stream",
     "text": [
      "Did not meet early stopping. Best iteration is:\n",
      "[100]\tvalid_0's auc: 0.917689\n",
      "Training until validation scores don't improve for 30 rounds\n"
     ]
    },
    {
     "name": "stderr",
     "output_type": "stream",
     "text": [
      "[I 2025-08-04 23:04:52,176] Trial 5 finished with value: 0.9085533920156487 and parameters: {'learning_rate': 0.032607655918415156, 'num_leaves': 22, 'max_depth': 3, 'min_child_samples': 20, 'feature_fraction': 0.6294579156954582, 'bagging_fraction': 0.9943507255761713, 'lambda_l1': 0.26615126624299434, 'lambda_l2': 0.12131776057609833}. Best is trial 2 with value: 0.9273139503867698.\n"
     ]
    },
    {
     "name": "stdout",
     "output_type": "stream",
     "text": [
      "Did not meet early stopping. Best iteration is:\n",
      "[100]\tvalid_0's auc: 0.908553\n",
      "Training until validation scores don't improve for 30 rounds\n"
     ]
    },
    {
     "name": "stderr",
     "output_type": "stream",
     "text": [
      "[I 2025-08-04 23:04:53,402] Trial 6 finished with value: 0.9264470525473459 and parameters: {'learning_rate': 0.10534264191493208, 'num_leaves': 32, 'max_depth': 9, 'min_child_samples': 39, 'feature_fraction': 0.8567605894368455, 'bagging_fraction': 0.7365020319561623, 'lambda_l1': 0.42284969968660857, 'lambda_l2': 0.7663642256851398}. Best is trial 2 with value: 0.9273139503867698.\n"
     ]
    },
    {
     "name": "stdout",
     "output_type": "stream",
     "text": [
      "Did not meet early stopping. Best iteration is:\n",
      "[98]\tvalid_0's auc: 0.926447\n",
      "Training until validation scores don't improve for 30 rounds\n"
     ]
    },
    {
     "name": "stderr",
     "output_type": "stream",
     "text": [
      "[I 2025-08-04 23:04:53,742] Trial 7 finished with value: 0.9214457188583622 and parameters: {'learning_rate': 0.053182375334415166, 'num_leaves': 59, 'max_depth': 3, 'min_child_samples': 31, 'feature_fraction': 0.6826968979222443, 'bagging_fraction': 0.6323533194540445, 'lambda_l1': 0.4079430952210269, 'lambda_l2': 0.6129298931319572}. Best is trial 2 with value: 0.9273139503867698.\n"
     ]
    },
    {
     "name": "stdout",
     "output_type": "stream",
     "text": [
      "Did not meet early stopping. Best iteration is:\n",
      "[99]\tvalid_0's auc: 0.921446\n",
      "Training until validation scores don't improve for 30 rounds\n"
     ]
    },
    {
     "name": "stderr",
     "output_type": "stream",
     "text": [
      "[I 2025-08-04 23:04:55,221] Trial 8 finished with value: 0.928869920867787 and parameters: {'learning_rate': 0.12620298569532729, 'num_leaves': 67, 'max_depth': 10, 'min_child_samples': 19, 'feature_fraction': 0.7030078215969914, 'bagging_fraction': 0.9956817480126885, 'lambda_l1': 0.4494250420189636, 'lambda_l2': 0.9544036426347422}. Best is trial 8 with value: 0.928869920867787.\n"
     ]
    },
    {
     "name": "stdout",
     "output_type": "stream",
     "text": [
      "Did not meet early stopping. Best iteration is:\n",
      "[75]\tvalid_0's auc: 0.92887\n",
      "Training until validation scores don't improve for 30 rounds\n"
     ]
    },
    {
     "name": "stderr",
     "output_type": "stream",
     "text": [
      "[I 2025-08-04 23:04:56,215] Trial 9 finished with value: 0.919178447586023 and parameters: {'learning_rate': 0.12786221774218096, 'num_leaves': 44, 'max_depth': 8, 'min_child_samples': 10, 'feature_fraction': 0.7745740660150136, 'bagging_fraction': 0.9275158596949973, 'lambda_l1': 0.5820139788148446, 'lambda_l2': 0.49924707857310713}. Best is trial 8 with value: 0.928869920867787.\n"
     ]
    },
    {
     "name": "stdout",
     "output_type": "stream",
     "text": [
      "Early stopping, best iteration is:\n",
      "[37]\tvalid_0's auc: 0.919178\n",
      "Training until validation scores don't improve for 30 rounds\n"
     ]
    },
    {
     "name": "stderr",
     "output_type": "stream",
     "text": [
      "[I 2025-08-04 23:04:57,392] Trial 10 finished with value: 0.9222681603983284 and parameters: {'learning_rate': 0.13246330003872744, 'num_leaves': 74, 'max_depth': 12, 'min_child_samples': 36, 'feature_fraction': 0.676007156661883, 'bagging_fraction': 0.9941929491370929, 'lambda_l1': 0.7552166069607327, 'lambda_l2': 0.9479567071733602}. Best is trial 8 with value: 0.928869920867787.\n"
     ]
    },
    {
     "name": "stdout",
     "output_type": "stream",
     "text": [
      "Did not meet early stopping. Best iteration is:\n",
      "[91]\tvalid_0's auc: 0.922268\n",
      "Training until validation scores don't improve for 30 rounds\n"
     ]
    },
    {
     "name": "stderr",
     "output_type": "stream",
     "text": [
      "[I 2025-08-04 23:04:58,131] Trial 11 finished with value: 0.9230016893393793 and parameters: {'learning_rate': 0.14579336492988665, 'num_leaves': 44, 'max_depth': 6, 'min_child_samples': 26, 'feature_fraction': 0.9829688476355255, 'bagging_fraction': 0.662041836623048, 'lambda_l1': 0.13733933334496357, 'lambda_l2': 0.2333160010529446}. Best is trial 8 with value: 0.928869920867787.\n"
     ]
    },
    {
     "name": "stdout",
     "output_type": "stream",
     "text": [
      "Early stopping, best iteration is:\n",
      "[41]\tvalid_0's auc: 0.923002\n",
      "Training until validation scores don't improve for 30 rounds\n"
     ]
    },
    {
     "name": "stderr",
     "output_type": "stream",
     "text": [
      "[I 2025-08-04 23:04:59,984] Trial 12 finished with value: 0.9320263181292788 and parameters: {'learning_rate': 0.08074424624131288, 'num_leaves': 65, 'max_depth': 10, 'min_child_samples': 23, 'feature_fraction': 0.8865160217952279, 'bagging_fraction': 0.7128522358997569, 'lambda_l1': 0.2233714873528858, 'lambda_l2': 0.3001452983562788}. Best is trial 12 with value: 0.9320263181292788.\n"
     ]
    },
    {
     "name": "stdout",
     "output_type": "stream",
     "text": [
      "Did not meet early stopping. Best iteration is:\n",
      "[71]\tvalid_0's auc: 0.932026\n",
      "Training until validation scores don't improve for 30 rounds\n"
     ]
    },
    {
     "name": "stderr",
     "output_type": "stream",
     "text": [
      "[I 2025-08-04 23:05:01,650] Trial 13 finished with value: 0.9256690673068374 and parameters: {'learning_rate': 0.0779658724393429, 'num_leaves': 66, 'max_depth': 10, 'min_child_samples': 10, 'feature_fraction': 0.8650949255562457, 'bagging_fraction': 0.7376701954230052, 'lambda_l1': 0.2611304688211308, 'lambda_l2': 0.28345750572370504}. Best is trial 12 with value: 0.9320263181292788.\n"
     ]
    },
    {
     "name": "stdout",
     "output_type": "stream",
     "text": [
      "Early stopping, best iteration is:\n",
      "[42]\tvalid_0's auc: 0.925669\n",
      "Training until validation scores don't improve for 30 rounds\n"
     ]
    },
    {
     "name": "stderr",
     "output_type": "stream",
     "text": [
      "[I 2025-08-04 23:05:03,454] Trial 14 finished with value: 0.9276696007824309 and parameters: {'learning_rate': 0.09185705763352528, 'num_leaves': 70, 'max_depth': 11, 'min_child_samples': 20, 'feature_fraction': 0.8831121180037813, 'bagging_fraction': 0.705441699391684, 'lambda_l1': 0.71843591966376, 'lambda_l2': 0.011147260367902478}. Best is trial 12 with value: 0.9320263181292788.\n"
     ]
    },
    {
     "name": "stdout",
     "output_type": "stream",
     "text": [
      "Did not meet early stopping. Best iteration is:\n",
      "[100]\tvalid_0's auc: 0.92767\n",
      "Training until validation scores don't improve for 30 rounds\n"
     ]
    },
    {
     "name": "stderr",
     "output_type": "stream",
     "text": [
      "[I 2025-08-04 23:05:04,461] Trial 15 finished with value: 0.9208455588156841 and parameters: {'learning_rate': 0.07090291971218331, 'num_leaves': 52, 'max_depth': 7, 'min_child_samples': 32, 'feature_fraction': 0.6974369924381628, 'bagging_fraction': 0.7748300335944273, 'lambda_l1': 0.31891115131297904, 'lambda_l2': 0.2969270844049705}. Best is trial 12 with value: 0.9320263181292788.\n"
     ]
    },
    {
     "name": "stdout",
     "output_type": "stream",
     "text": [
      "Did not meet early stopping. Best iteration is:\n",
      "[97]\tvalid_0's auc: 0.920846\n",
      "Training until validation scores don't improve for 30 rounds\n"
     ]
    },
    {
     "name": "stderr",
     "output_type": "stream",
     "text": [
      "[I 2025-08-04 23:05:05,511] Trial 16 finished with value: 0.9188450253400906 and parameters: {'learning_rate': 0.014046848480169169, 'num_leaves': 55, 'max_depth': 10, 'min_child_samples': 50, 'feature_fraction': 0.9050755010910978, 'bagging_fraction': 0.8787977643155507, 'lambda_l1': 0.0047124587145984664, 'lambda_l2': 0.6340529048277471}. Best is trial 12 with value: 0.9320263181292788.\n"
     ]
    },
    {
     "name": "stdout",
     "output_type": "stream",
     "text": [
      "Early stopping, best iteration is:\n",
      "[44]\tvalid_0's auc: 0.918845\n",
      "Training until validation scores don't improve for 30 rounds\n"
     ]
    },
    {
     "name": "stderr",
     "output_type": "stream",
     "text": [
      "[I 2025-08-04 23:05:06,865] Trial 17 finished with value: 0.9312927891882279 and parameters: {'learning_rate': 0.11232453122178032, 'num_leaves': 80, 'max_depth': 10, 'min_child_samples': 23, 'feature_fraction': 0.6127121118494835, 'bagging_fraction': 0.689110434597916, 'lambda_l1': 0.6077013025305107, 'lambda_l2': 0.832805627942667}. Best is trial 12 with value: 0.9320263181292788.\n"
     ]
    },
    {
     "name": "stdout",
     "output_type": "stream",
     "text": [
      "Did not meet early stopping. Best iteration is:\n",
      "[99]\tvalid_0's auc: 0.931293\n",
      "Training until validation scores don't improve for 30 rounds\n"
     ]
    },
    {
     "name": "stderr",
     "output_type": "stream",
     "text": [
      "[I 2025-08-04 23:05:08,049] Trial 18 finished with value: 0.9187783408909043 and parameters: {'learning_rate': 0.09147708449101549, 'num_leaves': 77, 'max_depth': 8, 'min_child_samples': 25, 'feature_fraction': 0.6257985021369824, 'bagging_fraction': 0.6730625010209872, 'lambda_l1': 0.6538879247560427, 'lambda_l2': 0.8484311038508882}. Best is trial 12 with value: 0.9320263181292788.\n"
     ]
    },
    {
     "name": "stdout",
     "output_type": "stream",
     "text": [
      "Did not meet early stopping. Best iteration is:\n",
      "[95]\tvalid_0's auc: 0.918778\n",
      "Training until validation scores don't improve for 30 rounds\n"
     ]
    },
    {
     "name": "stderr",
     "output_type": "stream",
     "text": [
      "[I 2025-08-04 23:05:09,321] Trial 19 finished with value: 0.930914910642838 and parameters: {'learning_rate': 0.10808204479702271, 'num_leaves': 79, 'max_depth': 11, 'min_child_samples': 35, 'feature_fraction': 0.8347655794058471, 'bagging_fraction': 0.7161648088140807, 'lambda_l1': 0.9903096245691763, 'lambda_l2': 0.1679641586919528}. Best is trial 12 with value: 0.9320263181292788.\n"
     ]
    },
    {
     "name": "stdout",
     "output_type": "stream",
     "text": [
      "Early stopping, best iteration is:\n",
      "[61]\tvalid_0's auc: 0.930915\n",
      "Training until validation scores don't improve for 30 rounds\n"
     ]
    },
    {
     "name": "stderr",
     "output_type": "stream",
     "text": [
      "[I 2025-08-04 23:05:10,334] Trial 20 finished with value: 0.9248243976171424 and parameters: {'learning_rate': 0.14996792912450604, 'num_leaves': 71, 'max_depth': 7, 'min_child_samples': 16, 'feature_fraction': 0.9192081498653506, 'bagging_fraction': 0.7692551136715686, 'lambda_l1': 0.8275261217417353, 'lambda_l2': 0.37702148821080983}. Best is trial 12 with value: 0.9320263181292788.\n"
     ]
    },
    {
     "name": "stdout",
     "output_type": "stream",
     "text": [
      "Early stopping, best iteration is:\n",
      "[37]\tvalid_0's auc: 0.924824\n",
      "Training until validation scores don't improve for 30 rounds\n"
     ]
    },
    {
     "name": "stderr",
     "output_type": "stream",
     "text": [
      "[I 2025-08-04 23:05:11,634] Trial 21 finished with value: 0.9294033964612786 and parameters: {'learning_rate': 0.10587092370666674, 'num_leaves': 79, 'max_depth': 11, 'min_child_samples': 36, 'feature_fraction': 0.8347852489584352, 'bagging_fraction': 0.7024769121925778, 'lambda_l1': 0.9004894528342539, 'lambda_l2': 0.15444203195742937}. Best is trial 12 with value: 0.9320263181292788.\n"
     ]
    },
    {
     "name": "stdout",
     "output_type": "stream",
     "text": [
      "Early stopping, best iteration is:\n",
      "[58]\tvalid_0's auc: 0.929403\n",
      "Training until validation scores don't improve for 30 rounds\n"
     ]
    },
    {
     "name": "stderr",
     "output_type": "stream",
     "text": [
      "[I 2025-08-04 23:05:13,070] Trial 22 finished with value: 0.9296479061082956 and parameters: {'learning_rate': 0.11293201456984128, 'num_leaves': 80, 'max_depth': 11, 'min_child_samples': 29, 'feature_fraction': 0.8299841054875454, 'bagging_fraction': 0.663216884465107, 'lambda_l1': 0.957868345497755, 'lambda_l2': 0.09042299892450967}. Best is trial 12 with value: 0.9320263181292788.\n"
     ]
    },
    {
     "name": "stdout",
     "output_type": "stream",
     "text": [
      "Did not meet early stopping. Best iteration is:\n",
      "[79]\tvalid_0's auc: 0.929648\n",
      "Training until validation scores don't improve for 30 rounds\n"
     ]
    },
    {
     "name": "stderr",
     "output_type": "stream",
     "text": [
      "[I 2025-08-04 23:05:14,438] Trial 23 finished with value: 0.928981061616431 and parameters: {'learning_rate': 0.07464671375536486, 'num_leaves': 63, 'max_depth': 9, 'min_child_samples': 40, 'feature_fraction': 0.9309399734881724, 'bagging_fraction': 0.7242221961845756, 'lambda_l1': 0.5721958190600621, 'lambda_l2': 0.31441662222298417}. Best is trial 12 with value: 0.9320263181292788.\n"
     ]
    },
    {
     "name": "stdout",
     "output_type": "stream",
     "text": [
      "Did not meet early stopping. Best iteration is:\n",
      "[97]\tvalid_0's auc: 0.928981\n",
      "Training until validation scores don't improve for 30 rounds\n"
     ]
    },
    {
     "name": "stderr",
     "output_type": "stream",
     "text": [
      "[I 2025-08-04 23:05:15,718] Trial 24 finished with value: 0.9296034498088379 and parameters: {'learning_rate': 0.09003663933068412, 'num_leaves': 67, 'max_depth': 12, 'min_child_samples': 34, 'feature_fraction': 0.8148831465273532, 'bagging_fraction': 0.6837753881078883, 'lambda_l1': 0.9991092619082478, 'lambda_l2': 0.19450670234927825}. Best is trial 12 with value: 0.9320263181292788.\n"
     ]
    },
    {
     "name": "stdout",
     "output_type": "stream",
     "text": [
      "Early stopping, best iteration is:\n",
      "[54]\tvalid_0's auc: 0.929603\n",
      "Training until validation scores don't improve for 30 rounds\n"
     ]
    },
    {
     "name": "stderr",
     "output_type": "stream",
     "text": [
      "[I 2025-08-04 23:05:16,931] Trial 25 finished with value: 0.9210678403129723 and parameters: {'learning_rate': 0.11684824042435543, 'num_leaves': 73, 'max_depth': 10, 'min_child_samples': 29, 'feature_fraction': 0.7286712743394032, 'bagging_fraction': 0.636871178380008, 'lambda_l1': 0.7877511194178497, 'lambda_l2': 0.055847458534476646}. Best is trial 12 with value: 0.9320263181292788.\n"
     ]
    },
    {
     "name": "stdout",
     "output_type": "stream",
     "text": [
      "Early stopping, best iteration is:\n",
      "[56]\tvalid_0's auc: 0.921068\n",
      "Training until validation scores don't improve for 30 rounds\n"
     ]
    },
    {
     "name": "stderr",
     "output_type": "stream",
     "text": [
      "[I 2025-08-04 23:05:18,444] Trial 26 finished with value: 0.9254912421090069 and parameters: {'learning_rate': 0.05860550100328709, 'num_leaves': 74, 'max_depth': 11, 'min_child_samples': 22, 'feature_fraction': 0.606716912705356, 'bagging_fraction': 0.7549541754715591, 'lambda_l1': 0.6726072318101748, 'lambda_l2': 0.23845853307246057}. Best is trial 12 with value: 0.9320263181292788.\n"
     ]
    },
    {
     "name": "stdout",
     "output_type": "stream",
     "text": [
      "Did not meet early stopping. Best iteration is:\n",
      "[91]\tvalid_0's auc: 0.925491\n",
      "Training until validation scores don't improve for 30 rounds\n"
     ]
    },
    {
     "name": "stderr",
     "output_type": "stream",
     "text": [
      "[I 2025-08-04 23:05:19,428] Trial 27 finished with value: 0.9323597403752113 and parameters: {'learning_rate': 0.1509811650137557, 'num_leaves': 58, 'max_depth': 9, 'min_child_samples': 22, 'feature_fraction': 0.8873234834774538, 'bagging_fraction': 0.6970532027516806, 'lambda_l1': 0.14802102674798212, 'lambda_l2': 0.3781837073713474}. Best is trial 27 with value: 0.9323597403752113.\n"
     ]
    },
    {
     "name": "stdout",
     "output_type": "stream",
     "text": [
      "Early stopping, best iteration is:\n",
      "[23]\tvalid_0's auc: 0.93236\n",
      "Training until validation scores don't improve for 30 rounds\n"
     ]
    },
    {
     "name": "stderr",
     "output_type": "stream",
     "text": [
      "[I 2025-08-04 23:05:20,319] Trial 28 finished with value: 0.9192673601849382 and parameters: {'learning_rate': 0.15500639548928521, 'num_leaves': 45, 'max_depth': 8, 'min_child_samples': 13, 'feature_fraction': 0.9405966510156756, 'bagging_fraction': 0.6459970429919589, 'lambda_l1': 0.1069646760111338, 'lambda_l2': 0.5639555800362173}. Best is trial 27 with value: 0.9323597403752113.\n"
     ]
    },
    {
     "name": "stdout",
     "output_type": "stream",
     "text": [
      "Early stopping, best iteration is:\n",
      "[21]\tvalid_0's auc: 0.919267\n",
      "Training until validation scores don't improve for 30 rounds\n"
     ]
    },
    {
     "name": "stderr",
     "output_type": "stream",
     "text": [
      "[I 2025-08-04 23:05:21,438] Trial 29 finished with value: 0.9222681603983286 and parameters: {'learning_rate': 0.19982815355117897, 'num_leaves': 55, 'max_depth': 9, 'min_child_samples': 23, 'feature_fraction': 0.8865688779744034, 'bagging_fraction': 0.6054266308403561, 'lambda_l1': 0.21923848442657723, 'lambda_l2': 0.7162363578217361}. Best is trial 27 with value: 0.9323597403752113.\n"
     ]
    },
    {
     "name": "stdout",
     "output_type": "stream",
     "text": [
      "Early stopping, best iteration is:\n",
      "[38]\tvalid_0's auc: 0.922268\n"
     ]
    },
    {
     "name": "stderr",
     "output_type": "stream",
     "text": [
      "[I 2025-08-04 23:05:24,142] A new study created in memory with name: no-name-857e4e3e-c996-4d39-a036-a0e4bdc84541\n"
     ]
    },
    {
     "name": "stdout",
     "output_type": "stream",
     "text": [
      "📍 Training for label: SR-p53\n",
      "Training until validation scores don't improve for 30 rounds\n"
     ]
    },
    {
     "name": "stderr",
     "output_type": "stream",
     "text": [
      "[I 2025-08-04 23:05:24,854] Trial 0 finished with value: 0.8369703787026622 and parameters: {'learning_rate': 0.1794634481240976, 'num_leaves': 47, 'max_depth': 4, 'min_child_samples': 23, 'feature_fraction': 0.8232194272696374, 'bagging_fraction': 0.9985771751659023, 'lambda_l1': 0.9494053575739733, 'lambda_l2': 0.799247920105816}. Best is trial 0 with value: 0.8369703787026622.\n"
     ]
    },
    {
     "name": "stdout",
     "output_type": "stream",
     "text": [
      "Did not meet early stopping. Best iteration is:\n",
      "[85]\tvalid_0's auc: 0.83697\n",
      "Training until validation scores don't improve for 30 rounds\n"
     ]
    },
    {
     "name": "stderr",
     "output_type": "stream",
     "text": [
      "[I 2025-08-04 23:05:25,613] Trial 1 finished with value: 0.8875515560554931 and parameters: {'learning_rate': 0.09108841358076651, 'num_leaves': 39, 'max_depth': 7, 'min_child_samples': 44, 'feature_fraction': 0.6284348015814886, 'bagging_fraction': 0.6764668957170016, 'lambda_l1': 0.8056698681090427, 'lambda_l2': 0.07229573232020714}. Best is trial 1 with value: 0.8875515560554931.\n"
     ]
    },
    {
     "name": "stdout",
     "output_type": "stream",
     "text": [
      "Did not meet early stopping. Best iteration is:\n",
      "[89]\tvalid_0's auc: 0.887552\n",
      "Training until validation scores don't improve for 30 rounds\n"
     ]
    },
    {
     "name": "stderr",
     "output_type": "stream",
     "text": [
      "[I 2025-08-04 23:05:26,136] Trial 2 finished with value: 0.8777652793400824 and parameters: {'learning_rate': 0.052643909294029345, 'num_leaves': 34, 'max_depth': 4, 'min_child_samples': 26, 'feature_fraction': 0.9889177192813767, 'bagging_fraction': 0.9736952621062378, 'lambda_l1': 0.6295236576144455, 'lambda_l2': 0.7375309318860643}. Best is trial 1 with value: 0.8875515560554931.\n"
     ]
    },
    {
     "name": "stdout",
     "output_type": "stream",
     "text": [
      "Did not meet early stopping. Best iteration is:\n",
      "[95]\tvalid_0's auc: 0.877765\n",
      "Training until validation scores don't improve for 30 rounds\n"
     ]
    },
    {
     "name": "stderr",
     "output_type": "stream",
     "text": [
      "[I 2025-08-04 23:05:26,978] Trial 3 finished with value: 0.8365579302587176 and parameters: {'learning_rate': 0.17833486777051488, 'num_leaves': 77, 'max_depth': 10, 'min_child_samples': 35, 'feature_fraction': 0.8731518797733318, 'bagging_fraction': 0.716422941632815, 'lambda_l1': 0.2590705877851519, 'lambda_l2': 0.7613555838143801}. Best is trial 1 with value: 0.8875515560554931.\n"
     ]
    },
    {
     "name": "stdout",
     "output_type": "stream",
     "text": [
      "Early stopping, best iteration is:\n",
      "[23]\tvalid_0's auc: 0.836558\n",
      "Training until validation scores don't improve for 30 rounds\n"
     ]
    },
    {
     "name": "stderr",
     "output_type": "stream",
     "text": [
      "[I 2025-08-04 23:05:27,557] Trial 4 finished with value: 0.8589426321709785 and parameters: {'learning_rate': 0.10006549984205382, 'num_leaves': 28, 'max_depth': 6, 'min_child_samples': 20, 'feature_fraction': 0.8420628695799419, 'bagging_fraction': 0.6806367236449998, 'lambda_l1': 0.26441361850883116, 'lambda_l2': 0.9467556073175312}. Best is trial 1 with value: 0.8875515560554931.\n"
     ]
    },
    {
     "name": "stdout",
     "output_type": "stream",
     "text": [
      "Early stopping, best iteration is:\n",
      "[38]\tvalid_0's auc: 0.858943\n",
      "Training until validation scores don't improve for 30 rounds\n"
     ]
    },
    {
     "name": "stderr",
     "output_type": "stream",
     "text": [
      "[I 2025-08-04 23:05:28,546] Trial 5 finished with value: 0.8472815898012749 and parameters: {'learning_rate': 0.14460391468686712, 'num_leaves': 48, 'max_depth': 8, 'min_child_samples': 36, 'feature_fraction': 0.7075178316728358, 'bagging_fraction': 0.647036944006667, 'lambda_l1': 0.6989063361091721, 'lambda_l2': 0.03351169840211088}. Best is trial 1 with value: 0.8875515560554931.\n"
     ]
    },
    {
     "name": "stdout",
     "output_type": "stream",
     "text": [
      "Did not meet early stopping. Best iteration is:\n",
      "[86]\tvalid_0's auc: 0.847282\n",
      "Training until validation scores don't improve for 30 rounds\n"
     ]
    },
    {
     "name": "stderr",
     "output_type": "stream",
     "text": [
      "[I 2025-08-04 23:05:29,433] Trial 6 finished with value: 0.8857892763404575 and parameters: {'learning_rate': 0.15239247140803505, 'num_leaves': 65, 'max_depth': 7, 'min_child_samples': 48, 'feature_fraction': 0.819104459979754, 'bagging_fraction': 0.8287489069757898, 'lambda_l1': 0.9929491112564396, 'lambda_l2': 0.04744924118478866}. Best is trial 1 with value: 0.8875515560554931.\n"
     ]
    },
    {
     "name": "stdout",
     "output_type": "stream",
     "text": [
      "Did not meet early stopping. Best iteration is:\n",
      "[97]\tvalid_0's auc: 0.885789\n",
      "Training until validation scores don't improve for 30 rounds\n"
     ]
    },
    {
     "name": "stderr",
     "output_type": "stream",
     "text": [
      "[I 2025-08-04 23:05:30,898] Trial 7 finished with value: 0.8699287589051368 and parameters: {'learning_rate': 0.03938842334149219, 'num_leaves': 36, 'max_depth': 12, 'min_child_samples': 19, 'feature_fraction': 0.8656032905859503, 'bagging_fraction': 0.8674482517727016, 'lambda_l1': 0.05356801156230129, 'lambda_l2': 0.9435772590460485}. Best is trial 1 with value: 0.8875515560554931.\n"
     ]
    },
    {
     "name": "stdout",
     "output_type": "stream",
     "text": [
      "Did not meet early stopping. Best iteration is:\n",
      "[98]\tvalid_0's auc: 0.869929\n",
      "Training until validation scores don't improve for 30 rounds\n"
     ]
    },
    {
     "name": "stderr",
     "output_type": "stream",
     "text": [
      "[I 2025-08-04 23:05:32,023] Trial 8 finished with value: 0.8757405324334459 and parameters: {'learning_rate': 0.11715458714678319, 'num_leaves': 30, 'max_depth': 11, 'min_child_samples': 23, 'feature_fraction': 0.6888940706643275, 'bagging_fraction': 0.6365641893254729, 'lambda_l1': 0.973985680830551, 'lambda_l2': 0.0939338061111532}. Best is trial 1 with value: 0.8875515560554931.\n"
     ]
    },
    {
     "name": "stdout",
     "output_type": "stream",
     "text": [
      "Did not meet early stopping. Best iteration is:\n",
      "[76]\tvalid_0's auc: 0.875741\n",
      "Training until validation scores don't improve for 30 rounds\n"
     ]
    },
    {
     "name": "stderr",
     "output_type": "stream",
     "text": [
      "[I 2025-08-04 23:05:32,381] Trial 9 finished with value: 0.8739407574053244 and parameters: {'learning_rate': 0.12799575838898827, 'num_leaves': 21, 'max_depth': 3, 'min_child_samples': 36, 'feature_fraction': 0.9192128252676111, 'bagging_fraction': 0.7382955480622603, 'lambda_l1': 0.12924324419824829, 'lambda_l2': 0.12656940895689206}. Best is trial 1 with value: 0.8875515560554931.\n"
     ]
    },
    {
     "name": "stdout",
     "output_type": "stream",
     "text": [
      "Did not meet early stopping. Best iteration is:\n",
      "[91]\tvalid_0's auc: 0.873941\n",
      "Training until validation scores don't improve for 30 rounds\n"
     ]
    },
    {
     "name": "stderr",
     "output_type": "stream",
     "text": [
      "[I 2025-08-04 23:05:33,393] Trial 10 finished with value: 0.8778402699662542 and parameters: {'learning_rate': 0.07699024517925661, 'num_leaves': 67, 'max_depth': 9, 'min_child_samples': 50, 'feature_fraction': 0.6074252947471216, 'bagging_fraction': 0.7741300328553429, 'lambda_l1': 0.7422040181561038, 'lambda_l2': 0.35632030549265764}. Best is trial 1 with value: 0.8875515560554931.\n"
     ]
    },
    {
     "name": "stdout",
     "output_type": "stream",
     "text": [
      "Did not meet early stopping. Best iteration is:\n",
      "[91]\tvalid_0's auc: 0.87784\n",
      "Training until validation scores don't improve for 30 rounds\n"
     ]
    },
    {
     "name": "stderr",
     "output_type": "stream",
     "text": [
      "[I 2025-08-04 23:05:34,158] Trial 11 finished with value: 0.879002624671916 and parameters: {'learning_rate': 0.15424889658736596, 'num_leaves': 62, 'max_depth': 6, 'min_child_samples': 50, 'feature_fraction': 0.732949523739779, 'bagging_fraction': 0.8449922437073543, 'lambda_l1': 0.8341939550210202, 'lambda_l2': 0.29521600016041083}. Best is trial 1 with value: 0.8875515560554931.\n"
     ]
    },
    {
     "name": "stdout",
     "output_type": "stream",
     "text": [
      "Did not meet early stopping. Best iteration is:\n",
      "[85]\tvalid_0's auc: 0.879003\n",
      "Training until validation scores don't improve for 30 rounds\n"
     ]
    },
    {
     "name": "stderr",
     "output_type": "stream",
     "text": [
      "[I 2025-08-04 23:05:35,044] Trial 12 finished with value: 0.8820772403449569 and parameters: {'learning_rate': 0.0816684964326318, 'num_leaves': 62, 'max_depth': 7, 'min_child_samples': 44, 'feature_fraction': 0.7547468269134214, 'bagging_fraction': 0.8473004635464614, 'lambda_l1': 0.49923594596677834, 'lambda_l2': 0.2541355579404842}. Best is trial 1 with value: 0.8875515560554931.\n"
     ]
    },
    {
     "name": "stdout",
     "output_type": "stream",
     "text": [
      "Did not meet early stopping. Best iteration is:\n",
      "[95]\tvalid_0's auc: 0.882077\n",
      "Training until validation scores don't improve for 30 rounds\n"
     ]
    },
    {
     "name": "stderr",
     "output_type": "stream",
     "text": [
      "[I 2025-08-04 23:05:35,719] Trial 13 finished with value: 0.8521184851893513 and parameters: {'learning_rate': 0.1547940399039184, 'num_leaves': 53, 'max_depth': 6, 'min_child_samples': 42, 'feature_fraction': 0.6024357121949007, 'bagging_fraction': 0.9133750829552503, 'lambda_l1': 0.5199749836352573, 'lambda_l2': 0.5081448002308095}. Best is trial 1 with value: 0.8875515560554931.\n"
     ]
    },
    {
     "name": "stdout",
     "output_type": "stream",
     "text": [
      "Did not meet early stopping. Best iteration is:\n",
      "[86]\tvalid_0's auc: 0.852118\n",
      "Training until validation scores don't improve for 30 rounds\n"
     ]
    },
    {
     "name": "stderr",
     "output_type": "stream",
     "text": [
      "[I 2025-08-04 23:05:36,824] Trial 14 finished with value: 0.8764904386951631 and parameters: {'learning_rate': 0.1954055755940602, 'num_leaves': 78, 'max_depth': 8, 'min_child_samples': 13, 'feature_fraction': 0.7712545300766691, 'bagging_fraction': 0.7853055402261132, 'lambda_l1': 0.8598664630082808, 'lambda_l2': 0.4825055470928149}. Best is trial 1 with value: 0.8875515560554931.\n"
     ]
    },
    {
     "name": "stdout",
     "output_type": "stream",
     "text": [
      "Did not meet early stopping. Best iteration is:\n",
      "[71]\tvalid_0's auc: 0.87649\n",
      "Training until validation scores don't improve for 30 rounds\n"
     ]
    },
    {
     "name": "stderr",
     "output_type": "stream",
     "text": [
      "[I 2025-08-04 23:05:37,562] Trial 15 finished with value: 0.8739782527184102 and parameters: {'learning_rate': 0.09290245312909642, 'num_leaves': 41, 'max_depth': 7, 'min_child_samples': 43, 'feature_fraction': 0.6721462463269894, 'bagging_fraction': 0.7195947937578426, 'lambda_l1': 0.9926035938597477, 'lambda_l2': 0.19229650210658267}. Best is trial 1 with value: 0.8875515560554931.\n"
     ]
    },
    {
     "name": "stdout",
     "output_type": "stream",
     "text": [
      "Early stopping, best iteration is:\n",
      "[58]\tvalid_0's auc: 0.873978\n",
      "Training until validation scores don't improve for 30 rounds\n"
     ]
    },
    {
     "name": "stderr",
     "output_type": "stream",
     "text": [
      "[I 2025-08-04 23:05:38,310] Trial 16 finished with value: 0.8444319460067491 and parameters: {'learning_rate': 0.012399013666462524, 'num_leaves': 56, 'max_depth': 5, 'min_child_samples': 46, 'feature_fraction': 0.7947270113975353, 'bagging_fraction': 0.6014379367926294, 'lambda_l1': 0.8242559433841048, 'lambda_l2': 0.0015536076656224446}. Best is trial 1 with value: 0.8875515560554931.\n"
     ]
    },
    {
     "name": "stdout",
     "output_type": "stream",
     "text": [
      "Did not meet early stopping. Best iteration is:\n",
      "[100]\tvalid_0's auc: 0.844432\n",
      "Training until validation scores don't improve for 30 rounds\n"
     ]
    },
    {
     "name": "stderr",
     "output_type": "stream",
     "text": [
      "[I 2025-08-04 23:05:39,535] Trial 17 finished with value: 0.8999250093738282 and parameters: {'learning_rate': 0.12721273310729625, 'num_leaves': 72, 'max_depth': 9, 'min_child_samples': 39, 'feature_fraction': 0.654815870239227, 'bagging_fraction': 0.9248278994662917, 'lambda_l1': 0.5775196265489522, 'lambda_l2': 0.42186138526621453}. Best is trial 17 with value: 0.8999250093738282.\n"
     ]
    },
    {
     "name": "stdout",
     "output_type": "stream",
     "text": [
      "Did not meet early stopping. Best iteration is:\n",
      "[100]\tvalid_0's auc: 0.899925\n",
      "Training until validation scores don't improve for 30 rounds\n"
     ]
    },
    {
     "name": "stderr",
     "output_type": "stream",
     "text": [
      "[I 2025-08-04 23:05:40,791] Trial 18 finished with value: 0.8838770153730784 and parameters: {'learning_rate': 0.06582849326944713, 'num_leaves': 72, 'max_depth': 9, 'min_child_samples': 32, 'feature_fraction': 0.6536710769512064, 'bagging_fraction': 0.916757134245131, 'lambda_l1': 0.5037492281918573, 'lambda_l2': 0.5688170406230306}. Best is trial 17 with value: 0.8999250093738282.\n"
     ]
    },
    {
     "name": "stdout",
     "output_type": "stream",
     "text": [
      "Did not meet early stopping. Best iteration is:\n",
      "[99]\tvalid_0's auc: 0.883877\n",
      "Training until validation scores don't improve for 30 rounds\n"
     ]
    },
    {
     "name": "stderr",
     "output_type": "stream",
     "text": [
      "[I 2025-08-04 23:05:41,895] Trial 19 finished with value: 0.8755155605549306 and parameters: {'learning_rate': 0.12765390719335415, 'num_leaves': 43, 'max_depth': 10, 'min_child_samples': 39, 'feature_fraction': 0.6348243658959517, 'bagging_fraction': 0.916537354736679, 'lambda_l1': 0.38547143937370043, 'lambda_l2': 0.42955307666407055}. Best is trial 17 with value: 0.8999250093738282.\n"
     ]
    },
    {
     "name": "stdout",
     "output_type": "stream",
     "text": [
      "Did not meet early stopping. Best iteration is:\n",
      "[83]\tvalid_0's auc: 0.875516\n",
      "Training until validation scores don't improve for 30 rounds\n"
     ]
    },
    {
     "name": "stderr",
     "output_type": "stream",
     "text": [
      "[I 2025-08-04 23:05:42,887] Trial 20 finished with value: 0.8609298837645295 and parameters: {'learning_rate': 0.11054996907397406, 'num_leaves': 56, 'max_depth': 9, 'min_child_samples': 30, 'feature_fraction': 0.716712357201965, 'bagging_fraction': 0.9573473830367951, 'lambda_l1': 0.6208918736534232, 'lambda_l2': 0.6278978616956795}. Best is trial 17 with value: 0.8999250093738282.\n"
     ]
    },
    {
     "name": "stdout",
     "output_type": "stream",
     "text": [
      "Early stopping, best iteration is:\n",
      "[48]\tvalid_0's auc: 0.86093\n",
      "Training until validation scores don't improve for 30 rounds\n"
     ]
    },
    {
     "name": "stderr",
     "output_type": "stream",
     "text": [
      "[I 2025-08-04 23:05:43,563] Trial 21 finished with value: 0.8865766779152606 and parameters: {'learning_rate': 0.13950518181778204, 'num_leaves': 67, 'max_depth': 7, 'min_child_samples': 46, 'feature_fraction': 0.6387078536087347, 'bagging_fraction': 0.8099479293490658, 'lambda_l1': 0.8806956491278857, 'lambda_l2': 0.1598332054755455}. Best is trial 17 with value: 0.8999250093738282.\n"
     ]
    },
    {
     "name": "stdout",
     "output_type": "stream",
     "text": [
      "Early stopping, best iteration is:\n",
      "[48]\tvalid_0's auc: 0.886577\n",
      "Training until validation scores don't improve for 30 rounds\n"
     ]
    },
    {
     "name": "stderr",
     "output_type": "stream",
     "text": [
      "[I 2025-08-04 23:05:44,592] Trial 22 finished with value: 0.8968503937007875 and parameters: {'learning_rate': 0.12987798935216457, 'num_leaves': 72, 'max_depth': 8, 'min_child_samples': 40, 'feature_fraction': 0.6324187039505301, 'bagging_fraction': 0.8807855542612648, 'lambda_l1': 0.748462415417895, 'lambda_l2': 0.1712666742433447}. Best is trial 17 with value: 0.8999250093738282.\n"
     ]
    },
    {
     "name": "stdout",
     "output_type": "stream",
     "text": [
      "Early stopping, best iteration is:\n",
      "[68]\tvalid_0's auc: 0.89685\n",
      "Training until validation scores don't improve for 30 rounds\n"
     ]
    },
    {
     "name": "stderr",
     "output_type": "stream",
     "text": [
      "[I 2025-08-04 23:05:45,938] Trial 23 finished with value: 0.8887514060742407 and parameters: {'learning_rate': 0.09929837902159723, 'num_leaves': 73, 'max_depth': 10, 'min_child_samples': 40, 'feature_fraction': 0.6715235183255739, 'bagging_fraction': 0.8860813469887029, 'lambda_l1': 0.7326338072477564, 'lambda_l2': 0.3404986280663865}. Best is trial 17 with value: 0.8999250093738282.\n"
     ]
    },
    {
     "name": "stdout",
     "output_type": "stream",
     "text": [
      "Early stopping, best iteration is:\n",
      "[68]\tvalid_0's auc: 0.888751\n",
      "Training until validation scores don't improve for 30 rounds\n"
     ]
    },
    {
     "name": "stderr",
     "output_type": "stream",
     "text": [
      "[I 2025-08-04 23:05:46,744] Trial 24 finished with value: 0.8926134233220847 and parameters: {'learning_rate': 0.12202937205960644, 'num_leaves': 73, 'max_depth': 10, 'min_child_samples': 40, 'feature_fraction': 0.6660601126567212, 'bagging_fraction': 0.8814948219901243, 'lambda_l1': 0.6133590792374564, 'lambda_l2': 0.36835202973138503}. Best is trial 17 with value: 0.8999250093738282.\n"
     ]
    },
    {
     "name": "stdout",
     "output_type": "stream",
     "text": [
      "Early stopping, best iteration is:\n",
      "[22]\tvalid_0's auc: 0.892613\n",
      "Training until validation scores don't improve for 30 rounds\n"
     ]
    },
    {
     "name": "stderr",
     "output_type": "stream",
     "text": [
      "[I 2025-08-04 23:05:48,038] Trial 25 finished with value: 0.8995500562429696 and parameters: {'learning_rate': 0.12488308066201365, 'num_leaves': 80, 'max_depth': 12, 'min_child_samples': 31, 'feature_fraction': 0.6994721881690922, 'bagging_fraction': 0.9456101233229876, 'lambda_l1': 0.5997346482999596, 'lambda_l2': 0.23365082472063428}. Best is trial 17 with value: 0.8999250093738282.\n"
     ]
    },
    {
     "name": "stdout",
     "output_type": "stream",
     "text": [
      "Did not meet early stopping. Best iteration is:\n",
      "[98]\tvalid_0's auc: 0.89955\n",
      "Training until validation scores don't improve for 30 rounds\n"
     ]
    },
    {
     "name": "stderr",
     "output_type": "stream",
     "text": [
      "[I 2025-08-04 23:05:49,214] Trial 26 finished with value: 0.8652793400824896 and parameters: {'learning_rate': 0.165952823230271, 'num_leaves': 80, 'max_depth': 12, 'min_child_samples': 30, 'feature_fraction': 0.6982459920028199, 'bagging_fraction': 0.9455486328506069, 'lambda_l1': 0.4000084293815993, 'lambda_l2': 0.17931692970106397}. Best is trial 17 with value: 0.8999250093738282.\n"
     ]
    },
    {
     "name": "stdout",
     "output_type": "stream",
     "text": [
      "Early stopping, best iteration is:\n",
      "[60]\tvalid_0's auc: 0.865279\n",
      "Training until validation scores don't improve for 30 rounds\n"
     ]
    },
    {
     "name": "stderr",
     "output_type": "stream",
     "text": [
      "[I 2025-08-04 23:05:50,523] Trial 27 finished with value: 0.8677165354330709 and parameters: {'learning_rate': 0.13412022205472865, 'num_leaves': 71, 'max_depth': 11, 'min_child_samples': 33, 'feature_fraction': 0.7363126257367297, 'bagging_fraction': 0.9459210369824496, 'lambda_l1': 0.5747129594563453, 'lambda_l2': 0.2429907165771173}. Best is trial 17 with value: 0.8999250093738282.\n"
     ]
    },
    {
     "name": "stdout",
     "output_type": "stream",
     "text": [
      "Did not meet early stopping. Best iteration is:\n",
      "[76]\tvalid_0's auc: 0.867717\n",
      "Training until validation scores don't improve for 30 rounds\n"
     ]
    },
    {
     "name": "stderr",
     "output_type": "stream",
     "text": [
      "[I 2025-08-04 23:05:51,982] Trial 28 finished with value: 0.8716535433070867 and parameters: {'learning_rate': 0.10914922801102256, 'num_leaves': 76, 'max_depth': 11, 'min_child_samples': 27, 'feature_fraction': 0.7779255804671497, 'bagging_fraction': 0.9915533909843324, 'lambda_l1': 0.6978004546415254, 'lambda_l2': 0.25326232752216093}. Best is trial 17 with value: 0.8999250093738282.\n"
     ]
    },
    {
     "name": "stdout",
     "output_type": "stream",
     "text": [
      "Did not meet early stopping. Best iteration is:\n",
      "[96]\tvalid_0's auc: 0.871654\n",
      "Training until validation scores don't improve for 30 rounds\n"
     ]
    },
    {
     "name": "stderr",
     "output_type": "stream",
     "text": [
      "[I 2025-08-04 23:05:52,590] Trial 29 finished with value: 0.8873265841769779 and parameters: {'learning_rate': 0.18647945193848248, 'num_leaves': 80, 'max_depth': 8, 'min_child_samples': 37, 'feature_fraction': 0.6190211184784666, 'bagging_fraction': 0.9974407664668596, 'lambda_l1': 0.44248548131837645, 'lambda_l2': 0.436063766727822}. Best is trial 17 with value: 0.8999250093738282.\n"
     ]
    },
    {
     "name": "stdout",
     "output_type": "stream",
     "text": [
      "Early stopping, best iteration is:\n",
      "[25]\tvalid_0's auc: 0.887327\n"
     ]
    },
    {
     "data": {
      "text/plain": [
       "['tox21_lightgb_pipeline/models/v6\\\\thresholds.pkl']"
      ]
     },
     "execution_count": 1,
     "metadata": {},
     "output_type": "execute_result"
    }
   ],
   "source": [
    "import os\n",
    "import numpy as np\n",
    "import pandas as pd\n",
    "import lightgbm as lgb\n",
    "from sklearn.model_selection import train_test_split\n",
    "from sklearn.metrics import roc_auc_score, accuracy_score, precision_recall_curve\n",
    "import optuna\n",
    "import joblib\n",
    "\n",
    "X = np.load(\"tox21_lightgb_pipeline/Data_v6/processed/X.npy\")\n",
    "Y = np.load(\"tox21_lightgb_pipeline/Data_v6/processed/Y.npy\")\n",
    "label_mask = np.load(\"tox21_lightgb_pipeline/Data_v6/processed/label_mask.npy\")\n",
    "\n",
    "with open(\"tox21_lightgb_pipeline/Data_v6/processed/feature_names.txt\") as f:\n",
    "    feature_names = f.read().splitlines()\n",
    "\n",
    "label_cols = [\n",
    "    \"NR-AR\", \"NR-AR-LBD\", \"NR-AhR\", \"NR-Aromatase\", \"NR-ER\",\n",
    "    \"NR-ER-LBD\", \"NR-PPAR-gamma\", \"SR-ARE\", \"SR-ATAD5\",\n",
    "    \"SR-HSE\", \"SR-MMP\", \"SR-p53\"\n",
    "]\n",
    "\n",
    "MODEL_PATH = \"tox21_lightgb_pipeline/models/v6\"\n",
    "os.makedirs(MODEL_PATH, exist_ok=True)\n",
    "\n",
    "threshold_dict = {}\n",
    "\n",
    "for i, label_name in enumerate(label_cols):\n",
    "    print(f\"📍 Training for label: {label_name}\")\n",
    "\n",
    "    valid_rows = label_mask[:, i]\n",
    "    X_valid = X[valid_rows]\n",
    "    y_valid = Y[valid_rows, i]\n",
    "\n",
    "    X_train, X_temp, y_train, y_temp = train_test_split(\n",
    "        X_valid, y_valid, test_size=0.2, stratify=y_valid, random_state=42\n",
    "    )\n",
    "    X_val, X_test, y_val, y_test = train_test_split(\n",
    "        X_temp, y_temp, test_size=0.5, stratify=y_temp, random_state=42\n",
    "    )\n",
    "\n",
    "    dtrain = lgb.Dataset(X_train, label=y_train)\n",
    "    dval = lgb.Dataset(X_val, label=y_val)\n",
    "\n",
    "    def objective(trial):\n",
    "        params = {\n",
    "            \"objective\": \"binary\",\n",
    "            \"metric\": \"auc\",\n",
    "            \"boosting_type\": \"gbdt\",\n",
    "            \"verbosity\": -1,\n",
    "            \"feature_pre_filter\": False,\n",
    "            \"learning_rate\": trial.suggest_float(\"learning_rate\", 0.01, 0.2),\n",
    "            \"num_leaves\": trial.suggest_int(\"num_leaves\", 20, 80),\n",
    "            \"max_depth\": trial.suggest_int(\"max_depth\", 3, 12),\n",
    "            \"min_child_samples\": trial.suggest_int(\"min_child_samples\", 10, 50),\n",
    "            \"feature_fraction\": trial.suggest_float(\"feature_fraction\", 0.6, 1.0),\n",
    "            \"bagging_fraction\": trial.suggest_float(\"bagging_fraction\", 0.6, 1.0),\n",
    "            \"lambda_l1\": trial.suggest_float(\"lambda_l1\", 0.0, 1.0),\n",
    "            \"lambda_l2\": trial.suggest_float(\"lambda_l2\", 0.0, 1.0),\n",
    "            \"scale_pos_weight\": sum(y_train == 0) / sum(y_train == 1),\n",
    "        }\n",
    "        model = lgb.train(\n",
    "            params,\n",
    "            dtrain,\n",
    "            valid_sets=[dval],\n",
    "            callbacks=[lgb.early_stopping(stopping_rounds=30), lgb.log_evaluation(period=0)]\n",
    "        )\n",
    "        preds = model.predict(X_val)\n",
    "        return roc_auc_score(y_val, preds)\n",
    "\n",
    "    study = optuna.create_study(direction=\"maximize\")\n",
    "    study.optimize(objective, n_trials=30)\n",
    "\n",
    "    best_params = study.best_params\n",
    "    best_params.update({\n",
    "        \"objective\": \"binary\", \"metric\": \"auc\", \"verbosity\": -1, \"boosting_type\": \"gbdt\"\n",
    "    })\n",
    "\n",
    "    final_model = lgb.LGBMClassifier(**best_params, n_estimators=500)\n",
    "    final_model.fit(X_train, y_train)\n",
    "\n",
    "    # Save model\n",
    "    joblib.dump(final_model, os.path.join(MODEL_PATH, f\"{label_name}.pkl\"))\n",
    "\n",
    "    # Compute and save threshold\n",
    "    preds_val = final_model.predict_proba(X_val)[:, 1]\n",
    "    precision, recall, thresholds = precision_recall_curve(y_val, preds_val)\n",
    "    f1_scores = 2 * precision * recall / (precision + recall + 1e-8)\n",
    "    best_thresh = thresholds[np.argmax(f1_scores)]\n",
    "    threshold_dict[label_name] = best_thresh\n",
    "\n",
    "# Save thresholds\n",
    "joblib.dump(threshold_dict, os.path.join(MODEL_PATH, \"thresholds.pkl\"))\n"
   ]
  },
  {
   "cell_type": "code",
   "execution_count": 3,
   "id": "e0793071",
   "metadata": {},
   "outputs": [
    {
     "name": "stdout",
     "output_type": "stream",
     "text": [
      "📊 Evaluating: NR-AR\n",
      "📊 Evaluating: NR-AR-LBD\n",
      "📊 Evaluating: NR-AhR\n",
      "📊 Evaluating: NR-Aromatase\n",
      "📊 Evaluating: NR-ER\n",
      "📊 Evaluating: NR-ER-LBD\n",
      "📊 Evaluating: NR-PPAR-gamma\n",
      "📊 Evaluating: SR-ARE\n",
      "📊 Evaluating: SR-ATAD5\n",
      "📊 Evaluating: SR-HSE\n",
      "📊 Evaluating: SR-MMP\n",
      "📊 Evaluating: SR-p53\n",
      "\n",
      "✅ Evaluation Summary:\n"
     ]
    },
    {
     "data": {
      "text/html": [
       "<div>\n",
       "<style scoped>\n",
       "    .dataframe tbody tr th:only-of-type {\n",
       "        vertical-align: middle;\n",
       "    }\n",
       "\n",
       "    .dataframe tbody tr th {\n",
       "        vertical-align: top;\n",
       "    }\n",
       "\n",
       "    .dataframe thead th {\n",
       "        text-align: right;\n",
       "    }\n",
       "</style>\n",
       "<table border=\"1\" class=\"dataframe\">\n",
       "  <thead>\n",
       "    <tr style=\"text-align: right;\">\n",
       "      <th></th>\n",
       "      <th>label</th>\n",
       "      <th>test_auc</th>\n",
       "      <th>test_accuracy</th>\n",
       "      <th>test_f1</th>\n",
       "      <th>n_test</th>\n",
       "    </tr>\n",
       "  </thead>\n",
       "  <tbody>\n",
       "    <tr>\n",
       "      <th>10</th>\n",
       "      <td>SR-MMP</td>\n",
       "      <td>0.9484</td>\n",
       "      <td>0.9329</td>\n",
       "      <td>0.7821</td>\n",
       "      <td>581</td>\n",
       "    </tr>\n",
       "    <tr>\n",
       "      <th>6</th>\n",
       "      <td>NR-PPAR-gamma</td>\n",
       "      <td>0.9339</td>\n",
       "      <td>0.9736</td>\n",
       "      <td>0.3200</td>\n",
       "      <td>645</td>\n",
       "    </tr>\n",
       "    <tr>\n",
       "      <th>8</th>\n",
       "      <td>SR-ATAD5</td>\n",
       "      <td>0.9142</td>\n",
       "      <td>0.9576</td>\n",
       "      <td>0.5000</td>\n",
       "      <td>708</td>\n",
       "    </tr>\n",
       "    <tr>\n",
       "      <th>2</th>\n",
       "      <td>NR-AhR</td>\n",
       "      <td>0.8938</td>\n",
       "      <td>0.9069</td>\n",
       "      <td>0.5734</td>\n",
       "      <td>655</td>\n",
       "    </tr>\n",
       "    <tr>\n",
       "      <th>11</th>\n",
       "      <td>SR-p53</td>\n",
       "      <td>0.8587</td>\n",
       "      <td>0.9041</td>\n",
       "      <td>0.3564</td>\n",
       "      <td>678</td>\n",
       "    </tr>\n",
       "    <tr>\n",
       "      <th>9</th>\n",
       "      <td>SR-HSE</td>\n",
       "      <td>0.8505</td>\n",
       "      <td>0.9413</td>\n",
       "      <td>0.4242</td>\n",
       "      <td>647</td>\n",
       "    </tr>\n",
       "    <tr>\n",
       "      <th>5</th>\n",
       "      <td>NR-ER-LBD</td>\n",
       "      <td>0.8483</td>\n",
       "      <td>0.9569</td>\n",
       "      <td>0.5312</td>\n",
       "      <td>696</td>\n",
       "    </tr>\n",
       "    <tr>\n",
       "      <th>7</th>\n",
       "      <td>SR-ARE</td>\n",
       "      <td>0.8343</td>\n",
       "      <td>0.8493</td>\n",
       "      <td>0.5368</td>\n",
       "      <td>584</td>\n",
       "    </tr>\n",
       "    <tr>\n",
       "      <th>3</th>\n",
       "      <td>NR-Aromatase</td>\n",
       "      <td>0.8318</td>\n",
       "      <td>0.9400</td>\n",
       "      <td>0.4068</td>\n",
       "      <td>583</td>\n",
       "    </tr>\n",
       "    <tr>\n",
       "      <th>0</th>\n",
       "      <td>NR-AR</td>\n",
       "      <td>0.8266</td>\n",
       "      <td>0.9684</td>\n",
       "      <td>0.5490</td>\n",
       "      <td>727</td>\n",
       "    </tr>\n",
       "    <tr>\n",
       "      <th>1</th>\n",
       "      <td>NR-AR-LBD</td>\n",
       "      <td>0.7308</td>\n",
       "      <td>0.9704</td>\n",
       "      <td>0.4444</td>\n",
       "      <td>676</td>\n",
       "    </tr>\n",
       "    <tr>\n",
       "      <th>4</th>\n",
       "      <td>NR-ER</td>\n",
       "      <td>0.6869</td>\n",
       "      <td>0.8645</td>\n",
       "      <td>0.3913</td>\n",
       "      <td>620</td>\n",
       "    </tr>\n",
       "  </tbody>\n",
       "</table>\n",
       "</div>"
      ],
      "text/plain": [
       "            label  test_auc  test_accuracy  test_f1  n_test\n",
       "10         SR-MMP    0.9484         0.9329   0.7821     581\n",
       "6   NR-PPAR-gamma    0.9339         0.9736   0.3200     645\n",
       "8        SR-ATAD5    0.9142         0.9576   0.5000     708\n",
       "2          NR-AhR    0.8938         0.9069   0.5734     655\n",
       "11         SR-p53    0.8587         0.9041   0.3564     678\n",
       "9          SR-HSE    0.8505         0.9413   0.4242     647\n",
       "5       NR-ER-LBD    0.8483         0.9569   0.5312     696\n",
       "7          SR-ARE    0.8343         0.8493   0.5368     584\n",
       "3    NR-Aromatase    0.8318         0.9400   0.4068     583\n",
       "0           NR-AR    0.8266         0.9684   0.5490     727\n",
       "1       NR-AR-LBD    0.7308         0.9704   0.4444     676\n",
       "4           NR-ER    0.6869         0.8645   0.3913     620"
      ]
     },
     "metadata": {},
     "output_type": "display_data"
    }
   ],
   "source": [
    "import numpy as np\n",
    "import pandas as pd\n",
    "import joblib\n",
    "import os\n",
    "from sklearn.model_selection import train_test_split\n",
    "from sklearn.metrics import roc_auc_score, accuracy_score, f1_score\n",
    "\n",
    "# Load saved data\n",
    "X = np.load(\"tox21_lightgb_pipeline/Data_v6/processed/X.npy\")\n",
    "Y = np.load(\"tox21_lightgb_pipeline/Data_v6/processed/Y.npy\")\n",
    "label_mask = np.load(\"tox21_lightgb_pipeline/Data_v6/processed/label_mask.npy\")\n",
    "\n",
    "MODEL_PATH = \"tox21_lightgb_pipeline/models/v6\"\n",
    "thresholds = joblib.load(os.path.join(MODEL_PATH, \"thresholds.pkl\"))\n",
    "\n",
    "label_cols = [\n",
    "    \"NR-AR\", \"NR-AR-LBD\", \"NR-AhR\", \"NR-Aromatase\", \"NR-ER\",\n",
    "    \"NR-ER-LBD\", \"NR-PPAR-gamma\", \"SR-ARE\", \"SR-ATAD5\",\n",
    "    \"SR-HSE\", \"SR-MMP\", \"SR-p53\"\n",
    "]\n",
    "\n",
    "eval_results = []\n",
    "\n",
    "for i, label_name in enumerate(label_cols):\n",
    "    print(f\"📊 Evaluating: {label_name}\")\n",
    "    \n",
    "    valid_rows = label_mask[:, i]\n",
    "    X_valid = X[valid_rows]\n",
    "    y_valid = Y[valid_rows, i]\n",
    "\n",
    "    # Same train/val/test split as training\n",
    "    X_train, X_temp, y_train, y_temp = train_test_split(\n",
    "        X_valid, y_valid, test_size=0.2, stratify=y_valid, random_state=42\n",
    "    )\n",
    "    X_val, X_test, y_val, y_test = train_test_split(\n",
    "        X_temp, y_temp, test_size=0.5, stratify=y_temp, random_state=42\n",
    "    )\n",
    "\n",
    "    model = joblib.load(os.path.join(MODEL_PATH, f\"{label_name}.pkl\"))\n",
    "    threshold = thresholds[label_name]\n",
    "\n",
    "    prob_test = model.predict_proba(X_test)[:, 1]\n",
    "    pred_test = (prob_test >= threshold).astype(int)\n",
    "\n",
    "    auc = roc_auc_score(y_test, prob_test)\n",
    "    acc = accuracy_score(y_test, pred_test)\n",
    "    f1 = f1_score(y_test, pred_test)\n",
    "\n",
    "    eval_results.append({\n",
    "        \"label\": label_name,\n",
    "        \"test_auc\": round(auc, 4),\n",
    "        \"test_accuracy\": round(acc, 4),\n",
    "        \"test_f1\": round(f1, 4),\n",
    "        \"n_test\": len(y_test)\n",
    "    })\n",
    "\n",
    "# Save evaluation results\n",
    "eval_df = pd.DataFrame(eval_results)\n",
    "eval_df = eval_df.sort_values(by=\"test_auc\", ascending=False)\n",
    "\n",
    "print(\"\\n✅ Evaluation Summary:\")\n",
    "display(eval_df)\n",
    "\n",
    "eval_df.to_csv(os.path.join(MODEL_PATH, \"evaluation_metrics.csv\"), index=False)\n"
   ]
  },
  {
   "cell_type": "markdown",
   "id": "a9d4921e",
   "metadata": {},
   "source": [
    "## step 3: Predict + SHAP Explanation"
   ]
  },
  {
   "cell_type": "code",
   "execution_count": 15,
   "id": "2a1beece",
   "metadata": {},
   "outputs": [],
   "source": [
    "import shap\n",
    "from rdkit.Chem import rdMolDescriptors\n",
    "from rdkit.Chem import Descriptors\n",
    "from rdkit.Chem import rdMolDescriptors as rdmd\n",
    "\n",
    "from rdkit.Chem import AllChem\n",
    "from rdkit.Chem import Descriptors\n",
    "from rdkit.Chem import MolFromSmiles\n",
    "from rdkit.Chem.rdMolDescriptors import CalcMolFormula\n",
    "\n",
    "from rdkit.Chem import MolStandardize\n",
    "\n",
    "\n",
    "MODEL_PATH = 'tox21_lightgb_pipeline/models/v_base'\n",
    "\n",
    "import warnings\n",
    "warnings.filterwarnings(\"ignore\")\n",
    "\n",
    "def compute_descriptors(smiles):\n",
    "    mol = Chem.MolFromSmiles(smiles)\n",
    "    if mol is None:\n",
    "        return None\n",
    "    try:\n",
    "        return calc(mol).asdict()\n",
    "    except:\n",
    "        return None\n",
    "\n",
    "feature_masks = joblib.load(os.path.join(MODEL_PATH, \"feature_masks.pkl\"))\n",
    "thresholds = joblib.load(os.path.join(MODEL_PATH, \"thresholds.pkl\"))\n",
    "\n",
    "with open(os.path.join(SAVE_DIR, \"feature_names.txt\")) as f:\n",
    "    full_features = f.read().splitlines()\n",
    "\n",
    "\n",
    "def predict_and_explain_all_labels(smiles):\n",
    "    desc = compute_descriptors(smiles)\n",
    "    if desc is None:\n",
    "        raise ValueError(\"Invalid SMILES\")\n",
    "\n",
    "    X_input_full = np.array([list(desc.values())])\n",
    "    features_all = list(desc.keys())\n",
    "\n",
    "    all_results = {}\n",
    "    predicted_labels = []\n",
    "\n",
    "    for label_name in label_cols:\n",
    "        kept_indices = feature_masks[label_name]\n",
    "        X_input = X_input_full[:, kept_indices]\n",
    "        features = [features_all[i] for i in kept_indices]\n",
    "\n",
    "        model = joblib.load(os.path.join(MODEL_PATH, f\"{label_name}.pkl\"))\n",
    "        threshold = thresholds[label_name]\n",
    "        prob = model.predict_proba(X_input)[0, 1]\n",
    "        pred = int(prob >= threshold)\n",
    "\n",
    "        if pred == 1:\n",
    "            predicted_labels.append(label_name)\n",
    "            explainer = shap.Explainer(model)\n",
    "            shap_values = explainer(X_input)\n",
    "\n",
    "            shap_df = pd.DataFrame({\n",
    "                \"feature\": features,\n",
    "                \"shap_value\": shap_values.values[0],\n",
    "                \"feature_value\": X_input[0]\n",
    "            }).sort_values(by=\"shap_value\", key=np.abs, ascending=False)\n",
    "\n",
    "            all_results[label_name] = {\n",
    "                \"prob\": prob,\n",
    "                \"threshold\": threshold,\n",
    "                \"shap_df\": shap_df,\n",
    "                \"top_features\": shap_df[[\"feature\", \"shap_value\"]].head(4).values.tolist()\n",
    "            }\n",
    "\n",
    "    return {\n",
    "        \"smiles\": smiles,\n",
    "        \"predicted_labels\": predicted_labels,\n",
    "        \"explanations\": all_results\n",
    "    }"
   ]
  },
  {
   "cell_type": "markdown",
   "id": "13f676f7",
   "metadata": {},
   "source": [
    "## step 3*: Explain Using All Features"
   ]
  },
  {
   "cell_type": "code",
   "execution_count": 18,
   "id": "838ad4be",
   "metadata": {},
   "outputs": [],
   "source": [
    "import shap\n",
    "import numpy as np\n",
    "import pandas as pd\n",
    "import joblib\n",
    "from rdkit import Chem\n",
    "from mordred import Calculator, descriptors\n",
    "\n",
    "MODEL_PATH = \"tox21_lightgb_pipeline/models/v6\"\n",
    "SAVE_DIR = \"tox21_lightgb_pipeline/Data_v6/processed\"\n",
    "\n",
    "# Load features\n",
    "with open(os.path.join(SAVE_DIR, \"feature_names.txt\")) as f:\n",
    "    full_features = f.read().splitlines()\n",
    "\n",
    "thresholds = joblib.load(os.path.join(MODEL_PATH, \"thresholds.pkl\"))\n",
    "\n",
    "calc = Calculator(descriptors, ignore_3D=True)\n",
    "\n",
    "def compute_descriptors(smiles):\n",
    "    mol = Chem.MolFromSmiles(smiles)\n",
    "    if mol is None:\n",
    "        return None\n",
    "    try:\n",
    "        return calc(mol).asdict()\n",
    "    except:\n",
    "        return None\n",
    "\n",
    "label_cols = [\n",
    "    \"NR-AR\", \"NR-AR-LBD\", \"NR-AhR\", \"NR-Aromatase\", \"NR-ER\",\n",
    "    \"NR-ER-LBD\", \"NR-PPAR-gamma\", \"SR-ARE\", \"SR-ATAD5\",\n",
    "    \"SR-HSE\", \"SR-MMP\", \"SR-p53\"\n",
    "]\n",
    "\n",
    "def predict_and_explain_all_labels(smiles):\n",
    "    desc = compute_descriptors(smiles)\n",
    "    if desc is None:\n",
    "        raise ValueError(\"Invalid SMILES\")\n",
    "\n",
    "    X_input = np.array([list(desc.values())])\n",
    "    features = list(desc.keys())\n",
    "\n",
    "    results = {}\n",
    "    predicted_labels = []\n",
    "\n",
    "    for label_name in label_cols:\n",
    "        model = joblib.load(os.path.join(MODEL_PATH, f\"{label_name}.pkl\"))\n",
    "        threshold = thresholds[label_name]\n",
    "\n",
    "        prob = model.predict_proba(X_input)[0, 1]\n",
    "        pred = int(prob >= threshold)\n",
    "\n",
    "        if pred == 1:\n",
    "            predicted_labels.append(label_name)\n",
    "\n",
    "            explainer = shap.Explainer(model)\n",
    "            shap_values = explainer(X_input)\n",
    "\n",
    "            shap_df = pd.DataFrame({\n",
    "                \"feature\": features,\n",
    "                \"shap_value\": shap_values.values[0],\n",
    "                \"feature_value\": X_input[0]\n",
    "            }).sort_values(by=\"shap_value\", key=np.abs, ascending=False)\n",
    "\n",
    "            results[label_name] = {\n",
    "                \"prob\": prob,\n",
    "                \"threshold\": threshold,\n",
    "                \"shap_df\": shap_df,\n",
    "                \"top_features\": shap_df[[\"feature\", \"shap_value\"]].head(4).values.tolist()\n",
    "            }\n",
    "\n",
    "    return {\n",
    "        \"smiles\": smiles,\n",
    "        \"predicted_labels\": predicted_labels,\n",
    "        \"explanations\": results\n",
    "    }\n"
   ]
  },
  {
   "cell_type": "markdown",
   "id": "50b4bbd7",
   "metadata": {},
   "source": [
    "## step4: Summarise Explanation"
   ]
  },
  {
   "cell_type": "code",
   "execution_count": 19,
   "id": "5009dbf3",
   "metadata": {},
   "outputs": [],
   "source": [
    "def summarize_prediction(result):\n",
    "    smiles = result[\"smiles\"]\n",
    "    predicted = result[\"predicted_labels\"]\n",
    "    if not predicted:\n",
    "        print(f\"The drug (SMILES: `{smiles}`) is predicted to have no significant toxicity endpoints.\")\n",
    "        return\n",
    "\n",
    "    text = f\"The given drug (SMILES: `{smiles}`) is predicted to be toxic in: **{', '.join(predicted)}**.\\n\"\n",
    "    for label in predicted:\n",
    "        feats = result[\"explanations\"][label][\"top_features\"]\n",
    "        feat_str = \", \".join([f\"`{f[0]}` ({f[1]:.2f})\" for f in feats])\n",
    "        text += f\"\\n→ For **{label}**, important features include: {feat_str}\"\n",
    "    print(text)"
   ]
  },
  {
   "cell_type": "code",
   "execution_count": 20,
   "id": "81f78ec7",
   "metadata": {},
   "outputs": [
    {
     "name": "stdout",
     "output_type": "stream",
     "text": [
      "The given drug (SMILES: `O=C(O)Cc1cc(I)c(Oc2ccc(O)c(I)c2)c(I)c1`) is predicted to be toxic in: **NR-ER, SR-HSE**.\n",
      "\n",
      "→ For **NR-ER**, important features include: `BIC5` (0.32), `RPCG` (0.30), `piPC10` (0.28), `AATS8i` (0.27)\n",
      "→ For **SR-HSE**, important features include: `SLogP` (0.76), `AATSC2s` (-0.32), `SsOH` (0.28), `AATS0i` (0.26)\n"
     ]
    }
   ],
   "source": [
    "# Example usage\n",
    "result = predict_and_explain_all_labels(\"O=C(O)Cc1cc(I)c(Oc2ccc(O)c(I)c2)c(I)c1\")  # Aspirin\n",
    "summarize_prediction(result)\n"
   ]
  }
 ],
 "metadata": {
  "kernelspec": {
   "display_name": "lord",
   "language": "python",
   "name": "python3"
  },
  "language_info": {
   "codemirror_mode": {
    "name": "ipython",
    "version": 3
   },
   "file_extension": ".py",
   "mimetype": "text/x-python",
   "name": "python",
   "nbconvert_exporter": "python",
   "pygments_lexer": "ipython3",
   "version": "3.11.9"
  }
 },
 "nbformat": 4,
 "nbformat_minor": 5
}
