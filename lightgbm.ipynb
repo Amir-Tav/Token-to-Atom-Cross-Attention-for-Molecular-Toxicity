{
 "cells": [
  {
   "cell_type": "markdown",
   "id": "c6f585d5",
   "metadata": {},
   "source": [
    "# All in one (attempting to add everything in one place)\n",
    "**keeping the following cells**\n",
    "\n",
    "STEP 1: Descriptor Computation & Save\n",
    "\n",
    "STEP 2: LightGBM Training (v6)\n",
    "\n",
    "STEP 2.2: Feature Importance-Based Masking\n",
    "\n",
    "STEP 3: SHAP Prediction & Explanation (with top features)\n",
    "\n",
    "STEP 4: Utility Functions (summarize_prediction, etc.)\n",
    "\n",
    "STEP 5: Example Usage"
   ]
  },
  {
   "cell_type": "markdown",
   "id": "99453a7d",
   "metadata": {},
   "source": [
    "## STEP 1: Data Loading & Descriptor Computation"
   ]
  },
  {
   "cell_type": "code",
   "execution_count": 1,
   "id": "ca9448a6",
   "metadata": {},
   "outputs": [
    {
     "name": "stderr",
     "output_type": "stream",
     "text": [
      "  0%|          | 0/7831 [00:00<?, ?it/s][22:26:06] WARNING: not removing hydrogen atom without neighbors\n",
      "100%|██████████| 7831/7831 [00:00<00:00, 10106.70it/s]\n",
      "  1%|          | 70/7831 [00:02<04:45, 27.18it/s][22:26:09] WARNING: not removing hydrogen atom without neighbors\n",
      "[22:26:09] WARNING: not removing hydrogen atom without neighbors\n",
      "[22:26:09] WARNING: not removing hydrogen atom without neighbors\n",
      "  1%|▏         | 114/7831 [00:04<09:16, 13.87it/s]d:\\Coding Projects\\Predicting-Drug-Response-Using-Multi-Omics-Data-with-XAI\\lord\\Lib\\site-packages\\numpy\\core\\fromnumeric.py:88: RuntimeWarning: overflow encountered in reduce\n",
      "  return ufunc.reduce(obj, axis, dtype, out, **passkwargs)\n",
      "100%|██████████| 7831/7831 [06:27<00:00, 20.22it/s]\n"
     ]
    }
   ],
   "source": [
    "import pandas as pd\n",
    "import numpy as np\n",
    "import os\n",
    "from mordred import Calculator, descriptors\n",
    "from rdkit import Chem\n",
    "from tqdm import tqdm\n",
    "\n",
    "tqdm.pandas()\n",
    "\n",
    "# Define paths\n",
    "DATA_PATH = \"tox21_lightgb_pipeline/Data_v6/processed/tox21.csv\"\n",
    "SAVE_DIR = \"tox21_lightgb_pipeline/Data_v6/processed\"\n",
    "os.makedirs(SAVE_DIR, exist_ok=True)\n",
    "\n",
    "# Load data\n",
    "df = pd.read_csv(DATA_PATH)\n",
    "label_cols = [\n",
    "    \"NR-AR\", \"NR-AR-LBD\", \"NR-AhR\", \"NR-Aromatase\", \"NR-ER\",\n",
    "    \"NR-ER-LBD\", \"NR-PPAR-gamma\", \"SR-ARE\", \"SR-ATAD5\",\n",
    "    \"SR-HSE\", \"SR-MMP\", \"SR-p53\"\n",
    "]\n",
    "\n",
    "# Filter valid SMILES\n",
    "df = df[df[\"smiles\"].apply(lambda x: isinstance(x, str))]\n",
    "\n",
    "# Compute descriptors\n",
    "calc = Calculator(descriptors, ignore_3D=True)\n",
    "\n",
    "def compute_descriptors(smiles):\n",
    "    mol = Chem.MolFromSmiles(smiles)\n",
    "    if mol is None:\n",
    "        return None\n",
    "    try:\n",
    "        return calc(mol)\n",
    "    except:\n",
    "        return None\n",
    "\n",
    "mols = df[\"smiles\"].progress_apply(Chem.MolFromSmiles)\n",
    "descs = mols.progress_apply(lambda m: calc(m) if m is not None else None)\n",
    "desc_df = pd.DataFrame([d.asdict() if d is not None else {} for d in descs])\n",
    "desc_df = desc_df.dropna(axis=1)\n",
    "\n",
    "# Save feature names\n",
    "with open(os.path.join(SAVE_DIR, \"feature_names.txt\"), \"w\") as f:\n",
    "    f.write(\"\\n\".join(desc_df.columns))\n",
    "\n",
    "# Extract X and \n",
    "X = desc_df.values.astype(np.float32)\n",
    "Y = df[label_cols].values.astype(np.float32)\n",
    "label_mask = ~df[label_cols].isna().values\n",
    "\n",
    "np.save(os.path.join(SAVE_DIR, \"X.npy\"), X)\n",
    "np.save(os.path.join(SAVE_DIR, \"Y.npy\"), Y)\n",
    "np.save(os.path.join(SAVE_DIR, \"label_mask.npy\"), label_mask)"
   ]
  },
  {
   "cell_type": "markdown",
   "id": "a8fe4f92",
   "metadata": {},
   "source": [
    "### Handle NaN values in Y labels (classification targets)"
   ]
  },
  {
   "cell_type": "code",
   "execution_count": 11,
   "id": "cdeda385",
   "metadata": {},
   "outputs": [
    {
     "name": "stdout",
     "output_type": "stream",
     "text": [
      "✅ Y_cleaned.npy saved. NaNs replaced with -1 for masking during model training.\n"
     ]
    }
   ],
   "source": [
    "import numpy as np\n",
    "import os\n",
    "\n",
    "# Reload just to be sure\n",
    "SAVE_DIR = \"tox21_lightgb_pipeline/Data_v6/processed\"\n",
    "Y = np.load(os.path.join(SAVE_DIR, \"Y.npy\"))\n",
    "label_mask = np.load(os.path.join(SAVE_DIR, \"label_mask.npy\"))\n",
    "\n",
    "# Strategy: Replace NaN in Y with -1 (we won't train on those)\n",
    "# Alternatively, you can use `label_mask` directly for filtering later\n",
    "Y_cleaned = np.where(label_mask, Y, -1)\n",
    "\n",
    "# Save cleaned Y for model training\n",
    "np.save(os.path.join(SAVE_DIR, \"Y.npy\"), Y_cleaned)\n",
    "\n",
    "print(\"✅ Y_cleaned.npy saved. NaNs replaced with -1 for masking during model training.\")\n"
   ]
  },
  {
   "cell_type": "markdown",
   "id": "1cc0f34b",
   "metadata": {},
   "source": [
    "## STEP 2: Model Training (LightGBM)"
   ]
  },
  {
   "cell_type": "code",
   "execution_count": null,
   "id": "ffe8466b",
   "metadata": {},
   "outputs": [
    {
     "name": "stdout",
     "output_type": "stream",
     "text": [
      "\n",
      "📍 Training for label: NR-AR\n"
     ]
    },
    {
     "name": "stderr",
     "output_type": "stream",
     "text": [
      "[I 2025-08-04 22:45:42,281] A new study created in memory with name: no-name-48feed37-b7c1-4dc8-8321-f0259a752ea9\n",
      "[I 2025-08-04 22:45:42,690] Trial 0 finished with value: 0.6950104432582965 and parameters: {'learning_rate': 0.12548983540874797, 'num_leaves': 61, 'max_depth': 3, 'min_child_samples': 27, 'feature_fraction': 0.81759911359066, 'bagging_fraction': 0.8221146941074708, 'lambda_l1': 0.0699981664681033, 'lambda_l2': 0.36492819595499515}. Best is trial 0 with value: 0.6950104432582965.\n"
     ]
    },
    {
     "name": "stdout",
     "output_type": "stream",
     "text": [
      "Training until validation scores don't improve for 30 rounds\n",
      "Did not meet early stopping. Best iteration is:\n",
      "[82]\tvalid_0's auc: 0.69501\n",
      "Training until validation scores don't improve for 30 rounds\n",
      "Early stopping, best iteration is:\n",
      "[11]\tvalid_0's auc: 0.727942\n"
     ]
    },
    {
     "name": "stderr",
     "output_type": "stream",
     "text": [
      "[I 2025-08-04 22:45:42,947] Trial 1 finished with value: 0.7279415177535391 and parameters: {'learning_rate': 0.08230155003401189, 'num_leaves': 31, 'max_depth': 7, 'min_child_samples': 29, 'feature_fraction': 0.6131242838472909, 'bagging_fraction': 0.8964264489053455, 'lambda_l1': 0.28480761237641183, 'lambda_l2': 0.3633740275928765}. Best is trial 1 with value: 0.7279415177535391.\n"
     ]
    },
    {
     "name": "stdout",
     "output_type": "stream",
     "text": [
      "Training until validation scores don't improve for 30 rounds\n",
      "Early stopping, best iteration is:\n",
      "[3]\tvalid_0's auc: 0.723091\n"
     ]
    },
    {
     "name": "stderr",
     "output_type": "stream",
     "text": [
      "[I 2025-08-04 22:45:43,212] Trial 2 finished with value: 0.7230912044557902 and parameters: {'learning_rate': 0.12499265024512826, 'num_leaves': 68, 'max_depth': 7, 'min_child_samples': 19, 'feature_fraction': 0.6129777375215391, 'bagging_fraction': 0.9303083766685033, 'lambda_l1': 0.6764786368340698, 'lambda_l2': 0.745162871127929}. Best is trial 1 with value: 0.7279415177535391.\n"
     ]
    },
    {
     "name": "stdout",
     "output_type": "stream",
     "text": [
      "Training until validation scores don't improve for 30 rounds\n"
     ]
    },
    {
     "name": "stderr",
     "output_type": "stream",
     "text": [
      "[I 2025-08-04 22:45:43,699] Trial 3 finished with value: 0.7420747273149222 and parameters: {'learning_rate': 0.16999269305418735, 'num_leaves': 43, 'max_depth': 11, 'min_child_samples': 30, 'feature_fraction': 0.9981120092905394, 'bagging_fraction': 0.6857316465977796, 'lambda_l1': 0.7038643697437005, 'lambda_l2': 0.6720346598217953}. Best is trial 3 with value: 0.7420747273149222.\n"
     ]
    },
    {
     "name": "stdout",
     "output_type": "stream",
     "text": [
      "Early stopping, best iteration is:\n",
      "[8]\tvalid_0's auc: 0.742075\n",
      "Training until validation scores don't improve for 30 rounds\n"
     ]
    },
    {
     "name": "stderr",
     "output_type": "stream",
     "text": [
      "[I 2025-08-04 22:45:43,967] Trial 4 finished with value: 0.756323973079601 and parameters: {'learning_rate': 0.03591908472349754, 'num_leaves': 36, 'max_depth': 7, 'min_child_samples': 14, 'feature_fraction': 0.973953006466757, 'bagging_fraction': 0.7341709360782658, 'lambda_l1': 0.7238824475214791, 'lambda_l2': 0.256692202840758}. Best is trial 4 with value: 0.756323973079601.\n"
     ]
    },
    {
     "name": "stdout",
     "output_type": "stream",
     "text": [
      "Early stopping, best iteration is:\n",
      "[3]\tvalid_0's auc: 0.756324\n",
      "Training until validation scores don't improve for 30 rounds\n"
     ]
    },
    {
     "name": "stderr",
     "output_type": "stream",
     "text": [
      "[I 2025-08-04 22:45:44,218] Trial 5 finished with value: 0.744441865862149 and parameters: {'learning_rate': 0.09982929988742573, 'num_leaves': 36, 'max_depth': 6, 'min_child_samples': 48, 'feature_fraction': 0.9566272154050048, 'bagging_fraction': 0.9203152803861258, 'lambda_l1': 0.927386104604669, 'lambda_l2': 0.8881704308668048}. Best is trial 4 with value: 0.756323973079601.\n"
     ]
    },
    {
     "name": "stdout",
     "output_type": "stream",
     "text": [
      "Early stopping, best iteration is:\n",
      "[12]\tvalid_0's auc: 0.744442\n",
      "Training until validation scores don't improve for 30 rounds\n"
     ]
    },
    {
     "name": "stderr",
     "output_type": "stream",
     "text": [
      "[I 2025-08-04 22:45:44,525] Trial 6 finished with value: 0.7169180784404734 and parameters: {'learning_rate': 0.14573951976441518, 'num_leaves': 60, 'max_depth': 5, 'min_child_samples': 44, 'feature_fraction': 0.6959191535482436, 'bagging_fraction': 0.8347723701220803, 'lambda_l1': 0.4066324519871529, 'lambda_l2': 0.5373640080980325}. Best is trial 4 with value: 0.756323973079601.\n"
     ]
    },
    {
     "name": "stdout",
     "output_type": "stream",
     "text": [
      "Early stopping, best iteration is:\n",
      "[41]\tvalid_0's auc: 0.716918\n",
      "Training until validation scores don't improve for 30 rounds\n"
     ]
    },
    {
     "name": "stderr",
     "output_type": "stream",
     "text": [
      "[I 2025-08-04 22:45:44,845] Trial 7 finished with value: 0.731445811093061 and parameters: {'learning_rate': 0.1513523813982044, 'num_leaves': 40, 'max_depth': 8, 'min_child_samples': 37, 'feature_fraction': 0.7351251425018134, 'bagging_fraction': 0.9859214332834751, 'lambda_l1': 0.6953697909471563, 'lambda_l2': 0.9312178280979848}. Best is trial 4 with value: 0.756323973079601.\n"
     ]
    },
    {
     "name": "stdout",
     "output_type": "stream",
     "text": [
      "Early stopping, best iteration is:\n",
      "[12]\tvalid_0's auc: 0.731446\n",
      "Training until validation scores don't improve for 30 rounds\n"
     ]
    },
    {
     "name": "stderr",
     "output_type": "stream",
     "text": [
      "[I 2025-08-04 22:45:45,270] Trial 8 finished with value: 0.7189603156184731 and parameters: {'learning_rate': 0.08583852037308046, 'num_leaves': 29, 'max_depth': 8, 'min_child_samples': 16, 'feature_fraction': 0.7449606730544478, 'bagging_fraction': 0.7560215219597569, 'lambda_l1': 0.5621976600399055, 'lambda_l2': 0.09348302510615314}. Best is trial 4 with value: 0.756323973079601.\n"
     ]
    },
    {
     "name": "stdout",
     "output_type": "stream",
     "text": [
      "Early stopping, best iteration is:\n",
      "[27]\tvalid_0's auc: 0.71896\n",
      "Training until validation scores don't improve for 30 rounds\n"
     ]
    },
    {
     "name": "stderr",
     "output_type": "stream",
     "text": [
      "[I 2025-08-04 22:45:45,471] Trial 9 finished with value: 0.7578324437224413 and parameters: {'learning_rate': 0.013862539558828798, 'num_leaves': 43, 'max_depth': 5, 'min_child_samples': 35, 'feature_fraction': 0.9063639356277188, 'bagging_fraction': 0.7371238471801811, 'lambda_l1': 0.7395919375896923, 'lambda_l2': 0.8716906489411839}. Best is trial 9 with value: 0.7578324437224413.\n",
      "[I 2025-08-04 22:45:45,644] Trial 10 finished with value: 0.7297516825249477 and parameters: {'learning_rate': 0.01353036016479249, 'num_leaves': 78, 'max_depth': 3, 'min_child_samples': 38, 'feature_fraction': 0.8768268372849306, 'bagging_fraction': 0.6044111445253919, 'lambda_l1': 0.9480369113027267, 'lambda_l2': 0.9988181247482786}. Best is trial 9 with value: 0.7578324437224413.\n"
     ]
    },
    {
     "name": "stdout",
     "output_type": "stream",
     "text": [
      "Early stopping, best iteration is:\n",
      "[4]\tvalid_0's auc: 0.757832\n",
      "Training until validation scores don't improve for 30 rounds\n",
      "Early stopping, best iteration is:\n",
      "[3]\tvalid_0's auc: 0.729752\n",
      "Training until validation scores don't improve for 30 rounds\n"
     ]
    },
    {
     "name": "stderr",
     "output_type": "stream",
     "text": [
      "[I 2025-08-04 22:45:45,961] Trial 11 finished with value: 0.75609190067301 and parameters: {'learning_rate': 0.011189469098052289, 'num_leaves': 20, 'max_depth': 10, 'min_child_samples': 12, 'feature_fraction': 0.9129028253457221, 'bagging_fraction': 0.724083287824399, 'lambda_l1': 0.8193393941819165, 'lambda_l2': 0.2015228013648502}. Best is trial 9 with value: 0.7578324437224413.\n"
     ]
    },
    {
     "name": "stdout",
     "output_type": "stream",
     "text": [
      "Early stopping, best iteration is:\n",
      "[3]\tvalid_0's auc: 0.756092\n",
      "Training until validation scores don't improve for 30 rounds\n"
     ]
    },
    {
     "name": "stderr",
     "output_type": "stream",
     "text": [
      "[I 2025-08-04 22:45:46,259] Trial 12 finished with value: 0.7534462752378741 and parameters: {'learning_rate': 0.04317798417652993, 'num_leaves': 50, 'max_depth': 5, 'min_child_samples': 22, 'feature_fraction': 0.8756430724507668, 'bagging_fraction': 0.655401479869695, 'lambda_l1': 0.5137203424254043, 'lambda_l2': 0.3058150065699775}. Best is trial 9 with value: 0.7578324437224413.\n"
     ]
    },
    {
     "name": "stdout",
     "output_type": "stream",
     "text": [
      "Early stopping, best iteration is:\n",
      "[23]\tvalid_0's auc: 0.753446\n",
      "Training until validation scores don't improve for 30 rounds\n"
     ]
    },
    {
     "name": "stderr",
     "output_type": "stream",
     "text": [
      "[I 2025-08-04 22:45:46,671] Trial 13 finished with value: 0.7277094453469483 and parameters: {'learning_rate': 0.057954165274905864, 'num_leaves': 48, 'max_depth': 9, 'min_child_samples': 38, 'feature_fraction': 0.999760190326876, 'bagging_fraction': 0.7730326841679119, 'lambda_l1': 0.8291213765020599, 'lambda_l2': 0.002157717889766264}. Best is trial 9 with value: 0.7578324437224413.\n"
     ]
    },
    {
     "name": "stdout",
     "output_type": "stream",
     "text": [
      "Early stopping, best iteration is:\n",
      "[15]\tvalid_0's auc: 0.727709\n",
      "Training until validation scores don't improve for 30 rounds\n"
     ]
    },
    {
     "name": "stderr",
     "output_type": "stream",
     "text": [
      "[I 2025-08-04 22:45:46,891] Trial 14 finished with value: 0.7726850777442562 and parameters: {'learning_rate': 0.04418019347985577, 'num_leaves': 22, 'max_depth': 5, 'min_child_samples': 11, 'feature_fraction': 0.9296892288418485, 'bagging_fraction': 0.6961162208808025, 'lambda_l1': 0.37349339115874813, 'lambda_l2': 0.5524421879553865}. Best is trial 14 with value: 0.7726850777442562.\n"
     ]
    },
    {
     "name": "stdout",
     "output_type": "stream",
     "text": [
      "Early stopping, best iteration is:\n",
      "[2]\tvalid_0's auc: 0.772685\n",
      "Training until validation scores don't improve for 30 rounds\n",
      "Early stopping, best iteration is:\n",
      "[10]\tvalid_0's auc: 0.722697\n"
     ]
    },
    {
     "name": "stderr",
     "output_type": "stream",
     "text": [
      "[I 2025-08-04 22:45:47,090] Trial 15 finished with value: 0.7226966813645858 and parameters: {'learning_rate': 0.0609443793682102, 'num_leaves': 20, 'max_depth': 4, 'min_child_samples': 24, 'feature_fraction': 0.9156180479598238, 'bagging_fraction': 0.6651654707734376, 'lambda_l1': 0.25155909959366224, 'lambda_l2': 0.5838594436229969}. Best is trial 14 with value: 0.7726850777442562.\n"
     ]
    },
    {
     "name": "stdout",
     "output_type": "stream",
     "text": [
      "Training until validation scores don't improve for 30 rounds\n"
     ]
    },
    {
     "name": "stderr",
     "output_type": "stream",
     "text": [
      "[I 2025-08-04 22:45:47,431] Trial 16 finished with value: 0.7228591320491994 and parameters: {'learning_rate': 0.03306387144452848, 'num_leaves': 27, 'max_depth': 5, 'min_child_samples': 35, 'feature_fraction': 0.8390316896572696, 'bagging_fraction': 0.6198764193013353, 'lambda_l1': 0.40077628094722445, 'lambda_l2': 0.7911672272615874}. Best is trial 14 with value: 0.7726850777442562.\n"
     ]
    },
    {
     "name": "stdout",
     "output_type": "stream",
     "text": [
      "Early stopping, best iteration is:\n",
      "[41]\tvalid_0's auc: 0.722859\n",
      "Training until validation scores don't improve for 30 rounds\n"
     ]
    },
    {
     "name": "stderr",
     "output_type": "stream",
     "text": [
      "[I 2025-08-04 22:45:47,946] Trial 17 finished with value: 0.766627987932235 and parameters: {'learning_rate': 0.06541413821923468, 'num_leaves': 58, 'max_depth': 12, 'min_child_samples': 33, 'feature_fraction': 0.9304493156981964, 'bagging_fraction': 0.7028049396973135, 'lambda_l1': 0.03944055454081141, 'lambda_l2': 0.4506111230825264}. Best is trial 14 with value: 0.7726850777442562.\n"
     ]
    },
    {
     "name": "stdout",
     "output_type": "stream",
     "text": [
      "Early stopping, best iteration is:\n",
      "[14]\tvalid_0's auc: 0.766628\n",
      "Training until validation scores don't improve for 30 rounds\n"
     ]
    },
    {
     "name": "stderr",
     "output_type": "stream",
     "text": [
      "[I 2025-08-04 22:45:48,442] Trial 18 finished with value: 0.7436528196797401 and parameters: {'learning_rate': 0.06916085185818498, 'num_leaves': 59, 'max_depth': 12, 'min_child_samples': 10, 'feature_fraction': 0.7837860167404838, 'bagging_fraction': 0.6943290421222158, 'lambda_l1': 0.0748138122557501, 'lambda_l2': 0.46191414241938195}. Best is trial 14 with value: 0.7726850777442562.\n"
     ]
    },
    {
     "name": "stdout",
     "output_type": "stream",
     "text": [
      "Early stopping, best iteration is:\n",
      "[9]\tvalid_0's auc: 0.743653\n",
      "Training until validation scores don't improve for 30 rounds\n"
     ]
    },
    {
     "name": "stderr",
     "output_type": "stream",
     "text": [
      "[I 2025-08-04 22:45:48,845] Trial 19 finished with value: 0.7469714550939893 and parameters: {'learning_rate': 0.11011361129792177, 'num_leaves': 70, 'max_depth': 12, 'min_child_samples': 45, 'feature_fraction': 0.9449462561154461, 'bagging_fraction': 0.7976071872406183, 'lambda_l1': 0.23243542897847758, 'lambda_l2': 0.45227284035959053}. Best is trial 14 with value: 0.7726850777442562.\n"
     ]
    },
    {
     "name": "stdout",
     "output_type": "stream",
     "text": [
      "Early stopping, best iteration is:\n",
      "[2]\tvalid_0's auc: 0.746971\n",
      "Training until validation scores don't improve for 30 rounds\n"
     ]
    },
    {
     "name": "stderr",
     "output_type": "stream",
     "text": [
      "[I 2025-08-04 22:45:49,206] Trial 20 finished with value: 0.7232536551404039 and parameters: {'learning_rate': 0.049445873924775445, 'num_leaves': 55, 'max_depth': 10, 'min_child_samples': 32, 'feature_fraction': 0.8564144411023196, 'bagging_fraction': 0.6385321352505985, 'lambda_l1': 0.0021537634381253445, 'lambda_l2': 0.6484022537900396}. Best is trial 14 with value: 0.7726850777442562.\n"
     ]
    },
    {
     "name": "stdout",
     "output_type": "stream",
     "text": [
      "Early stopping, best iteration is:\n",
      "[9]\tvalid_0's auc: 0.723254\n",
      "Training until validation scores don't improve for 30 rounds\n"
     ]
    },
    {
     "name": "stderr",
     "output_type": "stream",
     "text": [
      "[I 2025-08-04 22:45:49,605] Trial 21 finished with value: 0.7624506846135994 and parameters: {'learning_rate': 0.024468430659986058, 'num_leaves': 50, 'max_depth': 6, 'min_child_samples': 42, 'feature_fraction': 0.9163241567512219, 'bagging_fraction': 0.7166034669127658, 'lambda_l1': 0.17202009535594015, 'lambda_l2': 0.7934680512013166}. Best is trial 14 with value: 0.7726850777442562.\n"
     ]
    },
    {
     "name": "stdout",
     "output_type": "stream",
     "text": [
      "Early stopping, best iteration is:\n",
      "[29]\tvalid_0's auc: 0.762451\n",
      "Training until validation scores don't improve for 30 rounds\n"
     ]
    },
    {
     "name": "stderr",
     "output_type": "stream",
     "text": [
      "[I 2025-08-04 22:45:50,159] Trial 22 finished with value: 0.7200278486887909 and parameters: {'learning_rate': 0.032433457692787424, 'num_leaves': 68, 'max_depth': 6, 'min_child_samples': 42, 'feature_fraction': 0.9384324035079461, 'bagging_fraction': 0.6994600776034299, 'lambda_l1': 0.16304966030373788, 'lambda_l2': 0.6140971024675558}. Best is trial 14 with value: 0.7726850777442562.\n"
     ]
    },
    {
     "name": "stdout",
     "output_type": "stream",
     "text": [
      "Early stopping, best iteration is:\n",
      "[64]\tvalid_0's auc: 0.720028\n",
      "Training until validation scores don't improve for 30 rounds\n"
     ]
    },
    {
     "name": "stderr",
     "output_type": "stream",
     "text": [
      "[I 2025-08-04 22:45:50,402] Trial 23 finished with value: 0.7363657461127872 and parameters: {'learning_rate': 0.0710987592848015, 'num_leaves': 50, 'max_depth': 6, 'min_child_samples': 41, 'feature_fraction': 0.8982307137943429, 'bagging_fraction': 0.7747274010211649, 'lambda_l1': 0.3897268677267685, 'lambda_l2': 0.7140442958494643}. Best is trial 14 with value: 0.7726850777442562.\n"
     ]
    },
    {
     "name": "stdout",
     "output_type": "stream",
     "text": [
      "Early stopping, best iteration is:\n",
      "[1]\tvalid_0's auc: 0.736366\n",
      "Training until validation scores don't improve for 30 rounds\n"
     ]
    },
    {
     "name": "stderr",
     "output_type": "stream",
     "text": [
      "[I 2025-08-04 22:45:50,668] Trial 24 finished with value: 0.7347412392666511 and parameters: {'learning_rate': 0.029906868549589814, 'num_leaves': 80, 'max_depth': 4, 'min_child_samples': 50, 'feature_fraction': 0.8116211901846849, 'bagging_fraction': 0.7102465260313201, 'lambda_l1': 0.16626035275995274, 'lambda_l2': 0.4987978834082231}. Best is trial 14 with value: 0.7726850777442562.\n"
     ]
    },
    {
     "name": "stdout",
     "output_type": "stream",
     "text": [
      "Early stopping, best iteration is:\n",
      "[33]\tvalid_0's auc: 0.734741\n",
      "Training until validation scores don't improve for 30 rounds\n"
     ]
    },
    {
     "name": "stderr",
     "output_type": "stream",
     "text": [
      "[I 2025-08-04 22:45:50,882] Trial 25 finished with value: 0.7562311441169645 and parameters: {'learning_rate': 0.050891503385156384, 'num_leaves': 54, 'max_depth': 4, 'min_child_samples': 26, 'feature_fraction': 0.938340425387899, 'bagging_fraction': 0.6584212554188204, 'lambda_l1': 0.32053279698348536, 'lambda_l2': 0.7935775344597973}. Best is trial 14 with value: 0.7726850777442562.\n"
     ]
    },
    {
     "name": "stdout",
     "output_type": "stream",
     "text": [
      "Early stopping, best iteration is:\n",
      "[3]\tvalid_0's auc: 0.756231\n",
      "Training until validation scores don't improve for 30 rounds\n"
     ]
    },
    {
     "name": "stderr",
     "output_type": "stream",
     "text": [
      "[I 2025-08-04 22:45:51,322] Trial 26 finished with value: 0.755558134137851 and parameters: {'learning_rate': 0.08053351603737527, 'num_leaves': 74, 'max_depth': 9, 'min_child_samples': 31, 'feature_fraction': 0.9756812899919463, 'bagging_fraction': 0.6774385776520947, 'lambda_l1': 0.15322143599139643, 'lambda_l2': 0.4077285687134103}. Best is trial 14 with value: 0.7726850777442562.\n"
     ]
    },
    {
     "name": "stdout",
     "output_type": "stream",
     "text": [
      "Early stopping, best iteration is:\n",
      "[10]\tvalid_0's auc: 0.755558\n",
      "Training until validation scores don't improve for 30 rounds\n"
     ]
    },
    {
     "name": "stderr",
     "output_type": "stream",
     "text": [
      "[I 2025-08-04 22:45:51,725] Trial 27 finished with value: 0.7428869807379902 and parameters: {'learning_rate': 0.023856943767810238, 'num_leaves': 64, 'max_depth': 6, 'min_child_samples': 21, 'feature_fraction': 0.8646652538909448, 'bagging_fraction': 0.8402095957857522, 'lambda_l1': 0.020847769451767223, 'lambda_l2': 0.5436231179967196}. Best is trial 14 with value: 0.7726850777442562.\n"
     ]
    },
    {
     "name": "stdout",
     "output_type": "stream",
     "text": [
      "Early stopping, best iteration is:\n",
      "[30]\tvalid_0's auc: 0.742887\n",
      "Training until validation scores don't improve for 30 rounds\n"
     ]
    },
    {
     "name": "stderr",
     "output_type": "stream",
     "text": [
      "[I 2025-08-04 22:45:52,365] Trial 28 finished with value: 0.712740775121838 and parameters: {'learning_rate': 0.09762812560479633, 'num_leaves': 54, 'max_depth': 9, 'min_child_samples': 34, 'feature_fraction': 0.8385191680842169, 'bagging_fraction': 0.7484329470105848, 'lambda_l1': 0.3355769778745408, 'lambda_l2': 0.20440678963713835}. Best is trial 14 with value: 0.7726850777442562.\n"
     ]
    },
    {
     "name": "stdout",
     "output_type": "stream",
     "text": [
      "Early stopping, best iteration is:\n",
      "[33]\tvalid_0's auc: 0.712741\n",
      "Training until validation scores don't improve for 30 rounds\n"
     ]
    },
    {
     "name": "stderr",
     "output_type": "stream",
     "text": [
      "[I 2025-08-04 22:45:52,931] Trial 29 finished with value: 0.7652355534926897 and parameters: {'learning_rate': 0.06783882540163957, 'num_leaves': 63, 'max_depth': 11, 'min_child_samples': 26, 'feature_fraction': 0.7942375610946951, 'bagging_fraction': 0.7968241626442263, 'lambda_l1': 0.10961530213846982, 'lambda_l2': 0.3353310182322783}. Best is trial 14 with value: 0.7726850777442562.\n"
     ]
    },
    {
     "name": "stdout",
     "output_type": "stream",
     "text": [
      "Early stopping, best iteration is:\n",
      "[26]\tvalid_0's auc: 0.765236\n",
      "\n",
      "📍 Training for label: NR-AR-LBD\n"
     ]
    },
    {
     "name": "stderr",
     "output_type": "stream",
     "text": [
      "[I 2025-08-04 22:45:58,451] A new study created in memory with name: no-name-c4a02a65-92f7-4304-905c-46f53576bf3b\n"
     ]
    },
    {
     "name": "stdout",
     "output_type": "stream",
     "text": [
      "Training until validation scores don't improve for 30 rounds\n",
      "Early stopping, best iteration is:\n",
      "[2]\tvalid_0's auc: 0.89753\n"
     ]
    },
    {
     "name": "stderr",
     "output_type": "stream",
     "text": [
      "[I 2025-08-04 22:45:58,860] Trial 0 finished with value: 0.8975297955922498 and parameters: {'learning_rate': 0.10498626252175693, 'num_leaves': 47, 'max_depth': 12, 'min_child_samples': 35, 'feature_fraction': 0.6129919131464258, 'bagging_fraction': 0.9240324181523631, 'lambda_l1': 0.634877442618517, 'lambda_l2': 0.387454122251623}. Best is trial 0 with value: 0.8975297955922498.\n"
     ]
    },
    {
     "name": "stdout",
     "output_type": "stream",
     "text": [
      "Training until validation scores don't improve for 30 rounds\n"
     ]
    },
    {
     "name": "stderr",
     "output_type": "stream",
     "text": [
      "[I 2025-08-04 22:45:59,204] Trial 1 finished with value: 0.8740595246021706 and parameters: {'learning_rate': 0.17673938903538866, 'num_leaves': 75, 'max_depth': 6, 'min_child_samples': 24, 'feature_fraction': 0.9770553035794716, 'bagging_fraction': 0.8726929083702588, 'lambda_l1': 0.7674634514884382, 'lambda_l2': 0.33928984051550093}. Best is trial 0 with value: 0.8975297955922498.\n"
     ]
    },
    {
     "name": "stdout",
     "output_type": "stream",
     "text": [
      "Early stopping, best iteration is:\n",
      "[12]\tvalid_0's auc: 0.87406\n",
      "Training until validation scores don't improve for 30 rounds\n"
     ]
    },
    {
     "name": "stderr",
     "output_type": "stream",
     "text": [
      "[I 2025-08-04 22:45:59,568] Trial 2 finished with value: 0.9155070244357147 and parameters: {'learning_rate': 0.14124941932674043, 'num_leaves': 78, 'max_depth': 9, 'min_child_samples': 47, 'feature_fraction': 0.9099339719346238, 'bagging_fraction': 0.7641692146122672, 'lambda_l1': 0.27384384001749185, 'lambda_l2': 0.6323701546703678}. Best is trial 2 with value: 0.9155070244357147.\n"
     ]
    },
    {
     "name": "stdout",
     "output_type": "stream",
     "text": [
      "Early stopping, best iteration is:\n",
      "[5]\tvalid_0's auc: 0.915507\n",
      "Training until validation scores don't improve for 30 rounds\n"
     ]
    },
    {
     "name": "stderr",
     "output_type": "stream",
     "text": [
      "[I 2025-08-04 22:46:00,145] Trial 3 finished with value: 0.8961315666822025 and parameters: {'learning_rate': 0.012944137215769409, 'num_leaves': 50, 'max_depth': 7, 'min_child_samples': 32, 'feature_fraction': 0.8090471829196281, 'bagging_fraction': 0.6584136096795994, 'lambda_l1': 0.04301011064589011, 'lambda_l2': 0.32091745740575595}. Best is trial 2 with value: 0.9155070244357147.\n",
      "[I 2025-08-04 22:46:00,298] Trial 4 finished with value: 0.901025367867368 and parameters: {'learning_rate': 0.15009010783962234, 'num_leaves': 61, 'max_depth': 3, 'min_child_samples': 49, 'feature_fraction': 0.9514676584048919, 'bagging_fraction': 0.8192774758534265, 'lambda_l1': 0.7612369690512113, 'lambda_l2': 0.09706459036695914}. Best is trial 2 with value: 0.9155070244357147.\n"
     ]
    },
    {
     "name": "stdout",
     "output_type": "stream",
     "text": [
      "Did not meet early stopping. Best iteration is:\n",
      "[92]\tvalid_0's auc: 0.896132\n",
      "Training until validation scores don't improve for 30 rounds\n",
      "Early stopping, best iteration is:\n",
      "[20]\tvalid_0's auc: 0.901025\n"
     ]
    },
    {
     "name": "stderr",
     "output_type": "stream",
     "text": [
      "[I 2025-08-04 22:46:00,530] Trial 5 finished with value: 0.9121779079832213 and parameters: {'learning_rate': 0.040561033759945644, 'num_leaves': 30, 'max_depth': 3, 'min_child_samples': 42, 'feature_fraction': 0.9199664962939228, 'bagging_fraction': 0.8972681372809606, 'lambda_l1': 0.3016269488208517, 'lambda_l2': 0.520769065785319}. Best is trial 2 with value: 0.9155070244357147.\n"
     ]
    },
    {
     "name": "stdout",
     "output_type": "stream",
     "text": [
      "Training until validation scores don't improve for 30 rounds\n",
      "Early stopping, best iteration is:\n",
      "[62]\tvalid_0's auc: 0.912178\n",
      "Training until validation scores don't improve for 30 rounds\n",
      "Early stopping, best iteration is:\n",
      "[9]\tvalid_0's auc: 0.898662\n"
     ]
    },
    {
     "name": "stderr",
     "output_type": "stream",
     "text": [
      "[I 2025-08-04 22:46:00,785] Trial 6 finished with value: 0.8986616951860976 and parameters: {'learning_rate': 0.09010616142458204, 'num_leaves': 56, 'max_depth': 8, 'min_child_samples': 50, 'feature_fraction': 0.6466196116856976, 'bagging_fraction': 0.8022280112567214, 'lambda_l1': 0.6657563238971521, 'lambda_l2': 0.35811853171036456}. Best is trial 2 with value: 0.9155070244357147.\n",
      "[I 2025-08-04 22:46:00,976] Trial 7 finished with value: 0.8972634662760504 and parameters: {'learning_rate': 0.18511214533472836, 'num_leaves': 72, 'max_depth': 4, 'min_child_samples': 46, 'feature_fraction': 0.6445254818090013, 'bagging_fraction': 0.6936003797517802, 'lambda_l1': 0.6572621378128951, 'lambda_l2': 0.43402513602101944}. Best is trial 2 with value: 0.9155070244357147.\n"
     ]
    },
    {
     "name": "stdout",
     "output_type": "stream",
     "text": [
      "Training until validation scores don't improve for 30 rounds\n",
      "Early stopping, best iteration is:\n",
      "[24]\tvalid_0's auc: 0.897263\n",
      "Training until validation scores don't improve for 30 rounds\n"
     ]
    },
    {
     "name": "stderr",
     "output_type": "stream",
     "text": [
      "[I 2025-08-04 22:46:01,408] Trial 8 finished with value: 0.8637059724349158 and parameters: {'learning_rate': 0.15459330673321559, 'num_leaves': 52, 'max_depth': 10, 'min_child_samples': 11, 'feature_fraction': 0.8531460526581074, 'bagging_fraction': 0.7039799645183452, 'lambda_l1': 0.8495746955441343, 'lambda_l2': 0.07880647831441245}. Best is trial 2 with value: 0.9155070244357147.\n"
     ]
    },
    {
     "name": "stdout",
     "output_type": "stream",
     "text": [
      "Early stopping, best iteration is:\n",
      "[15]\tvalid_0's auc: 0.863706\n",
      "Training until validation scores don't improve for 30 rounds\n"
     ]
    },
    {
     "name": "stderr",
     "output_type": "stream",
     "text": [
      "[I 2025-08-04 22:46:01,689] Trial 9 finished with value: 0.8813502896331313 and parameters: {'learning_rate': 0.15848596053204136, 'num_leaves': 68, 'max_depth': 7, 'min_child_samples': 46, 'feature_fraction': 0.9234940318140603, 'bagging_fraction': 0.7412551666651136, 'lambda_l1': 0.727388810882119, 'lambda_l2': 0.5040063292532901}. Best is trial 2 with value: 0.9155070244357147.\n"
     ]
    },
    {
     "name": "stdout",
     "output_type": "stream",
     "text": [
      "Early stopping, best iteration is:\n",
      "[6]\tvalid_0's auc: 0.88135\n",
      "Training until validation scores don't improve for 30 rounds\n"
     ]
    },
    {
     "name": "stderr",
     "output_type": "stream",
     "text": [
      "[I 2025-08-04 22:46:02,226] Trial 10 finished with value: 0.8841467474532259 and parameters: {'learning_rate': 0.07005565438703776, 'num_leaves': 21, 'max_depth': 10, 'min_child_samples': 20, 'feature_fraction': 0.754864821913203, 'bagging_fraction': 0.9920330321506525, 'lambda_l1': 0.3435610276586263, 'lambda_l2': 0.8714834579147962}. Best is trial 2 with value: 0.9155070244357147.\n"
     ]
    },
    {
     "name": "stdout",
     "output_type": "stream",
     "text": [
      "Early stopping, best iteration is:\n",
      "[46]\tvalid_0's auc: 0.884147\n",
      "Training until validation scores don't improve for 30 rounds\n"
     ]
    },
    {
     "name": "stderr",
     "output_type": "stream",
     "text": [
      "[I 2025-08-04 22:46:02,692] Trial 11 finished with value: 0.9009920767028431 and parameters: {'learning_rate': 0.033539534644652105, 'num_leaves': 34, 'max_depth': 5, 'min_child_samples': 38, 'feature_fraction': 0.8748226386086616, 'bagging_fraction': 0.8962495327927539, 'lambda_l1': 0.29320083141059594, 'lambda_l2': 0.70112045547536}. Best is trial 2 with value: 0.9155070244357147.\n"
     ]
    },
    {
     "name": "stdout",
     "output_type": "stream",
     "text": [
      "Did not meet early stopping. Best iteration is:\n",
      "[100]\tvalid_0's auc: 0.900992\n",
      "Training until validation scores don't improve for 30 rounds\n"
     ]
    },
    {
     "name": "stderr",
     "output_type": "stream",
     "text": [
      "[I 2025-08-04 22:46:03,052] Trial 12 finished with value: 0.8882415606897928 and parameters: {'learning_rate': 0.1251919120851536, 'num_leaves': 36, 'max_depth': 9, 'min_child_samples': 39, 'feature_fraction': 0.9039713301708852, 'bagging_fraction': 0.6184203228740616, 'lambda_l1': 0.23573517919280723, 'lambda_l2': 0.6640669323439361}. Best is trial 2 with value: 0.9155070244357147.\n"
     ]
    },
    {
     "name": "stdout",
     "output_type": "stream",
     "text": [
      "Early stopping, best iteration is:\n",
      "[9]\tvalid_0's auc: 0.888242\n",
      "Training until validation scores don't improve for 30 rounds\n"
     ]
    },
    {
     "name": "stderr",
     "output_type": "stream",
     "text": [
      "[I 2025-08-04 22:46:03,476] Trial 13 finished with value: 0.9001930887542446 and parameters: {'learning_rate': 0.05625637156843363, 'num_leaves': 80, 'max_depth': 12, 'min_child_samples': 42, 'feature_fraction': 0.7492861364891827, 'bagging_fraction': 0.8339986162821117, 'lambda_l1': 0.44859259520973527, 'lambda_l2': 0.6216759729757029}. Best is trial 2 with value: 0.9155070244357147.\n"
     ]
    },
    {
     "name": "stdout",
     "output_type": "stream",
     "text": [
      "Early stopping, best iteration is:\n",
      "[25]\tvalid_0's auc: 0.900193\n",
      "Training until validation scores don't improve for 30 rounds\n",
      "Early stopping, best iteration is:\n",
      "[35]\tvalid_0's auc: 0.911079\n"
     ]
    },
    {
     "name": "stderr",
     "output_type": "stream",
     "text": [
      "[I 2025-08-04 22:46:03,664] Trial 14 finished with value: 0.9110792995538984 and parameters: {'learning_rate': 0.12497003132655175, 'num_leaves': 23, 'max_depth': 3, 'min_child_samples': 28, 'feature_fraction': 0.8319962720557206, 'bagging_fraction': 0.7447829172849781, 'lambda_l1': 0.10924720368294494, 'lambda_l2': 0.9406829492004721}. Best is trial 2 with value: 0.9155070244357147.\n"
     ]
    },
    {
     "name": "stdout",
     "output_type": "stream",
     "text": [
      "Training until validation scores don't improve for 30 rounds\n"
     ]
    },
    {
     "name": "stderr",
     "output_type": "stream",
     "text": [
      "[I 2025-08-04 22:46:03,987] Trial 15 finished with value: 0.8967308076436513 and parameters: {'learning_rate': 0.07054293724282296, 'num_leaves': 39, 'max_depth': 5, 'min_child_samples': 43, 'feature_fraction': 0.9736877684627888, 'bagging_fraction': 0.9761336101475047, 'lambda_l1': 0.48985639338355985, 'lambda_l2': 0.760799195381616}. Best is trial 2 with value: 0.9155070244357147.\n"
     ]
    },
    {
     "name": "stdout",
     "output_type": "stream",
     "text": [
      "Early stopping, best iteration is:\n",
      "[24]\tvalid_0's auc: 0.896731\n",
      "Training until validation scores don't improve for 30 rounds\n"
     ]
    },
    {
     "name": "stderr",
     "output_type": "stream",
     "text": [
      "[I 2025-08-04 22:46:04,374] Trial 16 finished with value: 0.8849457354018243 and parameters: {'learning_rate': 0.12884708081193136, 'num_leaves': 27, 'max_depth': 9, 'min_child_samples': 40, 'feature_fraction': 0.9007068318990441, 'bagging_fraction': 0.9377904678034772, 'lambda_l1': 0.1828223542213952, 'lambda_l2': 0.5465825674420727}. Best is trial 2 with value: 0.9155070244357147.\n"
     ]
    },
    {
     "name": "stdout",
     "output_type": "stream",
     "text": [
      "Early stopping, best iteration is:\n",
      "[17]\tvalid_0's auc: 0.884946\n",
      "Training until validation scores don't improve for 30 rounds\n"
     ]
    },
    {
     "name": "stderr",
     "output_type": "stream",
     "text": [
      "[I 2025-08-04 22:46:04,756] Trial 17 finished with value: 0.8674345828617085 and parameters: {'learning_rate': 0.19891940093738278, 'num_leaves': 43, 'max_depth': 11, 'min_child_samples': 34, 'feature_fraction': 0.7704229082054542, 'bagging_fraction': 0.7678018823984385, 'lambda_l1': 0.3684652820086604, 'lambda_l2': 0.8148634373883173}. Best is trial 2 with value: 0.9155070244357147.\n"
     ]
    },
    {
     "name": "stdout",
     "output_type": "stream",
     "text": [
      "Early stopping, best iteration is:\n",
      "[6]\tvalid_0's auc: 0.867435\n",
      "Training until validation scores don't improve for 30 rounds\n"
     ]
    },
    {
     "name": "stderr",
     "output_type": "stream",
     "text": [
      "[I 2025-08-04 22:46:05,054] Trial 18 finished with value: 0.9116119581862974 and parameters: {'learning_rate': 0.043089322120933936, 'num_leaves': 62, 'max_depth': 8, 'min_child_samples': 45, 'feature_fraction': 0.99260716575786, 'bagging_fraction': 0.8682263495922542, 'lambda_l1': 0.15079704590081616, 'lambda_l2': 0.22334848058018908}. Best is trial 2 with value: 0.9155070244357147.\n"
     ]
    },
    {
     "name": "stdout",
     "output_type": "stream",
     "text": [
      "Early stopping, best iteration is:\n",
      "[3]\tvalid_0's auc: 0.911612\n",
      "Training until validation scores don't improve for 30 rounds\n"
     ]
    },
    {
     "name": "stderr",
     "output_type": "stream",
     "text": [
      "[I 2025-08-04 22:46:05,442] Trial 19 finished with value: 0.8983953658698981 and parameters: {'learning_rate': 0.08769228882365623, 'num_leaves': 65, 'max_depth': 5, 'min_child_samples': 28, 'feature_fraction': 0.9348016450777532, 'bagging_fraction': 0.7765241952059282, 'lambda_l1': 0.002633385486966011, 'lambda_l2': 0.5856063098268984}. Best is trial 2 with value: 0.9155070244357147.\n"
     ]
    },
    {
     "name": "stdout",
     "output_type": "stream",
     "text": [
      "Early stopping, best iteration is:\n",
      "[47]\tvalid_0's auc: 0.898395\n",
      "Training until validation scores don't improve for 30 rounds\n"
     ]
    },
    {
     "name": "stderr",
     "output_type": "stream",
     "text": [
      "[I 2025-08-04 22:46:05,671] Trial 20 finished with value: 0.8798521872295092 and parameters: {'learning_rate': 0.011447238200665542, 'num_leaves': 29, 'max_depth': 6, 'min_child_samples': 14, 'feature_fraction': 0.7031304917311496, 'bagging_fraction': 0.8454731791065052, 'lambda_l1': 0.5493914307209261, 'lambda_l2': 0.21226414269877814}. Best is trial 2 with value: 0.9155070244357147.\n"
     ]
    },
    {
     "name": "stdout",
     "output_type": "stream",
     "text": [
      "Early stopping, best iteration is:\n",
      "[7]\tvalid_0's auc: 0.879852\n",
      "Training until validation scores don't improve for 30 rounds\n"
     ]
    },
    {
     "name": "stderr",
     "output_type": "stream",
     "text": [
      "[I 2025-08-04 22:46:05,954] Trial 21 finished with value: 0.899527265463746 and parameters: {'learning_rate': 0.039614302350865896, 'num_leaves': 58, 'max_depth': 8, 'min_child_samples': 46, 'feature_fraction': 0.9842094611801732, 'bagging_fraction': 0.8737772828783692, 'lambda_l1': 0.13624559274071574, 'lambda_l2': 0.21559703845263564}. Best is trial 2 with value: 0.9155070244357147.\n"
     ]
    },
    {
     "name": "stdout",
     "output_type": "stream",
     "text": [
      "Early stopping, best iteration is:\n",
      "[1]\tvalid_0's auc: 0.899527\n",
      "Training until validation scores don't improve for 30 rounds\n"
     ]
    },
    {
     "name": "stderr",
     "output_type": "stream",
     "text": [
      "[I 2025-08-04 22:46:06,660] Trial 22 finished with value: 0.9036553698648379 and parameters: {'learning_rate': 0.038556922974830043, 'num_leaves': 80, 'max_depth': 9, 'min_child_samples': 43, 'feature_fraction': 0.8822274419890007, 'bagging_fraction': 0.9299314532696278, 'lambda_l1': 0.25822066203389127, 'lambda_l2': 0.49232015273583474}. Best is trial 2 with value: 0.9155070244357147.\n"
     ]
    },
    {
     "name": "stdout",
     "output_type": "stream",
     "text": [
      "Early stopping, best iteration is:\n",
      "[65]\tvalid_0's auc: 0.903655\n",
      "Training until validation scores don't improve for 30 rounds\n"
     ]
    },
    {
     "name": "stderr",
     "output_type": "stream",
     "text": [
      "[I 2025-08-04 22:46:07,003] Trial 23 finished with value: 0.930255010320261 and parameters: {'learning_rate': 0.05638079250862968, 'num_leaves': 63, 'max_depth': 10, 'min_child_samples': 50, 'feature_fraction': 0.9962594736925701, 'bagging_fraction': 0.8444161482170571, 'lambda_l1': 0.3996417722661608, 'lambda_l2': 0.23836610059023544}. Best is trial 23 with value: 0.930255010320261.\n"
     ]
    },
    {
     "name": "stdout",
     "output_type": "stream",
     "text": [
      "Early stopping, best iteration is:\n",
      "[3]\tvalid_0's auc: 0.930255\n",
      "Training until validation scores don't improve for 30 rounds\n"
     ]
    },
    {
     "name": "stderr",
     "output_type": "stream",
     "text": [
      "[I 2025-08-04 22:46:07,593] Trial 24 finished with value: 0.9045209401424862 and parameters: {'learning_rate': 0.0625130511861854, 'num_leaves': 70, 'max_depth': 10, 'min_child_samples': 49, 'feature_fraction': 0.9473538527825774, 'bagging_fraction': 0.7868804931538643, 'lambda_l1': 0.40377100187281456, 'lambda_l2': 0.44107347969840255}. Best is trial 23 with value: 0.930255010320261.\n"
     ]
    },
    {
     "name": "stdout",
     "output_type": "stream",
     "text": [
      "Early stopping, best iteration is:\n",
      "[38]\tvalid_0's auc: 0.904521\n",
      "Training until validation scores don't improve for 30 rounds\n"
     ]
    },
    {
     "name": "stderr",
     "output_type": "stream",
     "text": [
      "[I 2025-08-04 22:46:07,944] Trial 25 finished with value: 0.918969305546308 and parameters: {'learning_rate': 0.08634696627772066, 'num_leaves': 75, 'max_depth': 11, 'min_child_samples': 50, 'feature_fraction': 0.8523109631989867, 'bagging_fraction': 0.9585245917647616, 'lambda_l1': 0.5607140881575212, 'lambda_l2': 0.01696439696315677}. Best is trial 23 with value: 0.930255010320261.\n"
     ]
    },
    {
     "name": "stdout",
     "output_type": "stream",
     "text": [
      "Early stopping, best iteration is:\n",
      "[6]\tvalid_0's auc: 0.918969\n",
      "Training until validation scores don't improve for 30 rounds\n"
     ]
    },
    {
     "name": "stderr",
     "output_type": "stream",
     "text": [
      "[I 2025-08-04 22:46:08,296] Trial 26 finished with value: 0.9368466608961981 and parameters: {'learning_rate': 0.09040803461583645, 'num_leaves': 77, 'max_depth': 11, 'min_child_samples': 50, 'feature_fraction': 0.8457556743453771, 'bagging_fraction': 0.9613487818680446, 'lambda_l1': 0.5098501143987634, 'lambda_l2': 0.0005959372239246787}. Best is trial 26 with value: 0.9368466608961981.\n"
     ]
    },
    {
     "name": "stdout",
     "output_type": "stream",
     "text": [
      "Early stopping, best iteration is:\n",
      "[6]\tvalid_0's auc: 0.936847\n",
      "Training until validation scores don't improve for 30 rounds\n"
     ]
    },
    {
     "name": "stderr",
     "output_type": "stream",
     "text": [
      "[I 2025-08-04 22:46:08,605] Trial 27 finished with value: 0.9252946268060457 and parameters: {'learning_rate': 0.08866262038699804, 'num_leaves': 74, 'max_depth': 11, 'min_child_samples': 50, 'feature_fraction': 0.8054877030610508, 'bagging_fraction': 0.9655339002096979, 'lambda_l1': 0.563994096736019, 'lambda_l2': 0.02397908356754397}. Best is trial 26 with value: 0.9368466608961981.\n"
     ]
    },
    {
     "name": "stdout",
     "output_type": "stream",
     "text": [
      "Early stopping, best iteration is:\n",
      "[4]\tvalid_0's auc: 0.925295\n",
      "Training until validation scores don't improve for 30 rounds\n"
     ]
    },
    {
     "name": "stderr",
     "output_type": "stream",
     "text": [
      "[I 2025-08-04 22:46:08,885] Trial 28 finished with value: 0.8650043278513883 and parameters: {'learning_rate': 0.10984124348177815, 'num_leaves': 66, 'max_depth': 11, 'min_child_samples': 36, 'feature_fraction': 0.7175162924528636, 'bagging_fraction': 0.9945685930602659, 'lambda_l1': 0.913090500584179, 'lambda_l2': 0.13449779177412596}. Best is trial 26 with value: 0.9368466608961981.\n"
     ]
    },
    {
     "name": "stdout",
     "output_type": "stream",
     "text": [
      "Early stopping, best iteration is:\n",
      "[2]\tvalid_0's auc: 0.865004\n",
      "Training until validation scores don't improve for 30 rounds\n"
     ]
    },
    {
     "name": "stderr",
     "output_type": "stream",
     "text": [
      "[I 2025-08-04 22:46:09,291] Trial 29 finished with value: 0.914841201145216 and parameters: {'learning_rate': 0.10245670560249026, 'num_leaves': 73, 'max_depth': 12, 'min_child_samples': 50, 'feature_fraction': 0.8078531749788137, 'bagging_fraction': 0.9460964524982433, 'lambda_l1': 0.5601574597661496, 'lambda_l2': 0.023907967900360625}. Best is trial 26 with value: 0.9368466608961981.\n"
     ]
    },
    {
     "name": "stdout",
     "output_type": "stream",
     "text": [
      "Early stopping, best iteration is:\n",
      "[13]\tvalid_0's auc: 0.914841\n",
      "\n",
      "📍 Training for label: NR-AhR\n"
     ]
    },
    {
     "name": "stderr",
     "output_type": "stream",
     "text": [
      "[I 2025-08-04 22:46:13,493] A new study created in memory with name: no-name-2c80d9b1-9f7b-4e64-ab6e-381cae0c79d4\n"
     ]
    },
    {
     "name": "stdout",
     "output_type": "stream",
     "text": [
      "Training until validation scores don't improve for 30 rounds\n"
     ]
    },
    {
     "name": "stderr",
     "output_type": "stream",
     "text": [
      "[I 2025-08-04 22:46:14,779] Trial 0 finished with value: 0.9325484204376938 and parameters: {'learning_rate': 0.17211265001088644, 'num_leaves': 74, 'max_depth': 10, 'min_child_samples': 16, 'feature_fraction': 0.8424263993073313, 'bagging_fraction': 0.8888303522325349, 'lambda_l1': 0.45254822031745856, 'lambda_l2': 0.7742261924485553}. Best is trial 0 with value: 0.9325484204376938.\n"
     ]
    },
    {
     "name": "stdout",
     "output_type": "stream",
     "text": [
      "Did not meet early stopping. Best iteration is:\n",
      "[96]\tvalid_0's auc: 0.932548\n",
      "Training until validation scores don't improve for 30 rounds\n"
     ]
    },
    {
     "name": "stderr",
     "output_type": "stream",
     "text": [
      "[I 2025-08-04 22:46:16,057] Trial 1 finished with value: 0.9156742911068171 and parameters: {'learning_rate': 0.019331201233239656, 'num_leaves': 61, 'max_depth': 11, 'min_child_samples': 31, 'feature_fraction': 0.9396246017127737, 'bagging_fraction': 0.6598181174606813, 'lambda_l1': 0.36232007869935967, 'lambda_l2': 0.2950617014873317}. Best is trial 0 with value: 0.9325484204376938.\n"
     ]
    },
    {
     "name": "stdout",
     "output_type": "stream",
     "text": [
      "Did not meet early stopping. Best iteration is:\n",
      "[100]\tvalid_0's auc: 0.915674\n",
      "Training until validation scores don't improve for 30 rounds\n"
     ]
    },
    {
     "name": "stderr",
     "output_type": "stream",
     "text": [
      "[I 2025-08-04 22:46:16,910] Trial 2 finished with value: 0.9212915112569092 and parameters: {'learning_rate': 0.09448909830712726, 'num_leaves': 32, 'max_depth': 10, 'min_child_samples': 23, 'feature_fraction': 0.8202454679907321, 'bagging_fraction': 0.6342451359513234, 'lambda_l1': 0.43101545838172806, 'lambda_l2': 0.010178275964630168}. Best is trial 0 with value: 0.9325484204376938.\n"
     ]
    },
    {
     "name": "stdout",
     "output_type": "stream",
     "text": [
      "Did not meet early stopping. Best iteration is:\n",
      "[100]\tvalid_0's auc: 0.921292\n",
      "Training until validation scores don't improve for 30 rounds\n"
     ]
    },
    {
     "name": "stderr",
     "output_type": "stream",
     "text": [
      "[I 2025-08-04 22:46:17,539] Trial 3 finished with value: 0.9135622163303824 and parameters: {'learning_rate': 0.19357369506502045, 'num_leaves': 54, 'max_depth': 11, 'min_child_samples': 16, 'feature_fraction': 0.6617183383691428, 'bagging_fraction': 0.942081882937554, 'lambda_l1': 0.39797397253759226, 'lambda_l2': 0.7167119280834373}. Best is trial 0 with value: 0.9325484204376938.\n"
     ]
    },
    {
     "name": "stdout",
     "output_type": "stream",
     "text": [
      "Early stopping, best iteration is:\n",
      "[24]\tvalid_0's auc: 0.913562\n",
      "Training until validation scores don't improve for 30 rounds\n"
     ]
    },
    {
     "name": "stderr",
     "output_type": "stream",
     "text": [
      "[I 2025-08-04 22:46:17,806] Trial 4 finished with value: 0.9237406192423494 and parameters: {'learning_rate': 0.12188599390856024, 'num_leaves': 23, 'max_depth': 5, 'min_child_samples': 40, 'feature_fraction': 0.7144481741796078, 'bagging_fraction': 0.8398309311974093, 'lambda_l1': 0.4934095240855544, 'lambda_l2': 0.7993054111548445}. Best is trial 0 with value: 0.9325484204376938.\n"
     ]
    },
    {
     "name": "stdout",
     "output_type": "stream",
     "text": [
      "Early stopping, best iteration is:\n",
      "[43]\tvalid_0's auc: 0.923741\n",
      "Training until validation scores don't improve for 30 rounds\n"
     ]
    },
    {
     "name": "stderr",
     "output_type": "stream",
     "text": [
      "[I 2025-08-04 22:46:18,527] Trial 5 finished with value: 0.9400080887970161 and parameters: {'learning_rate': 0.18145239289959975, 'num_leaves': 64, 'max_depth': 9, 'min_child_samples': 28, 'feature_fraction': 0.6386896398611538, 'bagging_fraction': 0.7076597873518597, 'lambda_l1': 0.500659025485002, 'lambda_l2': 0.013920191565437556}. Best is trial 5 with value: 0.9400080887970161.\n"
     ]
    },
    {
     "name": "stdout",
     "output_type": "stream",
     "text": [
      "Did not meet early stopping. Best iteration is:\n",
      "[84]\tvalid_0's auc: 0.940008\n",
      "Training until validation scores don't improve for 30 rounds\n"
     ]
    },
    {
     "name": "stderr",
     "output_type": "stream",
     "text": [
      "[I 2025-08-04 22:46:19,404] Trial 6 finished with value: 0.9202130049880916 and parameters: {'learning_rate': 0.06515527152424856, 'num_leaves': 46, 'max_depth': 10, 'min_child_samples': 21, 'feature_fraction': 0.6561567188229149, 'bagging_fraction': 0.858706528313981, 'lambda_l1': 0.681570001721465, 'lambda_l2': 0.9998923281425474}. Best is trial 5 with value: 0.9400080887970161.\n"
     ]
    },
    {
     "name": "stdout",
     "output_type": "stream",
     "text": [
      "Did not meet early stopping. Best iteration is:\n",
      "[96]\tvalid_0's auc: 0.920213\n",
      "Training until validation scores don't improve for 30 rounds\n"
     ]
    },
    {
     "name": "stderr",
     "output_type": "stream",
     "text": [
      "[I 2025-08-04 22:46:19,731] Trial 7 finished with value: 0.9327281714824968 and parameters: {'learning_rate': 0.14297010741488833, 'num_leaves': 33, 'max_depth': 6, 'min_child_samples': 46, 'feature_fraction': 0.6713584285109157, 'bagging_fraction': 0.9507369647868256, 'lambda_l1': 0.4935190173564995, 'lambda_l2': 0.8953796409298386}. Best is trial 5 with value: 0.9400080887970161.\n"
     ]
    },
    {
     "name": "stdout",
     "output_type": "stream",
     "text": [
      "Early stopping, best iteration is:\n",
      "[39]\tvalid_0's auc: 0.932728\n",
      "Training until validation scores don't improve for 30 rounds\n"
     ]
    },
    {
     "name": "stderr",
     "output_type": "stream",
     "text": [
      "[I 2025-08-04 22:46:20,701] Trial 8 finished with value: 0.9232238349885409 and parameters: {'learning_rate': 0.08728626578654446, 'num_leaves': 57, 'max_depth': 8, 'min_child_samples': 24, 'feature_fraction': 0.8102953305594671, 'bagging_fraction': 0.9639618991906298, 'lambda_l1': 0.6002313204626003, 'lambda_l2': 0.8474117732179468}. Best is trial 5 with value: 0.9400080887970161.\n"
     ]
    },
    {
     "name": "stdout",
     "output_type": "stream",
     "text": [
      "Did not meet early stopping. Best iteration is:\n",
      "[78]\tvalid_0's auc: 0.923224\n",
      "Training until validation scores don't improve for 30 rounds\n"
     ]
    },
    {
     "name": "stderr",
     "output_type": "stream",
     "text": [
      "[I 2025-08-04 22:46:21,690] Trial 9 finished with value: 0.9291106817058374 and parameters: {'learning_rate': 0.15981736423247123, 'num_leaves': 57, 'max_depth': 9, 'min_child_samples': 16, 'feature_fraction': 0.7920221133978159, 'bagging_fraction': 0.7078955065890993, 'lambda_l1': 0.5013518497485083, 'lambda_l2': 0.22963888637887941}. Best is trial 5 with value: 0.9400080887970161.\n"
     ]
    },
    {
     "name": "stdout",
     "output_type": "stream",
     "text": [
      "Did not meet early stopping. Best iteration is:\n",
      "[78]\tvalid_0's auc: 0.929111\n",
      "Training until validation scores don't improve for 30 rounds\n"
     ]
    },
    {
     "name": "stderr",
     "output_type": "stream",
     "text": [
      "[I 2025-08-04 22:46:21,952] Trial 10 finished with value: 0.9134049341661798 and parameters: {'learning_rate': 0.03740805067525009, 'num_leaves': 80, 'max_depth': 3, 'min_child_samples': 33, 'feature_fraction': 0.9870843173050896, 'bagging_fraction': 0.7480141171655006, 'lambda_l1': 0.06942897778300539, 'lambda_l2': 0.46532782958347296}. Best is trial 5 with value: 0.9400080887970161.\n"
     ]
    },
    {
     "name": "stdout",
     "output_type": "stream",
     "text": [
      "Did not meet early stopping. Best iteration is:\n",
      "[98]\tvalid_0's auc: 0.913405\n",
      "Training until validation scores don't improve for 30 rounds\n"
     ]
    },
    {
     "name": "stderr",
     "output_type": "stream",
     "text": [
      "[I 2025-08-04 22:46:22,367] Trial 11 finished with value: 0.9254257852873771 and parameters: {'learning_rate': 0.1322736417404182, 'num_leaves': 40, 'max_depth': 6, 'min_child_samples': 43, 'feature_fraction': 0.6153093617891592, 'bagging_fraction': 0.7739402649904182, 'lambda_l1': 0.9057806854834796, 'lambda_l2': 0.5572634714633873}. Best is trial 5 with value: 0.9400080887970161.\n"
     ]
    },
    {
     "name": "stdout",
     "output_type": "stream",
     "text": [
      "Early stopping, best iteration is:\n",
      "[55]\tvalid_0's auc: 0.925426\n",
      "Training until validation scores don't improve for 30 rounds\n"
     ]
    },
    {
     "name": "stderr",
     "output_type": "stream",
     "text": [
      "[I 2025-08-04 22:46:22,663] Trial 12 finished with value: 0.9198535028984857 and parameters: {'learning_rate': 0.14578899557181088, 'num_leaves': 69, 'max_depth': 6, 'min_child_samples': 50, 'feature_fraction': 0.7263310462650434, 'bagging_fraction': 0.7288807622926581, 'lambda_l1': 0.16144524220553313, 'lambda_l2': 0.0001025294573488069}. Best is trial 5 with value: 0.9400080887970161.\n"
     ]
    },
    {
     "name": "stdout",
     "output_type": "stream",
     "text": [
      "Early stopping, best iteration is:\n",
      "[22]\tvalid_0's auc: 0.919854\n",
      "Training until validation scores don't improve for 30 rounds\n"
     ]
    },
    {
     "name": "stderr",
     "output_type": "stream",
     "text": [
      "[I 2025-08-04 22:46:23,228] Trial 13 finished with value: 0.9241450590931559 and parameters: {'learning_rate': 0.19657410312615062, 'num_leaves': 35, 'max_depth': 7, 'min_child_samples': 39, 'feature_fraction': 0.604100159785435, 'bagging_fraction': 0.8064759076571986, 'lambda_l1': 0.814789440950393, 'lambda_l2': 0.2097932058590424}. Best is trial 5 with value: 0.9400080887970161.\n"
     ]
    },
    {
     "name": "stdout",
     "output_type": "stream",
     "text": [
      "Did not meet early stopping. Best iteration is:\n",
      "[86]\tvalid_0's auc: 0.924145\n",
      "Training until validation scores don't improve for 30 rounds\n"
     ]
    },
    {
     "name": "stderr",
     "output_type": "stream",
     "text": [
      "[I 2025-08-04 22:46:23,497] Trial 14 finished with value: 0.9217858266301173 and parameters: {'learning_rate': 0.17181825022773048, 'num_leaves': 20, 'max_depth': 4, 'min_child_samples': 50, 'feature_fraction': 0.7249941645195014, 'bagging_fraction': 0.6052272584582665, 'lambda_l1': 0.24210152597440193, 'lambda_l2': 0.567694933412148}. Best is trial 5 with value: 0.9400080887970161.\n"
     ]
    },
    {
     "name": "stdout",
     "output_type": "stream",
     "text": [
      "Did not meet early stopping. Best iteration is:\n",
      "[97]\tvalid_0's auc: 0.921786\n",
      "Training until validation scores don't improve for 30 rounds\n"
     ]
    },
    {
     "name": "stderr",
     "output_type": "stream",
     "text": [
      "[I 2025-08-04 22:46:24,254] Trial 15 finished with value: 0.9276052667056127 and parameters: {'learning_rate': 0.12397189628826205, 'num_leaves': 66, 'max_depth': 8, 'min_child_samples': 36, 'feature_fraction': 0.6737738497806566, 'bagging_fraction': 0.924696913597465, 'lambda_l1': 0.6880152070444184, 'lambda_l2': 0.39702158346920247}. Best is trial 5 with value: 0.9400080887970161.\n"
     ]
    },
    {
     "name": "stdout",
     "output_type": "stream",
     "text": [
      "Did not meet early stopping. Best iteration is:\n",
      "[100]\tvalid_0's auc: 0.927605\n",
      "Training until validation scores don't improve for 30 rounds\n"
     ]
    },
    {
     "name": "stderr",
     "output_type": "stream",
     "text": [
      "[I 2025-08-04 22:46:25,449] Trial 16 finished with value: 0.9133824652855794 and parameters: {'learning_rate': 0.15680431568893063, 'num_leaves': 43, 'max_depth': 12, 'min_child_samples': 10, 'feature_fraction': 0.7550019449445743, 'bagging_fraction': 0.708773352555821, 'lambda_l1': 0.2713335401689455, 'lambda_l2': 0.6504445502014423}. Best is trial 5 with value: 0.9400080887970161.\n"
     ]
    },
    {
     "name": "stdout",
     "output_type": "stream",
     "text": [
      "Did not meet early stopping. Best iteration is:\n",
      "[96]\tvalid_0's auc: 0.913382\n",
      "Training until validation scores don't improve for 30 rounds\n"
     ]
    },
    {
     "name": "stderr",
     "output_type": "stream",
     "text": [
      "[I 2025-08-04 22:46:26,019] Trial 17 finished with value: 0.9155170089426145 and parameters: {'learning_rate': 0.18019752952458626, 'num_leaves': 28, 'max_depth': 7, 'min_child_samples': 29, 'feature_fraction': 0.8821852201298493, 'bagging_fraction': 0.9910756101878276, 'lambda_l1': 0.6255578872485504, 'lambda_l2': 0.9177404262615313}. Best is trial 5 with value: 0.9400080887970161.\n"
     ]
    },
    {
     "name": "stdout",
     "output_type": "stream",
     "text": [
      "Early stopping, best iteration is:\n",
      "[51]\tvalid_0's auc: 0.915517\n",
      "Training until validation scores don't improve for 30 rounds\n"
     ]
    },
    {
     "name": "stderr",
     "output_type": "stream",
     "text": [
      "[I 2025-08-04 22:46:26,305] Trial 18 finished with value: 0.926099851705388 and parameters: {'learning_rate': 0.13556823406323218, 'num_leaves': 49, 'max_depth': 5, 'min_child_samples': 45, 'feature_fraction': 0.6447802542348311, 'bagging_fraction': 0.678958140148384, 'lambda_l1': 0.7917632444463328, 'lambda_l2': 0.11968333911340759}. Best is trial 5 with value: 0.9400080887970161.\n"
     ]
    },
    {
     "name": "stdout",
     "output_type": "stream",
     "text": [
      "Early stopping, best iteration is:\n",
      "[43]\tvalid_0's auc: 0.9261\n",
      "Training until validation scores don't improve for 30 rounds\n"
     ]
    },
    {
     "name": "stderr",
     "output_type": "stream",
     "text": [
      "[I 2025-08-04 22:46:26,890] Trial 19 finished with value: 0.918235743495259 and parameters: {'learning_rate': 0.10996568014037836, 'num_leaves': 38, 'max_depth': 9, 'min_child_samples': 27, 'feature_fraction': 0.6913980657731601, 'bagging_fraction': 0.8097522491479211, 'lambda_l1': 0.5412033424425897, 'lambda_l2': 0.37536501718410864}. Best is trial 5 with value: 0.9400080887970161.\n"
     ]
    },
    {
     "name": "stdout",
     "output_type": "stream",
     "text": [
      "Early stopping, best iteration is:\n",
      "[31]\tvalid_0's auc: 0.918236\n",
      "Training until validation scores don't improve for 30 rounds\n"
     ]
    },
    {
     "name": "stderr",
     "output_type": "stream",
     "text": [
      "[I 2025-08-04 22:46:27,523] Trial 20 finished with value: 0.929942030288051 and parameters: {'learning_rate': 0.06934481706877357, 'num_leaves': 63, 'max_depth': 6, 'min_child_samples': 34, 'feature_fraction': 0.7657466680580187, 'bagging_fraction': 0.8947474161069144, 'lambda_l1': 0.3518894866039769, 'lambda_l2': 0.6490945539881074}. Best is trial 5 with value: 0.9400080887970161.\n"
     ]
    },
    {
     "name": "stdout",
     "output_type": "stream",
     "text": [
      "Early stopping, best iteration is:\n",
      "[60]\tvalid_0's auc: 0.929942\n",
      "Training until validation scores don't improve for 30 rounds\n"
     ]
    },
    {
     "name": "stderr",
     "output_type": "stream",
     "text": [
      "[I 2025-08-04 22:46:29,049] Trial 21 finished with value: 0.9263020716307914 and parameters: {'learning_rate': 0.17324323591500174, 'num_leaves': 76, 'max_depth': 9, 'min_child_samples': 10, 'feature_fraction': 0.8816904538046662, 'bagging_fraction': 0.8821352182278932, 'lambda_l1': 0.28852440602451446, 'lambda_l2': 0.7968307850778527}. Best is trial 5 with value: 0.9400080887970161.\n"
     ]
    },
    {
     "name": "stdout",
     "output_type": "stream",
     "text": [
      "Did not meet early stopping. Best iteration is:\n",
      "[99]\tvalid_0's auc: 0.926302\n",
      "Training until validation scores don't improve for 30 rounds\n"
     ]
    },
    {
     "name": "stderr",
     "output_type": "stream",
     "text": [
      "[I 2025-08-04 22:46:30,393] Trial 22 finished with value: 0.9224149552869276 and parameters: {'learning_rate': 0.15214401293520347, 'num_leaves': 72, 'max_depth': 10, 'min_child_samples': 19, 'feature_fraction': 0.8681267080868762, 'bagging_fraction': 0.9981928976654663, 'lambda_l1': 0.45784479315542037, 'lambda_l2': 0.9983024367558515}. Best is trial 5 with value: 0.9400080887970161.\n"
     ]
    },
    {
     "name": "stdout",
     "output_type": "stream",
     "text": [
      "Did not meet early stopping. Best iteration is:\n",
      "[98]\tvalid_0's auc: 0.922415\n",
      "Training until validation scores don't improve for 30 rounds\n"
     ]
    },
    {
     "name": "stderr",
     "output_type": "stream",
     "text": [
      "[I 2025-08-04 22:46:31,485] Trial 23 finished with value: 0.9208421336449018 and parameters: {'learning_rate': 0.184487004417543, 'num_leaves': 73, 'max_depth': 12, 'min_child_samples': 27, 'feature_fraction': 0.8474395078479674, 'bagging_fraction': 0.9150898758134871, 'lambda_l1': 0.5743622182314801, 'lambda_l2': 0.8843135515042243}. Best is trial 5 with value: 0.9400080887970161.\n"
     ]
    },
    {
     "name": "stdout",
     "output_type": "stream",
     "text": [
      "Did not meet early stopping. Best iteration is:\n",
      "[92]\tvalid_0's auc: 0.920842\n",
      "Training until validation scores don't improve for 30 rounds\n"
     ]
    },
    {
     "name": "stderr",
     "output_type": "stream",
     "text": [
      "[I 2025-08-04 22:46:32,480] Trial 24 finished with value: 0.9346604952141284 and parameters: {'learning_rate': 0.1665935641775683, 'num_leaves': 79, 'max_depth': 8, 'min_child_samples': 15, 'feature_fraction': 0.9269091063975676, 'bagging_fraction': 0.8572816479077069, 'lambda_l1': 0.7201392384984028, 'lambda_l2': 0.720243588830187}. Best is trial 5 with value: 0.9400080887970161.\n"
     ]
    },
    {
     "name": "stdout",
     "output_type": "stream",
     "text": [
      "Early stopping, best iteration is:\n",
      "[51]\tvalid_0's auc: 0.93466\n",
      "Training until validation scores don't improve for 30 rounds\n"
     ]
    },
    {
     "name": "stderr",
     "output_type": "stream",
     "text": [
      "[I 2025-08-04 22:46:33,440] Trial 25 finished with value: 0.9201680672268908 and parameters: {'learning_rate': 0.14196055362227417, 'num_leaves': 66, 'max_depth': 8, 'min_child_samples': 45, 'feature_fraction': 0.942565536748063, 'bagging_fraction': 0.8414270285854031, 'lambda_l1': 0.9657154271022897, 'lambda_l2': 0.7214826180657756}. Best is trial 5 with value: 0.9400080887970161.\n"
     ]
    },
    {
     "name": "stdout",
     "output_type": "stream",
     "text": [
      "Did not meet early stopping. Best iteration is:\n",
      "[81]\tvalid_0's auc: 0.920168\n",
      "Training until validation scores don't improve for 30 rounds\n"
     ]
    },
    {
     "name": "stderr",
     "output_type": "stream",
     "text": [
      "[I 2025-08-04 22:46:33,943] Trial 26 finished with value: 0.9173145193906439 and parameters: {'learning_rate': 0.19941599780330646, 'num_leaves': 79, 'max_depth': 7, 'min_child_samples': 13, 'feature_fraction': 0.6246678299006287, 'bagging_fraction': 0.7861302227222983, 'lambda_l1': 0.7724112463499789, 'lambda_l2': 0.619741993562275}. Best is trial 5 with value: 0.9400080887970161.\n"
     ]
    },
    {
     "name": "stdout",
     "output_type": "stream",
     "text": [
      "Early stopping, best iteration is:\n",
      "[28]\tvalid_0's auc: 0.917315\n",
      "Training until validation scores don't improve for 30 rounds\n"
     ]
    },
    {
     "name": "stderr",
     "output_type": "stream",
     "text": [
      "[I 2025-08-04 22:46:34,320] Trial 27 finished with value: 0.9138767806587875 and parameters: {'learning_rate': 0.1616203442704729, 'num_leaves': 52, 'max_depth': 5, 'min_child_samples': 39, 'feature_fraction': 0.9138990352201252, 'bagging_fraction': 0.9558122002219377, 'lambda_l1': 0.6699460230005401, 'lambda_l2': 0.926521857488727}. Best is trial 5 with value: 0.9400080887970161.\n"
     ]
    },
    {
     "name": "stdout",
     "output_type": "stream",
     "text": [
      "Early stopping, best iteration is:\n",
      "[56]\tvalid_0's auc: 0.913877\n",
      "Training until validation scores don't improve for 30 rounds\n"
     ]
    },
    {
     "name": "stderr",
     "output_type": "stream",
     "text": [
      "[I 2025-08-04 22:46:35,179] Trial 28 finished with value: 0.9288185862580326 and parameters: {'learning_rate': 0.12039997487338132, 'num_leaves': 28, 'max_depth': 8, 'min_child_samples': 25, 'feature_fraction': 0.9990123579740262, 'bagging_fraction': 0.7505838095771846, 'lambda_l1': 0.7479879007755723, 'lambda_l2': 0.5082847131401034}. Best is trial 5 with value: 0.9400080887970161.\n"
     ]
    },
    {
     "name": "stdout",
     "output_type": "stream",
     "text": [
      "Did not meet early stopping. Best iteration is:\n",
      "[91]\tvalid_0's auc: 0.928819\n",
      "Training until validation scores don't improve for 30 rounds\n"
     ]
    },
    {
     "name": "stderr",
     "output_type": "stream",
     "text": [
      "[I 2025-08-04 22:46:35,989] Trial 29 finished with value: 0.9269087314070013 and parameters: {'learning_rate': 0.16932003605912738, 'num_leaves': 70, 'max_depth': 9, 'min_child_samples': 19, 'feature_fraction': 0.6945178629877246, 'bagging_fraction': 0.8928299517387708, 'lambda_l1': 0.5437765351232545, 'lambda_l2': 0.6953364215479002}. Best is trial 5 with value: 0.9400080887970161.\n"
     ]
    },
    {
     "name": "stdout",
     "output_type": "stream",
     "text": [
      "Early stopping, best iteration is:\n",
      "[50]\tvalid_0's auc: 0.926909\n",
      "\n",
      "📍 Training for label: NR-Aromatase\n"
     ]
    },
    {
     "name": "stderr",
     "output_type": "stream",
     "text": [
      "[I 2025-08-04 22:46:39,933] A new study created in memory with name: no-name-6f55ad3d-5439-40e2-b7c2-64d285b5d217\n"
     ]
    },
    {
     "name": "stdout",
     "output_type": "stream",
     "text": [
      "Training until validation scores don't improve for 30 rounds\n"
     ]
    },
    {
     "name": "stderr",
     "output_type": "stream",
     "text": [
      "[I 2025-08-04 22:46:40,573] Trial 0 finished with value: 0.9105676328502416 and parameters: {'learning_rate': 0.145198282450879, 'num_leaves': 31, 'max_depth': 12, 'min_child_samples': 26, 'feature_fraction': 0.7567541841570657, 'bagging_fraction': 0.834219116697836, 'lambda_l1': 0.9372970760333909, 'lambda_l2': 0.6278967463054098}. Best is trial 0 with value: 0.9105676328502416.\n"
     ]
    },
    {
     "name": "stdout",
     "output_type": "stream",
     "text": [
      "Early stopping, best iteration is:\n",
      "[41]\tvalid_0's auc: 0.910568\n",
      "Training until validation scores don't improve for 30 rounds\n"
     ]
    },
    {
     "name": "stderr",
     "output_type": "stream",
     "text": [
      "[I 2025-08-04 22:46:40,811] Trial 1 finished with value: 0.9285628019323672 and parameters: {'learning_rate': 0.09495390014264442, 'num_leaves': 20, 'max_depth': 8, 'min_child_samples': 48, 'feature_fraction': 0.6569293733913103, 'bagging_fraction': 0.6084660635447022, 'lambda_l1': 0.46724877106222196, 'lambda_l2': 0.5810970835304563}. Best is trial 1 with value: 0.9285628019323672.\n"
     ]
    },
    {
     "name": "stdout",
     "output_type": "stream",
     "text": [
      "Early stopping, best iteration is:\n",
      "[19]\tvalid_0's auc: 0.928563\n",
      "Training until validation scores don't improve for 30 rounds\n"
     ]
    },
    {
     "name": "stderr",
     "output_type": "stream",
     "text": [
      "[I 2025-08-04 22:46:41,501] Trial 2 finished with value: 0.9090579710144928 and parameters: {'learning_rate': 0.15198143399293707, 'num_leaves': 47, 'max_depth': 9, 'min_child_samples': 32, 'feature_fraction': 0.8274427098848424, 'bagging_fraction': 0.6796333353627926, 'lambda_l1': 0.3011986269979072, 'lambda_l2': 0.605933248900827}. Best is trial 1 with value: 0.9285628019323672.\n"
     ]
    },
    {
     "name": "stdout",
     "output_type": "stream",
     "text": [
      "Early stopping, best iteration is:\n",
      "[53]\tvalid_0's auc: 0.909058\n",
      "Training until validation scores don't improve for 30 rounds\n"
     ]
    },
    {
     "name": "stderr",
     "output_type": "stream",
     "text": [
      "[I 2025-08-04 22:46:42,014] Trial 3 finished with value: 0.8995169082125604 and parameters: {'learning_rate': 0.1475141449671765, 'num_leaves': 33, 'max_depth': 10, 'min_child_samples': 31, 'feature_fraction': 0.7348828910813929, 'bagging_fraction': 0.6323424479403278, 'lambda_l1': 0.8156655368178295, 'lambda_l2': 0.12444072664730677}. Best is trial 1 with value: 0.9285628019323672.\n"
     ]
    },
    {
     "name": "stdout",
     "output_type": "stream",
     "text": [
      "Early stopping, best iteration is:\n",
      "[43]\tvalid_0's auc: 0.899517\n",
      "Training until validation scores don't improve for 30 rounds\n"
     ]
    },
    {
     "name": "stderr",
     "output_type": "stream",
     "text": [
      "[I 2025-08-04 22:46:42,895] Trial 4 finished with value: 0.9161231884057971 and parameters: {'learning_rate': 0.10990103347396475, 'num_leaves': 60, 'max_depth': 9, 'min_child_samples': 23, 'feature_fraction': 0.8644505304470012, 'bagging_fraction': 0.8641974103330854, 'lambda_l1': 0.9950733310362617, 'lambda_l2': 0.8122532117683717}. Best is trial 1 with value: 0.9285628019323672.\n"
     ]
    },
    {
     "name": "stdout",
     "output_type": "stream",
     "text": [
      "Did not meet early stopping. Best iteration is:\n",
      "[74]\tvalid_0's auc: 0.916123\n",
      "Training until validation scores don't improve for 30 rounds\n"
     ]
    },
    {
     "name": "stderr",
     "output_type": "stream",
     "text": [
      "[I 2025-08-04 22:46:43,393] Trial 5 finished with value: 0.9202898550724639 and parameters: {'learning_rate': 0.06434969577120686, 'num_leaves': 40, 'max_depth': 9, 'min_child_samples': 34, 'feature_fraction': 0.8165751396970582, 'bagging_fraction': 0.6821430505335543, 'lambda_l1': 0.5637517220772092, 'lambda_l2': 0.875552839018297}. Best is trial 1 with value: 0.9285628019323672.\n"
     ]
    },
    {
     "name": "stdout",
     "output_type": "stream",
     "text": [
      "Early stopping, best iteration is:\n",
      "[31]\tvalid_0's auc: 0.92029\n",
      "Training until validation scores don't improve for 30 rounds\n"
     ]
    },
    {
     "name": "stderr",
     "output_type": "stream",
     "text": [
      "[I 2025-08-04 22:46:43,980] Trial 6 finished with value: 0.8870772946859903 and parameters: {'learning_rate': 0.1836726193254455, 'num_leaves': 64, 'max_depth': 7, 'min_child_samples': 15, 'feature_fraction': 0.7040685721188094, 'bagging_fraction': 0.8345064936769429, 'lambda_l1': 0.8354179236788577, 'lambda_l2': 0.9621043291046502}. Best is trial 1 with value: 0.9285628019323672.\n",
      "[I 2025-08-04 22:46:44,114] Trial 7 finished with value: 0.9026570048309179 and parameters: {'learning_rate': 0.19141519332074705, 'num_leaves': 44, 'max_depth': 3, 'min_child_samples': 43, 'feature_fraction': 0.851993958910719, 'bagging_fraction': 0.732768160805874, 'lambda_l1': 0.6660421654866334, 'lambda_l2': 0.5350408128057889}. Best is trial 1 with value: 0.9285628019323672.\n"
     ]
    },
    {
     "name": "stdout",
     "output_type": "stream",
     "text": [
      "Did not meet early stopping. Best iteration is:\n",
      "[71]\tvalid_0's auc: 0.887077\n",
      "Training until validation scores don't improve for 30 rounds\n",
      "Early stopping, best iteration is:\n",
      "[27]\tvalid_0's auc: 0.902657\n"
     ]
    },
    {
     "name": "stderr",
     "output_type": "stream",
     "text": [
      "[I 2025-08-04 22:46:44,326] Trial 8 finished with value: 0.9065821256038648 and parameters: {'learning_rate': 0.1503964446989465, 'num_leaves': 31, 'max_depth': 4, 'min_child_samples': 34, 'feature_fraction': 0.8716053837088386, 'bagging_fraction': 0.7514570072176241, 'lambda_l1': 0.45144725881462344, 'lambda_l2': 0.04058998978126516}. Best is trial 1 with value: 0.9285628019323672.\n"
     ]
    },
    {
     "name": "stdout",
     "output_type": "stream",
     "text": [
      "Training until validation scores don't improve for 30 rounds\n",
      "Early stopping, best iteration is:\n",
      "[43]\tvalid_0's auc: 0.906582\n",
      "Training until validation scores don't improve for 30 rounds\n"
     ]
    },
    {
     "name": "stderr",
     "output_type": "stream",
     "text": [
      "[I 2025-08-04 22:46:44,942] Trial 9 finished with value: 0.890157004830918 and parameters: {'learning_rate': 0.12503911765067405, 'num_leaves': 50, 'max_depth': 10, 'min_child_samples': 38, 'feature_fraction': 0.9306978053439551, 'bagging_fraction': 0.7364810642159241, 'lambda_l1': 0.17916271250410365, 'lambda_l2': 0.11867646912767893}. Best is trial 1 with value: 0.9285628019323672.\n"
     ]
    },
    {
     "name": "stdout",
     "output_type": "stream",
     "text": [
      "Early stopping, best iteration is:\n",
      "[38]\tvalid_0's auc: 0.890157\n",
      "Training until validation scores don't improve for 30 rounds\n"
     ]
    },
    {
     "name": "stderr",
     "output_type": "stream",
     "text": [
      "[I 2025-08-04 22:46:45,267] Trial 10 finished with value: 0.9290458937198068 and parameters: {'learning_rate': 0.01675642757015955, 'num_leaves': 21, 'max_depth': 6, 'min_child_samples': 50, 'feature_fraction': 0.6059558598244779, 'bagging_fraction': 0.994818613801139, 'lambda_l1': 0.0005886406736046457, 'lambda_l2': 0.33254248205898995}. Best is trial 10 with value: 0.9290458937198068.\n"
     ]
    },
    {
     "name": "stdout",
     "output_type": "stream",
     "text": [
      "Early stopping, best iteration is:\n",
      "[45]\tvalid_0's auc: 0.929046\n",
      "Training until validation scores don't improve for 30 rounds\n"
     ]
    },
    {
     "name": "stderr",
     "output_type": "stream",
     "text": [
      "[I 2025-08-04 22:46:45,652] Trial 11 finished with value: 0.925 and parameters: {'learning_rate': 0.010536402538235994, 'num_leaves': 21, 'max_depth': 6, 'min_child_samples': 49, 'feature_fraction': 0.6225382871736567, 'bagging_fraction': 0.9841195896608643, 'lambda_l1': 0.017874773615746548, 'lambda_l2': 0.3489261944163296}. Best is trial 10 with value: 0.9290458937198068.\n"
     ]
    },
    {
     "name": "stdout",
     "output_type": "stream",
     "text": [
      "Did not meet early stopping. Best iteration is:\n",
      "[99]\tvalid_0's auc: 0.925\n",
      "Training until validation scores don't improve for 30 rounds\n"
     ]
    },
    {
     "name": "stderr",
     "output_type": "stream",
     "text": [
      "[I 2025-08-04 22:46:45,897] Trial 12 finished with value: 0.9295893719806764 and parameters: {'learning_rate': 0.05709222988057528, 'num_leaves': 80, 'max_depth': 5, 'min_child_samples': 50, 'feature_fraction': 0.6043116331568738, 'bagging_fraction': 0.9986878219752134, 'lambda_l1': 0.003960343405583398, 'lambda_l2': 0.3280720005846621}. Best is trial 12 with value: 0.9295893719806764.\n"
     ]
    },
    {
     "name": "stdout",
     "output_type": "stream",
     "text": [
      "Early stopping, best iteration is:\n",
      "[35]\tvalid_0's auc: 0.929589\n",
      "Training until validation scores don't improve for 30 rounds\n"
     ]
    },
    {
     "name": "stderr",
     "output_type": "stream",
     "text": [
      "[I 2025-08-04 22:46:46,270] Trial 13 finished with value: 0.9297705314009661 and parameters: {'learning_rate': 0.023460848224055003, 'num_leaves': 76, 'max_depth': 5, 'min_child_samples': 43, 'feature_fraction': 0.6085311971568006, 'bagging_fraction': 0.9905475533937046, 'lambda_l1': 0.032355929466627464, 'lambda_l2': 0.3236179238860608}. Best is trial 13 with value: 0.9297705314009661.\n"
     ]
    },
    {
     "name": "stdout",
     "output_type": "stream",
     "text": [
      "Did not meet early stopping. Best iteration is:\n",
      "[98]\tvalid_0's auc: 0.929771\n",
      "Training until validation scores don't improve for 30 rounds\n"
     ]
    },
    {
     "name": "stderr",
     "output_type": "stream",
     "text": [
      "[I 2025-08-04 22:46:46,639] Trial 14 finished with value: 0.9390096618357489 and parameters: {'learning_rate': 0.04807437613178202, 'num_leaves': 79, 'max_depth': 5, 'min_child_samples': 42, 'feature_fraction': 0.683348863033201, 'bagging_fraction': 0.9268108847065925, 'lambda_l1': 0.20370500303190717, 'lambda_l2': 0.32741975450966715}. Best is trial 14 with value: 0.9390096618357489.\n"
     ]
    },
    {
     "name": "stdout",
     "output_type": "stream",
     "text": [
      "Did not meet early stopping. Best iteration is:\n",
      "[73]\tvalid_0's auc: 0.93901\n",
      "Training until validation scores don't improve for 30 rounds\n",
      "Early stopping, best iteration is:\n",
      "[68]\tvalid_0's auc: 0.935145\n"
     ]
    },
    {
     "name": "stderr",
     "output_type": "stream",
     "text": [
      "[I 2025-08-04 22:46:46,847] Trial 15 finished with value: 0.9351449275362319 and parameters: {'learning_rate': 0.04242579747607843, 'num_leaves': 79, 'max_depth': 3, 'min_child_samples': 41, 'feature_fraction': 0.6804124568308729, 'bagging_fraction': 0.9295236313643843, 'lambda_l1': 0.2182433612085634, 'lambda_l2': 0.24236686374412753}. Best is trial 14 with value: 0.9390096618357489.\n",
      "[I 2025-08-04 22:46:47,049] Trial 16 finished with value: 0.9289855072463769 and parameters: {'learning_rate': 0.048392251639216954, 'num_leaves': 70, 'max_depth': 3, 'min_child_samples': 41, 'feature_fraction': 0.6867687220655145, 'bagging_fraction': 0.9136312108656821, 'lambda_l1': 0.27687100283635846, 'lambda_l2': 0.21153430481207308}. Best is trial 14 with value: 0.9390096618357489.\n"
     ]
    },
    {
     "name": "stdout",
     "output_type": "stream",
     "text": [
      "Training until validation scores don't improve for 30 rounds\n",
      "Did not meet early stopping. Best iteration is:\n",
      "[74]\tvalid_0's auc: 0.928986\n"
     ]
    },
    {
     "name": "stderr",
     "output_type": "stream",
     "text": [
      "[I 2025-08-04 22:46:47,292] Trial 17 finished with value: 0.9255434782608696 and parameters: {'learning_rate': 0.07630368736771376, 'num_leaves': 63, 'max_depth': 4, 'min_child_samples': 38, 'feature_fraction': 0.766425533601166, 'bagging_fraction': 0.9257145367558619, 'lambda_l1': 0.1873795862858001, 'lambda_l2': 0.43016415651858736}. Best is trial 14 with value: 0.9390096618357489.\n"
     ]
    },
    {
     "name": "stdout",
     "output_type": "stream",
     "text": [
      "Training until validation scores don't improve for 30 rounds\n",
      "Early stopping, best iteration is:\n",
      "[49]\tvalid_0's auc: 0.925543\n",
      "Training until validation scores don't improve for 30 rounds\n"
     ]
    },
    {
     "name": "stderr",
     "output_type": "stream",
     "text": [
      "[I 2025-08-04 22:46:47,591] Trial 18 finished with value: 0.9321256038647343 and parameters: {'learning_rate': 0.03208960401298481, 'num_leaves': 56, 'max_depth': 4, 'min_child_samples': 10, 'feature_fraction': 0.6697822553775307, 'bagging_fraction': 0.9233928681586704, 'lambda_l1': 0.3716417849992971, 'lambda_l2': 0.21293101385783453}. Best is trial 14 with value: 0.9390096618357489.\n"
     ]
    },
    {
     "name": "stdout",
     "output_type": "stream",
     "text": [
      "Did not meet early stopping. Best iteration is:\n",
      "[98]\tvalid_0's auc: 0.932126\n",
      "Training until validation scores don't improve for 30 rounds\n",
      "Early stopping, best iteration is:\n",
      "[30]\tvalid_0's auc: 0.915338\n"
     ]
    },
    {
     "name": "stderr",
     "output_type": "stream",
     "text": [
      "[I 2025-08-04 22:46:47,769] Trial 19 finished with value: 0.9153381642512077 and parameters: {'learning_rate': 0.08210233765045485, 'num_leaves': 72, 'max_depth': 3, 'min_child_samples': 45, 'feature_fraction': 0.9981573341280187, 'bagging_fraction': 0.8862398522743468, 'lambda_l1': 0.16445230379799897, 'lambda_l2': 0.012612148155884184}. Best is trial 14 with value: 0.9390096618357489.\n"
     ]
    },
    {
     "name": "stdout",
     "output_type": "stream",
     "text": [
      "Training until validation scores don't improve for 30 rounds\n"
     ]
    },
    {
     "name": "stderr",
     "output_type": "stream",
     "text": [
      "[I 2025-08-04 22:46:48,084] Trial 20 finished with value: 0.9207125603864734 and parameters: {'learning_rate': 0.04561794474130965, 'num_leaves': 69, 'max_depth': 6, 'min_child_samples': 26, 'feature_fraction': 0.7203682651217503, 'bagging_fraction': 0.9530124668533273, 'lambda_l1': 0.6204493668277243, 'lambda_l2': 0.4402790074978221}. Best is trial 14 with value: 0.9390096618357489.\n"
     ]
    },
    {
     "name": "stdout",
     "output_type": "stream",
     "text": [
      "Early stopping, best iteration is:\n",
      "[29]\tvalid_0's auc: 0.920713\n",
      "Training until validation scores don't improve for 30 rounds\n"
     ]
    },
    {
     "name": "stderr",
     "output_type": "stream",
     "text": [
      "[I 2025-08-04 22:46:48,382] Trial 21 finished with value: 0.9264492753623188 and parameters: {'learning_rate': 0.03323863478468481, 'num_leaves': 54, 'max_depth': 4, 'min_child_samples': 12, 'feature_fraction': 0.6662071680824379, 'bagging_fraction': 0.9237142946180188, 'lambda_l1': 0.3607239915235665, 'lambda_l2': 0.22070502963077482}. Best is trial 14 with value: 0.9390096618357489.\n"
     ]
    },
    {
     "name": "stdout",
     "output_type": "stream",
     "text": [
      "Did not meet early stopping. Best iteration is:\n",
      "[96]\tvalid_0's auc: 0.926449\n",
      "Training until validation scores don't improve for 30 rounds\n"
     ]
    },
    {
     "name": "stderr",
     "output_type": "stream",
     "text": [
      "[I 2025-08-04 22:46:48,707] Trial 22 finished with value: 0.9227053140096618 and parameters: {'learning_rate': 0.03683319944074724, 'num_leaves': 79, 'max_depth': 5, 'min_child_samples': 19, 'feature_fraction': 0.6525075784633599, 'bagging_fraction': 0.8757262203574597, 'lambda_l1': 0.37694708904643004, 'lambda_l2': 0.22067185541369871}. Best is trial 14 with value: 0.9390096618357489.\n"
     ]
    },
    {
     "name": "stdout",
     "output_type": "stream",
     "text": [
      "Early stopping, best iteration is:\n",
      "[51]\tvalid_0's auc: 0.922705\n",
      "Training until validation scores don't improve for 30 rounds\n"
     ]
    },
    {
     "name": "stderr",
     "output_type": "stream",
     "text": [
      "[I 2025-08-04 22:46:48,957] Trial 23 finished with value: 0.9373188405797102 and parameters: {'learning_rate': 0.06882454397199546, 'num_leaves': 60, 'max_depth': 4, 'min_child_samples': 38, 'feature_fraction': 0.7787878135566481, 'bagging_fraction': 0.9558747797706781, 'lambda_l1': 0.2152589644181875, 'lambda_l2': 0.17556921632680972}. Best is trial 14 with value: 0.9390096618357489.\n"
     ]
    },
    {
     "name": "stdout",
     "output_type": "stream",
     "text": [
      "Early stopping, best iteration is:\n",
      "[46]\tvalid_0's auc: 0.937319\n",
      "Training until validation scores don't improve for 30 rounds\n"
     ]
    },
    {
     "name": "stderr",
     "output_type": "stream",
     "text": [
      "[I 2025-08-04 22:46:49,194] Trial 24 finished with value: 0.9237922705314009 and parameters: {'learning_rate': 0.0697116453206455, 'num_leaves': 73, 'max_depth': 3, 'min_child_samples': 38, 'feature_fraction': 0.7701400651645419, 'bagging_fraction': 0.9600010502949207, 'lambda_l1': 0.10608751372251803, 'lambda_l2': 0.10831049843363239}. Best is trial 14 with value: 0.9390096618357489.\n"
     ]
    },
    {
     "name": "stdout",
     "output_type": "stream",
     "text": [
      "Did not meet early stopping. Best iteration is:\n",
      "[74]\tvalid_0's auc: 0.923792\n",
      "Training until validation scores don't improve for 30 rounds\n"
     ]
    },
    {
     "name": "stderr",
     "output_type": "stream",
     "text": [
      "[I 2025-08-04 22:46:49,482] Trial 25 finished with value: 0.9178743961352657 and parameters: {'learning_rate': 0.08842888787894554, 'num_leaves': 67, 'max_depth': 5, 'min_child_samples': 40, 'feature_fraction': 0.7355863924772895, 'bagging_fraction': 0.7918416669463703, 'lambda_l1': 0.2670374101473669, 'lambda_l2': 0.4060301193076823}. Best is trial 14 with value: 0.9390096618357489.\n"
     ]
    },
    {
     "name": "stdout",
     "output_type": "stream",
     "text": [
      "Early stopping, best iteration is:\n",
      "[35]\tvalid_0's auc: 0.917874\n",
      "Training until validation scores don't improve for 30 rounds\n"
     ]
    },
    {
     "name": "stderr",
     "output_type": "stream",
     "text": [
      "[I 2025-08-04 22:46:49,809] Trial 26 finished with value: 0.9154589371980677 and parameters: {'learning_rate': 0.05413730897276277, 'num_leaves': 75, 'max_depth': 7, 'min_child_samples': 46, 'feature_fraction': 0.7921274429258555, 'bagging_fraction': 0.961442303612285, 'lambda_l1': 0.0988033732902594, 'lambda_l2': 0.2671235672332357}. Best is trial 14 with value: 0.9390096618357489.\n"
     ]
    },
    {
     "name": "stdout",
     "output_type": "stream",
     "text": [
      "Early stopping, best iteration is:\n",
      "[22]\tvalid_0's auc: 0.915459\n",
      "Training until validation scores don't improve for 30 rounds\n",
      "Early stopping, best iteration is:\n",
      "[12]\tvalid_0's auc: 0.914795\n"
     ]
    },
    {
     "name": "stderr",
     "output_type": "stream",
     "text": [
      "[I 2025-08-04 22:46:49,987] Trial 27 finished with value: 0.9147946859903382 and parameters: {'learning_rate': 0.11294205682858993, 'num_leaves': 61, 'max_depth': 4, 'min_child_samples': 35, 'feature_fraction': 0.706189907882147, 'bagging_fraction': 0.8966238792212676, 'lambda_l1': 0.2278873766942846, 'lambda_l2': 0.4947746363596025}. Best is trial 14 with value: 0.9390096618357489.\n",
      "[I 2025-08-04 22:46:50,187] Trial 28 finished with value: 0.9231280193236714 and parameters: {'learning_rate': 0.06358796522909965, 'num_leaves': 56, 'max_depth': 3, 'min_child_samples': 42, 'feature_fraction': 0.6437264028175061, 'bagging_fraction': 0.8553359039855672, 'lambda_l1': 0.13449439873368363, 'lambda_l2': 0.12264685428646205}. Best is trial 14 with value: 0.9390096618357489.\n"
     ]
    },
    {
     "name": "stdout",
     "output_type": "stream",
     "text": [
      "Training until validation scores don't improve for 30 rounds\n",
      "Early stopping, best iteration is:\n",
      "[69]\tvalid_0's auc: 0.923128\n",
      "Training until validation scores don't improve for 30 rounds\n"
     ]
    },
    {
     "name": "stderr",
     "output_type": "stream",
     "text": [
      "[I 2025-08-04 22:46:50,611] Trial 29 finished with value: 0.9226449275362318 and parameters: {'learning_rate': 0.09964434949813158, 'num_leaves': 80, 'max_depth': 6, 'min_child_samples': 26, 'feature_fraction': 0.9015574869364125, 'bagging_fraction': 0.7900987376479177, 'lambda_l1': 0.32890303349433475, 'lambda_l2': 0.7473690841812786}. Best is trial 14 with value: 0.9390096618357489.\n"
     ]
    },
    {
     "name": "stdout",
     "output_type": "stream",
     "text": [
      "Early stopping, best iteration is:\n",
      "[37]\tvalid_0's auc: 0.922645\n",
      "\n",
      "📍 Training for label: NR-ER\n"
     ]
    },
    {
     "name": "stderr",
     "output_type": "stream",
     "text": [
      "[I 2025-08-04 22:46:55,100] A new study created in memory with name: no-name-9353ee7a-5af3-45a0-9bb6-a2e7ea5ca76a\n"
     ]
    },
    {
     "name": "stdout",
     "output_type": "stream",
     "text": [
      "Training until validation scores don't improve for 30 rounds\n"
     ]
    },
    {
     "name": "stderr",
     "output_type": "stream",
     "text": [
      "[I 2025-08-04 22:46:55,694] Trial 0 finished with value: 0.7645686826066572 and parameters: {'learning_rate': 0.05320447706164696, 'num_leaves': 28, 'max_depth': 11, 'min_child_samples': 47, 'feature_fraction': 0.8279956354322009, 'bagging_fraction': 0.7143288098170213, 'lambda_l1': 0.22563035534167597, 'lambda_l2': 0.5924185721060761}. Best is trial 0 with value: 0.7645686826066572.\n",
      "[I 2025-08-04 22:46:55,848] Trial 1 finished with value: 0.771952648851383 and parameters: {'learning_rate': 0.17221139110805694, 'num_leaves': 28, 'max_depth': 3, 'min_child_samples': 47, 'feature_fraction': 0.8748688249891478, 'bagging_fraction': 0.6947555673300907, 'lambda_l1': 0.13164977107747, 'lambda_l2': 0.03259038147098414}. Best is trial 1 with value: 0.771952648851383.\n"
     ]
    },
    {
     "name": "stdout",
     "output_type": "stream",
     "text": [
      "Early stopping, best iteration is:\n",
      "[23]\tvalid_0's auc: 0.764569\n",
      "Training until validation scores don't improve for 30 rounds\n",
      "Early stopping, best iteration is:\n",
      "[38]\tvalid_0's auc: 0.771953\n",
      "Training until validation scores don't improve for 30 rounds\n"
     ]
    },
    {
     "name": "stderr",
     "output_type": "stream",
     "text": [
      "[I 2025-08-04 22:46:56,235] Trial 2 finished with value: 0.7699835911861229 and parameters: {'learning_rate': 0.19015140208687203, 'num_leaves': 22, 'max_depth': 10, 'min_child_samples': 33, 'feature_fraction': 0.6454232111797568, 'bagging_fraction': 0.9664054274029238, 'lambda_l1': 0.3514124993073625, 'lambda_l2': 0.3424120705066046}. Best is trial 1 with value: 0.771952648851383.\n"
     ]
    },
    {
     "name": "stdout",
     "output_type": "stream",
     "text": [
      "Early stopping, best iteration is:\n",
      "[40]\tvalid_0's auc: 0.769984\n",
      "Training until validation scores don't improve for 30 rounds\n"
     ]
    },
    {
     "name": "stderr",
     "output_type": "stream",
     "text": [
      "[I 2025-08-04 22:46:56,848] Trial 3 finished with value: 0.7583098921706518 and parameters: {'learning_rate': 0.1610002352000571, 'num_leaves': 37, 'max_depth': 8, 'min_child_samples': 10, 'feature_fraction': 0.9648701711772438, 'bagging_fraction': 0.9903507956791824, 'lambda_l1': 0.37933046331425546, 'lambda_l2': 0.0909639106350959}. Best is trial 1 with value: 0.771952648851383.\n",
      "[I 2025-08-04 22:46:57,019] Trial 4 finished with value: 0.7499531176746367 and parameters: {'learning_rate': 0.09921771187870672, 'num_leaves': 49, 'max_depth': 5, 'min_child_samples': 48, 'feature_fraction': 0.8025288848475712, 'bagging_fraction': 0.6870002549622493, 'lambda_l1': 0.6464287471838326, 'lambda_l2': 0.3105220519068743}. Best is trial 1 with value: 0.771952648851383.\n"
     ]
    },
    {
     "name": "stdout",
     "output_type": "stream",
     "text": [
      "Early stopping, best iteration is:\n",
      "[30]\tvalid_0's auc: 0.75831\n",
      "Training until validation scores don't improve for 30 rounds\n",
      "Early stopping, best iteration is:\n",
      "[6]\tvalid_0's auc: 0.749953\n",
      "Training until validation scores don't improve for 30 rounds\n"
     ]
    },
    {
     "name": "stderr",
     "output_type": "stream",
     "text": [
      "[I 2025-08-04 22:46:57,722] Trial 5 finished with value: 0.7480661040787622 and parameters: {'learning_rate': 0.1362983790093501, 'num_leaves': 51, 'max_depth': 10, 'min_child_samples': 12, 'feature_fraction': 0.9668958433034114, 'bagging_fraction': 0.7123486266656545, 'lambda_l1': 0.12767480882960347, 'lambda_l2': 0.394797361507799}. Best is trial 1 with value: 0.771952648851383.\n"
     ]
    },
    {
     "name": "stdout",
     "output_type": "stream",
     "text": [
      "Early stopping, best iteration is:\n",
      "[20]\tvalid_0's auc: 0.748066\n",
      "Training until validation scores don't improve for 30 rounds\n"
     ]
    },
    {
     "name": "stderr",
     "output_type": "stream",
     "text": [
      "[I 2025-08-04 22:46:58,342] Trial 6 finished with value: 0.754817158931083 and parameters: {'learning_rate': 0.1335306161309827, 'num_leaves': 38, 'max_depth': 7, 'min_child_samples': 41, 'feature_fraction': 0.7979317964503155, 'bagging_fraction': 0.8579776025866936, 'lambda_l1': 0.037235255494940445, 'lambda_l2': 0.9229417191642364}. Best is trial 1 with value: 0.771952648851383.\n"
     ]
    },
    {
     "name": "stdout",
     "output_type": "stream",
     "text": [
      "Did not meet early stopping. Best iteration is:\n",
      "[100]\tvalid_0's auc: 0.754817\n",
      "Training until validation scores don't improve for 30 rounds\n"
     ]
    },
    {
     "name": "stderr",
     "output_type": "stream",
     "text": [
      "[I 2025-08-04 22:46:59,551] Trial 7 finished with value: 0.7276254102203468 and parameters: {'learning_rate': 0.17197187664227706, 'num_leaves': 73, 'max_depth': 11, 'min_child_samples': 32, 'feature_fraction': 0.7920925388052033, 'bagging_fraction': 0.6759794690214666, 'lambda_l1': 0.4802511204880978, 'lambda_l2': 0.4089249136115892}. Best is trial 1 with value: 0.771952648851383.\n"
     ]
    },
    {
     "name": "stdout",
     "output_type": "stream",
     "text": [
      "Did not meet early stopping. Best iteration is:\n",
      "[100]\tvalid_0's auc: 0.727625\n",
      "Training until validation scores don't improve for 30 rounds\n"
     ]
    },
    {
     "name": "stderr",
     "output_type": "stream",
     "text": [
      "[I 2025-08-04 22:46:59,752] Trial 8 finished with value: 0.7621190811064229 and parameters: {'learning_rate': 0.05616783999744445, 'num_leaves': 28, 'max_depth': 5, 'min_child_samples': 17, 'feature_fraction': 0.6569903817981525, 'bagging_fraction': 0.8359351883889746, 'lambda_l1': 0.09084602215909987, 'lambda_l2': 0.3063569208962289}. Best is trial 1 with value: 0.771952648851383.\n"
     ]
    },
    {
     "name": "stdout",
     "output_type": "stream",
     "text": [
      "Early stopping, best iteration is:\n",
      "[5]\tvalid_0's auc: 0.762119\n",
      "Training until validation scores don't improve for 30 rounds\n"
     ]
    },
    {
     "name": "stderr",
     "output_type": "stream",
     "text": [
      "[I 2025-08-04 22:47:00,720] Trial 9 finished with value: 0.762388654477262 and parameters: {'learning_rate': 0.029573972931593286, 'num_leaves': 45, 'max_depth': 9, 'min_child_samples': 16, 'feature_fraction': 0.9486165686067887, 'bagging_fraction': 0.6314524003730811, 'lambda_l1': 0.150605305947477, 'lambda_l2': 0.8177022873840585}. Best is trial 1 with value: 0.771952648851383.\n"
     ]
    },
    {
     "name": "stdout",
     "output_type": "stream",
     "text": [
      "Early stopping, best iteration is:\n",
      "[38]\tvalid_0's auc: 0.762389\n",
      "Training until validation scores don't improve for 30 rounds\n"
     ]
    },
    {
     "name": "stderr",
     "output_type": "stream",
     "text": [
      "[I 2025-08-04 22:47:00,951] Trial 10 finished with value: 0.7861345522737928 and parameters: {'learning_rate': 0.09924159109161036, 'num_leaves': 62, 'max_depth': 3, 'min_child_samples': 23, 'feature_fraction': 0.8775315538776602, 'bagging_fraction': 0.7607978312057362, 'lambda_l1': 0.8641698702584922, 'lambda_l2': 0.01431578401853691}. Best is trial 10 with value: 0.7861345522737928.\n"
     ]
    },
    {
     "name": "stdout",
     "output_type": "stream",
     "text": [
      "Did not meet early stopping. Best iteration is:\n",
      "[71]\tvalid_0's auc: 0.786135\n",
      "Training until validation scores don't improve for 30 rounds\n",
      "Early stopping, best iteration is:\n",
      "[36]\tvalid_0's auc: 0.777039\n"
     ]
    },
    {
     "name": "stderr",
     "output_type": "stream",
     "text": [
      "[I 2025-08-04 22:47:01,133] Trial 11 finished with value: 0.7770393811533052 and parameters: {'learning_rate': 0.09607718613354277, 'num_leaves': 62, 'max_depth': 3, 'min_child_samples': 24, 'feature_fraction': 0.8983146469923363, 'bagging_fraction': 0.7735226246675881, 'lambda_l1': 0.9634237893524176, 'lambda_l2': 0.047666824305501745}. Best is trial 10 with value: 0.7861345522737928.\n",
      "[I 2025-08-04 22:47:01,349] Trial 12 finished with value: 0.7886896390060948 and parameters: {'learning_rate': 0.09726290038544115, 'num_leaves': 65, 'max_depth': 3, 'min_child_samples': 24, 'feature_fraction': 0.8909950833562655, 'bagging_fraction': 0.7704161874249349, 'lambda_l1': 0.9530953897923535, 'lambda_l2': 0.1618028008984083}. Best is trial 12 with value: 0.7886896390060948.\n"
     ]
    },
    {
     "name": "stdout",
     "output_type": "stream",
     "text": [
      "Training until validation scores don't improve for 30 rounds\n",
      "Early stopping, best iteration is:\n",
      "[61]\tvalid_0's auc: 0.78869\n"
     ]
    },
    {
     "name": "stderr",
     "output_type": "stream",
     "text": [
      "[I 2025-08-04 22:47:01,595] Trial 13 finished with value: 0.7858180965775904 and parameters: {'learning_rate': 0.07131240142948833, 'num_leaves': 80, 'max_depth': 5, 'min_child_samples': 25, 'feature_fraction': 0.7063250316822737, 'bagging_fraction': 0.782387105444506, 'lambda_l1': 0.9989110055768171, 'lambda_l2': 0.17891277041307135}. Best is trial 12 with value: 0.7886896390060948.\n"
     ]
    },
    {
     "name": "stdout",
     "output_type": "stream",
     "text": [
      "Training until validation scores don't improve for 30 rounds\n",
      "Early stopping, best iteration is:\n",
      "[9]\tvalid_0's auc: 0.785818\n"
     ]
    },
    {
     "name": "stderr",
     "output_type": "stream",
     "text": [
      "[I 2025-08-04 22:47:01,812] Trial 14 finished with value: 0.7783520862634786 and parameters: {'learning_rate': 0.12163446904679963, 'num_leaves': 64, 'max_depth': 3, 'min_child_samples': 24, 'feature_fraction': 0.8804911539241531, 'bagging_fraction': 0.9010434014735276, 'lambda_l1': 0.8029079149303774, 'lambda_l2': 0.21146095870895273}. Best is trial 12 with value: 0.7886896390060948.\n"
     ]
    },
    {
     "name": "stdout",
     "output_type": "stream",
     "text": [
      "Training until validation scores don't improve for 30 rounds\n",
      "Early stopping, best iteration is:\n",
      "[51]\tvalid_0's auc: 0.778352\n",
      "Training until validation scores don't improve for 30 rounds\n"
     ]
    },
    {
     "name": "stderr",
     "output_type": "stream",
     "text": [
      "[I 2025-08-04 22:47:02,290] Trial 15 finished with value: 0.7694444444444445 and parameters: {'learning_rate': 0.08297347050518898, 'num_leaves': 61, 'max_depth': 6, 'min_child_samples': 38, 'feature_fraction': 0.7282030962599648, 'bagging_fraction': 0.7523787919021543, 'lambda_l1': 0.7898991994808129, 'lambda_l2': 0.5405553601339448}. Best is trial 12 with value: 0.7886896390060948.\n"
     ]
    },
    {
     "name": "stdout",
     "output_type": "stream",
     "text": [
      "Did not meet early stopping. Best iteration is:\n",
      "[86]\tvalid_0's auc: 0.769444\n",
      "Training until validation scores don't improve for 30 rounds\n"
     ]
    },
    {
     "name": "stderr",
     "output_type": "stream",
     "text": [
      "[I 2025-08-04 22:47:02,633] Trial 16 finished with value: 0.77485935302391 and parameters: {'learning_rate': 0.11334546484786498, 'num_leaves': 71, 'max_depth': 4, 'min_child_samples': 20, 'feature_fraction': 0.9069012402457607, 'bagging_fraction': 0.8176560412675067, 'lambda_l1': 0.8270531112433815, 'lambda_l2': 0.1607371220122578}. Best is trial 12 with value: 0.7886896390060948.\n"
     ]
    },
    {
     "name": "stdout",
     "output_type": "stream",
     "text": [
      "Did not meet early stopping. Best iteration is:\n",
      "[73]\tvalid_0's auc: 0.774859\n",
      "Training until validation scores don't improve for 30 rounds\n"
     ]
    },
    {
     "name": "stderr",
     "output_type": "stream",
     "text": [
      "[I 2025-08-04 22:47:03,571] Trial 17 finished with value: 0.7612634786685419 and parameters: {'learning_rate': 0.02455542521194734, 'num_leaves': 56, 'max_depth': 7, 'min_child_samples': 27, 'feature_fraction': 0.8502589848135882, 'bagging_fraction': 0.8815786026731186, 'lambda_l1': 0.6677600451286567, 'lambda_l2': 0.6400139060487536}. Best is trial 12 with value: 0.7886896390060948.\n"
     ]
    },
    {
     "name": "stdout",
     "output_type": "stream",
     "text": [
      "Early stopping, best iteration is:\n",
      "[63]\tvalid_0's auc: 0.761263\n",
      "Training until validation scores don't improve for 30 rounds\n",
      "Early stopping, best iteration is:\n",
      "[8]\tvalid_0's auc: 0.769421\n"
     ]
    },
    {
     "name": "stderr",
     "output_type": "stream",
     "text": [
      "[I 2025-08-04 22:47:03,743] Trial 18 finished with value: 0.7694210032817628 and parameters: {'learning_rate': 0.07450755573924495, 'num_leaves': 70, 'max_depth': 4, 'min_child_samples': 29, 'feature_fraction': 0.7483388514962738, 'bagging_fraction': 0.6195651068000045, 'lambda_l1': 0.9146350027511747, 'lambda_l2': 0.005784464354760127}. Best is trial 12 with value: 0.7886896390060948.\n",
      "[I 2025-08-04 22:47:03,930] Trial 19 finished with value: 0.7592358180965776 and parameters: {'learning_rate': 0.14622182036844555, 'num_leaves': 79, 'max_depth': 4, 'min_child_samples': 19, 'feature_fraction': 0.9394755200094762, 'bagging_fraction': 0.9285073480160175, 'lambda_l1': 0.633455776713733, 'lambda_l2': 0.21108246326281874}. Best is trial 12 with value: 0.7886896390060948.\n"
     ]
    },
    {
     "name": "stdout",
     "output_type": "stream",
     "text": [
      "Training until validation scores don't improve for 30 rounds\n",
      "Early stopping, best iteration is:\n",
      "[8]\tvalid_0's auc: 0.759236\n",
      "Training until validation scores don't improve for 30 rounds\n"
     ]
    },
    {
     "name": "stderr",
     "output_type": "stream",
     "text": [
      "[I 2025-08-04 22:47:04,310] Trial 20 finished with value: 0.7586146272855134 and parameters: {'learning_rate': 0.047306899774764426, 'num_leaves': 57, 'max_depth': 6, 'min_child_samples': 35, 'feature_fraction': 0.9237232088617194, 'bagging_fraction': 0.7485341048603811, 'lambda_l1': 0.7179189336402034, 'lambda_l2': 0.11867911990505899}. Best is trial 12 with value: 0.7886896390060948.\n"
     ]
    },
    {
     "name": "stdout",
     "output_type": "stream",
     "text": [
      "Early stopping, best iteration is:\n",
      "[18]\tvalid_0's auc: 0.758615\n",
      "Training until validation scores don't improve for 30 rounds\n"
     ]
    },
    {
     "name": "stderr",
     "output_type": "stream",
     "text": [
      "[I 2025-08-04 22:47:04,614] Trial 21 finished with value: 0.7693037974683545 and parameters: {'learning_rate': 0.07557822174583793, 'num_leaves': 79, 'max_depth': 5, 'min_child_samples': 24, 'feature_fraction': 0.7418773142019361, 'bagging_fraction': 0.7871446275971218, 'lambda_l1': 0.963538221023646, 'lambda_l2': 0.23251700751881438}. Best is trial 12 with value: 0.7886896390060948.\n"
     ]
    },
    {
     "name": "stdout",
     "output_type": "stream",
     "text": [
      "Early stopping, best iteration is:\n",
      "[24]\tvalid_0's auc: 0.769304\n",
      "Training until validation scores don't improve for 30 rounds\n"
     ]
    },
    {
     "name": "stderr",
     "output_type": "stream",
     "text": [
      "[I 2025-08-04 22:47:04,854] Trial 22 finished with value: 0.7860876699484294 and parameters: {'learning_rate': 0.09247760378558412, 'num_leaves': 67, 'max_depth': 3, 'min_child_samples': 27, 'feature_fraction': 0.6925541894338402, 'bagging_fraction': 0.8119988370416564, 'lambda_l1': 0.8941037971405283, 'lambda_l2': 0.13626426525940233}. Best is trial 12 with value: 0.7886896390060948.\n"
     ]
    },
    {
     "name": "stdout",
     "output_type": "stream",
     "text": [
      "Did not meet early stopping. Best iteration is:\n",
      "[71]\tvalid_0's auc: 0.786088\n",
      "Training until validation scores don't improve for 30 rounds\n"
     ]
    },
    {
     "name": "stderr",
     "output_type": "stream",
     "text": [
      "[I 2025-08-04 22:47:05,074] Trial 23 finished with value: 0.7799929676511954 and parameters: {'learning_rate': 0.10415301216035779, 'num_leaves': 66, 'max_depth': 3, 'min_child_samples': 21, 'feature_fraction': 0.6070654850934253, 'bagging_fraction': 0.8332861000985515, 'lambda_l1': 0.8761115255006933, 'lambda_l2': 0.10850355901669727}. Best is trial 12 with value: 0.7886896390060948.\n"
     ]
    },
    {
     "name": "stdout",
     "output_type": "stream",
     "text": [
      "Early stopping, best iteration is:\n",
      "[55]\tvalid_0's auc: 0.779993\n",
      "Training until validation scores don't improve for 30 rounds\n"
     ]
    },
    {
     "name": "stderr",
     "output_type": "stream",
     "text": [
      "[I 2025-08-04 22:47:05,302] Trial 24 finished with value: 0.7713314580403188 and parameters: {'learning_rate': 0.0873761002834071, 'num_leaves': 67, 'max_depth': 4, 'min_child_samples': 29, 'feature_fraction': 0.9985129279898455, 'bagging_fraction': 0.74621745387152, 'lambda_l1': 0.7297648888563367, 'lambda_l2': 0.43376818012511525}. Best is trial 12 with value: 0.7886896390060948.\n"
     ]
    },
    {
     "name": "stdout",
     "output_type": "stream",
     "text": [
      "Early stopping, best iteration is:\n",
      "[10]\tvalid_0's auc: 0.771331\n",
      "Training until validation scores don't improve for 30 rounds\n"
     ]
    },
    {
     "name": "stderr",
     "output_type": "stream",
     "text": [
      "[I 2025-08-04 22:47:05,538] Trial 25 finished with value: 0.777977027660572 and parameters: {'learning_rate': 0.11403725131126831, 'num_leaves': 56, 'max_depth': 3, 'min_child_samples': 15, 'feature_fraction': 0.8387224288063322, 'bagging_fraction': 0.8140830018249845, 'lambda_l1': 0.8754442859124744, 'lambda_l2': 0.002479102779435194}. Best is trial 12 with value: 0.7886896390060948.\n"
     ]
    },
    {
     "name": "stdout",
     "output_type": "stream",
     "text": [
      "Early stopping, best iteration is:\n",
      "[52]\tvalid_0's auc: 0.777977\n",
      "Training until validation scores don't improve for 30 rounds\n"
     ]
    },
    {
     "name": "stderr",
     "output_type": "stream",
     "text": [
      "[I 2025-08-04 22:47:06,084] Trial 26 finished with value: 0.7587083919362401 and parameters: {'learning_rate': 0.12091816396570465, 'num_leaves': 72, 'max_depth': 6, 'min_child_samples': 21, 'feature_fraction': 0.6845049378006031, 'bagging_fraction': 0.863388902870638, 'lambda_l1': 0.9025411832556112, 'lambda_l2': 0.260706671369277}. Best is trial 12 with value: 0.7886896390060948.\n"
     ]
    },
    {
     "name": "stdout",
     "output_type": "stream",
     "text": [
      "Early stopping, best iteration is:\n",
      "[49]\tvalid_0's auc: 0.758708\n",
      "Training until validation scores don't improve for 30 rounds\n"
     ]
    },
    {
     "name": "stderr",
     "output_type": "stream",
     "text": [
      "[I 2025-08-04 22:47:06,349] Trial 27 finished with value: 0.7790318799812471 and parameters: {'learning_rate': 0.010848086387442404, 'num_leaves': 60, 'max_depth': 4, 'min_child_samples': 27, 'feature_fraction': 0.7714814709075964, 'bagging_fraction': 0.7281462797289755, 'lambda_l1': 0.5991253253029426, 'lambda_l2': 0.6889839541125793}. Best is trial 12 with value: 0.7886896390060948.\n"
     ]
    },
    {
     "name": "stdout",
     "output_type": "stream",
     "text": [
      "Early stopping, best iteration is:\n",
      "[27]\tvalid_0's auc: 0.779032\n",
      "Training until validation scores don't improve for 30 rounds\n"
     ]
    },
    {
     "name": "stderr",
     "output_type": "stream",
     "text": [
      "[I 2025-08-04 22:47:07,471] Trial 28 finished with value: 0.7686005625879043 and parameters: {'learning_rate': 0.0667864646419444, 'num_leaves': 50, 'max_depth': 12, 'min_child_samples': 36, 'feature_fraction': 0.8676392817770077, 'bagging_fraction': 0.7976834525486053, 'lambda_l1': 0.5434890115527525, 'lambda_l2': 0.12662296423538985}. Best is trial 12 with value: 0.7886896390060948.\n"
     ]
    },
    {
     "name": "stdout",
     "output_type": "stream",
     "text": [
      "Early stopping, best iteration is:\n",
      "[62]\tvalid_0's auc: 0.768601\n",
      "Training until validation scores don't improve for 30 rounds\n"
     ]
    },
    {
     "name": "stderr",
     "output_type": "stream",
     "text": [
      "[I 2025-08-04 22:47:07,737] Trial 29 finished with value: 0.7845874355368025 and parameters: {'learning_rate': 0.05408519964379161, 'num_leaves': 76, 'max_depth': 3, 'min_child_samples': 32, 'feature_fraction': 0.822279687439482, 'bagging_fraction': 0.6631626880514743, 'lambda_l1': 0.7469244738314464, 'lambda_l2': 0.48040181943733984}. Best is trial 12 with value: 0.7886896390060948.\n"
     ]
    },
    {
     "name": "stdout",
     "output_type": "stream",
     "text": [
      "Did not meet early stopping. Best iteration is:\n",
      "[98]\tvalid_0's auc: 0.784587\n",
      "\n",
      "📍 Training for label: NR-ER-LBD\n"
     ]
    },
    {
     "name": "stderr",
     "output_type": "stream",
     "text": [
      "[I 2025-08-04 22:47:11,892] A new study created in memory with name: no-name-38be8842-876f-452b-9f18-1d8eff72f70f\n"
     ]
    },
    {
     "name": "stdout",
     "output_type": "stream",
     "text": [
      "Training until validation scores don't improve for 30 rounds\n"
     ]
    },
    {
     "name": "stderr",
     "output_type": "stream",
     "text": [
      "[I 2025-08-04 22:47:12,407] Trial 0 finished with value: 0.7573376623376622 and parameters: {'learning_rate': 0.05076783144379618, 'num_leaves': 31, 'max_depth': 12, 'min_child_samples': 49, 'feature_fraction': 0.7260880420875089, 'bagging_fraction': 0.6812121042180382, 'lambda_l1': 0.2560693334971639, 'lambda_l2': 0.9720454150313786}. Best is trial 0 with value: 0.7573376623376622.\n"
     ]
    },
    {
     "name": "stdout",
     "output_type": "stream",
     "text": [
      "Early stopping, best iteration is:\n",
      "[7]\tvalid_0's auc: 0.757338\n",
      "Training until validation scores don't improve for 30 rounds\n"
     ]
    },
    {
     "name": "stderr",
     "output_type": "stream",
     "text": [
      "[I 2025-08-04 22:47:12,715] Trial 1 finished with value: 0.7604761904761905 and parameters: {'learning_rate': 0.05611021225749657, 'num_leaves': 67, 'max_depth': 7, 'min_child_samples': 26, 'feature_fraction': 0.8396704916279822, 'bagging_fraction': 0.6572951200684054, 'lambda_l1': 0.4624758642186777, 'lambda_l2': 0.9362689704079326}. Best is trial 1 with value: 0.7604761904761905.\n"
     ]
    },
    {
     "name": "stdout",
     "output_type": "stream",
     "text": [
      "Early stopping, best iteration is:\n",
      "[4]\tvalid_0's auc: 0.760476\n",
      "Training until validation scores don't improve for 30 rounds\n"
     ]
    },
    {
     "name": "stderr",
     "output_type": "stream",
     "text": [
      "[I 2025-08-04 22:47:13,360] Trial 2 finished with value: 0.7620779220779221 and parameters: {'learning_rate': 0.11940193570727314, 'num_leaves': 28, 'max_depth': 7, 'min_child_samples': 50, 'feature_fraction': 0.8722766474426276, 'bagging_fraction': 0.9811226302823414, 'lambda_l1': 0.1707897693435061, 'lambda_l2': 0.19896316841610828}. Best is trial 2 with value: 0.7620779220779221.\n",
      "[I 2025-08-04 22:47:13,515] Trial 3 finished with value: 0.7792424242424242 and parameters: {'learning_rate': 0.12525434452929546, 'num_leaves': 45, 'max_depth': 3, 'min_child_samples': 13, 'feature_fraction': 0.6070916615734304, 'bagging_fraction': 0.768878325722315, 'lambda_l1': 0.7274822739744643, 'lambda_l2': 0.538924770143721}. Best is trial 3 with value: 0.7792424242424242.\n"
     ]
    },
    {
     "name": "stdout",
     "output_type": "stream",
     "text": [
      "Did not meet early stopping. Best iteration is:\n",
      "[95]\tvalid_0's auc: 0.762078\n",
      "Training until validation scores don't improve for 30 rounds\n",
      "Early stopping, best iteration is:\n",
      "[16]\tvalid_0's auc: 0.779242\n",
      "Training until validation scores don't improve for 30 rounds\n"
     ]
    },
    {
     "name": "stderr",
     "output_type": "stream",
     "text": [
      "[I 2025-08-04 22:47:14,170] Trial 4 finished with value: 0.7691774891774892 and parameters: {'learning_rate': 0.01606154134367093, 'num_leaves': 36, 'max_depth': 8, 'min_child_samples': 49, 'feature_fraction': 0.8368737750350443, 'bagging_fraction': 0.703507643923688, 'lambda_l1': 0.47757648099660144, 'lambda_l2': 0.77747261340815}. Best is trial 3 with value: 0.7792424242424242.\n"
     ]
    },
    {
     "name": "stdout",
     "output_type": "stream",
     "text": [
      "Early stopping, best iteration is:\n",
      "[50]\tvalid_0's auc: 0.769177\n",
      "Training until validation scores don't improve for 30 rounds\n"
     ]
    },
    {
     "name": "stderr",
     "output_type": "stream",
     "text": [
      "[I 2025-08-04 22:47:14,594] Trial 5 finished with value: 0.8011688311688312 and parameters: {'learning_rate': 0.04578248696808811, 'num_leaves': 52, 'max_depth': 5, 'min_child_samples': 49, 'feature_fraction': 0.7262925983565638, 'bagging_fraction': 0.8723623358786039, 'lambda_l1': 0.9676374632619846, 'lambda_l2': 0.5472927484737254}. Best is trial 5 with value: 0.8011688311688312.\n"
     ]
    },
    {
     "name": "stdout",
     "output_type": "stream",
     "text": [
      "Did not meet early stopping. Best iteration is:\n",
      "[85]\tvalid_0's auc: 0.801169\n",
      "Training until validation scores don't improve for 30 rounds\n"
     ]
    },
    {
     "name": "stderr",
     "output_type": "stream",
     "text": [
      "[I 2025-08-04 22:47:15,405] Trial 6 finished with value: 0.7684415584415584 and parameters: {'learning_rate': 0.028291723667202694, 'num_leaves': 25, 'max_depth': 12, 'min_child_samples': 10, 'feature_fraction': 0.6795303005063511, 'bagging_fraction': 0.8496229085952658, 'lambda_l1': 0.31465132969996357, 'lambda_l2': 0.1822642689605003}. Best is trial 5 with value: 0.8011688311688312.\n"
     ]
    },
    {
     "name": "stdout",
     "output_type": "stream",
     "text": [
      "Did not meet early stopping. Best iteration is:\n",
      "[98]\tvalid_0's auc: 0.768442\n",
      "Training until validation scores don't improve for 30 rounds\n"
     ]
    },
    {
     "name": "stderr",
     "output_type": "stream",
     "text": [
      "[I 2025-08-04 22:47:15,889] Trial 7 finished with value: 0.7755411255411255 and parameters: {'learning_rate': 0.055834962551947524, 'num_leaves': 35, 'max_depth': 12, 'min_child_samples': 14, 'feature_fraction': 0.7687750651927211, 'bagging_fraction': 0.7687921872510268, 'lambda_l1': 0.22328108462618745, 'lambda_l2': 0.3570508442079283}. Best is trial 5 with value: 0.8011688311688312.\n"
     ]
    },
    {
     "name": "stdout",
     "output_type": "stream",
     "text": [
      "Early stopping, best iteration is:\n",
      "[12]\tvalid_0's auc: 0.775541\n",
      "Training until validation scores don't improve for 30 rounds\n"
     ]
    },
    {
     "name": "stderr",
     "output_type": "stream",
     "text": [
      "[I 2025-08-04 22:47:16,558] Trial 8 finished with value: 0.7648051948051948 and parameters: {'learning_rate': 0.09349718348324608, 'num_leaves': 77, 'max_depth': 10, 'min_child_samples': 30, 'feature_fraction': 0.7906473518297903, 'bagging_fraction': 0.757492404272483, 'lambda_l1': 0.9511247953611993, 'lambda_l2': 0.7669821239613214}. Best is trial 5 with value: 0.8011688311688312.\n",
      "[I 2025-08-04 22:47:16,733] Trial 9 finished with value: 0.775974025974026 and parameters: {'learning_rate': 0.13206734565427983, 'num_leaves': 59, 'max_depth': 4, 'min_child_samples': 20, 'feature_fraction': 0.7098836231561894, 'bagging_fraction': 0.6511022232478887, 'lambda_l1': 0.5137402385970007, 'lambda_l2': 0.7367924105957417}. Best is trial 5 with value: 0.8011688311688312.\n"
     ]
    },
    {
     "name": "stdout",
     "output_type": "stream",
     "text": [
      "Early stopping, best iteration is:\n",
      "[24]\tvalid_0's auc: 0.764805\n",
      "Training until validation scores don't improve for 30 rounds\n",
      "Early stopping, best iteration is:\n",
      "[3]\tvalid_0's auc: 0.775974\n",
      "Training until validation scores don't improve for 30 rounds\n"
     ]
    },
    {
     "name": "stderr",
     "output_type": "stream",
     "text": [
      "[I 2025-08-04 22:47:17,372] Trial 10 finished with value: 0.7782251082251083 and parameters: {'learning_rate': 0.18382961555221392, 'num_leaves': 53, 'max_depth': 5, 'min_child_samples': 38, 'feature_fraction': 0.9824930227469015, 'bagging_fraction': 0.8859749748848741, 'lambda_l1': 0.9995879915498116, 'lambda_l2': 0.003775795927556058}. Best is trial 5 with value: 0.8011688311688312.\n"
     ]
    },
    {
     "name": "stdout",
     "output_type": "stream",
     "text": [
      "Did not meet early stopping. Best iteration is:\n",
      "[90]\tvalid_0's auc: 0.778225\n",
      "Training until validation scores don't improve for 30 rounds\n"
     ]
    },
    {
     "name": "stderr",
     "output_type": "stream",
     "text": [
      "[I 2025-08-04 22:47:17,598] Trial 11 finished with value: 0.7840259740259742 and parameters: {'learning_rate': 0.16026204337202002, 'num_leaves': 44, 'max_depth': 3, 'min_child_samples': 39, 'feature_fraction': 0.6008825219036928, 'bagging_fraction': 0.9045048177747681, 'lambda_l1': 0.7249552789391802, 'lambda_l2': 0.5282741310954345}. Best is trial 5 with value: 0.8011688311688312.\n"
     ]
    },
    {
     "name": "stdout",
     "output_type": "stream",
     "text": [
      "Early stopping, best iteration is:\n",
      "[55]\tvalid_0's auc: 0.784026\n",
      "Training until validation scores don't improve for 30 rounds\n"
     ]
    },
    {
     "name": "stderr",
     "output_type": "stream",
     "text": [
      "[I 2025-08-04 22:47:18,004] Trial 12 finished with value: 0.7690476190476191 and parameters: {'learning_rate': 0.17972219752872293, 'num_leaves': 45, 'max_depth': 5, 'min_child_samples': 39, 'feature_fraction': 0.6216401248512711, 'bagging_fraction': 0.9435253720095902, 'lambda_l1': 0.7820031127492623, 'lambda_l2': 0.5274271425457664}. Best is trial 5 with value: 0.8011688311688312.\n"
     ]
    },
    {
     "name": "stdout",
     "output_type": "stream",
     "text": [
      "Early stopping, best iteration is:\n",
      "[53]\tvalid_0's auc: 0.769048\n",
      "Training until validation scores don't improve for 30 rounds\n",
      "Early stopping, best iteration is:\n",
      "[19]\tvalid_0's auc: 0.786883\n"
     ]
    },
    {
     "name": "stderr",
     "output_type": "stream",
     "text": [
      "[I 2025-08-04 22:47:18,192] Trial 13 finished with value: 0.7868831168831169 and parameters: {'learning_rate': 0.15208854142726905, 'num_leaves': 59, 'max_depth': 3, 'min_child_samples': 41, 'feature_fraction': 0.6581395073638211, 'bagging_fraction': 0.8806566521810993, 'lambda_l1': 0.776147893854433, 'lambda_l2': 0.4396780129549553}. Best is trial 5 with value: 0.8011688311688312.\n",
      "[I 2025-08-04 22:47:18,424] Trial 14 finished with value: 0.7688311688311689 and parameters: {'learning_rate': 0.09203941816899057, 'num_leaves': 62, 'max_depth': 5, 'min_child_samples': 42, 'feature_fraction': 0.6752266439888761, 'bagging_fraction': 0.8392328869972728, 'lambda_l1': 0.008486505669551114, 'lambda_l2': 0.34619851940031493}. Best is trial 5 with value: 0.8011688311688312.\n"
     ]
    },
    {
     "name": "stdout",
     "output_type": "stream",
     "text": [
      "Training until validation scores don't improve for 30 rounds\n",
      "Early stopping, best iteration is:\n",
      "[4]\tvalid_0's auc: 0.768831\n",
      "Training until validation scores don't improve for 30 rounds\n"
     ]
    },
    {
     "name": "stderr",
     "output_type": "stream",
     "text": [
      "[I 2025-08-04 22:47:18,805] Trial 15 finished with value: 0.7426406926406927 and parameters: {'learning_rate': 0.1500895865865508, 'num_leaves': 69, 'max_depth': 6, 'min_child_samples': 44, 'feature_fraction': 0.7449059199177194, 'bagging_fraction': 0.828436117796959, 'lambda_l1': 0.8295340201927593, 'lambda_l2': 0.37011686243949743}. Best is trial 5 with value: 0.8011688311688312.\n"
     ]
    },
    {
     "name": "stdout",
     "output_type": "stream",
     "text": [
      "Early stopping, best iteration is:\n",
      "[25]\tvalid_0's auc: 0.742641\n",
      "Training until validation scores don't improve for 30 rounds\n"
     ]
    },
    {
     "name": "stderr",
     "output_type": "stream",
     "text": [
      "[I 2025-08-04 22:47:19,038] Trial 16 finished with value: 0.8129004329004329 and parameters: {'learning_rate': 0.07863370489223459, 'num_leaves': 54, 'max_depth': 3, 'min_child_samples': 34, 'feature_fraction': 0.663045828436162, 'bagging_fraction': 0.9982709532895725, 'lambda_l1': 0.8675890407837493, 'lambda_l2': 0.7104435085981835}. Best is trial 16 with value: 0.8129004329004329.\n"
     ]
    },
    {
     "name": "stdout",
     "output_type": "stream",
     "text": [
      "Early stopping, best iteration is:\n",
      "[52]\tvalid_0's auc: 0.8129\n",
      "Training until validation scores don't improve for 30 rounds\n"
     ]
    },
    {
     "name": "stderr",
     "output_type": "stream",
     "text": [
      "[I 2025-08-04 22:47:20,226] Trial 17 finished with value: 0.797056277056277 and parameters: {'learning_rate': 0.07237928877904484, 'num_leaves': 52, 'max_depth': 9, 'min_child_samples': 33, 'feature_fraction': 0.9138608836544376, 'bagging_fraction': 0.9881140870776917, 'lambda_l1': 0.8674578942283933, 'lambda_l2': 0.6429975461195523}. Best is trial 16 with value: 0.8129004329004329.\n"
     ]
    },
    {
     "name": "stdout",
     "output_type": "stream",
     "text": [
      "Did not meet early stopping. Best iteration is:\n",
      "[72]\tvalid_0's auc: 0.797056\n",
      "Training until validation scores don't improve for 30 rounds\n"
     ]
    },
    {
     "name": "stderr",
     "output_type": "stream",
     "text": [
      "[I 2025-08-04 22:47:20,559] Trial 18 finished with value: 0.7980519480519481 and parameters: {'learning_rate': 0.07209910420991639, 'num_leaves': 74, 'max_depth': 4, 'min_child_samples': 34, 'feature_fraction': 0.707298832247278, 'bagging_fraction': 0.9392056451395447, 'lambda_l1': 0.6232949203157637, 'lambda_l2': 0.6504160599263287}. Best is trial 16 with value: 0.8129004329004329.\n"
     ]
    },
    {
     "name": "stdout",
     "output_type": "stream",
     "text": [
      "Early stopping, best iteration is:\n",
      "[50]\tvalid_0's auc: 0.798052\n",
      "Training until validation scores don't improve for 30 rounds\n"
     ]
    },
    {
     "name": "stderr",
     "output_type": "stream",
     "text": [
      "[I 2025-08-04 22:47:20,853] Trial 19 finished with value: 0.8014285714285714 and parameters: {'learning_rate': 0.03447856263439751, 'num_leaves': 41, 'max_depth': 6, 'min_child_samples': 24, 'feature_fraction': 0.6406379778985621, 'bagging_fraction': 0.937330120886269, 'lambda_l1': 0.9191261747938201, 'lambda_l2': 0.6406283464547451}. Best is trial 16 with value: 0.8129004329004329.\n"
     ]
    },
    {
     "name": "stdout",
     "output_type": "stream",
     "text": [
      "Early stopping, best iteration is:\n",
      "[8]\tvalid_0's auc: 0.801429\n",
      "Training until validation scores don't improve for 30 rounds\n"
     ]
    },
    {
     "name": "stderr",
     "output_type": "stream",
     "text": [
      "[I 2025-08-04 22:47:21,568] Trial 20 finished with value: 0.7577922077922078 and parameters: {'learning_rate': 0.03409650846791816, 'num_leaves': 39, 'max_depth': 10, 'min_child_samples': 24, 'feature_fraction': 0.6499879630188026, 'bagging_fraction': 0.6019213446381046, 'lambda_l1': 0.6480025580937943, 'lambda_l2': 0.8670201487175812}. Best is trial 16 with value: 0.8129004329004329.\n"
     ]
    },
    {
     "name": "stdout",
     "output_type": "stream",
     "text": [
      "Early stopping, best iteration is:\n",
      "[42]\tvalid_0's auc: 0.757792\n",
      "Training until validation scores don't improve for 30 rounds\n"
     ]
    },
    {
     "name": "stderr",
     "output_type": "stream",
     "text": [
      "[I 2025-08-04 22:47:21,891] Trial 21 finished with value: 0.7941991341991341 and parameters: {'learning_rate': 0.04206435240409616, 'num_leaves': 51, 'max_depth': 6, 'min_child_samples': 21, 'feature_fraction': 0.6441588917375514, 'bagging_fraction': 0.9426482237233206, 'lambda_l1': 0.9198266560920338, 'lambda_l2': 0.6462991908894677}. Best is trial 16 with value: 0.8129004329004329.\n"
     ]
    },
    {
     "name": "stdout",
     "output_type": "stream",
     "text": [
      "Early stopping, best iteration is:\n",
      "[12]\tvalid_0's auc: 0.794199\n",
      "Training until validation scores don't improve for 30 rounds\n"
     ]
    },
    {
     "name": "stderr",
     "output_type": "stream",
     "text": [
      "[I 2025-08-04 22:47:22,290] Trial 22 finished with value: 0.7750216450216447 and parameters: {'learning_rate': 0.010326812285161125, 'num_leaves': 57, 'max_depth': 4, 'min_child_samples': 27, 'feature_fraction': 0.6917064445578163, 'bagging_fraction': 0.9927018464891177, 'lambda_l1': 0.8836497110116641, 'lambda_l2': 0.6180239517357528}. Best is trial 16 with value: 0.8129004329004329.\n"
     ]
    },
    {
     "name": "stdout",
     "output_type": "stream",
     "text": [
      "Did not meet early stopping. Best iteration is:\n",
      "[100]\tvalid_0's auc: 0.775022\n",
      "Training until validation scores don't improve for 30 rounds\n"
     ]
    },
    {
     "name": "stderr",
     "output_type": "stream",
     "text": [
      "[I 2025-08-04 22:47:22,916] Trial 23 finished with value: 0.7793506493506493 and parameters: {'learning_rate': 0.07827857406979621, 'num_leaves': 20, 'max_depth': 6, 'min_child_samples': 19, 'feature_fraction': 0.7537131953281684, 'bagging_fraction': 0.9192187510941153, 'lambda_l1': 0.9787540667571464, 'lambda_l2': 0.8557246800225844}. Best is trial 16 with value: 0.8129004329004329.\n"
     ]
    },
    {
     "name": "stdout",
     "output_type": "stream",
     "text": [
      "Early stopping, best iteration is:\n",
      "[65]\tvalid_0's auc: 0.779351\n",
      "Training until validation scores don't improve for 30 rounds\n"
     ]
    },
    {
     "name": "stderr",
     "output_type": "stream",
     "text": [
      "[I 2025-08-04 22:47:23,293] Trial 24 finished with value: 0.7822077922077921 and parameters: {'learning_rate': 0.026134303256507736, 'num_leaves': 41, 'max_depth': 4, 'min_child_samples': 45, 'feature_fraction': 0.652801920929895, 'bagging_fraction': 0.9534410160384824, 'lambda_l1': 0.6414615024068053, 'lambda_l2': 0.6989303553804568}. Best is trial 16 with value: 0.8129004329004329.\n"
     ]
    },
    {
     "name": "stdout",
     "output_type": "stream",
     "text": [
      "Did not meet early stopping. Best iteration is:\n",
      "[96]\tvalid_0's auc: 0.782208\n",
      "Training until validation scores don't improve for 30 rounds\n"
     ]
    },
    {
     "name": "stderr",
     "output_type": "stream",
     "text": [
      "[I 2025-08-04 22:47:23,626] Trial 25 finished with value: 0.7891341991341991 and parameters: {'learning_rate': 0.09881886718129543, 'num_leaves': 47, 'max_depth': 5, 'min_child_samples': 35, 'feature_fraction': 0.7287013966703273, 'bagging_fraction': 0.8693943808338407, 'lambda_l1': 0.841756794568837, 'lambda_l2': 0.4469808935458476}. Best is trial 16 with value: 0.8129004329004329.\n"
     ]
    },
    {
     "name": "stdout",
     "output_type": "stream",
     "text": [
      "Early stopping, best iteration is:\n",
      "[29]\tvalid_0's auc: 0.789134\n",
      "Training until validation scores don't improve for 30 rounds\n"
     ]
    },
    {
     "name": "stderr",
     "output_type": "stream",
     "text": [
      "[I 2025-08-04 22:47:24,245] Trial 26 finished with value: 0.763896103896104 and parameters: {'learning_rate': 0.06620554213440533, 'num_leaves': 66, 'max_depth': 8, 'min_child_samples': 30, 'feature_fraction': 0.6329430110284259, 'bagging_fraction': 0.9668977733722826, 'lambda_l1': 0.9191465063318378, 'lambda_l2': 0.5857486366145433}. Best is trial 16 with value: 0.8129004329004329.\n"
     ]
    },
    {
     "name": "stdout",
     "output_type": "stream",
     "text": [
      "Early stopping, best iteration is:\n",
      "[38]\tvalid_0's auc: 0.763896\n",
      "Training until validation scores don't improve for 30 rounds\n"
     ]
    },
    {
     "name": "stderr",
     "output_type": "stream",
     "text": [
      "[I 2025-08-04 22:47:25,017] Trial 27 finished with value: 0.7696969696969697 and parameters: {'learning_rate': 0.08286728829467913, 'num_leaves': 49, 'max_depth': 6, 'min_child_samples': 24, 'feature_fraction': 0.7917505216238592, 'bagging_fraction': 0.9139822362555059, 'lambda_l1': 0.9955614084361054, 'lambda_l2': 0.44090835405598305}. Best is trial 16 with value: 0.8129004329004329.\n"
     ]
    },
    {
     "name": "stdout",
     "output_type": "stream",
     "text": [
      "Did not meet early stopping. Best iteration is:\n",
      "[74]\tvalid_0's auc: 0.769697\n",
      "Training until validation scores don't improve for 30 rounds\n"
     ]
    },
    {
     "name": "stderr",
     "output_type": "stream",
     "text": [
      "[I 2025-08-04 22:47:25,300] Trial 28 finished with value: 0.7788744588744588 and parameters: {'learning_rate': 0.04281397653048692, 'num_leaves': 56, 'max_depth': 3, 'min_child_samples': 17, 'feature_fraction': 0.6963594170824088, 'bagging_fraction': 0.8156514352396294, 'lambda_l1': 0.5545180595342996, 'lambda_l2': 0.811462964964521}. Best is trial 16 with value: 0.8129004329004329.\n"
     ]
    },
    {
     "name": "stdout",
     "output_type": "stream",
     "text": [
      "Did not meet early stopping. Best iteration is:\n",
      "[97]\tvalid_0's auc: 0.778874\n",
      "Training until validation scores don't improve for 30 rounds\n"
     ]
    },
    {
     "name": "stderr",
     "output_type": "stream",
     "text": [
      "[I 2025-08-04 22:47:25,824] Trial 29 finished with value: 0.7816017316017316 and parameters: {'learning_rate': 0.05821851786939333, 'num_leaves': 33, 'max_depth': 7, 'min_child_samples': 48, 'feature_fraction': 0.7668768421933563, 'bagging_fraction': 0.7974854850315756, 'lambda_l1': 0.7835474546501638, 'lambda_l2': 0.9788537055423239}. Best is trial 16 with value: 0.8129004329004329.\n"
     ]
    },
    {
     "name": "stdout",
     "output_type": "stream",
     "text": [
      "Early stopping, best iteration is:\n",
      "[39]\tvalid_0's auc: 0.781602\n",
      "\n",
      "📍 Training for label: NR-PPAR-gamma\n"
     ]
    },
    {
     "name": "stderr",
     "output_type": "stream",
     "text": [
      "[I 2025-08-04 22:47:29,560] A new study created in memory with name: no-name-fd79a8c4-de48-4b98-a4ff-130c7e419d3a\n"
     ]
    },
    {
     "name": "stdout",
     "output_type": "stream",
     "text": [
      "Training until validation scores don't improve for 30 rounds\n",
      "Early stopping, best iteration is:\n",
      "[1]\tvalid_0's auc: 0.617202\n"
     ]
    },
    {
     "name": "stderr",
     "output_type": "stream",
     "text": [
      "[I 2025-08-04 22:47:29,972] Trial 0 finished with value: 0.6172019505633092 and parameters: {'learning_rate': 0.1825704956297169, 'num_leaves': 77, 'max_depth': 10, 'min_child_samples': 37, 'feature_fraction': 0.650918091507396, 'bagging_fraction': 0.9682456360805989, 'lambda_l1': 0.2390444878141621, 'lambda_l2': 0.9418638760041951}. Best is trial 0 with value: 0.6172019505633092.\n",
      "[I 2025-08-04 22:47:30,211] Trial 1 finished with value: 0.7447032117033798 and parameters: {'learning_rate': 0.0294875129745078, 'num_leaves': 49, 'max_depth': 7, 'min_child_samples': 50, 'feature_fraction': 0.8328299135666175, 'bagging_fraction': 0.6442349530938035, 'lambda_l1': 0.18973976697964678, 'lambda_l2': 0.6067300046150463}. Best is trial 1 with value: 0.7447032117033798.\n"
     ]
    },
    {
     "name": "stdout",
     "output_type": "stream",
     "text": [
      "Training until validation scores don't improve for 30 rounds\n",
      "Early stopping, best iteration is:\n",
      "[2]\tvalid_0's auc: 0.744703\n",
      "Training until validation scores don't improve for 30 rounds\n"
     ]
    },
    {
     "name": "stderr",
     "output_type": "stream",
     "text": [
      "[I 2025-08-04 22:47:30,540] Trial 2 finished with value: 0.7164536741214057 and parameters: {'learning_rate': 0.041882750486718634, 'num_leaves': 26, 'max_depth': 6, 'min_child_samples': 31, 'feature_fraction': 0.7868339201744777, 'bagging_fraction': 0.8517827973289984, 'lambda_l1': 0.9451954530040724, 'lambda_l2': 0.39149380938756684}. Best is trial 1 with value: 0.7447032117033798.\n"
     ]
    },
    {
     "name": "stdout",
     "output_type": "stream",
     "text": [
      "Early stopping, best iteration is:\n",
      "[30]\tvalid_0's auc: 0.716454\n",
      "Training until validation scores don't improve for 30 rounds\n"
     ]
    },
    {
     "name": "stderr",
     "output_type": "stream",
     "text": [
      "[I 2025-08-04 22:47:30,825] Trial 3 finished with value: 0.6539431646208173 and parameters: {'learning_rate': 0.1587864655041004, 'num_leaves': 27, 'max_depth': 11, 'min_child_samples': 34, 'feature_fraction': 0.7082827029842437, 'bagging_fraction': 0.736391340705874, 'lambda_l1': 0.6706532476356133, 'lambda_l2': 0.9525195404388261}. Best is trial 1 with value: 0.7447032117033798.\n"
     ]
    },
    {
     "name": "stdout",
     "output_type": "stream",
     "text": [
      "Early stopping, best iteration is:\n",
      "[4]\tvalid_0's auc: 0.653943\n",
      "Training until validation scores don't improve for 30 rounds\n"
     ]
    },
    {
     "name": "stderr",
     "output_type": "stream",
     "text": [
      "[I 2025-08-04 22:47:31,194] Trial 4 finished with value: 0.6921557087607196 and parameters: {'learning_rate': 0.17397086043116256, 'num_leaves': 46, 'max_depth': 10, 'min_child_samples': 39, 'feature_fraction': 0.974988159308878, 'bagging_fraction': 0.9836781577364079, 'lambda_l1': 0.7841591978347977, 'lambda_l2': 0.18098305221117905}. Best is trial 1 with value: 0.7447032117033798.\n"
     ]
    },
    {
     "name": "stdout",
     "output_type": "stream",
     "text": [
      "Early stopping, best iteration is:\n",
      "[1]\tvalid_0's auc: 0.692156\n",
      "Training until validation scores don't improve for 30 rounds\n"
     ]
    },
    {
     "name": "stderr",
     "output_type": "stream",
     "text": [
      "[I 2025-08-04 22:47:31,675] Trial 5 finished with value: 0.6644106272069952 and parameters: {'learning_rate': 0.10323434543229497, 'num_leaves': 38, 'max_depth': 11, 'min_child_samples': 29, 'feature_fraction': 0.7157087055347121, 'bagging_fraction': 0.6080302215727824, 'lambda_l1': 0.8455804252322184, 'lambda_l2': 0.06062626037316998}. Best is trial 1 with value: 0.7447032117033798.\n"
     ]
    },
    {
     "name": "stdout",
     "output_type": "stream",
     "text": [
      "Early stopping, best iteration is:\n",
      "[29]\tvalid_0's auc: 0.664411\n",
      "Training until validation scores don't improve for 30 rounds\n"
     ]
    },
    {
     "name": "stderr",
     "output_type": "stream",
     "text": [
      "[I 2025-08-04 22:47:32,041] Trial 6 finished with value: 0.7083823776694131 and parameters: {'learning_rate': 0.04057386494303738, 'num_leaves': 33, 'max_depth': 9, 'min_child_samples': 34, 'feature_fraction': 0.8282814074230318, 'bagging_fraction': 0.9139060282628308, 'lambda_l1': 0.04412185466203966, 'lambda_l2': 0.24472875892320933}. Best is trial 1 with value: 0.7447032117033798.\n"
     ]
    },
    {
     "name": "stdout",
     "output_type": "stream",
     "text": [
      "Early stopping, best iteration is:\n",
      "[18]\tvalid_0's auc: 0.708382\n",
      "Training until validation scores don't improve for 30 rounds\n"
     ]
    },
    {
     "name": "stderr",
     "output_type": "stream",
     "text": [
      "[I 2025-08-04 22:47:32,487] Trial 7 finished with value: 0.6915671767277619 and parameters: {'learning_rate': 0.19048502626902894, 'num_leaves': 75, 'max_depth': 9, 'min_child_samples': 12, 'feature_fraction': 0.9845734899345517, 'bagging_fraction': 0.7577953532904244, 'lambda_l1': 0.4639300937883535, 'lambda_l2': 0.3665729660289928}. Best is trial 1 with value: 0.7447032117033798.\n"
     ]
    },
    {
     "name": "stdout",
     "output_type": "stream",
     "text": [
      "Early stopping, best iteration is:\n",
      "[1]\tvalid_0's auc: 0.691567\n",
      "Training until validation scores don't improve for 30 rounds\n"
     ]
    },
    {
     "name": "stderr",
     "output_type": "stream",
     "text": [
      "[I 2025-08-04 22:47:32,849] Trial 8 finished with value: 0.7068690095846645 and parameters: {'learning_rate': 0.1709810543611208, 'num_leaves': 33, 'max_depth': 12, 'min_child_samples': 19, 'feature_fraction': 0.9738488539767793, 'bagging_fraction': 0.9716667335769822, 'lambda_l1': 0.7108687744476961, 'lambda_l2': 0.6193310766119562}. Best is trial 1 with value: 0.7447032117033798.\n"
     ]
    },
    {
     "name": "stdout",
     "output_type": "stream",
     "text": [
      "Early stopping, best iteration is:\n",
      "[1]\tvalid_0's auc: 0.706869\n",
      "Training until validation scores don't improve for 30 rounds\n",
      "Early stopping, best iteration is:\n",
      "[28]\tvalid_0's auc: 0.669918\n"
     ]
    },
    {
     "name": "stderr",
     "output_type": "stream",
     "text": [
      "[I 2025-08-04 22:47:33,025] Trial 9 finished with value: 0.6699176055153859 and parameters: {'learning_rate': 0.10038799725258257, 'num_leaves': 31, 'max_depth': 4, 'min_child_samples': 38, 'feature_fraction': 0.6255647592588384, 'bagging_fraction': 0.7969988043473613, 'lambda_l1': 0.4543875445251717, 'lambda_l2': 0.09555351662747269}. Best is trial 1 with value: 0.7447032117033798.\n",
      "[I 2025-08-04 22:47:33,281] Trial 10 finished with value: 0.7465528838069615 and parameters: {'learning_rate': 0.013449491852832528, 'num_leaves': 63, 'max_depth': 6, 'min_child_samples': 50, 'feature_fraction': 0.8638405518318497, 'bagging_fraction': 0.6440588605580018, 'lambda_l1': 0.02698361035786212, 'lambda_l2': 0.6537290228228222}. Best is trial 10 with value: 0.7465528838069615.\n"
     ]
    },
    {
     "name": "stdout",
     "output_type": "stream",
     "text": [
      "Training until validation scores don't improve for 30 rounds\n",
      "Early stopping, best iteration is:\n",
      "[15]\tvalid_0's auc: 0.746553\n",
      "Training until validation scores don't improve for 30 rounds\n",
      "Early stopping, best iteration is:\n",
      "[27]\tvalid_0's auc: 0.742601\n"
     ]
    },
    {
     "name": "stderr",
     "output_type": "stream",
     "text": [
      "[I 2025-08-04 22:47:33,589] Trial 11 finished with value: 0.7426013115856734 and parameters: {'learning_rate': 0.010082996247216362, 'num_leaves': 61, 'max_depth': 6, 'min_child_samples': 50, 'feature_fraction': 0.8717030872499577, 'bagging_fraction': 0.6171645311777088, 'lambda_l1': 0.011606110903036093, 'lambda_l2': 0.6691948680437606}. Best is trial 10 with value: 0.7465528838069615.\n"
     ]
    },
    {
     "name": "stdout",
     "output_type": "stream",
     "text": [
      "Training until validation scores don't improve for 30 rounds\n",
      "Early stopping, best iteration is:\n",
      "[5]\tvalid_0's auc: 0.735581\n"
     ]
    },
    {
     "name": "stderr",
     "output_type": "stream",
     "text": [
      "[I 2025-08-04 22:47:33,880] Trial 12 finished with value: 0.735580965192534 and parameters: {'learning_rate': 0.060600547641844894, 'num_leaves': 60, 'max_depth': 7, 'min_child_samples': 50, 'feature_fraction': 0.8821803659772967, 'bagging_fraction': 0.6819622344768346, 'lambda_l1': 0.21692622028339387, 'lambda_l2': 0.7325983482813669}. Best is trial 10 with value: 0.7465528838069615.\n",
      "[I 2025-08-04 22:47:34,043] Trial 13 finished with value: 0.7484445939128972 and parameters: {'learning_rate': 0.025344533424961777, 'num_leaves': 56, 'max_depth': 3, 'min_child_samples': 45, 'feature_fraction': 0.8943972732735179, 'bagging_fraction': 0.6818498438337146, 'lambda_l1': 0.2241183579876414, 'lambda_l2': 0.5274414458129112}. Best is trial 13 with value: 0.7484445939128972.\n"
     ]
    },
    {
     "name": "stdout",
     "output_type": "stream",
     "text": [
      "Training until validation scores don't improve for 30 rounds\n",
      "Early stopping, best iteration is:\n",
      "[15]\tvalid_0's auc: 0.748445\n",
      "Training until validation scores don't improve for 30 rounds\n"
     ]
    },
    {
     "name": "stderr",
     "output_type": "stream",
     "text": [
      "[I 2025-08-04 22:47:34,206] Trial 14 finished with value: 0.7123759878930552 and parameters: {'learning_rate': 0.07349966666504794, 'num_leaves': 63, 'max_depth': 3, 'min_child_samples': 44, 'feature_fraction': 0.9200920445802022, 'bagging_fraction': 0.6900269265303903, 'lambda_l1': 0.353986675002151, 'lambda_l2': 0.7941180587112076}. Best is trial 13 with value: 0.7484445939128972.\n"
     ]
    },
    {
     "name": "stdout",
     "output_type": "stream",
     "text": [
      "Early stopping, best iteration is:\n",
      "[5]\tvalid_0's auc: 0.712376\n",
      "Training until validation scores don't improve for 30 rounds\n"
     ]
    },
    {
     "name": "stderr",
     "output_type": "stream",
     "text": [
      "[I 2025-08-04 22:47:34,444] Trial 15 finished with value: 0.746763073818732 and parameters: {'learning_rate': 0.01158133524357867, 'num_leaves': 67, 'max_depth': 4, 'min_child_samples': 44, 'feature_fraction': 0.7763617350874245, 'bagging_fraction': 0.6868912565520433, 'lambda_l1': 0.10859321889711293, 'lambda_l2': 0.48643136465928516}. Best is trial 13 with value: 0.7484445939128972.\n",
      "[I 2025-08-04 22:47:34,612] Trial 16 finished with value: 0.6619303850681015 and parameters: {'learning_rate': 0.13247057069214688, 'num_leaves': 70, 'max_depth': 4, 'min_child_samples': 44, 'feature_fraction': 0.7592069438692439, 'bagging_fraction': 0.7190578440826897, 'lambda_l1': 0.3325120103252841, 'lambda_l2': 0.4681780844807467}. Best is trial 13 with value: 0.7484445939128972.\n"
     ]
    },
    {
     "name": "stdout",
     "output_type": "stream",
     "text": [
      "Early stopping, best iteration is:\n",
      "[28]\tvalid_0's auc: 0.746763\n",
      "Training until validation scores don't improve for 30 rounds\n",
      "Early stopping, best iteration is:\n",
      "[3]\tvalid_0's auc: 0.66193\n"
     ]
    },
    {
     "name": "stderr",
     "output_type": "stream",
     "text": [
      "[I 2025-08-04 22:47:34,793] Trial 17 finished with value: 0.6900958466453674 and parameters: {'learning_rate': 0.0730001966842499, 'num_leaves': 54, 'max_depth': 3, 'min_child_samples': 25, 'feature_fraction': 0.7478051732336004, 'bagging_fraction': 0.7838762922922067, 'lambda_l1': 0.11666101941004056, 'lambda_l2': 0.5395859782611665}. Best is trial 13 with value: 0.7484445939128972.\n"
     ]
    },
    {
     "name": "stdout",
     "output_type": "stream",
     "text": [
      "Training until validation scores don't improve for 30 rounds\n",
      "Early stopping, best iteration is:\n",
      "[36]\tvalid_0's auc: 0.690096\n",
      "Training until validation scores don't improve for 30 rounds\n"
     ]
    },
    {
     "name": "stderr",
     "output_type": "stream",
     "text": [
      "[I 2025-08-04 22:47:35,019] Trial 18 finished with value: 0.7689171010593576 and parameters: {'learning_rate': 0.05420526127330001, 'num_leaves': 69, 'max_depth': 5, 'min_child_samples': 43, 'feature_fraction': 0.9358920256425942, 'bagging_fraction': 0.8454240809460052, 'lambda_l1': 0.5734645734917219, 'lambda_l2': 0.2819429186300993}. Best is trial 18 with value: 0.7689171010593576.\n"
     ]
    },
    {
     "name": "stdout",
     "output_type": "stream",
     "text": [
      "Early stopping, best iteration is:\n",
      "[4]\tvalid_0's auc: 0.768917\n",
      "Training until validation scores don't improve for 30 rounds\n"
     ]
    },
    {
     "name": "stderr",
     "output_type": "stream",
     "text": [
      "[I 2025-08-04 22:47:35,229] Trial 19 finished with value: 0.7441146796704221 and parameters: {'learning_rate': 0.059936355792271745, 'num_leaves': 55, 'max_depth': 5, 'min_child_samples': 42, 'feature_fraction': 0.9034548830345628, 'bagging_fraction': 0.8530531828842035, 'lambda_l1': 0.5795632624609895, 'lambda_l2': 0.2668686529370205}. Best is trial 18 with value: 0.7689171010593576.\n"
     ]
    },
    {
     "name": "stdout",
     "output_type": "stream",
     "text": [
      "Early stopping, best iteration is:\n",
      "[6]\tvalid_0's auc: 0.744115\n",
      "Training until validation scores don't improve for 30 rounds\n"
     ]
    },
    {
     "name": "stderr",
     "output_type": "stream",
     "text": [
      "[I 2025-08-04 22:47:35,439] Trial 20 finished with value: 0.7298217588700185 and parameters: {'learning_rate': 0.08880582690287452, 'num_leaves': 43, 'max_depth': 5, 'min_child_samples': 25, 'feature_fraction': 0.9345071423698817, 'bagging_fraction': 0.8526446845498531, 'lambda_l1': 0.5545918791752675, 'lambda_l2': 0.37936956930199245}. Best is trial 18 with value: 0.7689171010593576.\n"
     ]
    },
    {
     "name": "stdout",
     "output_type": "stream",
     "text": [
      "Early stopping, best iteration is:\n",
      "[5]\tvalid_0's auc: 0.729822\n",
      "Training until validation scores don't improve for 30 rounds\n",
      "Early stopping, best iteration is:\n",
      "[4]\tvalid_0's auc: 0.760299\n"
     ]
    },
    {
     "name": "stderr",
     "output_type": "stream",
     "text": [
      "[I 2025-08-04 22:47:35,624] Trial 21 finished with value: 0.7602993105767613 and parameters: {'learning_rate': 0.03127566021386334, 'num_leaves': 69, 'max_depth': 4, 'min_child_samples': 46, 'feature_fraction': 0.940654564191842, 'bagging_fraction': 0.6810133359875717, 'lambda_l1': 0.3054668714973342, 'lambda_l2': 0.4649033770479054}. Best is trial 18 with value: 0.7689171010593576.\n",
      "[I 2025-08-04 22:47:35,786] Trial 22 finished with value: 0.7702623171346897 and parameters: {'learning_rate': 0.03455377895143885, 'num_leaves': 72, 'max_depth': 3, 'min_child_samples': 46, 'feature_fraction': 0.9509109335548963, 'bagging_fraction': 0.9088638149321052, 'lambda_l1': 0.34909130982417275, 'lambda_l2': 0.29758371053413135}. Best is trial 22 with value: 0.7702623171346897.\n"
     ]
    },
    {
     "name": "stdout",
     "output_type": "stream",
     "text": [
      "Training until validation scores don't improve for 30 rounds\n",
      "Early stopping, best iteration is:\n",
      "[9]\tvalid_0's auc: 0.770262\n",
      "Training until validation scores don't improve for 30 rounds\n"
     ]
    },
    {
     "name": "stderr",
     "output_type": "stream",
     "text": [
      "[I 2025-08-04 22:47:36,018] Trial 23 finished with value: 0.7648814528333614 and parameters: {'learning_rate': 0.050285468001911096, 'num_leaves': 80, 'max_depth': 5, 'min_child_samples': 41, 'feature_fraction': 0.9437810285621426, 'bagging_fraction': 0.9147396005787296, 'lambda_l1': 0.36118964019593475, 'lambda_l2': 0.3002952870250736}. Best is trial 22 with value: 0.7702623171346897.\n"
     ]
    },
    {
     "name": "stdout",
     "output_type": "stream",
     "text": [
      "Early stopping, best iteration is:\n",
      "[3]\tvalid_0's auc: 0.764881\n",
      "Training until validation scores don't improve for 30 rounds\n"
     ]
    },
    {
     "name": "stderr",
     "output_type": "stream",
     "text": [
      "[I 2025-08-04 22:47:36,240] Trial 24 finished with value: 0.7638725407768623 and parameters: {'learning_rate': 0.05250058546059203, 'num_leaves': 80, 'max_depth': 5, 'min_child_samples': 40, 'feature_fraction': 0.9518629348859919, 'bagging_fraction': 0.9155863634495275, 'lambda_l1': 0.40654613058007244, 'lambda_l2': 0.16998260429295975}. Best is trial 22 with value: 0.7702623171346897.\n"
     ]
    },
    {
     "name": "stdout",
     "output_type": "stream",
     "text": [
      "Early stopping, best iteration is:\n",
      "[3]\tvalid_0's auc: 0.763873\n",
      "Training until validation scores don't improve for 30 rounds\n"
     ]
    },
    {
     "name": "stderr",
     "output_type": "stream",
     "text": [
      "[I 2025-08-04 22:47:36,532] Trial 25 finished with value: 0.6881200605347233 and parameters: {'learning_rate': 0.12481287729653455, 'num_leaves': 74, 'max_depth': 8, 'min_child_samples': 47, 'feature_fraction': 0.9962937881189506, 'bagging_fraction': 0.8982283738302231, 'lambda_l1': 0.5586064895067367, 'lambda_l2': 0.299267695795163}. Best is trial 22 with value: 0.7702623171346897.\n"
     ]
    },
    {
     "name": "stdout",
     "output_type": "stream",
     "text": [
      "Early stopping, best iteration is:\n",
      "[1]\tvalid_0's auc: 0.68812\n",
      "Training until validation scores don't improve for 30 rounds\n"
     ]
    },
    {
     "name": "stderr",
     "output_type": "stream",
     "text": [
      "[I 2025-08-04 22:47:36,862] Trial 26 finished with value: 0.6920716327560114 and parameters: {'learning_rate': 0.08042112155876388, 'num_leaves': 72, 'max_depth': 5, 'min_child_samples': 35, 'feature_fraction': 0.839952295893102, 'bagging_fraction': 0.8854013281531732, 'lambda_l1': 0.630190991504066, 'lambda_l2': 0.16478260465175262}. Best is trial 22 with value: 0.7702623171346897.\n"
     ]
    },
    {
     "name": "stdout",
     "output_type": "stream",
     "text": [
      "Early stopping, best iteration is:\n",
      "[18]\tvalid_0's auc: 0.692072\n",
      "Training until validation scores don't improve for 30 rounds\n",
      "Early stopping, best iteration is:\n",
      "[9]\tvalid_0's auc: 0.757104\n"
     ]
    },
    {
     "name": "stderr",
     "output_type": "stream",
     "text": [
      "[I 2025-08-04 22:47:37,043] Trial 27 finished with value: 0.7571044223978476 and parameters: {'learning_rate': 0.0480058912333679, 'num_leaves': 77, 'max_depth': 3, 'min_child_samples': 41, 'feature_fraction': 0.9581606043699903, 'bagging_fraction': 0.831322168502661, 'lambda_l1': 0.39629748707687606, 'lambda_l2': 0.31877753610093507}. Best is trial 22 with value: 0.7702623171346897.\n",
      "[I 2025-08-04 22:47:37,305] Trial 28 finished with value: 0.6982932571044224 and parameters: {'learning_rate': 0.12257269899913195, 'num_leaves': 66, 'max_depth': 6, 'min_child_samples': 31, 'feature_fraction': 0.9160771800390101, 'bagging_fraction': 0.9415765666932524, 'lambda_l1': 0.47813337789676114, 'lambda_l2': 0.2387484457927736}. Best is trial 22 with value: 0.7702623171346897.\n"
     ]
    },
    {
     "name": "stdout",
     "output_type": "stream",
     "text": [
      "Training until validation scores don't improve for 30 rounds\n",
      "Early stopping, best iteration is:\n",
      "[1]\tvalid_0's auc: 0.698293\n"
     ]
    },
    {
     "name": "stderr",
     "output_type": "stream",
     "text": [
      "[I 2025-08-04 22:47:37,511] Trial 29 finished with value: 0.7582814864637633 and parameters: {'learning_rate': 0.06984182233575567, 'num_leaves': 80, 'max_depth': 4, 'min_child_samples': 37, 'feature_fraction': 0.8590293128055284, 'bagging_fraction': 0.9456813579238573, 'lambda_l1': 0.28164442459857897, 'lambda_l2': 0.10477725974628674}. Best is trial 22 with value: 0.7702623171346897.\n"
     ]
    },
    {
     "name": "stdout",
     "output_type": "stream",
     "text": [
      "Training until validation scores don't improve for 30 rounds\n",
      "Early stopping, best iteration is:\n",
      "[17]\tvalid_0's auc: 0.758281\n",
      "\n",
      "📍 Training for label: SR-ARE\n"
     ]
    },
    {
     "name": "stderr",
     "output_type": "stream",
     "text": [
      "[I 2025-08-04 22:47:41,380] A new study created in memory with name: no-name-56969fe6-2831-4971-b72f-e212565567bc\n"
     ]
    },
    {
     "name": "stdout",
     "output_type": "stream",
     "text": [
      "Training until validation scores don't improve for 30 rounds\n"
     ]
    },
    {
     "name": "stderr",
     "output_type": "stream",
     "text": [
      "[I 2025-08-04 22:47:41,968] Trial 0 finished with value: 0.8493016577470305 and parameters: {'learning_rate': 0.028799997009763996, 'num_leaves': 66, 'max_depth': 5, 'min_child_samples': 40, 'feature_fraction': 0.7603137923487876, 'bagging_fraction': 0.8053679834511434, 'lambda_l1': 0.49787700382750577, 'lambda_l2': 0.5544192568169053}. Best is trial 0 with value: 0.8493016577470305.\n"
     ]
    },
    {
     "name": "stdout",
     "output_type": "stream",
     "text": [
      "Did not meet early stopping. Best iteration is:\n",
      "[97]\tvalid_0's auc: 0.849302\n",
      "Training until validation scores don't improve for 30 rounds\n"
     ]
    },
    {
     "name": "stderr",
     "output_type": "stream",
     "text": [
      "[I 2025-08-04 22:47:42,445] Trial 1 finished with value: 0.8672714615150328 and parameters: {'learning_rate': 0.09195532661826678, 'num_leaves': 20, 'max_depth': 8, 'min_child_samples': 30, 'feature_fraction': 0.6391904910967209, 'bagging_fraction': 0.7242071850709654, 'lambda_l1': 0.08311789357194332, 'lambda_l2': 0.16212844527582926}. Best is trial 1 with value: 0.8672714615150328.\n"
     ]
    },
    {
     "name": "stdout",
     "output_type": "stream",
     "text": [
      "Did not meet early stopping. Best iteration is:\n",
      "[81]\tvalid_0's auc: 0.867271\n",
      "Training until validation scores don't improve for 30 rounds\n"
     ]
    },
    {
     "name": "stderr",
     "output_type": "stream",
     "text": [
      "[I 2025-08-04 22:47:43,803] Trial 2 finished with value: 0.8806074054736112 and parameters: {'learning_rate': 0.12453291437555962, 'num_leaves': 51, 'max_depth': 11, 'min_child_samples': 19, 'feature_fraction': 0.970655377466233, 'bagging_fraction': 0.7241375500520102, 'lambda_l1': 0.46536808220797077, 'lambda_l2': 0.5827370303186766}. Best is trial 2 with value: 0.8806074054736112.\n"
     ]
    },
    {
     "name": "stdout",
     "output_type": "stream",
     "text": [
      "Did not meet early stopping. Best iteration is:\n",
      "[96]\tvalid_0's auc: 0.880607\n",
      "Training until validation scores don't improve for 30 rounds\n"
     ]
    },
    {
     "name": "stderr",
     "output_type": "stream",
     "text": [
      "[I 2025-08-04 22:47:44,254] Trial 3 finished with value: 0.8551538093373363 and parameters: {'learning_rate': 0.05446868072537999, 'num_leaves': 28, 'max_depth': 5, 'min_child_samples': 16, 'feature_fraction': 0.9810511407213706, 'bagging_fraction': 0.6621698875686289, 'lambda_l1': 0.5769004524237744, 'lambda_l2': 0.9524622532985301}. Best is trial 2 with value: 0.8806074054736112.\n"
     ]
    },
    {
     "name": "stdout",
     "output_type": "stream",
     "text": [
      "Did not meet early stopping. Best iteration is:\n",
      "[100]\tvalid_0's auc: 0.855154\n",
      "Training until validation scores don't improve for 30 rounds\n"
     ]
    },
    {
     "name": "stderr",
     "output_type": "stream",
     "text": [
      "[I 2025-08-04 22:47:44,533] Trial 4 finished with value: 0.8636165861723883 and parameters: {'learning_rate': 0.08709274724417695, 'num_leaves': 31, 'max_depth': 4, 'min_child_samples': 20, 'feature_fraction': 0.7699130618559218, 'bagging_fraction': 0.6103134905634724, 'lambda_l1': 0.7493167817615254, 'lambda_l2': 0.5010117170541375}. Best is trial 2 with value: 0.8806074054736112.\n"
     ]
    },
    {
     "name": "stdout",
     "output_type": "stream",
     "text": [
      "Did not meet early stopping. Best iteration is:\n",
      "[100]\tvalid_0's auc: 0.863617\n",
      "Training until validation scores don't improve for 30 rounds\n"
     ]
    },
    {
     "name": "stderr",
     "output_type": "stream",
     "text": [
      "[I 2025-08-04 22:47:44,995] Trial 5 finished with value: 0.8459296001392334 and parameters: {'learning_rate': 0.020906263975722688, 'num_leaves': 24, 'max_depth': 6, 'min_child_samples': 50, 'feature_fraction': 0.7039640098757083, 'bagging_fraction': 0.9305807637544321, 'lambda_l1': 0.47381220991304773, 'lambda_l2': 0.6073246917209875}. Best is trial 2 with value: 0.8806074054736112.\n"
     ]
    },
    {
     "name": "stdout",
     "output_type": "stream",
     "text": [
      "Did not meet early stopping. Best iteration is:\n",
      "[99]\tvalid_0's auc: 0.84593\n",
      "Training until validation scores don't improve for 30 rounds\n",
      "Did not meet early stopping. Best iteration is:\n",
      "[100]\tvalid_0's auc: 0.82772\n"
     ]
    },
    {
     "name": "stderr",
     "output_type": "stream",
     "text": [
      "[I 2025-08-04 22:47:45,179] Trial 6 finished with value: 0.8277204890571292 and parameters: {'learning_rate': 0.042405678707452765, 'num_leaves': 22, 'max_depth': 3, 'min_child_samples': 40, 'feature_fraction': 0.7395452344333491, 'bagging_fraction': 0.9254596127091299, 'lambda_l1': 0.33264659458037205, 'lambda_l2': 0.11471158775845935}. Best is trial 2 with value: 0.8806074054736112.\n"
     ]
    },
    {
     "name": "stdout",
     "output_type": "stream",
     "text": [
      "Training until validation scores don't improve for 30 rounds\n"
     ]
    },
    {
     "name": "stderr",
     "output_type": "stream",
     "text": [
      "[I 2025-08-04 22:47:45,492] Trial 7 finished with value: 0.8646934690858461 and parameters: {'learning_rate': 0.09204831408857984, 'num_leaves': 77, 'max_depth': 5, 'min_child_samples': 41, 'feature_fraction': 0.6231946459957913, 'bagging_fraction': 0.693505295462683, 'lambda_l1': 0.4263801649521123, 'lambda_l2': 0.6573275503508019}. Best is trial 2 with value: 0.8806074054736112.\n"
     ]
    },
    {
     "name": "stdout",
     "output_type": "stream",
     "text": [
      "Did not meet early stopping. Best iteration is:\n",
      "[87]\tvalid_0's auc: 0.864693\n",
      "Training until validation scores don't improve for 30 rounds\n"
     ]
    },
    {
     "name": "stderr",
     "output_type": "stream",
     "text": [
      "[I 2025-08-04 22:47:46,188] Trial 8 finished with value: 0.8915720315015446 and parameters: {'learning_rate': 0.16675419682678752, 'num_leaves': 58, 'max_depth': 8, 'min_child_samples': 29, 'feature_fraction': 0.6266536186233701, 'bagging_fraction': 0.7217913329283795, 'lambda_l1': 0.2963222550108553, 'lambda_l2': 0.3699675688415298}. Best is trial 8 with value: 0.8915720315015446.\n"
     ]
    },
    {
     "name": "stdout",
     "output_type": "stream",
     "text": [
      "Did not meet early stopping. Best iteration is:\n",
      "[82]\tvalid_0's auc: 0.891572\n",
      "Training until validation scores don't improve for 30 rounds\n"
     ]
    },
    {
     "name": "stderr",
     "output_type": "stream",
     "text": [
      "[I 2025-08-04 22:47:46,817] Trial 9 finished with value: 0.874777009093678 and parameters: {'learning_rate': 0.092193929768194, 'num_leaves': 33, 'max_depth': 10, 'min_child_samples': 36, 'feature_fraction': 0.6225996061135142, 'bagging_fraction': 0.7791084451818104, 'lambda_l1': 0.9470854909173476, 'lambda_l2': 0.49563590783735423}. Best is trial 8 with value: 0.8915720315015446.\n"
     ]
    },
    {
     "name": "stdout",
     "output_type": "stream",
     "text": [
      "Did not meet early stopping. Best iteration is:\n",
      "[97]\tvalid_0's auc: 0.874777\n",
      "Training until validation scores don't improve for 30 rounds\n"
     ]
    },
    {
     "name": "stderr",
     "output_type": "stream",
     "text": [
      "[I 2025-08-04 22:47:47,746] Trial 10 finished with value: 0.8592437888874386 and parameters: {'learning_rate': 0.19650884745153968, 'num_leaves': 51, 'max_depth': 8, 'min_child_samples': 27, 'feature_fraction': 0.8613284266626556, 'bagging_fraction': 0.8615586492593831, 'lambda_l1': 0.024238470748988994, 'lambda_l2': 0.30322115549698}. Best is trial 8 with value: 0.8915720315015446.\n"
     ]
    },
    {
     "name": "stdout",
     "output_type": "stream",
     "text": [
      "Early stopping, best iteration is:\n",
      "[69]\tvalid_0's auc: 0.859244\n",
      "Training until validation scores don't improve for 30 rounds\n"
     ]
    },
    {
     "name": "stderr",
     "output_type": "stream",
     "text": [
      "[I 2025-08-04 22:47:49,317] Trial 11 finished with value: 0.8760388112953053 and parameters: {'learning_rate': 0.15873867454217788, 'num_leaves': 51, 'max_depth': 12, 'min_child_samples': 10, 'feature_fraction': 0.8778519919532336, 'bagging_fraction': 0.7623710975455298, 'lambda_l1': 0.21205387143520216, 'lambda_l2': 0.81369365851762}. Best is trial 8 with value: 0.8915720315015446.\n"
     ]
    },
    {
     "name": "stdout",
     "output_type": "stream",
     "text": [
      "Did not meet early stopping. Best iteration is:\n",
      "[100]\tvalid_0's auc: 0.876039\n",
      "Training until validation scores don't improve for 30 rounds\n"
     ]
    },
    {
     "name": "stderr",
     "output_type": "stream",
     "text": [
      "[I 2025-08-04 22:47:50,591] Trial 12 finished with value: 0.8746247226210676 and parameters: {'learning_rate': 0.14410512993982608, 'num_leaves': 62, 'max_depth': 10, 'min_child_samples': 23, 'feature_fraction': 0.9983151374778567, 'bagging_fraction': 0.6396927981148534, 'lambda_l1': 0.2883572501353299, 'lambda_l2': 0.338092056980211}. Best is trial 8 with value: 0.8915720315015446.\n"
     ]
    },
    {
     "name": "stdout",
     "output_type": "stream",
     "text": [
      "Did not meet early stopping. Best iteration is:\n",
      "[87]\tvalid_0's auc: 0.874625\n",
      "Training until validation scores don't improve for 30 rounds\n"
     ]
    },
    {
     "name": "stderr",
     "output_type": "stream",
     "text": [
      "[I 2025-08-04 22:47:51,829] Trial 13 finished with value: 0.8687073053996432 and parameters: {'learning_rate': 0.13232452475532425, 'num_leaves': 42, 'max_depth': 12, 'min_child_samples': 15, 'feature_fraction': 0.9041458800712893, 'bagging_fraction': 0.7270852846010715, 'lambda_l1': 0.6154314133552562, 'lambda_l2': 0.34190626363907084}. Best is trial 8 with value: 0.8915720315015446.\n"
     ]
    },
    {
     "name": "stdout",
     "output_type": "stream",
     "text": [
      "Did not meet early stopping. Best iteration is:\n",
      "[97]\tvalid_0's auc: 0.868707\n",
      "Training until validation scores don't improve for 30 rounds\n"
     ]
    },
    {
     "name": "stderr",
     "output_type": "stream",
     "text": [
      "[I 2025-08-04 22:47:52,964] Trial 14 finished with value: 0.8789975199060174 and parameters: {'learning_rate': 0.18117988533898052, 'num_leaves': 61, 'max_depth': 10, 'min_child_samples': 25, 'feature_fraction': 0.8270075419009113, 'bagging_fraction': 0.8404484818848734, 'lambda_l1': 0.21350522178368284, 'lambda_l2': 0.7877307318151813}. Best is trial 8 with value: 0.8915720315015446.\n"
     ]
    },
    {
     "name": "stdout",
     "output_type": "stream",
     "text": [
      "Did not meet early stopping. Best iteration is:\n",
      "[92]\tvalid_0's auc: 0.878998\n",
      "Training until validation scores don't improve for 30 rounds\n"
     ]
    },
    {
     "name": "stderr",
     "output_type": "stream",
     "text": [
      "[I 2025-08-04 22:47:53,942] Trial 15 finished with value: 0.8526954705652003 and parameters: {'learning_rate': 0.13048002487702592, 'num_leaves': 44, 'max_depth': 9, 'min_child_samples': 33, 'feature_fraction': 0.9345769580526938, 'bagging_fraction': 0.6828200527001955, 'lambda_l1': 0.7145423038017207, 'lambda_l2': 0.4033290201017112}. Best is trial 8 with value: 0.8915720315015446.\n"
     ]
    },
    {
     "name": "stdout",
     "output_type": "stream",
     "text": [
      "Did not meet early stopping. Best iteration is:\n",
      "[99]\tvalid_0's auc: 0.852695\n",
      "Training until validation scores don't improve for 30 rounds\n"
     ]
    },
    {
     "name": "stderr",
     "output_type": "stream",
     "text": [
      "[I 2025-08-04 22:47:54,649] Trial 16 finished with value: 0.8711221337510333 and parameters: {'learning_rate': 0.16460765463347576, 'num_leaves': 72, 'max_depth': 7, 'min_child_samples': 19, 'feature_fraction': 0.6944868131312183, 'bagging_fraction': 0.729501452812913, 'lambda_l1': 0.336302743416024, 'lambda_l2': 0.02566759148339215}. Best is trial 8 with value: 0.8915720315015446.\n"
     ]
    },
    {
     "name": "stdout",
     "output_type": "stream",
     "text": [
      "Did not meet early stopping. Best iteration is:\n",
      "[99]\tvalid_0's auc: 0.871122\n",
      "Training until validation scores don't improve for 30 rounds\n"
     ]
    },
    {
     "name": "stderr",
     "output_type": "stream",
     "text": [
      "[I 2025-08-04 22:47:55,694] Trial 17 finished with value: 0.8747987643040509 and parameters: {'learning_rate': 0.11975673003108273, 'num_leaves': 57, 'max_depth': 11, 'min_child_samples': 29, 'feature_fraction': 0.8087375403093617, 'bagging_fraction': 0.7964679194367675, 'lambda_l1': 0.17625000468934193, 'lambda_l2': 0.7199218531192328}. Best is trial 8 with value: 0.8915720315015446.\n"
     ]
    },
    {
     "name": "stdout",
     "output_type": "stream",
     "text": [
      "Did not meet early stopping. Best iteration is:\n",
      "[89]\tvalid_0's auc: 0.874799\n",
      "Training until validation scores don't improve for 30 rounds\n"
     ]
    },
    {
     "name": "stderr",
     "output_type": "stream",
     "text": [
      "[I 2025-08-04 22:47:56,537] Trial 18 finished with value: 0.8729495714223556 and parameters: {'learning_rate': 0.16333136707815238, 'num_leaves': 40, 'max_depth': 7, 'min_child_samples': 10, 'feature_fraction': 0.6907890125356685, 'bagging_fraction': 0.8801176280970278, 'lambda_l1': 0.8990441037615498, 'lambda_l2': 0.2360583361035089}. Best is trial 8 with value: 0.8915720315015446.\n"
     ]
    },
    {
     "name": "stdout",
     "output_type": "stream",
     "text": [
      "Did not meet early stopping. Best iteration is:\n",
      "[94]\tvalid_0's auc: 0.87295\n",
      "Training until validation scores don't improve for 30 rounds\n"
     ]
    },
    {
     "name": "stderr",
     "output_type": "stream",
     "text": [
      "[I 2025-08-04 22:47:57,779] Trial 19 finished with value: 0.863660096593134 and parameters: {'learning_rate': 0.06993424150841453, 'num_leaves': 56, 'max_depth': 9, 'min_child_samples': 22, 'feature_fraction': 0.9481598884000959, 'bagging_fraction': 0.6120211488008649, 'lambda_l1': 0.37810960775124175, 'lambda_l2': 0.4604687316797466}. Best is trial 8 with value: 0.8915720315015446.\n"
     ]
    },
    {
     "name": "stdout",
     "output_type": "stream",
     "text": [
      "Did not meet early stopping. Best iteration is:\n",
      "[81]\tvalid_0's auc: 0.86366\n",
      "Training until validation scores don't improve for 30 rounds\n"
     ]
    },
    {
     "name": "stderr",
     "output_type": "stream",
     "text": [
      "[I 2025-08-04 22:47:59,177] Trial 20 finished with value: 0.8725579776356437 and parameters: {'learning_rate': 0.11488439721751317, 'num_leaves': 67, 'max_depth': 11, 'min_child_samples': 15, 'feature_fraction': 0.8383744597298768, 'bagging_fraction': 0.9936685178492007, 'lambda_l1': 0.5945456244361678, 'lambda_l2': 0.9550228340782838}. Best is trial 8 with value: 0.8915720315015446.\n"
     ]
    },
    {
     "name": "stdout",
     "output_type": "stream",
     "text": [
      "Did not meet early stopping. Best iteration is:\n",
      "[99]\tvalid_0's auc: 0.872558\n",
      "Training until validation scores don't improve for 30 rounds\n"
     ]
    },
    {
     "name": "stderr",
     "output_type": "stream",
     "text": [
      "[I 2025-08-04 22:48:00,263] Trial 21 finished with value: 0.8690988991863552 and parameters: {'learning_rate': 0.19748885570451388, 'num_leaves': 60, 'max_depth': 9, 'min_child_samples': 26, 'feature_fraction': 0.8104378644955893, 'bagging_fraction': 0.834279589947622, 'lambda_l1': 0.19603767908084196, 'lambda_l2': 0.813835931057752}. Best is trial 8 with value: 0.8915720315015446.\n"
     ]
    },
    {
     "name": "stdout",
     "output_type": "stream",
     "text": [
      "Did not meet early stopping. Best iteration is:\n",
      "[73]\tvalid_0's auc: 0.869099\n",
      "Training until validation scores don't improve for 30 rounds\n"
     ]
    },
    {
     "name": "stderr",
     "output_type": "stream",
     "text": [
      "[I 2025-08-04 22:48:01,097] Trial 22 finished with value: 0.8797371970586956 and parameters: {'learning_rate': 0.1771198241856718, 'num_leaves': 46, 'max_depth': 10, 'min_child_samples': 25, 'feature_fraction': 0.6650205243616176, 'bagging_fraction': 0.7508768902782047, 'lambda_l1': 0.26184905850110823, 'lambda_l2': 0.7192813183195771}. Best is trial 8 with value: 0.8915720315015446.\n"
     ]
    },
    {
     "name": "stdout",
     "output_type": "stream",
     "text": [
      "Early stopping, best iteration is:\n",
      "[62]\tvalid_0's auc: 0.879737\n",
      "Training until validation scores don't improve for 30 rounds\n"
     ]
    },
    {
     "name": "stderr",
     "output_type": "stream",
     "text": [
      "[I 2025-08-04 22:48:01,943] Trial 23 finished with value: 0.860679632772049 and parameters: {'learning_rate': 0.17575952438996006, 'num_leaves': 47, 'max_depth': 11, 'min_child_samples': 33, 'feature_fraction': 0.6576169861026337, 'bagging_fraction': 0.7496874338862405, 'lambda_l1': 0.10567054973103018, 'lambda_l2': 0.68728496587873}. Best is trial 8 with value: 0.8915720315015446.\n"
     ]
    },
    {
     "name": "stdout",
     "output_type": "stream",
     "text": [
      "Did not meet early stopping. Best iteration is:\n",
      "[100]\tvalid_0's auc: 0.86068\n",
      "Training until validation scores don't improve for 30 rounds\n"
     ]
    },
    {
     "name": "stderr",
     "output_type": "stream",
     "text": [
      "[I 2025-08-04 22:48:02,766] Trial 24 finished with value: 0.8702736805464908 and parameters: {'learning_rate': 0.1496755918103165, 'num_leaves': 37, 'max_depth': 9, 'min_child_samples': 19, 'feature_fraction': 0.6629442848430637, 'bagging_fraction': 0.6979521036596551, 'lambda_l1': 0.28518967882920454, 'lambda_l2': 0.5725549008931569}. Best is trial 8 with value: 0.8915720315015446.\n"
     ]
    },
    {
     "name": "stdout",
     "output_type": "stream",
     "text": [
      "Did not meet early stopping. Best iteration is:\n",
      "[97]\tvalid_0's auc: 0.870274\n",
      "Training until validation scores don't improve for 30 rounds\n"
     ]
    },
    {
     "name": "stderr",
     "output_type": "stream",
     "text": [
      "[I 2025-08-04 22:48:03,776] Trial 25 finished with value: 0.8684027324544229 and parameters: {'learning_rate': 0.17545372091849787, 'num_leaves': 52, 'max_depth': 10, 'min_child_samples': 31, 'feature_fraction': 0.738167537381019, 'bagging_fraction': 0.7513804641013027, 'lambda_l1': 0.4117182477654838, 'lambda_l2': 0.4336159223440258}. Best is trial 8 with value: 0.8915720315015446.\n"
     ]
    },
    {
     "name": "stdout",
     "output_type": "stream",
     "text": [
      "Did not meet early stopping. Best iteration is:\n",
      "[99]\tvalid_0's auc: 0.868403\n",
      "Training until validation scores don't improve for 30 rounds\n"
     ]
    },
    {
     "name": "stderr",
     "output_type": "stream",
     "text": [
      "[I 2025-08-04 22:48:04,524] Trial 26 finished with value: 0.8862855153809337 and parameters: {'learning_rate': 0.1471073050749024, 'num_leaves': 46, 'max_depth': 8, 'min_child_samples': 23, 'feature_fraction': 0.6030003413435306, 'bagging_fraction': 0.6655889801539878, 'lambda_l1': 0.5461835959952893, 'lambda_l2': 0.7200972866405767}. Best is trial 8 with value: 0.8915720315015446.\n"
     ]
    },
    {
     "name": "stdout",
     "output_type": "stream",
     "text": [
      "Did not meet early stopping. Best iteration is:\n",
      "[94]\tvalid_0's auc: 0.886286\n",
      "Training until validation scores don't improve for 30 rounds\n"
     ]
    },
    {
     "name": "stderr",
     "output_type": "stream",
     "text": [
      "[I 2025-08-04 22:48:04,981] Trial 27 finished with value: 0.8684027324544228 and parameters: {'learning_rate': 0.13497742798613666, 'num_leaves': 54, 'max_depth': 6, 'min_child_samples': 22, 'feature_fraction': 0.6180267730254697, 'bagging_fraction': 0.6570622434524016, 'lambda_l1': 0.7070323696418572, 'lambda_l2': 0.8530422090893691}. Best is trial 8 with value: 0.8915720315015446.\n"
     ]
    },
    {
     "name": "stdout",
     "output_type": "stream",
     "text": [
      "Early stopping, best iteration is:\n",
      "[55]\tvalid_0's auc: 0.868403\n",
      "Training until validation scores don't improve for 30 rounds\n"
     ]
    },
    {
     "name": "stderr",
     "output_type": "stream",
     "text": [
      "[I 2025-08-04 22:48:05,773] Trial 28 finished with value: 0.8583735804725231 and parameters: {'learning_rate': 0.10981530495245037, 'num_leaves': 37, 'max_depth': 8, 'min_child_samples': 13, 'feature_fraction': 0.7221921526169263, 'bagging_fraction': 0.7065246606136991, 'lambda_l1': 0.5546330933326501, 'lambda_l2': 0.6137584851340465}. Best is trial 8 with value: 0.8915720315015446.\n"
     ]
    },
    {
     "name": "stdout",
     "output_type": "stream",
     "text": [
      "Did not meet early stopping. Best iteration is:\n",
      "[99]\tvalid_0's auc: 0.858374\n",
      "Training until validation scores don't improve for 30 rounds\n"
     ]
    },
    {
     "name": "stderr",
     "output_type": "stream",
     "text": [
      "[I 2025-08-04 22:48:06,352] Trial 29 finished with value: 0.8530217987207938 and parameters: {'learning_rate': 0.15078753834373473, 'num_leaves': 64, 'max_depth': 6, 'min_child_samples': 18, 'feature_fraction': 0.7762315108872204, 'bagging_fraction': 0.6536093611638063, 'lambda_l1': 0.5130579554930619, 'lambda_l2': 0.5517323429451246}. Best is trial 8 with value: 0.8915720315015446.\n"
     ]
    },
    {
     "name": "stdout",
     "output_type": "stream",
     "text": [
      "Did not meet early stopping. Best iteration is:\n",
      "[76]\tvalid_0's auc: 0.853022\n",
      "\n",
      "📍 Training for label: SR-ATAD5\n"
     ]
    },
    {
     "name": "stderr",
     "output_type": "stream",
     "text": [
      "[I 2025-08-04 22:48:11,100] A new study created in memory with name: no-name-a2a18379-4c36-475b-ac85-447b794a40fc\n"
     ]
    },
    {
     "name": "stdout",
     "output_type": "stream",
     "text": [
      "Training until validation scores don't improve for 30 rounds\n"
     ]
    },
    {
     "name": "stderr",
     "output_type": "stream",
     "text": [
      "[I 2025-08-04 22:48:11,904] Trial 0 finished with value: 0.8674460634813057 and parameters: {'learning_rate': 0.08463019143191368, 'num_leaves': 44, 'max_depth': 6, 'min_child_samples': 43, 'feature_fraction': 0.8631756523536016, 'bagging_fraction': 0.6836090851394806, 'lambda_l1': 0.9179713965087581, 'lambda_l2': 0.08143547781541238}. Best is trial 0 with value: 0.8674460634813057.\n"
     ]
    },
    {
     "name": "stdout",
     "output_type": "stream",
     "text": [
      "Did not meet early stopping. Best iteration is:\n",
      "[100]\tvalid_0's auc: 0.867446\n",
      "Training until validation scores don't improve for 30 rounds\n"
     ]
    },
    {
     "name": "stderr",
     "output_type": "stream",
     "text": [
      "[I 2025-08-04 22:48:12,882] Trial 1 finished with value: 0.842482774200836 and parameters: {'learning_rate': 0.02932615553027619, 'num_leaves': 46, 'max_depth': 10, 'min_child_samples': 45, 'feature_fraction': 0.9524722147027774, 'bagging_fraction': 0.9338916939639356, 'lambda_l1': 0.4411094914286713, 'lambda_l2': 0.6081625234577843}. Best is trial 0 with value: 0.8674460634813057.\n"
     ]
    },
    {
     "name": "stdout",
     "output_type": "stream",
     "text": [
      "Did not meet early stopping. Best iteration is:\n",
      "[94]\tvalid_0's auc: 0.842483\n",
      "Training until validation scores don't improve for 30 rounds\n"
     ]
    },
    {
     "name": "stderr",
     "output_type": "stream",
     "text": [
      "[I 2025-08-04 22:48:13,271] Trial 2 finished with value: 0.8118152038856885 and parameters: {'learning_rate': 0.052968237948908134, 'num_leaves': 38, 'max_depth': 4, 'min_child_samples': 48, 'feature_fraction': 0.9103882147937012, 'bagging_fraction': 0.6867692851912042, 'lambda_l1': 0.4329552145062985, 'lambda_l2': 0.286018065262291}. Best is trial 0 with value: 0.8674460634813057.\n"
     ]
    },
    {
     "name": "stdout",
     "output_type": "stream",
     "text": [
      "Did not meet early stopping. Best iteration is:\n",
      "[95]\tvalid_0's auc: 0.811815\n",
      "Training until validation scores don't improve for 30 rounds\n"
     ]
    },
    {
     "name": "stderr",
     "output_type": "stream",
     "text": [
      "[I 2025-08-04 22:48:14,178] Trial 3 finished with value: 0.8799841861515871 and parameters: {'learning_rate': 0.04900189660280903, 'num_leaves': 39, 'max_depth': 11, 'min_child_samples': 49, 'feature_fraction': 0.9609195900684291, 'bagging_fraction': 0.876674290518052, 'lambda_l1': 0.9152019961410498, 'lambda_l2': 0.3800403901642715}. Best is trial 3 with value: 0.8799841861515871.\n"
     ]
    },
    {
     "name": "stdout",
     "output_type": "stream",
     "text": [
      "Did not meet early stopping. Best iteration is:\n",
      "[99]\tvalid_0's auc: 0.879984\n",
      "Training until validation scores don't improve for 30 rounds\n"
     ]
    },
    {
     "name": "stderr",
     "output_type": "stream",
     "text": [
      "[I 2025-08-04 22:48:15,093] Trial 4 finished with value: 0.8865356376369593 and parameters: {'learning_rate': 0.1295347476920298, 'num_leaves': 73, 'max_depth': 12, 'min_child_samples': 19, 'feature_fraction': 0.8474005547500302, 'bagging_fraction': 0.7774641969490158, 'lambda_l1': 0.8282555587128321, 'lambda_l2': 0.49597279521171256}. Best is trial 4 with value: 0.8865356376369593.\n"
     ]
    },
    {
     "name": "stdout",
     "output_type": "stream",
     "text": [
      "Did not meet early stopping. Best iteration is:\n",
      "[99]\tvalid_0's auc: 0.886536\n",
      "Training until validation scores don't improve for 30 rounds\n"
     ]
    },
    {
     "name": "stderr",
     "output_type": "stream",
     "text": [
      "[I 2025-08-04 22:48:15,654] Trial 5 finished with value: 0.8776685869196883 and parameters: {'learning_rate': 0.06965448182647292, 'num_leaves': 21, 'max_depth': 6, 'min_child_samples': 48, 'feature_fraction': 0.9716260266420634, 'bagging_fraction': 0.8309844330815933, 'lambda_l1': 0.7437543676730979, 'lambda_l2': 0.8745346636212007}. Best is trial 4 with value: 0.8865356376369593.\n"
     ]
    },
    {
     "name": "stdout",
     "output_type": "stream",
     "text": [
      "Did not meet early stopping. Best iteration is:\n",
      "[100]\tvalid_0's auc: 0.877669\n",
      "Training until validation scores don't improve for 30 rounds\n"
     ]
    },
    {
     "name": "stderr",
     "output_type": "stream",
     "text": [
      "[I 2025-08-04 22:48:16,775] Trial 6 finished with value: 0.8856884671862645 and parameters: {'learning_rate': 0.18998479110080246, 'num_leaves': 58, 'max_depth': 10, 'min_child_samples': 15, 'feature_fraction': 0.9345831719668656, 'bagging_fraction': 0.8078040164328733, 'lambda_l1': 0.07843863615387081, 'lambda_l2': 0.8799829060190322}. Best is trial 4 with value: 0.8865356376369593.\n"
     ]
    },
    {
     "name": "stdout",
     "output_type": "stream",
     "text": [
      "Did not meet early stopping. Best iteration is:\n",
      "[99]\tvalid_0's auc: 0.885688\n",
      "Training until validation scores don't improve for 30 rounds\n"
     ]
    },
    {
     "name": "stderr",
     "output_type": "stream",
     "text": [
      "[I 2025-08-04 22:48:17,531] Trial 7 finished with value: 0.8685191460521858 and parameters: {'learning_rate': 0.07018812748202326, 'num_leaves': 40, 'max_depth': 10, 'min_child_samples': 43, 'feature_fraction': 0.7902700765710287, 'bagging_fraction': 0.7445004218243501, 'lambda_l1': 0.9453654635534063, 'lambda_l2': 0.27939734246327697}. Best is trial 4 with value: 0.8865356376369593.\n"
     ]
    },
    {
     "name": "stdout",
     "output_type": "stream",
     "text": [
      "Did not meet early stopping. Best iteration is:\n",
      "[99]\tvalid_0's auc: 0.868519\n",
      "Training until validation scores don't improve for 30 rounds\n"
     ]
    },
    {
     "name": "stderr",
     "output_type": "stream",
     "text": [
      "[I 2025-08-04 22:48:17,877] Trial 8 finished with value: 0.855020896871117 and parameters: {'learning_rate': 0.13741018481924056, 'num_leaves': 37, 'max_depth': 4, 'min_child_samples': 26, 'feature_fraction': 0.9638174191401585, 'bagging_fraction': 0.8099155512602434, 'lambda_l1': 0.44786849781000104, 'lambda_l2': 0.6437571650091684}. Best is trial 4 with value: 0.8865356376369593.\n"
     ]
    },
    {
     "name": "stdout",
     "output_type": "stream",
     "text": [
      "Did not meet early stopping. Best iteration is:\n",
      "[100]\tvalid_0's auc: 0.855021\n",
      "Training until validation scores don't improve for 30 rounds\n"
     ]
    },
    {
     "name": "stderr",
     "output_type": "stream",
     "text": [
      "[I 2025-08-04 22:48:18,526] Trial 9 finished with value: 0.8920704845814977 and parameters: {'learning_rate': 0.11163250836058755, 'num_leaves': 24, 'max_depth': 10, 'min_child_samples': 48, 'feature_fraction': 0.7996436732262919, 'bagging_fraction': 0.9175776263998445, 'lambda_l1': 0.7036922379907826, 'lambda_l2': 0.19032495453387532}. Best is trial 9 with value: 0.8920704845814977.\n"
     ]
    },
    {
     "name": "stdout",
     "output_type": "stream",
     "text": [
      "Did not meet early stopping. Best iteration is:\n",
      "[98]\tvalid_0's auc: 0.89207\n",
      "Training until validation scores don't improve for 30 rounds\n"
     ]
    },
    {
     "name": "stderr",
     "output_type": "stream",
     "text": [
      "[I 2025-08-04 22:48:19,059] Trial 10 finished with value: 0.8790240596407999 and parameters: {'learning_rate': 0.17229934750284906, 'num_leaves': 20, 'max_depth': 8, 'min_child_samples': 35, 'feature_fraction': 0.6662272637867763, 'bagging_fraction': 0.9946190732056653, 'lambda_l1': 0.6567557403492885, 'lambda_l2': 0.02209102301073612}. Best is trial 9 with value: 0.8920704845814977.\n"
     ]
    },
    {
     "name": "stdout",
     "output_type": "stream",
     "text": [
      "Did not meet early stopping. Best iteration is:\n",
      "[97]\tvalid_0's auc: 0.879024\n",
      "Training until validation scores don't improve for 30 rounds\n"
     ]
    },
    {
     "name": "stderr",
     "output_type": "stream",
     "text": [
      "[I 2025-08-04 22:48:19,920] Trial 11 finished with value: 0.8727549983056591 and parameters: {'learning_rate': 0.12747852616988803, 'num_leaves': 79, 'max_depth': 12, 'min_child_samples': 12, 'feature_fraction': 0.7608965042112477, 'bagging_fraction': 0.618813193297999, 'lambda_l1': 0.6913359419226222, 'lambda_l2': 0.4438211045245599}. Best is trial 9 with value: 0.8920704845814977.\n"
     ]
    },
    {
     "name": "stdout",
     "output_type": "stream",
     "text": [
      "Did not meet early stopping. Best iteration is:\n",
      "[95]\tvalid_0's auc: 0.872755\n",
      "Training until validation scores don't improve for 30 rounds\n"
     ]
    },
    {
     "name": "stderr",
     "output_type": "stream",
     "text": [
      "[I 2025-08-04 22:48:20,716] Trial 12 finished with value: 0.8746187732971874 and parameters: {'learning_rate': 0.11984369295264068, 'num_leaves': 70, 'max_depth': 12, 'min_child_samples': 23, 'feature_fraction': 0.7236170128908309, 'bagging_fraction': 0.8965965679528514, 'lambda_l1': 0.629582355271306, 'lambda_l2': 0.17239178969653046}. Best is trial 9 with value: 0.8920704845814977.\n"
     ]
    },
    {
     "name": "stdout",
     "output_type": "stream",
     "text": [
      "Did not meet early stopping. Best iteration is:\n",
      "[95]\tvalid_0's auc: 0.874619\n",
      "Training until validation scores don't improve for 30 rounds\n"
     ]
    },
    {
     "name": "stderr",
     "output_type": "stream",
     "text": [
      "[I 2025-08-04 22:48:21,418] Trial 13 finished with value: 0.8994691065175646 and parameters: {'learning_rate': 0.1567495470231732, 'num_leaves': 58, 'max_depth': 8, 'min_child_samples': 33, 'feature_fraction': 0.8450063095112071, 'bagging_fraction': 0.7537739903308627, 'lambda_l1': 0.8040092440146293, 'lambda_l2': 0.6670764556544005}. Best is trial 13 with value: 0.8994691065175646.\n"
     ]
    },
    {
     "name": "stdout",
     "output_type": "stream",
     "text": [
      "Did not meet early stopping. Best iteration is:\n",
      "[94]\tvalid_0's auc: 0.899469\n",
      "Training until validation scores don't improve for 30 rounds\n"
     ]
    },
    {
     "name": "stderr",
     "output_type": "stream",
     "text": [
      "[I 2025-08-04 22:48:22,228] Trial 14 finished with value: 0.8871004179374223 and parameters: {'learning_rate': 0.1579264924875252, 'num_leaves': 57, 'max_depth': 8, 'min_child_samples': 36, 'feature_fraction': 0.8348072238231766, 'bagging_fraction': 0.9959660320171975, 'lambda_l1': 0.2511217289885451, 'lambda_l2': 0.6839454393212081}. Best is trial 13 with value: 0.8994691065175646.\n"
     ]
    },
    {
     "name": "stdout",
     "output_type": "stream",
     "text": [
      "Did not meet early stopping. Best iteration is:\n",
      "[99]\tvalid_0's auc: 0.8871\n",
      "Training until validation scores don't improve for 30 rounds\n"
     ]
    },
    {
     "name": "stderr",
     "output_type": "stream",
     "text": [
      "[I 2025-08-04 22:48:22,826] Trial 15 finished with value: 0.8836552581045972 and parameters: {'learning_rate': 0.09995633491194006, 'num_leaves': 57, 'max_depth': 7, 'min_child_samples': 35, 'feature_fraction': 0.6007685082225354, 'bagging_fraction': 0.7022299030726945, 'lambda_l1': 0.5507940332254783, 'lambda_l2': 0.7739280656743858}. Best is trial 13 with value: 0.8994691065175646.\n"
     ]
    },
    {
     "name": "stdout",
     "output_type": "stream",
     "text": [
      "Did not meet early stopping. Best iteration is:\n",
      "[99]\tvalid_0's auc: 0.883655\n",
      "Training until validation scores don't improve for 30 rounds\n"
     ]
    },
    {
     "name": "stderr",
     "output_type": "stream",
     "text": [
      "[I 2025-08-04 22:48:23,511] Trial 16 finished with value: 0.9043826951315939 and parameters: {'learning_rate': 0.16173794893736398, 'num_leaves': 29, 'max_depth': 9, 'min_child_samples': 30, 'feature_fraction': 0.7182856516688482, 'bagging_fraction': 0.9249822053821796, 'lambda_l1': 0.7930349734955113, 'lambda_l2': 0.9897308803088307}. Best is trial 16 with value: 0.9043826951315939.\n"
     ]
    },
    {
     "name": "stdout",
     "output_type": "stream",
     "text": [
      "Did not meet early stopping. Best iteration is:\n",
      "[100]\tvalid_0's auc: 0.904383\n",
      "Training until validation scores don't improve for 30 rounds\n"
     ]
    },
    {
     "name": "stderr",
     "output_type": "stream",
     "text": [
      "[I 2025-08-04 22:48:24,127] Trial 17 finished with value: 0.882299785383486 and parameters: {'learning_rate': 0.1588129517845405, 'num_leaves': 31, 'max_depth': 9, 'min_child_samples': 29, 'feature_fraction': 0.6657576816203006, 'bagging_fraction': 0.8508389754241672, 'lambda_l1': 0.8052876283747096, 'lambda_l2': 0.930194964419565}. Best is trial 16 with value: 0.9043826951315939.\n"
     ]
    },
    {
     "name": "stdout",
     "output_type": "stream",
     "text": [
      "Did not meet early stopping. Best iteration is:\n",
      "[96]\tvalid_0's auc: 0.8823\n",
      "Training until validation scores don't improve for 30 rounds\n"
     ]
    },
    {
     "name": "stderr",
     "output_type": "stream",
     "text": [
      "[I 2025-08-04 22:48:24,634] Trial 18 finished with value: 0.8946684739636281 and parameters: {'learning_rate': 0.19958713243380255, 'num_leaves': 65, 'max_depth': 6, 'min_child_samples': 32, 'feature_fraction': 0.7238974580187225, 'bagging_fraction': 0.7603676115066965, 'lambda_l1': 0.995759914370615, 'lambda_l2': 0.9780383056785633}. Best is trial 16 with value: 0.9043826951315939.\n"
     ]
    },
    {
     "name": "stdout",
     "output_type": "stream",
     "text": [
      "Did not meet early stopping. Best iteration is:\n",
      "[99]\tvalid_0's auc: 0.894668\n",
      "Training until validation scores don't improve for 30 rounds\n"
     ]
    },
    {
     "name": "stderr",
     "output_type": "stream",
     "text": [
      "[I 2025-08-04 22:48:25,398] Trial 19 finished with value: 0.8809443126623744 and parameters: {'learning_rate': 0.14649552917263572, 'num_leaves': 53, 'max_depth': 7, 'min_child_samples': 39, 'feature_fraction': 0.8899614784957525, 'bagging_fraction': 0.9505108396495394, 'lambda_l1': 0.31293003282440696, 'lambda_l2': 0.8027660500877152}. Best is trial 16 with value: 0.9043826951315939.\n"
     ]
    },
    {
     "name": "stdout",
     "output_type": "stream",
     "text": [
      "Did not meet early stopping. Best iteration is:\n",
      "[100]\tvalid_0's auc: 0.880944\n",
      "Training until validation scores don't improve for 30 rounds\n"
     ]
    },
    {
     "name": "stderr",
     "output_type": "stream",
     "text": [
      "[I 2025-08-04 22:48:26,019] Trial 20 finished with value: 0.8751270755676042 and parameters: {'learning_rate': 0.17130036486611355, 'num_leaves': 63, 'max_depth': 9, 'min_child_samples': 28, 'feature_fraction': 0.7301648495371276, 'bagging_fraction': 0.6382974677899075, 'lambda_l1': 0.8053051714579963, 'lambda_l2': 0.7530558159789861}. Best is trial 16 with value: 0.9043826951315939.\n"
     ]
    },
    {
     "name": "stdout",
     "output_type": "stream",
     "text": [
      "Did not meet early stopping. Best iteration is:\n",
      "[94]\tvalid_0's auc: 0.875127\n",
      "Training until validation scores don't improve for 30 rounds\n"
     ]
    },
    {
     "name": "stderr",
     "output_type": "stream",
     "text": [
      "[I 2025-08-04 22:48:26,475] Trial 21 finished with value: 0.8507850446176438 and parameters: {'learning_rate': 0.18256541831924056, 'num_leaves': 65, 'max_depth': 5, 'min_child_samples': 32, 'feature_fraction': 0.6887381443409716, 'bagging_fraction': 0.7557530794373373, 'lambda_l1': 0.9895764419542415, 'lambda_l2': 0.9920580638000455}. Best is trial 16 with value: 0.9043826951315939.\n"
     ]
    },
    {
     "name": "stdout",
     "output_type": "stream",
     "text": [
      "Did not meet early stopping. Best iteration is:\n",
      "[98]\tvalid_0's auc: 0.850785\n",
      "Training until validation scores don't improve for 30 rounds\n"
     ]
    },
    {
     "name": "stderr",
     "output_type": "stream",
     "text": [
      "[I 2025-08-04 22:48:27,019] Trial 22 finished with value: 0.8936518694227945 and parameters: {'learning_rate': 0.19774905548972216, 'num_leaves': 50, 'max_depth': 6, 'min_child_samples': 24, 'feature_fraction': 0.754115683756299, 'bagging_fraction': 0.7182013041933062, 'lambda_l1': 0.8653841436544003, 'lambda_l2': 0.9774298246081206}. Best is trial 16 with value: 0.9043826951315939.\n"
     ]
    },
    {
     "name": "stdout",
     "output_type": "stream",
     "text": [
      "Did not meet early stopping. Best iteration is:\n",
      "[100]\tvalid_0's auc: 0.893652\n",
      "Training until validation scores don't improve for 30 rounds\n"
     ]
    },
    {
     "name": "stderr",
     "output_type": "stream",
     "text": [
      "[I 2025-08-04 22:48:27,595] Trial 23 finished with value: 0.8996385406077035 and parameters: {'learning_rate': 0.15549269448593683, 'num_leaves': 63, 'max_depth': 8, 'min_child_samples': 32, 'feature_fraction': 0.612364080774757, 'bagging_fraction': 0.7732505087183804, 'lambda_l1': 0.9970438017356603, 'lambda_l2': 0.5675192687091284}. Best is trial 16 with value: 0.9043826951315939.\n"
     ]
    },
    {
     "name": "stdout",
     "output_type": "stream",
     "text": [
      "Did not meet early stopping. Best iteration is:\n",
      "[87]\tvalid_0's auc: 0.899639\n",
      "Training until validation scores don't improve for 30 rounds\n"
     ]
    },
    {
     "name": "stderr",
     "output_type": "stream",
     "text": [
      "[I 2025-08-04 22:48:28,245] Trial 24 finished with value: 0.8871004179374224 and parameters: {'learning_rate': 0.14961890092807387, 'num_leaves': 30, 'max_depth': 9, 'min_child_samples': 21, 'feature_fraction': 0.6042422110813815, 'bagging_fraction': 0.84760941347102, 'lambda_l1': 0.5802658640144924, 'lambda_l2': 0.6122459911171332}. Best is trial 16 with value: 0.9043826951315939.\n"
     ]
    },
    {
     "name": "stdout",
     "output_type": "stream",
     "text": [
      "Did not meet early stopping. Best iteration is:\n",
      "[100]\tvalid_0's auc: 0.8871\n",
      "Training until validation scores don't improve for 30 rounds\n"
     ]
    },
    {
     "name": "stderr",
     "output_type": "stream",
     "text": [
      "[I 2025-08-04 22:48:28,802] Trial 25 finished with value: 0.8791370157008923 and parameters: {'learning_rate': 0.1705473414213625, 'num_leaves': 71, 'max_depth': 8, 'min_child_samples': 39, 'feature_fraction': 0.6466090861729358, 'bagging_fraction': 0.790607145963198, 'lambda_l1': 0.7779090314732933, 'lambda_l2': 0.5396974461089477}. Best is trial 16 with value: 0.9043826951315939.\n"
     ]
    },
    {
     "name": "stdout",
     "output_type": "stream",
     "text": [
      "Did not meet early stopping. Best iteration is:\n",
      "[100]\tvalid_0's auc: 0.879137\n",
      "Training until validation scores don't improve for 30 rounds\n"
     ]
    },
    {
     "name": "stderr",
     "output_type": "stream",
     "text": [
      "[I 2025-08-04 22:48:29,450] Trial 26 finished with value: 0.8660905907601943 and parameters: {'learning_rate': 0.09930981675993966, 'num_leaves': 51, 'max_depth': 7, 'min_child_samples': 31, 'feature_fraction': 0.6426693706370977, 'bagging_fraction': 0.731309519709434, 'lambda_l1': 0.855188216607421, 'lambda_l2': 0.7198433281197734}. Best is trial 16 with value: 0.9043826951315939.\n"
     ]
    },
    {
     "name": "stdout",
     "output_type": "stream",
     "text": [
      "Did not meet early stopping. Best iteration is:\n",
      "[96]\tvalid_0's auc: 0.866091\n",
      "Training until validation scores don't improve for 30 rounds\n"
     ]
    },
    {
     "name": "stderr",
     "output_type": "stream",
     "text": [
      "[I 2025-08-04 22:48:30,145] Trial 27 finished with value: 0.8905455777702473 and parameters: {'learning_rate': 0.13761648183160968, 'num_leaves': 62, 'max_depth': 9, 'min_child_samples': 26, 'feature_fraction': 0.6955112400771669, 'bagging_fraction': 0.670735921837636, 'lambda_l1': 0.9008734827439934, 'lambda_l2': 0.8283086469213462}. Best is trial 16 with value: 0.9043826951315939.\n"
     ]
    },
    {
     "name": "stdout",
     "output_type": "stream",
     "text": [
      "Did not meet early stopping. Best iteration is:\n",
      "[97]\tvalid_0's auc: 0.890546\n",
      "Training until validation scores don't improve for 30 rounds\n"
     ]
    },
    {
     "name": "stderr",
     "output_type": "stream",
     "text": [
      "[I 2025-08-04 22:48:30,401] Trial 28 finished with value: 0.8505026544674122 and parameters: {'learning_rate': 0.15853322545615578, 'num_leaves': 77, 'max_depth': 3, 'min_child_samples': 37, 'feature_fraction': 0.8150885254835778, 'bagging_fraction': 0.8707408574068005, 'lambda_l1': 0.7341310623580499, 'lambda_l2': 0.5430560736917219}. Best is trial 16 with value: 0.9043826951315939.\n"
     ]
    },
    {
     "name": "stdout",
     "output_type": "stream",
     "text": [
      "Did not meet early stopping. Best iteration is:\n",
      "[100]\tvalid_0's auc: 0.850503\n",
      "Training until validation scores don't improve for 30 rounds\n"
     ]
    },
    {
     "name": "stderr",
     "output_type": "stream",
     "text": [
      "[I 2025-08-04 22:48:31,284] Trial 29 finished with value: 0.8757483338981137 and parameters: {'learning_rate': 0.17709040100196918, 'num_leaves': 46, 'max_depth': 8, 'min_child_samples': 40, 'feature_fraction': 0.8786741327318952, 'bagging_fraction': 0.663363998768498, 'lambda_l1': 6.33993542185074e-05, 'lambda_l2': 0.4270508563554335}. Best is trial 16 with value: 0.9043826951315939.\n"
     ]
    },
    {
     "name": "stdout",
     "output_type": "stream",
     "text": [
      "Did not meet early stopping. Best iteration is:\n",
      "[97]\tvalid_0's auc: 0.875748\n",
      "\n",
      "📍 Training for label: SR-HSE\n"
     ]
    },
    {
     "name": "stderr",
     "output_type": "stream",
     "text": [
      "[I 2025-08-04 22:48:35,352] A new study created in memory with name: no-name-fb5efe5d-f5e5-43ce-9fbb-2e0d976e4327\n"
     ]
    },
    {
     "name": "stdout",
     "output_type": "stream",
     "text": [
      "Training until validation scores don't improve for 30 rounds\n"
     ]
    },
    {
     "name": "stderr",
     "output_type": "stream",
     "text": [
      "[I 2025-08-04 22:48:36,368] Trial 0 finished with value: 0.7639344262295082 and parameters: {'learning_rate': 0.10554890274960155, 'num_leaves': 54, 'max_depth': 11, 'min_child_samples': 27, 'feature_fraction': 0.663567669745706, 'bagging_fraction': 0.7357235303794989, 'lambda_l1': 0.2827845895701214, 'lambda_l2': 0.6358408523728489}. Best is trial 0 with value: 0.7639344262295082.\n",
      "[I 2025-08-04 22:48:36,505] Trial 1 finished with value: 0.7303721754541428 and parameters: {'learning_rate': 0.02162024900745312, 'num_leaves': 52, 'max_depth': 4, 'min_child_samples': 22, 'feature_fraction': 0.8166746094802833, 'bagging_fraction': 0.9038630334696898, 'lambda_l1': 0.4139702415682691, 'lambda_l2': 0.9106972072624074}. Best is trial 0 with value: 0.7639344262295082.\n"
     ]
    },
    {
     "name": "stdout",
     "output_type": "stream",
     "text": [
      "Did not meet early stopping. Best iteration is:\n",
      "[96]\tvalid_0's auc: 0.763934\n",
      "Training until validation scores don't improve for 30 rounds\n",
      "Early stopping, best iteration is:\n",
      "[4]\tvalid_0's auc: 0.730372\n",
      "Training until validation scores don't improve for 30 rounds\n"
     ]
    },
    {
     "name": "stderr",
     "output_type": "stream",
     "text": [
      "[I 2025-08-04 22:48:37,434] Trial 2 finished with value: 0.7466548515728844 and parameters: {'learning_rate': 0.1649573174286021, 'num_leaves': 54, 'max_depth': 11, 'min_child_samples': 22, 'feature_fraction': 0.9127259291885287, 'bagging_fraction': 0.9639907241956385, 'lambda_l1': 0.3556337009715451, 'lambda_l2': 0.8214565184794029}. Best is trial 0 with value: 0.7639344262295082.\n"
     ]
    },
    {
     "name": "stdout",
     "output_type": "stream",
     "text": [
      "Early stopping, best iteration is:\n",
      "[63]\tvalid_0's auc: 0.746655\n",
      "Training until validation scores don't improve for 30 rounds\n"
     ]
    },
    {
     "name": "stderr",
     "output_type": "stream",
     "text": [
      "[I 2025-08-04 22:48:37,891] Trial 3 finished with value: 0.7532343819229066 and parameters: {'learning_rate': 0.026431457855247024, 'num_leaves': 50, 'max_depth': 11, 'min_child_samples': 21, 'feature_fraction': 0.9880898018333075, 'bagging_fraction': 0.8902591089922001, 'lambda_l1': 0.08371560596869543, 'lambda_l2': 0.07651898073960695}. Best is trial 0 with value: 0.7639344262295082.\n"
     ]
    },
    {
     "name": "stdout",
     "output_type": "stream",
     "text": [
      "Early stopping, best iteration is:\n",
      "[5]\tvalid_0's auc: 0.753234\n",
      "Training until validation scores don't improve for 30 rounds\n"
     ]
    },
    {
     "name": "stderr",
     "output_type": "stream",
     "text": [
      "[I 2025-08-04 22:48:38,143] Trial 4 finished with value: 0.7230394328754985 and parameters: {'learning_rate': 0.18471181884940419, 'num_leaves': 40, 'max_depth': 4, 'min_child_samples': 31, 'feature_fraction': 0.7698720591978933, 'bagging_fraction': 0.6844302277229015, 'lambda_l1': 0.6971717016006245, 'lambda_l2': 0.9437479722451988}. Best is trial 0 with value: 0.7639344262295082.\n"
     ]
    },
    {
     "name": "stdout",
     "output_type": "stream",
     "text": [
      "Did not meet early stopping. Best iteration is:\n",
      "[71]\tvalid_0's auc: 0.723039\n",
      "Training until validation scores don't improve for 30 rounds\n"
     ]
    },
    {
     "name": "stderr",
     "output_type": "stream",
     "text": [
      "[I 2025-08-04 22:48:38,351] Trial 5 finished with value: 0.7032343819229065 and parameters: {'learning_rate': 0.11059177772957379, 'num_leaves': 22, 'max_depth': 5, 'min_child_samples': 39, 'feature_fraction': 0.7242244564981001, 'bagging_fraction': 0.631218628555145, 'lambda_l1': 0.04278254620711841, 'lambda_l2': 0.29634848516803936}. Best is trial 0 with value: 0.7639344262295082.\n"
     ]
    },
    {
     "name": "stdout",
     "output_type": "stream",
     "text": [
      "Early stopping, best iteration is:\n",
      "[30]\tvalid_0's auc: 0.703234\n",
      "Training until validation scores don't improve for 30 rounds\n",
      "Early stopping, best iteration is:\n",
      "[34]\tvalid_0's auc: 0.71883\n"
     ]
    },
    {
     "name": "stderr",
     "output_type": "stream",
     "text": [
      "[I 2025-08-04 22:48:38,549] Trial 6 finished with value: 0.7188303057155516 and parameters: {'learning_rate': 0.09020777094767357, 'num_leaves': 72, 'max_depth': 4, 'min_child_samples': 45, 'feature_fraction': 0.9411741400227579, 'bagging_fraction': 0.8122511308124085, 'lambda_l1': 0.8815579076358151, 'lambda_l2': 0.4051617278603775}. Best is trial 0 with value: 0.7639344262295082.\n"
     ]
    },
    {
     "name": "stdout",
     "output_type": "stream",
     "text": [
      "Training until validation scores don't improve for 30 rounds\n"
     ]
    },
    {
     "name": "stderr",
     "output_type": "stream",
     "text": [
      "[I 2025-08-04 22:48:39,145] Trial 7 finished with value: 0.7304386353566682 and parameters: {'learning_rate': 0.17851186719364306, 'num_leaves': 32, 'max_depth': 7, 'min_child_samples': 35, 'feature_fraction': 0.8362872130741399, 'bagging_fraction': 0.7422795139582445, 'lambda_l1': 0.4577839759424771, 'lambda_l2': 0.5262691245402848}. Best is trial 0 with value: 0.7639344262295082.\n",
      "[I 2025-08-04 22:48:39,300] Trial 8 finished with value: 0.7265839610101906 and parameters: {'learning_rate': 0.1659818770211697, 'num_leaves': 65, 'max_depth': 4, 'min_child_samples': 27, 'feature_fraction': 0.7560707447755387, 'bagging_fraction': 0.7590945107004824, 'lambda_l1': 0.021860976999543813, 'lambda_l2': 0.4672770204582122}. Best is trial 0 with value: 0.7639344262295082.\n"
     ]
    },
    {
     "name": "stdout",
     "output_type": "stream",
     "text": [
      "Did not meet early stopping. Best iteration is:\n",
      "[100]\tvalid_0's auc: 0.730439\n",
      "Training until validation scores don't improve for 30 rounds\n",
      "Early stopping, best iteration is:\n",
      "[19]\tvalid_0's auc: 0.726584\n"
     ]
    },
    {
     "name": "stderr",
     "output_type": "stream",
     "text": [
      "[I 2025-08-04 22:48:39,437] Trial 9 finished with value: 0.726406734603456 and parameters: {'learning_rate': 0.16574976200929042, 'num_leaves': 68, 'max_depth': 4, 'min_child_samples': 37, 'feature_fraction': 0.6405026285073804, 'bagging_fraction': 0.6063094791635105, 'lambda_l1': 0.9633296726425282, 'lambda_l2': 0.34039755840634356}. Best is trial 0 with value: 0.7639344262295082.\n"
     ]
    },
    {
     "name": "stdout",
     "output_type": "stream",
     "text": [
      "Training until validation scores don't improve for 30 rounds\n",
      "Early stopping, best iteration is:\n",
      "[9]\tvalid_0's auc: 0.726407\n",
      "Training until validation scores don't improve for 30 rounds\n"
     ]
    },
    {
     "name": "stderr",
     "output_type": "stream",
     "text": [
      "[I 2025-08-04 22:48:40,374] Trial 10 finished with value: 0.7746123172352681 and parameters: {'learning_rate': 0.1001215642721621, 'num_leaves': 78, 'max_depth': 9, 'min_child_samples': 11, 'feature_fraction': 0.6121446785429357, 'bagging_fraction': 0.8280484826755121, 'lambda_l1': 0.25317240359895965, 'lambda_l2': 0.6837258875318583}. Best is trial 10 with value: 0.7746123172352681.\n"
     ]
    },
    {
     "name": "stdout",
     "output_type": "stream",
     "text": [
      "Did not meet early stopping. Best iteration is:\n",
      "[97]\tvalid_0's auc: 0.774612\n",
      "Training until validation scores don't improve for 30 rounds\n"
     ]
    },
    {
     "name": "stderr",
     "output_type": "stream",
     "text": [
      "[I 2025-08-04 22:48:40,795] Trial 11 finished with value: 0.7329419583517944 and parameters: {'learning_rate': 0.10044265248788113, 'num_leaves': 80, 'max_depth': 9, 'min_child_samples': 11, 'feature_fraction': 0.6222575300823766, 'bagging_fraction': 0.82612729068929, 'lambda_l1': 0.24599022470861054, 'lambda_l2': 0.6847053210538253}. Best is trial 10 with value: 0.7746123172352681.\n"
     ]
    },
    {
     "name": "stdout",
     "output_type": "stream",
     "text": [
      "Early stopping, best iteration is:\n",
      "[10]\tvalid_0's auc: 0.732942\n",
      "Training until validation scores don't improve for 30 rounds\n"
     ]
    },
    {
     "name": "stderr",
     "output_type": "stream",
     "text": [
      "[I 2025-08-04 22:48:41,206] Trial 12 finished with value: 0.7105006645990255 and parameters: {'learning_rate': 0.06136201061007039, 'num_leaves': 60, 'max_depth': 9, 'min_child_samples': 11, 'feature_fraction': 0.6811269048967816, 'bagging_fraction': 0.7073988599429536, 'lambda_l1': 0.2226264478569115, 'lambda_l2': 0.6594000759591316}. Best is trial 10 with value: 0.7746123172352681.\n"
     ]
    },
    {
     "name": "stdout",
     "output_type": "stream",
     "text": [
      "Early stopping, best iteration is:\n",
      "[7]\tvalid_0's auc: 0.710501\n",
      "Training until validation scores don't improve for 30 rounds\n"
     ]
    },
    {
     "name": "stderr",
     "output_type": "stream",
     "text": [
      "[I 2025-08-04 22:48:41,651] Trial 13 finished with value: 0.7347806823216659 and parameters: {'learning_rate': 0.12964468648309702, 'num_leaves': 79, 'max_depth': 12, 'min_child_samples': 15, 'feature_fraction': 0.6075351583263242, 'bagging_fraction': 0.8412952576752045, 'lambda_l1': 0.6109452845598109, 'lambda_l2': 0.679349695672538}. Best is trial 10 with value: 0.7746123172352681.\n"
     ]
    },
    {
     "name": "stdout",
     "output_type": "stream",
     "text": [
      "Early stopping, best iteration is:\n",
      "[9]\tvalid_0's auc: 0.734781\n",
      "Training until validation scores don't improve for 30 rounds\n"
     ]
    },
    {
     "name": "stderr",
     "output_type": "stream",
     "text": [
      "[I 2025-08-04 22:48:42,463] Trial 14 finished with value: 0.7389455028799291 and parameters: {'learning_rate': 0.06868127438906985, 'num_leaves': 42, 'max_depth': 9, 'min_child_samples': 18, 'feature_fraction': 0.6881984595458935, 'bagging_fraction': 0.7683381124878327, 'lambda_l1': 0.24731821397070972, 'lambda_l2': 0.7895311948034223}. Best is trial 10 with value: 0.7746123172352681.\n"
     ]
    },
    {
     "name": "stdout",
     "output_type": "stream",
     "text": [
      "Did not meet early stopping. Best iteration is:\n",
      "[80]\tvalid_0's auc: 0.738946\n",
      "Training until validation scores don't improve for 30 rounds\n"
     ]
    },
    {
     "name": "stderr",
     "output_type": "stream",
     "text": [
      "[I 2025-08-04 22:48:42,725] Trial 15 finished with value: 0.717899867080195 and parameters: {'learning_rate': 0.13213969435129963, 'num_leaves': 62, 'max_depth': 7, 'min_child_samples': 50, 'feature_fraction': 0.6804173025155248, 'bagging_fraction': 0.8770288669280807, 'lambda_l1': 0.598004722483399, 'lambda_l2': 0.6007455824702825}. Best is trial 10 with value: 0.7746123172352681.\n"
     ]
    },
    {
     "name": "stdout",
     "output_type": "stream",
     "text": [
      "Early stopping, best iteration is:\n",
      "[12]\tvalid_0's auc: 0.7179\n",
      "Training until validation scores don't improve for 30 rounds\n"
     ]
    },
    {
     "name": "stderr",
     "output_type": "stream",
     "text": [
      "[I 2025-08-04 22:48:43,608] Trial 16 finished with value: 0.7459902525476296 and parameters: {'learning_rate': 0.0697888239806943, 'num_leaves': 74, 'max_depth': 10, 'min_child_samples': 27, 'feature_fraction': 0.6530508739767029, 'bagging_fraction': 0.999866870394202, 'lambda_l1': 0.19454589076676532, 'lambda_l2': 0.19721282595117806}. Best is trial 10 with value: 0.7746123172352681.\n"
     ]
    },
    {
     "name": "stdout",
     "output_type": "stream",
     "text": [
      "Did not meet early stopping. Best iteration is:\n",
      "[97]\tvalid_0's auc: 0.74599\n",
      "Training until validation scores don't improve for 30 rounds\n"
     ]
    },
    {
     "name": "stderr",
     "output_type": "stream",
     "text": [
      "[I 2025-08-04 22:48:44,442] Trial 17 finished with value: 0.7987151085511741 and parameters: {'learning_rate': 0.13290109099922667, 'num_leaves': 45, 'max_depth': 12, 'min_child_samples': 15, 'feature_fraction': 0.6032346139566699, 'bagging_fraction': 0.6677680657909988, 'lambda_l1': 0.3562342922597275, 'lambda_l2': 0.7975408645052555}. Best is trial 17 with value: 0.7987151085511741.\n"
     ]
    },
    {
     "name": "stdout",
     "output_type": "stream",
     "text": [
      "Did not meet early stopping. Best iteration is:\n",
      "[100]\tvalid_0's auc: 0.798715\n",
      "Training until validation scores don't improve for 30 rounds\n"
     ]
    },
    {
     "name": "stderr",
     "output_type": "stream",
     "text": [
      "[I 2025-08-04 22:48:44,906] Trial 18 finished with value: 0.7216659282233053 and parameters: {'learning_rate': 0.13525279838571563, 'num_leaves': 42, 'max_depth': 6, 'min_child_samples': 15, 'feature_fraction': 0.603764577531718, 'bagging_fraction': 0.6674622538964043, 'lambda_l1': 0.5087582631871974, 'lambda_l2': 0.838755653651915}. Best is trial 17 with value: 0.7987151085511741.\n"
     ]
    },
    {
     "name": "stdout",
     "output_type": "stream",
     "text": [
      "Early stopping, best iteration is:\n",
      "[66]\tvalid_0's auc: 0.721666\n",
      "Training until validation scores don't improve for 30 rounds\n"
     ]
    },
    {
     "name": "stderr",
     "output_type": "stream",
     "text": [
      "[I 2025-08-04 22:48:45,391] Trial 19 finished with value: 0.7501993797075764 and parameters: {'learning_rate': 0.04835397912051398, 'num_leaves': 34, 'max_depth': 12, 'min_child_samples': 15, 'feature_fraction': 0.8549899181755742, 'bagging_fraction': 0.7788426556057917, 'lambda_l1': 0.1126534286087667, 'lambda_l2': 0.9966786858994022}. Best is trial 17 with value: 0.7987151085511741.\n"
     ]
    },
    {
     "name": "stdout",
     "output_type": "stream",
     "text": [
      "Early stopping, best iteration is:\n",
      "[19]\tvalid_0's auc: 0.750199\n",
      "Training until validation scores don't improve for 30 rounds\n"
     ]
    },
    {
     "name": "stderr",
     "output_type": "stream",
     "text": [
      "[I 2025-08-04 22:48:45,988] Trial 20 finished with value: 0.7373504652193178 and parameters: {'learning_rate': 0.14272830959559002, 'num_leaves': 24, 'max_depth': 8, 'min_child_samples': 11, 'feature_fraction': 0.7207225915752987, 'bagging_fraction': 0.9313392541904839, 'lambda_l1': 0.3494967840938393, 'lambda_l2': 0.7634520825529455}. Best is trial 17 with value: 0.7987151085511741.\n"
     ]
    },
    {
     "name": "stdout",
     "output_type": "stream",
     "text": [
      "Did not meet early stopping. Best iteration is:\n",
      "[88]\tvalid_0's auc: 0.73735\n",
      "Training until validation scores don't improve for 30 rounds\n"
     ]
    },
    {
     "name": "stderr",
     "output_type": "stream",
     "text": [
      "[I 2025-08-04 22:48:46,883] Trial 21 finished with value: 0.7422241914045193 and parameters: {'learning_rate': 0.10768841337159107, 'num_leaves': 56, 'max_depth': 11, 'min_child_samples': 26, 'feature_fraction': 0.6539847656359824, 'bagging_fraction': 0.7264266613780991, 'lambda_l1': 0.347039274668839, 'lambda_l2': 0.548601569246931}. Best is trial 17 with value: 0.7987151085511741.\n"
     ]
    },
    {
     "name": "stdout",
     "output_type": "stream",
     "text": [
      "Did not meet early stopping. Best iteration is:\n",
      "[90]\tvalid_0's auc: 0.742224\n",
      "Training until validation scores don't improve for 30 rounds\n"
     ]
    },
    {
     "name": "stderr",
     "output_type": "stream",
     "text": [
      "[I 2025-08-04 22:48:47,214] Trial 22 finished with value: 0.732853345148427 and parameters: {'learning_rate': 0.08713420809942962, 'num_leaves': 46, 'max_depth': 10, 'min_child_samples': 17, 'feature_fraction': 0.6030227405841971, 'bagging_fraction': 0.6557344642104755, 'lambda_l1': 0.1633090810871651, 'lambda_l2': 0.6218158760221613}. Best is trial 17 with value: 0.7987151085511741.\n"
     ]
    },
    {
     "name": "stdout",
     "output_type": "stream",
     "text": [
      "Early stopping, best iteration is:\n",
      "[5]\tvalid_0's auc: 0.732853\n",
      "Training until validation scores don't improve for 30 rounds\n"
     ]
    },
    {
     "name": "stderr",
     "output_type": "stream",
     "text": [
      "[I 2025-08-04 22:48:47,973] Trial 23 finished with value: 0.7313690739920249 and parameters: {'learning_rate': 0.115166436619513, 'num_leaves': 33, 'max_depth': 12, 'min_child_samples': 33, 'feature_fraction': 0.7163982970751936, 'bagging_fraction': 0.7124112291525585, 'lambda_l1': 0.2741710970495143, 'lambda_l2': 0.7009956501153325}. Best is trial 17 with value: 0.7987151085511741.\n"
     ]
    },
    {
     "name": "stdout",
     "output_type": "stream",
     "text": [
      "Early stopping, best iteration is:\n",
      "[69]\tvalid_0's auc: 0.731369\n",
      "Training until validation scores don't improve for 30 rounds\n"
     ]
    },
    {
     "name": "stderr",
     "output_type": "stream",
     "text": [
      "[I 2025-08-04 22:48:48,400] Trial 24 finished with value: 0.7370403190075322 and parameters: {'learning_rate': 0.14948368132979253, 'num_leaves': 58, 'max_depth': 10, 'min_child_samples': 10, 'feature_fraction': 0.6399978632883171, 'bagging_fraction': 0.7949119478212603, 'lambda_l1': 0.5496430357340356, 'lambda_l2': 0.8719347409778635}. Best is trial 17 with value: 0.7987151085511741.\n"
     ]
    },
    {
     "name": "stdout",
     "output_type": "stream",
     "text": [
      "Early stopping, best iteration is:\n",
      "[7]\tvalid_0's auc: 0.73704\n",
      "Training until validation scores don't improve for 30 rounds\n"
     ]
    },
    {
     "name": "stderr",
     "output_type": "stream",
     "text": [
      "[I 2025-08-04 22:48:49,118] Trial 25 finished with value: 0.7997784669915817 and parameters: {'learning_rate': 0.08601911703252023, 'num_leaves': 46, 'max_depth': 11, 'min_child_samples': 19, 'feature_fraction': 0.6747314175913937, 'bagging_fraction': 0.840897128905015, 'lambda_l1': 0.3259679540714146, 'lambda_l2': 0.7724499505109377}. Best is trial 25 with value: 0.7997784669915817.\n"
     ]
    },
    {
     "name": "stdout",
     "output_type": "stream",
     "text": [
      "Early stopping, best iteration is:\n",
      "[46]\tvalid_0's auc: 0.799778\n",
      "Training until validation scores don't improve for 30 rounds\n"
     ]
    },
    {
     "name": "stderr",
     "output_type": "stream",
     "text": [
      "[I 2025-08-04 22:48:49,453] Trial 26 finished with value: 0.7243686309260079 and parameters: {'learning_rate': 0.08901597093631398, 'num_leaves': 47, 'max_depth': 8, 'min_child_samples': 19, 'feature_fraction': 0.7025477346839359, 'bagging_fraction': 0.8620071097219213, 'lambda_l1': 0.44493887070997107, 'lambda_l2': 0.7512873806580227}. Best is trial 25 with value: 0.7997784669915817.\n"
     ]
    },
    {
     "name": "stdout",
     "output_type": "stream",
     "text": [
      "Early stopping, best iteration is:\n",
      "[10]\tvalid_0's auc: 0.724369\n",
      "Training until validation scores don't improve for 30 rounds\n"
     ]
    },
    {
     "name": "stderr",
     "output_type": "stream",
     "text": [
      "[I 2025-08-04 22:48:49,762] Trial 27 finished with value: 0.7196942844483828 and parameters: {'learning_rate': 0.04470727680506253, 'num_leaves': 37, 'max_depth': 10, 'min_child_samples': 13, 'feature_fraction': 0.6315636908377877, 'bagging_fraction': 0.8436640663917299, 'lambda_l1': 0.7353264224716087, 'lambda_l2': 0.7288027713010908}. Best is trial 25 with value: 0.7997784669915817.\n"
     ]
    },
    {
     "name": "stdout",
     "output_type": "stream",
     "text": [
      "Early stopping, best iteration is:\n",
      "[7]\tvalid_0's auc: 0.719694\n",
      "Training until validation scores don't improve for 30 rounds\n"
     ]
    },
    {
     "name": "stderr",
     "output_type": "stream",
     "text": [
      "[I 2025-08-04 22:48:50,565] Trial 28 finished with value: 0.7711120957022597 and parameters: {'learning_rate': 0.19910445411510266, 'num_leaves': 47, 'max_depth': 12, 'min_child_samples': 23, 'feature_fraction': 0.7645480378965804, 'bagging_fraction': 0.9184295864148649, 'lambda_l1': 0.3971352174164343, 'lambda_l2': 0.8865902925019026}. Best is trial 25 with value: 0.7997784669915817.\n"
     ]
    },
    {
     "name": "stdout",
     "output_type": "stream",
     "text": [
      "Did not meet early stopping. Best iteration is:\n",
      "[95]\tvalid_0's auc: 0.771112\n",
      "Training until validation scores don't improve for 30 rounds\n"
     ]
    },
    {
     "name": "stderr",
     "output_type": "stream",
     "text": [
      "[I 2025-08-04 22:48:51,267] Trial 29 finished with value: 0.7427115640230394 and parameters: {'learning_rate': 0.12111572375914688, 'num_leaves': 30, 'max_depth': 11, 'min_child_samples': 18, 'feature_fraction': 0.6573540881722739, 'bagging_fraction': 0.7973823464707732, 'lambda_l1': 0.31768852476609766, 'lambda_l2': 0.9781636235259958}. Best is trial 25 with value: 0.7997784669915817.\n"
     ]
    },
    {
     "name": "stdout",
     "output_type": "stream",
     "text": [
      "Did not meet early stopping. Best iteration is:\n",
      "[100]\tvalid_0's auc: 0.742712\n",
      "\n",
      "📍 Training for label: SR-MMP\n"
     ]
    },
    {
     "name": "stderr",
     "output_type": "stream",
     "text": [
      "[I 2025-08-04 22:48:56,386] A new study created in memory with name: no-name-53dd9dc3-e870-4d2f-8f05-d2dd94ac2db1\n"
     ]
    },
    {
     "name": "stdout",
     "output_type": "stream",
     "text": [
      "Training until validation scores don't improve for 30 rounds\n"
     ]
    },
    {
     "name": "stderr",
     "output_type": "stream",
     "text": [
      "[I 2025-08-04 22:48:57,432] Trial 0 finished with value: 0.9206455054681248 and parameters: {'learning_rate': 0.0594687822456525, 'num_leaves': 47, 'max_depth': 12, 'min_child_samples': 29, 'feature_fraction': 0.7143536341223082, 'bagging_fraction': 0.916046496336424, 'lambda_l1': 0.049516240098551045, 'lambda_l2': 0.5261358532317839}. Best is trial 0 with value: 0.9206455054681248.\n"
     ]
    },
    {
     "name": "stdout",
     "output_type": "stream",
     "text": [
      "Did not meet early stopping. Best iteration is:\n",
      "[99]\tvalid_0's auc: 0.920646\n",
      "Training until validation scores don't improve for 30 rounds\n"
     ]
    },
    {
     "name": "stderr",
     "output_type": "stream",
     "text": [
      "[I 2025-08-04 22:48:57,910] Trial 1 finished with value: 0.9240686405263626 and parameters: {'learning_rate': 0.19209966353674732, 'num_leaves': 66, 'max_depth': 9, 'min_child_samples': 24, 'feature_fraction': 0.7970263467051739, 'bagging_fraction': 0.7642081729682083, 'lambda_l1': 0.7209142046861832, 'lambda_l2': 0.051981147609508005}. Best is trial 1 with value: 0.9240686405263626.\n"
     ]
    },
    {
     "name": "stdout",
     "output_type": "stream",
     "text": [
      "Early stopping, best iteration is:\n",
      "[14]\tvalid_0's auc: 0.924069\n",
      "Training until validation scores don't improve for 30 rounds\n"
     ]
    },
    {
     "name": "stderr",
     "output_type": "stream",
     "text": [
      "[I 2025-08-04 22:48:58,471] Trial 2 finished with value: 0.9218680537032097 and parameters: {'learning_rate': 0.06694475399077442, 'num_leaves': 50, 'max_depth': 6, 'min_child_samples': 15, 'feature_fraction': 0.9155682464389704, 'bagging_fraction': 0.6565656966877232, 'lambda_l1': 0.01669638896170944, 'lambda_l2': 0.8271681249297815}. Best is trial 1 with value: 0.9240686405263626.\n"
     ]
    },
    {
     "name": "stdout",
     "output_type": "stream",
     "text": [
      "Early stopping, best iteration is:\n",
      "[45]\tvalid_0's auc: 0.921868\n",
      "Training until validation scores don't improve for 30 rounds\n"
     ]
    },
    {
     "name": "stderr",
     "output_type": "stream",
     "text": [
      "[I 2025-08-04 22:48:59,191] Trial 3 finished with value: 0.9212901218102605 and parameters: {'learning_rate': 0.1298191856985711, 'num_leaves': 45, 'max_depth': 8, 'min_child_samples': 17, 'feature_fraction': 0.7243231784698446, 'bagging_fraction': 0.6437471507512174, 'lambda_l1': 0.4161502457398363, 'lambda_l2': 0.18371781919371521}. Best is trial 1 with value: 0.9240686405263626.\n"
     ]
    },
    {
     "name": "stdout",
     "output_type": "stream",
     "text": [
      "Early stopping, best iteration is:\n",
      "[56]\tvalid_0's auc: 0.92129\n",
      "Training until validation scores don't improve for 30 rounds\n"
     ]
    },
    {
     "name": "stderr",
     "output_type": "stream",
     "text": [
      "[I 2025-08-04 22:48:59,977] Trial 4 finished with value: 0.9249799946652442 and parameters: {'learning_rate': 0.13257108975605364, 'num_leaves': 49, 'max_depth': 11, 'min_child_samples': 40, 'feature_fraction': 0.8222615473440448, 'bagging_fraction': 0.7148965282061449, 'lambda_l1': 0.9903767027988198, 'lambda_l2': 0.05698734849337117}. Best is trial 4 with value: 0.9249799946652442.\n"
     ]
    },
    {
     "name": "stdout",
     "output_type": "stream",
     "text": [
      "Did not meet early stopping. Best iteration is:\n",
      "[77]\tvalid_0's auc: 0.92498\n",
      "Training until validation scores don't improve for 30 rounds\n"
     ]
    },
    {
     "name": "stderr",
     "output_type": "stream",
     "text": [
      "[I 2025-08-04 22:49:00,868] Trial 5 finished with value: 0.9309149106428382 and parameters: {'learning_rate': 0.050870605339096195, 'num_leaves': 41, 'max_depth': 8, 'min_child_samples': 12, 'feature_fraction': 0.7339118314742598, 'bagging_fraction': 0.6862162175986223, 'lambda_l1': 0.17007552848328056, 'lambda_l2': 0.5201801680034116}. Best is trial 5 with value: 0.9309149106428382.\n"
     ]
    },
    {
     "name": "stdout",
     "output_type": "stream",
     "text": [
      "Did not meet early stopping. Best iteration is:\n",
      "[100]\tvalid_0's auc: 0.930915\n",
      "Training until validation scores don't improve for 30 rounds\n"
     ]
    },
    {
     "name": "stderr",
     "output_type": "stream",
     "text": [
      "[I 2025-08-04 22:49:01,779] Trial 6 finished with value: 0.9196007824308705 and parameters: {'learning_rate': 0.15358565868648144, 'num_leaves': 50, 'max_depth': 11, 'min_child_samples': 21, 'feature_fraction': 0.7751674397839624, 'bagging_fraction': 0.6792756297718004, 'lambda_l1': 0.11112892923946383, 'lambda_l2': 0.8190126106063319}. Best is trial 5 with value: 0.9309149106428382.\n"
     ]
    },
    {
     "name": "stdout",
     "output_type": "stream",
     "text": [
      "Early stopping, best iteration is:\n",
      "[56]\tvalid_0's auc: 0.919601\n",
      "Training until validation scores don't improve for 30 rounds\n"
     ]
    },
    {
     "name": "stderr",
     "output_type": "stream",
     "text": [
      "[I 2025-08-04 22:49:02,308] Trial 7 finished with value: 0.9278029696808038 and parameters: {'learning_rate': 0.11522354205879046, 'num_leaves': 41, 'max_depth': 6, 'min_child_samples': 25, 'feature_fraction': 0.9974463737915614, 'bagging_fraction': 0.8167103691237282, 'lambda_l1': 0.977906902504659, 'lambda_l2': 0.4722202626946854}. Best is trial 5 with value: 0.9309149106428382.\n"
     ]
    },
    {
     "name": "stdout",
     "output_type": "stream",
     "text": [
      "Early stopping, best iteration is:\n",
      "[49]\tvalid_0's auc: 0.927803\n",
      "Training until validation scores don't improve for 30 rounds\n",
      "Did not meet early stopping. Best iteration is:\n",
      "[100]\tvalid_0's auc: 0.90573\n"
     ]
    },
    {
     "name": "stderr",
     "output_type": "stream",
     "text": [
      "[I 2025-08-04 22:49:02,509] Trial 8 finished with value: 0.9057304170000888 and parameters: {'learning_rate': 0.027186850821750548, 'num_leaves': 66, 'max_depth': 3, 'min_child_samples': 16, 'feature_fraction': 0.7237624345312643, 'bagging_fraction': 0.841259523889858, 'lambda_l1': 0.5217896292067814, 'lambda_l2': 0.6581228689664818}. Best is trial 5 with value: 0.9309149106428382.\n"
     ]
    },
    {
     "name": "stdout",
     "output_type": "stream",
     "text": [
      "Training until validation scores don't improve for 30 rounds\n"
     ]
    },
    {
     "name": "stderr",
     "output_type": "stream",
     "text": [
      "[I 2025-08-04 22:49:03,603] Trial 9 finished with value: 0.9199119765270739 and parameters: {'learning_rate': 0.014466063710526651, 'num_leaves': 73, 'max_depth': 11, 'min_child_samples': 21, 'feature_fraction': 0.7769053219250371, 'bagging_fraction': 0.7523904372437418, 'lambda_l1': 0.5034259180622314, 'lambda_l2': 0.6456391841281806}. Best is trial 5 with value: 0.9309149106428382.\n"
     ]
    },
    {
     "name": "stdout",
     "output_type": "stream",
     "text": [
      "Early stopping, best iteration is:\n",
      "[68]\tvalid_0's auc: 0.919912\n",
      "Training until validation scores don't improve for 30 rounds\n",
      "Did not meet early stopping. Best iteration is:\n",
      "[98]\tvalid_0's auc: 0.919267\n"
     ]
    },
    {
     "name": "stderr",
     "output_type": "stream",
     "text": [
      "[I 2025-08-04 22:49:03,795] Trial 10 finished with value: 0.9192673601849383 and parameters: {'learning_rate': 0.07948157845119896, 'num_leaves': 22, 'max_depth': 3, 'min_child_samples': 10, 'feature_fraction': 0.6055480185647952, 'bagging_fraction': 0.9745844101755391, 'lambda_l1': 0.24841850682161615, 'lambda_l2': 0.31731249236087933}. Best is trial 5 with value: 0.9309149106428382.\n"
     ]
    },
    {
     "name": "stdout",
     "output_type": "stream",
     "text": [
      "Training until validation scores don't improve for 30 rounds\n"
     ]
    },
    {
     "name": "stderr",
     "output_type": "stream",
     "text": [
      "[I 2025-08-04 22:49:04,323] Trial 11 finished with value: 0.9281141637770072 and parameters: {'learning_rate': 0.10096940986179613, 'num_leaves': 30, 'max_depth': 6, 'min_child_samples': 41, 'feature_fraction': 0.9876795335979853, 'bagging_fraction': 0.847185169370146, 'lambda_l1': 0.9841622331720056, 'lambda_l2': 0.40556294144158445}. Best is trial 5 with value: 0.9309149106428382.\n"
     ]
    },
    {
     "name": "stdout",
     "output_type": "stream",
     "text": [
      "Early stopping, best iteration is:\n",
      "[64]\tvalid_0's auc: 0.928114\n",
      "Training until validation scores don't improve for 30 rounds\n"
     ]
    },
    {
     "name": "stderr",
     "output_type": "stream",
     "text": [
      "[I 2025-08-04 22:49:04,831] Trial 12 finished with value: 0.9259135769538545 and parameters: {'learning_rate': 0.09198667609968986, 'num_leaves': 32, 'max_depth': 6, 'min_child_samples': 49, 'feature_fraction': 0.9047819940708043, 'bagging_fraction': 0.8709145130902934, 'lambda_l1': 0.7559232830229372, 'lambda_l2': 0.38596419716037583}. Best is trial 5 with value: 0.9309149106428382.\n"
     ]
    },
    {
     "name": "stdout",
     "output_type": "stream",
     "text": [
      "Did not meet early stopping. Best iteration is:\n",
      "[93]\tvalid_0's auc: 0.925914\n",
      "Training until validation scores don't improve for 30 rounds\n"
     ]
    },
    {
     "name": "stderr",
     "output_type": "stream",
     "text": [
      "[I 2025-08-04 22:49:05,423] Trial 13 finished with value: 0.9219125100026673 and parameters: {'learning_rate': 0.04707095113451169, 'num_leaves': 32, 'max_depth': 8, 'min_child_samples': 39, 'feature_fraction': 0.6234479032328283, 'bagging_fraction': 0.9130592269401784, 'lambda_l1': 0.27149324633837435, 'lambda_l2': 0.27089802585086825}. Best is trial 5 with value: 0.9309149106428382.\n"
     ]
    },
    {
     "name": "stdout",
     "output_type": "stream",
     "text": [
      "Did not meet early stopping. Best iteration is:\n",
      "[100]\tvalid_0's auc: 0.921913\n",
      "Training until validation scores don't improve for 30 rounds\n"
     ]
    },
    {
     "name": "stderr",
     "output_type": "stream",
     "text": [
      "[I 2025-08-04 22:49:05,852] Trial 14 finished with value: 0.9248466257668712 and parameters: {'learning_rate': 0.04113827410394805, 'num_leaves': 20, 'max_depth': 5, 'min_child_samples': 37, 'feature_fraction': 0.8850811933898897, 'bagging_fraction': 0.6188370116191793, 'lambda_l1': 0.7633036995206236, 'lambda_l2': 0.6089636223861263}. Best is trial 5 with value: 0.9309149106428382.\n"
     ]
    },
    {
     "name": "stdout",
     "output_type": "stream",
     "text": [
      "Did not meet early stopping. Best iteration is:\n",
      "[82]\tvalid_0's auc: 0.924847\n",
      "Training until validation scores don't improve for 30 rounds\n"
     ]
    },
    {
     "name": "stderr",
     "output_type": "stream",
     "text": [
      "[I 2025-08-04 22:49:06,551] Trial 15 finished with value: 0.9229127767404641 and parameters: {'learning_rate': 0.10519114611432193, 'num_leaves': 35, 'max_depth': 9, 'min_child_samples': 48, 'feature_fraction': 0.9900241271942856, 'bagging_fraction': 0.7734210209332218, 'lambda_l1': 0.6313495969631473, 'lambda_l2': 0.977628553667741}. Best is trial 5 with value: 0.9309149106428382.\n"
     ]
    },
    {
     "name": "stdout",
     "output_type": "stream",
     "text": [
      "Early stopping, best iteration is:\n",
      "[59]\tvalid_0's auc: 0.922913\n",
      "Training until validation scores don't improve for 30 rounds\n"
     ]
    },
    {
     "name": "stderr",
     "output_type": "stream",
     "text": [
      "[I 2025-08-04 22:49:06,816] Trial 16 finished with value: 0.9266026495954477 and parameters: {'learning_rate': 0.17063067360466283, 'num_leaves': 57, 'max_depth': 4, 'min_child_samples': 33, 'feature_fraction': 0.6757707779137773, 'bagging_fraction': 0.7062058545889328, 'lambda_l1': 0.3114282142182082, 'lambda_l2': 0.44128749509392423}. Best is trial 5 with value: 0.9309149106428382.\n"
     ]
    },
    {
     "name": "stdout",
     "output_type": "stream",
     "text": [
      "Did not meet early stopping. Best iteration is:\n",
      "[88]\tvalid_0's auc: 0.926603\n",
      "Training until validation scores don't improve for 30 rounds\n"
     ]
    },
    {
     "name": "stderr",
     "output_type": "stream",
     "text": [
      "[I 2025-08-04 22:49:07,532] Trial 17 finished with value: 0.9226904952431759 and parameters: {'learning_rate': 0.08744069919888853, 'num_leaves': 27, 'max_depth': 7, 'min_child_samples': 10, 'feature_fraction': 0.8712911112196429, 'bagging_fraction': 0.8698429528462941, 'lambda_l1': 0.8849177783834212, 'lambda_l2': 0.21323394118932726}. Best is trial 5 with value: 0.9309149106428382.\n"
     ]
    },
    {
     "name": "stdout",
     "output_type": "stream",
     "text": [
      "Did not meet early stopping. Best iteration is:\n",
      "[78]\tvalid_0's auc: 0.92269\n",
      "Training until validation scores don't improve for 30 rounds\n"
     ]
    },
    {
     "name": "stderr",
     "output_type": "stream",
     "text": [
      "[I 2025-08-04 22:49:08,333] Trial 18 finished with value: 0.9221347914999555 and parameters: {'learning_rate': 0.061088169287715786, 'num_leaves': 38, 'max_depth': 9, 'min_child_samples': 44, 'feature_fraction': 0.9460750841278676, 'bagging_fraction': 0.6077650594503268, 'lambda_l1': 0.16392846969618025, 'lambda_l2': 0.7556257080723154}. Best is trial 5 with value: 0.9309149106428382.\n"
     ]
    },
    {
     "name": "stdout",
     "output_type": "stream",
     "text": [
      "Did not meet early stopping. Best iteration is:\n",
      "[99]\tvalid_0's auc: 0.922135\n",
      "Training until validation scores don't improve for 30 rounds\n"
     ]
    },
    {
     "name": "stderr",
     "output_type": "stream",
     "text": [
      "[I 2025-08-04 22:49:08,762] Trial 19 finished with value: 0.9245576598203965 and parameters: {'learning_rate': 0.12945974023553497, 'num_leaves': 27, 'max_depth': 7, 'min_child_samples': 33, 'feature_fraction': 0.838351960996104, 'bagging_fraction': 0.9746718959238238, 'lambda_l1': 0.3849130146796834, 'lambda_l2': 0.5651641824169101}. Best is trial 5 with value: 0.9309149106428382.\n"
     ]
    },
    {
     "name": "stdout",
     "output_type": "stream",
     "text": [
      "Early stopping, best iteration is:\n",
      "[38]\tvalid_0's auc: 0.924558\n",
      "Training until validation scores don't improve for 30 rounds\n"
     ]
    },
    {
     "name": "stderr",
     "output_type": "stream",
     "text": [
      "[I 2025-08-04 22:49:09,171] Trial 20 finished with value: 0.9159775940250734 and parameters: {'learning_rate': 0.028557646744101953, 'num_leaves': 57, 'max_depth': 5, 'min_child_samples': 44, 'feature_fraction': 0.6662732121835733, 'bagging_fraction': 0.7357483882447977, 'lambda_l1': 0.6103194325053627, 'lambda_l2': 0.40238743133254434}. Best is trial 5 with value: 0.9309149106428382.\n"
     ]
    },
    {
     "name": "stdout",
     "output_type": "stream",
     "text": [
      "Did not meet early stopping. Best iteration is:\n",
      "[100]\tvalid_0's auc: 0.915978\n",
      "Training until validation scores don't improve for 30 rounds\n"
     ]
    },
    {
     "name": "stderr",
     "output_type": "stream",
     "text": [
      "[I 2025-08-04 22:49:09,736] Trial 21 finished with value: 0.9239352716279897 and parameters: {'learning_rate': 0.11097191386494279, 'num_leaves': 41, 'max_depth': 6, 'min_child_samples': 27, 'feature_fraction': 0.9999488091663404, 'bagging_fraction': 0.8112187373884184, 'lambda_l1': 0.9679829310378442, 'lambda_l2': 0.5006404512014277}. Best is trial 5 with value: 0.9309149106428382.\n"
     ]
    },
    {
     "name": "stdout",
     "output_type": "stream",
     "text": [
      "Early stopping, best iteration is:\n",
      "[57]\tvalid_0's auc: 0.923935\n",
      "Training until validation scores don't improve for 30 rounds\n"
     ]
    },
    {
     "name": "stderr",
     "output_type": "stream",
     "text": [
      "[I 2025-08-04 22:49:10,077] Trial 22 finished with value: 0.9179781275006668 and parameters: {'learning_rate': 0.10811862747924171, 'num_leaves': 41, 'max_depth': 5, 'min_child_samples': 31, 'feature_fraction': 0.962091457497451, 'bagging_fraction': 0.8081812746896745, 'lambda_l1': 0.8665271005690504, 'lambda_l2': 0.44675760996487063}. Best is trial 5 with value: 0.9309149106428382.\n"
     ]
    },
    {
     "name": "stdout",
     "output_type": "stream",
     "text": [
      "Early stopping, best iteration is:\n",
      "[40]\tvalid_0's auc: 0.917978\n",
      "Training until validation scores don't improve for 30 rounds\n"
     ]
    },
    {
     "name": "stderr",
     "output_type": "stream",
     "text": [
      "[I 2025-08-04 22:49:10,544] Trial 23 finished with value: 0.9145327642927003 and parameters: {'learning_rate': 0.14795448496235292, 'num_leaves': 56, 'max_depth': 7, 'min_child_samples': 25, 'feature_fraction': 0.9472887438269544, 'bagging_fraction': 0.8461479062915664, 'lambda_l1': 0.8831994233019842, 'lambda_l2': 0.34090117701584166}. Best is trial 5 with value: 0.9309149106428382.\n"
     ]
    },
    {
     "name": "stdout",
     "output_type": "stream",
     "text": [
      "Early stopping, best iteration is:\n",
      "[21]\tvalid_0's auc: 0.914533\n",
      "Training until validation scores don't improve for 30 rounds\n"
     ]
    },
    {
     "name": "stderr",
     "output_type": "stream",
     "text": [
      "[I 2025-08-04 22:49:11,060] Trial 24 finished with value: 0.9182670934471414 and parameters: {'learning_rate': 0.07919893375658252, 'num_leaves': 27, 'max_depth': 8, 'min_child_samples': 36, 'feature_fraction': 0.9742779959465044, 'bagging_fraction': 0.9135525404323869, 'lambda_l1': 0.8105829060690638, 'lambda_l2': 0.7218392481382192}. Best is trial 5 with value: 0.9309149106428382.\n"
     ]
    },
    {
     "name": "stdout",
     "output_type": "stream",
     "text": [
      "Early stopping, best iteration is:\n",
      "[32]\tvalid_0's auc: 0.918267\n",
      "Training until validation scores don't improve for 30 rounds\n"
     ]
    },
    {
     "name": "stderr",
     "output_type": "stream",
     "text": [
      "[I 2025-08-04 22:49:11,382] Trial 25 finished with value: 0.9184893749444296 and parameters: {'learning_rate': 0.11966376722200461, 'num_leaves': 42, 'max_depth': 4, 'min_child_samples': 13, 'feature_fraction': 0.9283274277689172, 'bagging_fraction': 0.7864711387768124, 'lambda_l1': 0.6412300339051968, 'lambda_l2': 0.48901159573612046}. Best is trial 5 with value: 0.9309149106428382.\n"
     ]
    },
    {
     "name": "stdout",
     "output_type": "stream",
     "text": [
      "Early stopping, best iteration is:\n",
      "[65]\tvalid_0's auc: 0.918489\n",
      "Training until validation scores don't improve for 30 rounds\n"
     ]
    },
    {
     "name": "stderr",
     "output_type": "stream",
     "text": [
      "[I 2025-08-04 22:49:11,864] Trial 26 finished with value: 0.9125989152662932 and parameters: {'learning_rate': 0.0955472887497901, 'num_leaves': 36, 'max_depth': 6, 'min_child_samples': 20, 'feature_fraction': 0.8570692133409296, 'bagging_fraction': 0.8299399371463617, 'lambda_l1': 0.9825698322832562, 'lambda_l2': 0.16607535307282112}. Best is trial 5 with value: 0.9309149106428382.\n"
     ]
    },
    {
     "name": "stdout",
     "output_type": "stream",
     "text": [
      "Early stopping, best iteration is:\n",
      "[29]\tvalid_0's auc: 0.912599\n",
      "Training until validation scores don't improve for 30 rounds\n"
     ]
    },
    {
     "name": "stderr",
     "output_type": "stream",
     "text": [
      "[I 2025-08-04 22:49:12,238] Trial 27 finished with value: 0.9250466791144305 and parameters: {'learning_rate': 0.15290683321572637, 'num_leaves': 30, 'max_depth': 7, 'min_child_samples': 43, 'feature_fraction': 0.7507978098188284, 'bagging_fraction': 0.8677880377302362, 'lambda_l1': 0.8995134487441978, 'lambda_l2': 0.5812328852146442}. Best is trial 5 with value: 0.9309149106428382.\n"
     ]
    },
    {
     "name": "stdout",
     "output_type": "stream",
     "text": [
      "Early stopping, best iteration is:\n",
      "[33]\tvalid_0's auc: 0.925047\n",
      "Training until validation scores don't improve for 30 rounds\n"
     ]
    },
    {
     "name": "stderr",
     "output_type": "stream",
     "text": [
      "[I 2025-08-04 22:49:13,065] Trial 28 finished with value: 0.9223126166977861 and parameters: {'learning_rate': 0.07420579505394623, 'num_leaves': 38, 'max_depth': 10, 'min_child_samples': 19, 'feature_fraction': 0.6764876178313786, 'bagging_fraction': 0.7212742560410428, 'lambda_l1': 0.16806579168298685, 'lambda_l2': 0.26427324841137645}. Best is trial 5 with value: 0.9309149106428382.\n"
     ]
    },
    {
     "name": "stdout",
     "output_type": "stream",
     "text": [
      "Did not meet early stopping. Best iteration is:\n",
      "[85]\tvalid_0's auc: 0.922313\n",
      "Training until validation scores don't improve for 30 rounds\n"
     ]
    },
    {
     "name": "stderr",
     "output_type": "stream",
     "text": [
      "[I 2025-08-04 22:49:13,387] Trial 29 finished with value: 0.9188672534898196 and parameters: {'learning_rate': 0.05326527201920031, 'num_leaves': 45, 'max_depth': 4, 'min_child_samples': 30, 'feature_fraction': 0.8940266187142893, 'bagging_fraction': 0.9401891156982843, 'lambda_l1': 0.08689966626723722, 'lambda_l2': 0.5082300455280148}. Best is trial 5 with value: 0.9309149106428382.\n"
     ]
    },
    {
     "name": "stdout",
     "output_type": "stream",
     "text": [
      "Did not meet early stopping. Best iteration is:\n",
      "[100]\tvalid_0's auc: 0.918867\n",
      "\n",
      "📍 Training for label: SR-p53\n"
     ]
    },
    {
     "name": "stderr",
     "output_type": "stream",
     "text": [
      "[I 2025-08-04 22:49:20,863] A new study created in memory with name: no-name-814555f5-cf90-470e-92aa-957a2baae95b\n"
     ]
    },
    {
     "name": "stdout",
     "output_type": "stream",
     "text": [
      "Training until validation scores don't improve for 30 rounds\n"
     ]
    },
    {
     "name": "stderr",
     "output_type": "stream",
     "text": [
      "[I 2025-08-04 22:49:21,296] Trial 0 finished with value: 0.8480127484064491 and parameters: {'learning_rate': 0.011416310526397189, 'num_leaves': 66, 'max_depth': 8, 'min_child_samples': 31, 'feature_fraction': 0.7535413373136515, 'bagging_fraction': 0.7811538638013555, 'lambda_l1': 0.8306350193913142, 'lambda_l2': 0.5099727493619496}. Best is trial 0 with value: 0.8480127484064491.\n"
     ]
    },
    {
     "name": "stdout",
     "output_type": "stream",
     "text": [
      "Early stopping, best iteration is:\n",
      "[6]\tvalid_0's auc: 0.848013\n",
      "Training until validation scores don't improve for 30 rounds\n",
      "Early stopping, best iteration is:\n",
      "[66]\tvalid_0's auc: 0.866742\n"
     ]
    },
    {
     "name": "stderr",
     "output_type": "stream",
     "text": [
      "[I 2025-08-04 22:49:21,487] Trial 1 finished with value: 0.8667416572928384 and parameters: {'learning_rate': 0.1505246712207829, 'num_leaves': 67, 'max_depth': 3, 'min_child_samples': 40, 'feature_fraction': 0.8186434618771905, 'bagging_fraction': 0.6513940394291932, 'lambda_l1': 0.791939194587225, 'lambda_l2': 0.49323714556067144}. Best is trial 1 with value: 0.8667416572928384.\n"
     ]
    },
    {
     "name": "stdout",
     "output_type": "stream",
     "text": [
      "Training until validation scores don't improve for 30 rounds\n"
     ]
    },
    {
     "name": "stderr",
     "output_type": "stream",
     "text": [
      "[I 2025-08-04 22:49:22,139] Trial 2 finished with value: 0.8775403074615673 and parameters: {'learning_rate': 0.15054611859705805, 'num_leaves': 79, 'max_depth': 9, 'min_child_samples': 48, 'feature_fraction': 0.6508734223346729, 'bagging_fraction': 0.6467485509414668, 'lambda_l1': 0.3835383811860722, 'lambda_l2': 0.855146450713746}. Best is trial 2 with value: 0.8775403074615673.\n"
     ]
    },
    {
     "name": "stdout",
     "output_type": "stream",
     "text": [
      "Did not meet early stopping. Best iteration is:\n",
      "[72]\tvalid_0's auc: 0.87754\n",
      "Training until validation scores don't improve for 30 rounds\n"
     ]
    },
    {
     "name": "stderr",
     "output_type": "stream",
     "text": [
      "[I 2025-08-04 22:49:22,942] Trial 3 finished with value: 0.8758905136857893 and parameters: {'learning_rate': 0.16141130182216, 'num_leaves': 48, 'max_depth': 10, 'min_child_samples': 12, 'feature_fraction': 0.9583706070912451, 'bagging_fraction': 0.8015652826901044, 'lambda_l1': 0.9763453757453726, 'lambda_l2': 0.033773560294446}. Best is trial 2 with value: 0.8775403074615673.\n"
     ]
    },
    {
     "name": "stdout",
     "output_type": "stream",
     "text": [
      "Early stopping, best iteration is:\n",
      "[55]\tvalid_0's auc: 0.875891\n",
      "Training until validation scores don't improve for 30 rounds\n"
     ]
    },
    {
     "name": "stderr",
     "output_type": "stream",
     "text": [
      "[I 2025-08-04 22:49:23,863] Trial 4 finished with value: 0.8709411323584553 and parameters: {'learning_rate': 0.04965210459313275, 'num_leaves': 47, 'max_depth': 11, 'min_child_samples': 24, 'feature_fraction': 0.6744971293047063, 'bagging_fraction': 0.9437085938476937, 'lambda_l1': 0.1350000785910488, 'lambda_l2': 0.3077488402138554}. Best is trial 2 with value: 0.8775403074615673.\n"
     ]
    },
    {
     "name": "stdout",
     "output_type": "stream",
     "text": [
      "Did not meet early stopping. Best iteration is:\n",
      "[100]\tvalid_0's auc: 0.870941\n",
      "Training until validation scores don't improve for 30 rounds\n"
     ]
    },
    {
     "name": "stderr",
     "output_type": "stream",
     "text": [
      "[I 2025-08-04 22:49:24,592] Trial 5 finished with value: 0.8741657292838394 and parameters: {'learning_rate': 0.19802290390119495, 'num_leaves': 64, 'max_depth': 7, 'min_child_samples': 14, 'feature_fraction': 0.8320311512295039, 'bagging_fraction': 0.8850383217433844, 'lambda_l1': 0.08682415730671067, 'lambda_l2': 0.3982622206472467}. Best is trial 2 with value: 0.8775403074615673.\n"
     ]
    },
    {
     "name": "stdout",
     "output_type": "stream",
     "text": [
      "Did not meet early stopping. Best iteration is:\n",
      "[97]\tvalid_0's auc: 0.874166\n",
      "Training until validation scores don't improve for 30 rounds\n"
     ]
    },
    {
     "name": "stderr",
     "output_type": "stream",
     "text": [
      "[I 2025-08-04 22:49:25,435] Trial 6 finished with value: 0.8757780277465316 and parameters: {'learning_rate': 0.16647805811755628, 'num_leaves': 79, 'max_depth': 12, 'min_child_samples': 19, 'feature_fraction': 0.6579846323220839, 'bagging_fraction': 0.6175630025727099, 'lambda_l1': 0.3981094896196654, 'lambda_l2': 0.48172233047420265}. Best is trial 2 with value: 0.8775403074615673.\n"
     ]
    },
    {
     "name": "stdout",
     "output_type": "stream",
     "text": [
      "Did not meet early stopping. Best iteration is:\n",
      "[77]\tvalid_0's auc: 0.875778\n",
      "Training until validation scores don't improve for 30 rounds\n"
     ]
    },
    {
     "name": "stderr",
     "output_type": "stream",
     "text": [
      "[I 2025-08-04 22:49:25,893] Trial 7 finished with value: 0.8772403449568803 and parameters: {'learning_rate': 0.05880830559869673, 'num_leaves': 57, 'max_depth': 6, 'min_child_samples': 22, 'feature_fraction': 0.7041816650089054, 'bagging_fraction': 0.9118656678433064, 'lambda_l1': 0.5431662233645607, 'lambda_l2': 0.8951352606888988}. Best is trial 2 with value: 0.8775403074615673.\n"
     ]
    },
    {
     "name": "stdout",
     "output_type": "stream",
     "text": [
      "Early stopping, best iteration is:\n",
      "[62]\tvalid_0's auc: 0.87724\n",
      "Training until validation scores don't improve for 30 rounds\n"
     ]
    },
    {
     "name": "stderr",
     "output_type": "stream",
     "text": [
      "[I 2025-08-04 22:49:26,196] Trial 8 finished with value: 0.8896512935883014 and parameters: {'learning_rate': 0.15840892304406703, 'num_leaves': 36, 'max_depth': 4, 'min_child_samples': 16, 'feature_fraction': 0.9347358072596315, 'bagging_fraction': 0.7009823017591607, 'lambda_l1': 0.3827189703828461, 'lambda_l2': 0.9234162059568491}. Best is trial 8 with value: 0.8896512935883014.\n"
     ]
    },
    {
     "name": "stdout",
     "output_type": "stream",
     "text": [
      "Did not meet early stopping. Best iteration is:\n",
      "[75]\tvalid_0's auc: 0.889651\n",
      "Training until validation scores don't improve for 30 rounds\n"
     ]
    },
    {
     "name": "stderr",
     "output_type": "stream",
     "text": [
      "[I 2025-08-04 22:49:26,460] Trial 9 finished with value: 0.8680914885639295 and parameters: {'learning_rate': 0.12751567754464294, 'num_leaves': 63, 'max_depth': 4, 'min_child_samples': 50, 'feature_fraction': 0.8415814628052145, 'bagging_fraction': 0.6944898511289048, 'lambda_l1': 0.6399088459611226, 'lambda_l2': 0.3121841155661812}. Best is trial 8 with value: 0.8896512935883014.\n"
     ]
    },
    {
     "name": "stdout",
     "output_type": "stream",
     "text": [
      "Did not meet early stopping. Best iteration is:\n",
      "[93]\tvalid_0's auc: 0.868091\n",
      "Training until validation scores don't improve for 30 rounds\n"
     ]
    },
    {
     "name": "stderr",
     "output_type": "stream",
     "text": [
      "[I 2025-08-04 22:49:26,856] Trial 10 finished with value: 0.8581177352830895 and parameters: {'learning_rate': 0.09619874886646654, 'num_leaves': 24, 'max_depth': 5, 'min_child_samples': 31, 'feature_fraction': 0.971006554054296, 'bagging_fraction': 0.7671849722847305, 'lambda_l1': 0.2460597648657522, 'lambda_l2': 0.7332470443404248}. Best is trial 8 with value: 0.8896512935883014.\n"
     ]
    },
    {
     "name": "stdout",
     "output_type": "stream",
     "text": [
      "Early stopping, best iteration is:\n",
      "[64]\tvalid_0's auc: 0.858118\n",
      "Training until validation scores don't improve for 30 rounds\n"
     ]
    },
    {
     "name": "stderr",
     "output_type": "stream",
     "text": [
      "[I 2025-08-04 22:49:27,570] Trial 11 finished with value: 0.8515935508061492 and parameters: {'learning_rate': 0.19666486502541292, 'num_leaves': 32, 'max_depth': 9, 'min_child_samples': 50, 'feature_fraction': 0.8965973207467944, 'bagging_fraction': 0.708638837392501, 'lambda_l1': 0.359283854949929, 'lambda_l2': 0.9946471387740203}. Best is trial 8 with value: 0.8896512935883014.\n"
     ]
    },
    {
     "name": "stdout",
     "output_type": "stream",
     "text": [
      "Did not meet early stopping. Best iteration is:\n",
      "[72]\tvalid_0's auc: 0.851594\n",
      "Training until validation scores don't improve for 30 rounds\n"
     ]
    },
    {
     "name": "stderr",
     "output_type": "stream",
     "text": [
      "[I 2025-08-04 22:49:28,210] Trial 12 finished with value: 0.8610048743907013 and parameters: {'learning_rate': 0.11518443894561736, 'num_leaves': 37, 'max_depth': 8, 'min_child_samples': 40, 'feature_fraction': 0.7497949281156379, 'bagging_fraction': 0.6033143705249279, 'lambda_l1': 0.3327441617041815, 'lambda_l2': 0.7453417925822874}. Best is trial 8 with value: 0.8896512935883014.\n"
     ]
    },
    {
     "name": "stdout",
     "output_type": "stream",
     "text": [
      "Did not meet early stopping. Best iteration is:\n",
      "[96]\tvalid_0's auc: 0.861005\n",
      "Training until validation scores don't improve for 30 rounds\n"
     ]
    },
    {
     "name": "stderr",
     "output_type": "stream",
     "text": [
      "[I 2025-08-04 22:49:28,500] Trial 13 finished with value: 0.8569928758905137 and parameters: {'learning_rate': 0.13982484134353534, 'num_leaves': 80, 'max_depth': 6, 'min_child_samples': 39, 'feature_fraction': 0.6191261903324434, 'bagging_fraction': 0.7104208717834076, 'lambda_l1': 0.4639028447426129, 'lambda_l2': 0.7721550471205669}. Best is trial 8 with value: 0.8896512935883014.\n"
     ]
    },
    {
     "name": "stdout",
     "output_type": "stream",
     "text": [
      "Early stopping, best iteration is:\n",
      "[30]\tvalid_0's auc: 0.856993\n",
      "Training until validation scores don't improve for 30 rounds\n"
     ]
    },
    {
     "name": "stderr",
     "output_type": "stream",
     "text": [
      "[I 2025-08-04 22:49:28,724] Trial 14 finished with value: 0.8785901762279715 and parameters: {'learning_rate': 0.08586838850460526, 'num_leaves': 36, 'max_depth': 3, 'min_child_samples': 27, 'feature_fraction': 0.9072126459929458, 'bagging_fraction': 0.6612847853114595, 'lambda_l1': 0.6092710303678902, 'lambda_l2': 0.9990199475783254}. Best is trial 8 with value: 0.8896512935883014.\n"
     ]
    },
    {
     "name": "stdout",
     "output_type": "stream",
     "text": [
      "Did not meet early stopping. Best iteration is:\n",
      "[88]\tvalid_0's auc: 0.87859\n",
      "Training until validation scores don't improve for 30 rounds\n"
     ]
    },
    {
     "name": "stderr",
     "output_type": "stream",
     "text": [
      "[I 2025-08-04 22:49:28,936] Trial 15 finished with value: 0.8616797900262467 and parameters: {'learning_rate': 0.07609962888503963, 'num_leaves': 37, 'max_depth': 3, 'min_child_samples': 27, 'feature_fraction': 0.9052832793682852, 'bagging_fraction': 0.8402865532491487, 'lambda_l1': 0.6083841947444386, 'lambda_l2': 0.9664826470728042}. Best is trial 8 with value: 0.8896512935883014.\n"
     ]
    },
    {
     "name": "stdout",
     "output_type": "stream",
     "text": [
      "Did not meet early stopping. Best iteration is:\n",
      "[100]\tvalid_0's auc: 0.86168\n",
      "Training until validation scores don't improve for 30 rounds\n"
     ]
    },
    {
     "name": "stderr",
     "output_type": "stream",
     "text": [
      "[I 2025-08-04 22:49:29,240] Trial 16 finished with value: 0.8674540682414699 and parameters: {'learning_rate': 0.09626846088384358, 'num_leaves': 20, 'max_depth': 4, 'min_child_samples': 16, 'feature_fraction': 0.9066739955823846, 'bagging_fraction': 0.7300214200571274, 'lambda_l1': 0.7389642718590885, 'lambda_l2': 0.6428136883775378}. Best is trial 8 with value: 0.8896512935883014.\n"
     ]
    },
    {
     "name": "stdout",
     "output_type": "stream",
     "text": [
      "Did not meet early stopping. Best iteration is:\n",
      "[81]\tvalid_0's auc: 0.867454\n",
      "Training until validation scores don't improve for 30 rounds\n"
     ]
    },
    {
     "name": "stderr",
     "output_type": "stream",
     "text": [
      "[I 2025-08-04 22:49:29,734] Trial 17 finished with value: 0.8628421447319085 and parameters: {'learning_rate': 0.02571035120262942, 'num_leaves': 30, 'max_depth': 5, 'min_child_samples': 10, 'feature_fraction': 0.9908522936992851, 'bagging_fraction': 0.9990345101584983, 'lambda_l1': 0.19827589716427807, 'lambda_l2': 0.8703864711708454}. Best is trial 8 with value: 0.8896512935883014.\n"
     ]
    },
    {
     "name": "stdout",
     "output_type": "stream",
     "text": [
      "Did not meet early stopping. Best iteration is:\n",
      "[100]\tvalid_0's auc: 0.862842\n",
      "Training until validation scores don't improve for 30 rounds\n"
     ]
    },
    {
     "name": "stderr",
     "output_type": "stream",
     "text": [
      "[I 2025-08-04 22:49:29,944] Trial 18 finished with value: 0.8578552680914885 and parameters: {'learning_rate': 0.07909050863913247, 'num_leaves': 42, 'max_depth': 3, 'min_child_samples': 34, 'feature_fraction': 0.883346126417387, 'bagging_fraction': 0.665238297872396, 'lambda_l1': 0.025192273655644137, 'lambda_l2': 0.6344730725023209}. Best is trial 8 with value: 0.8896512935883014.\n"
     ]
    },
    {
     "name": "stdout",
     "output_type": "stream",
     "text": [
      "Did not meet early stopping. Best iteration is:\n",
      "[99]\tvalid_0's auc: 0.857855\n",
      "Training until validation scores don't improve for 30 rounds\n"
     ]
    },
    {
     "name": "stderr",
     "output_type": "stream",
     "text": [
      "[I 2025-08-04 22:49:30,399] Trial 19 finished with value: 0.8782902137232845 and parameters: {'learning_rate': 0.17710132575145665, 'num_leaves': 54, 'max_depth': 5, 'min_child_samples': 19, 'feature_fraction': 0.9361099106817233, 'bagging_fraction': 0.726653977328817, 'lambda_l1': 0.49027294099377394, 'lambda_l2': 0.07087975540358726}. Best is trial 8 with value: 0.8896512935883014.\n"
     ]
    },
    {
     "name": "stdout",
     "output_type": "stream",
     "text": [
      "Did not meet early stopping. Best iteration is:\n",
      "[75]\tvalid_0's auc: 0.87829\n",
      "Training until validation scores don't improve for 30 rounds\n"
     ]
    },
    {
     "name": "stderr",
     "output_type": "stream",
     "text": [
      "[I 2025-08-04 22:49:30,713] Trial 20 finished with value: 0.8790776152980877 and parameters: {'learning_rate': 0.10407579329087807, 'num_leaves': 28, 'max_depth': 4, 'min_child_samples': 26, 'feature_fraction': 0.9993901244010848, 'bagging_fraction': 0.6701467196476446, 'lambda_l1': 0.6262172560679429, 'lambda_l2': 0.9806529028173073}. Best is trial 8 with value: 0.8896512935883014.\n"
     ]
    },
    {
     "name": "stdout",
     "output_type": "stream",
     "text": [
      "Did not meet early stopping. Best iteration is:\n",
      "[89]\tvalid_0's auc: 0.879078\n",
      "Training until validation scores don't improve for 30 rounds\n"
     ]
    },
    {
     "name": "stderr",
     "output_type": "stream",
     "text": [
      "[I 2025-08-04 22:49:31,018] Trial 21 finished with value: 0.8769778777652794 and parameters: {'learning_rate': 0.11274820036545902, 'num_leaves': 31, 'max_depth': 4, 'min_child_samples': 26, 'feature_fraction': 0.9956716672682503, 'bagging_fraction': 0.6815137752177722, 'lambda_l1': 0.6684768737520852, 'lambda_l2': 0.961502415221}. Best is trial 8 with value: 0.8896512935883014.\n"
     ]
    },
    {
     "name": "stdout",
     "output_type": "stream",
     "text": [
      "Early stopping, best iteration is:\n",
      "[65]\tvalid_0's auc: 0.876978\n",
      "Training until validation scores don't improve for 30 rounds\n"
     ]
    },
    {
     "name": "stderr",
     "output_type": "stream",
     "text": [
      "[I 2025-08-04 22:49:31,344] Trial 22 finished with value: 0.8604049493813273 and parameters: {'learning_rate': 0.08108320330759396, 'num_leaves': 26, 'max_depth': 4, 'min_child_samples': 20, 'feature_fraction': 0.9451293289081938, 'bagging_fraction': 0.7502339718877544, 'lambda_l1': 0.5849160656806254, 'lambda_l2': 0.8278737207197987}. Best is trial 8 with value: 0.8896512935883014.\n"
     ]
    },
    {
     "name": "stdout",
     "output_type": "stream",
     "text": [
      "Did not meet early stopping. Best iteration is:\n",
      "[99]\tvalid_0's auc: 0.860405\n",
      "Training until validation scores don't improve for 30 rounds\n"
     ]
    },
    {
     "name": "stderr",
     "output_type": "stream",
     "text": [
      "[I 2025-08-04 22:49:31,935] Trial 23 finished with value: 0.8886014248218972 and parameters: {'learning_rate': 0.12236244400128841, 'num_leaves': 39, 'max_depth': 6, 'min_child_samples': 35, 'feature_fraction': 0.8748377804187759, 'bagging_fraction': 0.62806367823238, 'lambda_l1': 0.698617813673455, 'lambda_l2': 0.9189750618563436}. Best is trial 8 with value: 0.8896512935883014.\n"
     ]
    },
    {
     "name": "stdout",
     "output_type": "stream",
     "text": [
      "Did not meet early stopping. Best iteration is:\n",
      "[79]\tvalid_0's auc: 0.888601\n",
      "Training until validation scores don't improve for 30 rounds\n"
     ]
    },
    {
     "name": "stderr",
     "output_type": "stream",
     "text": [
      "[I 2025-08-04 22:49:32,533] Trial 24 finished with value: 0.9016497937757781 and parameters: {'learning_rate': 0.12339893975802618, 'num_leaves': 42, 'max_depth': 6, 'min_child_samples': 33, 'feature_fraction': 0.8646836541790528, 'bagging_fraction': 0.6267637664805364, 'lambda_l1': 0.8845451016161335, 'lambda_l2': 0.6717835989724801}. Best is trial 24 with value: 0.9016497937757781.\n"
     ]
    },
    {
     "name": "stdout",
     "output_type": "stream",
     "text": [
      "Did not meet early stopping. Best iteration is:\n",
      "[89]\tvalid_0's auc: 0.90165\n",
      "Training until validation scores don't improve for 30 rounds\n"
     ]
    },
    {
     "name": "stderr",
     "output_type": "stream",
     "text": [
      "[I 2025-08-04 22:49:32,884] Trial 25 finished with value: 0.8764529433820772 and parameters: {'learning_rate': 0.12927915976989465, 'num_leaves': 43, 'max_depth': 6, 'min_child_samples': 35, 'feature_fraction': 0.862964234308695, 'bagging_fraction': 0.6181177452367991, 'lambda_l1': 0.9263659276893331, 'lambda_l2': 0.6242450898067203}. Best is trial 24 with value: 0.9016497937757781.\n"
     ]
    },
    {
     "name": "stdout",
     "output_type": "stream",
     "text": [
      "Early stopping, best iteration is:\n",
      "[29]\tvalid_0's auc: 0.876453\n",
      "Training until validation scores don't improve for 30 rounds\n"
     ]
    },
    {
     "name": "stderr",
     "output_type": "stream",
     "text": [
      "[I 2025-08-04 22:49:33,529] Trial 26 finished with value: 0.8760404949381327 and parameters: {'learning_rate': 0.12871855649730876, 'num_leaves': 43, 'max_depth': 7, 'min_child_samples': 43, 'feature_fraction': 0.7781462030200987, 'bagging_fraction': 0.643787241326569, 'lambda_l1': 0.8597451323885653, 'lambda_l2': 0.6823619837154962}. Best is trial 24 with value: 0.9016497937757781.\n"
     ]
    },
    {
     "name": "stdout",
     "output_type": "stream",
     "text": [
      "Did not meet early stopping. Best iteration is:\n",
      "[72]\tvalid_0's auc: 0.87604\n",
      "Training until validation scores don't improve for 30 rounds\n"
     ]
    },
    {
     "name": "stderr",
     "output_type": "stream",
     "text": [
      "[I 2025-08-04 22:49:34,083] Trial 27 finished with value: 0.8857142857142857 and parameters: {'learning_rate': 0.17840571721480514, 'num_leaves': 52, 'max_depth': 6, 'min_child_samples': 35, 'feature_fraction': 0.8682913800008364, 'bagging_fraction': 0.627545476446304, 'lambda_l1': 0.7293770442259347, 'lambda_l2': 0.5668447296620233}. Best is trial 24 with value: 0.9016497937757781.\n"
     ]
    },
    {
     "name": "stdout",
     "output_type": "stream",
     "text": [
      "Early stopping, best iteration is:\n",
      "[62]\tvalid_0's auc: 0.885714\n",
      "Training until validation scores don't improve for 30 rounds\n"
     ]
    },
    {
     "name": "stderr",
     "output_type": "stream",
     "text": [
      "[I 2025-08-04 22:49:34,716] Trial 28 finished with value: 0.8673790776152981 and parameters: {'learning_rate': 0.14210232297837835, 'num_leaves': 40, 'max_depth': 7, 'min_child_samples': 44, 'feature_fraction': 0.8006665592646889, 'bagging_fraction': 0.8337601916691072, 'lambda_l1': 0.8985050093666247, 'lambda_l2': 0.7967267440386506}. Best is trial 24 with value: 0.9016497937757781.\n"
     ]
    },
    {
     "name": "stdout",
     "output_type": "stream",
     "text": [
      "Did not meet early stopping. Best iteration is:\n",
      "[100]\tvalid_0's auc: 0.867379\n",
      "Training until validation scores don't improve for 30 rounds\n"
     ]
    },
    {
     "name": "stderr",
     "output_type": "stream",
     "text": [
      "[I 2025-08-04 22:49:35,034] Trial 29 finished with value: 0.9050618672665917 and parameters: {'learning_rate': 0.1201703155829826, 'num_leaves': 34, 'max_depth': 5, 'min_child_samples': 33, 'feature_fraction': 0.9242927584196634, 'bagging_fraction': 0.6896252731160479, 'lambda_l1': 0.7960188286042771, 'lambda_l2': 0.8896506764156475}. Best is trial 29 with value: 0.9050618672665917.\n"
     ]
    },
    {
     "name": "stdout",
     "output_type": "stream",
     "text": [
      "Early stopping, best iteration is:\n",
      "[40]\tvalid_0's auc: 0.905062\n"
     ]
    }
   ],
   "source": [
    "import lightgbm as lgb\n",
    "from lightgbm import early_stopping, log_evaluation\n",
    "from sklearn.model_selection import train_test_split\n",
    "from sklearn.feature_selection import SelectFromModel\n",
    "from sklearn.metrics import roc_auc_score, accuracy_score, precision_recall_curve\n",
    "import joblib\n",
    "import optuna\n",
    "import numpy as np\n",
    "import pandas as pd\n",
    "import os\n",
    "\n",
    "# === Load precomputed data ===\n",
    "SAVE_DIR = \"tox21_lightgb_pipeline/Data_v6/processed\"\n",
    "MODEL_PATH = \"tox21_lightgb_pipeline/models/v6\"\n",
    "os.makedirs(MODEL_PATH, exist_ok=True)\n",
    "\n",
    "X = np.load(os.path.join(SAVE_DIR, \"X.npy\"))\n",
    "Y = np.load(os.path.join(SAVE_DIR, \"Y.npy\"))\n",
    "label_mask = np.load(os.path.join(SAVE_DIR, \"label_mask.npy\"))\n",
    "with open(os.path.join(SAVE_DIR, \"feature_names.txt\")) as f:\n",
    "    feature_names = f.read().splitlines()\n",
    "\n",
    "# === Define labels ===\n",
    "label_cols = [\n",
    "    \"NR-AR\", \"NR-AR-LBD\", \"NR-AhR\", \"NR-Aromatase\", \"NR-ER\",\n",
    "    \"NR-ER-LBD\", \"NR-PPAR-gamma\", \"SR-ARE\", \"SR-ATAD5\",\n",
    "    \"SR-HSE\", \"SR-MMP\", \"SR-p53\"\n",
    "]\n",
    "\n",
    "# === Training Setup ===\n",
    "results = []\n",
    "feature_mask_dict = {}\n",
    "threshold_dict = {}\n",
    "\n",
    "for i, label_name in enumerate(label_cols):\n",
    "    print(f\"\\n📍 Training for label: {label_name}\")\n",
    "\n",
    "    # Subset valid rows for this label\n",
    "    valid_rows = label_mask[:, i]\n",
    "    X_valid = X[valid_rows]\n",
    "    y_valid = Y[valid_rows, i]\n",
    "\n",
    "    # Split the data\n",
    "    X_train, X_temp, y_train, y_temp = train_test_split(\n",
    "        X_valid, y_valid, test_size=0.2, random_state=42, stratify=y_valid\n",
    "    )\n",
    "    X_val, X_test, y_val, y_test = train_test_split(\n",
    "        X_temp, y_temp, test_size=0.5, random_state=42, stratify=y_temp\n",
    "    )\n",
    "\n",
    "    # === Feature Selection ===\n",
    "    selector_model = lgb.LGBMClassifier(n_estimators=200, random_state=42)\n",
    "    selector_model.fit(X_train, y_train)\n",
    "    selector = SelectFromModel(selector_model, threshold=\"median\", prefit=True)\n",
    "    kept_idx = selector.get_support(indices=True)\n",
    "\n",
    "    X_train_fs = selector.transform(X_train)\n",
    "    X_val_fs = selector.transform(X_val)\n",
    "    X_test_fs = selector.transform(X_test)\n",
    "\n",
    "    feature_mask_dict[label_name] = kept_idx\n",
    "\n",
    "    # === Class Imbalance Handling ===\n",
    "    n_pos = np.sum(y_train == 1)\n",
    "    n_neg = np.sum(y_train == 0)\n",
    "    scale_pos_weight = n_neg / n_pos if n_pos > 0 else 1.0\n",
    "\n",
    "    # === Hyperparameter Tuning with Optuna ===\n",
    "    dtrain = lgb.Dataset(X_train_fs, label=y_train)\n",
    "    dval = lgb.Dataset(X_val_fs, label=y_val)\n",
    "\n",
    "    def objective(trial):\n",
    "        params = {\n",
    "            \"objective\": \"binary\",\n",
    "            \"metric\": \"auc\",\n",
    "            \"boosting_type\": \"gbdt\",\n",
    "            \"verbosity\": -1,\n",
    "            \"feature_pre_filter\": False,\n",
    "            \"scale_pos_weight\": scale_pos_weight,\n",
    "            \"learning_rate\": trial.suggest_float(\"learning_rate\", 0.01, 0.2),\n",
    "            \"num_leaves\": trial.suggest_int(\"num_leaves\", 20, 80),\n",
    "            \"max_depth\": trial.suggest_int(\"max_depth\", 3, 12),\n",
    "            \"min_child_samples\": trial.suggest_int(\"min_child_samples\", 10, 50),\n",
    "            \"feature_fraction\": trial.suggest_float(\"feature_fraction\", 0.6, 1.0),\n",
    "            \"bagging_fraction\": trial.suggest_float(\"bagging_fraction\", 0.6, 1.0),\n",
    "            \"lambda_l1\": trial.suggest_float(\"lambda_l1\", 0.0, 1.0),\n",
    "            \"lambda_l2\": trial.suggest_float(\"lambda_l2\", 0.0, 1.0),\n",
    "        }\n",
    "        model = lgb.train(\n",
    "            params, dtrain, valid_sets=[dval], callbacks=[\n",
    "                early_stopping(stopping_rounds=30),\n",
    "                log_evaluation(period=0)\n",
    "            ]\n",
    "        )\n",
    "        preds = model.predict(X_val_fs)\n",
    "        return roc_auc_score(y_val, preds)\n",
    "\n",
    "    study = optuna.create_study(direction=\"maximize\")\n",
    "    study.optimize(objective, n_trials=30)\n",
    "\n",
    "    best_params = study.best_params\n",
    "    best_params.update({\n",
    "        \"objective\": \"binary\",\n",
    "        \"metric\": \"auc\",\n",
    "        \"boosting_type\": \"gbdt\",\n",
    "        \"verbosity\": -1,\n",
    "        \"scale_pos_weight\": scale_pos_weight\n",
    "    })\n",
    "\n",
    "    # === Final Model Training ===\n",
    "    final_model = lgb.LGBMClassifier(**best_params, n_estimators=500)\n",
    "    final_model.fit(X_train_fs, y_train)\n",
    "\n",
    "    # === Threshold Selection ===\n",
    "    preds_val = final_model.predict_proba(X_val_fs)[:, 1]\n",
    "    precision, recall, thresholds = precision_recall_curve(y_val, preds_val)\n",
    "    f1_scores = 2 * precision * recall / (precision + recall + 1e-8)\n",
    "    best_idx = np.argmax(f1_scores)\n",
    "    best_thresh = thresholds[best_idx]\n",
    "\n",
    "    # === Final Evaluation ===\n",
    "    y_pred_bin = (final_model.predict_proba(X_test_fs)[:, 1] >= best_thresh).astype(int)\n",
    "    auc = roc_auc_score(y_test, final_model.predict_proba(X_test_fs)[:, 1])\n",
    "    acc = accuracy_score(y_test, y_pred_bin)\n",
    "\n",
    "    # === Save Artifacts ===\n",
    "    joblib.dump(final_model, os.path.join(MODEL_PATH, f\"{label_name}.pkl\"))\n",
    "    threshold_dict[label_name] = best_thresh\n",
    "\n",
    "    results.append({\n",
    "        \"label\": label_name,\n",
    "        \"auc\": auc,\n",
    "        \"accuracy\": acc,\n",
    "        \"n_train\": len(y_train),\n",
    "        \"n_val\": len(y_val),\n",
    "        \"n_test\": len(y_test),\n",
    "        \"best_threshold\": best_thresh,\n",
    "        \"num_features\": len(kept_idx),\n",
    "        \"scale_pos_weight\": scale_pos_weight\n",
    "    })\n",
    "\n",
    "# === Save All Utilities ===\n",
    "joblib.dump(threshold_dict, os.path.join(MODEL_PATH, \"thresholds.pkl\"))\n",
    "joblib.dump(feature_mask_dict, os.path.join(MODEL_PATH, \"feature_masks.pkl\"))\n",
    "pd.DataFrame(results).to_csv(os.path.join(MODEL_PATH, \"training_metrics.csv\"), index=False)"
   ]
  },
  {
   "cell_type": "markdown",
   "id": "6b7083c9",
   "metadata": {},
   "source": [
    "### 2.1 eval "
   ]
  },
  {
   "cell_type": "code",
   "execution_count": 12,
   "id": "1fba9ceb",
   "metadata": {},
   "outputs": [
    {
     "name": "stdout",
     "output_type": "stream",
     "text": [
      "📈 Summary of LightGBM model performance:\n"
     ]
    },
    {
     "data": {
      "text/html": [
       "<div>\n",
       "<style scoped>\n",
       "    .dataframe tbody tr th:only-of-type {\n",
       "        vertical-align: middle;\n",
       "    }\n",
       "\n",
       "    .dataframe tbody tr th {\n",
       "        vertical-align: top;\n",
       "    }\n",
       "\n",
       "    .dataframe thead th {\n",
       "        text-align: right;\n",
       "    }\n",
       "</style>\n",
       "<table border=\"1\" class=\"dataframe\">\n",
       "  <thead>\n",
       "    <tr style=\"text-align: right;\">\n",
       "      <th></th>\n",
       "      <th>label</th>\n",
       "      <th>auc</th>\n",
       "      <th>accuracy</th>\n",
       "      <th>n_train</th>\n",
       "      <th>n_val</th>\n",
       "      <th>n_test</th>\n",
       "      <th>best_threshold</th>\n",
       "      <th>num_features</th>\n",
       "      <th>scale_pos_weight</th>\n",
       "    </tr>\n",
       "  </thead>\n",
       "  <tbody>\n",
       "    <tr>\n",
       "      <th>10</th>\n",
       "      <td>SR-MMP</td>\n",
       "      <td>0.948920</td>\n",
       "      <td>0.924269</td>\n",
       "      <td>4648</td>\n",
       "      <td>581</td>\n",
       "      <td>581</td>\n",
       "      <td>0.344759</td>\n",
       "      <td>812</td>\n",
       "      <td>5.332425</td>\n",
       "    </tr>\n",
       "    <tr>\n",
       "      <th>8</th>\n",
       "      <td>SR-ATAD5</td>\n",
       "      <td>0.886605</td>\n",
       "      <td>0.951977</td>\n",
       "      <td>5657</td>\n",
       "      <td>707</td>\n",
       "      <td>708</td>\n",
       "      <td>0.140595</td>\n",
       "      <td>931</td>\n",
       "      <td>25.810427</td>\n",
       "    </tr>\n",
       "    <tr>\n",
       "      <th>2</th>\n",
       "      <td>NR-AhR</td>\n",
       "      <td>0.881095</td>\n",
       "      <td>0.893130</td>\n",
       "      <td>5239</td>\n",
       "      <td>655</td>\n",
       "      <td>655</td>\n",
       "      <td>0.487913</td>\n",
       "      <td>807</td>\n",
       "      <td>7.532573</td>\n",
       "    </tr>\n",
       "    <tr>\n",
       "      <th>6</th>\n",
       "      <td>NR-PPAR-gamma</td>\n",
       "      <td>0.877636</td>\n",
       "      <td>0.964341</td>\n",
       "      <td>5160</td>\n",
       "      <td>645</td>\n",
       "      <td>645</td>\n",
       "      <td>0.653218</td>\n",
       "      <td>907</td>\n",
       "      <td>33.630872</td>\n",
       "    </tr>\n",
       "    <tr>\n",
       "      <th>11</th>\n",
       "      <td>SR-p53</td>\n",
       "      <td>0.858378</td>\n",
       "      <td>0.920354</td>\n",
       "      <td>5419</td>\n",
       "      <td>677</td>\n",
       "      <td>678</td>\n",
       "      <td>0.134669</td>\n",
       "      <td>828</td>\n",
       "      <td>15.032544</td>\n",
       "    </tr>\n",
       "    <tr>\n",
       "      <th>9</th>\n",
       "      <td>SR-HSE</td>\n",
       "      <td>0.853877</td>\n",
       "      <td>0.927357</td>\n",
       "      <td>5173</td>\n",
       "      <td>647</td>\n",
       "      <td>647</td>\n",
       "      <td>0.081956</td>\n",
       "      <td>819</td>\n",
       "      <td>16.359060</td>\n",
       "    </tr>\n",
       "    <tr>\n",
       "      <th>7</th>\n",
       "      <td>SR-ARE</td>\n",
       "      <td>0.832675</td>\n",
       "      <td>0.835616</td>\n",
       "      <td>4665</td>\n",
       "      <td>583</td>\n",
       "      <td>584</td>\n",
       "      <td>0.211113</td>\n",
       "      <td>831</td>\n",
       "      <td>5.187003</td>\n",
       "    </tr>\n",
       "    <tr>\n",
       "      <th>5</th>\n",
       "      <td>NR-ER-LBD</td>\n",
       "      <td>0.822563</td>\n",
       "      <td>0.965517</td>\n",
       "      <td>5564</td>\n",
       "      <td>695</td>\n",
       "      <td>696</td>\n",
       "      <td>0.657139</td>\n",
       "      <td>964</td>\n",
       "      <td>18.871429</td>\n",
       "    </tr>\n",
       "    <tr>\n",
       "      <th>3</th>\n",
       "      <td>NR-Aromatase</td>\n",
       "      <td>0.822122</td>\n",
       "      <td>0.953688</td>\n",
       "      <td>4656</td>\n",
       "      <td>582</td>\n",
       "      <td>583</td>\n",
       "      <td>0.373381</td>\n",
       "      <td>836</td>\n",
       "      <td>18.400000</td>\n",
       "    </tr>\n",
       "    <tr>\n",
       "      <th>0</th>\n",
       "      <td>NR-AR</td>\n",
       "      <td>0.813450</td>\n",
       "      <td>0.971114</td>\n",
       "      <td>5812</td>\n",
       "      <td>726</td>\n",
       "      <td>727</td>\n",
       "      <td>0.978191</td>\n",
       "      <td>943</td>\n",
       "      <td>22.530364</td>\n",
       "    </tr>\n",
       "    <tr>\n",
       "      <th>1</th>\n",
       "      <td>NR-AR-LBD</td>\n",
       "      <td>0.737474</td>\n",
       "      <td>0.968935</td>\n",
       "      <td>5406</td>\n",
       "      <td>676</td>\n",
       "      <td>676</td>\n",
       "      <td>0.478398</td>\n",
       "      <td>916</td>\n",
       "      <td>27.452632</td>\n",
       "    </tr>\n",
       "    <tr>\n",
       "      <th>4</th>\n",
       "      <td>NR-ER</td>\n",
       "      <td>0.701968</td>\n",
       "      <td>0.829032</td>\n",
       "      <td>4954</td>\n",
       "      <td>619</td>\n",
       "      <td>620</td>\n",
       "      <td>0.397913</td>\n",
       "      <td>836</td>\n",
       "      <td>6.813880</td>\n",
       "    </tr>\n",
       "  </tbody>\n",
       "</table>\n",
       "</div>"
      ],
      "text/plain": [
       "            label       auc  accuracy  n_train  n_val  n_test  best_threshold  \\\n",
       "10         SR-MMP  0.948920  0.924269     4648    581     581        0.344759   \n",
       "8        SR-ATAD5  0.886605  0.951977     5657    707     708        0.140595   \n",
       "2          NR-AhR  0.881095  0.893130     5239    655     655        0.487913   \n",
       "6   NR-PPAR-gamma  0.877636  0.964341     5160    645     645        0.653218   \n",
       "11         SR-p53  0.858378  0.920354     5419    677     678        0.134669   \n",
       "9          SR-HSE  0.853877  0.927357     5173    647     647        0.081956   \n",
       "7          SR-ARE  0.832675  0.835616     4665    583     584        0.211113   \n",
       "5       NR-ER-LBD  0.822563  0.965517     5564    695     696        0.657139   \n",
       "3    NR-Aromatase  0.822122  0.953688     4656    582     583        0.373381   \n",
       "0           NR-AR  0.813450  0.971114     5812    726     727        0.978191   \n",
       "1       NR-AR-LBD  0.737474  0.968935     5406    676     676        0.478398   \n",
       "4           NR-ER  0.701968  0.829032     4954    619     620        0.397913   \n",
       "\n",
       "    num_features  scale_pos_weight  \n",
       "10           812          5.332425  \n",
       "8            931         25.810427  \n",
       "2            807          7.532573  \n",
       "6            907         33.630872  \n",
       "11           828         15.032544  \n",
       "9            819         16.359060  \n",
       "7            831          5.187003  \n",
       "5            964         18.871429  \n",
       "3            836         18.400000  \n",
       "0            943         22.530364  \n",
       "1            916         27.452632  \n",
       "4            836          6.813880  "
      ]
     },
     "metadata": {},
     "output_type": "display_data"
    }
   ],
   "source": [
    "import pandas as pd\n",
    "import os\n",
    "\n",
    "# Create results DataFrame\n",
    "results_df = pd.DataFrame(results)\n",
    "\n",
    "# Sort by AUC (optional)\n",
    "results_df = results_df.sort_values(by=\"auc\", ascending=False)\n",
    "\n",
    "# Display results\n",
    "print(\"📈 Summary of LightGBM model performance:\")\n",
    "display(results_df)\n",
    "\n",
    "# Save to CSV\n",
    "results_df.to_csv(os.path.join(MODEL_PATH, \"training_metrics.csv\"), index=False)\n"
   ]
  },
  {
   "cell_type": "markdown",
   "id": "555c26f0",
   "metadata": {},
   "source": [
    "## 2*: Train LightGBM Models Using All Features (No Feature Selection)"
   ]
  },
  {
   "cell_type": "code",
   "execution_count": 1,
   "id": "a4d75907",
   "metadata": {},
   "outputs": [
    {
     "name": "stderr",
     "output_type": "stream",
     "text": [
      "[I 2025-08-04 23:00:49,680] A new study created in memory with name: no-name-e51e3d81-02cb-4a3a-b48a-d9759f256712\n"
     ]
    },
    {
     "name": "stdout",
     "output_type": "stream",
     "text": [
      "📍 Training for label: NR-AR\n",
      "Training until validation scores don't improve for 30 rounds\n"
     ]
    },
    {
     "name": "stderr",
     "output_type": "stream",
     "text": [
      "[I 2025-08-04 23:00:50,599] Trial 0 finished with value: 0.7320491993501973 and parameters: {'learning_rate': 0.13402338975175815, 'num_leaves': 47, 'max_depth': 9, 'min_child_samples': 42, 'feature_fraction': 0.9096214406960866, 'bagging_fraction': 0.7371821929763615, 'lambda_l1': 0.9723280700534054, 'lambda_l2': 0.21795035154360598}. Best is trial 0 with value: 0.7320491993501973.\n"
     ]
    },
    {
     "name": "stdout",
     "output_type": "stream",
     "text": [
      "Early stopping, best iteration is:\n",
      "[18]\tvalid_0's auc: 0.732049\n",
      "Training until validation scores don't improve for 30 rounds\n"
     ]
    },
    {
     "name": "stderr",
     "output_type": "stream",
     "text": [
      "[I 2025-08-04 23:00:50,879] Trial 1 finished with value: 0.7464376885588304 and parameters: {'learning_rate': 0.19423906055200094, 'num_leaves': 50, 'max_depth': 4, 'min_child_samples': 13, 'feature_fraction': 0.8470602632442801, 'bagging_fraction': 0.7447417106829443, 'lambda_l1': 0.52595586613831, 'lambda_l2': 0.25784463525149903}. Best is trial 1 with value: 0.7464376885588304.\n"
     ]
    },
    {
     "name": "stdout",
     "output_type": "stream",
     "text": [
      "Early stopping, best iteration is:\n",
      "[4]\tvalid_0's auc: 0.746438\n",
      "Training until validation scores don't improve for 30 rounds\n"
     ]
    },
    {
     "name": "stderr",
     "output_type": "stream",
     "text": [
      "[I 2025-08-04 23:00:51,135] Trial 2 finished with value: 0.7253887212810397 and parameters: {'learning_rate': 0.05329269585746845, 'num_leaves': 77, 'max_depth': 4, 'min_child_samples': 26, 'feature_fraction': 0.7257357084243411, 'bagging_fraction': 0.8629642467942934, 'lambda_l1': 0.24833405024185695, 'lambda_l2': 0.7850070893381071}. Best is trial 1 with value: 0.7464376885588304.\n"
     ]
    },
    {
     "name": "stdout",
     "output_type": "stream",
     "text": [
      "Early stopping, best iteration is:\n",
      "[1]\tvalid_0's auc: 0.725389\n",
      "Training until validation scores don't improve for 30 rounds\n"
     ]
    },
    {
     "name": "stderr",
     "output_type": "stream",
     "text": [
      "[I 2025-08-04 23:00:52,129] Trial 3 finished with value: 0.7440705500116036 and parameters: {'learning_rate': 0.058646137384062026, 'num_leaves': 54, 'max_depth': 12, 'min_child_samples': 42, 'feature_fraction': 0.999630296503811, 'bagging_fraction': 0.6548856750316755, 'lambda_l1': 0.15164194420777877, 'lambda_l2': 0.5629167662231208}. Best is trial 1 with value: 0.7464376885588304.\n"
     ]
    },
    {
     "name": "stdout",
     "output_type": "stream",
     "text": [
      "Early stopping, best iteration is:\n",
      "[28]\tvalid_0's auc: 0.744071\n",
      "Training until validation scores don't improve for 30 rounds\n"
     ]
    },
    {
     "name": "stderr",
     "output_type": "stream",
     "text": [
      "[I 2025-08-04 23:00:52,669] Trial 4 finished with value: 0.6990020886516594 and parameters: {'learning_rate': 0.1042662249264178, 'num_leaves': 50, 'max_depth': 8, 'min_child_samples': 32, 'feature_fraction': 0.7806282866569112, 'bagging_fraction': 0.6549170107339739, 'lambda_l1': 0.8682740580984888, 'lambda_l2': 0.5444796243447982}. Best is trial 1 with value: 0.7464376885588304.\n"
     ]
    },
    {
     "name": "stdout",
     "output_type": "stream",
     "text": [
      "Early stopping, best iteration is:\n",
      "[13]\tvalid_0's auc: 0.699002\n",
      "Training until validation scores don't improve for 30 rounds\n"
     ]
    },
    {
     "name": "stderr",
     "output_type": "stream",
     "text": [
      "[I 2025-08-04 23:00:52,970] Trial 5 finished with value: 0.7319563703875609 and parameters: {'learning_rate': 0.02778095283385485, 'num_leaves': 49, 'max_depth': 5, 'min_child_samples': 48, 'feature_fraction': 0.8312962758645313, 'bagging_fraction': 0.8817742194883575, 'lambda_l1': 0.8939016477566195, 'lambda_l2': 0.9333078967110061}. Best is trial 1 with value: 0.7464376885588304.\n"
     ]
    },
    {
     "name": "stdout",
     "output_type": "stream",
     "text": [
      "Early stopping, best iteration is:\n",
      "[2]\tvalid_0's auc: 0.731956\n",
      "Training until validation scores don't improve for 30 rounds\n"
     ]
    },
    {
     "name": "stderr",
     "output_type": "stream",
     "text": [
      "[I 2025-08-04 23:00:53,581] Trial 6 finished with value: 0.7234161058250174 and parameters: {'learning_rate': 0.18486380081979709, 'num_leaves': 44, 'max_depth': 11, 'min_child_samples': 35, 'feature_fraction': 0.7353190944574959, 'bagging_fraction': 0.8054102014863396, 'lambda_l1': 0.6663003848034049, 'lambda_l2': 0.5606335017097063}. Best is trial 1 with value: 0.7464376885588304.\n"
     ]
    },
    {
     "name": "stdout",
     "output_type": "stream",
     "text": [
      "Early stopping, best iteration is:\n",
      "[11]\tvalid_0's auc: 0.723416\n",
      "Training until validation scores don't improve for 30 rounds\n"
     ]
    },
    {
     "name": "stderr",
     "output_type": "stream",
     "text": [
      "[I 2025-08-04 23:00:54,018] Trial 7 finished with value: 0.7261081457414713 and parameters: {'learning_rate': 0.15678599113681604, 'num_leaves': 52, 'max_depth': 6, 'min_child_samples': 28, 'feature_fraction': 0.6279395825051016, 'bagging_fraction': 0.6851222331761172, 'lambda_l1': 0.10720820429426592, 'lambda_l2': 0.7783249810435253}. Best is trial 1 with value: 0.7464376885588304.\n"
     ]
    },
    {
     "name": "stdout",
     "output_type": "stream",
     "text": [
      "Early stopping, best iteration is:\n",
      "[18]\tvalid_0's auc: 0.726108\n",
      "Training until validation scores don't improve for 30 rounds\n"
     ]
    },
    {
     "name": "stderr",
     "output_type": "stream",
     "text": [
      "[I 2025-08-04 23:00:54,374] Trial 8 finished with value: 0.7372708284984916 and parameters: {'learning_rate': 0.01614351106030257, 'num_leaves': 22, 'max_depth': 7, 'min_child_samples': 35, 'feature_fraction': 0.766084529467497, 'bagging_fraction': 0.9788856010316835, 'lambda_l1': 0.6553972804271021, 'lambda_l2': 0.37667110014006056}. Best is trial 1 with value: 0.7464376885588304.\n"
     ]
    },
    {
     "name": "stdout",
     "output_type": "stream",
     "text": [
      "Early stopping, best iteration is:\n",
      "[4]\tvalid_0's auc: 0.737271\n",
      "Training until validation scores don't improve for 30 rounds\n"
     ]
    },
    {
     "name": "stderr",
     "output_type": "stream",
     "text": [
      "[I 2025-08-04 23:00:54,714] Trial 9 finished with value: 0.7812253423067997 and parameters: {'learning_rate': 0.06822835609251923, 'num_leaves': 68, 'max_depth': 5, 'min_child_samples': 15, 'feature_fraction': 0.8193333658326257, 'bagging_fraction': 0.7396842387424754, 'lambda_l1': 0.035886257038062586, 'lambda_l2': 0.48446728225775315}. Best is trial 9 with value: 0.7812253423067997.\n"
     ]
    },
    {
     "name": "stdout",
     "output_type": "stream",
     "text": [
      "Early stopping, best iteration is:\n",
      "[3]\tvalid_0's auc: 0.781225\n",
      "Training until validation scores don't improve for 30 rounds\n"
     ]
    },
    {
     "name": "stderr",
     "output_type": "stream",
     "text": [
      "[I 2025-08-04 23:00:55,037] Trial 10 finished with value: 0.7611974936180088 and parameters: {'learning_rate': 0.0929388961010506, 'num_leaves': 77, 'max_depth': 3, 'min_child_samples': 10, 'feature_fraction': 0.9269818036475425, 'bagging_fraction': 0.6017104817966596, 'lambda_l1': 0.3318836664563202, 'lambda_l2': 0.018150159324852977}. Best is trial 9 with value: 0.7812253423067997.\n"
     ]
    },
    {
     "name": "stdout",
     "output_type": "stream",
     "text": [
      "Early stopping, best iteration is:\n",
      "[10]\tvalid_0's auc: 0.761197\n",
      "Training until validation scores don't improve for 30 rounds\n"
     ]
    },
    {
     "name": "stderr",
     "output_type": "stream",
     "text": [
      "[I 2025-08-04 23:00:55,336] Trial 11 finished with value: 0.7669528893014621 and parameters: {'learning_rate': 0.09210950174744587, 'num_leaves': 80, 'max_depth': 3, 'min_child_samples': 11, 'feature_fraction': 0.9354531651019101, 'bagging_fraction': 0.6075240384571876, 'lambda_l1': 0.333606669273788, 'lambda_l2': 0.004286344345714899}. Best is trial 9 with value: 0.7812253423067997.\n"
     ]
    },
    {
     "name": "stdout",
     "output_type": "stream",
     "text": [
      "Early stopping, best iteration is:\n",
      "[11]\tvalid_0's auc: 0.766953\n",
      "Training until validation scores don't improve for 30 rounds\n"
     ]
    },
    {
     "name": "stderr",
     "output_type": "stream",
     "text": [
      "[I 2025-08-04 23:00:55,599] Trial 12 finished with value: 0.7580645161290323 and parameters: {'learning_rate': 0.07601170169896299, 'num_leaves': 66, 'max_depth': 3, 'min_child_samples': 18, 'feature_fraction': 0.9190009260180894, 'bagging_fraction': 0.7381861553632943, 'lambda_l1': 0.007426690569814414, 'lambda_l2': 0.2368271210623718}. Best is trial 9 with value: 0.7812253423067997.\n"
     ]
    },
    {
     "name": "stdout",
     "output_type": "stream",
     "text": [
      "Early stopping, best iteration is:\n",
      "[3]\tvalid_0's auc: 0.758065\n",
      "Training until validation scores don't improve for 30 rounds\n"
     ]
    },
    {
     "name": "stderr",
     "output_type": "stream",
     "text": [
      "[I 2025-08-04 23:00:55,965] Trial 13 finished with value: 0.7528196797400789 and parameters: {'learning_rate': 0.12357919934036365, 'num_leaves': 66, 'max_depth': 5, 'min_child_samples': 20, 'feature_fraction': 0.98316271796918, 'bagging_fraction': 0.6268626762791494, 'lambda_l1': 0.3898064520632738, 'lambda_l2': 0.007787419040191812}. Best is trial 9 with value: 0.7812253423067997.\n"
     ]
    },
    {
     "name": "stdout",
     "output_type": "stream",
     "text": [
      "Early stopping, best iteration is:\n",
      "[2]\tvalid_0's auc: 0.75282\n",
      "Training until validation scores don't improve for 30 rounds\n"
     ]
    },
    {
     "name": "stderr",
     "output_type": "stream",
     "text": [
      "[I 2025-08-04 23:00:56,431] Trial 14 finished with value: 0.7365514040380599 and parameters: {'learning_rate': 0.07275280761542817, 'num_leaves': 66, 'max_depth': 6, 'min_child_samples': 18, 'feature_fraction': 0.868408665771004, 'bagging_fraction': 0.8056119902195487, 'lambda_l1': 0.02136469429624155, 'lambda_l2': 0.4032144842630647}. Best is trial 9 with value: 0.7812253423067997.\n"
     ]
    },
    {
     "name": "stdout",
     "output_type": "stream",
     "text": [
      "Early stopping, best iteration is:\n",
      "[6]\tvalid_0's auc: 0.736551\n",
      "Training until validation scores don't improve for 30 rounds\n"
     ]
    },
    {
     "name": "stderr",
     "output_type": "stream",
     "text": [
      "[I 2025-08-04 23:00:56,721] Trial 15 finished with value: 0.7391274077512183 and parameters: {'learning_rate': 0.03890300091767407, 'num_leaves': 79, 'max_depth': 3, 'min_child_samples': 23, 'feature_fraction': 0.6552071877373323, 'bagging_fraction': 0.7030564893588492, 'lambda_l1': 0.24282648892242018, 'lambda_l2': 0.6981610607609209}. Best is trial 9 with value: 0.7812253423067997.\n"
     ]
    },
    {
     "name": "stdout",
     "output_type": "stream",
     "text": [
      "Early stopping, best iteration is:\n",
      "[18]\tvalid_0's auc: 0.739127\n",
      "Training until validation scores don't improve for 30 rounds\n"
     ]
    },
    {
     "name": "stderr",
     "output_type": "stream",
     "text": [
      "[I 2025-08-04 23:00:57,062] Trial 16 finished with value: 0.7538407983290786 and parameters: {'learning_rate': 0.0881230797930494, 'num_leaves': 72, 'max_depth': 5, 'min_child_samples': 10, 'feature_fraction': 0.6891392475000191, 'bagging_fraction': 0.8809916198123758, 'lambda_l1': 0.46170249461706325, 'lambda_l2': 0.11500596753857373}. Best is trial 9 with value: 0.7812253423067997.\n"
     ]
    },
    {
     "name": "stdout",
     "output_type": "stream",
     "text": [
      "Early stopping, best iteration is:\n",
      "[2]\tvalid_0's auc: 0.753841\n",
      "Training until validation scores don't improve for 30 rounds\n"
     ]
    },
    {
     "name": "stderr",
     "output_type": "stream",
     "text": [
      "[I 2025-08-04 23:00:57,825] Trial 17 finished with value: 0.7676258992805755 and parameters: {'learning_rate': 0.12405576391170965, 'num_leaves': 58, 'max_depth': 9, 'min_child_samples': 15, 'feature_fraction': 0.9579454850843474, 'bagging_fraction': 0.9829718877580934, 'lambda_l1': 0.17235013220778891, 'lambda_l2': 0.3860148981961539}. Best is trial 9 with value: 0.7812253423067997.\n"
     ]
    },
    {
     "name": "stdout",
     "output_type": "stream",
     "text": [
      "Early stopping, best iteration is:\n",
      "[7]\tvalid_0's auc: 0.767626\n",
      "Training until validation scores don't improve for 30 rounds\n"
     ]
    },
    {
     "name": "stderr",
     "output_type": "stream",
     "text": [
      "[I 2025-08-04 23:00:58,519] Trial 18 finished with value: 0.7838477605012764 and parameters: {'learning_rate': 0.12881698731817376, 'num_leaves': 59, 'max_depth': 10, 'min_child_samples': 15, 'feature_fraction': 0.8120616953911662, 'bagging_fraction': 0.987315737717703, 'lambda_l1': 0.1538927095235077, 'lambda_l2': 0.4173779329325733}. Best is trial 18 with value: 0.7838477605012764.\n"
     ]
    },
    {
     "name": "stdout",
     "output_type": "stream",
     "text": [
      "Early stopping, best iteration is:\n",
      "[6]\tvalid_0's auc: 0.783848\n",
      "Training until validation scores don't improve for 30 rounds\n"
     ]
    },
    {
     "name": "stderr",
     "output_type": "stream",
     "text": [
      "[I 2025-08-04 23:00:59,092] Trial 19 finished with value: 0.6933163146901833 and parameters: {'learning_rate': 0.14992516728759037, 'num_leaves': 39, 'max_depth': 10, 'min_child_samples': 22, 'feature_fraction': 0.8130668029808618, 'bagging_fraction': 0.925047453057256, 'lambda_l1': 0.09193390984789584, 'lambda_l2': 0.4638380792415761}. Best is trial 18 with value: 0.7838477605012764.\n"
     ]
    },
    {
     "name": "stdout",
     "output_type": "stream",
     "text": [
      "Early stopping, best iteration is:\n",
      "[1]\tvalid_0's auc: 0.693316\n",
      "Training until validation scores don't improve for 30 rounds\n"
     ]
    },
    {
     "name": "stderr",
     "output_type": "stream",
     "text": [
      "[I 2025-08-04 23:00:59,949] Trial 20 finished with value: 0.6961708052912509 and parameters: {'learning_rate': 0.164326496180071, 'num_leaves': 60, 'max_depth': 12, 'min_child_samples': 16, 'feature_fraction': 0.8701857535636263, 'bagging_fraction': 0.8325269385475692, 'lambda_l1': 0.24173999976946314, 'lambda_l2': 0.7048702103240273}. Best is trial 18 with value: 0.7838477605012764.\n"
     ]
    },
    {
     "name": "stdout",
     "output_type": "stream",
     "text": [
      "Early stopping, best iteration is:\n",
      "[11]\tvalid_0's auc: 0.696171\n",
      "Training until validation scores don't improve for 30 rounds\n"
     ]
    },
    {
     "name": "stderr",
     "output_type": "stream",
     "text": [
      "[I 2025-08-04 23:01:00,644] Trial 21 finished with value: 0.7527500580181017 and parameters: {'learning_rate': 0.12441203585298496, 'num_leaves': 58, 'max_depth': 9, 'min_child_samples': 15, 'feature_fraction': 0.7693177244005236, 'bagging_fraction': 0.9992962864683057, 'lambda_l1': 0.17506684687205615, 'lambda_l2': 0.3475097698392068}. Best is trial 18 with value: 0.7838477605012764.\n"
     ]
    },
    {
     "name": "stdout",
     "output_type": "stream",
     "text": [
      "Early stopping, best iteration is:\n",
      "[9]\tvalid_0's auc: 0.75275\n",
      "Training until validation scores don't improve for 30 rounds\n"
     ]
    },
    {
     "name": "stderr",
     "output_type": "stream",
     "text": [
      "[I 2025-08-04 23:01:02,011] Trial 22 finished with value: 0.7021118588999768 and parameters: {'learning_rate': 0.1138009732829048, 'num_leaves': 59, 'max_depth': 10, 'min_child_samples': 24, 'feature_fraction': 0.8905723571977143, 'bagging_fraction': 0.94689820592243, 'lambda_l1': 0.003116418700243359, 'lambda_l2': 0.4698181501098549}. Best is trial 18 with value: 0.7838477605012764.\n"
     ]
    },
    {
     "name": "stdout",
     "output_type": "stream",
     "text": [
      "Early stopping, best iteration is:\n",
      "[48]\tvalid_0's auc: 0.702112\n",
      "Training until validation scores don't improve for 30 rounds\n"
     ]
    },
    {
     "name": "stderr",
     "output_type": "stream",
     "text": [
      "[I 2025-08-04 23:01:02,642] Trial 23 finished with value: 0.7444186586214899 and parameters: {'learning_rate': 0.14065975411809195, 'num_leaves': 37, 'max_depth': 8, 'min_child_samples': 15, 'feature_fraction': 0.9674024535974428, 'bagging_fraction': 0.9207370330821998, 'lambda_l1': 0.17112338192193463, 'lambda_l2': 0.3064666386210434}. Best is trial 18 with value: 0.7838477605012764.\n"
     ]
    },
    {
     "name": "stdout",
     "output_type": "stream",
     "text": [
      "Early stopping, best iteration is:\n",
      "[5]\tvalid_0's auc: 0.744419\n",
      "Training until validation scores don't improve for 30 rounds\n"
     ]
    },
    {
     "name": "stderr",
     "output_type": "stream",
     "text": [
      "[I 2025-08-04 23:01:03,368] Trial 24 finished with value: 0.720584822464609 and parameters: {'learning_rate': 0.10975493562664818, 'num_leaves': 68, 'max_depth': 10, 'min_child_samples': 20, 'feature_fraction': 0.794888566444678, 'bagging_fraction': 0.9581815113461464, 'lambda_l1': 0.28880700081216576, 'lambda_l2': 0.6383545344970972}. Best is trial 18 with value: 0.7838477605012764.\n"
     ]
    },
    {
     "name": "stdout",
     "output_type": "stream",
     "text": [
      "Early stopping, best iteration is:\n",
      "[12]\tvalid_0's auc: 0.720585\n",
      "Training until validation scores don't improve for 30 rounds\n"
     ]
    },
    {
     "name": "stderr",
     "output_type": "stream",
     "text": [
      "[I 2025-08-04 23:01:04,022] Trial 25 finished with value: 0.7603156184729635 and parameters: {'learning_rate': 0.16734696329559315, 'num_leaves': 72, 'max_depth': 9, 'min_child_samples': 15, 'feature_fraction': 0.7262470241040643, 'bagging_fraction': 0.7701448164187213, 'lambda_l1': 0.0989907358051424, 'lambda_l2': 0.4249348304708994}. Best is trial 18 with value: 0.7838477605012764.\n"
     ]
    },
    {
     "name": "stdout",
     "output_type": "stream",
     "text": [
      "Early stopping, best iteration is:\n",
      "[7]\tvalid_0's auc: 0.760316\n",
      "Training until validation scores don't improve for 30 rounds\n"
     ]
    },
    {
     "name": "stderr",
     "output_type": "stream",
     "text": [
      "[I 2025-08-04 23:01:04,709] Trial 26 finished with value: 0.757461127871896 and parameters: {'learning_rate': 0.07025088984397904, 'num_leaves': 57, 'max_depth': 7, 'min_child_samples': 13, 'feature_fraction': 0.8347047898828662, 'bagging_fraction': 0.9992992815164807, 'lambda_l1': 0.4467281108591118, 'lambda_l2': 0.15844710221290426}. Best is trial 18 with value: 0.7838477605012764.\n"
     ]
    },
    {
     "name": "stdout",
     "output_type": "stream",
     "text": [
      "Early stopping, best iteration is:\n",
      "[24]\tvalid_0's auc: 0.757461\n",
      "Training until validation scores don't improve for 30 rounds\n"
     ]
    },
    {
     "name": "stderr",
     "output_type": "stream",
     "text": [
      "[I 2025-08-04 23:01:05,714] Trial 27 finished with value: 0.746344859596194 and parameters: {'learning_rate': 0.13589000723001668, 'num_leaves': 62, 'max_depth': 11, 'min_child_samples': 19, 'feature_fraction': 0.9512168192729609, 'bagging_fraction': 0.9127023378589023, 'lambda_l1': 0.5693865792841619, 'lambda_l2': 0.3211327387363777}. Best is trial 18 with value: 0.7838477605012764.\n"
     ]
    },
    {
     "name": "stdout",
     "output_type": "stream",
     "text": [
      "Early stopping, best iteration is:\n",
      "[23]\tvalid_0's auc: 0.746345\n",
      "Training until validation scores don't improve for 30 rounds\n"
     ]
    },
    {
     "name": "stderr",
     "output_type": "stream",
     "text": [
      "[I 2025-08-04 23:01:06,147] Trial 28 finished with value: 0.7416802042237178 and parameters: {'learning_rate': 0.04777079435209925, 'num_leaves': 72, 'max_depth': 8, 'min_child_samples': 29, 'feature_fraction': 0.6875307178382655, 'bagging_fraction': 0.8477008009643623, 'lambda_l1': 0.0645761658158177, 'lambda_l2': 0.5057692996272111}. Best is trial 18 with value: 0.7838477605012764.\n"
     ]
    },
    {
     "name": "stdout",
     "output_type": "stream",
     "text": [
      "Early stopping, best iteration is:\n",
      "[3]\tvalid_0's auc: 0.74168\n",
      "Training until validation scores don't improve for 30 rounds\n"
     ]
    },
    {
     "name": "stderr",
     "output_type": "stream",
     "text": [
      "[I 2025-08-04 23:01:07,358] Trial 29 finished with value: 0.6949640287769784 and parameters: {'learning_rate': 0.12651236489769319, 'num_leaves': 44, 'max_depth': 11, 'min_child_samples': 25, 'feature_fraction': 0.8945205304435542, 'bagging_fraction': 0.7807770223079146, 'lambda_l1': 0.1767389375366754, 'lambda_l2': 0.6081594182104195}. Best is trial 18 with value: 0.7838477605012764.\n"
     ]
    },
    {
     "name": "stdout",
     "output_type": "stream",
     "text": [
      "Early stopping, best iteration is:\n",
      "[44]\tvalid_0's auc: 0.694964\n"
     ]
    },
    {
     "name": "stderr",
     "output_type": "stream",
     "text": [
      "[I 2025-08-04 23:01:10,742] A new study created in memory with name: no-name-8b608183-1c7d-4b08-8f38-ed317b743919\n"
     ]
    },
    {
     "name": "stdout",
     "output_type": "stream",
     "text": [
      "📍 Training for label: NR-AR-LBD\n",
      "Training until validation scores don't improve for 30 rounds\n"
     ]
    },
    {
     "name": "stderr",
     "output_type": "stream",
     "text": [
      "[I 2025-08-04 23:01:11,610] Trial 0 finished with value: 0.8741593980957454 and parameters: {'learning_rate': 0.12196172397516229, 'num_leaves': 22, 'max_depth': 8, 'min_child_samples': 11, 'feature_fraction': 0.8598781146836394, 'bagging_fraction': 0.7666095708187199, 'lambda_l1': 0.667391815197583, 'lambda_l2': 0.8885262713969888}. Best is trial 0 with value: 0.8741593980957454.\n"
     ]
    },
    {
     "name": "stdout",
     "output_type": "stream",
     "text": [
      "Early stopping, best iteration is:\n",
      "[21]\tvalid_0's auc: 0.874159\n",
      "Training until validation scores don't improve for 30 rounds\n"
     ]
    },
    {
     "name": "stderr",
     "output_type": "stream",
     "text": [
      "[I 2025-08-04 23:01:12,515] Trial 1 finished with value: 0.8973300486051002 and parameters: {'learning_rate': 0.042437813140452384, 'num_leaves': 78, 'max_depth': 9, 'min_child_samples': 44, 'feature_fraction': 0.8105694863607745, 'bagging_fraction': 0.6088413488099338, 'lambda_l1': 0.7664933125688562, 'lambda_l2': 0.7935956214127233}. Best is trial 1 with value: 0.8973300486051002.\n"
     ]
    },
    {
     "name": "stdout",
     "output_type": "stream",
     "text": [
      "Early stopping, best iteration is:\n",
      "[57]\tvalid_0's auc: 0.89733\n",
      "Training until validation scores don't improve for 30 rounds\n"
     ]
    },
    {
     "name": "stderr",
     "output_type": "stream",
     "text": [
      "[I 2025-08-04 23:01:13,674] Trial 2 finished with value: 0.8981956188827485 and parameters: {'learning_rate': 0.04001813987763117, 'num_leaves': 67, 'max_depth': 9, 'min_child_samples': 36, 'feature_fraction': 0.9008797852818697, 'bagging_fraction': 0.8189258786480983, 'lambda_l1': 0.1175847320071296, 'lambda_l2': 0.3639432820390991}. Best is trial 2 with value: 0.8981956188827485.\n"
     ]
    },
    {
     "name": "stdout",
     "output_type": "stream",
     "text": [
      "Did not meet early stopping. Best iteration is:\n",
      "[74]\tvalid_0's auc: 0.898196\n",
      "Training until validation scores don't improve for 30 rounds\n"
     ]
    },
    {
     "name": "stderr",
     "output_type": "stream",
     "text": [
      "[I 2025-08-04 23:01:13,949] Trial 3 finished with value: 0.919968040482056 and parameters: {'learning_rate': 0.11743767971582478, 'num_leaves': 21, 'max_depth': 3, 'min_child_samples': 36, 'feature_fraction': 0.8953154872558895, 'bagging_fraction': 0.7848615268114196, 'lambda_l1': 0.9442947942938585, 'lambda_l2': 0.234481492376163}. Best is trial 3 with value: 0.919968040482056.\n"
     ]
    },
    {
     "name": "stdout",
     "output_type": "stream",
     "text": [
      "Early stopping, best iteration is:\n",
      "[26]\tvalid_0's auc: 0.919968\n",
      "Training until validation scores don't improve for 30 rounds\n"
     ]
    },
    {
     "name": "stderr",
     "output_type": "stream",
     "text": [
      "[I 2025-08-04 23:01:14,628] Trial 4 finished with value: 0.9050535987748851 and parameters: {'learning_rate': 0.02540246814007637, 'num_leaves': 67, 'max_depth': 6, 'min_child_samples': 44, 'feature_fraction': 0.6971494614366975, 'bagging_fraction': 0.6368800043253752, 'lambda_l1': 0.836906312686733, 'lambda_l2': 0.18414400576955947}. Best is trial 3 with value: 0.919968040482056.\n"
     ]
    },
    {
     "name": "stdout",
     "output_type": "stream",
     "text": [
      "Did not meet early stopping. Best iteration is:\n",
      "[100]\tvalid_0's auc: 0.905054\n",
      "Training until validation scores don't improve for 30 rounds\n"
     ]
    },
    {
     "name": "stderr",
     "output_type": "stream",
     "text": [
      "[I 2025-08-04 23:01:15,297] Trial 5 finished with value: 0.8747586390571943 and parameters: {'learning_rate': 0.18796840360097108, 'num_leaves': 24, 'max_depth': 8, 'min_child_samples': 47, 'feature_fraction': 0.9447069250727138, 'bagging_fraction': 0.7636995328319203, 'lambda_l1': 0.16294131142061563, 'lambda_l2': 0.6632386615604715}. Best is trial 3 with value: 0.919968040482056.\n"
     ]
    },
    {
     "name": "stdout",
     "output_type": "stream",
     "text": [
      "Early stopping, best iteration is:\n",
      "[31]\tvalid_0's auc: 0.874759\n",
      "Training until validation scores don't improve for 30 rounds\n"
     ]
    },
    {
     "name": "stderr",
     "output_type": "stream",
     "text": [
      "[I 2025-08-04 23:01:15,886] Trial 6 finished with value: 0.8797523137359344 and parameters: {'learning_rate': 0.16441850056135468, 'num_leaves': 70, 'max_depth': 5, 'min_child_samples': 10, 'feature_fraction': 0.8699988802225768, 'bagging_fraction': 0.8306927033755998, 'lambda_l1': 0.8758152294262311, 'lambda_l2': 0.8175553985439616}. Best is trial 3 with value: 0.919968040482056.\n"
     ]
    },
    {
     "name": "stdout",
     "output_type": "stream",
     "text": [
      "Early stopping, best iteration is:\n",
      "[38]\tvalid_0's auc: 0.879752\n",
      "Training until validation scores don't improve for 30 rounds\n"
     ]
    },
    {
     "name": "stderr",
     "output_type": "stream",
     "text": [
      "[I 2025-08-04 23:01:16,352] Trial 7 finished with value: 0.9020241028031162 and parameters: {'learning_rate': 0.018592106188590373, 'num_leaves': 38, 'max_depth': 9, 'min_child_samples': 25, 'feature_fraction': 0.9352162970571608, 'bagging_fraction': 0.7959193568966412, 'lambda_l1': 0.44739644886399166, 'lambda_l2': 0.22545579852128317}. Best is trial 3 with value: 0.919968040482056.\n"
     ]
    },
    {
     "name": "stdout",
     "output_type": "stream",
     "text": [
      "Early stopping, best iteration is:\n",
      "[7]\tvalid_0's auc: 0.902024\n",
      "Training until validation scores don't improve for 30 rounds\n"
     ]
    },
    {
     "name": "stderr",
     "output_type": "stream",
     "text": [
      "[I 2025-08-04 23:01:17,049] Trial 8 finished with value: 0.8971968839470005 and parameters: {'learning_rate': 0.039323765060529016, 'num_leaves': 66, 'max_depth': 11, 'min_child_samples': 29, 'feature_fraction': 0.622415327013894, 'bagging_fraction': 0.9675166185281419, 'lambda_l1': 0.2732381718801442, 'lambda_l2': 0.15491621437538838}. Best is trial 3 with value: 0.919968040482056.\n"
     ]
    },
    {
     "name": "stdout",
     "output_type": "stream",
     "text": [
      "Early stopping, best iteration is:\n",
      "[39]\tvalid_0's auc: 0.897197\n",
      "Training until validation scores don't improve for 30 rounds\n"
     ]
    },
    {
     "name": "stderr",
     "output_type": "stream",
     "text": [
      "[I 2025-08-04 23:01:17,727] Trial 9 finished with value: 0.9320194420400826 and parameters: {'learning_rate': 0.10632835190580975, 'num_leaves': 74, 'max_depth': 6, 'min_child_samples': 40, 'feature_fraction': 0.7493682828826269, 'bagging_fraction': 0.772215879997155, 'lambda_l1': 0.23017061100081782, 'lambda_l2': 0.32754542327783465}. Best is trial 9 with value: 0.9320194420400826.\n"
     ]
    },
    {
     "name": "stdout",
     "output_type": "stream",
     "text": [
      "Early stopping, best iteration is:\n",
      "[53]\tvalid_0's auc: 0.932019\n",
      "Training until validation scores don't improve for 30 rounds\n"
     ]
    },
    {
     "name": "stderr",
     "output_type": "stream",
     "text": [
      "[I 2025-08-04 23:01:18,120] Trial 10 finished with value: 0.8914042213196618 and parameters: {'learning_rate': 0.07946846454278478, 'num_leaves': 51, 'max_depth': 3, 'min_child_samples': 21, 'feature_fraction': 0.7291272769531031, 'bagging_fraction': 0.9520709869329766, 'lambda_l1': 0.4120703695045114, 'lambda_l2': 0.0004115316513181311}. Best is trial 9 with value: 0.9320194420400826.\n"
     ]
    },
    {
     "name": "stdout",
     "output_type": "stream",
     "text": [
      "Did not meet early stopping. Best iteration is:\n",
      "[74]\tvalid_0's auc: 0.891404\n",
      "Training until validation scores don't improve for 30 rounds\n"
     ]
    },
    {
     "name": "stderr",
     "output_type": "stream",
     "text": [
      "[I 2025-08-04 23:01:18,465] Trial 11 finished with value: 0.908715626872628 and parameters: {'learning_rate': 0.11236161264946214, 'num_leaves': 49, 'max_depth': 3, 'min_child_samples': 36, 'feature_fraction': 0.7616288909919333, 'bagging_fraction': 0.709060587002618, 'lambda_l1': 0.6021586333139706, 'lambda_l2': 0.4685329784823509}. Best is trial 9 with value: 0.9320194420400826.\n"
     ]
    },
    {
     "name": "stdout",
     "output_type": "stream",
     "text": [
      "Early stopping, best iteration is:\n",
      "[46]\tvalid_0's auc: 0.908716\n",
      "Training until validation scores don't improve for 30 rounds\n"
     ]
    },
    {
     "name": "stderr",
     "output_type": "stream",
     "text": [
      "[I 2025-08-04 23:01:18,860] Trial 12 finished with value: 0.8880085225381184 and parameters: {'learning_rate': 0.14107674296425254, 'num_leaves': 36, 'max_depth': 5, 'min_child_samples': 36, 'feature_fraction': 0.9912573033158454, 'bagging_fraction': 0.8813950100648466, 'lambda_l1': 0.9918603107068148, 'lambda_l2': 0.38104164479264835}. Best is trial 9 with value: 0.9320194420400826.\n"
     ]
    },
    {
     "name": "stdout",
     "output_type": "stream",
     "text": [
      "Early stopping, best iteration is:\n",
      "[11]\tvalid_0's auc: 0.888009\n",
      "Training until validation scores don't improve for 30 rounds\n"
     ]
    },
    {
     "name": "stderr",
     "output_type": "stream",
     "text": [
      "[I 2025-08-04 23:01:19,460] Trial 13 finished with value: 0.9071842333044811 and parameters: {'learning_rate': 0.08540276995639912, 'num_leaves': 55, 'max_depth': 6, 'min_child_samples': 50, 'feature_fraction': 0.8182010565950739, 'bagging_fraction': 0.7078827272600361, 'lambda_l1': 0.33595735977116714, 'lambda_l2': 0.5526168088773726}. Best is trial 9 with value: 0.9320194420400826.\n"
     ]
    },
    {
     "name": "stdout",
     "output_type": "stream",
     "text": [
      "Early stopping, best iteration is:\n",
      "[38]\tvalid_0's auc: 0.907184\n",
      "Training until validation scores don't improve for 30 rounds\n"
     ]
    },
    {
     "name": "stderr",
     "output_type": "stream",
     "text": [
      "[I 2025-08-04 23:01:19,831] Trial 14 finished with value: 0.9207004461016045 and parameters: {'learning_rate': 0.07949992007745306, 'num_leaves': 34, 'max_depth': 4, 'min_child_samples': 40, 'feature_fraction': 0.658089602465632, 'bagging_fraction': 0.8886235372320681, 'lambda_l1': 0.06519325249609242, 'lambda_l2': 0.27660786092287326}. Best is trial 9 with value: 0.9320194420400826.\n"
     ]
    },
    {
     "name": "stdout",
     "output_type": "stream",
     "text": [
      "Early stopping, best iteration is:\n",
      "[32]\tvalid_0's auc: 0.9207\n",
      "Training until validation scores don't improve for 30 rounds\n"
     ]
    },
    {
     "name": "stderr",
     "output_type": "stream",
     "text": [
      "[I 2025-08-04 23:01:20,344] Trial 15 finished with value: 0.9051867634329849 and parameters: {'learning_rate': 0.07482510541169965, 'num_leaves': 36, 'max_depth': 5, 'min_child_samples': 42, 'feature_fraction': 0.639674588693053, 'bagging_fraction': 0.8885184557832282, 'lambda_l1': 0.0004455435554367171, 'lambda_l2': 0.04508962334236499}. Best is trial 9 with value: 0.9320194420400826.\n"
     ]
    },
    {
     "name": "stdout",
     "output_type": "stream",
     "text": [
      "Early stopping, best iteration is:\n",
      "[41]\tvalid_0's auc: 0.905187\n",
      "Training until validation scores don't improve for 30 rounds\n"
     ]
    },
    {
     "name": "stderr",
     "output_type": "stream",
     "text": [
      "[I 2025-08-04 23:01:21,136] Trial 16 finished with value: 0.8826819362141287 and parameters: {'learning_rate': 0.06500853427381928, 'num_leaves': 43, 'max_depth': 12, 'min_child_samples': 30, 'feature_fraction': 0.6782636515623879, 'bagging_fraction': 0.8845144325538984, 'lambda_l1': 0.01244390107383661, 'lambda_l2': 0.3458144977118006}. Best is trial 9 with value: 0.9320194420400826.\n"
     ]
    },
    {
     "name": "stdout",
     "output_type": "stream",
     "text": [
      "Early stopping, best iteration is:\n",
      "[32]\tvalid_0's auc: 0.882682\n",
      "Training until validation scores don't improve for 30 rounds\n"
     ]
    },
    {
     "name": "stderr",
     "output_type": "stream",
     "text": [
      "[I 2025-08-04 23:01:21,689] Trial 17 finished with value: 0.8750915507024435 and parameters: {'learning_rate': 0.09632058992179178, 'num_leaves': 79, 'max_depth': 6, 'min_child_samples': 40, 'feature_fraction': 0.7453076918295686, 'bagging_fraction': 0.9954772510376702, 'lambda_l1': 0.2354810432979818, 'lambda_l2': 0.6027636070346027}. Best is trial 9 with value: 0.9320194420400826.\n"
     ]
    },
    {
     "name": "stdout",
     "output_type": "stream",
     "text": [
      "Early stopping, best iteration is:\n",
      "[28]\tvalid_0's auc: 0.875092\n",
      "Training until validation scores don't improve for 30 rounds\n"
     ]
    },
    {
     "name": "stderr",
     "output_type": "stream",
     "text": [
      "[I 2025-08-04 23:01:22,011] Trial 18 finished with value: 0.8850123177308742 and parameters: {'learning_rate': 0.13896929492020516, 'num_leaves': 29, 'max_depth': 4, 'min_child_samples': 21, 'feature_fraction': 0.6762583970125091, 'bagging_fraction': 0.7053407062520567, 'lambda_l1': 0.12903540305135647, 'lambda_l2': 0.4533089284769567}. Best is trial 9 with value: 0.9320194420400826.\n"
     ]
    },
    {
     "name": "stdout",
     "output_type": "stream",
     "text": [
      "Early stopping, best iteration is:\n",
      "[27]\tvalid_0's auc: 0.885012\n",
      "Training until validation scores don't improve for 30 rounds\n"
     ]
    },
    {
     "name": "stderr",
     "output_type": "stream",
     "text": [
      "[I 2025-08-04 23:01:22,527] Trial 19 finished with value: 0.909181703175977 and parameters: {'learning_rate': 0.06113581138827176, 'num_leaves': 60, 'max_depth': 7, 'min_child_samples': 40, 'feature_fraction': 0.6045240060144792, 'bagging_fraction': 0.8580992846091365, 'lambda_l1': 0.3181422511049024, 'lambda_l2': 0.1117251220922314}. Best is trial 9 with value: 0.9320194420400826.\n"
     ]
    },
    {
     "name": "stdout",
     "output_type": "stream",
     "text": [
      "Early stopping, best iteration is:\n",
      "[25]\tvalid_0's auc: 0.909182\n",
      "Training until validation scores don't improve for 30 rounds\n"
     ]
    },
    {
     "name": "stderr",
     "output_type": "stream",
     "text": [
      "[I 2025-08-04 23:01:22,896] Trial 20 finished with value: 0.893335108862108 and parameters: {'learning_rate': 0.14063369552238875, 'num_leaves': 29, 'max_depth': 4, 'min_child_samples': 47, 'feature_fraction': 0.7749349600331877, 'bagging_fraction': 0.9350230945945173, 'lambda_l1': 0.5122364297006141, 'lambda_l2': 0.3025147065066143}. Best is trial 9 with value: 0.9320194420400826.\n"
     ]
    },
    {
     "name": "stdout",
     "output_type": "stream",
     "text": [
      "Early stopping, best iteration is:\n",
      "[30]\tvalid_0's auc: 0.893335\n",
      "Training until validation scores don't improve for 30 rounds\n"
     ]
    },
    {
     "name": "stderr",
     "output_type": "stream",
     "text": [
      "[I 2025-08-04 23:01:23,328] Trial 21 finished with value: 0.8805513016845329 and parameters: {'learning_rate': 0.11323729664790164, 'num_leaves': 20, 'max_depth': 4, 'min_child_samples': 34, 'feature_fraction': 0.7186048352240396, 'bagging_fraction': 0.751887660709784, 'lambda_l1': 0.08746851027127675, 'lambda_l2': 0.27151420519339736}. Best is trial 9 with value: 0.9320194420400826.\n"
     ]
    },
    {
     "name": "stdout",
     "output_type": "stream",
     "text": [
      "Early stopping, best iteration is:\n",
      "[50]\tvalid_0's auc: 0.880551\n",
      "Training until validation scores don't improve for 30 rounds\n"
     ]
    },
    {
     "name": "stderr",
     "output_type": "stream",
     "text": [
      "[I 2025-08-04 23:01:23,616] Trial 22 finished with value: 0.9083827152273786 and parameters: {'learning_rate': 0.09615832463534951, 'num_leaves': 30, 'max_depth': 3, 'min_child_samples': 33, 'feature_fraction': 0.65069050210083, 'bagging_fraction': 0.795804299240321, 'lambda_l1': 0.21213985044767456, 'lambda_l2': 0.24689229269361151}. Best is trial 9 with value: 0.9320194420400826.\n"
     ]
    },
    {
     "name": "stdout",
     "output_type": "stream",
     "text": [
      "Early stopping, best iteration is:\n",
      "[37]\tvalid_0's auc: 0.908383\n",
      "Training until validation scores don't improve for 30 rounds\n"
     ]
    },
    {
     "name": "stderr",
     "output_type": "stream",
     "text": [
      "[I 2025-08-04 23:01:23,937] Trial 23 finished with value: 0.9034889140422131 and parameters: {'learning_rate': 0.1580867735005846, 'num_leaves': 43, 'max_depth': 4, 'min_child_samples': 39, 'feature_fraction': 0.8343017047517184, 'bagging_fraction': 0.6745846626121004, 'lambda_l1': 0.9991348433715694, 'lambda_l2': 0.4268239461757708}. Best is trial 9 with value: 0.9320194420400826.\n"
     ]
    },
    {
     "name": "stdout",
     "output_type": "stream",
     "text": [
      "Early stopping, best iteration is:\n",
      "[14]\tvalid_0's auc: 0.903489\n",
      "Training until validation scores don't improve for 30 rounds\n"
     ]
    },
    {
     "name": "stderr",
     "output_type": "stream",
     "text": [
      "[I 2025-08-04 23:01:24,559] Trial 24 finished with value: 0.8939343498235568 and parameters: {'learning_rate': 0.12573789572655975, 'num_leaves': 26, 'max_depth': 7, 'min_child_samples': 26, 'feature_fraction': 0.7933562267788838, 'bagging_fraction': 0.7410604120566598, 'lambda_l1': 0.6173798732157425, 'lambda_l2': 0.13829498661070613}. Best is trial 9 with value: 0.9320194420400826.\n"
     ]
    },
    {
     "name": "stdout",
     "output_type": "stream",
     "text": [
      "Early stopping, best iteration is:\n",
      "[31]\tvalid_0's auc: 0.893934\n",
      "Training until validation scores don't improve for 30 rounds\n"
     ]
    },
    {
     "name": "stderr",
     "output_type": "stream",
     "text": [
      "[I 2025-08-04 23:01:24,985] Trial 25 finished with value: 0.8889406751448166 and parameters: {'learning_rate': 0.09782678718347469, 'num_leaves': 32, 'max_depth': 5, 'min_child_samples': 32, 'feature_fraction': 0.884873691317807, 'bagging_fraction': 0.9127877555737098, 'lambda_l1': 0.35624851040204714, 'lambda_l2': 0.5329346979469709}. Best is trial 9 with value: 0.9320194420400826.\n"
     ]
    },
    {
     "name": "stdout",
     "output_type": "stream",
     "text": [
      "Early stopping, best iteration is:\n",
      "[17]\tvalid_0's auc: 0.888941\n",
      "Training until validation scores don't improve for 30 rounds\n"
     ]
    },
    {
     "name": "stderr",
     "output_type": "stream",
     "text": [
      "[I 2025-08-04 23:01:25,257] Trial 26 finished with value: 0.9333177974565551 and parameters: {'learning_rate': 0.0530541985327026, 'num_leaves': 45, 'max_depth': 3, 'min_child_samples': 38, 'feature_fraction': 0.9167751754513033, 'bagging_fraction': 0.8425792278850566, 'lambda_l1': 0.5234634706777581, 'lambda_l2': 0.298075888345388}. Best is trial 26 with value: 0.9333177974565551.\n"
     ]
    },
    {
     "name": "stdout",
     "output_type": "stream",
     "text": [
      "Early stopping, best iteration is:\n",
      "[12]\tvalid_0's auc: 0.933318\n",
      "Training until validation scores don't improve for 30 rounds\n"
     ]
    },
    {
     "name": "stderr",
     "output_type": "stream",
     "text": [
      "[I 2025-08-04 23:01:25,751] Trial 27 finished with value: 0.9010586590318928 and parameters: {'learning_rate': 0.05823995264752588, 'num_leaves': 44, 'max_depth': 4, 'min_child_samples': 45, 'feature_fraction': 0.997416744855626, 'bagging_fraction': 0.8490366351703883, 'lambda_l1': 0.5199118284992819, 'lambda_l2': 0.314961428657532}. Best is trial 26 with value: 0.9333177974565551.\n"
     ]
    },
    {
     "name": "stdout",
     "output_type": "stream",
     "text": [
      "Early stopping, best iteration is:\n",
      "[48]\tvalid_0's auc: 0.901059\n",
      "Training until validation scores don't improve for 30 rounds\n"
     ]
    },
    {
     "name": "stderr",
     "output_type": "stream",
     "text": [
      "[I 2025-08-04 23:01:26,413] Trial 28 finished with value: 0.9055196750782342 and parameters: {'learning_rate': 0.051886166596079454, 'num_leaves': 59, 'max_depth': 6, 'min_child_samples': 40, 'feature_fraction': 0.7166724549557231, 'bagging_fraction': 0.8374528546094164, 'lambda_l1': 0.43508185951737144, 'lambda_l2': 0.6545292550715617}. Best is trial 26 with value: 0.9333177974565551.\n"
     ]
    },
    {
     "name": "stdout",
     "output_type": "stream",
     "text": [
      "Early stopping, best iteration is:\n",
      "[62]\tvalid_0's auc: 0.90552\n",
      "Training until validation scores don't improve for 30 rounds\n"
     ]
    },
    {
     "name": "stderr",
     "output_type": "stream",
     "text": [
      "[I 2025-08-04 23:01:26,965] Trial 29 finished with value: 0.9191024702044077 and parameters: {'learning_rate': 0.07310618795648233, 'num_leaves': 49, 'max_depth': 7, 'min_child_samples': 50, 'feature_fraction': 0.6616427634880193, 'bagging_fraction': 0.9040064010990717, 'lambda_l1': 0.7264988464973063, 'lambda_l2': 0.08167056719792187}. Best is trial 26 with value: 0.9333177974565551.\n"
     ]
    },
    {
     "name": "stdout",
     "output_type": "stream",
     "text": [
      "Early stopping, best iteration is:\n",
      "[28]\tvalid_0's auc: 0.919102\n"
     ]
    },
    {
     "name": "stderr",
     "output_type": "stream",
     "text": [
      "[I 2025-08-04 23:01:28,739] A new study created in memory with name: no-name-fdd52a1e-e758-446c-9426-452a6e7cb668\n"
     ]
    },
    {
     "name": "stdout",
     "output_type": "stream",
     "text": [
      "📍 Training for label: NR-AhR\n",
      "Training until validation scores don't improve for 30 rounds\n",
      "Did not meet early stopping. Best iteration is:\n",
      "[100]\tvalid_0's auc: 0.916843\n"
     ]
    },
    {
     "name": "stderr",
     "output_type": "stream",
     "text": [
      "[I 2025-08-04 23:01:29,273] Trial 0 finished with value: 0.9168426728980362 and parameters: {'learning_rate': 0.042552878106938495, 'num_leaves': 36, 'max_depth': 3, 'min_child_samples': 40, 'feature_fraction': 0.6743412927173097, 'bagging_fraction': 0.6041911181766196, 'lambda_l1': 0.4745775197856904, 'lambda_l2': 0.805958263466575}. Best is trial 0 with value: 0.9168426728980362.\n"
     ]
    },
    {
     "name": "stdout",
     "output_type": "stream",
     "text": [
      "Training until validation scores don't improve for 30 rounds\n"
     ]
    },
    {
     "name": "stderr",
     "output_type": "stream",
     "text": [
      "[I 2025-08-04 23:01:29,959] Trial 1 finished with value: 0.9207297892419 and parameters: {'learning_rate': 0.09811847502374359, 'num_leaves': 29, 'max_depth': 8, 'min_child_samples': 31, 'feature_fraction': 0.6322466736119433, 'bagging_fraction': 0.7816188210035994, 'lambda_l1': 0.6390778498343924, 'lambda_l2': 0.1540708431592619}. Best is trial 1 with value: 0.9207297892419.\n"
     ]
    },
    {
     "name": "stdout",
     "output_type": "stream",
     "text": [
      "Early stopping, best iteration is:\n",
      "[35]\tvalid_0's auc: 0.92073\n",
      "Training until validation scores don't improve for 30 rounds\n"
     ]
    },
    {
     "name": "stderr",
     "output_type": "stream",
     "text": [
      "[I 2025-08-04 23:01:30,948] Trial 2 finished with value: 0.9272682334966071 and parameters: {'learning_rate': 0.09655362608202521, 'num_leaves': 42, 'max_depth': 7, 'min_child_samples': 34, 'feature_fraction': 0.7806731295866215, 'bagging_fraction': 0.7513370903906527, 'lambda_l1': 0.8238120015443766, 'lambda_l2': 0.01028010342935226}. Best is trial 2 with value: 0.9272682334966071.\n"
     ]
    },
    {
     "name": "stdout",
     "output_type": "stream",
     "text": [
      "Early stopping, best iteration is:\n",
      "[64]\tvalid_0's auc: 0.927268\n",
      "Training until validation scores don't improve for 30 rounds\n"
     ]
    },
    {
     "name": "stderr",
     "output_type": "stream",
     "text": [
      "[I 2025-08-04 23:01:31,980] Trial 3 finished with value: 0.9271109513324046 and parameters: {'learning_rate': 0.057563300047318224, 'num_leaves': 73, 'max_depth': 8, 'min_child_samples': 50, 'feature_fraction': 0.6766166415720402, 'bagging_fraction': 0.8832185448544556, 'lambda_l1': 0.6149169355752748, 'lambda_l2': 0.9268174782086989}. Best is trial 2 with value: 0.9272682334966071.\n"
     ]
    },
    {
     "name": "stdout",
     "output_type": "stream",
     "text": [
      "Early stopping, best iteration is:\n",
      "[67]\tvalid_0's auc: 0.927111\n",
      "Training until validation scores don't improve for 30 rounds\n"
     ]
    },
    {
     "name": "stderr",
     "output_type": "stream",
     "text": [
      "[I 2025-08-04 23:01:33,591] Trial 4 finished with value: 0.9224598930481283 and parameters: {'learning_rate': 0.13432846239771937, 'num_leaves': 33, 'max_depth': 12, 'min_child_samples': 29, 'feature_fraction': 0.8420873002990753, 'bagging_fraction': 0.8435889178592513, 'lambda_l1': 0.09369039387058453, 'lambda_l2': 0.9258055500161438}. Best is trial 2 with value: 0.9272682334966071.\n"
     ]
    },
    {
     "name": "stdout",
     "output_type": "stream",
     "text": [
      "Did not meet early stopping. Best iteration is:\n",
      "[100]\tvalid_0's auc: 0.92246\n",
      "Training until validation scores don't improve for 30 rounds\n"
     ]
    },
    {
     "name": "stderr",
     "output_type": "stream",
     "text": [
      "[I 2025-08-04 23:01:35,723] Trial 5 finished with value: 0.9207073203612995 and parameters: {'learning_rate': 0.17481328200766985, 'num_leaves': 74, 'max_depth': 8, 'min_child_samples': 14, 'feature_fraction': 0.9213330058797423, 'bagging_fraction': 0.98833142702564, 'lambda_l1': 0.1853451164550729, 'lambda_l2': 0.8714356190246342}. Best is trial 2 with value: 0.9272682334966071.\n"
     ]
    },
    {
     "name": "stdout",
     "output_type": "stream",
     "text": [
      "Did not meet early stopping. Best iteration is:\n",
      "[82]\tvalid_0's auc: 0.920707\n",
      "Training until validation scores don't improve for 30 rounds\n"
     ]
    },
    {
     "name": "stderr",
     "output_type": "stream",
     "text": [
      "[I 2025-08-04 23:01:36,072] Trial 6 finished with value: 0.9140565317035905 and parameters: {'learning_rate': 0.13950866773987736, 'num_leaves': 44, 'max_depth': 4, 'min_child_samples': 46, 'feature_fraction': 0.6340554978855858, 'bagging_fraction': 0.7811106458734833, 'lambda_l1': 0.4699262329643603, 'lambda_l2': 0.07019981238680151}. Best is trial 2 with value: 0.9272682334966071.\n"
     ]
    },
    {
     "name": "stdout",
     "output_type": "stream",
     "text": [
      "Early stopping, best iteration is:\n",
      "[34]\tvalid_0's auc: 0.914057\n",
      "Training until validation scores don't improve for 30 rounds\n"
     ]
    },
    {
     "name": "stderr",
     "output_type": "stream",
     "text": [
      "[I 2025-08-04 23:01:37,910] Trial 7 finished with value: 0.9149552869276052 and parameters: {'learning_rate': 0.050996625990885384, 'num_leaves': 46, 'max_depth': 10, 'min_child_samples': 30, 'feature_fraction': 0.8392913303642189, 'bagging_fraction': 0.7860040312674557, 'lambda_l1': 0.9768453863136601, 'lambda_l2': 0.15407803119526664}. Best is trial 2 with value: 0.9272682334966071.\n"
     ]
    },
    {
     "name": "stdout",
     "output_type": "stream",
     "text": [
      "Did not meet early stopping. Best iteration is:\n",
      "[97]\tvalid_0's auc: 0.914955\n",
      "Training until validation scores don't improve for 30 rounds\n"
     ]
    },
    {
     "name": "stderr",
     "output_type": "stream",
     "text": [
      "[I 2025-08-04 23:01:38,382] Trial 8 finished with value: 0.9154945400620141 and parameters: {'learning_rate': 0.13060748753393242, 'num_leaves': 45, 'max_depth': 4, 'min_child_samples': 31, 'feature_fraction': 0.8397070691245754, 'bagging_fraction': 0.6134337758447307, 'lambda_l1': 0.40443024217629664, 'lambda_l2': 0.5743526508422514}. Best is trial 2 with value: 0.9272682334966071.\n"
     ]
    },
    {
     "name": "stdout",
     "output_type": "stream",
     "text": [
      "Early stopping, best iteration is:\n",
      "[34]\tvalid_0's auc: 0.915495\n",
      "Training until validation scores don't improve for 30 rounds\n"
     ]
    },
    {
     "name": "stderr",
     "output_type": "stream",
     "text": [
      "[I 2025-08-04 23:01:39,405] Trial 9 finished with value: 0.9229092706601357 and parameters: {'learning_rate': 0.062450903040305324, 'num_leaves': 61, 'max_depth': 6, 'min_child_samples': 21, 'feature_fraction': 0.8086725935384138, 'bagging_fraction': 0.8816131024058289, 'lambda_l1': 0.8734061952287484, 'lambda_l2': 0.7667566594345758}. Best is trial 2 with value: 0.9272682334966071.\n"
     ]
    },
    {
     "name": "stdout",
     "output_type": "stream",
     "text": [
      "Early stopping, best iteration is:\n",
      "[63]\tvalid_0's auc: 0.922909\n",
      "Training until validation scores don't improve for 30 rounds\n"
     ]
    },
    {
     "name": "stderr",
     "output_type": "stream",
     "text": [
      "[I 2025-08-04 23:01:40,383] Trial 10 finished with value: 0.9091470812924101 and parameters: {'learning_rate': 0.010155798778426095, 'num_leaves': 21, 'max_depth': 6, 'min_child_samples': 39, 'feature_fraction': 0.996077675289, 'bagging_fraction': 0.6980401857110441, 'lambda_l1': 0.7861333024875096, 'lambda_l2': 0.3673156983952396}. Best is trial 2 with value: 0.9272682334966071.\n"
     ]
    },
    {
     "name": "stdout",
     "output_type": "stream",
     "text": [
      "Did not meet early stopping. Best iteration is:\n",
      "[100]\tvalid_0's auc: 0.909147\n",
      "Training until validation scores don't improve for 30 rounds\n"
     ]
    },
    {
     "name": "stderr",
     "output_type": "stream",
     "text": [
      "[I 2025-08-04 23:01:41,588] Trial 11 finished with value: 0.9162809508830271 and parameters: {'learning_rate': 0.08646783289694819, 'num_leaves': 62, 'max_depth': 10, 'min_child_samples': 48, 'feature_fraction': 0.7202228719185196, 'bagging_fraction': 0.9310975927595093, 'lambda_l1': 0.7072728548653576, 'lambda_l2': 0.4481163397019931}. Best is trial 2 with value: 0.9272682334966071.\n"
     ]
    },
    {
     "name": "stdout",
     "output_type": "stream",
     "text": [
      "Early stopping, best iteration is:\n",
      "[47]\tvalid_0's auc: 0.916281\n",
      "Training until validation scores don't improve for 30 rounds\n"
     ]
    },
    {
     "name": "stderr",
     "output_type": "stream",
     "text": [
      "[I 2025-08-04 23:01:42,258] Trial 12 finished with value: 0.9223924864063272 and parameters: {'learning_rate': 0.0771342580086188, 'num_leaves': 76, 'max_depth': 6, 'min_child_samples': 40, 'feature_fraction': 0.7259553854502048, 'bagging_fraction': 0.7082833008114355, 'lambda_l1': 0.6224943464669664, 'lambda_l2': 0.6527980592115088}. Best is trial 2 with value: 0.9272682334966071.\n"
     ]
    },
    {
     "name": "stdout",
     "output_type": "stream",
     "text": [
      "Early stopping, best iteration is:\n",
      "[44]\tvalid_0's auc: 0.922392\n",
      "Training until validation scores don't improve for 30 rounds\n"
     ]
    },
    {
     "name": "stderr",
     "output_type": "stream",
     "text": [
      "[I 2025-08-04 23:01:43,697] Trial 13 finished with value: 0.9170898305846402 and parameters: {'learning_rate': 0.012342655735153016, 'num_leaves': 58, 'max_depth': 10, 'min_child_samples': 50, 'feature_fraction': 0.7451357020749021, 'bagging_fraction': 0.8673399987888755, 'lambda_l1': 0.3077808895956125, 'lambda_l2': 0.3184138715877156}. Best is trial 2 with value: 0.9272682334966071.\n"
     ]
    },
    {
     "name": "stdout",
     "output_type": "stream",
     "text": [
      "Did not meet early stopping. Best iteration is:\n",
      "[100]\tvalid_0's auc: 0.91709\n",
      "Training until validation scores don't improve for 30 rounds\n"
     ]
    },
    {
     "name": "stderr",
     "output_type": "stream",
     "text": [
      "[I 2025-08-04 23:01:44,834] Trial 14 finished with value: 0.9211791668539073 and parameters: {'learning_rate': 0.11127890078813396, 'num_leaves': 68, 'max_depth': 7, 'min_child_samples': 22, 'feature_fraction': 0.7653857852492518, 'bagging_fraction': 0.7335531396104801, 'lambda_l1': 0.8630964098352158, 'lambda_l2': 0.009111668054594525}. Best is trial 2 with value: 0.9272682334966071.\n"
     ]
    },
    {
     "name": "stdout",
     "output_type": "stream",
     "text": [
      "Early stopping, best iteration is:\n",
      "[52]\tvalid_0's auc: 0.921179\n",
      "Training until validation scores don't improve for 30 rounds\n"
     ]
    },
    {
     "name": "stderr",
     "output_type": "stream",
     "text": [
      "[I 2025-08-04 23:01:46,085] Trial 15 finished with value: 0.9244596234215612 and parameters: {'learning_rate': 0.1949146380601866, 'num_leaves': 53, 'max_depth': 9, 'min_child_samples': 44, 'feature_fraction': 0.6837031209960663, 'bagging_fraction': 0.9538342779803093, 'lambda_l1': 0.5956739806580134, 'lambda_l2': 0.9834868322633344}. Best is trial 2 with value: 0.9272682334966071.\n"
     ]
    },
    {
     "name": "stdout",
     "output_type": "stream",
     "text": [
      "Did not meet early stopping. Best iteration is:\n",
      "[77]\tvalid_0's auc: 0.92446\n",
      "Training until validation scores don't improve for 30 rounds\n"
     ]
    },
    {
     "name": "stderr",
     "output_type": "stream",
     "text": [
      "[I 2025-08-04 23:01:47,549] Trial 16 finished with value: 0.9302116568552554 and parameters: {'learning_rate': 0.037355750379940926, 'num_leaves': 79, 'max_depth': 12, 'min_child_samples': 36, 'feature_fraction': 0.6037191236136061, 'bagging_fraction': 0.8330916184053574, 'lambda_l1': 0.9356279212225231, 'lambda_l2': 0.26065152748302883}. Best is trial 16 with value: 0.9302116568552554.\n"
     ]
    },
    {
     "name": "stdout",
     "output_type": "stream",
     "text": [
      "Did not meet early stopping. Best iteration is:\n",
      "[96]\tvalid_0's auc: 0.930212\n",
      "Training until validation scores don't improve for 30 rounds\n"
     ]
    },
    {
     "name": "stderr",
     "output_type": "stream",
     "text": [
      "[I 2025-08-04 23:01:48,834] Trial 17 finished with value: 0.9236058059587471 and parameters: {'learning_rate': 0.028895355893060498, 'num_leaves': 80, 'max_depth': 12, 'min_child_samples': 35, 'feature_fraction': 0.6030590280965178, 'bagging_fraction': 0.8307754440269507, 'lambda_l1': 0.9968849317172476, 'lambda_l2': 0.25423810927925766}. Best is trial 16 with value: 0.9302116568552554.\n"
     ]
    },
    {
     "name": "stdout",
     "output_type": "stream",
     "text": [
      "Did not meet early stopping. Best iteration is:\n",
      "[100]\tvalid_0's auc: 0.923606\n",
      "Training until validation scores don't improve for 30 rounds\n"
     ]
    },
    {
     "name": "stderr",
     "output_type": "stream",
     "text": [
      "[I 2025-08-04 23:01:50,269] Trial 18 finished with value: 0.9145059093155979 and parameters: {'learning_rate': 0.15561127742002365, 'num_leaves': 52, 'max_depth': 11, 'min_child_samples': 25, 'feature_fraction': 0.9039164589610902, 'bagging_fraction': 0.6621998376000404, 'lambda_l1': 0.8288153140322932, 'lambda_l2': 0.22557140775228446}. Best is trial 16 with value: 0.9302116568552554.\n"
     ]
    },
    {
     "name": "stdout",
     "output_type": "stream",
     "text": [
      "Did not meet early stopping. Best iteration is:\n",
      "[98]\tvalid_0's auc: 0.914506\n",
      "Training until validation scores don't improve for 30 rounds\n"
     ]
    },
    {
     "name": "stderr",
     "output_type": "stream",
     "text": [
      "[I 2025-08-04 23:01:50,861] Trial 19 finished with value: 0.9190221543162719 and parameters: {'learning_rate': 0.10914387153658542, 'num_leaves': 39, 'max_depth': 5, 'min_child_samples': 10, 'feature_fraction': 0.9165202984781651, 'bagging_fraction': 0.7422970463833196, 'lambda_l1': 0.7413477620220232, 'lambda_l2': 0.00142142843713001}. Best is trial 16 with value: 0.9302116568552554.\n"
     ]
    },
    {
     "name": "stdout",
     "output_type": "stream",
     "text": [
      "Early stopping, best iteration is:\n",
      "[39]\tvalid_0's auc: 0.919022\n",
      "Training until validation scores don't improve for 30 rounds\n"
     ]
    },
    {
     "name": "stderr",
     "output_type": "stream",
     "text": [
      "[I 2025-08-04 23:01:51,922] Trial 20 finished with value: 0.9264818226755943 and parameters: {'learning_rate': 0.07447187392202245, 'num_leaves': 26, 'max_depth': 7, 'min_child_samples': 36, 'feature_fraction': 0.9899480126939936, 'bagging_fraction': 0.8098204791618151, 'lambda_l1': 0.8938758360536099, 'lambda_l2': 0.4206001921760638}. Best is trial 16 with value: 0.9302116568552554.\n"
     ]
    },
    {
     "name": "stdout",
     "output_type": "stream",
     "text": [
      "Did not meet early stopping. Best iteration is:\n",
      "[88]\tvalid_0's auc: 0.926482\n",
      "Training until validation scores don't improve for 30 rounds\n"
     ]
    },
    {
     "name": "stderr",
     "output_type": "stream",
     "text": [
      "[I 2025-08-04 23:01:53,226] Trial 21 finished with value: 0.9248640632723677 and parameters: {'learning_rate': 0.037718669248593316, 'num_leaves': 68, 'max_depth': 9, 'min_child_samples': 36, 'feature_fraction': 0.686420160607542, 'bagging_fraction': 0.9037483646321959, 'lambda_l1': 0.702857588770818, 'lambda_l2': 0.5638988495451105}. Best is trial 16 with value: 0.9302116568552554.\n"
     ]
    },
    {
     "name": "stdout",
     "output_type": "stream",
     "text": [
      "Did not meet early stopping. Best iteration is:\n",
      "[100]\tvalid_0's auc: 0.924864\n",
      "Training until validation scores don't improve for 30 rounds\n"
     ]
    },
    {
     "name": "stderr",
     "output_type": "stream",
     "text": [
      "[I 2025-08-04 23:01:54,304] Trial 22 finished with value: 0.9299420302880512 and parameters: {'learning_rate': 0.05533833812998019, 'num_leaves': 68, 'max_depth': 9, 'min_child_samples': 44, 'feature_fraction': 0.6104967471410183, 'bagging_fraction': 0.8536540032255587, 'lambda_l1': 0.5622740442861274, 'lambda_l2': 0.1626756422088082}. Best is trial 16 with value: 0.9302116568552554.\n"
     ]
    },
    {
     "name": "stdout",
     "output_type": "stream",
     "text": [
      "Early stopping, best iteration is:\n",
      "[62]\tvalid_0's auc: 0.929942\n",
      "Training until validation scores don't improve for 30 rounds\n"
     ]
    },
    {
     "name": "stderr",
     "output_type": "stream",
     "text": [
      "[I 2025-08-04 23:01:55,518] Trial 23 finished with value: 0.9230216150631376 and parameters: {'learning_rate': 0.031662639259219534, 'num_leaves': 66, 'max_depth': 11, 'min_child_samples': 43, 'feature_fraction': 0.6006805561098523, 'bagging_fraction': 0.8346295931264459, 'lambda_l1': 0.9315817735746503, 'lambda_l2': 0.12846204489445168}. Best is trial 16 with value: 0.9302116568552554.\n"
     ]
    },
    {
     "name": "stdout",
     "output_type": "stream",
     "text": [
      "Did not meet early stopping. Best iteration is:\n",
      "[98]\tvalid_0's auc: 0.923022\n",
      "Training until validation scores don't improve for 30 rounds\n"
     ]
    },
    {
     "name": "stderr",
     "output_type": "stream",
     "text": [
      "[I 2025-08-04 23:01:56,825] Trial 24 finished with value: 0.92439221677976 and parameters: {'learning_rate': 0.0681984197148319, 'num_leaves': 80, 'max_depth': 9, 'min_child_samples': 34, 'feature_fraction': 0.6443513614067932, 'bagging_fraction': 0.7480761377466967, 'lambda_l1': 0.32386065851366924, 'lambda_l2': 0.2468149342808162}. Best is trial 16 with value: 0.9302116568552554.\n"
     ]
    },
    {
     "name": "stdout",
     "output_type": "stream",
     "text": [
      "Did not meet early stopping. Best iteration is:\n",
      "[90]\tvalid_0's auc: 0.924392\n",
      "Training until validation scores don't improve for 30 rounds\n"
     ]
    },
    {
     "name": "stderr",
     "output_type": "stream",
     "text": [
      "[I 2025-08-04 23:01:57,980] Trial 25 finished with value: 0.9195838763312812 and parameters: {'learning_rate': 0.09459643154305465, 'num_leaves': 55, 'max_depth': 11, 'min_child_samples': 42, 'feature_fraction': 0.7663032076067836, 'bagging_fraction': 0.8127559130717064, 'lambda_l1': 0.5416694785625742, 'lambda_l2': 0.08145392680385788}. Best is trial 16 with value: 0.9302116568552554.\n"
     ]
    },
    {
     "name": "stdout",
     "output_type": "stream",
     "text": [
      "Early stopping, best iteration is:\n",
      "[47]\tvalid_0's auc: 0.919584\n",
      "Training until validation scores don't improve for 30 rounds\n"
     ]
    },
    {
     "name": "stderr",
     "output_type": "stream",
     "text": [
      "[I 2025-08-04 23:01:58,738] Trial 26 finished with value: 0.9252909720037747 and parameters: {'learning_rate': 0.1178766250865835, 'num_leaves': 72, 'max_depth': 7, 'min_child_samples': 38, 'feature_fraction': 0.6335998244830061, 'bagging_fraction': 0.9186209344283937, 'lambda_l1': 0.7899478590939326, 'lambda_l2': 0.3070703176296076}. Best is trial 16 with value: 0.9302116568552554.\n"
     ]
    },
    {
     "name": "stdout",
     "output_type": "stream",
     "text": [
      "Early stopping, best iteration is:\n",
      "[46]\tvalid_0's auc: 0.925291\n",
      "Training until validation scores don't improve for 30 rounds\n"
     ]
    },
    {
     "name": "stderr",
     "output_type": "stream",
     "text": [
      "[I 2025-08-04 23:02:00,299] Trial 27 finished with value: 0.9170898305846403 and parameters: {'learning_rate': 0.023811581953914807, 'num_leaves': 42, 'max_depth': 12, 'min_child_samples': 27, 'feature_fraction': 0.883761541255601, 'bagging_fraction': 0.8599672532904573, 'lambda_l1': 0.9210470308748353, 'lambda_l2': 0.19207031001536493}. Best is trial 16 with value: 0.9302116568552554.\n"
     ]
    },
    {
     "name": "stdout",
     "output_type": "stream",
     "text": [
      "Did not meet early stopping. Best iteration is:\n",
      "[100]\tvalid_0's auc: 0.91709\n",
      "Training until validation scores don't improve for 30 rounds\n"
     ]
    },
    {
     "name": "stderr",
     "output_type": "stream",
     "text": [
      "[I 2025-08-04 23:02:01,358] Trial 28 finished with value: 0.9253359097649755 and parameters: {'learning_rate': 0.04998276062034373, 'num_leaves': 49, 'max_depth': 9, 'min_child_samples': 46, 'feature_fraction': 0.7076450056384916, 'bagging_fraction': 0.6748589566501395, 'lambda_l1': 0.7537206049923173, 'lambda_l2': 0.0708545477592682}. Best is trial 16 with value: 0.9302116568552554.\n"
     ]
    },
    {
     "name": "stdout",
     "output_type": "stream",
     "text": [
      "Early stopping, best iteration is:\n",
      "[56]\tvalid_0's auc: 0.925336\n",
      "Training until validation scores don't improve for 30 rounds\n"
     ]
    },
    {
     "name": "stderr",
     "output_type": "stream",
     "text": [
      "[I 2025-08-04 23:02:01,927] Trial 29 finished with value: 0.9214263245405114 and parameters: {'learning_rate': 0.044894216237197276, 'num_leaves': 36, 'max_depth': 4, 'min_child_samples': 33, 'feature_fraction': 0.7870593414726691, 'bagging_fraction': 0.7531065533521161, 'lambda_l1': 0.47342717380609944, 'lambda_l2': 0.2840076749447424}. Best is trial 16 with value: 0.9302116568552554.\n"
     ]
    },
    {
     "name": "stdout",
     "output_type": "stream",
     "text": [
      "Did not meet early stopping. Best iteration is:\n",
      "[97]\tvalid_0's auc: 0.921426\n"
     ]
    },
    {
     "name": "stderr",
     "output_type": "stream",
     "text": [
      "[I 2025-08-04 23:02:05,780] A new study created in memory with name: no-name-b24416d1-8980-4349-95d8-7b5f8c41bcb0\n"
     ]
    },
    {
     "name": "stdout",
     "output_type": "stream",
     "text": [
      "📍 Training for label: NR-Aromatase\n"
     ]
    },
    {
     "name": "stderr",
     "output_type": "stream",
     "text": [
      "[I 2025-08-04 23:02:06,202] Trial 0 finished with value: 0.9200483091787439 and parameters: {'learning_rate': 0.13645416521013223, 'num_leaves': 22, 'max_depth': 3, 'min_child_samples': 19, 'feature_fraction': 0.6683054544023638, 'bagging_fraction': 0.8331075011951987, 'lambda_l1': 0.4151677388262873, 'lambda_l2': 0.02625960085532819}. Best is trial 0 with value: 0.9200483091787439.\n"
     ]
    },
    {
     "name": "stdout",
     "output_type": "stream",
     "text": [
      "Training until validation scores don't improve for 30 rounds\n",
      "Early stopping, best iteration is:\n",
      "[28]\tvalid_0's auc: 0.920048\n",
      "Training until validation scores don't improve for 30 rounds\n"
     ]
    },
    {
     "name": "stderr",
     "output_type": "stream",
     "text": [
      "[I 2025-08-04 23:02:06,776] Trial 1 finished with value: 0.915066425120773 and parameters: {'learning_rate': 0.0691500897382694, 'num_leaves': 43, 'max_depth': 6, 'min_child_samples': 10, 'feature_fraction': 0.9579898310424645, 'bagging_fraction': 0.8563306712036372, 'lambda_l1': 0.2691007710764818, 'lambda_l2': 0.5162493246074679}. Best is trial 0 with value: 0.9200483091787439.\n"
     ]
    },
    {
     "name": "stdout",
     "output_type": "stream",
     "text": [
      "Early stopping, best iteration is:\n",
      "[18]\tvalid_0's auc: 0.915066\n",
      "Training until validation scores don't improve for 30 rounds\n"
     ]
    },
    {
     "name": "stderr",
     "output_type": "stream",
     "text": [
      "[I 2025-08-04 23:02:07,846] Trial 2 finished with value: 0.9209541062801933 and parameters: {'learning_rate': 0.014355316270998154, 'num_leaves': 70, 'max_depth': 10, 'min_child_samples': 36, 'feature_fraction': 0.8441825848136862, 'bagging_fraction': 0.9782119484435425, 'lambda_l1': 0.5150110359705619, 'lambda_l2': 0.5305987054338515}. Best is trial 2 with value: 0.9209541062801933.\n"
     ]
    },
    {
     "name": "stdout",
     "output_type": "stream",
     "text": [
      "Did not meet early stopping. Best iteration is:\n",
      "[97]\tvalid_0's auc: 0.920954\n",
      "Training until validation scores don't improve for 30 rounds\n"
     ]
    },
    {
     "name": "stderr",
     "output_type": "stream",
     "text": [
      "[I 2025-08-04 23:02:08,217] Trial 3 finished with value: 0.9194444444444445 and parameters: {'learning_rate': 0.0850277368154245, 'num_leaves': 48, 'max_depth': 4, 'min_child_samples': 24, 'feature_fraction': 0.7085498227962035, 'bagging_fraction': 0.9951504419544949, 'lambda_l1': 0.7558352680701953, 'lambda_l2': 0.43356611231397424}. Best is trial 2 with value: 0.9209541062801933.\n"
     ]
    },
    {
     "name": "stdout",
     "output_type": "stream",
     "text": [
      "Early stopping, best iteration is:\n",
      "[40]\tvalid_0's auc: 0.919444\n",
      "Training until validation scores don't improve for 30 rounds\n"
     ]
    },
    {
     "name": "stderr",
     "output_type": "stream",
     "text": [
      "[I 2025-08-04 23:02:08,550] Trial 4 finished with value: 0.9293478260869565 and parameters: {'learning_rate': 0.1280978492268885, 'num_leaves': 23, 'max_depth': 4, 'min_child_samples': 15, 'feature_fraction': 0.9507740043641881, 'bagging_fraction': 0.9938800784074235, 'lambda_l1': 0.4464614808517623, 'lambda_l2': 0.2464784332882095}. Best is trial 4 with value: 0.9293478260869565.\n"
     ]
    },
    {
     "name": "stdout",
     "output_type": "stream",
     "text": [
      "Early stopping, best iteration is:\n",
      "[21]\tvalid_0's auc: 0.929348\n",
      "Training until validation scores don't improve for 30 rounds\n"
     ]
    },
    {
     "name": "stderr",
     "output_type": "stream",
     "text": [
      "[I 2025-08-04 23:02:08,843] Trial 5 finished with value: 0.9077294685990338 and parameters: {'learning_rate': 0.13540857117205696, 'num_leaves': 34, 'max_depth': 4, 'min_child_samples': 31, 'feature_fraction': 0.8819748280617842, 'bagging_fraction': 0.7867179830166618, 'lambda_l1': 0.005962999562424631, 'lambda_l2': 0.16699844292889277}. Best is trial 4 with value: 0.9293478260869565.\n"
     ]
    },
    {
     "name": "stdout",
     "output_type": "stream",
     "text": [
      "Early stopping, best iteration is:\n",
      "[19]\tvalid_0's auc: 0.907729\n",
      "Training until validation scores don't improve for 30 rounds\n"
     ]
    },
    {
     "name": "stderr",
     "output_type": "stream",
     "text": [
      "[I 2025-08-04 23:02:09,155] Trial 6 finished with value: 0.9248188405797102 and parameters: {'learning_rate': 0.12467091517764817, 'num_leaves': 37, 'max_depth': 3, 'min_child_samples': 41, 'feature_fraction': 0.7799173555483058, 'bagging_fraction': 0.8155807158148406, 'lambda_l1': 0.833741018472203, 'lambda_l2': 0.9428887540397484}. Best is trial 4 with value: 0.9293478260869565.\n"
     ]
    },
    {
     "name": "stdout",
     "output_type": "stream",
     "text": [
      "Early stopping, best iteration is:\n",
      "[46]\tvalid_0's auc: 0.924819\n",
      "Training until validation scores don't improve for 30 rounds\n"
     ]
    },
    {
     "name": "stderr",
     "output_type": "stream",
     "text": [
      "[I 2025-08-04 23:02:09,577] Trial 7 finished with value: 0.9276570048309178 and parameters: {'learning_rate': 0.04366563468756582, 'num_leaves': 21, 'max_depth': 4, 'min_child_samples': 10, 'feature_fraction': 0.9285360850700939, 'bagging_fraction': 0.8728381047310024, 'lambda_l1': 0.11101717242792142, 'lambda_l2': 0.7097002558251445}. Best is trial 4 with value: 0.9293478260869565.\n"
     ]
    },
    {
     "name": "stdout",
     "output_type": "stream",
     "text": [
      "Early stopping, best iteration is:\n",
      "[36]\tvalid_0's auc: 0.927657\n",
      "Training until validation scores don't improve for 30 rounds\n"
     ]
    },
    {
     "name": "stderr",
     "output_type": "stream",
     "text": [
      "[I 2025-08-04 23:02:09,964] Trial 8 finished with value: 0.9333937198067633 and parameters: {'learning_rate': 0.0790917133189555, 'num_leaves': 61, 'max_depth': 4, 'min_child_samples': 39, 'feature_fraction': 0.6518303000882318, 'bagging_fraction': 0.6327195609088259, 'lambda_l1': 0.29910136983479674, 'lambda_l2': 0.352567045368823}. Best is trial 8 with value: 0.9333937198067633.\n"
     ]
    },
    {
     "name": "stdout",
     "output_type": "stream",
     "text": [
      "Early stopping, best iteration is:\n",
      "[47]\tvalid_0's auc: 0.933394\n",
      "Training until validation scores don't improve for 30 rounds\n"
     ]
    },
    {
     "name": "stderr",
     "output_type": "stream",
     "text": [
      "[I 2025-08-04 23:02:10,826] Trial 9 finished with value: 0.8851147342995169 and parameters: {'learning_rate': 0.16220418010681042, 'num_leaves': 67, 'max_depth': 12, 'min_child_samples': 11, 'feature_fraction': 0.8969215027744253, 'bagging_fraction': 0.9648172929167572, 'lambda_l1': 0.06557175077714539, 'lambda_l2': 0.9585130270840453}. Best is trial 8 with value: 0.9333937198067633.\n"
     ]
    },
    {
     "name": "stdout",
     "output_type": "stream",
     "text": [
      "Early stopping, best iteration is:\n",
      "[6]\tvalid_0's auc: 0.885115\n",
      "Training until validation scores don't improve for 30 rounds\n"
     ]
    },
    {
     "name": "stderr",
     "output_type": "stream",
     "text": [
      "[I 2025-08-04 23:02:11,359] Trial 10 finished with value: 0.8771739130434784 and parameters: {'learning_rate': 0.18924101029971452, 'num_leaves': 60, 'max_depth': 7, 'min_child_samples': 50, 'feature_fraction': 0.7328106538396522, 'bagging_fraction': 0.605550358135313, 'lambda_l1': 0.9828324447533956, 'lambda_l2': 0.32264321250501854}. Best is trial 8 with value: 0.9333937198067633.\n"
     ]
    },
    {
     "name": "stdout",
     "output_type": "stream",
     "text": [
      "Early stopping, best iteration is:\n",
      "[13]\tvalid_0's auc: 0.877174\n",
      "Training until validation scores don't improve for 30 rounds\n"
     ]
    },
    {
     "name": "stderr",
     "output_type": "stream",
     "text": [
      "[I 2025-08-04 23:02:11,885] Trial 11 finished with value: 0.9245772946859904 and parameters: {'learning_rate': 0.09496887913535862, 'num_leaves': 80, 'max_depth': 6, 'min_child_samples': 43, 'feature_fraction': 0.6014494679120845, 'bagging_fraction': 0.6254336054193814, 'lambda_l1': 0.48088484317803404, 'lambda_l2': 0.2193449340474335}. Best is trial 8 with value: 0.9333937198067633.\n"
     ]
    },
    {
     "name": "stdout",
     "output_type": "stream",
     "text": [
      "Early stopping, best iteration is:\n",
      "[30]\tvalid_0's auc: 0.924577\n",
      "Training until validation scores don't improve for 30 rounds\n"
     ]
    },
    {
     "name": "stderr",
     "output_type": "stream",
     "text": [
      "[I 2025-08-04 23:02:12,615] Trial 12 finished with value: 0.9126811594202897 and parameters: {'learning_rate': 0.058215452255696576, 'num_leaves': 57, 'max_depth': 8, 'min_child_samples': 23, 'feature_fraction': 0.8086664712492421, 'bagging_fraction': 0.7053773092409519, 'lambda_l1': 0.2815001551014288, 'lambda_l2': 0.014141621856706366}. Best is trial 8 with value: 0.9333937198067633.\n"
     ]
    },
    {
     "name": "stdout",
     "output_type": "stream",
     "text": [
      "Early stopping, best iteration is:\n",
      "[21]\tvalid_0's auc: 0.912681\n",
      "Training until validation scores don't improve for 30 rounds\n"
     ]
    },
    {
     "name": "stderr",
     "output_type": "stream",
     "text": [
      "[I 2025-08-04 23:02:13,388] Trial 13 finished with value: 0.9143719806763284 and parameters: {'learning_rate': 0.10845827464116434, 'num_leaves': 31, 'max_depth': 5, 'min_child_samples': 29, 'feature_fraction': 0.9989202722803604, 'bagging_fraction': 0.7146186971721498, 'lambda_l1': 0.6203904474763455, 'lambda_l2': 0.31073306146514085}. Best is trial 8 with value: 0.9333937198067633.\n"
     ]
    },
    {
     "name": "stdout",
     "output_type": "stream",
     "text": [
      "Did not meet early stopping. Best iteration is:\n",
      "[79]\tvalid_0's auc: 0.914372\n",
      "Training until validation scores don't improve for 30 rounds\n"
     ]
    },
    {
     "name": "stderr",
     "output_type": "stream",
     "text": [
      "[I 2025-08-04 23:02:14,109] Trial 14 finished with value: 0.8971618357487923 and parameters: {'learning_rate': 0.16628634049036206, 'num_leaves': 53, 'max_depth': 8, 'min_child_samples': 18, 'feature_fraction': 0.6004884206935539, 'bagging_fraction': 0.9017890608131838, 'lambda_l1': 0.2853284002502334, 'lambda_l2': 0.6589325331493227}. Best is trial 8 with value: 0.9333937198067633.\n"
     ]
    },
    {
     "name": "stdout",
     "output_type": "stream",
     "text": [
      "Early stopping, best iteration is:\n",
      "[17]\tvalid_0's auc: 0.897162\n",
      "Training until validation scores don't improve for 30 rounds\n"
     ]
    },
    {
     "name": "stderr",
     "output_type": "stream",
     "text": [
      "[I 2025-08-04 23:02:14,607] Trial 15 finished with value: 0.9166666666666666 and parameters: {'learning_rate': 0.037863057906896064, 'num_leaves': 69, 'max_depth': 6, 'min_child_samples': 36, 'feature_fraction': 0.6651945243623242, 'bagging_fraction': 0.7464981465157963, 'lambda_l1': 0.37237408136303446, 'lambda_l2': 0.18994068269897324}. Best is trial 8 with value: 0.9333937198067633.\n"
     ]
    },
    {
     "name": "stdout",
     "output_type": "stream",
     "text": [
      "Early stopping, best iteration is:\n",
      "[23]\tvalid_0's auc: 0.916667\n",
      "Training until validation scores don't improve for 30 rounds\n"
     ]
    },
    {
     "name": "stderr",
     "output_type": "stream",
     "text": [
      "[I 2025-08-04 23:02:15,556] Trial 16 finished with value: 0.8993357487922705 and parameters: {'learning_rate': 0.11469004426355299, 'num_leaves': 44, 'max_depth': 10, 'min_child_samples': 50, 'feature_fraction': 0.7567259993626702, 'bagging_fraction': 0.6778542693773492, 'lambda_l1': 0.17480109493281704, 'lambda_l2': 0.3847743809608409}. Best is trial 8 with value: 0.9333937198067633.\n"
     ]
    },
    {
     "name": "stdout",
     "output_type": "stream",
     "text": [
      "Early stopping, best iteration is:\n",
      "[39]\tvalid_0's auc: 0.899336\n",
      "Training until validation scores don't improve for 30 rounds\n"
     ]
    },
    {
     "name": "stderr",
     "output_type": "stream",
     "text": [
      "[I 2025-08-04 23:02:16,125] Trial 17 finished with value: 0.9155797101449274 and parameters: {'learning_rate': 0.07940272471997024, 'num_leaves': 62, 'max_depth': 5, 'min_child_samples': 42, 'feature_fraction': 0.8395598616486638, 'bagging_fraction': 0.9000110703831701, 'lambda_l1': 0.5818597423854325, 'lambda_l2': 0.635949034881961}. Best is trial 8 with value: 0.9333937198067633.\n"
     ]
    },
    {
     "name": "stdout",
     "output_type": "stream",
     "text": [
      "Early stopping, best iteration is:\n",
      "[53]\tvalid_0's auc: 0.91558\n",
      "Training until validation scores don't improve for 30 rounds\n"
     ]
    },
    {
     "name": "stderr",
     "output_type": "stream",
     "text": [
      "[I 2025-08-04 23:02:16,465] Trial 18 finished with value: 0.931219806763285 and parameters: {'learning_rate': 0.15725364071041495, 'num_leaves': 78, 'max_depth': 3, 'min_child_samples': 32, 'feature_fraction': 0.656657301969175, 'bagging_fraction': 0.6468826595443398, 'lambda_l1': 0.6996139219765453, 'lambda_l2': 0.12098482959612789}. Best is trial 8 with value: 0.9333937198067633.\n"
     ]
    },
    {
     "name": "stdout",
     "output_type": "stream",
     "text": [
      "Early stopping, best iteration is:\n",
      "[32]\tvalid_0's auc: 0.93122\n",
      "Training until validation scores don't improve for 30 rounds\n"
     ]
    },
    {
     "name": "stderr",
     "output_type": "stream",
     "text": [
      "[I 2025-08-04 23:02:16,789] Trial 19 finished with value: 0.8967391304347827 and parameters: {'learning_rate': 0.1959049285293574, 'num_leaves': 78, 'max_depth': 3, 'min_child_samples': 32, 'feature_fraction': 0.6569782043175734, 'bagging_fraction': 0.6490724990028708, 'lambda_l1': 0.6854320822044344, 'lambda_l2': 0.06956915095017745}. Best is trial 8 with value: 0.9333937198067633.\n"
     ]
    },
    {
     "name": "stdout",
     "output_type": "stream",
     "text": [
      "Early stopping, best iteration is:\n",
      "[36]\tvalid_0's auc: 0.896739\n",
      "Training until validation scores don't improve for 30 rounds\n"
     ]
    },
    {
     "name": "stderr",
     "output_type": "stream",
     "text": [
      "[I 2025-08-04 23:02:17,200] Trial 20 finished with value: 0.8875 and parameters: {'learning_rate': 0.15426276119214985, 'num_leaves': 74, 'max_depth': 5, 'min_child_samples': 37, 'feature_fraction': 0.708949068774011, 'bagging_fraction': 0.7646602693347447, 'lambda_l1': 0.8627133614802577, 'lambda_l2': 0.13429137849710593}. Best is trial 8 with value: 0.9333937198067633.\n"
     ]
    },
    {
     "name": "stdout",
     "output_type": "stream",
     "text": [
      "Early stopping, best iteration is:\n",
      "[16]\tvalid_0's auc: 0.8875\n",
      "Training until validation scores don't improve for 30 rounds\n"
     ]
    },
    {
     "name": "stderr",
     "output_type": "stream",
     "text": [
      "[I 2025-08-04 23:02:17,501] Trial 21 finished with value: 0.913768115942029 and parameters: {'learning_rate': 0.14729190024065905, 'num_leaves': 65, 'max_depth': 3, 'min_child_samples': 25, 'feature_fraction': 0.6312900073217763, 'bagging_fraction': 0.6613484717789494, 'lambda_l1': 0.3926437721754865, 'lambda_l2': 0.24382464061199205}. Best is trial 8 with value: 0.9333937198067633.\n"
     ]
    },
    {
     "name": "stdout",
     "output_type": "stream",
     "text": [
      "Early stopping, best iteration is:\n",
      "[42]\tvalid_0's auc: 0.913768\n",
      "Training until validation scores don't improve for 30 rounds\n"
     ]
    },
    {
     "name": "stderr",
     "output_type": "stream",
     "text": [
      "[I 2025-08-04 23:02:17,850] Trial 22 finished with value: 0.9153985507246377 and parameters: {'learning_rate': 0.17747498430504874, 'num_leaves': 54, 'max_depth': 4, 'min_child_samples': 16, 'feature_fraction': 0.6959383177612933, 'bagging_fraction': 0.9362013656962828, 'lambda_l1': 0.5199475909009665, 'lambda_l2': 0.30411620040156534}. Best is trial 8 with value: 0.9333937198067633.\n"
     ]
    },
    {
     "name": "stdout",
     "output_type": "stream",
     "text": [
      "Early stopping, best iteration is:\n",
      "[17]\tvalid_0's auc: 0.915399\n",
      "Training until validation scores don't improve for 30 rounds\n"
     ]
    },
    {
     "name": "stderr",
     "output_type": "stream",
     "text": [
      "[I 2025-08-04 23:02:18,188] Trial 23 finished with value: 0.9147946859903382 and parameters: {'learning_rate': 0.10205219849516528, 'num_leaves': 28, 'max_depth': 4, 'min_child_samples': 27, 'feature_fraction': 0.7480357562913196, 'bagging_fraction': 0.733554954929206, 'lambda_l1': 0.667128353788165, 'lambda_l2': 0.11943954086049424}. Best is trial 8 with value: 0.9333937198067633.\n"
     ]
    },
    {
     "name": "stdout",
     "output_type": "stream",
     "text": [
      "Early stopping, best iteration is:\n",
      "[25]\tvalid_0's auc: 0.914795\n",
      "Training until validation scores don't improve for 30 rounds\n"
     ]
    },
    {
     "name": "stderr",
     "output_type": "stream",
     "text": [
      "[I 2025-08-04 23:02:18,680] Trial 24 finished with value: 0.8946256038647343 and parameters: {'learning_rate': 0.12185890387042421, 'num_leaves': 74, 'max_depth': 5, 'min_child_samples': 34, 'feature_fraction': 0.6287176003027531, 'bagging_fraction': 0.6849285566687837, 'lambda_l1': 0.20298861435261292, 'lambda_l2': 0.411487671709877}. Best is trial 8 with value: 0.9333937198067633.\n"
     ]
    },
    {
     "name": "stdout",
     "output_type": "stream",
     "text": [
      "Early stopping, best iteration is:\n",
      "[53]\tvalid_0's auc: 0.894626\n",
      "Training until validation scores don't improve for 30 rounds\n"
     ]
    },
    {
     "name": "stderr",
     "output_type": "stream",
     "text": [
      "[I 2025-08-04 23:02:18,956] Trial 25 finished with value: 0.903804347826087 and parameters: {'learning_rate': 0.14241496738895604, 'num_leaves': 46, 'max_depth': 3, 'min_child_samples': 47, 'feature_fraction': 0.8118698956766107, 'bagging_fraction': 0.6218532206599959, 'lambda_l1': 0.35201866777415247, 'lambda_l2': 0.26899626143586647}. Best is trial 8 with value: 0.9333937198067633.\n"
     ]
    },
    {
     "name": "stdout",
     "output_type": "stream",
     "text": [
      "Early stopping, best iteration is:\n",
      "[27]\tvalid_0's auc: 0.903804\n",
      "Training until validation scores don't improve for 30 rounds\n"
     ]
    },
    {
     "name": "stderr",
     "output_type": "stream",
     "text": [
      "[I 2025-08-04 23:02:19,851] Trial 26 finished with value: 0.8801932367149758 and parameters: {'learning_rate': 0.17734932245630952, 'num_leaves': 38, 'max_depth': 7, 'min_child_samples': 40, 'feature_fraction': 0.9893478422261942, 'bagging_fraction': 0.6461863515798612, 'lambda_l1': 0.4554481658001335, 'lambda_l2': 0.09985109549159737}. Best is trial 8 with value: 0.9333937198067633.\n"
     ]
    },
    {
     "name": "stdout",
     "output_type": "stream",
     "text": [
      "Early stopping, best iteration is:\n",
      "[64]\tvalid_0's auc: 0.880193\n",
      "Training until validation scores don't improve for 30 rounds\n"
     ]
    },
    {
     "name": "stderr",
     "output_type": "stream",
     "text": [
      "[I 2025-08-04 23:02:20,308] Trial 27 finished with value: 0.8969202898550724 and parameters: {'learning_rate': 0.09247484502518914, 'num_leaves': 26, 'max_depth': 9, 'min_child_samples': 21, 'feature_fraction': 0.6844601778278919, 'bagging_fraction': 0.7837513229661583, 'lambda_l1': 0.5763867169655226, 'lambda_l2': 0.363762164538089}. Best is trial 8 with value: 0.9333937198067633.\n"
     ]
    },
    {
     "name": "stdout",
     "output_type": "stream",
     "text": [
      "Early stopping, best iteration is:\n",
      "[10]\tvalid_0's auc: 0.89692\n",
      "Training until validation scores don't improve for 30 rounds\n"
     ]
    },
    {
     "name": "stderr",
     "output_type": "stream",
     "text": [
      "[I 2025-08-04 23:02:20,950] Trial 28 finished with value: 0.9089371980676328 and parameters: {'learning_rate': 0.12867087299236485, 'num_leaves': 62, 'max_depth': 6, 'min_child_samples': 45, 'feature_fraction': 0.6305270472934176, 'bagging_fraction': 0.6007178162296021, 'lambda_l1': 0.7974768184005762, 'lambda_l2': 0.47183975316602417}. Best is trial 8 with value: 0.9333937198067633.\n"
     ]
    },
    {
     "name": "stdout",
     "output_type": "stream",
     "text": [
      "Early stopping, best iteration is:\n",
      "[63]\tvalid_0's auc: 0.908937\n",
      "Training until validation scores don't improve for 30 rounds\n"
     ]
    },
    {
     "name": "stderr",
     "output_type": "stream",
     "text": [
      "[I 2025-08-04 23:02:21,307] Trial 29 finished with value: 0.9292270531400966 and parameters: {'learning_rate': 0.06794390679041004, 'num_leaves': 74, 'max_depth': 3, 'min_child_samples': 14, 'feature_fraction': 0.8756377809123554, 'bagging_fraction': 0.8219961520965521, 'lambda_l1': 0.7279925577600366, 'lambda_l2': 0.03953897285796831}. Best is trial 8 with value: 0.9333937198067633.\n"
     ]
    },
    {
     "name": "stdout",
     "output_type": "stream",
     "text": [
      "Early stopping, best iteration is:\n",
      "[56]\tvalid_0's auc: 0.929227\n"
     ]
    },
    {
     "name": "stderr",
     "output_type": "stream",
     "text": [
      "[I 2025-08-04 23:02:23,225] A new study created in memory with name: no-name-9279468f-520a-4326-a967-39bb071e6063\n"
     ]
    },
    {
     "name": "stdout",
     "output_type": "stream",
     "text": [
      "📍 Training for label: NR-ER\n",
      "Training until validation scores don't improve for 30 rounds\n",
      "Early stopping, best iteration is:\n",
      "[36]\tvalid_0's auc: 0.791737\n"
     ]
    },
    {
     "name": "stderr",
     "output_type": "stream",
     "text": [
      "[I 2025-08-04 23:02:23,777] Trial 0 finished with value: 0.7917369901547117 and parameters: {'learning_rate': 0.12655444723834303, 'num_leaves': 74, 'max_depth': 4, 'min_child_samples': 14, 'feature_fraction': 0.7378166399718518, 'bagging_fraction': 0.9214528761042688, 'lambda_l1': 0.44036648136161605, 'lambda_l2': 0.7074694363047542}. Best is trial 0 with value: 0.7917369901547117.\n"
     ]
    },
    {
     "name": "stdout",
     "output_type": "stream",
     "text": [
      "Training until validation scores don't improve for 30 rounds\n"
     ]
    },
    {
     "name": "stderr",
     "output_type": "stream",
     "text": [
      "[I 2025-08-04 23:02:24,574] Trial 1 finished with value: 0.7551101734646039 and parameters: {'learning_rate': 0.1687232942307233, 'num_leaves': 66, 'max_depth': 11, 'min_child_samples': 20, 'feature_fraction': 0.7660547043098778, 'bagging_fraction': 0.6556456887629238, 'lambda_l1': 0.18417402675049643, 'lambda_l2': 0.92501963511864}. Best is trial 0 with value: 0.7917369901547117.\n"
     ]
    },
    {
     "name": "stdout",
     "output_type": "stream",
     "text": [
      "Early stopping, best iteration is:\n",
      "[7]\tvalid_0's auc: 0.75511\n",
      "Training until validation scores don't improve for 30 rounds\n"
     ]
    },
    {
     "name": "stderr",
     "output_type": "stream",
     "text": [
      "[I 2025-08-04 23:02:25,032] Trial 2 finished with value: 0.7755625879043602 and parameters: {'learning_rate': 0.056045611412179494, 'num_leaves': 73, 'max_depth': 5, 'min_child_samples': 34, 'feature_fraction': 0.9608954306956998, 'bagging_fraction': 0.8967017619598832, 'lambda_l1': 0.8564566573784119, 'lambda_l2': 0.6892171202474457}. Best is trial 0 with value: 0.7917369901547117.\n"
     ]
    },
    {
     "name": "stdout",
     "output_type": "stream",
     "text": [
      "Early stopping, best iteration is:\n",
      "[6]\tvalid_0's auc: 0.775563\n",
      "Training until validation scores don't improve for 30 rounds\n"
     ]
    },
    {
     "name": "stderr",
     "output_type": "stream",
     "text": [
      "[I 2025-08-04 23:02:25,486] Trial 3 finished with value: 0.7655414908579465 and parameters: {'learning_rate': 0.07374119282938721, 'num_leaves': 38, 'max_depth': 6, 'min_child_samples': 10, 'feature_fraction': 0.7304372565455509, 'bagging_fraction': 0.7747386999103496, 'lambda_l1': 0.07878014208278472, 'lambda_l2': 0.4401980273545101}. Best is trial 0 with value: 0.7917369901547117.\n"
     ]
    },
    {
     "name": "stdout",
     "output_type": "stream",
     "text": [
      "Early stopping, best iteration is:\n",
      "[4]\tvalid_0's auc: 0.765541\n",
      "Training until validation scores don't improve for 30 rounds\n"
     ]
    },
    {
     "name": "stderr",
     "output_type": "stream",
     "text": [
      "[I 2025-08-04 23:02:25,751] Trial 4 finished with value: 0.7727496483825598 and parameters: {'learning_rate': 0.09727920145431324, 'num_leaves': 43, 'max_depth': 4, 'min_child_samples': 36, 'feature_fraction': 0.8139201527096275, 'bagging_fraction': 0.7478475145314183, 'lambda_l1': 0.5181576890506693, 'lambda_l2': 0.7578923873665089}. Best is trial 0 with value: 0.7917369901547117.\n"
     ]
    },
    {
     "name": "stdout",
     "output_type": "stream",
     "text": [
      "Early stopping, best iteration is:\n",
      "[6]\tvalid_0's auc: 0.77275\n",
      "Training until validation scores don't improve for 30 rounds\n"
     ]
    },
    {
     "name": "stderr",
     "output_type": "stream",
     "text": [
      "[I 2025-08-04 23:02:26,084] Trial 5 finished with value: 0.792627754336615 and parameters: {'learning_rate': 0.05950680137102316, 'num_leaves': 28, 'max_depth': 3, 'min_child_samples': 19, 'feature_fraction': 0.600172311436044, 'bagging_fraction': 0.9795744417816142, 'lambda_l1': 0.7408570768959728, 'lambda_l2': 0.7175935982522003}. Best is trial 5 with value: 0.792627754336615.\n"
     ]
    },
    {
     "name": "stdout",
     "output_type": "stream",
     "text": [
      "Did not meet early stopping. Best iteration is:\n",
      "[100]\tvalid_0's auc: 0.792628\n",
      "Training until validation scores don't improve for 30 rounds\n"
     ]
    },
    {
     "name": "stderr",
     "output_type": "stream",
     "text": [
      "[I 2025-08-04 23:02:26,302] Trial 6 finished with value: 0.7746835443037975 and parameters: {'learning_rate': 0.0775455084993492, 'num_leaves': 40, 'max_depth': 3, 'min_child_samples': 17, 'feature_fraction': 0.7848202553548436, 'bagging_fraction': 0.6599363719578513, 'lambda_l1': 0.9307140947715828, 'lambda_l2': 0.9271829321866192}. Best is trial 5 with value: 0.792627754336615.\n"
     ]
    },
    {
     "name": "stdout",
     "output_type": "stream",
     "text": [
      "Early stopping, best iteration is:\n",
      "[6]\tvalid_0's auc: 0.774684\n",
      "Training until validation scores don't improve for 30 rounds\n"
     ]
    },
    {
     "name": "stderr",
     "output_type": "stream",
     "text": [
      "[I 2025-08-04 23:02:26,564] Trial 7 finished with value: 0.7585208626347867 and parameters: {'learning_rate': 0.15431156567790524, 'num_leaves': 37, 'max_depth': 4, 'min_child_samples': 41, 'feature_fraction': 0.831863546424917, 'bagging_fraction': 0.8256929459825919, 'lambda_l1': 0.08244733083760425, 'lambda_l2': 0.9032344355545305}. Best is trial 5 with value: 0.792627754336615.\n"
     ]
    },
    {
     "name": "stdout",
     "output_type": "stream",
     "text": [
      "Early stopping, best iteration is:\n",
      "[4]\tvalid_0's auc: 0.758521\n",
      "Training until validation scores don't improve for 30 rounds\n"
     ]
    },
    {
     "name": "stderr",
     "output_type": "stream",
     "text": [
      "[I 2025-08-04 23:02:27,388] Trial 8 finished with value: 0.7643342709798405 and parameters: {'learning_rate': 0.09977218112864349, 'num_leaves': 28, 'max_depth': 12, 'min_child_samples': 38, 'feature_fraction': 0.6777703518851916, 'bagging_fraction': 0.9344979593674617, 'lambda_l1': 0.5787892509046353, 'lambda_l2': 0.24054896237458956}. Best is trial 5 with value: 0.792627754336615.\n"
     ]
    },
    {
     "name": "stdout",
     "output_type": "stream",
     "text": [
      "Early stopping, best iteration is:\n",
      "[45]\tvalid_0's auc: 0.764334\n",
      "Training until validation scores don't improve for 30 rounds\n"
     ]
    },
    {
     "name": "stderr",
     "output_type": "stream",
     "text": [
      "[I 2025-08-04 23:02:28,117] Trial 9 finished with value: 0.76671354899203 and parameters: {'learning_rate': 0.03249534774199201, 'num_leaves': 79, 'max_depth': 8, 'min_child_samples': 19, 'feature_fraction': 0.688668731345133, 'bagging_fraction': 0.6378997244198576, 'lambda_l1': 0.37066280055641077, 'lambda_l2': 0.887148704579971}. Best is trial 5 with value: 0.792627754336615.\n"
     ]
    },
    {
     "name": "stdout",
     "output_type": "stream",
     "text": [
      "Early stopping, best iteration is:\n",
      "[14]\tvalid_0's auc: 0.766714\n",
      "Training until validation scores don't improve for 30 rounds\n"
     ]
    },
    {
     "name": "stderr",
     "output_type": "stream",
     "text": [
      "[I 2025-08-04 23:02:28,649] Trial 10 finished with value: 0.7772972339428035 and parameters: {'learning_rate': 0.02600305250839293, 'num_leaves': 20, 'max_depth': 9, 'min_child_samples': 50, 'feature_fraction': 0.6018722002647807, 'bagging_fraction': 0.9960017976284331, 'lambda_l1': 0.7390536948619598, 'lambda_l2': 0.46054323402004466}. Best is trial 5 with value: 0.792627754336615.\n"
     ]
    },
    {
     "name": "stdout",
     "output_type": "stream",
     "text": [
      "Early stopping, best iteration is:\n",
      "[29]\tvalid_0's auc: 0.777297\n",
      "Training until validation scores don't improve for 30 rounds\n"
     ]
    },
    {
     "name": "stderr",
     "output_type": "stream",
     "text": [
      "[I 2025-08-04 23:02:29,323] Trial 11 finished with value: 0.762880918893577 and parameters: {'learning_rate': 0.1363386325252778, 'num_leaves': 61, 'max_depth': 6, 'min_child_samples': 26, 'feature_fraction': 0.6007957787336646, 'bagging_fraction': 0.9962045013047364, 'lambda_l1': 0.6839448171611721, 'lambda_l2': 0.6217944739755252}. Best is trial 5 with value: 0.792627754336615.\n"
     ]
    },
    {
     "name": "stdout",
     "output_type": "stream",
     "text": [
      "Early stopping, best iteration is:\n",
      "[47]\tvalid_0's auc: 0.762881\n",
      "Training until validation scores don't improve for 30 rounds\n"
     ]
    },
    {
     "name": "stderr",
     "output_type": "stream",
     "text": [
      "[I 2025-08-04 23:02:29,695] Trial 12 finished with value: 0.782008907641819 and parameters: {'learning_rate': 0.12624341370666053, 'num_leaves': 53, 'max_depth': 3, 'min_child_samples': 10, 'feature_fraction': 0.8925201898634845, 'bagging_fraction': 0.8914550271347086, 'lambda_l1': 0.3245028600994006, 'lambda_l2': 0.5993525463277031}. Best is trial 5 with value: 0.792627754336615.\n"
     ]
    },
    {
     "name": "stdout",
     "output_type": "stream",
     "text": [
      "Early stopping, best iteration is:\n",
      "[49]\tvalid_0's auc: 0.782009\n",
      "Training until validation scores don't improve for 30 rounds\n"
     ]
    },
    {
     "name": "stderr",
     "output_type": "stream",
     "text": [
      "[I 2025-08-04 23:02:30,196] Trial 13 finished with value: 0.7570675105485231 and parameters: {'learning_rate': 0.12686475260226138, 'num_leaves': 54, 'max_depth': 6, 'min_child_samples': 26, 'feature_fraction': 0.6655739637783264, 'bagging_fraction': 0.9435899246607421, 'lambda_l1': 0.3765924394858903, 'lambda_l2': 0.30408020568934546}. Best is trial 5 with value: 0.792627754336615.\n"
     ]
    },
    {
     "name": "stdout",
     "output_type": "stream",
     "text": [
      "Early stopping, best iteration is:\n",
      "[24]\tvalid_0's auc: 0.757068\n",
      "Training until validation scores don't improve for 30 rounds\n"
     ]
    },
    {
     "name": "stderr",
     "output_type": "stream",
     "text": [
      "[I 2025-08-04 23:02:30,563] Trial 14 finished with value: 0.7975035161744023 and parameters: {'learning_rate': 0.18345558271655504, 'num_leaves': 26, 'max_depth': 3, 'min_child_samples': 14, 'feature_fraction': 0.8941072479679608, 'bagging_fraction': 0.8484027322211309, 'lambda_l1': 0.6968092503076707, 'lambda_l2': 0.09503541154674877}. Best is trial 14 with value: 0.7975035161744023.\n"
     ]
    },
    {
     "name": "stdout",
     "output_type": "stream",
     "text": [
      "Did not meet early stopping. Best iteration is:\n",
      "[92]\tvalid_0's auc: 0.797504\n",
      "Training until validation scores don't improve for 30 rounds\n"
     ]
    },
    {
     "name": "stderr",
     "output_type": "stream",
     "text": [
      "[I 2025-08-04 23:02:31,372] Trial 15 finished with value: 0.7468237224566339 and parameters: {'learning_rate': 0.19025037326985916, 'num_leaves': 26, 'max_depth': 9, 'min_child_samples': 24, 'feature_fraction': 0.8887445243269256, 'bagging_fraction': 0.8356377059196257, 'lambda_l1': 0.7520792908667284, 'lambda_l2': 0.025296986349957723}. Best is trial 14 with value: 0.7975035161744023.\n"
     ]
    },
    {
     "name": "stdout",
     "output_type": "stream",
     "text": [
      "Early stopping, best iteration is:\n",
      "[33]\tvalid_0's auc: 0.746824\n",
      "Training until validation scores don't improve for 30 rounds\n"
     ]
    },
    {
     "name": "stderr",
     "output_type": "stream",
     "text": [
      "[I 2025-08-04 23:02:31,687] Trial 16 finished with value: 0.7746952648851383 and parameters: {'learning_rate': 0.19301487160354, 'num_leaves': 29, 'max_depth': 3, 'min_child_samples': 15, 'feature_fraction': 0.9814207695537398, 'bagging_fraction': 0.7145447218752937, 'lambda_l1': 0.6162972228044563, 'lambda_l2': 0.0033288074089445896}. Best is trial 14 with value: 0.7975035161744023.\n"
     ]
    },
    {
     "name": "stdout",
     "output_type": "stream",
     "text": [
      "Early stopping, best iteration is:\n",
      "[30]\tvalid_0's auc: 0.774695\n",
      "Training until validation scores don't improve for 30 rounds\n"
     ]
    },
    {
     "name": "stderr",
     "output_type": "stream",
     "text": [
      "[I 2025-08-04 23:02:32,370] Trial 17 finished with value: 0.757794186591655 and parameters: {'learning_rate': 0.05160660096973163, 'num_leaves': 21, 'max_depth': 7, 'min_child_samples': 22, 'feature_fraction': 0.8739426893959628, 'bagging_fraction': 0.8503036513865212, 'lambda_l1': 0.8728717581572356, 'lambda_l2': 0.16278215007966762}. Best is trial 14 with value: 0.7975035161744023.\n"
     ]
    },
    {
     "name": "stdout",
     "output_type": "stream",
     "text": [
      "Early stopping, best iteration is:\n",
      "[35]\tvalid_0's auc: 0.757794\n",
      "Training until validation scores don't improve for 30 rounds\n"
     ]
    },
    {
     "name": "stderr",
     "output_type": "stream",
     "text": [
      "[I 2025-08-04 23:02:32,799] Trial 18 finished with value: 0.7506915142991093 and parameters: {'learning_rate': 0.16528064106566603, 'num_leaves': 32, 'max_depth': 5, 'min_child_samples': 29, 'feature_fraction': 0.8513029625102022, 'bagging_fraction': 0.7089605215136111, 'lambda_l1': 0.7966230231493187, 'lambda_l2': 0.3661600892905032}. Best is trial 14 with value: 0.7975035161744023.\n"
     ]
    },
    {
     "name": "stdout",
     "output_type": "stream",
     "text": [
      "Early stopping, best iteration is:\n",
      "[22]\tvalid_0's auc: 0.750692\n",
      "Training until validation scores don't improve for 30 rounds\n"
     ]
    },
    {
     "name": "stderr",
     "output_type": "stream",
     "text": [
      "[I 2025-08-04 23:02:33,497] Trial 19 finished with value: 0.7855250820440693 and parameters: {'learning_rate': 0.011224123421934337, 'num_leaves': 47, 'max_depth': 5, 'min_child_samples': 13, 'feature_fraction': 0.9243979091500134, 'bagging_fraction': 0.8718841333304028, 'lambda_l1': 0.9913093666117639, 'lambda_l2': 0.16660407066853444}. Best is trial 14 with value: 0.7975035161744023.\n"
     ]
    },
    {
     "name": "stdout",
     "output_type": "stream",
     "text": [
      "Early stopping, best iteration is:\n",
      "[43]\tvalid_0's auc: 0.785525\n",
      "Training until validation scores don't improve for 30 rounds\n"
     ]
    },
    {
     "name": "stderr",
     "output_type": "stream",
     "text": [
      "[I 2025-08-04 23:02:33,785] Trial 20 finished with value: 0.7813056727613691 and parameters: {'learning_rate': 0.07976202876688467, 'num_leaves': 35, 'max_depth': 3, 'min_child_samples': 29, 'feature_fraction': 0.9377733474326566, 'bagging_fraction': 0.6021898788767216, 'lambda_l1': 0.6384876368105448, 'lambda_l2': 0.5559020916874042}. Best is trial 14 with value: 0.7975035161744023.\n"
     ]
    },
    {
     "name": "stdout",
     "output_type": "stream",
     "text": [
      "Early stopping, best iteration is:\n",
      "[34]\tvalid_0's auc: 0.781306\n",
      "Training until validation scores don't improve for 30 rounds\n"
     ]
    },
    {
     "name": "stderr",
     "output_type": "stream",
     "text": [
      "[I 2025-08-04 23:02:34,108] Trial 21 finished with value: 0.7850328176277542 and parameters: {'learning_rate': 0.14378949689886694, 'num_leaves': 61, 'max_depth': 4, 'min_child_samples': 14, 'feature_fraction': 0.7388870155043061, 'bagging_fraction': 0.9422970164654041, 'lambda_l1': 0.46044335564060784, 'lambda_l2': 0.7401274313766474}. Best is trial 14 with value: 0.7975035161744023.\n"
     ]
    },
    {
     "name": "stdout",
     "output_type": "stream",
     "text": [
      "Early stopping, best iteration is:\n",
      "[24]\tvalid_0's auc: 0.785033\n",
      "Training until validation scores don't improve for 30 rounds\n"
     ]
    },
    {
     "name": "stderr",
     "output_type": "stream",
     "text": [
      "[I 2025-08-04 23:02:34,473] Trial 22 finished with value: 0.781235349273324 and parameters: {'learning_rate': 0.11668076752518064, 'num_leaves': 80, 'max_depth': 4, 'min_child_samples': 17, 'feature_fraction': 0.6399970417594519, 'bagging_fraction': 0.9204102953168738, 'lambda_l1': 0.4931598428281408, 'lambda_l2': 0.8060900151835756}. Best is trial 14 with value: 0.7975035161744023.\n"
     ]
    },
    {
     "name": "stdout",
     "output_type": "stream",
     "text": [
      "Early stopping, best iteration is:\n",
      "[19]\tvalid_0's auc: 0.781235\n",
      "Training until validation scores don't improve for 30 rounds\n"
     ]
    },
    {
     "name": "stderr",
     "output_type": "stream",
     "text": [
      "[I 2025-08-04 23:02:34,811] Trial 23 finished with value: 0.7880567276136896 and parameters: {'learning_rate': 0.17191211093152364, 'num_leaves': 25, 'max_depth': 3, 'min_child_samples': 12, 'feature_fraction': 0.7163966638460922, 'bagging_fraction': 0.9613595327585586, 'lambda_l1': 0.2882969263079663, 'lambda_l2': 0.6636622322583315}. Best is trial 14 with value: 0.7975035161744023.\n"
     ]
    },
    {
     "name": "stdout",
     "output_type": "stream",
     "text": [
      "Did not meet early stopping. Best iteration is:\n",
      "[91]\tvalid_0's auc: 0.788057\n",
      "Training until validation scores don't improve for 30 rounds\n"
     ]
    },
    {
     "name": "stderr",
     "output_type": "stream",
     "text": [
      "[I 2025-08-04 23:02:35,168] Trial 24 finished with value: 0.7735818096577589 and parameters: {'learning_rate': 0.057499742268850455, 'num_leaves': 48, 'max_depth': 5, 'min_child_samples': 19, 'feature_fraction': 0.6397954914517582, 'bagging_fraction': 0.7985875253256168, 'lambda_l1': 0.5480193030815712, 'lambda_l2': 0.524964828559993}. Best is trial 14 with value: 0.7975035161744023.\n"
     ]
    },
    {
     "name": "stdout",
     "output_type": "stream",
     "text": [
      "Early stopping, best iteration is:\n",
      "[7]\tvalid_0's auc: 0.773582\n",
      "Training until validation scores don't improve for 30 rounds\n"
     ]
    },
    {
     "name": "stderr",
     "output_type": "stream",
     "text": [
      "[I 2025-08-04 23:02:35,458] Trial 25 finished with value: 0.776207219878106 and parameters: {'learning_rate': 0.10167854295508715, 'num_leaves': 70, 'max_depth': 4, 'min_child_samples': 16, 'feature_fraction': 0.7688865532181329, 'bagging_fraction': 0.9717781516754287, 'lambda_l1': 0.6939667284385138, 'lambda_l2': 0.8213636155245919}. Best is trial 14 with value: 0.7975035161744023.\n"
     ]
    },
    {
     "name": "stdout",
     "output_type": "stream",
     "text": [
      "Early stopping, best iteration is:\n",
      "[6]\tvalid_0's auc: 0.776207\n",
      "Training until validation scores don't improve for 30 rounds\n"
     ]
    },
    {
     "name": "stderr",
     "output_type": "stream",
     "text": [
      "[I 2025-08-04 23:02:36,438] Trial 26 finished with value: 0.7648265353961555 and parameters: {'learning_rate': 0.11553797107607151, 'num_leaves': 33, 'max_depth': 7, 'min_child_samples': 21, 'feature_fraction': 0.8106393348414823, 'bagging_fraction': 0.9043027124725752, 'lambda_l1': 0.7930903935915155, 'lambda_l2': 0.3864742357984949}. Best is trial 14 with value: 0.7975035161744023.\n"
     ]
    },
    {
     "name": "stdout",
     "output_type": "stream",
     "text": [
      "Did not meet early stopping. Best iteration is:\n",
      "[96]\tvalid_0's auc: 0.764827\n",
      "Training until validation scores don't improve for 30 rounds\n"
     ]
    },
    {
     "name": "stderr",
     "output_type": "stream",
     "text": [
      "[I 2025-08-04 23:02:36,734] Trial 27 finished with value: 0.7614041256446319 and parameters: {'learning_rate': 0.19917105729051077, 'num_leaves': 43, 'max_depth': 3, 'min_child_samples': 23, 'feature_fraction': 0.7061110142250631, 'bagging_fraction': 0.867375302771759, 'lambda_l1': 0.45788397725402413, 'lambda_l2': 0.6914787198636352}. Best is trial 14 with value: 0.7975035161744023.\n"
     ]
    },
    {
     "name": "stdout",
     "output_type": "stream",
     "text": [
      "Early stopping, best iteration is:\n",
      "[52]\tvalid_0's auc: 0.761404\n",
      "Training until validation scores don't improve for 30 rounds\n"
     ]
    },
    {
     "name": "stderr",
     "output_type": "stream",
     "text": [
      "[I 2025-08-04 23:02:37,067] Trial 28 finished with value: 0.7643342709798406 and parameters: {'learning_rate': 0.18290993781700302, 'num_leaves': 58, 'max_depth': 4, 'min_child_samples': 12, 'feature_fraction': 0.9986934490396029, 'bagging_fraction': 0.8033745207877722, 'lambda_l1': 0.20807207682805218, 'lambda_l2': 0.09436562011166744}. Best is trial 14 with value: 0.7975035161744023.\n"
     ]
    },
    {
     "name": "stdout",
     "output_type": "stream",
     "text": [
      "Early stopping, best iteration is:\n",
      "[14]\tvalid_0's auc: 0.764334\n",
      "Training until validation scores don't improve for 30 rounds\n"
     ]
    },
    {
     "name": "stderr",
     "output_type": "stream",
     "text": [
      "[I 2025-08-04 23:02:37,873] Trial 29 finished with value: 0.7475152367557432 and parameters: {'learning_rate': 0.15542249314562961, 'num_leaves': 70, 'max_depth': 10, 'min_child_samples': 18, 'feature_fraction': 0.7584315530222936, 'bagging_fraction': 0.9687455919122794, 'lambda_l1': 0.649247020207502, 'lambda_l2': 0.9878286254235682}. Best is trial 14 with value: 0.7975035161744023.\n"
     ]
    },
    {
     "name": "stdout",
     "output_type": "stream",
     "text": [
      "Early stopping, best iteration is:\n",
      "[9]\tvalid_0's auc: 0.747515\n"
     ]
    },
    {
     "name": "stderr",
     "output_type": "stream",
     "text": [
      "[I 2025-08-04 23:02:39,633] A new study created in memory with name: no-name-1f241524-723a-4bcb-a113-6bd1e9a25b63\n"
     ]
    },
    {
     "name": "stdout",
     "output_type": "stream",
     "text": [
      "📍 Training for label: NR-ER-LBD\n",
      "Training until validation scores don't improve for 30 rounds\n"
     ]
    },
    {
     "name": "stderr",
     "output_type": "stream",
     "text": [
      "[I 2025-08-04 23:02:40,476] Trial 0 finished with value: 0.7449350649350649 and parameters: {'learning_rate': 0.1658001485289915, 'num_leaves': 76, 'max_depth': 6, 'min_child_samples': 39, 'feature_fraction': 0.9913668109727864, 'bagging_fraction': 0.8556924141446971, 'lambda_l1': 0.3575046985799909, 'lambda_l2': 0.19132121170991978}. Best is trial 0 with value: 0.7449350649350649.\n"
     ]
    },
    {
     "name": "stdout",
     "output_type": "stream",
     "text": [
      "Early stopping, best iteration is:\n",
      "[30]\tvalid_0's auc: 0.744935\n",
      "Training until validation scores don't improve for 30 rounds\n"
     ]
    },
    {
     "name": "stderr",
     "output_type": "stream",
     "text": [
      "[I 2025-08-04 23:02:41,714] Trial 1 finished with value: 0.7692640692640692 and parameters: {'learning_rate': 0.026548982255549775, 'num_leaves': 64, 'max_depth': 12, 'min_child_samples': 50, 'feature_fraction': 0.9898854898469973, 'bagging_fraction': 0.8599419792708347, 'lambda_l1': 0.05964357437620593, 'lambda_l2': 0.05834048441370365}. Best is trial 1 with value: 0.7692640692640692.\n"
     ]
    },
    {
     "name": "stdout",
     "output_type": "stream",
     "text": [
      "Early stopping, best iteration is:\n",
      "[36]\tvalid_0's auc: 0.769264\n",
      "Training until validation scores don't improve for 30 rounds\n"
     ]
    },
    {
     "name": "stderr",
     "output_type": "stream",
     "text": [
      "[I 2025-08-04 23:02:42,654] Trial 2 finished with value: 0.7693073593073593 and parameters: {'learning_rate': 0.19080820666862236, 'num_leaves': 58, 'max_depth': 9, 'min_child_samples': 11, 'feature_fraction': 0.6036797827917778, 'bagging_fraction': 0.689933260238881, 'lambda_l1': 0.5996361152553623, 'lambda_l2': 0.8209729700996}. Best is trial 2 with value: 0.7693073593073593.\n"
     ]
    },
    {
     "name": "stdout",
     "output_type": "stream",
     "text": [
      "Did not meet early stopping. Best iteration is:\n",
      "[81]\tvalid_0's auc: 0.769307\n",
      "Training until validation scores don't improve for 30 rounds\n"
     ]
    },
    {
     "name": "stderr",
     "output_type": "stream",
     "text": [
      "[I 2025-08-04 23:02:43,885] Trial 3 finished with value: 0.7798701298701298 and parameters: {'learning_rate': 0.05115243866205029, 'num_leaves': 57, 'max_depth': 11, 'min_child_samples': 46, 'feature_fraction': 0.870760384713616, 'bagging_fraction': 0.6305016538461019, 'lambda_l1': 0.6708295051952502, 'lambda_l2': 0.660008710096493}. Best is trial 3 with value: 0.7798701298701298.\n"
     ]
    },
    {
     "name": "stdout",
     "output_type": "stream",
     "text": [
      "Did not meet early stopping. Best iteration is:\n",
      "[94]\tvalid_0's auc: 0.77987\n",
      "Training until validation scores don't improve for 30 rounds\n"
     ]
    },
    {
     "name": "stderr",
     "output_type": "stream",
     "text": [
      "[I 2025-08-04 23:02:44,846] Trial 4 finished with value: 0.7793073593073592 and parameters: {'learning_rate': 0.03852945926530186, 'num_leaves': 38, 'max_depth': 8, 'min_child_samples': 38, 'feature_fraction': 0.7470515000607623, 'bagging_fraction': 0.8943835941356844, 'lambda_l1': 0.7763802423578888, 'lambda_l2': 0.25436491791464944}. Best is trial 3 with value: 0.7798701298701298.\n"
     ]
    },
    {
     "name": "stdout",
     "output_type": "stream",
     "text": [
      "Did not meet early stopping. Best iteration is:\n",
      "[88]\tvalid_0's auc: 0.779307\n",
      "Training until validation scores don't improve for 30 rounds\n"
     ]
    },
    {
     "name": "stderr",
     "output_type": "stream",
     "text": [
      "[I 2025-08-04 23:02:45,915] Trial 5 finished with value: 0.7691774891774892 and parameters: {'learning_rate': 0.12839216498574674, 'num_leaves': 51, 'max_depth': 11, 'min_child_samples': 50, 'feature_fraction': 0.6151189150550129, 'bagging_fraction': 0.6230535100119097, 'lambda_l1': 0.04956650188307643, 'lambda_l2': 0.0930175548976151}. Best is trial 3 with value: 0.7798701298701298.\n"
     ]
    },
    {
     "name": "stdout",
     "output_type": "stream",
     "text": [
      "Did not meet early stopping. Best iteration is:\n",
      "[74]\tvalid_0's auc: 0.769177\n",
      "Training until validation scores don't improve for 30 rounds\n"
     ]
    },
    {
     "name": "stderr",
     "output_type": "stream",
     "text": [
      "[I 2025-08-04 23:02:46,639] Trial 6 finished with value: 0.7649783549783549 and parameters: {'learning_rate': 0.14420241803281658, 'num_leaves': 27, 'max_depth': 6, 'min_child_samples': 42, 'feature_fraction': 0.7071620332740428, 'bagging_fraction': 0.980262617142446, 'lambda_l1': 0.4081751582448736, 'lambda_l2': 0.8083285139261002}. Best is trial 3 with value: 0.7798701298701298.\n"
     ]
    },
    {
     "name": "stdout",
     "output_type": "stream",
     "text": [
      "Did not meet early stopping. Best iteration is:\n",
      "[79]\tvalid_0's auc: 0.764978\n",
      "Training until validation scores don't improve for 30 rounds\n"
     ]
    },
    {
     "name": "stderr",
     "output_type": "stream",
     "text": [
      "[I 2025-08-04 23:02:47,608] Trial 7 finished with value: 0.7548484848484849 and parameters: {'learning_rate': 0.16270780366074467, 'num_leaves': 56, 'max_depth': 12, 'min_child_samples': 44, 'feature_fraction': 0.9695569999710354, 'bagging_fraction': 0.9465743765466365, 'lambda_l1': 0.9841086125253576, 'lambda_l2': 0.3745609613695192}. Best is trial 3 with value: 0.7798701298701298.\n"
     ]
    },
    {
     "name": "stdout",
     "output_type": "stream",
     "text": [
      "Did not meet early stopping. Best iteration is:\n",
      "[80]\tvalid_0's auc: 0.754848\n",
      "Training until validation scores don't improve for 30 rounds\n"
     ]
    },
    {
     "name": "stderr",
     "output_type": "stream",
     "text": [
      "[I 2025-08-04 23:02:48,093] Trial 8 finished with value: 0.7818398268398269 and parameters: {'learning_rate': 0.04636007875579756, 'num_leaves': 57, 'max_depth': 8, 'min_child_samples': 12, 'feature_fraction': 0.8768658855781715, 'bagging_fraction': 0.8953571416803079, 'lambda_l1': 0.7303345149084562, 'lambda_l2': 0.4486788247616199}. Best is trial 8 with value: 0.7818398268398269.\n"
     ]
    },
    {
     "name": "stdout",
     "output_type": "stream",
     "text": [
      "Early stopping, best iteration is:\n",
      "[4]\tvalid_0's auc: 0.78184\n",
      "Training until validation scores don't improve for 30 rounds\n"
     ]
    },
    {
     "name": "stderr",
     "output_type": "stream",
     "text": [
      "[I 2025-08-04 23:02:48,915] Trial 9 finished with value: 0.7945021645021645 and parameters: {'learning_rate': 0.1607764407175097, 'num_leaves': 64, 'max_depth': 11, 'min_child_samples': 30, 'feature_fraction': 0.8647408005138004, 'bagging_fraction': 0.678140206782294, 'lambda_l1': 0.9123703104767521, 'lambda_l2': 0.4271772139789407}. Best is trial 9 with value: 0.7945021645021645.\n"
     ]
    },
    {
     "name": "stdout",
     "output_type": "stream",
     "text": [
      "Early stopping, best iteration is:\n",
      "[28]\tvalid_0's auc: 0.794502\n",
      "Training until validation scores don't improve for 30 rounds\n"
     ]
    },
    {
     "name": "stderr",
     "output_type": "stream",
     "text": [
      "[I 2025-08-04 23:02:49,373] Trial 10 finished with value: 0.7596969696969698 and parameters: {'learning_rate': 0.0913785420441217, 'num_leaves': 79, 'max_depth': 4, 'min_child_samples': 25, 'feature_fraction': 0.8310452616666566, 'bagging_fraction': 0.7512138782763125, 'lambda_l1': 0.9505734200512808, 'lambda_l2': 0.992290660617525}. Best is trial 9 with value: 0.7945021645021645.\n"
     ]
    },
    {
     "name": "stdout",
     "output_type": "stream",
     "text": [
      "Early stopping, best iteration is:\n",
      "[56]\tvalid_0's auc: 0.759697\n",
      "Training until validation scores don't improve for 30 rounds\n"
     ]
    },
    {
     "name": "stderr",
     "output_type": "stream",
     "text": [
      "[I 2025-08-04 23:02:50,889] Trial 11 finished with value: 0.7758441558441559 and parameters: {'learning_rate': 0.08563931574080577, 'num_leaves': 68, 'max_depth': 9, 'min_child_samples': 19, 'feature_fraction': 0.9021220522038571, 'bagging_fraction': 0.7721725776039879, 'lambda_l1': 0.8253394337706369, 'lambda_l2': 0.5082766150187945}. Best is trial 9 with value: 0.7945021645021645.\n"
     ]
    },
    {
     "name": "stdout",
     "output_type": "stream",
     "text": [
      "Did not meet early stopping. Best iteration is:\n",
      "[90]\tvalid_0's auc: 0.775844\n",
      "Training until validation scores don't improve for 30 rounds\n"
     ]
    },
    {
     "name": "stderr",
     "output_type": "stream",
     "text": [
      "[I 2025-08-04 23:02:52,211] Trial 12 finished with value: 0.7771428571428571 and parameters: {'learning_rate': 0.10355046404820531, 'num_leaves': 42, 'max_depth': 10, 'min_child_samples': 29, 'feature_fraction': 0.9027407902486708, 'bagging_fraction': 0.7038469753435006, 'lambda_l1': 0.816814652037729, 'lambda_l2': 0.45925074149385653}. Best is trial 9 with value: 0.7945021645021645.\n"
     ]
    },
    {
     "name": "stdout",
     "output_type": "stream",
     "text": [
      "Did not meet early stopping. Best iteration is:\n",
      "[73]\tvalid_0's auc: 0.777143\n",
      "Training until validation scores don't improve for 30 rounds\n"
     ]
    },
    {
     "name": "stderr",
     "output_type": "stream",
     "text": [
      "[I 2025-08-04 23:02:53,237] Trial 13 finished with value: 0.7735930735930736 and parameters: {'learning_rate': 0.06589683983448491, 'num_leaves': 68, 'max_depth': 7, 'min_child_samples': 10, 'feature_fraction': 0.7558315347578377, 'bagging_fraction': 0.8207754493572862, 'lambda_l1': 0.5673629126277708, 'lambda_l2': 0.5932480921301122}. Best is trial 9 with value: 0.7945021645021645.\n"
     ]
    },
    {
     "name": "stdout",
     "output_type": "stream",
     "text": [
      "Early stopping, best iteration is:\n",
      "[62]\tvalid_0's auc: 0.773593\n",
      "Training until validation scores don't improve for 30 rounds\n"
     ]
    },
    {
     "name": "stderr",
     "output_type": "stream",
     "text": [
      "[I 2025-08-04 23:02:53,732] Trial 14 finished with value: 0.7516883116883117 and parameters: {'learning_rate': 0.19681112305978948, 'num_leaves': 43, 'max_depth': 4, 'min_child_samples': 19, 'feature_fraction': 0.8267657973996827, 'bagging_fraction': 0.9150644725206345, 'lambda_l1': 0.7478538328293616, 'lambda_l2': 0.2975598597667859}. Best is trial 9 with value: 0.7945021645021645.\n"
     ]
    },
    {
     "name": "stdout",
     "output_type": "stream",
     "text": [
      "Did not meet early stopping. Best iteration is:\n",
      "[82]\tvalid_0's auc: 0.751688\n",
      "Training until validation scores don't improve for 30 rounds\n"
     ]
    },
    {
     "name": "stderr",
     "output_type": "stream",
     "text": [
      "[I 2025-08-04 23:02:54,516] Trial 15 finished with value: 0.7682683982683982 and parameters: {'learning_rate': 0.01621317920894223, 'num_leaves': 64, 'max_depth': 8, 'min_child_samples': 35, 'feature_fraction': 0.9168375722666069, 'bagging_fraction': 0.6939019105995539, 'lambda_l1': 0.9119691439300481, 'lambda_l2': 0.3975450927981851}. Best is trial 9 with value: 0.7945021645021645.\n"
     ]
    },
    {
     "name": "stdout",
     "output_type": "stream",
     "text": [
      "Early stopping, best iteration is:\n",
      "[42]\tvalid_0's auc: 0.768268\n",
      "Training until validation scores don't improve for 30 rounds\n"
     ]
    },
    {
     "name": "stderr",
     "output_type": "stream",
     "text": [
      "[I 2025-08-04 23:02:55,693] Trial 16 finished with value: 0.7597402597402598 and parameters: {'learning_rate': 0.12976976173596622, 'num_leaves': 49, 'max_depth': 10, 'min_child_samples': 17, 'feature_fraction': 0.802908857103619, 'bagging_fraction': 0.7886433420954818, 'lambda_l1': 0.43960288991913754, 'lambda_l2': 0.5884090093340967}. Best is trial 9 with value: 0.7945021645021645.\n"
     ]
    },
    {
     "name": "stdout",
     "output_type": "stream",
     "text": [
      "Early stopping, best iteration is:\n",
      "[47]\tvalid_0's auc: 0.75974\n",
      "Training until validation scores don't improve for 30 rounds\n"
     ]
    },
    {
     "name": "stderr",
     "output_type": "stream",
     "text": [
      "[I 2025-08-04 23:02:56,317] Trial 17 finished with value: 0.7683982683982684 and parameters: {'learning_rate': 0.0713807471378271, 'num_leaves': 21, 'max_depth': 5, 'min_child_samples': 25, 'feature_fraction': 0.8616875994356876, 'bagging_fraction': 0.9913971190434625, 'lambda_l1': 0.1882937843718736, 'lambda_l2': 0.3362787201202925}. Best is trial 9 with value: 0.7945021645021645.\n"
     ]
    },
    {
     "name": "stdout",
     "output_type": "stream",
     "text": [
      "Early stopping, best iteration is:\n",
      "[66]\tvalid_0's auc: 0.768398\n",
      "Training until validation scores don't improve for 30 rounds\n"
     ]
    },
    {
     "name": "stderr",
     "output_type": "stream",
     "text": [
      "[I 2025-08-04 23:02:56,564] Trial 18 finished with value: 0.7516450216450217 and parameters: {'learning_rate': 0.11527323235962131, 'num_leaves': 73, 'max_depth': 3, 'min_child_samples': 31, 'feature_fraction': 0.9423144512036805, 'bagging_fraction': 0.8267215311513718, 'lambda_l1': 0.6812685197735376, 'lambda_l2': 0.7221864642309983}. Best is trial 9 with value: 0.7945021645021645.\n"
     ]
    },
    {
     "name": "stdout",
     "output_type": "stream",
     "text": [
      "Early stopping, best iteration is:\n",
      "[4]\tvalid_0's auc: 0.751645\n",
      "Training until validation scores don't improve for 30 rounds\n"
     ]
    },
    {
     "name": "stderr",
     "output_type": "stream",
     "text": [
      "[I 2025-08-04 23:02:57,435] Trial 19 finished with value: 0.7774891774891775 and parameters: {'learning_rate': 0.17130461105687111, 'num_leaves': 36, 'max_depth': 7, 'min_child_samples': 16, 'feature_fraction': 0.7593434410426094, 'bagging_fraction': 0.7363883745084173, 'lambda_l1': 0.8737110170918096, 'lambda_l2': 0.19074521437947511}. Best is trial 9 with value: 0.7945021645021645.\n"
     ]
    },
    {
     "name": "stdout",
     "output_type": "stream",
     "text": [
      "Early stopping, best iteration is:\n",
      "[54]\tvalid_0's auc: 0.777489\n",
      "Training until validation scores don't improve for 30 rounds\n"
     ]
    },
    {
     "name": "stderr",
     "output_type": "stream",
     "text": [
      "[I 2025-08-04 23:02:57,953] Trial 20 finished with value: 0.7465367965367966 and parameters: {'learning_rate': 0.14739547943576078, 'num_leaves': 51, 'max_depth': 9, 'min_child_samples': 24, 'feature_fraction': 0.6842388495960595, 'bagging_fraction': 0.6602913119874239, 'lambda_l1': 0.9982600560251703, 'lambda_l2': 0.4929339996293829}. Best is trial 9 with value: 0.7945021645021645.\n"
     ]
    },
    {
     "name": "stdout",
     "output_type": "stream",
     "text": [
      "Early stopping, best iteration is:\n",
      "[4]\tvalid_0's auc: 0.746537\n",
      "Training until validation scores don't improve for 30 rounds\n"
     ]
    },
    {
     "name": "stderr",
     "output_type": "stream",
     "text": [
      "[I 2025-08-04 23:02:58,652] Trial 21 finished with value: 0.799134199134199 and parameters: {'learning_rate': 0.04966750463220386, 'num_leaves': 59, 'max_depth': 11, 'min_child_samples': 32, 'feature_fraction': 0.8709306374274108, 'bagging_fraction': 0.6068631454819745, 'lambda_l1': 0.6432632761268846, 'lambda_l2': 0.6358861407999609}. Best is trial 21 with value: 0.799134199134199.\n"
     ]
    },
    {
     "name": "stdout",
     "output_type": "stream",
     "text": [
      "Early stopping, best iteration is:\n",
      "[20]\tvalid_0's auc: 0.799134\n",
      "Training until validation scores don't improve for 30 rounds\n"
     ]
    },
    {
     "name": "stderr",
     "output_type": "stream",
     "text": [
      "[I 2025-08-04 23:02:59,501] Trial 22 finished with value: 0.7838095238095238 and parameters: {'learning_rate': 0.058036543448932644, 'num_leaves': 60, 'max_depth': 11, 'min_child_samples': 32, 'feature_fraction': 0.850563479356326, 'bagging_fraction': 0.606496773717563, 'lambda_l1': 0.6831861884037097, 'lambda_l2': 0.5863244288368931}. Best is trial 21 with value: 0.799134199134199.\n"
     ]
    },
    {
     "name": "stdout",
     "output_type": "stream",
     "text": [
      "Early stopping, best iteration is:\n",
      "[31]\tvalid_0's auc: 0.78381\n",
      "Training until validation scores don't improve for 30 rounds\n"
     ]
    },
    {
     "name": "stderr",
     "output_type": "stream",
     "text": [
      "[I 2025-08-04 23:03:00,874] Trial 23 finished with value: 0.7727705627705628 and parameters: {'learning_rate': 0.06297296189238276, 'num_leaves': 62, 'max_depth': 11, 'min_child_samples': 33, 'feature_fraction': 0.8269882892036179, 'bagging_fraction': 0.6016349746577565, 'lambda_l1': 0.5396314922998248, 'lambda_l2': 0.5868556101307918}. Best is trial 21 with value: 0.799134199134199.\n"
     ]
    },
    {
     "name": "stdout",
     "output_type": "stream",
     "text": [
      "Did not meet early stopping. Best iteration is:\n",
      "[85]\tvalid_0's auc: 0.772771\n",
      "Training until validation scores don't improve for 30 rounds\n"
     ]
    },
    {
     "name": "stderr",
     "output_type": "stream",
     "text": [
      "[I 2025-08-04 23:03:01,869] Trial 24 finished with value: 0.765021645021645 and parameters: {'learning_rate': 0.08434058645382671, 'num_leaves': 71, 'max_depth': 10, 'min_child_samples': 28, 'feature_fraction': 0.7920137321171583, 'bagging_fraction': 0.6522778200157836, 'lambda_l1': 0.6445870703896132, 'lambda_l2': 0.7173303062041745}. Best is trial 21 with value: 0.799134199134199.\n"
     ]
    },
    {
     "name": "stdout",
     "output_type": "stream",
     "text": [
      "Early stopping, best iteration is:\n",
      "[39]\tvalid_0's auc: 0.765022\n",
      "Training until validation scores don't improve for 30 rounds\n"
     ]
    },
    {
     "name": "stderr",
     "output_type": "stream",
     "text": [
      "[I 2025-08-04 23:03:03,117] Trial 25 finished with value: 0.7881385281385281 and parameters: {'learning_rate': 0.010241997737250014, 'num_leaves': 60, 'max_depth': 12, 'min_child_samples': 36, 'feature_fraction': 0.9416965609768911, 'bagging_fraction': 0.6639461404710172, 'lambda_l1': 0.31537298033340944, 'lambda_l2': 0.8555215770012543}. Best is trial 21 with value: 0.799134199134199.\n"
     ]
    },
    {
     "name": "stdout",
     "output_type": "stream",
     "text": [
      "Did not meet early stopping. Best iteration is:\n",
      "[94]\tvalid_0's auc: 0.788139\n",
      "Training until validation scores don't improve for 30 rounds\n"
     ]
    },
    {
     "name": "stderr",
     "output_type": "stream",
     "text": [
      "[I 2025-08-04 23:03:04,208] Trial 26 finished with value: 0.7667965367965368 and parameters: {'learning_rate': 0.021796686527776513, 'num_leaves': 67, 'max_depth': 12, 'min_child_samples': 37, 'feature_fraction': 0.9395713757926674, 'bagging_fraction': 0.6629999674966982, 'lambda_l1': 0.29111921991086276, 'lambda_l2': 0.8711680897917703}. Best is trial 21 with value: 0.799134199134199.\n"
     ]
    },
    {
     "name": "stdout",
     "output_type": "stream",
     "text": [
      "Early stopping, best iteration is:\n",
      "[50]\tvalid_0's auc: 0.766797\n",
      "Training until validation scores don't improve for 30 rounds\n"
     ]
    },
    {
     "name": "stderr",
     "output_type": "stream",
     "text": [
      "[I 2025-08-04 23:03:04,981] Trial 27 finished with value: 0.7767532467532466 and parameters: {'learning_rate': 0.010267022028274045, 'num_leaves': 48, 'max_depth': 12, 'min_child_samples': 41, 'feature_fraction': 0.9472536588665562, 'bagging_fraction': 0.7228431593252412, 'lambda_l1': 0.2537184084367861, 'lambda_l2': 0.9437193066354587}. Best is trial 21 with value: 0.799134199134199.\n"
     ]
    },
    {
     "name": "stdout",
     "output_type": "stream",
     "text": [
      "Early stopping, best iteration is:\n",
      "[30]\tvalid_0's auc: 0.776753\n",
      "Training until validation scores don't improve for 30 rounds\n"
     ]
    },
    {
     "name": "stderr",
     "output_type": "stream",
     "text": [
      "[I 2025-08-04 23:03:06,249] Trial 28 finished with value: 0.7893506493506494 and parameters: {'learning_rate': 0.03476544072115337, 'num_leaves': 53, 'max_depth': 10, 'min_child_samples': 35, 'feature_fraction': 0.8927154711433909, 'bagging_fraction': 0.6420788017762261, 'lambda_l1': 0.46635799603875816, 'lambda_l2': 0.7542795187037099}. Best is trial 21 with value: 0.799134199134199.\n"
     ]
    },
    {
     "name": "stdout",
     "output_type": "stream",
     "text": [
      "Early stopping, best iteration is:\n",
      "[70]\tvalid_0's auc: 0.789351\n",
      "Training until validation scores don't improve for 30 rounds\n"
     ]
    },
    {
     "name": "stderr",
     "output_type": "stream",
     "text": [
      "[I 2025-08-04 23:03:07,605] Trial 29 finished with value: 0.7840692640692641 and parameters: {'learning_rate': 0.037581981686453644, 'num_leaves': 52, 'max_depth': 10, 'min_child_samples': 27, 'feature_fraction': 0.8822438022890086, 'bagging_fraction': 0.6366150472055877, 'lambda_l1': 0.4742237453384007, 'lambda_l2': 0.71697467693309}. Best is trial 21 with value: 0.799134199134199.\n"
     ]
    },
    {
     "name": "stdout",
     "output_type": "stream",
     "text": [
      "Did not meet early stopping. Best iteration is:\n",
      "[90]\tvalid_0's auc: 0.784069\n"
     ]
    },
    {
     "name": "stderr",
     "output_type": "stream",
     "text": [
      "[I 2025-08-04 23:03:10,903] A new study created in memory with name: no-name-53219cf0-822d-4442-8151-d7d1ef8b868e\n"
     ]
    },
    {
     "name": "stdout",
     "output_type": "stream",
     "text": [
      "📍 Training for label: NR-PPAR-gamma\n",
      "Training until validation scores don't improve for 30 rounds\n"
     ]
    },
    {
     "name": "stderr",
     "output_type": "stream",
     "text": [
      "[I 2025-08-04 23:03:11,662] Trial 0 finished with value: 0.6650832352446612 and parameters: {'learning_rate': 0.033108392567715354, 'num_leaves': 61, 'max_depth': 9, 'min_child_samples': 25, 'feature_fraction': 0.768420593758169, 'bagging_fraction': 0.903414608533256, 'lambda_l1': 0.2736613982402446, 'lambda_l2': 0.7880698955790733}. Best is trial 0 with value: 0.6650832352446612.\n"
     ]
    },
    {
     "name": "stdout",
     "output_type": "stream",
     "text": [
      "Early stopping, best iteration is:\n",
      "[31]\tvalid_0's auc: 0.665083\n",
      "Training until validation scores don't improve for 30 rounds\n"
     ]
    },
    {
     "name": "stderr",
     "output_type": "stream",
     "text": [
      "[I 2025-08-04 23:03:12,151] Trial 1 finished with value: 0.632840087439045 and parameters: {'learning_rate': 0.17466696807057966, 'num_leaves': 74, 'max_depth': 9, 'min_child_samples': 32, 'feature_fraction': 0.8238523103904006, 'bagging_fraction': 0.8513971098151998, 'lambda_l1': 0.8599485024376283, 'lambda_l2': 0.0734755140194524}. Best is trial 0 with value: 0.6650832352446612.\n"
     ]
    },
    {
     "name": "stdout",
     "output_type": "stream",
     "text": [
      "Early stopping, best iteration is:\n",
      "[1]\tvalid_0's auc: 0.63284\n",
      "Training until validation scores don't improve for 30 rounds\n"
     ]
    },
    {
     "name": "stderr",
     "output_type": "stream",
     "text": [
      "[I 2025-08-04 23:03:12,472] Trial 2 finished with value: 0.7149403060366571 and parameters: {'learning_rate': 0.06589752726734337, 'num_leaves': 73, 'max_depth': 6, 'min_child_samples': 44, 'feature_fraction': 0.6419475707328074, 'bagging_fraction': 0.6698561972836592, 'lambda_l1': 0.9738234485785726, 'lambda_l2': 0.3954025163798086}. Best is trial 2 with value: 0.7149403060366571.\n"
     ]
    },
    {
     "name": "stdout",
     "output_type": "stream",
     "text": [
      "Early stopping, best iteration is:\n",
      "[8]\tvalid_0's auc: 0.71494\n",
      "Training until validation scores don't improve for 30 rounds\n"
     ]
    },
    {
     "name": "stderr",
     "output_type": "stream",
     "text": [
      "[I 2025-08-04 23:03:12,905] Trial 3 finished with value: 0.6789978140238775 and parameters: {'learning_rate': 0.10350375298135342, 'num_leaves': 57, 'max_depth': 12, 'min_child_samples': 25, 'feature_fraction': 0.9705267678025401, 'bagging_fraction': 0.804475407166872, 'lambda_l1': 0.8977393116397432, 'lambda_l2': 0.9290519659353251}. Best is trial 2 with value: 0.7149403060366571.\n"
     ]
    },
    {
     "name": "stdout",
     "output_type": "stream",
     "text": [
      "Early stopping, best iteration is:\n",
      "[1]\tvalid_0's auc: 0.678998\n",
      "Training until validation scores don't improve for 30 rounds\n"
     ]
    },
    {
     "name": "stderr",
     "output_type": "stream",
     "text": [
      "[I 2025-08-04 23:03:13,191] Trial 4 finished with value: 0.7275096687405415 and parameters: {'learning_rate': 0.13577358380459215, 'num_leaves': 62, 'max_depth': 5, 'min_child_samples': 45, 'feature_fraction': 0.6906220547323909, 'bagging_fraction': 0.7010755521291347, 'lambda_l1': 0.8570861634140138, 'lambda_l2': 0.07165627872580937}. Best is trial 4 with value: 0.7275096687405415.\n"
     ]
    },
    {
     "name": "stdout",
     "output_type": "stream",
     "text": [
      "Early stopping, best iteration is:\n",
      "[8]\tvalid_0's auc: 0.72751\n",
      "Training until validation scores don't improve for 30 rounds\n"
     ]
    },
    {
     "name": "stderr",
     "output_type": "stream",
     "text": [
      "[I 2025-08-04 23:03:13,433] Trial 5 finished with value: 0.7000588532032959 and parameters: {'learning_rate': 0.14805504562029753, 'num_leaves': 54, 'max_depth': 4, 'min_child_samples': 36, 'feature_fraction': 0.8733484074869987, 'bagging_fraction': 0.9141772780619319, 'lambda_l1': 0.1468919284873793, 'lambda_l2': 0.7612211929286193}. Best is trial 4 with value: 0.7275096687405415.\n"
     ]
    },
    {
     "name": "stdout",
     "output_type": "stream",
     "text": [
      "Early stopping, best iteration is:\n",
      "[4]\tvalid_0's auc: 0.700059\n",
      "Training until validation scores don't improve for 30 rounds\n"
     ]
    },
    {
     "name": "stderr",
     "output_type": "stream",
     "text": [
      "[I 2025-08-04 23:03:13,809] Trial 6 finished with value: 0.6984193711114847 and parameters: {'learning_rate': 0.10160014815886803, 'num_leaves': 74, 'max_depth': 5, 'min_child_samples': 13, 'feature_fraction': 0.9086338628865331, 'bagging_fraction': 0.7995646848927265, 'lambda_l1': 0.7706264839135383, 'lambda_l2': 0.9214901616033724}. Best is trial 4 with value: 0.7275096687405415.\n"
     ]
    },
    {
     "name": "stdout",
     "output_type": "stream",
     "text": [
      "Early stopping, best iteration is:\n",
      "[13]\tvalid_0's auc: 0.698419\n",
      "Training until validation scores don't improve for 30 rounds\n"
     ]
    },
    {
     "name": "stderr",
     "output_type": "stream",
     "text": [
      "[I 2025-08-04 23:03:14,181] Trial 7 finished with value: 0.6972423070455691 and parameters: {'learning_rate': 0.025884304662016917, 'num_leaves': 61, 'max_depth': 10, 'min_child_samples': 14, 'feature_fraction': 0.7963120066030942, 'bagging_fraction': 0.942760552443242, 'lambda_l1': 0.35033856463679136, 'lambda_l2': 0.4624959195645748}. Best is trial 4 with value: 0.7275096687405415.\n"
     ]
    },
    {
     "name": "stdout",
     "output_type": "stream",
     "text": [
      "Early stopping, best iteration is:\n",
      "[4]\tvalid_0's auc: 0.697242\n",
      "Training until validation scores don't improve for 30 rounds\n"
     ]
    },
    {
     "name": "stderr",
     "output_type": "stream",
     "text": [
      "[I 2025-08-04 23:03:14,670] Trial 8 finished with value: 0.6999747771985876 and parameters: {'learning_rate': 0.013744374243387066, 'num_leaves': 22, 'max_depth': 7, 'min_child_samples': 10, 'feature_fraction': 0.7519607360114293, 'bagging_fraction': 0.6874062750982843, 'lambda_l1': 0.19111156088096315, 'lambda_l2': 0.036400044835918965}. Best is trial 4 with value: 0.7275096687405415.\n"
     ]
    },
    {
     "name": "stdout",
     "output_type": "stream",
     "text": [
      "Early stopping, best iteration is:\n",
      "[31]\tvalid_0's auc: 0.699975\n",
      "Training until validation scores don't improve for 30 rounds\n",
      "Early stopping, best iteration is:\n",
      "[8]\tvalid_0's auc: 0.697495\n"
     ]
    },
    {
     "name": "stderr",
     "output_type": "stream",
     "text": [
      "[I 2025-08-04 23:03:14,875] Trial 9 finished with value: 0.697494535059694 and parameters: {'learning_rate': 0.1294958841796847, 'num_leaves': 52, 'max_depth': 3, 'min_child_samples': 30, 'feature_fraction': 0.8546780853316744, 'bagging_fraction': 0.6021378039975489, 'lambda_l1': 0.5042531590946683, 'lambda_l2': 0.6605830552468102}. Best is trial 4 with value: 0.7275096687405415.\n",
      "[I 2025-08-04 23:03:15,131] Trial 10 finished with value: 0.693963342861947 and parameters: {'learning_rate': 0.19204543234724875, 'num_leaves': 37, 'max_depth': 3, 'min_child_samples': 49, 'feature_fraction': 0.600577529179561, 'bagging_fraction': 0.7290655247102878, 'lambda_l1': 0.6764809437270378, 'lambda_l2': 0.22712317568255125}. Best is trial 4 with value: 0.7275096687405415.\n"
     ]
    },
    {
     "name": "stdout",
     "output_type": "stream",
     "text": [
      "Training until validation scores don't improve for 30 rounds\n",
      "Early stopping, best iteration is:\n",
      "[16]\tvalid_0's auc: 0.693963\n"
     ]
    },
    {
     "name": "stderr",
     "output_type": "stream",
     "text": [
      "[I 2025-08-04 23:03:15,446] Trial 11 finished with value: 0.6876156045064739 and parameters: {'learning_rate': 0.06481586719983129, 'num_leaves': 69, 'max_depth': 6, 'min_child_samples': 49, 'feature_fraction': 0.6503994163454524, 'bagging_fraction': 0.6600756960998112, 'lambda_l1': 0.9993357937852683, 'lambda_l2': 0.35874612402642336}. Best is trial 4 with value: 0.7275096687405415.\n"
     ]
    },
    {
     "name": "stdout",
     "output_type": "stream",
     "text": [
      "Training until validation scores don't improve for 30 rounds\n",
      "Early stopping, best iteration is:\n",
      "[5]\tvalid_0's auc: 0.687616\n",
      "Training until validation scores don't improve for 30 rounds\n",
      "Early stopping, best iteration is:\n",
      "[3]\tvalid_0's auc: 0.733563\n"
     ]
    },
    {
     "name": "stderr",
     "output_type": "stream",
     "text": [
      "[I 2025-08-04 23:03:15,778] Trial 12 finished with value: 0.7335631410795358 and parameters: {'learning_rate': 0.06912807861221876, 'num_leaves': 79, 'max_depth': 6, 'min_child_samples': 42, 'feature_fraction': 0.6928793173667829, 'bagging_fraction': 0.7330623993964187, 'lambda_l1': 0.6426238162398665, 'lambda_l2': 0.2690378573070053}. Best is trial 12 with value: 0.7335631410795358.\n"
     ]
    },
    {
     "name": "stdout",
     "output_type": "stream",
     "text": [
      "Training until validation scores don't improve for 30 rounds\n",
      "Early stopping, best iteration is:\n",
      "[11]\tvalid_0's auc: 0.706785\n"
     ]
    },
    {
     "name": "stderr",
     "output_type": "stream",
     "text": [
      "[I 2025-08-04 23:03:16,120] Trial 13 finished with value: 0.7067849335799562 and parameters: {'learning_rate': 0.07362683178700778, 'num_leaves': 80, 'max_depth': 5, 'min_child_samples': 40, 'feature_fraction': 0.6961928692159258, 'bagging_fraction': 0.7465294756090036, 'lambda_l1': 0.6109127812446471, 'lambda_l2': 0.1968044665475064}. Best is trial 12 with value: 0.7335631410795358.\n"
     ]
    },
    {
     "name": "stdout",
     "output_type": "stream",
     "text": [
      "Training until validation scores don't improve for 30 rounds\n",
      "Early stopping, best iteration is:\n",
      "[1]\tvalid_0's auc: 0.692198\n"
     ]
    },
    {
     "name": "stderr",
     "output_type": "stream",
     "text": [
      "[I 2025-08-04 23:03:16,470] Trial 14 finished with value: 0.6921977467630738 and parameters: {'learning_rate': 0.14276594965664785, 'num_leaves': 41, 'max_depth': 7, 'min_child_samples': 43, 'feature_fraction': 0.7050248859353141, 'bagging_fraction': 0.7477911991849058, 'lambda_l1': 0.49767208892430403, 'lambda_l2': 0.21072803764837544}. Best is trial 12 with value: 0.7335631410795358.\n"
     ]
    },
    {
     "name": "stdout",
     "output_type": "stream",
     "text": [
      "Training until validation scores don't improve for 30 rounds\n",
      "Early stopping, best iteration is:\n",
      "[12]\tvalid_0's auc: 0.693753\n"
     ]
    },
    {
     "name": "stderr",
     "output_type": "stream",
     "text": [
      "[I 2025-08-04 23:03:16,807] Trial 15 finished with value: 0.6937531528501766 and parameters: {'learning_rate': 0.08846447986859876, 'num_leaves': 66, 'max_depth': 5, 'min_child_samples': 38, 'feature_fraction': 0.7304420254010828, 'bagging_fraction': 0.6235769434881744, 'lambda_l1': 0.011170125674356601, 'lambda_l2': 0.3068906830193181}. Best is trial 12 with value: 0.7335631410795358.\n"
     ]
    },
    {
     "name": "stdout",
     "output_type": "stream",
     "text": [
      "Training until validation scores don't improve for 30 rounds\n"
     ]
    },
    {
     "name": "stderr",
     "output_type": "stream",
     "text": [
      "[I 2025-08-04 23:03:17,258] Trial 16 finished with value: 0.7295274928535395 and parameters: {'learning_rate': 0.1252453683387637, 'num_leaves': 80, 'max_depth': 8, 'min_child_samples': 45, 'feature_fraction': 0.6670820644919502, 'bagging_fraction': 0.8047027207117986, 'lambda_l1': 0.7451471542976087, 'lambda_l2': 0.5575379896466717}. Best is trial 12 with value: 0.7335631410795358.\n"
     ]
    },
    {
     "name": "stdout",
     "output_type": "stream",
     "text": [
      "Early stopping, best iteration is:\n",
      "[13]\tvalid_0's auc: 0.729527\n",
      "Training until validation scores don't improve for 30 rounds\n"
     ]
    },
    {
     "name": "stderr",
     "output_type": "stream",
     "text": [
      "[I 2025-08-04 23:03:17,620] Trial 17 finished with value: 0.7210778543803598 and parameters: {'learning_rate': 0.04961026920802744, 'num_leaves': 80, 'max_depth': 8, 'min_child_samples': 34, 'feature_fraction': 0.606347832253836, 'bagging_fraction': 0.9895856631592787, 'lambda_l1': 0.691045181611244, 'lambda_l2': 0.5794623417606921}. Best is trial 12 with value: 0.7335631410795358.\n"
     ]
    },
    {
     "name": "stdout",
     "output_type": "stream",
     "text": [
      "Early stopping, best iteration is:\n",
      "[3]\tvalid_0's auc: 0.721078\n",
      "Training until validation scores don't improve for 30 rounds\n"
     ]
    },
    {
     "name": "stderr",
     "output_type": "stream",
     "text": [
      "[I 2025-08-04 23:03:18,003] Trial 18 finished with value: 0.6633176391457878 and parameters: {'learning_rate': 0.11504205845670759, 'num_leaves': 44, 'max_depth': 11, 'min_child_samples': 50, 'feature_fraction': 0.6539747718013382, 'bagging_fraction': 0.8048892895202714, 'lambda_l1': 0.5233996896437859, 'lambda_l2': 0.5381117045706085}. Best is trial 12 with value: 0.7335631410795358.\n"
     ]
    },
    {
     "name": "stdout",
     "output_type": "stream",
     "text": [
      "Early stopping, best iteration is:\n",
      "[1]\tvalid_0's auc: 0.663318\n",
      "Training until validation scores don't improve for 30 rounds\n"
     ]
    },
    {
     "name": "stderr",
     "output_type": "stream",
     "text": [
      "[I 2025-08-04 23:03:18,355] Trial 19 finished with value: 0.6697494535059694 and parameters: {'learning_rate': 0.16208317934344357, 'num_leaves': 22, 'max_depth': 8, 'min_child_samples': 27, 'feature_fraction': 0.6708637701314786, 'bagging_fraction': 0.8553988316544526, 'lambda_l1': 0.38929443646405404, 'lambda_l2': 0.6200110682862663}. Best is trial 12 with value: 0.7335631410795358.\n"
     ]
    },
    {
     "name": "stdout",
     "output_type": "stream",
     "text": [
      "Early stopping, best iteration is:\n",
      "[2]\tvalid_0's auc: 0.669749\n",
      "Training until validation scores don't improve for 30 rounds\n"
     ]
    },
    {
     "name": "stderr",
     "output_type": "stream",
     "text": [
      "[I 2025-08-04 23:03:18,760] Trial 20 finished with value: 0.6554144947032117 and parameters: {'learning_rate': 0.08693844145812621, 'num_leaves': 70, 'max_depth': 9, 'min_child_samples': 20, 'feature_fraction': 0.7224342625709415, 'bagging_fraction': 0.8504486945603343, 'lambda_l1': 0.7542716591820778, 'lambda_l2': 0.45987622316301885}. Best is trial 12 with value: 0.7335631410795358.\n"
     ]
    },
    {
     "name": "stdout",
     "output_type": "stream",
     "text": [
      "Early stopping, best iteration is:\n",
      "[2]\tvalid_0's auc: 0.655414\n",
      "Training until validation scores don't improve for 30 rounds\n"
     ]
    },
    {
     "name": "stderr",
     "output_type": "stream",
     "text": [
      "[I 2025-08-04 23:03:19,097] Trial 21 finished with value: 0.6995543971750462 and parameters: {'learning_rate': 0.1355862192816147, 'num_leaves': 80, 'max_depth': 6, 'min_child_samples': 45, 'feature_fraction': 0.6858295178322755, 'bagging_fraction': 0.721772713765532, 'lambda_l1': 0.8338449343182355, 'lambda_l2': 0.11915350876017577}. Best is trial 12 with value: 0.7335631410795358.\n"
     ]
    },
    {
     "name": "stdout",
     "output_type": "stream",
     "text": [
      "Early stopping, best iteration is:\n",
      "[2]\tvalid_0's auc: 0.699554\n",
      "Training until validation scores don't improve for 30 rounds\n"
     ]
    },
    {
     "name": "stderr",
     "output_type": "stream",
     "text": [
      "[I 2025-08-04 23:03:19,393] Trial 22 finished with value: 0.7193542962838406 and parameters: {'learning_rate': 0.12359771826407516, 'num_leaves': 65, 'max_depth': 4, 'min_child_samples': 43, 'feature_fraction': 0.7709099505828179, 'bagging_fraction': 0.773780918462201, 'lambda_l1': 0.6471803758379209, 'lambda_l2': 0.003070609205922059}. Best is trial 12 with value: 0.7335631410795358.\n"
     ]
    },
    {
     "name": "stdout",
     "output_type": "stream",
     "text": [
      "Early stopping, best iteration is:\n",
      "[8]\tvalid_0's auc: 0.719354\n",
      "Training until validation scores don't improve for 30 rounds\n"
     ]
    },
    {
     "name": "stderr",
     "output_type": "stream",
     "text": [
      "[I 2025-08-04 23:03:19,765] Trial 23 finished with value: 0.656843786783252 and parameters: {'learning_rate': 0.15971133139856974, 'num_leaves': 47, 'max_depth': 7, 'min_child_samples': 40, 'feature_fraction': 0.6331406485478156, 'bagging_fraction': 0.6990693601185862, 'lambda_l1': 0.7727386443162453, 'lambda_l2': 0.3005140917240736}. Best is trial 12 with value: 0.7335631410795358.\n"
     ]
    },
    {
     "name": "stdout",
     "output_type": "stream",
     "text": [
      "Early stopping, best iteration is:\n",
      "[2]\tvalid_0's auc: 0.656844\n",
      "Training until validation scores don't improve for 30 rounds\n"
     ]
    },
    {
     "name": "stderr",
     "output_type": "stream",
     "text": [
      "[I 2025-08-04 23:03:20,069] Trial 24 finished with value: 0.6556667227173364 and parameters: {'learning_rate': 0.11524646202194899, 'num_leaves': 34, 'max_depth': 6, 'min_child_samples': 47, 'feature_fraction': 0.7167084488608702, 'bagging_fraction': 0.6387749330926622, 'lambda_l1': 0.5554241073208965, 'lambda_l2': 0.1667799004813012}. Best is trial 12 with value: 0.7335631410795358.\n"
     ]
    },
    {
     "name": "stdout",
     "output_type": "stream",
     "text": [
      "Early stopping, best iteration is:\n",
      "[1]\tvalid_0's auc: 0.655667\n",
      "Training until validation scores don't improve for 30 rounds\n"
     ]
    },
    {
     "name": "stderr",
     "output_type": "stream",
     "text": [
      "[I 2025-08-04 23:03:20,371] Trial 25 finished with value: 0.6882882125441399 and parameters: {'learning_rate': 0.0879119874586495, 'num_leaves': 76, 'max_depth': 4, 'min_child_samples': 40, 'feature_fraction': 0.6767412841829203, 'bagging_fraction': 0.7709292943425445, 'lambda_l1': 0.9035548430504898, 'lambda_l2': 0.2831181013434977}. Best is trial 12 with value: 0.7335631410795358.\n"
     ]
    },
    {
     "name": "stdout",
     "output_type": "stream",
     "text": [
      "Early stopping, best iteration is:\n",
      "[14]\tvalid_0's auc: 0.688288\n",
      "Training until validation scores don't improve for 30 rounds\n"
     ]
    },
    {
     "name": "stderr",
     "output_type": "stream",
     "text": [
      "[I 2025-08-04 23:03:20,852] Trial 26 finished with value: 0.7028753993610224 and parameters: {'learning_rate': 0.18152165091038572, 'num_leaves': 62, 'max_depth': 8, 'min_child_samples': 46, 'feature_fraction': 0.6246903980189952, 'bagging_fraction': 0.705340305296782, 'lambda_l1': 0.7427210271458476, 'lambda_l2': 0.7065510877641104}. Best is trial 12 with value: 0.7335631410795358.\n"
     ]
    },
    {
     "name": "stdout",
     "output_type": "stream",
     "text": [
      "Early stopping, best iteration is:\n",
      "[14]\tvalid_0's auc: 0.702875\n",
      "Training until validation scores don't improve for 30 rounds\n"
     ]
    },
    {
     "name": "stderr",
     "output_type": "stream",
     "text": [
      "[I 2025-08-04 23:03:21,222] Trial 27 finished with value: 0.7143517740036993 and parameters: {'learning_rate': 0.048312326649084816, 'num_leaves': 69, 'max_depth': 5, 'min_child_samples': 37, 'feature_fraction': 0.8083979891518723, 'bagging_fraction': 0.7723747499458239, 'lambda_l1': 0.5802634975500762, 'lambda_l2': 0.11563304588019398}. Best is trial 12 with value: 0.7335631410795358.\n"
     ]
    },
    {
     "name": "stdout",
     "output_type": "stream",
     "text": [
      "Early stopping, best iteration is:\n",
      "[14]\tvalid_0's auc: 0.714352\n",
      "Training until validation scores don't improve for 30 rounds\n"
     ]
    },
    {
     "name": "stderr",
     "output_type": "stream",
     "text": [
      "[I 2025-08-04 23:03:21,759] Trial 28 finished with value: 0.6706742895577601 and parameters: {'learning_rate': 0.15445721711033733, 'num_leaves': 57, 'max_depth': 10, 'min_child_samples': 40, 'feature_fraction': 0.7679981102905393, 'bagging_fraction': 0.8245201350644685, 'lambda_l1': 0.41869078578407515, 'lambda_l2': 0.38370457755140475}. Best is trial 12 with value: 0.7335631410795358.\n"
     ]
    },
    {
     "name": "stdout",
     "output_type": "stream",
     "text": [
      "Early stopping, best iteration is:\n",
      "[13]\tvalid_0's auc: 0.670674\n",
      "Training until validation scores don't improve for 30 rounds\n"
     ]
    },
    {
     "name": "stderr",
     "output_type": "stream",
     "text": [
      "[I 2025-08-04 23:03:22,161] Trial 29 finished with value: 0.7021607533210021 and parameters: {'learning_rate': 0.047438051037386124, 'num_leaves': 76, 'max_depth': 7, 'min_child_samples': 47, 'feature_fraction': 0.7341672182100009, 'bagging_fraction': 0.8981745487788196, 'lambda_l1': 0.7990880158788097, 'lambda_l2': 0.5038634984877374}. Best is trial 12 with value: 0.7335631410795358.\n"
     ]
    },
    {
     "name": "stdout",
     "output_type": "stream",
     "text": [
      "Early stopping, best iteration is:\n",
      "[9]\tvalid_0's auc: 0.702161\n"
     ]
    },
    {
     "name": "stderr",
     "output_type": "stream",
     "text": [
      "[I 2025-08-04 23:03:23,684] A new study created in memory with name: no-name-c2457cb8-6559-4409-96b6-d4fb1d2e3404\n"
     ]
    },
    {
     "name": "stdout",
     "output_type": "stream",
     "text": [
      "📍 Training for label: SR-ARE\n",
      "Training until validation scores don't improve for 30 rounds\n"
     ]
    },
    {
     "name": "stderr",
     "output_type": "stream",
     "text": [
      "[I 2025-08-04 23:03:24,734] Trial 0 finished with value: 0.8800852804246616 and parameters: {'learning_rate': 0.11031567639037936, 'num_leaves': 30, 'max_depth': 8, 'min_child_samples': 30, 'feature_fraction': 0.9054931811026319, 'bagging_fraction': 0.8178477985268644, 'lambda_l1': 0.5520124974930852, 'lambda_l2': 0.16688834696525578}. Best is trial 0 with value: 0.8800852804246616.\n"
     ]
    },
    {
     "name": "stdout",
     "output_type": "stream",
     "text": [
      "Early stopping, best iteration is:\n",
      "[51]\tvalid_0's auc: 0.880085\n",
      "Training until validation scores don't improve for 30 rounds\n"
     ]
    },
    {
     "name": "stderr",
     "output_type": "stream",
     "text": [
      "[I 2025-08-04 23:03:25,919] Trial 1 finished with value: 0.8765609363442545 and parameters: {'learning_rate': 0.19380524814572023, 'num_leaves': 37, 'max_depth': 9, 'min_child_samples': 14, 'feature_fraction': 0.7752784375323702, 'bagging_fraction': 0.8799879900337831, 'lambda_l1': 0.6108086705066677, 'lambda_l2': 0.29988155387603344}. Best is trial 0 with value: 0.8800852804246616.\n"
     ]
    },
    {
     "name": "stdout",
     "output_type": "stream",
     "text": [
      "Did not meet early stopping. Best iteration is:\n",
      "[95]\tvalid_0's auc: 0.876561\n",
      "Training until validation scores don't improve for 30 rounds\n"
     ]
    },
    {
     "name": "stderr",
     "output_type": "stream",
     "text": [
      "[I 2025-08-04 23:03:26,591] Trial 2 finished with value: 0.8614410651350998 and parameters: {'learning_rate': 0.1883120942817786, 'num_leaves': 24, 'max_depth': 6, 'min_child_samples': 18, 'feature_fraction': 0.658269792234251, 'bagging_fraction': 0.7802562389131369, 'lambda_l1': 0.9196022956016229, 'lambda_l2': 0.7498322668048463}. Best is trial 0 with value: 0.8800852804246616.\n"
     ]
    },
    {
     "name": "stdout",
     "output_type": "stream",
     "text": [
      "Did not meet early stopping. Best iteration is:\n",
      "[97]\tvalid_0's auc: 0.861441\n",
      "Training until validation scores don't improve for 30 rounds\n"
     ]
    },
    {
     "name": "stderr",
     "output_type": "stream",
     "text": [
      "[I 2025-08-04 23:03:27,179] Trial 3 finished with value: 0.8648240003480835 and parameters: {'learning_rate': 0.04270904515234682, 'num_leaves': 26, 'max_depth': 5, 'min_child_samples': 35, 'feature_fraction': 0.7535762766962695, 'bagging_fraction': 0.8182580998238075, 'lambda_l1': 0.8704743543294533, 'lambda_l2': 0.8577684355566215}. Best is trial 0 with value: 0.8800852804246616.\n"
     ]
    },
    {
     "name": "stdout",
     "output_type": "stream",
     "text": [
      "Did not meet early stopping. Best iteration is:\n",
      "[100]\tvalid_0's auc: 0.864824\n",
      "Training until validation scores don't improve for 30 rounds\n"
     ]
    },
    {
     "name": "stderr",
     "output_type": "stream",
     "text": [
      "[I 2025-08-04 23:03:27,516] Trial 4 finished with value: 0.8485184701736066 and parameters: {'learning_rate': 0.11151255338485672, 'num_leaves': 66, 'max_depth': 3, 'min_child_samples': 39, 'feature_fraction': 0.8778139368505422, 'bagging_fraction': 0.9028291076717202, 'lambda_l1': 0.996864201505628, 'lambda_l2': 0.39230082222101725}. Best is trial 0 with value: 0.8800852804246616.\n"
     ]
    },
    {
     "name": "stdout",
     "output_type": "stream",
     "text": [
      "Did not meet early stopping. Best iteration is:\n",
      "[95]\tvalid_0's auc: 0.848518\n",
      "Training until validation scores don't improve for 30 rounds\n"
     ]
    },
    {
     "name": "stderr",
     "output_type": "stream",
     "text": [
      "[I 2025-08-04 23:03:28,641] Trial 5 finished with value: 0.8569486141930993 and parameters: {'learning_rate': 0.09043875276006182, 'num_leaves': 70, 'max_depth': 8, 'min_child_samples': 15, 'feature_fraction': 0.9643188749687104, 'bagging_fraction': 0.9013929497317957, 'lambda_l1': 0.6112833393921953, 'lambda_l2': 0.19904196588503886}. Best is trial 0 with value: 0.8800852804246616.\n"
     ]
    },
    {
     "name": "stdout",
     "output_type": "stream",
     "text": [
      "Early stopping, best iteration is:\n",
      "[33]\tvalid_0's auc: 0.856949\n",
      "Training until validation scores don't improve for 30 rounds\n"
     ]
    },
    {
     "name": "stderr",
     "output_type": "stream",
     "text": [
      "[I 2025-08-04 23:03:30,327] Trial 6 finished with value: 0.8588957055214724 and parameters: {'learning_rate': 0.02988206082978693, 'num_leaves': 73, 'max_depth': 11, 'min_child_samples': 16, 'feature_fraction': 0.6054520479302924, 'bagging_fraction': 0.7079267149121624, 'lambda_l1': 0.502387113905069, 'lambda_l2': 0.9114885243686093}. Best is trial 0 with value: 0.8800852804246616.\n"
     ]
    },
    {
     "name": "stdout",
     "output_type": "stream",
     "text": [
      "Did not meet early stopping. Best iteration is:\n",
      "[100]\tvalid_0's auc: 0.858896\n",
      "Training until validation scores don't improve for 30 rounds\n"
     ]
    },
    {
     "name": "stderr",
     "output_type": "stream",
     "text": [
      "[I 2025-08-04 23:03:31,123] Trial 7 finished with value: 0.8423943784536396 and parameters: {'learning_rate': 0.020031778403972706, 'num_leaves': 71, 'max_depth': 5, 'min_child_samples': 21, 'feature_fraction': 0.964693494458958, 'bagging_fraction': 0.9203069730478519, 'lambda_l1': 0.4095893333990288, 'lambda_l2': 0.21146815096047}. Best is trial 0 with value: 0.8800852804246616.\n"
     ]
    },
    {
     "name": "stdout",
     "output_type": "stream",
     "text": [
      "Did not meet early stopping. Best iteration is:\n",
      "[96]\tvalid_0's auc: 0.842394\n",
      "Training until validation scores don't improve for 30 rounds\n"
     ]
    },
    {
     "name": "stderr",
     "output_type": "stream",
     "text": [
      "[I 2025-08-04 23:03:31,769] Trial 8 finished with value: 0.8685332637166601 and parameters: {'learning_rate': 0.06787490365868178, 'num_leaves': 31, 'max_depth': 6, 'min_child_samples': 30, 'feature_fraction': 0.6517681566548923, 'bagging_fraction': 0.8264041978550353, 'lambda_l1': 0.27530604049955665, 'lambda_l2': 0.8174099183454954}. Best is trial 0 with value: 0.8800852804246616.\n"
     ]
    },
    {
     "name": "stdout",
     "output_type": "stream",
     "text": [
      "Did not meet early stopping. Best iteration is:\n",
      "[92]\tvalid_0's auc: 0.868533\n",
      "Training until validation scores don't improve for 30 rounds\n"
     ]
    },
    {
     "name": "stderr",
     "output_type": "stream",
     "text": [
      "[I 2025-08-04 23:03:32,085] Trial 9 finished with value: 0.8007984162206849 and parameters: {'learning_rate': 0.014264543592212712, 'num_leaves': 37, 'max_depth': 3, 'min_child_samples': 18, 'feature_fraction': 0.7199790332893352, 'bagging_fraction': 0.7917883864118551, 'lambda_l1': 0.02642708774674707, 'lambda_l2': 0.033528744930404364}. Best is trial 0 with value: 0.8800852804246616.\n"
     ]
    },
    {
     "name": "stdout",
     "output_type": "stream",
     "text": [
      "Did not meet early stopping. Best iteration is:\n",
      "[99]\tvalid_0's auc: 0.800798\n",
      "Training until validation scores don't improve for 30 rounds\n"
     ]
    },
    {
     "name": "stderr",
     "output_type": "stream",
     "text": [
      "[I 2025-08-04 23:03:33,373] Trial 10 finished with value: 0.874385415306966 and parameters: {'learning_rate': 0.135310833426388, 'num_leaves': 51, 'max_depth': 12, 'min_child_samples': 47, 'feature_fraction': 0.8654195557761885, 'bagging_fraction': 0.9981301686015843, 'lambda_l1': 0.7432724486489266, 'lambda_l2': 0.6010863628051509}. Best is trial 0 with value: 0.8800852804246616.\n"
     ]
    },
    {
     "name": "stdout",
     "output_type": "stream",
     "text": [
      "Did not meet early stopping. Best iteration is:\n",
      "[96]\tvalid_0's auc: 0.874385\n",
      "Training until validation scores don't improve for 30 rounds\n"
     ]
    },
    {
     "name": "stderr",
     "output_type": "stream",
     "text": [
      "[I 2025-08-04 23:03:34,595] Trial 11 finished with value: 0.8692294304485925 and parameters: {'learning_rate': 0.1984579236929811, 'num_leaves': 43, 'max_depth': 9, 'min_child_samples': 27, 'feature_fraction': 0.8409781479800733, 'bagging_fraction': 0.6350281299092084, 'lambda_l1': 0.6447929359483562, 'lambda_l2': 0.3697129497489049}. Best is trial 0 with value: 0.8800852804246616.\n"
     ]
    },
    {
     "name": "stdout",
     "output_type": "stream",
     "text": [
      "Did not meet early stopping. Best iteration is:\n",
      "[95]\tvalid_0's auc: 0.869229\n",
      "Training until validation scores don't improve for 30 rounds\n"
     ]
    },
    {
     "name": "stderr",
     "output_type": "stream",
     "text": [
      "[I 2025-08-04 23:03:36,327] Trial 12 finished with value: 0.8705129878605927 and parameters: {'learning_rate': 0.15334613039678485, 'num_leaves': 55, 'max_depth': 10, 'min_child_samples': 10, 'feature_fraction': 0.7953249795927156, 'bagging_fraction': 0.7444704063169895, 'lambda_l1': 0.366378067168597, 'lambda_l2': 0.019732876796147325}. Best is trial 0 with value: 0.8800852804246616.\n"
     ]
    },
    {
     "name": "stdout",
     "output_type": "stream",
     "text": [
      "Early stopping, best iteration is:\n",
      "[70]\tvalid_0's auc: 0.870513\n",
      "Training until validation scores don't improve for 30 rounds\n"
     ]
    },
    {
     "name": "stderr",
     "output_type": "stream",
     "text": [
      "[I 2025-08-04 23:03:37,559] Trial 13 finished with value: 0.8733411652090677 and parameters: {'learning_rate': 0.16244371212671627, 'num_leaves': 38, 'max_depth': 8, 'min_child_samples': 24, 'feature_fraction': 0.9130439973198117, 'bagging_fraction': 0.8709454465873797, 'lambda_l1': 0.764202577981341, 'lambda_l2': 0.2306696281973719}. Best is trial 0 with value: 0.8800852804246616.\n"
     ]
    },
    {
     "name": "stdout",
     "output_type": "stream",
     "text": [
      "Did not meet early stopping. Best iteration is:\n",
      "[97]\tvalid_0's auc: 0.873341\n",
      "Training until validation scores don't improve for 30 rounds\n"
     ]
    },
    {
     "name": "stderr",
     "output_type": "stream",
     "text": [
      "[I 2025-08-04 23:03:38,353] Trial 14 finished with value: 0.8808249575773397 and parameters: {'learning_rate': 0.11751671488780002, 'num_leaves': 20, 'max_depth': 10, 'min_child_samples': 38, 'feature_fraction': 0.7958622403617159, 'bagging_fraction': 0.9948093281815181, 'lambda_l1': 0.5470998727095981, 'lambda_l2': 0.5359820156769884}. Best is trial 14 with value: 0.8808249575773397.\n"
     ]
    },
    {
     "name": "stdout",
     "output_type": "stream",
     "text": [
      "Did not meet early stopping. Best iteration is:\n",
      "[96]\tvalid_0's auc: 0.880825\n",
      "Training until validation scores don't improve for 30 rounds\n"
     ]
    },
    {
     "name": "stderr",
     "output_type": "stream",
     "text": [
      "[I 2025-08-04 23:03:39,338] Trial 15 finished with value: 0.8721446286385589 and parameters: {'learning_rate': 0.10955613654681588, 'num_leaves': 25, 'max_depth': 10, 'min_child_samples': 38, 'feature_fraction': 0.9091860238398491, 'bagging_fraction': 0.990908832265171, 'lambda_l1': 0.2280448358694438, 'lambda_l2': 0.5598840504575618}. Best is trial 14 with value: 0.8808249575773397.\n"
     ]
    },
    {
     "name": "stdout",
     "output_type": "stream",
     "text": [
      "Did not meet early stopping. Best iteration is:\n",
      "[96]\tvalid_0's auc: 0.872145\n",
      "Training until validation scores don't improve for 30 rounds\n"
     ]
    },
    {
     "name": "stderr",
     "output_type": "stream",
     "text": [
      "[I 2025-08-04 23:03:40,317] Trial 16 finished with value: 0.8661401905756428 and parameters: {'learning_rate': 0.08130789525220819, 'num_leaves': 21, 'max_depth': 12, 'min_child_samples': 47, 'feature_fraction': 0.9999441571201034, 'bagging_fraction': 0.6060638965660885, 'lambda_l1': 0.48413482410975905, 'lambda_l2': 0.6671978968495772}. Best is trial 14 with value: 0.8808249575773397.\n"
     ]
    },
    {
     "name": "stdout",
     "output_type": "stream",
     "text": [
      "Did not meet early stopping. Best iteration is:\n",
      "[90]\tvalid_0's auc: 0.86614\n",
      "Training until validation scores don't improve for 30 rounds\n"
     ]
    },
    {
     "name": "stderr",
     "output_type": "stream",
     "text": [
      "[I 2025-08-04 23:03:41,171] Trial 17 finished with value: 0.8695340033938127 and parameters: {'learning_rate': 0.13146773954988314, 'num_leaves': 31, 'max_depth': 7, 'min_child_samples': 33, 'feature_fraction': 0.8222501290018468, 'bagging_fraction': 0.9557507714710093, 'lambda_l1': 0.12325108824922204, 'lambda_l2': 0.5354831084614426}. Best is trial 14 with value: 0.8808249575773397.\n"
     ]
    },
    {
     "name": "stdout",
     "output_type": "stream",
     "text": [
      "Did not meet early stopping. Best iteration is:\n",
      "[76]\tvalid_0's auc: 0.869534\n",
      "Training until validation scores don't improve for 30 rounds\n"
     ]
    },
    {
     "name": "stderr",
     "output_type": "stream",
     "text": [
      "[I 2025-08-04 23:03:41,927] Trial 18 finished with value: 0.8688160814515077 and parameters: {'learning_rate': 0.0599619237900236, 'num_leaves': 20, 'max_depth': 9, 'min_child_samples': 42, 'feature_fraction': 0.7274755702374835, 'bagging_fraction': 0.6831537017425234, 'lambda_l1': 0.528098401123384, 'lambda_l2': 0.4096565709558264}. Best is trial 14 with value: 0.8808249575773397.\n"
     ]
    },
    {
     "name": "stdout",
     "output_type": "stream",
     "text": [
      "Did not meet early stopping. Best iteration is:\n",
      "[100]\tvalid_0's auc: 0.868816\n",
      "Training until validation scores don't improve for 30 rounds\n"
     ]
    },
    {
     "name": "stderr",
     "output_type": "stream",
     "text": [
      "[I 2025-08-04 23:03:43,241] Trial 19 finished with value: 0.8740808423617457 and parameters: {'learning_rate': 0.12720920241943193, 'num_leaves': 45, 'max_depth': 11, 'min_child_samples': 43, 'feature_fraction': 0.9077833201917902, 'bagging_fraction': 0.9501350149432163, 'lambda_l1': 0.706359680093653, 'lambda_l2': 0.9779355256293287}. Best is trial 14 with value: 0.8808249575773397.\n"
     ]
    },
    {
     "name": "stdout",
     "output_type": "stream",
     "text": [
      "Did not meet early stopping. Best iteration is:\n",
      "[97]\tvalid_0's auc: 0.874081\n",
      "Training until validation scores don't improve for 30 rounds\n"
     ]
    },
    {
     "name": "stderr",
     "output_type": "stream",
     "text": [
      "[I 2025-08-04 23:03:44,178] Trial 20 finished with value: 0.885480572597137 and parameters: {'learning_rate': 0.15753308180929596, 'num_leaves': 61, 'max_depth': 7, 'min_child_samples': 30, 'feature_fraction': 0.8376277432701837, 'bagging_fraction': 0.8613566851721124, 'lambda_l1': 0.34767930446583956, 'lambda_l2': 0.10473795183828605}. Best is trial 20 with value: 0.885480572597137.\n"
     ]
    },
    {
     "name": "stdout",
     "output_type": "stream",
     "text": [
      "Did not meet early stopping. Best iteration is:\n",
      "[71]\tvalid_0's auc: 0.885481\n",
      "Training until validation scores don't improve for 30 rounds\n"
     ]
    },
    {
     "name": "stderr",
     "output_type": "stream",
     "text": [
      "[I 2025-08-04 23:03:45,155] Trial 21 finished with value: 0.8728407953704912 and parameters: {'learning_rate': 0.16316219729485787, 'num_leaves': 59, 'max_depth': 7, 'min_child_samples': 30, 'feature_fraction': 0.8203593158466028, 'bagging_fraction': 0.8427404599919289, 'lambda_l1': 0.3399225030336758, 'lambda_l2': 0.13356100859323777}. Best is trial 20 with value: 0.885480572597137.\n"
     ]
    },
    {
     "name": "stdout",
     "output_type": "stream",
     "text": [
      "Did not meet early stopping. Best iteration is:\n",
      "[98]\tvalid_0's auc: 0.872841\n",
      "Training until validation scores don't improve for 30 rounds\n"
     ]
    },
    {
     "name": "stderr",
     "output_type": "stream",
     "text": [
      "[I 2025-08-04 23:03:46,373] Trial 22 finished with value: 0.8667058260453379 and parameters: {'learning_rate': 0.09536922288010956, 'num_leaves': 80, 'max_depth': 8, 'min_child_samples': 33, 'feature_fraction': 0.8636275564331906, 'bagging_fraction': 0.7354618114484096, 'lambda_l1': 0.4709300882225261, 'lambda_l2': 0.10816552129370982}. Best is trial 20 with value: 0.885480572597137.\n"
     ]
    },
    {
     "name": "stdout",
     "output_type": "stream",
     "text": [
      "Did not meet early stopping. Best iteration is:\n",
      "[79]\tvalid_0's auc: 0.866706\n",
      "Training until validation scores don't improve for 30 rounds\n"
     ]
    },
    {
     "name": "stderr",
     "output_type": "stream",
     "text": [
      "[I 2025-08-04 23:03:47,901] Trial 23 finished with value: 0.8739285558891354 and parameters: {'learning_rate': 0.14552029939203376, 'num_leaves': 64, 'max_depth': 10, 'min_child_samples': 26, 'feature_fraction': 0.7886161147375415, 'bagging_fraction': 0.8570977380536289, 'lambda_l1': 0.1849655902850189, 'lambda_l2': 0.4667541614899751}. Best is trial 20 with value: 0.885480572597137.\n"
     ]
    },
    {
     "name": "stdout",
     "output_type": "stream",
     "text": [
      "Did not meet early stopping. Best iteration is:\n",
      "[95]\tvalid_0's auc: 0.873929\n",
      "Training until validation scores don't improve for 30 rounds\n"
     ]
    },
    {
     "name": "stderr",
     "output_type": "stream",
     "text": [
      "[I 2025-08-04 23:03:48,746] Trial 24 finished with value: 0.8568507157464212 and parameters: {'learning_rate': 0.17352861543189543, 'num_leaves': 31, 'max_depth': 6, 'min_child_samples': 37, 'feature_fraction': 0.9415135539175543, 'bagging_fraction': 0.7532764075279594, 'lambda_l1': 0.41949022567543487, 'lambda_l2': 0.2884211221547451}. Best is trial 20 with value: 0.885480572597137.\n"
     ]
    },
    {
     "name": "stdout",
     "output_type": "stream",
     "text": [
      "Did not meet early stopping. Best iteration is:\n",
      "[84]\tvalid_0's auc: 0.856851\n",
      "Training until validation scores don't improve for 30 rounds\n"
     ]
    },
    {
     "name": "stderr",
     "output_type": "stream",
     "text": [
      "[I 2025-08-04 23:03:49,712] Trial 25 finished with value: 0.8807814471565941 and parameters: {'learning_rate': 0.11943496638723702, 'num_leaves': 60, 'max_depth': 7, 'min_child_samples': 30, 'feature_fraction': 0.840952209224045, 'bagging_fraction': 0.9447422690187196, 'lambda_l1': 0.3077765032147902, 'lambda_l2': 0.11858880763168275}. Best is trial 20 with value: 0.885480572597137.\n"
     ]
    },
    {
     "name": "stdout",
     "output_type": "stream",
     "text": [
      "Did not meet early stopping. Best iteration is:\n",
      "[98]\tvalid_0's auc: 0.880781\n",
      "Training until validation scores don't improve for 30 rounds\n"
     ]
    },
    {
     "name": "stderr",
     "output_type": "stream",
     "text": [
      "[I 2025-08-04 23:03:50,328] Trial 26 finished with value: 0.8566549188530654 and parameters: {'learning_rate': 0.1194746761294723, 'num_leaves': 59, 'max_depth': 5, 'min_child_samples': 24, 'feature_fraction': 0.7560025700888557, 'bagging_fraction': 0.957471569706056, 'lambda_l1': 0.2737833386000671, 'lambda_l2': 0.6572038967629814}. Best is trial 20 with value: 0.885480572597137.\n"
     ]
    },
    {
     "name": "stdout",
     "output_type": "stream",
     "text": [
      "Did not meet early stopping. Best iteration is:\n",
      "[99]\tvalid_0's auc: 0.856655\n",
      "Training until validation scores don't improve for 30 rounds\n"
     ]
    },
    {
     "name": "stderr",
     "output_type": "stream",
     "text": [
      "[I 2025-08-04 23:03:50,932] Trial 27 finished with value: 0.8669995213853718 and parameters: {'learning_rate': 0.14804565723048801, 'num_leaves': 50, 'max_depth': 7, 'min_child_samples': 41, 'feature_fraction': 0.8469084986775828, 'bagging_fraction': 0.9307716491670854, 'lambda_l1': 0.11193155690572165, 'lambda_l2': 0.07565055663682452}. Best is trial 20 with value: 0.885480572597137.\n"
     ]
    },
    {
     "name": "stdout",
     "output_type": "stream",
     "text": [
      "Early stopping, best iteration is:\n",
      "[34]\tvalid_0's auc: 0.867\n",
      "Training until validation scores don't improve for 30 rounds\n"
     ]
    },
    {
     "name": "stderr",
     "output_type": "stream",
     "text": [
      "[I 2025-08-04 23:03:51,374] Trial 28 finished with value: 0.8494321890092676 and parameters: {'learning_rate': 0.17078525848062817, 'num_leaves': 58, 'max_depth': 4, 'min_child_samples': 34, 'feature_fraction': 0.8241463998662795, 'bagging_fraction': 0.9798206848739427, 'lambda_l1': 0.3278202716285116, 'lambda_l2': 0.4682689519733255}. Best is trial 20 with value: 0.885480572597137.\n"
     ]
    },
    {
     "name": "stdout",
     "output_type": "stream",
     "text": [
      "Did not meet early stopping. Best iteration is:\n",
      "[91]\tvalid_0's auc: 0.849432\n",
      "Training until validation scores don't improve for 30 rounds\n"
     ]
    },
    {
     "name": "stderr",
     "output_type": "stream",
     "text": [
      "[I 2025-08-04 23:03:52,046] Trial 29 finished with value: 0.8709263368576774 and parameters: {'learning_rate': 0.0956824819353164, 'num_leaves': 65, 'max_depth': 7, 'min_child_samples': 28, 'feature_fraction': 0.6997487491916343, 'bagging_fraction': 0.9293188530470828, 'lambda_l1': 0.4191195954072862, 'lambda_l2': 0.28878899032297356}. Best is trial 20 with value: 0.885480572597137.\n"
     ]
    },
    {
     "name": "stdout",
     "output_type": "stream",
     "text": [
      "Early stopping, best iteration is:\n",
      "[39]\tvalid_0's auc: 0.870926\n"
     ]
    },
    {
     "name": "stderr",
     "output_type": "stream",
     "text": [
      "[I 2025-08-04 23:03:54,335] A new study created in memory with name: no-name-6cb2b324-863c-4da2-bd67-9f89ee46a593\n"
     ]
    },
    {
     "name": "stdout",
     "output_type": "stream",
     "text": [
      "📍 Training for label: SR-ATAD5\n",
      "Training until validation scores don't improve for 30 rounds\n"
     ]
    },
    {
     "name": "stderr",
     "output_type": "stream",
     "text": [
      "[I 2025-08-04 23:03:55,444] Trial 0 finished with value: 0.8399412628487518 and parameters: {'learning_rate': 0.17221262545294583, 'num_leaves': 62, 'max_depth': 10, 'min_child_samples': 33, 'feature_fraction': 0.8554662280955747, 'bagging_fraction': 0.8980395232565912, 'lambda_l1': 0.5935167369551337, 'lambda_l2': 0.3521927738675733}. Best is trial 0 with value: 0.8399412628487518.\n"
     ]
    },
    {
     "name": "stdout",
     "output_type": "stream",
     "text": [
      "Did not meet early stopping. Best iteration is:\n",
      "[84]\tvalid_0's auc: 0.839941\n",
      "Training until validation scores don't improve for 30 rounds\n"
     ]
    },
    {
     "name": "stderr",
     "output_type": "stream",
     "text": [
      "[I 2025-08-04 23:03:56,593] Trial 1 finished with value: 0.87580481192816 and parameters: {'learning_rate': 0.12589222885412957, 'num_leaves': 33, 'max_depth': 9, 'min_child_samples': 10, 'feature_fraction': 0.7355758007791029, 'bagging_fraction': 0.918210587843211, 'lambda_l1': 0.14295044361563103, 'lambda_l2': 0.21363579582793268}. Best is trial 1 with value: 0.87580481192816.\n"
     ]
    },
    {
     "name": "stdout",
     "output_type": "stream",
     "text": [
      "Did not meet early stopping. Best iteration is:\n",
      "[100]\tvalid_0's auc: 0.875805\n",
      "Training until validation scores don't improve for 30 rounds\n"
     ]
    },
    {
     "name": "stderr",
     "output_type": "stream",
     "text": [
      "[I 2025-08-04 23:03:57,761] Trial 2 finished with value: 0.8709477013441771 and parameters: {'learning_rate': 0.0732126572657867, 'num_leaves': 51, 'max_depth': 7, 'min_child_samples': 15, 'feature_fraction': 0.9559240873994451, 'bagging_fraction': 0.6896128021439769, 'lambda_l1': 0.9489787468230627, 'lambda_l2': 0.542925399636485}. Best is trial 1 with value: 0.87580481192816.\n"
     ]
    },
    {
     "name": "stdout",
     "output_type": "stream",
     "text": [
      "Did not meet early stopping. Best iteration is:\n",
      "[97]\tvalid_0's auc: 0.870948\n",
      "Training until validation scores don't improve for 30 rounds\n"
     ]
    },
    {
     "name": "stderr",
     "output_type": "stream",
     "text": [
      "[I 2025-08-04 23:03:58,036] Trial 3 finished with value: 0.8017903535524681 and parameters: {'learning_rate': 0.017588321753590215, 'num_leaves': 65, 'max_depth': 4, 'min_child_samples': 25, 'feature_fraction': 0.9324808179413222, 'bagging_fraction': 0.7440717079137524, 'lambda_l1': 0.841420299871862, 'lambda_l2': 0.005107898326052518}. Best is trial 1 with value: 0.87580481192816.\n"
     ]
    },
    {
     "name": "stdout",
     "output_type": "stream",
     "text": [
      "Early stopping, best iteration is:\n",
      "[7]\tvalid_0's auc: 0.80179\n",
      "Training until validation scores don't improve for 30 rounds\n"
     ]
    },
    {
     "name": "stderr",
     "output_type": "stream",
     "text": [
      "[I 2025-08-04 23:03:58,984] Trial 4 finished with value: 0.799954817575963 and parameters: {'learning_rate': 0.019605046990476785, 'num_leaves': 75, 'max_depth': 11, 'min_child_samples': 17, 'feature_fraction': 0.675960634567722, 'bagging_fraction': 0.8573692582130512, 'lambda_l1': 0.7898196168963272, 'lambda_l2': 0.912127478664961}. Best is trial 1 with value: 0.87580481192816.\n"
     ]
    },
    {
     "name": "stdout",
     "output_type": "stream",
     "text": [
      "Did not meet early stopping. Best iteration is:\n",
      "[100]\tvalid_0's auc: 0.799955\n",
      "Training until validation scores don't improve for 30 rounds\n"
     ]
    },
    {
     "name": "stderr",
     "output_type": "stream",
     "text": [
      "[I 2025-08-04 23:03:59,830] Trial 5 finished with value: 0.8355359765051396 and parameters: {'learning_rate': 0.04096356832624186, 'num_leaves': 74, 'max_depth': 7, 'min_child_samples': 26, 'feature_fraction': 0.6818195946922169, 'bagging_fraction': 0.7437373706528314, 'lambda_l1': 0.8707211395700551, 'lambda_l2': 0.7591477156440218}. Best is trial 1 with value: 0.87580481192816.\n"
     ]
    },
    {
     "name": "stdout",
     "output_type": "stream",
     "text": [
      "Did not meet early stopping. Best iteration is:\n",
      "[100]\tvalid_0's auc: 0.835536\n",
      "Training until validation scores don't improve for 30 rounds\n"
     ]
    },
    {
     "name": "stderr",
     "output_type": "stream",
     "text": [
      "[I 2025-08-04 23:04:00,785] Trial 6 finished with value: 0.854456116570654 and parameters: {'learning_rate': 0.06290921918838538, 'num_leaves': 51, 'max_depth': 6, 'min_child_samples': 12, 'feature_fraction': 0.925338024683266, 'bagging_fraction': 0.687165536514906, 'lambda_l1': 0.6378577710225906, 'lambda_l2': 0.44138472207240986}. Best is trial 1 with value: 0.87580481192816.\n"
     ]
    },
    {
     "name": "stdout",
     "output_type": "stream",
     "text": [
      "Did not meet early stopping. Best iteration is:\n",
      "[99]\tvalid_0's auc: 0.854456\n",
      "Training until validation scores don't improve for 30 rounds\n"
     ]
    },
    {
     "name": "stderr",
     "output_type": "stream",
     "text": [
      "[I 2025-08-04 23:04:02,004] Trial 7 finished with value: 0.8414661696600023 and parameters: {'learning_rate': 0.028930223273483574, 'num_leaves': 76, 'max_depth': 11, 'min_child_samples': 27, 'feature_fraction': 0.813859918240178, 'bagging_fraction': 0.7018735947625113, 'lambda_l1': 0.015199615964366808, 'lambda_l2': 0.7157958915785628}. Best is trial 1 with value: 0.87580481192816.\n"
     ]
    },
    {
     "name": "stdout",
     "output_type": "stream",
     "text": [
      "Did not meet early stopping. Best iteration is:\n",
      "[99]\tvalid_0's auc: 0.841466\n",
      "Training until validation scores don't improve for 30 rounds\n"
     ]
    },
    {
     "name": "stderr",
     "output_type": "stream",
     "text": [
      "[I 2025-08-04 23:04:02,285] Trial 8 finished with value: 0.8131424375917768 and parameters: {'learning_rate': 0.03228513206498475, 'num_leaves': 74, 'max_depth': 4, 'min_child_samples': 11, 'feature_fraction': 0.9525959362506956, 'bagging_fraction': 0.7190057557117142, 'lambda_l1': 0.5530191664468478, 'lambda_l2': 0.47128382355077514}. Best is trial 1 with value: 0.87580481192816.\n"
     ]
    },
    {
     "name": "stdout",
     "output_type": "stream",
     "text": [
      "Early stopping, best iteration is:\n",
      "[2]\tvalid_0's auc: 0.813142\n",
      "Training until validation scores don't improve for 30 rounds\n"
     ]
    },
    {
     "name": "stderr",
     "output_type": "stream",
     "text": [
      "[I 2025-08-04 23:04:03,144] Trial 9 finished with value: 0.8939907376030725 and parameters: {'learning_rate': 0.13365592542872734, 'num_leaves': 54, 'max_depth': 10, 'min_child_samples': 37, 'feature_fraction': 0.6270695560374069, 'bagging_fraction': 0.9810869870149866, 'lambda_l1': 0.9272374911235068, 'lambda_l2': 0.8602304736393808}. Best is trial 9 with value: 0.8939907376030725.\n"
     ]
    },
    {
     "name": "stdout",
     "output_type": "stream",
     "text": [
      "Did not meet early stopping. Best iteration is:\n",
      "[100]\tvalid_0's auc: 0.893991\n",
      "Training until validation scores don't improve for 30 rounds\n"
     ]
    },
    {
     "name": "stderr",
     "output_type": "stream",
     "text": [
      "[I 2025-08-04 23:04:03,902] Trial 10 finished with value: 0.8761436801084379 and parameters: {'learning_rate': 0.19486897136409004, 'num_leaves': 23, 'max_depth': 12, 'min_child_samples': 48, 'feature_fraction': 0.6312333584999077, 'bagging_fraction': 0.9942443487578244, 'lambda_l1': 0.32785049448177855, 'lambda_l2': 0.9330213189774491}. Best is trial 9 with value: 0.8939907376030725.\n"
     ]
    },
    {
     "name": "stdout",
     "output_type": "stream",
     "text": [
      "Did not meet early stopping. Best iteration is:\n",
      "[100]\tvalid_0's auc: 0.876144\n",
      "Training until validation scores don't improve for 30 rounds\n"
     ]
    },
    {
     "name": "stderr",
     "output_type": "stream",
     "text": [
      "[I 2025-08-04 23:04:04,699] Trial 11 finished with value: 0.8533830339997741 and parameters: {'learning_rate': 0.19433243767323993, 'num_leaves': 26, 'max_depth': 12, 'min_child_samples': 49, 'feature_fraction': 0.6131563418885493, 'bagging_fraction': 0.9947296355086538, 'lambda_l1': 0.29555544248933097, 'lambda_l2': 0.9937168912590613}. Best is trial 9 with value: 0.8939907376030725.\n"
     ]
    },
    {
     "name": "stdout",
     "output_type": "stream",
     "text": [
      "Did not meet early stopping. Best iteration is:\n",
      "[100]\tvalid_0's auc: 0.853383\n",
      "Training until validation scores don't improve for 30 rounds\n"
     ]
    },
    {
     "name": "stderr",
     "output_type": "stream",
     "text": [
      "[I 2025-08-04 23:04:05,563] Trial 12 finished with value: 0.8632666892578786 and parameters: {'learning_rate': 0.13995537962870416, 'num_leaves': 38, 'max_depth': 9, 'min_child_samples': 47, 'feature_fraction': 0.6001673166569177, 'bagging_fraction': 0.992892486488794, 'lambda_l1': 0.38174678146601687, 'lambda_l2': 0.7880371407783603}. Best is trial 9 with value: 0.8939907376030725.\n"
     ]
    },
    {
     "name": "stdout",
     "output_type": "stream",
     "text": [
      "Did not meet early stopping. Best iteration is:\n",
      "[100]\tvalid_0's auc: 0.863267\n",
      "Training until validation scores don't improve for 30 rounds\n"
     ]
    },
    {
     "name": "stderr",
     "output_type": "stream",
     "text": [
      "[I 2025-08-04 23:04:06,441] Trial 13 finished with value: 0.860781655935841 and parameters: {'learning_rate': 0.14792994210411278, 'num_leaves': 22, 'max_depth': 12, 'min_child_samples': 40, 'feature_fraction': 0.7190236959280503, 'bagging_fraction': 0.9403131134878063, 'lambda_l1': 0.36397093738432573, 'lambda_l2': 0.6540616147336347}. Best is trial 9 with value: 0.8939907376030725.\n"
     ]
    },
    {
     "name": "stdout",
     "output_type": "stream",
     "text": [
      "Did not meet early stopping. Best iteration is:\n",
      "[98]\tvalid_0's auc: 0.860782\n",
      "Training until validation scores don't improve for 30 rounds\n"
     ]
    },
    {
     "name": "stderr",
     "output_type": "stream",
     "text": [
      "[I 2025-08-04 23:04:07,483] Trial 14 finished with value: 0.8878346323280244 and parameters: {'learning_rate': 0.09463873478818764, 'num_leaves': 42, 'max_depth': 9, 'min_child_samples': 41, 'feature_fraction': 0.6514227417183193, 'bagging_fraction': 0.8202413995156403, 'lambda_l1': 0.2135144537931353, 'lambda_l2': 0.8937350508069715}. Best is trial 9 with value: 0.8939907376030725.\n"
     ]
    },
    {
     "name": "stdout",
     "output_type": "stream",
     "text": [
      "Did not meet early stopping. Best iteration is:\n",
      "[97]\tvalid_0's auc: 0.887835\n",
      "Training until validation scores don't improve for 30 rounds\n"
     ]
    },
    {
     "name": "stderr",
     "output_type": "stream",
     "text": [
      "[I 2025-08-04 23:04:08,596] Trial 15 finished with value: 0.860442787755563 and parameters: {'learning_rate': 0.09879163519620952, 'num_leaves': 43, 'max_depth': 9, 'min_child_samples': 38, 'feature_fraction': 0.7621900261937703, 'bagging_fraction': 0.6101749999661971, 'lambda_l1': 0.1774113971221709, 'lambda_l2': 0.836279385828973}. Best is trial 9 with value: 0.8939907376030725.\n"
     ]
    },
    {
     "name": "stdout",
     "output_type": "stream",
     "text": [
      "Did not meet early stopping. Best iteration is:\n",
      "[100]\tvalid_0's auc: 0.860443\n",
      "Training until validation scores don't improve for 30 rounds\n"
     ]
    },
    {
     "name": "stderr",
     "output_type": "stream",
     "text": [
      "[I 2025-08-04 23:04:09,552] Trial 16 finished with value: 0.8695357505930194 and parameters: {'learning_rate': 0.10182085750353459, 'num_leaves': 58, 'max_depth': 8, 'min_child_samples': 41, 'feature_fraction': 0.6698246671232629, 'bagging_fraction': 0.8194296351143541, 'lambda_l1': 0.7591584487294931, 'lambda_l2': 0.6120171481553784}. Best is trial 9 with value: 0.8939907376030725.\n"
     ]
    },
    {
     "name": "stdout",
     "output_type": "stream",
     "text": [
      "Did not meet early stopping. Best iteration is:\n",
      "[100]\tvalid_0's auc: 0.869536\n",
      "Training until validation scores don't improve for 30 rounds\n"
     ]
    },
    {
     "name": "stderr",
     "output_type": "stream",
     "text": [
      "[I 2025-08-04 23:04:10,655] Trial 17 finished with value: 0.8685756240822321 and parameters: {'learning_rate': 0.07892599152335195, 'num_leaves': 44, 'max_depth': 10, 'min_child_samples': 34, 'feature_fraction': 0.8045540406771073, 'bagging_fraction': 0.8044740278282113, 'lambda_l1': 0.9977290167088971, 'lambda_l2': 0.8774114625588244}. Best is trial 9 with value: 0.8939907376030725.\n"
     ]
    },
    {
     "name": "stdout",
     "output_type": "stream",
     "text": [
      "Did not meet early stopping. Best iteration is:\n",
      "[100]\tvalid_0's auc: 0.868576\n",
      "Training until validation scores don't improve for 30 rounds\n"
     ]
    },
    {
     "name": "stderr",
     "output_type": "stream",
     "text": [
      "[I 2025-08-04 23:04:11,406] Trial 18 finished with value: 0.8467186264543093 and parameters: {'learning_rate': 0.12403482910092403, 'num_leaves': 57, 'max_depth': 6, 'min_child_samples': 44, 'feature_fraction': 0.6510617516171143, 'bagging_fraction': 0.866971234684052, 'lambda_l1': 0.6887395363591732, 'lambda_l2': 0.9930064961708713}. Best is trial 9 with value: 0.8939907376030725.\n"
     ]
    },
    {
     "name": "stdout",
     "output_type": "stream",
     "text": [
      "Did not meet early stopping. Best iteration is:\n",
      "[94]\tvalid_0's auc: 0.846719\n",
      "Training until validation scores don't improve for 30 rounds\n"
     ]
    },
    {
     "name": "stderr",
     "output_type": "stream",
     "text": [
      "[I 2025-08-04 23:04:12,364] Trial 19 finished with value: 0.8454761097932905 and parameters: {'learning_rate': 0.1599198080045567, 'num_leaves': 35, 'max_depth': 8, 'min_child_samples': 35, 'feature_fraction': 0.7187168470623795, 'bagging_fraction': 0.610657320668755, 'lambda_l1': 0.46812292298240016, 'lambda_l2': 0.6656182912022104}. Best is trial 9 with value: 0.8939907376030725.\n"
     ]
    },
    {
     "name": "stdout",
     "output_type": "stream",
     "text": [
      "Did not meet early stopping. Best iteration is:\n",
      "[99]\tvalid_0's auc: 0.845476\n",
      "Training until validation scores don't improve for 30 rounds\n"
     ]
    },
    {
     "name": "stderr",
     "output_type": "stream",
     "text": [
      "[I 2025-08-04 23:04:13,682] Trial 20 finished with value: 0.8796453179713092 and parameters: {'learning_rate': 0.11542969844747855, 'num_leaves': 44, 'max_depth': 10, 'min_child_samples': 30, 'feature_fraction': 0.8523333934954099, 'bagging_fraction': 0.9571240995273699, 'lambda_l1': 0.21136834520459868, 'lambda_l2': 0.26976507056743315}. Best is trial 9 with value: 0.8939907376030725.\n"
     ]
    },
    {
     "name": "stdout",
     "output_type": "stream",
     "text": [
      "Did not meet early stopping. Best iteration is:\n",
      "[100]\tvalid_0's auc: 0.879645\n",
      "Training until validation scores don't improve for 30 rounds\n"
     ]
    },
    {
     "name": "stderr",
     "output_type": "stream",
     "text": [
      "[I 2025-08-04 23:04:15,021] Trial 21 finished with value: 0.8717383937648255 and parameters: {'learning_rate': 0.11611616468460151, 'num_leaves': 44, 'max_depth': 10, 'min_child_samples': 30, 'feature_fraction': 0.8832771902111448, 'bagging_fraction': 0.9579900858243156, 'lambda_l1': 0.20646261119141596, 'lambda_l2': 0.23573877846274338}. Best is trial 9 with value: 0.8939907376030725.\n"
     ]
    },
    {
     "name": "stdout",
     "output_type": "stream",
     "text": [
      "Did not meet early stopping. Best iteration is:\n",
      "[100]\tvalid_0's auc: 0.871738\n",
      "Training until validation scores don't improve for 30 rounds\n"
     ]
    },
    {
     "name": "stderr",
     "output_type": "stream",
     "text": [
      "[I 2025-08-04 23:04:16,432] Trial 22 finished with value: 0.878515757370383 and parameters: {'learning_rate': 0.0907626756233052, 'num_leaves': 48, 'max_depth': 11, 'min_child_samples': 37, 'feature_fraction': 0.8298306667917104, 'bagging_fraction': 0.8722991596822117, 'lambda_l1': 0.08197009677019676, 'lambda_l2': 0.026835718991349067}. Best is trial 9 with value: 0.8939907376030725.\n"
     ]
    },
    {
     "name": "stdout",
     "output_type": "stream",
     "text": [
      "Did not meet early stopping. Best iteration is:\n",
      "[98]\tvalid_0's auc: 0.878516\n",
      "Training until validation scores don't improve for 30 rounds\n"
     ]
    },
    {
     "name": "stderr",
     "output_type": "stream",
     "text": [
      "[I 2025-08-04 23:04:17,589] Trial 23 finished with value: 0.8778944990398735 and parameters: {'learning_rate': 0.05362320665092183, 'num_leaves': 30, 'max_depth': 9, 'min_child_samples': 43, 'feature_fraction': 0.9996925176100613, 'bagging_fraction': 0.9584215722687544, 'lambda_l1': 0.4418052863635209, 'lambda_l2': 0.3331895937154885}. Best is trial 9 with value: 0.8939907376030725.\n"
     ]
    },
    {
     "name": "stdout",
     "output_type": "stream",
     "text": [
      "Did not meet early stopping. Best iteration is:\n",
      "[99]\tvalid_0's auc: 0.877894\n",
      "Training until validation scores don't improve for 30 rounds\n"
     ]
    },
    {
     "name": "stderr",
     "output_type": "stream",
     "text": [
      "[I 2025-08-04 23:04:18,724] Trial 24 finished with value: 0.8813396588726985 and parameters: {'learning_rate': 0.13713446785282046, 'num_leaves': 55, 'max_depth': 10, 'min_child_samples': 22, 'feature_fraction': 0.763262805899895, 'bagging_fraction': 0.9135872018171322, 'lambda_l1': 0.27820243932685496, 'lambda_l2': 0.15296124577143502}. Best is trial 9 with value: 0.8939907376030725.\n"
     ]
    },
    {
     "name": "stdout",
     "output_type": "stream",
     "text": [
      "Did not meet early stopping. Best iteration is:\n",
      "[100]\tvalid_0's auc: 0.88134\n",
      "Training until validation scores don't improve for 30 rounds\n"
     ]
    },
    {
     "name": "stderr",
     "output_type": "stream",
     "text": [
      "[I 2025-08-04 23:04:19,864] Trial 25 finished with value: 0.8690274483226025 and parameters: {'learning_rate': 0.13860825215880568, 'num_leaves': 67, 'max_depth': 8, 'min_child_samples': 20, 'feature_fraction': 0.7501898280143777, 'bagging_fraction': 0.8399010901311644, 'lambda_l1': 0.2772917054689181, 'lambda_l2': 0.5671651174164482}. Best is trial 9 with value: 0.8939907376030725.\n"
     ]
    },
    {
     "name": "stdout",
     "output_type": "stream",
     "text": [
      "Did not meet early stopping. Best iteration is:\n",
      "[100]\tvalid_0's auc: 0.869027\n",
      "Training until validation scores don't improve for 30 rounds\n"
     ]
    },
    {
     "name": "stderr",
     "output_type": "stream",
     "text": [
      "[I 2025-08-04 23:04:21,337] Trial 26 finished with value: 0.839602394668474 and parameters: {'learning_rate': 0.16802098683010205, 'num_leaves': 55, 'max_depth': 11, 'min_child_samples': 22, 'feature_fraction': 0.7688063957349768, 'bagging_fraction': 0.9023400108882774, 'lambda_l1': 0.0022072026138765244, 'lambda_l2': 0.11751176931837493}. Best is trial 9 with value: 0.8939907376030725.\n"
     ]
    },
    {
     "name": "stdout",
     "output_type": "stream",
     "text": [
      "Did not meet early stopping. Best iteration is:\n",
      "[100]\tvalid_0's auc: 0.839602\n",
      "Training until validation scores don't improve for 30 rounds\n"
     ]
    },
    {
     "name": "stderr",
     "output_type": "stream",
     "text": [
      "[I 2025-08-04 23:04:22,374] Trial 27 finished with value: 0.896984073195527 and parameters: {'learning_rate': 0.08791164335068127, 'num_leaves': 38, 'max_depth': 10, 'min_child_samples': 45, 'feature_fraction': 0.7013152780930283, 'bagging_fraction': 0.784852264792897, 'lambda_l1': 0.4987836818950903, 'lambda_l2': 0.11524532869705173}. Best is trial 27 with value: 0.896984073195527.\n"
     ]
    },
    {
     "name": "stdout",
     "output_type": "stream",
     "text": [
      "Did not meet early stopping. Best iteration is:\n",
      "[97]\tvalid_0's auc: 0.896984\n",
      "Training until validation scores don't improve for 30 rounds\n"
     ]
    },
    {
     "name": "stderr",
     "output_type": "stream",
     "text": [
      "[I 2025-08-04 23:04:22,741] Trial 28 finished with value: 0.8243533265559697 and parameters: {'learning_rate': 0.08429390167432907, 'num_leaves': 39, 'max_depth': 3, 'min_child_samples': 45, 'feature_fraction': 0.699860267154036, 'bagging_fraction': 0.7674772845724438, 'lambda_l1': 0.5443216175730938, 'lambda_l2': 0.7949204355639697}. Best is trial 27 with value: 0.896984073195527.\n"
     ]
    },
    {
     "name": "stdout",
     "output_type": "stream",
     "text": [
      "Did not meet early stopping. Best iteration is:\n",
      "[97]\tvalid_0's auc: 0.824353\n",
      "Training until validation scores don't improve for 30 rounds\n"
     ]
    },
    {
     "name": "stderr",
     "output_type": "stream",
     "text": [
      "[I 2025-08-04 23:04:23,681] Trial 29 finished with value: 0.8614029142663504 and parameters: {'learning_rate': 0.060484021523220265, 'num_leaves': 48, 'max_depth': 9, 'min_child_samples': 40, 'feature_fraction': 0.6334607839312584, 'bagging_fraction': 0.6437250816845719, 'lambda_l1': 0.5958015621407826, 'lambda_l2': 0.3897742901736788}. Best is trial 27 with value: 0.896984073195527.\n"
     ]
    },
    {
     "name": "stdout",
     "output_type": "stream",
     "text": [
      "Did not meet early stopping. Best iteration is:\n",
      "[100]\tvalid_0's auc: 0.861403\n"
     ]
    },
    {
     "name": "stderr",
     "output_type": "stream",
     "text": [
      "[I 2025-08-04 23:04:25,343] A new study created in memory with name: no-name-d0766dbe-a6b0-4e70-822e-67c3e322182d\n"
     ]
    },
    {
     "name": "stdout",
     "output_type": "stream",
     "text": [
      "📍 Training for label: SR-HSE\n",
      "Training until validation scores don't improve for 30 rounds\n"
     ]
    },
    {
     "name": "stderr",
     "output_type": "stream",
     "text": [
      "[I 2025-08-04 23:04:26,497] Trial 0 finished with value: 0.7804607886575101 and parameters: {'learning_rate': 0.16945004829546068, 'num_leaves': 41, 'max_depth': 9, 'min_child_samples': 33, 'feature_fraction': 0.7580208917153903, 'bagging_fraction': 0.914004634954412, 'lambda_l1': 0.6845393176136297, 'lambda_l2': 0.05455046951782605}. Best is trial 0 with value: 0.7804607886575101.\n"
     ]
    },
    {
     "name": "stdout",
     "output_type": "stream",
     "text": [
      "Did not meet early stopping. Best iteration is:\n",
      "[80]\tvalid_0's auc: 0.780461\n",
      "Training until validation scores don't improve for 30 rounds\n"
     ]
    },
    {
     "name": "stderr",
     "output_type": "stream",
     "text": [
      "[I 2025-08-04 23:04:27,680] Trial 1 finished with value: 0.7546743464776252 and parameters: {'learning_rate': 0.03613040316373933, 'num_leaves': 45, 'max_depth': 9, 'min_child_samples': 50, 'feature_fraction': 0.9748658141388095, 'bagging_fraction': 0.7222488211860915, 'lambda_l1': 0.3753847868960779, 'lambda_l2': 0.7666227687611207}. Best is trial 0 with value: 0.7804607886575101.\n"
     ]
    },
    {
     "name": "stdout",
     "output_type": "stream",
     "text": [
      "Did not meet early stopping. Best iteration is:\n",
      "[86]\tvalid_0's auc: 0.754674\n",
      "Training until validation scores don't improve for 30 rounds\n"
     ]
    },
    {
     "name": "stderr",
     "output_type": "stream",
     "text": [
      "[I 2025-08-04 23:04:28,081] Trial 2 finished with value: 0.7739255649091715 and parameters: {'learning_rate': 0.14366054338101497, 'num_leaves': 78, 'max_depth': 6, 'min_child_samples': 26, 'feature_fraction': 0.7707084464301919, 'bagging_fraction': 0.6017573328000558, 'lambda_l1': 0.4616637281958639, 'lambda_l2': 0.012689162531679399}. Best is trial 0 with value: 0.7804607886575101.\n"
     ]
    },
    {
     "name": "stdout",
     "output_type": "stream",
     "text": [
      "Early stopping, best iteration is:\n",
      "[12]\tvalid_0's auc: 0.773926\n",
      "Training until validation scores don't improve for 30 rounds\n"
     ]
    },
    {
     "name": "stderr",
     "output_type": "stream",
     "text": [
      "[I 2025-08-04 23:04:28,399] Trial 3 finished with value: 0.7500664599025255 and parameters: {'learning_rate': 0.05539858953349835, 'num_leaves': 47, 'max_depth': 3, 'min_child_samples': 33, 'feature_fraction': 0.8003597643851772, 'bagging_fraction': 0.8725899853203558, 'lambda_l1': 0.15801813083932714, 'lambda_l2': 0.2003668777126646}. Best is trial 0 with value: 0.7804607886575101.\n"
     ]
    },
    {
     "name": "stdout",
     "output_type": "stream",
     "text": [
      "Did not meet early stopping. Best iteration is:\n",
      "[94]\tvalid_0's auc: 0.750066\n",
      "Training until validation scores don't improve for 30 rounds\n"
     ]
    },
    {
     "name": "stderr",
     "output_type": "stream",
     "text": [
      "[I 2025-08-04 23:04:28,950] Trial 4 finished with value: 0.7098360655737704 and parameters: {'learning_rate': 0.14486840994240682, 'num_leaves': 64, 'max_depth': 5, 'min_child_samples': 29, 'feature_fraction': 0.7043156669339923, 'bagging_fraction': 0.7651418071010241, 'lambda_l1': 0.8548089027185919, 'lambda_l2': 0.6357439507365684}. Best is trial 0 with value: 0.7804607886575101.\n"
     ]
    },
    {
     "name": "stdout",
     "output_type": "stream",
     "text": [
      "Early stopping, best iteration is:\n",
      "[64]\tvalid_0's auc: 0.709836\n",
      "Training until validation scores don't improve for 30 rounds\n"
     ]
    },
    {
     "name": "stderr",
     "output_type": "stream",
     "text": [
      "[I 2025-08-04 23:04:29,401] Trial 5 finished with value: 0.7495347806823217 and parameters: {'learning_rate': 0.11087620307257796, 'num_leaves': 23, 'max_depth': 8, 'min_child_samples': 11, 'feature_fraction': 0.8595685354045839, 'bagging_fraction': 0.9772213099189639, 'lambda_l1': 0.04199277300366677, 'lambda_l2': 0.3307928123772458}. Best is trial 0 with value: 0.7804607886575101.\n"
     ]
    },
    {
     "name": "stdout",
     "output_type": "stream",
     "text": [
      "Early stopping, best iteration is:\n",
      "[10]\tvalid_0's auc: 0.749535\n",
      "Training until validation scores don't improve for 30 rounds\n"
     ]
    },
    {
     "name": "stderr",
     "output_type": "stream",
     "text": [
      "[I 2025-08-04 23:04:30,359] Trial 6 finished with value: 0.7808152414709792 and parameters: {'learning_rate': 0.18611956506100832, 'num_leaves': 36, 'max_depth': 8, 'min_child_samples': 26, 'feature_fraction': 0.6652781521312714, 'bagging_fraction': 0.9484571766405673, 'lambda_l1': 0.013831522539545116, 'lambda_l2': 0.8994683333491811}. Best is trial 6 with value: 0.7808152414709792.\n"
     ]
    },
    {
     "name": "stdout",
     "output_type": "stream",
     "text": [
      "Did not meet early stopping. Best iteration is:\n",
      "[99]\tvalid_0's auc: 0.780815\n",
      "Training until validation scores don't improve for 30 rounds\n"
     ]
    },
    {
     "name": "stderr",
     "output_type": "stream",
     "text": [
      "[I 2025-08-04 23:04:30,876] Trial 7 finished with value: 0.7320779796189633 and parameters: {'learning_rate': 0.1330628402706382, 'num_leaves': 21, 'max_depth': 7, 'min_child_samples': 46, 'feature_fraction': 0.9441914348017242, 'bagging_fraction': 0.8849211718433385, 'lambda_l1': 0.093938428167187, 'lambda_l2': 0.47040266348033366}. Best is trial 6 with value: 0.7808152414709792.\n"
     ]
    },
    {
     "name": "stdout",
     "output_type": "stream",
     "text": [
      "Early stopping, best iteration is:\n",
      "[29]\tvalid_0's auc: 0.732078\n",
      "Training until validation scores don't improve for 30 rounds\n"
     ]
    },
    {
     "name": "stderr",
     "output_type": "stream",
     "text": [
      "[I 2025-08-04 23:04:31,169] Trial 8 finished with value: 0.7663269827204253 and parameters: {'learning_rate': 0.19693315721094048, 'num_leaves': 74, 'max_depth': 5, 'min_child_samples': 43, 'feature_fraction': 0.6294442709699677, 'bagging_fraction': 0.6811419264777091, 'lambda_l1': 0.7730119236053109, 'lambda_l2': 0.5966551855674797}. Best is trial 6 with value: 0.7808152414709792.\n"
     ]
    },
    {
     "name": "stdout",
     "output_type": "stream",
     "text": [
      "Early stopping, best iteration is:\n",
      "[9]\tvalid_0's auc: 0.766327\n",
      "Training until validation scores don't improve for 30 rounds\n"
     ]
    },
    {
     "name": "stderr",
     "output_type": "stream",
     "text": [
      "[I 2025-08-04 23:04:31,937] Trial 9 finished with value: 0.7677004873726185 and parameters: {'learning_rate': 0.11317590182781419, 'num_leaves': 47, 'max_depth': 7, 'min_child_samples': 48, 'feature_fraction': 0.8188810833993543, 'bagging_fraction': 0.8814220064001268, 'lambda_l1': 0.2800931384631914, 'lambda_l2': 0.32187303430004655}. Best is trial 6 with value: 0.7808152414709792.\n"
     ]
    },
    {
     "name": "stdout",
     "output_type": "stream",
     "text": [
      "Did not meet early stopping. Best iteration is:\n",
      "[93]\tvalid_0's auc: 0.7677\n",
      "Training until validation scores don't improve for 30 rounds\n"
     ]
    },
    {
     "name": "stderr",
     "output_type": "stream",
     "text": [
      "[I 2025-08-04 23:04:32,602] Trial 10 finished with value: 0.7755427558706246 and parameters: {'learning_rate': 0.0700617986819991, 'num_leaves': 33, 'max_depth': 12, 'min_child_samples': 15, 'feature_fraction': 0.6256411227385409, 'bagging_fraction': 0.9793800113151321, 'lambda_l1': 0.5903222514379178, 'lambda_l2': 0.9359672793186697}. Best is trial 6 with value: 0.7808152414709792.\n"
     ]
    },
    {
     "name": "stdout",
     "output_type": "stream",
     "text": [
      "Early stopping, best iteration is:\n",
      "[25]\tvalid_0's auc: 0.775543\n",
      "Training until validation scores don't improve for 30 rounds\n"
     ]
    },
    {
     "name": "stderr",
     "output_type": "stream",
     "text": [
      "[I 2025-08-04 23:04:33,525] Trial 11 finished with value: 0.7420912715994683 and parameters: {'learning_rate': 0.19563890702277154, 'num_leaves': 34, 'max_depth': 10, 'min_child_samples': 36, 'feature_fraction': 0.7081881574982537, 'bagging_fraction': 0.9229165620205859, 'lambda_l1': 0.6376373280063306, 'lambda_l2': 0.8890108352505875}. Best is trial 6 with value: 0.7808152414709792.\n"
     ]
    },
    {
     "name": "stdout",
     "output_type": "stream",
     "text": [
      "Did not meet early stopping. Best iteration is:\n",
      "[97]\tvalid_0's auc: 0.742091\n",
      "Training until validation scores don't improve for 30 rounds\n"
     ]
    },
    {
     "name": "stderr",
     "output_type": "stream",
     "text": [
      "[I 2025-08-04 23:04:34,606] Trial 12 finished with value: 0.8177226406734603 and parameters: {'learning_rate': 0.16432772099803772, 'num_leaves': 35, 'max_depth': 11, 'min_child_samples': 21, 'feature_fraction': 0.7431648038856695, 'bagging_fraction': 0.8288685177611559, 'lambda_l1': 0.6947007662414728, 'lambda_l2': 0.009698286302265657}. Best is trial 12 with value: 0.8177226406734603.\n"
     ]
    },
    {
     "name": "stdout",
     "output_type": "stream",
     "text": [
      "Did not meet early stopping. Best iteration is:\n",
      "[84]\tvalid_0's auc: 0.817723\n",
      "Training until validation scores don't improve for 30 rounds\n"
     ]
    },
    {
     "name": "stderr",
     "output_type": "stream",
     "text": [
      "[I 2025-08-04 23:04:35,385] Trial 13 finished with value: 0.7372618520159503 and parameters: {'learning_rate': 0.17258356572369127, 'num_leaves': 57, 'max_depth': 12, 'min_child_samples': 21, 'feature_fraction': 0.6859592346102779, 'bagging_fraction': 0.8167260278348746, 'lambda_l1': 0.9975519851570663, 'lambda_l2': 0.6826370587038623}. Best is trial 12 with value: 0.8177226406734603.\n"
     ]
    },
    {
     "name": "stdout",
     "output_type": "stream",
     "text": [
      "Early stopping, best iteration is:\n",
      "[22]\tvalid_0's auc: 0.737262\n",
      "Training until validation scores don't improve for 30 rounds\n"
     ]
    },
    {
     "name": "stderr",
     "output_type": "stream",
     "text": [
      "[I 2025-08-04 23:04:36,559] Trial 14 finished with value: 0.7755427558706247 and parameters: {'learning_rate': 0.17294766320749455, 'num_leaves': 33, 'max_depth': 11, 'min_child_samples': 22, 'feature_fraction': 0.8864877577201923, 'bagging_fraction': 0.8193867585275952, 'lambda_l1': 0.484532282772072, 'lambda_l2': 0.4605703076280858}. Best is trial 12 with value: 0.8177226406734603.\n"
     ]
    },
    {
     "name": "stdout",
     "output_type": "stream",
     "text": [
      "Early stopping, best iteration is:\n",
      "[66]\tvalid_0's auc: 0.775543\n",
      "Training until validation scores don't improve for 30 rounds\n"
     ]
    },
    {
     "name": "stderr",
     "output_type": "stream",
     "text": [
      "[I 2025-08-04 23:04:37,291] Trial 15 finished with value: 0.7281789986708019 and parameters: {'learning_rate': 0.08359278767730602, 'num_leaves': 29, 'max_depth': 10, 'min_child_samples': 18, 'feature_fraction': 0.6679774643352655, 'bagging_fraction': 0.7830542749864702, 'lambda_l1': 0.28917052846330915, 'lambda_l2': 0.8162464615191101}. Best is trial 12 with value: 0.8177226406734603.\n"
     ]
    },
    {
     "name": "stdout",
     "output_type": "stream",
     "text": [
      "Early stopping, best iteration is:\n",
      "[36]\tvalid_0's auc: 0.728179\n",
      "Training until validation scores don't improve for 30 rounds\n"
     ]
    },
    {
     "name": "stderr",
     "output_type": "stream",
     "text": [
      "[I 2025-08-04 23:04:37,769] Trial 16 finished with value: 0.7697828976517502 and parameters: {'learning_rate': 0.01599768431512745, 'num_leaves': 57, 'max_depth': 10, 'min_child_samples': 25, 'feature_fraction': 0.7525715236773867, 'bagging_fraction': 0.946373958169743, 'lambda_l1': 0.9118862815316031, 'lambda_l2': 0.9788821998220069}. Best is trial 12 with value: 0.8177226406734603.\n"
     ]
    },
    {
     "name": "stdout",
     "output_type": "stream",
     "text": [
      "Early stopping, best iteration is:\n",
      "[7]\tvalid_0's auc: 0.769783\n",
      "Training until validation scores don't improve for 30 rounds\n"
     ]
    },
    {
     "name": "stderr",
     "output_type": "stream",
     "text": [
      "[I 2025-08-04 23:04:38,084] Trial 17 finished with value: 0.7385467434647763 and parameters: {'learning_rate': 0.16086724045382922, 'num_leaves': 41, 'max_depth': 3, 'min_child_samples': 11, 'feature_fraction': 0.6002630894936543, 'bagging_fraction': 0.9981804259195904, 'lambda_l1': 0.19176138939102852, 'lambda_l2': 0.15225529969892204}. Best is trial 12 with value: 0.8177226406734603.\n"
     ]
    },
    {
     "name": "stdout",
     "output_type": "stream",
     "text": [
      "Early stopping, best iteration is:\n",
      "[57]\tvalid_0's auc: 0.738547\n",
      "Training until validation scores don't improve for 30 rounds\n"
     ]
    },
    {
     "name": "stderr",
     "output_type": "stream",
     "text": [
      "[I 2025-08-04 23:04:38,745] Trial 18 finished with value: 0.7945945945945947 and parameters: {'learning_rate': 0.19923210849932158, 'num_leaves': 27, 'max_depth': 8, 'min_child_samples': 39, 'feature_fraction': 0.7345620286554114, 'bagging_fraction': 0.8393546938516315, 'lambda_l1': 0.739630254617851, 'lambda_l2': 0.3559004088635153}. Best is trial 12 with value: 0.8177226406734603.\n"
     ]
    },
    {
     "name": "stdout",
     "output_type": "stream",
     "text": [
      "Early stopping, best iteration is:\n",
      "[42]\tvalid_0's auc: 0.794595\n",
      "Training until validation scores don't improve for 30 rounds\n"
     ]
    },
    {
     "name": "stderr",
     "output_type": "stream",
     "text": [
      "[I 2025-08-04 23:04:39,375] Trial 19 finished with value: 0.7456357997341604 and parameters: {'learning_rate': 0.12680081036747504, 'num_leaves': 26, 'max_depth': 11, 'min_child_samples': 41, 'feature_fraction': 0.845325380872491, 'bagging_fraction': 0.8425802438832714, 'lambda_l1': 0.7518254579604343, 'lambda_l2': 0.31438563124450253}. Best is trial 12 with value: 0.8177226406734603.\n"
     ]
    },
    {
     "name": "stdout",
     "output_type": "stream",
     "text": [
      "Early stopping, best iteration is:\n",
      "[21]\tvalid_0's auc: 0.745636\n",
      "Training until validation scores don't improve for 30 rounds\n"
     ]
    },
    {
     "name": "stderr",
     "output_type": "stream",
     "text": [
      "[I 2025-08-04 23:04:40,397] Trial 20 finished with value: 0.7772264067346034 and parameters: {'learning_rate': 0.1612747184429785, 'num_leaves': 55, 'max_depth': 9, 'min_child_samples': 37, 'feature_fraction': 0.7445935481076856, 'bagging_fraction': 0.7383772445783817, 'lambda_l1': 0.5651401926634232, 'lambda_l2': 0.14584266131537216}. Best is trial 12 with value: 0.8177226406734603.\n"
     ]
    },
    {
     "name": "stdout",
     "output_type": "stream",
     "text": [
      "Did not meet early stopping. Best iteration is:\n",
      "[82]\tvalid_0's auc: 0.777226\n",
      "Training until validation scores don't improve for 30 rounds\n"
     ]
    },
    {
     "name": "stderr",
     "output_type": "stream",
     "text": [
      "[I 2025-08-04 23:04:41,317] Trial 21 finished with value: 0.7517058041648206 and parameters: {'learning_rate': 0.1916684701164925, 'num_leaves': 38, 'max_depth': 8, 'min_child_samples': 28, 'feature_fraction': 0.6546309975328617, 'bagging_fraction': 0.831626312771215, 'lambda_l1': 0.7445569486720297, 'lambda_l2': 0.5500243202864854}. Best is trial 12 with value: 0.8177226406734603.\n"
     ]
    },
    {
     "name": "stdout",
     "output_type": "stream",
     "text": [
      "Did not meet early stopping. Best iteration is:\n",
      "[96]\tvalid_0's auc: 0.751706\n",
      "Training until validation scores don't improve for 30 rounds\n"
     ]
    },
    {
     "name": "stderr",
     "output_type": "stream",
     "text": [
      "[I 2025-08-04 23:04:41,813] Trial 22 finished with value: 0.7566681435533895 and parameters: {'learning_rate': 0.18176390112956314, 'num_leaves': 28, 'max_depth': 6, 'min_child_samples': 23, 'feature_fraction': 0.7239149341858437, 'bagging_fraction': 0.8481122299221144, 'lambda_l1': 0.8579118511555154, 'lambda_l2': 0.4006189511990531}. Best is trial 12 with value: 0.8177226406734603.\n"
     ]
    },
    {
     "name": "stdout",
     "output_type": "stream",
     "text": [
      "Early stopping, best iteration is:\n",
      "[30]\tvalid_0's auc: 0.756668\n",
      "Training until validation scores don't improve for 30 rounds\n"
     ]
    },
    {
     "name": "stderr",
     "output_type": "stream",
     "text": [
      "[I 2025-08-04 23:04:42,516] Trial 23 finished with value: 0.7559149313247674 and parameters: {'learning_rate': 0.1525436441964195, 'num_leaves': 37, 'max_depth': 8, 'min_child_samples': 18, 'feature_fraction': 0.7808452053708302, 'bagging_fraction': 0.9257762775116215, 'lambda_l1': 0.41500539323768765, 'lambda_l2': 0.22409224528565475}. Best is trial 12 with value: 0.8177226406734603.\n"
     ]
    },
    {
     "name": "stdout",
     "output_type": "stream",
     "text": [
      "Early stopping, best iteration is:\n",
      "[28]\tvalid_0's auc: 0.755915\n",
      "Training until validation scores don't improve for 30 rounds\n"
     ]
    },
    {
     "name": "stderr",
     "output_type": "stream",
     "text": [
      "[I 2025-08-04 23:04:42,908] Trial 24 finished with value: 0.7656623836951705 and parameters: {'learning_rate': 0.18450959227731334, 'num_leaves': 20, 'max_depth': 6, 'min_child_samples': 32, 'feature_fraction': 0.7270416425917834, 'bagging_fraction': 0.7718812721326638, 'lambda_l1': 0.5637458309401155, 'lambda_l2': 0.7290134173888129}. Best is trial 12 with value: 0.8177226406734603.\n"
     ]
    },
    {
     "name": "stdout",
     "output_type": "stream",
     "text": [
      "Early stopping, best iteration is:\n",
      "[15]\tvalid_0's auc: 0.765662\n",
      "Training until validation scores don't improve for 30 rounds\n"
     ]
    },
    {
     "name": "stderr",
     "output_type": "stream",
     "text": [
      "[I 2025-08-04 23:04:43,882] Trial 25 finished with value: 0.7657066902968542 and parameters: {'learning_rate': 0.08856557156647615, 'num_leaves': 30, 'max_depth': 11, 'min_child_samples': 39, 'feature_fraction': 0.6610990393061336, 'bagging_fraction': 0.711414067623514, 'lambda_l1': 0.660779488737438, 'lambda_l2': 0.07359453772888935}. Best is trial 12 with value: 0.8177226406734603.\n"
     ]
    },
    {
     "name": "stdout",
     "output_type": "stream",
     "text": [
      "Did not meet early stopping. Best iteration is:\n",
      "[88]\tvalid_0's auc: 0.765707\n",
      "Training until validation scores don't improve for 30 rounds\n"
     ]
    },
    {
     "name": "stderr",
     "output_type": "stream",
     "text": [
      "[I 2025-08-04 23:04:44,773] Trial 26 finished with value: 0.7557377049180327 and parameters: {'learning_rate': 0.18372950899146626, 'num_leaves': 52, 'max_depth': 9, 'min_child_samples': 18, 'feature_fraction': 0.6864452499534502, 'bagging_fraction': 0.6657003136412238, 'lambda_l1': 0.7717563028693031, 'lambda_l2': 0.4088814557170276}. Best is trial 12 with value: 0.8177226406734603.\n"
     ]
    },
    {
     "name": "stdout",
     "output_type": "stream",
     "text": [
      "Early stopping, best iteration is:\n",
      "[42]\tvalid_0's auc: 0.755738\n",
      "Training until validation scores don't improve for 30 rounds\n"
     ]
    },
    {
     "name": "stderr",
     "output_type": "stream",
     "text": [
      "[I 2025-08-04 23:04:45,213] Trial 27 finished with value: 0.7105892778023927 and parameters: {'learning_rate': 0.12394015990244465, 'num_leaves': 25, 'max_depth': 7, 'min_child_samples': 30, 'feature_fraction': 0.8110330543753157, 'bagging_fraction': 0.7945348596762294, 'lambda_l1': 0.323592901162927, 'lambda_l2': 0.8437527784540932}. Best is trial 12 with value: 0.8177226406734603.\n"
     ]
    },
    {
     "name": "stdout",
     "output_type": "stream",
     "text": [
      "Early stopping, best iteration is:\n",
      "[12]\tvalid_0's auc: 0.710589\n",
      "Training until validation scores don't improve for 30 rounds\n"
     ]
    },
    {
     "name": "stderr",
     "output_type": "stream",
     "text": [
      "[I 2025-08-04 23:04:45,488] Trial 28 finished with value: 0.7770934869295526 and parameters: {'learning_rate': 0.1995133498452883, 'num_leaves': 40, 'max_depth': 4, 'min_child_samples': 15, 'feature_fraction': 0.634061108063116, 'bagging_fraction': 0.8958337474144287, 'lambda_l1': 0.004774059121554489, 'lambda_l2': 0.25180677424690967}. Best is trial 12 with value: 0.8177226406734603.\n"
     ]
    },
    {
     "name": "stdout",
     "output_type": "stream",
     "text": [
      "Early stopping, best iteration is:\n",
      "[18]\tvalid_0's auc: 0.777093\n",
      "Training until validation scores don't improve for 30 rounds\n"
     ]
    },
    {
     "name": "stderr",
     "output_type": "stream",
     "text": [
      "[I 2025-08-04 23:04:46,090] Trial 29 finished with value: 0.756978289765175 and parameters: {'learning_rate': 0.16914873334856417, 'num_leaves': 35, 'max_depth': 9, 'min_child_samples': 34, 'feature_fraction': 0.7310313744016103, 'bagging_fraction': 0.9479090002482993, 'lambda_l1': 0.6850436648566278, 'lambda_l2': 0.10332402967259205}. Best is trial 12 with value: 0.8177226406734603.\n"
     ]
    },
    {
     "name": "stdout",
     "output_type": "stream",
     "text": [
      "Early stopping, best iteration is:\n",
      "[22]\tvalid_0's auc: 0.756978\n"
     ]
    },
    {
     "name": "stderr",
     "output_type": "stream",
     "text": [
      "[I 2025-08-04 23:04:47,510] A new study created in memory with name: no-name-1eaf9bac-d1cd-49a6-a7c9-08370115c82c\n"
     ]
    },
    {
     "name": "stdout",
     "output_type": "stream",
     "text": [
      "📍 Training for label: SR-MMP\n",
      "Training until validation scores don't improve for 30 rounds\n"
     ]
    },
    {
     "name": "stderr",
     "output_type": "stream",
     "text": [
      "[I 2025-08-04 23:04:48,926] Trial 0 finished with value: 0.9242242375744643 and parameters: {'learning_rate': 0.1880933394497979, 'num_leaves': 77, 'max_depth': 9, 'min_child_samples': 18, 'feature_fraction': 0.7623486035646325, 'bagging_fraction': 0.8968559866742774, 'lambda_l1': 0.5055160561403875, 'lambda_l2': 0.6908703790056149}. Best is trial 0 with value: 0.9242242375744643.\n"
     ]
    },
    {
     "name": "stdout",
     "output_type": "stream",
     "text": [
      "Early stopping, best iteration is:\n",
      "[56]\tvalid_0's auc: 0.924224\n",
      "Training until validation scores don't improve for 30 rounds\n"
     ]
    },
    {
     "name": "stderr",
     "output_type": "stream",
     "text": [
      "[I 2025-08-04 23:04:49,665] Trial 1 finished with value: 0.9231350582377522 and parameters: {'learning_rate': 0.1745149198430486, 'num_leaves': 27, 'max_depth': 5, 'min_child_samples': 15, 'feature_fraction': 0.9622239440547191, 'bagging_fraction': 0.8439577775219405, 'lambda_l1': 0.45253288856496243, 'lambda_l2': 0.4390472706615165}. Best is trial 0 with value: 0.9242242375744643.\n"
     ]
    },
    {
     "name": "stdout",
     "output_type": "stream",
     "text": [
      "Early stopping, best iteration is:\n",
      "[45]\tvalid_0's auc: 0.923135\n",
      "Training until validation scores don't improve for 30 rounds\n"
     ]
    },
    {
     "name": "stderr",
     "output_type": "stream",
     "text": [
      "[I 2025-08-04 23:04:50,161] Trial 2 finished with value: 0.9273139503867698 and parameters: {'learning_rate': 0.1843800486900946, 'num_leaves': 24, 'max_depth': 4, 'min_child_samples': 25, 'feature_fraction': 0.9673424143309056, 'bagging_fraction': 0.614562991229957, 'lambda_l1': 0.1776230810829209, 'lambda_l2': 0.4852130660674636}. Best is trial 2 with value: 0.9273139503867698.\n"
     ]
    },
    {
     "name": "stdout",
     "output_type": "stream",
     "text": [
      "Did not meet early stopping. Best iteration is:\n",
      "[100]\tvalid_0's auc: 0.927314\n",
      "Training until validation scores don't improve for 30 rounds\n"
     ]
    },
    {
     "name": "stderr",
     "output_type": "stream",
     "text": [
      "[I 2025-08-04 23:04:51,465] Trial 3 finished with value: 0.9214234907086335 and parameters: {'learning_rate': 0.17087436038226175, 'num_leaves': 61, 'max_depth': 12, 'min_child_samples': 45, 'feature_fraction': 0.7646866075653347, 'bagging_fraction': 0.799990330490967, 'lambda_l1': 0.00641619766052659, 'lambda_l2': 0.9385451970785329}. Best is trial 2 with value: 0.9273139503867698.\n"
     ]
    },
    {
     "name": "stdout",
     "output_type": "stream",
     "text": [
      "Early stopping, best iteration is:\n",
      "[63]\tvalid_0's auc: 0.921423\n",
      "Training until validation scores don't improve for 30 rounds\n"
     ]
    },
    {
     "name": "stderr",
     "output_type": "stream",
     "text": [
      "[I 2025-08-04 23:04:51,828] Trial 4 finished with value: 0.9176891615541922 and parameters: {'learning_rate': 0.048459501029679865, 'num_leaves': 31, 'max_depth': 3, 'min_child_samples': 26, 'feature_fraction': 0.7914193444093723, 'bagging_fraction': 0.814037750477404, 'lambda_l1': 0.8962513909486298, 'lambda_l2': 0.449339305754875}. Best is trial 2 with value: 0.9273139503867698.\n"
     ]
    },
    {
     "name": "stdout",
     "output_type": "stream",
     "text": [
      "Did not meet early stopping. Best iteration is:\n",
      "[100]\tvalid_0's auc: 0.917689\n",
      "Training until validation scores don't improve for 30 rounds\n"
     ]
    },
    {
     "name": "stderr",
     "output_type": "stream",
     "text": [
      "[I 2025-08-04 23:04:52,176] Trial 5 finished with value: 0.9085533920156487 and parameters: {'learning_rate': 0.032607655918415156, 'num_leaves': 22, 'max_depth': 3, 'min_child_samples': 20, 'feature_fraction': 0.6294579156954582, 'bagging_fraction': 0.9943507255761713, 'lambda_l1': 0.26615126624299434, 'lambda_l2': 0.12131776057609833}. Best is trial 2 with value: 0.9273139503867698.\n"
     ]
    },
    {
     "name": "stdout",
     "output_type": "stream",
     "text": [
      "Did not meet early stopping. Best iteration is:\n",
      "[100]\tvalid_0's auc: 0.908553\n",
      "Training until validation scores don't improve for 30 rounds\n"
     ]
    },
    {
     "name": "stderr",
     "output_type": "stream",
     "text": [
      "[I 2025-08-04 23:04:53,402] Trial 6 finished with value: 0.9264470525473459 and parameters: {'learning_rate': 0.10534264191493208, 'num_leaves': 32, 'max_depth': 9, 'min_child_samples': 39, 'feature_fraction': 0.8567605894368455, 'bagging_fraction': 0.7365020319561623, 'lambda_l1': 0.42284969968660857, 'lambda_l2': 0.7663642256851398}. Best is trial 2 with value: 0.9273139503867698.\n"
     ]
    },
    {
     "name": "stdout",
     "output_type": "stream",
     "text": [
      "Did not meet early stopping. Best iteration is:\n",
      "[98]\tvalid_0's auc: 0.926447\n",
      "Training until validation scores don't improve for 30 rounds\n"
     ]
    },
    {
     "name": "stderr",
     "output_type": "stream",
     "text": [
      "[I 2025-08-04 23:04:53,742] Trial 7 finished with value: 0.9214457188583622 and parameters: {'learning_rate': 0.053182375334415166, 'num_leaves': 59, 'max_depth': 3, 'min_child_samples': 31, 'feature_fraction': 0.6826968979222443, 'bagging_fraction': 0.6323533194540445, 'lambda_l1': 0.4079430952210269, 'lambda_l2': 0.6129298931319572}. Best is trial 2 with value: 0.9273139503867698.\n"
     ]
    },
    {
     "name": "stdout",
     "output_type": "stream",
     "text": [
      "Did not meet early stopping. Best iteration is:\n",
      "[99]\tvalid_0's auc: 0.921446\n",
      "Training until validation scores don't improve for 30 rounds\n"
     ]
    },
    {
     "name": "stderr",
     "output_type": "stream",
     "text": [
      "[I 2025-08-04 23:04:55,221] Trial 8 finished with value: 0.928869920867787 and parameters: {'learning_rate': 0.12620298569532729, 'num_leaves': 67, 'max_depth': 10, 'min_child_samples': 19, 'feature_fraction': 0.7030078215969914, 'bagging_fraction': 0.9956817480126885, 'lambda_l1': 0.4494250420189636, 'lambda_l2': 0.9544036426347422}. Best is trial 8 with value: 0.928869920867787.\n"
     ]
    },
    {
     "name": "stdout",
     "output_type": "stream",
     "text": [
      "Did not meet early stopping. Best iteration is:\n",
      "[75]\tvalid_0's auc: 0.92887\n",
      "Training until validation scores don't improve for 30 rounds\n"
     ]
    },
    {
     "name": "stderr",
     "output_type": "stream",
     "text": [
      "[I 2025-08-04 23:04:56,215] Trial 9 finished with value: 0.919178447586023 and parameters: {'learning_rate': 0.12786221774218096, 'num_leaves': 44, 'max_depth': 8, 'min_child_samples': 10, 'feature_fraction': 0.7745740660150136, 'bagging_fraction': 0.9275158596949973, 'lambda_l1': 0.5820139788148446, 'lambda_l2': 0.49924707857310713}. Best is trial 8 with value: 0.928869920867787.\n"
     ]
    },
    {
     "name": "stdout",
     "output_type": "stream",
     "text": [
      "Early stopping, best iteration is:\n",
      "[37]\tvalid_0's auc: 0.919178\n",
      "Training until validation scores don't improve for 30 rounds\n"
     ]
    },
    {
     "name": "stderr",
     "output_type": "stream",
     "text": [
      "[I 2025-08-04 23:04:57,392] Trial 10 finished with value: 0.9222681603983284 and parameters: {'learning_rate': 0.13246330003872744, 'num_leaves': 74, 'max_depth': 12, 'min_child_samples': 36, 'feature_fraction': 0.676007156661883, 'bagging_fraction': 0.9941929491370929, 'lambda_l1': 0.7552166069607327, 'lambda_l2': 0.9479567071733602}. Best is trial 8 with value: 0.928869920867787.\n"
     ]
    },
    {
     "name": "stdout",
     "output_type": "stream",
     "text": [
      "Did not meet early stopping. Best iteration is:\n",
      "[91]\tvalid_0's auc: 0.922268\n",
      "Training until validation scores don't improve for 30 rounds\n"
     ]
    },
    {
     "name": "stderr",
     "output_type": "stream",
     "text": [
      "[I 2025-08-04 23:04:58,131] Trial 11 finished with value: 0.9230016893393793 and parameters: {'learning_rate': 0.14579336492988665, 'num_leaves': 44, 'max_depth': 6, 'min_child_samples': 26, 'feature_fraction': 0.9829688476355255, 'bagging_fraction': 0.662041836623048, 'lambda_l1': 0.13733933334496357, 'lambda_l2': 0.2333160010529446}. Best is trial 8 with value: 0.928869920867787.\n"
     ]
    },
    {
     "name": "stdout",
     "output_type": "stream",
     "text": [
      "Early stopping, best iteration is:\n",
      "[41]\tvalid_0's auc: 0.923002\n",
      "Training until validation scores don't improve for 30 rounds\n"
     ]
    },
    {
     "name": "stderr",
     "output_type": "stream",
     "text": [
      "[I 2025-08-04 23:04:59,984] Trial 12 finished with value: 0.9320263181292788 and parameters: {'learning_rate': 0.08074424624131288, 'num_leaves': 65, 'max_depth': 10, 'min_child_samples': 23, 'feature_fraction': 0.8865160217952279, 'bagging_fraction': 0.7128522358997569, 'lambda_l1': 0.2233714873528858, 'lambda_l2': 0.3001452983562788}. Best is trial 12 with value: 0.9320263181292788.\n"
     ]
    },
    {
     "name": "stdout",
     "output_type": "stream",
     "text": [
      "Did not meet early stopping. Best iteration is:\n",
      "[71]\tvalid_0's auc: 0.932026\n",
      "Training until validation scores don't improve for 30 rounds\n"
     ]
    },
    {
     "name": "stderr",
     "output_type": "stream",
     "text": [
      "[I 2025-08-04 23:05:01,650] Trial 13 finished with value: 0.9256690673068374 and parameters: {'learning_rate': 0.0779658724393429, 'num_leaves': 66, 'max_depth': 10, 'min_child_samples': 10, 'feature_fraction': 0.8650949255562457, 'bagging_fraction': 0.7376701954230052, 'lambda_l1': 0.2611304688211308, 'lambda_l2': 0.28345750572370504}. Best is trial 12 with value: 0.9320263181292788.\n"
     ]
    },
    {
     "name": "stdout",
     "output_type": "stream",
     "text": [
      "Early stopping, best iteration is:\n",
      "[42]\tvalid_0's auc: 0.925669\n",
      "Training until validation scores don't improve for 30 rounds\n"
     ]
    },
    {
     "name": "stderr",
     "output_type": "stream",
     "text": [
      "[I 2025-08-04 23:05:03,454] Trial 14 finished with value: 0.9276696007824309 and parameters: {'learning_rate': 0.09185705763352528, 'num_leaves': 70, 'max_depth': 11, 'min_child_samples': 20, 'feature_fraction': 0.8831121180037813, 'bagging_fraction': 0.705441699391684, 'lambda_l1': 0.71843591966376, 'lambda_l2': 0.011147260367902478}. Best is trial 12 with value: 0.9320263181292788.\n"
     ]
    },
    {
     "name": "stdout",
     "output_type": "stream",
     "text": [
      "Did not meet early stopping. Best iteration is:\n",
      "[100]\tvalid_0's auc: 0.92767\n",
      "Training until validation scores don't improve for 30 rounds\n"
     ]
    },
    {
     "name": "stderr",
     "output_type": "stream",
     "text": [
      "[I 2025-08-04 23:05:04,461] Trial 15 finished with value: 0.9208455588156841 and parameters: {'learning_rate': 0.07090291971218331, 'num_leaves': 52, 'max_depth': 7, 'min_child_samples': 32, 'feature_fraction': 0.6974369924381628, 'bagging_fraction': 0.7748300335944273, 'lambda_l1': 0.31891115131297904, 'lambda_l2': 0.2969270844049705}. Best is trial 12 with value: 0.9320263181292788.\n"
     ]
    },
    {
     "name": "stdout",
     "output_type": "stream",
     "text": [
      "Did not meet early stopping. Best iteration is:\n",
      "[97]\tvalid_0's auc: 0.920846\n",
      "Training until validation scores don't improve for 30 rounds\n"
     ]
    },
    {
     "name": "stderr",
     "output_type": "stream",
     "text": [
      "[I 2025-08-04 23:05:05,511] Trial 16 finished with value: 0.9188450253400906 and parameters: {'learning_rate': 0.014046848480169169, 'num_leaves': 55, 'max_depth': 10, 'min_child_samples': 50, 'feature_fraction': 0.9050755010910978, 'bagging_fraction': 0.8787977643155507, 'lambda_l1': 0.0047124587145984664, 'lambda_l2': 0.6340529048277471}. Best is trial 12 with value: 0.9320263181292788.\n"
     ]
    },
    {
     "name": "stdout",
     "output_type": "stream",
     "text": [
      "Early stopping, best iteration is:\n",
      "[44]\tvalid_0's auc: 0.918845\n",
      "Training until validation scores don't improve for 30 rounds\n"
     ]
    },
    {
     "name": "stderr",
     "output_type": "stream",
     "text": [
      "[I 2025-08-04 23:05:06,865] Trial 17 finished with value: 0.9312927891882279 and parameters: {'learning_rate': 0.11232453122178032, 'num_leaves': 80, 'max_depth': 10, 'min_child_samples': 23, 'feature_fraction': 0.6127121118494835, 'bagging_fraction': 0.689110434597916, 'lambda_l1': 0.6077013025305107, 'lambda_l2': 0.832805627942667}. Best is trial 12 with value: 0.9320263181292788.\n"
     ]
    },
    {
     "name": "stdout",
     "output_type": "stream",
     "text": [
      "Did not meet early stopping. Best iteration is:\n",
      "[99]\tvalid_0's auc: 0.931293\n",
      "Training until validation scores don't improve for 30 rounds\n"
     ]
    },
    {
     "name": "stderr",
     "output_type": "stream",
     "text": [
      "[I 2025-08-04 23:05:08,049] Trial 18 finished with value: 0.9187783408909043 and parameters: {'learning_rate': 0.09147708449101549, 'num_leaves': 77, 'max_depth': 8, 'min_child_samples': 25, 'feature_fraction': 0.6257985021369824, 'bagging_fraction': 0.6730625010209872, 'lambda_l1': 0.6538879247560427, 'lambda_l2': 0.8484311038508882}. Best is trial 12 with value: 0.9320263181292788.\n"
     ]
    },
    {
     "name": "stdout",
     "output_type": "stream",
     "text": [
      "Did not meet early stopping. Best iteration is:\n",
      "[95]\tvalid_0's auc: 0.918778\n",
      "Training until validation scores don't improve for 30 rounds\n"
     ]
    },
    {
     "name": "stderr",
     "output_type": "stream",
     "text": [
      "[I 2025-08-04 23:05:09,321] Trial 19 finished with value: 0.930914910642838 and parameters: {'learning_rate': 0.10808204479702271, 'num_leaves': 79, 'max_depth': 11, 'min_child_samples': 35, 'feature_fraction': 0.8347655794058471, 'bagging_fraction': 0.7161648088140807, 'lambda_l1': 0.9903096245691763, 'lambda_l2': 0.1679641586919528}. Best is trial 12 with value: 0.9320263181292788.\n"
     ]
    },
    {
     "name": "stdout",
     "output_type": "stream",
     "text": [
      "Early stopping, best iteration is:\n",
      "[61]\tvalid_0's auc: 0.930915\n",
      "Training until validation scores don't improve for 30 rounds\n"
     ]
    },
    {
     "name": "stderr",
     "output_type": "stream",
     "text": [
      "[I 2025-08-04 23:05:10,334] Trial 20 finished with value: 0.9248243976171424 and parameters: {'learning_rate': 0.14996792912450604, 'num_leaves': 71, 'max_depth': 7, 'min_child_samples': 16, 'feature_fraction': 0.9192081498653506, 'bagging_fraction': 0.7692551136715686, 'lambda_l1': 0.8275261217417353, 'lambda_l2': 0.37702148821080983}. Best is trial 12 with value: 0.9320263181292788.\n"
     ]
    },
    {
     "name": "stdout",
     "output_type": "stream",
     "text": [
      "Early stopping, best iteration is:\n",
      "[37]\tvalid_0's auc: 0.924824\n",
      "Training until validation scores don't improve for 30 rounds\n"
     ]
    },
    {
     "name": "stderr",
     "output_type": "stream",
     "text": [
      "[I 2025-08-04 23:05:11,634] Trial 21 finished with value: 0.9294033964612786 and parameters: {'learning_rate': 0.10587092370666674, 'num_leaves': 79, 'max_depth': 11, 'min_child_samples': 36, 'feature_fraction': 0.8347852489584352, 'bagging_fraction': 0.7024769121925778, 'lambda_l1': 0.9004894528342539, 'lambda_l2': 0.15444203195742937}. Best is trial 12 with value: 0.9320263181292788.\n"
     ]
    },
    {
     "name": "stdout",
     "output_type": "stream",
     "text": [
      "Early stopping, best iteration is:\n",
      "[58]\tvalid_0's auc: 0.929403\n",
      "Training until validation scores don't improve for 30 rounds\n"
     ]
    },
    {
     "name": "stderr",
     "output_type": "stream",
     "text": [
      "[I 2025-08-04 23:05:13,070] Trial 22 finished with value: 0.9296479061082956 and parameters: {'learning_rate': 0.11293201456984128, 'num_leaves': 80, 'max_depth': 11, 'min_child_samples': 29, 'feature_fraction': 0.8299841054875454, 'bagging_fraction': 0.663216884465107, 'lambda_l1': 0.957868345497755, 'lambda_l2': 0.09042299892450967}. Best is trial 12 with value: 0.9320263181292788.\n"
     ]
    },
    {
     "name": "stdout",
     "output_type": "stream",
     "text": [
      "Did not meet early stopping. Best iteration is:\n",
      "[79]\tvalid_0's auc: 0.929648\n",
      "Training until validation scores don't improve for 30 rounds\n"
     ]
    },
    {
     "name": "stderr",
     "output_type": "stream",
     "text": [
      "[I 2025-08-04 23:05:14,438] Trial 23 finished with value: 0.928981061616431 and parameters: {'learning_rate': 0.07464671375536486, 'num_leaves': 63, 'max_depth': 9, 'min_child_samples': 40, 'feature_fraction': 0.9309399734881724, 'bagging_fraction': 0.7242221961845756, 'lambda_l1': 0.5721958190600621, 'lambda_l2': 0.31441662222298417}. Best is trial 12 with value: 0.9320263181292788.\n"
     ]
    },
    {
     "name": "stdout",
     "output_type": "stream",
     "text": [
      "Did not meet early stopping. Best iteration is:\n",
      "[97]\tvalid_0's auc: 0.928981\n",
      "Training until validation scores don't improve for 30 rounds\n"
     ]
    },
    {
     "name": "stderr",
     "output_type": "stream",
     "text": [
      "[I 2025-08-04 23:05:15,718] Trial 24 finished with value: 0.9296034498088379 and parameters: {'learning_rate': 0.09003663933068412, 'num_leaves': 67, 'max_depth': 12, 'min_child_samples': 34, 'feature_fraction': 0.8148831465273532, 'bagging_fraction': 0.6837753881078883, 'lambda_l1': 0.9991092619082478, 'lambda_l2': 0.19450670234927825}. Best is trial 12 with value: 0.9320263181292788.\n"
     ]
    },
    {
     "name": "stdout",
     "output_type": "stream",
     "text": [
      "Early stopping, best iteration is:\n",
      "[54]\tvalid_0's auc: 0.929603\n",
      "Training until validation scores don't improve for 30 rounds\n"
     ]
    },
    {
     "name": "stderr",
     "output_type": "stream",
     "text": [
      "[I 2025-08-04 23:05:16,931] Trial 25 finished with value: 0.9210678403129723 and parameters: {'learning_rate': 0.11684824042435543, 'num_leaves': 73, 'max_depth': 10, 'min_child_samples': 29, 'feature_fraction': 0.7286712743394032, 'bagging_fraction': 0.636871178380008, 'lambda_l1': 0.7877511194178497, 'lambda_l2': 0.055847458534476646}. Best is trial 12 with value: 0.9320263181292788.\n"
     ]
    },
    {
     "name": "stdout",
     "output_type": "stream",
     "text": [
      "Early stopping, best iteration is:\n",
      "[56]\tvalid_0's auc: 0.921068\n",
      "Training until validation scores don't improve for 30 rounds\n"
     ]
    },
    {
     "name": "stderr",
     "output_type": "stream",
     "text": [
      "[I 2025-08-04 23:05:18,444] Trial 26 finished with value: 0.9254912421090069 and parameters: {'learning_rate': 0.05860550100328709, 'num_leaves': 74, 'max_depth': 11, 'min_child_samples': 22, 'feature_fraction': 0.606716912705356, 'bagging_fraction': 0.7549541754715591, 'lambda_l1': 0.6726072318101748, 'lambda_l2': 0.23845853307246057}. Best is trial 12 with value: 0.9320263181292788.\n"
     ]
    },
    {
     "name": "stdout",
     "output_type": "stream",
     "text": [
      "Did not meet early stopping. Best iteration is:\n",
      "[91]\tvalid_0's auc: 0.925491\n",
      "Training until validation scores don't improve for 30 rounds\n"
     ]
    },
    {
     "name": "stderr",
     "output_type": "stream",
     "text": [
      "[I 2025-08-04 23:05:19,428] Trial 27 finished with value: 0.9323597403752113 and parameters: {'learning_rate': 0.1509811650137557, 'num_leaves': 58, 'max_depth': 9, 'min_child_samples': 22, 'feature_fraction': 0.8873234834774538, 'bagging_fraction': 0.6970532027516806, 'lambda_l1': 0.14802102674798212, 'lambda_l2': 0.3781837073713474}. Best is trial 27 with value: 0.9323597403752113.\n"
     ]
    },
    {
     "name": "stdout",
     "output_type": "stream",
     "text": [
      "Early stopping, best iteration is:\n",
      "[23]\tvalid_0's auc: 0.93236\n",
      "Training until validation scores don't improve for 30 rounds\n"
     ]
    },
    {
     "name": "stderr",
     "output_type": "stream",
     "text": [
      "[I 2025-08-04 23:05:20,319] Trial 28 finished with value: 0.9192673601849382 and parameters: {'learning_rate': 0.15500639548928521, 'num_leaves': 45, 'max_depth': 8, 'min_child_samples': 13, 'feature_fraction': 0.9405966510156756, 'bagging_fraction': 0.6459970429919589, 'lambda_l1': 0.1069646760111338, 'lambda_l2': 0.5639555800362173}. Best is trial 27 with value: 0.9323597403752113.\n"
     ]
    },
    {
     "name": "stdout",
     "output_type": "stream",
     "text": [
      "Early stopping, best iteration is:\n",
      "[21]\tvalid_0's auc: 0.919267\n",
      "Training until validation scores don't improve for 30 rounds\n"
     ]
    },
    {
     "name": "stderr",
     "output_type": "stream",
     "text": [
      "[I 2025-08-04 23:05:21,438] Trial 29 finished with value: 0.9222681603983286 and parameters: {'learning_rate': 0.19982815355117897, 'num_leaves': 55, 'max_depth': 9, 'min_child_samples': 23, 'feature_fraction': 0.8865688779744034, 'bagging_fraction': 0.6054266308403561, 'lambda_l1': 0.21923848442657723, 'lambda_l2': 0.7162363578217361}. Best is trial 27 with value: 0.9323597403752113.\n"
     ]
    },
    {
     "name": "stdout",
     "output_type": "stream",
     "text": [
      "Early stopping, best iteration is:\n",
      "[38]\tvalid_0's auc: 0.922268\n"
     ]
    },
    {
     "name": "stderr",
     "output_type": "stream",
     "text": [
      "[I 2025-08-04 23:05:24,142] A new study created in memory with name: no-name-857e4e3e-c996-4d39-a036-a0e4bdc84541\n"
     ]
    },
    {
     "name": "stdout",
     "output_type": "stream",
     "text": [
      "📍 Training for label: SR-p53\n",
      "Training until validation scores don't improve for 30 rounds\n"
     ]
    },
    {
     "name": "stderr",
     "output_type": "stream",
     "text": [
      "[I 2025-08-04 23:05:24,854] Trial 0 finished with value: 0.8369703787026622 and parameters: {'learning_rate': 0.1794634481240976, 'num_leaves': 47, 'max_depth': 4, 'min_child_samples': 23, 'feature_fraction': 0.8232194272696374, 'bagging_fraction': 0.9985771751659023, 'lambda_l1': 0.9494053575739733, 'lambda_l2': 0.799247920105816}. Best is trial 0 with value: 0.8369703787026622.\n"
     ]
    },
    {
     "name": "stdout",
     "output_type": "stream",
     "text": [
      "Did not meet early stopping. Best iteration is:\n",
      "[85]\tvalid_0's auc: 0.83697\n",
      "Training until validation scores don't improve for 30 rounds\n"
     ]
    },
    {
     "name": "stderr",
     "output_type": "stream",
     "text": [
      "[I 2025-08-04 23:05:25,613] Trial 1 finished with value: 0.8875515560554931 and parameters: {'learning_rate': 0.09108841358076651, 'num_leaves': 39, 'max_depth': 7, 'min_child_samples': 44, 'feature_fraction': 0.6284348015814886, 'bagging_fraction': 0.6764668957170016, 'lambda_l1': 0.8056698681090427, 'lambda_l2': 0.07229573232020714}. Best is trial 1 with value: 0.8875515560554931.\n"
     ]
    },
    {
     "name": "stdout",
     "output_type": "stream",
     "text": [
      "Did not meet early stopping. Best iteration is:\n",
      "[89]\tvalid_0's auc: 0.887552\n",
      "Training until validation scores don't improve for 30 rounds\n"
     ]
    },
    {
     "name": "stderr",
     "output_type": "stream",
     "text": [
      "[I 2025-08-04 23:05:26,136] Trial 2 finished with value: 0.8777652793400824 and parameters: {'learning_rate': 0.052643909294029345, 'num_leaves': 34, 'max_depth': 4, 'min_child_samples': 26, 'feature_fraction': 0.9889177192813767, 'bagging_fraction': 0.9736952621062378, 'lambda_l1': 0.6295236576144455, 'lambda_l2': 0.7375309318860643}. Best is trial 1 with value: 0.8875515560554931.\n"
     ]
    },
    {
     "name": "stdout",
     "output_type": "stream",
     "text": [
      "Did not meet early stopping. Best iteration is:\n",
      "[95]\tvalid_0's auc: 0.877765\n",
      "Training until validation scores don't improve for 30 rounds\n"
     ]
    },
    {
     "name": "stderr",
     "output_type": "stream",
     "text": [
      "[I 2025-08-04 23:05:26,978] Trial 3 finished with value: 0.8365579302587176 and parameters: {'learning_rate': 0.17833486777051488, 'num_leaves': 77, 'max_depth': 10, 'min_child_samples': 35, 'feature_fraction': 0.8731518797733318, 'bagging_fraction': 0.716422941632815, 'lambda_l1': 0.2590705877851519, 'lambda_l2': 0.7613555838143801}. Best is trial 1 with value: 0.8875515560554931.\n"
     ]
    },
    {
     "name": "stdout",
     "output_type": "stream",
     "text": [
      "Early stopping, best iteration is:\n",
      "[23]\tvalid_0's auc: 0.836558\n",
      "Training until validation scores don't improve for 30 rounds\n"
     ]
    },
    {
     "name": "stderr",
     "output_type": "stream",
     "text": [
      "[I 2025-08-04 23:05:27,557] Trial 4 finished with value: 0.8589426321709785 and parameters: {'learning_rate': 0.10006549984205382, 'num_leaves': 28, 'max_depth': 6, 'min_child_samples': 20, 'feature_fraction': 0.8420628695799419, 'bagging_fraction': 0.6806367236449998, 'lambda_l1': 0.26441361850883116, 'lambda_l2': 0.9467556073175312}. Best is trial 1 with value: 0.8875515560554931.\n"
     ]
    },
    {
     "name": "stdout",
     "output_type": "stream",
     "text": [
      "Early stopping, best iteration is:\n",
      "[38]\tvalid_0's auc: 0.858943\n",
      "Training until validation scores don't improve for 30 rounds\n"
     ]
    },
    {
     "name": "stderr",
     "output_type": "stream",
     "text": [
      "[I 2025-08-04 23:05:28,546] Trial 5 finished with value: 0.8472815898012749 and parameters: {'learning_rate': 0.14460391468686712, 'num_leaves': 48, 'max_depth': 8, 'min_child_samples': 36, 'feature_fraction': 0.7075178316728358, 'bagging_fraction': 0.647036944006667, 'lambda_l1': 0.6989063361091721, 'lambda_l2': 0.03351169840211088}. Best is trial 1 with value: 0.8875515560554931.\n"
     ]
    },
    {
     "name": "stdout",
     "output_type": "stream",
     "text": [
      "Did not meet early stopping. Best iteration is:\n",
      "[86]\tvalid_0's auc: 0.847282\n",
      "Training until validation scores don't improve for 30 rounds\n"
     ]
    },
    {
     "name": "stderr",
     "output_type": "stream",
     "text": [
      "[I 2025-08-04 23:05:29,433] Trial 6 finished with value: 0.8857892763404575 and parameters: {'learning_rate': 0.15239247140803505, 'num_leaves': 65, 'max_depth': 7, 'min_child_samples': 48, 'feature_fraction': 0.819104459979754, 'bagging_fraction': 0.8287489069757898, 'lambda_l1': 0.9929491112564396, 'lambda_l2': 0.04744924118478866}. Best is trial 1 with value: 0.8875515560554931.\n"
     ]
    },
    {
     "name": "stdout",
     "output_type": "stream",
     "text": [
      "Did not meet early stopping. Best iteration is:\n",
      "[97]\tvalid_0's auc: 0.885789\n",
      "Training until validation scores don't improve for 30 rounds\n"
     ]
    },
    {
     "name": "stderr",
     "output_type": "stream",
     "text": [
      "[I 2025-08-04 23:05:30,898] Trial 7 finished with value: 0.8699287589051368 and parameters: {'learning_rate': 0.03938842334149219, 'num_leaves': 36, 'max_depth': 12, 'min_child_samples': 19, 'feature_fraction': 0.8656032905859503, 'bagging_fraction': 0.8674482517727016, 'lambda_l1': 0.05356801156230129, 'lambda_l2': 0.9435772590460485}. Best is trial 1 with value: 0.8875515560554931.\n"
     ]
    },
    {
     "name": "stdout",
     "output_type": "stream",
     "text": [
      "Did not meet early stopping. Best iteration is:\n",
      "[98]\tvalid_0's auc: 0.869929\n",
      "Training until validation scores don't improve for 30 rounds\n"
     ]
    },
    {
     "name": "stderr",
     "output_type": "stream",
     "text": [
      "[I 2025-08-04 23:05:32,023] Trial 8 finished with value: 0.8757405324334459 and parameters: {'learning_rate': 0.11715458714678319, 'num_leaves': 30, 'max_depth': 11, 'min_child_samples': 23, 'feature_fraction': 0.6888940706643275, 'bagging_fraction': 0.6365641893254729, 'lambda_l1': 0.973985680830551, 'lambda_l2': 0.0939338061111532}. Best is trial 1 with value: 0.8875515560554931.\n"
     ]
    },
    {
     "name": "stdout",
     "output_type": "stream",
     "text": [
      "Did not meet early stopping. Best iteration is:\n",
      "[76]\tvalid_0's auc: 0.875741\n",
      "Training until validation scores don't improve for 30 rounds\n"
     ]
    },
    {
     "name": "stderr",
     "output_type": "stream",
     "text": [
      "[I 2025-08-04 23:05:32,381] Trial 9 finished with value: 0.8739407574053244 and parameters: {'learning_rate': 0.12799575838898827, 'num_leaves': 21, 'max_depth': 3, 'min_child_samples': 36, 'feature_fraction': 0.9192128252676111, 'bagging_fraction': 0.7382955480622603, 'lambda_l1': 0.12924324419824829, 'lambda_l2': 0.12656940895689206}. Best is trial 1 with value: 0.8875515560554931.\n"
     ]
    },
    {
     "name": "stdout",
     "output_type": "stream",
     "text": [
      "Did not meet early stopping. Best iteration is:\n",
      "[91]\tvalid_0's auc: 0.873941\n",
      "Training until validation scores don't improve for 30 rounds\n"
     ]
    },
    {
     "name": "stderr",
     "output_type": "stream",
     "text": [
      "[I 2025-08-04 23:05:33,393] Trial 10 finished with value: 0.8778402699662542 and parameters: {'learning_rate': 0.07699024517925661, 'num_leaves': 67, 'max_depth': 9, 'min_child_samples': 50, 'feature_fraction': 0.6074252947471216, 'bagging_fraction': 0.7741300328553429, 'lambda_l1': 0.7422040181561038, 'lambda_l2': 0.35632030549265764}. Best is trial 1 with value: 0.8875515560554931.\n"
     ]
    },
    {
     "name": "stdout",
     "output_type": "stream",
     "text": [
      "Did not meet early stopping. Best iteration is:\n",
      "[91]\tvalid_0's auc: 0.87784\n",
      "Training until validation scores don't improve for 30 rounds\n"
     ]
    },
    {
     "name": "stderr",
     "output_type": "stream",
     "text": [
      "[I 2025-08-04 23:05:34,158] Trial 11 finished with value: 0.879002624671916 and parameters: {'learning_rate': 0.15424889658736596, 'num_leaves': 62, 'max_depth': 6, 'min_child_samples': 50, 'feature_fraction': 0.732949523739779, 'bagging_fraction': 0.8449922437073543, 'lambda_l1': 0.8341939550210202, 'lambda_l2': 0.29521600016041083}. Best is trial 1 with value: 0.8875515560554931.\n"
     ]
    },
    {
     "name": "stdout",
     "output_type": "stream",
     "text": [
      "Did not meet early stopping. Best iteration is:\n",
      "[85]\tvalid_0's auc: 0.879003\n",
      "Training until validation scores don't improve for 30 rounds\n"
     ]
    },
    {
     "name": "stderr",
     "output_type": "stream",
     "text": [
      "[I 2025-08-04 23:05:35,044] Trial 12 finished with value: 0.8820772403449569 and parameters: {'learning_rate': 0.0816684964326318, 'num_leaves': 62, 'max_depth': 7, 'min_child_samples': 44, 'feature_fraction': 0.7547468269134214, 'bagging_fraction': 0.8473004635464614, 'lambda_l1': 0.49923594596677834, 'lambda_l2': 0.2541355579404842}. Best is trial 1 with value: 0.8875515560554931.\n"
     ]
    },
    {
     "name": "stdout",
     "output_type": "stream",
     "text": [
      "Did not meet early stopping. Best iteration is:\n",
      "[95]\tvalid_0's auc: 0.882077\n",
      "Training until validation scores don't improve for 30 rounds\n"
     ]
    },
    {
     "name": "stderr",
     "output_type": "stream",
     "text": [
      "[I 2025-08-04 23:05:35,719] Trial 13 finished with value: 0.8521184851893513 and parameters: {'learning_rate': 0.1547940399039184, 'num_leaves': 53, 'max_depth': 6, 'min_child_samples': 42, 'feature_fraction': 0.6024357121949007, 'bagging_fraction': 0.9133750829552503, 'lambda_l1': 0.5199749836352573, 'lambda_l2': 0.5081448002308095}. Best is trial 1 with value: 0.8875515560554931.\n"
     ]
    },
    {
     "name": "stdout",
     "output_type": "stream",
     "text": [
      "Did not meet early stopping. Best iteration is:\n",
      "[86]\tvalid_0's auc: 0.852118\n",
      "Training until validation scores don't improve for 30 rounds\n"
     ]
    },
    {
     "name": "stderr",
     "output_type": "stream",
     "text": [
      "[I 2025-08-04 23:05:36,824] Trial 14 finished with value: 0.8764904386951631 and parameters: {'learning_rate': 0.1954055755940602, 'num_leaves': 78, 'max_depth': 8, 'min_child_samples': 13, 'feature_fraction': 0.7712545300766691, 'bagging_fraction': 0.7853055402261132, 'lambda_l1': 0.8598664630082808, 'lambda_l2': 0.4825055470928149}. Best is trial 1 with value: 0.8875515560554931.\n"
     ]
    },
    {
     "name": "stdout",
     "output_type": "stream",
     "text": [
      "Did not meet early stopping. Best iteration is:\n",
      "[71]\tvalid_0's auc: 0.87649\n",
      "Training until validation scores don't improve for 30 rounds\n"
     ]
    },
    {
     "name": "stderr",
     "output_type": "stream",
     "text": [
      "[I 2025-08-04 23:05:37,562] Trial 15 finished with value: 0.8739782527184102 and parameters: {'learning_rate': 0.09290245312909642, 'num_leaves': 41, 'max_depth': 7, 'min_child_samples': 43, 'feature_fraction': 0.6721462463269894, 'bagging_fraction': 0.7195947937578426, 'lambda_l1': 0.9926035938597477, 'lambda_l2': 0.19229650210658267}. Best is trial 1 with value: 0.8875515560554931.\n"
     ]
    },
    {
     "name": "stdout",
     "output_type": "stream",
     "text": [
      "Early stopping, best iteration is:\n",
      "[58]\tvalid_0's auc: 0.873978\n",
      "Training until validation scores don't improve for 30 rounds\n"
     ]
    },
    {
     "name": "stderr",
     "output_type": "stream",
     "text": [
      "[I 2025-08-04 23:05:38,310] Trial 16 finished with value: 0.8444319460067491 and parameters: {'learning_rate': 0.012399013666462524, 'num_leaves': 56, 'max_depth': 5, 'min_child_samples': 46, 'feature_fraction': 0.7947270113975353, 'bagging_fraction': 0.6014379367926294, 'lambda_l1': 0.8242559433841048, 'lambda_l2': 0.0015536076656224446}. Best is trial 1 with value: 0.8875515560554931.\n"
     ]
    },
    {
     "name": "stdout",
     "output_type": "stream",
     "text": [
      "Did not meet early stopping. Best iteration is:\n",
      "[100]\tvalid_0's auc: 0.844432\n",
      "Training until validation scores don't improve for 30 rounds\n"
     ]
    },
    {
     "name": "stderr",
     "output_type": "stream",
     "text": [
      "[I 2025-08-04 23:05:39,535] Trial 17 finished with value: 0.8999250093738282 and parameters: {'learning_rate': 0.12721273310729625, 'num_leaves': 72, 'max_depth': 9, 'min_child_samples': 39, 'feature_fraction': 0.654815870239227, 'bagging_fraction': 0.9248278994662917, 'lambda_l1': 0.5775196265489522, 'lambda_l2': 0.42186138526621453}. Best is trial 17 with value: 0.8999250093738282.\n"
     ]
    },
    {
     "name": "stdout",
     "output_type": "stream",
     "text": [
      "Did not meet early stopping. Best iteration is:\n",
      "[100]\tvalid_0's auc: 0.899925\n",
      "Training until validation scores don't improve for 30 rounds\n"
     ]
    },
    {
     "name": "stderr",
     "output_type": "stream",
     "text": [
      "[I 2025-08-04 23:05:40,791] Trial 18 finished with value: 0.8838770153730784 and parameters: {'learning_rate': 0.06582849326944713, 'num_leaves': 72, 'max_depth': 9, 'min_child_samples': 32, 'feature_fraction': 0.6536710769512064, 'bagging_fraction': 0.916757134245131, 'lambda_l1': 0.5037492281918573, 'lambda_l2': 0.5688170406230306}. Best is trial 17 with value: 0.8999250093738282.\n"
     ]
    },
    {
     "name": "stdout",
     "output_type": "stream",
     "text": [
      "Did not meet early stopping. Best iteration is:\n",
      "[99]\tvalid_0's auc: 0.883877\n",
      "Training until validation scores don't improve for 30 rounds\n"
     ]
    },
    {
     "name": "stderr",
     "output_type": "stream",
     "text": [
      "[I 2025-08-04 23:05:41,895] Trial 19 finished with value: 0.8755155605549306 and parameters: {'learning_rate': 0.12765390719335415, 'num_leaves': 43, 'max_depth': 10, 'min_child_samples': 39, 'feature_fraction': 0.6348243658959517, 'bagging_fraction': 0.916537354736679, 'lambda_l1': 0.38547143937370043, 'lambda_l2': 0.42955307666407055}. Best is trial 17 with value: 0.8999250093738282.\n"
     ]
    },
    {
     "name": "stdout",
     "output_type": "stream",
     "text": [
      "Did not meet early stopping. Best iteration is:\n",
      "[83]\tvalid_0's auc: 0.875516\n",
      "Training until validation scores don't improve for 30 rounds\n"
     ]
    },
    {
     "name": "stderr",
     "output_type": "stream",
     "text": [
      "[I 2025-08-04 23:05:42,887] Trial 20 finished with value: 0.8609298837645295 and parameters: {'learning_rate': 0.11054996907397406, 'num_leaves': 56, 'max_depth': 9, 'min_child_samples': 30, 'feature_fraction': 0.716712357201965, 'bagging_fraction': 0.9573473830367951, 'lambda_l1': 0.6208918736534232, 'lambda_l2': 0.6278978616956795}. Best is trial 17 with value: 0.8999250093738282.\n"
     ]
    },
    {
     "name": "stdout",
     "output_type": "stream",
     "text": [
      "Early stopping, best iteration is:\n",
      "[48]\tvalid_0's auc: 0.86093\n",
      "Training until validation scores don't improve for 30 rounds\n"
     ]
    },
    {
     "name": "stderr",
     "output_type": "stream",
     "text": [
      "[I 2025-08-04 23:05:43,563] Trial 21 finished with value: 0.8865766779152606 and parameters: {'learning_rate': 0.13950518181778204, 'num_leaves': 67, 'max_depth': 7, 'min_child_samples': 46, 'feature_fraction': 0.6387078536087347, 'bagging_fraction': 0.8099479293490658, 'lambda_l1': 0.8806956491278857, 'lambda_l2': 0.1598332054755455}. Best is trial 17 with value: 0.8999250093738282.\n"
     ]
    },
    {
     "name": "stdout",
     "output_type": "stream",
     "text": [
      "Early stopping, best iteration is:\n",
      "[48]\tvalid_0's auc: 0.886577\n",
      "Training until validation scores don't improve for 30 rounds\n"
     ]
    },
    {
     "name": "stderr",
     "output_type": "stream",
     "text": [
      "[I 2025-08-04 23:05:44,592] Trial 22 finished with value: 0.8968503937007875 and parameters: {'learning_rate': 0.12987798935216457, 'num_leaves': 72, 'max_depth': 8, 'min_child_samples': 40, 'feature_fraction': 0.6324187039505301, 'bagging_fraction': 0.8807855542612648, 'lambda_l1': 0.748462415417895, 'lambda_l2': 0.1712666742433447}. Best is trial 17 with value: 0.8999250093738282.\n"
     ]
    },
    {
     "name": "stdout",
     "output_type": "stream",
     "text": [
      "Early stopping, best iteration is:\n",
      "[68]\tvalid_0's auc: 0.89685\n",
      "Training until validation scores don't improve for 30 rounds\n"
     ]
    },
    {
     "name": "stderr",
     "output_type": "stream",
     "text": [
      "[I 2025-08-04 23:05:45,938] Trial 23 finished with value: 0.8887514060742407 and parameters: {'learning_rate': 0.09929837902159723, 'num_leaves': 73, 'max_depth': 10, 'min_child_samples': 40, 'feature_fraction': 0.6715235183255739, 'bagging_fraction': 0.8860813469887029, 'lambda_l1': 0.7326338072477564, 'lambda_l2': 0.3404986280663865}. Best is trial 17 with value: 0.8999250093738282.\n"
     ]
    },
    {
     "name": "stdout",
     "output_type": "stream",
     "text": [
      "Early stopping, best iteration is:\n",
      "[68]\tvalid_0's auc: 0.888751\n",
      "Training until validation scores don't improve for 30 rounds\n"
     ]
    },
    {
     "name": "stderr",
     "output_type": "stream",
     "text": [
      "[I 2025-08-04 23:05:46,744] Trial 24 finished with value: 0.8926134233220847 and parameters: {'learning_rate': 0.12202937205960644, 'num_leaves': 73, 'max_depth': 10, 'min_child_samples': 40, 'feature_fraction': 0.6660601126567212, 'bagging_fraction': 0.8814948219901243, 'lambda_l1': 0.6133590792374564, 'lambda_l2': 0.36835202973138503}. Best is trial 17 with value: 0.8999250093738282.\n"
     ]
    },
    {
     "name": "stdout",
     "output_type": "stream",
     "text": [
      "Early stopping, best iteration is:\n",
      "[22]\tvalid_0's auc: 0.892613\n",
      "Training until validation scores don't improve for 30 rounds\n"
     ]
    },
    {
     "name": "stderr",
     "output_type": "stream",
     "text": [
      "[I 2025-08-04 23:05:48,038] Trial 25 finished with value: 0.8995500562429696 and parameters: {'learning_rate': 0.12488308066201365, 'num_leaves': 80, 'max_depth': 12, 'min_child_samples': 31, 'feature_fraction': 0.6994721881690922, 'bagging_fraction': 0.9456101233229876, 'lambda_l1': 0.5997346482999596, 'lambda_l2': 0.23365082472063428}. Best is trial 17 with value: 0.8999250093738282.\n"
     ]
    },
    {
     "name": "stdout",
     "output_type": "stream",
     "text": [
      "Did not meet early stopping. Best iteration is:\n",
      "[98]\tvalid_0's auc: 0.89955\n",
      "Training until validation scores don't improve for 30 rounds\n"
     ]
    },
    {
     "name": "stderr",
     "output_type": "stream",
     "text": [
      "[I 2025-08-04 23:05:49,214] Trial 26 finished with value: 0.8652793400824896 and parameters: {'learning_rate': 0.165952823230271, 'num_leaves': 80, 'max_depth': 12, 'min_child_samples': 30, 'feature_fraction': 0.6982459920028199, 'bagging_fraction': 0.9455486328506069, 'lambda_l1': 0.4000084293815993, 'lambda_l2': 0.17931692970106397}. Best is trial 17 with value: 0.8999250093738282.\n"
     ]
    },
    {
     "name": "stdout",
     "output_type": "stream",
     "text": [
      "Early stopping, best iteration is:\n",
      "[60]\tvalid_0's auc: 0.865279\n",
      "Training until validation scores don't improve for 30 rounds\n"
     ]
    },
    {
     "name": "stderr",
     "output_type": "stream",
     "text": [
      "[I 2025-08-04 23:05:50,523] Trial 27 finished with value: 0.8677165354330709 and parameters: {'learning_rate': 0.13412022205472865, 'num_leaves': 71, 'max_depth': 11, 'min_child_samples': 33, 'feature_fraction': 0.7363126257367297, 'bagging_fraction': 0.9459210369824496, 'lambda_l1': 0.5747129594563453, 'lambda_l2': 0.2429907165771173}. Best is trial 17 with value: 0.8999250093738282.\n"
     ]
    },
    {
     "name": "stdout",
     "output_type": "stream",
     "text": [
      "Did not meet early stopping. Best iteration is:\n",
      "[76]\tvalid_0's auc: 0.867717\n",
      "Training until validation scores don't improve for 30 rounds\n"
     ]
    },
    {
     "name": "stderr",
     "output_type": "stream",
     "text": [
      "[I 2025-08-04 23:05:51,982] Trial 28 finished with value: 0.8716535433070867 and parameters: {'learning_rate': 0.10914922801102256, 'num_leaves': 76, 'max_depth': 11, 'min_child_samples': 27, 'feature_fraction': 0.7779255804671497, 'bagging_fraction': 0.9915533909843324, 'lambda_l1': 0.6978004546415254, 'lambda_l2': 0.25326232752216093}. Best is trial 17 with value: 0.8999250093738282.\n"
     ]
    },
    {
     "name": "stdout",
     "output_type": "stream",
     "text": [
      "Did not meet early stopping. Best iteration is:\n",
      "[96]\tvalid_0's auc: 0.871654\n",
      "Training until validation scores don't improve for 30 rounds\n"
     ]
    },
    {
     "name": "stderr",
     "output_type": "stream",
     "text": [
      "[I 2025-08-04 23:05:52,590] Trial 29 finished with value: 0.8873265841769779 and parameters: {'learning_rate': 0.18647945193848248, 'num_leaves': 80, 'max_depth': 8, 'min_child_samples': 37, 'feature_fraction': 0.6190211184784666, 'bagging_fraction': 0.9974407664668596, 'lambda_l1': 0.44248548131837645, 'lambda_l2': 0.436063766727822}. Best is trial 17 with value: 0.8999250093738282.\n"
     ]
    },
    {
     "name": "stdout",
     "output_type": "stream",
     "text": [
      "Early stopping, best iteration is:\n",
      "[25]\tvalid_0's auc: 0.887327\n"
     ]
    },
    {
     "data": {
      "text/plain": [
       "['tox21_lightgb_pipeline/models/v6\\\\thresholds.pkl']"
      ]
     },
     "execution_count": 1,
     "metadata": {},
     "output_type": "execute_result"
    }
   ],
   "source": [
    "import os\n",
    "import numpy as np\n",
    "import pandas as pd\n",
    "import lightgbm as lgb\n",
    "from sklearn.model_selection import train_test_split\n",
    "from sklearn.metrics import roc_auc_score, accuracy_score, precision_recall_curve\n",
    "import optuna\n",
    "import joblib\n",
    "\n",
    "X = np.load(\"tox21_lightgb_pipeline/Data_v6/processed/X.npy\")\n",
    "Y = np.load(\"tox21_lightgb_pipeline/Data_v6/processed/Y.npy\")\n",
    "label_mask = np.load(\"tox21_lightgb_pipeline/Data_v6/processed/label_mask.npy\")\n",
    "\n",
    "with open(\"tox21_lightgb_pipeline/Data_v6/processed/feature_names.txt\") as f:\n",
    "    feature_names = f.read().splitlines()\n",
    "\n",
    "label_cols = [\n",
    "    \"NR-AR\", \"NR-AR-LBD\", \"NR-AhR\", \"NR-Aromatase\", \"NR-ER\",\n",
    "    \"NR-ER-LBD\", \"NR-PPAR-gamma\", \"SR-ARE\", \"SR-ATAD5\",\n",
    "    \"SR-HSE\", \"SR-MMP\", \"SR-p53\"\n",
    "]\n",
    "\n",
    "MODEL_PATH = \"tox21_lightgb_pipeline/models/v6\"\n",
    "os.makedirs(MODEL_PATH, exist_ok=True)\n",
    "\n",
    "threshold_dict = {}\n",
    "\n",
    "for i, label_name in enumerate(label_cols):\n",
    "    print(f\"📍 Training for label: {label_name}\")\n",
    "\n",
    "    valid_rows = label_mask[:, i]\n",
    "    X_valid = X[valid_rows]\n",
    "    y_valid = Y[valid_rows, i]\n",
    "\n",
    "    X_train, X_temp, y_train, y_temp = train_test_split(\n",
    "        X_valid, y_valid, test_size=0.2, stratify=y_valid, random_state=42\n",
    "    )\n",
    "    X_val, X_test, y_val, y_test = train_test_split(\n",
    "        X_temp, y_temp, test_size=0.5, stratify=y_temp, random_state=42\n",
    "    )\n",
    "\n",
    "    dtrain = lgb.Dataset(X_train, label=y_train)\n",
    "    dval = lgb.Dataset(X_val, label=y_val)\n",
    "\n",
    "    def objective(trial):\n",
    "        params = {\n",
    "            \"objective\": \"binary\",\n",
    "            \"metric\": \"auc\",\n",
    "            \"boosting_type\": \"gbdt\",\n",
    "            \"verbosity\": -1,\n",
    "            \"feature_pre_filter\": False,\n",
    "            \"learning_rate\": trial.suggest_float(\"learning_rate\", 0.01, 0.2),\n",
    "            \"num_leaves\": trial.suggest_int(\"num_leaves\", 20, 80),\n",
    "            \"max_depth\": trial.suggest_int(\"max_depth\", 3, 12),\n",
    "            \"min_child_samples\": trial.suggest_int(\"min_child_samples\", 10, 50),\n",
    "            \"feature_fraction\": trial.suggest_float(\"feature_fraction\", 0.6, 1.0),\n",
    "            \"bagging_fraction\": trial.suggest_float(\"bagging_fraction\", 0.6, 1.0),\n",
    "            \"lambda_l1\": trial.suggest_float(\"lambda_l1\", 0.0, 1.0),\n",
    "            \"lambda_l2\": trial.suggest_float(\"lambda_l2\", 0.0, 1.0),\n",
    "            \"scale_pos_weight\": sum(y_train == 0) / sum(y_train == 1),\n",
    "        }\n",
    "        model = lgb.train(\n",
    "            params,\n",
    "            dtrain,\n",
    "            valid_sets=[dval],\n",
    "            callbacks=[lgb.early_stopping(stopping_rounds=30), lgb.log_evaluation(period=0)]\n",
    "        )\n",
    "        preds = model.predict(X_val)\n",
    "        return roc_auc_score(y_val, preds)\n",
    "\n",
    "    study = optuna.create_study(direction=\"maximize\")\n",
    "    study.optimize(objective, n_trials=30)\n",
    "\n",
    "    best_params = study.best_params\n",
    "    best_params.update({\n",
    "        \"objective\": \"binary\", \"metric\": \"auc\", \"verbosity\": -1, \"boosting_type\": \"gbdt\"\n",
    "    })\n",
    "\n",
    "    final_model = lgb.LGBMClassifier(**best_params, n_estimators=500)\n",
    "    final_model.fit(X_train, y_train)\n",
    "\n",
    "    # Save model\n",
    "    joblib.dump(final_model, os.path.join(MODEL_PATH, f\"{label_name}.pkl\"))\n",
    "\n",
    "    # Compute and save threshold\n",
    "    preds_val = final_model.predict_proba(X_val)[:, 1]\n",
    "    precision, recall, thresholds = precision_recall_curve(y_val, preds_val)\n",
    "    f1_scores = 2 * precision * recall / (precision + recall + 1e-8)\n",
    "    best_thresh = thresholds[np.argmax(f1_scores)]\n",
    "    threshold_dict[label_name] = best_thresh\n",
    "\n",
    "# Save thresholds\n",
    "joblib.dump(threshold_dict, os.path.join(MODEL_PATH, \"thresholds.pkl\"))\n"
   ]
  },
  {
   "cell_type": "code",
   "execution_count": 3,
   "id": "e0793071",
   "metadata": {},
   "outputs": [
    {
     "name": "stdout",
     "output_type": "stream",
     "text": [
      "📊 Evaluating: NR-AR\n",
      "📊 Evaluating: NR-AR-LBD\n",
      "📊 Evaluating: NR-AhR\n",
      "📊 Evaluating: NR-Aromatase\n",
      "📊 Evaluating: NR-ER\n",
      "📊 Evaluating: NR-ER-LBD\n",
      "📊 Evaluating: NR-PPAR-gamma\n",
      "📊 Evaluating: SR-ARE\n",
      "📊 Evaluating: SR-ATAD5\n",
      "📊 Evaluating: SR-HSE\n",
      "📊 Evaluating: SR-MMP\n",
      "📊 Evaluating: SR-p53\n",
      "\n",
      "✅ Evaluation Summary:\n"
     ]
    },
    {
     "data": {
      "text/html": [
       "<div>\n",
       "<style scoped>\n",
       "    .dataframe tbody tr th:only-of-type {\n",
       "        vertical-align: middle;\n",
       "    }\n",
       "\n",
       "    .dataframe tbody tr th {\n",
       "        vertical-align: top;\n",
       "    }\n",
       "\n",
       "    .dataframe thead th {\n",
       "        text-align: right;\n",
       "    }\n",
       "</style>\n",
       "<table border=\"1\" class=\"dataframe\">\n",
       "  <thead>\n",
       "    <tr style=\"text-align: right;\">\n",
       "      <th></th>\n",
       "      <th>label</th>\n",
       "      <th>test_auc</th>\n",
       "      <th>test_accuracy</th>\n",
       "      <th>test_f1</th>\n",
       "      <th>n_test</th>\n",
       "    </tr>\n",
       "  </thead>\n",
       "  <tbody>\n",
       "    <tr>\n",
       "      <th>10</th>\n",
       "      <td>SR-MMP</td>\n",
       "      <td>0.9484</td>\n",
       "      <td>0.9329</td>\n",
       "      <td>0.7821</td>\n",
       "      <td>581</td>\n",
       "    </tr>\n",
       "    <tr>\n",
       "      <th>6</th>\n",
       "      <td>NR-PPAR-gamma</td>\n",
       "      <td>0.9339</td>\n",
       "      <td>0.9736</td>\n",
       "      <td>0.3200</td>\n",
       "      <td>645</td>\n",
       "    </tr>\n",
       "    <tr>\n",
       "      <th>8</th>\n",
       "      <td>SR-ATAD5</td>\n",
       "      <td>0.9142</td>\n",
       "      <td>0.9576</td>\n",
       "      <td>0.5000</td>\n",
       "      <td>708</td>\n",
       "    </tr>\n",
       "    <tr>\n",
       "      <th>2</th>\n",
       "      <td>NR-AhR</td>\n",
       "      <td>0.8938</td>\n",
       "      <td>0.9069</td>\n",
       "      <td>0.5734</td>\n",
       "      <td>655</td>\n",
       "    </tr>\n",
       "    <tr>\n",
       "      <th>11</th>\n",
       "      <td>SR-p53</td>\n",
       "      <td>0.8587</td>\n",
       "      <td>0.9041</td>\n",
       "      <td>0.3564</td>\n",
       "      <td>678</td>\n",
       "    </tr>\n",
       "    <tr>\n",
       "      <th>9</th>\n",
       "      <td>SR-HSE</td>\n",
       "      <td>0.8505</td>\n",
       "      <td>0.9413</td>\n",
       "      <td>0.4242</td>\n",
       "      <td>647</td>\n",
       "    </tr>\n",
       "    <tr>\n",
       "      <th>5</th>\n",
       "      <td>NR-ER-LBD</td>\n",
       "      <td>0.8483</td>\n",
       "      <td>0.9569</td>\n",
       "      <td>0.5312</td>\n",
       "      <td>696</td>\n",
       "    </tr>\n",
       "    <tr>\n",
       "      <th>7</th>\n",
       "      <td>SR-ARE</td>\n",
       "      <td>0.8343</td>\n",
       "      <td>0.8493</td>\n",
       "      <td>0.5368</td>\n",
       "      <td>584</td>\n",
       "    </tr>\n",
       "    <tr>\n",
       "      <th>3</th>\n",
       "      <td>NR-Aromatase</td>\n",
       "      <td>0.8318</td>\n",
       "      <td>0.9400</td>\n",
       "      <td>0.4068</td>\n",
       "      <td>583</td>\n",
       "    </tr>\n",
       "    <tr>\n",
       "      <th>0</th>\n",
       "      <td>NR-AR</td>\n",
       "      <td>0.8266</td>\n",
       "      <td>0.9684</td>\n",
       "      <td>0.5490</td>\n",
       "      <td>727</td>\n",
       "    </tr>\n",
       "    <tr>\n",
       "      <th>1</th>\n",
       "      <td>NR-AR-LBD</td>\n",
       "      <td>0.7308</td>\n",
       "      <td>0.9704</td>\n",
       "      <td>0.4444</td>\n",
       "      <td>676</td>\n",
       "    </tr>\n",
       "    <tr>\n",
       "      <th>4</th>\n",
       "      <td>NR-ER</td>\n",
       "      <td>0.6869</td>\n",
       "      <td>0.8645</td>\n",
       "      <td>0.3913</td>\n",
       "      <td>620</td>\n",
       "    </tr>\n",
       "  </tbody>\n",
       "</table>\n",
       "</div>"
      ],
      "text/plain": [
       "            label  test_auc  test_accuracy  test_f1  n_test\n",
       "10         SR-MMP    0.9484         0.9329   0.7821     581\n",
       "6   NR-PPAR-gamma    0.9339         0.9736   0.3200     645\n",
       "8        SR-ATAD5    0.9142         0.9576   0.5000     708\n",
       "2          NR-AhR    0.8938         0.9069   0.5734     655\n",
       "11         SR-p53    0.8587         0.9041   0.3564     678\n",
       "9          SR-HSE    0.8505         0.9413   0.4242     647\n",
       "5       NR-ER-LBD    0.8483         0.9569   0.5312     696\n",
       "7          SR-ARE    0.8343         0.8493   0.5368     584\n",
       "3    NR-Aromatase    0.8318         0.9400   0.4068     583\n",
       "0           NR-AR    0.8266         0.9684   0.5490     727\n",
       "1       NR-AR-LBD    0.7308         0.9704   0.4444     676\n",
       "4           NR-ER    0.6869         0.8645   0.3913     620"
      ]
     },
     "metadata": {},
     "output_type": "display_data"
    }
   ],
   "source": [
    "import numpy as np\n",
    "import pandas as pd\n",
    "import joblib\n",
    "import os\n",
    "from sklearn.model_selection import train_test_split\n",
    "from sklearn.metrics import roc_auc_score, accuracy_score, f1_score\n",
    "\n",
    "# Load saved data\n",
    "X = np.load(\"tox21_lightgb_pipeline/Data_v6/processed/X.npy\")\n",
    "Y = np.load(\"tox21_lightgb_pipeline/Data_v6/processed/Y.npy\")\n",
    "label_mask = np.load(\"tox21_lightgb_pipeline/Data_v6/processed/label_mask.npy\")\n",
    "\n",
    "MODEL_PATH = \"tox21_lightgb_pipeline/models/v6\"\n",
    "thresholds = joblib.load(os.path.join(MODEL_PATH, \"thresholds.pkl\"))\n",
    "\n",
    "label_cols = [\n",
    "    \"NR-AR\", \"NR-AR-LBD\", \"NR-AhR\", \"NR-Aromatase\", \"NR-ER\",\n",
    "    \"NR-ER-LBD\", \"NR-PPAR-gamma\", \"SR-ARE\", \"SR-ATAD5\",\n",
    "    \"SR-HSE\", \"SR-MMP\", \"SR-p53\"\n",
    "]\n",
    "\n",
    "eval_results = []\n",
    "\n",
    "for i, label_name in enumerate(label_cols):\n",
    "    print(f\"📊 Evaluating: {label_name}\")\n",
    "    \n",
    "    valid_rows = label_mask[:, i]\n",
    "    X_valid = X[valid_rows]\n",
    "    y_valid = Y[valid_rows, i]\n",
    "\n",
    "    # Same train/val/test split as training\n",
    "    X_train, X_temp, y_train, y_temp = train_test_split(\n",
    "        X_valid, y_valid, test_size=0.2, stratify=y_valid, random_state=42\n",
    "    )\n",
    "    X_val, X_test, y_val, y_test = train_test_split(\n",
    "        X_temp, y_temp, test_size=0.5, stratify=y_temp, random_state=42\n",
    "    )\n",
    "\n",
    "    model = joblib.load(os.path.join(MODEL_PATH, f\"{label_name}.pkl\"))\n",
    "    threshold = thresholds[label_name]\n",
    "\n",
    "    prob_test = model.predict_proba(X_test)[:, 1]\n",
    "    pred_test = (prob_test >= threshold).astype(int)\n",
    "\n",
    "    auc = roc_auc_score(y_test, prob_test)\n",
    "    acc = accuracy_score(y_test, pred_test)\n",
    "    f1 = f1_score(y_test, pred_test)\n",
    "\n",
    "    eval_results.append({\n",
    "        \"label\": label_name,\n",
    "        \"test_auc\": round(auc, 4),\n",
    "        \"test_accuracy\": round(acc, 4),\n",
    "        \"test_f1\": round(f1, 4),\n",
    "        \"n_test\": len(y_test)\n",
    "    })\n",
    "\n",
    "# Save evaluation results\n",
    "eval_df = pd.DataFrame(eval_results)\n",
    "eval_df = eval_df.sort_values(by=\"test_auc\", ascending=False)\n",
    "\n",
    "print(\"\\n✅ Evaluation Summary:\")\n",
    "display(eval_df)\n",
    "\n",
    "eval_df.to_csv(os.path.join(MODEL_PATH, \"evaluation_metrics.csv\"), index=False)\n"
   ]
  },
  {
   "cell_type": "markdown",
   "id": "d9f07e1e",
   "metadata": {},
   "source": [
    "## 2**: Feature Selection Lgbm"
   ]
  },
  {
   "cell_type": "code",
   "execution_count": 1,
   "id": "ed3bcfd9",
   "metadata": {},
   "outputs": [
    {
     "name": "stdout",
     "output_type": "stream",
     "text": [
      "\n",
      "🔍 Selecting features for: NR-AR\n",
      "\n",
      "🔍 Selecting features for: NR-AR-LBD\n",
      "\n",
      "🔍 Selecting features for: NR-AhR\n",
      "\n",
      "🔍 Selecting features for: NR-Aromatase\n",
      "\n",
      "🔍 Selecting features for: NR-ER\n",
      "\n",
      "🔍 Selecting features for: NR-ER-LBD\n",
      "\n",
      "🔍 Selecting features for: NR-PPAR-gamma\n",
      "\n",
      "🔍 Selecting features for: SR-ARE\n",
      "\n",
      "🔍 Selecting features for: SR-ATAD5\n",
      "\n",
      "🔍 Selecting features for: SR-HSE\n",
      "\n",
      "🔍 Selecting features for: SR-MMP\n",
      "\n",
      "🔍 Selecting features for: SR-p53\n",
      "\n",
      "✅ Feature masks and importances saved.\n"
     ]
    }
   ],
   "source": [
    "import os\n",
    "import joblib\n",
    "import numpy as np\n",
    "import pandas as pd\n",
    "\n",
    "MODEL_PATH = \"tox21_lightgb_pipeline/models/v6\"\n",
    "SAVE_DIR = \"tox21_lightgb_pipeline/Data_v6/processed\"\n",
    "\n",
    "# Load data and metadata\n",
    "X = np.load(os.path.join(SAVE_DIR, \"X.npy\"))\n",
    "Y = np.load(os.path.join(SAVE_DIR, \"Y.npy\"))\n",
    "label_mask = np.load(os.path.join(SAVE_DIR, \"label_mask.npy\"))\n",
    "with open(os.path.join(SAVE_DIR, \"feature_names.txt\")) as f:\n",
    "    feature_names = f.read().splitlines()\n",
    "\n",
    "label_cols = [\n",
    "    \"NR-AR\", \"NR-AR-LBD\", \"NR-AhR\", \"NR-Aromatase\", \"NR-ER\",\n",
    "    \"NR-ER-LBD\", \"NR-PPAR-gamma\", \"SR-ARE\", \"SR-ATAD5\",\n",
    "    \"SR-HSE\", \"SR-MMP\", \"SR-p53\"\n",
    "]\n",
    "\n",
    "# Dictionary to hold best features\n",
    "feature_mask_dict = {}\n",
    "importance_df = []\n",
    "\n",
    "# Loop through each label\n",
    "for i, label_name in enumerate(label_cols):\n",
    "    print(f\"\\n🔍 Selecting features for: {label_name}\")\n",
    "\n",
    "    # Load model\n",
    "    model_path = os.path.join(MODEL_PATH, f\"{label_name}.pkl\")\n",
    "    model = joblib.load(model_path)\n",
    "\n",
    "    # Get training subset used for this label\n",
    "    valid_rows = label_mask[:, i]\n",
    "    X_valid = X[valid_rows]\n",
    "    y_valid = Y[valid_rows, i]\n",
    "\n",
    "    # Get feature importances (use gain or split)\n",
    "    importances = model.feature_importances_\n",
    "    top_k = min(300, int(len(importances) * 0.2))  # top 20% or 300 max\n",
    "    top_idx = np.argsort(importances)[::-1][:top_k]\n",
    "\n",
    "    feature_mask_dict[label_name] = top_idx\n",
    "\n",
    "    importance_df.append(pd.DataFrame({\n",
    "        \"label\": label_name,\n",
    "        \"feature\": np.array(feature_names)[top_idx],\n",
    "        \"importance\": importances[top_idx]\n",
    "    }))\n",
    "\n",
    "# Save\n",
    "joblib.dump(feature_mask_dict, os.path.join(MODEL_PATH, \"feature_masks.pkl\"))\n",
    "importance_df = pd.concat(importance_df)\n",
    "importance_df.to_csv(os.path.join(MODEL_PATH, \"top_features_per_label.csv\"), index=False)\n",
    "\n",
    "print(\"\\n✅ Feature masks and importances saved.\")"
   ]
  },
  {
   "cell_type": "markdown",
   "id": "a9d4921e",
   "metadata": {},
   "source": [
    "## step 3: Predict + SHAP Explanation"
   ]
  },
  {
   "cell_type": "code",
   "execution_count": 15,
   "id": "2a1beece",
   "metadata": {},
   "outputs": [],
   "source": [
    "import shap\n",
    "from rdkit.Chem import rdMolDescriptors\n",
    "from rdkit.Chem import Descriptors\n",
    "from rdkit.Chem import rdMolDescriptors as rdmd\n",
    "\n",
    "from rdkit.Chem import AllChem\n",
    "from rdkit.Chem import Descriptors\n",
    "from rdkit.Chem import MolFromSmiles\n",
    "from rdkit.Chem.rdMolDescriptors import CalcMolFormula\n",
    "\n",
    "from rdkit.Chem import MolStandardize\n",
    "\n",
    "\n",
    "MODEL_PATH = 'tox21_lightgb_pipeline/models/v_base'\n",
    "\n",
    "import warnings\n",
    "warnings.filterwarnings(\"ignore\")\n",
    "\n",
    "def compute_descriptors(smiles):\n",
    "    mol = Chem.MolFromSmiles(smiles)\n",
    "    if mol is None:\n",
    "        return None\n",
    "    try:\n",
    "        return calc(mol).asdict()\n",
    "    except:\n",
    "        return None\n",
    "\n",
    "feature_masks = joblib.load(os.path.join(MODEL_PATH, \"feature_masks.pkl\"))\n",
    "thresholds = joblib.load(os.path.join(MODEL_PATH, \"thresholds.pkl\"))\n",
    "\n",
    "with open(os.path.join(SAVE_DIR, \"feature_names.txt\")) as f:\n",
    "    full_features = f.read().splitlines()\n",
    "\n",
    "\n",
    "def predict_and_explain_all_labels(smiles):\n",
    "    desc = compute_descriptors(smiles)\n",
    "    if desc is None:\n",
    "        raise ValueError(\"Invalid SMILES\")\n",
    "\n",
    "    X_input_full = np.array([list(desc.values())])\n",
    "    features_all = list(desc.keys())\n",
    "\n",
    "    all_results = {}\n",
    "    predicted_labels = []\n",
    "\n",
    "    for label_name in label_cols:\n",
    "        kept_indices = feature_masks[label_name]\n",
    "        X_input = X_input_full[:, kept_indices]\n",
    "        features = [features_all[i] for i in kept_indices]\n",
    "\n",
    "        model = joblib.load(os.path.join(MODEL_PATH, f\"{label_name}.pkl\"))\n",
    "        threshold = thresholds[label_name]\n",
    "        prob = model.predict_proba(X_input)[0, 1]\n",
    "        pred = int(prob >= threshold)\n",
    "\n",
    "        if pred == 1:\n",
    "            predicted_labels.append(label_name)\n",
    "            explainer = shap.Explainer(model)\n",
    "            shap_values = explainer(X_input)\n",
    "\n",
    "            shap_df = pd.DataFrame({\n",
    "                \"feature\": features,\n",
    "                \"shap_value\": shap_values.values[0],\n",
    "                \"feature_value\": X_input[0]\n",
    "            }).sort_values(by=\"shap_value\", key=np.abs, ascending=False)\n",
    "\n",
    "            all_results[label_name] = {\n",
    "                \"prob\": prob,\n",
    "                \"threshold\": threshold,\n",
    "                \"shap_df\": shap_df,\n",
    "                \"top_features\": shap_df[[\"feature\", \"shap_value\"]].head(4).values.tolist()\n",
    "            }\n",
    "\n",
    "    return {\n",
    "        \"smiles\": smiles,\n",
    "        \"predicted_labels\": predicted_labels,\n",
    "        \"explanations\": all_results\n",
    "    }"
   ]
  },
  {
   "cell_type": "markdown",
   "id": "13f676f7",
   "metadata": {},
   "source": [
    "## step 3*: Explain Using All Features"
   ]
  },
  {
   "cell_type": "code",
   "execution_count": 18,
   "id": "838ad4be",
   "metadata": {},
   "outputs": [],
   "source": [
    "import shap\n",
    "import numpy as np\n",
    "import pandas as pd\n",
    "import joblib\n",
    "from rdkit import Chem\n",
    "from mordred import Calculator, descriptors\n",
    "\n",
    "MODEL_PATH = \"tox21_lightgb_pipeline/models/v6\"\n",
    "SAVE_DIR = \"tox21_lightgb_pipeline/Data_v6/processed\"\n",
    "\n",
    "# Load features\n",
    "with open(os.path.join(SAVE_DIR, \"feature_names.txt\")) as f:\n",
    "    full_features = f.read().splitlines()\n",
    "\n",
    "thresholds = joblib.load(os.path.join(MODEL_PATH, \"thresholds.pkl\"))\n",
    "\n",
    "calc = Calculator(descriptors, ignore_3D=True)\n",
    "\n",
    "def compute_descriptors(smiles):\n",
    "    mol = Chem.MolFromSmiles(smiles)\n",
    "    if mol is None:\n",
    "        return None\n",
    "    try:\n",
    "        return calc(mol).asdict()\n",
    "    except:\n",
    "        return None\n",
    "\n",
    "label_cols = [\n",
    "    \"NR-AR\", \"NR-AR-LBD\", \"NR-AhR\", \"NR-Aromatase\", \"NR-ER\",\n",
    "    \"NR-ER-LBD\", \"NR-PPAR-gamma\", \"SR-ARE\", \"SR-ATAD5\",\n",
    "    \"SR-HSE\", \"SR-MMP\", \"SR-p53\"\n",
    "]\n",
    "\n",
    "def predict_and_explain_all_labels(smiles):\n",
    "    desc = compute_descriptors(smiles)\n",
    "    if desc is None:\n",
    "        raise ValueError(\"Invalid SMILES\")\n",
    "\n",
    "    X_input = np.array([list(desc.values())])\n",
    "    features = list(desc.keys())\n",
    "\n",
    "    results = {}\n",
    "    predicted_labels = []\n",
    "\n",
    "    for label_name in label_cols:\n",
    "        model = joblib.load(os.path.join(MODEL_PATH, f\"{label_name}.pkl\"))\n",
    "        threshold = thresholds[label_name]\n",
    "\n",
    "        prob = model.predict_proba(X_input)[0, 1]\n",
    "        pred = int(prob >= threshold)\n",
    "\n",
    "        if pred == 1:\n",
    "            predicted_labels.append(label_name)\n",
    "\n",
    "            explainer = shap.Explainer(model)\n",
    "            shap_values = explainer(X_input)\n",
    "\n",
    "            shap_df = pd.DataFrame({\n",
    "                \"feature\": features,\n",
    "                \"shap_value\": shap_values.values[0],\n",
    "                \"feature_value\": X_input[0]\n",
    "            }).sort_values(by=\"shap_value\", key=np.abs, ascending=False)\n",
    "\n",
    "            results[label_name] = {\n",
    "                \"prob\": prob,\n",
    "                \"threshold\": threshold,\n",
    "                \"shap_df\": shap_df,\n",
    "                \"top_features\": shap_df[[\"feature\", \"shap_value\"]].head(4).values.tolist()\n",
    "            }\n",
    "\n",
    "    return {\n",
    "        \"smiles\": smiles,\n",
    "        \"predicted_labels\": predicted_labels,\n",
    "        \"explanations\": results\n",
    "    }\n"
   ]
  },
  {
   "cell_type": "markdown",
   "id": "b7e2e9b3",
   "metadata": {},
   "source": [
    "## 3** SHAP for the masked features"
   ]
  },
  {
   "cell_type": "code",
   "execution_count": 9,
   "id": "90a8ede7",
   "metadata": {},
   "outputs": [],
   "source": [
    "import shap\n",
    "import numpy as np\n",
    "import pandas as pd\n",
    "import joblib\n",
    "from rdkit import Chem\n",
    "from mordred import Calculator, descriptors\n",
    "\n",
    "MODEL_PATH = \"tox21_lightgb_pipeline/models/v6\"\n",
    "SAVE_DIR = \"tox21_lightgb_pipeline/Data_v6/processed\"\n",
    "\n",
    "# Load full feature list\n",
    "with open(os.path.join(SAVE_DIR, \"feature_names.txt\")) as f:\n",
    "    full_features = f.read().splitlines()\n",
    "\n",
    "thresholds = joblib.load(os.path.join(MODEL_PATH, \"thresholds.pkl\"))\n",
    "\n",
    "calc = Calculator(descriptors, ignore_3D=True)\n",
    "\n",
    "label_cols = [\n",
    "    \"NR-AR\", \"NR-AR-LBD\", \"NR-AhR\", \"NR-Aromatase\", \"NR-ER\",\n",
    "    \"NR-ER-LBD\", \"NR-PPAR-gamma\", \"SR-ARE\", \"SR-ATAD5\",\n",
    "    \"SR-HSE\", \"SR-MMP\", \"SR-p53\"\n",
    "]\n",
    "\n",
    "def compute_descriptors(smiles):\n",
    "    mol = Chem.MolFromSmiles(smiles)\n",
    "    if mol is None:\n",
    "        return None\n",
    "    try:\n",
    "        desc = calc(mol).asdict()\n",
    "        # Align feature order with training\n",
    "        values = [desc.get(f, 0.0) for f in full_features]\n",
    "        return values\n",
    "    except:\n",
    "        return None\n",
    "\n",
    "def predict_and_explain_all_labels(smiles):\n",
    "    desc_values = compute_descriptors(smiles)\n",
    "    if desc_values is None:\n",
    "        raise ValueError(\"Invalid SMILES\")\n",
    "\n",
    "    X_input = np.array([desc_values])\n",
    "    features = full_features\n",
    "\n",
    "    results = {}\n",
    "    predicted_labels = []\n",
    "\n",
    "    for label_name in label_cols:\n",
    "        model = joblib.load(os.path.join(MODEL_PATH, f\"{label_name}.pkl\"))\n",
    "        threshold = thresholds[label_name]\n",
    "\n",
    "        prob = model.predict_proba(X_input)[0, 1]\n",
    "        pred = int(prob >= threshold)\n",
    "\n",
    "        if pred == 1:\n",
    "            predicted_labels.append(label_name)\n",
    "\n",
    "            explainer = shap.Explainer(model)\n",
    "            shap_values = explainer(X_input)\n",
    "\n",
    "            shap_df = pd.DataFrame({\n",
    "                \"feature\": features,\n",
    "                \"shap_value\": shap_values.values[0],\n",
    "                \"feature_value\": X_input[0]\n",
    "            }).sort_values(by=\"shap_value\", key=np.abs, ascending=False)\n",
    "\n",
    "            results[label_name] = {\n",
    "                \"prob\": prob,\n",
    "                \"threshold\": threshold,\n",
    "                \"shap_df\": shap_df,\n",
    "                \"top_features\": shap_df[[\"feature\", \"shap_value\"]].head(4).values.tolist()\n",
    "            }\n",
    "\n",
    "    return {\n",
    "        \"smiles\": smiles,\n",
    "        \"predicted_labels\": predicted_labels,\n",
    "        \"explanations\": results\n",
    "    }\n"
   ]
  },
  {
   "cell_type": "markdown",
   "id": "50b4bbd7",
   "metadata": {},
   "source": [
    "## step4: Summarise Explanation"
   ]
  },
  {
   "cell_type": "code",
   "execution_count": 7,
   "id": "5009dbf3",
   "metadata": {},
   "outputs": [],
   "source": [
    "def summarize_prediction(result):\n",
    "    smiles = result[\"smiles\"]\n",
    "    predicted = result[\"predicted_labels\"]\n",
    "    if not predicted:\n",
    "        print(f\"The drug (SMILES: `{smiles}`) is predicted to have no significant toxicity endpoints.\")\n",
    "        return\n",
    "\n",
    "    text = f\"The given drug (SMILES: `{smiles}`) is predicted to be toxic in: **{', '.join(predicted)}**.\\n\"\n",
    "    for label in predicted:\n",
    "        feats = result[\"explanations\"][label][\"top_features\"]\n",
    "        feat_str = \", \".join([f\"`{f[0]}` ({f[1]:.2f})\" for f in feats])\n",
    "        text += f\"\\n→ For **{label}**, important features include: {feat_str}\"\n",
    "    print(text)"
   ]
  },
  {
   "cell_type": "code",
   "execution_count": 20,
   "id": "81f78ec7",
   "metadata": {},
   "outputs": [
    {
     "name": "stdout",
     "output_type": "stream",
     "text": [
      "The given drug (SMILES: `ClC1=CC=C(C=C1)C(C2=CC=C(C=C2)Cl)(C3=CC=CC=C3Cl)N`) is predicted to be toxic in: **NR-ER, NR-ER-LBD, SR-ARE, SR-MMP, SR-p53**.\n",
      "\n",
      "→ For **NR-ER**, important features include: `GATS6Z` (-0.32), `GATS4s` (-0.32), `AATS8i` (0.31), `GATS8m` (-0.29)\n",
      "→ For **NR-ER-LBD**, important features include: `JGI9` (0.64), `ATSC1v` (0.42), `BCUTi-1h` (-0.19), `EState_VSA9` (0.18)\n",
      "→ For **SR-ARE**, important features include: `ATSC1p` (0.32), `piPC3` (0.30), `nBase` (-0.29), `SLogP` (0.28)\n",
      "→ For **SR-MMP**, important features include: `SLogP` (2.01), `ETA_dEpsilon_D` (0.31), `MATS1i` (0.28), `GATS1p` (0.25)\n",
      "→ For **SR-p53**, important features include: `AATS3d` (0.50), `SLogP` (0.34), `EState_VSA9` (0.33), `GATS2dv` (-0.32)\n"
     ]
    }
   ],
   "source": [
    "# Example usage\n",
    "result = predict_and_explain_all_labels(\"ClC1=CC=C(C=C1)C(C2=CC=C(C=C2)Cl)(C3=CC=CC=C3Cl)N\") \n",
    "summarize_prediction(result)\n"
   ]
  },
  {
   "cell_type": "markdown",
   "id": "f78059b5",
   "metadata": {},
   "source": [
    "# Fine-tuned to the teeth!\n",
    "\n",
    "Smarter Feature Selection:\n",
    "\n",
    "* Retain per-label selection (SelectFromModel) ✅\n",
    "* But use cumulative feature importance thresholding rather than median.\n",
    "\n",
    "Better Class Imbalance Handling:\n",
    "* Keep using scale_pos_weight ✅\n",
    "* Additionally, apply focal loss via a custom objective for LightGBM (approximation).\n",
    "\n",
    "Expanded Model Complexity:\n",
    "* Increase n_estimators (to 1000) and tweak num_leaves/max_depth limits.\n",
    "\n",
    "Cross-Validation-Based Thresholding:\n",
    "* Calibrate optimal thresholds on validation set using F1 max or Youden’s J statistic.\n",
    "\n",
    "Save all outputs to:\n",
    "* tox21_lightgb_pipeline/models/v7"
   ]
  },
  {
   "cell_type": "markdown",
   "id": "b7467634",
   "metadata": {},
   "source": [
    "## train_lightgbm_v7.py"
   ]
  },
  {
   "cell_type": "code",
   "execution_count": 43,
   "id": "d45dfac5",
   "metadata": {},
   "outputs": [
    {
     "name": "stdout",
     "output_type": "stream",
     "text": [
      "\n",
      "📍 Training for label: NR-AR\n"
     ]
    },
    {
     "name": "stderr",
     "output_type": "stream",
     "text": [
      "[I 2025-08-05 14:20:48,229] A new study created in memory with name: no-name-009962cf-f31b-4c72-9280-33fb9aede734\n",
      "[I 2025-08-05 14:20:48,611] Trial 0 finished with value: 0.7182640983987004 and parameters: {'learning_rate': 0.07899298862448101, 'num_leaves': 104, 'max_depth': 7, 'min_child_samples': 41, 'feature_fraction': 0.606253311898746, 'bagging_fraction': 0.7043567381064915, 'lambda_l1': 0.3542157257715218, 'lambda_l2': 0.6376884944977653}. Best is trial 0 with value: 0.7182640983987004.\n"
     ]
    },
    {
     "name": "stdout",
     "output_type": "stream",
     "text": [
      "Training until validation scores don't improve for 30 rounds\n",
      "Early stopping, best iteration is:\n",
      "[20]\tvalid_0's auc: 0.718264\n"
     ]
    },
    {
     "name": "stderr",
     "output_type": "stream",
     "text": [
      "[I 2025-08-05 14:20:48,953] Trial 1 finished with value: 0.7092364817823161 and parameters: {'learning_rate': 0.08843294172160711, 'num_leaves': 32, 'max_depth': 8, 'min_child_samples': 24, 'feature_fraction': 0.6066812014500895, 'bagging_fraction': 0.9277887004595661, 'lambda_l1': 0.9374733404035374, 'lambda_l2': 0.1656418901288551}. Best is trial 0 with value: 0.7182640983987004.\n"
     ]
    },
    {
     "name": "stdout",
     "output_type": "stream",
     "text": [
      "Training until validation scores don't improve for 30 rounds\n",
      "Early stopping, best iteration is:\n",
      "[6]\tvalid_0's auc: 0.709236\n",
      "Training until validation scores don't improve for 30 rounds\n",
      "Early stopping, best iteration is:\n",
      "[2]\tvalid_0's auc: 0.718357\n"
     ]
    },
    {
     "name": "stderr",
     "output_type": "stream",
     "text": [
      "[I 2025-08-05 14:20:49,359] Trial 2 finished with value: 0.7183569273613368 and parameters: {'learning_rate': 0.019438107940494734, 'num_leaves': 48, 'max_depth': 12, 'min_child_samples': 31, 'feature_fraction': 0.7915080707940125, 'bagging_fraction': 0.9901487802980224, 'lambda_l1': 0.8046591666736348, 'lambda_l2': 0.16863041189115147}. Best is trial 2 with value: 0.7183569273613368.\n"
     ]
    },
    {
     "name": "stdout",
     "output_type": "stream",
     "text": [
      "Training until validation scores don't improve for 30 rounds\n"
     ]
    },
    {
     "name": "stderr",
     "output_type": "stream",
     "text": [
      "[I 2025-08-05 14:20:49,827] Trial 3 finished with value: 0.7168948711998144 and parameters: {'learning_rate': 0.010612397688833538, 'num_leaves': 91, 'max_depth': 16, 'min_child_samples': 30, 'feature_fraction': 0.8888530577386553, 'bagging_fraction': 0.8985002017053916, 'lambda_l1': 0.13991008540629835, 'lambda_l2': 0.6773218858574895}. Best is trial 2 with value: 0.7183569273613368.\n"
     ]
    },
    {
     "name": "stdout",
     "output_type": "stream",
     "text": [
      "Early stopping, best iteration is:\n",
      "[3]\tvalid_0's auc: 0.716895\n",
      "Training until validation scores don't improve for 30 rounds\n"
     ]
    },
    {
     "name": "stderr",
     "output_type": "stream",
     "text": [
      "[I 2025-08-05 14:20:50,497] Trial 4 finished with value: 0.7039220236713855 and parameters: {'learning_rate': 0.09361948571667222, 'num_leaves': 80, 'max_depth': 14, 'min_child_samples': 42, 'feature_fraction': 0.6398817958091557, 'bagging_fraction': 0.9947657967103354, 'lambda_l1': 0.3386720077816775, 'lambda_l2': 0.3287096565739933}. Best is trial 2 with value: 0.7183569273613368.\n"
     ]
    },
    {
     "name": "stdout",
     "output_type": "stream",
     "text": [
      "Early stopping, best iteration is:\n",
      "[42]\tvalid_0's auc: 0.703922\n",
      "Training until validation scores don't improve for 30 rounds\n"
     ]
    },
    {
     "name": "stderr",
     "output_type": "stream",
     "text": [
      "[I 2025-08-05 14:20:51,086] Trial 5 finished with value: 0.749849152935716 and parameters: {'learning_rate': 0.06964667795483866, 'num_leaves': 104, 'max_depth': 14, 'min_child_samples': 24, 'feature_fraction': 0.9488962396856204, 'bagging_fraction': 0.9233585816425048, 'lambda_l1': 0.8575000861906754, 'lambda_l2': 0.6616344885023311}. Best is trial 5 with value: 0.749849152935716.\n"
     ]
    },
    {
     "name": "stdout",
     "output_type": "stream",
     "text": [
      "Early stopping, best iteration is:\n",
      "[18]\tvalid_0's auc: 0.749849\n",
      "Training until validation scores don't improve for 30 rounds\n"
     ]
    },
    {
     "name": "stderr",
     "output_type": "stream",
     "text": [
      "[I 2025-08-05 14:20:51,542] Trial 6 finished with value: 0.7452541192852169 and parameters: {'learning_rate': 0.07530186619141775, 'num_leaves': 119, 'max_depth': 12, 'min_child_samples': 28, 'feature_fraction': 0.8648460020695847, 'bagging_fraction': 0.8217120604936201, 'lambda_l1': 0.4013577790317199, 'lambda_l2': 0.46836140652372926}. Best is trial 5 with value: 0.749849152935716.\n"
     ]
    },
    {
     "name": "stdout",
     "output_type": "stream",
     "text": [
      "Early stopping, best iteration is:\n",
      "[3]\tvalid_0's auc: 0.745254\n",
      "Training until validation scores don't improve for 30 rounds\n"
     ]
    },
    {
     "name": "stderr",
     "output_type": "stream",
     "text": [
      "[I 2025-08-05 14:20:52,249] Trial 7 finished with value: 0.7381294964028777 and parameters: {'learning_rate': 0.0203583791875896, 'num_leaves': 63, 'max_depth': 11, 'min_child_samples': 29, 'feature_fraction': 0.6802563870993483, 'bagging_fraction': 0.6731505797328087, 'lambda_l1': 0.47294057181661453, 'lambda_l2': 0.6732528717594929}. Best is trial 5 with value: 0.749849152935716.\n"
     ]
    },
    {
     "name": "stdout",
     "output_type": "stream",
     "text": [
      "Early stopping, best iteration is:\n",
      "[69]\tvalid_0's auc: 0.738129\n",
      "Training until validation scores don't improve for 30 rounds\n"
     ]
    },
    {
     "name": "stderr",
     "output_type": "stream",
     "text": [
      "[I 2025-08-05 14:20:52,817] Trial 8 finished with value: 0.7106057089812021 and parameters: {'learning_rate': 0.09328377032691941, 'num_leaves': 97, 'max_depth': 10, 'min_child_samples': 13, 'feature_fraction': 0.9377519398520836, 'bagging_fraction': 0.7049537101075183, 'lambda_l1': 0.6011755468944702, 'lambda_l2': 0.5860125338631352}. Best is trial 5 with value: 0.749849152935716.\n"
     ]
    },
    {
     "name": "stdout",
     "output_type": "stream",
     "text": [
      "Early stopping, best iteration is:\n",
      "[15]\tvalid_0's auc: 0.710606\n"
     ]
    },
    {
     "name": "stderr",
     "output_type": "stream",
     "text": [
      "[I 2025-08-05 14:20:53,223] Trial 9 finished with value: 0.721977256904154 and parameters: {'learning_rate': 0.06356491312418906, 'num_leaves': 61, 'max_depth': 6, 'min_child_samples': 26, 'feature_fraction': 0.7157753913487053, 'bagging_fraction': 0.9619454259990416, 'lambda_l1': 0.7323722875779365, 'lambda_l2': 0.7748616681511707}. Best is trial 5 with value: 0.749849152935716.\n"
     ]
    },
    {
     "name": "stdout",
     "output_type": "stream",
     "text": [
      "Training until validation scores don't improve for 30 rounds\n",
      "Early stopping, best iteration is:\n",
      "[24]\tvalid_0's auc: 0.721977\n",
      "Training until validation scores don't improve for 30 rounds\n"
     ]
    },
    {
     "name": "stderr",
     "output_type": "stream",
     "text": [
      "[I 2025-08-05 14:20:53,718] Trial 10 finished with value: 0.7304943142260386 and parameters: {'learning_rate': 0.04327972442909982, 'num_leaves': 123, 'max_depth': 16, 'min_child_samples': 13, 'feature_fraction': 0.9923419623287513, 'bagging_fraction': 0.8339572099526158, 'lambda_l1': 0.9839521558859163, 'lambda_l2': 0.9620159115617306}. Best is trial 5 with value: 0.749849152935716.\n"
     ]
    },
    {
     "name": "stdout",
     "output_type": "stream",
     "text": [
      "Early stopping, best iteration is:\n",
      "[4]\tvalid_0's auc: 0.730494\n",
      "Training until validation scores don't improve for 30 rounds\n"
     ]
    },
    {
     "name": "stderr",
     "output_type": "stream",
     "text": [
      "[I 2025-08-05 14:20:54,867] Trial 11 finished with value: 0.7191923880250638 and parameters: {'learning_rate': 0.06400480074829748, 'num_leaves': 124, 'max_depth': 13, 'min_child_samples': 21, 'feature_fraction': 0.8665435904944425, 'bagging_fraction': 0.8255140302877937, 'lambda_l1': 0.03635529595239939, 'lambda_l2': 0.40741079556325466}. Best is trial 5 with value: 0.749849152935716.\n"
     ]
    },
    {
     "name": "stdout",
     "output_type": "stream",
     "text": [
      "Did not meet early stopping. Best iteration is:\n",
      "[88]\tvalid_0's auc: 0.719192\n",
      "Training until validation scores don't improve for 30 rounds\n"
     ]
    },
    {
     "name": "stderr",
     "output_type": "stream",
     "text": [
      "[I 2025-08-05 14:20:55,484] Trial 12 finished with value: 0.7543745648642376 and parameters: {'learning_rate': 0.07386239753155102, 'num_leaves': 110, 'max_depth': 14, 'min_child_samples': 36, 'feature_fraction': 0.8159078882591501, 'bagging_fraction': 0.7660396650251311, 'lambda_l1': 0.6091920717742088, 'lambda_l2': 0.4415337107259559}. Best is trial 12 with value: 0.7543745648642376.\n"
     ]
    },
    {
     "name": "stdout",
     "output_type": "stream",
     "text": [
      "Early stopping, best iteration is:\n",
      "[25]\tvalid_0's auc: 0.754375\n",
      "Training until validation scores don't improve for 30 rounds\n"
     ]
    },
    {
     "name": "stderr",
     "output_type": "stream",
     "text": [
      "[I 2025-08-05 14:20:56,186] Trial 13 finished with value: 0.6994198189835229 and parameters: {'learning_rate': 0.04969190803804112, 'num_leaves': 107, 'max_depth': 14, 'min_child_samples': 50, 'feature_fraction': 0.8105686104499873, 'bagging_fraction': 0.6017985368594295, 'lambda_l1': 0.6597373057870313, 'lambda_l2': 0.9134403447352607}. Best is trial 12 with value: 0.7543745648642376.\n"
     ]
    },
    {
     "name": "stdout",
     "output_type": "stream",
     "text": [
      "Early stopping, best iteration is:\n",
      "[42]\tvalid_0's auc: 0.69942\n",
      "Training until validation scores don't improve for 30 rounds\n"
     ]
    },
    {
     "name": "stderr",
     "output_type": "stream",
     "text": [
      "[I 2025-08-05 14:20:56,806] Trial 14 finished with value: 0.727639823624971 and parameters: {'learning_rate': 0.07423673301111654, 'num_leaves': 83, 'max_depth': 15, 'min_child_samples': 39, 'feature_fraction': 0.7684293383172194, 'bagging_fraction': 0.7574353440325572, 'lambda_l1': 0.8359214832182237, 'lambda_l2': 0.3234416268837599}. Best is trial 12 with value: 0.7543745648642376.\n"
     ]
    },
    {
     "name": "stdout",
     "output_type": "stream",
     "text": [
      "Early stopping, best iteration is:\n",
      "[32]\tvalid_0's auc: 0.72764\n",
      "Training until validation scores don't improve for 30 rounds\n"
     ]
    },
    {
     "name": "stderr",
     "output_type": "stream",
     "text": [
      "[I 2025-08-05 14:20:57,641] Trial 15 finished with value: 0.7299141332095614 and parameters: {'learning_rate': 0.03537041980424448, 'num_leaves': 111, 'max_depth': 10, 'min_child_samples': 36, 'feature_fraction': 0.9779493742106944, 'bagging_fraction': 0.8811990524672926, 'lambda_l1': 0.5664719215461187, 'lambda_l2': 0.045019236461347756}. Best is trial 12 with value: 0.7543745648642376.\n"
     ]
    },
    {
     "name": "stdout",
     "output_type": "stream",
     "text": [
      "Early stopping, best iteration is:\n",
      "[65]\tvalid_0's auc: 0.729914\n",
      "Training until validation scores don't improve for 30 rounds\n"
     ]
    },
    {
     "name": "stderr",
     "output_type": "stream",
     "text": [
      "[I 2025-08-05 14:20:58,311] Trial 16 finished with value: 0.7221629148294267 and parameters: {'learning_rate': 0.06244897367536822, 'num_leaves': 90, 'max_depth': 14, 'min_child_samples': 18, 'feature_fraction': 0.9183020845774787, 'bagging_fraction': 0.7717208237087824, 'lambda_l1': 0.8381719512989008, 'lambda_l2': 0.8115366096300523}. Best is trial 12 with value: 0.7543745648642376.\n"
     ]
    },
    {
     "name": "stdout",
     "output_type": "stream",
     "text": [
      "Early stopping, best iteration is:\n",
      "[27]\tvalid_0's auc: 0.722163\n",
      "Training until validation scores don't improve for 30 rounds\n"
     ]
    },
    {
     "name": "stderr",
     "output_type": "stream",
     "text": [
      "[I 2025-08-05 14:20:59,000] Trial 17 finished with value: 0.7598978881410999 and parameters: {'learning_rate': 0.08247242611940114, 'num_leaves': 114, 'max_depth': 13, 'min_child_samples': 35, 'feature_fraction': 0.8285100755226298, 'bagging_fraction': 0.8663763848165892, 'lambda_l1': 0.7083448159920249, 'lambda_l2': 0.5741297066871806}. Best is trial 17 with value: 0.7598978881410999.\n"
     ]
    },
    {
     "name": "stdout",
     "output_type": "stream",
     "text": [
      "Early stopping, best iteration is:\n",
      "[28]\tvalid_0's auc: 0.759898\n",
      "Training until validation scores don't improve for 30 rounds\n"
     ]
    },
    {
     "name": "stderr",
     "output_type": "stream",
     "text": [
      "[I 2025-08-05 14:20:59,619] Trial 18 finished with value: 0.7576699930378278 and parameters: {'learning_rate': 0.08253947857971997, 'num_leaves': 113, 'max_depth': 12, 'min_child_samples': 48, 'feature_fraction': 0.8311614856039334, 'bagging_fraction': 0.8660955547806035, 'lambda_l1': 0.6848796924753306, 'lambda_l2': 0.5223712704872016}. Best is trial 17 with value: 0.7598978881410999.\n"
     ]
    },
    {
     "name": "stdout",
     "output_type": "stream",
     "text": [
      "Early stopping, best iteration is:\n",
      "[30]\tvalid_0's auc: 0.75767\n",
      "Training until validation scores don't improve for 30 rounds\n"
     ]
    },
    {
     "name": "stderr",
     "output_type": "stream",
     "text": [
      "[I 2025-08-05 14:21:00,102] Trial 19 finished with value: 0.7347876537479694 and parameters: {'learning_rate': 0.08531539659005576, 'num_leaves': 127, 'max_depth': 9, 'min_child_samples': 50, 'feature_fraction': 0.7406797380688303, 'bagging_fraction': 0.866178983058824, 'lambda_l1': 0.7021492491174723, 'lambda_l2': 0.5784777675707757}. Best is trial 17 with value: 0.7598978881410999.\n"
     ]
    },
    {
     "name": "stdout",
     "output_type": "stream",
     "text": [
      "Early stopping, best iteration is:\n",
      "[21]\tvalid_0's auc: 0.734788\n",
      "Training until validation scores don't improve for 30 rounds\n"
     ]
    },
    {
     "name": "stderr",
     "output_type": "stream",
     "text": [
      "[I 2025-08-05 14:21:00,752] Trial 20 finished with value: 0.7400789046182409 and parameters: {'learning_rate': 0.09836764108443918, 'num_leaves': 69, 'max_depth': 12, 'min_child_samples': 46, 'feature_fraction': 0.8345314613559213, 'bagging_fraction': 0.8506736764328533, 'lambda_l1': 0.48946117582189713, 'lambda_l2': 0.7953918386016037}. Best is trial 17 with value: 0.7598978881410999.\n"
     ]
    },
    {
     "name": "stdout",
     "output_type": "stream",
     "text": [
      "Early stopping, best iteration is:\n",
      "[33]\tvalid_0's auc: 0.740079\n",
      "Training until validation scores don't improve for 30 rounds\n"
     ]
    },
    {
     "name": "stderr",
     "output_type": "stream",
     "text": [
      "[I 2025-08-05 14:21:01,376] Trial 21 finished with value: 0.7546994662334648 and parameters: {'learning_rate': 0.07870363731158317, 'num_leaves': 109, 'max_depth': 13, 'min_child_samples': 35, 'feature_fraction': 0.8333847489328956, 'bagging_fraction': 0.7832932757454205, 'lambda_l1': 0.6004562098487778, 'lambda_l2': 0.4818099050552665}. Best is trial 17 with value: 0.7598978881410999.\n"
     ]
    },
    {
     "name": "stdout",
     "output_type": "stream",
     "text": [
      "Early stopping, best iteration is:\n",
      "[27]\tvalid_0's auc: 0.754699\n",
      "Training until validation scores don't improve for 30 rounds\n"
     ]
    },
    {
     "name": "stderr",
     "output_type": "stream",
     "text": [
      "[I 2025-08-05 14:21:01,918] Trial 22 finished with value: 0.733604084474356 and parameters: {'learning_rate': 0.08295708757318941, 'num_leaves': 116, 'max_depth': 11, 'min_child_samples': 34, 'feature_fraction': 0.8502190185736884, 'bagging_fraction': 0.7984899942351952, 'lambda_l1': 0.7416872269622448, 'lambda_l2': 0.5505698145835529}. Best is trial 17 with value: 0.7598978881410999.\n"
     ]
    },
    {
     "name": "stdout",
     "output_type": "stream",
     "text": [
      "Early stopping, best iteration is:\n",
      "[14]\tvalid_0's auc: 0.733604\n",
      "Training until validation scores don't improve for 30 rounds\n"
     ]
    },
    {
     "name": "stderr",
     "output_type": "stream",
     "text": [
      "[I 2025-08-05 14:21:02,406] Trial 23 finished with value: 0.7176607101415642 and parameters: {'learning_rate': 0.05404754230859997, 'num_leaves': 116, 'max_depth': 13, 'min_child_samples': 45, 'feature_fraction': 0.7607107092097349, 'bagging_fraction': 0.9138481837071285, 'lambda_l1': 0.5224978147706594, 'lambda_l2': 0.3199482007376381}. Best is trial 17 with value: 0.7598978881410999.\n"
     ]
    },
    {
     "name": "stdout",
     "output_type": "stream",
     "text": [
      "Early stopping, best iteration is:\n",
      "[11]\tvalid_0's auc: 0.717661\n",
      "Training until validation scores don't improve for 30 rounds\n"
     ]
    },
    {
     "name": "stderr",
     "output_type": "stream",
     "text": [
      "[I 2025-08-05 14:21:03,069] Trial 24 finished with value: 0.7386864701786959 and parameters: {'learning_rate': 0.08553370893584468, 'num_leaves': 99, 'max_depth': 13, 'min_child_samples': 33, 'feature_fraction': 0.8974968002128058, 'bagging_fraction': 0.7985425932635094, 'lambda_l1': 0.25733627220279914, 'lambda_l2': 0.5219271454047809}. Best is trial 17 with value: 0.7598978881410999.\n"
     ]
    },
    {
     "name": "stdout",
     "output_type": "stream",
     "text": [
      "Early stopping, best iteration is:\n",
      "[24]\tvalid_0's auc: 0.738686\n",
      "Training until validation scores don't improve for 30 rounds\n"
     ]
    },
    {
     "name": "stderr",
     "output_type": "stream",
     "text": [
      "[I 2025-08-05 14:21:03,532] Trial 25 finished with value: 0.7156880946855418 and parameters: {'learning_rate': 0.09730062149804762, 'num_leaves': 93, 'max_depth': 11, 'min_child_samples': 46, 'feature_fraction': 0.7860728987545932, 'bagging_fraction': 0.7414004470811082, 'lambda_l1': 0.6499165336676368, 'lambda_l2': 0.3713929776791761}. Best is trial 17 with value: 0.7598978881410999.\n"
     ]
    },
    {
     "name": "stdout",
     "output_type": "stream",
     "text": [
      "Early stopping, best iteration is:\n",
      "[10]\tvalid_0's auc: 0.715688\n",
      "Training until validation scores don't improve for 30 rounds\n"
     ]
    },
    {
     "name": "stderr",
     "output_type": "stream",
     "text": [
      "[I 2025-08-05 14:21:04,165] Trial 26 finished with value: 0.7112555117196564 and parameters: {'learning_rate': 0.06708791659907493, 'num_leaves': 115, 'max_depth': 15, 'min_child_samples': 38, 'feature_fraction': 0.8256003950095403, 'bagging_fraction': 0.8814146946644119, 'lambda_l1': 0.7367899281807075, 'lambda_l2': 0.22070404610168737}. Best is trial 17 with value: 0.7598978881410999.\n"
     ]
    },
    {
     "name": "stdout",
     "output_type": "stream",
     "text": [
      "Early stopping, best iteration is:\n",
      "[23]\tvalid_0's auc: 0.711256\n",
      "Training until validation scores don't improve for 30 rounds\n"
     ]
    },
    {
     "name": "stderr",
     "output_type": "stream",
     "text": [
      "[I 2025-08-05 14:21:04,849] Trial 27 finished with value: 0.7409607797632861 and parameters: {'learning_rate': 0.07997441258565739, 'num_leaves': 127, 'max_depth': 12, 'min_child_samples': 44, 'feature_fraction': 0.7070765542366234, 'bagging_fraction': 0.953025722757927, 'lambda_l1': 0.5431590669273668, 'lambda_l2': 0.4852965133712351}. Best is trial 17 with value: 0.7598978881410999.\n"
     ]
    },
    {
     "name": "stdout",
     "output_type": "stream",
     "text": [
      "Early stopping, best iteration is:\n",
      "[42]\tvalid_0's auc: 0.740961\n",
      "Training until validation scores don't improve for 30 rounds\n"
     ]
    },
    {
     "name": "stderr",
     "output_type": "stream",
     "text": [
      "[I 2025-08-05 14:21:05,450] Trial 28 finished with value: 0.7110234393130657 and parameters: {'learning_rate': 0.057454842123439404, 'num_leaves': 85, 'max_depth': 13, 'min_child_samples': 39, 'feature_fraction': 0.8755196654469963, 'bagging_fraction': 0.8444807966621023, 'lambda_l1': 0.9116305410337062, 'lambda_l2': 0.2510932575468596}. Best is trial 17 with value: 0.7598978881410999.\n"
     ]
    },
    {
     "name": "stdout",
     "output_type": "stream",
     "text": [
      "Early stopping, best iteration is:\n",
      "[27]\tvalid_0's auc: 0.711023\n",
      "Training until validation scores don't improve for 30 rounds\n"
     ]
    },
    {
     "name": "stderr",
     "output_type": "stream",
     "text": [
      "[I 2025-08-05 14:21:06,039] Trial 29 finished with value: 0.7559526572290554 and parameters: {'learning_rate': 0.07873189271147962, 'num_leaves': 107, 'max_depth': 10, 'min_child_samples': 42, 'feature_fraction': 0.8428047808568279, 'bagging_fraction': 0.7163132752390442, 'lambda_l1': 0.4131212799673496, 'lambda_l2': 0.6409640934620798}. Best is trial 17 with value: 0.7598978881410999.\n"
     ]
    },
    {
     "name": "stdout",
     "output_type": "stream",
     "text": [
      "Early stopping, best iteration is:\n",
      "[28]\tvalid_0's auc: 0.755953\n",
      "Training until validation scores don't improve for 30 rounds\n"
     ]
    },
    {
     "name": "stderr",
     "output_type": "stream",
     "text": [
      "[I 2025-08-05 14:21:06,515] Trial 30 finished with value: 0.7143188674866557 and parameters: {'learning_rate': 0.0897972636084723, 'num_leaves': 100, 'max_depth': 9, 'min_child_samples': 42, 'feature_fraction': 0.905487541939805, 'bagging_fraction': 0.7206672223686513, 'lambda_l1': 0.41816955421587637, 'lambda_l2': 0.7299741728522082}. Best is trial 17 with value: 0.7598978881410999.\n"
     ]
    },
    {
     "name": "stdout",
     "output_type": "stream",
     "text": [
      "Early stopping, best iteration is:\n",
      "[14]\tvalid_0's auc: 0.714319\n",
      "Training until validation scores don't improve for 30 rounds\n"
     ]
    },
    {
     "name": "stderr",
     "output_type": "stream",
     "text": [
      "[I 2025-08-05 14:21:07,139] Trial 31 finished with value: 0.7661174286377349 and parameters: {'learning_rate': 0.07925341397710695, 'num_leaves': 106, 'max_depth': 10, 'min_child_samples': 47, 'feature_fraction': 0.8421709798509486, 'bagging_fraction': 0.6445749742734485, 'lambda_l1': 0.2752535155676377, 'lambda_l2': 0.5474040775759619}. Best is trial 31 with value: 0.7661174286377349.\n"
     ]
    },
    {
     "name": "stdout",
     "output_type": "stream",
     "text": [
      "Early stopping, best iteration is:\n",
      "[36]\tvalid_0's auc: 0.766117\n",
      "Training until validation scores don't improve for 30 rounds\n"
     ]
    },
    {
     "name": "stderr",
     "output_type": "stream",
     "text": [
      "[I 2025-08-05 14:21:07,654] Trial 32 finished with value: 0.7066604780691575 and parameters: {'learning_rate': 0.0900464931989754, 'num_leaves': 103, 'max_depth': 8, 'min_child_samples': 48, 'feature_fraction': 0.8453675854735523, 'bagging_fraction': 0.6638749028853407, 'lambda_l1': 0.2878196085978576, 'lambda_l2': 0.6025613977311589}. Best is trial 31 with value: 0.7661174286377349.\n"
     ]
    },
    {
     "name": "stdout",
     "output_type": "stream",
     "text": [
      "Early stopping, best iteration is:\n",
      "[28]\tvalid_0's auc: 0.70666\n",
      "Training until validation scores don't improve for 30 rounds\n",
      "Early stopping, best iteration is:\n",
      "[9]\tvalid_0's auc: 0.751056\n"
     ]
    },
    {
     "name": "stderr",
     "output_type": "stream",
     "text": [
      "[I 2025-08-05 14:21:08,106] Trial 33 finished with value: 0.7510559294499883 and parameters: {'learning_rate': 0.08022215778386846, 'num_leaves': 73, 'max_depth': 10, 'min_child_samples': 43, 'feature_fraction': 0.7878594630895885, 'bagging_fraction': 0.6172232805373502, 'lambda_l1': 0.14443007198837843, 'lambda_l2': 0.6256603332375654}. Best is trial 31 with value: 0.7661174286377349.\n"
     ]
    },
    {
     "name": "stdout",
     "output_type": "stream",
     "text": [
      "Training until validation scores don't improve for 30 rounds\n"
     ]
    },
    {
     "name": "stderr",
     "output_type": "stream",
     "text": [
      "[I 2025-08-05 14:21:08,668] Trial 34 finished with value: 0.7532606173126015 and parameters: {'learning_rate': 0.07678846916688782, 'num_leaves': 114, 'max_depth': 9, 'min_child_samples': 48, 'feature_fraction': 0.7985594089749756, 'bagging_fraction': 0.6502077040340937, 'lambda_l1': 0.20437137621704515, 'lambda_l2': 0.7409770653956254}. Best is trial 31 with value: 0.7661174286377349.\n"
     ]
    },
    {
     "name": "stdout",
     "output_type": "stream",
     "text": [
      "Early stopping, best iteration is:\n",
      "[36]\tvalid_0's auc: 0.753261\n",
      "Training until validation scores don't improve for 30 rounds\n"
     ]
    },
    {
     "name": "stderr",
     "output_type": "stream",
     "text": [
      "[I 2025-08-05 14:21:09,247] Trial 35 finished with value: 0.7163146901833372 and parameters: {'learning_rate': 0.07041273931378517, 'num_leaves': 120, 'max_depth': 8, 'min_child_samples': 40, 'feature_fraction': 0.853831668400447, 'bagging_fraction': 0.6357456357496214, 'lambda_l1': 0.413963213186431, 'lambda_l2': 0.5335556992268924}. Best is trial 31 with value: 0.7661174286377349.\n"
     ]
    },
    {
     "name": "stdout",
     "output_type": "stream",
     "text": [
      "Early stopping, best iteration is:\n",
      "[35]\tvalid_0's auc: 0.716315\n",
      "Training until validation scores don't improve for 30 rounds\n"
     ]
    },
    {
     "name": "stderr",
     "output_type": "stream",
     "text": [
      "[I 2025-08-05 14:21:10,193] Trial 36 finished with value: 0.7313065676491065 and parameters: {'learning_rate': 0.08876476688120336, 'num_leaves': 94, 'max_depth': 11, 'min_child_samples': 42, 'feature_fraction': 0.8802612313809792, 'bagging_fraction': 0.7313466451782177, 'lambda_l1': 0.3251539225499675, 'lambda_l2': 0.86564417885951}. Best is trial 31 with value: 0.7661174286377349.\n"
     ]
    },
    {
     "name": "stdout",
     "output_type": "stream",
     "text": [
      "Did not meet early stopping. Best iteration is:\n",
      "[82]\tvalid_0's auc: 0.731307\n",
      "Training until validation scores don't improve for 30 rounds\n",
      "Early stopping, best iteration is:\n",
      "[5]\tvalid_0's auc: 0.768879\n"
     ]
    },
    {
     "name": "stderr",
     "output_type": "stream",
     "text": [
      "[I 2025-08-05 14:21:10,608] Trial 37 finished with value: 0.7688790902761662 and parameters: {'learning_rate': 0.09985088985002011, 'num_leaves': 105, 'max_depth': 10, 'min_child_samples': 32, 'feature_fraction': 0.7626573749980933, 'bagging_fraction': 0.696565369179956, 'lambda_l1': 0.2180734505557168, 'lambda_l2': 0.6996345769146964}. Best is trial 37 with value: 0.7688790902761662.\n"
     ]
    },
    {
     "name": "stdout",
     "output_type": "stream",
     "text": [
      "Training until validation scores don't improve for 30 rounds\n",
      "Early stopping, best iteration is:\n",
      "[16]\tvalid_0's auc: 0.719424\n"
     ]
    },
    {
     "name": "stderr",
     "output_type": "stream",
     "text": [
      "[I 2025-08-05 14:21:11,008] Trial 38 finished with value: 0.7194244604316548 and parameters: {'learning_rate': 0.09931841307064274, 'num_leaves': 40, 'max_depth': 7, 'min_child_samples': 27, 'feature_fraction': 0.7716206506340382, 'bagging_fraction': 0.6841256232702565, 'lambda_l1': 0.12337475247483565, 'lambda_l2': 0.7121435112487278}. Best is trial 37 with value: 0.7688790902761662.\n"
     ]
    },
    {
     "name": "stdout",
     "output_type": "stream",
     "text": [
      "Training until validation scores don't improve for 30 rounds\n"
     ]
    },
    {
     "name": "stderr",
     "output_type": "stream",
     "text": [
      "[I 2025-08-05 14:21:11,552] Trial 39 finished with value: 0.7172893942910188 and parameters: {'learning_rate': 0.09262340837201488, 'num_leaves': 102, 'max_depth': 12, 'min_child_samples': 32, 'feature_fraction': 0.7432167366046489, 'bagging_fraction': 0.9034558546048536, 'lambda_l1': 0.23099041984381685, 'lambda_l2': 0.40128920997832823}. Best is trial 37 with value: 0.7688790902761662.\n"
     ]
    },
    {
     "name": "stdout",
     "output_type": "stream",
     "text": [
      "Early stopping, best iteration is:\n",
      "[14]\tvalid_0's auc: 0.717289\n",
      "\n",
      "📍 Training for label: NR-AR-LBD\n"
     ]
    },
    {
     "name": "stderr",
     "output_type": "stream",
     "text": [
      "[I 2025-08-05 14:21:16,056] A new study created in memory with name: no-name-a0b22625-7211-4c33-80d2-bd075958ae4a\n"
     ]
    },
    {
     "name": "stdout",
     "output_type": "stream",
     "text": [
      "Training until validation scores don't improve for 30 rounds\n"
     ]
    },
    {
     "name": "stderr",
     "output_type": "stream",
     "text": [
      "[I 2025-08-05 14:21:16,784] Trial 0 finished with value: 0.8919368799520606 and parameters: {'learning_rate': 0.03598712754993996, 'num_leaves': 49, 'max_depth': 16, 'min_child_samples': 36, 'feature_fraction': 0.8883134388063585, 'bagging_fraction': 0.7361516872380286, 'lambda_l1': 0.5258567655349009, 'lambda_l2': 0.7125883813345854}. Best is trial 0 with value: 0.8919368799520606.\n"
     ]
    },
    {
     "name": "stdout",
     "output_type": "stream",
     "text": [
      "Did not meet early stopping. Best iteration is:\n",
      "[72]\tvalid_0's auc: 0.891937\n",
      "Training until validation scores don't improve for 30 rounds\n"
     ]
    },
    {
     "name": "stderr",
     "output_type": "stream",
     "text": [
      "[I 2025-08-05 14:21:17,324] Trial 1 finished with value: 0.9069179039882815 and parameters: {'learning_rate': 0.08722935743420716, 'num_leaves': 111, 'max_depth': 15, 'min_child_samples': 23, 'feature_fraction': 0.7621356591303279, 'bagging_fraction': 0.7313834901061138, 'lambda_l1': 0.6731865312409597, 'lambda_l2': 0.19727836151340417}. Best is trial 1 with value: 0.9069179039882815.\n"
     ]
    },
    {
     "name": "stdout",
     "output_type": "stream",
     "text": [
      "Early stopping, best iteration is:\n",
      "[29]\tvalid_0's auc: 0.906918\n",
      "Training until validation scores don't improve for 30 rounds\n"
     ]
    },
    {
     "name": "stderr",
     "output_type": "stream",
     "text": [
      "[I 2025-08-05 14:21:17,827] Trial 2 finished with value: 0.8918702976230108 and parameters: {'learning_rate': 0.06023046580534482, 'num_leaves': 44, 'max_depth': 6, 'min_child_samples': 25, 'feature_fraction': 0.9406415247975382, 'bagging_fraction': 0.8950191923292181, 'lambda_l1': 0.8394142968436176, 'lambda_l2': 0.2539663313537033}. Best is trial 1 with value: 0.9069179039882815.\n"
     ]
    },
    {
     "name": "stdout",
     "output_type": "stream",
     "text": [
      "Early stopping, best iteration is:\n",
      "[51]\tvalid_0's auc: 0.89187\n",
      "Training until validation scores don't improve for 30 rounds\n"
     ]
    },
    {
     "name": "stderr",
     "output_type": "stream",
     "text": [
      "[I 2025-08-05 14:21:18,526] Trial 3 finished with value: 0.9069844863173314 and parameters: {'learning_rate': 0.03142026831877203, 'num_leaves': 124, 'max_depth': 16, 'min_child_samples': 40, 'feature_fraction': 0.7047799959699995, 'bagging_fraction': 0.9143734867974584, 'lambda_l1': 0.21783395905937308, 'lambda_l2': 0.7830485613709296}. Best is trial 3 with value: 0.9069844863173314.\n"
     ]
    },
    {
     "name": "stdout",
     "output_type": "stream",
     "text": [
      "Did not meet early stopping. Best iteration is:\n",
      "[99]\tvalid_0's auc: 0.906984\n",
      "Training until validation scores don't improve for 30 rounds\n"
     ]
    },
    {
     "name": "stderr",
     "output_type": "stream",
     "text": [
      "[I 2025-08-05 14:21:19,220] Trial 4 finished with value: 0.9150409481323656 and parameters: {'learning_rate': 0.023921801876336038, 'num_leaves': 34, 'max_depth': 13, 'min_child_samples': 24, 'feature_fraction': 0.6474771039033765, 'bagging_fraction': 0.954791489011248, 'lambda_l1': 0.16601011181095238, 'lambda_l2': 0.5838650499468656}. Best is trial 4 with value: 0.9150409481323656.\n"
     ]
    },
    {
     "name": "stdout",
     "output_type": "stream",
     "text": [
      "Did not meet early stopping. Best iteration is:\n",
      "[79]\tvalid_0's auc: 0.915041\n",
      "Training until validation scores don't improve for 30 rounds\n"
     ]
    },
    {
     "name": "stderr",
     "output_type": "stream",
     "text": [
      "[I 2025-08-05 14:21:19,584] Trial 5 finished with value: 0.8975963779212998 and parameters: {'learning_rate': 0.01271477940741764, 'num_leaves': 85, 'max_depth': 10, 'min_child_samples': 27, 'feature_fraction': 0.9484751811934199, 'bagging_fraction': 0.6639157081549037, 'lambda_l1': 0.9522940499068866, 'lambda_l2': 0.9023365648661803}. Best is trial 4 with value: 0.9150409481323656.\n"
     ]
    },
    {
     "name": "stdout",
     "output_type": "stream",
     "text": [
      "Early stopping, best iteration is:\n",
      "[7]\tvalid_0's auc: 0.897596\n",
      "Training until validation scores don't improve for 30 rounds\n"
     ]
    },
    {
     "name": "stderr",
     "output_type": "stream",
     "text": [
      "[I 2025-08-05 14:21:19,957] Trial 6 finished with value: 0.9063852453558826 and parameters: {'learning_rate': 0.011091545154201594, 'num_leaves': 87, 'max_depth': 11, 'min_child_samples': 48, 'feature_fraction': 0.8614548375633961, 'bagging_fraction': 0.7873808581757271, 'lambda_l1': 0.8378310615617685, 'lambda_l2': 0.21808137373125802}. Best is trial 4 with value: 0.9150409481323656.\n"
     ]
    },
    {
     "name": "stdout",
     "output_type": "stream",
     "text": [
      "Early stopping, best iteration is:\n",
      "[4]\tvalid_0's auc: 0.906385\n",
      "Training until validation scores don't improve for 30 rounds\n"
     ]
    },
    {
     "name": "stderr",
     "output_type": "stream",
     "text": [
      "[I 2025-08-05 14:21:20,464] Trial 7 finished with value: 0.9021905586257407 and parameters: {'learning_rate': 0.03324308057353302, 'num_leaves': 84, 'max_depth': 6, 'min_child_samples': 33, 'feature_fraction': 0.7820438315111434, 'bagging_fraction': 0.6740644849417028, 'lambda_l1': 0.9404548880349367, 'lambda_l2': 0.7772461869658367}. Best is trial 4 with value: 0.9150409481323656.\n"
     ]
    },
    {
     "name": "stdout",
     "output_type": "stream",
     "text": [
      "Did not meet early stopping. Best iteration is:\n",
      "[89]\tvalid_0's auc: 0.902191\n",
      "Training until validation scores don't improve for 30 rounds\n"
     ]
    },
    {
     "name": "stderr",
     "output_type": "stream",
     "text": [
      "[I 2025-08-05 14:21:20,940] Trial 8 finished with value: 0.9167055063586125 and parameters: {'learning_rate': 0.0972383276943381, 'num_leaves': 56, 'max_depth': 15, 'min_child_samples': 28, 'feature_fraction': 0.6246134814770777, 'bagging_fraction': 0.9310358844439333, 'lambda_l1': 0.9202765998111382, 'lambda_l2': 0.4584546749575781}. Best is trial 8 with value: 0.9167055063586125.\n"
     ]
    },
    {
     "name": "stdout",
     "output_type": "stream",
     "text": [
      "Early stopping, best iteration is:\n",
      "[34]\tvalid_0's auc: 0.916706\n",
      "Training until validation scores don't improve for 30 rounds\n"
     ]
    },
    {
     "name": "stderr",
     "output_type": "stream",
     "text": [
      "[I 2025-08-05 14:21:21,360] Trial 9 finished with value: 0.9252280444769958 and parameters: {'learning_rate': 0.06748062304222842, 'num_leaves': 71, 'max_depth': 6, 'min_child_samples': 48, 'feature_fraction': 0.8585571225278603, 'bagging_fraction': 0.6209228935366825, 'lambda_l1': 0.35371529912028854, 'lambda_l2': 0.42244955606239476}. Best is trial 9 with value: 0.9252280444769958.\n"
     ]
    },
    {
     "name": "stdout",
     "output_type": "stream",
     "text": [
      "Early stopping, best iteration is:\n",
      "[29]\tvalid_0's auc: 0.925228\n",
      "Training until validation scores don't improve for 30 rounds\n"
     ]
    },
    {
     "name": "stderr",
     "output_type": "stream",
     "text": [
      "[I 2025-08-05 14:21:22,034] Trial 10 finished with value: 0.8668353419002597 and parameters: {'learning_rate': 0.0644431259487537, 'num_leaves': 68, 'max_depth': 8, 'min_child_samples': 11, 'feature_fraction': 0.840122743012854, 'bagging_fraction': 0.6132896097499831, 'lambda_l1': 0.009954516614396114, 'lambda_l2': 0.009069749943964589}. Best is trial 9 with value: 0.9252280444769958.\n"
     ]
    },
    {
     "name": "stdout",
     "output_type": "stream",
     "text": [
      "Early stopping, best iteration is:\n",
      "[44]\tvalid_0's auc: 0.866835\n",
      "Training until validation scores don't improve for 30 rounds\n"
     ]
    },
    {
     "name": "stderr",
     "output_type": "stream",
     "text": [
      "[I 2025-08-05 14:21:22,486] Trial 11 finished with value: 0.8962647313403023 and parameters: {'learning_rate': 0.0991600845581304, 'num_leaves': 61, 'max_depth': 13, 'min_child_samples': 48, 'feature_fraction': 0.6197276223119131, 'bagging_fraction': 0.8541196581327056, 'lambda_l1': 0.4101049394173979, 'lambda_l2': 0.44462435219160384}. Best is trial 9 with value: 0.9252280444769958.\n"
     ]
    },
    {
     "name": "stdout",
     "output_type": "stream",
     "text": [
      "Early stopping, best iteration is:\n",
      "[19]\tvalid_0's auc: 0.896265\n",
      "Training until validation scores don't improve for 30 rounds\n"
     ]
    },
    {
     "name": "stderr",
     "output_type": "stream",
     "text": [
      "[I 2025-08-05 14:21:23,101] Trial 12 finished with value: 0.8855449763632731 and parameters: {'learning_rate': 0.07852728389397573, 'num_leaves': 65, 'max_depth': 9, 'min_child_samples': 15, 'feature_fraction': 0.7252663667301176, 'bagging_fraction': 0.9756870552040404, 'lambda_l1': 0.44509320844123634, 'lambda_l2': 0.4679257426765296}. Best is trial 9 with value: 0.9252280444769958.\n"
     ]
    },
    {
     "name": "stdout",
     "output_type": "stream",
     "text": [
      "Early stopping, best iteration is:\n",
      "[43]\tvalid_0's auc: 0.885545\n",
      "Training until validation scores don't improve for 30 rounds\n"
     ]
    },
    {
     "name": "stderr",
     "output_type": "stream",
     "text": [
      "[I 2025-08-05 14:21:23,676] Trial 13 finished with value: 0.8892735867900659 and parameters: {'learning_rate': 0.07532419720254188, 'num_leaves': 97, 'max_depth': 14, 'min_child_samples': 41, 'feature_fraction': 0.9894958973249175, 'bagging_fraction': 0.8306268433524548, 'lambda_l1': 0.6815519958435556, 'lambda_l2': 0.36082039747741546}. Best is trial 9 with value: 0.9252280444769958.\n"
     ]
    },
    {
     "name": "stdout",
     "output_type": "stream",
     "text": [
      "Early stopping, best iteration is:\n",
      "[30]\tvalid_0's auc: 0.889274\n",
      "Training until validation scores don't improve for 30 rounds\n"
     ]
    },
    {
     "name": "stderr",
     "output_type": "stream",
     "text": [
      "[I 2025-08-05 14:21:24,254] Trial 14 finished with value: 0.8941340968107064 and parameters: {'learning_rate': 0.05080827742411942, 'num_leaves': 55, 'max_depth': 8, 'min_child_samples': 18, 'feature_fraction': 0.8175361405629332, 'bagging_fraction': 0.6113355747514798, 'lambda_l1': 0.30108780226428455, 'lambda_l2': 0.5860652808663624}. Best is trial 9 with value: 0.9252280444769958.\n"
     ]
    },
    {
     "name": "stdout",
     "output_type": "stream",
     "text": [
      "Early stopping, best iteration is:\n",
      "[45]\tvalid_0's auc: 0.894134\n",
      "Training until validation scores don't improve for 30 rounds\n",
      "Early stopping, best iteration is:\n",
      "[13]\tvalid_0's auc: 0.882815\n"
     ]
    },
    {
     "name": "stderr",
     "output_type": "stream",
     "text": [
      "[I 2025-08-05 14:21:24,702] Trial 15 finished with value: 0.8828151008722285 and parameters: {'learning_rate': 0.09658806231733676, 'num_leaves': 71, 'max_depth': 12, 'min_child_samples': 32, 'feature_fraction': 0.6787130438207243, 'bagging_fraction': 0.7765316629461437, 'lambda_l1': 0.6128116431053026, 'lambda_l2': 0.06365162096511645}. Best is trial 9 with value: 0.9252280444769958.\n"
     ]
    },
    {
     "name": "stdout",
     "output_type": "stream",
     "text": [
      "Training until validation scores don't improve for 30 rounds\n"
     ]
    },
    {
     "name": "stderr",
     "output_type": "stream",
     "text": [
      "[I 2025-08-05 14:21:25,253] Trial 16 finished with value: 0.8852120647180238 and parameters: {'learning_rate': 0.04906012308032661, 'num_leaves': 34, 'max_depth': 11, 'min_child_samples': 42, 'feature_fraction': 0.8883340237478959, 'bagging_fraction': 0.9998670031380935, 'lambda_l1': 0.32975069131769885, 'lambda_l2': 0.5762112954863915}. Best is trial 9 with value: 0.9252280444769958.\n"
     ]
    },
    {
     "name": "stdout",
     "output_type": "stream",
     "text": [
      "Early stopping, best iteration is:\n",
      "[37]\tvalid_0's auc: 0.885212\n",
      "Training until validation scores don't improve for 30 rounds\n"
     ]
    },
    {
     "name": "stderr",
     "output_type": "stream",
     "text": [
      "[I 2025-08-05 14:21:25,605] Trial 17 finished with value: 0.9126772754510952 and parameters: {'learning_rate': 0.07552032553644661, 'num_leaves': 75, 'max_depth': 8, 'min_child_samples': 50, 'feature_fraction': 0.7505478765215023, 'bagging_fraction': 0.8775940009757127, 'lambda_l1': 0.08097089301806293, 'lambda_l2': 0.3511552897800084}. Best is trial 9 with value: 0.9252280444769958.\n"
     ]
    },
    {
     "name": "stdout",
     "output_type": "stream",
     "text": [
      "Early stopping, best iteration is:\n",
      "[5]\tvalid_0's auc: 0.912677\n",
      "Training until validation scores don't improve for 30 rounds\n"
     ]
    },
    {
     "name": "stderr",
     "output_type": "stream",
     "text": [
      "[I 2025-08-05 14:21:26,152] Trial 18 finished with value: 0.8763566149543911 and parameters: {'learning_rate': 0.08581365763646019, 'num_leaves': 98, 'max_depth': 14, 'min_child_samples': 37, 'feature_fraction': 0.6065192188375392, 'bagging_fraction': 0.6868875126614372, 'lambda_l1': 0.5368467926099959, 'lambda_l2': 0.3482137988207572}. Best is trial 9 with value: 0.9252280444769958.\n"
     ]
    },
    {
     "name": "stdout",
     "output_type": "stream",
     "text": [
      "Early stopping, best iteration is:\n",
      "[47]\tvalid_0's auc: 0.876357\n",
      "Training until validation scores don't improve for 30 rounds\n"
     ]
    },
    {
     "name": "stderr",
     "output_type": "stream",
     "text": [
      "[I 2025-08-05 14:21:26,603] Trial 19 finished with value: 0.8888075104867168 and parameters: {'learning_rate': 0.062294892028957966, 'num_leaves': 49, 'max_depth': 7, 'min_child_samples': 29, 'feature_fraction': 0.8085490298412914, 'bagging_fraction': 0.9368409195553482, 'lambda_l1': 0.7828359356857539, 'lambda_l2': 0.6756335307102499}. Best is trial 9 with value: 0.9252280444769958.\n"
     ]
    },
    {
     "name": "stdout",
     "output_type": "stream",
     "text": [
      "Early stopping, best iteration is:\n",
      "[33]\tvalid_0's auc: 0.888808\n"
     ]
    },
    {
     "name": "stderr",
     "output_type": "stream",
     "text": [
      "[I 2025-08-05 14:21:26,985] Trial 20 finished with value: 0.9144417071709168 and parameters: {'learning_rate': 0.08685960887584285, 'num_leaves': 58, 'max_depth': 10, 'min_child_samples': 20, 'feature_fraction': 0.6699528901469141, 'bagging_fraction': 0.816242538391264, 'lambda_l1': 0.32721372109651115, 'lambda_l2': 0.1401298262446269}. Best is trial 9 with value: 0.9252280444769958.\n"
     ]
    },
    {
     "name": "stdout",
     "output_type": "stream",
     "text": [
      "Training until validation scores don't improve for 30 rounds\n",
      "Early stopping, best iteration is:\n",
      "[4]\tvalid_0's auc: 0.914442\n",
      "Training until validation scores don't improve for 30 rounds\n"
     ]
    },
    {
     "name": "stderr",
     "output_type": "stream",
     "text": [
      "[I 2025-08-05 14:21:27,602] Trial 21 finished with value: 0.9049870164458352 and parameters: {'learning_rate': 0.024172031590848922, 'num_leaves': 33, 'max_depth': 13, 'min_child_samples': 22, 'feature_fraction': 0.6396963298651641, 'bagging_fraction': 0.9490341518864711, 'lambda_l1': 0.15814010667190082, 'lambda_l2': 0.5497122625815921}. Best is trial 9 with value: 0.9252280444769958.\n"
     ]
    },
    {
     "name": "stdout",
     "output_type": "stream",
     "text": [
      "Early stopping, best iteration is:\n",
      "[58]\tvalid_0's auc: 0.904987\n",
      "Training until validation scores don't improve for 30 rounds\n"
     ]
    },
    {
     "name": "stderr",
     "output_type": "stream",
     "text": [
      "[I 2025-08-05 14:21:28,288] Trial 22 finished with value: 0.8969971369598508 and parameters: {'learning_rate': 0.048157747229053124, 'num_leaves': 41, 'max_depth': 14, 'min_child_samples': 29, 'feature_fraction': 0.6418288221483619, 'bagging_fraction': 0.9610121027001417, 'lambda_l1': 0.21720099125989767, 'lambda_l2': 0.4289254010031549}. Best is trial 9 with value: 0.9252280444769958.\n"
     ]
    },
    {
     "name": "stdout",
     "output_type": "stream",
     "text": [
      "Early stopping, best iteration is:\n",
      "[64]\tvalid_0's auc: 0.896997\n",
      "Training until validation scores don't improve for 30 rounds\n"
     ]
    },
    {
     "name": "stderr",
     "output_type": "stream",
     "text": [
      "[I 2025-08-05 14:21:28,891] Trial 23 finished with value: 0.889739663093415 and parameters: {'learning_rate': 0.041058441507503936, 'num_leaves': 53, 'max_depth': 12, 'min_child_samples': 17, 'feature_fraction': 0.6786692669212131, 'bagging_fraction': 0.9158211019991972, 'lambda_l1': 0.14442942080113486, 'lambda_l2': 0.666531045506219}. Best is trial 9 with value: 0.9252280444769958.\n"
     ]
    },
    {
     "name": "stdout",
     "output_type": "stream",
     "text": [
      "Early stopping, best iteration is:\n",
      "[39]\tvalid_0's auc: 0.88974\n",
      "Training until validation scores don't improve for 30 rounds\n"
     ]
    },
    {
     "name": "stderr",
     "output_type": "stream",
     "text": [
      "[I 2025-08-05 14:21:29,397] Trial 24 finished with value: 0.8951994140755043 and parameters: {'learning_rate': 0.022137993588281172, 'num_leaves': 41, 'max_depth': 15, 'min_child_samples': 44, 'feature_fraction': 0.7217390754696584, 'bagging_fraction': 0.9977761187894925, 'lambda_l1': 0.40554057973051305, 'lambda_l2': 0.5391828098354192}. Best is trial 9 with value: 0.9252280444769958.\n"
     ]
    },
    {
     "name": "stdout",
     "output_type": "stream",
     "text": [
      "Early stopping, best iteration is:\n",
      "[36]\tvalid_0's auc: 0.895199\n",
      "Training until validation scores don't improve for 30 rounds\n"
     ]
    },
    {
     "name": "stderr",
     "output_type": "stream",
     "text": [
      "[I 2025-08-05 14:21:29,926] Trial 25 finished with value: 0.8987948598441973 and parameters: {'learning_rate': 0.06741277395554936, 'num_leaves': 75, 'max_depth': 13, 'min_child_samples': 34, 'feature_fraction': 0.6535073046850781, 'bagging_fraction': 0.8567265821729981, 'lambda_l1': 0.24895031879282747, 'lambda_l2': 0.9940904133892108}. Best is trial 9 with value: 0.9252280444769958.\n"
     ]
    },
    {
     "name": "stdout",
     "output_type": "stream",
     "text": [
      "Early stopping, best iteration is:\n",
      "[34]\tvalid_0's auc: 0.898795\n",
      "Training until validation scores don't improve for 30 rounds\n"
     ]
    },
    {
     "name": "stderr",
     "output_type": "stream",
     "text": [
      "[I 2025-08-05 14:21:30,702] Trial 26 finished with value: 0.8943338437978561 and parameters: {'learning_rate': 0.056058483158403054, 'num_leaves': 63, 'max_depth': 15, 'min_child_samples': 26, 'feature_fraction': 0.6013719392200384, 'bagging_fraction': 0.760924364974727, 'lambda_l1': 0.05039391555026118, 'lambda_l2': 0.3289630849328698}. Best is trial 9 with value: 0.9252280444769958.\n"
     ]
    },
    {
     "name": "stdout",
     "output_type": "stream",
     "text": [
      "Did not meet early stopping. Best iteration is:\n",
      "[73]\tvalid_0's auc: 0.894334\n",
      "Training until validation scores don't improve for 30 rounds\n"
     ]
    },
    {
     "name": "stderr",
     "output_type": "stream",
     "text": [
      "[I 2025-08-05 14:21:31,261] Trial 27 finished with value: 0.8996604301218456 and parameters: {'learning_rate': 0.06912797974622518, 'num_leaves': 37, 'max_depth': 12, 'min_child_samples': 31, 'feature_fraction': 0.700237665438953, 'bagging_fraction': 0.9223873600398452, 'lambda_l1': 0.12281503369531, 'lambda_l2': 0.4924606663926474}. Best is trial 9 with value: 0.9252280444769958.\n"
     ]
    },
    {
     "name": "stdout",
     "output_type": "stream",
     "text": [
      "Early stopping, best iteration is:\n",
      "[31]\tvalid_0's auc: 0.89966\n",
      "Training until validation scores don't improve for 30 rounds\n"
     ]
    },
    {
     "name": "stderr",
     "output_type": "stream",
     "text": [
      "[I 2025-08-05 14:21:32,127] Trial 28 finished with value: 0.8759571209800918 and parameters: {'learning_rate': 0.04344980132171967, 'num_leaves': 94, 'max_depth': 10, 'min_child_samples': 10, 'feature_fraction': 0.8511597771187437, 'bagging_fraction': 0.6402002513241489, 'lambda_l1': 0.5982590297060199, 'lambda_l2': 0.635453785339048}. Best is trial 9 with value: 0.9252280444769958.\n"
     ]
    },
    {
     "name": "stdout",
     "output_type": "stream",
     "text": [
      "Did not meet early stopping. Best iteration is:\n",
      "[96]\tvalid_0's auc: 0.875957\n",
      "Training until validation scores don't improve for 30 rounds\n"
     ]
    },
    {
     "name": "stderr",
     "output_type": "stream",
     "text": [
      "[I 2025-08-05 14:21:32,673] Trial 29 finished with value: 0.8945335907850057 and parameters: {'learning_rate': 0.09185513371356721, 'num_leaves': 49, 'max_depth': 16, 'min_child_samples': 38, 'feature_fraction': 0.9074333403977227, 'bagging_fraction': 0.7209007916448495, 'lambda_l1': 0.48801297073499383, 'lambda_l2': 0.762662901132455}. Best is trial 9 with value: 0.9252280444769958.\n"
     ]
    },
    {
     "name": "stdout",
     "output_type": "stream",
     "text": [
      "Early stopping, best iteration is:\n",
      "[28]\tvalid_0's auc: 0.894534\n"
     ]
    },
    {
     "name": "stderr",
     "output_type": "stream",
     "text": [
      "[I 2025-08-05 14:21:33,079] Trial 30 finished with value: 0.8764897796124909 and parameters: {'learning_rate': 0.022248720301931986, 'num_leaves': 48, 'max_depth': 16, 'min_child_samples': 23, 'feature_fraction': 0.7486189888411342, 'bagging_fraction': 0.8817359923583099, 'lambda_l1': 0.3508546596681994, 'lambda_l2': 0.3993594875714062}. Best is trial 9 with value: 0.9252280444769958.\n"
     ]
    },
    {
     "name": "stdout",
     "output_type": "stream",
     "text": [
      "Training until validation scores don't improve for 30 rounds\n",
      "Early stopping, best iteration is:\n",
      "[4]\tvalid_0's auc: 0.87649\n",
      "Training until validation scores don't improve for 30 rounds\n",
      "Early stopping, best iteration is:\n",
      "[21]\tvalid_0's auc: 0.896331\n"
     ]
    },
    {
     "name": "stderr",
     "output_type": "stream",
     "text": [
      "[I 2025-08-05 14:21:33,491] Trial 31 finished with value: 0.8963313136693521 and parameters: {'learning_rate': 0.08069088941697448, 'num_leaves': 58, 'max_depth': 7, 'min_child_samples': 20, 'feature_fraction': 0.662288444151884, 'bagging_fraction': 0.8322857711972868, 'lambda_l1': 0.2879599022816611, 'lambda_l2': 0.12981313843983228}. Best is trial 9 with value: 0.9252280444769958.\n"
     ]
    },
    {
     "name": "stdout",
     "output_type": "stream",
     "text": [
      "Training until validation scores don't improve for 30 rounds\n"
     ]
    },
    {
     "name": "stderr",
     "output_type": "stream",
     "text": [
      "[I 2025-08-05 14:21:33,954] Trial 32 finished with value: 0.9183700645848591 and parameters: {'learning_rate': 0.09032395017553478, 'num_leaves': 77, 'max_depth': 10, 'min_child_samples': 21, 'feature_fraction': 0.6286723699424697, 'bagging_fraction': 0.7172219522052934, 'lambda_l1': 0.37437871864847466, 'lambda_l2': 0.2710085402850225}. Best is trial 9 with value: 0.9252280444769958.\n"
     ]
    },
    {
     "name": "stdout",
     "output_type": "stream",
     "text": [
      "Early stopping, best iteration is:\n",
      "[21]\tvalid_0's auc: 0.91837\n",
      "Training until validation scores don't improve for 30 rounds\n"
     ]
    },
    {
     "name": "stderr",
     "output_type": "stream",
     "text": [
      "[I 2025-08-05 14:21:34,451] Trial 33 finished with value: 0.8770224382448898 and parameters: {'learning_rate': 0.09332716043628737, 'num_leaves': 80, 'max_depth': 11, 'min_child_samples': 24, 'feature_fraction': 0.6158987962618239, 'bagging_fraction': 0.7258996497183647, 'lambda_l1': 0.5215934378104259, 'lambda_l2': 0.27740936851786385}. Best is trial 9 with value: 0.9252280444769958.\n"
     ]
    },
    {
     "name": "stdout",
     "output_type": "stream",
     "text": [
      "Early stopping, best iteration is:\n",
      "[28]\tvalid_0's auc: 0.877022\n",
      "Training until validation scores don't improve for 30 rounds\n"
     ]
    },
    {
     "name": "stderr",
     "output_type": "stream",
     "text": [
      "[I 2025-08-05 14:21:34,945] Trial 34 finished with value: 0.9085158798854783 and parameters: {'learning_rate': 0.09092916687986276, 'num_leaves': 108, 'max_depth': 15, 'min_child_samples': 28, 'feature_fraction': 0.6319669904890509, 'bagging_fraction': 0.7582020661800092, 'lambda_l1': 0.40158635254304614, 'lambda_l2': 0.2766814564166929}. Best is trial 9 with value: 0.9252280444769958.\n"
     ]
    },
    {
     "name": "stdout",
     "output_type": "stream",
     "text": [
      "Early stopping, best iteration is:\n",
      "[25]\tvalid_0's auc: 0.908516\n",
      "Training until validation scores don't improve for 30 rounds\n"
     ]
    },
    {
     "name": "stderr",
     "output_type": "stream",
     "text": [
      "[I 2025-08-05 14:21:35,541] Trial 35 finished with value: 0.8538517877355349 and parameters: {'learning_rate': 0.0723625731238847, 'num_leaves': 74, 'max_depth': 9, 'min_child_samples': 14, 'feature_fraction': 0.7750167150936793, 'bagging_fraction': 0.6901161530030189, 'lambda_l1': 0.7358068039819325, 'lambda_l2': 0.39892739346520945}. Best is trial 9 with value: 0.9252280444769958.\n"
     ]
    },
    {
     "name": "stdout",
     "output_type": "stream",
     "text": [
      "Early stopping, best iteration is:\n",
      "[38]\tvalid_0's auc: 0.853852\n",
      "Training until validation scores don't improve for 30 rounds\n"
     ]
    },
    {
     "name": "stderr",
     "output_type": "stream",
     "text": [
      "[I 2025-08-05 14:21:36,062] Trial 36 finished with value: 0.9097143618083761 and parameters: {'learning_rate': 0.08311222670556995, 'num_leaves': 68, 'max_depth': 14, 'min_child_samples': 26, 'feature_fraction': 0.695604851143966, 'bagging_fraction': 0.6414270786888144, 'lambda_l1': 0.2065733013286648, 'lambda_l2': 0.49866902928027107}. Best is trial 9 with value: 0.9252280444769958.\n"
     ]
    },
    {
     "name": "stdout",
     "output_type": "stream",
     "text": [
      "Early stopping, best iteration is:\n",
      "[24]\tvalid_0's auc: 0.909714\n",
      "Training until validation scores don't improve for 30 rounds\n"
     ]
    },
    {
     "name": "stderr",
     "output_type": "stream",
     "text": [
      "[I 2025-08-05 14:21:36,618] Trial 37 finished with value: 0.9093814501631268 and parameters: {'learning_rate': 0.058182630845894104, 'num_leaves': 82, 'max_depth': 6, 'min_child_samples': 35, 'feature_fraction': 0.91775705225615, 'bagging_fraction': 0.8988815701618165, 'lambda_l1': 0.586746298383465, 'lambda_l2': 0.1566155190671703}. Best is trial 9 with value: 0.9252280444769958.\n"
     ]
    },
    {
     "name": "stdout",
     "output_type": "stream",
     "text": [
      "Early stopping, best iteration is:\n",
      "[56]\tvalid_0's auc: 0.909381\n",
      "Training until validation scores don't improve for 30 rounds\n"
     ]
    },
    {
     "name": "stderr",
     "output_type": "stream",
     "text": [
      "[I 2025-08-05 14:21:37,361] Trial 38 finished with value: 0.9004594180704442 and parameters: {'learning_rate': 0.029454545711382438, 'num_leaves': 92, 'max_depth': 13, 'min_child_samples': 21, 'feature_fraction': 0.8772840308425771, 'bagging_fraction': 0.7004811685728861, 'lambda_l1': 0.976943419997703, 'lambda_l2': 0.2240147802581098}. Best is trial 9 with value: 0.9252280444769958.\n"
     ]
    },
    {
     "name": "stdout",
     "output_type": "stream",
     "text": [
      "Early stopping, best iteration is:\n",
      "[65]\tvalid_0's auc: 0.900459\n",
      "Training until validation scores don't improve for 30 rounds\n"
     ]
    },
    {
     "name": "stderr",
     "output_type": "stream",
     "text": [
      "[I 2025-08-05 14:21:37,932] Trial 39 finished with value: 0.8906052333710632 and parameters: {'learning_rate': 0.0954527319875591, 'num_leaves': 77, 'max_depth': 7, 'min_child_samples': 25, 'feature_fraction': 0.7280588018203393, 'bagging_fraction': 0.6311948068769011, 'lambda_l1': 0.903724263512506, 'lambda_l2': 0.847954500856928}. Best is trial 9 with value: 0.9252280444769958.\n"
     ]
    },
    {
     "name": "stdout",
     "output_type": "stream",
     "text": [
      "Early stopping, best iteration is:\n",
      "[57]\tvalid_0's auc: 0.890605\n",
      "\n",
      "📍 Training for label: NR-AhR\n"
     ]
    },
    {
     "name": "stderr",
     "output_type": "stream",
     "text": [
      "[I 2025-08-05 14:21:43,682] A new study created in memory with name: no-name-46a3d144-20a7-4710-a573-8a06a95c4426\n"
     ]
    },
    {
     "name": "stdout",
     "output_type": "stream",
     "text": [
      "Training until validation scores don't improve for 30 rounds\n"
     ]
    },
    {
     "name": "stderr",
     "output_type": "stream",
     "text": [
      "[I 2025-08-05 14:21:44,295] Trial 0 finished with value: 0.9240327146901541 and parameters: {'learning_rate': 0.07785114227254486, 'num_leaves': 120, 'max_depth': 6, 'min_child_samples': 38, 'feature_fraction': 0.8252161550490777, 'bagging_fraction': 0.9245264891221074, 'lambda_l1': 0.6326709108777253, 'lambda_l2': 0.0218676594888495}. Best is trial 0 with value: 0.9240327146901541.\n"
     ]
    },
    {
     "name": "stdout",
     "output_type": "stream",
     "text": [
      "Early stopping, best iteration is:\n",
      "[49]\tvalid_0's auc: 0.924033\n",
      "Training until validation scores don't improve for 30 rounds\n"
     ]
    },
    {
     "name": "stderr",
     "output_type": "stream",
     "text": [
      "[I 2025-08-05 14:21:45,696] Trial 1 finished with value: 0.9199883161820878 and parameters: {'learning_rate': 0.06602358508121295, 'num_leaves': 67, 'max_depth': 11, 'min_child_samples': 23, 'feature_fraction': 0.9156002477139211, 'bagging_fraction': 0.8095827105253017, 'lambda_l1': 0.19188825552040933, 'lambda_l2': 0.9257858825366184}. Best is trial 0 with value: 0.9240327146901541.\n"
     ]
    },
    {
     "name": "stdout",
     "output_type": "stream",
     "text": [
      "Did not meet early stopping. Best iteration is:\n",
      "[98]\tvalid_0's auc: 0.919988\n",
      "Training until validation scores don't improve for 30 rounds\n"
     ]
    },
    {
     "name": "stderr",
     "output_type": "stream",
     "text": [
      "[I 2025-08-05 14:21:46,538] Trial 2 finished with value: 0.9216959511077158 and parameters: {'learning_rate': 0.06587079517468902, 'num_leaves': 74, 'max_depth': 8, 'min_child_samples': 47, 'feature_fraction': 0.7592625786180704, 'bagging_fraction': 0.6918809544033859, 'lambda_l1': 0.4292812568934844, 'lambda_l2': 0.5919188086017346}. Best is trial 0 with value: 0.9240327146901541.\n"
     ]
    },
    {
     "name": "stdout",
     "output_type": "stream",
     "text": [
      "Early stopping, best iteration is:\n",
      "[70]\tvalid_0's auc: 0.921696\n",
      "Training until validation scores don't improve for 30 rounds\n"
     ]
    },
    {
     "name": "stderr",
     "output_type": "stream",
     "text": [
      "[I 2025-08-05 14:21:47,452] Trial 3 finished with value: 0.9248191255111671 and parameters: {'learning_rate': 0.09643814717735956, 'num_leaves': 117, 'max_depth': 11, 'min_child_samples': 38, 'feature_fraction': 0.6770734065574707, 'bagging_fraction': 0.8540906406588704, 'lambda_l1': 0.053903323842898865, 'lambda_l2': 0.5919570512526482}. Best is trial 3 with value: 0.9248191255111671.\n"
     ]
    },
    {
     "name": "stdout",
     "output_type": "stream",
     "text": [
      "Early stopping, best iteration is:\n",
      "[51]\tvalid_0's auc: 0.924819\n",
      "Training until validation scores don't improve for 30 rounds\n"
     ]
    },
    {
     "name": "stderr",
     "output_type": "stream",
     "text": [
      "[I 2025-08-05 14:21:48,598] Trial 4 finished with value: 0.9250887520783714 and parameters: {'learning_rate': 0.04521624218123291, 'num_leaves': 118, 'max_depth': 13, 'min_child_samples': 47, 'feature_fraction': 0.7485690249179295, 'bagging_fraction': 0.7324675087698221, 'lambda_l1': 0.004725477855776039, 'lambda_l2': 0.24715188956477463}. Best is trial 4 with value: 0.9250887520783714.\n"
     ]
    },
    {
     "name": "stdout",
     "output_type": "stream",
     "text": [
      "Did not meet early stopping. Best iteration is:\n",
      "[100]\tvalid_0's auc: 0.925089\n",
      "Training until validation scores don't improve for 30 rounds\n"
     ]
    },
    {
     "name": "stderr",
     "output_type": "stream",
     "text": [
      "[I 2025-08-05 14:21:49,483] Trial 5 finished with value: 0.9244596234215611 and parameters: {'learning_rate': 0.09092395283723895, 'num_leaves': 107, 'max_depth': 9, 'min_child_samples': 49, 'feature_fraction': 0.7979494552631157, 'bagging_fraction': 0.8770566745466328, 'lambda_l1': 0.9726115855196366, 'lambda_l2': 0.987506221230525}. Best is trial 4 with value: 0.9250887520783714.\n"
     ]
    },
    {
     "name": "stdout",
     "output_type": "stream",
     "text": [
      "Did not meet early stopping. Best iteration is:\n",
      "[72]\tvalid_0's auc: 0.92446\n",
      "Training until validation scores don't improve for 30 rounds\n"
     ]
    },
    {
     "name": "stderr",
     "output_type": "stream",
     "text": [
      "[I 2025-08-05 14:21:50,554] Trial 6 finished with value: 0.9247517188693659 and parameters: {'learning_rate': 0.058327636641368, 'num_leaves': 34, 'max_depth': 11, 'min_child_samples': 12, 'feature_fraction': 0.8504517187446472, 'bagging_fraction': 0.6968187413408531, 'lambda_l1': 0.5024793993364112, 'lambda_l2': 0.7437157875352}. Best is trial 4 with value: 0.9250887520783714.\n"
     ]
    },
    {
     "name": "stdout",
     "output_type": "stream",
     "text": [
      "Early stopping, best iteration is:\n",
      "[70]\tvalid_0's auc: 0.924752\n",
      "Training until validation scores don't improve for 30 rounds\n"
     ]
    },
    {
     "name": "stderr",
     "output_type": "stream",
     "text": [
      "[I 2025-08-05 14:21:51,623] Trial 7 finished with value: 0.9252010964813733 and parameters: {'learning_rate': 0.03327493009251092, 'num_leaves': 57, 'max_depth': 14, 'min_child_samples': 38, 'feature_fraction': 0.8494666719447845, 'bagging_fraction': 0.9476972650674491, 'lambda_l1': 0.9719809684048714, 'lambda_l2': 0.5428847569453122}. Best is trial 7 with value: 0.9252010964813733.\n"
     ]
    },
    {
     "name": "stdout",
     "output_type": "stream",
     "text": [
      "Did not meet early stopping. Best iteration is:\n",
      "[96]\tvalid_0's auc: 0.925201\n",
      "Training until validation scores don't improve for 30 rounds\n"
     ]
    },
    {
     "name": "stderr",
     "output_type": "stream",
     "text": [
      "[I 2025-08-05 14:21:53,079] Trial 8 finished with value: 0.9278524243922168 and parameters: {'learning_rate': 0.07368584803179905, 'num_leaves': 111, 'max_depth': 15, 'min_child_samples': 25, 'feature_fraction': 0.947565189645435, 'bagging_fraction': 0.6708496672123992, 'lambda_l1': 0.6187127867113561, 'lambda_l2': 0.731564049303425}. Best is trial 8 with value: 0.9278524243922168.\n"
     ]
    },
    {
     "name": "stdout",
     "output_type": "stream",
     "text": [
      "Did not meet early stopping. Best iteration is:\n",
      "[87]\tvalid_0's auc: 0.927852\n",
      "Training until validation scores don't improve for 30 rounds\n"
     ]
    },
    {
     "name": "stderr",
     "output_type": "stream",
     "text": [
      "[I 2025-08-05 14:21:53,646] Trial 9 finished with value: 0.9194940008088797 and parameters: {'learning_rate': 0.06969977308243709, 'num_leaves': 102, 'max_depth': 7, 'min_child_samples': 48, 'feature_fraction': 0.6734195698874014, 'bagging_fraction': 0.8412358271130669, 'lambda_l1': 0.9726546870803823, 'lambda_l2': 0.048773701972694594}. Best is trial 8 with value: 0.9278524243922168.\n"
     ]
    },
    {
     "name": "stdout",
     "output_type": "stream",
     "text": [
      "Early stopping, best iteration is:\n",
      "[47]\tvalid_0's auc: 0.919494\n",
      "Training until validation scores don't improve for 30 rounds\n"
     ]
    },
    {
     "name": "stderr",
     "output_type": "stream",
     "text": [
      "[I 2025-08-05 14:21:55,104] Trial 10 finished with value: 0.892194310879432 and parameters: {'learning_rate': 0.012808409386530037, 'num_leaves': 91, 'max_depth': 16, 'min_child_samples': 21, 'feature_fraction': 0.9916475668324324, 'bagging_fraction': 0.6116710559416573, 'lambda_l1': 0.7231548206134413, 'lambda_l2': 0.363584197901835}. Best is trial 8 with value: 0.9278524243922168.\n"
     ]
    },
    {
     "name": "stdout",
     "output_type": "stream",
     "text": [
      "Did not meet early stopping. Best iteration is:\n",
      "[100]\tvalid_0's auc: 0.892194\n",
      "Training until validation scores don't improve for 30 rounds\n"
     ]
    },
    {
     "name": "stderr",
     "output_type": "stream",
     "text": [
      "[I 2025-08-05 14:21:56,307] Trial 11 finished with value: 0.9254931919291781 and parameters: {'learning_rate': 0.04073023261833597, 'num_leaves': 54, 'max_depth': 15, 'min_child_samples': 31, 'feature_fraction': 0.9267984633708927, 'bagging_fraction': 0.9825634706872043, 'lambda_l1': 0.7829706180420895, 'lambda_l2': 0.7541222578957879}. Best is trial 8 with value: 0.9278524243922168.\n"
     ]
    },
    {
     "name": "stdout",
     "output_type": "stream",
     "text": [
      "Did not meet early stopping. Best iteration is:\n",
      "[98]\tvalid_0's auc: 0.925493\n",
      "Training until validation scores don't improve for 30 rounds\n"
     ]
    },
    {
     "name": "stderr",
     "output_type": "stream",
     "text": [
      "[I 2025-08-05 14:21:57,579] Trial 12 finished with value: 0.9192468431222758 and parameters: {'learning_rate': 0.0429836596659031, 'num_leaves': 49, 'max_depth': 16, 'min_child_samples': 28, 'feature_fraction': 0.9961685627145112, 'bagging_fraction': 0.9889018152100516, 'lambda_l1': 0.7433910677147234, 'lambda_l2': 0.7985083654549907}. Best is trial 8 with value: 0.9278524243922168.\n"
     ]
    },
    {
     "name": "stdout",
     "output_type": "stream",
     "text": [
      "Did not meet early stopping. Best iteration is:\n",
      "[91]\tvalid_0's auc: 0.919247\n",
      "Training until validation scores don't improve for 30 rounds\n"
     ]
    },
    {
     "name": "stderr",
     "output_type": "stream",
     "text": [
      "[I 2025-08-05 14:21:58,836] Trial 13 finished with value: 0.9207747270031007 and parameters: {'learning_rate': 0.02450634969492385, 'num_leaves': 85, 'max_depth': 14, 'min_child_samples': 31, 'feature_fraction': 0.9233513079993731, 'bagging_fraction': 0.6072332751765182, 'lambda_l1': 0.7945041945755523, 'lambda_l2': 0.7620549115888114}. Best is trial 8 with value: 0.9278524243922168.\n"
     ]
    },
    {
     "name": "stdout",
     "output_type": "stream",
     "text": [
      "Did not meet early stopping. Best iteration is:\n",
      "[100]\tvalid_0's auc: 0.920775\n",
      "Training until validation scores don't improve for 30 rounds\n"
     ]
    },
    {
     "name": "stderr",
     "output_type": "stream",
     "text": [
      "[I 2025-08-05 14:21:59,918] Trial 14 finished with value: 0.9231339594661394 and parameters: {'learning_rate': 0.049005000976405276, 'num_leaves': 32, 'max_depth': 13, 'min_child_samples': 15, 'feature_fraction': 0.9299012067033897, 'bagging_fraction': 0.7570691884776336, 'lambda_l1': 0.48033926836397234, 'lambda_l2': 0.6927662848929166}. Best is trial 8 with value: 0.9278524243922168.\n"
     ]
    },
    {
     "name": "stdout",
     "output_type": "stream",
     "text": [
      "Did not meet early stopping. Best iteration is:\n",
      "[87]\tvalid_0's auc: 0.923134\n",
      "Training until validation scores don't improve for 30 rounds\n"
     ]
    },
    {
     "name": "stderr",
     "output_type": "stream",
     "text": [
      "[I 2025-08-05 14:22:00,975] Trial 15 finished with value: 0.9297173414820473 and parameters: {'learning_rate': 0.08695559211034146, 'num_leaves': 50, 'max_depth': 15, 'min_child_samples': 31, 'feature_fraction': 0.9016230868243582, 'bagging_fraction': 0.6631934500650826, 'lambda_l1': 0.5878344169458128, 'lambda_l2': 0.383118888118841}. Best is trial 15 with value: 0.9297173414820473.\n"
     ]
    },
    {
     "name": "stdout",
     "output_type": "stream",
     "text": [
      "Early stopping, best iteration is:\n",
      "[53]\tvalid_0's auc: 0.929717\n",
      "Training until validation scores don't improve for 30 rounds\n"
     ]
    },
    {
     "name": "stderr",
     "output_type": "stream",
     "text": [
      "[I 2025-08-05 14:22:02,003] Trial 16 finished with value: 0.9236282748393475 and parameters: {'learning_rate': 0.0830577645035523, 'num_leaves': 99, 'max_depth': 13, 'min_child_samples': 23, 'feature_fraction': 0.600574646987699, 'bagging_fraction': 0.6590921494761471, 'lambda_l1': 0.3347990892484971, 'lambda_l2': 0.3827140184641777}. Best is trial 15 with value: 0.9297173414820473.\n"
     ]
    },
    {
     "name": "stdout",
     "output_type": "stream",
     "text": [
      "Early stopping, best iteration is:\n",
      "[49]\tvalid_0's auc: 0.923628\n",
      "Training until validation scores don't improve for 30 rounds\n"
     ]
    },
    {
     "name": "stderr",
     "output_type": "stream",
     "text": [
      "[I 2025-08-05 14:22:03,515] Trial 17 finished with value: 0.9224598930481284 and parameters: {'learning_rate': 0.08136724762274229, 'num_leaves': 128, 'max_depth': 15, 'min_child_samples': 18, 'feature_fraction': 0.8809215168262005, 'bagging_fraction': 0.7638814022604505, 'lambda_l1': 0.6055979066039007, 'lambda_l2': 0.4132389120326333}. Best is trial 15 with value: 0.9297173414820473.\n"
     ]
    },
    {
     "name": "stdout",
     "output_type": "stream",
     "text": [
      "Did not meet early stopping. Best iteration is:\n",
      "[100]\tvalid_0's auc: 0.92246\n",
      "Training until validation scores don't improve for 30 rounds\n"
     ]
    },
    {
     "name": "stderr",
     "output_type": "stream",
     "text": [
      "[I 2025-08-05 14:22:04,949] Trial 18 finished with value: 0.9286613040938301 and parameters: {'learning_rate': 0.0973926458150222, 'num_leaves': 70, 'max_depth': 12, 'min_child_samples': 27, 'feature_fraction': 0.961365865361173, 'bagging_fraction': 0.6607466283494091, 'lambda_l1': 0.28904463759296706, 'lambda_l2': 0.22274500603475744}. Best is trial 15 with value: 0.9297173414820473.\n"
     ]
    },
    {
     "name": "stdout",
     "output_type": "stream",
     "text": [
      "Did not meet early stopping. Best iteration is:\n",
      "[76]\tvalid_0's auc: 0.928661\n",
      "Training until validation scores don't improve for 30 rounds\n"
     ]
    },
    {
     "name": "stderr",
     "output_type": "stream",
     "text": [
      "[I 2025-08-05 14:22:05,732] Trial 19 finished with value: 0.921583606704714 and parameters: {'learning_rate': 0.09943287085790993, 'num_leaves': 45, 'max_depth': 10, 'min_child_samples': 34, 'feature_fraction': 0.9681410283072871, 'bagging_fraction': 0.6477837147720041, 'lambda_l1': 0.2866123875998819, 'lambda_l2': 0.19211036834870343}. Best is trial 15 with value: 0.9297173414820473.\n"
     ]
    },
    {
     "name": "stdout",
     "output_type": "stream",
     "text": [
      "Early stopping, best iteration is:\n",
      "[30]\tvalid_0's auc: 0.921584\n",
      "Training until validation scores don't improve for 30 rounds\n"
     ]
    },
    {
     "name": "stderr",
     "output_type": "stream",
     "text": [
      "[I 2025-08-05 14:22:06,963] Trial 20 finished with value: 0.9256954118545814 and parameters: {'learning_rate': 0.08941790709832752, 'num_leaves': 65, 'max_depth': 12, 'min_child_samples': 43, 'feature_fraction': 0.8891508882999265, 'bagging_fraction': 0.7170436321894442, 'lambda_l1': 0.1615629003908715, 'lambda_l2': 0.2141584847808523}. Best is trial 15 with value: 0.9297173414820473.\n"
     ]
    },
    {
     "name": "stdout",
     "output_type": "stream",
     "text": [
      "Did not meet early stopping. Best iteration is:\n",
      "[79]\tvalid_0's auc: 0.925695\n",
      "Training until validation scores don't improve for 30 rounds\n"
     ]
    },
    {
     "name": "stderr",
     "output_type": "stream",
     "text": [
      "[I 2025-08-05 14:22:08,368] Trial 21 finished with value: 0.9241001213319552 and parameters: {'learning_rate': 0.07313229013740011, 'num_leaves': 75, 'max_depth': 15, 'min_child_samples': 27, 'feature_fraction': 0.9506087168141305, 'bagging_fraction': 0.6622601189611989, 'lambda_l1': 0.5770909908500725, 'lambda_l2': 0.4501320793336195}. Best is trial 15 with value: 0.9297173414820473.\n"
     ]
    },
    {
     "name": "stdout",
     "output_type": "stream",
     "text": [
      "Did not meet early stopping. Best iteration is:\n",
      "[80]\tvalid_0's auc: 0.9241\n",
      "Training until validation scores don't improve for 30 rounds\n"
     ]
    },
    {
     "name": "stderr",
     "output_type": "stream",
     "text": [
      "[I 2025-08-05 14:22:09,727] Trial 22 finished with value: 0.9183705567788613 and parameters: {'learning_rate': 0.08797858796877184, 'num_leaves': 62, 'max_depth': 14, 'min_child_samples': 27, 'feature_fraction': 0.8864645407268611, 'bagging_fraction': 0.6375077344573351, 'lambda_l1': 0.3846685874367882, 'lambda_l2': 0.27803250796506657}. Best is trial 15 with value: 0.9297173414820473.\n"
     ]
    },
    {
     "name": "stdout",
     "output_type": "stream",
     "text": [
      "Did not meet early stopping. Best iteration is:\n",
      "[100]\tvalid_0's auc: 0.918371\n",
      "Training until validation scores don't improve for 30 rounds\n"
     ]
    },
    {
     "name": "stderr",
     "output_type": "stream",
     "text": [
      "[I 2025-08-05 14:22:10,987] Trial 23 finished with value: 0.9245270300633622 and parameters: {'learning_rate': 0.057110695875208096, 'num_leaves': 44, 'max_depth': 16, 'min_child_samples': 34, 'feature_fraction': 0.9678790312321885, 'bagging_fraction': 0.6854699952788115, 'lambda_l1': 0.2525939923882704, 'lambda_l2': 0.11668667347924583}. Best is trial 15 with value: 0.9297173414820473.\n"
     ]
    },
    {
     "name": "stdout",
     "output_type": "stream",
     "text": [
      "Did not meet early stopping. Best iteration is:\n",
      "[84]\tvalid_0's auc: 0.924527\n",
      "Training until validation scores don't improve for 30 rounds\n"
     ]
    },
    {
     "name": "stderr",
     "output_type": "stream",
     "text": [
      "[I 2025-08-05 14:22:12,412] Trial 24 finished with value: 0.9269986069294027 and parameters: {'learning_rate': 0.09448235286774548, 'num_leaves': 84, 'max_depth': 12, 'min_child_samples': 24, 'feature_fraction': 0.9586280607994357, 'bagging_fraction': 0.7748541392295356, 'lambda_l1': 0.535307611351989, 'lambda_l2': 0.33059950316571607}. Best is trial 15 with value: 0.9297173414820473.\n"
     ]
    },
    {
     "name": "stdout",
     "output_type": "stream",
     "text": [
      "Did not meet early stopping. Best iteration is:\n",
      "[100]\tvalid_0's auc: 0.926999\n",
      "Training until validation scores don't improve for 30 rounds\n"
     ]
    },
    {
     "name": "stderr",
     "output_type": "stream",
     "text": [
      "[I 2025-08-05 14:22:13,829] Trial 25 finished with value: 0.919628814092482 and parameters: {'learning_rate': 0.07646044263184687, 'num_leaves': 72, 'max_depth': 15, 'min_child_samples': 19, 'feature_fraction': 0.8917766364290847, 'bagging_fraction': 0.7286421823648328, 'lambda_l1': 0.6654298287462058, 'lambda_l2': 0.49368175765566136}. Best is trial 15 with value: 0.9297173414820473.\n"
     ]
    },
    {
     "name": "stdout",
     "output_type": "stream",
     "text": [
      "Did not meet early stopping. Best iteration is:\n",
      "[98]\tvalid_0's auc: 0.919629\n",
      "Training until validation scores don't improve for 30 rounds\n"
     ]
    },
    {
     "name": "stderr",
     "output_type": "stream",
     "text": [
      "[I 2025-08-05 14:22:14,868] Trial 26 finished with value: 0.928234395362423 and parameters: {'learning_rate': 0.0861107706865449, 'num_leaves': 92, 'max_depth': 12, 'min_child_samples': 33, 'feature_fraction': 0.8482175138885171, 'bagging_fraction': 0.6361219880314325, 'lambda_l1': 0.4313942129011806, 'lambda_l2': 0.12736199893939865}. Best is trial 15 with value: 0.9297173414820473.\n"
     ]
    },
    {
     "name": "stdout",
     "output_type": "stream",
     "text": [
      "Early stopping, best iteration is:\n",
      "[45]\tvalid_0's auc: 0.928234\n",
      "Training until validation scores don't improve for 30 rounds\n"
     ]
    },
    {
     "name": "stderr",
     "output_type": "stream",
     "text": [
      "[I 2025-08-05 14:22:16,001] Trial 27 finished with value: 0.9317170718554801 and parameters: {'learning_rate': 0.08671086669351998, 'num_leaves': 94, 'max_depth': 10, 'min_child_samples': 35, 'feature_fraction': 0.7787367302994457, 'bagging_fraction': 0.631225690934098, 'lambda_l1': 0.40150085299626503, 'lambda_l2': 0.13303486650001928}. Best is trial 27 with value: 0.9317170718554801.\n"
     ]
    },
    {
     "name": "stdout",
     "output_type": "stream",
     "text": [
      "Did not meet early stopping. Best iteration is:\n",
      "[93]\tvalid_0's auc: 0.931717\n",
      "Training until validation scores don't improve for 30 rounds\n"
     ]
    },
    {
     "name": "stderr",
     "output_type": "stream",
     "text": [
      "[I 2025-08-05 14:22:17,024] Trial 28 finished with value: 0.9229542084213365 and parameters: {'learning_rate': 0.09852711585160459, 'num_leaves': 79, 'max_depth': 10, 'min_child_samples': 42, 'feature_fraction': 0.7742153372525646, 'bagging_fraction': 0.607951258667679, 'lambda_l1': 0.34467224752665926, 'lambda_l2': 0.14488411956942085}. Best is trial 27 with value: 0.9317170718554801.\n"
     ]
    },
    {
     "name": "stdout",
     "output_type": "stream",
     "text": [
      "Did not meet early stopping. Best iteration is:\n",
      "[81]\tvalid_0's auc: 0.922954\n",
      "Training until validation scores don't improve for 30 rounds\n"
     ]
    },
    {
     "name": "stderr",
     "output_type": "stream",
     "text": [
      "[I 2025-08-05 14:22:17,669] Trial 29 finished with value: 0.9199883161820878 and parameters: {'learning_rate': 0.08012413786920032, 'num_leaves': 94, 'max_depth': 6, 'min_child_samples': 36, 'feature_fraction': 0.7151459226735146, 'bagging_fraction': 0.7090716156101913, 'lambda_l1': 0.1374492203096681, 'lambda_l2': 0.05019123133910616}. Best is trial 27 with value: 0.9317170718554801.\n"
     ]
    },
    {
     "name": "stdout",
     "output_type": "stream",
     "text": [
      "Did not meet early stopping. Best iteration is:\n",
      "[75]\tvalid_0's auc: 0.919988\n",
      "Training until validation scores don't improve for 30 rounds\n"
     ]
    },
    {
     "name": "stderr",
     "output_type": "stream",
     "text": [
      "[I 2025-08-05 14:22:18,485] Trial 30 finished with value: 0.923111490585539 and parameters: {'learning_rate': 0.09066835934478744, 'num_leaves': 38, 'max_depth': 8, 'min_child_samples': 42, 'feature_fraction': 0.8342307556956768, 'bagging_fraction': 0.8032812560617772, 'lambda_l1': 0.23468895132751377, 'lambda_l2': 0.28360223013835956}. Best is trial 27 with value: 0.9317170718554801.\n"
     ]
    },
    {
     "name": "stdout",
     "output_type": "stream",
     "text": [
      "Early stopping, best iteration is:\n",
      "[66]\tvalid_0's auc: 0.923111\n",
      "Training until validation scores don't improve for 30 rounds\n"
     ]
    },
    {
     "name": "stderr",
     "output_type": "stream",
     "text": [
      "[I 2025-08-05 14:22:19,654] Trial 31 finished with value: 0.9332449557363052 and parameters: {'learning_rate': 0.08362229708490483, 'num_leaves': 90, 'max_depth': 10, 'min_child_samples': 32, 'feature_fraction': 0.7997378085064221, 'bagging_fraction': 0.6327732241936754, 'lambda_l1': 0.4389334708868549, 'lambda_l2': 0.0016538210621074856}. Best is trial 31 with value: 0.9332449557363052.\n"
     ]
    },
    {
     "name": "stdout",
     "output_type": "stream",
     "text": [
      "Did not meet early stopping. Best iteration is:\n",
      "[89]\tvalid_0's auc: 0.933245\n",
      "Training until validation scores don't improve for 30 rounds\n"
     ]
    },
    {
     "name": "stderr",
     "output_type": "stream",
     "text": [
      "[I 2025-08-05 14:22:20,854] Trial 32 finished with value: 0.9271558890936054 and parameters: {'learning_rate': 0.08511100026735044, 'num_leaves': 85, 'max_depth': 10, 'min_child_samples': 31, 'feature_fraction': 0.8069073759484809, 'bagging_fraction': 0.6236694106660752, 'lambda_l1': 0.4485111176683136, 'lambda_l2': 0.02592335173602167}. Best is trial 31 with value: 0.9332449557363052.\n"
     ]
    },
    {
     "name": "stdout",
     "output_type": "stream",
     "text": [
      "Did not meet early stopping. Best iteration is:\n",
      "[97]\tvalid_0's auc: 0.927156\n",
      "Training until validation scores don't improve for 30 rounds\n"
     ]
    },
    {
     "name": "stderr",
     "output_type": "stream",
     "text": [
      "[I 2025-08-05 14:22:21,798] Trial 33 finished with value: 0.9198535028984857 and parameters: {'learning_rate': 0.06613027543210409, 'num_leaves': 72, 'max_depth': 8, 'min_child_samples': 36, 'feature_fraction': 0.7975031937534127, 'bagging_fraction': 0.6718414211859571, 'lambda_l1': 0.3697460490571171, 'lambda_l2': 0.09161627527068522}. Best is trial 31 with value: 0.9332449557363052.\n"
     ]
    },
    {
     "name": "stdout",
     "output_type": "stream",
     "text": [
      "Did not meet early stopping. Best iteration is:\n",
      "[98]\tvalid_0's auc: 0.919854\n",
      "Training until validation scores don't improve for 30 rounds\n"
     ]
    },
    {
     "name": "stderr",
     "output_type": "stream",
     "text": [
      "[I 2025-08-05 14:22:22,771] Trial 34 finished with value: 0.9227744573765335 and parameters: {'learning_rate': 0.09405960317989565, 'num_leaves': 59, 'max_depth': 9, 'min_child_samples': 29, 'feature_fraction': 0.7371578864234352, 'bagging_fraction': 0.6417770677188424, 'lambda_l1': 0.3040567400213124, 'lambda_l2': 0.00807151980927398}. Best is trial 31 with value: 0.9332449557363052.\n"
     ]
    },
    {
     "name": "stdout",
     "output_type": "stream",
     "text": [
      "Early stopping, best iteration is:\n",
      "[61]\tvalid_0's auc: 0.922774\n",
      "Training until validation scores don't improve for 30 rounds\n"
     ]
    },
    {
     "name": "stderr",
     "output_type": "stream",
     "text": [
      "[I 2025-08-05 14:22:23,694] Trial 35 finished with value: 0.9237630881229497 and parameters: {'learning_rate': 0.062055213097040665, 'num_leaves': 68, 'max_depth': 9, 'min_child_samples': 40, 'feature_fraction': 0.7105539669248253, 'bagging_fraction': 0.6951766879769435, 'lambda_l1': 0.11193557125074932, 'lambda_l2': 0.19636962381292208}. Best is trial 31 with value: 0.9332449557363052.\n"
     ]
    },
    {
     "name": "stdout",
     "output_type": "stream",
     "text": [
      "Did not meet early stopping. Best iteration is:\n",
      "[80]\tvalid_0's auc: 0.923763\n",
      "Training until validation scores don't improve for 30 rounds\n"
     ]
    },
    {
     "name": "stderr",
     "output_type": "stream",
     "text": [
      "[I 2025-08-05 14:22:24,810] Trial 36 finished with value: 0.9298970925268503 and parameters: {'learning_rate': 0.07899109447684118, 'num_leaves': 99, 'max_depth': 11, 'min_child_samples': 36, 'feature_fraction': 0.7811418515968762, 'bagging_fraction': 0.7435182746660011, 'lambda_l1': 0.5469043338942223, 'lambda_l2': 0.32068262833337574}. Best is trial 31 with value: 0.9332449557363052.\n"
     ]
    },
    {
     "name": "stdout",
     "output_type": "stream",
     "text": [
      "Did not meet early stopping. Best iteration is:\n",
      "[94]\tvalid_0's auc: 0.929897\n",
      "Training until validation scores don't improve for 30 rounds\n"
     ]
    },
    {
     "name": "stderr",
     "output_type": "stream",
     "text": [
      "[I 2025-08-05 14:22:25,990] Trial 37 finished with value: 0.9288635240192333 and parameters: {'learning_rate': 0.07816453789811277, 'num_leaves': 110, 'max_depth': 11, 'min_child_samples': 36, 'feature_fraction': 0.7770240373855103, 'bagging_fraction': 0.7384841918630816, 'lambda_l1': 0.5626159496629122, 'lambda_l2': 0.31295648393289016}. Best is trial 31 with value: 0.9332449557363052.\n"
     ]
    },
    {
     "name": "stdout",
     "output_type": "stream",
     "text": [
      "Did not meet early stopping. Best iteration is:\n",
      "[87]\tvalid_0's auc: 0.928864\n",
      "Training until validation scores don't improve for 30 rounds\n"
     ]
    },
    {
     "name": "stderr",
     "output_type": "stream",
     "text": [
      "[I 2025-08-05 14:22:26,924] Trial 38 finished with value: 0.9264818226755944 and parameters: {'learning_rate': 0.07131311302032499, 'num_leaves': 102, 'max_depth': 11, 'min_child_samples': 44, 'feature_fraction': 0.807026891643314, 'bagging_fraction': 0.8351105327041572, 'lambda_l1': 0.6641075431435828, 'lambda_l2': 0.15686338731304308}. Best is trial 31 with value: 0.9332449557363052.\n"
     ]
    },
    {
     "name": "stdout",
     "output_type": "stream",
     "text": [
      "Early stopping, best iteration is:\n",
      "[50]\tvalid_0's auc: 0.926482\n",
      "Training until validation scores don't improve for 30 rounds\n"
     ]
    },
    {
     "name": "stderr",
     "output_type": "stream",
     "text": [
      "[I 2025-08-05 14:22:27,963] Trial 39 finished with value: 0.9259425695411855 and parameters: {'learning_rate': 0.05220234713225412, 'num_leaves': 97, 'max_depth': 10, 'min_child_samples': 39, 'feature_fraction': 0.7595597108263684, 'bagging_fraction': 0.890007513777245, 'lambda_l1': 0.4859174146341736, 'lambda_l2': 0.43800646615692695}. Best is trial 31 with value: 0.9332449557363052.\n"
     ]
    },
    {
     "name": "stdout",
     "output_type": "stream",
     "text": [
      "Did not meet early stopping. Best iteration is:\n",
      "[81]\tvalid_0's auc: 0.925943\n",
      "\n",
      "📍 Training for label: NR-Aromatase\n"
     ]
    },
    {
     "name": "stderr",
     "output_type": "stream",
     "text": [
      "[I 2025-08-05 14:22:34,035] A new study created in memory with name: no-name-74e7616f-6fd0-42e6-99fd-836833bd4f0c\n"
     ]
    },
    {
     "name": "stdout",
     "output_type": "stream",
     "text": [
      "Training until validation scores don't improve for 30 rounds\n"
     ]
    },
    {
     "name": "stderr",
     "output_type": "stream",
     "text": [
      "[I 2025-08-05 14:22:34,437] Trial 0 finished with value: 0.9221618357487924 and parameters: {'learning_rate': 0.04283576778950711, 'num_leaves': 61, 'max_depth': 6, 'min_child_samples': 34, 'feature_fraction': 0.7107122636488902, 'bagging_fraction': 0.757315603182081, 'lambda_l1': 0.31415043717940927, 'lambda_l2': 0.4078929721821515}. Best is trial 0 with value: 0.9221618357487924.\n"
     ]
    },
    {
     "name": "stdout",
     "output_type": "stream",
     "text": [
      "Early stopping, best iteration is:\n",
      "[30]\tvalid_0's auc: 0.922162\n",
      "Training until validation scores don't improve for 30 rounds\n"
     ]
    },
    {
     "name": "stderr",
     "output_type": "stream",
     "text": [
      "[I 2025-08-05 14:22:35,120] Trial 1 finished with value: 0.9030797101449275 and parameters: {'learning_rate': 0.09914883844708261, 'num_leaves': 95, 'max_depth': 11, 'min_child_samples': 33, 'feature_fraction': 0.674621378675241, 'bagging_fraction': 0.9269574799348452, 'lambda_l1': 0.9195804695836454, 'lambda_l2': 0.9395074167916754}. Best is trial 0 with value: 0.9221618357487924.\n"
     ]
    },
    {
     "name": "stdout",
     "output_type": "stream",
     "text": [
      "Early stopping, best iteration is:\n",
      "[51]\tvalid_0's auc: 0.90308\n",
      "Training until validation scores don't improve for 30 rounds\n"
     ]
    },
    {
     "name": "stderr",
     "output_type": "stream",
     "text": [
      "[I 2025-08-05 14:22:35,562] Trial 2 finished with value: 0.9235205314009661 and parameters: {'learning_rate': 0.060312350301843766, 'num_leaves': 43, 'max_depth': 6, 'min_child_samples': 10, 'feature_fraction': 0.9670662572485512, 'bagging_fraction': 0.8579694332883826, 'lambda_l1': 0.5407849880873862, 'lambda_l2': 0.7989088913441253}. Best is trial 2 with value: 0.9235205314009661.\n"
     ]
    },
    {
     "name": "stdout",
     "output_type": "stream",
     "text": [
      "Early stopping, best iteration is:\n",
      "[20]\tvalid_0's auc: 0.923521\n",
      "Training until validation scores don't improve for 30 rounds\n"
     ]
    },
    {
     "name": "stderr",
     "output_type": "stream",
     "text": [
      "[I 2025-08-05 14:22:36,285] Trial 3 finished with value: 0.9245169082125604 and parameters: {'learning_rate': 0.0900764157524956, 'num_leaves': 34, 'max_depth': 8, 'min_child_samples': 32, 'feature_fraction': 0.8363471935317628, 'bagging_fraction': 0.9599780152971661, 'lambda_l1': 0.33245352770294223, 'lambda_l2': 0.6100121101345535}. Best is trial 3 with value: 0.9245169082125604.\n"
     ]
    },
    {
     "name": "stdout",
     "output_type": "stream",
     "text": [
      "Did not meet early stopping. Best iteration is:\n",
      "[91]\tvalid_0's auc: 0.924517\n",
      "Training until validation scores don't improve for 30 rounds\n"
     ]
    },
    {
     "name": "stderr",
     "output_type": "stream",
     "text": [
      "[I 2025-08-05 14:22:36,880] Trial 4 finished with value: 0.9141304347826087 and parameters: {'learning_rate': 0.06882623693150362, 'num_leaves': 41, 'max_depth': 12, 'min_child_samples': 49, 'feature_fraction': 0.6152007044276043, 'bagging_fraction': 0.6403181733795575, 'lambda_l1': 0.38899261238089444, 'lambda_l2': 0.19582791229891372}. Best is trial 3 with value: 0.9245169082125604.\n"
     ]
    },
    {
     "name": "stdout",
     "output_type": "stream",
     "text": [
      "Early stopping, best iteration is:\n",
      "[46]\tvalid_0's auc: 0.91413\n",
      "Training until validation scores don't improve for 30 rounds\n"
     ]
    },
    {
     "name": "stderr",
     "output_type": "stream",
     "text": [
      "[I 2025-08-05 14:22:37,532] Trial 5 finished with value: 0.9156400966183574 and parameters: {'learning_rate': 0.0666699817254242, 'num_leaves': 41, 'max_depth': 9, 'min_child_samples': 47, 'feature_fraction': 0.9970425630322391, 'bagging_fraction': 0.9351342268549683, 'lambda_l1': 0.002625658751025828, 'lambda_l2': 0.8757290156658065}. Best is trial 3 with value: 0.9245169082125604.\n"
     ]
    },
    {
     "name": "stdout",
     "output_type": "stream",
     "text": [
      "Early stopping, best iteration is:\n",
      "[46]\tvalid_0's auc: 0.91564\n",
      "Training until validation scores don't improve for 30 rounds\n"
     ]
    },
    {
     "name": "stderr",
     "output_type": "stream",
     "text": [
      "[I 2025-08-05 14:22:38,100] Trial 6 finished with value: 0.9157004830917875 and parameters: {'learning_rate': 0.06584814681679642, 'num_leaves': 95, 'max_depth': 10, 'min_child_samples': 31, 'feature_fraction': 0.6705122150931004, 'bagging_fraction': 0.7875485875412471, 'lambda_l1': 0.21562356803583427, 'lambda_l2': 0.27214300175872397}. Best is trial 3 with value: 0.9245169082125604.\n"
     ]
    },
    {
     "name": "stdout",
     "output_type": "stream",
     "text": [
      "Early stopping, best iteration is:\n",
      "[30]\tvalid_0's auc: 0.9157\n",
      "Training until validation scores don't improve for 30 rounds\n"
     ]
    },
    {
     "name": "stderr",
     "output_type": "stream",
     "text": [
      "[I 2025-08-05 14:22:38,992] Trial 7 finished with value: 0.907548309178744 and parameters: {'learning_rate': 0.04445332777974206, 'num_leaves': 38, 'max_depth': 10, 'min_child_samples': 15, 'feature_fraction': 0.8753001473146984, 'bagging_fraction': 0.6131695376674415, 'lambda_l1': 0.6289670306067598, 'lambda_l2': 0.27116264806076695}. Best is trial 3 with value: 0.9245169082125604.\n"
     ]
    },
    {
     "name": "stdout",
     "output_type": "stream",
     "text": [
      "Did not meet early stopping. Best iteration is:\n",
      "[94]\tvalid_0's auc: 0.907548\n",
      "Training until validation scores don't improve for 30 rounds\n"
     ]
    },
    {
     "name": "stderr",
     "output_type": "stream",
     "text": [
      "[I 2025-08-05 14:22:39,648] Trial 8 finished with value: 0.9044685990338164 and parameters: {'learning_rate': 0.0762546949237995, 'num_leaves': 34, 'max_depth': 16, 'min_child_samples': 46, 'feature_fraction': 0.8544544307452664, 'bagging_fraction': 0.6817452586230487, 'lambda_l1': 0.4002495382028427, 'lambda_l2': 0.9528140310253336}. Best is trial 3 with value: 0.9245169082125604.\n"
     ]
    },
    {
     "name": "stdout",
     "output_type": "stream",
     "text": [
      "Early stopping, best iteration is:\n",
      "[48]\tvalid_0's auc: 0.904469\n",
      "Training until validation scores don't improve for 30 rounds\n"
     ]
    },
    {
     "name": "stderr",
     "output_type": "stream",
     "text": [
      "[I 2025-08-05 14:22:40,422] Trial 9 finished with value: 0.9184782608695652 and parameters: {'learning_rate': 0.014194492594670663, 'num_leaves': 59, 'max_depth': 14, 'min_child_samples': 27, 'feature_fraction': 0.9269024183642762, 'bagging_fraction': 0.64717777041505, 'lambda_l1': 0.2233013111353629, 'lambda_l2': 0.8354141499457541}. Best is trial 3 with value: 0.9245169082125604.\n"
     ]
    },
    {
     "name": "stdout",
     "output_type": "stream",
     "text": [
      "Early stopping, best iteration is:\n",
      "[58]\tvalid_0's auc: 0.918478\n",
      "Training until validation scores don't improve for 30 rounds\n"
     ]
    },
    {
     "name": "stderr",
     "output_type": "stream",
     "text": [
      "[I 2025-08-05 14:22:41,105] Trial 10 finished with value: 0.905012077294686 and parameters: {'learning_rate': 0.09564622952163053, 'num_leaves': 125, 'max_depth': 8, 'min_child_samples': 22, 'feature_fraction': 0.7632077977717515, 'bagging_fraction': 0.9733234976859139, 'lambda_l1': 0.7568491261399692, 'lambda_l2': 0.6238259565072531}. Best is trial 3 with value: 0.9245169082125604.\n"
     ]
    },
    {
     "name": "stdout",
     "output_type": "stream",
     "text": [
      "Early stopping, best iteration is:\n",
      "[46]\tvalid_0's auc: 0.905012\n",
      "Training until validation scores don't improve for 30 rounds\n",
      "Early stopping, best iteration is:\n",
      "[12]\tvalid_0's auc: 0.918357\n"
     ]
    },
    {
     "name": "stderr",
     "output_type": "stream",
     "text": [
      "[I 2025-08-05 14:22:41,510] Trial 11 finished with value: 0.9183574879227053 and parameters: {'learning_rate': 0.08116297553675862, 'num_leaves': 62, 'max_depth': 6, 'min_child_samples': 11, 'feature_fraction': 0.9982241642437804, 'bagging_fraction': 0.8679032631249077, 'lambda_l1': 0.562836914591073, 'lambda_l2': 0.6292372393218792}. Best is trial 3 with value: 0.9245169082125604.\n"
     ]
    },
    {
     "name": "stdout",
     "output_type": "stream",
     "text": [
      "Training until validation scores don't improve for 30 rounds\n"
     ]
    },
    {
     "name": "stderr",
     "output_type": "stream",
     "text": [
      "[I 2025-08-05 14:22:42,106] Trial 12 finished with value: 0.9327294685990338 and parameters: {'learning_rate': 0.02956957901445719, 'num_leaves': 76, 'max_depth': 7, 'min_child_samples': 41, 'feature_fraction': 0.8128307122938504, 'bagging_fraction': 0.8513166267996809, 'lambda_l1': 0.6570369128106794, 'lambda_l2': 0.6489854119916345}. Best is trial 12 with value: 0.9327294685990338.\n"
     ]
    },
    {
     "name": "stdout",
     "output_type": "stream",
     "text": [
      "Early stopping, best iteration is:\n",
      "[59]\tvalid_0's auc: 0.932729\n",
      "Training until validation scores don't improve for 30 rounds\n"
     ]
    },
    {
     "name": "stderr",
     "output_type": "stream",
     "text": [
      "[I 2025-08-05 14:22:42,683] Trial 13 finished with value: 0.9271739130434783 and parameters: {'learning_rate': 0.022698582013583296, 'num_leaves': 81, 'max_depth': 8, 'min_child_samples': 40, 'feature_fraction': 0.8021144372847528, 'bagging_fraction': 0.9976288055043979, 'lambda_l1': 0.7659942472999787, 'lambda_l2': 0.5740160075957776}. Best is trial 12 with value: 0.9327294685990338.\n"
     ]
    },
    {
     "name": "stdout",
     "output_type": "stream",
     "text": [
      "Early stopping, best iteration is:\n",
      "[52]\tvalid_0's auc: 0.927174\n",
      "Training until validation scores don't improve for 30 rounds\n"
     ]
    },
    {
     "name": "stderr",
     "output_type": "stream",
     "text": [
      "[I 2025-08-05 14:22:43,361] Trial 14 finished with value: 0.9258454106280194 and parameters: {'learning_rate': 0.01708299568865576, 'num_leaves': 82, 'max_depth': 8, 'min_child_samples': 40, 'feature_fraction': 0.7784984573339049, 'bagging_fraction': 0.865909281608027, 'lambda_l1': 0.7780331071016573, 'lambda_l2': 0.03785778678457952}. Best is trial 12 with value: 0.9327294685990338.\n"
     ]
    },
    {
     "name": "stdout",
     "output_type": "stream",
     "text": [
      "Early stopping, best iteration is:\n",
      "[60]\tvalid_0's auc: 0.925845\n",
      "Training until validation scores don't improve for 30 rounds\n"
     ]
    },
    {
     "name": "stderr",
     "output_type": "stream",
     "text": [
      "[I 2025-08-05 14:22:43,941] Trial 15 finished with value: 0.9300724637681159 and parameters: {'learning_rate': 0.028662408696426944, 'num_leaves': 80, 'max_depth': 7, 'min_child_samples': 39, 'feature_fraction': 0.799957166221037, 'bagging_fraction': 0.9994814337006882, 'lambda_l1': 0.8977843823992246, 'lambda_l2': 0.4859993021908764}. Best is trial 12 with value: 0.9327294685990338.\n"
     ]
    },
    {
     "name": "stdout",
     "output_type": "stream",
     "text": [
      "Early stopping, best iteration is:\n",
      "[58]\tvalid_0's auc: 0.930072\n",
      "Training until validation scores don't improve for 30 rounds\n"
     ]
    },
    {
     "name": "stderr",
     "output_type": "stream",
     "text": [
      "[I 2025-08-05 14:22:44,522] Trial 16 finished with value: 0.9201086956521739 and parameters: {'learning_rate': 0.03190342244840251, 'num_leaves': 110, 'max_depth': 13, 'min_child_samples': 40, 'feature_fraction': 0.9009034906185761, 'bagging_fraction': 0.733079903757534, 'lambda_l1': 0.9703597070481239, 'lambda_l2': 0.40516479174624875}. Best is trial 12 with value: 0.9327294685990338.\n"
     ]
    },
    {
     "name": "stdout",
     "output_type": "stream",
     "text": [
      "Early stopping, best iteration is:\n",
      "[31]\tvalid_0's auc: 0.920109\n",
      "Training until validation scores don't improve for 30 rounds\n"
     ]
    },
    {
     "name": "stderr",
     "output_type": "stream",
     "text": [
      "[I 2025-08-05 14:22:45,120] Trial 17 finished with value: 0.9248188405797101 and parameters: {'learning_rate': 0.030350957299070575, 'num_leaves': 70, 'max_depth': 7, 'min_child_samples': 43, 'feature_fraction': 0.7390683749162151, 'bagging_fraction': 0.8941235857290276, 'lambda_l1': 0.8649245696844806, 'lambda_l2': 0.7355092289614301}. Best is trial 12 with value: 0.9327294685990338.\n"
     ]
    },
    {
     "name": "stdout",
     "output_type": "stream",
     "text": [
      "Did not meet early stopping. Best iteration is:\n",
      "[100]\tvalid_0's auc: 0.924819\n",
      "Training until validation scores don't improve for 30 rounds\n"
     ]
    },
    {
     "name": "stderr",
     "output_type": "stream",
     "text": [
      "[I 2025-08-05 14:22:45,622] Trial 18 finished with value: 0.9207729468599034 and parameters: {'learning_rate': 0.046389551001814015, 'num_leaves': 95, 'max_depth': 10, 'min_child_samples': 37, 'feature_fraction': 0.820539733251908, 'bagging_fraction': 0.812553426992375, 'lambda_l1': 0.6526862687805153, 'lambda_l2': 0.4503436061133398}. Best is trial 12 with value: 0.9327294685990338.\n"
     ]
    },
    {
     "name": "stdout",
     "output_type": "stream",
     "text": [
      "Early stopping, best iteration is:\n",
      "[21]\tvalid_0's auc: 0.920773\n",
      "Training until validation scores don't improve for 30 rounds\n"
     ]
    },
    {
     "name": "stderr",
     "output_type": "stream",
     "text": [
      "[I 2025-08-05 14:22:46,112] Trial 19 finished with value: 0.9160628019323671 and parameters: {'learning_rate': 0.03295713503976422, 'num_leaves': 73, 'max_depth': 7, 'min_child_samples': 26, 'feature_fraction': 0.7282077390826888, 'bagging_fraction': 0.8343696836054637, 'lambda_l1': 0.8451989590136331, 'lambda_l2': 0.7102576043707055}. Best is trial 12 with value: 0.9327294685990338.\n"
     ]
    },
    {
     "name": "stdout",
     "output_type": "stream",
     "text": [
      "Early stopping, best iteration is:\n",
      "[37]\tvalid_0's auc: 0.916063\n",
      "Training until validation scores don't improve for 30 rounds\n"
     ]
    },
    {
     "name": "stderr",
     "output_type": "stream",
     "text": [
      "[I 2025-08-05 14:22:46,708] Trial 20 finished with value: 0.9253019323671499 and parameters: {'learning_rate': 0.024598240189143077, 'num_leaves': 108, 'max_depth': 16, 'min_child_samples': 44, 'feature_fraction': 0.7939087331855884, 'bagging_fraction': 0.721782388084277, 'lambda_l1': 0.6734677431130681, 'lambda_l2': 0.507369070274013}. Best is trial 12 with value: 0.9327294685990338.\n"
     ]
    },
    {
     "name": "stdout",
     "output_type": "stream",
     "text": [
      "Early stopping, best iteration is:\n",
      "[43]\tvalid_0's auc: 0.925302\n",
      "Training until validation scores don't improve for 30 rounds\n"
     ]
    },
    {
     "name": "stderr",
     "output_type": "stream",
     "text": [
      "[I 2025-08-05 14:22:47,314] Trial 21 finished with value: 0.9329710144927537 and parameters: {'learning_rate': 0.021517991203273565, 'num_leaves': 86, 'max_depth': 7, 'min_child_samples': 38, 'feature_fraction': 0.8094274533370018, 'bagging_fraction': 0.9909419309112858, 'lambda_l1': 0.815965695017307, 'lambda_l2': 0.5493533595024003}. Best is trial 21 with value: 0.9329710144927537.\n"
     ]
    },
    {
     "name": "stdout",
     "output_type": "stream",
     "text": [
      "Did not meet early stopping. Best iteration is:\n",
      "[72]\tvalid_0's auc: 0.932971\n",
      "Training until validation scores don't improve for 30 rounds\n"
     ]
    },
    {
     "name": "stderr",
     "output_type": "stream",
     "text": [
      "[I 2025-08-05 14:22:47,961] Trial 22 finished with value: 0.9254830917874396 and parameters: {'learning_rate': 0.010256563963925113, 'num_leaves': 86, 'max_depth': 7, 'min_child_samples': 36, 'feature_fraction': 0.878100141440256, 'bagging_fraction': 0.9146383753913159, 'lambda_l1': 0.9658961128394419, 'lambda_l2': 0.5134948238748211}. Best is trial 21 with value: 0.9329710144927537.\n"
     ]
    },
    {
     "name": "stdout",
     "output_type": "stream",
     "text": [
      "Did not meet early stopping. Best iteration is:\n",
      "[84]\tvalid_0's auc: 0.925483\n",
      "Training until validation scores don't improve for 30 rounds\n"
     ]
    },
    {
     "name": "stderr",
     "output_type": "stream",
     "text": [
      "[I 2025-08-05 14:22:48,513] Trial 23 finished with value: 0.9184782608695652 and parameters: {'learning_rate': 0.037909889443833264, 'num_leaves': 70, 'max_depth': 9, 'min_child_samples': 38, 'feature_fraction': 0.8329318192535387, 'bagging_fraction': 0.9990231748783668, 'lambda_l1': 0.8489387254267222, 'lambda_l2': 0.32430705468281373}. Best is trial 21 with value: 0.9329710144927537.\n"
     ]
    },
    {
     "name": "stdout",
     "output_type": "stream",
     "text": [
      "Early stopping, best iteration is:\n",
      "[38]\tvalid_0's auc: 0.918478\n",
      "Training until validation scores don't improve for 30 rounds\n"
     ]
    },
    {
     "name": "stderr",
     "output_type": "stream",
     "text": [
      "[I 2025-08-05 14:22:48,970] Trial 24 finished with value: 0.9250603864734299 and parameters: {'learning_rate': 0.05266656632092558, 'num_leaves': 88, 'max_depth': 7, 'min_child_samples': 43, 'feature_fraction': 0.7702487919173036, 'bagging_fraction': 0.9506111459633096, 'lambda_l1': 0.7162902640618892, 'lambda_l2': 0.688578577575254}. Best is trial 21 with value: 0.9329710144927537.\n"
     ]
    },
    {
     "name": "stdout",
     "output_type": "stream",
     "text": [
      "Early stopping, best iteration is:\n",
      "[29]\tvalid_0's auc: 0.92506\n",
      "Training until validation scores don't improve for 30 rounds\n"
     ]
    },
    {
     "name": "stderr",
     "output_type": "stream",
     "text": [
      "[I 2025-08-05 14:22:49,710] Trial 25 finished with value: 0.9242753623188406 and parameters: {'learning_rate': 0.023138911171140655, 'num_leaves': 107, 'max_depth': 9, 'min_child_samples': 50, 'feature_fraction': 0.9150184534910724, 'bagging_fraction': 0.8922205976111479, 'lambda_l1': 0.5929212360643281, 'lambda_l2': 0.5652223756339265}. Best is trial 21 with value: 0.9329710144927537.\n"
     ]
    },
    {
     "name": "stdout",
     "output_type": "stream",
     "text": [
      "Early stopping, best iteration is:\n",
      "[67]\tvalid_0's auc: 0.924275\n",
      "Training until validation scores don't improve for 30 rounds\n"
     ]
    },
    {
     "name": "stderr",
     "output_type": "stream",
     "text": [
      "[I 2025-08-05 14:22:50,193] Trial 26 finished with value: 0.9285024154589372 and parameters: {'learning_rate': 0.01949994759992224, 'num_leaves': 55, 'max_depth': 6, 'min_child_samples': 28, 'feature_fraction': 0.8042381092661832, 'bagging_fraction': 0.9762098931626304, 'lambda_l1': 0.9997576870580429, 'lambda_l2': 0.36751704279060116}. Best is trial 21 with value: 0.9329710144927537.\n"
     ]
    },
    {
     "name": "stdout",
     "output_type": "stream",
     "text": [
      "Early stopping, best iteration is:\n",
      "[43]\tvalid_0's auc: 0.928502\n",
      "Training until validation scores don't improve for 30 rounds\n"
     ]
    },
    {
     "name": "stderr",
     "output_type": "stream",
     "text": [
      "[I 2025-08-05 14:22:50,729] Trial 27 finished with value: 0.9239130434782609 and parameters: {'learning_rate': 0.029196734409995366, 'num_leaves': 74, 'max_depth': 7, 'min_child_samples': 35, 'feature_fraction': 0.8575866821507863, 'bagging_fraction': 0.8989207783647064, 'lambda_l1': 0.8969781768358411, 'lambda_l2': 0.7610401658673959}. Best is trial 21 with value: 0.9329710144927537.\n"
     ]
    },
    {
     "name": "stdout",
     "output_type": "stream",
     "text": [
      "Early stopping, best iteration is:\n",
      "[48]\tvalid_0's auc: 0.923913\n",
      "Training until validation scores don't improve for 30 rounds\n"
     ]
    },
    {
     "name": "stderr",
     "output_type": "stream",
     "text": [
      "[I 2025-08-05 14:22:51,281] Trial 28 finished with value: 0.9195652173913043 and parameters: {'learning_rate': 0.05111882631986907, 'num_leaves': 51, 'max_depth': 11, 'min_child_samples': 40, 'feature_fraction': 0.7497319023530842, 'bagging_fraction': 0.7943578725052199, 'lambda_l1': 0.47459481857299574, 'lambda_l2': 0.47102403545740046}. Best is trial 21 with value: 0.9329710144927537.\n"
     ]
    },
    {
     "name": "stdout",
     "output_type": "stream",
     "text": [
      "Early stopping, best iteration is:\n",
      "[29]\tvalid_0's auc: 0.919565\n",
      "Training until validation scores don't improve for 30 rounds\n"
     ]
    },
    {
     "name": "stderr",
     "output_type": "stream",
     "text": [
      "[I 2025-08-05 14:22:51,817] Trial 29 finished with value: 0.9289251207729469 and parameters: {'learning_rate': 0.03671174071299091, 'num_leaves': 64, 'max_depth': 6, 'min_child_samples': 34, 'feature_fraction': 0.6958261521148565, 'bagging_fraction': 0.7722795510818546, 'lambda_l1': 0.8050729378059773, 'lambda_l2': 0.15276145706843736}. Best is trial 21 with value: 0.9329710144927537.\n"
     ]
    },
    {
     "name": "stdout",
     "output_type": "stream",
     "text": [
      "Did not meet early stopping. Best iteration is:\n",
      "[89]\tvalid_0's auc: 0.928925\n",
      "Training until validation scores don't improve for 30 rounds\n"
     ]
    },
    {
     "name": "stderr",
     "output_type": "stream",
     "text": [
      "[I 2025-08-05 14:22:52,392] Trial 30 finished with value: 0.926147342995169 and parameters: {'learning_rate': 0.03946941573303914, 'num_leaves': 76, 'max_depth': 9, 'min_child_samples': 44, 'feature_fraction': 0.7015929264331124, 'bagging_fraction': 0.9610636407602914, 'lambda_l1': 0.7026575436111949, 'lambda_l2': 0.6700500735602576}. Best is trial 21 with value: 0.9329710144927537.\n"
     ]
    },
    {
     "name": "stdout",
     "output_type": "stream",
     "text": [
      "Early stopping, best iteration is:\n",
      "[49]\tvalid_0's auc: 0.926147\n",
      "Training until validation scores don't improve for 30 rounds\n"
     ]
    },
    {
     "name": "stderr",
     "output_type": "stream",
     "text": [
      "[I 2025-08-05 14:22:52,858] Trial 31 finished with value: 0.9254227053140097 and parameters: {'learning_rate': 0.036281024191015955, 'num_leaves': 65, 'max_depth': 6, 'min_child_samples': 35, 'feature_fraction': 0.6214776067370196, 'bagging_fraction': 0.7658305619996684, 'lambda_l1': 0.8023921094967076, 'lambda_l2': 0.013474673065714954}. Best is trial 21 with value: 0.9329710144927537.\n"
     ]
    },
    {
     "name": "stdout",
     "output_type": "stream",
     "text": [
      "Early stopping, best iteration is:\n",
      "[47]\tvalid_0's auc: 0.925423\n",
      "Training until validation scores don't improve for 30 rounds\n"
     ]
    },
    {
     "name": "stderr",
     "output_type": "stream",
     "text": [
      "[I 2025-08-05 14:22:53,378] Trial 32 finished with value: 0.9242753623188406 and parameters: {'learning_rate': 0.026999375949409973, 'num_leaves': 90, 'max_depth': 6, 'min_child_samples': 33, 'feature_fraction': 0.7093038825577253, 'bagging_fraction': 0.7442519585953336, 'lambda_l1': 0.9152685552400679, 'lambda_l2': 0.15677398880845772}. Best is trial 21 with value: 0.9329710144927537.\n"
     ]
    },
    {
     "name": "stdout",
     "output_type": "stream",
     "text": [
      "Early stopping, best iteration is:\n",
      "[51]\tvalid_0's auc: 0.924275\n",
      "Training until validation scores don't improve for 30 rounds\n"
     ]
    },
    {
     "name": "stderr",
     "output_type": "stream",
     "text": [
      "[I 2025-08-05 14:22:53,827] Trial 33 finished with value: 0.9196859903381642 and parameters: {'learning_rate': 0.04251101729603279, 'num_leaves': 49, 'max_depth': 7, 'min_child_samples': 37, 'feature_fraction': 0.6816921797159281, 'bagging_fraction': 0.7009524245208159, 'lambda_l1': 0.815784804542786, 'lambda_l2': 0.09184579260388985}. Best is trial 21 with value: 0.9329710144927537.\n"
     ]
    },
    {
     "name": "stdout",
     "output_type": "stream",
     "text": [
      "Early stopping, best iteration is:\n",
      "[30]\tvalid_0's auc: 0.919686\n",
      "Training until validation scores don't improve for 30 rounds\n"
     ]
    },
    {
     "name": "stderr",
     "output_type": "stream",
     "text": [
      "[I 2025-08-05 14:22:54,377] Trial 34 finished with value: 0.9261473429951691 and parameters: {'learning_rate': 0.010146630834119963, 'num_leaves': 66, 'max_depth': 8, 'min_child_samples': 23, 'feature_fraction': 0.6444275463394666, 'bagging_fraction': 0.833791225648358, 'lambda_l1': 0.7214184612409256, 'lambda_l2': 0.5221600697183897}. Best is trial 21 with value: 0.9329710144927537.\n"
     ]
    },
    {
     "name": "stdout",
     "output_type": "stream",
     "text": [
      "Early stopping, best iteration is:\n",
      "[61]\tvalid_0's auc: 0.926147\n",
      "Training until validation scores don't improve for 30 rounds\n",
      "Early stopping, best iteration is:\n",
      "[20]\tvalid_0's auc: 0.925906\n"
     ]
    },
    {
     "name": "stderr",
     "output_type": "stream",
     "text": [
      "[I 2025-08-05 14:22:54,785] Trial 35 finished with value: 0.9259057971014493 and parameters: {'learning_rate': 0.03508369037343568, 'num_leaves': 101, 'max_depth': 6, 'min_child_samples': 30, 'feature_fraction': 0.8198028953067418, 'bagging_fraction': 0.7682581230254257, 'lambda_l1': 0.4879584818579335, 'lambda_l2': 0.19257515433216985}. Best is trial 21 with value: 0.9329710144927537.\n"
     ]
    },
    {
     "name": "stdout",
     "output_type": "stream",
     "text": [
      "Training until validation scores don't improve for 30 rounds\n"
     ]
    },
    {
     "name": "stderr",
     "output_type": "stream",
     "text": [
      "[I 2025-08-05 14:22:55,408] Trial 36 finished with value: 0.926268115942029 and parameters: {'learning_rate': 0.019078552408847663, 'num_leaves': 78, 'max_depth': 8, 'min_child_samples': 34, 'feature_fraction': 0.784597121152782, 'bagging_fraction': 0.9354959526810475, 'lambda_l1': 0.9249397401849883, 'lambda_l2': 0.9987950541890732}. Best is trial 21 with value: 0.9329710144927537.\n"
     ]
    },
    {
     "name": "stdout",
     "output_type": "stream",
     "text": [
      "Did not meet early stopping. Best iteration is:\n",
      "[81]\tvalid_0's auc: 0.926268\n",
      "Training until validation scores don't improve for 30 rounds\n"
     ]
    },
    {
     "name": "stderr",
     "output_type": "stream",
     "text": [
      "[I 2025-08-05 14:22:55,914] Trial 37 finished with value: 0.9207125603864734 and parameters: {'learning_rate': 0.061079696402810454, 'num_leaves': 92, 'max_depth': 6, 'min_child_samples': 42, 'feature_fraction': 0.7250188348251447, 'bagging_fraction': 0.8298863912481034, 'lambda_l1': 0.6288635780191673, 'lambda_l2': 0.7936358954276119}. Best is trial 21 with value: 0.9329710144927537.\n"
     ]
    },
    {
     "name": "stdout",
     "output_type": "stream",
     "text": [
      "Early stopping, best iteration is:\n",
      "[57]\tvalid_0's auc: 0.920713\n",
      "Training until validation scores don't improve for 30 rounds\n"
     ]
    },
    {
     "name": "stderr",
     "output_type": "stream",
     "text": [
      "[I 2025-08-05 14:22:56,599] Trial 38 finished with value: 0.9196859903381642 and parameters: {'learning_rate': 0.048454296972185104, 'num_leaves': 85, 'max_depth': 7, 'min_child_samples': 47, 'feature_fraction': 0.9456971608061182, 'bagging_fraction': 0.9891967974263944, 'lambda_l1': 0.005789218823072484, 'lambda_l2': 0.4263675938515049}. Best is trial 21 with value: 0.9329710144927537.\n"
     ]
    },
    {
     "name": "stdout",
     "output_type": "stream",
     "text": [
      "Early stopping, best iteration is:\n",
      "[67]\tvalid_0's auc: 0.919686\n",
      "Training until validation scores don't improve for 30 rounds\n"
     ]
    },
    {
     "name": "stderr",
     "output_type": "stream",
     "text": [
      "[I 2025-08-05 14:22:57,155] Trial 39 finished with value: 0.9196256038647344 and parameters: {'learning_rate': 0.05773467495380043, 'num_leaves': 100, 'max_depth': 10, 'min_child_samples': 38, 'feature_fraction': 0.8478830818841466, 'bagging_fraction': 0.9198265929413111, 'lambda_l1': 0.8888858239727697, 'lambda_l2': 0.2614831592741169}. Best is trial 21 with value: 0.9329710144927537.\n"
     ]
    },
    {
     "name": "stdout",
     "output_type": "stream",
     "text": [
      "Early stopping, best iteration is:\n",
      "[27]\tvalid_0's auc: 0.919626\n",
      "\n",
      "📍 Training for label: NR-ER\n"
     ]
    },
    {
     "name": "stderr",
     "output_type": "stream",
     "text": [
      "[I 2025-08-05 14:23:05,487] A new study created in memory with name: no-name-0c522e83-caa0-43de-90fa-ead63d5dad3d\n"
     ]
    },
    {
     "name": "stdout",
     "output_type": "stream",
     "text": [
      "Training until validation scores don't improve for 30 rounds\n"
     ]
    },
    {
     "name": "stderr",
     "output_type": "stream",
     "text": [
      "[I 2025-08-05 14:23:06,293] Trial 0 finished with value: 0.7712259728082512 and parameters: {'learning_rate': 0.08874591113253939, 'num_leaves': 119, 'max_depth': 12, 'min_child_samples': 23, 'feature_fraction': 0.7076794227542724, 'bagging_fraction': 0.8937672645392656, 'lambda_l1': 0.2933779075421199, 'lambda_l2': 0.08410959206458535}. Best is trial 0 with value: 0.7712259728082512.\n"
     ]
    },
    {
     "name": "stdout",
     "output_type": "stream",
     "text": [
      "Early stopping, best iteration is:\n",
      "[15]\tvalid_0's auc: 0.771226\n",
      "Training until validation scores don't improve for 30 rounds\n"
     ]
    },
    {
     "name": "stderr",
     "output_type": "stream",
     "text": [
      "[I 2025-08-05 14:23:06,792] Trial 1 finished with value: 0.8063877168307548 and parameters: {'learning_rate': 0.07745929675911233, 'num_leaves': 32, 'max_depth': 12, 'min_child_samples': 33, 'feature_fraction': 0.9499361971495757, 'bagging_fraction': 0.6534751230860268, 'lambda_l1': 0.6211552680176148, 'lambda_l2': 0.7207372635465531}. Best is trial 1 with value: 0.8063877168307548.\n"
     ]
    },
    {
     "name": "stdout",
     "output_type": "stream",
     "text": [
      "Early stopping, best iteration is:\n",
      "[8]\tvalid_0's auc: 0.806388\n",
      "Training until validation scores don't improve for 30 rounds\n"
     ]
    },
    {
     "name": "stderr",
     "output_type": "stream",
     "text": [
      "[I 2025-08-05 14:23:07,544] Trial 2 finished with value: 0.7761486169714018 and parameters: {'learning_rate': 0.013564865215724593, 'num_leaves': 41, 'max_depth': 10, 'min_child_samples': 18, 'feature_fraction': 0.9511404269858958, 'bagging_fraction': 0.7812730957238915, 'lambda_l1': 0.3569675298853755, 'lambda_l2': 0.501568101181323}. Best is trial 1 with value: 0.8063877168307548.\n"
     ]
    },
    {
     "name": "stdout",
     "output_type": "stream",
     "text": [
      "Early stopping, best iteration is:\n",
      "[23]\tvalid_0's auc: 0.776149\n",
      "Training until validation scores don't improve for 30 rounds\n"
     ]
    },
    {
     "name": "stderr",
     "output_type": "stream",
     "text": [
      "[I 2025-08-05 14:23:08,237] Trial 3 finished with value: 0.7723511486169714 and parameters: {'learning_rate': 0.07744004603637655, 'num_leaves': 40, 'max_depth': 8, 'min_child_samples': 33, 'feature_fraction': 0.8476815910039137, 'bagging_fraction': 0.9956487900296042, 'lambda_l1': 0.12473504371303124, 'lambda_l2': 0.054870756920264996}. Best is trial 1 with value: 0.8063877168307548.\n"
     ]
    },
    {
     "name": "stdout",
     "output_type": "stream",
     "text": [
      "Early stopping, best iteration is:\n",
      "[50]\tvalid_0's auc: 0.772351\n",
      "Training until validation scores don't improve for 30 rounds\n"
     ]
    },
    {
     "name": "stderr",
     "output_type": "stream",
     "text": [
      "[I 2025-08-05 14:23:08,747] Trial 4 finished with value: 0.7771800281293952 and parameters: {'learning_rate': 0.0338225900545898, 'num_leaves': 110, 'max_depth': 6, 'min_child_samples': 23, 'feature_fraction': 0.877483012558848, 'bagging_fraction': 0.8814937755326961, 'lambda_l1': 0.6238341228632088, 'lambda_l2': 0.13430898741257702}. Best is trial 1 with value: 0.8063877168307548.\n"
     ]
    },
    {
     "name": "stdout",
     "output_type": "stream",
     "text": [
      "Early stopping, best iteration is:\n",
      "[18]\tvalid_0's auc: 0.77718\n",
      "Training until validation scores don't improve for 30 rounds\n"
     ]
    },
    {
     "name": "stderr",
     "output_type": "stream",
     "text": [
      "[I 2025-08-05 14:23:09,321] Trial 5 finished with value: 0.7745780590717299 and parameters: {'learning_rate': 0.049742159362703826, 'num_leaves': 128, 'max_depth': 8, 'min_child_samples': 41, 'feature_fraction': 0.7255106532254566, 'bagging_fraction': 0.9253290275482259, 'lambda_l1': 0.12379821757241272, 'lambda_l2': 0.2152673921302325}. Best is trial 1 with value: 0.8063877168307548.\n"
     ]
    },
    {
     "name": "stdout",
     "output_type": "stream",
     "text": [
      "Early stopping, best iteration is:\n",
      "[16]\tvalid_0's auc: 0.774578\n",
      "Training until validation scores don't improve for 30 rounds\n"
     ]
    },
    {
     "name": "stderr",
     "output_type": "stream",
     "text": [
      "[I 2025-08-05 14:23:10,168] Trial 6 finished with value: 0.7717416783872479 and parameters: {'learning_rate': 0.029536144217796573, 'num_leaves': 125, 'max_depth': 8, 'min_child_samples': 41, 'feature_fraction': 0.9977311031327986, 'bagging_fraction': 0.9883244698547269, 'lambda_l1': 0.1002202583321481, 'lambda_l2': 0.319422919000108}. Best is trial 1 with value: 0.8063877168307548.\n"
     ]
    },
    {
     "name": "stdout",
     "output_type": "stream",
     "text": [
      "Early stopping, best iteration is:\n",
      "[35]\tvalid_0's auc: 0.771742\n",
      "Training until validation scores don't improve for 30 rounds\n"
     ]
    },
    {
     "name": "stderr",
     "output_type": "stream",
     "text": [
      "[I 2025-08-05 14:23:10,954] Trial 7 finished with value: 0.7687646507266761 and parameters: {'learning_rate': 0.08728854801275564, 'num_leaves': 109, 'max_depth': 9, 'min_child_samples': 30, 'feature_fraction': 0.9540734820982077, 'bagging_fraction': 0.8361251390358465, 'lambda_l1': 0.09043858606339661, 'lambda_l2': 0.2864826980026104}. Best is trial 1 with value: 0.8063877168307548.\n"
     ]
    },
    {
     "name": "stdout",
     "output_type": "stream",
     "text": [
      "Early stopping, best iteration is:\n",
      "[26]\tvalid_0's auc: 0.768765\n",
      "Training until validation scores don't improve for 30 rounds\n"
     ]
    },
    {
     "name": "stderr",
     "output_type": "stream",
     "text": [
      "[I 2025-08-05 14:23:11,906] Trial 8 finished with value: 0.7531059540553211 and parameters: {'learning_rate': 0.0427976253668664, 'num_leaves': 80, 'max_depth': 11, 'min_child_samples': 26, 'feature_fraction': 0.9547875515305297, 'bagging_fraction': 0.8703105199170431, 'lambda_l1': 0.9649237851730716, 'lambda_l2': 0.441021303645162}. Best is trial 1 with value: 0.8063877168307548.\n"
     ]
    },
    {
     "name": "stdout",
     "output_type": "stream",
     "text": [
      "Early stopping, best iteration is:\n",
      "[30]\tvalid_0's auc: 0.753106\n",
      "Training until validation scores don't improve for 30 rounds\n"
     ]
    },
    {
     "name": "stderr",
     "output_type": "stream",
     "text": [
      "[I 2025-08-05 14:23:12,561] Trial 9 finished with value: 0.7645804031879982 and parameters: {'learning_rate': 0.09670749454011163, 'num_leaves': 49, 'max_depth': 12, 'min_child_samples': 15, 'feature_fraction': 0.8652792697718856, 'bagging_fraction': 0.8124667219014727, 'lambda_l1': 0.7613095148988438, 'lambda_l2': 0.5072994785973892}. Best is trial 1 with value: 0.8063877168307548.\n"
     ]
    },
    {
     "name": "stdout",
     "output_type": "stream",
     "text": [
      "Early stopping, best iteration is:\n",
      "[9]\tvalid_0's auc: 0.76458\n",
      "Training until validation scores don't improve for 30 rounds\n"
     ]
    },
    {
     "name": "stderr",
     "output_type": "stream",
     "text": [
      "[I 2025-08-05 14:23:13,409] Trial 10 finished with value: 0.7756563525550867 and parameters: {'learning_rate': 0.06258536824912458, 'num_leaves': 66, 'max_depth': 16, 'min_child_samples': 50, 'feature_fraction': 0.6334405910013401, 'bagging_fraction': 0.6278863814789638, 'lambda_l1': 0.5940342981875635, 'lambda_l2': 0.8327336426136189}. Best is trial 1 with value: 0.8063877168307548.\n"
     ]
    },
    {
     "name": "stdout",
     "output_type": "stream",
     "text": [
      "Early stopping, best iteration is:\n",
      "[51]\tvalid_0's auc: 0.775656\n",
      "Training until validation scores don't improve for 30 rounds\n",
      "Early stopping, best iteration is:\n",
      "[8]\tvalid_0's auc: 0.778973\n"
     ]
    },
    {
     "name": "stderr",
     "output_type": "stream",
     "text": [
      "[I 2025-08-05 14:23:13,846] Trial 11 finished with value: 0.7789732770745429 and parameters: {'learning_rate': 0.06666372371505495, 'num_leaves': 97, 'max_depth': 6, 'min_child_samples': 34, 'feature_fraction': 0.8728551850423729, 'bagging_fraction': 0.7187557917692616, 'lambda_l1': 0.621034020061002, 'lambda_l2': 0.788783055301187}. Best is trial 1 with value: 0.8063877168307548.\n"
     ]
    },
    {
     "name": "stdout",
     "output_type": "stream",
     "text": [
      "Training until validation scores don't improve for 30 rounds\n"
     ]
    },
    {
     "name": "stderr",
     "output_type": "stream",
     "text": [
      "[I 2025-08-05 14:23:15,096] Trial 12 finished with value: 0.7648499765588372 and parameters: {'learning_rate': 0.06476196455897114, 'num_leaves': 92, 'max_depth': 14, 'min_child_samples': 36, 'feature_fraction': 0.7685330086760602, 'bagging_fraction': 0.6613950751982103, 'lambda_l1': 0.7814274519039762, 'lambda_l2': 0.8307650985125411}. Best is trial 1 with value: 0.8063877168307548.\n"
     ]
    },
    {
     "name": "stdout",
     "output_type": "stream",
     "text": [
      "Did not meet early stopping. Best iteration is:\n",
      "[100]\tvalid_0's auc: 0.76485\n",
      "Training until validation scores don't improve for 30 rounds\n",
      "Early stopping, best iteration is:\n",
      "[5]\tvalid_0's auc: 0.780216\n"
     ]
    },
    {
     "name": "stderr",
     "output_type": "stream",
     "text": [
      "[I 2025-08-05 14:23:15,505] Trial 13 finished with value: 0.7802156586966713 and parameters: {'learning_rate': 0.07267845542952057, 'num_leaves': 90, 'max_depth': 6, 'min_child_samples': 39, 'feature_fraction': 0.9005343683699619, 'bagging_fraction': 0.7232324340222831, 'lambda_l1': 0.46271993026769404, 'lambda_l2': 0.702847932877792}. Best is trial 1 with value: 0.8063877168307548.\n"
     ]
    },
    {
     "name": "stdout",
     "output_type": "stream",
     "text": [
      "Training until validation scores don't improve for 30 rounds\n"
     ]
    },
    {
     "name": "stderr",
     "output_type": "stream",
     "text": [
      "[I 2025-08-05 14:23:16,143] Trial 14 finished with value: 0.76657290201594 and parameters: {'learning_rate': 0.07486638319303132, 'num_leaves': 63, 'max_depth': 14, 'min_child_samples': 45, 'feature_fraction': 0.910129931549507, 'bagging_fraction': 0.7197632378201945, 'lambda_l1': 0.34810810210001975, 'lambda_l2': 0.6858238737564858}. Best is trial 1 with value: 0.8063877168307548.\n"
     ]
    },
    {
     "name": "stdout",
     "output_type": "stream",
     "text": [
      "Early stopping, best iteration is:\n",
      "[10]\tvalid_0's auc: 0.766573\n",
      "Training until validation scores don't improve for 30 rounds\n"
     ]
    },
    {
     "name": "stderr",
     "output_type": "stream",
     "text": [
      "[I 2025-08-05 14:23:16,751] Trial 15 finished with value: 0.7814697609001406 and parameters: {'learning_rate': 0.0787763144011493, 'num_leaves': 76, 'max_depth': 14, 'min_child_samples': 39, 'feature_fraction': 0.8080999662552567, 'bagging_fraction': 0.6895602255948684, 'lambda_l1': 0.4722982444775325, 'lambda_l2': 0.9858084765136812}. Best is trial 1 with value: 0.8063877168307548.\n"
     ]
    },
    {
     "name": "stdout",
     "output_type": "stream",
     "text": [
      "Early stopping, best iteration is:\n",
      "[7]\tvalid_0's auc: 0.78147\n",
      "Training until validation scores don't improve for 30 rounds\n"
     ]
    },
    {
     "name": "stderr",
     "output_type": "stream",
     "text": [
      "[I 2025-08-05 14:23:17,214] Trial 16 finished with value: 0.7727613689639006 and parameters: {'learning_rate': 0.08548004938186078, 'num_leaves': 32, 'max_depth': 14, 'min_child_samples': 28, 'feature_fraction': 0.8162781187090481, 'bagging_fraction': 0.6054617647370986, 'lambda_l1': 0.797124774347957, 'lambda_l2': 0.9759798064576748}. Best is trial 1 with value: 0.8063877168307548.\n"
     ]
    },
    {
     "name": "stdout",
     "output_type": "stream",
     "text": [
      "Early stopping, best iteration is:\n",
      "[4]\tvalid_0's auc: 0.772761\n",
      "Training until validation scores don't improve for 30 rounds\n"
     ]
    },
    {
     "name": "stderr",
     "output_type": "stream",
     "text": [
      "[I 2025-08-05 14:23:17,786] Trial 17 finished with value: 0.7567158931082981 and parameters: {'learning_rate': 0.09853487584591762, 'num_leaves': 62, 'max_depth': 16, 'min_child_samples': 47, 'feature_fraction': 0.7874980256703521, 'bagging_fraction': 0.669773014350612, 'lambda_l1': 0.45778449429563833, 'lambda_l2': 0.944473914723224}. Best is trial 1 with value: 0.8063877168307548.\n"
     ]
    },
    {
     "name": "stdout",
     "output_type": "stream",
     "text": [
      "Early stopping, best iteration is:\n",
      "[9]\tvalid_0's auc: 0.756716\n",
      "Training until validation scores don't improve for 30 rounds\n"
     ]
    },
    {
     "name": "stderr",
     "output_type": "stream",
     "text": [
      "[I 2025-08-05 14:23:18,819] Trial 18 finished with value: 0.7705930614158463 and parameters: {'learning_rate': 0.054506527034935, 'num_leaves': 73, 'max_depth': 13, 'min_child_samples': 37, 'feature_fraction': 0.60074439317183, 'bagging_fraction': 0.757443919613747, 'lambda_l1': 0.9953936151426312, 'lambda_l2': 0.6875441741909193}. Best is trial 1 with value: 0.8063877168307548.\n"
     ]
    },
    {
     "name": "stdout",
     "output_type": "stream",
     "text": [
      "Early stopping, best iteration is:\n",
      "[70]\tvalid_0's auc: 0.770593\n",
      "Training until validation scores don't improve for 30 rounds\n"
     ]
    },
    {
     "name": "stderr",
     "output_type": "stream",
     "text": [
      "[I 2025-08-05 14:23:19,506] Trial 19 finished with value: 0.7627988748241912 and parameters: {'learning_rate': 0.08131101456929762, 'num_leaves': 53, 'max_depth': 15, 'min_child_samples': 11, 'feature_fraction': 0.6907556767426566, 'bagging_fraction': 0.6679130181185171, 'lambda_l1': 0.24961945299916632, 'lambda_l2': 0.5834325151617477}. Best is trial 1 with value: 0.8063877168307548.\n"
     ]
    },
    {
     "name": "stdout",
     "output_type": "stream",
     "text": [
      "Early stopping, best iteration is:\n",
      "[12]\tvalid_0's auc: 0.762799\n",
      "Training until validation scores don't improve for 30 rounds\n"
     ]
    },
    {
     "name": "stderr",
     "output_type": "stream",
     "text": [
      "[I 2025-08-05 14:23:20,217] Trial 20 finished with value: 0.7709446788560712 and parameters: {'learning_rate': 0.05850868951454872, 'num_leaves': 79, 'max_depth': 12, 'min_child_samples': 44, 'feature_fraction': 0.8195670725086782, 'bagging_fraction': 0.6428641414291317, 'lambda_l1': 0.5553825475504544, 'lambda_l2': 0.9061919779827374}. Best is trial 1 with value: 0.8063877168307548.\n"
     ]
    },
    {
     "name": "stdout",
     "output_type": "stream",
     "text": [
      "Early stopping, best iteration is:\n",
      "[22]\tvalid_0's auc: 0.770945\n",
      "Training until validation scores don't improve for 30 rounds\n"
     ]
    },
    {
     "name": "stderr",
     "output_type": "stream",
     "text": [
      "[I 2025-08-05 14:23:20,916] Trial 21 finished with value: 0.7468706047819972 and parameters: {'learning_rate': 0.07119268168270328, 'num_leaves': 91, 'max_depth': 10, 'min_child_samples': 38, 'feature_fraction': 0.9136087101193254, 'bagging_fraction': 0.7161626257455411, 'lambda_l1': 0.4542885833121948, 'lambda_l2': 0.672388109232935}. Best is trial 1 with value: 0.8063877168307548.\n"
     ]
    },
    {
     "name": "stdout",
     "output_type": "stream",
     "text": [
      "Early stopping, best iteration is:\n",
      "[17]\tvalid_0's auc: 0.746871\n",
      "Training until validation scores don't improve for 30 rounds\n"
     ]
    },
    {
     "name": "stderr",
     "output_type": "stream",
     "text": [
      "[I 2025-08-05 14:23:21,790] Trial 22 finished with value: 0.7765705578996719 and parameters: {'learning_rate': 0.07252733213237281, 'num_leaves': 103, 'max_depth': 13, 'min_child_samples': 31, 'feature_fraction': 0.9171227896754502, 'bagging_fraction': 0.6953922668449366, 'lambda_l1': 0.7057861759129913, 'lambda_l2': 0.7650700499497467}. Best is trial 1 with value: 0.8063877168307548.\n"
     ]
    },
    {
     "name": "stdout",
     "output_type": "stream",
     "text": [
      "Early stopping, best iteration is:\n",
      "[21]\tvalid_0's auc: 0.776571\n",
      "Training until validation scores don't improve for 30 rounds\n"
     ]
    },
    {
     "name": "stderr",
     "output_type": "stream",
     "text": [
      "[I 2025-08-05 14:23:22,467] Trial 23 finished with value: 0.7738982653539616 and parameters: {'learning_rate': 0.09001862679552786, 'num_leaves': 85, 'max_depth': 11, 'min_child_samples': 40, 'feature_fraction': 0.9998894231975711, 'bagging_fraction': 0.7485704685857802, 'lambda_l1': 0.5168251480378945, 'lambda_l2': 0.5932211345670715}. Best is trial 1 with value: 0.8063877168307548.\n"
     ]
    },
    {
     "name": "stdout",
     "output_type": "stream",
     "text": [
      "Early stopping, best iteration is:\n",
      "[11]\tvalid_0's auc: 0.773898\n",
      "Training until validation scores don't improve for 30 rounds\n"
     ]
    },
    {
     "name": "stderr",
     "output_type": "stream",
     "text": [
      "[I 2025-08-05 14:23:23,691] Trial 24 finished with value: 0.7724214721050164 and parameters: {'learning_rate': 0.08062329098533366, 'num_leaves': 71, 'max_depth': 13, 'min_child_samples': 35, 'feature_fraction': 0.7614749436069705, 'bagging_fraction': 0.6032842656762298, 'lambda_l1': 0.42717925774249255, 'lambda_l2': 0.8638323579343733}. Best is trial 1 with value: 0.8063877168307548.\n"
     ]
    },
    {
     "name": "stdout",
     "output_type": "stream",
     "text": [
      "Did not meet early stopping. Best iteration is:\n",
      "[73]\tvalid_0's auc: 0.772421\n",
      "Training until validation scores don't improve for 30 rounds\n"
     ]
    },
    {
     "name": "stderr",
     "output_type": "stream",
     "text": [
      "[I 2025-08-05 14:23:24,290] Trial 25 finished with value: 0.7659634317862165 and parameters: {'learning_rate': 0.06897870743015519, 'num_leaves': 55, 'max_depth': 15, 'min_child_samples': 43, 'feature_fraction': 0.8456096353431545, 'bagging_fraction': 0.6873819596008874, 'lambda_l1': 0.6884102934602879, 'lambda_l2': 0.9998976810902344}. Best is trial 1 with value: 0.8063877168307548.\n"
     ]
    },
    {
     "name": "stdout",
     "output_type": "stream",
     "text": [
      "Early stopping, best iteration is:\n",
      "[9]\tvalid_0's auc: 0.765963\n",
      "Training until validation scores don't improve for 30 rounds\n"
     ]
    },
    {
     "name": "stderr",
     "output_type": "stream",
     "text": [
      "[I 2025-08-05 14:23:24,794] Trial 26 finished with value: 0.7846460384435068 and parameters: {'learning_rate': 0.0506526521624219, 'num_leaves': 84, 'max_depth': 7, 'min_child_samples': 39, 'feature_fraction': 0.9325168085111502, 'bagging_fraction': 0.7503908099245475, 'lambda_l1': 0.20617232982388706, 'lambda_l2': 0.7562528550656376}. Best is trial 1 with value: 0.8063877168307548.\n"
     ]
    },
    {
     "name": "stdout",
     "output_type": "stream",
     "text": [
      "Early stopping, best iteration is:\n",
      "[7]\tvalid_0's auc: 0.784646\n",
      "Training until validation scores don't improve for 30 rounds\n"
     ]
    },
    {
     "name": "stderr",
     "output_type": "stream",
     "text": [
      "[I 2025-08-05 14:23:25,374] Trial 27 finished with value: 0.7768284106891702 and parameters: {'learning_rate': 0.04640246761159271, 'num_leaves': 32, 'max_depth': 11, 'min_child_samples': 33, 'feature_fraction': 0.9438613513044434, 'bagging_fraction': 0.7603440198654539, 'lambda_l1': 0.21265313217918258, 'lambda_l2': 0.8972781944116484}. Best is trial 1 with value: 0.8063877168307548.\n"
     ]
    },
    {
     "name": "stdout",
     "output_type": "stream",
     "text": [
      "Early stopping, best iteration is:\n",
      "[14]\tvalid_0's auc: 0.776828\n",
      "Training until validation scores don't improve for 30 rounds\n"
     ]
    },
    {
     "name": "stderr",
     "output_type": "stream",
     "text": [
      "[I 2025-08-05 14:23:26,083] Trial 28 finished with value: 0.781375996249414 and parameters: {'learning_rate': 0.03414083141148973, 'num_leaves': 77, 'max_depth': 9, 'min_child_samples': 48, 'feature_fraction': 0.9723478682232917, 'bagging_fraction': 0.7929583402116592, 'lambda_l1': 0.031159820491446222, 'lambda_l2': 0.6117580624408165}. Best is trial 1 with value: 0.8063877168307548.\n"
     ]
    },
    {
     "name": "stdout",
     "output_type": "stream",
     "text": [
      "Early stopping, best iteration is:\n",
      "[22]\tvalid_0's auc: 0.781376\n",
      "Training until validation scores don't improve for 30 rounds\n"
     ]
    },
    {
     "name": "stderr",
     "output_type": "stream",
     "text": [
      "[I 2025-08-05 14:23:26,774] Trial 29 finished with value: 0.7990037505860291 and parameters: {'learning_rate': 0.058229147621282645, 'num_leaves': 113, 'max_depth': 12, 'min_child_samples': 25, 'feature_fraction': 0.6727281829948895, 'bagging_fraction': 0.6372790954494822, 'lambda_l1': 0.35370541937601613, 'lambda_l2': 0.7518567187458194}. Best is trial 1 with value: 0.8063877168307548.\n"
     ]
    },
    {
     "name": "stdout",
     "output_type": "stream",
     "text": [
      "Early stopping, best iteration is:\n",
      "[9]\tvalid_0's auc: 0.799004\n",
      "Training until validation scores don't improve for 30 rounds\n"
     ]
    },
    {
     "name": "stderr",
     "output_type": "stream",
     "text": [
      "[I 2025-08-05 14:23:27,523] Trial 30 finished with value: 0.7614861697140178 and parameters: {'learning_rate': 0.0552919129925195, 'num_leaves': 110, 'max_depth': 12, 'min_child_samples': 21, 'feature_fraction': 0.6736848513985926, 'bagging_fraction': 0.6410320068525468, 'lambda_l1': 0.343701139290154, 'lambda_l2': 0.7505871286862245}. Best is trial 1 with value: 0.8063877168307548.\n"
     ]
    },
    {
     "name": "stdout",
     "output_type": "stream",
     "text": [
      "Early stopping, best iteration is:\n",
      "[11]\tvalid_0's auc: 0.761486\n",
      "Training until validation scores don't improve for 30 rounds\n"
     ]
    },
    {
     "name": "stderr",
     "output_type": "stream",
     "text": [
      "[I 2025-08-05 14:23:28,557] Trial 31 finished with value: 0.7774144397562119 and parameters: {'learning_rate': 0.0600173460702177, 'num_leaves': 122, 'max_depth': 12, 'min_child_samples': 26, 'feature_fraction': 0.7543264177124182, 'bagging_fraction': 0.6986543367885965, 'lambda_l1': 0.22111504051440184, 'lambda_l2': 0.7911408852050514}. Best is trial 1 with value: 0.8063877168307548.\n"
     ]
    },
    {
     "name": "stdout",
     "output_type": "stream",
     "text": [
      "Early stopping, best iteration is:\n",
      "[37]\tvalid_0's auc: 0.777414\n",
      "Training until validation scores don't improve for 30 rounds\n"
     ]
    },
    {
     "name": "stderr",
     "output_type": "stream",
     "text": [
      "[I 2025-08-05 14:23:29,382] Trial 32 finished with value: 0.7627637130801687 and parameters: {'learning_rate': 0.040225404140706904, 'num_leaves': 117, 'max_depth': 10, 'min_child_samples': 22, 'feature_fraction': 0.7249253033667392, 'bagging_fraction': 0.6272703878416396, 'lambda_l1': 0.29350056852672457, 'lambda_l2': 0.4057883407452655}. Best is trial 1 with value: 0.8063877168307548.\n"
     ]
    },
    {
     "name": "stdout",
     "output_type": "stream",
     "text": [
      "Early stopping, best iteration is:\n",
      "[19]\tvalid_0's auc: 0.762764\n",
      "Training until validation scores don't improve for 30 rounds\n"
     ]
    },
    {
     "name": "stderr",
     "output_type": "stream",
     "text": [
      "[I 2025-08-05 14:23:30,285] Trial 33 finished with value: 0.7582630098452884 and parameters: {'learning_rate': 0.01652701496738103, 'num_leaves': 100, 'max_depth': 7, 'min_child_samples': 28, 'feature_fraction': 0.6757024956749587, 'bagging_fraction': 0.658357104653046, 'lambda_l1': 0.37474220386013085, 'lambda_l2': 0.6306946104727451}. Best is trial 1 with value: 0.8063877168307548.\n"
     ]
    },
    {
     "name": "stdout",
     "output_type": "stream",
     "text": [
      "Did not meet early stopping. Best iteration is:\n",
      "[100]\tvalid_0's auc: 0.758263\n",
      "Training until validation scores don't improve for 30 rounds\n"
     ]
    },
    {
     "name": "stderr",
     "output_type": "stream",
     "text": [
      "[I 2025-08-05 14:23:30,778] Trial 34 finished with value: 0.7644280356305673 and parameters: {'learning_rate': 0.09241011132294491, 'num_leaves': 42, 'max_depth': 13, 'min_child_samples': 32, 'feature_fraction': 0.6307634365547568, 'bagging_fraction': 0.7363735770002482, 'lambda_l1': 0.2932896814679243, 'lambda_l2': 0.9179973875821339}. Best is trial 1 with value: 0.8063877168307548.\n"
     ]
    },
    {
     "name": "stdout",
     "output_type": "stream",
     "text": [
      "Early stopping, best iteration is:\n",
      "[7]\tvalid_0's auc: 0.764428\n",
      "Training until validation scores don't improve for 30 rounds\n"
     ]
    },
    {
     "name": "stderr",
     "output_type": "stream",
     "text": [
      "[I 2025-08-05 14:23:31,797] Trial 35 finished with value: 0.7593881856540083 and parameters: {'learning_rate': 0.051043664303430464, 'num_leaves': 117, 'max_depth': 10, 'min_child_samples': 20, 'feature_fraction': 0.8453861169675394, 'bagging_fraction': 0.77736619371447, 'lambda_l1': 0.40059733919987395, 'lambda_l2': 0.5273843766574376}. Best is trial 1 with value: 0.8063877168307548.\n"
     ]
    },
    {
     "name": "stdout",
     "output_type": "stream",
     "text": [
      "Early stopping, best iteration is:\n",
      "[31]\tvalid_0's auc: 0.759388\n",
      "Training until validation scores don't improve for 30 rounds\n"
     ]
    },
    {
     "name": "stderr",
     "output_type": "stream",
     "text": [
      "[I 2025-08-05 14:23:32,614] Trial 36 finished with value: 0.7774378809188937 and parameters: {'learning_rate': 0.07961431473265763, 'num_leaves': 106, 'max_depth': 15, 'min_child_samples': 25, 'feature_fraction': 0.8895020044724885, 'bagging_fraction': 0.6867555138074325, 'lambda_l1': 0.5303944198324173, 'lambda_l2': 0.7505458163244582}. Best is trial 1 with value: 0.8063877168307548.\n"
     ]
    },
    {
     "name": "stdout",
     "output_type": "stream",
     "text": [
      "Early stopping, best iteration is:\n",
      "[9]\tvalid_0's auc: 0.777438\n",
      "Training until validation scores don't improve for 30 rounds\n"
     ]
    },
    {
     "name": "stderr",
     "output_type": "stream",
     "text": [
      "[I 2025-08-05 14:23:33,700] Trial 37 finished with value: 0.7619198312236287 and parameters: {'learning_rate': 0.022000059161995565, 'num_leaves': 84, 'max_depth': 9, 'min_child_samples': 17, 'feature_fraction': 0.9337299930297318, 'bagging_fraction': 0.8223361643990315, 'lambda_l1': 0.16159742418342843, 'lambda_l2': 0.833452657979348}. Best is trial 1 with value: 0.8063877168307548.\n"
     ]
    },
    {
     "name": "stdout",
     "output_type": "stream",
     "text": [
      "Early stopping, best iteration is:\n",
      "[34]\tvalid_0's auc: 0.76192\n",
      "Training until validation scores don't improve for 30 rounds\n"
     ]
    },
    {
     "name": "stderr",
     "output_type": "stream",
     "text": [
      "[I 2025-08-05 14:23:34,387] Trial 38 finished with value: 0.7695616502578527 and parameters: {'learning_rate': 0.04049241488976948, 'num_leaves': 44, 'max_depth': 12, 'min_child_samples': 29, 'feature_fraction': 0.9769492813730432, 'bagging_fraction': 0.6233609194234337, 'lambda_l1': 0.8697417973971298, 'lambda_l2': 0.5589569438181192}. Best is trial 1 with value: 0.8063877168307548.\n"
     ]
    },
    {
     "name": "stdout",
     "output_type": "stream",
     "text": [
      "Early stopping, best iteration is:\n",
      "[16]\tvalid_0's auc: 0.769562\n",
      "Training until validation scores don't improve for 30 rounds\n"
     ]
    },
    {
     "name": "stderr",
     "output_type": "stream",
     "text": [
      "[I 2025-08-05 14:23:34,890] Trial 39 finished with value: 0.7627637130801689 and parameters: {'learning_rate': 0.04771759140466644, 'num_leaves': 58, 'max_depth': 7, 'min_child_samples': 41, 'feature_fraction': 0.7340723444132475, 'bagging_fraction': 0.9368937772271043, 'lambda_l1': 0.002665491986900248, 'lambda_l2': 0.3682409914765071}. Best is trial 1 with value: 0.8063877168307548.\n"
     ]
    },
    {
     "name": "stdout",
     "output_type": "stream",
     "text": [
      "Early stopping, best iteration is:\n",
      "[13]\tvalid_0's auc: 0.762764\n",
      "\n",
      "📍 Training for label: NR-ER-LBD\n"
     ]
    },
    {
     "name": "stderr",
     "output_type": "stream",
     "text": [
      "[I 2025-08-05 14:23:42,917] A new study created in memory with name: no-name-4b597912-87ec-4bcd-92bf-81948c4378b6\n"
     ]
    },
    {
     "name": "stdout",
     "output_type": "stream",
     "text": [
      "Training until validation scores don't improve for 30 rounds\n"
     ]
    },
    {
     "name": "stderr",
     "output_type": "stream",
     "text": [
      "[I 2025-08-05 14:23:44,073] Trial 0 finished with value: 0.756969696969697 and parameters: {'learning_rate': 0.09320838736395726, 'num_leaves': 46, 'max_depth': 9, 'min_child_samples': 10, 'feature_fraction': 0.9488460100216259, 'bagging_fraction': 0.9165742703523055, 'lambda_l1': 0.08800153294093438, 'lambda_l2': 0.5420914186721651}. Best is trial 0 with value: 0.756969696969697.\n"
     ]
    },
    {
     "name": "stdout",
     "output_type": "stream",
     "text": [
      "Did not meet early stopping. Best iteration is:\n",
      "[100]\tvalid_0's auc: 0.75697\n",
      "Training until validation scores don't improve for 30 rounds\n"
     ]
    },
    {
     "name": "stderr",
     "output_type": "stream",
     "text": [
      "[I 2025-08-05 14:23:44,699] Trial 1 finished with value: 0.7604761904761905 and parameters: {'learning_rate': 0.039185199579902366, 'num_leaves': 69, 'max_depth': 10, 'min_child_samples': 19, 'feature_fraction': 0.8908390231336678, 'bagging_fraction': 0.9956069263265932, 'lambda_l1': 0.820129797007813, 'lambda_l2': 0.581335749423665}. Best is trial 1 with value: 0.7604761904761905.\n"
     ]
    },
    {
     "name": "stdout",
     "output_type": "stream",
     "text": [
      "Early stopping, best iteration is:\n",
      "[27]\tvalid_0's auc: 0.760476\n",
      "Training until validation scores don't improve for 30 rounds\n"
     ]
    },
    {
     "name": "stderr",
     "output_type": "stream",
     "text": [
      "[I 2025-08-05 14:23:45,415] Trial 2 finished with value: 0.7677922077922078 and parameters: {'learning_rate': 0.037243221924388614, 'num_leaves': 117, 'max_depth': 15, 'min_child_samples': 21, 'feature_fraction': 0.7505351145928678, 'bagging_fraction': 0.6519221178250219, 'lambda_l1': 0.7232997901821803, 'lambda_l2': 0.23197603798247357}. Best is trial 2 with value: 0.7677922077922078.\n"
     ]
    },
    {
     "name": "stdout",
     "output_type": "stream",
     "text": [
      "Early stopping, best iteration is:\n",
      "[36]\tvalid_0's auc: 0.767792\n",
      "Training until validation scores don't improve for 30 rounds\n"
     ]
    },
    {
     "name": "stderr",
     "output_type": "stream",
     "text": [
      "[I 2025-08-05 14:23:45,964] Trial 3 finished with value: 0.7774891774891775 and parameters: {'learning_rate': 0.042484492907155294, 'num_leaves': 41, 'max_depth': 14, 'min_child_samples': 47, 'feature_fraction': 0.6168489939618914, 'bagging_fraction': 0.9920229082596635, 'lambda_l1': 0.18312993369465047, 'lambda_l2': 0.6275947784574375}. Best is trial 3 with value: 0.7774891774891775.\n"
     ]
    },
    {
     "name": "stdout",
     "output_type": "stream",
     "text": [
      "Early stopping, best iteration is:\n",
      "[25]\tvalid_0's auc: 0.777489\n",
      "Training until validation scores don't improve for 30 rounds\n"
     ]
    },
    {
     "name": "stderr",
     "output_type": "stream",
     "text": [
      "[I 2025-08-05 14:23:47,139] Trial 4 finished with value: 0.7825541125541126 and parameters: {'learning_rate': 0.07595606672129512, 'num_leaves': 98, 'max_depth': 14, 'min_child_samples': 15, 'feature_fraction': 0.9581186391035266, 'bagging_fraction': 0.900230732765515, 'lambda_l1': 0.9058318434865414, 'lambda_l2': 0.7404028650000508}. Best is trial 4 with value: 0.7825541125541126.\n"
     ]
    },
    {
     "name": "stdout",
     "output_type": "stream",
     "text": [
      "Did not meet early stopping. Best iteration is:\n",
      "[87]\tvalid_0's auc: 0.782554\n",
      "Training until validation scores don't improve for 30 rounds\n"
     ]
    },
    {
     "name": "stderr",
     "output_type": "stream",
     "text": [
      "[I 2025-08-05 14:23:47,694] Trial 5 finished with value: 0.7792207792207791 and parameters: {'learning_rate': 0.021572431355655515, 'num_leaves': 35, 'max_depth': 9, 'min_child_samples': 41, 'feature_fraction': 0.987591020960047, 'bagging_fraction': 0.759038738923716, 'lambda_l1': 0.4689683169412505, 'lambda_l2': 0.7931385443759318}. Best is trial 4 with value: 0.7825541125541126.\n"
     ]
    },
    {
     "name": "stdout",
     "output_type": "stream",
     "text": [
      "Early stopping, best iteration is:\n",
      "[28]\tvalid_0's auc: 0.779221\n",
      "Training until validation scores don't improve for 30 rounds\n"
     ]
    },
    {
     "name": "stderr",
     "output_type": "stream",
     "text": [
      "[I 2025-08-05 14:23:48,162] Trial 6 finished with value: 0.7682251082251083 and parameters: {'learning_rate': 0.08561330376328684, 'num_leaves': 57, 'max_depth': 14, 'min_child_samples': 21, 'feature_fraction': 0.6662321856316832, 'bagging_fraction': 0.8030594319001907, 'lambda_l1': 0.6942991331056559, 'lambda_l2': 0.30846055575930054}. Best is trial 4 with value: 0.7825541125541126.\n"
     ]
    },
    {
     "name": "stdout",
     "output_type": "stream",
     "text": [
      "Early stopping, best iteration is:\n",
      "[5]\tvalid_0's auc: 0.768225\n",
      "Training until validation scores don't improve for 30 rounds\n"
     ]
    },
    {
     "name": "stderr",
     "output_type": "stream",
     "text": [
      "[I 2025-08-05 14:23:48,731] Trial 7 finished with value: 0.7800649350649351 and parameters: {'learning_rate': 0.014290226273435357, 'num_leaves': 43, 'max_depth': 7, 'min_child_samples': 30, 'feature_fraction': 0.9954973687002979, 'bagging_fraction': 0.7466426839855507, 'lambda_l1': 0.02099938011503044, 'lambda_l2': 0.5226414377477615}. Best is trial 4 with value: 0.7825541125541126.\n"
     ]
    },
    {
     "name": "stdout",
     "output_type": "stream",
     "text": [
      "Early stopping, best iteration is:\n",
      "[32]\tvalid_0's auc: 0.780065\n",
      "Training until validation scores don't improve for 30 rounds\n",
      "Early stopping, best iteration is:\n",
      "[24]\tvalid_0's auc: 0.778571\n"
     ]
    },
    {
     "name": "stderr",
     "output_type": "stream",
     "text": [
      "[I 2025-08-05 14:23:49,134] Trial 8 finished with value: 0.7785714285714286 and parameters: {'learning_rate': 0.0931892370293478, 'num_leaves': 99, 'max_depth': 6, 'min_child_samples': 45, 'feature_fraction': 0.7491380878130875, 'bagging_fraction': 0.6907653367979476, 'lambda_l1': 0.7122041069840435, 'lambda_l2': 0.0813177384828303}. Best is trial 4 with value: 0.7825541125541126.\n"
     ]
    },
    {
     "name": "stdout",
     "output_type": "stream",
     "text": [
      "Training until validation scores don't improve for 30 rounds\n"
     ]
    },
    {
     "name": "stderr",
     "output_type": "stream",
     "text": [
      "[I 2025-08-05 14:23:49,811] Trial 9 finished with value: 0.7823809523809524 and parameters: {'learning_rate': 0.09963088880697972, 'num_leaves': 83, 'max_depth': 10, 'min_child_samples': 21, 'feature_fraction': 0.8893529382441152, 'bagging_fraction': 0.8423168968649282, 'lambda_l1': 0.4964519153856717, 'lambda_l2': 0.854328294921601}. Best is trial 4 with value: 0.7825541125541126.\n"
     ]
    },
    {
     "name": "stdout",
     "output_type": "stream",
     "text": [
      "Early stopping, best iteration is:\n",
      "[24]\tvalid_0's auc: 0.782381\n",
      "Training until validation scores don't improve for 30 rounds\n"
     ]
    },
    {
     "name": "stderr",
     "output_type": "stream",
     "text": [
      "[I 2025-08-05 14:23:50,932] Trial 10 finished with value: 0.7905627705627706 and parameters: {'learning_rate': 0.06493208215488026, 'num_leaves': 127, 'max_depth': 12, 'min_child_samples': 11, 'feature_fraction': 0.8442076877829691, 'bagging_fraction': 0.8889449949916679, 'lambda_l1': 0.9423061878422687, 'lambda_l2': 0.9700529501137796}. Best is trial 10 with value: 0.7905627705627706.\n"
     ]
    },
    {
     "name": "stdout",
     "output_type": "stream",
     "text": [
      "Early stopping, best iteration is:\n",
      "[60]\tvalid_0's auc: 0.790563\n",
      "Training until validation scores don't improve for 30 rounds\n"
     ]
    },
    {
     "name": "stderr",
     "output_type": "stream",
     "text": [
      "[I 2025-08-05 14:23:51,988] Trial 11 finished with value: 0.7932467532467532 and parameters: {'learning_rate': 0.07075875266302017, 'num_leaves': 121, 'max_depth': 12, 'min_child_samples': 10, 'feature_fraction': 0.8499134293381776, 'bagging_fraction': 0.8759913929199774, 'lambda_l1': 0.9475805068314389, 'lambda_l2': 0.9844388069838791}. Best is trial 11 with value: 0.7932467532467532.\n"
     ]
    },
    {
     "name": "stdout",
     "output_type": "stream",
     "text": [
      "Early stopping, best iteration is:\n",
      "[49]\tvalid_0's auc: 0.793247\n",
      "Training until validation scores don't improve for 30 rounds\n"
     ]
    },
    {
     "name": "stderr",
     "output_type": "stream",
     "text": [
      "[I 2025-08-05 14:23:53,203] Trial 12 finished with value: 0.7893506493506494 and parameters: {'learning_rate': 0.06440289048254484, 'num_leaves': 127, 'max_depth': 12, 'min_child_samples': 11, 'feature_fraction': 0.8327511317786811, 'bagging_fraction': 0.8847214294422037, 'lambda_l1': 0.990140109419185, 'lambda_l2': 0.9871077309198878}. Best is trial 11 with value: 0.7932467532467532.\n"
     ]
    },
    {
     "name": "stdout",
     "output_type": "stream",
     "text": [
      "Did not meet early stopping. Best iteration is:\n",
      "[82]\tvalid_0's auc: 0.789351\n",
      "Training until validation scores don't improve for 30 rounds\n"
     ]
    },
    {
     "name": "stderr",
     "output_type": "stream",
     "text": [
      "[I 2025-08-05 14:23:53,788] Trial 13 finished with value: 0.7968831168831169 and parameters: {'learning_rate': 0.06086397625251118, 'num_leaves': 114, 'max_depth': 12, 'min_child_samples': 30, 'feature_fraction': 0.8267930205829943, 'bagging_fraction': 0.946422209853666, 'lambda_l1': 0.9913916529150766, 'lambda_l2': 0.9709854861954862}. Best is trial 13 with value: 0.7968831168831169.\n"
     ]
    },
    {
     "name": "stdout",
     "output_type": "stream",
     "text": [
      "Early stopping, best iteration is:\n",
      "[19]\tvalid_0's auc: 0.796883\n",
      "Training until validation scores don't improve for 30 rounds\n"
     ]
    },
    {
     "name": "stderr",
     "output_type": "stream",
     "text": [
      "[I 2025-08-05 14:23:54,789] Trial 14 finished with value: 0.7839393939393938 and parameters: {'learning_rate': 0.05600291295596297, 'num_leaves': 107, 'max_depth': 12, 'min_child_samples': 34, 'feature_fraction': 0.7704152942341181, 'bagging_fraction': 0.9443017235982736, 'lambda_l1': 0.3550250131219212, 'lambda_l2': 0.8845465250283641}. Best is trial 13 with value: 0.7968831168831169.\n"
     ]
    },
    {
     "name": "stdout",
     "output_type": "stream",
     "text": [
      "Did not meet early stopping. Best iteration is:\n",
      "[80]\tvalid_0's auc: 0.783939\n",
      "Training until validation scores don't improve for 30 rounds\n"
     ]
    },
    {
     "name": "stderr",
     "output_type": "stream",
     "text": [
      "[I 2025-08-05 14:23:55,602] Trial 15 finished with value: 0.789047619047619 and parameters: {'learning_rate': 0.07662429294765725, 'num_leaves': 84, 'max_depth': 13, 'min_child_samples': 29, 'feature_fraction': 0.6974605399700771, 'bagging_fraction': 0.841186699477338, 'lambda_l1': 0.8198316168377797, 'lambda_l2': 0.6964663295116108}. Best is trial 13 with value: 0.7968831168831169.\n"
     ]
    },
    {
     "name": "stdout",
     "output_type": "stream",
     "text": [
      "Early stopping, best iteration is:\n",
      "[53]\tvalid_0's auc: 0.789048\n",
      "Training until validation scores don't improve for 30 rounds\n"
     ]
    },
    {
     "name": "stderr",
     "output_type": "stream",
     "text": [
      "[I 2025-08-05 14:23:56,293] Trial 16 finished with value: 0.7587012987012988 and parameters: {'learning_rate': 0.05214038456605534, 'num_leaves': 113, 'max_depth': 16, 'min_child_samples': 35, 'feature_fraction': 0.8792627365022245, 'bagging_fraction': 0.9383229935996453, 'lambda_l1': 0.6093092410725884, 'lambda_l2': 0.38505286463024185}. Best is trial 13 with value: 0.7968831168831169.\n"
     ]
    },
    {
     "name": "stdout",
     "output_type": "stream",
     "text": [
      "Early stopping, best iteration is:\n",
      "[27]\tvalid_0's auc: 0.758701\n",
      "Training until validation scores don't improve for 30 rounds\n"
     ]
    },
    {
     "name": "stderr",
     "output_type": "stream",
     "text": [
      "[I 2025-08-05 14:23:57,000] Trial 17 finished with value: 0.7860173160173161 and parameters: {'learning_rate': 0.0725346432620781, 'num_leaves': 95, 'max_depth': 11, 'min_child_samples': 27, 'feature_fraction': 0.8344486828701156, 'bagging_fraction': 0.8330919306267913, 'lambda_l1': 0.8166004709005555, 'lambda_l2': 0.895246090680113}. Best is trial 13 with value: 0.7968831168831169.\n"
     ]
    },
    {
     "name": "stdout",
     "output_type": "stream",
     "text": [
      "Early stopping, best iteration is:\n",
      "[33]\tvalid_0's auc: 0.786017\n",
      "Training until validation scores don't improve for 30 rounds\n"
     ]
    },
    {
     "name": "stderr",
     "output_type": "stream",
     "text": [
      "[I 2025-08-05 14:23:57,793] Trial 18 finished with value: 0.7601298701298701 and parameters: {'learning_rate': 0.052755064909581456, 'num_leaves': 117, 'max_depth': 8, 'min_child_samples': 38, 'feature_fraction': 0.8041883660916039, 'bagging_fraction': 0.958945562878336, 'lambda_l1': 0.31413470179837544, 'lambda_l2': 0.9976464927672498}. Best is trial 13 with value: 0.7968831168831169.\n"
     ]
    },
    {
     "name": "stdout",
     "output_type": "stream",
     "text": [
      "Did not meet early stopping. Best iteration is:\n",
      "[95]\tvalid_0's auc: 0.76013\n",
      "Training until validation scores don't improve for 30 rounds\n"
     ]
    },
    {
     "name": "stderr",
     "output_type": "stream",
     "text": [
      "[I 2025-08-05 14:23:58,699] Trial 19 finished with value: 0.7647619047619049 and parameters: {'learning_rate': 0.06325808376300754, 'num_leaves': 72, 'max_depth': 11, 'min_child_samples': 25, 'feature_fraction': 0.7894164301055577, 'bagging_fraction': 0.6021496384143132, 'lambda_l1': 0.5893171679661141, 'lambda_l2': 0.014216875924077388}. Best is trial 13 with value: 0.7968831168831169.\n"
     ]
    },
    {
     "name": "stdout",
     "output_type": "stream",
     "text": [
      "Early stopping, best iteration is:\n",
      "[50]\tvalid_0's auc: 0.764762\n",
      "Training until validation scores don't improve for 30 rounds\n"
     ]
    },
    {
     "name": "stderr",
     "output_type": "stream",
     "text": [
      "[I 2025-08-05 14:23:59,260] Trial 20 finished with value: 0.7674891774891774 and parameters: {'learning_rate': 0.03126306062552897, 'num_leaves': 108, 'max_depth': 13, 'min_child_samples': 50, 'feature_fraction': 0.7036938420842708, 'bagging_fraction': 0.8612508523699851, 'lambda_l1': 0.8854460497403822, 'lambda_l2': 0.6656007054218197}. Best is trial 13 with value: 0.7968831168831169.\n"
     ]
    },
    {
     "name": "stdout",
     "output_type": "stream",
     "text": [
      "Early stopping, best iteration is:\n",
      "[25]\tvalid_0's auc: 0.767489\n",
      "Training until validation scores don't improve for 30 rounds\n"
     ]
    },
    {
     "name": "stderr",
     "output_type": "stream",
     "text": [
      "[I 2025-08-05 14:24:00,198] Trial 21 finished with value: 0.8035064935064934 and parameters: {'learning_rate': 0.06769180234521466, 'num_leaves': 127, 'max_depth': 12, 'min_child_samples': 15, 'feature_fraction': 0.8511356578970628, 'bagging_fraction': 0.883422335423016, 'lambda_l1': 0.9943032800490275, 'lambda_l2': 0.9938481789104104}. Best is trial 21 with value: 0.8035064935064934.\n"
     ]
    },
    {
     "name": "stdout",
     "output_type": "stream",
     "text": [
      "Early stopping, best iteration is:\n",
      "[45]\tvalid_0's auc: 0.803506\n",
      "Training until validation scores don't improve for 30 rounds\n"
     ]
    },
    {
     "name": "stderr",
     "output_type": "stream",
     "text": [
      "[I 2025-08-05 14:24:01,237] Trial 22 finished with value: 0.8065800865800865 and parameters: {'learning_rate': 0.08023789039330481, 'num_leaves': 122, 'max_depth': 13, 'min_child_samples': 15, 'feature_fraction': 0.9171381798156691, 'bagging_fraction': 0.7773826242592159, 'lambda_l1': 0.9919430928367727, 'lambda_l2': 0.8215702375145403}. Best is trial 22 with value: 0.8065800865800865.\n"
     ]
    },
    {
     "name": "stdout",
     "output_type": "stream",
     "text": [
      "Early stopping, best iteration is:\n",
      "[55]\tvalid_0's auc: 0.80658\n",
      "Training until validation scores don't improve for 30 rounds\n"
     ]
    },
    {
     "name": "stderr",
     "output_type": "stream",
     "text": [
      "[I 2025-08-05 14:24:02,367] Trial 23 finished with value: 0.7868398268398269 and parameters: {'learning_rate': 0.08197993088496391, 'num_leaves': 109, 'max_depth': 13, 'min_child_samples': 15, 'feature_fraction': 0.919401575658887, 'bagging_fraction': 0.7553249429326814, 'lambda_l1': 0.9912954979746712, 'lambda_l2': 0.799527962167383}. Best is trial 22 with value: 0.8065800865800865.\n"
     ]
    },
    {
     "name": "stdout",
     "output_type": "stream",
     "text": [
      "Early stopping, best iteration is:\n",
      "[68]\tvalid_0's auc: 0.78684\n",
      "Training until validation scores don't improve for 30 rounds\n"
     ]
    },
    {
     "name": "stderr",
     "output_type": "stream",
     "text": [
      "[I 2025-08-05 14:24:03,618] Trial 24 finished with value: 0.8245454545454546 and parameters: {'learning_rate': 0.059337695174982864, 'num_leaves': 127, 'max_depth': 16, 'min_child_samples': 16, 'feature_fraction': 0.9135518614979811, 'bagging_fraction': 0.7943409722771654, 'lambda_l1': 0.8550185684219265, 'lambda_l2': 0.8805782243635817}. Best is trial 24 with value: 0.8245454545454546.\n"
     ]
    },
    {
     "name": "stdout",
     "output_type": "stream",
     "text": [
      "Did not meet early stopping. Best iteration is:\n",
      "[97]\tvalid_0's auc: 0.824545\n",
      "Training until validation scores don't improve for 30 rounds\n"
     ]
    },
    {
     "name": "stderr",
     "output_type": "stream",
     "text": [
      "[I 2025-08-05 14:24:04,689] Trial 25 finished with value: 0.7754545454545454 and parameters: {'learning_rate': 0.0845679158334221, 'num_leaves': 127, 'max_depth': 16, 'min_child_samples': 15, 'feature_fraction': 0.9206163789798119, 'bagging_fraction': 0.7939276011724636, 'lambda_l1': 0.8605244078112938, 'lambda_l2': 0.7782382705949817}. Best is trial 24 with value: 0.8245454545454546.\n"
     ]
    },
    {
     "name": "stdout",
     "output_type": "stream",
     "text": [
      "Early stopping, best iteration is:\n",
      "[54]\tvalid_0's auc: 0.775455\n",
      "Training until validation scores don't improve for 30 rounds\n"
     ]
    },
    {
     "name": "stderr",
     "output_type": "stream",
     "text": [
      "[I 2025-08-05 14:24:05,899] Trial 26 finished with value: 0.7757575757575758 and parameters: {'learning_rate': 0.07004364204857365, 'num_leaves': 103, 'max_depth': 15, 'min_child_samples': 17, 'feature_fraction': 0.9221934410758263, 'bagging_fraction': 0.7181768352317852, 'lambda_l1': 0.7152394994968176, 'lambda_l2': 0.8742316376471443}. Best is trial 24 with value: 0.8245454545454546.\n"
     ]
    },
    {
     "name": "stdout",
     "output_type": "stream",
     "text": [
      "Did not meet early stopping. Best iteration is:\n",
      "[77]\tvalid_0's auc: 0.775758\n",
      "Training until validation scores don't improve for 30 rounds\n"
     ]
    },
    {
     "name": "stderr",
     "output_type": "stream",
     "text": [
      "[I 2025-08-05 14:24:06,475] Trial 27 finished with value: 0.7582251082251082 and parameters: {'learning_rate': 0.051748159800102896, 'num_leaves': 91, 'max_depth': 15, 'min_child_samples': 24, 'feature_fraction': 0.8755179633096583, 'bagging_fraction': 0.7921122426833775, 'lambda_l1': 0.7827024452264388, 'lambda_l2': 0.46108444113252856}. Best is trial 24 with value: 0.8245454545454546.\n"
     ]
    },
    {
     "name": "stdout",
     "output_type": "stream",
     "text": [
      "Early stopping, best iteration is:\n",
      "[15]\tvalid_0's auc: 0.758225\n",
      "Training until validation scores don't improve for 30 rounds\n"
     ]
    },
    {
     "name": "stderr",
     "output_type": "stream",
     "text": [
      "[I 2025-08-05 14:24:07,729] Trial 28 finished with value: 0.7914285714285715 and parameters: {'learning_rate': 0.04646014923482471, 'num_leaves': 123, 'max_depth': 16, 'min_child_samples': 14, 'feature_fraction': 0.9600631441635302, 'bagging_fraction': 0.8099859223319537, 'lambda_l1': 0.9140981586971352, 'lambda_l2': 0.8372449189264906}. Best is trial 24 with value: 0.8245454545454546.\n"
     ]
    },
    {
     "name": "stdout",
     "output_type": "stream",
     "text": [
      "Did not meet early stopping. Best iteration is:\n",
      "[99]\tvalid_0's auc: 0.791429\n",
      "Training until validation scores don't improve for 30 rounds\n"
     ]
    },
    {
     "name": "stderr",
     "output_type": "stream",
     "text": [
      "[I 2025-08-05 14:24:08,854] Trial 29 finished with value: 0.7764069264069264 and parameters: {'learning_rate': 0.09223233986056922, 'num_leaves': 55, 'max_depth': 10, 'min_child_samples': 19, 'feature_fraction': 0.9382038688684626, 'bagging_fraction': 0.7063347963979657, 'lambda_l1': 0.6161385868762315, 'lambda_l2': 0.7182242495816119}. Best is trial 24 with value: 0.8245454545454546.\n"
     ]
    },
    {
     "name": "stdout",
     "output_type": "stream",
     "text": [
      "Did not meet early stopping. Best iteration is:\n",
      "[73]\tvalid_0's auc: 0.776407\n",
      "Training until validation scores don't improve for 30 rounds\n"
     ]
    },
    {
     "name": "stderr",
     "output_type": "stream",
     "text": [
      "[I 2025-08-05 14:24:09,404] Trial 30 finished with value: 0.7734199134199135 and parameters: {'learning_rate': 0.07900389717616867, 'num_leaves': 122, 'max_depth': 14, 'min_child_samples': 13, 'feature_fraction': 0.9003953758656615, 'bagging_fraction': 0.7716387520889854, 'lambda_l1': 0.7643774514778459, 'lambda_l2': 0.9109906059327981}. Best is trial 24 with value: 0.8245454545454546.\n"
     ]
    },
    {
     "name": "stdout",
     "output_type": "stream",
     "text": [
      "Early stopping, best iteration is:\n",
      "[3]\tvalid_0's auc: 0.77342\n",
      "Training until validation scores don't improve for 30 rounds\n"
     ]
    },
    {
     "name": "stderr",
     "output_type": "stream",
     "text": [
      "[I 2025-08-05 14:24:10,084] Trial 31 finished with value: 0.7816017316017314 and parameters: {'learning_rate': 0.0589762540882516, 'num_leaves': 114, 'max_depth': 11, 'min_child_samples': 17, 'feature_fraction': 0.8125364671925548, 'bagging_fraction': 0.9189790836393672, 'lambda_l1': 0.9784407292663496, 'lambda_l2': 0.9502194590568591}. Best is trial 24 with value: 0.8245454545454546.\n"
     ]
    },
    {
     "name": "stdout",
     "output_type": "stream",
     "text": [
      "Early stopping, best iteration is:\n",
      "[25]\tvalid_0's auc: 0.781602\n",
      "Training until validation scores don't improve for 30 rounds\n"
     ]
    },
    {
     "name": "stderr",
     "output_type": "stream",
     "text": [
      "[I 2025-08-05 14:24:10,630] Trial 32 finished with value: 0.7892424242424243 and parameters: {'learning_rate': 0.06100227151696799, 'num_leaves': 119, 'max_depth': 13, 'min_child_samples': 25, 'feature_fraction': 0.858567358187748, 'bagging_fraction': 0.9114571935271649, 'lambda_l1': 0.869521778866278, 'lambda_l2': 0.9219075213690647}. Best is trial 24 with value: 0.8245454545454546.\n"
     ]
    },
    {
     "name": "stdout",
     "output_type": "stream",
     "text": [
      "Early stopping, best iteration is:\n",
      "[11]\tvalid_0's auc: 0.789242\n",
      "Training until validation scores don't improve for 30 rounds\n"
     ]
    },
    {
     "name": "stderr",
     "output_type": "stream",
     "text": [
      "[I 2025-08-05 14:24:11,496] Trial 33 finished with value: 0.751991341991342 and parameters: {'learning_rate': 0.06806324216267086, 'num_leaves': 115, 'max_depth': 9, 'min_child_samples': 19, 'feature_fraction': 0.8667081195043455, 'bagging_fraction': 0.8219180090493916, 'lambda_l1': 0.9971303755182941, 'lambda_l2': 0.6141693913264934}. Best is trial 24 with value: 0.8245454545454546.\n"
     ]
    },
    {
     "name": "stdout",
     "output_type": "stream",
     "text": [
      "Early stopping, best iteration is:\n",
      "[50]\tvalid_0's auc: 0.751991\n",
      "Training until validation scores don't improve for 30 rounds\n"
     ]
    },
    {
     "name": "stderr",
     "output_type": "stream",
     "text": [
      "[I 2025-08-05 14:24:12,369] Trial 34 finished with value: 0.782987012987013 and parameters: {'learning_rate': 0.04906570059823314, 'num_leaves': 111, 'max_depth': 12, 'min_child_samples': 23, 'feature_fraction': 0.8953336553189495, 'bagging_fraction': 0.9604986156347844, 'lambda_l1': 0.9169458188778585, 'lambda_l2': 0.841319229782846}. Best is trial 24 with value: 0.8245454545454546.\n"
     ]
    },
    {
     "name": "stdout",
     "output_type": "stream",
     "text": [
      "Early stopping, best iteration is:\n",
      "[45]\tvalid_0's auc: 0.782987\n",
      "Training until validation scores don't improve for 30 rounds\n"
     ]
    },
    {
     "name": "stderr",
     "output_type": "stream",
     "text": [
      "[I 2025-08-05 14:24:13,049] Trial 35 finished with value: 0.7769264069264069 and parameters: {'learning_rate': 0.05791480696080449, 'num_leaves': 128, 'max_depth': 15, 'min_child_samples': 17, 'feature_fraction': 0.8180215421901508, 'bagging_fraction': 0.993695951112187, 'lambda_l1': 0.8417504262312907, 'lambda_l2': 0.7524833535501646}. Best is trial 24 with value: 0.8245454545454546.\n"
     ]
    },
    {
     "name": "stdout",
     "output_type": "stream",
     "text": [
      "Early stopping, best iteration is:\n",
      "[24]\tvalid_0's auc: 0.776926\n",
      "Training until validation scores don't improve for 30 rounds\n"
     ]
    },
    {
     "name": "stderr",
     "output_type": "stream",
     "text": [
      "[I 2025-08-05 14:24:13,555] Trial 36 finished with value: 0.7741991341991341 and parameters: {'learning_rate': 0.03551806633002625, 'num_leaves': 104, 'max_depth': 10, 'min_child_samples': 12, 'feature_fraction': 0.9774845912738299, 'bagging_fraction': 0.8583326939900644, 'lambda_l1': 0.9294698199849624, 'lambda_l2': 0.9220428227913547}. Best is trial 24 with value: 0.8245454545454546.\n"
     ]
    },
    {
     "name": "stdout",
     "output_type": "stream",
     "text": [
      "Early stopping, best iteration is:\n",
      "[8]\tvalid_0's auc: 0.774199\n",
      "Training until validation scores don't improve for 30 rounds\n"
     ]
    },
    {
     "name": "stderr",
     "output_type": "stream",
     "text": [
      "[I 2025-08-05 14:24:14,464] Trial 37 finished with value: 0.7919047619047619 and parameters: {'learning_rate': 0.04315595981453339, 'num_leaves': 121, 'max_depth': 13, 'min_child_samples': 33, 'feature_fraction': 0.7723643637485449, 'bagging_fraction': 0.7295719669518865, 'lambda_l1': 0.7808590420808873, 'lambda_l2': 0.813171157384319}. Best is trial 24 with value: 0.8245454545454546.\n"
     ]
    },
    {
     "name": "stdout",
     "output_type": "stream",
     "text": [
      "Early stopping, best iteration is:\n",
      "[63]\tvalid_0's auc: 0.791905\n",
      "Training until validation scores don't improve for 30 rounds\n"
     ]
    },
    {
     "name": "stderr",
     "output_type": "stream",
     "text": [
      "[I 2025-08-05 14:24:15,321] Trial 38 finished with value: 0.7580952380952382 and parameters: {'learning_rate': 0.07342223217525272, 'num_leaves': 117, 'max_depth': 11, 'min_child_samples': 42, 'feature_fraction': 0.9089127989129266, 'bagging_fraction': 0.7698907779953228, 'lambda_l1': 0.20249953036233925, 'lambda_l2': 0.5835164405586422}. Best is trial 24 with value: 0.8245454545454546.\n"
     ]
    },
    {
     "name": "stdout",
     "output_type": "stream",
     "text": [
      "Early stopping, best iteration is:\n",
      "[49]\tvalid_0's auc: 0.758095\n",
      "Training until validation scores don't improve for 30 rounds\n"
     ]
    },
    {
     "name": "stderr",
     "output_type": "stream",
     "text": [
      "[I 2025-08-05 14:24:16,043] Trial 39 finished with value: 0.7726839826839826 and parameters: {'learning_rate': 0.08912517264914088, 'num_leaves': 74, 'max_depth': 14, 'min_child_samples': 30, 'feature_fraction': 0.9533170662871959, 'bagging_fraction': 0.678856713809315, 'lambda_l1': 0.900782944704651, 'lambda_l2': 0.6751950311926151}. Best is trial 24 with value: 0.8245454545454546.\n"
     ]
    },
    {
     "name": "stdout",
     "output_type": "stream",
     "text": [
      "Early stopping, best iteration is:\n",
      "[31]\tvalid_0's auc: 0.772684\n",
      "\n",
      "📍 Training for label: NR-PPAR-gamma\n"
     ]
    },
    {
     "name": "stderr",
     "output_type": "stream",
     "text": [
      "[I 2025-08-05 14:24:21,518] A new study created in memory with name: no-name-5cc3f7ff-5993-4e65-b770-ddde0eee1e1e\n"
     ]
    },
    {
     "name": "stdout",
     "output_type": "stream",
     "text": [
      "Training until validation scores don't improve for 30 rounds\n"
     ]
    },
    {
     "name": "stderr",
     "output_type": "stream",
     "text": [
      "[I 2025-08-05 14:24:22,030] Trial 0 finished with value: 0.6301076172860265 and parameters: {'learning_rate': 0.055851891261017604, 'num_leaves': 116, 'max_depth': 11, 'min_child_samples': 11, 'feature_fraction': 0.6523120937235138, 'bagging_fraction': 0.6570327647227141, 'lambda_l1': 0.07471887812937306, 'lambda_l2': 0.9344751536472559}. Best is trial 0 with value: 0.6301076172860265.\n"
     ]
    },
    {
     "name": "stdout",
     "output_type": "stream",
     "text": [
      "Early stopping, best iteration is:\n",
      "[32]\tvalid_0's auc: 0.630108\n",
      "Training until validation scores don't improve for 30 rounds\n",
      "Early stopping, best iteration is:\n",
      "[21]\tvalid_0's auc: 0.705986\n"
     ]
    },
    {
     "name": "stderr",
     "output_type": "stream",
     "text": [
      "[I 2025-08-05 14:24:22,405] Trial 1 finished with value: 0.7059862115352278 and parameters: {'learning_rate': 0.06968734028693242, 'num_leaves': 99, 'max_depth': 6, 'min_child_samples': 18, 'feature_fraction': 0.8032641101739166, 'bagging_fraction': 0.8813634620570883, 'lambda_l1': 0.27151514049443515, 'lambda_l2': 0.11178399433914499}. Best is trial 1 with value: 0.7059862115352278.\n",
      "[I 2025-08-05 14:24:22,757] Trial 2 finished with value: 0.7637884647721541 and parameters: {'learning_rate': 0.05929266775923158, 'num_leaves': 95, 'max_depth': 6, 'min_child_samples': 22, 'feature_fraction': 0.929795483296611, 'bagging_fraction': 0.9379312798294943, 'lambda_l1': 0.022332494886137755, 'lambda_l2': 0.13844876688851715}. Best is trial 2 with value: 0.7637884647721541.\n"
     ]
    },
    {
     "name": "stdout",
     "output_type": "stream",
     "text": [
      "Training until validation scores don't improve for 30 rounds\n",
      "Early stopping, best iteration is:\n",
      "[12]\tvalid_0's auc: 0.763788\n"
     ]
    },
    {
     "name": "stderr",
     "output_type": "stream",
     "text": [
      "[I 2025-08-05 14:24:23,073] Trial 3 finished with value: 0.7473516058516899 and parameters: {'learning_rate': 0.0910697366044662, 'num_leaves': 74, 'max_depth': 7, 'min_child_samples': 33, 'feature_fraction': 0.897354732859333, 'bagging_fraction': 0.9764168235928693, 'lambda_l1': 0.24893869916941103, 'lambda_l2': 0.7122127703322673}. Best is trial 2 with value: 0.7637884647721541.\n"
     ]
    },
    {
     "name": "stdout",
     "output_type": "stream",
     "text": [
      "Training until validation scores don't improve for 30 rounds\n",
      "Early stopping, best iteration is:\n",
      "[6]\tvalid_0's auc: 0.747352\n",
      "Training until validation scores don't improve for 30 rounds\n"
     ]
    },
    {
     "name": "stderr",
     "output_type": "stream",
     "text": [
      "[I 2025-08-05 14:24:23,462] Trial 4 finished with value: 0.6764755338826298 and parameters: {'learning_rate': 0.01183864822572399, 'num_leaves': 44, 'max_depth': 6, 'min_child_samples': 12, 'feature_fraction': 0.6705287168351306, 'bagging_fraction': 0.8232802939953653, 'lambda_l1': 0.8782230941352135, 'lambda_l2': 0.6461822912397072}. Best is trial 2 with value: 0.7637884647721541.\n"
     ]
    },
    {
     "name": "stdout",
     "output_type": "stream",
     "text": [
      "Early stopping, best iteration is:\n",
      "[55]\tvalid_0's auc: 0.676476\n",
      "Training until validation scores don't improve for 30 rounds\n"
     ]
    },
    {
     "name": "stderr",
     "output_type": "stream",
     "text": [
      "[I 2025-08-05 14:24:23,784] Trial 5 finished with value: 0.6812258281486463 and parameters: {'learning_rate': 0.024215124639248346, 'num_leaves': 90, 'max_depth': 14, 'min_child_samples': 16, 'feature_fraction': 0.8229044647031076, 'bagging_fraction': 0.7565529029432151, 'lambda_l1': 0.5392822327035841, 'lambda_l2': 0.4190718409536346}. Best is trial 2 with value: 0.7637884647721541.\n"
     ]
    },
    {
     "name": "stdout",
     "output_type": "stream",
     "text": [
      "Early stopping, best iteration is:\n",
      "[1]\tvalid_0's auc: 0.681226\n",
      "Training until validation scores don't improve for 30 rounds\n"
     ]
    },
    {
     "name": "stderr",
     "output_type": "stream",
     "text": [
      "[I 2025-08-05 14:24:24,098] Trial 6 finished with value: 0.6862703884311416 and parameters: {'learning_rate': 0.030930266081446972, 'num_leaves': 114, 'max_depth': 15, 'min_child_samples': 31, 'feature_fraction': 0.8201613392225942, 'bagging_fraction': 0.6157319711051928, 'lambda_l1': 0.721488155491583, 'lambda_l2': 0.32471816368553774}. Best is trial 2 with value: 0.7637884647721541.\n"
     ]
    },
    {
     "name": "stdout",
     "output_type": "stream",
     "text": [
      "Early stopping, best iteration is:\n",
      "[1]\tvalid_0's auc: 0.68627\n",
      "Training until validation scores don't improve for 30 rounds\n"
     ]
    },
    {
     "name": "stderr",
     "output_type": "stream",
     "text": [
      "[I 2025-08-05 14:24:24,441] Trial 7 finished with value: 0.6739532537413822 and parameters: {'learning_rate': 0.06128738709320763, 'num_leaves': 35, 'max_depth': 12, 'min_child_samples': 10, 'feature_fraction': 0.8739013722916051, 'bagging_fraction': 0.6969678172267366, 'lambda_l1': 0.45213100965178277, 'lambda_l2': 0.508536108320822}. Best is trial 2 with value: 0.7637884647721541.\n"
     ]
    },
    {
     "name": "stdout",
     "output_type": "stream",
     "text": [
      "Early stopping, best iteration is:\n",
      "[1]\tvalid_0's auc: 0.673953\n",
      "Training until validation scores don't improve for 30 rounds\n"
     ]
    },
    {
     "name": "stderr",
     "output_type": "stream",
     "text": [
      "[I 2025-08-05 14:24:24,752] Trial 8 finished with value: 0.6966958130149655 and parameters: {'learning_rate': 0.07104742788553053, 'num_leaves': 73, 'max_depth': 8, 'min_child_samples': 19, 'feature_fraction': 0.9015691220492466, 'bagging_fraction': 0.9372804924865674, 'lambda_l1': 0.8705064883786969, 'lambda_l2': 0.8890451815218322}. Best is trial 2 with value: 0.7637884647721541.\n"
     ]
    },
    {
     "name": "stdout",
     "output_type": "stream",
     "text": [
      "Early stopping, best iteration is:\n",
      "[1]\tvalid_0's auc: 0.696696\n",
      "Training until validation scores don't improve for 30 rounds\n"
     ]
    },
    {
     "name": "stderr",
     "output_type": "stream",
     "text": [
      "[I 2025-08-05 14:24:25,044] Trial 9 finished with value: 0.737598789305532 and parameters: {'learning_rate': 0.07451949590076534, 'num_leaves': 32, 'max_depth': 6, 'min_child_samples': 42, 'feature_fraction': 0.9182618681539082, 'bagging_fraction': 0.7723889707967535, 'lambda_l1': 0.5635285597196447, 'lambda_l2': 0.5294719581677513}. Best is trial 2 with value: 0.7637884647721541.\n"
     ]
    },
    {
     "name": "stdout",
     "output_type": "stream",
     "text": [
      "Early stopping, best iteration is:\n",
      "[6]\tvalid_0's auc: 0.737599\n",
      "Training until validation scores don't improve for 30 rounds\n"
     ]
    },
    {
     "name": "stderr",
     "output_type": "stream",
     "text": [
      "[I 2025-08-05 14:24:25,438] Trial 10 finished with value: 0.7419707415503616 and parameters: {'learning_rate': 0.041601267369356744, 'num_leaves': 57, 'max_depth': 9, 'min_child_samples': 49, 'feature_fraction': 0.9963321710759455, 'bagging_fraction': 0.8876286346755655, 'lambda_l1': 0.006007145993370405, 'lambda_l2': 0.09865187211872498}. Best is trial 2 with value: 0.7637884647721541.\n"
     ]
    },
    {
     "name": "stdout",
     "output_type": "stream",
     "text": [
      "Early stopping, best iteration is:\n",
      "[4]\tvalid_0's auc: 0.741971\n",
      "Training until validation scores don't improve for 30 rounds\n"
     ]
    },
    {
     "name": "stderr",
     "output_type": "stream",
     "text": [
      "[I 2025-08-05 14:24:25,813] Trial 11 finished with value: 0.6850092483605179 and parameters: {'learning_rate': 0.09951488142064191, 'num_leaves': 73, 'max_depth': 9, 'min_child_samples': 29, 'feature_fraction': 0.9884796258266866, 'bagging_fraction': 0.9702164180541816, 'lambda_l1': 0.21536558478362877, 'lambda_l2': 0.7099634779668826}. Best is trial 2 with value: 0.7637884647721541.\n"
     ]
    },
    {
     "name": "stdout",
     "output_type": "stream",
     "text": [
      "Early stopping, best iteration is:\n",
      "[1]\tvalid_0's auc: 0.685009\n"
     ]
    },
    {
     "name": "stderr",
     "output_type": "stream",
     "text": [
      "[I 2025-08-05 14:24:26,162] Trial 12 finished with value: 0.6833277282663528 and parameters: {'learning_rate': 0.09591044127633021, 'num_leaves': 94, 'max_depth': 8, 'min_child_samples': 28, 'feature_fraction': 0.9217586480018385, 'bagging_fraction': 0.9929736731447939, 'lambda_l1': 0.23114060552077131, 'lambda_l2': 0.2733164317046914}. Best is trial 2 with value: 0.7637884647721541.\n"
     ]
    },
    {
     "name": "stdout",
     "output_type": "stream",
     "text": [
      "Training until validation scores don't improve for 30 rounds\n",
      "Early stopping, best iteration is:\n",
      "[1]\tvalid_0's auc: 0.683328\n"
     ]
    },
    {
     "name": "stderr",
     "output_type": "stream",
     "text": [
      "[I 2025-08-05 14:24:26,511] Trial 13 finished with value: 0.6240541449470322 and parameters: {'learning_rate': 0.08494818711134589, 'num_leaves': 62, 'max_depth': 11, 'min_child_samples': 35, 'feature_fraction': 0.7230897393782096, 'bagging_fraction': 0.9060954539753086, 'lambda_l1': 0.35109103433870303, 'lambda_l2': 0.7646870981807756}. Best is trial 2 with value: 0.7637884647721541.\n"
     ]
    },
    {
     "name": "stdout",
     "output_type": "stream",
     "text": [
      "Training until validation scores don't improve for 30 rounds\n",
      "Early stopping, best iteration is:\n",
      "[3]\tvalid_0's auc: 0.624054\n"
     ]
    },
    {
     "name": "stderr",
     "output_type": "stream",
     "text": [
      "[I 2025-08-05 14:24:26,817] Trial 14 finished with value: 0.6865226164452665 and parameters: {'learning_rate': 0.04318740796918757, 'num_leaves': 84, 'max_depth': 8, 'min_child_samples': 22, 'feature_fraction': 0.7454233126771763, 'bagging_fraction': 0.8253438063408756, 'lambda_l1': 0.10418931783523899, 'lambda_l2': 0.23800916215783055}. Best is trial 2 with value: 0.7637884647721541.\n"
     ]
    },
    {
     "name": "stdout",
     "output_type": "stream",
     "text": [
      "Training until validation scores don't improve for 30 rounds\n",
      "Early stopping, best iteration is:\n",
      "[1]\tvalid_0's auc: 0.686523\n"
     ]
    },
    {
     "name": "stderr",
     "output_type": "stream",
     "text": [
      "[I 2025-08-05 14:24:27,176] Trial 15 finished with value: 0.7127122919118883 and parameters: {'learning_rate': 0.08526999348456103, 'num_leaves': 103, 'max_depth': 7, 'min_child_samples': 39, 'feature_fraction': 0.9522660745467005, 'bagging_fraction': 0.945015699648222, 'lambda_l1': 0.19420696752734262, 'lambda_l2': 0.6155917384493652}. Best is trial 2 with value: 0.7637884647721541.\n"
     ]
    },
    {
     "name": "stdout",
     "output_type": "stream",
     "text": [
      "Training until validation scores don't improve for 30 rounds\n",
      "Early stopping, best iteration is:\n",
      "[6]\tvalid_0's auc: 0.712712\n"
     ]
    },
    {
     "name": "stderr",
     "output_type": "stream",
     "text": [
      "[I 2025-08-05 14:24:27,547] Trial 16 finished with value: 0.7389019673785101 and parameters: {'learning_rate': 0.08412711565388208, 'num_leaves': 77, 'max_depth': 10, 'min_child_samples': 24, 'feature_fraction': 0.8614956302641692, 'bagging_fraction': 0.9974306895284691, 'lambda_l1': 0.37643517226466616, 'lambda_l2': 0.0102076154824845}. Best is trial 2 with value: 0.7637884647721541.\n"
     ]
    },
    {
     "name": "stdout",
     "output_type": "stream",
     "text": [
      "Training until validation scores don't improve for 30 rounds\n",
      "Early stopping, best iteration is:\n",
      "[1]\tvalid_0's auc: 0.738902\n",
      "Training until validation scores don't improve for 30 rounds\n",
      "Early stopping, best iteration is:\n",
      "[8]\tvalid_0's auc: 0.695014\n"
     ]
    },
    {
     "name": "stderr",
     "output_type": "stream",
     "text": [
      "[I 2025-08-05 14:24:27,905] Trial 17 finished with value: 0.6950142929208004 and parameters: {'learning_rate': 0.04599589266991165, 'num_leaves': 58, 'max_depth': 13, 'min_child_samples': 35, 'feature_fraction': 0.8618744370671169, 'bagging_fraction': 0.8560488583523406, 'lambda_l1': 0.10603457062770635, 'lambda_l2': 0.8230973434963065}. Best is trial 2 with value: 0.7637884647721541.\n",
      "[I 2025-08-05 14:24:28,256] Trial 18 finished with value: 0.681141752143938 and parameters: {'learning_rate': 0.06212555403562462, 'num_leaves': 128, 'max_depth': 16, 'min_child_samples': 25, 'feature_fraction': 0.6069633278967397, 'bagging_fraction': 0.9307608612954508, 'lambda_l1': 0.0071956306289057866, 'lambda_l2': 0.9970331834207418}. Best is trial 2 with value: 0.7637884647721541.\n"
     ]
    },
    {
     "name": "stdout",
     "output_type": "stream",
     "text": [
      "Training until validation scores don't improve for 30 rounds\n",
      "Early stopping, best iteration is:\n",
      "[2]\tvalid_0's auc: 0.681142\n",
      "Training until validation scores don't improve for 30 rounds\n",
      "Early stopping, best iteration is:\n",
      "[8]\tvalid_0's auc: 0.718135\n"
     ]
    },
    {
     "name": "stderr",
     "output_type": "stream",
     "text": [
      "[I 2025-08-05 14:24:28,636] Trial 19 finished with value: 0.7181351942155708 and parameters: {'learning_rate': 0.0902444581942069, 'num_leaves': 111, 'max_depth': 7, 'min_child_samples': 45, 'feature_fraction': 0.9602812663703567, 'bagging_fraction': 0.7218289087207841, 'lambda_l1': 0.32267641926660073, 'lambda_l2': 0.3933411202633126}. Best is trial 2 with value: 0.7637884647721541.\n",
      "[I 2025-08-05 14:24:28,973] Trial 20 finished with value: 0.6883722885488481 and parameters: {'learning_rate': 0.07716577249363386, 'num_leaves': 85, 'max_depth': 7, 'min_child_samples': 34, 'feature_fraction': 0.7694170329686886, 'bagging_fraction': 0.9547813317837573, 'lambda_l1': 0.6835731139921961, 'lambda_l2': 0.18363209007213854}. Best is trial 2 with value: 0.7637884647721541.\n"
     ]
    },
    {
     "name": "stdout",
     "output_type": "stream",
     "text": [
      "Training until validation scores don't improve for 30 rounds\n",
      "Early stopping, best iteration is:\n",
      "[1]\tvalid_0's auc: 0.688372\n",
      "Training until validation scores don't improve for 30 rounds\n",
      "Early stopping, best iteration is:\n",
      "[6]\tvalid_0's auc: 0.749748\n"
     ]
    },
    {
     "name": "stderr",
     "output_type": "stream",
     "text": [
      "[I 2025-08-05 14:24:29,377] Trial 21 finished with value: 0.7497477719858753 and parameters: {'learning_rate': 0.04408928135172679, 'num_leaves': 55, 'max_depth': 9, 'min_child_samples': 49, 'feature_fraction': 0.9875875625581522, 'bagging_fraction': 0.8866378490674947, 'lambda_l1': 0.030879369043921575, 'lambda_l2': 0.017790074029269312}. Best is trial 2 with value: 0.7637884647721541.\n"
     ]
    },
    {
     "name": "stdout",
     "output_type": "stream",
     "text": [
      "Training until validation scores don't improve for 30 rounds\n"
     ]
    },
    {
     "name": "stderr",
     "output_type": "stream",
     "text": [
      "[I 2025-08-05 14:24:29,787] Trial 22 finished with value: 0.7247771985875231 and parameters: {'learning_rate': 0.033821005171911056, 'num_leaves': 47, 'max_depth': 9, 'min_child_samples': 50, 'feature_fraction': 0.9481410313098387, 'bagging_fraction': 0.9069585094550029, 'lambda_l1': 0.15863097104952936, 'lambda_l2': 0.013506339986920062}. Best is trial 2 with value: 0.7637884647721541.\n"
     ]
    },
    {
     "name": "stdout",
     "output_type": "stream",
     "text": [
      "Early stopping, best iteration is:\n",
      "[10]\tvalid_0's auc: 0.724777\n",
      "Training until validation scores don't improve for 30 rounds\n",
      "Early stopping, best iteration is:\n",
      "[3]\tvalid_0's auc: 0.733227\n"
     ]
    },
    {
     "name": "stderr",
     "output_type": "stream",
     "text": [
      "[I 2025-08-05 14:24:30,195] Trial 23 finished with value: 0.7332268370607029 and parameters: {'learning_rate': 0.04957813161649717, 'num_leaves': 66, 'max_depth': 10, 'min_child_samples': 39, 'feature_fraction': 0.8905673519360554, 'bagging_fraction': 0.8422295723152047, 'lambda_l1': 0.004712621632363318, 'lambda_l2': 0.1518829576660381}. Best is trial 2 with value: 0.7637884647721541.\n"
     ]
    },
    {
     "name": "stdout",
     "output_type": "stream",
     "text": [
      "Training until validation scores don't improve for 30 rounds\n"
     ]
    },
    {
     "name": "stderr",
     "output_type": "stream",
     "text": [
      "[I 2025-08-05 14:24:30,636] Trial 24 finished with value: 0.7268370607028753 and parameters: {'learning_rate': 0.016854915209614137, 'num_leaves': 69, 'max_depth': 7, 'min_child_samples': 46, 'feature_fraction': 0.9672446905655193, 'bagging_fraction': 0.8628744266758561, 'lambda_l1': 0.12885687646217758, 'lambda_l2': 0.06615529422026564}. Best is trial 2 with value: 0.7637884647721541.\n"
     ]
    },
    {
     "name": "stdout",
     "output_type": "stream",
     "text": [
      "Early stopping, best iteration is:\n",
      "[31]\tvalid_0's auc: 0.726837\n"
     ]
    },
    {
     "name": "stderr",
     "output_type": "stream",
     "text": [
      "[I 2025-08-05 14:24:30,946] Trial 25 finished with value: 0.6951404069278627 and parameters: {'learning_rate': 0.03546700842283565, 'num_leaves': 52, 'max_depth': 8, 'min_child_samples': 21, 'feature_fraction': 0.9305342791813053, 'bagging_fraction': 0.9161629017896656, 'lambda_l1': 0.42466814782188406, 'lambda_l2': 0.6020811283877243}. Best is trial 2 with value: 0.7637884647721541.\n"
     ]
    },
    {
     "name": "stdout",
     "output_type": "stream",
     "text": [
      "Training until validation scores don't improve for 30 rounds\n",
      "Early stopping, best iteration is:\n",
      "[1]\tvalid_0's auc: 0.69514\n"
     ]
    },
    {
     "name": "stderr",
     "output_type": "stream",
     "text": [
      "[I 2025-08-05 14:24:31,287] Trial 26 finished with value: 0.7603833865814695 and parameters: {'learning_rate': 0.052841613236098706, 'num_leaves': 83, 'max_depth': 6, 'min_child_samples': 15, 'feature_fraction': 0.9939798776160274, 'bagging_fraction': 0.9740473291734575, 'lambda_l1': 0.29239797518846383, 'lambda_l2': 0.40313729057317554}. Best is trial 2 with value: 0.7637884647721541.\n"
     ]
    },
    {
     "name": "stdout",
     "output_type": "stream",
     "text": [
      "Training until validation scores don't improve for 30 rounds\n",
      "Early stopping, best iteration is:\n",
      "[4]\tvalid_0's auc: 0.760383\n"
     ]
    },
    {
     "name": "stderr",
     "output_type": "stream",
     "text": [
      "[I 2025-08-05 14:24:31,675] Trial 27 finished with value: 0.7597948545485118 and parameters: {'learning_rate': 0.05412966554474731, 'num_leaves': 82, 'max_depth': 6, 'min_child_samples': 15, 'feature_fraction': 0.9893466915171727, 'bagging_fraction': 0.8821065286781041, 'lambda_l1': 0.0627041677348267, 'lambda_l2': 0.2204882592461448}. Best is trial 2 with value: 0.7637884647721541.\n"
     ]
    },
    {
     "name": "stdout",
     "output_type": "stream",
     "text": [
      "Training until validation scores don't improve for 30 rounds\n",
      "Early stopping, best iteration is:\n",
      "[13]\tvalid_0's auc: 0.759795\n"
     ]
    },
    {
     "name": "stderr",
     "output_type": "stream",
     "text": [
      "[I 2025-08-05 14:24:32,042] Trial 28 finished with value: 0.7222549184462754 and parameters: {'learning_rate': 0.06285226866998332, 'num_leaves': 104, 'max_depth': 6, 'min_child_samples': 15, 'feature_fraction': 0.9987041344633086, 'bagging_fraction': 0.9650520800560343, 'lambda_l1': 0.9995780883028367, 'lambda_l2': 0.37219191432153176}. Best is trial 2 with value: 0.7637884647721541.\n"
     ]
    },
    {
     "name": "stdout",
     "output_type": "stream",
     "text": [
      "Training until validation scores don't improve for 30 rounds\n",
      "Early stopping, best iteration is:\n",
      "[11]\tvalid_0's auc: 0.722255\n",
      "Training until validation scores don't improve for 30 rounds\n",
      "Early stopping, best iteration is:\n",
      "[19]\tvalid_0's auc: 0.741256\n"
     ]
    },
    {
     "name": "stderr",
     "output_type": "stream",
     "text": [
      "[I 2025-08-05 14:24:32,475] Trial 29 finished with value: 0.7412560955103413 and parameters: {'learning_rate': 0.05728312404767354, 'num_leaves': 91, 'max_depth': 6, 'min_child_samples': 13, 'feature_fraction': 0.9665330422712833, 'bagging_fraction': 0.7850772506385442, 'lambda_l1': 0.08363594345505868, 'lambda_l2': 0.23225529118343347}. Best is trial 2 with value: 0.7637884647721541.\n",
      "[I 2025-08-05 14:24:32,878] Trial 30 finished with value: 0.6855977803934756 and parameters: {'learning_rate': 0.053433554918332314, 'num_leaves': 83, 'max_depth': 10, 'min_child_samples': 16, 'feature_fraction': 0.935460232470893, 'bagging_fraction': 0.8114489248707174, 'lambda_l1': 0.29853907374529975, 'lambda_l2': 0.3340861984044575}. Best is trial 2 with value: 0.7637884647721541.\n"
     ]
    },
    {
     "name": "stdout",
     "output_type": "stream",
     "text": [
      "Training until validation scores don't improve for 30 rounds\n",
      "Early stopping, best iteration is:\n",
      "[1]\tvalid_0's auc: 0.685598\n",
      "Training until validation scores don't improve for 30 rounds\n",
      "Early stopping, best iteration is:\n",
      "[1]\tvalid_0's auc: 0.699344\n"
     ]
    },
    {
     "name": "stderr",
     "output_type": "stream",
     "text": [
      "[I 2025-08-05 14:24:33,313] Trial 31 finished with value: 0.6993442071632755 and parameters: {'learning_rate': 0.05173406819229554, 'num_leaves': 81, 'max_depth': 12, 'min_child_samples': 26, 'feature_fraction': 0.9782499431822261, 'bagging_fraction': 0.8883459165296576, 'lambda_l1': 0.07340543190558879, 'lambda_l2': 0.20132420273676077}. Best is trial 2 with value: 0.7637884647721541.\n",
      "[I 2025-08-05 14:24:33,667] Trial 32 finished with value: 0.744408945686901 and parameters: {'learning_rate': 0.06534561471305834, 'num_leaves': 97, 'max_depth': 6, 'min_child_samples': 19, 'feature_fraction': 0.9811144652553841, 'bagging_fraction': 0.8708317192226268, 'lambda_l1': 0.05219938369697683, 'lambda_l2': 0.13012786530440462}. Best is trial 2 with value: 0.7637884647721541.\n"
     ]
    },
    {
     "name": "stdout",
     "output_type": "stream",
     "text": [
      "Training until validation scores don't improve for 30 rounds\n",
      "Early stopping, best iteration is:\n",
      "[7]\tvalid_0's auc: 0.744409\n"
     ]
    },
    {
     "name": "stderr",
     "output_type": "stream",
     "text": [
      "[I 2025-08-05 14:24:34,014] Trial 33 finished with value: 0.6934168488313435 and parameters: {'learning_rate': 0.05633878009275918, 'num_leaves': 88, 'max_depth': 7, 'min_child_samples': 13, 'feature_fraction': 0.9422555268364217, 'bagging_fraction': 0.9233354854871529, 'lambda_l1': 0.16873780049693432, 'lambda_l2': 0.29168647672029385}. Best is trial 2 with value: 0.7637884647721541.\n"
     ]
    },
    {
     "name": "stdout",
     "output_type": "stream",
     "text": [
      "Training until validation scores don't improve for 30 rounds\n",
      "Early stopping, best iteration is:\n",
      "[4]\tvalid_0's auc: 0.693417\n"
     ]
    },
    {
     "name": "stderr",
     "output_type": "stream",
     "text": [
      "[I 2025-08-05 14:24:34,375] Trial 34 finished with value: 0.7899781402387758 and parameters: {'learning_rate': 0.04124696512605132, 'num_leaves': 105, 'max_depth': 6, 'min_child_samples': 22, 'feature_fraction': 0.9998996424528095, 'bagging_fraction': 0.9016029580160408, 'lambda_l1': 0.27283090417168004, 'lambda_l2': 0.0671612625088665}. Best is trial 34 with value: 0.7899781402387758.\n"
     ]
    },
    {
     "name": "stdout",
     "output_type": "stream",
     "text": [
      "Training until validation scores don't improve for 30 rounds\n",
      "Early stopping, best iteration is:\n",
      "[5]\tvalid_0's auc: 0.789978\n"
     ]
    },
    {
     "name": "stderr",
     "output_type": "stream",
     "text": [
      "[I 2025-08-05 14:24:34,711] Trial 35 finished with value: 0.7881705061375482 and parameters: {'learning_rate': 0.03859088446163864, 'num_leaves': 107, 'max_depth': 6, 'min_child_samples': 21, 'feature_fraction': 0.9024351555638191, 'bagging_fraction': 0.9762999303575185, 'lambda_l1': 0.24866245856088226, 'lambda_l2': 0.07137790913683473}. Best is trial 34 with value: 0.7899781402387758.\n"
     ]
    },
    {
     "name": "stdout",
     "output_type": "stream",
     "text": [
      "Training until validation scores don't improve for 30 rounds\n",
      "Early stopping, best iteration is:\n",
      "[2]\tvalid_0's auc: 0.788171\n"
     ]
    },
    {
     "name": "stderr",
     "output_type": "stream",
     "text": [
      "[I 2025-08-05 14:24:35,051] Trial 36 finished with value: 0.7798049436690768 and parameters: {'learning_rate': 0.02880705998737478, 'num_leaves': 109, 'max_depth': 6, 'min_child_samples': 21, 'feature_fraction': 0.84241246074524, 'bagging_fraction': 0.9828707315393895, 'lambda_l1': 0.2699221231579739, 'lambda_l2': 0.07697095039466667}. Best is trial 34 with value: 0.7899781402387758.\n"
     ]
    },
    {
     "name": "stdout",
     "output_type": "stream",
     "text": [
      "Training until validation scores don't improve for 30 rounds\n",
      "Early stopping, best iteration is:\n",
      "[6]\tvalid_0's auc: 0.779805\n"
     ]
    },
    {
     "name": "stderr",
     "output_type": "stream",
     "text": [
      "[I 2025-08-05 14:24:35,408] Trial 37 finished with value: 0.7342357491172019 and parameters: {'learning_rate': 0.025551923925135816, 'num_leaves': 121, 'max_depth': 7, 'min_child_samples': 22, 'feature_fraction': 0.8128527532863151, 'bagging_fraction': 0.9923139835066275, 'lambda_l1': 0.42677890162478993, 'lambda_l2': 0.07674784342025243}. Best is trial 34 with value: 0.7899781402387758.\n"
     ]
    },
    {
     "name": "stdout",
     "output_type": "stream",
     "text": [
      "Training until validation scores don't improve for 30 rounds\n",
      "Early stopping, best iteration is:\n",
      "[1]\tvalid_0's auc: 0.734236\n"
     ]
    },
    {
     "name": "stderr",
     "output_type": "stream",
     "text": [
      "[I 2025-08-05 14:24:35,765] Trial 38 finished with value: 0.7351605851689927 and parameters: {'learning_rate': 0.026539934936843212, 'num_leaves': 109, 'max_depth': 8, 'min_child_samples': 27, 'feature_fraction': 0.8778037364100757, 'bagging_fraction': 0.9505420148834753, 'lambda_l1': 0.25412886763567444, 'lambda_l2': 0.13907385475413292}. Best is trial 34 with value: 0.7899781402387758.\n"
     ]
    },
    {
     "name": "stdout",
     "output_type": "stream",
     "text": [
      "Training until validation scores don't improve for 30 rounds\n",
      "Early stopping, best iteration is:\n",
      "[1]\tvalid_0's auc: 0.735161\n"
     ]
    },
    {
     "name": "stderr",
     "output_type": "stream",
     "text": [
      "[I 2025-08-05 14:24:36,078] Trial 39 finished with value: 0.7620649066756348 and parameters: {'learning_rate': 0.021239744315718304, 'num_leaves': 119, 'max_depth': 6, 'min_child_samples': 31, 'feature_fraction': 0.8442891791482179, 'bagging_fraction': 0.9722909248242093, 'lambda_l1': 0.558135429382681, 'lambda_l2': 0.07304025366405784}. Best is trial 34 with value: 0.7899781402387758.\n"
     ]
    },
    {
     "name": "stdout",
     "output_type": "stream",
     "text": [
      "Training until validation scores don't improve for 30 rounds\n",
      "Early stopping, best iteration is:\n",
      "[2]\tvalid_0's auc: 0.762065\n",
      "\n",
      "📍 Training for label: SR-ARE\n"
     ]
    },
    {
     "name": "stderr",
     "output_type": "stream",
     "text": [
      "[I 2025-08-05 14:24:42,549] A new study created in memory with name: no-name-dee8099e-4ddf-4dba-b80f-af5f2def7eeb\n"
     ]
    },
    {
     "name": "stdout",
     "output_type": "stream",
     "text": [
      "Training until validation scores don't improve for 30 rounds\n"
     ]
    },
    {
     "name": "stderr",
     "output_type": "stream",
     "text": [
      "[I 2025-08-05 14:24:43,344] Trial 0 finished with value: 0.8848496714963234 and parameters: {'learning_rate': 0.08790369874788248, 'num_leaves': 56, 'max_depth': 11, 'min_child_samples': 44, 'feature_fraction': 0.609760548577095, 'bagging_fraction': 0.831936148341998, 'lambda_l1': 0.6145499715918006, 'lambda_l2': 0.565650665649257}. Best is trial 0 with value: 0.8848496714963234.\n"
     ]
    },
    {
     "name": "stdout",
     "output_type": "stream",
     "text": [
      "Did not meet early stopping. Best iteration is:\n",
      "[74]\tvalid_0's auc: 0.88485\n",
      "Training until validation scores don't improve for 30 rounds\n"
     ]
    },
    {
     "name": "stderr",
     "output_type": "stream",
     "text": [
      "[I 2025-08-05 14:24:44,531] Trial 1 finished with value: 0.8761693425575425 and parameters: {'learning_rate': 0.041289341369080204, 'num_leaves': 45, 'max_depth': 15, 'min_child_samples': 14, 'feature_fraction': 0.7900694548806567, 'bagging_fraction': 0.6885961972928756, 'lambda_l1': 0.21720267034272744, 'lambda_l2': 0.7785502318431414}. Best is trial 0 with value: 0.8848496714963234.\n"
     ]
    },
    {
     "name": "stdout",
     "output_type": "stream",
     "text": [
      "Did not meet early stopping. Best iteration is:\n",
      "[99]\tvalid_0's auc: 0.876169\n",
      "Training until validation scores don't improve for 30 rounds\n"
     ]
    },
    {
     "name": "stderr",
     "output_type": "stream",
     "text": [
      "[I 2025-08-05 14:24:45,515] Trial 2 finished with value: 0.8685115085062873 and parameters: {'learning_rate': 0.043639868281565755, 'num_leaves': 81, 'max_depth': 7, 'min_child_samples': 12, 'feature_fraction': 0.8303943975663887, 'bagging_fraction': 0.9012888869582721, 'lambda_l1': 0.13963308427189958, 'lambda_l2': 0.8181056665584121}. Best is trial 0 with value: 0.8848496714963234.\n"
     ]
    },
    {
     "name": "stdout",
     "output_type": "stream",
     "text": [
      "Did not meet early stopping. Best iteration is:\n",
      "[100]\tvalid_0's auc: 0.868512\n",
      "Training until validation scores don't improve for 30 rounds\n"
     ]
    },
    {
     "name": "stderr",
     "output_type": "stream",
     "text": [
      "[I 2025-08-05 14:24:46,568] Trial 3 finished with value: 0.882652395248662 and parameters: {'learning_rate': 0.03694006479534331, 'num_leaves': 76, 'max_depth': 11, 'min_child_samples': 36, 'feature_fraction': 0.6753439722194021, 'bagging_fraction': 0.8828569180819063, 'lambda_l1': 0.11149436937371571, 'lambda_l2': 0.35237784099446556}. Best is trial 0 with value: 0.8848496714963234.\n"
     ]
    },
    {
     "name": "stdout",
     "output_type": "stream",
     "text": [
      "Did not meet early stopping. Best iteration is:\n",
      "[99]\tvalid_0's auc: 0.882652\n",
      "Training until validation scores don't improve for 30 rounds\n"
     ]
    },
    {
     "name": "stderr",
     "output_type": "stream",
     "text": [
      "[I 2025-08-05 14:24:47,542] Trial 4 finished with value: 0.8501827437671322 and parameters: {'learning_rate': 0.01298810419013741, 'num_leaves': 73, 'max_depth': 8, 'min_child_samples': 25, 'feature_fraction': 0.6814177721506478, 'bagging_fraction': 0.739571340100603, 'lambda_l1': 0.5219946672076905, 'lambda_l2': 0.7984848523119183}. Best is trial 0 with value: 0.8848496714963234.\n"
     ]
    },
    {
     "name": "stdout",
     "output_type": "stream",
     "text": [
      "Did not meet early stopping. Best iteration is:\n",
      "[100]\tvalid_0's auc: 0.850183\n",
      "Training until validation scores don't improve for 30 rounds\n"
     ]
    },
    {
     "name": "stderr",
     "output_type": "stream",
     "text": [
      "[I 2025-08-05 14:24:48,407] Trial 5 finished with value: 0.865552799895575 and parameters: {'learning_rate': 0.09145790318952757, 'num_leaves': 70, 'max_depth': 10, 'min_child_samples': 47, 'feature_fraction': 0.8581992483798989, 'bagging_fraction': 0.8946390487538332, 'lambda_l1': 0.6473851620473475, 'lambda_l2': 0.4016461789022462}. Best is trial 0 with value: 0.8848496714963234.\n"
     ]
    },
    {
     "name": "stdout",
     "output_type": "stream",
     "text": [
      "Did not meet early stopping. Best iteration is:\n",
      "[99]\tvalid_0's auc: 0.865553\n",
      "Training until validation scores don't improve for 30 rounds\n"
     ]
    },
    {
     "name": "stderr",
     "output_type": "stream",
     "text": [
      "[I 2025-08-05 14:24:49,397] Trial 6 finished with value: 0.8787364573815429 and parameters: {'learning_rate': 0.0966327999959079, 'num_leaves': 49, 'max_depth': 13, 'min_child_samples': 34, 'feature_fraction': 0.7738785175975672, 'bagging_fraction': 0.6425187297374529, 'lambda_l1': 0.49973850948146503, 'lambda_l2': 0.3192614775437881}. Best is trial 0 with value: 0.8848496714963234.\n"
     ]
    },
    {
     "name": "stdout",
     "output_type": "stream",
     "text": [
      "Did not meet early stopping. Best iteration is:\n",
      "[75]\tvalid_0's auc: 0.878736\n",
      "Training until validation scores don't improve for 30 rounds\n"
     ]
    },
    {
     "name": "stderr",
     "output_type": "stream",
     "text": [
      "[I 2025-08-05 14:24:50,493] Trial 7 finished with value: 0.8459078449288605 and parameters: {'learning_rate': 0.010677163010468093, 'num_leaves': 94, 'max_depth': 9, 'min_child_samples': 36, 'feature_fraction': 0.871232592172952, 'bagging_fraction': 0.6700768035351277, 'lambda_l1': 0.7954047797810158, 'lambda_l2': 0.4792429509403221}. Best is trial 0 with value: 0.8848496714963234.\n"
     ]
    },
    {
     "name": "stdout",
     "output_type": "stream",
     "text": [
      "Did not meet early stopping. Best iteration is:\n",
      "[99]\tvalid_0's auc: 0.845908\n",
      "Training until validation scores don't improve for 30 rounds\n"
     ]
    },
    {
     "name": "stderr",
     "output_type": "stream",
     "text": [
      "[I 2025-08-05 14:24:51,999] Trial 8 finished with value: 0.856328590697472 and parameters: {'learning_rate': 0.03583273634731592, 'num_leaves': 119, 'max_depth': 9, 'min_child_samples': 11, 'feature_fraction': 0.8768240750784003, 'bagging_fraction': 0.7018911815995732, 'lambda_l1': 0.696546094699466, 'lambda_l2': 0.5151649659626323}. Best is trial 0 with value: 0.8848496714963234.\n"
     ]
    },
    {
     "name": "stdout",
     "output_type": "stream",
     "text": [
      "Did not meet early stopping. Best iteration is:\n",
      "[100]\tvalid_0's auc: 0.856329\n",
      "Training until validation scores don't improve for 30 rounds\n"
     ]
    },
    {
     "name": "stderr",
     "output_type": "stream",
     "text": [
      "[I 2025-08-05 14:24:53,520] Trial 9 finished with value: 0.8766914676064917 and parameters: {'learning_rate': 0.03730096754756679, 'num_leaves': 85, 'max_depth': 10, 'min_child_samples': 18, 'feature_fraction': 0.830008008711133, 'bagging_fraction': 0.9554584950810614, 'lambda_l1': 0.1251207597468561, 'lambda_l2': 0.7748453770616366}. Best is trial 0 with value: 0.8848496714963234.\n"
     ]
    },
    {
     "name": "stdout",
     "output_type": "stream",
     "text": [
      "Did not meet early stopping. Best iteration is:\n",
      "[97]\tvalid_0's auc: 0.876691\n",
      "Training until validation scores don't improve for 30 rounds\n"
     ]
    },
    {
     "name": "stderr",
     "output_type": "stream",
     "text": [
      "[I 2025-08-05 14:24:54,243] Trial 10 finished with value: 0.8774528999695427 and parameters: {'learning_rate': 0.0738566777025282, 'num_leaves': 32, 'max_depth': 14, 'min_child_samples': 50, 'feature_fraction': 0.6017912921600221, 'bagging_fraction': 0.7962652572213629, 'lambda_l1': 0.9513916334500773, 'lambda_l2': 0.00833294136139251}. Best is trial 0 with value: 0.8848496714963234.\n"
     ]
    },
    {
     "name": "stdout",
     "output_type": "stream",
     "text": [
      "Did not meet early stopping. Best iteration is:\n",
      "[99]\tvalid_0's auc: 0.877453\n",
      "Training until validation scores don't improve for 30 rounds\n"
     ]
    },
    {
     "name": "stderr",
     "output_type": "stream",
     "text": [
      "[I 2025-08-05 14:24:55,136] Trial 11 finished with value: 0.8769307749205936 and parameters: {'learning_rate': 0.06877152543262056, 'num_leaves': 66, 'max_depth': 12, 'min_child_samples': 41, 'feature_fraction': 0.6083743145582817, 'bagging_fraction': 0.8362920754541201, 'lambda_l1': 0.3526190953026249, 'lambda_l2': 0.18881720326213297}. Best is trial 0 with value: 0.8848496714963234.\n"
     ]
    },
    {
     "name": "stdout",
     "output_type": "stream",
     "text": [
      "Did not meet early stopping. Best iteration is:\n",
      "[99]\tvalid_0's auc: 0.876931\n",
      "Training until validation scores don't improve for 30 rounds\n"
     ]
    },
    {
     "name": "stderr",
     "output_type": "stream",
     "text": [
      "[I 2025-08-05 14:24:56,173] Trial 12 finished with value: 0.8732976547883219 and parameters: {'learning_rate': 0.06082782423697336, 'num_leaves': 103, 'max_depth': 12, 'min_child_samples': 41, 'feature_fraction': 0.6949355160024886, 'bagging_fraction': 0.9927965700470656, 'lambda_l1': 0.004229928504174252, 'lambda_l2': 0.593528279945751}. Best is trial 0 with value: 0.8848496714963234.\n"
     ]
    },
    {
     "name": "stdout",
     "output_type": "stream",
     "text": [
      "Did not meet early stopping. Best iteration is:\n",
      "[99]\tvalid_0's auc: 0.873298\n",
      "Training until validation scores don't improve for 30 rounds\n"
     ]
    },
    {
     "name": "stderr",
     "output_type": "stream",
     "text": [
      "[I 2025-08-05 14:24:57,297] Trial 13 finished with value: 0.8838924422399165 and parameters: {'learning_rate': 0.08216996464080982, 'num_leaves': 56, 'max_depth': 16, 'min_child_samples': 27, 'feature_fraction': 0.6790062027365537, 'bagging_fraction': 0.8164581607096624, 'lambda_l1': 0.35299196716838266, 'lambda_l2': 0.6235730819494592}. Best is trial 0 with value: 0.8848496714963234.\n"
     ]
    },
    {
     "name": "stdout",
     "output_type": "stream",
     "text": [
      "Did not meet early stopping. Best iteration is:\n",
      "[99]\tvalid_0's auc: 0.883892\n",
      "Training until validation scores don't improve for 30 rounds\n"
     ]
    },
    {
     "name": "stderr",
     "output_type": "stream",
     "text": [
      "[I 2025-08-05 14:24:58,821] Trial 14 finished with value: 0.8818692076752382 and parameters: {'learning_rate': 0.07859478113470852, 'num_leaves': 59, 'max_depth': 16, 'min_child_samples': 26, 'feature_fraction': 0.9713620280015506, 'bagging_fraction': 0.7859357076412792, 'lambda_l1': 0.3523359571107398, 'lambda_l2': 0.9689141496901982}. Best is trial 0 with value: 0.8848496714963234.\n"
     ]
    },
    {
     "name": "stdout",
     "output_type": "stream",
     "text": [
      "Did not meet early stopping. Best iteration is:\n",
      "[96]\tvalid_0's auc: 0.881869\n",
      "Training until validation scores don't improve for 30 rounds\n"
     ]
    },
    {
     "name": "stderr",
     "output_type": "stream",
     "text": [
      "[I 2025-08-05 14:24:59,435] Trial 15 finished with value: 0.8735369621024236 and parameters: {'learning_rate': 0.0861707886091397, 'num_leaves': 52, 'max_depth': 6, 'min_child_samples': 23, 'feature_fraction': 0.7325470603732565, 'bagging_fraction': 0.8454125695339423, 'lambda_l1': 0.4311796196266131, 'lambda_l2': 0.6466765497639467}. Best is trial 0 with value: 0.8848496714963234.\n"
     ]
    },
    {
     "name": "stdout",
     "output_type": "stream",
     "text": [
      "Did not meet early stopping. Best iteration is:\n",
      "[100]\tvalid_0's auc: 0.873537\n",
      "Training until validation scores don't improve for 30 rounds\n"
     ]
    },
    {
     "name": "stderr",
     "output_type": "stream",
     "text": [
      "[I 2025-08-05 14:25:00,245] Trial 16 finished with value: 0.8714919723273724 and parameters: {'learning_rate': 0.08330433453940232, 'num_leaves': 33, 'max_depth': 16, 'min_child_samples': 30, 'feature_fraction': 0.6438283250371312, 'bagging_fraction': 0.7510052511977933, 'lambda_l1': 0.5959963524172641, 'lambda_l2': 0.6661931088621234}. Best is trial 0 with value: 0.8848496714963234.\n"
     ]
    },
    {
     "name": "stdout",
     "output_type": "stream",
     "text": [
      "Did not meet early stopping. Best iteration is:\n",
      "[89]\tvalid_0's auc: 0.871492\n",
      "Training until validation scores don't improve for 30 rounds\n"
     ]
    },
    {
     "name": "stderr",
     "output_type": "stream",
     "text": [
      "[I 2025-08-05 14:25:01,258] Trial 17 finished with value: 0.8865030674846627 and parameters: {'learning_rate': 0.0986866663496101, 'num_leaves': 60, 'max_depth': 14, 'min_child_samples': 42, 'feature_fraction': 0.7418151666557702, 'bagging_fraction': 0.8430204354527566, 'lambda_l1': 0.8291217679044717, 'lambda_l2': 0.2199745535561357}. Best is trial 17 with value: 0.8865030674846627.\n"
     ]
    },
    {
     "name": "stdout",
     "output_type": "stream",
     "text": [
      "Did not meet early stopping. Best iteration is:\n",
      "[100]\tvalid_0's auc: 0.886503\n",
      "Training until validation scores don't improve for 30 rounds\n"
     ]
    },
    {
     "name": "stderr",
     "output_type": "stream",
     "text": [
      "[I 2025-08-05 14:25:02,119] Trial 18 finished with value: 0.8760170560849323 and parameters: {'learning_rate': 0.09816900676689312, 'num_leaves': 40, 'max_depth': 14, 'min_child_samples': 43, 'feature_fraction': 0.7457956688502921, 'bagging_fraction': 0.9235568387906702, 'lambda_l1': 0.9293989103074795, 'lambda_l2': 0.18252691261472043}. Best is trial 17 with value: 0.8865030674846627.\n"
     ]
    },
    {
     "name": "stdout",
     "output_type": "stream",
     "text": [
      "Early stopping, best iteration is:\n",
      "[66]\tvalid_0's auc: 0.876017\n",
      "Training until validation scores don't improve for 30 rounds\n"
     ]
    },
    {
     "name": "stderr",
     "output_type": "stream",
     "text": [
      "[I 2025-08-05 14:25:03,226] Trial 19 finished with value: 0.8654440238437107 and parameters: {'learning_rate': 0.059452868598686, 'num_leaves': 63, 'max_depth': 13, 'min_child_samples': 45, 'feature_fraction': 0.9352429917666778, 'bagging_fraction': 0.8595489191955281, 'lambda_l1': 0.8187253354268983, 'lambda_l2': 0.21531065204074232}. Best is trial 17 with value: 0.8865030674846627.\n"
     ]
    },
    {
     "name": "stdout",
     "output_type": "stream",
     "text": [
      "Did not meet early stopping. Best iteration is:\n",
      "[99]\tvalid_0's auc: 0.865444\n",
      "Training until validation scores don't improve for 30 rounds\n"
     ]
    },
    {
     "name": "stderr",
     "output_type": "stream",
     "text": [
      "[I 2025-08-05 14:25:04,144] Trial 20 finished with value: 0.8754949310359831 and parameters: {'learning_rate': 0.09950982579468508, 'num_leaves': 126, 'max_depth': 11, 'min_child_samples': 50, 'feature_fraction': 0.7322833259739205, 'bagging_fraction': 0.7578519664504482, 'lambda_l1': 0.7658042265075231, 'lambda_l2': 0.013340611751648912}. Best is trial 17 with value: 0.8865030674846627.\n"
     ]
    },
    {
     "name": "stdout",
     "output_type": "stream",
     "text": [
      "Did not meet early stopping. Best iteration is:\n",
      "[97]\tvalid_0's auc: 0.875495\n",
      "Training until validation scores don't improve for 30 rounds\n"
     ]
    },
    {
     "name": "stderr",
     "output_type": "stream",
     "text": [
      "[I 2025-08-05 14:25:05,206] Trial 21 finished with value: 0.8841099943436452 and parameters: {'learning_rate': 0.0904063674474587, 'num_leaves': 56, 'max_depth': 15, 'min_child_samples': 30, 'feature_fraction': 0.6543744860349883, 'bagging_fraction': 0.8226163484959008, 'lambda_l1': 0.3634309789411458, 'lambda_l2': 0.5348715631475319}. Best is trial 17 with value: 0.8865030674846627.\n"
     ]
    },
    {
     "name": "stdout",
     "output_type": "stream",
     "text": [
      "Did not meet early stopping. Best iteration is:\n",
      "[76]\tvalid_0's auc: 0.88411\n",
      "Training until validation scores don't improve for 30 rounds\n"
     ]
    },
    {
     "name": "stderr",
     "output_type": "stream",
     "text": [
      "[I 2025-08-05 14:25:06,181] Trial 22 finished with value: 0.8786276813296784 and parameters: {'learning_rate': 0.09056557516907106, 'num_leaves': 60, 'max_depth': 14, 'min_child_samples': 39, 'feature_fraction': 0.6489889362476063, 'bagging_fraction': 0.6008105737649649, 'lambda_l1': 0.8692311508721773, 'lambda_l2': 0.5186920380182056}. Best is trial 17 with value: 0.8865030674846627.\n"
     ]
    },
    {
     "name": "stdout",
     "output_type": "stream",
     "text": [
      "Did not meet early stopping. Best iteration is:\n",
      "[100]\tvalid_0's auc: 0.878628\n",
      "Training until validation scores don't improve for 30 rounds\n"
     ]
    },
    {
     "name": "stderr",
     "output_type": "stream",
     "text": [
      "[I 2025-08-05 14:25:07,086] Trial 23 finished with value: 0.8794978897445938 and parameters: {'learning_rate': 0.06914016808678919, 'num_leaves': 42, 'max_depth': 15, 'min_child_samples': 32, 'feature_fraction': 0.6352702076221515, 'bagging_fraction': 0.8114437393627507, 'lambda_l1': 0.7223772984286769, 'lambda_l2': 0.2879178587752607}. Best is trial 17 with value: 0.8865030674846627.\n"
     ]
    },
    {
     "name": "stdout",
     "output_type": "stream",
     "text": [
      "Did not meet early stopping. Best iteration is:\n",
      "[99]\tvalid_0's auc: 0.879498\n",
      "Training until validation scores don't improve for 30 rounds\n"
     ]
    },
    {
     "name": "stderr",
     "output_type": "stream",
     "text": [
      "[I 2025-08-05 14:25:07,986] Trial 24 finished with value: 0.8784536396466953 and parameters: {'learning_rate': 0.09202398517486174, 'num_leaves': 50, 'max_depth': 12, 'min_child_samples': 38, 'feature_fraction': 0.7126730150031365, 'bagging_fraction': 0.8709968253557026, 'lambda_l1': 0.578390934427133, 'lambda_l2': 0.43912052701601023}. Best is trial 17 with value: 0.8865030674846627.\n"
     ]
    },
    {
     "name": "stdout",
     "output_type": "stream",
     "text": [
      "Early stopping, best iteration is:\n",
      "[64]\tvalid_0's auc: 0.878454\n",
      "Training until validation scores don't improve for 30 rounds\n"
     ]
    },
    {
     "name": "stderr",
     "output_type": "stream",
     "text": [
      "[I 2025-08-05 14:25:09,172] Trial 25 finished with value: 0.8845233433407301 and parameters: {'learning_rate': 0.07573674840016328, 'num_leaves': 88, 'max_depth': 13, 'min_child_samples': 30, 'feature_fraction': 0.6306104392076327, 'bagging_fraction': 0.9333374125888252, 'lambda_l1': 0.26609843831095714, 'lambda_l2': 0.10923772799519459}. Best is trial 17 with value: 0.8865030674846627.\n"
     ]
    },
    {
     "name": "stdout",
     "output_type": "stream",
     "text": [
      "Did not meet early stopping. Best iteration is:\n",
      "[97]\tvalid_0's auc: 0.884523\n",
      "Training until validation scores don't improve for 30 rounds\n"
     ]
    },
    {
     "name": "stderr",
     "output_type": "stream",
     "text": [
      "[I 2025-08-05 14:25:10,561] Trial 26 finished with value: 0.8739068006787626 and parameters: {'learning_rate': 0.05086226928007846, 'num_leaves': 88, 'max_depth': 13, 'min_child_samples': 20, 'feature_fraction': 0.621179701543736, 'bagging_fraction': 0.9387089149253565, 'lambda_l1': 0.2571030762719714, 'lambda_l2': 0.09776544379664288}. Best is trial 17 with value: 0.8865030674846627.\n"
     ]
    },
    {
     "name": "stdout",
     "output_type": "stream",
     "text": [
      "Did not meet early stopping. Best iteration is:\n",
      "[100]\tvalid_0's auc: 0.873907\n",
      "Training until validation scores don't improve for 30 rounds\n"
     ]
    },
    {
     "name": "stderr",
     "output_type": "stream",
     "text": [
      "[I 2025-08-05 14:25:11,411] Trial 27 finished with value: 0.8814341034677806 and parameters: {'learning_rate': 0.07594190406503487, 'num_leaves': 97, 'max_depth': 12, 'min_child_samples': 45, 'feature_fraction': 0.7765272468342405, 'bagging_fraction': 0.9987742202295802, 'lambda_l1': 0.9838623608854312, 'lambda_l2': 0.27036112509155846}. Best is trial 17 with value: 0.8865030674846627.\n"
     ]
    },
    {
     "name": "stdout",
     "output_type": "stream",
     "text": [
      "Early stopping, best iteration is:\n",
      "[53]\tvalid_0's auc: 0.881434\n",
      "Training until validation scores don't improve for 30 rounds\n"
     ]
    },
    {
     "name": "stderr",
     "output_type": "stream",
     "text": [
      "[I 2025-08-05 14:25:12,405] Trial 28 finished with value: 0.888112953052256 and parameters: {'learning_rate': 0.06804080219249992, 'num_leaves': 103, 'max_depth': 10, 'min_child_samples': 32, 'feature_fraction': 0.7157811677452691, 'bagging_fraction': 0.9531035343392864, 'lambda_l1': 0.4633544827200643, 'lambda_l2': 0.1058862211671072}. Best is trial 28 with value: 0.888112953052256.\n"
     ]
    },
    {
     "name": "stdout",
     "output_type": "stream",
     "text": [
      "Did not meet early stopping. Best iteration is:\n",
      "[94]\tvalid_0's auc: 0.888113\n",
      "Training until validation scores don't improve for 30 rounds\n"
     ]
    },
    {
     "name": "stderr",
     "output_type": "stream",
     "text": [
      "[I 2025-08-05 14:25:13,309] Trial 29 finished with value: 0.8721011182178132 and parameters: {'learning_rate': 0.06845862076414384, 'num_leaves': 109, 'max_depth': 10, 'min_child_samples': 47, 'feature_fraction': 0.7984698393665585, 'bagging_fraction': 0.9616758305452224, 'lambda_l1': 0.49063410494106735, 'lambda_l2': 0.13155820288063358}. Best is trial 28 with value: 0.888112953052256.\n"
     ]
    },
    {
     "name": "stdout",
     "output_type": "stream",
     "text": [
      "Did not meet early stopping. Best iteration is:\n",
      "[99]\tvalid_0's auc: 0.872101\n",
      "Training until validation scores don't improve for 30 rounds\n"
     ]
    },
    {
     "name": "stderr",
     "output_type": "stream",
     "text": [
      "[I 2025-08-05 14:25:14,360] Trial 30 finished with value: 0.8644867945873037 and parameters: {'learning_rate': 0.023164191784476235, 'num_leaves': 116, 'max_depth': 9, 'min_child_samples': 34, 'feature_fraction': 0.757525788960667, 'bagging_fraction': 0.7775106920422503, 'lambda_l1': 0.8843742456440475, 'lambda_l2': 0.39526100665480746}. Best is trial 28 with value: 0.888112953052256.\n"
     ]
    },
    {
     "name": "stdout",
     "output_type": "stream",
     "text": [
      "Did not meet early stopping. Best iteration is:\n",
      "[94]\tvalid_0's auc: 0.864487\n",
      "Training until validation scores don't improve for 30 rounds\n"
     ]
    },
    {
     "name": "stderr",
     "output_type": "stream",
     "text": [
      "[I 2025-08-05 14:25:15,346] Trial 31 finished with value: 0.879650176217204 and parameters: {'learning_rate': 0.08583057824321694, 'num_leaves': 92, 'max_depth': 11, 'min_child_samples': 40, 'feature_fraction': 0.7223320703039091, 'bagging_fraction': 0.9137458494386332, 'lambda_l1': 0.24299040377880698, 'lambda_l2': 0.12691208008904423}. Best is trial 28 with value: 0.888112953052256.\n"
     ]
    },
    {
     "name": "stdout",
     "output_type": "stream",
     "text": [
      "Did not meet early stopping. Best iteration is:\n",
      "[79]\tvalid_0's auc: 0.87965\n",
      "Training until validation scores don't improve for 30 rounds\n"
     ]
    },
    {
     "name": "stderr",
     "output_type": "stream",
     "text": [
      "[I 2025-08-05 14:25:16,657] Trial 32 finished with value: 0.884175259974764 and parameters: {'learning_rate': 0.06038949817043294, 'num_leaves': 103, 'max_depth': 13, 'min_child_samples': 28, 'feature_fraction': 0.7054107052083594, 'bagging_fraction': 0.9601961593200717, 'lambda_l1': 0.6532761353229012, 'lambda_l2': 0.044347389131620125}. Best is trial 28 with value: 0.888112953052256.\n"
     ]
    },
    {
     "name": "stdout",
     "output_type": "stream",
     "text": [
      "Did not meet early stopping. Best iteration is:\n",
      "[96]\tvalid_0's auc: 0.884175\n",
      "Training until validation scores don't improve for 30 rounds\n"
     ]
    },
    {
     "name": "stderr",
     "output_type": "stream",
     "text": [
      "[I 2025-08-05 14:25:18,178] Trial 33 finished with value: 0.874407170517339 and parameters: {'learning_rate': 0.07970110313704626, 'num_leaves': 78, 'max_depth': 11, 'min_child_samples': 15, 'feature_fraction': 0.6701486743985972, 'bagging_fraction': 0.8951197016683956, 'lambda_l1': 0.2797071401443053, 'lambda_l2': 0.08070239754704922}. Best is trial 28 with value: 0.888112953052256.\n"
     ]
    },
    {
     "name": "stdout",
     "output_type": "stream",
     "text": [
      "Did not meet early stopping. Best iteration is:\n",
      "[94]\tvalid_0's auc: 0.874407\n",
      "Training until validation scores don't improve for 30 rounds\n"
     ]
    },
    {
     "name": "stderr",
     "output_type": "stream",
     "text": [
      "[I 2025-08-05 14:25:18,991] Trial 34 finished with value: 0.8840664839228995 and parameters: {'learning_rate': 0.07199246523853009, 'num_leaves': 82, 'max_depth': 8, 'min_child_samples': 36, 'feature_fraction': 0.8140252178619596, 'bagging_fraction': 0.93318663553873, 'lambda_l1': 0.1811442365842629, 'lambda_l2': 0.25374839331851395}. Best is trial 28 with value: 0.888112953052256.\n"
     ]
    },
    {
     "name": "stdout",
     "output_type": "stream",
     "text": [
      "Did not meet early stopping. Best iteration is:\n",
      "[100]\tvalid_0's auc: 0.884066\n",
      "Training until validation scores don't improve for 30 rounds\n"
     ]
    },
    {
     "name": "stderr",
     "output_type": "stream",
     "text": [
      "[I 2025-08-05 14:25:20,129] Trial 35 finished with value: 0.8782795979637124 and parameters: {'learning_rate': 0.05119094417664813, 'num_leaves': 70, 'max_depth': 14, 'min_child_samples': 32, 'feature_fraction': 0.6330312865922608, 'bagging_fraction': 0.8688425160821349, 'lambda_l1': 0.4335125994233137, 'lambda_l2': 0.1563224659957584}. Best is trial 28 with value: 0.888112953052256.\n"
     ]
    },
    {
     "name": "stdout",
     "output_type": "stream",
     "text": [
      "Did not meet early stopping. Best iteration is:\n",
      "[93]\tvalid_0's auc: 0.87828\n",
      "Training until validation scores don't improve for 30 rounds\n"
     ]
    },
    {
     "name": "stderr",
     "output_type": "stream",
     "text": [
      "[I 2025-08-05 14:25:20,897] Trial 36 finished with value: 0.870447722229474 and parameters: {'learning_rate': 0.09318604351360638, 'num_leaves': 101, 'max_depth': 10, 'min_child_samples': 43, 'feature_fraction': 0.6675386703501686, 'bagging_fraction': 0.9720843879507618, 'lambda_l1': 0.5824492973106357, 'lambda_l2': 0.06669217931535786}. Best is trial 28 with value: 0.888112953052256.\n"
     ]
    },
    {
     "name": "stdout",
     "output_type": "stream",
     "text": [
      "Early stopping, best iteration is:\n",
      "[54]\tvalid_0's auc: 0.870448\n",
      "Training until validation scores don't improve for 30 rounds\n"
     ]
    },
    {
     "name": "stderr",
     "output_type": "stream",
     "text": [
      "[I 2025-08-05 14:25:22,152] Trial 37 finished with value: 0.8795196449549667 and parameters: {'learning_rate': 0.06403946797798499, 'num_leaves': 74, 'max_depth': 11, 'min_child_samples': 23, 'feature_fraction': 0.7026079248437926, 'bagging_fraction': 0.8939664836087444, 'lambda_l1': 0.04566197272649439, 'lambda_l2': 0.3402907403976076}. Best is trial 28 with value: 0.888112953052256.\n"
     ]
    },
    {
     "name": "stdout",
     "output_type": "stream",
     "text": [
      "Did not meet early stopping. Best iteration is:\n",
      "[97]\tvalid_0's auc: 0.87952\n",
      "Training until validation scores don't improve for 30 rounds\n"
     ]
    },
    {
     "name": "stderr",
     "output_type": "stream",
     "text": [
      "[I 2025-08-05 14:25:22,894] Trial 38 finished with value: 0.8772353478658138 and parameters: {'learning_rate': 0.08692992526294391, 'num_leaves': 88, 'max_depth': 8, 'min_child_samples': 37, 'feature_fraction': 0.6195811869243572, 'bagging_fraction': 0.9105537821615902, 'lambda_l1': 0.460102962482948, 'lambda_l2': 0.2200760349261559}. Best is trial 28 with value: 0.888112953052256.\n"
     ]
    },
    {
     "name": "stdout",
     "output_type": "stream",
     "text": [
      "Did not meet early stopping. Best iteration is:\n",
      "[94]\tvalid_0's auc: 0.877235\n",
      "Training until validation scores don't improve for 30 rounds\n"
     ]
    },
    {
     "name": "stderr",
     "output_type": "stream",
     "text": [
      "[I 2025-08-05 14:25:23,776] Trial 39 finished with value: 0.8814014706522213 and parameters: {'learning_rate': 0.09517156646874855, 'num_leaves': 109, 'max_depth': 13, 'min_child_samples': 33, 'feature_fraction': 0.7613508542100845, 'bagging_fraction': 0.7104457690446813, 'lambda_l1': 0.6487311634124949, 'lambda_l2': 0.41799476170723326}. Best is trial 28 with value: 0.888112953052256.\n"
     ]
    },
    {
     "name": "stdout",
     "output_type": "stream",
     "text": [
      "Early stopping, best iteration is:\n",
      "[33]\tvalid_0's auc: 0.881401\n",
      "\n",
      "📍 Training for label: SR-ATAD5\n"
     ]
    },
    {
     "name": "stderr",
     "output_type": "stream",
     "text": [
      "[I 2025-08-05 14:25:30,617] A new study created in memory with name: no-name-8b9cef39-740b-4ad0-8f5e-6d068f528d11\n"
     ]
    },
    {
     "name": "stdout",
     "output_type": "stream",
     "text": [
      "Training until validation scores don't improve for 30 rounds\n"
     ]
    },
    {
     "name": "stderr",
     "output_type": "stream",
     "text": [
      "[I 2025-08-05 14:25:31,459] Trial 0 finished with value: 0.7814017847057494 and parameters: {'learning_rate': 0.01671245763993999, 'num_leaves': 86, 'max_depth': 13, 'min_child_samples': 16, 'feature_fraction': 0.8352053261979988, 'bagging_fraction': 0.6520043183861416, 'lambda_l1': 0.8705853115578694, 'lambda_l2': 0.6045163131748329}. Best is trial 0 with value: 0.7814017847057494.\n"
     ]
    },
    {
     "name": "stdout",
     "output_type": "stream",
     "text": [
      "Did not meet early stopping. Best iteration is:\n",
      "[99]\tvalid_0's auc: 0.781402\n",
      "Training until validation scores don't improve for 30 rounds\n"
     ]
    },
    {
     "name": "stderr",
     "output_type": "stream",
     "text": [
      "[I 2025-08-05 14:25:32,344] Trial 1 finished with value: 0.8685191460521856 and parameters: {'learning_rate': 0.09959875533401193, 'num_leaves': 49, 'max_depth': 14, 'min_child_samples': 14, 'feature_fraction': 0.7114464222759264, 'bagging_fraction': 0.9911638708692293, 'lambda_l1': 0.730836102934838, 'lambda_l2': 0.5101715811036486}. Best is trial 1 with value: 0.8685191460521856.\n"
     ]
    },
    {
     "name": "stdout",
     "output_type": "stream",
     "text": [
      "Did not meet early stopping. Best iteration is:\n",
      "[99]\tvalid_0's auc: 0.868519\n",
      "Training until validation scores don't improve for 30 rounds\n"
     ]
    },
    {
     "name": "stderr",
     "output_type": "stream",
     "text": [
      "[I 2025-08-05 14:25:32,701] Trial 2 finished with value: 0.827290184118378 and parameters: {'learning_rate': 0.030096858429814362, 'num_leaves': 49, 'max_depth': 15, 'min_child_samples': 27, 'feature_fraction': 0.705424173717626, 'bagging_fraction': 0.672761013718934, 'lambda_l1': 0.7903198929573572, 'lambda_l2': 0.38649475257850874}. Best is trial 1 with value: 0.8685191460521856.\n"
     ]
    },
    {
     "name": "stdout",
     "output_type": "stream",
     "text": [
      "Early stopping, best iteration is:\n",
      "[2]\tvalid_0's auc: 0.82729\n",
      "Training until validation scores don't improve for 30 rounds\n"
     ]
    },
    {
     "name": "stderr",
     "output_type": "stream",
     "text": [
      "[I 2025-08-05 14:25:33,608] Trial 3 finished with value: 0.8758612899582063 and parameters: {'learning_rate': 0.050672588538265485, 'num_leaves': 73, 'max_depth': 14, 'min_child_samples': 47, 'feature_fraction': 0.9577630905665399, 'bagging_fraction': 0.6756245171728013, 'lambda_l1': 0.7805964214360837, 'lambda_l2': 0.336617808723081}. Best is trial 3 with value: 0.8758612899582063.\n"
     ]
    },
    {
     "name": "stdout",
     "output_type": "stream",
     "text": [
      "Did not meet early stopping. Best iteration is:\n",
      "[99]\tvalid_0's auc: 0.875861\n",
      "Training until validation scores don't improve for 30 rounds\n"
     ]
    },
    {
     "name": "stderr",
     "output_type": "stream",
     "text": [
      "[I 2025-08-05 14:25:34,192] Trial 4 finished with value: 0.8652434203094996 and parameters: {'learning_rate': 0.06682043989813179, 'num_leaves': 56, 'max_depth': 6, 'min_child_samples': 24, 'feature_fraction': 0.6700579017941156, 'bagging_fraction': 0.7624364551233243, 'lambda_l1': 0.9876969680594974, 'lambda_l2': 0.18712469675362187}. Best is trial 3 with value: 0.8758612899582063.\n"
     ]
    },
    {
     "name": "stdout",
     "output_type": "stream",
     "text": [
      "Did not meet early stopping. Best iteration is:\n",
      "[100]\tvalid_0's auc: 0.865243\n",
      "Training until validation scores don't improve for 30 rounds\n"
     ]
    },
    {
     "name": "stderr",
     "output_type": "stream",
     "text": [
      "[I 2025-08-05 14:25:35,015] Trial 5 finished with value: 0.904043826951316 and parameters: {'learning_rate': 0.09879642544584614, 'num_leaves': 93, 'max_depth': 16, 'min_child_samples': 48, 'feature_fraction': 0.9269457807381066, 'bagging_fraction': 0.9082420045088255, 'lambda_l1': 0.8514071730663575, 'lambda_l2': 0.8689186270744431}. Best is trial 5 with value: 0.904043826951316.\n"
     ]
    },
    {
     "name": "stdout",
     "output_type": "stream",
     "text": [
      "Did not meet early stopping. Best iteration is:\n",
      "[98]\tvalid_0's auc: 0.904044\n",
      "Training until validation scores don't improve for 30 rounds\n"
     ]
    },
    {
     "name": "stderr",
     "output_type": "stream",
     "text": [
      "[I 2025-08-05 14:25:35,883] Trial 6 finished with value: 0.8634926013780639 and parameters: {'learning_rate': 0.07175474764251369, 'num_leaves': 81, 'max_depth': 13, 'min_child_samples': 18, 'feature_fraction': 0.6057867295938266, 'bagging_fraction': 0.8570288884117953, 'lambda_l1': 0.7998166108767718, 'lambda_l2': 0.17709767187570857}. Best is trial 5 with value: 0.904043826951316.\n"
     ]
    },
    {
     "name": "stdout",
     "output_type": "stream",
     "text": [
      "Did not meet early stopping. Best iteration is:\n",
      "[96]\tvalid_0's auc: 0.863493\n",
      "Training until validation scores don't improve for 30 rounds\n"
     ]
    },
    {
     "name": "stderr",
     "output_type": "stream",
     "text": [
      "[I 2025-08-05 14:25:36,463] Trial 7 finished with value: 0.8556986332316728 and parameters: {'learning_rate': 0.04940497493221918, 'num_leaves': 68, 'max_depth': 6, 'min_child_samples': 24, 'feature_fraction': 0.6880835345781726, 'bagging_fraction': 0.6863695002403537, 'lambda_l1': 0.5902920585071052, 'lambda_l2': 0.705714996711109}. Best is trial 5 with value: 0.904043826951316.\n"
     ]
    },
    {
     "name": "stdout",
     "output_type": "stream",
     "text": [
      "Did not meet early stopping. Best iteration is:\n",
      "[99]\tvalid_0's auc: 0.855699\n",
      "Training until validation scores don't improve for 30 rounds\n"
     ]
    },
    {
     "name": "stderr",
     "output_type": "stream",
     "text": [
      "[I 2025-08-05 14:25:37,219] Trial 8 finished with value: 0.8787416694905681 and parameters: {'learning_rate': 0.03982482384684359, 'num_leaves': 59, 'max_depth': 14, 'min_child_samples': 43, 'feature_fraction': 0.7997096969707291, 'bagging_fraction': 0.8279665071103667, 'lambda_l1': 0.9313009644000295, 'lambda_l2': 0.3422645211864942}. Best is trial 5 with value: 0.904043826951316.\n"
     ]
    },
    {
     "name": "stdout",
     "output_type": "stream",
     "text": [
      "Did not meet early stopping. Best iteration is:\n",
      "[100]\tvalid_0's auc: 0.878742\n",
      "Training until validation scores don't improve for 30 rounds\n"
     ]
    },
    {
     "name": "stderr",
     "output_type": "stream",
     "text": [
      "[I 2025-08-05 14:25:38,129] Trial 9 finished with value: 0.8452501976731052 and parameters: {'learning_rate': 0.037113548726024695, 'num_leaves': 107, 'max_depth': 14, 'min_child_samples': 10, 'feature_fraction': 0.6172371868512883, 'bagging_fraction': 0.6448747964189719, 'lambda_l1': 0.8666665073921954, 'lambda_l2': 0.9280220044206827}. Best is trial 5 with value: 0.904043826951316.\n"
     ]
    },
    {
     "name": "stdout",
     "output_type": "stream",
     "text": [
      "Did not meet early stopping. Best iteration is:\n",
      "[96]\tvalid_0's auc: 0.84525\n",
      "Training until validation scores don't improve for 30 rounds\n"
     ]
    },
    {
     "name": "stderr",
     "output_type": "stream",
     "text": [
      "[I 2025-08-05 14:25:39,161] Trial 10 finished with value: 0.8970970292556196 and parameters: {'learning_rate': 0.09873331820891815, 'num_leaves': 122, 'max_depth': 10, 'min_child_samples': 38, 'feature_fraction': 0.9727815685169497, 'bagging_fraction': 0.9448209951549861, 'lambda_l1': 0.19910960220757457, 'lambda_l2': 0.9491828642547911}. Best is trial 5 with value: 0.904043826951316.\n"
     ]
    },
    {
     "name": "stdout",
     "output_type": "stream",
     "text": [
      "Did not meet early stopping. Best iteration is:\n",
      "[99]\tvalid_0's auc: 0.897097\n",
      "Training until validation scores don't improve for 30 rounds\n"
     ]
    },
    {
     "name": "stderr",
     "output_type": "stream",
     "text": [
      "[I 2025-08-05 14:25:40,191] Trial 11 finished with value: 0.8869874618773298 and parameters: {'learning_rate': 0.09829325172221151, 'num_leaves': 123, 'max_depth': 10, 'min_child_samples': 37, 'feature_fraction': 0.9935288379420875, 'bagging_fraction': 0.9609192937512059, 'lambda_l1': 0.13628839666529635, 'lambda_l2': 0.9493784313535361}. Best is trial 5 with value: 0.904043826951316.\n"
     ]
    },
    {
     "name": "stdout",
     "output_type": "stream",
     "text": [
      "Did not meet early stopping. Best iteration is:\n",
      "[98]\tvalid_0's auc: 0.886987\n",
      "Training until validation scores don't improve for 30 rounds\n"
     ]
    },
    {
     "name": "stderr",
     "output_type": "stream",
     "text": [
      "[I 2025-08-05 14:25:41,179] Trial 12 finished with value: 0.8863662035468204 and parameters: {'learning_rate': 0.08075429625632204, 'num_leaves': 106, 'max_depth': 10, 'min_child_samples': 36, 'feature_fraction': 0.9108804171073905, 'bagging_fraction': 0.9086036924510532, 'lambda_l1': 0.22348791491200815, 'lambda_l2': 0.7699694439046824}. Best is trial 5 with value: 0.904043826951316.\n"
     ]
    },
    {
     "name": "stdout",
     "output_type": "stream",
     "text": [
      "Did not meet early stopping. Best iteration is:\n",
      "[100]\tvalid_0's auc: 0.886366\n",
      "Training until validation scores don't improve for 30 rounds\n"
     ]
    },
    {
     "name": "stderr",
     "output_type": "stream",
     "text": [
      "[I 2025-08-05 14:25:41,997] Trial 13 finished with value: 0.8947814300237208 and parameters: {'learning_rate': 0.08656735099434969, 'num_leaves': 126, 'max_depth': 8, 'min_child_samples': 50, 'feature_fraction': 0.8854415600860428, 'bagging_fraction': 0.9147175997879801, 'lambda_l1': 0.3547176874186959, 'lambda_l2': 0.8110365888732451}. Best is trial 5 with value: 0.904043826951316.\n"
     ]
    },
    {
     "name": "stdout",
     "output_type": "stream",
     "text": [
      "Did not meet early stopping. Best iteration is:\n",
      "[100]\tvalid_0's auc: 0.894781\n",
      "Training until validation scores don't improve for 30 rounds\n"
     ]
    },
    {
     "name": "stderr",
     "output_type": "stream",
     "text": [
      "[I 2025-08-05 14:25:43,047] Trial 14 finished with value: 0.8912797921608494 and parameters: {'learning_rate': 0.0884828673489661, 'num_leaves': 99, 'max_depth': 16, 'min_child_samples': 40, 'feature_fraction': 0.9148614028748466, 'bagging_fraction': 0.8996087258658381, 'lambda_l1': 0.014987853677004725, 'lambda_l2': 0.9934818436018693}. Best is trial 5 with value: 0.904043826951316.\n"
     ]
    },
    {
     "name": "stdout",
     "output_type": "stream",
     "text": [
      "Did not meet early stopping. Best iteration is:\n",
      "[83]\tvalid_0's auc: 0.89128\n",
      "Training until validation scores don't improve for 30 rounds\n"
     ]
    },
    {
     "name": "stderr",
     "output_type": "stream",
     "text": [
      "[I 2025-08-05 14:25:44,018] Trial 15 finished with value: 0.8965322489551565 and parameters: {'learning_rate': 0.07054702329442766, 'num_leaves': 32, 'max_depth': 11, 'min_child_samples': 32, 'feature_fraction': 0.9980565000435192, 'bagging_fraction': 0.763243488051947, 'lambda_l1': 0.4603455242768054, 'lambda_l2': 0.00940378427475641}. Best is trial 5 with value: 0.904043826951316.\n"
     ]
    },
    {
     "name": "stdout",
     "output_type": "stream",
     "text": [
      "Did not meet early stopping. Best iteration is:\n",
      "[100]\tvalid_0's auc: 0.896532\n",
      "Training until validation scores don't improve for 30 rounds\n"
     ]
    },
    {
     "name": "stderr",
     "output_type": "stream",
     "text": [
      "[I 2025-08-05 14:25:44,823] Trial 16 finished with value: 0.8917880944312663 and parameters: {'learning_rate': 0.09048820883981522, 'num_leaves': 94, 'max_depth': 8, 'min_child_samples': 45, 'feature_fraction': 0.8307208725177629, 'bagging_fraction': 0.9600565349464618, 'lambda_l1': 0.6216617193790759, 'lambda_l2': 0.8599826394407846}. Best is trial 5 with value: 0.904043826951316.\n"
     ]
    },
    {
     "name": "stdout",
     "output_type": "stream",
     "text": [
      "Did not meet early stopping. Best iteration is:\n",
      "[99]\tvalid_0's auc: 0.891788\n",
      "Training until validation scores don't improve for 30 rounds\n",
      "Early stopping, best iteration is:\n",
      "[2]\tvalid_0's auc: 0.871541\n"
     ]
    },
    {
     "name": "stderr",
     "output_type": "stream",
     "text": [
      "[I 2025-08-05 14:25:45,258] Trial 17 finished with value: 0.8715407206596634 and parameters: {'learning_rate': 0.060634538774387355, 'num_leaves': 116, 'max_depth': 12, 'min_child_samples': 50, 'feature_fraction': 0.9505824178434346, 'bagging_fraction': 0.8663456438020123, 'lambda_l1': 0.339467836075218, 'lambda_l2': 0.6474468126275482}. Best is trial 5 with value: 0.904043826951316.\n"
     ]
    },
    {
     "name": "stdout",
     "output_type": "stream",
     "text": [
      "Training until validation scores don't improve for 30 rounds\n"
     ]
    },
    {
     "name": "stderr",
     "output_type": "stream",
     "text": [
      "[I 2025-08-05 14:25:46,171] Trial 18 finished with value: 0.8817914831130691 and parameters: {'learning_rate': 0.08050358494743587, 'num_leaves': 113, 'max_depth': 9, 'min_child_samples': 32, 'feature_fraction': 0.780095325229754, 'bagging_fraction': 0.7975867034619144, 'lambda_l1': 0.002744703325634368, 'lambda_l2': 0.8784829025687196}. Best is trial 5 with value: 0.904043826951316.\n"
     ]
    },
    {
     "name": "stdout",
     "output_type": "stream",
     "text": [
      "Did not meet early stopping. Best iteration is:\n",
      "[88]\tvalid_0's auc: 0.881791\n",
      "Training until validation scores don't improve for 30 rounds\n"
     ]
    },
    {
     "name": "stderr",
     "output_type": "stream",
     "text": [
      "[I 2025-08-05 14:25:47,101] Trial 19 finished with value: 0.8800406641816334 and parameters: {'learning_rate': 0.0942808849526487, 'num_leaves': 87, 'max_depth': 16, 'min_child_samples': 41, 'feature_fraction': 0.8720565738814361, 'bagging_fraction': 0.6012886233912149, 'lambda_l1': 0.4089754217742223, 'lambda_l2': 0.7460176191100558}. Best is trial 5 with value: 0.904043826951316.\n"
     ]
    },
    {
     "name": "stdout",
     "output_type": "stream",
     "text": [
      "Did not meet early stopping. Best iteration is:\n",
      "[100]\tvalid_0's auc: 0.880041\n",
      "Training until validation scores don't improve for 30 rounds\n"
     ]
    },
    {
     "name": "stderr",
     "output_type": "stream",
     "text": [
      "[I 2025-08-05 14:25:48,072] Trial 20 finished with value: 0.8723596520953351 and parameters: {'learning_rate': 0.07770634031457713, 'num_leaves': 96, 'max_depth': 11, 'min_child_samples': 38, 'feature_fraction': 0.9486072665224231, 'bagging_fraction': 0.953424675125552, 'lambda_l1': 0.5764957610105674, 'lambda_l2': 0.5676158598315786}. Best is trial 5 with value: 0.904043826951316.\n"
     ]
    },
    {
     "name": "stdout",
     "output_type": "stream",
     "text": [
      "Did not meet early stopping. Best iteration is:\n",
      "[100]\tvalid_0's auc: 0.87236\n",
      "Training until validation scores don't improve for 30 rounds\n"
     ]
    },
    {
     "name": "stderr",
     "output_type": "stream",
     "text": [
      "[I 2025-08-05 14:25:49,070] Trial 21 finished with value: 0.877612108889642 and parameters: {'learning_rate': 0.06952988469810081, 'num_leaves': 34, 'max_depth': 11, 'min_child_samples': 33, 'feature_fraction': 0.9941812890251309, 'bagging_fraction': 0.7463378390581359, 'lambda_l1': 0.43626749847988844, 'lambda_l2': 0.05714660463539457}. Best is trial 5 with value: 0.904043826951316.\n"
     ]
    },
    {
     "name": "stdout",
     "output_type": "stream",
     "text": [
      "Did not meet early stopping. Best iteration is:\n",
      "[99]\tvalid_0's auc: 0.877612\n",
      "Training until validation scores don't improve for 30 rounds\n"
     ]
    },
    {
     "name": "stderr",
     "output_type": "stream",
     "text": [
      "[I 2025-08-05 14:25:50,145] Trial 22 finished with value: 0.8963063368349712 and parameters: {'learning_rate': 0.06064823332675324, 'num_leaves': 37, 'max_depth': 12, 'min_child_samples': 34, 'feature_fraction': 0.9997461862862848, 'bagging_fraction': 0.7478947498804587, 'lambda_l1': 0.22959017560959027, 'lambda_l2': 0.021053299953460454}. Best is trial 5 with value: 0.904043826951316.\n"
     ]
    },
    {
     "name": "stdout",
     "output_type": "stream",
     "text": [
      "Did not meet early stopping. Best iteration is:\n",
      "[100]\tvalid_0's auc: 0.896306\n",
      "Training until validation scores don't improve for 30 rounds\n"
     ]
    },
    {
     "name": "stderr",
     "output_type": "stream",
     "text": [
      "[I 2025-08-05 14:25:51,136] Trial 23 finished with value: 0.8935389133627019 and parameters: {'learning_rate': 0.08496150288315205, 'num_leaves': 71, 'max_depth': 9, 'min_child_samples': 29, 'feature_fraction': 0.9592896764600018, 'bagging_fraction': 0.7929777065957418, 'lambda_l1': 0.4938611342095276, 'lambda_l2': 0.4669810578449989}. Best is trial 5 with value: 0.904043826951316.\n"
     ]
    },
    {
     "name": "stdout",
     "output_type": "stream",
     "text": [
      "Did not meet early stopping. Best iteration is:\n",
      "[96]\tvalid_0's auc: 0.893539\n",
      "Training until validation scores don't improve for 30 rounds\n"
     ]
    },
    {
     "name": "stderr",
     "output_type": "stream",
     "text": [
      "[I 2025-08-05 14:25:52,095] Trial 24 finished with value: 0.9022365299898341 and parameters: {'learning_rate': 0.09396557370826181, 'num_leaves': 116, 'max_depth': 10, 'min_child_samples': 46, 'feature_fraction': 0.9158156675037044, 'bagging_fraction': 0.8583124581591594, 'lambda_l1': 0.26183635633757685, 'lambda_l2': 0.259142168689405}. Best is trial 5 with value: 0.904043826951316.\n"
     ]
    },
    {
     "name": "stdout",
     "output_type": "stream",
     "text": [
      "Did not meet early stopping. Best iteration is:\n",
      "[100]\tvalid_0's auc: 0.902237\n",
      "Training until validation scores don't improve for 30 rounds\n"
     ]
    },
    {
     "name": "stderr",
     "output_type": "stream",
     "text": [
      "[I 2025-08-05 14:25:52,998] Trial 25 finished with value: 0.8916751383711737 and parameters: {'learning_rate': 0.0942980329336661, 'num_leaves': 118, 'max_depth': 9, 'min_child_samples': 46, 'feature_fraction': 0.9187880567633573, 'bagging_fraction': 0.8774072900692382, 'lambda_l1': 0.1475167238494416, 'lambda_l2': 0.2279714109852622}. Best is trial 5 with value: 0.904043826951316.\n"
     ]
    },
    {
     "name": "stdout",
     "output_type": "stream",
     "text": [
      "Did not meet early stopping. Best iteration is:\n",
      "[89]\tvalid_0's auc: 0.891675\n",
      "Training until validation scores don't improve for 30 rounds\n"
     ]
    },
    {
     "name": "stderr",
     "output_type": "stream",
     "text": [
      "[I 2025-08-05 14:25:53,748] Trial 26 finished with value: 0.8956850785044619 and parameters: {'learning_rate': 0.09998434031130084, 'num_leaves': 108, 'max_depth': 7, 'min_child_samples': 42, 'feature_fraction': 0.8654191528474242, 'bagging_fraction': 0.9305351640418716, 'lambda_l1': 0.2995792161940488, 'lambda_l2': 0.6817782206070507}. Best is trial 5 with value: 0.904043826951316.\n"
     ]
    },
    {
     "name": "stdout",
     "output_type": "stream",
     "text": [
      "Did not meet early stopping. Best iteration is:\n",
      "[99]\tvalid_0's auc: 0.895685\n",
      "Training until validation scores don't improve for 30 rounds\n"
     ]
    },
    {
     "name": "stderr",
     "output_type": "stream",
     "text": [
      "[I 2025-08-05 14:25:54,605] Trial 27 finished with value: 0.8835423020445047 and parameters: {'learning_rate': 0.09219694394002607, 'num_leaves': 128, 'max_depth': 10, 'min_child_samples': 47, 'feature_fraction': 0.752596929988283, 'bagging_fraction': 0.9954884836740209, 'lambda_l1': 0.23246480403639933, 'lambda_l2': 0.8281860849212078}. Best is trial 5 with value: 0.904043826951316.\n"
     ]
    },
    {
     "name": "stdout",
     "output_type": "stream",
     "text": [
      "Did not meet early stopping. Best iteration is:\n",
      "[100]\tvalid_0's auc: 0.883542\n",
      "Training until validation scores don't improve for 30 rounds\n"
     ]
    },
    {
     "name": "stderr",
     "output_type": "stream",
     "text": [
      "[I 2025-08-05 14:25:55,553] Trial 28 finished with value: 0.8781768891901051 and parameters: {'learning_rate': 0.08060312047602285, 'num_leaves': 100, 'max_depth': 12, 'min_child_samples': 44, 'feature_fraction': 0.844943474116078, 'bagging_fraction': 0.8338429407907822, 'lambda_l1': 0.0850601993508983, 'lambda_l2': 0.9928645129724274}. Best is trial 5 with value: 0.904043826951316.\n"
     ]
    },
    {
     "name": "stdout",
     "output_type": "stream",
     "text": [
      "Did not meet early stopping. Best iteration is:\n",
      "[100]\tvalid_0's auc: 0.878177\n"
     ]
    },
    {
     "name": "stderr",
     "output_type": "stream",
     "text": [
      "[I 2025-08-05 14:25:55,946] Trial 29 finished with value: 0.8333333333333334 and parameters: {'learning_rate': 0.022418718210908573, 'num_leaves': 90, 'max_depth': 8, 'min_child_samples': 39, 'feature_fraction': 0.8960060259487831, 'bagging_fraction': 0.8880359830387583, 'lambda_l1': 0.7011985917758877, 'lambda_l2': 0.6045792928545122}. Best is trial 5 with value: 0.904043826951316.\n"
     ]
    },
    {
     "name": "stdout",
     "output_type": "stream",
     "text": [
      "Training until validation scores don't improve for 30 rounds\n",
      "Early stopping, best iteration is:\n",
      "[5]\tvalid_0's auc: 0.833333\n",
      "Training until validation scores don't improve for 30 rounds\n"
     ]
    },
    {
     "name": "stderr",
     "output_type": "stream",
     "text": [
      "[I 2025-08-05 14:25:56,967] Trial 30 finished with value: 0.8862532474867277 and parameters: {'learning_rate': 0.08478447187424229, 'num_leaves': 120, 'max_depth': 13, 'min_child_samples': 49, 'feature_fraction': 0.9280047838292852, 'bagging_fraction': 0.9334429035520788, 'lambda_l1': 0.27387877393839516, 'lambda_l2': 0.26726444766844165}. Best is trial 5 with value: 0.904043826951316.\n"
     ]
    },
    {
     "name": "stdout",
     "output_type": "stream",
     "text": [
      "Did not meet early stopping. Best iteration is:\n",
      "[100]\tvalid_0's auc: 0.886253\n",
      "Training until validation scores don't improve for 30 rounds\n"
     ]
    },
    {
     "name": "stderr",
     "output_type": "stream",
     "text": [
      "[I 2025-08-05 14:25:58,016] Trial 31 finished with value: 0.8644527278888512 and parameters: {'learning_rate': 0.07425646243497369, 'num_leaves': 81, 'max_depth': 11, 'min_child_samples': 29, 'feature_fraction': 0.9732473507880306, 'bagging_fraction': 0.8338440324060357, 'lambda_l1': 0.5166025488551363, 'lambda_l2': 0.08276681615226403}. Best is trial 5 with value: 0.904043826951316.\n"
     ]
    },
    {
     "name": "stdout",
     "output_type": "stream",
     "text": [
      "Did not meet early stopping. Best iteration is:\n",
      "[100]\tvalid_0's auc: 0.864453\n",
      "Training until validation scores don't improve for 30 rounds\n"
     ]
    },
    {
     "name": "stderr",
     "output_type": "stream",
     "text": [
      "[I 2025-08-05 14:25:59,088] Trial 32 finished with value: 0.8928046989720998 and parameters: {'learning_rate': 0.0951478184591998, 'num_leaves': 112, 'max_depth': 11, 'min_child_samples': 36, 'feature_fraction': 0.9772562127891701, 'bagging_fraction': 0.7205123148042346, 'lambda_l1': 0.4075998402705606, 'lambda_l2': 0.14773327132665812}. Best is trial 5 with value: 0.904043826951316.\n"
     ]
    },
    {
     "name": "stdout",
     "output_type": "stream",
     "text": [
      "Did not meet early stopping. Best iteration is:\n",
      "[100]\tvalid_0's auc: 0.892805\n",
      "Training until validation scores don't improve for 30 rounds\n"
     ]
    },
    {
     "name": "stderr",
     "output_type": "stream",
     "text": [
      "[I 2025-08-05 14:25:59,583] Trial 33 finished with value: 0.854258443465492 and parameters: {'learning_rate': 0.0989307745716823, 'num_leaves': 103, 'max_depth': 10, 'min_child_samples': 43, 'feature_fraction': 0.9370718104832987, 'bagging_fraction': 0.8531929582596858, 'lambda_l1': 0.15992044160123678, 'lambda_l2': 0.4537101685851601}. Best is trial 5 with value: 0.904043826951316.\n"
     ]
    },
    {
     "name": "stdout",
     "output_type": "stream",
     "text": [
      "Early stopping, best iteration is:\n",
      "[2]\tvalid_0's auc: 0.854258\n",
      "Training until validation scores don't improve for 30 rounds\n"
     ]
    },
    {
     "name": "stderr",
     "output_type": "stream",
     "text": [
      "[I 2025-08-05 14:26:00,491] Trial 34 finished with value: 0.8885123686885802 and parameters: {'learning_rate': 0.0654680099168416, 'num_leaves': 40, 'max_depth': 12, 'min_child_samples': 48, 'feature_fraction': 0.9720281995528177, 'bagging_fraction': 0.771026136259312, 'lambda_l1': 0.6814996141406252, 'lambda_l2': 0.10256984482220699}. Best is trial 5 with value: 0.904043826951316.\n"
     ]
    },
    {
     "name": "stdout",
     "output_type": "stream",
     "text": [
      "Did not meet early stopping. Best iteration is:\n",
      "[99]\tvalid_0's auc: 0.888512\n",
      "Training until validation scores don't improve for 30 rounds\n"
     ]
    },
    {
     "name": "stderr",
     "output_type": "stream",
     "text": [
      "[I 2025-08-05 14:26:01,490] Trial 35 finished with value: 0.8920140065514515 and parameters: {'learning_rate': 0.09023325024570104, 'num_leaves': 46, 'max_depth': 15, 'min_child_samples': 26, 'feature_fraction': 0.9000937575786745, 'bagging_fraction': 0.9773802607172333, 'lambda_l1': 0.48973468938759007, 'lambda_l2': 0.29360672118875536}. Best is trial 5 with value: 0.904043826951316.\n"
     ]
    },
    {
     "name": "stdout",
     "output_type": "stream",
     "text": [
      "Did not meet early stopping. Best iteration is:\n",
      "[90]\tvalid_0's auc: 0.892014\n",
      "Training until validation scores don't improve for 30 rounds\n"
     ]
    },
    {
     "name": "stderr",
     "output_type": "stream",
     "text": [
      "[I 2025-08-05 14:26:02,550] Trial 36 finished with value: 0.8981701118264994 and parameters: {'learning_rate': 0.07457383853305014, 'num_leaves': 64, 'max_depth': 13, 'min_child_samples': 32, 'feature_fraction': 0.9396627612767636, 'bagging_fraction': 0.931699491128257, 'lambda_l1': 0.33744692996991976, 'lambda_l2': 0.38956677318333116}. Best is trial 5 with value: 0.904043826951316.\n"
     ]
    },
    {
     "name": "stdout",
     "output_type": "stream",
     "text": [
      "Did not meet early stopping. Best iteration is:\n",
      "[96]\tvalid_0's auc: 0.89817\n",
      "Training until validation scores don't improve for 30 rounds\n"
     ]
    },
    {
     "name": "stderr",
     "output_type": "stream",
     "text": [
      "[I 2025-08-05 14:26:03,687] Trial 37 finished with value: 0.8771602846492715 and parameters: {'learning_rate': 0.08540693888260548, 'num_leaves': 63, 'max_depth': 15, 'min_child_samples': 18, 'feature_fraction': 0.863396108032352, 'bagging_fraction': 0.9354486257808851, 'lambda_l1': 0.37536270874714767, 'lambda_l2': 0.40569693800855544}. Best is trial 5 with value: 0.904043826951316.\n"
     ]
    },
    {
     "name": "stdout",
     "output_type": "stream",
     "text": [
      "Did not meet early stopping. Best iteration is:\n",
      "[98]\tvalid_0's auc: 0.87716\n",
      "Training until validation scores don't improve for 30 rounds\n"
     ]
    },
    {
     "name": "stderr",
     "output_type": "stream",
     "text": [
      "[I 2025-08-05 14:26:04,542] Trial 38 finished with value: 0.7899864452727888 and parameters: {'learning_rate': 0.010155602550734978, 'num_leaves': 77, 'max_depth': 13, 'min_child_samples': 21, 'feature_fraction': 0.8308742380042948, 'bagging_fraction': 0.8928995221238931, 'lambda_l1': 0.29514584559632323, 'lambda_l2': 0.5624134355621387}. Best is trial 5 with value: 0.904043826951316.\n"
     ]
    },
    {
     "name": "stdout",
     "output_type": "stream",
     "text": [
      "Early stopping, best iteration is:\n",
      "[66]\tvalid_0's auc: 0.789986\n",
      "Training until validation scores don't improve for 30 rounds\n"
     ]
    },
    {
     "name": "stderr",
     "output_type": "stream",
     "text": [
      "[I 2025-08-05 14:26:05,650] Trial 39 finished with value: 0.8821868293233933 and parameters: {'learning_rate': 0.04928810796905467, 'num_leaves': 61, 'max_depth': 16, 'min_child_samples': 35, 'feature_fraction': 0.9437013313526865, 'bagging_fraction': 0.9291566913409592, 'lambda_l1': 0.07130197236438882, 'lambda_l2': 0.3826512009647242}. Best is trial 5 with value: 0.904043826951316.\n"
     ]
    },
    {
     "name": "stdout",
     "output_type": "stream",
     "text": [
      "Did not meet early stopping. Best iteration is:\n",
      "[98]\tvalid_0's auc: 0.882187\n",
      "\n",
      "📍 Training for label: SR-HSE\n"
     ]
    },
    {
     "name": "stderr",
     "output_type": "stream",
     "text": [
      "[I 2025-08-05 14:26:11,435] A new study created in memory with name: no-name-03211527-2e24-431d-98e7-e8b32292b707\n"
     ]
    },
    {
     "name": "stdout",
     "output_type": "stream",
     "text": [
      "Training until validation scores don't improve for 30 rounds\n"
     ]
    },
    {
     "name": "stderr",
     "output_type": "stream",
     "text": [
      "[I 2025-08-05 14:26:12,287] Trial 0 finished with value: 0.7548515728843597 and parameters: {'learning_rate': 0.042381533863085616, 'num_leaves': 87, 'max_depth': 7, 'min_child_samples': 20, 'feature_fraction': 0.96439852142316, 'bagging_fraction': 0.6048859172356198, 'lambda_l1': 0.5309846589124293, 'lambda_l2': 0.5801962316648404}. Best is trial 0 with value: 0.7548515728843597.\n"
     ]
    },
    {
     "name": "stdout",
     "output_type": "stream",
     "text": [
      "Did not meet early stopping. Best iteration is:\n",
      "[97]\tvalid_0's auc: 0.754852\n",
      "Training until validation scores don't improve for 30 rounds\n"
     ]
    },
    {
     "name": "stderr",
     "output_type": "stream",
     "text": [
      "[I 2025-08-05 14:26:12,881] Trial 1 finished with value: 0.7821887461231724 and parameters: {'learning_rate': 0.04373013993717816, 'num_leaves': 89, 'max_depth': 15, 'min_child_samples': 37, 'feature_fraction': 0.6248547263701139, 'bagging_fraction': 0.7306412013098412, 'lambda_l1': 0.7281922088105844, 'lambda_l2': 0.32609151985973983}. Best is trial 1 with value: 0.7821887461231724.\n"
     ]
    },
    {
     "name": "stdout",
     "output_type": "stream",
     "text": [
      "Early stopping, best iteration is:\n",
      "[26]\tvalid_0's auc: 0.782189\n",
      "Training until validation scores don't improve for 30 rounds\n",
      "Early stopping, best iteration is:\n",
      "[13]\tvalid_0's auc: 0.741294\n"
     ]
    },
    {
     "name": "stderr",
     "output_type": "stream",
     "text": [
      "[I 2025-08-05 14:26:13,335] Trial 2 finished with value: 0.7412937527691627 and parameters: {'learning_rate': 0.046451819800394215, 'num_leaves': 89, 'max_depth': 7, 'min_child_samples': 18, 'feature_fraction': 0.7025128292683348, 'bagging_fraction': 0.8820843275468168, 'lambda_l1': 0.708709536526128, 'lambda_l2': 0.0760437026291344}. Best is trial 1 with value: 0.7821887461231724.\n"
     ]
    },
    {
     "name": "stdout",
     "output_type": "stream",
     "text": [
      "Training until validation scores don't improve for 30 rounds\n"
     ]
    },
    {
     "name": "stderr",
     "output_type": "stream",
     "text": [
      "[I 2025-08-05 14:26:14,253] Trial 3 finished with value: 0.7567567567567568 and parameters: {'learning_rate': 0.02456795131509204, 'num_leaves': 102, 'max_depth': 14, 'min_child_samples': 22, 'feature_fraction': 0.9149840042789995, 'bagging_fraction': 0.6835536749682114, 'lambda_l1': 0.026679677337473673, 'lambda_l2': 0.12361281818026526}. Best is trial 1 with value: 0.7821887461231724.\n"
     ]
    },
    {
     "name": "stdout",
     "output_type": "stream",
     "text": [
      "Early stopping, best iteration is:\n",
      "[26]\tvalid_0's auc: 0.756757\n",
      "Training until validation scores don't improve for 30 rounds\n"
     ]
    },
    {
     "name": "stderr",
     "output_type": "stream",
     "text": [
      "[I 2025-08-05 14:26:14,791] Trial 4 finished with value: 0.7124058484714223 and parameters: {'learning_rate': 0.027252268974930605, 'num_leaves': 59, 'max_depth': 12, 'min_child_samples': 10, 'feature_fraction': 0.8894874835051563, 'bagging_fraction': 0.9194886922036465, 'lambda_l1': 0.35432169023704463, 'lambda_l2': 0.5856312282492999}. Best is trial 1 with value: 0.7821887461231724.\n"
     ]
    },
    {
     "name": "stdout",
     "output_type": "stream",
     "text": [
      "Early stopping, best iteration is:\n",
      "[7]\tvalid_0's auc: 0.712406\n",
      "Training until validation scores don't improve for 30 rounds\n"
     ]
    },
    {
     "name": "stderr",
     "output_type": "stream",
     "text": [
      "[I 2025-08-05 14:26:15,353] Trial 5 finished with value: 0.7501993797075766 and parameters: {'learning_rate': 0.07788147466220487, 'num_leaves': 35, 'max_depth': 13, 'min_child_samples': 13, 'feature_fraction': 0.828077444283819, 'bagging_fraction': 0.756029345565505, 'lambda_l1': 0.7537761758692716, 'lambda_l2': 0.47698412184338135}. Best is trial 1 with value: 0.7821887461231724.\n"
     ]
    },
    {
     "name": "stdout",
     "output_type": "stream",
     "text": [
      "Early stopping, best iteration is:\n",
      "[13]\tvalid_0's auc: 0.750199\n",
      "Training until validation scores don't improve for 30 rounds\n"
     ]
    },
    {
     "name": "stderr",
     "output_type": "stream",
     "text": [
      "[I 2025-08-05 14:26:15,897] Trial 6 finished with value: 0.792135578201152 and parameters: {'learning_rate': 0.012345710508864807, 'num_leaves': 37, 'max_depth': 11, 'min_child_samples': 18, 'feature_fraction': 0.9701583249253336, 'bagging_fraction': 0.6781442859680296, 'lambda_l1': 0.16102277960837874, 'lambda_l2': 0.04601444394099763}. Best is trial 6 with value: 0.792135578201152.\n"
     ]
    },
    {
     "name": "stdout",
     "output_type": "stream",
     "text": [
      "Early stopping, best iteration is:\n",
      "[6]\tvalid_0's auc: 0.792136\n",
      "Training until validation scores don't improve for 30 rounds\n"
     ]
    },
    {
     "name": "stderr",
     "output_type": "stream",
     "text": [
      "[I 2025-08-05 14:26:16,394] Trial 7 finished with value: 0.7388790429774037 and parameters: {'learning_rate': 0.06009950246298565, 'num_leaves': 121, 'max_depth': 13, 'min_child_samples': 17, 'feature_fraction': 0.6642031196335504, 'bagging_fraction': 0.6545638021796666, 'lambda_l1': 0.5013724079303663, 'lambda_l2': 0.2923796545198497}. Best is trial 6 with value: 0.792135578201152.\n"
     ]
    },
    {
     "name": "stdout",
     "output_type": "stream",
     "text": [
      "Early stopping, best iteration is:\n",
      "[2]\tvalid_0's auc: 0.738879\n",
      "Training until validation scores don't improve for 30 rounds\n"
     ]
    },
    {
     "name": "stderr",
     "output_type": "stream",
     "text": [
      "[I 2025-08-05 14:26:17,289] Trial 8 finished with value: 0.7661497563136909 and parameters: {'learning_rate': 0.052629673380496685, 'num_leaves': 99, 'max_depth': 13, 'min_child_samples': 40, 'feature_fraction': 0.661940464619168, 'bagging_fraction': 0.6767441942563333, 'lambda_l1': 0.8330425842884769, 'lambda_l2': 0.7878069329629381}. Best is trial 6 with value: 0.792135578201152.\n"
     ]
    },
    {
     "name": "stdout",
     "output_type": "stream",
     "text": [
      "Did not meet early stopping. Best iteration is:\n",
      "[73]\tvalid_0's auc: 0.76615\n",
      "Training until validation scores don't improve for 30 rounds\n"
     ]
    },
    {
     "name": "stderr",
     "output_type": "stream",
     "text": [
      "[I 2025-08-05 14:26:17,763] Trial 9 finished with value: 0.7466548515728844 and parameters: {'learning_rate': 0.028592686199777062, 'num_leaves': 87, 'max_depth': 11, 'min_child_samples': 35, 'feature_fraction': 0.6696982339963684, 'bagging_fraction': 0.7165563437930372, 'lambda_l1': 0.6914827651246307, 'lambda_l2': 0.2502193104330993}. Best is trial 6 with value: 0.792135578201152.\n"
     ]
    },
    {
     "name": "stdout",
     "output_type": "stream",
     "text": [
      "Early stopping, best iteration is:\n",
      "[9]\tvalid_0's auc: 0.746655\n",
      "Training until validation scores don't improve for 30 rounds\n"
     ]
    },
    {
     "name": "stderr",
     "output_type": "stream",
     "text": [
      "[I 2025-08-05 14:26:18,708] Trial 10 finished with value: 0.7703588834736376 and parameters: {'learning_rate': 0.01183311529025552, 'num_leaves': 38, 'max_depth': 10, 'min_child_samples': 48, 'feature_fraction': 0.998055409811211, 'bagging_fraction': 0.8303490223596109, 'lambda_l1': 0.06784493208565345, 'lambda_l2': 0.9179579902538151}. Best is trial 6 with value: 0.792135578201152.\n"
     ]
    },
    {
     "name": "stdout",
     "output_type": "stream",
     "text": [
      "Did not meet early stopping. Best iteration is:\n",
      "[100]\tvalid_0's auc: 0.770359\n",
      "Training until validation scores don't improve for 30 rounds\n"
     ]
    },
    {
     "name": "stderr",
     "output_type": "stream",
     "text": [
      "[I 2025-08-05 14:26:19,219] Trial 11 finished with value: 0.7377049180327868 and parameters: {'learning_rate': 0.09506242497161616, 'num_leaves': 64, 'max_depth': 16, 'min_child_samples': 29, 'feature_fraction': 0.7610884192147964, 'bagging_fraction': 0.7920836029445506, 'lambda_l1': 0.9835500995920534, 'lambda_l2': 0.3304494578202476}. Best is trial 6 with value: 0.792135578201152.\n"
     ]
    },
    {
     "name": "stdout",
     "output_type": "stream",
     "text": [
      "Early stopping, best iteration is:\n",
      "[5]\tvalid_0's auc: 0.737705\n",
      "Training until validation scores don't improve for 30 rounds\n"
     ]
    },
    {
     "name": "stderr",
     "output_type": "stream",
     "text": [
      "[I 2025-08-05 14:26:19,696] Trial 12 finished with value: 0.7319893664155961 and parameters: {'learning_rate': 0.06775047368458306, 'num_leaves': 65, 'max_depth': 9, 'min_child_samples': 29, 'feature_fraction': 0.6017042347662629, 'bagging_fraction': 0.7420571971165881, 'lambda_l1': 0.2381069547401934, 'lambda_l2': 0.014465629502278698}. Best is trial 6 with value: 0.792135578201152.\n"
     ]
    },
    {
     "name": "stdout",
     "output_type": "stream",
     "text": [
      "Early stopping, best iteration is:\n",
      "[10]\tvalid_0's auc: 0.731989\n",
      "Training until validation scores don't improve for 30 rounds\n"
     ]
    },
    {
     "name": "stderr",
     "output_type": "stream",
     "text": [
      "[I 2025-08-05 14:26:20,763] Trial 13 finished with value: 0.7841825431989368 and parameters: {'learning_rate': 0.012162102438511124, 'num_leaves': 49, 'max_depth': 16, 'min_child_samples': 43, 'feature_fraction': 0.8103943068231827, 'bagging_fraction': 0.6188139130791649, 'lambda_l1': 0.27063518267381415, 'lambda_l2': 0.1915213691151231}. Best is trial 6 with value: 0.792135578201152.\n"
     ]
    },
    {
     "name": "stdout",
     "output_type": "stream",
     "text": [
      "Early stopping, best iteration is:\n",
      "[70]\tvalid_0's auc: 0.784183\n",
      "Training until validation scores don't improve for 30 rounds\n"
     ]
    },
    {
     "name": "stderr",
     "output_type": "stream",
     "text": [
      "[I 2025-08-05 14:26:21,247] Trial 14 finished with value: 0.7622286220646877 and parameters: {'learning_rate': 0.010660810866089502, 'num_leaves': 54, 'max_depth': 9, 'min_child_samples': 49, 'feature_fraction': 0.8229011525233769, 'bagging_fraction': 0.9977490573085293, 'lambda_l1': 0.22836052012605224, 'lambda_l2': 0.15137699080933908}. Best is trial 6 with value: 0.792135578201152.\n"
     ]
    },
    {
     "name": "stdout",
     "output_type": "stream",
     "text": [
      "Early stopping, best iteration is:\n",
      "[2]\tvalid_0's auc: 0.762229\n",
      "Training until validation scores don't improve for 30 rounds\n"
     ]
    },
    {
     "name": "stderr",
     "output_type": "stream",
     "text": [
      "[I 2025-08-05 14:26:21,791] Trial 15 finished with value: 0.7787771377935312 and parameters: {'learning_rate': 0.023162196620761084, 'num_leaves': 50, 'max_depth': 16, 'min_child_samples': 43, 'feature_fraction': 0.7708563507436246, 'bagging_fraction': 0.6054215583467191, 'lambda_l1': 0.22135038913926752, 'lambda_l2': 0.007736787247844101}. Best is trial 6 with value: 0.792135578201152.\n"
     ]
    },
    {
     "name": "stdout",
     "output_type": "stream",
     "text": [
      "Early stopping, best iteration is:\n",
      "[6]\tvalid_0's auc: 0.778777\n",
      "Training until validation scores don't improve for 30 rounds\n"
     ]
    },
    {
     "name": "stderr",
     "output_type": "stream",
     "text": [
      "[I 2025-08-05 14:26:22,777] Trial 16 finished with value: 0.7407177669472751 and parameters: {'learning_rate': 0.03539862073964028, 'num_leaves': 45, 'max_depth': 11, 'min_child_samples': 26, 'feature_fraction': 0.9369354923057996, 'bagging_fraction': 0.6465117066782587, 'lambda_l1': 0.37982750199567805, 'lambda_l2': 0.216407843921396}. Best is trial 6 with value: 0.792135578201152.\n"
     ]
    },
    {
     "name": "stdout",
     "output_type": "stream",
     "text": [
      "Early stopping, best iteration is:\n",
      "[53]\tvalid_0's auc: 0.740718\n",
      "Training until validation scores don't improve for 30 rounds\n"
     ]
    },
    {
     "name": "stderr",
     "output_type": "stream",
     "text": [
      "[I 2025-08-05 14:26:23,316] Trial 17 finished with value: 0.7676118741692513 and parameters: {'learning_rate': 0.016594604525803986, 'num_leaves': 74, 'max_depth': 9, 'min_child_samples': 33, 'feature_fraction': 0.8655433227610986, 'bagging_fraction': 0.6380809949914679, 'lambda_l1': 0.12334845104286862, 'lambda_l2': 0.38188179761097707}. Best is trial 6 with value: 0.792135578201152.\n"
     ]
    },
    {
     "name": "stdout",
     "output_type": "stream",
     "text": [
      "Early stopping, best iteration is:\n",
      "[14]\tvalid_0's auc: 0.767612\n"
     ]
    },
    {
     "name": "stderr",
     "output_type": "stream",
     "text": [
      "[I 2025-08-05 14:26:23,704] Trial 18 finished with value: 0.7443952148870181 and parameters: {'learning_rate': 0.03445754074240798, 'num_leaves': 32, 'max_depth': 6, 'min_child_samples': 44, 'feature_fraction': 0.7408096361052663, 'bagging_fraction': 0.7973756200227723, 'lambda_l1': 0.3932443298704139, 'lambda_l2': 0.4440392235802536}. Best is trial 6 with value: 0.792135578201152.\n"
     ]
    },
    {
     "name": "stdout",
     "output_type": "stream",
     "text": [
      "Training until validation scores don't improve for 30 rounds\n",
      "Early stopping, best iteration is:\n",
      "[15]\tvalid_0's auc: 0.744395\n",
      "Training until validation scores don't improve for 30 rounds\n"
     ]
    },
    {
     "name": "stderr",
     "output_type": "stream",
     "text": [
      "[I 2025-08-05 14:26:24,727] Trial 19 finished with value: 0.7844926894107221 and parameters: {'learning_rate': 0.0179553062030178, 'num_leaves': 44, 'max_depth': 14, 'min_child_samples': 26, 'feature_fraction': 0.8545432527512247, 'bagging_fraction': 0.6943400521018046, 'lambda_l1': 0.11438416418753872, 'lambda_l2': 0.18756463480516875}. Best is trial 6 with value: 0.792135578201152.\n"
     ]
    },
    {
     "name": "stdout",
     "output_type": "stream",
     "text": [
      "Early stopping, best iteration is:\n",
      "[55]\tvalid_0's auc: 0.784493\n",
      "Training until validation scores don't improve for 30 rounds\n"
     ]
    },
    {
     "name": "stderr",
     "output_type": "stream",
     "text": [
      "[I 2025-08-05 14:26:25,860] Trial 20 finished with value: 0.7798848028356224 and parameters: {'learning_rate': 0.09554649376945198, 'num_leaves': 72, 'max_depth': 14, 'min_child_samples': 25, 'feature_fraction': 0.9938206837972452, 'bagging_fraction': 0.69600626093355, 'lambda_l1': 0.11886652833055487, 'lambda_l2': 0.7043104626248777}. Best is trial 6 with value: 0.792135578201152.\n"
     ]
    },
    {
     "name": "stdout",
     "output_type": "stream",
     "text": [
      "Early stopping, best iteration is:\n",
      "[44]\tvalid_0's auc: 0.779885\n",
      "Training until validation scores don't improve for 30 rounds\n"
     ]
    },
    {
     "name": "stderr",
     "output_type": "stream",
     "text": [
      "[I 2025-08-05 14:26:26,497] Trial 21 finished with value: 0.7818342933097031 and parameters: {'learning_rate': 0.015822738420603156, 'num_leaves': 44, 'max_depth': 15, 'min_child_samples': 24, 'feature_fraction': 0.8667479055901972, 'bagging_fraction': 0.6364834312159948, 'lambda_l1': 0.28498378099060456, 'lambda_l2': 0.18490451120085102}. Best is trial 6 with value: 0.792135578201152.\n"
     ]
    },
    {
     "name": "stdout",
     "output_type": "stream",
     "text": [
      "Early stopping, best iteration is:\n",
      "[13]\tvalid_0's auc: 0.781834\n",
      "Training until validation scores don't improve for 30 rounds\n"
     ]
    },
    {
     "name": "stderr",
     "output_type": "stream",
     "text": [
      "[I 2025-08-05 14:26:27,149] Trial 22 finished with value: 0.7510412051395658 and parameters: {'learning_rate': 0.01955581553563212, 'num_leaves': 43, 'max_depth': 15, 'min_child_samples': 15, 'feature_fraction': 0.8082370434695324, 'bagging_fraction': 0.6926065855106314, 'lambda_l1': 0.15407504346727421, 'lambda_l2': 0.10071917024604822}. Best is trial 6 with value: 0.792135578201152.\n"
     ]
    },
    {
     "name": "stdout",
     "output_type": "stream",
     "text": [
      "Early stopping, best iteration is:\n",
      "[14]\tvalid_0's auc: 0.751041\n",
      "Training until validation scores don't improve for 30 rounds\n"
     ]
    },
    {
     "name": "stderr",
     "output_type": "stream",
     "text": [
      "[I 2025-08-05 14:26:27,774] Trial 23 finished with value: 0.7554718653079309 and parameters: {'learning_rate': 0.010515055279020104, 'num_leaves': 54, 'max_depth': 12, 'min_child_samples': 32, 'feature_fraction': 0.8459225175681659, 'bagging_fraction': 0.7667445745769157, 'lambda_l1': 0.030609379543616366, 'lambda_l2': 0.19602499380178887}. Best is trial 6 with value: 0.792135578201152.\n"
     ]
    },
    {
     "name": "stdout",
     "output_type": "stream",
     "text": [
      "Early stopping, best iteration is:\n",
      "[12]\tvalid_0's auc: 0.755472\n",
      "Training until validation scores don't improve for 30 rounds\n"
     ]
    },
    {
     "name": "stderr",
     "output_type": "stream",
     "text": [
      "[I 2025-08-05 14:26:28,639] Trial 24 finished with value: 0.7669029685423129 and parameters: {'learning_rate': 0.03180251323371645, 'num_leaves': 32, 'max_depth': 16, 'min_child_samples': 22, 'feature_fraction': 0.9132952295139868, 'bagging_fraction': 0.605564189809789, 'lambda_l1': 0.3166517340095506, 'lambda_l2': 0.06851224200896414}. Best is trial 6 with value: 0.792135578201152.\n"
     ]
    },
    {
     "name": "stdout",
     "output_type": "stream",
     "text": [
      "Early stopping, best iteration is:\n",
      "[48]\tvalid_0's auc: 0.766903\n",
      "Training until validation scores don't improve for 30 rounds\n"
     ]
    },
    {
     "name": "stderr",
     "output_type": "stream",
     "text": [
      "[I 2025-08-05 14:26:29,286] Trial 25 finished with value: 0.7630926007975188 and parameters: {'learning_rate': 0.020586614580809987, 'num_leaves': 47, 'max_depth': 11, 'min_child_samples': 27, 'feature_fraction': 0.9471107176116127, 'bagging_fraction': 0.8444504068941017, 'lambda_l1': 0.17265611007060133, 'lambda_l2': 0.3967513309080912}. Best is trial 6 with value: 0.792135578201152.\n"
     ]
    },
    {
     "name": "stdout",
     "output_type": "stream",
     "text": [
      "Early stopping, best iteration is:\n",
      "[15]\tvalid_0's auc: 0.763093\n",
      "Training until validation scores don't improve for 30 rounds\n"
     ]
    },
    {
     "name": "stderr",
     "output_type": "stream",
     "text": [
      "[I 2025-08-05 14:26:30,391] Trial 26 finished with value: 0.7348692955250333 and parameters: {'learning_rate': 0.037227468231876046, 'num_leaves': 60, 'max_depth': 14, 'min_child_samples': 12, 'feature_fraction': 0.7784574273932708, 'bagging_fraction': 0.6655000208610982, 'lambda_l1': 0.4329243514110017, 'lambda_l2': 0.24762494736639404}. Best is trial 6 with value: 0.792135578201152.\n"
     ]
    },
    {
     "name": "stdout",
     "output_type": "stream",
     "text": [
      "Early stopping, best iteration is:\n",
      "[53]\tvalid_0's auc: 0.734869\n",
      "Training until validation scores don't improve for 30 rounds\n"
     ]
    },
    {
     "name": "stderr",
     "output_type": "stream",
     "text": [
      "[I 2025-08-05 14:26:31,029] Trial 27 finished with value: 0.7422684980062029 and parameters: {'learning_rate': 0.01712113118646004, 'num_leaves': 40, 'max_depth': 12, 'min_child_samples': 38, 'feature_fraction': 0.7363058257346305, 'bagging_fraction': 0.7176631054789091, 'lambda_l1': 0.5707024968918236, 'lambda_l2': 0.009613447834134758}. Best is trial 6 with value: 0.792135578201152.\n"
     ]
    },
    {
     "name": "stdout",
     "output_type": "stream",
     "text": [
      "Early stopping, best iteration is:\n",
      "[24]\tvalid_0's auc: 0.742268\n",
      "Training until validation scores don't improve for 30 rounds\n"
     ]
    },
    {
     "name": "stderr",
     "output_type": "stream",
     "text": [
      "[I 2025-08-05 14:26:31,790] Trial 28 finished with value: 0.7547629596809925 and parameters: {'learning_rate': 0.07373057061666517, 'num_leaves': 52, 'max_depth': 10, 'min_child_samples': 20, 'feature_fraction': 0.8893996767360899, 'bagging_fraction': 0.6290612637396461, 'lambda_l1': 0.0019095401318572902, 'lambda_l2': 0.08185462219138165}. Best is trial 6 with value: 0.792135578201152.\n"
     ]
    },
    {
     "name": "stdout",
     "output_type": "stream",
     "text": [
      "Early stopping, best iteration is:\n",
      "[25]\tvalid_0's auc: 0.754763\n",
      "Training until validation scores don't improve for 30 rounds\n"
     ]
    },
    {
     "name": "stderr",
     "output_type": "stream",
     "text": [
      "[I 2025-08-05 14:26:32,493] Trial 29 finished with value: 0.757731501993797 and parameters: {'learning_rate': 0.03867696142192633, 'num_leaves': 128, 'max_depth': 15, 'min_child_samples': 45, 'feature_fraction': 0.966497103423503, 'bagging_fraction': 0.6019003568615344, 'lambda_l1': 0.2760127829119377, 'lambda_l2': 0.6369309705120316}. Best is trial 6 with value: 0.792135578201152.\n"
     ]
    },
    {
     "name": "stdout",
     "output_type": "stream",
     "text": [
      "Early stopping, best iteration is:\n",
      "[18]\tvalid_0's auc: 0.757732\n",
      "Training until validation scores don't improve for 30 rounds\n"
     ]
    },
    {
     "name": "stderr",
     "output_type": "stream",
     "text": [
      "[I 2025-08-05 14:26:33,099] Trial 30 finished with value: 0.7680992467877714 and parameters: {'learning_rate': 0.05063294343769437, 'num_leaves': 70, 'max_depth': 8, 'min_child_samples': 18, 'feature_fraction': 0.8057750780513089, 'bagging_fraction': 0.7033405256829804, 'lambda_l1': 0.6047507341552498, 'lambda_l2': 0.515207865409847}. Best is trial 6 with value: 0.792135578201152.\n"
     ]
    },
    {
     "name": "stdout",
     "output_type": "stream",
     "text": [
      "Early stopping, best iteration is:\n",
      "[23]\tvalid_0's auc: 0.768099\n",
      "Training until validation scores don't improve for 30 rounds\n"
     ]
    },
    {
     "name": "stderr",
     "output_type": "stream",
     "text": [
      "[I 2025-08-05 14:26:33,712] Trial 31 finished with value: 0.7693841382365972 and parameters: {'learning_rate': 0.04412000194603631, 'num_leaves': 81, 'max_depth': 15, 'min_child_samples': 37, 'feature_fraction': 0.6306801940119693, 'bagging_fraction': 0.7339042501212363, 'lambda_l1': 0.923525334171958, 'lambda_l2': 0.3189251940221751}. Best is trial 6 with value: 0.792135578201152.\n"
     ]
    },
    {
     "name": "stdout",
     "output_type": "stream",
     "text": [
      "Early stopping, best iteration is:\n",
      "[25]\tvalid_0's auc: 0.769384\n",
      "Training until validation scores don't improve for 30 rounds\n"
     ]
    },
    {
     "name": "stderr",
     "output_type": "stream",
     "text": [
      "[I 2025-08-05 14:26:34,250] Trial 32 finished with value: 0.7595480726628268 and parameters: {'learning_rate': 0.060494278965136865, 'num_leaves': 88, 'max_depth': 16, 'min_child_samples': 41, 'feature_fraction': 0.723694649111346, 'bagging_fraction': 0.7708708155618584, 'lambda_l1': 0.4587694007586628, 'lambda_l2': 0.16984136546339673}. Best is trial 6 with value: 0.792135578201152.\n"
     ]
    },
    {
     "name": "stdout",
     "output_type": "stream",
     "text": [
      "Early stopping, best iteration is:\n",
      "[5]\tvalid_0's auc: 0.759548\n",
      "Training until validation scores don't improve for 30 rounds\n"
     ]
    },
    {
     "name": "stderr",
     "output_type": "stream",
     "text": [
      "[I 2025-08-05 14:26:34,876] Trial 33 finished with value: 0.7953478068232167 and parameters: {'learning_rate': 0.028091540159487727, 'num_leaves': 106, 'max_depth': 15, 'min_child_samples': 32, 'feature_fraction': 0.6950593752600946, 'bagging_fraction': 0.6612049339397027, 'lambda_l1': 0.6432713912454568, 'lambda_l2': 0.2795154236880638}. Best is trial 33 with value: 0.7953478068232167.\n"
     ]
    },
    {
     "name": "stdout",
     "output_type": "stream",
     "text": [
      "Early stopping, best iteration is:\n",
      "[20]\tvalid_0's auc: 0.795348\n",
      "Training until validation scores don't improve for 30 rounds\n"
     ]
    },
    {
     "name": "stderr",
     "output_type": "stream",
     "text": [
      "[I 2025-08-05 14:26:35,485] Trial 34 finished with value: 0.7837837837837839 and parameters: {'learning_rate': 0.02516304282553352, 'num_leaves': 111, 'max_depth': 14, 'min_child_samples': 31, 'feature_fraction': 0.7847947509874235, 'bagging_fraction': 0.6651501966088849, 'lambda_l1': 0.636392675191187, 'lambda_l2': 0.25652339202533964}. Best is trial 33 with value: 0.7953478068232167.\n"
     ]
    },
    {
     "name": "stdout",
     "output_type": "stream",
     "text": [
      "Early stopping, best iteration is:\n",
      "[12]\tvalid_0's auc: 0.783784\n",
      "Training until validation scores don't improve for 30 rounds\n"
     ]
    },
    {
     "name": "stderr",
     "output_type": "stream",
     "text": [
      "[I 2025-08-05 14:26:36,118] Trial 35 finished with value: 0.7898316349136021 and parameters: {'learning_rate': 0.014597812305589802, 'num_leaves': 103, 'max_depth': 15, 'min_child_samples': 22, 'feature_fraction': 0.6981400814207636, 'bagging_fraction': 0.6273787970811753, 'lambda_l1': 0.10549231165594297, 'lambda_l2': 0.13062008278043136}. Best is trial 33 with value: 0.7953478068232167.\n"
     ]
    },
    {
     "name": "stdout",
     "output_type": "stream",
     "text": [
      "Early stopping, best iteration is:\n",
      "[6]\tvalid_0's auc: 0.789832\n",
      "Training until validation scores don't improve for 30 rounds\n"
     ]
    },
    {
     "name": "stderr",
     "output_type": "stream",
     "text": [
      "[I 2025-08-05 14:26:36,791] Trial 36 finished with value: 0.7543642002658396 and parameters: {'learning_rate': 0.029732261354165592, 'num_leaves': 102, 'max_depth': 13, 'min_child_samples': 22, 'feature_fraction': 0.6987929249586514, 'bagging_fraction': 0.6712847124040774, 'lambda_l1': 0.08687870793272828, 'lambda_l2': 0.12352461797151199}. Best is trial 33 with value: 0.7953478068232167.\n"
     ]
    },
    {
     "name": "stdout",
     "output_type": "stream",
     "text": [
      "Early stopping, best iteration is:\n",
      "[12]\tvalid_0's auc: 0.754364\n",
      "Training until validation scores don't improve for 30 rounds\n"
     ]
    },
    {
     "name": "stderr",
     "output_type": "stream",
     "text": [
      "[I 2025-08-05 14:26:37,492] Trial 37 finished with value: 0.7529906956136464 and parameters: {'learning_rate': 0.021776852586468436, 'num_leaves': 110, 'max_depth': 14, 'min_child_samples': 20, 'feature_fraction': 0.6908235451084225, 'bagging_fraction': 0.6554057901689336, 'lambda_l1': 0.19170571129137104, 'lambda_l2': 0.3509835132280578}. Best is trial 33 with value: 0.7953478068232167.\n"
     ]
    },
    {
     "name": "stdout",
     "output_type": "stream",
     "text": [
      "Early stopping, best iteration is:\n",
      "[18]\tvalid_0's auc: 0.752991\n",
      "Training until validation scores don't improve for 30 rounds\n"
     ]
    },
    {
     "name": "stderr",
     "output_type": "stream",
     "text": [
      "[I 2025-08-05 14:26:38,103] Trial 38 finished with value: 0.7408063801506426 and parameters: {'learning_rate': 0.016063735340578006, 'num_leaves': 97, 'max_depth': 12, 'min_child_samples': 28, 'feature_fraction': 0.6328758700098457, 'bagging_fraction': 0.9090880436551521, 'lambda_l1': 0.8046174831047745, 'lambda_l2': 0.0584413788404384}. Best is trial 33 with value: 0.7953478068232167.\n"
     ]
    },
    {
     "name": "stdout",
     "output_type": "stream",
     "text": [
      "Early stopping, best iteration is:\n",
      "[21]\tvalid_0's auc: 0.740806\n",
      "Training until validation scores don't improve for 30 rounds\n"
     ]
    },
    {
     "name": "stderr",
     "output_type": "stream",
     "text": [
      "[I 2025-08-05 14:26:38,800] Trial 39 finished with value: 0.7301727957465662 and parameters: {'learning_rate': 0.026929676886592594, 'num_leaves': 111, 'max_depth': 15, 'min_child_samples': 17, 'feature_fraction': 0.7082208713163051, 'bagging_fraction': 0.7095968050267595, 'lambda_l1': 0.5420180573540839, 'lambda_l2': 0.27679153818507396}. Best is trial 33 with value: 0.7953478068232167.\n"
     ]
    },
    {
     "name": "stdout",
     "output_type": "stream",
     "text": [
      "Early stopping, best iteration is:\n",
      "[22]\tvalid_0's auc: 0.730173\n",
      "\n",
      "📍 Training for label: SR-MMP\n"
     ]
    },
    {
     "name": "stderr",
     "output_type": "stream",
     "text": [
      "[I 2025-08-05 14:26:46,981] A new study created in memory with name: no-name-41c20def-664e-4f26-9bac-c510bc2eb5a2\n"
     ]
    },
    {
     "name": "stdout",
     "output_type": "stream",
     "text": [
      "Training until validation scores don't improve for 30 rounds\n"
     ]
    },
    {
     "name": "stderr",
     "output_type": "stream",
     "text": [
      "[I 2025-08-05 14:26:48,215] Trial 0 finished with value: 0.9261580866008713 and parameters: {'learning_rate': 0.05600206074796724, 'num_leaves': 64, 'max_depth': 13, 'min_child_samples': 16, 'feature_fraction': 0.6855475100337821, 'bagging_fraction': 0.6233959131298173, 'lambda_l1': 0.6150502519202604, 'lambda_l2': 0.08882077844309655}. Best is trial 0 with value: 0.9261580866008713.\n"
     ]
    },
    {
     "name": "stdout",
     "output_type": "stream",
     "text": [
      "Did not meet early stopping. Best iteration is:\n",
      "[100]\tvalid_0's auc: 0.926158\n",
      "Training until validation scores don't improve for 30 rounds\n"
     ]
    },
    {
     "name": "stderr",
     "output_type": "stream",
     "text": [
      "[I 2025-08-05 14:26:49,858] Trial 1 finished with value: 0.929470080910465 and parameters: {'learning_rate': 0.07537016839353344, 'num_leaves': 96, 'max_depth': 11, 'min_child_samples': 10, 'feature_fraction': 0.9242995736809312, 'bagging_fraction': 0.7716164445460088, 'lambda_l1': 0.7137206260811663, 'lambda_l2': 0.5244836785960831}. Best is trial 1 with value: 0.929470080910465.\n"
     ]
    },
    {
     "name": "stdout",
     "output_type": "stream",
     "text": [
      "Did not meet early stopping. Best iteration is:\n",
      "[98]\tvalid_0's auc: 0.92947\n",
      "Training until validation scores don't improve for 30 rounds\n"
     ]
    },
    {
     "name": "stderr",
     "output_type": "stream",
     "text": [
      "[I 2025-08-05 14:26:50,578] Trial 2 finished with value: 0.928492042322397 and parameters: {'learning_rate': 0.08364768451361031, 'num_leaves': 128, 'max_depth': 16, 'min_child_samples': 25, 'feature_fraction': 0.6185259418928756, 'bagging_fraction': 0.7108005274133316, 'lambda_l1': 0.29715192930144296, 'lambda_l2': 0.9894809333531952}. Best is trial 1 with value: 0.929470080910465.\n"
     ]
    },
    {
     "name": "stdout",
     "output_type": "stream",
     "text": [
      "Early stopping, best iteration is:\n",
      "[25]\tvalid_0's auc: 0.928492\n",
      "Training until validation scores don't improve for 30 rounds\n"
     ]
    },
    {
     "name": "stderr",
     "output_type": "stream",
     "text": [
      "[I 2025-08-05 14:26:51,398] Trial 3 finished with value: 0.9277585133813461 and parameters: {'learning_rate': 0.07766872957333608, 'num_leaves': 126, 'max_depth': 8, 'min_child_samples': 44, 'feature_fraction': 0.7869864902358071, 'bagging_fraction': 0.9821864095512887, 'lambda_l1': 0.10871888879111391, 'lambda_l2': 0.1769306922141095}. Best is trial 1 with value: 0.929470080910465.\n"
     ]
    },
    {
     "name": "stdout",
     "output_type": "stream",
     "text": [
      "Did not meet early stopping. Best iteration is:\n",
      "[73]\tvalid_0's auc: 0.927759\n",
      "Training until validation scores don't improve for 30 rounds\n"
     ]
    },
    {
     "name": "stderr",
     "output_type": "stream",
     "text": [
      "[I 2025-08-05 14:26:52,146] Trial 4 finished with value: 0.9235796212323286 and parameters: {'learning_rate': 0.01864893860096627, 'num_leaves': 105, 'max_depth': 7, 'min_child_samples': 38, 'feature_fraction': 0.6468067527500694, 'bagging_fraction': 0.9893542110705571, 'lambda_l1': 0.6420759881196031, 'lambda_l2': 0.2685502088039975}. Best is trial 1 with value: 0.929470080910465.\n"
     ]
    },
    {
     "name": "stdout",
     "output_type": "stream",
     "text": [
      "Did not meet early stopping. Best iteration is:\n",
      "[98]\tvalid_0's auc: 0.92358\n",
      "Training until validation scores don't improve for 30 rounds\n"
     ]
    },
    {
     "name": "stderr",
     "output_type": "stream",
     "text": [
      "[I 2025-08-05 14:26:53,749] Trial 5 finished with value: 0.9240908686760914 and parameters: {'learning_rate': 0.03442990609502919, 'num_leaves': 117, 'max_depth': 12, 'min_child_samples': 14, 'feature_fraction': 0.8213122096596034, 'bagging_fraction': 0.6985529708995053, 'lambda_l1': 0.4691019764994988, 'lambda_l2': 0.2619412875208825}. Best is trial 1 with value: 0.929470080910465.\n"
     ]
    },
    {
     "name": "stdout",
     "output_type": "stream",
     "text": [
      "Did not meet early stopping. Best iteration is:\n",
      "[100]\tvalid_0's auc: 0.924091\n",
      "Training until validation scores don't improve for 30 rounds\n"
     ]
    },
    {
     "name": "stderr",
     "output_type": "stream",
     "text": [
      "[I 2025-08-05 14:26:54,752] Trial 6 finished with value: 0.9237129901307015 and parameters: {'learning_rate': 0.07788368757139932, 'num_leaves': 115, 'max_depth': 8, 'min_child_samples': 15, 'feature_fraction': 0.6209364998689187, 'bagging_fraction': 0.9262912158818657, 'lambda_l1': 0.7792123024300076, 'lambda_l2': 0.6452594510758115}. Best is trial 1 with value: 0.929470080910465.\n"
     ]
    },
    {
     "name": "stdout",
     "output_type": "stream",
     "text": [
      "Did not meet early stopping. Best iteration is:\n",
      "[92]\tvalid_0's auc: 0.923713\n",
      "Training until validation scores don't improve for 30 rounds\n"
     ]
    },
    {
     "name": "stderr",
     "output_type": "stream",
     "text": [
      "[I 2025-08-05 14:26:55,903] Trial 7 finished with value: 0.9227349515426336 and parameters: {'learning_rate': 0.09660102368689344, 'num_leaves': 100, 'max_depth': 15, 'min_child_samples': 39, 'feature_fraction': 0.866891731838143, 'bagging_fraction': 0.6640453001717342, 'lambda_l1': 0.36768293421359277, 'lambda_l2': 0.34396888253172053}. Best is trial 1 with value: 0.929470080910465.\n"
     ]
    },
    {
     "name": "stdout",
     "output_type": "stream",
     "text": [
      "Did not meet early stopping. Best iteration is:\n",
      "[99]\tvalid_0's auc: 0.922735\n",
      "Training until validation scores don't improve for 30 rounds\n"
     ]
    },
    {
     "name": "stderr",
     "output_type": "stream",
     "text": [
      "[I 2025-08-05 14:26:56,901] Trial 8 finished with value: 0.9245354316706678 and parameters: {'learning_rate': 0.09429300016427113, 'num_leaves': 57, 'max_depth': 9, 'min_child_samples': 18, 'feature_fraction': 0.6104469528565668, 'bagging_fraction': 0.7239593017091221, 'lambda_l1': 0.24583450666921325, 'lambda_l2': 0.5948720281903522}. Best is trial 1 with value: 0.929470080910465.\n"
     ]
    },
    {
     "name": "stdout",
     "output_type": "stream",
     "text": [
      "Did not meet early stopping. Best iteration is:\n",
      "[77]\tvalid_0's auc: 0.924535\n",
      "Training until validation scores don't improve for 30 rounds\n"
     ]
    },
    {
     "name": "stderr",
     "output_type": "stream",
     "text": [
      "[I 2025-08-05 14:26:58,586] Trial 9 finished with value: 0.9301369254023295 and parameters: {'learning_rate': 0.039852037273096365, 'num_leaves': 90, 'max_depth': 14, 'min_child_samples': 13, 'feature_fraction': 0.934548392927109, 'bagging_fraction': 0.8477342223828371, 'lambda_l1': 0.740680278974044, 'lambda_l2': 0.05190535713644562}. Best is trial 9 with value: 0.9301369254023295.\n"
     ]
    },
    {
     "name": "stdout",
     "output_type": "stream",
     "text": [
      "Did not meet early stopping. Best iteration is:\n",
      "[91]\tvalid_0's auc: 0.930137\n",
      "Training until validation scores don't improve for 30 rounds\n"
     ]
    },
    {
     "name": "stderr",
     "output_type": "stream",
     "text": [
      "[I 2025-08-05 14:26:59,895] Trial 10 finished with value: 0.9218902818529385 and parameters: {'learning_rate': 0.04810730288395219, 'num_leaves': 79, 'max_depth': 14, 'min_child_samples': 29, 'feature_fraction': 0.9954541663819345, 'bagging_fraction': 0.8644211488364332, 'lambda_l1': 0.9991467198591881, 'lambda_l2': 0.0030349837065920537}. Best is trial 9 with value: 0.9301369254023295.\n"
     ]
    },
    {
     "name": "stdout",
     "output_type": "stream",
     "text": [
      "Did not meet early stopping. Best iteration is:\n",
      "[94]\tvalid_0's auc: 0.92189\n",
      "Training until validation scores don't improve for 30 rounds\n"
     ]
    },
    {
     "name": "stderr",
     "output_type": "stream",
     "text": [
      "[I 2025-08-05 14:27:00,918] Trial 11 finished with value: 0.9245576598203966 and parameters: {'learning_rate': 0.058861355868396664, 'num_leaves': 89, 'max_depth': 10, 'min_child_samples': 11, 'feature_fraction': 0.9726080810789336, 'bagging_fraction': 0.7940385800264625, 'lambda_l1': 0.842652967205931, 'lambda_l2': 0.47908379623853486}. Best is trial 9 with value: 0.9301369254023295.\n"
     ]
    },
    {
     "name": "stdout",
     "output_type": "stream",
     "text": [
      "Early stopping, best iteration is:\n",
      "[30]\tvalid_0's auc: 0.924558\n",
      "Training until validation scores don't improve for 30 rounds\n"
     ]
    },
    {
     "name": "stderr",
     "output_type": "stream",
     "text": [
      "[I 2025-08-05 14:27:01,989] Trial 12 finished with value: 0.9249133102160576 and parameters: {'learning_rate': 0.0393290821980075, 'num_leaves': 41, 'max_depth': 11, 'min_child_samples': 23, 'feature_fraction': 0.9128276608078736, 'bagging_fraction': 0.8041273736774583, 'lambda_l1': 0.7514844769276928, 'lambda_l2': 0.7860310990977044}. Best is trial 9 with value: 0.9301369254023295.\n"
     ]
    },
    {
     "name": "stdout",
     "output_type": "stream",
     "text": [
      "Did not meet early stopping. Best iteration is:\n",
      "[78]\tvalid_0's auc: 0.924913\n",
      "Training until validation scores don't improve for 30 rounds\n"
     ]
    },
    {
     "name": "stderr",
     "output_type": "stream",
     "text": [
      "[I 2025-08-05 14:27:03,284] Trial 13 finished with value: 0.9247799413176847 and parameters: {'learning_rate': 0.06771975096370215, 'num_leaves': 82, 'max_depth': 12, 'min_child_samples': 10, 'feature_fraction': 0.907539492584928, 'bagging_fraction': 0.8027007069959731, 'lambda_l1': 0.9104280342382618, 'lambda_l2': 0.4284999890856601}. Best is trial 9 with value: 0.9301369254023295.\n"
     ]
    },
    {
     "name": "stdout",
     "output_type": "stream",
     "text": [
      "Early stopping, best iteration is:\n",
      "[49]\tvalid_0's auc: 0.92478\n",
      "Training until validation scores don't improve for 30 rounds\n"
     ]
    },
    {
     "name": "stderr",
     "output_type": "stream",
     "text": [
      "[I 2025-08-05 14:27:04,617] Trial 14 finished with value: 0.9192451320352094 and parameters: {'learning_rate': 0.011622862023814233, 'num_leaves': 95, 'max_depth': 14, 'min_child_samples': 21, 'feature_fraction': 0.9370360872084885, 'bagging_fraction': 0.8703849298791617, 'lambda_l1': 0.6338806646838451, 'lambda_l2': 0.7700806834346375}. Best is trial 9 with value: 0.9301369254023295.\n"
     ]
    },
    {
     "name": "stdout",
     "output_type": "stream",
     "text": [
      "Did not meet early stopping. Best iteration is:\n",
      "[100]\tvalid_0's auc: 0.919245\n",
      "Training until validation scores don't improve for 30 rounds\n"
     ]
    },
    {
     "name": "stderr",
     "output_type": "stream",
     "text": [
      "[I 2025-08-05 14:27:05,705] Trial 15 finished with value: 0.924979994665244 and parameters: {'learning_rate': 0.02851958575069306, 'num_leaves': 71, 'max_depth': 11, 'min_child_samples': 30, 'feature_fraction': 0.7687708282794068, 'bagging_fraction': 0.7584813534444228, 'lambda_l1': 0.5565720493884879, 'lambda_l2': 0.5867672245254953}. Best is trial 9 with value: 0.9301369254023295.\n"
     ]
    },
    {
     "name": "stdout",
     "output_type": "stream",
     "text": [
      "Did not meet early stopping. Best iteration is:\n",
      "[89]\tvalid_0's auc: 0.92498\n",
      "Training until validation scores don't improve for 30 rounds\n"
     ]
    },
    {
     "name": "stderr",
     "output_type": "stream",
     "text": [
      "[I 2025-08-05 14:27:06,463] Trial 16 finished with value: 0.9213568062594469 and parameters: {'learning_rate': 0.06689694834320044, 'num_leaves': 49, 'max_depth': 6, 'min_child_samples': 10, 'feature_fraction': 0.8642236400658033, 'bagging_fraction': 0.8757956385003428, 'lambda_l1': 0.7275533148028351, 'lambda_l2': 0.7184163213697685}. Best is trial 9 with value: 0.9301369254023295.\n"
     ]
    },
    {
     "name": "stdout",
     "output_type": "stream",
     "text": [
      "Early stopping, best iteration is:\n",
      "[60]\tvalid_0's auc: 0.921357\n",
      "Training until validation scores don't improve for 30 rounds\n"
     ]
    },
    {
     "name": "stderr",
     "output_type": "stream",
     "text": [
      "[I 2025-08-05 14:27:07,375] Trial 17 finished with value: 0.9251355917133458 and parameters: {'learning_rate': 0.040442876935927435, 'num_leaves': 108, 'max_depth': 16, 'min_child_samples': 50, 'feature_fraction': 0.7334403996344783, 'bagging_fraction': 0.8363351892059826, 'lambda_l1': 0.4556631144364338, 'lambda_l2': 0.9173743216438336}. Best is trial 9 with value: 0.9301369254023295.\n"
     ]
    },
    {
     "name": "stdout",
     "output_type": "stream",
     "text": [
      "Did not meet early stopping. Best iteration is:\n",
      "[98]\tvalid_0's auc: 0.925136\n",
      "Training until validation scores don't improve for 30 rounds\n"
     ]
    },
    {
     "name": "stderr",
     "output_type": "stream",
     "text": [
      "[I 2025-08-05 14:27:08,801] Trial 18 finished with value: 0.9274473192851427 and parameters: {'learning_rate': 0.04662602410630759, 'num_leaves': 89, 'max_depth': 13, 'min_child_samples': 19, 'feature_fraction': 0.9519620048348058, 'bagging_fraction': 0.9106440998119727, 'lambda_l1': 0.9025089194247007, 'lambda_l2': 0.39505841561673366}. Best is trial 9 with value: 0.9301369254023295.\n"
     ]
    },
    {
     "name": "stdout",
     "output_type": "stream",
     "text": [
      "Did not meet early stopping. Best iteration is:\n",
      "[100]\tvalid_0's auc: 0.927447\n",
      "Training until validation scores don't improve for 30 rounds\n"
     ]
    },
    {
     "name": "stderr",
     "output_type": "stream",
     "text": [
      "[I 2025-08-05 14:27:09,964] Trial 19 finished with value: 0.9161554192229039 and parameters: {'learning_rate': 0.025507712016674736, 'num_leaves': 75, 'max_depth': 10, 'min_child_samples': 26, 'feature_fraction': 0.8543526189733388, 'bagging_fraction': 0.7613829824207169, 'lambda_l1': 0.003814598430386673, 'lambda_l2': 0.5339172952255087}. Best is trial 9 with value: 0.9301369254023295.\n"
     ]
    },
    {
     "name": "stdout",
     "output_type": "stream",
     "text": [
      "Early stopping, best iteration is:\n",
      "[56]\tvalid_0's auc: 0.916155\n",
      "Training until validation scores don't improve for 30 rounds\n"
     ]
    },
    {
     "name": "stderr",
     "output_type": "stream",
     "text": [
      "[I 2025-08-05 14:27:10,662] Trial 20 finished with value: 0.9198452920778875 and parameters: {'learning_rate': 0.06898685266134358, 'num_leaves': 33, 'max_depth': 14, 'min_child_samples': 37, 'feature_fraction': 0.9013694869635467, 'bagging_fraction': 0.9225410783177895, 'lambda_l1': 0.7098856045956666, 'lambda_l2': 0.1626103345278497}. Best is trial 9 with value: 0.9301369254023295.\n"
     ]
    },
    {
     "name": "stdout",
     "output_type": "stream",
     "text": [
      "Early stopping, best iteration is:\n",
      "[35]\tvalid_0's auc: 0.919845\n",
      "Training until validation scores don't improve for 30 rounds\n"
     ]
    },
    {
     "name": "stderr",
     "output_type": "stream",
     "text": [
      "[I 2025-08-05 14:27:11,885] Trial 21 finished with value: 0.9244465190717526 and parameters: {'learning_rate': 0.08674225204642406, 'num_leaves': 123, 'max_depth': 16, 'min_child_samples': 24, 'feature_fraction': 0.7153221564868707, 'bagging_fraction': 0.7160454911224688, 'lambda_l1': 0.3157701656922033, 'lambda_l2': 0.9808693018844509}. Best is trial 9 with value: 0.9301369254023295.\n"
     ]
    },
    {
     "name": "stdout",
     "output_type": "stream",
     "text": [
      "Did not meet early stopping. Best iteration is:\n",
      "[72]\tvalid_0's auc: 0.924447\n",
      "Training until validation scores don't improve for 30 rounds\n"
     ]
    },
    {
     "name": "stderr",
     "output_type": "stream",
     "text": [
      "[I 2025-08-05 14:27:13,513] Trial 22 finished with value: 0.9341157642037876 and parameters: {'learning_rate': 0.0814508561660805, 'num_leaves': 113, 'max_depth': 15, 'min_child_samples': 14, 'feature_fraction': 0.8158997983594992, 'bagging_fraction': 0.6591709968493875, 'lambda_l1': 0.21640864437492868, 'lambda_l2': 0.8725855474615499}. Best is trial 22 with value: 0.9341157642037876.\n"
     ]
    },
    {
     "name": "stdout",
     "output_type": "stream",
     "text": [
      "Did not meet early stopping. Best iteration is:\n",
      "[99]\tvalid_0's auc: 0.934116\n",
      "Training until validation scores don't improve for 30 rounds\n"
     ]
    },
    {
     "name": "stderr",
     "output_type": "stream",
     "text": [
      "[I 2025-08-05 14:27:15,065] Trial 23 finished with value: 0.9287810082688718 and parameters: {'learning_rate': 0.07525711745862221, 'num_leaves': 111, 'max_depth': 15, 'min_child_samples': 13, 'feature_fraction': 0.8287479809673111, 'bagging_fraction': 0.6355402890175679, 'lambda_l1': 0.5212652131650394, 'lambda_l2': 0.8292158995272619}. Best is trial 22 with value: 0.9341157642037876.\n"
     ]
    },
    {
     "name": "stdout",
     "output_type": "stream",
     "text": [
      "Did not meet early stopping. Best iteration is:\n",
      "[93]\tvalid_0's auc: 0.928781\n",
      "Training until validation scores don't improve for 30 rounds\n"
     ]
    },
    {
     "name": "stderr",
     "output_type": "stream",
     "text": [
      "[I 2025-08-05 14:27:16,597] Trial 24 finished with value: 0.928380901573753 and parameters: {'learning_rate': 0.08806574401964953, 'num_leaves': 97, 'max_depth': 12, 'min_child_samples': 19, 'feature_fraction': 0.8906037790640857, 'bagging_fraction': 0.6727688758709065, 'lambda_l1': 0.1595543721756676, 'lambda_l2': 0.6748363461155543}. Best is trial 22 with value: 0.9341157642037876.\n"
     ]
    },
    {
     "name": "stdout",
     "output_type": "stream",
     "text": [
      "Did not meet early stopping. Best iteration is:\n",
      "[100]\tvalid_0's auc: 0.928381\n",
      "Training until validation scores don't improve for 30 rounds\n"
     ]
    },
    {
     "name": "stderr",
     "output_type": "stream",
     "text": [
      "[I 2025-08-05 14:27:18,294] Trial 25 finished with value: 0.9305148039477193 and parameters: {'learning_rate': 0.05883794429636632, 'num_leaves': 89, 'max_depth': 13, 'min_child_samples': 14, 'feature_fraction': 0.9488287021598787, 'bagging_fraction': 0.7556241092347095, 'lambda_l1': 0.39619908042425095, 'lambda_l2': 0.8668522147725654}. Best is trial 22 with value: 0.9341157642037876.\n"
     ]
    },
    {
     "name": "stdout",
     "output_type": "stream",
     "text": [
      "Did not meet early stopping. Best iteration is:\n",
      "[99]\tvalid_0's auc: 0.930515\n",
      "Training until validation scores don't improve for 30 rounds\n"
     ]
    },
    {
     "name": "stderr",
     "output_type": "stream",
     "text": [
      "[I 2025-08-05 14:27:19,952] Trial 26 finished with value: 0.9289366053169734 and parameters: {'learning_rate': 0.06277420133483119, 'num_leaves': 88, 'max_depth': 15, 'min_child_samples': 16, 'feature_fraction': 0.9971308986366421, 'bagging_fraction': 0.6713090018956298, 'lambda_l1': 0.3922880784938261, 'lambda_l2': 0.867597630606483}. Best is trial 22 with value: 0.9341157642037876.\n"
     ]
    },
    {
     "name": "stdout",
     "output_type": "stream",
     "text": [
      "Did not meet early stopping. Best iteration is:\n",
      "[94]\tvalid_0's auc: 0.928937\n",
      "Training until validation scores don't improve for 30 rounds\n"
     ]
    },
    {
     "name": "stderr",
     "output_type": "stream",
     "text": [
      "[I 2025-08-05 14:27:21,091] Trial 27 finished with value: 0.9255134702587356 and parameters: {'learning_rate': 0.050106169959667796, 'num_leaves': 103, 'max_depth': 13, 'min_child_samples': 34, 'feature_fraction': 0.7560136950491492, 'bagging_fraction': 0.8418928619248898, 'lambda_l1': 0.21549812440146646, 'lambda_l2': 0.9217843168989485}. Best is trial 22 with value: 0.9341157642037876.\n"
     ]
    },
    {
     "name": "stdout",
     "output_type": "stream",
     "text": [
      "Did not meet early stopping. Best iteration is:\n",
      "[97]\tvalid_0's auc: 0.925513\n",
      "Training until validation scores don't improve for 30 rounds\n"
     ]
    },
    {
     "name": "stderr",
     "output_type": "stream",
     "text": [
      "[I 2025-08-05 14:27:22,647] Trial 28 finished with value: 0.928380901573753 and parameters: {'learning_rate': 0.041483033024037344, 'num_leaves': 67, 'max_depth': 14, 'min_child_samples': 21, 'feature_fraction': 0.9647095485592616, 'bagging_fraction': 0.7377689215246352, 'lambda_l1': 0.07318349008395866, 'lambda_l2': 0.7228675680038014}. Best is trial 22 with value: 0.9341157642037876.\n"
     ]
    },
    {
     "name": "stdout",
     "output_type": "stream",
     "text": [
      "Did not meet early stopping. Best iteration is:\n",
      "[94]\tvalid_0's auc: 0.928381\n",
      "Training until validation scores don't improve for 30 rounds\n"
     ]
    },
    {
     "name": "stderr",
     "output_type": "stream",
     "text": [
      "[I 2025-08-05 14:27:23,743] Trial 29 finished with value: 0.9289366053169734 and parameters: {'learning_rate': 0.0548599951942645, 'num_leaves': 63, 'max_depth': 13, 'min_child_samples': 17, 'feature_fraction': 0.6719498125612531, 'bagging_fraction': 0.6081749694940182, 'lambda_l1': 0.40446414448953755, 'lambda_l2': 0.08053398428764924}. Best is trial 22 with value: 0.9341157642037876.\n"
     ]
    },
    {
     "name": "stdout",
     "output_type": "stream",
     "text": [
      "Early stopping, best iteration is:\n",
      "[53]\tvalid_0's auc: 0.928937\n",
      "Training until validation scores don't improve for 30 rounds\n"
     ]
    },
    {
     "name": "stderr",
     "output_type": "stream",
     "text": [
      "[I 2025-08-05 14:27:25,208] Trial 30 finished with value: 0.9249577665155153 and parameters: {'learning_rate': 0.056032502007446736, 'num_leaves': 81, 'max_depth': 15, 'min_child_samples': 13, 'feature_fraction': 0.8181012298852275, 'bagging_fraction': 0.6332921652924091, 'lambda_l1': 0.5759474462559468, 'lambda_l2': 0.8760881630968391}. Best is trial 22 with value: 0.9341157642037876.\n"
     ]
    },
    {
     "name": "stdout",
     "output_type": "stream",
     "text": [
      "Did not meet early stopping. Best iteration is:\n",
      "[86]\tvalid_0's auc: 0.924958\n",
      "Training until validation scores don't improve for 30 rounds\n"
     ]
    },
    {
     "name": "stderr",
     "output_type": "stream",
     "text": [
      "[I 2025-08-05 14:27:26,800] Trial 31 finished with value: 0.9284031297234818 and parameters: {'learning_rate': 0.07269803822953262, 'num_leaves': 95, 'max_depth': 12, 'min_child_samples': 13, 'feature_fraction': 0.929931608570612, 'bagging_fraction': 0.7732787124236543, 'lambda_l1': 0.6691493410446249, 'lambda_l2': 0.31161980060166083}. Best is trial 22 with value: 0.9341157642037876.\n"
     ]
    },
    {
     "name": "stdout",
     "output_type": "stream",
     "text": [
      "Early stopping, best iteration is:\n",
      "[70]\tvalid_0's auc: 0.928403\n",
      "Training until validation scores don't improve for 30 rounds\n"
     ]
    },
    {
     "name": "stderr",
     "output_type": "stream",
     "text": [
      "[I 2025-08-05 14:27:28,267] Trial 32 finished with value: 0.9284253578732106 and parameters: {'learning_rate': 0.0830036305763016, 'num_leaves': 86, 'max_depth': 10, 'min_child_samples': 10, 'feature_fraction': 0.8744464818456043, 'bagging_fraction': 0.7836299705779415, 'lambda_l1': 0.8209828340183651, 'lambda_l2': 0.9926237546372706}. Best is trial 22 with value: 0.9341157642037876.\n"
     ]
    },
    {
     "name": "stdout",
     "output_type": "stream",
     "text": [
      "Did not meet early stopping. Best iteration is:\n",
      "[98]\tvalid_0's auc: 0.928425\n",
      "Training until validation scores don't improve for 30 rounds\n"
     ]
    },
    {
     "name": "stderr",
     "output_type": "stream",
     "text": [
      "[I 2025-08-05 14:27:30,075] Trial 33 finished with value: 0.9308037698941941 and parameters: {'learning_rate': 0.059929831921541964, 'num_leaves': 120, 'max_depth': 13, 'min_child_samples': 16, 'feature_fraction': 0.936424829681993, 'bagging_fraction': 0.8350565224174926, 'lambda_l1': 0.26616826976134633, 'lambda_l2': 0.5261336279906494}. Best is trial 22 with value: 0.9341157642037876.\n"
     ]
    },
    {
     "name": "stdout",
     "output_type": "stream",
     "text": [
      "Did not meet early stopping. Best iteration is:\n",
      "[100]\tvalid_0's auc: 0.930804\n",
      "Training until validation scores don't improve for 30 rounds\n"
     ]
    },
    {
     "name": "stderr",
     "output_type": "stream",
     "text": [
      "[I 2025-08-05 14:27:31,785] Trial 34 finished with value: 0.9249133102160576 and parameters: {'learning_rate': 0.06064651294682202, 'num_leaves': 118, 'max_depth': 14, 'min_child_samples': 16, 'feature_fraction': 0.9482256999481246, 'bagging_fraction': 0.8324800824730211, 'lambda_l1': 0.29063595987941343, 'lambda_l2': 0.7941647666152909}. Best is trial 22 with value: 0.9341157642037876.\n"
     ]
    },
    {
     "name": "stdout",
     "output_type": "stream",
     "text": [
      "Did not meet early stopping. Best iteration is:\n",
      "[99]\tvalid_0's auc: 0.924913\n",
      "Training until validation scores don't improve for 30 rounds\n"
     ]
    },
    {
     "name": "stderr",
     "output_type": "stream",
     "text": [
      "[I 2025-08-05 14:27:33,561] Trial 35 finished with value: 0.9200453454254468 and parameters: {'learning_rate': 0.03336924495659796, 'num_leaves': 123, 'max_depth': 13, 'min_child_samples': 21, 'feature_fraction': 0.9783826979170032, 'bagging_fraction': 0.8171881730711619, 'lambda_l1': 0.16073698266867936, 'lambda_l2': 0.19679183827816113}. Best is trial 22 with value: 0.9341157642037876.\n"
     ]
    },
    {
     "name": "stdout",
     "output_type": "stream",
     "text": [
      "Did not meet early stopping. Best iteration is:\n",
      "[100]\tvalid_0's auc: 0.920045\n",
      "Training until validation scores don't improve for 30 rounds\n"
     ]
    },
    {
     "name": "stderr",
     "output_type": "stream",
     "text": [
      "[I 2025-08-05 14:27:35,392] Trial 36 finished with value: 0.9221570196496843 and parameters: {'learning_rate': 0.051513481073255804, 'num_leaves': 108, 'max_depth': 16, 'min_child_samples': 13, 'feature_fraction': 0.9263826059027712, 'bagging_fraction': 0.9005331967571296, 'lambda_l1': 0.33483919967575293, 'lambda_l2': 0.4876392643574422}. Best is trial 22 with value: 0.9341157642037876.\n"
     ]
    },
    {
     "name": "stdout",
     "output_type": "stream",
     "text": [
      "Did not meet early stopping. Best iteration is:\n",
      "[100]\tvalid_0's auc: 0.922157\n",
      "Training until validation scores don't improve for 30 rounds\n"
     ]
    },
    {
     "name": "stderr",
     "output_type": "stream",
     "text": [
      "[I 2025-08-05 14:27:36,701] Trial 37 finished with value: 0.9264692806970747 and parameters: {'learning_rate': 0.0425198147445256, 'num_leaves': 128, 'max_depth': 13, 'min_child_samples': 28, 'feature_fraction': 0.7986633552444034, 'bagging_fraction': 0.9564628607013763, 'lambda_l1': 0.4528860473216137, 'lambda_l2': 0.016236218854413155}. Best is trial 22 with value: 0.9341157642037876.\n"
     ]
    },
    {
     "name": "stdout",
     "output_type": "stream",
     "text": [
      "Did not meet early stopping. Best iteration is:\n",
      "[98]\tvalid_0's auc: 0.926469\n",
      "Training until validation scores don't improve for 30 rounds\n"
     ]
    },
    {
     "name": "stderr",
     "output_type": "stream",
     "text": [
      "[I 2025-08-05 14:27:38,374] Trial 38 finished with value: 0.9254245576598203 and parameters: {'learning_rate': 0.06450497824134163, 'num_leaves': 114, 'max_depth': 15, 'min_child_samples': 15, 'feature_fraction': 0.8403919749813565, 'bagging_fraction': 0.7464966281474439, 'lambda_l1': 0.25676870824858405, 'lambda_l2': 0.6251296875930481}. Best is trial 22 with value: 0.9341157642037876.\n"
     ]
    },
    {
     "name": "stdout",
     "output_type": "stream",
     "text": [
      "Did not meet early stopping. Best iteration is:\n",
      "[100]\tvalid_0's auc: 0.925425\n",
      "Training until validation scores don't improve for 30 rounds\n"
     ]
    },
    {
     "name": "stderr",
     "output_type": "stream",
     "text": [
      "[I 2025-08-05 14:27:39,980] Trial 39 finished with value: 0.924024184226905 and parameters: {'learning_rate': 0.08096314782217098, 'num_leaves': 100, 'max_depth': 14, 'min_child_samples': 18, 'feature_fraction': 0.8880953630036591, 'bagging_fraction': 0.6942117120489736, 'lambda_l1': 0.19159044066825348, 'lambda_l2': 0.7130898115971855}. Best is trial 22 with value: 0.9341157642037876.\n"
     ]
    },
    {
     "name": "stdout",
     "output_type": "stream",
     "text": [
      "Did not meet early stopping. Best iteration is:\n",
      "[100]\tvalid_0's auc: 0.924024\n",
      "\n",
      "📍 Training for label: SR-p53\n"
     ]
    },
    {
     "name": "stderr",
     "output_type": "stream",
     "text": [
      "[I 2025-08-05 14:27:47,942] A new study created in memory with name: no-name-add82473-28ca-4f7b-a97f-b5796f63f729\n"
     ]
    },
    {
     "name": "stdout",
     "output_type": "stream",
     "text": [
      "Training until validation scores don't improve for 30 rounds\n"
     ]
    },
    {
     "name": "stderr",
     "output_type": "stream",
     "text": [
      "[I 2025-08-05 14:27:48,939] Trial 0 finished with value: 0.8857142857142857 and parameters: {'learning_rate': 0.05520586501386282, 'num_leaves': 54, 'max_depth': 11, 'min_child_samples': 32, 'feature_fraction': 0.7703920543436943, 'bagging_fraction': 0.8701770828458733, 'lambda_l1': 0.39291929009955306, 'lambda_l2': 0.5510539726079093}. Best is trial 0 with value: 0.8857142857142857.\n"
     ]
    },
    {
     "name": "stdout",
     "output_type": "stream",
     "text": [
      "Did not meet early stopping. Best iteration is:\n",
      "[100]\tvalid_0's auc: 0.885714\n",
      "Training until validation scores don't improve for 30 rounds\n"
     ]
    },
    {
     "name": "stderr",
     "output_type": "stream",
     "text": [
      "[I 2025-08-05 14:27:50,145] Trial 1 finished with value: 0.8816272965879265 and parameters: {'learning_rate': 0.07485742057009116, 'num_leaves': 70, 'max_depth': 13, 'min_child_samples': 28, 'feature_fraction': 0.7710526836492697, 'bagging_fraction': 0.6310742783486147, 'lambda_l1': 0.08302111540573442, 'lambda_l2': 0.5185761335819355}. Best is trial 0 with value: 0.8857142857142857.\n"
     ]
    },
    {
     "name": "stdout",
     "output_type": "stream",
     "text": [
      "Did not meet early stopping. Best iteration is:\n",
      "[77]\tvalid_0's auc: 0.881627\n",
      "Training until validation scores don't improve for 30 rounds\n"
     ]
    },
    {
     "name": "stderr",
     "output_type": "stream",
     "text": [
      "[I 2025-08-05 14:27:51,106] Trial 2 finished with value: 0.8677165354330709 and parameters: {'learning_rate': 0.025699624789969552, 'num_leaves': 51, 'max_depth': 11, 'min_child_samples': 36, 'feature_fraction': 0.8637811612441149, 'bagging_fraction': 0.9261225559995455, 'lambda_l1': 0.8288186953135201, 'lambda_l2': 0.40763532092835963}. Best is trial 0 with value: 0.8857142857142857.\n"
     ]
    },
    {
     "name": "stdout",
     "output_type": "stream",
     "text": [
      "Did not meet early stopping. Best iteration is:\n",
      "[100]\tvalid_0's auc: 0.867717\n",
      "Training until validation scores don't improve for 30 rounds\n"
     ]
    },
    {
     "name": "stderr",
     "output_type": "stream",
     "text": [
      "[I 2025-08-05 14:27:52,260] Trial 3 finished with value: 0.8665541807274091 and parameters: {'learning_rate': 0.055986627867212625, 'num_leaves': 59, 'max_depth': 10, 'min_child_samples': 21, 'feature_fraction': 0.9156752529263368, 'bagging_fraction': 0.9815109145861698, 'lambda_l1': 0.293236237404365, 'lambda_l2': 0.650150502834521}. Best is trial 0 with value: 0.8857142857142857.\n"
     ]
    },
    {
     "name": "stdout",
     "output_type": "stream",
     "text": [
      "Did not meet early stopping. Best iteration is:\n",
      "[100]\tvalid_0's auc: 0.866554\n",
      "Training until validation scores don't improve for 30 rounds\n"
     ]
    },
    {
     "name": "stderr",
     "output_type": "stream",
     "text": [
      "[I 2025-08-05 14:27:52,997] Trial 4 finished with value: 0.8788526434195726 and parameters: {'learning_rate': 0.0977201371756296, 'num_leaves': 98, 'max_depth': 11, 'min_child_samples': 50, 'feature_fraction': 0.9477217376437089, 'bagging_fraction': 0.6949438894840526, 'lambda_l1': 0.8247274592662084, 'lambda_l2': 0.6323884763945676}. Best is trial 0 with value: 0.8857142857142857.\n"
     ]
    },
    {
     "name": "stdout",
     "output_type": "stream",
     "text": [
      "Early stopping, best iteration is:\n",
      "[34]\tvalid_0's auc: 0.878853\n",
      "Training until validation scores don't improve for 30 rounds\n"
     ]
    },
    {
     "name": "stderr",
     "output_type": "stream",
     "text": [
      "[I 2025-08-05 14:27:54,196] Trial 5 finished with value: 0.8981627296587926 and parameters: {'learning_rate': 0.0853667458551034, 'num_leaves': 79, 'max_depth': 14, 'min_child_samples': 19, 'feature_fraction': 0.9788738982259829, 'bagging_fraction': 0.9490574677130397, 'lambda_l1': 0.9300749927764103, 'lambda_l2': 0.33531410075222456}. Best is trial 5 with value: 0.8981627296587926.\n"
     ]
    },
    {
     "name": "stdout",
     "output_type": "stream",
     "text": [
      "Early stopping, best iteration is:\n",
      "[64]\tvalid_0's auc: 0.898163\n",
      "Training until validation scores don't improve for 30 rounds\n"
     ]
    },
    {
     "name": "stderr",
     "output_type": "stream",
     "text": [
      "[I 2025-08-05 14:27:55,035] Trial 6 finished with value: 0.8562804649418823 and parameters: {'learning_rate': 0.015497079848859147, 'num_leaves': 73, 'max_depth': 11, 'min_child_samples': 29, 'feature_fraction': 0.6860180913466667, 'bagging_fraction': 0.9600828246848608, 'lambda_l1': 0.8452556066064943, 'lambda_l2': 0.8387990556772731}. Best is trial 5 with value: 0.8981627296587926.\n"
     ]
    },
    {
     "name": "stdout",
     "output_type": "stream",
     "text": [
      "Did not meet early stopping. Best iteration is:\n",
      "[93]\tvalid_0's auc: 0.85628\n",
      "Training until validation scores don't improve for 30 rounds\n"
     ]
    },
    {
     "name": "stderr",
     "output_type": "stream",
     "text": [
      "[I 2025-08-05 14:27:55,861] Trial 7 finished with value: 0.8438695163104611 and parameters: {'learning_rate': 0.011522629065932405, 'num_leaves': 111, 'max_depth': 8, 'min_child_samples': 50, 'feature_fraction': 0.8625282828938852, 'bagging_fraction': 0.8905430178012647, 'lambda_l1': 0.3786884545897864, 'lambda_l2': 0.6059988120737941}. Best is trial 5 with value: 0.8981627296587926.\n"
     ]
    },
    {
     "name": "stdout",
     "output_type": "stream",
     "text": [
      "Did not meet early stopping. Best iteration is:\n",
      "[100]\tvalid_0's auc: 0.84387\n",
      "Training until validation scores don't improve for 30 rounds\n"
     ]
    },
    {
     "name": "stderr",
     "output_type": "stream",
     "text": [
      "[I 2025-08-05 14:27:57,284] Trial 8 finished with value: 0.8562804649418823 and parameters: {'learning_rate': 0.042020818114257764, 'num_leaves': 115, 'max_depth': 16, 'min_child_samples': 12, 'feature_fraction': 0.8046861773863103, 'bagging_fraction': 0.9573132989563745, 'lambda_l1': 0.43983024005710347, 'lambda_l2': 0.5371445030499017}. Best is trial 5 with value: 0.8981627296587926.\n"
     ]
    },
    {
     "name": "stdout",
     "output_type": "stream",
     "text": [
      "Did not meet early stopping. Best iteration is:\n",
      "[100]\tvalid_0's auc: 0.85628\n",
      "Training until validation scores don't improve for 30 rounds\n"
     ]
    },
    {
     "name": "stderr",
     "output_type": "stream",
     "text": [
      "[I 2025-08-05 14:27:58,247] Trial 9 finished with value: 0.8842144731908511 and parameters: {'learning_rate': 0.02930251464256914, 'num_leaves': 119, 'max_depth': 10, 'min_child_samples': 49, 'feature_fraction': 0.7567160747806373, 'bagging_fraction': 0.644093558672255, 'lambda_l1': 0.28941509573156365, 'lambda_l2': 0.19804220517649795}. Best is trial 5 with value: 0.8981627296587926.\n"
     ]
    },
    {
     "name": "stdout",
     "output_type": "stream",
     "text": [
      "Did not meet early stopping. Best iteration is:\n",
      "[100]\tvalid_0's auc: 0.884214\n",
      "Training until validation scores don't improve for 30 rounds\n"
     ]
    },
    {
     "name": "stderr",
     "output_type": "stream",
     "text": [
      "[I 2025-08-05 14:27:59,432] Trial 10 finished with value: 0.870153730783652 and parameters: {'learning_rate': 0.0997030271860962, 'num_leaves': 36, 'max_depth': 15, 'min_child_samples': 10, 'feature_fraction': 0.9672077868566052, 'bagging_fraction': 0.789844670222436, 'lambda_l1': 0.9938065224665278, 'lambda_l2': 0.03186542841816342}. Best is trial 5 with value: 0.8981627296587926.\n"
     ]
    },
    {
     "name": "stdout",
     "output_type": "stream",
     "text": [
      "Did not meet early stopping. Best iteration is:\n",
      "[97]\tvalid_0's auc: 0.870154\n",
      "Training until validation scores don't improve for 30 rounds\n"
     ]
    },
    {
     "name": "stderr",
     "output_type": "stream",
     "text": [
      "[I 2025-08-05 14:28:00,454] Trial 11 finished with value: 0.8787026621672291 and parameters: {'learning_rate': 0.06921378806492898, 'num_leaves': 89, 'max_depth': 14, 'min_child_samples': 38, 'feature_fraction': 0.6799613464156093, 'bagging_fraction': 0.8495274570425237, 'lambda_l1': 0.6113323075882944, 'lambda_l2': 0.2954143377616015}. Best is trial 5 with value: 0.8981627296587926.\n"
     ]
    },
    {
     "name": "stdout",
     "output_type": "stream",
     "text": [
      "Early stopping, best iteration is:\n",
      "[70]\tvalid_0's auc: 0.878703\n",
      "Training until validation scores don't improve for 30 rounds\n"
     ]
    },
    {
     "name": "stderr",
     "output_type": "stream",
     "text": [
      "[I 2025-08-05 14:28:01,391] Trial 12 finished with value: 0.8832770903637045 and parameters: {'learning_rate': 0.08121832995137698, 'num_leaves': 42, 'max_depth': 13, 'min_child_samples': 19, 'feature_fraction': 0.6083636790289715, 'bagging_fraction': 0.8064335752183531, 'lambda_l1': 0.624275266270346, 'lambda_l2': 0.8511316833190251}. Best is trial 5 with value: 0.8981627296587926.\n"
     ]
    },
    {
     "name": "stdout",
     "output_type": "stream",
     "text": [
      "Did not meet early stopping. Best iteration is:\n",
      "[97]\tvalid_0's auc: 0.883277\n",
      "Training until validation scores don't improve for 30 rounds\n"
     ]
    },
    {
     "name": "stderr",
     "output_type": "stream",
     "text": [
      "[I 2025-08-05 14:28:02,756] Trial 13 finished with value: 0.8481064866891638 and parameters: {'learning_rate': 0.056638332080777336, 'num_leaves': 64, 'max_depth': 13, 'min_child_samples': 23, 'feature_fraction': 0.8536396417430057, 'bagging_fraction': 0.8719774926771402, 'lambda_l1': 0.09049987543850335, 'lambda_l2': 0.23362312703871202}. Best is trial 5 with value: 0.8981627296587926.\n"
     ]
    },
    {
     "name": "stdout",
     "output_type": "stream",
     "text": [
      "Did not meet early stopping. Best iteration is:\n",
      "[100]\tvalid_0's auc: 0.848106\n",
      "Training until validation scores don't improve for 30 rounds\n"
     ]
    },
    {
     "name": "stderr",
     "output_type": "stream",
     "text": [
      "[I 2025-08-05 14:28:03,490] Trial 14 finished with value: 0.8803524559430072 and parameters: {'learning_rate': 0.08754867309808817, 'num_leaves': 84, 'max_depth': 6, 'min_child_samples': 36, 'feature_fraction': 0.9918523737155571, 'bagging_fraction': 0.7523653595728762, 'lambda_l1': 0.5883478389673802, 'lambda_l2': 0.3952192849531795}. Best is trial 5 with value: 0.8981627296587926.\n"
     ]
    },
    {
     "name": "stdout",
     "output_type": "stream",
     "text": [
      "Did not meet early stopping. Best iteration is:\n",
      "[100]\tvalid_0's auc: 0.880352\n",
      "Training until validation scores don't improve for 30 rounds\n"
     ]
    },
    {
     "name": "stderr",
     "output_type": "stream",
     "text": [
      "[I 2025-08-05 14:28:04,364] Trial 15 finished with value: 0.8559055118110237 and parameters: {'learning_rate': 0.06718938123398145, 'num_leaves': 52, 'max_depth': 8, 'min_child_samples': 16, 'feature_fraction': 0.7164837219710777, 'bagging_fraction': 0.911519786136735, 'lambda_l1': 0.23187327962685061, 'lambda_l2': 0.752320700282841}. Best is trial 5 with value: 0.8981627296587926.\n"
     ]
    },
    {
     "name": "stdout",
     "output_type": "stream",
     "text": [
      "Did not meet early stopping. Best iteration is:\n",
      "[99]\tvalid_0's auc: 0.855906\n",
      "Training until validation scores don't improve for 30 rounds\n"
     ]
    },
    {
     "name": "stderr",
     "output_type": "stream",
     "text": [
      "[I 2025-08-05 14:28:05,422] Trial 16 finished with value: 0.8814398200224972 and parameters: {'learning_rate': 0.047680464598183696, 'num_leaves': 98, 'max_depth': 16, 'min_child_samples': 41, 'feature_fraction': 0.8192820886523603, 'bagging_fraction': 0.8303368227096299, 'lambda_l1': 0.7083058281376932, 'lambda_l2': 0.9755017639286194}. Best is trial 5 with value: 0.8981627296587926.\n"
     ]
    },
    {
     "name": "stdout",
     "output_type": "stream",
     "text": [
      "Did not meet early stopping. Best iteration is:\n",
      "[82]\tvalid_0's auc: 0.88144\n",
      "Training until validation scores don't improve for 30 rounds\n"
     ]
    },
    {
     "name": "stderr",
     "output_type": "stream",
     "text": [
      "[I 2025-08-05 14:28:06,386] Trial 17 finished with value: 0.8562804649418823 and parameters: {'learning_rate': 0.0359910463139189, 'num_leaves': 76, 'max_depth': 14, 'min_child_samples': 26, 'feature_fraction': 0.6113780478297924, 'bagging_fraction': 0.7529690505268074, 'lambda_l1': 0.9873337860146878, 'lambda_l2': 0.08076008654557354}. Best is trial 5 with value: 0.8981627296587926.\n"
     ]
    },
    {
     "name": "stdout",
     "output_type": "stream",
     "text": [
      "Did not meet early stopping. Best iteration is:\n",
      "[100]\tvalid_0's auc: 0.85628\n",
      "Training until validation scores don't improve for 30 rounds\n"
     ]
    },
    {
     "name": "stderr",
     "output_type": "stream",
     "text": [
      "[I 2025-08-05 14:28:07,497] Trial 18 finished with value: 0.8819647544056993 and parameters: {'learning_rate': 0.08832603649386636, 'num_leaves': 49, 'max_depth': 12, 'min_child_samples': 32, 'feature_fraction': 0.900376652440899, 'bagging_fraction': 0.912649107571648, 'lambda_l1': 0.5073915567386068, 'lambda_l2': 0.38667146546262765}. Best is trial 5 with value: 0.8981627296587926.\n"
     ]
    },
    {
     "name": "stdout",
     "output_type": "stream",
     "text": [
      "Did not meet early stopping. Best iteration is:\n",
      "[87]\tvalid_0's auc: 0.881965\n",
      "Training until validation scores don't improve for 30 rounds\n"
     ]
    },
    {
     "name": "stderr",
     "output_type": "stream",
     "text": [
      "[I 2025-08-05 14:28:08,368] Trial 19 finished with value: 0.8746906636670416 and parameters: {'learning_rate': 0.05712579013430388, 'num_leaves': 33, 'max_depth': 9, 'min_child_samples': 17, 'feature_fraction': 0.7545872844504606, 'bagging_fraction': 0.9949703211824095, 'lambda_l1': 0.2081802047146507, 'lambda_l2': 0.15064032329154486}. Best is trial 5 with value: 0.8981627296587926.\n"
     ]
    },
    {
     "name": "stdout",
     "output_type": "stream",
     "text": [
      "Did not meet early stopping. Best iteration is:\n",
      "[100]\tvalid_0's auc: 0.874691\n",
      "Training until validation scores don't improve for 30 rounds\n"
     ]
    },
    {
     "name": "stderr",
     "output_type": "stream",
     "text": [
      "[I 2025-08-05 14:28:09,365] Trial 20 finished with value: 0.8998500187476566 and parameters: {'learning_rate': 0.06548449347299035, 'num_leaves': 127, 'max_depth': 12, 'min_child_samples': 44, 'feature_fraction': 0.7208512008909489, 'bagging_fraction': 0.8637692107401851, 'lambda_l1': 0.704420237782863, 'lambda_l2': 0.3126078022692669}. Best is trial 20 with value: 0.8998500187476566.\n"
     ]
    },
    {
     "name": "stdout",
     "output_type": "stream",
     "text": [
      "Did not meet early stopping. Best iteration is:\n",
      "[96]\tvalid_0's auc: 0.89985\n",
      "Training until validation scores don't improve for 30 rounds\n"
     ]
    },
    {
     "name": "stderr",
     "output_type": "stream",
     "text": [
      "[I 2025-08-05 14:28:10,291] Trial 21 finished with value: 0.8818897637795274 and parameters: {'learning_rate': 0.06498752340014863, 'num_leaves': 128, 'max_depth': 12, 'min_child_samples': 43, 'feature_fraction': 0.6627568574411818, 'bagging_fraction': 0.8579050952430191, 'lambda_l1': 0.7325575686700232, 'lambda_l2': 0.2860016575761739}. Best is trial 20 with value: 0.8998500187476566.\n"
     ]
    },
    {
     "name": "stdout",
     "output_type": "stream",
     "text": [
      "Did not meet early stopping. Best iteration is:\n",
      "[72]\tvalid_0's auc: 0.88189\n",
      "Training until validation scores don't improve for 30 rounds\n"
     ]
    },
    {
     "name": "stderr",
     "output_type": "stream",
     "text": [
      "[I 2025-08-05 14:28:11,243] Trial 22 finished with value: 0.8728908886389201 and parameters: {'learning_rate': 0.07849760799917865, 'num_leaves': 90, 'max_depth': 14, 'min_child_samples': 45, 'feature_fraction': 0.7259830309283563, 'bagging_fraction': 0.9314802804332956, 'lambda_l1': 0.8920519696061383, 'lambda_l2': 0.4495431858435158}. Best is trial 20 with value: 0.8998500187476566.\n"
     ]
    },
    {
     "name": "stdout",
     "output_type": "stream",
     "text": [
      "Did not meet early stopping. Best iteration is:\n",
      "[97]\tvalid_0's auc: 0.872891\n",
      "Training until validation scores don't improve for 30 rounds\n"
     ]
    },
    {
     "name": "stderr",
     "output_type": "stream",
     "text": [
      "[I 2025-08-05 14:28:12,406] Trial 23 finished with value: 0.8816272965879265 and parameters: {'learning_rate': 0.05081536455397659, 'num_leaves': 104, 'max_depth': 12, 'min_child_samples': 25, 'feature_fraction': 0.8237223235364782, 'bagging_fraction': 0.8850372706426122, 'lambda_l1': 0.7264604944754167, 'lambda_l2': 0.3159038518241215}. Best is trial 20 with value: 0.8998500187476566.\n"
     ]
    },
    {
     "name": "stdout",
     "output_type": "stream",
     "text": [
      "Did not meet early stopping. Best iteration is:\n",
      "[100]\tvalid_0's auc: 0.881627\n",
      "Training until validation scores don't improve for 30 rounds\n"
     ]
    },
    {
     "name": "stderr",
     "output_type": "stream",
     "text": [
      "[I 2025-08-05 14:28:13,536] Trial 24 finished with value: 0.8844019497562805 and parameters: {'learning_rate': 0.0659080752961749, 'num_leaves': 64, 'max_depth': 15, 'min_child_samples': 32, 'feature_fraction': 0.787327384799645, 'bagging_fraction': 0.8153103887526639, 'lambda_l1': 0.4662164922179688, 'lambda_l2': 0.5269914072276507}. Best is trial 20 with value: 0.8998500187476566.\n"
     ]
    },
    {
     "name": "stdout",
     "output_type": "stream",
     "text": [
      "Did not meet early stopping. Best iteration is:\n",
      "[100]\tvalid_0's auc: 0.884402\n",
      "Training until validation scores don't improve for 30 rounds\n"
     ]
    },
    {
     "name": "stderr",
     "output_type": "stream",
     "text": [
      "[I 2025-08-05 14:28:14,477] Trial 25 finished with value: 0.8952380952380953 and parameters: {'learning_rate': 0.08696204856496458, 'num_leaves': 84, 'max_depth': 10, 'min_child_samples': 33, 'feature_fraction': 0.7188239488493109, 'bagging_fraction': 0.7720361962021007, 'lambda_l1': 0.9101286991528564, 'lambda_l2': 0.1252846898302976}. Best is trial 20 with value: 0.8998500187476566.\n"
     ]
    },
    {
     "name": "stdout",
     "output_type": "stream",
     "text": [
      "Did not meet early stopping. Best iteration is:\n",
      "[98]\tvalid_0's auc: 0.895238\n",
      "Training until validation scores don't improve for 30 rounds\n"
     ]
    },
    {
     "name": "stderr",
     "output_type": "stream",
     "text": [
      "[I 2025-08-05 14:28:15,292] Trial 26 finished with value: 0.8995125609298837 and parameters: {'learning_rate': 0.0914925729607518, 'num_leaves': 83, 'max_depth': 9, 'min_child_samples': 40, 'feature_fraction': 0.6490430932909121, 'bagging_fraction': 0.7695296363320432, 'lambda_l1': 0.9130647490887549, 'lambda_l2': 0.12347611014267534}. Best is trial 20 with value: 0.8998500187476566.\n"
     ]
    },
    {
     "name": "stdout",
     "output_type": "stream",
     "text": [
      "Did not meet early stopping. Best iteration is:\n",
      "[99]\tvalid_0's auc: 0.899513\n",
      "Training until validation scores don't improve for 30 rounds\n"
     ]
    },
    {
     "name": "stderr",
     "output_type": "stream",
     "text": [
      "[I 2025-08-05 14:28:15,858] Trial 27 finished with value: 0.9031871016122984 and parameters: {'learning_rate': 0.09319384416393417, 'num_leaves': 96, 'max_depth': 6, 'min_child_samples': 46, 'feature_fraction': 0.6606865463219234, 'bagging_fraction': 0.7218837767503875, 'lambda_l1': 0.7733780129759371, 'lambda_l2': 0.03374237821232562}. Best is trial 27 with value: 0.9031871016122984.\n"
     ]
    },
    {
     "name": "stdout",
     "output_type": "stream",
     "text": [
      "Did not meet early stopping. Best iteration is:\n",
      "[76]\tvalid_0's auc: 0.903187\n",
      "Training until validation scores don't improve for 30 rounds\n"
     ]
    },
    {
     "name": "stderr",
     "output_type": "stream",
     "text": [
      "[I 2025-08-05 14:28:16,371] Trial 28 finished with value: 0.8909261342332209 and parameters: {'learning_rate': 0.09682533434651036, 'num_leaves': 127, 'max_depth': 6, 'min_child_samples': 46, 'feature_fraction': 0.6443519040045809, 'bagging_fraction': 0.7048079952278432, 'lambda_l1': 0.7977687217801431, 'lambda_l2': 0.029942776215729425}. Best is trial 27 with value: 0.9031871016122984.\n"
     ]
    },
    {
     "name": "stdout",
     "output_type": "stream",
     "text": [
      "Early stopping, best iteration is:\n",
      "[53]\tvalid_0's auc: 0.890926\n",
      "Training until validation scores don't improve for 30 rounds\n"
     ]
    },
    {
     "name": "stderr",
     "output_type": "stream",
     "text": [
      "[I 2025-08-05 14:28:17,039] Trial 29 finished with value: 0.8949756280464942 and parameters: {'learning_rate': 0.09272015082037363, 'num_leaves': 106, 'max_depth': 7, 'min_child_samples': 40, 'feature_fraction': 0.6352639294839104, 'bagging_fraction': 0.7139088809195755, 'lambda_l1': 0.686703212173555, 'lambda_l2': 0.16744352448034228}. Best is trial 27 with value: 0.9031871016122984.\n"
     ]
    },
    {
     "name": "stdout",
     "output_type": "stream",
     "text": [
      "Did not meet early stopping. Best iteration is:\n",
      "[81]\tvalid_0's auc: 0.894976\n",
      "Training until validation scores don't improve for 30 rounds\n"
     ]
    },
    {
     "name": "stderr",
     "output_type": "stream",
     "text": [
      "[I 2025-08-05 14:28:17,638] Trial 30 finished with value: 0.8779152605924259 and parameters: {'learning_rate': 0.07359663430154573, 'num_leaves': 95, 'max_depth': 7, 'min_child_samples': 47, 'feature_fraction': 0.6942216008139674, 'bagging_fraction': 0.663023964027872, 'lambda_l1': 0.7671779154696887, 'lambda_l2': 0.09496970458598086}. Best is trial 27 with value: 0.9031871016122984.\n"
     ]
    },
    {
     "name": "stdout",
     "output_type": "stream",
     "text": [
      "Early stopping, best iteration is:\n",
      "[54]\tvalid_0's auc: 0.877915\n",
      "Training until validation scores don't improve for 30 rounds\n"
     ]
    },
    {
     "name": "stderr",
     "output_type": "stream",
     "text": [
      "[I 2025-08-05 14:28:18,361] Trial 31 finished with value: 0.8660667416572928 and parameters: {'learning_rate': 0.08270481387374311, 'num_leaves': 79, 'max_depth': 8, 'min_child_samples': 42, 'feature_fraction': 0.6462472648052632, 'bagging_fraction': 0.7288402327903881, 'lambda_l1': 0.9241630307433051, 'lambda_l2': 2.127941552187984e-05}. Best is trial 27 with value: 0.9031871016122984.\n"
     ]
    },
    {
     "name": "stdout",
     "output_type": "stream",
     "text": [
      "Did not meet early stopping. Best iteration is:\n",
      "[97]\tvalid_0's auc: 0.866067\n",
      "Training until validation scores don't improve for 30 rounds\n"
     ]
    },
    {
     "name": "stderr",
     "output_type": "stream",
     "text": [
      "[I 2025-08-05 14:28:19,238] Trial 32 finished with value: 0.8677165354330708 and parameters: {'learning_rate': 0.09146012651420202, 'num_leaves': 69, 'max_depth': 9, 'min_child_samples': 44, 'feature_fraction': 0.7397372519340124, 'bagging_fraction': 0.6744246467507335, 'lambda_l1': 0.9348217361506631, 'lambda_l2': 0.2374895953809659}. Best is trial 27 with value: 0.9031871016122984.\n"
     ]
    },
    {
     "name": "stdout",
     "output_type": "stream",
     "text": [
      "Did not meet early stopping. Best iteration is:\n",
      "[92]\tvalid_0's auc: 0.867717\n",
      "Training until validation scores don't improve for 30 rounds\n"
     ]
    },
    {
     "name": "stderr",
     "output_type": "stream",
     "text": [
      "[I 2025-08-05 14:28:20,150] Trial 33 finished with value: 0.8908136482939631 and parameters: {'learning_rate': 0.07562490986551179, 'num_leaves': 84, 'max_depth': 13, 'min_child_samples': 38, 'feature_fraction': 0.6267127005652968, 'bagging_fraction': 0.7802606148903197, 'lambda_l1': 0.8669663549547245, 'lambda_l2': 0.3703750452970321}. Best is trial 27 with value: 0.9031871016122984.\n"
     ]
    },
    {
     "name": "stdout",
     "output_type": "stream",
     "text": [
      "Early stopping, best iteration is:\n",
      "[69]\tvalid_0's auc: 0.890814\n",
      "Training until validation scores don't improve for 30 rounds\n"
     ]
    },
    {
     "name": "stderr",
     "output_type": "stream",
     "text": [
      "[I 2025-08-05 14:28:20,974] Trial 34 finished with value: 0.8750281214848143 and parameters: {'learning_rate': 0.08520156492449266, 'num_leaves': 120, 'max_depth': 9, 'min_child_samples': 47, 'feature_fraction': 0.6646127172018207, 'bagging_fraction': 0.6020743282364935, 'lambda_l1': 0.6551056887777309, 'lambda_l2': 0.3355129905234937}. Best is trial 27 with value: 0.9031871016122984.\n"
     ]
    },
    {
     "name": "stdout",
     "output_type": "stream",
     "text": [
      "Did not meet early stopping. Best iteration is:\n",
      "[97]\tvalid_0's auc: 0.875028\n",
      "Training until validation scores don't improve for 30 rounds\n"
     ]
    },
    {
     "name": "stderr",
     "output_type": "stream",
     "text": [
      "[I 2025-08-05 14:28:21,519] Trial 35 finished with value: 0.865166854143232 and parameters: {'learning_rate': 0.09313172227854512, 'num_leaves': 92, 'max_depth': 7, 'min_child_samples': 39, 'feature_fraction': 0.7006878718948966, 'bagging_fraction': 0.7401382771165864, 'lambda_l1': 0.5365615456783119, 'lambda_l2': 0.458090813095016}. Best is trial 27 with value: 0.9031871016122984.\n"
     ]
    },
    {
     "name": "stdout",
     "output_type": "stream",
     "text": [
      "Early stopping, best iteration is:\n",
      "[34]\tvalid_0's auc: 0.865167\n",
      "Training until validation scores don't improve for 30 rounds\n"
     ]
    },
    {
     "name": "stderr",
     "output_type": "stream",
     "text": [
      "[I 2025-08-05 14:28:22,457] Trial 36 finished with value: 0.8856017997750281 and parameters: {'learning_rate': 0.07237694296507262, 'num_leaves': 103, 'max_depth': 11, 'min_child_samples': 43, 'feature_fraction': 0.6682842306763777, 'bagging_fraction': 0.9504823083682015, 'lambda_l1': 0.7959285618654247, 'lambda_l2': 0.24974934714003602}. Best is trial 27 with value: 0.9031871016122984.\n"
     ]
    },
    {
     "name": "stdout",
     "output_type": "stream",
     "text": [
      "Did not meet early stopping. Best iteration is:\n",
      "[74]\tvalid_0's auc: 0.885602\n",
      "Training until validation scores don't improve for 30 rounds\n"
     ]
    },
    {
     "name": "stderr",
     "output_type": "stream",
     "text": [
      "[I 2025-08-05 14:28:23,565] Trial 37 finished with value: 0.871541057367829 and parameters: {'learning_rate': 0.06019355588030509, 'num_leaves': 71, 'max_depth': 12, 'min_child_samples': 35, 'feature_fraction': 0.9156392323795162, 'bagging_fraction': 0.8354716822148285, 'lambda_l1': 0.8452811361483138, 'lambda_l2': 0.07868508574793603}. Best is trial 27 with value: 0.9031871016122984.\n"
     ]
    },
    {
     "name": "stdout",
     "output_type": "stream",
     "text": [
      "Did not meet early stopping. Best iteration is:\n",
      "[99]\tvalid_0's auc: 0.871541\n",
      "Training until validation scores don't improve for 30 rounds\n"
     ]
    },
    {
     "name": "stderr",
     "output_type": "stream",
     "text": [
      "[I 2025-08-05 14:28:24,589] Trial 38 finished with value: 0.8824146981627297 and parameters: {'learning_rate': 0.07841071217826501, 'num_leaves': 79, 'max_depth': 15, 'min_child_samples': 48, 'feature_fraction': 0.7767814097682123, 'bagging_fraction': 0.7660281723923752, 'lambda_l1': 0.7657231103286853, 'lambda_l2': 0.18597929685506775}. Best is trial 27 with value: 0.9031871016122984.\n"
     ]
    },
    {
     "name": "stdout",
     "output_type": "stream",
     "text": [
      "Did not meet early stopping. Best iteration is:\n",
      "[100]\tvalid_0's auc: 0.882415\n",
      "Training until validation scores don't improve for 30 rounds\n"
     ]
    },
    {
     "name": "stderr",
     "output_type": "stream",
     "text": [
      "[I 2025-08-05 14:28:25,208] Trial 39 finished with value: 0.8970753655793026 and parameters: {'learning_rate': 0.09522757511077412, 'num_leaves': 111, 'max_depth': 6, 'min_child_samples': 30, 'feature_fraction': 0.7038607680248128, 'bagging_fraction': 0.8180340551383164, 'lambda_l1': 0.9450515098908956, 'lambda_l2': 0.11169215597876778}. Best is trial 27 with value: 0.9031871016122984.\n"
     ]
    },
    {
     "name": "stdout",
     "output_type": "stream",
     "text": [
      "Did not meet early stopping. Best iteration is:\n",
      "[98]\tvalid_0's auc: 0.897075\n",
      "✅ All models trained and saved to v7.\n"
     ]
    }
   ],
   "source": [
    "import os\n",
    "import joblib\n",
    "import numpy as np\n",
    "import pandas as pd\n",
    "import lightgbm as lgb\n",
    "from sklearn.model_selection import train_test_split\n",
    "from sklearn.feature_selection import SelectFromModel\n",
    "from sklearn.metrics import roc_auc_score, accuracy_score, precision_recall_curve\n",
    "import optuna\n",
    "\n",
    "# === Setup paths ===\n",
    "SAVE_DIR = \"tox21_lightgb_pipeline/Data_v6/processed\"\n",
    "MODEL_PATH = \"tox21_lightgb_pipeline/models/v7\"\n",
    "os.makedirs(MODEL_PATH, exist_ok=True)\n",
    "\n",
    "# === Load data ===\n",
    "X = np.load(os.path.join(SAVE_DIR, \"X.npy\"))\n",
    "Y = np.load(os.path.join(SAVE_DIR, \"Y.npy\"))\n",
    "label_mask = np.load(os.path.join(SAVE_DIR, \"label_mask.npy\"))\n",
    "with open(os.path.join(SAVE_DIR, \"feature_names.txt\")) as f:\n",
    "    feature_names = f.read().splitlines()\n",
    "\n",
    "label_cols = [\n",
    "    \"NR-AR\", \"NR-AR-LBD\", \"NR-AhR\", \"NR-Aromatase\", \"NR-ER\",\n",
    "    \"NR-ER-LBD\", \"NR-PPAR-gamma\", \"SR-ARE\", \"SR-ATAD5\",\n",
    "    \"SR-HSE\", \"SR-MMP\", \"SR-p53\"\n",
    "]\n",
    "\n",
    "# === Saveable dictionaries ===\n",
    "results = []\n",
    "feature_mask_dict = {}\n",
    "threshold_dict = {}\n",
    "\n",
    "# === Loop through each label ===\n",
    "for i, label_name in enumerate(label_cols):\n",
    "    print(f\"\\n📍 Training for label: {label_name}\")\n",
    "\n",
    "    valid_rows = label_mask[:, i]\n",
    "    X_valid = X[valid_rows]\n",
    "    y_valid = Y[valid_rows, i]\n",
    "\n",
    "    # === Split ===\n",
    "    X_train, X_temp, y_train, y_temp = train_test_split(\n",
    "        X_valid, y_valid, test_size=0.2, stratify=y_valid, random_state=42\n",
    "    )\n",
    "    X_val, X_test, y_val, y_test = train_test_split(\n",
    "        X_temp, y_temp, test_size=0.5, stratify=y_temp, random_state=42\n",
    "    )\n",
    "\n",
    "    # === Feature selection ===\n",
    "    selector_model = lgb.LGBMClassifier(n_estimators=300, random_state=42)\n",
    "    selector_model.fit(X_train, y_train)\n",
    "    importances = selector_model.feature_importances_\n",
    "\n",
    "    sorted_idx = np.argsort(importances)[::-1]\n",
    "    cum_imp = np.cumsum(importances[sorted_idx]) / np.sum(importances)\n",
    "    cutoff_idx = sorted_idx[:np.searchsorted(cum_imp, 0.95)]  # Keep 95% of importance\n",
    "\n",
    "    X_train_fs = X_train[:, cutoff_idx]\n",
    "    X_val_fs = X_val[:, cutoff_idx]\n",
    "    X_test_fs = X_test[:, cutoff_idx]\n",
    "\n",
    "    feature_mask_dict[label_name] = cutoff_idx\n",
    "\n",
    "    # === Class imbalance weight ===\n",
    "    pos = np.sum(y_train == 1)\n",
    "    neg = np.sum(y_train == 0)\n",
    "    scale_pos_weight = neg / pos if pos > 0 else 1.0\n",
    "\n",
    "    # === Optuna tuning ===\n",
    "    def objective(trial):\n",
    "        params = {\n",
    "            \"objective\": \"binary\",\n",
    "            \"metric\": \"auc\",\n",
    "            \"boosting_type\": \"gbdt\",\n",
    "            \"verbosity\": -1,\n",
    "            \"scale_pos_weight\": scale_pos_weight,\n",
    "            \"learning_rate\": trial.suggest_float(\"learning_rate\", 0.01, 0.1),\n",
    "            \"num_leaves\": trial.suggest_int(\"num_leaves\", 32, 128),\n",
    "            \"max_depth\": trial.suggest_int(\"max_depth\", 6, 16),\n",
    "            \"min_child_samples\": trial.suggest_int(\"min_child_samples\", 10, 50),\n",
    "            \"feature_fraction\": trial.suggest_float(\"feature_fraction\", 0.6, 1.0),\n",
    "            \"bagging_fraction\": trial.suggest_float(\"bagging_fraction\", 0.6, 1.0),\n",
    "            \"lambda_l1\": trial.suggest_float(\"lambda_l1\", 0, 1),\n",
    "            \"lambda_l2\": trial.suggest_float(\"lambda_l2\", 0, 1)\n",
    "        }\n",
    "        dtrain = lgb.Dataset(X_train_fs, label=y_train)\n",
    "        dval = lgb.Dataset(X_val_fs, label=y_val)\n",
    "        model = lgb.train(\n",
    "            params, dtrain, valid_sets=[dval],\n",
    "            callbacks=[lgb.early_stopping(stopping_rounds=30), lgb.log_evaluation(period=0)]\n",
    "        )\n",
    "        preds = model.predict(X_val_fs)\n",
    "        return roc_auc_score(y_val, preds)\n",
    "\n",
    "    study = optuna.create_study(direction=\"maximize\")\n",
    "    study.optimize(objective, n_trials=40)\n",
    "\n",
    "    # === Final model ===\n",
    "    best_params = study.best_params\n",
    "    best_params.update({\n",
    "        \"objective\": \"binary\", \"metric\": \"auc\", \"verbosity\": -1,\n",
    "        \"boosting_type\": \"gbdt\", \"scale_pos_weight\": scale_pos_weight\n",
    "    })\n",
    "    model = lgb.LGBMClassifier(**best_params, n_estimators=1000)\n",
    "    model.fit(X_train_fs, y_train)\n",
    "\n",
    "    # === Threshold ===\n",
    "    val_probs = model.predict_proba(X_val_fs)[:, 1]\n",
    "    precision, recall, thresholds = precision_recall_curve(y_val, val_probs)\n",
    "    f1_scores = 2 * precision * recall / (precision + recall + 1e-8)\n",
    "    best_thresh = thresholds[np.argmax(f1_scores)]\n",
    "\n",
    "    # === Evaluation ===\n",
    "    test_probs = model.predict_proba(X_test_fs)[:, 1]\n",
    "    test_preds = (test_probs >= best_thresh).astype(int)\n",
    "    auc = roc_auc_score(y_test, test_probs)\n",
    "    acc = accuracy_score(y_test, test_preds)\n",
    "\n",
    "    # === Save ===\n",
    "    joblib.dump(model, os.path.join(MODEL_PATH, f\"{label_name}.pkl\"))\n",
    "    threshold_dict[label_name] = best_thresh\n",
    "\n",
    "    results.append({\n",
    "        \"label\": label_name,\n",
    "        \"auc\": auc,\n",
    "        \"accuracy\": acc,\n",
    "        \"threshold\": best_thresh,\n",
    "        \"features_used\": len(cutoff_idx),\n",
    "        \"scale_pos_weight\": scale_pos_weight\n",
    "    })\n",
    "\n",
    "# === Save metadata ===\n",
    "joblib.dump(threshold_dict, os.path.join(MODEL_PATH, \"thresholds.pkl\"))\n",
    "joblib.dump(feature_mask_dict, os.path.join(MODEL_PATH, \"feature_masks.pkl\"))\n",
    "pd.DataFrame(results).to_csv(os.path.join(MODEL_PATH, \"training_metrics.csv\"), index=False)\n",
    "\n",
    "print(\"✅ All models trained and saved to v7.\")\n"
   ]
  },
  {
   "cell_type": "markdown",
   "id": "50dac655",
   "metadata": {},
   "source": [
    "## ensemble_utils.py"
   ]
  },
  {
   "cell_type": "code",
   "execution_count": 44,
   "id": "f7e59090",
   "metadata": {},
   "outputs": [],
   "source": [
    "import os\n",
    "import joblib\n",
    "import numpy as np\n",
    "import pandas as pd\n",
    "\n",
    "MODEL_PATH = \"tox21_lightgb_pipeline/models/v7\"\n",
    "SAVE_DIR = \"tox21_lightgb_pipeline/Data_v6/processed\"\n",
    "\n",
    "# Load metadata\n",
    "thresholds = joblib.load(os.path.join(MODEL_PATH, \"thresholds.pkl\"))\n",
    "feature_masks = joblib.load(os.path.join(MODEL_PATH, \"feature_masks.pkl\"))\n",
    "with open(os.path.join(SAVE_DIR, \"feature_names.txt\")) as f:\n",
    "    full_features = f.read().splitlines()\n",
    "\n",
    "label_cols = [\n",
    "    \"NR-AR\", \"NR-AR-LBD\", \"NR-AhR\", \"NR-Aromatase\", \"NR-ER\",\n",
    "    \"NR-ER-LBD\", \"NR-PPAR-gamma\", \"SR-ARE\", \"SR-ATAD5\",\n",
    "    \"SR-HSE\", \"SR-MMP\", \"SR-p53\"\n",
    "]\n",
    "\n",
    "def ensemble_predict(X_input_raw):\n",
    "    \"\"\"\n",
    "    Input: X_input_raw is a shape (n_samples, n_features) numpy array using full descriptor order.\n",
    "    Returns: dict with class-wise probabilities and binary predictions.\n",
    "    \"\"\"\n",
    "    results = {}\n",
    "\n",
    "    for label in label_cols:\n",
    "        model = joblib.load(os.path.join(MODEL_PATH, f\"{label}.pkl\"))\n",
    "        mask = feature_masks[label]\n",
    "        X_input_masked = X_input_raw[:, mask]\n",
    "\n",
    "        prob = model.predict_proba(X_input_masked)[:, 1]\n",
    "        pred = (prob >= thresholds[label]).astype(int)\n",
    "\n",
    "        results[label] = {\n",
    "            \"prob\": prob,\n",
    "            \"pred\": pred\n",
    "        }\n",
    "\n",
    "    return results\n"
   ]
  },
  {
   "cell_type": "markdown",
   "id": "4816a55e",
   "metadata": {},
   "source": [
    "## Ensemble on New Input"
   ]
  },
  {
   "cell_type": "code",
   "execution_count": 45,
   "id": "33fe5dbd",
   "metadata": {},
   "outputs": [],
   "source": [
    "from rdkit import Chem\n",
    "from mordred import Calculator, descriptors\n",
    "\n",
    "# === Descriptor setup ===\n",
    "calc = Calculator(descriptors, ignore_3D=True)\n",
    "with open(os.path.join(SAVE_DIR, \"feature_names.txt\")) as f:\n",
    "    full_features = f.read().splitlines()\n",
    "\n",
    "def compute_descriptors(smiles):\n",
    "    mol = Chem.MolFromSmiles(smiles)\n",
    "    if mol is None:\n",
    "        return None\n",
    "    try:\n",
    "        desc = calc(mol).asdict()\n",
    "        values = [desc.get(f, 0.0) for f in full_features]\n",
    "        return np.array([values])\n",
    "    except:\n",
    "        return None\n",
    "\n",
    "# === Example prediction ===\n",
    "smiles = \"CC(=O)Oc1ccccc1C(=O)O\"  # Aspirin\n",
    "X_input = compute_descriptors(smiles)\n",
    "\n",
    "if X_input is not None:\n",
    "    ensemble_results = ensemble_predict(X_input)\n",
    "    for label, out in ensemble_results.items():\n",
    "        if out[\"pred\"][0] == 1:\n",
    "            print(f\"🧪 {label} → Prob: {out['prob'][0]:.4f}\")\n",
    "else:\n",
    "    print(\"Invalid SMILES\")\n"
   ]
  },
  {
   "cell_type": "code",
   "execution_count": 47,
   "id": "9a2fe374",
   "metadata": {},
   "outputs": [
    {
     "name": "stdout",
     "output_type": "stream",
     "text": [
      "            label       auc  accuracy  n_samples\n",
      "10         SR-MMP  0.993804  0.984509       5810\n",
      "2          NR-AhR  0.989432  0.983204       6549\n",
      "8        SR-ATAD5  0.987609  0.992788       7072\n",
      "7          SR-ARE  0.986833  0.970850       5832\n",
      "11         SR-p53  0.984474  0.985090       6774\n",
      "3    NR-Aromatase  0.978521  0.988662       5821\n",
      "9          SR-HSE  0.975541  0.989021       6467\n",
      "5       NR-ER-LBD  0.969792  0.991804       6955\n",
      "1       NR-AR-LBD  0.962436  0.995709       6758\n",
      "6   NR-PPAR-gamma  0.962287  0.992558       6450\n",
      "4           NR-ER  0.962182  0.966252       6193\n",
      "0           NR-AR  0.958156  0.993668       7265\n"
     ]
    }
   ],
   "source": [
    "# Load test data and label mask\n",
    "X = np.load(os.path.join(SAVE_DIR, \"X.npy\"))\n",
    "Y = np.load(os.path.join(SAVE_DIR, \"Y.npy\"))\n",
    "label_mask = np.load(os.path.join(SAVE_DIR, \"label_mask.npy\"))\n",
    "\n",
    "results = []\n",
    "\n",
    "for i, label in enumerate(label_cols):\n",
    "    mask = label_mask[:, i]\n",
    "    X_test = X[mask]\n",
    "    y_true = Y[mask, i]\n",
    "\n",
    "    model = joblib.load(os.path.join(MODEL_PATH, f\"{label}.pkl\"))\n",
    "    feature_mask = feature_mask_dict[label]\n",
    "    threshold = thresholds[label]\n",
    "\n",
    "    X_test_masked = X_test[:, feature_mask]\n",
    "    probs = model.predict_proba(X_test_masked)[:, 1]\n",
    "    preds = (probs >= threshold).astype(int)\n",
    "\n",
    "    auc = roc_auc_score(y_true, probs)\n",
    "    acc = accuracy_score(y_true, preds)\n",
    "\n",
    "    results.append({\n",
    "        \"label\": label,\n",
    "        \"auc\": auc,\n",
    "        \"accuracy\": acc,\n",
    "        \"n_samples\": len(y_true)\n",
    "    })\n",
    "\n",
    "# Show results\n",
    "df = pd.DataFrame(results).sort_values(\"auc\", ascending=False)\n",
    "print(df)\n"
   ]
  },
  {
   "cell_type": "markdown",
   "id": "cb72e685",
   "metadata": {},
   "source": [
    "## SHAP.py (v7)"
   ]
  },
  {
   "cell_type": "code",
   "execution_count": 31,
   "id": "477cd019",
   "metadata": {},
   "outputs": [],
   "source": [
    "import shap\n",
    "import joblib\n",
    "import numpy as np\n",
    "import pandas as pd\n",
    "from rdkit import Chem\n",
    "from mordred import Calculator, descriptors\n",
    "import os\n",
    "\n",
    "# Paths\n",
    "MODEL_PATH = \"tox21_lightgb_pipeline/models/v7\"\n",
    "SAVE_DIR = \"tox21_lightgb_pipeline/Data_v6/processed\"\n",
    "\n",
    "# Load full feature list\n",
    "with open(os.path.join(SAVE_DIR, \"feature_names.txt\")) as f:\n",
    "    full_features = f.read().splitlines()\n",
    "\n",
    "# Load thresholds and feature masks\n",
    "thresholds = joblib.load(os.path.join(MODEL_PATH, \"thresholds.pkl\"))\n",
    "feature_masks = joblib.load(os.path.join(MODEL_PATH, \"feature_masks.pkl\"))\n",
    "\n",
    "# Toxicity label names\n",
    "label_cols = [\n",
    "    \"NR-AR\", \"NR-AR-LBD\", \"NR-AhR\", \"NR-Aromatase\", \"NR-ER\",\n",
    "    \"NR-ER-LBD\", \"NR-PPAR-gamma\", \"SR-ARE\", \"SR-ATAD5\",\n",
    "    \"SR-HSE\", \"SR-MMP\", \"SR-p53\"\n",
    "]\n",
    "\n",
    "# Descriptor calculator\n",
    "calc = Calculator(descriptors, ignore_3D=True)\n",
    "\n",
    "def compute_descriptors(smiles):\n",
    "    mol = Chem.MolFromSmiles(smiles)\n",
    "    if mol is None:\n",
    "        return None\n",
    "    try:\n",
    "        desc = calc(mol).asdict()\n",
    "        values = [desc.get(f, 0.0) for f in full_features]\n",
    "        return values\n",
    "    except:\n",
    "        return None\n",
    "\n",
    "def predict_and_explain_all_labels(smiles):\n",
    "    desc_values = compute_descriptors(smiles)\n",
    "    if desc_values is None:\n",
    "        raise ValueError(\"Invalid SMILES\")\n",
    "\n",
    "    X_full = np.array([desc_values])\n",
    "    results = {}\n",
    "    predicted_labels = []\n",
    "\n",
    "    for label in label_cols:\n",
    "        model = joblib.load(os.path.join(MODEL_PATH, f\"{label}.pkl\"))\n",
    "        threshold = thresholds[label]\n",
    "        kept_indices = feature_masks[label]\n",
    "\n",
    "        X_input = X_full[:, kept_indices]\n",
    "        feature_subset = [full_features[i] for i in kept_indices]\n",
    "\n",
    "        prob = model.predict_proba(X_input)[0, 1]\n",
    "        pred = int(prob >= threshold)\n",
    "    \n",
    "        if pred == 1:\n",
    "            predicted_labels.append(label)\n",
    "\n",
    "            explainer = shap.Explainer(model)\n",
    "            shap_values = explainer(X_input)\n",
    "\n",
    "            shap_df = pd.DataFrame({\n",
    "                \"feature\": feature_subset,\n",
    "                \"shap_value\": shap_values.values[0],\n",
    "                \"feature_value\": X_input[0]\n",
    "            }).sort_values(by=\"shap_value\", key=np.abs, ascending=False)\n",
    "\n",
    "            results[label] = {\n",
    "                \"prob\": prob,\n",
    "                \"threshold\": threshold,\n",
    "                \"shap_df\": shap_df,\n",
    "                \"top_features\": shap_df[[\"feature\", \"shap_value\"]].head(5).values.tolist()\n",
    "            }\n",
    "\n",
    "    return {\n",
    "        \"smiles\": smiles,\n",
    "        \"predicted_labels\": predicted_labels,\n",
    "        \"explanations\": results\n",
    "    }\n"
   ]
  },
  {
   "cell_type": "markdown",
   "id": "7a83db42",
   "metadata": {},
   "source": [
    "## Test"
   ]
  },
  {
   "cell_type": "code",
   "execution_count": 53,
   "id": "2d427d9b",
   "metadata": {},
   "outputs": [
    {
     "name": "stdout",
     "output_type": "stream",
     "text": [
      "✅ No toxicity predicted for this compound.\n"
     ]
    }
   ],
   "source": [
    "# Example SMILES input: Tamoxifen (known to be toxic in multiple pathways)\n",
    "smiles = \"C1CN2CCC3=CC=CC=C3C2(C4=CC=CC=C14)C=O\"\n",
    "\n",
    "X_input = compute_descriptors(smiles)  # uses full feature list\n",
    "\n",
    "if X_input is not None:\n",
    "    ensemble_results = ensemble_predict(X_input)\n",
    "    predicted = []\n",
    "\n",
    "    for label, out in ensemble_results.items():\n",
    "        if out[\"pred\"][0] == 1:\n",
    "            predicted.append((label, out[\"prob\"][0]))\n",
    "\n",
    "    if predicted:\n",
    "        print(f\"\\n🔍 Predicted Toxicity Labels for: {smiles}\")\n",
    "        for label, prob in predicted:\n",
    "            print(f\" - {label}: Probability = {prob:.4f}\")\n",
    "    else:\n",
    "        print(\"✅ No toxicity predicted for this compound.\")\n",
    "else:\n",
    "    print(\"❌ Invalid SMILES string.\")\n"
   ]
  },
  {
   "cell_type": "markdown",
   "id": "f0019498",
   "metadata": {},
   "source": [
    "# V7_Tuned"
   ]
  },
  {
   "cell_type": "markdown",
   "id": "4237d4fa",
   "metadata": {},
   "source": [
    "## Setup \n",
    "\n",
    "getting the exact features that we used to train the model "
   ]
  },
  {
   "cell_type": "code",
   "execution_count": 1,
   "id": "6ddfb524",
   "metadata": {},
   "outputs": [
    {
     "name": "stderr",
     "output_type": "stream",
     "text": [
      "  0%|          | 0/7831 [00:00<?, ?it/s][14:37:31] WARNING: not removing hydrogen atom without neighbors\n",
      "100%|██████████| 7831/7831 [00:00<00:00, 10432.28it/s]\n",
      "  1%|          | 72/7831 [00:02<04:45, 27.17it/s][14:37:35] WARNING: not removing hydrogen atom without neighbors\n",
      "[14:37:35] WARNING: not removing hydrogen atom without neighbors\n",
      "[14:37:35] WARNING: not removing hydrogen atom without neighbors\n",
      "  1%|▏         | 114/7831 [00:04<09:17, 13.85it/s]d:\\Coding Projects\\Predicting-Drug-Response-Using-Multi-Omics-Data-with-XAI\\lord\\Lib\\site-packages\\numpy\\core\\fromnumeric.py:88: RuntimeWarning: overflow encountered in reduce\n",
      "  return ufunc.reduce(obj, axis, dtype, out, **passkwargs)\n",
      "100%|██████████| 7831/7831 [06:22<00:00, 20.47it/s]\n"
     ]
    },
    {
     "name": "stdout",
     "output_type": "stream",
     "text": [
      "Features shape: (7831, 1613), Labels shape: (7831, 12)\n"
     ]
    }
   ],
   "source": [
    "import os\n",
    "import joblib\n",
    "import numpy as np\n",
    "import pandas as pd\n",
    "from pathlib import Path\n",
    "from mordred import Calculator, descriptors\n",
    "from rdkit import Chem\n",
    "from tqdm import tqdm\n",
    "\n",
    "tqdm.pandas()\n",
    "\n",
    "# Paths\n",
    "BASE_PATH = Path(\"tox21_lightgb_pipeline\")\n",
    "V7_MODELS = BASE_PATH / \"models/v7\"\n",
    "V8_MODELS = BASE_PATH / \"models/v8\"\n",
    "V8_MODELS.mkdir(parents=True, exist_ok=True)\n",
    "\n",
    "# Load metadata\n",
    "thresholds_v7 = joblib.load(V7_MODELS / \"thresholds.pkl\")\n",
    "feature_masks = joblib.load(V7_MODELS / \"feature_masks.pkl\")\n",
    "feature_names = (V7_MODELS / \"feature_names.txt\").read_text().splitlines()\n",
    "\n",
    "# Load CSV (12 labels + mol_id + smiles)\n",
    "df = pd.read_csv(BASE_PATH / \"Data_v6/processed/tox21.csv\")\n",
    "labels = df.columns[:12]\n",
    "y_all = df[labels].values\n",
    "smiles_list = df[\"smiles\"].tolist()\n",
    "\n",
    "# Create label mask for tested samples\n",
    "label_mask = ~df[labels].isna().values\n",
    "\n",
    "# === RECOMPUTE MORDRED DESCRIPTORS ===\n",
    "calc = Calculator(descriptors, ignore_3D=True)\n",
    "mols = df[\"smiles\"].progress_apply(Chem.MolFromSmiles)\n",
    "descs = mols.progress_apply(lambda m: calc(m) if m is not None else None)\n",
    "\n",
    "# Convert to DataFrame and align columns\n",
    "desc_df = pd.DataFrame([d.asdict() if d is not None else {} for d in descs])\n",
    "desc_df = desc_df[feature_names]  # align to training order\n",
    "desc_df = desc_df.replace([np.inf, -np.inf], np.nan).fillna(-1)\n",
    "\n",
    "# Final feature matrix\n",
    "X = desc_df.values.astype(np.float32)\n",
    "\n",
    "print(f\"Features shape: {X.shape}, Labels shape: {y_all.shape}\")\n"
   ]
  },
  {
   "cell_type": "markdown",
   "id": "8a859ce7",
   "metadata": {},
   "source": [
    "## Calibrate models  "
   ]
  },
  {
   "cell_type": "code",
   "execution_count": 2,
   "id": "14385df6",
   "metadata": {},
   "outputs": [
    {
     "name": "stdout",
     "output_type": "stream",
     "text": [
      "\n",
      "Processing label: NR-AR\n",
      "  New threshold: 0.9885 | Prev: 0.9676\n",
      "\n",
      "Processing label: NR-AR-LBD\n",
      "  New threshold: 0.4512 | Prev: 0.4178\n",
      "\n",
      "Processing label: NR-AhR\n",
      "  New threshold: 0.9061 | Prev: 0.3906\n",
      "\n",
      "Processing label: NR-Aromatase\n",
      "  New threshold: 0.6944 | Prev: 0.1536\n",
      "\n",
      "Processing label: NR-ER\n",
      "  New threshold: 0.9259 | Prev: 0.1118\n",
      "\n",
      "Processing label: NR-ER-LBD\n",
      "  New threshold: 0.5852 | Prev: 0.4625\n",
      "\n",
      "Processing label: NR-PPAR-gamma\n",
      "  New threshold: 0.2962 | Prev: 0.0513\n",
      "\n",
      "Processing label: SR-ARE\n",
      "  New threshold: 0.7868 | Prev: 0.1902\n",
      "\n",
      "Processing label: SR-ATAD5\n",
      "  New threshold: 0.6222 | Prev: 0.2283\n",
      "\n",
      "Processing label: SR-HSE\n",
      "  New threshold: 0.8307 | Prev: 0.2692\n",
      "\n",
      "Processing label: SR-MMP\n",
      "  New threshold: 0.8510 | Prev: 0.1510\n",
      "\n",
      "Processing label: SR-p53\n",
      "  New threshold: 0.8806 | Prev: 0.1381\n"
     ]
    }
   ],
   "source": [
    "from sklearn.model_selection import train_test_split\n",
    "from sklearn.calibration import CalibratedClassifierCV\n",
    "from sklearn.metrics import precision_recall_curve\n",
    "\n",
    "calibrated_models = {}\n",
    "new_thresholds = {}\n",
    "target_precision = 0.95  # adjust if needed\n",
    "\n",
    "for i, label in enumerate(labels):\n",
    "    print(f\"\\nProcessing label: {label}\")\n",
    "\n",
    "    # Select only tested samples for this label\n",
    "    mask = label_mask[:, i]\n",
    "    X_label = X[mask][:, feature_masks[label]]\n",
    "    y_label = y_all[mask, i].astype(int)\n",
    "\n",
    "    # Split train/calibration\n",
    "    X_train, X_cal, y_train, y_cal = train_test_split(\n",
    "        X_label, y_label, test_size=0.2, stratify=y_label, random_state=42\n",
    "    )\n",
    "\n",
    "    # Load v7 model\n",
    "    model = joblib.load(V7_MODELS / f\"{label}.pkl\")\n",
    "\n",
    "    # Calibrate\n",
    "    calib = CalibratedClassifierCV(model, method=\"isotonic\", cv=3)\n",
    "    calib.fit(X_train, y_train)\n",
    "    calibrated_models[label] = calib\n",
    "\n",
    "    # Predict on calibration set\n",
    "    probs = calib.predict_proba(X_cal)[:, 1]\n",
    "\n",
    "    # Precision-recall curve\n",
    "    prec, rec, thr = precision_recall_curve(y_cal, probs)\n",
    "    idx = np.where(prec[:-1] >= target_precision)[0]\n",
    "    if len(idx) > 0:\n",
    "        best = idx[np.argmax(rec[idx])]\n",
    "    else:\n",
    "        best = np.argmax(prec[:-1])\n",
    "    threshold = float(thr[best])\n",
    "    new_thresholds[label] = threshold\n",
    "\n",
    "    print(f\"  New threshold: {threshold:.4f} | Prev: {thresholds_v7[label]:.4f}\")"
   ]
  },
  {
   "cell_type": "markdown",
   "id": "86fe4352",
   "metadata": {},
   "source": [
    "## Eval"
   ]
  },
  {
   "cell_type": "code",
   "execution_count": 3,
   "id": "1358fc8a",
   "metadata": {},
   "outputs": [
    {
     "name": "stdout",
     "output_type": "stream",
     "text": [
      "            label       auc  accuracy  n_samples\n",
      "0           NR-AR  0.958405  0.970544       7265\n",
      "1       NR-AR-LBD  0.964405  0.995709       6758\n",
      "2          NR-AhR  0.985584  0.918766       6549\n",
      "3    NR-Aromatase  0.977793  0.968390       5821\n",
      "4           NR-ER  0.958264  0.882286       6193\n",
      "5       NR-ER-LBD  0.964219  0.988354       6955\n",
      "6   NR-PPAR-gamma  0.959229  0.993643       6450\n",
      "7          SR-ARE  0.981871  0.880830       5832\n",
      "8        SR-ATAD5  0.981721  0.979072       7072\n",
      "9          SR-HSE  0.971866  0.946188       6467\n",
      "10         SR-MMP  0.991700  0.905680       5810\n",
      "11         SR-p53  0.982483  0.946413       6774\n"
     ]
    }
   ],
   "source": [
    "from sklearn.metrics import roc_auc_score, accuracy_score\n",
    "\n",
    "eval_results = []\n",
    "\n",
    "for i, label in enumerate(labels):\n",
    "    mask = label_mask[:, i]\n",
    "    X_label = X[mask][:, feature_masks[label]]\n",
    "    y_label = y_all[mask, i].astype(int)\n",
    "\n",
    "    # Get calibrated model\n",
    "    calib = calibrated_models[label]\n",
    "    probs = calib.predict_proba(X_label)[:, 1]\n",
    "    preds = (probs >= new_thresholds[label]).astype(int)\n",
    "\n",
    "    auc = roc_auc_score(y_label, probs)\n",
    "    acc = accuracy_score(y_label, preds)\n",
    "    eval_results.append((label, auc, acc, mask.sum()))\n",
    "\n",
    "# Show as DataFrame\n",
    "eval_df = pd.DataFrame(eval_results, columns=[\"label\", \"auc\", \"accuracy\", \"n_samples\"])\n",
    "print(eval_df)\n"
   ]
  },
  {
   "cell_type": "markdown",
   "id": "cfcde6bc",
   "metadata": {},
   "source": [
    "## Saving the new models & thresholds"
   ]
  },
  {
   "cell_type": "code",
   "execution_count": 4,
   "id": "a8ad913c",
   "metadata": {},
   "outputs": [
    {
     "name": "stdout",
     "output_type": "stream",
     "text": [
      "✅ All models, thresholds, and metadata saved to tox21_lightgb_pipeline\\models\\v8\n"
     ]
    }
   ],
   "source": [
    "# Save calibrated models\n",
    "for label, calib in calibrated_models.items():\n",
    "    joblib.dump(calib, V8_MODELS / f\"{label}.pkl\")\n",
    "\n",
    "# Save thresholds, feature masks, feature names, label mask\n",
    "joblib.dump(new_thresholds, V8_MODELS / \"thresholds.pkl\")\n",
    "joblib.dump(feature_masks, V8_MODELS / \"feature_masks.pkl\")\n",
    "(V8_MODELS / \"feature_names.txt\").write_text(\"\\n\".join(feature_names))\n",
    "np.save(V8_MODELS / \"label_mask.npy\", label_mask)\n",
    "\n",
    "print(f\"✅ All models, thresholds, and metadata saved to {V8_MODELS}\")\n"
   ]
  }
 ],
 "metadata": {
  "kernelspec": {
   "display_name": "lord",
   "language": "python",
   "name": "python3"
  },
  "language_info": {
   "codemirror_mode": {
    "name": "ipython",
    "version": 3
   },
   "file_extension": ".py",
   "mimetype": "text/x-python",
   "name": "python",
   "nbconvert_exporter": "python",
   "pygments_lexer": "ipython3",
   "version": "3.11.9"
  }
 },
 "nbformat": 4,
 "nbformat_minor": 5
}
